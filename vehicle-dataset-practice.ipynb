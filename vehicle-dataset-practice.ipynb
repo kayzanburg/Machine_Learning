{
 "cells": [
  {
   "cell_type": "markdown",
   "id": "822826b4",
   "metadata": {
    "papermill": {
     "duration": 0.009124,
     "end_time": "2022-11-05T16:25:32.161365",
     "exception": false,
     "start_time": "2022-11-05T16:25:32.152241",
     "status": "completed"
    },
    "tags": []
   },
   "source": [
    "# Vehicle_Dataset_Practice"
   ]
  },
  {
   "cell_type": "markdown",
   "id": "260b54e5",
   "metadata": {
    "papermill": {
     "duration": 0.007459,
     "end_time": "2022-11-05T16:25:32.176980",
     "exception": false,
     "start_time": "2022-11-05T16:25:32.169521",
     "status": "completed"
    },
    "tags": []
   },
   "source": [
    "Bu Veri Seti Kullanilmis Arabalar Hakkinda Bilgi Icerir.\n",
    "Bu Veriler, Makine Ogreniminde Dogrusal Regresyon Kullanimini Orneklemek Icin Fiyat Tahmini Gibi Bircok Amac Icin Kullanilabilir.\n",
    "\n",
    "\n",
    "\n",
    "#### Verilen Veri Kumesindeki Sutunlar Asagidaki Gibidir:\n",
    "* name : Aracin Ismi\n",
    "* year : Uretim Yili\n",
    "* selling_price : Satis Fiyati\n",
    "* km_driven : Aracin Km'si\n",
    "* fuel : Yakit Degeri\n",
    "* seller_type : Satici Tipi\n",
    "* transmission : Aktarma\n",
    "* Owner : Kacinci Sahip"
   ]
  },
  {
   "cell_type": "code",
   "execution_count": 1,
   "id": "3982e480",
   "metadata": {
    "_cell_guid": "b1076dfc-b9ad-4769-8c92-a6c4dae69d19",
    "_uuid": "8f2839f25d086af736a60e9eeb907d3b93b6e0e5",
    "execution": {
     "iopub.execute_input": "2022-11-05T16:25:32.194242Z",
     "iopub.status.busy": "2022-11-05T16:25:32.193784Z",
     "iopub.status.idle": "2022-11-05T16:25:33.351729Z",
     "shell.execute_reply": "2022-11-05T16:25:33.350635Z"
    },
    "papermill": {
     "duration": 1.170354,
     "end_time": "2022-11-05T16:25:33.355042",
     "exception": false,
     "start_time": "2022-11-05T16:25:32.184688",
     "status": "completed"
    },
    "tags": []
   },
   "outputs": [],
   "source": [
    "# Kutuphaneleri Ekleme Islemi\n",
    "\n",
    "import numpy as np\n",
    "import pandas as pd\n",
    "import warnings\n",
    "warnings.filterwarnings(\"ignore\")\n",
    "import seaborn as sns\n",
    "import matplotlib.pyplot as plt"
   ]
  },
  {
   "cell_type": "code",
   "execution_count": 2,
   "id": "bd6c8a09",
   "metadata": {
    "execution": {
     "iopub.execute_input": "2022-11-05T16:25:33.375564Z",
     "iopub.status.busy": "2022-11-05T16:25:33.374981Z",
     "iopub.status.idle": "2022-11-05T16:25:33.413977Z",
     "shell.execute_reply": "2022-11-05T16:25:33.413144Z"
    },
    "papermill": {
     "duration": 0.053283,
     "end_time": "2022-11-05T16:25:33.416529",
     "exception": false,
     "start_time": "2022-11-05T16:25:33.363246",
     "status": "completed"
    },
    "tags": []
   },
   "outputs": [],
   "source": [
    "# Veri Setini Import Islemi\n",
    "\n",
    "df = pd.read_csv(\"../input/vehicle-dataset-from-cardekho/CAR DETAILS FROM CAR DEKHO.csv\")"
   ]
  },
  {
   "cell_type": "markdown",
   "id": "711d466c",
   "metadata": {
    "papermill": {
     "duration": 0.008219,
     "end_time": "2022-11-05T16:25:33.432819",
     "exception": false,
     "start_time": "2022-11-05T16:25:33.424600",
     "status": "completed"
    },
    "tags": []
   },
   "source": [
    "# Keşifsel Veri Analizi (EDA)"
   ]
  },
  {
   "cell_type": "code",
   "execution_count": 3,
   "id": "8f6dd6bd",
   "metadata": {
    "execution": {
     "iopub.execute_input": "2022-11-05T16:25:33.452711Z",
     "iopub.status.busy": "2022-11-05T16:25:33.451827Z",
     "iopub.status.idle": "2022-11-05T16:25:33.473916Z",
     "shell.execute_reply": "2022-11-05T16:25:33.473135Z"
    },
    "papermill": {
     "duration": 0.0362,
     "end_time": "2022-11-05T16:25:33.476945",
     "exception": false,
     "start_time": "2022-11-05T16:25:33.440745",
     "status": "completed"
    },
    "tags": []
   },
   "outputs": [
    {
     "data": {
      "text/html": [
       "<div>\n",
       "<style scoped>\n",
       "    .dataframe tbody tr th:only-of-type {\n",
       "        vertical-align: middle;\n",
       "    }\n",
       "\n",
       "    .dataframe tbody tr th {\n",
       "        vertical-align: top;\n",
       "    }\n",
       "\n",
       "    .dataframe thead th {\n",
       "        text-align: right;\n",
       "    }\n",
       "</style>\n",
       "<table border=\"1\" class=\"dataframe\">\n",
       "  <thead>\n",
       "    <tr style=\"text-align: right;\">\n",
       "      <th></th>\n",
       "      <th>name</th>\n",
       "      <th>year</th>\n",
       "      <th>selling_price</th>\n",
       "      <th>km_driven</th>\n",
       "      <th>fuel</th>\n",
       "      <th>seller_type</th>\n",
       "      <th>transmission</th>\n",
       "      <th>owner</th>\n",
       "    </tr>\n",
       "  </thead>\n",
       "  <tbody>\n",
       "    <tr>\n",
       "      <th>0</th>\n",
       "      <td>Maruti 800 AC</td>\n",
       "      <td>2007</td>\n",
       "      <td>60000</td>\n",
       "      <td>70000</td>\n",
       "      <td>Petrol</td>\n",
       "      <td>Individual</td>\n",
       "      <td>Manual</td>\n",
       "      <td>First Owner</td>\n",
       "    </tr>\n",
       "    <tr>\n",
       "      <th>1</th>\n",
       "      <td>Maruti Wagon R LXI Minor</td>\n",
       "      <td>2007</td>\n",
       "      <td>135000</td>\n",
       "      <td>50000</td>\n",
       "      <td>Petrol</td>\n",
       "      <td>Individual</td>\n",
       "      <td>Manual</td>\n",
       "      <td>First Owner</td>\n",
       "    </tr>\n",
       "    <tr>\n",
       "      <th>2</th>\n",
       "      <td>Hyundai Verna 1.6 SX</td>\n",
       "      <td>2012</td>\n",
       "      <td>600000</td>\n",
       "      <td>100000</td>\n",
       "      <td>Diesel</td>\n",
       "      <td>Individual</td>\n",
       "      <td>Manual</td>\n",
       "      <td>First Owner</td>\n",
       "    </tr>\n",
       "    <tr>\n",
       "      <th>3</th>\n",
       "      <td>Datsun RediGO T Option</td>\n",
       "      <td>2017</td>\n",
       "      <td>250000</td>\n",
       "      <td>46000</td>\n",
       "      <td>Petrol</td>\n",
       "      <td>Individual</td>\n",
       "      <td>Manual</td>\n",
       "      <td>First Owner</td>\n",
       "    </tr>\n",
       "    <tr>\n",
       "      <th>4</th>\n",
       "      <td>Honda Amaze VX i-DTEC</td>\n",
       "      <td>2014</td>\n",
       "      <td>450000</td>\n",
       "      <td>141000</td>\n",
       "      <td>Diesel</td>\n",
       "      <td>Individual</td>\n",
       "      <td>Manual</td>\n",
       "      <td>Second Owner</td>\n",
       "    </tr>\n",
       "  </tbody>\n",
       "</table>\n",
       "</div>"
      ],
      "text/plain": [
       "                       name  year  selling_price  km_driven    fuel  \\\n",
       "0             Maruti 800 AC  2007          60000      70000  Petrol   \n",
       "1  Maruti Wagon R LXI Minor  2007         135000      50000  Petrol   \n",
       "2      Hyundai Verna 1.6 SX  2012         600000     100000  Diesel   \n",
       "3    Datsun RediGO T Option  2017         250000      46000  Petrol   \n",
       "4     Honda Amaze VX i-DTEC  2014         450000     141000  Diesel   \n",
       "\n",
       "  seller_type transmission         owner  \n",
       "0  Individual       Manual   First Owner  \n",
       "1  Individual       Manual   First Owner  \n",
       "2  Individual       Manual   First Owner  \n",
       "3  Individual       Manual   First Owner  \n",
       "4  Individual       Manual  Second Owner  "
      ]
     },
     "execution_count": 3,
     "metadata": {},
     "output_type": "execute_result"
    }
   ],
   "source": [
    "# Veri Setimizin Ilk 5 Satirini Gozlenmektedir ( Fonksiyonda Varsayilan Olarak 5 Degeri Vardir )\n",
    "\n",
    "df.head()"
   ]
  },
  {
   "cell_type": "code",
   "execution_count": 4,
   "id": "6cea9ea8",
   "metadata": {
    "execution": {
     "iopub.execute_input": "2022-11-05T16:25:33.495683Z",
     "iopub.status.busy": "2022-11-05T16:25:33.494972Z",
     "iopub.status.idle": "2022-11-05T16:25:33.507164Z",
     "shell.execute_reply": "2022-11-05T16:25:33.506366Z"
    },
    "papermill": {
     "duration": 0.024101,
     "end_time": "2022-11-05T16:25:33.509359",
     "exception": false,
     "start_time": "2022-11-05T16:25:33.485258",
     "status": "completed"
    },
    "tags": []
   },
   "outputs": [
    {
     "data": {
      "text/html": [
       "<div>\n",
       "<style scoped>\n",
       "    .dataframe tbody tr th:only-of-type {\n",
       "        vertical-align: middle;\n",
       "    }\n",
       "\n",
       "    .dataframe tbody tr th {\n",
       "        vertical-align: top;\n",
       "    }\n",
       "\n",
       "    .dataframe thead th {\n",
       "        text-align: right;\n",
       "    }\n",
       "</style>\n",
       "<table border=\"1\" class=\"dataframe\">\n",
       "  <thead>\n",
       "    <tr style=\"text-align: right;\">\n",
       "      <th></th>\n",
       "      <th>name</th>\n",
       "      <th>year</th>\n",
       "      <th>selling_price</th>\n",
       "      <th>km_driven</th>\n",
       "      <th>fuel</th>\n",
       "      <th>seller_type</th>\n",
       "      <th>transmission</th>\n",
       "      <th>owner</th>\n",
       "    </tr>\n",
       "  </thead>\n",
       "  <tbody>\n",
       "    <tr>\n",
       "      <th>4335</th>\n",
       "      <td>Hyundai i20 Magna 1.4 CRDi (Diesel)</td>\n",
       "      <td>2014</td>\n",
       "      <td>409999</td>\n",
       "      <td>80000</td>\n",
       "      <td>Diesel</td>\n",
       "      <td>Individual</td>\n",
       "      <td>Manual</td>\n",
       "      <td>Second Owner</td>\n",
       "    </tr>\n",
       "    <tr>\n",
       "      <th>4336</th>\n",
       "      <td>Hyundai i20 Magna 1.4 CRDi</td>\n",
       "      <td>2014</td>\n",
       "      <td>409999</td>\n",
       "      <td>80000</td>\n",
       "      <td>Diesel</td>\n",
       "      <td>Individual</td>\n",
       "      <td>Manual</td>\n",
       "      <td>Second Owner</td>\n",
       "    </tr>\n",
       "    <tr>\n",
       "      <th>4337</th>\n",
       "      <td>Maruti 800 AC BSIII</td>\n",
       "      <td>2009</td>\n",
       "      <td>110000</td>\n",
       "      <td>83000</td>\n",
       "      <td>Petrol</td>\n",
       "      <td>Individual</td>\n",
       "      <td>Manual</td>\n",
       "      <td>Second Owner</td>\n",
       "    </tr>\n",
       "    <tr>\n",
       "      <th>4338</th>\n",
       "      <td>Hyundai Creta 1.6 CRDi SX Option</td>\n",
       "      <td>2016</td>\n",
       "      <td>865000</td>\n",
       "      <td>90000</td>\n",
       "      <td>Diesel</td>\n",
       "      <td>Individual</td>\n",
       "      <td>Manual</td>\n",
       "      <td>First Owner</td>\n",
       "    </tr>\n",
       "    <tr>\n",
       "      <th>4339</th>\n",
       "      <td>Renault KWID RXT</td>\n",
       "      <td>2016</td>\n",
       "      <td>225000</td>\n",
       "      <td>40000</td>\n",
       "      <td>Petrol</td>\n",
       "      <td>Individual</td>\n",
       "      <td>Manual</td>\n",
       "      <td>First Owner</td>\n",
       "    </tr>\n",
       "  </tbody>\n",
       "</table>\n",
       "</div>"
      ],
      "text/plain": [
       "                                     name  year  selling_price  km_driven  \\\n",
       "4335  Hyundai i20 Magna 1.4 CRDi (Diesel)  2014         409999      80000   \n",
       "4336           Hyundai i20 Magna 1.4 CRDi  2014         409999      80000   \n",
       "4337                  Maruti 800 AC BSIII  2009         110000      83000   \n",
       "4338     Hyundai Creta 1.6 CRDi SX Option  2016         865000      90000   \n",
       "4339                     Renault KWID RXT  2016         225000      40000   \n",
       "\n",
       "        fuel seller_type transmission         owner  \n",
       "4335  Diesel  Individual       Manual  Second Owner  \n",
       "4336  Diesel  Individual       Manual  Second Owner  \n",
       "4337  Petrol  Individual       Manual  Second Owner  \n",
       "4338  Diesel  Individual       Manual   First Owner  \n",
       "4339  Petrol  Individual       Manual   First Owner  "
      ]
     },
     "execution_count": 4,
     "metadata": {},
     "output_type": "execute_result"
    }
   ],
   "source": [
    "# Veri Setinin Son 5 Satirini Gozlenmektedir ( Fonksiyonda Varsayilan Olarak 5 Degeri Vardir )\n",
    "\n",
    "df.tail()"
   ]
  },
  {
   "cell_type": "code",
   "execution_count": 5,
   "id": "7407fcb3",
   "metadata": {
    "execution": {
     "iopub.execute_input": "2022-11-05T16:25:33.528486Z",
     "iopub.status.busy": "2022-11-05T16:25:33.528014Z",
     "iopub.status.idle": "2022-11-05T16:25:33.534543Z",
     "shell.execute_reply": "2022-11-05T16:25:33.533799Z"
    },
    "papermill": {
     "duration": 0.01866,
     "end_time": "2022-11-05T16:25:33.536545",
     "exception": false,
     "start_time": "2022-11-05T16:25:33.517885",
     "status": "completed"
    },
    "tags": []
   },
   "outputs": [
    {
     "data": {
      "text/plain": [
       "Index(['name', 'year', 'selling_price', 'km_driven', 'fuel', 'seller_type',\n",
       "       'transmission', 'owner'],\n",
       "      dtype='object')"
      ]
     },
     "execution_count": 5,
     "metadata": {},
     "output_type": "execute_result"
    }
   ],
   "source": [
    "df.columns # Sutunlar ( Degiskenler )"
   ]
  },
  {
   "cell_type": "code",
   "execution_count": 6,
   "id": "8418702d",
   "metadata": {
    "execution": {
     "iopub.execute_input": "2022-11-05T16:25:33.556120Z",
     "iopub.status.busy": "2022-11-05T16:25:33.555446Z",
     "iopub.status.idle": "2022-11-05T16:25:33.560992Z",
     "shell.execute_reply": "2022-11-05T16:25:33.560186Z"
    },
    "papermill": {
     "duration": 0.01798,
     "end_time": "2022-11-05T16:25:33.563091",
     "exception": false,
     "start_time": "2022-11-05T16:25:33.545111",
     "status": "completed"
    },
    "tags": []
   },
   "outputs": [
    {
     "data": {
      "text/plain": [
       "(4340, 8)"
      ]
     },
     "execution_count": 6,
     "metadata": {},
     "output_type": "execute_result"
    }
   ],
   "source": [
    "# Veri Setinin Boyutu ( Dizi Kac'a Kaclik Sorusuna Cevap Verir )\n",
    "\n",
    "df.shape"
   ]
  },
  {
   "cell_type": "code",
   "execution_count": 7,
   "id": "ccd0901a",
   "metadata": {
    "execution": {
     "iopub.execute_input": "2022-11-05T16:25:33.582787Z",
     "iopub.status.busy": "2022-11-05T16:25:33.581691Z",
     "iopub.status.idle": "2022-11-05T16:25:33.589305Z",
     "shell.execute_reply": "2022-11-05T16:25:33.587988Z"
    },
    "papermill": {
     "duration": 0.019831,
     "end_time": "2022-11-05T16:25:33.591616",
     "exception": false,
     "start_time": "2022-11-05T16:25:33.571785",
     "status": "completed"
    },
    "tags": []
   },
   "outputs": [
    {
     "data": {
      "text/plain": [
       "2"
      ]
     },
     "execution_count": 7,
     "metadata": {},
     "output_type": "execute_result"
    }
   ],
   "source": [
    "df.ndim # Kaç Boyutlu Oldugu Gozlenmektedir"
   ]
  },
  {
   "cell_type": "code",
   "execution_count": 8,
   "id": "587c44a8",
   "metadata": {
    "execution": {
     "iopub.execute_input": "2022-11-05T16:25:33.611661Z",
     "iopub.status.busy": "2022-11-05T16:25:33.610560Z",
     "iopub.status.idle": "2022-11-05T16:25:33.650107Z",
     "shell.execute_reply": "2022-11-05T16:25:33.649194Z"
    },
    "papermill": {
     "duration": 0.052218,
     "end_time": "2022-11-05T16:25:33.652639",
     "exception": false,
     "start_time": "2022-11-05T16:25:33.600421",
     "status": "completed"
    },
    "tags": []
   },
   "outputs": [
    {
     "data": {
      "text/plain": [
       "year               2013.090783\n",
       "selling_price    504127.311751\n",
       "km_driven         66215.777419\n",
       "dtype: float64"
      ]
     },
     "execution_count": 8,
     "metadata": {},
     "output_type": "execute_result"
    }
   ],
   "source": [
    "df.mean() # Butun Degiskenlerin Ortalama Degerlerini Verir"
   ]
  },
  {
   "cell_type": "code",
   "execution_count": 9,
   "id": "9ebc1d07",
   "metadata": {
    "execution": {
     "iopub.execute_input": "2022-11-05T16:25:33.672745Z",
     "iopub.status.busy": "2022-11-05T16:25:33.671708Z",
     "iopub.status.idle": "2022-11-05T16:25:33.680041Z",
     "shell.execute_reply": "2022-11-05T16:25:33.679152Z"
    },
    "papermill": {
     "duration": 0.020836,
     "end_time": "2022-11-05T16:25:33.682332",
     "exception": false,
     "start_time": "2022-11-05T16:25:33.661496",
     "status": "completed"
    },
    "tags": []
   },
   "outputs": [
    {
     "data": {
      "text/plain": [
       "name             object\n",
       "year              int64\n",
       "selling_price     int64\n",
       "km_driven         int64\n",
       "fuel             object\n",
       "seller_type      object\n",
       "transmission     object\n",
       "owner            object\n",
       "dtype: object"
      ]
     },
     "execution_count": 9,
     "metadata": {},
     "output_type": "execute_result"
    }
   ],
   "source": [
    "df.dtypes"
   ]
  },
  {
   "cell_type": "code",
   "execution_count": 10,
   "id": "8727b40d",
   "metadata": {
    "execution": {
     "iopub.execute_input": "2022-11-05T16:25:33.702230Z",
     "iopub.status.busy": "2022-11-05T16:25:33.701560Z",
     "iopub.status.idle": "2022-11-05T16:25:33.717846Z",
     "shell.execute_reply": "2022-11-05T16:25:33.716831Z"
    },
    "papermill": {
     "duration": 0.029197,
     "end_time": "2022-11-05T16:25:33.720464",
     "exception": false,
     "start_time": "2022-11-05T16:25:33.691267",
     "status": "completed"
    },
    "tags": []
   },
   "outputs": [],
   "source": [
    "# df.name ------->> df Icerisinden Degisken Seciyodu\n",
    "\n",
    "# pd.Categorical(df.name) ------->> Bu Ifade De Kategorik Olarak Tanimla Demektir\n",
    "\n",
    "df.name = pd.Categorical(df.name)"
   ]
  },
  {
   "cell_type": "code",
   "execution_count": 11,
   "id": "1ef6ef65",
   "metadata": {
    "execution": {
     "iopub.execute_input": "2022-11-05T16:25:33.741030Z",
     "iopub.status.busy": "2022-11-05T16:25:33.740399Z",
     "iopub.status.idle": "2022-11-05T16:25:33.748460Z",
     "shell.execute_reply": "2022-11-05T16:25:33.747376Z"
    },
    "papermill": {
     "duration": 0.020792,
     "end_time": "2022-11-05T16:25:33.750669",
     "exception": false,
     "start_time": "2022-11-05T16:25:33.729877",
     "status": "completed"
    },
    "tags": []
   },
   "outputs": [
    {
     "data": {
      "text/plain": [
       "name             category\n",
       "year                int64\n",
       "selling_price       int64\n",
       "km_driven           int64\n",
       "fuel               object\n",
       "seller_type        object\n",
       "transmission       object\n",
       "owner              object\n",
       "dtype: object"
      ]
     },
     "execution_count": 11,
     "metadata": {},
     "output_type": "execute_result"
    }
   ],
   "source": [
    "df.dtypes # Gorulecegi Uzere Degisken Tipinde Kategorik Olarak Degistirme Islemi Yapildi"
   ]
  },
  {
   "cell_type": "markdown",
   "id": "de3aa4e6",
   "metadata": {
    "papermill": {
     "duration": 0.008552,
     "end_time": "2022-11-05T16:25:33.768181",
     "exception": false,
     "start_time": "2022-11-05T16:25:33.759629",
     "status": "completed"
    },
    "tags": []
   },
   "source": [
    "## Missing Value Analysis"
   ]
  },
  {
   "cell_type": "code",
   "execution_count": 12,
   "id": "84a2c3f6",
   "metadata": {
    "execution": {
     "iopub.execute_input": "2022-11-05T16:25:33.788747Z",
     "iopub.status.busy": "2022-11-05T16:25:33.787710Z",
     "iopub.status.idle": "2022-11-05T16:25:33.799131Z",
     "shell.execute_reply": "2022-11-05T16:25:33.797950Z"
    },
    "papermill": {
     "duration": 0.024391,
     "end_time": "2022-11-05T16:25:33.801606",
     "exception": false,
     "start_time": "2022-11-05T16:25:33.777215",
     "status": "completed"
    },
    "tags": []
   },
   "outputs": [
    {
     "data": {
      "text/plain": [
       "False"
      ]
     },
     "execution_count": 12,
     "metadata": {},
     "output_type": "execute_result"
    }
   ],
   "source": [
    "# Degiskenlerin Icerisinde     ---   Hiç Eksik Gozlem (Deger) Var mi?   ---- ( Sorusu Soruldu )\n",
    "\n",
    "# df ------->> Veri Seti\n",
    "\n",
    "# .isnull()   ------>>  Sorgulama\n",
    "\n",
    "# df.isnull()   ------>>  Veri Setinde Sorgulama Yapti\n",
    "\n",
    "# .values   ------>>  Nerede ?   ------>>  Degerler Uzerinde ( Degerlere Yonelik )\n",
    "\n",
    "# .any()   ------>>  Herhangi Birisinde ( Bir Tane Bile Varsa ) \"True\" Olarak Deger Dondur\n",
    "\n",
    "df.isnull().values.any() # Ciktida Gorulecegi Uzere Veri Setinde Bos Gozlem Yoktur"
   ]
  },
  {
   "cell_type": "code",
   "execution_count": 13,
   "id": "567f7ddc",
   "metadata": {
    "execution": {
     "iopub.execute_input": "2022-11-05T16:25:33.821391Z",
     "iopub.status.busy": "2022-11-05T16:25:33.820951Z",
     "iopub.status.idle": "2022-11-05T16:25:33.832015Z",
     "shell.execute_reply": "2022-11-05T16:25:33.830763Z"
    },
    "papermill": {
     "duration": 0.023931,
     "end_time": "2022-11-05T16:25:33.834504",
     "exception": false,
     "start_time": "2022-11-05T16:25:33.810573",
     "status": "completed"
    },
    "tags": []
   },
   "outputs": [
    {
     "data": {
      "text/plain": [
       "name             0\n",
       "year             0\n",
       "selling_price    0\n",
       "km_driven        0\n",
       "fuel             0\n",
       "seller_type      0\n",
       "transmission     0\n",
       "owner            0\n",
       "dtype: int64"
      ]
     },
     "execution_count": 13,
     "metadata": {},
     "output_type": "execute_result"
    }
   ],
   "source": [
    "# Eger Degiskenlerde Eksik Degerler Var Olsaydi Hangi Degiskende Kacar Tane Bos Gozlem Olucakti? ( Sorusuna Cevap Verir )\n",
    "\n",
    "df.isnull().sum()"
   ]
  },
  {
   "cell_type": "code",
   "execution_count": 14,
   "id": "ff576c2c",
   "metadata": {
    "execution": {
     "iopub.execute_input": "2022-11-05T16:25:33.854801Z",
     "iopub.status.busy": "2022-11-05T16:25:33.854396Z",
     "iopub.status.idle": "2022-11-05T16:25:33.877997Z",
     "shell.execute_reply": "2022-11-05T16:25:33.876621Z"
    },
    "papermill": {
     "duration": 0.036481,
     "end_time": "2022-11-05T16:25:33.880491",
     "exception": false,
     "start_time": "2022-11-05T16:25:33.844010",
     "status": "completed"
    },
    "tags": []
   },
   "outputs": [
    {
     "name": "stdout",
     "output_type": "stream",
     "text": [
      "<class 'pandas.core.frame.DataFrame'>\n",
      "RangeIndex: 4340 entries, 0 to 4339\n",
      "Data columns (total 8 columns):\n",
      " #   Column         Non-Null Count  Dtype   \n",
      "---  ------         --------------  -----   \n",
      " 0   name           4340 non-null   category\n",
      " 1   year           4340 non-null   int64   \n",
      " 2   selling_price  4340 non-null   int64   \n",
      " 3   km_driven      4340 non-null   int64   \n",
      " 4   fuel           4340 non-null   object  \n",
      " 5   seller_type    4340 non-null   object  \n",
      " 6   transmission   4340 non-null   object  \n",
      " 7   owner          4340 non-null   object  \n",
      "dtypes: category(1), int64(3), object(4)\n",
      "memory usage: 289.9+ KB\n"
     ]
    },
    {
     "data": {
      "text/plain": [
       "\"\\nEger Eksik Gozlem Tespit Etseydik, dropna() Fonksiyonu Dataset'teki Eksik Gozlemleri Cikarmaya Yarar,\\nEger Bos Gozleri Doldurulmak Istenseydi fillna() Fonksiyonu Kullanilabilirdi\\n\\n\""
      ]
     },
     "execution_count": 14,
     "metadata": {},
     "output_type": "execute_result"
    }
   ],
   "source": [
    "df.info() # Ciktida Veri Setinde Hic Bos Goz Olmadigi Gozlenmektedir\n",
    "\n",
    "\"\"\"\n",
    "Eger Eksik Gozlem Tespit Etseydik, dropna() Fonksiyonu Dataset'teki Eksik Gozlemleri Cikarmaya Yarar,\n",
    "Eger Bos Gozleri Doldurulmak Istenseydi fillna() Fonksiyonu Kullanilabilirdi\n",
    "\n",
    "\"\"\""
   ]
  },
  {
   "cell_type": "code",
   "execution_count": 15,
   "id": "14cfc2b5",
   "metadata": {
    "execution": {
     "iopub.execute_input": "2022-11-05T16:25:33.901556Z",
     "iopub.status.busy": "2022-11-05T16:25:33.900773Z",
     "iopub.status.idle": "2022-11-05T16:25:33.909140Z",
     "shell.execute_reply": "2022-11-05T16:25:33.907789Z"
    },
    "papermill": {
     "duration": 0.021647,
     "end_time": "2022-11-05T16:25:33.911567",
     "exception": false,
     "start_time": "2022-11-05T16:25:33.889920",
     "status": "completed"
    },
    "tags": []
   },
   "outputs": [
    {
     "name": "stdout",
     "output_type": "stream",
     "text": [
      "Ortalamasi : 504127.3117511521\n",
      "Sayisi : 4340\n",
      "Min : 20000\n",
      "Max : 8900000\n",
      "Toplami : 2187912533\n",
      "Standart Sapmasi : 578548.7361388865\n",
      "Varyansi : 334718640087.90295\n"
     ]
    }
   ],
   "source": [
    "# Istatistiksel Fonksiyonlarin \"selling_price\" Degiskeninde Kullanimi\n",
    "\n",
    "print(\"Ortalamasi : {0}\\nSayisi : {1}\\nMin : {2}\\nMax : {3}\\nToplami : {4}\\nStandart Sapmasi : {5}\\nVaryansi : {6}\".format(\n",
    "df[\"selling_price\"].mean(),\n",
    "df[\"selling_price\"].count(),\n",
    "df[\"selling_price\"].min(),\n",
    "df[\"selling_price\"].max(),\n",
    "df[\"selling_price\"].sum(),\n",
    "df[\"selling_price\"].std(),\n",
    "df[\"selling_price\"].var()))"
   ]
  },
  {
   "cell_type": "code",
   "execution_count": 16,
   "id": "316f6fb2",
   "metadata": {
    "execution": {
     "iopub.execute_input": "2022-11-05T16:25:33.932751Z",
     "iopub.status.busy": "2022-11-05T16:25:33.932109Z",
     "iopub.status.idle": "2022-11-05T16:25:33.958651Z",
     "shell.execute_reply": "2022-11-05T16:25:33.957509Z"
    },
    "papermill": {
     "duration": 0.040495,
     "end_time": "2022-11-05T16:25:33.961638",
     "exception": false,
     "start_time": "2022-11-05T16:25:33.921143",
     "status": "completed"
    },
    "tags": []
   },
   "outputs": [
    {
     "data": {
      "text/html": [
       "<div>\n",
       "<style scoped>\n",
       "    .dataframe tbody tr th:only-of-type {\n",
       "        vertical-align: middle;\n",
       "    }\n",
       "\n",
       "    .dataframe tbody tr th {\n",
       "        vertical-align: top;\n",
       "    }\n",
       "\n",
       "    .dataframe thead th {\n",
       "        text-align: right;\n",
       "    }\n",
       "</style>\n",
       "<table border=\"1\" class=\"dataframe\">\n",
       "  <thead>\n",
       "    <tr style=\"text-align: right;\">\n",
       "      <th></th>\n",
       "      <th>count</th>\n",
       "      <th>mean</th>\n",
       "      <th>std</th>\n",
       "      <th>min</th>\n",
       "      <th>25%</th>\n",
       "      <th>50%</th>\n",
       "      <th>75%</th>\n",
       "      <th>max</th>\n",
       "    </tr>\n",
       "  </thead>\n",
       "  <tbody>\n",
       "    <tr>\n",
       "      <th>year</th>\n",
       "      <td>4340.0</td>\n",
       "      <td>2013.090783</td>\n",
       "      <td>4.215344</td>\n",
       "      <td>1992.0</td>\n",
       "      <td>2011.00</td>\n",
       "      <td>2014.0</td>\n",
       "      <td>2016.0</td>\n",
       "      <td>2020.0</td>\n",
       "    </tr>\n",
       "    <tr>\n",
       "      <th>selling_price</th>\n",
       "      <td>4340.0</td>\n",
       "      <td>504127.311751</td>\n",
       "      <td>578548.736139</td>\n",
       "      <td>20000.0</td>\n",
       "      <td>208749.75</td>\n",
       "      <td>350000.0</td>\n",
       "      <td>600000.0</td>\n",
       "      <td>8900000.0</td>\n",
       "    </tr>\n",
       "    <tr>\n",
       "      <th>km_driven</th>\n",
       "      <td>4340.0</td>\n",
       "      <td>66215.777419</td>\n",
       "      <td>46644.102194</td>\n",
       "      <td>1.0</td>\n",
       "      <td>35000.00</td>\n",
       "      <td>60000.0</td>\n",
       "      <td>90000.0</td>\n",
       "      <td>806599.0</td>\n",
       "    </tr>\n",
       "  </tbody>\n",
       "</table>\n",
       "</div>"
      ],
      "text/plain": [
       "                count           mean            std      min        25%  \\\n",
       "year           4340.0    2013.090783       4.215344   1992.0    2011.00   \n",
       "selling_price  4340.0  504127.311751  578548.736139  20000.0  208749.75   \n",
       "km_driven      4340.0   66215.777419   46644.102194      1.0   35000.00   \n",
       "\n",
       "                    50%       75%        max  \n",
       "year             2014.0    2016.0     2020.0  \n",
       "selling_price  350000.0  600000.0  8900000.0  \n",
       "km_driven       60000.0   90000.0   806599.0  "
      ]
     },
     "execution_count": 16,
     "metadata": {},
     "output_type": "execute_result"
    }
   ],
   "source": [
    "df.describe().T # Istatistikler ( Transpozu Alinmis Haldedir )"
   ]
  },
  {
   "cell_type": "code",
   "execution_count": 17,
   "id": "85f9baad",
   "metadata": {
    "execution": {
     "iopub.execute_input": "2022-11-05T16:25:33.983729Z",
     "iopub.status.busy": "2022-11-05T16:25:33.983161Z",
     "iopub.status.idle": "2022-11-05T16:25:34.008891Z",
     "shell.execute_reply": "2022-11-05T16:25:34.007977Z"
    },
    "papermill": {
     "duration": 0.03973,
     "end_time": "2022-11-05T16:25:34.011229",
     "exception": false,
     "start_time": "2022-11-05T16:25:33.971499",
     "status": "completed"
    },
    "tags": []
   },
   "outputs": [
    {
     "data": {
      "text/html": [
       "<div>\n",
       "<style scoped>\n",
       "    .dataframe tbody tr th:only-of-type {\n",
       "        vertical-align: middle;\n",
       "    }\n",
       "\n",
       "    .dataframe tbody tr th {\n",
       "        vertical-align: top;\n",
       "    }\n",
       "\n",
       "    .dataframe thead th {\n",
       "        text-align: right;\n",
       "    }\n",
       "</style>\n",
       "<table border=\"1\" class=\"dataframe\">\n",
       "  <thead>\n",
       "    <tr style=\"text-align: right;\">\n",
       "      <th>name</th>\n",
       "      <th>Ambassador CLASSIC 1500 DSL AC</th>\n",
       "      <th>Ambassador Classic 2000 Dsz</th>\n",
       "      <th>Ambassador Grand 1800 ISZ MPFI PW CL</th>\n",
       "      <th>Audi A4 1.8 TFSI</th>\n",
       "      <th>Audi A4 2.0 TDI</th>\n",
       "      <th>Audi A4 2.0 TDI 177 Bhp Premium Plus</th>\n",
       "      <th>Audi A4 3.0 TDI Quattro</th>\n",
       "      <th>Audi A4 30 TFSI Technology</th>\n",
       "      <th>Audi A4 35 TDI Premium</th>\n",
       "      <th>Audi A4 35 TDI Premium Plus</th>\n",
       "    </tr>\n",
       "  </thead>\n",
       "  <tbody>\n",
       "    <tr>\n",
       "      <th>year</th>\n",
       "      <td>2005.0</td>\n",
       "      <td>2002.0</td>\n",
       "      <td>2012.0</td>\n",
       "      <td>2012.0</td>\n",
       "      <td>2011.0</td>\n",
       "      <td>2013.0</td>\n",
       "      <td>2013.0</td>\n",
       "      <td>2018.0</td>\n",
       "      <td>2015.0</td>\n",
       "      <td>2019.0</td>\n",
       "    </tr>\n",
       "    <tr>\n",
       "      <th>selling_price</th>\n",
       "      <td>120000.0</td>\n",
       "      <td>50000.0</td>\n",
       "      <td>430000.0</td>\n",
       "      <td>1200000.0</td>\n",
       "      <td>1295000.0</td>\n",
       "      <td>1150000.0</td>\n",
       "      <td>1580000.0</td>\n",
       "      <td>3100000.0</td>\n",
       "      <td>2300000.0</td>\n",
       "      <td>3256000.0</td>\n",
       "    </tr>\n",
       "    <tr>\n",
       "      <th>km_driven</th>\n",
       "      <td>50000.0</td>\n",
       "      <td>120000.0</td>\n",
       "      <td>50000.0</td>\n",
       "      <td>60000.0</td>\n",
       "      <td>58000.0</td>\n",
       "      <td>53000.0</td>\n",
       "      <td>86000.0</td>\n",
       "      <td>22000.0</td>\n",
       "      <td>35000.0</td>\n",
       "      <td>17000.0</td>\n",
       "    </tr>\n",
       "  </tbody>\n",
       "</table>\n",
       "</div>"
      ],
      "text/plain": [
       "name           Ambassador CLASSIC 1500 DSL AC  Ambassador Classic 2000 Dsz  \\\n",
       "year                                   2005.0                       2002.0   \n",
       "selling_price                        120000.0                      50000.0   \n",
       "km_driven                             50000.0                     120000.0   \n",
       "\n",
       "name           Ambassador Grand 1800 ISZ MPFI PW CL  Audi A4 1.8 TFSI  \\\n",
       "year                                         2012.0            2012.0   \n",
       "selling_price                              430000.0         1200000.0   \n",
       "km_driven                                   50000.0           60000.0   \n",
       "\n",
       "name           Audi A4 2.0 TDI  Audi A4 2.0 TDI 177 Bhp Premium Plus  \\\n",
       "year                    2011.0                                2013.0   \n",
       "selling_price        1295000.0                             1150000.0   \n",
       "km_driven              58000.0                               53000.0   \n",
       "\n",
       "name           Audi A4 3.0 TDI Quattro  Audi A4 30 TFSI Technology  \\\n",
       "year                            2013.0                      2018.0   \n",
       "selling_price                1580000.0                   3100000.0   \n",
       "km_driven                      86000.0                     22000.0   \n",
       "\n",
       "name           Audi A4 35 TDI Premium  Audi A4 35 TDI Premium Plus  \n",
       "year                           2015.0                       2019.0  \n",
       "selling_price               2300000.0                    3256000.0  \n",
       "km_driven                     35000.0                      17000.0  "
      ]
     },
     "execution_count": 17,
     "metadata": {},
     "output_type": "execute_result"
    }
   ],
   "source": [
    "df.groupby(\"name\").mean().head(10).T # Araba Isimlerine Gore Grupladiktan Sonra Ortalamasi Alindi,Ilk 10 Gozlemi Getir Denildi Ve Transpoz'u Alindi"
   ]
  },
  {
   "cell_type": "code",
   "execution_count": 18,
   "id": "8d737bdf",
   "metadata": {
    "execution": {
     "iopub.execute_input": "2022-11-05T16:25:34.034009Z",
     "iopub.status.busy": "2022-11-05T16:25:34.033415Z",
     "iopub.status.idle": "2022-11-05T16:25:34.042987Z",
     "shell.execute_reply": "2022-11-05T16:25:34.041823Z"
    },
    "papermill": {
     "duration": 0.023438,
     "end_time": "2022-11-05T16:25:34.045423",
     "exception": false,
     "start_time": "2022-11-05T16:25:34.021985",
     "status": "completed"
    },
    "tags": []
   },
   "outputs": [
    {
     "data": {
      "text/plain": [
       "name\n",
       "Ambassador CLASSIC 1500 DSL AC           120000.0\n",
       "Ambassador Classic 2000 Dsz               50000.0\n",
       "Ambassador Grand 1800 ISZ MPFI PW CL     430000.0\n",
       "Audi A4 1.8 TFSI                        1200000.0\n",
       "Audi A4 2.0 TDI                         1295000.0\n",
       "Name: selling_price, dtype: float64"
      ]
     },
     "execution_count": 18,
     "metadata": {},
     "output_type": "execute_result"
    }
   ],
   "source": [
    "# Araba Isimlerine Gore Gruplandirdik Ve selling_price Degiskeninin Ortalamasini Aldik Ve Ilk 5 Gozlemi Ekranda Gosterdik\n",
    "\n",
    "df.groupby(\"name\")[\"selling_price\"].mean().head()"
   ]
  },
  {
   "cell_type": "code",
   "execution_count": 19,
   "id": "5b4ac976",
   "metadata": {
    "execution": {
     "iopub.execute_input": "2022-11-05T16:25:34.067752Z",
     "iopub.status.busy": "2022-11-05T16:25:34.066784Z",
     "iopub.status.idle": "2022-11-05T16:25:34.077819Z",
     "shell.execute_reply": "2022-11-05T16:25:34.076677Z"
    },
    "papermill": {
     "duration": 0.024746,
     "end_time": "2022-11-05T16:25:34.080332",
     "exception": false,
     "start_time": "2022-11-05T16:25:34.055586",
     "status": "completed"
    },
    "tags": []
   },
   "outputs": [
    {
     "data": {
      "text/plain": [
       "['Maruti 800 AC', 'Maruti Wagon R LXI Minor', 'Hyundai Verna 1.6 SX', 'Datsun RediGO T Option', 'Honda Amaze VX i-DTEC', ..., 'Maruti Swift LDI', 'Tata Nano XM', 'Mahindra Verito 1.5 D6 BSIII', 'Toyota Innova 2.5 VX (Diesel) 8 Seater BS IV', 'Hyundai i20 Magna 1.4 CRDi']\n",
       "Length: 1491\n",
       "Categories (1491, object): ['Ambassador CLASSIC 1500 DSL AC', 'Ambassador Classic 2000 Dsz', 'Ambassador Grand 1800 ISZ MPFI PW CL', 'Audi A4 1.8 TFSI', ..., 'Volvo V40 D3 R Design', 'Volvo XC 90 D5 Inscription BSIV', 'Volvo XC60 D3 Kinetic', 'Volvo XC60 D5 Inscription']"
      ]
     },
     "execution_count": 19,
     "metadata": {},
     "output_type": "execute_result"
    }
   ],
   "source": [
    "df.name.unique() # Katagori Siniflari"
   ]
  },
  {
   "cell_type": "code",
   "execution_count": 20,
   "id": "1623ce37",
   "metadata": {
    "execution": {
     "iopub.execute_input": "2022-11-05T16:25:34.102272Z",
     "iopub.status.busy": "2022-11-05T16:25:34.101844Z",
     "iopub.status.idle": "2022-11-05T16:25:34.111059Z",
     "shell.execute_reply": "2022-11-05T16:25:34.109778Z"
    },
    "papermill": {
     "duration": 0.023098,
     "end_time": "2022-11-05T16:25:34.113621",
     "exception": false,
     "start_time": "2022-11-05T16:25:34.090523",
     "status": "completed"
    },
    "tags": []
   },
   "outputs": [
    {
     "data": {
      "text/plain": [
       "1491"
      ]
     },
     "execution_count": 20,
     "metadata": {},
     "output_type": "execute_result"
    }
   ],
   "source": [
    "df[\"name\"].value_counts().count() # Katagori Siniflarinin Sayisi"
   ]
  },
  {
   "cell_type": "code",
   "execution_count": 21,
   "id": "11aca61e",
   "metadata": {
    "execution": {
     "iopub.execute_input": "2022-11-05T16:25:34.135820Z",
     "iopub.status.busy": "2022-11-05T16:25:34.135374Z",
     "iopub.status.idle": "2022-11-05T16:25:34.146189Z",
     "shell.execute_reply": "2022-11-05T16:25:34.145131Z"
    },
    "papermill": {
     "duration": 0.024928,
     "end_time": "2022-11-05T16:25:34.148836",
     "exception": false,
     "start_time": "2022-11-05T16:25:34.123908",
     "status": "completed"
    },
    "tags": []
   },
   "outputs": [
    {
     "data": {
      "text/plain": [
       "Maruti Swift Dzire VDI      69\n",
       "Maruti Alto 800 LXI         59\n",
       "Maruti Alto LXi             47\n",
       "Hyundai EON Era Plus        35\n",
       "Maruti Alto LX              35\n",
       "Maruti Swift VDI BSIV       29\n",
       "Maruti Wagon R VXI BS IV    29\n",
       "Maruti Swift VDI            27\n",
       "Maruti Wagon R LXI Minor    24\n",
       "Hyundai EON Magna Plus      24\n",
       "Maruti Wagon R LXI          23\n",
       "Maruti 800 AC               23\n",
       "Hyundai i10 Magna           22\n",
       "Mahindra XUV500 W8 2WD      22\n",
       "Maruti Ritz VDi             22\n",
       "Name: name, dtype: int64"
      ]
     },
     "execution_count": 21,
     "metadata": {},
     "output_type": "execute_result"
    }
   ],
   "source": [
    "# Katagorik Siniflarin Hangisinden Kacar Tane Var ? ( Yani Frekanslari Nedir ?)\n",
    "\n",
    "df[\"name\"].value_counts().head(15)"
   ]
  },
  {
   "cell_type": "markdown",
   "id": "50de7e73",
   "metadata": {
    "papermill": {
     "duration": 0.009981,
     "end_time": "2022-11-05T16:25:34.169285",
     "exception": false,
     "start_time": "2022-11-05T16:25:34.159304",
     "status": "completed"
    },
    "tags": []
   },
   "source": [
    "# Gorsellestirme Islemleri"
   ]
  },
  {
   "cell_type": "markdown",
   "id": "5729b72a",
   "metadata": {
    "papermill": {
     "duration": 0.009931,
     "end_time": "2022-11-05T16:25:34.189589",
     "exception": false,
     "start_time": "2022-11-05T16:25:34.179658",
     "status": "completed"
    },
    "tags": []
   },
   "source": [
    "* .plot  -----> Pandas'in Bir Fonksiyonudur\n",
    "* .barh()  -----> Bize Sutun Grafigi Verir"
   ]
  },
  {
   "cell_type": "code",
   "execution_count": 22,
   "id": "df8fb2b1",
   "metadata": {
    "execution": {
     "iopub.execute_input": "2022-11-05T16:25:34.212634Z",
     "iopub.status.busy": "2022-11-05T16:25:34.212227Z",
     "iopub.status.idle": "2022-11-05T16:25:34.629914Z",
     "shell.execute_reply": "2022-11-05T16:25:34.628791Z"
    },
    "papermill": {
     "duration": 0.431866,
     "end_time": "2022-11-05T16:25:34.632373",
     "exception": false,
     "start_time": "2022-11-05T16:25:34.200507",
     "status": "completed"
    },
    "tags": []
   },
   "outputs": [
    {
     "data": {
      "image/png": "[encoded data removed]",
      "text/plain": [
       "<Figure size 432x288 with 1 Axes>"
      ]
     },
     "metadata": {
      "needs_background": "light"
     },
     "output_type": "display_data"
    }
   ],
   "source": [
    "df[\"year\"].value_counts().plot.barh().set_title(\"\\\"year\\\" Degiskeninin Sinif Frekanslari\"); # \"year\" AdliDegiskenin Icerisindeki Siniflar Grafige Yansitilmistir\n",
    "\n",
    "# Yorum : Gecmisten Gunumuze Yaklastikca Veri Seti Icerisindeki Gozlenen Araba Sayisinin Arttigi Gozlenmektedir Ve Ayrica 2014 Yilinda Diger Yillara Oranla Daha Fazla Araba Sayisi Ciktigi Gozlenmektedir"
   ]
  },
  {
   "cell_type": "code",
   "execution_count": 23,
   "id": "ec309643",
   "metadata": {
    "execution": {
     "iopub.execute_input": "2022-11-05T16:25:34.656384Z",
     "iopub.status.busy": "2022-11-05T16:25:34.655945Z",
     "iopub.status.idle": "2022-11-05T16:25:34.671399Z",
     "shell.execute_reply": "2022-11-05T16:25:34.670233Z"
    },
    "papermill": {
     "duration": 0.030621,
     "end_time": "2022-11-05T16:25:34.674142",
     "exception": false,
     "start_time": "2022-11-05T16:25:34.643521",
     "status": "completed"
    },
    "tags": []
   },
   "outputs": [
    {
     "data": {
      "text/html": [
       "<div>\n",
       "<style scoped>\n",
       "    .dataframe tbody tr th:only-of-type {\n",
       "        vertical-align: middle;\n",
       "    }\n",
       "\n",
       "    .dataframe tbody tr th {\n",
       "        vertical-align: top;\n",
       "    }\n",
       "\n",
       "    .dataframe thead th {\n",
       "        text-align: right;\n",
       "    }\n",
       "</style>\n",
       "<table border=\"1\" class=\"dataframe\">\n",
       "  <thead>\n",
       "    <tr style=\"text-align: right;\">\n",
       "      <th></th>\n",
       "      <th>name</th>\n",
       "      <th>year</th>\n",
       "      <th>selling_price</th>\n",
       "      <th>km_driven</th>\n",
       "      <th>fuel</th>\n",
       "      <th>seller_type</th>\n",
       "      <th>transmission</th>\n",
       "      <th>owner</th>\n",
       "    </tr>\n",
       "  </thead>\n",
       "  <tbody>\n",
       "    <tr>\n",
       "      <th>0</th>\n",
       "      <td>Maruti 800 AC</td>\n",
       "      <td>2007</td>\n",
       "      <td>60000</td>\n",
       "      <td>70000</td>\n",
       "      <td>Petrol</td>\n",
       "      <td>Individual</td>\n",
       "      <td>Manual</td>\n",
       "      <td>First Owner</td>\n",
       "    </tr>\n",
       "    <tr>\n",
       "      <th>1</th>\n",
       "      <td>Maruti Wagon R LXI Minor</td>\n",
       "      <td>2007</td>\n",
       "      <td>135000</td>\n",
       "      <td>50000</td>\n",
       "      <td>Petrol</td>\n",
       "      <td>Individual</td>\n",
       "      <td>Manual</td>\n",
       "      <td>First Owner</td>\n",
       "    </tr>\n",
       "    <tr>\n",
       "      <th>2</th>\n",
       "      <td>Hyundai Verna 1.6 SX</td>\n",
       "      <td>2012</td>\n",
       "      <td>600000</td>\n",
       "      <td>100000</td>\n",
       "      <td>Diesel</td>\n",
       "      <td>Individual</td>\n",
       "      <td>Manual</td>\n",
       "      <td>First Owner</td>\n",
       "    </tr>\n",
       "    <tr>\n",
       "      <th>3</th>\n",
       "      <td>Datsun RediGO T Option</td>\n",
       "      <td>2017</td>\n",
       "      <td>250000</td>\n",
       "      <td>46000</td>\n",
       "      <td>Petrol</td>\n",
       "      <td>Individual</td>\n",
       "      <td>Manual</td>\n",
       "      <td>First Owner</td>\n",
       "    </tr>\n",
       "    <tr>\n",
       "      <th>4</th>\n",
       "      <td>Honda Amaze VX i-DTEC</td>\n",
       "      <td>2014</td>\n",
       "      <td>450000</td>\n",
       "      <td>141000</td>\n",
       "      <td>Diesel</td>\n",
       "      <td>Individual</td>\n",
       "      <td>Manual</td>\n",
       "      <td>Second Owner</td>\n",
       "    </tr>\n",
       "  </tbody>\n",
       "</table>\n",
       "</div>"
      ],
      "text/plain": [
       "                       name  year  selling_price  km_driven    fuel  \\\n",
       "0             Maruti 800 AC  2007          60000      70000  Petrol   \n",
       "1  Maruti Wagon R LXI Minor  2007         135000      50000  Petrol   \n",
       "2      Hyundai Verna 1.6 SX  2012         600000     100000  Diesel   \n",
       "3    Datsun RediGO T Option  2017         250000      46000  Petrol   \n",
       "4     Honda Amaze VX i-DTEC  2014         450000     141000  Diesel   \n",
       "\n",
       "  seller_type transmission         owner  \n",
       "0  Individual       Manual   First Owner  \n",
       "1  Individual       Manual   First Owner  \n",
       "2  Individual       Manual   First Owner  \n",
       "3  Individual       Manual   First Owner  \n",
       "4  Individual       Manual  Second Owner  "
      ]
     },
     "execution_count": 23,
     "metadata": {},
     "output_type": "execute_result"
    }
   ],
   "source": [
    "df.head()"
   ]
  },
  {
   "cell_type": "code",
   "execution_count": 24,
   "id": "821cd5b0",
   "metadata": {
    "execution": {
     "iopub.execute_input": "2022-11-05T16:25:34.698003Z",
     "iopub.status.busy": "2022-11-05T16:25:34.697240Z",
     "iopub.status.idle": "2022-11-05T16:25:34.897750Z",
     "shell.execute_reply": "2022-11-05T16:25:34.896853Z"
    },
    "papermill": {
     "duration": 0.214919,
     "end_time": "2022-11-05T16:25:34.899906",
     "exception": false,
     "start_time": "2022-11-05T16:25:34.684987",
     "status": "completed"
    },
    "tags": []
   },
   "outputs": [
    {
     "data": {
      "image/png": "[encoded data removed]",
      "text/plain": [
       "<Figure size 432x288 with 1 Axes>"
      ]
     },
     "metadata": {
      "needs_background": "light"
     },
     "output_type": "display_data"
    }
   ],
   "source": [
    "df[\"fuel\"].value_counts().plot.barh().set_title(\"\\\"fuel\\\" Degiskeninin Sinif Frekanslari\"); # Yorum ; Petrol Ve Diesel Ile Calisan Arac Sayisi 2000'in Uzerindeyken Diger Araclarin Sayisi Cok Az\n",
    "# Oldugu Gozlenmektedir"
   ]
  },
  {
   "cell_type": "code",
   "execution_count": 25,
   "id": "bd73dcf9",
   "metadata": {
    "execution": {
     "iopub.execute_input": "2022-11-05T16:25:34.923725Z",
     "iopub.status.busy": "2022-11-05T16:25:34.923290Z",
     "iopub.status.idle": "2022-11-05T16:25:35.291503Z",
     "shell.execute_reply": "2022-11-05T16:25:35.290693Z"
    },
    "papermill": {
     "duration": 0.382659,
     "end_time": "2022-11-05T16:25:35.293773",
     "exception": false,
     "start_time": "2022-11-05T16:25:34.911114",
     "status": "completed"
    },
    "tags": []
   },
   "outputs": [
    {
     "data": {
      "image/png": "[encoded data removed]",
      "text/plain": [
       "<Figure size 432x288 with 1 Axes>"
      ]
     },
     "metadata": {
      "needs_background": "light"
     },
     "output_type": "display_data"
    }
   ],
   "source": [
    "sns.barplot(x = \"fuel\", y = df.km_driven, data = df); # X Eksenine \"fuel\" Adli Katagorik Degiskeninin Frekanslarini Koyduk, Y Eksenine Km Degerlerini Koydum\n",
    "\n",
    "# Yorum ; LPG Digerlerine Oranla Daha Fazla Oldugu Gozlenmektedir"
   ]
  },
  {
   "cell_type": "code",
   "execution_count": 26,
   "id": "4868e40f",
   "metadata": {
    "execution": {
     "iopub.execute_input": "2022-11-05T16:25:35.319276Z",
     "iopub.status.busy": "2022-11-05T16:25:35.318662Z",
     "iopub.status.idle": "2022-11-05T16:25:35.693637Z",
     "shell.execute_reply": "2022-11-05T16:25:35.692806Z"
    },
    "papermill": {
     "duration": 0.390326,
     "end_time": "2022-11-05T16:25:35.695863",
     "exception": false,
     "start_time": "2022-11-05T16:25:35.305537",
     "status": "completed"
    },
    "tags": []
   },
   "outputs": [
    {
     "data": {
      "image/png": "[encoded data removed]",
      "text/plain": [
       "<Figure size 360x360 with 1 Axes>"
      ]
     },
     "metadata": {
      "needs_background": "light"
     },
     "output_type": "display_data"
    }
   ],
   "source": [
    "sns.catplot(x = \"fuel\", y = \"selling_price\", data = df); # Yorum ; Dizel Araclarin Diger Araclara Oranla Daha Pahali Fiyatlara Satildigini Gormekteyiz"
   ]
  },
  {
   "cell_type": "code",
   "execution_count": 27,
   "id": "82ed661d",
   "metadata": {
    "execution": {
     "iopub.execute_input": "2022-11-05T16:25:35.720912Z",
     "iopub.status.busy": "2022-11-05T16:25:35.720334Z",
     "iopub.status.idle": "2022-11-05T16:25:36.405448Z",
     "shell.execute_reply": "2022-11-05T16:25:36.404289Z"
    },
    "papermill": {
     "duration": 0.700396,
     "end_time": "2022-11-05T16:25:36.407885",
     "exception": false,
     "start_time": "2022-11-05T16:25:35.707489",
     "status": "completed"
    },
    "tags": []
   },
   "outputs": [
    {
     "data": {
      "image/png": "[encoded data removed]",
      "text/plain": [
       "<Figure size 432x288 with 1 Axes>"
      ]
     },
     "metadata": {
      "needs_background": "light"
     },
     "output_type": "display_data"
    }
   ],
   "source": [
    "sns.barplot(x = \"year\", y = \"selling_price\", hue = \"fuel\", data = df.head(30)); # 3 Degiskeni Grafikte Gosterdik\n",
    "# Yorum ; 2018 Yilinda Petrol Ile Calisan Araclarin Diger Araclara Oranla Daha Fazla Oldugu Gozlenmektedir"
   ]
  },
  {
   "cell_type": "code",
   "execution_count": 28,
   "id": "53c29752",
   "metadata": {
    "execution": {
     "iopub.execute_input": "2022-11-05T16:25:36.433866Z",
     "iopub.status.busy": "2022-11-05T16:25:36.433428Z",
     "iopub.status.idle": "2022-11-05T16:25:36.610964Z",
     "shell.execute_reply": "2022-11-05T16:25:36.609838Z"
    },
    "papermill": {
     "duration": 0.193455,
     "end_time": "2022-11-05T16:25:36.613445",
     "exception": false,
     "start_time": "2022-11-05T16:25:36.419990",
     "status": "completed"
    },
    "tags": []
   },
   "outputs": [
    {
     "data": {
      "image/png": "[encoded data removed]",
      "text/plain": [
       "<Figure size 432x288 with 1 Axes>"
      ]
     },
     "metadata": {
      "needs_background": "light"
     },
     "output_type": "display_data"
    }
   ],
   "source": [
    "sns.boxplot(x = df.selling_price); # Satis Fiyatlari Gorsellestirilmistir\n",
    "\n",
    "# Yorum ; Bircok Degerin Aykiri Deger Oldugu Gozlenmektedir"
   ]
  }
 ],
 "metadata": {
  "kernelspec": {
   "display_name": "Python 3",
   "language": "python",
   "name": "python3"
  },
  "language_info": {
   "codemirror_mode": {
    "name": "ipython",
    "version": 3
   },
   "file_extension": ".py",
   "mimetype": "text/x-python",
   "name": "python",
   "nbconvert_exporter": "python",
   "pygments_lexer": "ipython3",
   "version": "3.7.12"
  },
  "papermill": {
   "default_parameters": {},
   "duration": 13.99255,
   "end_time": "2022-11-05T16:25:37.347195",
   "environment_variables": {},
   "exception": null,
   "input_path": "__notebook__.ipynb",
   "output_path": "__notebook__.ipynb",
   "parameters": {},
   "start_time": "2022-11-05T16:25:23.354645",
   "version": "2.3.4"
  }
 },
 "nbformat": 4,
 "nbformat_minor": 5
}
