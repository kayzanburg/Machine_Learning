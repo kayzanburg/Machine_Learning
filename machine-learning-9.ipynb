{
 "cells": [
  {
   "cell_type": "code",
   "execution_count": 1,
   "id": "1381a031",
   "metadata": {
    "_cell_guid": "b1076dfc-b9ad-4769-8c92-a6c4dae69d19",
    "_uuid": "8f2839f25d086af736a60e9eeb907d3b93b6e0e5",
    "execution": {
     "iopub.execute_input": "2022-05-07T01:58:37.471869Z",
     "iopub.status.busy": "2022-05-07T01:58:37.471289Z",
     "iopub.status.idle": "2022-05-07T01:58:37.476013Z",
     "shell.execute_reply": "2022-05-07T01:58:37.475168Z"
    },
    "papermill": {
     "duration": 0.097012,
     "end_time": "2022-05-07T01:58:37.478377",
     "exception": false,
     "start_time": "2022-05-07T01:58:37.381365",
     "status": "completed"
    },
    "tags": []
   },
   "outputs": [],
   "source": [
    "# -- Eksik Gozlem Analizi --\n",
    "\n",
    "# Eksik Gozlemler Genelde ( NA ) Olarak Gozlemlenmektedir\n",
    "# Bu Eksiklikten Nasil Kurtulabiliriz ---->> Ya O Satiri Komple Silebiliriz Yada Bazi Yontemler Kullanarak ( NA ) Olan Yeri Doldurabiliriz Fakat Bu Doldurma Islemlerini Yaparken Bazi Aksakliklar Meydana\n",
    "# Gelebiliyor Simdi Bu Durumlari Incelicez"
   ]
  },
  {
   "cell_type": "markdown",
   "id": "ebe138b8",
   "metadata": {
    "papermill": {
     "duration": 0.084397,
     "end_time": "2022-05-07T01:58:37.650692",
     "exception": false,
     "start_time": "2022-05-07T01:58:37.566295",
     "status": "completed"
    },
    "tags": []
   },
   "source": [
    "# Eksik Veriyi Direk Silmenin Zararlari"
   ]
  },
  {
   "cell_type": "code",
   "execution_count": 2,
   "id": "2a22e39e",
   "metadata": {
    "execution": {
     "iopub.execute_input": "2022-05-07T01:58:37.820888Z",
     "iopub.status.busy": "2022-05-07T01:58:37.820476Z",
     "iopub.status.idle": "2022-05-07T01:58:37.823510Z",
     "shell.execute_reply": "2022-05-07T01:58:37.822738Z"
    },
    "papermill": {
     "duration": 0.089801,
     "end_time": "2022-05-07T01:58:37.825380",
     "exception": false,
     "start_time": "2022-05-07T01:58:37.735579",
     "status": "completed"
    },
    "tags": []
   },
   "outputs": [],
   "source": [
    "# Eksik degere sahip gozlemlerin veri setinden direk cikarilmasi ve rassalliginin incelenmemesi yapilacak istatistiksel cikarimlarin, modelleme calismalarinin guvenilirligini dusurecektir. (Alpar, 2011)\n",
    "# Demis Bi Tane Adam"
   ]
  },
  {
   "cell_type": "code",
   "execution_count": 3,
   "id": "6b878916",
   "metadata": {
    "execution": {
     "iopub.execute_input": "2022-05-07T01:58:37.996524Z",
     "iopub.status.busy": "2022-05-07T01:58:37.996059Z",
     "iopub.status.idle": "2022-05-07T01:58:37.999161Z",
     "shell.execute_reply": "2022-05-07T01:58:37.998608Z"
    },
    "papermill": {
     "duration": 0.090995,
     "end_time": "2022-05-07T01:58:38.001095",
     "exception": false,
     "start_time": "2022-05-07T01:58:37.910100",
     "status": "completed"
    },
    "tags": []
   },
   "outputs": [],
   "source": [
    "# Baska Bir Cumle\n",
    "\n",
    "# Eksik gozlemlerin veri setinden direk cikarilabilmesi icin veri setindeki eksikligin bazi durumlarda kismen bazi durumlarda tamamen rastlantisal olarak\n",
    "# olusmus olmasi gerekmektedir. Eger eksiklikler degiskenler ile iliskili olarak ortaya cikan yapisal problemler ile meydana gelmis ise bu durumda yapilacak\n",
    "# silme islemleri ciddi yanliliklara sebep olabilecektir. (Tabachnick ve Fidell, 1996)\n",
    "\n",
    "# Demis Baska Bi Tane Adam"
   ]
  },
  {
   "cell_type": "code",
   "execution_count": 4,
   "id": "fe05dfb0",
   "metadata": {
    "execution": {
     "iopub.execute_input": "2022-05-07T01:58:38.173386Z",
     "iopub.status.busy": "2022-05-07T01:58:38.172966Z",
     "iopub.status.idle": "2022-05-07T01:58:38.176300Z",
     "shell.execute_reply": "2022-05-07T01:58:38.175535Z"
    },
    "papermill": {
     "duration": 0.090665,
     "end_time": "2022-05-07T01:58:38.178283",
     "exception": false,
     "start_time": "2022-05-07T01:58:38.087618",
     "status": "completed"
    },
    "tags": []
   },
   "outputs": [],
   "source": [
    "# Peki Bu Durumda Ne Yapmamiz Gerekir\n",
    "\n",
    "# 1-) Veri Setindeki Eksikligin Yapisal Bir Eksiklik Olup Olmadiginin Bilinmesi Gerekir ( Rasgele de Olusmus Olabilir ) ( Biz Bu Durum Nasil Oldu Onu Ariyoruz )"
   ]
  },
  {
   "cell_type": "code",
   "execution_count": 5,
   "id": "e984321a",
   "metadata": {
    "execution": {
     "iopub.execute_input": "2022-05-07T01:58:38.346699Z",
     "iopub.status.busy": "2022-05-07T01:58:38.346434Z",
     "iopub.status.idle": "2022-05-07T01:58:38.350124Z",
     "shell.execute_reply": "2022-05-07T01:58:38.349274Z"
    },
    "papermill": {
     "duration": 0.08985,
     "end_time": "2022-05-07T01:58:38.351903",
     "exception": false,
     "start_time": "2022-05-07T01:58:38.262053",
     "status": "completed"
    },
    "tags": []
   },
   "outputs": [],
   "source": [
    "# Mesela Toplam Kredi Karti Harcamasinda NA Degeri Varsa Bunun Sebebi Kredi Karti Olmamasi Olabilir ( Yapisal Bir Problem )"
   ]
  },
  {
   "cell_type": "code",
   "execution_count": 6,
   "id": "d117ed91",
   "metadata": {
    "execution": {
     "iopub.execute_input": "2022-05-07T01:58:38.519996Z",
     "iopub.status.busy": "2022-05-07T01:58:38.519726Z",
     "iopub.status.idle": "2022-05-07T01:58:38.522948Z",
     "shell.execute_reply": "2022-05-07T01:58:38.522149Z"
    },
    "papermill": {
     "duration": 0.089683,
     "end_time": "2022-05-07T01:58:38.524862",
     "exception": false,
     "start_time": "2022-05-07T01:58:38.435179",
     "status": "completed"
    },
    "tags": []
   },
   "outputs": [],
   "source": [
    "# 2-) NA Her Zaman Eksiklik Anlamina Gelmez\n",
    "\n",
    "# Mesela Toplam Kredi Karti Harcamasinda NA Degeri Varsa Ve Kredi Karti Oldugunu Varsayalim Bunun Sebebi Belkide O Ay Kredi Karti Ile Harcama Yapmamasi Olabilir Bu Durumda NA Degeri 0 (Sifir) Degeri Alir"
   ]
  },
  {
   "cell_type": "code",
   "execution_count": 7,
   "id": "f75476f4",
   "metadata": {
    "execution": {
     "iopub.execute_input": "2022-05-07T01:58:38.694321Z",
     "iopub.status.busy": "2022-05-07T01:58:38.693429Z",
     "iopub.status.idle": "2022-05-07T01:58:38.697131Z",
     "shell.execute_reply": "2022-05-07T01:58:38.696562Z"
    },
    "papermill": {
     "duration": 0.089751,
     "end_time": "2022-05-07T01:58:38.698899",
     "exception": false,
     "start_time": "2022-05-07T01:58:38.609148",
     "status": "completed"
    },
    "tags": []
   },
   "outputs": [],
   "source": [
    "# 3-) Bilgi Kaybi\n",
    "\n",
    "# Mesela Bir Suru Kisinin Oldugu 100 Tane Degiskenin Oldugu Bir Data_Frame Dusun, Mesela Bi Kisiye Odaklan, Bu Kisi Hakkinda 100 Tane Farkli Veri Var Ve 1 Tanesi NA Degerine Sahip, Eger Sen NA Degerini\n",
    "# Yok Edicem Diye Komple O Kisiyi Silersen Bu Kisi Hakkinda 99 Tane Dolu Olan Bilgiyi Silmis Olursun ( Hatali Bi Islem Yapmis Olursun ) ( Eger Silersek Cok Ciddi Bilgi Kaybina Sebep Olmus Oluyoruz )"
   ]
  },
  {
   "cell_type": "markdown",
   "id": "e6f0bb2e",
   "metadata": {
    "papermill": {
     "duration": 0.084248,
     "end_time": "2022-05-07T01:58:38.866960",
     "exception": false,
     "start_time": "2022-05-07T01:58:38.782712",
     "status": "completed"
    },
    "tags": []
   },
   "source": [
    "# Eksik Veri Turleri Nelerdir"
   ]
  },
  {
   "cell_type": "code",
   "execution_count": 8,
   "id": "33c43247",
   "metadata": {
    "execution": {
     "iopub.execute_input": "2022-05-07T01:58:39.036750Z",
     "iopub.status.busy": "2022-05-07T01:58:39.036227Z",
     "iopub.status.idle": "2022-05-07T01:58:39.039910Z",
     "shell.execute_reply": "2022-05-07T01:58:39.039209Z"
    },
    "papermill": {
     "duration": 0.090588,
     "end_time": "2022-05-07T01:58:39.041866",
     "exception": false,
     "start_time": "2022-05-07T01:58:38.951278",
     "status": "completed"
    },
    "tags": []
   },
   "outputs": [],
   "source": [
    "# Tumuyle Raslantisal Kayip: Diger degiskenlerden ya da yapisal bir problemden kaynaklanmayan tamamen rastgele olusan gozlemler. ( En Sevdigimiz Kayip Turudur )\n",
    "# Raslantisal Kayip: Diger Degiskenlere Bagli Olarak Olusabilen Eksiklik Turu ( Diger Degiskenlerle Bagli Oldugu Senaryolarda Hoslanmadigimiz Bir Kayip Turu )\n",
    "# Raslantisal Olmayan Kayip: Goz Ardi Edilemeyecek Olan Ve Yapisal Problemler Ile Ortaya Cikan Eksiklik Turu ( Bu En Sevmedigimiz Kayip Turu ) ----->>\n",
    "# ----->> ( hem Diger Degiskenlere Baglilik Ile, hemde Mantiksal ( Gurultusel ) Anlamda Bazi Proglemler Ile de Ortaya Cikmis Olabilir )"
   ]
  },
  {
   "cell_type": "markdown",
   "id": "c937edea",
   "metadata": {
    "papermill": {
     "duration": 0.084773,
     "end_time": "2022-05-07T01:58:39.211408",
     "exception": false,
     "start_time": "2022-05-07T01:58:39.126635",
     "status": "completed"
    },
    "tags": []
   },
   "source": [
    "# Eksik Veri Rassalliginin Testi\n",
    "\n",
    "* Gorsel Teknikler\n",
    "* Bagimsiz Iki Orneklem T Testi\n",
    "* Korelasyon Testi\n",
    "* Little'nin MCAR Testi"
   ]
  },
  {
   "cell_type": "code",
   "execution_count": 9,
   "id": "e67bc120",
   "metadata": {
    "execution": {
     "iopub.execute_input": "2022-05-07T01:58:39.382196Z",
     "iopub.status.busy": "2022-05-07T01:58:39.381639Z",
     "iopub.status.idle": "2022-05-07T01:58:39.384878Z",
     "shell.execute_reply": "2022-05-07T01:58:39.384241Z"
    },
    "papermill": {
     "duration": 0.091152,
     "end_time": "2022-05-07T01:58:39.386584",
     "exception": false,
     "start_time": "2022-05-07T01:58:39.295432",
     "status": "completed"
    },
    "tags": []
   },
   "outputs": [],
   "source": [
    "# Burada Pratikte Uygulanan Genellikle Iki Yontem Vardir\n",
    "# 1-) Gorsel Teknikler\n",
    "# 2-) Little'nin MCAR Testi"
   ]
  },
  {
   "cell_type": "markdown",
   "id": "946d80de",
   "metadata": {
    "papermill": {
     "duration": 0.083008,
     "end_time": "2022-05-07T01:58:39.552929",
     "exception": false,
     "start_time": "2022-05-07T01:58:39.469921",
     "status": "completed"
    },
    "tags": []
   },
   "source": [
    "# Eksik Veri Problemi Nasil Giderilir"
   ]
  },
  {
   "cell_type": "code",
   "execution_count": 10,
   "id": "5c5e3e33",
   "metadata": {
    "execution": {
     "iopub.execute_input": "2022-05-07T01:58:39.722117Z",
     "iopub.status.busy": "2022-05-07T01:58:39.721575Z",
     "iopub.status.idle": "2022-05-07T01:58:39.724685Z",
     "shell.execute_reply": "2022-05-07T01:58:39.724160Z"
    },
    "papermill": {
     "duration": 0.089593,
     "end_time": "2022-05-07T01:58:39.726530",
     "exception": false,
     "start_time": "2022-05-07T01:58:39.636937",
     "status": "completed"
    },
    "tags": []
   },
   "outputs": [],
   "source": [
    "# Burada Onemli Bir Durum Var \n",
    "\n",
    "# ( Guzel Bir Soz ) Atama Fikri Hem Cekicidir Hemde Tehlikelidir --->> ( Peki Bu Ne Demek ) --->> Eger Biz Yanlis Bir Sey Atarsak Ilk Halinden Daha Kotu Hale Getirebiliriz ( Yanliliga Sebep Olabiliriz )\n",
    "# Yani Yanlislikla Veri Yapisi Bozulmus, Daha Yanli, Daha Gurultulu Bir Hale Getirebiliriz ( Istemedigimiz Bir Seydir )"
   ]
  },
  {
   "cell_type": "markdown",
   "id": "00d88bda",
   "metadata": {
    "papermill": {
     "duration": 0.083201,
     "end_time": "2022-05-07T01:58:39.893429",
     "exception": false,
     "start_time": "2022-05-07T01:58:39.810228",
     "status": "completed"
    },
    "tags": []
   },
   "source": [
    "### Silme Yontemleri\n",
    "* Gozlem ya da degisken silme yontemi\n",
    "* Liste bazinda silme yontemi (Listwise Method)\n",
    "* Ciftler bazinda silme yontemi (Pairwise Method)"
   ]
  },
  {
   "cell_type": "code",
   "execution_count": 11,
   "id": "3f70d2e7",
   "metadata": {
    "execution": {
     "iopub.execute_input": "2022-05-07T01:58:40.063418Z",
     "iopub.status.busy": "2022-05-07T01:58:40.062894Z",
     "iopub.status.idle": "2022-05-07T01:58:40.065958Z",
     "shell.execute_reply": "2022-05-07T01:58:40.065347Z"
    },
    "papermill": {
     "duration": 0.090908,
     "end_time": "2022-05-07T01:58:40.067602",
     "exception": false,
     "start_time": "2022-05-07T01:58:39.976694",
     "status": "completed"
    },
    "tags": []
   },
   "outputs": [],
   "source": [
    "# Eksikligini Saptamis Oldugumuz Bir Degiskenin Icerisinde %70 Civarinda Bir Eksiklik Varsa Bu Degiskeni Komple Silmis Olucaz\n",
    "# Yada Bi Gozlem Biriminin Belirli Bir Orandan Fazla Eksiklik Varsa ( Mesela; Bu %50 Veya %60 Olabilir ) Bu Durumda Bu Gozlemide Direk Silmis Olucaz"
   ]
  },
  {
   "cell_type": "markdown",
   "id": "0adcac17",
   "metadata": {
    "papermill": {
     "duration": 0.082823,
     "end_time": "2022-05-07T01:58:40.234332",
     "exception": false,
     "start_time": "2022-05-07T01:58:40.151509",
     "status": "completed"
    },
    "tags": []
   },
   "source": [
    "### Deger Atama Yontemleri\n",
    "* Ortanca, ortalama, medyan\n",
    "* En Benzer Birime Atama (hot deck)\n",
    "* Dis Kaynakli Atama\n",
    "\n",
    "\n",
    "### Tahmine Dayali Yontemler\n",
    "* Makine Ogrenmesi\n",
    "* EM\n",
    "* Coklu Atama yontemi"
   ]
  },
  {
   "cell_type": "code",
   "execution_count": 12,
   "id": "e29d7d9d",
   "metadata": {
    "execution": {
     "iopub.execute_input": "2022-05-07T01:58:40.402309Z",
     "iopub.status.busy": "2022-05-07T01:58:40.401780Z",
     "iopub.status.idle": "2022-05-07T01:58:40.404888Z",
     "shell.execute_reply": "2022-05-07T01:58:40.404307Z"
    },
    "papermill": {
     "duration": 0.089191,
     "end_time": "2022-05-07T01:58:40.406629",
     "exception": false,
     "start_time": "2022-05-07T01:58:40.317438",
     "status": "completed"
    },
    "tags": []
   },
   "outputs": [],
   "source": [
    "# Eksik Veri Analizi Burada Bitti Uygulama Islemlerine Geciyorum"
   ]
  },
  {
   "cell_type": "markdown",
   "id": "38be3bd1",
   "metadata": {
    "papermill": {
     "duration": 0.084801,
     "end_time": "2022-05-07T01:58:40.576134",
     "exception": false,
     "start_time": "2022-05-07T01:58:40.491333",
     "status": "completed"
    },
    "tags": []
   },
   "source": [
    "# Eksik Veri Analizi\n",
    "\n",
    "### Eksik Veri Problemlerine ( Hizli Cozum )"
   ]
  },
  {
   "cell_type": "code",
   "execution_count": 13,
   "id": "be8a441f",
   "metadata": {
    "execution": {
     "iopub.execute_input": "2022-05-07T01:58:40.744860Z",
     "iopub.status.busy": "2022-05-07T01:58:40.744267Z",
     "iopub.status.idle": "2022-05-07T01:58:40.776109Z",
     "shell.execute_reply": "2022-05-07T01:58:40.775069Z"
    },
    "papermill": {
     "duration": 0.118976,
     "end_time": "2022-05-07T01:58:40.778764",
     "exception": false,
     "start_time": "2022-05-07T01:58:40.659788",
     "status": "completed"
    },
    "tags": []
   },
   "outputs": [
    {
     "data": {
      "text/html": [
       "<div>\n",
       "<style scoped>\n",
       "    .dataframe tbody tr th:only-of-type {\n",
       "        vertical-align: middle;\n",
       "    }\n",
       "\n",
       "    .dataframe tbody tr th {\n",
       "        vertical-align: top;\n",
       "    }\n",
       "\n",
       "    .dataframe thead th {\n",
       "        text-align: right;\n",
       "    }\n",
       "</style>\n",
       "<table border=\"1\" class=\"dataframe\">\n",
       "  <thead>\n",
       "    <tr style=\"text-align: right;\">\n",
       "      <th></th>\n",
       "      <th>V1</th>\n",
       "      <th>V2</th>\n",
       "      <th>V3</th>\n",
       "    </tr>\n",
       "  </thead>\n",
       "  <tbody>\n",
       "    <tr>\n",
       "      <th>0</th>\n",
       "      <td>1.0</td>\n",
       "      <td>7.0</td>\n",
       "      <td>NaN</td>\n",
       "    </tr>\n",
       "    <tr>\n",
       "      <th>1</th>\n",
       "      <td>3.0</td>\n",
       "      <td>NaN</td>\n",
       "      <td>12.0</td>\n",
       "    </tr>\n",
       "    <tr>\n",
       "      <th>2</th>\n",
       "      <td>6.0</td>\n",
       "      <td>5.0</td>\n",
       "      <td>5.0</td>\n",
       "    </tr>\n",
       "    <tr>\n",
       "      <th>3</th>\n",
       "      <td>NaN</td>\n",
       "      <td>8.0</td>\n",
       "      <td>6.0</td>\n",
       "    </tr>\n",
       "    <tr>\n",
       "      <th>4</th>\n",
       "      <td>7.0</td>\n",
       "      <td>12.0</td>\n",
       "      <td>14.0</td>\n",
       "    </tr>\n",
       "    <tr>\n",
       "      <th>5</th>\n",
       "      <td>1.0</td>\n",
       "      <td>NaN</td>\n",
       "      <td>7.0</td>\n",
       "    </tr>\n",
       "    <tr>\n",
       "      <th>6</th>\n",
       "      <td>NaN</td>\n",
       "      <td>NaN</td>\n",
       "      <td>NaN</td>\n",
       "    </tr>\n",
       "    <tr>\n",
       "      <th>7</th>\n",
       "      <td>9.0</td>\n",
       "      <td>2.0</td>\n",
       "      <td>2.0</td>\n",
       "    </tr>\n",
       "    <tr>\n",
       "      <th>8</th>\n",
       "      <td>15.0</td>\n",
       "      <td>3.0</td>\n",
       "      <td>31.0</td>\n",
       "    </tr>\n",
       "  </tbody>\n",
       "</table>\n",
       "</div>"
      ],
      "text/plain": [
       "     V1    V2    V3\n",
       "0   1.0   7.0   NaN\n",
       "1   3.0   NaN  12.0\n",
       "2   6.0   5.0   5.0\n",
       "3   NaN   8.0   6.0\n",
       "4   7.0  12.0  14.0\n",
       "5   1.0   NaN   7.0\n",
       "6   NaN   NaN   NaN\n",
       "7   9.0   2.0   2.0\n",
       "8  15.0   3.0  31.0"
      ]
     },
     "execution_count": 13,
     "metadata": {},
     "output_type": "execute_result"
    }
   ],
   "source": [
    "import numpy as np\n",
    "import pandas as pd\n",
    "V1 = np.array([1,3,6,np.NaN,7,1,np.NaN,9,15])\n",
    "V2 = np.array([7,np.NaN,5,8,12,np.NaN,np.NaN,2,3])\n",
    "V3 = np.array([np.NaN,12,5,6,14,7,np.NaN,2,31])\n",
    "df = pd.DataFrame(\n",
    "        {\"V1\" : V1,\n",
    "         \"V2\" : V2,\n",
    "         \"V3\" : V3}        \n",
    ")\n",
    "\n",
    "df"
   ]
  },
  {
   "cell_type": "code",
   "execution_count": 14,
   "id": "e0609ba6",
   "metadata": {
    "execution": {
     "iopub.execute_input": "2022-05-07T01:58:40.949122Z",
     "iopub.status.busy": "2022-05-07T01:58:40.948819Z",
     "iopub.status.idle": "2022-05-07T01:58:40.957006Z",
     "shell.execute_reply": "2022-05-07T01:58:40.956206Z"
    },
    "papermill": {
     "duration": 0.096513,
     "end_time": "2022-05-07T01:58:40.959429",
     "exception": false,
     "start_time": "2022-05-07T01:58:40.862916",
     "status": "completed"
    },
    "tags": []
   },
   "outputs": [
    {
     "data": {
      "text/plain": [
       "V1    2\n",
       "V2    3\n",
       "V3    2\n",
       "dtype: int64"
      ]
     },
     "execution_count": 14,
     "metadata": {},
     "output_type": "execute_result"
    }
   ],
   "source": [
    "# Degiskenlerdeki Eksik Degerlere Bi Erismek Istiyorum Dersek ( Sayisina )\n",
    "\n",
    "df.isnull().sum() # Her Bir Degiskendeki Eksik Deger Sayisini Verdi"
   ]
  },
  {
   "cell_type": "code",
   "execution_count": 15,
   "id": "41ef32f9",
   "metadata": {
    "execution": {
     "iopub.execute_input": "2022-05-07T01:58:41.131415Z",
     "iopub.status.busy": "2022-05-07T01:58:41.130763Z",
     "iopub.status.idle": "2022-05-07T01:58:41.137958Z",
     "shell.execute_reply": "2022-05-07T01:58:41.137324Z"
    },
    "papermill": {
     "duration": 0.095543,
     "end_time": "2022-05-07T01:58:41.139781",
     "exception": false,
     "start_time": "2022-05-07T01:58:41.044238",
     "status": "completed"
    },
    "tags": []
   },
   "outputs": [
    {
     "data": {
      "text/plain": [
       "V1    7\n",
       "V2    6\n",
       "V3    7\n",
       "dtype: int64"
      ]
     },
     "execution_count": 15,
     "metadata": {},
     "output_type": "execute_result"
    }
   ],
   "source": [
    "# Degiskenlerdeki Tam ( Eksik Olmayan, Bos Olmayan ) Degerlere Erismek Istiyorum Dersek ( Sayisina )\n",
    "\n",
    "df.notnull().sum() # Tam Olan Sayiyi Bize Verdi"
   ]
  },
  {
   "cell_type": "code",
   "execution_count": 16,
   "id": "86f25997",
   "metadata": {
    "execution": {
     "iopub.execute_input": "2022-05-07T01:58:41.312639Z",
     "iopub.status.busy": "2022-05-07T01:58:41.312025Z",
     "iopub.status.idle": "2022-05-07T01:58:41.319222Z",
     "shell.execute_reply": "2022-05-07T01:58:41.318274Z"
    },
    "papermill": {
     "duration": 0.095557,
     "end_time": "2022-05-07T01:58:41.321312",
     "exception": false,
     "start_time": "2022-05-07T01:58:41.225755",
     "status": "completed"
    },
    "tags": []
   },
   "outputs": [
    {
     "data": {
      "text/plain": [
       "7"
      ]
     },
     "execution_count": 16,
     "metadata": {},
     "output_type": "execute_result"
    }
   ],
   "source": [
    "# Butun Veri Setindeki Toplam Eksik Degerler Sayisina Erismek Istersek ( Sayisina )\n",
    "\n",
    "df.isnull().sum().sum() # Toplam Eksik Sayiyi Bize Verdi"
   ]
  },
  {
   "cell_type": "code",
   "execution_count": 17,
   "id": "9fd60423",
   "metadata": {
    "execution": {
     "iopub.execute_input": "2022-05-07T01:58:41.496434Z",
     "iopub.status.busy": "2022-05-07T01:58:41.495842Z",
     "iopub.status.idle": "2022-05-07T01:58:41.505976Z",
     "shell.execute_reply": "2022-05-07T01:58:41.505009Z"
    },
    "papermill": {
     "duration": 0.099534,
     "end_time": "2022-05-07T01:58:41.508008",
     "exception": false,
     "start_time": "2022-05-07T01:58:41.408474",
     "status": "completed"
    },
    "tags": []
   },
   "outputs": [
    {
     "data": {
      "text/html": [
       "<div>\n",
       "<style scoped>\n",
       "    .dataframe tbody tr th:only-of-type {\n",
       "        vertical-align: middle;\n",
       "    }\n",
       "\n",
       "    .dataframe tbody tr th {\n",
       "        vertical-align: top;\n",
       "    }\n",
       "\n",
       "    .dataframe thead th {\n",
       "        text-align: right;\n",
       "    }\n",
       "</style>\n",
       "<table border=\"1\" class=\"dataframe\">\n",
       "  <thead>\n",
       "    <tr style=\"text-align: right;\">\n",
       "      <th></th>\n",
       "      <th>V1</th>\n",
       "      <th>V2</th>\n",
       "      <th>V3</th>\n",
       "    </tr>\n",
       "  </thead>\n",
       "  <tbody>\n",
       "    <tr>\n",
       "      <th>0</th>\n",
       "      <td>False</td>\n",
       "      <td>False</td>\n",
       "      <td>True</td>\n",
       "    </tr>\n",
       "    <tr>\n",
       "      <th>1</th>\n",
       "      <td>False</td>\n",
       "      <td>True</td>\n",
       "      <td>False</td>\n",
       "    </tr>\n",
       "    <tr>\n",
       "      <th>2</th>\n",
       "      <td>False</td>\n",
       "      <td>False</td>\n",
       "      <td>False</td>\n",
       "    </tr>\n",
       "    <tr>\n",
       "      <th>3</th>\n",
       "      <td>True</td>\n",
       "      <td>False</td>\n",
       "      <td>False</td>\n",
       "    </tr>\n",
       "    <tr>\n",
       "      <th>4</th>\n",
       "      <td>False</td>\n",
       "      <td>False</td>\n",
       "      <td>False</td>\n",
       "    </tr>\n",
       "    <tr>\n",
       "      <th>5</th>\n",
       "      <td>False</td>\n",
       "      <td>True</td>\n",
       "      <td>False</td>\n",
       "    </tr>\n",
       "    <tr>\n",
       "      <th>6</th>\n",
       "      <td>True</td>\n",
       "      <td>True</td>\n",
       "      <td>True</td>\n",
       "    </tr>\n",
       "    <tr>\n",
       "      <th>7</th>\n",
       "      <td>False</td>\n",
       "      <td>False</td>\n",
       "      <td>False</td>\n",
       "    </tr>\n",
       "    <tr>\n",
       "      <th>8</th>\n",
       "      <td>False</td>\n",
       "      <td>False</td>\n",
       "      <td>False</td>\n",
       "    </tr>\n",
       "  </tbody>\n",
       "</table>\n",
       "</div>"
      ],
      "text/plain": [
       "      V1     V2     V3\n",
       "0  False  False   True\n",
       "1  False   True  False\n",
       "2  False  False  False\n",
       "3   True  False  False\n",
       "4  False  False  False\n",
       "5  False   True  False\n",
       "6   True   True   True\n",
       "7  False  False  False\n",
       "8  False  False  False"
      ]
     },
     "execution_count": 17,
     "metadata": {},
     "output_type": "execute_result"
    }
   ],
   "source": [
    "# Simdi Bos Olan Gozlem Birimlerine Ulasma Islemini Yapicaz\n",
    "\n",
    "df.isnull() # Eksiklik Varmi, Yokmu Diye Sorduk"
   ]
  },
  {
   "cell_type": "code",
   "execution_count": 18,
   "id": "d9aa8dff",
   "metadata": {
    "execution": {
     "iopub.execute_input": "2022-05-07T01:58:41.681509Z",
     "iopub.status.busy": "2022-05-07T01:58:41.681124Z",
     "iopub.status.idle": "2022-05-07T01:58:41.696923Z",
     "shell.execute_reply": "2022-05-07T01:58:41.695825Z"
    },
    "papermill": {
     "duration": 0.105011,
     "end_time": "2022-05-07T01:58:41.699104",
     "exception": false,
     "start_time": "2022-05-07T01:58:41.594093",
     "status": "completed"
    },
    "tags": []
   },
   "outputs": [
    {
     "data": {
      "text/html": [
       "<div>\n",
       "<style scoped>\n",
       "    .dataframe tbody tr th:only-of-type {\n",
       "        vertical-align: middle;\n",
       "    }\n",
       "\n",
       "    .dataframe tbody tr th {\n",
       "        vertical-align: top;\n",
       "    }\n",
       "\n",
       "    .dataframe thead th {\n",
       "        text-align: right;\n",
       "    }\n",
       "</style>\n",
       "<table border=\"1\" class=\"dataframe\">\n",
       "  <thead>\n",
       "    <tr style=\"text-align: right;\">\n",
       "      <th></th>\n",
       "      <th>V1</th>\n",
       "      <th>V2</th>\n",
       "      <th>V3</th>\n",
       "    </tr>\n",
       "  </thead>\n",
       "  <tbody>\n",
       "    <tr>\n",
       "      <th>0</th>\n",
       "      <td>1.0</td>\n",
       "      <td>7.0</td>\n",
       "      <td>NaN</td>\n",
       "    </tr>\n",
       "    <tr>\n",
       "      <th>1</th>\n",
       "      <td>3.0</td>\n",
       "      <td>NaN</td>\n",
       "      <td>12.0</td>\n",
       "    </tr>\n",
       "    <tr>\n",
       "      <th>3</th>\n",
       "      <td>NaN</td>\n",
       "      <td>8.0</td>\n",
       "      <td>6.0</td>\n",
       "    </tr>\n",
       "    <tr>\n",
       "      <th>5</th>\n",
       "      <td>1.0</td>\n",
       "      <td>NaN</td>\n",
       "      <td>7.0</td>\n",
       "    </tr>\n",
       "    <tr>\n",
       "      <th>6</th>\n",
       "      <td>NaN</td>\n",
       "      <td>NaN</td>\n",
       "      <td>NaN</td>\n",
       "    </tr>\n",
       "  </tbody>\n",
       "</table>\n",
       "</div>"
      ],
      "text/plain": [
       "    V1   V2    V3\n",
       "0  1.0  7.0   NaN\n",
       "1  3.0  NaN  12.0\n",
       "3  NaN  8.0   6.0\n",
       "5  1.0  NaN   7.0\n",
       "6  NaN  NaN   NaN"
      ]
     },
     "execution_count": 18,
     "metadata": {},
     "output_type": "execute_result"
    }
   ],
   "source": [
    "df[df.isnull().any(axis = 1)] # .any(axis = 1) Ifadesinin Anlami :  En Az Bir Tane Eksik Deger Varsa Sec Demis Olucaz ---->> ( En Az 1 Tane Eksik Ifade Icerenler Gelecek )"
   ]
  },
  {
   "cell_type": "code",
   "execution_count": 19,
   "id": "bc3553e5",
   "metadata": {
    "execution": {
     "iopub.execute_input": "2022-05-07T01:58:41.877151Z",
     "iopub.status.busy": "2022-05-07T01:58:41.876866Z",
     "iopub.status.idle": "2022-05-07T01:58:41.888654Z",
     "shell.execute_reply": "2022-05-07T01:58:41.888065Z"
    },
    "papermill": {
     "duration": 0.101952,
     "end_time": "2022-05-07T01:58:41.890798",
     "exception": false,
     "start_time": "2022-05-07T01:58:41.788846",
     "status": "completed"
    },
    "tags": []
   },
   "outputs": [
    {
     "data": {
      "text/html": [
       "<div>\n",
       "<style scoped>\n",
       "    .dataframe tbody tr th:only-of-type {\n",
       "        vertical-align: middle;\n",
       "    }\n",
       "\n",
       "    .dataframe tbody tr th {\n",
       "        vertical-align: top;\n",
       "    }\n",
       "\n",
       "    .dataframe thead th {\n",
       "        text-align: right;\n",
       "    }\n",
       "</style>\n",
       "<table border=\"1\" class=\"dataframe\">\n",
       "  <thead>\n",
       "    <tr style=\"text-align: right;\">\n",
       "      <th></th>\n",
       "      <th>V1</th>\n",
       "      <th>V2</th>\n",
       "      <th>V3</th>\n",
       "    </tr>\n",
       "  </thead>\n",
       "  <tbody>\n",
       "    <tr>\n",
       "      <th>2</th>\n",
       "      <td>6.0</td>\n",
       "      <td>5.0</td>\n",
       "      <td>5.0</td>\n",
       "    </tr>\n",
       "    <tr>\n",
       "      <th>4</th>\n",
       "      <td>7.0</td>\n",
       "      <td>12.0</td>\n",
       "      <td>14.0</td>\n",
       "    </tr>\n",
       "    <tr>\n",
       "      <th>7</th>\n",
       "      <td>9.0</td>\n",
       "      <td>2.0</td>\n",
       "      <td>2.0</td>\n",
       "    </tr>\n",
       "    <tr>\n",
       "      <th>8</th>\n",
       "      <td>15.0</td>\n",
       "      <td>3.0</td>\n",
       "      <td>31.0</td>\n",
       "    </tr>\n",
       "  </tbody>\n",
       "</table>\n",
       "</div>"
      ],
      "text/plain": [
       "     V1    V2    V3\n",
       "2   6.0   5.0   5.0\n",
       "4   7.0  12.0  14.0\n",
       "7   9.0   2.0   2.0\n",
       "8  15.0   3.0  31.0"
      ]
     },
     "execution_count": 19,
     "metadata": {},
     "output_type": "execute_result"
    }
   ],
   "source": [
    "# Tum Degerleri Tam Olan Gozlemlere Erismek Istersek ( Ustteki Ifadenin Turevi Aslinda )\n",
    "\n",
    "df[df.notnull().all(axis = 1)] # df Icerisindeki Hepsi Dolu Olanlari Bize Getiricek"
   ]
  },
  {
   "cell_type": "code",
   "execution_count": 20,
   "id": "083e8872",
   "metadata": {
    "execution": {
     "iopub.execute_input": "2022-05-07T01:58:42.067159Z",
     "iopub.status.busy": "2022-05-07T01:58:42.066717Z",
     "iopub.status.idle": "2022-05-07T01:58:42.081430Z",
     "shell.execute_reply": "2022-05-07T01:58:42.080566Z"
    },
    "papermill": {
     "duration": 0.10549,
     "end_time": "2022-05-07T01:58:42.083515",
     "exception": false,
     "start_time": "2022-05-07T01:58:41.978025",
     "status": "completed"
    },
    "tags": []
   },
   "outputs": [
    {
     "data": {
      "text/html": [
       "<div>\n",
       "<style scoped>\n",
       "    .dataframe tbody tr th:only-of-type {\n",
       "        vertical-align: middle;\n",
       "    }\n",
       "\n",
       "    .dataframe tbody tr th {\n",
       "        vertical-align: top;\n",
       "    }\n",
       "\n",
       "    .dataframe thead th {\n",
       "        text-align: right;\n",
       "    }\n",
       "</style>\n",
       "<table border=\"1\" class=\"dataframe\">\n",
       "  <thead>\n",
       "    <tr style=\"text-align: right;\">\n",
       "      <th></th>\n",
       "      <th>V1</th>\n",
       "      <th>V2</th>\n",
       "      <th>V3</th>\n",
       "    </tr>\n",
       "  </thead>\n",
       "  <tbody>\n",
       "    <tr>\n",
       "      <th>2</th>\n",
       "      <td>6.0</td>\n",
       "      <td>5.0</td>\n",
       "      <td>5.0</td>\n",
       "    </tr>\n",
       "    <tr>\n",
       "      <th>4</th>\n",
       "      <td>7.0</td>\n",
       "      <td>12.0</td>\n",
       "      <td>14.0</td>\n",
       "    </tr>\n",
       "    <tr>\n",
       "      <th>7</th>\n",
       "      <td>9.0</td>\n",
       "      <td>2.0</td>\n",
       "      <td>2.0</td>\n",
       "    </tr>\n",
       "    <tr>\n",
       "      <th>8</th>\n",
       "      <td>15.0</td>\n",
       "      <td>3.0</td>\n",
       "      <td>31.0</td>\n",
       "    </tr>\n",
       "  </tbody>\n",
       "</table>\n",
       "</div>"
      ],
      "text/plain": [
       "     V1    V2    V3\n",
       "2   6.0   5.0   5.0\n",
       "4   7.0  12.0  14.0\n",
       "7   9.0   2.0   2.0\n",
       "8  15.0   3.0  31.0"
      ]
     },
     "execution_count": 20,
     "metadata": {},
     "output_type": "execute_result"
    }
   ],
   "source": [
    "# Bu Islemleri Farkli Bir Sekilde de Yapabilirdik\n",
    "\n",
    "df[df[\"V1\"].notnull() & df[\"V2\"].notnull() & df[\"V3\"].notnull()]"
   ]
  },
  {
   "cell_type": "code",
   "execution_count": 21,
   "id": "5d20cc82",
   "metadata": {
    "execution": {
     "iopub.execute_input": "2022-05-07T01:58:42.261059Z",
     "iopub.status.busy": "2022-05-07T01:58:42.260354Z",
     "iopub.status.idle": "2022-05-07T01:58:42.272142Z",
     "shell.execute_reply": "2022-05-07T01:58:42.271331Z"
    },
    "papermill": {
     "duration": 0.102734,
     "end_time": "2022-05-07T01:58:42.274242",
     "exception": false,
     "start_time": "2022-05-07T01:58:42.171508",
     "status": "completed"
    },
    "tags": []
   },
   "outputs": [
    {
     "data": {
      "text/html": [
       "<div>\n",
       "<style scoped>\n",
       "    .dataframe tbody tr th:only-of-type {\n",
       "        vertical-align: middle;\n",
       "    }\n",
       "\n",
       "    .dataframe tbody tr th {\n",
       "        vertical-align: top;\n",
       "    }\n",
       "\n",
       "    .dataframe thead th {\n",
       "        text-align: right;\n",
       "    }\n",
       "</style>\n",
       "<table border=\"1\" class=\"dataframe\">\n",
       "  <thead>\n",
       "    <tr style=\"text-align: right;\">\n",
       "      <th></th>\n",
       "      <th>V1</th>\n",
       "      <th>V2</th>\n",
       "      <th>V3</th>\n",
       "    </tr>\n",
       "  </thead>\n",
       "  <tbody>\n",
       "    <tr>\n",
       "      <th>6</th>\n",
       "      <td>NaN</td>\n",
       "      <td>NaN</td>\n",
       "      <td>NaN</td>\n",
       "    </tr>\n",
       "  </tbody>\n",
       "</table>\n",
       "</div>"
      ],
      "text/plain": [
       "   V1  V2  V3\n",
       "6 NaN NaN NaN"
      ]
     },
     "execution_count": 21,
     "metadata": {},
     "output_type": "execute_result"
    }
   ],
   "source": [
    "df[df[\"V1\"].isnull() & df[\"V2\"].isnull() & df[\"V3\"].isnull()] # Hepsi Bos Olanlari Listelettik"
   ]
  },
  {
   "cell_type": "markdown",
   "id": "794a52a7",
   "metadata": {
    "papermill": {
     "duration": 0.088485,
     "end_time": "2022-05-07T01:58:42.450426",
     "exception": false,
     "start_time": "2022-05-07T01:58:42.361941",
     "status": "completed"
    },
    "tags": []
   },
   "source": [
    "### Eksik Degerlerin Direk Silinmesi"
   ]
  },
  {
   "cell_type": "code",
   "execution_count": 22,
   "id": "930a41d1",
   "metadata": {
    "execution": {
     "iopub.execute_input": "2022-05-07T01:58:42.631961Z",
     "iopub.status.busy": "2022-05-07T01:58:42.631421Z",
     "iopub.status.idle": "2022-05-07T01:58:42.643619Z",
     "shell.execute_reply": "2022-05-07T01:58:42.642786Z"
    },
    "papermill": {
     "duration": 0.106267,
     "end_time": "2022-05-07T01:58:42.645665",
     "exception": false,
     "start_time": "2022-05-07T01:58:42.539398",
     "status": "completed"
    },
    "tags": []
   },
   "outputs": [
    {
     "data": {
      "text/html": [
       "<div>\n",
       "<style scoped>\n",
       "    .dataframe tbody tr th:only-of-type {\n",
       "        vertical-align: middle;\n",
       "    }\n",
       "\n",
       "    .dataframe tbody tr th {\n",
       "        vertical-align: top;\n",
       "    }\n",
       "\n",
       "    .dataframe thead th {\n",
       "        text-align: right;\n",
       "    }\n",
       "</style>\n",
       "<table border=\"1\" class=\"dataframe\">\n",
       "  <thead>\n",
       "    <tr style=\"text-align: right;\">\n",
       "      <th></th>\n",
       "      <th>V1</th>\n",
       "      <th>V2</th>\n",
       "      <th>V3</th>\n",
       "    </tr>\n",
       "  </thead>\n",
       "  <tbody>\n",
       "    <tr>\n",
       "      <th>2</th>\n",
       "      <td>6.0</td>\n",
       "      <td>5.0</td>\n",
       "      <td>5.0</td>\n",
       "    </tr>\n",
       "    <tr>\n",
       "      <th>4</th>\n",
       "      <td>7.0</td>\n",
       "      <td>12.0</td>\n",
       "      <td>14.0</td>\n",
       "    </tr>\n",
       "    <tr>\n",
       "      <th>7</th>\n",
       "      <td>9.0</td>\n",
       "      <td>2.0</td>\n",
       "      <td>2.0</td>\n",
       "    </tr>\n",
       "    <tr>\n",
       "      <th>8</th>\n",
       "      <td>15.0</td>\n",
       "      <td>3.0</td>\n",
       "      <td>31.0</td>\n",
       "    </tr>\n",
       "  </tbody>\n",
       "</table>\n",
       "</div>"
      ],
      "text/plain": [
       "     V1    V2    V3\n",
       "2   6.0   5.0   5.0\n",
       "4   7.0  12.0  14.0\n",
       "7   9.0   2.0   2.0\n",
       "8  15.0   3.0  31.0"
      ]
     },
     "execution_count": 22,
     "metadata": {},
     "output_type": "execute_result"
    }
   ],
   "source": [
    "df.dropna() # Butun Eksiklikler Siliniyor ( Sadece Tam Olan Degerlere Erismis Olduk ) ( Bir Gozlem Biriminde Bir Tane Dahi Eksiklik Varsa O Gozlem Birimini Siliyo ) ( Kalici Bir Degisiklik \"Yapmaz\" )"
   ]
  },
  {
   "cell_type": "code",
   "execution_count": 23,
   "id": "5c88b665",
   "metadata": {
    "execution": {
     "iopub.execute_input": "2022-05-07T01:58:42.824977Z",
     "iopub.status.busy": "2022-05-07T01:58:42.824231Z",
     "iopub.status.idle": "2022-05-07T01:58:42.837074Z",
     "shell.execute_reply": "2022-05-07T01:58:42.836355Z"
    },
    "papermill": {
     "duration": 0.105538,
     "end_time": "2022-05-07T01:58:42.839152",
     "exception": false,
     "start_time": "2022-05-07T01:58:42.733614",
     "status": "completed"
    },
    "tags": []
   },
   "outputs": [
    {
     "data": {
      "text/html": [
       "<div>\n",
       "<style scoped>\n",
       "    .dataframe tbody tr th:only-of-type {\n",
       "        vertical-align: middle;\n",
       "    }\n",
       "\n",
       "    .dataframe tbody tr th {\n",
       "        vertical-align: top;\n",
       "    }\n",
       "\n",
       "    .dataframe thead th {\n",
       "        text-align: right;\n",
       "    }\n",
       "</style>\n",
       "<table border=\"1\" class=\"dataframe\">\n",
       "  <thead>\n",
       "    <tr style=\"text-align: right;\">\n",
       "      <th></th>\n",
       "      <th>V1</th>\n",
       "      <th>V2</th>\n",
       "      <th>V3</th>\n",
       "    </tr>\n",
       "  </thead>\n",
       "  <tbody>\n",
       "    <tr>\n",
       "      <th>0</th>\n",
       "      <td>1.0</td>\n",
       "      <td>7.0</td>\n",
       "      <td>NaN</td>\n",
       "    </tr>\n",
       "    <tr>\n",
       "      <th>1</th>\n",
       "      <td>3.0</td>\n",
       "      <td>NaN</td>\n",
       "      <td>12.0</td>\n",
       "    </tr>\n",
       "    <tr>\n",
       "      <th>2</th>\n",
       "      <td>6.0</td>\n",
       "      <td>5.0</td>\n",
       "      <td>5.0</td>\n",
       "    </tr>\n",
       "    <tr>\n",
       "      <th>3</th>\n",
       "      <td>NaN</td>\n",
       "      <td>8.0</td>\n",
       "      <td>6.0</td>\n",
       "    </tr>\n",
       "    <tr>\n",
       "      <th>4</th>\n",
       "      <td>7.0</td>\n",
       "      <td>12.0</td>\n",
       "      <td>14.0</td>\n",
       "    </tr>\n",
       "    <tr>\n",
       "      <th>5</th>\n",
       "      <td>1.0</td>\n",
       "      <td>NaN</td>\n",
       "      <td>7.0</td>\n",
       "    </tr>\n",
       "    <tr>\n",
       "      <th>6</th>\n",
       "      <td>NaN</td>\n",
       "      <td>NaN</td>\n",
       "      <td>NaN</td>\n",
       "    </tr>\n",
       "    <tr>\n",
       "      <th>7</th>\n",
       "      <td>9.0</td>\n",
       "      <td>2.0</td>\n",
       "      <td>2.0</td>\n",
       "    </tr>\n",
       "    <tr>\n",
       "      <th>8</th>\n",
       "      <td>15.0</td>\n",
       "      <td>3.0</td>\n",
       "      <td>31.0</td>\n",
       "    </tr>\n",
       "  </tbody>\n",
       "</table>\n",
       "</div>"
      ],
      "text/plain": [
       "     V1    V2    V3\n",
       "0   1.0   7.0   NaN\n",
       "1   3.0   NaN  12.0\n",
       "2   6.0   5.0   5.0\n",
       "3   NaN   8.0   6.0\n",
       "4   7.0  12.0  14.0\n",
       "5   1.0   NaN   7.0\n",
       "6   NaN   NaN   NaN\n",
       "7   9.0   2.0   2.0\n",
       "8  15.0   3.0  31.0"
      ]
     },
     "execution_count": 23,
     "metadata": {},
     "output_type": "execute_result"
    }
   ],
   "source": [
    "df # Gorulecegi Uzere Kalici Bir Degisiklik Yapmadi"
   ]
  },
  {
   "cell_type": "code",
   "execution_count": 24,
   "id": "2ce0cc3b",
   "metadata": {
    "execution": {
     "iopub.execute_input": "2022-05-07T01:58:43.022981Z",
     "iopub.status.busy": "2022-05-07T01:58:43.022497Z",
     "iopub.status.idle": "2022-05-07T01:58:43.027296Z",
     "shell.execute_reply": "2022-05-07T01:58:43.026674Z"
    },
    "papermill": {
     "duration": 0.099731,
     "end_time": "2022-05-07T01:58:43.029196",
     "exception": false,
     "start_time": "2022-05-07T01:58:42.929465",
     "status": "completed"
    },
    "tags": []
   },
   "outputs": [],
   "source": [
    "# Kalici Olmasini Istersek\n",
    "\n",
    "df.dropna(inplace = True)"
   ]
  },
  {
   "cell_type": "code",
   "execution_count": 25,
   "id": "53c8db77",
   "metadata": {
    "execution": {
     "iopub.execute_input": "2022-05-07T01:58:43.212057Z",
     "iopub.status.busy": "2022-05-07T01:58:43.211562Z",
     "iopub.status.idle": "2022-05-07T01:58:43.221756Z",
     "shell.execute_reply": "2022-05-07T01:58:43.221172Z"
    },
    "papermill": {
     "duration": 0.104818,
     "end_time": "2022-05-07T01:58:43.223585",
     "exception": false,
     "start_time": "2022-05-07T01:58:43.118767",
     "status": "completed"
    },
    "tags": []
   },
   "outputs": [
    {
     "data": {
      "text/html": [
       "<div>\n",
       "<style scoped>\n",
       "    .dataframe tbody tr th:only-of-type {\n",
       "        vertical-align: middle;\n",
       "    }\n",
       "\n",
       "    .dataframe tbody tr th {\n",
       "        vertical-align: top;\n",
       "    }\n",
       "\n",
       "    .dataframe thead th {\n",
       "        text-align: right;\n",
       "    }\n",
       "</style>\n",
       "<table border=\"1\" class=\"dataframe\">\n",
       "  <thead>\n",
       "    <tr style=\"text-align: right;\">\n",
       "      <th></th>\n",
       "      <th>V1</th>\n",
       "      <th>V2</th>\n",
       "      <th>V3</th>\n",
       "    </tr>\n",
       "  </thead>\n",
       "  <tbody>\n",
       "    <tr>\n",
       "      <th>2</th>\n",
       "      <td>6.0</td>\n",
       "      <td>5.0</td>\n",
       "      <td>5.0</td>\n",
       "    </tr>\n",
       "    <tr>\n",
       "      <th>4</th>\n",
       "      <td>7.0</td>\n",
       "      <td>12.0</td>\n",
       "      <td>14.0</td>\n",
       "    </tr>\n",
       "    <tr>\n",
       "      <th>7</th>\n",
       "      <td>9.0</td>\n",
       "      <td>2.0</td>\n",
       "      <td>2.0</td>\n",
       "    </tr>\n",
       "    <tr>\n",
       "      <th>8</th>\n",
       "      <td>15.0</td>\n",
       "      <td>3.0</td>\n",
       "      <td>31.0</td>\n",
       "    </tr>\n",
       "  </tbody>\n",
       "</table>\n",
       "</div>"
      ],
      "text/plain": [
       "     V1    V2    V3\n",
       "2   6.0   5.0   5.0\n",
       "4   7.0  12.0  14.0\n",
       "7   9.0   2.0   2.0\n",
       "8  15.0   3.0  31.0"
      ]
     },
     "execution_count": 25,
     "metadata": {},
     "output_type": "execute_result"
    }
   ],
   "source": [
    "df # Gorulecegi Uzere Kalici Bir Degisiklik Yapilmis Oldu"
   ]
  },
  {
   "cell_type": "code",
   "execution_count": 26,
   "id": "a27e3d7c",
   "metadata": {
    "execution": {
     "iopub.execute_input": "2022-05-07T01:58:43.408833Z",
     "iopub.status.busy": "2022-05-07T01:58:43.408301Z",
     "iopub.status.idle": "2022-05-07T01:58:43.423219Z",
     "shell.execute_reply": "2022-05-07T01:58:43.422669Z"
    },
    "papermill": {
     "duration": 0.109418,
     "end_time": "2022-05-07T01:58:43.425149",
     "exception": false,
     "start_time": "2022-05-07T01:58:43.315731",
     "status": "completed"
    },
    "tags": []
   },
   "outputs": [
    {
     "data": {
      "text/html": [
       "<div>\n",
       "<style scoped>\n",
       "    .dataframe tbody tr th:only-of-type {\n",
       "        vertical-align: middle;\n",
       "    }\n",
       "\n",
       "    .dataframe tbody tr th {\n",
       "        vertical-align: top;\n",
       "    }\n",
       "\n",
       "    .dataframe thead th {\n",
       "        text-align: right;\n",
       "    }\n",
       "</style>\n",
       "<table border=\"1\" class=\"dataframe\">\n",
       "  <thead>\n",
       "    <tr style=\"text-align: right;\">\n",
       "      <th></th>\n",
       "      <th>V1</th>\n",
       "      <th>V2</th>\n",
       "      <th>V3</th>\n",
       "    </tr>\n",
       "  </thead>\n",
       "  <tbody>\n",
       "    <tr>\n",
       "      <th>0</th>\n",
       "      <td>1.0</td>\n",
       "      <td>7.0</td>\n",
       "      <td>NaN</td>\n",
       "    </tr>\n",
       "    <tr>\n",
       "      <th>1</th>\n",
       "      <td>3.0</td>\n",
       "      <td>NaN</td>\n",
       "      <td>12.0</td>\n",
       "    </tr>\n",
       "    <tr>\n",
       "      <th>2</th>\n",
       "      <td>6.0</td>\n",
       "      <td>5.0</td>\n",
       "      <td>5.0</td>\n",
       "    </tr>\n",
       "    <tr>\n",
       "      <th>3</th>\n",
       "      <td>NaN</td>\n",
       "      <td>8.0</td>\n",
       "      <td>6.0</td>\n",
       "    </tr>\n",
       "    <tr>\n",
       "      <th>4</th>\n",
       "      <td>7.0</td>\n",
       "      <td>12.0</td>\n",
       "      <td>14.0</td>\n",
       "    </tr>\n",
       "    <tr>\n",
       "      <th>5</th>\n",
       "      <td>1.0</td>\n",
       "      <td>NaN</td>\n",
       "      <td>7.0</td>\n",
       "    </tr>\n",
       "    <tr>\n",
       "      <th>6</th>\n",
       "      <td>NaN</td>\n",
       "      <td>NaN</td>\n",
       "      <td>NaN</td>\n",
       "    </tr>\n",
       "    <tr>\n",
       "      <th>7</th>\n",
       "      <td>9.0</td>\n",
       "      <td>2.0</td>\n",
       "      <td>2.0</td>\n",
       "    </tr>\n",
       "    <tr>\n",
       "      <th>8</th>\n",
       "      <td>15.0</td>\n",
       "      <td>3.0</td>\n",
       "      <td>31.0</td>\n",
       "    </tr>\n",
       "  </tbody>\n",
       "</table>\n",
       "</div>"
      ],
      "text/plain": [
       "     V1    V2    V3\n",
       "0   1.0   7.0   NaN\n",
       "1   3.0   NaN  12.0\n",
       "2   6.0   5.0   5.0\n",
       "3   NaN   8.0   6.0\n",
       "4   7.0  12.0  14.0\n",
       "5   1.0   NaN   7.0\n",
       "6   NaN   NaN   NaN\n",
       "7   9.0   2.0   2.0\n",
       "8  15.0   3.0  31.0"
      ]
     },
     "execution_count": 26,
     "metadata": {},
     "output_type": "execute_result"
    }
   ],
   "source": [
    "# Kalici Bir Degisiklik Yaptigimizdan Yeniden Import Ediyorum\n",
    "\n",
    "\n",
    "V1 = np.array([1,3,6,np.NaN,7,1,np.NaN,9,15])\n",
    "V2 = np.array([7,np.NaN,5,8,12,np.NaN,np.NaN,2,3])\n",
    "V3 = np.array([np.NaN,12,5,6,14,7,np.NaN,2,31])\n",
    "df = pd.DataFrame(\n",
    "        {\"V1\" : V1,\n",
    "         \"V2\" : V2,\n",
    "         \"V3\" : V3}        \n",
    ")\n",
    "\n",
    "df"
   ]
  },
  {
   "cell_type": "markdown",
   "id": "86f9fed3",
   "metadata": {
    "papermill": {
     "duration": 0.090552,
     "end_time": "2022-05-07T01:58:43.606604",
     "exception": false,
     "start_time": "2022-05-07T01:58:43.516052",
     "status": "completed"
    },
    "tags": []
   },
   "source": [
    "### Basit Deger Atama ( Ortalama Bir Deger Kullanarak Uygulanir )"
   ]
  },
  {
   "cell_type": "code",
   "execution_count": 27,
   "id": "da8e8c74",
   "metadata": {
    "execution": {
     "iopub.execute_input": "2022-05-07T01:58:43.788850Z",
     "iopub.status.busy": "2022-05-07T01:58:43.788304Z",
     "iopub.status.idle": "2022-05-07T01:58:43.794970Z",
     "shell.execute_reply": "2022-05-07T01:58:43.794346Z"
    },
    "papermill": {
     "duration": 0.100261,
     "end_time": "2022-05-07T01:58:43.796875",
     "exception": false,
     "start_time": "2022-05-07T01:58:43.696614",
     "status": "completed"
    },
    "tags": []
   },
   "outputs": [
    {
     "data": {
      "text/plain": [
       "0     1.0\n",
       "1     3.0\n",
       "2     6.0\n",
       "3     NaN\n",
       "4     7.0\n",
       "5     1.0\n",
       "6     NaN\n",
       "7     9.0\n",
       "8    15.0\n",
       "Name: V1, dtype: float64"
      ]
     },
     "execution_count": 27,
     "metadata": {},
     "output_type": "execute_result"
    }
   ],
   "source": [
    "df[\"V1\"]"
   ]
  },
  {
   "cell_type": "code",
   "execution_count": 28,
   "id": "1175bf19",
   "metadata": {
    "execution": {
     "iopub.execute_input": "2022-05-07T01:58:43.982716Z",
     "iopub.status.busy": "2022-05-07T01:58:43.982184Z",
     "iopub.status.idle": "2022-05-07T01:58:43.987531Z",
     "shell.execute_reply": "2022-05-07T01:58:43.986918Z"
    },
    "papermill": {
     "duration": 0.099972,
     "end_time": "2022-05-07T01:58:43.989442",
     "exception": false,
     "start_time": "2022-05-07T01:58:43.889470",
     "status": "completed"
    },
    "tags": []
   },
   "outputs": [
    {
     "data": {
      "text/plain": [
       "6.0"
      ]
     },
     "execution_count": 28,
     "metadata": {},
     "output_type": "execute_result"
    }
   ],
   "source": [
    "# Eksik Degerlere Ortalama Atamak Istersek\n",
    "\n",
    "df[\"V1\"].mean()"
   ]
  },
  {
   "cell_type": "code",
   "execution_count": 29,
   "id": "641571f2",
   "metadata": {
    "execution": {
     "iopub.execute_input": "2022-05-07T01:58:44.176929Z",
     "iopub.status.busy": "2022-05-07T01:58:44.176242Z",
     "iopub.status.idle": "2022-05-07T01:58:44.186026Z",
     "shell.execute_reply": "2022-05-07T01:58:44.184977Z"
    },
    "papermill": {
     "duration": 0.107751,
     "end_time": "2022-05-07T01:58:44.188571",
     "exception": false,
     "start_time": "2022-05-07T01:58:44.080820",
     "status": "completed"
    },
    "tags": []
   },
   "outputs": [
    {
     "data": {
      "text/plain": [
       "0     1.0\n",
       "1     3.0\n",
       "2     6.0\n",
       "3     6.0\n",
       "4     7.0\n",
       "5     1.0\n",
       "6     6.0\n",
       "7     9.0\n",
       "8    15.0\n",
       "Name: V1, dtype: float64"
      ]
     },
     "execution_count": 29,
     "metadata": {},
     "output_type": "execute_result"
    }
   ],
   "source": [
    "# .fillna()   Doldur ---->> ( Neyle Doldurmami Istersin ? ) ---->>    df[\"V1\"].mean()   ---->>  Yani Ortalama Ile Doldur Demis Olduk\n",
    "\n",
    "df[\"V1\"].fillna(df[\"V1\"].mean()) # Gorulecegi Uzere Doldurma Islemi Basarili"
   ]
  },
  {
   "cell_type": "code",
   "execution_count": 30,
   "id": "4e116404",
   "metadata": {
    "execution": {
     "iopub.execute_input": "2022-05-07T01:58:44.377347Z",
     "iopub.status.busy": "2022-05-07T01:58:44.377042Z",
     "iopub.status.idle": "2022-05-07T01:58:44.383682Z",
     "shell.execute_reply": "2022-05-07T01:58:44.383154Z"
    },
    "papermill": {
     "duration": 0.102923,
     "end_time": "2022-05-07T01:58:44.385474",
     "exception": false,
     "start_time": "2022-05-07T01:58:44.282551",
     "status": "completed"
    },
    "tags": []
   },
   "outputs": [
    {
     "data": {
      "text/plain": [
       "0     7.0\n",
       "1     0.0\n",
       "2     5.0\n",
       "3     8.0\n",
       "4    12.0\n",
       "5     0.0\n",
       "6     0.0\n",
       "7     2.0\n",
       "8     3.0\n",
       "Name: V2, dtype: float64"
      ]
     },
     "execution_count": 30,
     "metadata": {},
     "output_type": "execute_result"
    }
   ],
   "source": [
    "# Ortalama Ile Doldurma Degilde Istedigimiz Bi Deger Ile Doldurma Islemi Nasil Yapilir\n",
    "\n",
    "df[\"V2\"].fillna(0) # V2 Deki Bos Degerleri 0 Ile Doldurduk"
   ]
  },
  {
   "cell_type": "code",
   "execution_count": 31,
   "id": "d8a8e2e8",
   "metadata": {
    "execution": {
     "iopub.execute_input": "2022-05-07T01:58:44.571997Z",
     "iopub.status.busy": "2022-05-07T01:58:44.571478Z",
     "iopub.status.idle": "2022-05-07T01:58:44.586681Z",
     "shell.execute_reply": "2022-05-07T01:58:44.586101Z"
    },
    "papermill": {
     "duration": 0.110659,
     "end_time": "2022-05-07T01:58:44.588573",
     "exception": false,
     "start_time": "2022-05-07T01:58:44.477914",
     "status": "completed"
    },
    "tags": []
   },
   "outputs": [
    {
     "data": {
      "text/html": [
       "<div>\n",
       "<style scoped>\n",
       "    .dataframe tbody tr th:only-of-type {\n",
       "        vertical-align: middle;\n",
       "    }\n",
       "\n",
       "    .dataframe tbody tr th {\n",
       "        vertical-align: top;\n",
       "    }\n",
       "\n",
       "    .dataframe thead th {\n",
       "        text-align: right;\n",
       "    }\n",
       "</style>\n",
       "<table border=\"1\" class=\"dataframe\">\n",
       "  <thead>\n",
       "    <tr style=\"text-align: right;\">\n",
       "      <th></th>\n",
       "      <th>V1</th>\n",
       "      <th>V2</th>\n",
       "      <th>V3</th>\n",
       "    </tr>\n",
       "  </thead>\n",
       "  <tbody>\n",
       "    <tr>\n",
       "      <th>0</th>\n",
       "      <td>1.0</td>\n",
       "      <td>7.0</td>\n",
       "      <td>NaN</td>\n",
       "    </tr>\n",
       "    <tr>\n",
       "      <th>1</th>\n",
       "      <td>3.0</td>\n",
       "      <td>NaN</td>\n",
       "      <td>12.0</td>\n",
       "    </tr>\n",
       "    <tr>\n",
       "      <th>2</th>\n",
       "      <td>6.0</td>\n",
       "      <td>5.0</td>\n",
       "      <td>5.0</td>\n",
       "    </tr>\n",
       "    <tr>\n",
       "      <th>3</th>\n",
       "      <td>NaN</td>\n",
       "      <td>8.0</td>\n",
       "      <td>6.0</td>\n",
       "    </tr>\n",
       "    <tr>\n",
       "      <th>4</th>\n",
       "      <td>7.0</td>\n",
       "      <td>12.0</td>\n",
       "      <td>14.0</td>\n",
       "    </tr>\n",
       "    <tr>\n",
       "      <th>5</th>\n",
       "      <td>1.0</td>\n",
       "      <td>NaN</td>\n",
       "      <td>7.0</td>\n",
       "    </tr>\n",
       "    <tr>\n",
       "      <th>6</th>\n",
       "      <td>NaN</td>\n",
       "      <td>NaN</td>\n",
       "      <td>NaN</td>\n",
       "    </tr>\n",
       "    <tr>\n",
       "      <th>7</th>\n",
       "      <td>9.0</td>\n",
       "      <td>2.0</td>\n",
       "      <td>2.0</td>\n",
       "    </tr>\n",
       "    <tr>\n",
       "      <th>8</th>\n",
       "      <td>15.0</td>\n",
       "      <td>3.0</td>\n",
       "      <td>31.0</td>\n",
       "    </tr>\n",
       "  </tbody>\n",
       "</table>\n",
       "</div>"
      ],
      "text/plain": [
       "     V1    V2    V3\n",
       "0   1.0   7.0   NaN\n",
       "1   3.0   NaN  12.0\n",
       "2   6.0   5.0   5.0\n",
       "3   NaN   8.0   6.0\n",
       "4   7.0  12.0  14.0\n",
       "5   1.0   NaN   7.0\n",
       "6   NaN   NaN   NaN\n",
       "7   9.0   2.0   2.0\n",
       "8  15.0   3.0  31.0"
      ]
     },
     "execution_count": 31,
     "metadata": {},
     "output_type": "execute_result"
    }
   ],
   "source": [
    "# Kalici Bir Degisiklik Yaptigimizdan Yeniden Import Ediyorum\n",
    "\n",
    "\n",
    "V1 = np.array([1,3,6,np.NaN,7,1,np.NaN,9,15])\n",
    "V2 = np.array([7,np.NaN,5,8,12,np.NaN,np.NaN,2,3])\n",
    "V3 = np.array([np.NaN,12,5,6,14,7,np.NaN,2,31])\n",
    "df = pd.DataFrame(\n",
    "        {\"V1\" : V1,\n",
    "         \"V2\" : V2,\n",
    "         \"V3\" : V3}        \n",
    ")\n",
    "\n",
    "df"
   ]
  },
  {
   "cell_type": "code",
   "execution_count": 32,
   "id": "3816c88d",
   "metadata": {
    "execution": {
     "iopub.execute_input": "2022-05-07T01:58:44.781214Z",
     "iopub.status.busy": "2022-05-07T01:58:44.780711Z",
     "iopub.status.idle": "2022-05-07T01:58:44.794040Z",
     "shell.execute_reply": "2022-05-07T01:58:44.793439Z"
    },
    "papermill": {
     "duration": 0.110105,
     "end_time": "2022-05-07T01:58:44.796019",
     "exception": false,
     "start_time": "2022-05-07T01:58:44.685914",
     "status": "completed"
    },
    "tags": []
   },
   "outputs": [
    {
     "data": {
      "text/html": [
       "<div>\n",
       "<style scoped>\n",
       "    .dataframe tbody tr th:only-of-type {\n",
       "        vertical-align: middle;\n",
       "    }\n",
       "\n",
       "    .dataframe tbody tr th {\n",
       "        vertical-align: top;\n",
       "    }\n",
       "\n",
       "    .dataframe thead th {\n",
       "        text-align: right;\n",
       "    }\n",
       "</style>\n",
       "<table border=\"1\" class=\"dataframe\">\n",
       "  <thead>\n",
       "    <tr style=\"text-align: right;\">\n",
       "      <th></th>\n",
       "      <th>V1</th>\n",
       "      <th>V2</th>\n",
       "      <th>V3</th>\n",
       "    </tr>\n",
       "  </thead>\n",
       "  <tbody>\n",
       "    <tr>\n",
       "      <th>0</th>\n",
       "      <td>1.0</td>\n",
       "      <td>7.000000</td>\n",
       "      <td>11.0</td>\n",
       "    </tr>\n",
       "    <tr>\n",
       "      <th>1</th>\n",
       "      <td>3.0</td>\n",
       "      <td>6.166667</td>\n",
       "      <td>12.0</td>\n",
       "    </tr>\n",
       "    <tr>\n",
       "      <th>2</th>\n",
       "      <td>6.0</td>\n",
       "      <td>5.000000</td>\n",
       "      <td>5.0</td>\n",
       "    </tr>\n",
       "    <tr>\n",
       "      <th>3</th>\n",
       "      <td>6.0</td>\n",
       "      <td>8.000000</td>\n",
       "      <td>6.0</td>\n",
       "    </tr>\n",
       "    <tr>\n",
       "      <th>4</th>\n",
       "      <td>7.0</td>\n",
       "      <td>12.000000</td>\n",
       "      <td>14.0</td>\n",
       "    </tr>\n",
       "    <tr>\n",
       "      <th>5</th>\n",
       "      <td>1.0</td>\n",
       "      <td>6.166667</td>\n",
       "      <td>7.0</td>\n",
       "    </tr>\n",
       "    <tr>\n",
       "      <th>6</th>\n",
       "      <td>6.0</td>\n",
       "      <td>6.166667</td>\n",
       "      <td>11.0</td>\n",
       "    </tr>\n",
       "    <tr>\n",
       "      <th>7</th>\n",
       "      <td>9.0</td>\n",
       "      <td>2.000000</td>\n",
       "      <td>2.0</td>\n",
       "    </tr>\n",
       "    <tr>\n",
       "      <th>8</th>\n",
       "      <td>15.0</td>\n",
       "      <td>3.000000</td>\n",
       "      <td>31.0</td>\n",
       "    </tr>\n",
       "  </tbody>\n",
       "</table>\n",
       "</div>"
      ],
      "text/plain": [
       "     V1         V2    V3\n",
       "0   1.0   7.000000  11.0\n",
       "1   3.0   6.166667  12.0\n",
       "2   6.0   5.000000   5.0\n",
       "3   6.0   8.000000   6.0\n",
       "4   7.0  12.000000  14.0\n",
       "5   1.0   6.166667   7.0\n",
       "6   6.0   6.166667  11.0\n",
       "7   9.0   2.000000   2.0\n",
       "8  15.0   3.000000  31.0"
      ]
     },
     "execution_count": 32,
     "metadata": {},
     "output_type": "execute_result"
    }
   ],
   "source": [
    "# Peki Elimizde Cok Fazla Degisken Olursa Ve Biz Atama Yapmak Istiyorsak Bunu Nasil Yapicaz? ( \"apply\" Ve \"lambda\" kullanilicak )\n",
    "\n",
    "# apply() : Code miz Anladi ki Bu Data_Framenin Sutunlarinin Uzerinde Bir Islem Yapilacak ( Her Bir Degiskenin Uzerinde Islem Yapilacak )\n",
    "# apply() --->> Ic Kisminin Doldurulmasi : x E Bagli Bir Fonksiyon Yaziyoruz\n",
    "# lambda x: x.fillna()  ---->>  Her Bir Degiskeni Yakaladiginda Bunlari Doldur\n",
    "# x.fillna() --->> Ic Kisminin Doldurulmasi : ( Ne Ile Doldurmami Istersin ) ---->>    x.mean()   ---->> O Degiskenlerin Ortalamasi Ile Doldur Diyoruz\n",
    "# axis = 0   Satirlara Gore Demis Oluyoruz\n",
    "\n",
    "df.apply(lambda x: x.fillna(x.mean()), axis = 0) # Gozlemlendigi Uzere Eksik Olan Yerleri O Degiskenin Ortalamasi Ile Doldurmus Olduk"
   ]
  },
  {
   "cell_type": "markdown",
   "id": "4eb6c475",
   "metadata": {
    "papermill": {
     "duration": 0.093328,
     "end_time": "2022-05-07T01:58:44.983055",
     "exception": false,
     "start_time": "2022-05-07T01:58:44.889727",
     "status": "completed"
    },
    "tags": []
   },
   "source": [
    "# Eksik Veri Yapisinin Gorsellestirilmesi"
   ]
  },
  {
   "cell_type": "code",
   "execution_count": 33,
   "id": "d6d2d57a",
   "metadata": {
    "execution": {
     "iopub.execute_input": "2022-05-07T01:58:45.173495Z",
     "iopub.status.busy": "2022-05-07T01:58:45.173189Z",
     "iopub.status.idle": "2022-05-07T01:58:46.308790Z",
     "shell.execute_reply": "2022-05-07T01:58:46.307831Z"
    },
    "papermill": {
     "duration": 1.232825,
     "end_time": "2022-05-07T01:58:46.311181",
     "exception": false,
     "start_time": "2022-05-07T01:58:45.078356",
     "status": "completed"
    },
    "tags": []
   },
   "outputs": [],
   "source": [
    "# Farkli Bir Kutuphane Import Ediyoruz ( Bilgisayarima Daha Once Indirdim )\n",
    "\n",
    "import missingno as msno"
   ]
  },
  {
   "cell_type": "code",
   "execution_count": 34,
   "id": "c117b0a2",
   "metadata": {
    "execution": {
     "iopub.execute_input": "2022-05-07T01:58:46.499226Z",
     "iopub.status.busy": "2022-05-07T01:58:46.498909Z",
     "iopub.status.idle": "2022-05-07T01:58:46.931874Z",
     "shell.execute_reply": "2022-05-07T01:58:46.931062Z"
    },
    "papermill": {
     "duration": 0.52927,
     "end_time": "2022-05-07T01:58:46.933965",
     "exception": false,
     "start_time": "2022-05-07T01:58:46.404695",
     "status": "completed"
    },
    "tags": []
   },
   "outputs": [
    {
     "data": {
      "image/png": "[encoded data removed]",
      "text/plain": [
       "<Figure size 1728x720 with 3 Axes>"
      ]
     },
     "metadata": {
      "needs_background": "light"
     },
     "output_type": "display_data"
    }
   ],
   "source": [
    "msno.bar(df); # Degiskenlerdeki Eksikligi Oransal Olarak Bu Grafik Ifade Ediyor\n",
    "\n",
    "# V1 de 7 tane Tam Gozlem Varmis, V2 de 6 tane Tam Gozlem Varmis, V3 de 7 tane Tam Gozlem Varmis, Yani V1 De ( Sag Tarafa Bakinca Gorulacegi Uzere ) 2 Tane, V2 De 3 Tane, V3 Te 2 Tane Bos Gozlem Varmis\n",
    "\n",
    "# Sol Tarafta ki Bar Da \"Yuzdelik Olarak\" Neye Karsilik Geldigini Gosteriyor\n",
    "# Sag Taraftaki Bar Gozlem Sayisini Ifade Ediyor"
   ]
  },
  {
   "cell_type": "code",
   "execution_count": 35,
   "id": "3fbdbd4c",
   "metadata": {
    "execution": {
     "iopub.execute_input": "2022-05-07T01:58:47.126617Z",
     "iopub.status.busy": "2022-05-07T01:58:47.125747Z",
     "iopub.status.idle": "2022-05-07T01:58:47.461965Z",
     "shell.execute_reply": "2022-05-07T01:58:47.461330Z"
    },
    "papermill": {
     "duration": 0.435005,
     "end_time": "2022-05-07T01:58:47.463925",
     "exception": false,
     "start_time": "2022-05-07T01:58:47.028920",
     "status": "completed"
    },
    "tags": []
   },
   "outputs": [
    {
     "data": {
      "image/png": "[encoded data removed]",
      "text/plain": [
       "<Figure size 1800x720 with 2 Axes>"
      ]
     },
     "metadata": {
      "needs_background": "light"
     },
     "output_type": "display_data"
    }
   ],
   "source": [
    "msno.matrix(df);\n",
    "\n",
    "# Bu Grafik Bize Eksik Degerlerin Rassalligiyla Ilgili Gerekli Yapisal Bozukluklari Yakalayabilme Imkani Veren Bir Gorsel\n",
    "\n",
    "# Soldaki Eksen Gozlem Birimlerini Ifade Ediyor ( 1. Gozlem, 2. Gozlem, 3.Gozlem, ......)\n",
    "\n",
    "# Sag Taraftaki Cizgi Ifadesi de; En Altta Gozuken Ayni Anda 3 Tane Dolu Demektir, Onun Ust Tarafinda ( 0 Ifadesinin Oldugu Yerde ) Hicbir Gozlem Dolu Degil Yani Her Bir Gozlem Birimine Iliskin ----->>\n",
    "\n",
    "# ---->> Kac Tanesi Dolu, Kac Tanesi Bos Seklinde Bir Bilgi Sunmus Oluyor ( Burda Kiyaslamak Icin 0 Ve 3 U Referans Aliyoruz )"
   ]
  },
  {
   "cell_type": "code",
   "execution_count": 36,
   "id": "02f6f240",
   "metadata": {
    "execution": {
     "iopub.execute_input": "2022-05-07T01:58:47.687856Z",
     "iopub.status.busy": "2022-05-07T01:58:47.687573Z",
     "iopub.status.idle": "2022-05-07T01:58:47.702171Z",
     "shell.execute_reply": "2022-05-07T01:58:47.701504Z"
    },
    "papermill": {
     "duration": 0.143778,
     "end_time": "2022-05-07T01:58:47.704398",
     "exception": false,
     "start_time": "2022-05-07T01:58:47.560620",
     "status": "completed"
    },
    "tags": []
   },
   "outputs": [
    {
     "data": {
      "text/html": [
       "<div>\n",
       "<style scoped>\n",
       "    .dataframe tbody tr th:only-of-type {\n",
       "        vertical-align: middle;\n",
       "    }\n",
       "\n",
       "    .dataframe tbody tr th {\n",
       "        vertical-align: top;\n",
       "    }\n",
       "\n",
       "    .dataframe thead th {\n",
       "        text-align: right;\n",
       "    }\n",
       "</style>\n",
       "<table border=\"1\" class=\"dataframe\">\n",
       "  <thead>\n",
       "    <tr style=\"text-align: right;\">\n",
       "      <th></th>\n",
       "      <th>V1</th>\n",
       "      <th>V2</th>\n",
       "      <th>V3</th>\n",
       "    </tr>\n",
       "  </thead>\n",
       "  <tbody>\n",
       "    <tr>\n",
       "      <th>0</th>\n",
       "      <td>1.0</td>\n",
       "      <td>7.0</td>\n",
       "      <td>NaN</td>\n",
       "    </tr>\n",
       "    <tr>\n",
       "      <th>1</th>\n",
       "      <td>3.0</td>\n",
       "      <td>NaN</td>\n",
       "      <td>12.0</td>\n",
       "    </tr>\n",
       "    <tr>\n",
       "      <th>2</th>\n",
       "      <td>6.0</td>\n",
       "      <td>5.0</td>\n",
       "      <td>5.0</td>\n",
       "    </tr>\n",
       "    <tr>\n",
       "      <th>3</th>\n",
       "      <td>NaN</td>\n",
       "      <td>8.0</td>\n",
       "      <td>6.0</td>\n",
       "    </tr>\n",
       "    <tr>\n",
       "      <th>4</th>\n",
       "      <td>7.0</td>\n",
       "      <td>12.0</td>\n",
       "      <td>14.0</td>\n",
       "    </tr>\n",
       "    <tr>\n",
       "      <th>5</th>\n",
       "      <td>1.0</td>\n",
       "      <td>NaN</td>\n",
       "      <td>7.0</td>\n",
       "    </tr>\n",
       "    <tr>\n",
       "      <th>6</th>\n",
       "      <td>NaN</td>\n",
       "      <td>NaN</td>\n",
       "      <td>NaN</td>\n",
       "    </tr>\n",
       "    <tr>\n",
       "      <th>7</th>\n",
       "      <td>9.0</td>\n",
       "      <td>2.0</td>\n",
       "      <td>2.0</td>\n",
       "    </tr>\n",
       "    <tr>\n",
       "      <th>8</th>\n",
       "      <td>15.0</td>\n",
       "      <td>3.0</td>\n",
       "      <td>31.0</td>\n",
       "    </tr>\n",
       "  </tbody>\n",
       "</table>\n",
       "</div>"
      ],
      "text/plain": [
       "     V1    V2    V3\n",
       "0   1.0   7.0   NaN\n",
       "1   3.0   NaN  12.0\n",
       "2   6.0   5.0   5.0\n",
       "3   NaN   8.0   6.0\n",
       "4   7.0  12.0  14.0\n",
       "5   1.0   NaN   7.0\n",
       "6   NaN   NaN   NaN\n",
       "7   9.0   2.0   2.0\n",
       "8  15.0   3.0  31.0"
      ]
     },
     "execution_count": 36,
     "metadata": {},
     "output_type": "execute_result"
    }
   ],
   "source": [
    "df # Ustteki Grafige Gore Gozlemlere ( Satirlara )  Bak -----> 1. Sinde ( 0. Indexte ) Ilk Ikisi Dolu Ucuncusu Bos ----->> Yukaridaki Grafikte De Boyle Gosteriliyor\n",
    "\n",
    "# Yani Anlasilacagi Uzere Yukaridaki Grafik Bize Bir Yapi Verdi"
   ]
  },
  {
   "cell_type": "code",
   "execution_count": 37,
   "id": "487c6050",
   "metadata": {
    "execution": {
     "iopub.execute_input": "2022-05-07T01:58:47.897130Z",
     "iopub.status.busy": "2022-05-07T01:58:47.896524Z",
     "iopub.status.idle": "2022-05-07T01:58:47.923025Z",
     "shell.execute_reply": "2022-05-07T01:58:47.922188Z"
    },
    "papermill": {
     "duration": 0.125082,
     "end_time": "2022-05-07T01:58:47.925268",
     "exception": false,
     "start_time": "2022-05-07T01:58:47.800186",
     "status": "completed"
    },
    "tags": []
   },
   "outputs": [
    {
     "data": {
      "text/html": [
       "<div>\n",
       "<style scoped>\n",
       "    .dataframe tbody tr th:only-of-type {\n",
       "        vertical-align: middle;\n",
       "    }\n",
       "\n",
       "    .dataframe tbody tr th {\n",
       "        vertical-align: top;\n",
       "    }\n",
       "\n",
       "    .dataframe thead th {\n",
       "        text-align: right;\n",
       "    }\n",
       "</style>\n",
       "<table border=\"1\" class=\"dataframe\">\n",
       "  <thead>\n",
       "    <tr style=\"text-align: right;\">\n",
       "      <th></th>\n",
       "      <th>method</th>\n",
       "      <th>number</th>\n",
       "      <th>orbital_period</th>\n",
       "      <th>mass</th>\n",
       "      <th>distance</th>\n",
       "      <th>year</th>\n",
       "    </tr>\n",
       "  </thead>\n",
       "  <tbody>\n",
       "    <tr>\n",
       "      <th>0</th>\n",
       "      <td>Radial Velocity</td>\n",
       "      <td>1</td>\n",
       "      <td>269.300</td>\n",
       "      <td>7.10</td>\n",
       "      <td>77.40</td>\n",
       "      <td>2006</td>\n",
       "    </tr>\n",
       "    <tr>\n",
       "      <th>1</th>\n",
       "      <td>Radial Velocity</td>\n",
       "      <td>1</td>\n",
       "      <td>874.774</td>\n",
       "      <td>2.21</td>\n",
       "      <td>56.95</td>\n",
       "      <td>2008</td>\n",
       "    </tr>\n",
       "    <tr>\n",
       "      <th>2</th>\n",
       "      <td>Radial Velocity</td>\n",
       "      <td>1</td>\n",
       "      <td>763.000</td>\n",
       "      <td>2.60</td>\n",
       "      <td>19.84</td>\n",
       "      <td>2011</td>\n",
       "    </tr>\n",
       "    <tr>\n",
       "      <th>3</th>\n",
       "      <td>Radial Velocity</td>\n",
       "      <td>1</td>\n",
       "      <td>326.030</td>\n",
       "      <td>19.40</td>\n",
       "      <td>110.62</td>\n",
       "      <td>2007</td>\n",
       "    </tr>\n",
       "    <tr>\n",
       "      <th>4</th>\n",
       "      <td>Radial Velocity</td>\n",
       "      <td>1</td>\n",
       "      <td>516.220</td>\n",
       "      <td>10.50</td>\n",
       "      <td>119.47</td>\n",
       "      <td>2009</td>\n",
       "    </tr>\n",
       "  </tbody>\n",
       "</table>\n",
       "</div>"
      ],
      "text/plain": [
       "            method  number  orbital_period   mass  distance  year\n",
       "0  Radial Velocity       1         269.300   7.10     77.40  2006\n",
       "1  Radial Velocity       1         874.774   2.21     56.95  2008\n",
       "2  Radial Velocity       1         763.000   2.60     19.84  2011\n",
       "3  Radial Velocity       1         326.030  19.40    110.62  2007\n",
       "4  Radial Velocity       1         516.220  10.50    119.47  2009"
      ]
     },
     "execution_count": 37,
     "metadata": {},
     "output_type": "execute_result"
    }
   ],
   "source": [
    "import seaborn as sns\n",
    "\n",
    "df = pd.read_csv(\"../input/seaborn-practice/planets.csv\")\n",
    "\n",
    "df.head()"
   ]
  },
  {
   "cell_type": "code",
   "execution_count": 38,
   "id": "c7740fbc",
   "metadata": {
    "execution": {
     "iopub.execute_input": "2022-05-07T01:58:48.121515Z",
     "iopub.status.busy": "2022-05-07T01:58:48.120889Z",
     "iopub.status.idle": "2022-05-07T01:58:48.130067Z",
     "shell.execute_reply": "2022-05-07T01:58:48.129511Z"
    },
    "papermill": {
     "duration": 0.110117,
     "end_time": "2022-05-07T01:58:48.131833",
     "exception": false,
     "start_time": "2022-05-07T01:58:48.021716",
     "status": "completed"
    },
    "tags": []
   },
   "outputs": [
    {
     "data": {
      "text/plain": [
       "method              0\n",
       "number              0\n",
       "orbital_period     43\n",
       "mass              522\n",
       "distance          227\n",
       "year                0\n",
       "dtype: int64"
      ]
     },
     "execution_count": 38,
     "metadata": {},
     "output_type": "execute_result"
    }
   ],
   "source": [
    "df.isnull().sum() # Bazi Degiskenlerde Cok Ciddi Sayida Eksiklikler Var"
   ]
  },
  {
   "cell_type": "code",
   "execution_count": 39,
   "id": "735ec9f2",
   "metadata": {
    "execution": {
     "iopub.execute_input": "2022-05-07T01:58:48.325942Z",
     "iopub.status.busy": "2022-05-07T01:58:48.325454Z",
     "iopub.status.idle": "2022-05-07T01:58:48.697051Z",
     "shell.execute_reply": "2022-05-07T01:58:48.696303Z"
    },
    "papermill": {
     "duration": 0.470897,
     "end_time": "2022-05-07T01:58:48.699081",
     "exception": false,
     "start_time": "2022-05-07T01:58:48.228184",
     "status": "completed"
    },
    "tags": []
   },
   "outputs": [
    {
     "data": {
      "image/png": "[encoded data removed]",
      "text/plain": [
       "<Figure size 1800x720 with 2 Axes>"
      ]
     },
     "metadata": {
      "needs_background": "light"
     },
     "output_type": "display_data"
    }
   ],
   "source": [
    "# Peki Biz Bu Bosluklari Ne Yapicaz?\n",
    "\n",
    "msno.matrix(df);\n",
    "\n",
    "# En Saga Bakicak Olursak Ayni Anda 6 Tane Dolu Olma Ve Ayni Anda 3 Tane Bos Olma Durumu Gozlemlendigini Goruyoruz\n",
    "\n",
    "# Yorum; \"orbital_period\" Degiskeni Ve \"mass\" Degiskenine Bakicak Olursak, Cogunlukla \"orbital_period\" Ta Bir Bosluk Oldugunda \"mass\" Ta Bosluk Olmus Yani \"mass\"  \"orbital_period\" a Bagli Bir Degiskendir\n",
    "\n",
    "# Rassalligi Inceliyoduk, Gorunen O ki Degiskenler Arasinda Bir Baglilik Var Oldugunu Gozlemledik ( Yani Bu Veri Setinde Eksik Degerler Rasgele Olusmadi )"
   ]
  },
  {
   "cell_type": "code",
   "execution_count": 40,
   "id": "5485670a",
   "metadata": {
    "execution": {
     "iopub.execute_input": "2022-05-07T01:58:48.900525Z",
     "iopub.status.busy": "2022-05-07T01:58:48.900185Z",
     "iopub.status.idle": "2022-05-07T01:58:49.191849Z",
     "shell.execute_reply": "2022-05-07T01:58:49.190710Z"
    },
    "papermill": {
     "duration": 0.394667,
     "end_time": "2022-05-07T01:58:49.194241",
     "exception": false,
     "start_time": "2022-05-07T01:58:48.799574",
     "status": "completed"
    },
    "tags": []
   },
   "outputs": [
    {
     "data": {
      "image/png": "[encoded data removed]",
      "text/plain": [
       "<Figure size 1440x864 with 2 Axes>"
      ]
     },
     "metadata": {
      "needs_background": "light"
     },
     "output_type": "display_data"
    }
   ],
   "source": [
    "msno.heatmap(df);\n",
    "\n",
    "# Bu Degerler ( Sagdaki Barda Da Goruldugu Uzere ) \"-1\" Ile \"+1\" Arasinda Yer Alir\n",
    "\n",
    "\n",
    "\n",
    "# Bu Ne Ise Yarar;\n",
    "\n",
    "# Degiskenlerin Arasindaki Bosluk Korelasyonu ( Iliski ) Gibi Bir Korelasyon Varsa Elimizde Bu Degiskenlerin Birbirlerine Olan Bagimliliklarini Yani Rassal Olarak Olusmama Durumunu Eksikligin\n",
    "# Bize Numerik Olarak Ifade Eden Cok Degerli Bir Gosterimdir\n",
    "\n",
    "# Yorum; \"distance\" Ile \"mass\" Degiskeninin Kesisiminde \"0.5\" Seklinde Bir Korelasyon Var\n",
    "\n",
    "\n",
    "# ( Bilgilendirme ) Eger Iki Degiskenin ( Kesisimindeki Degeri ) 1 Ise Bu Iki Degiskenin Eksikligi Cok Yuksek Korelasyonla Birlikte Birlikte Meydana Geliyor Anlamina Gelir Yani Diger Bir Ifade Ile ---->>\n",
    "# ---->> Eger Bir Degiskende Eksiklik Gorurseniz Cok \"Yuksek Ihtimalle\" Diger Degiskende de Eksiklik Goreceksinizdir Anlamina Gelir\n",
    "#  Eger Iki Degiskenin ( Kesisimindeki Degeri ) 0 Ise Bu Durumda Aralarinda Birbirlerini Etkileyen Bir Korelasyon Yoktur Yorumu Yapilir\n",
    "\n",
    "# Grafik Incelendiginde \"orbital_period\" Degiskeni Ile \"mass\" Degiskeni Arasinda Bir Iliski Oldugu Gozlemleniyor\n",
    "# \"orbital_period\" Degiskeni Ile \"distance\" Degiskeni Arasinda Bir Iliski Olmadigi Gozlemleniyor\n",
    "# \"mass\" Degiskeni Ile \"distance\" Degiskeni Arasinda Bir Iliski Oldugu Gozlemleniyor ( %50 Biri Korelasyon Oldugu Gozlemleniyor ) ( Biz Bunu Goz Yordamiyla Saptayamamistik Yukaridaki Grafikte )---->>\n",
    "# ---->> \"mass\" Degiskeni Ile \"distance\" Degiskeni Arasinda Yokluk ( Eksiklik ) Korelasyon Degeri Incelendiginde Orta Siddetli Bir Korelasyon Oldugu Anlami Cikmaktadir\n",
    "\n",
    "\n",
    "# Bu Grafiklerden Cikardigimiz Sonuc; Bu Veri Seti Rassal Bir Veri Seti Degildir Yani Burda Direk Doldurma Yada Direk Silme Gibi Islemleri Yapmak Birtakim Problemleride Beraberinde Getirecektir ---->>\n",
    "# ---->> Bir Islem Yapilacagi Zaman Bu Degiskenlerin Birbirlerine Olan Bagliligi Mutlaka Goz Onunda Bulundurulmalidir"
   ]
  },
  {
   "cell_type": "code",
   "execution_count": 41,
   "id": "bf7040a1",
   "metadata": {
    "execution": {
     "iopub.execute_input": "2022-05-07T01:58:49.394026Z",
     "iopub.status.busy": "2022-05-07T01:58:49.393716Z",
     "iopub.status.idle": "2022-05-07T01:58:49.410386Z",
     "shell.execute_reply": "2022-05-07T01:58:49.409810Z"
    },
    "papermill": {
     "duration": 0.118921,
     "end_time": "2022-05-07T01:58:49.412304",
     "exception": false,
     "start_time": "2022-05-07T01:58:49.293383",
     "status": "completed"
    },
    "tags": []
   },
   "outputs": [
    {
     "data": {
      "text/html": [
       "<div>\n",
       "<style scoped>\n",
       "    .dataframe tbody tr th:only-of-type {\n",
       "        vertical-align: middle;\n",
       "    }\n",
       "\n",
       "    .dataframe tbody tr th {\n",
       "        vertical-align: top;\n",
       "    }\n",
       "\n",
       "    .dataframe thead th {\n",
       "        text-align: right;\n",
       "    }\n",
       "</style>\n",
       "<table border=\"1\" class=\"dataframe\">\n",
       "  <thead>\n",
       "    <tr style=\"text-align: right;\">\n",
       "      <th></th>\n",
       "      <th>V1</th>\n",
       "      <th>V2</th>\n",
       "      <th>V3</th>\n",
       "    </tr>\n",
       "  </thead>\n",
       "  <tbody>\n",
       "    <tr>\n",
       "      <th>0</th>\n",
       "      <td>1.0</td>\n",
       "      <td>7.0</td>\n",
       "      <td>NaN</td>\n",
       "    </tr>\n",
       "    <tr>\n",
       "      <th>1</th>\n",
       "      <td>3.0</td>\n",
       "      <td>NaN</td>\n",
       "      <td>12.0</td>\n",
       "    </tr>\n",
       "    <tr>\n",
       "      <th>2</th>\n",
       "      <td>6.0</td>\n",
       "      <td>5.0</td>\n",
       "      <td>5.0</td>\n",
       "    </tr>\n",
       "    <tr>\n",
       "      <th>3</th>\n",
       "      <td>NaN</td>\n",
       "      <td>8.0</td>\n",
       "      <td>6.0</td>\n",
       "    </tr>\n",
       "    <tr>\n",
       "      <th>4</th>\n",
       "      <td>7.0</td>\n",
       "      <td>12.0</td>\n",
       "      <td>14.0</td>\n",
       "    </tr>\n",
       "    <tr>\n",
       "      <th>5</th>\n",
       "      <td>1.0</td>\n",
       "      <td>NaN</td>\n",
       "      <td>7.0</td>\n",
       "    </tr>\n",
       "    <tr>\n",
       "      <th>6</th>\n",
       "      <td>NaN</td>\n",
       "      <td>NaN</td>\n",
       "      <td>NaN</td>\n",
       "    </tr>\n",
       "    <tr>\n",
       "      <th>7</th>\n",
       "      <td>9.0</td>\n",
       "      <td>2.0</td>\n",
       "      <td>2.0</td>\n",
       "    </tr>\n",
       "    <tr>\n",
       "      <th>8</th>\n",
       "      <td>15.0</td>\n",
       "      <td>3.0</td>\n",
       "      <td>31.0</td>\n",
       "    </tr>\n",
       "  </tbody>\n",
       "</table>\n",
       "</div>"
      ],
      "text/plain": [
       "     V1    V2    V3\n",
       "0   1.0   7.0   NaN\n",
       "1   3.0   NaN  12.0\n",
       "2   6.0   5.0   5.0\n",
       "3   NaN   8.0   6.0\n",
       "4   7.0  12.0  14.0\n",
       "5   1.0   NaN   7.0\n",
       "6   NaN   NaN   NaN\n",
       "7   9.0   2.0   2.0\n",
       "8  15.0   3.0  31.0"
      ]
     },
     "execution_count": 41,
     "metadata": {},
     "output_type": "execute_result"
    }
   ],
   "source": [
    "# Derler Arasinda Veri Setleri Uzerinde Kalici Degisiklikler Yaptigimdan Veri Setini Import Ediyorum\n",
    "\n",
    "# import numpy as np\n",
    "# import pandas as pd\n",
    "\n",
    "V1 = np.array([1,3,6,np.NaN,7,1,np.NaN,9,15])\n",
    "V2 = np.array([7,np.NaN,5,8,12,np.NaN,np.NaN,2,3])\n",
    "V3 = np.array([np.NaN,12,5,6,14,7,np.NaN,2,31])\n",
    "\n",
    "df = pd.DataFrame(\n",
    "        {\"V1\" : V1,\n",
    "         \"V2\" : V2,\n",
    "         \"V3\" : V3}        \n",
    ")\n",
    "\n",
    "df"
   ]
  },
  {
   "cell_type": "code",
   "execution_count": 42,
   "id": "dbc2419f",
   "metadata": {
    "execution": {
     "iopub.execute_input": "2022-05-07T01:58:49.613886Z",
     "iopub.status.busy": "2022-05-07T01:58:49.612863Z",
     "iopub.status.idle": "2022-05-07T01:58:49.625682Z",
     "shell.execute_reply": "2022-05-07T01:58:49.624829Z"
    },
    "papermill": {
     "duration": 0.115883,
     "end_time": "2022-05-07T01:58:49.627837",
     "exception": false,
     "start_time": "2022-05-07T01:58:49.511954",
     "status": "completed"
    },
    "tags": []
   },
   "outputs": [
    {
     "data": {
      "text/html": [
       "<div>\n",
       "<style scoped>\n",
       "    .dataframe tbody tr th:only-of-type {\n",
       "        vertical-align: middle;\n",
       "    }\n",
       "\n",
       "    .dataframe tbody tr th {\n",
       "        vertical-align: top;\n",
       "    }\n",
       "\n",
       "    .dataframe thead th {\n",
       "        text-align: right;\n",
       "    }\n",
       "</style>\n",
       "<table border=\"1\" class=\"dataframe\">\n",
       "  <thead>\n",
       "    <tr style=\"text-align: right;\">\n",
       "      <th></th>\n",
       "      <th>V1</th>\n",
       "      <th>V2</th>\n",
       "      <th>V3</th>\n",
       "    </tr>\n",
       "  </thead>\n",
       "  <tbody>\n",
       "    <tr>\n",
       "      <th>2</th>\n",
       "      <td>6.0</td>\n",
       "      <td>5.0</td>\n",
       "      <td>5.0</td>\n",
       "    </tr>\n",
       "    <tr>\n",
       "      <th>4</th>\n",
       "      <td>7.0</td>\n",
       "      <td>12.0</td>\n",
       "      <td>14.0</td>\n",
       "    </tr>\n",
       "    <tr>\n",
       "      <th>7</th>\n",
       "      <td>9.0</td>\n",
       "      <td>2.0</td>\n",
       "      <td>2.0</td>\n",
       "    </tr>\n",
       "    <tr>\n",
       "      <th>8</th>\n",
       "      <td>15.0</td>\n",
       "      <td>3.0</td>\n",
       "      <td>31.0</td>\n",
       "    </tr>\n",
       "  </tbody>\n",
       "</table>\n",
       "</div>"
      ],
      "text/plain": [
       "     V1    V2    V3\n",
       "2   6.0   5.0   5.0\n",
       "4   7.0  12.0  14.0\n",
       "7   9.0   2.0   2.0\n",
       "8  15.0   3.0  31.0"
      ]
     },
     "execution_count": 42,
     "metadata": {},
     "output_type": "execute_result"
    }
   ],
   "source": [
    "df.dropna() # En Az Bir Bos Yer Varsa Siliyoruz ( Original Halinde Bir Degisiklik Olmadi )"
   ]
  },
  {
   "cell_type": "code",
   "execution_count": 43,
   "id": "d741b0f8",
   "metadata": {
    "execution": {
     "iopub.execute_input": "2022-05-07T01:58:49.834179Z",
     "iopub.status.busy": "2022-05-07T01:58:49.833351Z",
     "iopub.status.idle": "2022-05-07T01:58:49.846279Z",
     "shell.execute_reply": "2022-05-07T01:58:49.845640Z"
    },
    "papermill": {
     "duration": 0.116602,
     "end_time": "2022-05-07T01:58:49.848096",
     "exception": false,
     "start_time": "2022-05-07T01:58:49.731494",
     "status": "completed"
    },
    "tags": []
   },
   "outputs": [
    {
     "data": {
      "text/html": [
       "<div>\n",
       "<style scoped>\n",
       "    .dataframe tbody tr th:only-of-type {\n",
       "        vertical-align: middle;\n",
       "    }\n",
       "\n",
       "    .dataframe tbody tr th {\n",
       "        vertical-align: top;\n",
       "    }\n",
       "\n",
       "    .dataframe thead th {\n",
       "        text-align: right;\n",
       "    }\n",
       "</style>\n",
       "<table border=\"1\" class=\"dataframe\">\n",
       "  <thead>\n",
       "    <tr style=\"text-align: right;\">\n",
       "      <th></th>\n",
       "      <th>V1</th>\n",
       "      <th>V2</th>\n",
       "      <th>V3</th>\n",
       "    </tr>\n",
       "  </thead>\n",
       "  <tbody>\n",
       "    <tr>\n",
       "      <th>0</th>\n",
       "      <td>1.0</td>\n",
       "      <td>7.0</td>\n",
       "      <td>NaN</td>\n",
       "    </tr>\n",
       "    <tr>\n",
       "      <th>1</th>\n",
       "      <td>3.0</td>\n",
       "      <td>NaN</td>\n",
       "      <td>12.0</td>\n",
       "    </tr>\n",
       "    <tr>\n",
       "      <th>2</th>\n",
       "      <td>6.0</td>\n",
       "      <td>5.0</td>\n",
       "      <td>5.0</td>\n",
       "    </tr>\n",
       "    <tr>\n",
       "      <th>3</th>\n",
       "      <td>NaN</td>\n",
       "      <td>8.0</td>\n",
       "      <td>6.0</td>\n",
       "    </tr>\n",
       "    <tr>\n",
       "      <th>4</th>\n",
       "      <td>7.0</td>\n",
       "      <td>12.0</td>\n",
       "      <td>14.0</td>\n",
       "    </tr>\n",
       "    <tr>\n",
       "      <th>5</th>\n",
       "      <td>1.0</td>\n",
       "      <td>NaN</td>\n",
       "      <td>7.0</td>\n",
       "    </tr>\n",
       "    <tr>\n",
       "      <th>6</th>\n",
       "      <td>NaN</td>\n",
       "      <td>NaN</td>\n",
       "      <td>NaN</td>\n",
       "    </tr>\n",
       "    <tr>\n",
       "      <th>7</th>\n",
       "      <td>9.0</td>\n",
       "      <td>2.0</td>\n",
       "      <td>2.0</td>\n",
       "    </tr>\n",
       "    <tr>\n",
       "      <th>8</th>\n",
       "      <td>15.0</td>\n",
       "      <td>3.0</td>\n",
       "      <td>31.0</td>\n",
       "    </tr>\n",
       "  </tbody>\n",
       "</table>\n",
       "</div>"
      ],
      "text/plain": [
       "     V1    V2    V3\n",
       "0   1.0   7.0   NaN\n",
       "1   3.0   NaN  12.0\n",
       "2   6.0   5.0   5.0\n",
       "3   NaN   8.0   6.0\n",
       "4   7.0  12.0  14.0\n",
       "5   1.0   NaN   7.0\n",
       "6   NaN   NaN   NaN\n",
       "7   9.0   2.0   2.0\n",
       "8  15.0   3.0  31.0"
      ]
     },
     "execution_count": 43,
     "metadata": {},
     "output_type": "execute_result"
    }
   ],
   "source": [
    "df # Original Veri Setimiz"
   ]
  },
  {
   "cell_type": "code",
   "execution_count": 44,
   "id": "81c79f1a",
   "metadata": {
    "execution": {
     "iopub.execute_input": "2022-05-07T01:58:50.051185Z",
     "iopub.status.busy": "2022-05-07T01:58:50.050649Z",
     "iopub.status.idle": "2022-05-07T01:58:50.063958Z",
     "shell.execute_reply": "2022-05-07T01:58:50.063286Z"
    },
    "papermill": {
     "duration": 0.116607,
     "end_time": "2022-05-07T01:58:50.065786",
     "exception": false,
     "start_time": "2022-05-07T01:58:49.949179",
     "status": "completed"
    },
    "tags": []
   },
   "outputs": [
    {
     "data": {
      "text/html": [
       "<div>\n",
       "<style scoped>\n",
       "    .dataframe tbody tr th:only-of-type {\n",
       "        vertical-align: middle;\n",
       "    }\n",
       "\n",
       "    .dataframe tbody tr th {\n",
       "        vertical-align: top;\n",
       "    }\n",
       "\n",
       "    .dataframe thead th {\n",
       "        text-align: right;\n",
       "    }\n",
       "</style>\n",
       "<table border=\"1\" class=\"dataframe\">\n",
       "  <thead>\n",
       "    <tr style=\"text-align: right;\">\n",
       "      <th></th>\n",
       "      <th>V1</th>\n",
       "      <th>V2</th>\n",
       "      <th>V3</th>\n",
       "    </tr>\n",
       "  </thead>\n",
       "  <tbody>\n",
       "    <tr>\n",
       "      <th>0</th>\n",
       "      <td>1.0</td>\n",
       "      <td>7.0</td>\n",
       "      <td>NaN</td>\n",
       "    </tr>\n",
       "    <tr>\n",
       "      <th>1</th>\n",
       "      <td>3.0</td>\n",
       "      <td>NaN</td>\n",
       "      <td>12.0</td>\n",
       "    </tr>\n",
       "    <tr>\n",
       "      <th>2</th>\n",
       "      <td>6.0</td>\n",
       "      <td>5.0</td>\n",
       "      <td>5.0</td>\n",
       "    </tr>\n",
       "    <tr>\n",
       "      <th>3</th>\n",
       "      <td>NaN</td>\n",
       "      <td>8.0</td>\n",
       "      <td>6.0</td>\n",
       "    </tr>\n",
       "    <tr>\n",
       "      <th>4</th>\n",
       "      <td>7.0</td>\n",
       "      <td>12.0</td>\n",
       "      <td>14.0</td>\n",
       "    </tr>\n",
       "    <tr>\n",
       "      <th>5</th>\n",
       "      <td>1.0</td>\n",
       "      <td>NaN</td>\n",
       "      <td>7.0</td>\n",
       "    </tr>\n",
       "    <tr>\n",
       "      <th>7</th>\n",
       "      <td>9.0</td>\n",
       "      <td>2.0</td>\n",
       "      <td>2.0</td>\n",
       "    </tr>\n",
       "    <tr>\n",
       "      <th>8</th>\n",
       "      <td>15.0</td>\n",
       "      <td>3.0</td>\n",
       "      <td>31.0</td>\n",
       "    </tr>\n",
       "  </tbody>\n",
       "</table>\n",
       "</div>"
      ],
      "text/plain": [
       "     V1    V2    V3\n",
       "0   1.0   7.0   NaN\n",
       "1   3.0   NaN  12.0\n",
       "2   6.0   5.0   5.0\n",
       "3   NaN   8.0   6.0\n",
       "4   7.0  12.0  14.0\n",
       "5   1.0   NaN   7.0\n",
       "7   9.0   2.0   2.0\n",
       "8  15.0   3.0  31.0"
      ]
     },
     "execution_count": 44,
     "metadata": {},
     "output_type": "execute_result"
    }
   ],
   "source": [
    "# Hepsi Eksik Olanlari Sil ( 6. Gozlemdeki Gibi )\n",
    "\n",
    "df.dropna(how = \"all\") # Sil Diyoruz ( Nasil Siliyim Diyor ) Hepsi Ayni Anda Ise Bunlari Sil Diyoruz ------->> ( Sonuc : 6. Gozlem Gitmis Oldu )"
   ]
  },
  {
   "cell_type": "code",
   "execution_count": 45,
   "id": "0e12fd74",
   "metadata": {
    "execution": {
     "iopub.execute_input": "2022-05-07T01:58:50.275105Z",
     "iopub.status.busy": "2022-05-07T01:58:50.274533Z",
     "iopub.status.idle": "2022-05-07T01:58:50.283021Z",
     "shell.execute_reply": "2022-05-07T01:58:50.282349Z"
    },
    "papermill": {
     "duration": 0.116727,
     "end_time": "2022-05-07T01:58:50.284867",
     "exception": false,
     "start_time": "2022-05-07T01:58:50.168140",
     "status": "completed"
    },
    "tags": []
   },
   "outputs": [
    {
     "data": {
      "text/html": [
       "<div>\n",
       "<style scoped>\n",
       "    .dataframe tbody tr th:only-of-type {\n",
       "        vertical-align: middle;\n",
       "    }\n",
       "\n",
       "    .dataframe tbody tr th {\n",
       "        vertical-align: top;\n",
       "    }\n",
       "\n",
       "    .dataframe thead th {\n",
       "        text-align: right;\n",
       "    }\n",
       "</style>\n",
       "<table border=\"1\" class=\"dataframe\">\n",
       "  <thead>\n",
       "    <tr style=\"text-align: right;\">\n",
       "      <th></th>\n",
       "    </tr>\n",
       "  </thead>\n",
       "  <tbody>\n",
       "    <tr>\n",
       "      <th>0</th>\n",
       "    </tr>\n",
       "    <tr>\n",
       "      <th>1</th>\n",
       "    </tr>\n",
       "    <tr>\n",
       "      <th>2</th>\n",
       "    </tr>\n",
       "    <tr>\n",
       "      <th>3</th>\n",
       "    </tr>\n",
       "    <tr>\n",
       "      <th>4</th>\n",
       "    </tr>\n",
       "    <tr>\n",
       "      <th>5</th>\n",
       "    </tr>\n",
       "    <tr>\n",
       "      <th>6</th>\n",
       "    </tr>\n",
       "    <tr>\n",
       "      <th>7</th>\n",
       "    </tr>\n",
       "    <tr>\n",
       "      <th>8</th>\n",
       "    </tr>\n",
       "  </tbody>\n",
       "</table>\n",
       "</div>"
      ],
      "text/plain": [
       "Empty DataFrame\n",
       "Columns: []\n",
       "Index: [0, 1, 2, 3, 4, 5, 6, 7, 8]"
      ]
     },
     "execution_count": 45,
     "metadata": {},
     "output_type": "execute_result"
    }
   ],
   "source": [
    "df.dropna(axis = 1) # Bu Su Anlama Geliyor; Degisken Bazinda Dusunuldugunde En Az Bir Tane Eksik Degere Sahip Olan Degiskeni Sil --->> ( Tabi Bunu Calistirdigimizda Hicbir Gozlemin Kalmamasini Bekleriz )\n",
    "# Cunku Zaten Hepsinde Birer Adet Eksiklik Var ( Eger Elimizde Tum Degerleri Dolu Olan Bir Degisken Olsaydi Kalmis Olucakti)\n",
    "# Bu Islemler Kalici Degildir"
   ]
  },
  {
   "cell_type": "code",
   "execution_count": 46,
   "id": "ddc42e67",
   "metadata": {
    "execution": {
     "iopub.execute_input": "2022-05-07T01:58:50.490638Z",
     "iopub.status.busy": "2022-05-07T01:58:50.489911Z",
     "iopub.status.idle": "2022-05-07T01:58:50.501724Z",
     "shell.execute_reply": "2022-05-07T01:58:50.501158Z"
    },
    "papermill": {
     "duration": 0.117402,
     "end_time": "2022-05-07T01:58:50.503897",
     "exception": false,
     "start_time": "2022-05-07T01:58:50.386495",
     "status": "completed"
    },
    "tags": []
   },
   "outputs": [
    {
     "data": {
      "text/html": [
       "<div>\n",
       "<style scoped>\n",
       "    .dataframe tbody tr th:only-of-type {\n",
       "        vertical-align: middle;\n",
       "    }\n",
       "\n",
       "    .dataframe tbody tr th {\n",
       "        vertical-align: top;\n",
       "    }\n",
       "\n",
       "    .dataframe thead th {\n",
       "        text-align: right;\n",
       "    }\n",
       "</style>\n",
       "<table border=\"1\" class=\"dataframe\">\n",
       "  <thead>\n",
       "    <tr style=\"text-align: right;\">\n",
       "      <th></th>\n",
       "      <th>V1</th>\n",
       "      <th>V2</th>\n",
       "      <th>V3</th>\n",
       "    </tr>\n",
       "  </thead>\n",
       "  <tbody>\n",
       "    <tr>\n",
       "      <th>0</th>\n",
       "      <td>1.0</td>\n",
       "      <td>7.0</td>\n",
       "      <td>NaN</td>\n",
       "    </tr>\n",
       "    <tr>\n",
       "      <th>1</th>\n",
       "      <td>3.0</td>\n",
       "      <td>NaN</td>\n",
       "      <td>12.0</td>\n",
       "    </tr>\n",
       "    <tr>\n",
       "      <th>2</th>\n",
       "      <td>6.0</td>\n",
       "      <td>5.0</td>\n",
       "      <td>5.0</td>\n",
       "    </tr>\n",
       "    <tr>\n",
       "      <th>3</th>\n",
       "      <td>NaN</td>\n",
       "      <td>8.0</td>\n",
       "      <td>6.0</td>\n",
       "    </tr>\n",
       "    <tr>\n",
       "      <th>4</th>\n",
       "      <td>7.0</td>\n",
       "      <td>12.0</td>\n",
       "      <td>14.0</td>\n",
       "    </tr>\n",
       "    <tr>\n",
       "      <th>5</th>\n",
       "      <td>1.0</td>\n",
       "      <td>NaN</td>\n",
       "      <td>7.0</td>\n",
       "    </tr>\n",
       "    <tr>\n",
       "      <th>6</th>\n",
       "      <td>NaN</td>\n",
       "      <td>NaN</td>\n",
       "      <td>NaN</td>\n",
       "    </tr>\n",
       "    <tr>\n",
       "      <th>7</th>\n",
       "      <td>9.0</td>\n",
       "      <td>2.0</td>\n",
       "      <td>2.0</td>\n",
       "    </tr>\n",
       "    <tr>\n",
       "      <th>8</th>\n",
       "      <td>15.0</td>\n",
       "      <td>3.0</td>\n",
       "      <td>31.0</td>\n",
       "    </tr>\n",
       "  </tbody>\n",
       "</table>\n",
       "</div>"
      ],
      "text/plain": [
       "     V1    V2    V3\n",
       "0   1.0   7.0   NaN\n",
       "1   3.0   NaN  12.0\n",
       "2   6.0   5.0   5.0\n",
       "3   NaN   8.0   6.0\n",
       "4   7.0  12.0  14.0\n",
       "5   1.0   NaN   7.0\n",
       "6   NaN   NaN   NaN\n",
       "7   9.0   2.0   2.0\n",
       "8  15.0   3.0  31.0"
      ]
     },
     "execution_count": 46,
     "metadata": {},
     "output_type": "execute_result"
    }
   ],
   "source": [
    "df"
   ]
  },
  {
   "cell_type": "code",
   "execution_count": 47,
   "id": "108212d1",
   "metadata": {
    "execution": {
     "iopub.execute_input": "2022-05-07T01:58:50.713783Z",
     "iopub.status.busy": "2022-05-07T01:58:50.713225Z",
     "iopub.status.idle": "2022-05-07T01:58:50.726871Z",
     "shell.execute_reply": "2022-05-07T01:58:50.726288Z"
    },
    "papermill": {
     "duration": 0.11942,
     "end_time": "2022-05-07T01:58:50.728878",
     "exception": false,
     "start_time": "2022-05-07T01:58:50.609458",
     "status": "completed"
    },
    "tags": []
   },
   "outputs": [
    {
     "data": {
      "text/html": [
       "<div>\n",
       "<style scoped>\n",
       "    .dataframe tbody tr th:only-of-type {\n",
       "        vertical-align: middle;\n",
       "    }\n",
       "\n",
       "    .dataframe tbody tr th {\n",
       "        vertical-align: top;\n",
       "    }\n",
       "\n",
       "    .dataframe thead th {\n",
       "        text-align: right;\n",
       "    }\n",
       "</style>\n",
       "<table border=\"1\" class=\"dataframe\">\n",
       "  <thead>\n",
       "    <tr style=\"text-align: right;\">\n",
       "      <th></th>\n",
       "      <th>V1</th>\n",
       "      <th>V2</th>\n",
       "      <th>V3</th>\n",
       "    </tr>\n",
       "  </thead>\n",
       "  <tbody>\n",
       "    <tr>\n",
       "      <th>0</th>\n",
       "      <td>1.0</td>\n",
       "      <td>7.0</td>\n",
       "      <td>NaN</td>\n",
       "    </tr>\n",
       "    <tr>\n",
       "      <th>1</th>\n",
       "      <td>3.0</td>\n",
       "      <td>NaN</td>\n",
       "      <td>12.0</td>\n",
       "    </tr>\n",
       "    <tr>\n",
       "      <th>2</th>\n",
       "      <td>6.0</td>\n",
       "      <td>5.0</td>\n",
       "      <td>5.0</td>\n",
       "    </tr>\n",
       "    <tr>\n",
       "      <th>3</th>\n",
       "      <td>NaN</td>\n",
       "      <td>8.0</td>\n",
       "      <td>6.0</td>\n",
       "    </tr>\n",
       "    <tr>\n",
       "      <th>4</th>\n",
       "      <td>7.0</td>\n",
       "      <td>12.0</td>\n",
       "      <td>14.0</td>\n",
       "    </tr>\n",
       "    <tr>\n",
       "      <th>5</th>\n",
       "      <td>1.0</td>\n",
       "      <td>NaN</td>\n",
       "      <td>7.0</td>\n",
       "    </tr>\n",
       "    <tr>\n",
       "      <th>6</th>\n",
       "      <td>NaN</td>\n",
       "      <td>NaN</td>\n",
       "      <td>NaN</td>\n",
       "    </tr>\n",
       "    <tr>\n",
       "      <th>7</th>\n",
       "      <td>9.0</td>\n",
       "      <td>2.0</td>\n",
       "      <td>2.0</td>\n",
       "    </tr>\n",
       "    <tr>\n",
       "      <th>8</th>\n",
       "      <td>15.0</td>\n",
       "      <td>3.0</td>\n",
       "      <td>31.0</td>\n",
       "    </tr>\n",
       "  </tbody>\n",
       "</table>\n",
       "</div>"
      ],
      "text/plain": [
       "     V1    V2    V3\n",
       "0   1.0   7.0   NaN\n",
       "1   3.0   NaN  12.0\n",
       "2   6.0   5.0   5.0\n",
       "3   NaN   8.0   6.0\n",
       "4   7.0  12.0  14.0\n",
       "5   1.0   NaN   7.0\n",
       "6   NaN   NaN   NaN\n",
       "7   9.0   2.0   2.0\n",
       "8  15.0   3.0  31.0"
      ]
     },
     "execution_count": 47,
     "metadata": {},
     "output_type": "execute_result"
    }
   ],
   "source": [
    "# Tum Degerleri NA Olan Degiskenleri Silmek Istedigimizi Dusunelim \n",
    "\n",
    "df.dropna(axis = 1, how = \"all\") # axis = 1 ----->> Degiskenlere Gore Yap Demek ------->> how = \"all\"   Demek Su Anlama Gelir; Tum Degerleri \"NA\" Olan Degiskenleri Silecek Ornek Olmasi Acisindan Bir Alt\n",
    "# Tarafta Ornek Yapalim ( Su Anda Veri Setinde Boyle Bir Degisken Yok Ekliyoruz )"
   ]
  },
  {
   "cell_type": "code",
   "execution_count": 48,
   "id": "dc0269ef",
   "metadata": {
    "execution": {
     "iopub.execute_input": "2022-05-07T01:58:50.940093Z",
     "iopub.status.busy": "2022-05-07T01:58:50.939673Z",
     "iopub.status.idle": "2022-05-07T01:58:50.943751Z",
     "shell.execute_reply": "2022-05-07T01:58:50.943175Z"
    },
    "papermill": {
     "duration": 0.11293,
     "end_time": "2022-05-07T01:58:50.945682",
     "exception": false,
     "start_time": "2022-05-07T01:58:50.832752",
     "status": "completed"
    },
    "tags": []
   },
   "outputs": [],
   "source": [
    "df[\"sil_beni\"] = np.nan # Tum Degerleri NA Olan Bir Degisken Ekledik"
   ]
  },
  {
   "cell_type": "code",
   "execution_count": 49,
   "id": "90641335",
   "metadata": {
    "execution": {
     "iopub.execute_input": "2022-05-07T01:58:51.156183Z",
     "iopub.status.busy": "2022-05-07T01:58:51.155768Z",
     "iopub.status.idle": "2022-05-07T01:58:51.167452Z",
     "shell.execute_reply": "2022-05-07T01:58:51.166881Z"
    },
    "papermill": {
     "duration": 0.118446,
     "end_time": "2022-05-07T01:58:51.169234",
     "exception": false,
     "start_time": "2022-05-07T01:58:51.050788",
     "status": "completed"
    },
    "tags": []
   },
   "outputs": [
    {
     "data": {
      "text/html": [
       "<div>\n",
       "<style scoped>\n",
       "    .dataframe tbody tr th:only-of-type {\n",
       "        vertical-align: middle;\n",
       "    }\n",
       "\n",
       "    .dataframe tbody tr th {\n",
       "        vertical-align: top;\n",
       "    }\n",
       "\n",
       "    .dataframe thead th {\n",
       "        text-align: right;\n",
       "    }\n",
       "</style>\n",
       "<table border=\"1\" class=\"dataframe\">\n",
       "  <thead>\n",
       "    <tr style=\"text-align: right;\">\n",
       "      <th></th>\n",
       "      <th>V1</th>\n",
       "      <th>V2</th>\n",
       "      <th>V3</th>\n",
       "      <th>sil_beni</th>\n",
       "    </tr>\n",
       "  </thead>\n",
       "  <tbody>\n",
       "    <tr>\n",
       "      <th>0</th>\n",
       "      <td>1.0</td>\n",
       "      <td>7.0</td>\n",
       "      <td>NaN</td>\n",
       "      <td>NaN</td>\n",
       "    </tr>\n",
       "    <tr>\n",
       "      <th>1</th>\n",
       "      <td>3.0</td>\n",
       "      <td>NaN</td>\n",
       "      <td>12.0</td>\n",
       "      <td>NaN</td>\n",
       "    </tr>\n",
       "    <tr>\n",
       "      <th>2</th>\n",
       "      <td>6.0</td>\n",
       "      <td>5.0</td>\n",
       "      <td>5.0</td>\n",
       "      <td>NaN</td>\n",
       "    </tr>\n",
       "    <tr>\n",
       "      <th>3</th>\n",
       "      <td>NaN</td>\n",
       "      <td>8.0</td>\n",
       "      <td>6.0</td>\n",
       "      <td>NaN</td>\n",
       "    </tr>\n",
       "    <tr>\n",
       "      <th>4</th>\n",
       "      <td>7.0</td>\n",
       "      <td>12.0</td>\n",
       "      <td>14.0</td>\n",
       "      <td>NaN</td>\n",
       "    </tr>\n",
       "    <tr>\n",
       "      <th>5</th>\n",
       "      <td>1.0</td>\n",
       "      <td>NaN</td>\n",
       "      <td>7.0</td>\n",
       "      <td>NaN</td>\n",
       "    </tr>\n",
       "    <tr>\n",
       "      <th>6</th>\n",
       "      <td>NaN</td>\n",
       "      <td>NaN</td>\n",
       "      <td>NaN</td>\n",
       "      <td>NaN</td>\n",
       "    </tr>\n",
       "    <tr>\n",
       "      <th>7</th>\n",
       "      <td>9.0</td>\n",
       "      <td>2.0</td>\n",
       "      <td>2.0</td>\n",
       "      <td>NaN</td>\n",
       "    </tr>\n",
       "    <tr>\n",
       "      <th>8</th>\n",
       "      <td>15.0</td>\n",
       "      <td>3.0</td>\n",
       "      <td>31.0</td>\n",
       "      <td>NaN</td>\n",
       "    </tr>\n",
       "  </tbody>\n",
       "</table>\n",
       "</div>"
      ],
      "text/plain": [
       "     V1    V2    V3  sil_beni\n",
       "0   1.0   7.0   NaN       NaN\n",
       "1   3.0   NaN  12.0       NaN\n",
       "2   6.0   5.0   5.0       NaN\n",
       "3   NaN   8.0   6.0       NaN\n",
       "4   7.0  12.0  14.0       NaN\n",
       "5   1.0   NaN   7.0       NaN\n",
       "6   NaN   NaN   NaN       NaN\n",
       "7   9.0   2.0   2.0       NaN\n",
       "8  15.0   3.0  31.0       NaN"
      ]
     },
     "execution_count": 49,
     "metadata": {},
     "output_type": "execute_result"
    }
   ],
   "source": [
    "df"
   ]
  },
  {
   "cell_type": "code",
   "execution_count": 50,
   "id": "77b33f76",
   "metadata": {
    "execution": {
     "iopub.execute_input": "2022-05-07T01:58:51.380835Z",
     "iopub.status.busy": "2022-05-07T01:58:51.380394Z",
     "iopub.status.idle": "2022-05-07T01:58:51.394976Z",
     "shell.execute_reply": "2022-05-07T01:58:51.394342Z"
    },
    "papermill": {
     "duration": 0.122059,
     "end_time": "2022-05-07T01:58:51.396888",
     "exception": false,
     "start_time": "2022-05-07T01:58:51.274829",
     "status": "completed"
    },
    "tags": []
   },
   "outputs": [
    {
     "data": {
      "text/html": [
       "<div>\n",
       "<style scoped>\n",
       "    .dataframe tbody tr th:only-of-type {\n",
       "        vertical-align: middle;\n",
       "    }\n",
       "\n",
       "    .dataframe tbody tr th {\n",
       "        vertical-align: top;\n",
       "    }\n",
       "\n",
       "    .dataframe thead th {\n",
       "        text-align: right;\n",
       "    }\n",
       "</style>\n",
       "<table border=\"1\" class=\"dataframe\">\n",
       "  <thead>\n",
       "    <tr style=\"text-align: right;\">\n",
       "      <th></th>\n",
       "      <th>V1</th>\n",
       "      <th>V2</th>\n",
       "      <th>V3</th>\n",
       "    </tr>\n",
       "  </thead>\n",
       "  <tbody>\n",
       "    <tr>\n",
       "      <th>0</th>\n",
       "      <td>1.0</td>\n",
       "      <td>7.0</td>\n",
       "      <td>NaN</td>\n",
       "    </tr>\n",
       "    <tr>\n",
       "      <th>1</th>\n",
       "      <td>3.0</td>\n",
       "      <td>NaN</td>\n",
       "      <td>12.0</td>\n",
       "    </tr>\n",
       "    <tr>\n",
       "      <th>2</th>\n",
       "      <td>6.0</td>\n",
       "      <td>5.0</td>\n",
       "      <td>5.0</td>\n",
       "    </tr>\n",
       "    <tr>\n",
       "      <th>3</th>\n",
       "      <td>NaN</td>\n",
       "      <td>8.0</td>\n",
       "      <td>6.0</td>\n",
       "    </tr>\n",
       "    <tr>\n",
       "      <th>4</th>\n",
       "      <td>7.0</td>\n",
       "      <td>12.0</td>\n",
       "      <td>14.0</td>\n",
       "    </tr>\n",
       "    <tr>\n",
       "      <th>5</th>\n",
       "      <td>1.0</td>\n",
       "      <td>NaN</td>\n",
       "      <td>7.0</td>\n",
       "    </tr>\n",
       "    <tr>\n",
       "      <th>6</th>\n",
       "      <td>NaN</td>\n",
       "      <td>NaN</td>\n",
       "      <td>NaN</td>\n",
       "    </tr>\n",
       "    <tr>\n",
       "      <th>7</th>\n",
       "      <td>9.0</td>\n",
       "      <td>2.0</td>\n",
       "      <td>2.0</td>\n",
       "    </tr>\n",
       "    <tr>\n",
       "      <th>8</th>\n",
       "      <td>15.0</td>\n",
       "      <td>3.0</td>\n",
       "      <td>31.0</td>\n",
       "    </tr>\n",
       "  </tbody>\n",
       "</table>\n",
       "</div>"
      ],
      "text/plain": [
       "     V1    V2    V3\n",
       "0   1.0   7.0   NaN\n",
       "1   3.0   NaN  12.0\n",
       "2   6.0   5.0   5.0\n",
       "3   NaN   8.0   6.0\n",
       "4   7.0  12.0  14.0\n",
       "5   1.0   NaN   7.0\n",
       "6   NaN   NaN   NaN\n",
       "7   9.0   2.0   2.0\n",
       "8  15.0   3.0  31.0"
      ]
     },
     "execution_count": 50,
     "metadata": {},
     "output_type": "execute_result"
    }
   ],
   "source": [
    "df.dropna(axis = 1, how = \"all\") # ( Uc Ustte Yazdigim Code'nin Aynisi ) ( Gorulecegi Uzere Sildik O Degiskeni ) ( Tabiki Bu Islemler Kalici Degil Original Halinden Silinmedi )"
   ]
  },
  {
   "cell_type": "code",
   "execution_count": 51,
   "id": "ca299e0c",
   "metadata": {
    "execution": {
     "iopub.execute_input": "2022-05-07T01:58:51.607812Z",
     "iopub.status.busy": "2022-05-07T01:58:51.607390Z",
     "iopub.status.idle": "2022-05-07T01:58:51.619158Z",
     "shell.execute_reply": "2022-05-07T01:58:51.618587Z"
    },
    "papermill": {
     "duration": 0.120033,
     "end_time": "2022-05-07T01:58:51.621014",
     "exception": false,
     "start_time": "2022-05-07T01:58:51.500981",
     "status": "completed"
    },
    "tags": []
   },
   "outputs": [
    {
     "data": {
      "text/html": [
       "<div>\n",
       "<style scoped>\n",
       "    .dataframe tbody tr th:only-of-type {\n",
       "        vertical-align: middle;\n",
       "    }\n",
       "\n",
       "    .dataframe tbody tr th {\n",
       "        vertical-align: top;\n",
       "    }\n",
       "\n",
       "    .dataframe thead th {\n",
       "        text-align: right;\n",
       "    }\n",
       "</style>\n",
       "<table border=\"1\" class=\"dataframe\">\n",
       "  <thead>\n",
       "    <tr style=\"text-align: right;\">\n",
       "      <th></th>\n",
       "      <th>V1</th>\n",
       "      <th>V2</th>\n",
       "      <th>V3</th>\n",
       "      <th>sil_beni</th>\n",
       "    </tr>\n",
       "  </thead>\n",
       "  <tbody>\n",
       "    <tr>\n",
       "      <th>0</th>\n",
       "      <td>1.0</td>\n",
       "      <td>7.0</td>\n",
       "      <td>NaN</td>\n",
       "      <td>NaN</td>\n",
       "    </tr>\n",
       "    <tr>\n",
       "      <th>1</th>\n",
       "      <td>3.0</td>\n",
       "      <td>NaN</td>\n",
       "      <td>12.0</td>\n",
       "      <td>NaN</td>\n",
       "    </tr>\n",
       "    <tr>\n",
       "      <th>2</th>\n",
       "      <td>6.0</td>\n",
       "      <td>5.0</td>\n",
       "      <td>5.0</td>\n",
       "      <td>NaN</td>\n",
       "    </tr>\n",
       "    <tr>\n",
       "      <th>3</th>\n",
       "      <td>NaN</td>\n",
       "      <td>8.0</td>\n",
       "      <td>6.0</td>\n",
       "      <td>NaN</td>\n",
       "    </tr>\n",
       "    <tr>\n",
       "      <th>4</th>\n",
       "      <td>7.0</td>\n",
       "      <td>12.0</td>\n",
       "      <td>14.0</td>\n",
       "      <td>NaN</td>\n",
       "    </tr>\n",
       "    <tr>\n",
       "      <th>5</th>\n",
       "      <td>1.0</td>\n",
       "      <td>NaN</td>\n",
       "      <td>7.0</td>\n",
       "      <td>NaN</td>\n",
       "    </tr>\n",
       "    <tr>\n",
       "      <th>6</th>\n",
       "      <td>NaN</td>\n",
       "      <td>NaN</td>\n",
       "      <td>NaN</td>\n",
       "      <td>NaN</td>\n",
       "    </tr>\n",
       "    <tr>\n",
       "      <th>7</th>\n",
       "      <td>9.0</td>\n",
       "      <td>2.0</td>\n",
       "      <td>2.0</td>\n",
       "      <td>NaN</td>\n",
       "    </tr>\n",
       "    <tr>\n",
       "      <th>8</th>\n",
       "      <td>15.0</td>\n",
       "      <td>3.0</td>\n",
       "      <td>31.0</td>\n",
       "      <td>NaN</td>\n",
       "    </tr>\n",
       "  </tbody>\n",
       "</table>\n",
       "</div>"
      ],
      "text/plain": [
       "     V1    V2    V3  sil_beni\n",
       "0   1.0   7.0   NaN       NaN\n",
       "1   3.0   NaN  12.0       NaN\n",
       "2   6.0   5.0   5.0       NaN\n",
       "3   NaN   8.0   6.0       NaN\n",
       "4   7.0  12.0  14.0       NaN\n",
       "5   1.0   NaN   7.0       NaN\n",
       "6   NaN   NaN   NaN       NaN\n",
       "7   9.0   2.0   2.0       NaN\n",
       "8  15.0   3.0  31.0       NaN"
      ]
     },
     "execution_count": 51,
     "metadata": {},
     "output_type": "execute_result"
    }
   ],
   "source": [
    "df"
   ]
  },
  {
   "cell_type": "code",
   "execution_count": 52,
   "id": "031b9de1",
   "metadata": {
    "execution": {
     "iopub.execute_input": "2022-05-07T01:58:51.835180Z",
     "iopub.status.busy": "2022-05-07T01:58:51.834678Z",
     "iopub.status.idle": "2022-05-07T01:58:51.840080Z",
     "shell.execute_reply": "2022-05-07T01:58:51.839499Z"
    },
    "papermill": {
     "duration": 0.115912,
     "end_time": "2022-05-07T01:58:51.841949",
     "exception": false,
     "start_time": "2022-05-07T01:58:51.726037",
     "status": "completed"
    },
    "tags": []
   },
   "outputs": [],
   "source": [
    "df.dropna(axis = 1, how = \"all\", inplace = True) # Bu Ifadeyi Kalici Olarak \"inplace = True\" Ifadesini Kullaniriz"
   ]
  },
  {
   "cell_type": "code",
   "execution_count": 53,
   "id": "10a916d3",
   "metadata": {
    "execution": {
     "iopub.execute_input": "2022-05-07T01:58:52.054073Z",
     "iopub.status.busy": "2022-05-07T01:58:52.053778Z",
     "iopub.status.idle": "2022-05-07T01:58:52.065816Z",
     "shell.execute_reply": "2022-05-07T01:58:52.065312Z"
    },
    "papermill": {
     "duration": 0.121769,
     "end_time": "2022-05-07T01:58:52.068005",
     "exception": false,
     "start_time": "2022-05-07T01:58:51.946236",
     "status": "completed"
    },
    "tags": []
   },
   "outputs": [
    {
     "data": {
      "text/html": [
       "<div>\n",
       "<style scoped>\n",
       "    .dataframe tbody tr th:only-of-type {\n",
       "        vertical-align: middle;\n",
       "    }\n",
       "\n",
       "    .dataframe tbody tr th {\n",
       "        vertical-align: top;\n",
       "    }\n",
       "\n",
       "    .dataframe thead th {\n",
       "        text-align: right;\n",
       "    }\n",
       "</style>\n",
       "<table border=\"1\" class=\"dataframe\">\n",
       "  <thead>\n",
       "    <tr style=\"text-align: right;\">\n",
       "      <th></th>\n",
       "      <th>V1</th>\n",
       "      <th>V2</th>\n",
       "      <th>V3</th>\n",
       "    </tr>\n",
       "  </thead>\n",
       "  <tbody>\n",
       "    <tr>\n",
       "      <th>0</th>\n",
       "      <td>1.0</td>\n",
       "      <td>7.0</td>\n",
       "      <td>NaN</td>\n",
       "    </tr>\n",
       "    <tr>\n",
       "      <th>1</th>\n",
       "      <td>3.0</td>\n",
       "      <td>NaN</td>\n",
       "      <td>12.0</td>\n",
       "    </tr>\n",
       "    <tr>\n",
       "      <th>2</th>\n",
       "      <td>6.0</td>\n",
       "      <td>5.0</td>\n",
       "      <td>5.0</td>\n",
       "    </tr>\n",
       "    <tr>\n",
       "      <th>3</th>\n",
       "      <td>NaN</td>\n",
       "      <td>8.0</td>\n",
       "      <td>6.0</td>\n",
       "    </tr>\n",
       "    <tr>\n",
       "      <th>4</th>\n",
       "      <td>7.0</td>\n",
       "      <td>12.0</td>\n",
       "      <td>14.0</td>\n",
       "    </tr>\n",
       "    <tr>\n",
       "      <th>5</th>\n",
       "      <td>1.0</td>\n",
       "      <td>NaN</td>\n",
       "      <td>7.0</td>\n",
       "    </tr>\n",
       "    <tr>\n",
       "      <th>6</th>\n",
       "      <td>NaN</td>\n",
       "      <td>NaN</td>\n",
       "      <td>NaN</td>\n",
       "    </tr>\n",
       "    <tr>\n",
       "      <th>7</th>\n",
       "      <td>9.0</td>\n",
       "      <td>2.0</td>\n",
       "      <td>2.0</td>\n",
       "    </tr>\n",
       "    <tr>\n",
       "      <th>8</th>\n",
       "      <td>15.0</td>\n",
       "      <td>3.0</td>\n",
       "      <td>31.0</td>\n",
       "    </tr>\n",
       "  </tbody>\n",
       "</table>\n",
       "</div>"
      ],
      "text/plain": [
       "     V1    V2    V3\n",
       "0   1.0   7.0   NaN\n",
       "1   3.0   NaN  12.0\n",
       "2   6.0   5.0   5.0\n",
       "3   NaN   8.0   6.0\n",
       "4   7.0  12.0  14.0\n",
       "5   1.0   NaN   7.0\n",
       "6   NaN   NaN   NaN\n",
       "7   9.0   2.0   2.0\n",
       "8  15.0   3.0  31.0"
      ]
     },
     "execution_count": 53,
     "metadata": {},
     "output_type": "execute_result"
    }
   ],
   "source": [
    "df # \"sil_beni\" Degiskenini Kalici Olarak Sildigimizi De Gormekteyiz"
   ]
  },
  {
   "cell_type": "markdown",
   "id": "17c83cf8",
   "metadata": {
    "papermill": {
     "duration": 0.106586,
     "end_time": "2022-05-07T01:58:52.281455",
     "exception": false,
     "start_time": "2022-05-07T01:58:52.174869",
     "status": "completed"
    },
    "tags": []
   },
   "source": [
    "# Deger Atama Yontemleri"
   ]
  },
  {
   "cell_type": "code",
   "execution_count": 54,
   "id": "8e2e0626",
   "metadata": {
    "execution": {
     "iopub.execute_input": "2022-05-07T01:58:52.493940Z",
     "iopub.status.busy": "2022-05-07T01:58:52.493416Z",
     "iopub.status.idle": "2022-05-07T01:58:52.508905Z",
     "shell.execute_reply": "2022-05-07T01:58:52.508237Z"
    },
    "papermill": {
     "duration": 0.123877,
     "end_time": "2022-05-07T01:58:52.510686",
     "exception": false,
     "start_time": "2022-05-07T01:58:52.386809",
     "status": "completed"
    },
    "tags": []
   },
   "outputs": [
    {
     "data": {
      "text/html": [
       "<div>\n",
       "<style scoped>\n",
       "    .dataframe tbody tr th:only-of-type {\n",
       "        vertical-align: middle;\n",
       "    }\n",
       "\n",
       "    .dataframe tbody tr th {\n",
       "        vertical-align: top;\n",
       "    }\n",
       "\n",
       "    .dataframe thead th {\n",
       "        text-align: right;\n",
       "    }\n",
       "</style>\n",
       "<table border=\"1\" class=\"dataframe\">\n",
       "  <thead>\n",
       "    <tr style=\"text-align: right;\">\n",
       "      <th></th>\n",
       "      <th>V1</th>\n",
       "      <th>V2</th>\n",
       "      <th>V3</th>\n",
       "    </tr>\n",
       "  </thead>\n",
       "  <tbody>\n",
       "    <tr>\n",
       "      <th>0</th>\n",
       "      <td>1.0</td>\n",
       "      <td>7.0</td>\n",
       "      <td>NaN</td>\n",
       "    </tr>\n",
       "    <tr>\n",
       "      <th>1</th>\n",
       "      <td>3.0</td>\n",
       "      <td>NaN</td>\n",
       "      <td>12.0</td>\n",
       "    </tr>\n",
       "    <tr>\n",
       "      <th>2</th>\n",
       "      <td>6.0</td>\n",
       "      <td>5.0</td>\n",
       "      <td>5.0</td>\n",
       "    </tr>\n",
       "    <tr>\n",
       "      <th>3</th>\n",
       "      <td>NaN</td>\n",
       "      <td>8.0</td>\n",
       "      <td>6.0</td>\n",
       "    </tr>\n",
       "    <tr>\n",
       "      <th>4</th>\n",
       "      <td>7.0</td>\n",
       "      <td>12.0</td>\n",
       "      <td>14.0</td>\n",
       "    </tr>\n",
       "    <tr>\n",
       "      <th>5</th>\n",
       "      <td>1.0</td>\n",
       "      <td>NaN</td>\n",
       "      <td>7.0</td>\n",
       "    </tr>\n",
       "    <tr>\n",
       "      <th>6</th>\n",
       "      <td>NaN</td>\n",
       "      <td>NaN</td>\n",
       "      <td>NaN</td>\n",
       "    </tr>\n",
       "    <tr>\n",
       "      <th>7</th>\n",
       "      <td>9.0</td>\n",
       "      <td>2.0</td>\n",
       "      <td>2.0</td>\n",
       "    </tr>\n",
       "    <tr>\n",
       "      <th>8</th>\n",
       "      <td>15.0</td>\n",
       "      <td>3.0</td>\n",
       "      <td>31.0</td>\n",
       "    </tr>\n",
       "  </tbody>\n",
       "</table>\n",
       "</div>"
      ],
      "text/plain": [
       "     V1    V2    V3\n",
       "0   1.0   7.0   NaN\n",
       "1   3.0   NaN  12.0\n",
       "2   6.0   5.0   5.0\n",
       "3   NaN   8.0   6.0\n",
       "4   7.0  12.0  14.0\n",
       "5   1.0   NaN   7.0\n",
       "6   NaN   NaN   NaN\n",
       "7   9.0   2.0   2.0\n",
       "8  15.0   3.0  31.0"
      ]
     },
     "execution_count": 54,
     "metadata": {},
     "output_type": "execute_result"
    }
   ],
   "source": [
    "# import numpy as np\n",
    "# import pandas as pd\n",
    "\n",
    "\n",
    "V1 = np.array([1,3,6,np.NaN,7,1,np.NaN,9,15])\n",
    "V2 = np.array([7,np.NaN,5,8,12,np.NaN,np.NaN,2,3])\n",
    "V3 = np.array([np.NaN,12,5,6,14,7,np.NaN,2,31])\n",
    "\n",
    "df = pd.DataFrame(\n",
    "        {\"V1\" : V1,\n",
    "         \"V2\" : V2,\n",
    "         \"V3\" : V3}        \n",
    ")\n",
    "\n",
    "df"
   ]
  },
  {
   "cell_type": "markdown",
   "id": "ca7e159e",
   "metadata": {
    "papermill": {
     "duration": 0.106441,
     "end_time": "2022-05-07T01:58:52.723433",
     "exception": false,
     "start_time": "2022-05-07T01:58:52.616992",
     "status": "completed"
    },
    "tags": []
   },
   "source": [
    "### Sayisal Degikenlerde Atama Islemi"
   ]
  },
  {
   "cell_type": "code",
   "execution_count": 55,
   "id": "aa92415c",
   "metadata": {
    "execution": {
     "iopub.execute_input": "2022-05-07T01:58:52.938471Z",
     "iopub.status.busy": "2022-05-07T01:58:52.937994Z",
     "iopub.status.idle": "2022-05-07T01:58:52.945484Z",
     "shell.execute_reply": "2022-05-07T01:58:52.944741Z"
    },
    "papermill": {
     "duration": 0.116712,
     "end_time": "2022-05-07T01:58:52.947487",
     "exception": false,
     "start_time": "2022-05-07T01:58:52.830775",
     "status": "completed"
    },
    "tags": []
   },
   "outputs": [
    {
     "data": {
      "text/plain": [
       "0     1.0\n",
       "1     3.0\n",
       "2     6.0\n",
       "3     0.0\n",
       "4     7.0\n",
       "5     1.0\n",
       "6     0.0\n",
       "7     9.0\n",
       "8    15.0\n",
       "Name: V1, dtype: float64"
      ]
     },
     "execution_count": 55,
     "metadata": {},
     "output_type": "execute_result"
    }
   ],
   "source": [
    "# Birinci Degiskendeki Eksiklikleri Doldurmak Istedigimizde\n",
    "\n",
    "df[\"V1\"].fillna(0) # Atama Islemini Yaptik ( Hatirlatma ) ( Verinin Original Yapisinda Bir Degisiklik Yoktur )"
   ]
  },
  {
   "cell_type": "code",
   "execution_count": 56,
   "id": "a8d5b803",
   "metadata": {
    "execution": {
     "iopub.execute_input": "2022-05-07T01:58:53.163359Z",
     "iopub.status.busy": "2022-05-07T01:58:53.162402Z",
     "iopub.status.idle": "2022-05-07T01:58:53.170836Z",
     "shell.execute_reply": "2022-05-07T01:58:53.170196Z"
    },
    "papermill": {
     "duration": 0.117591,
     "end_time": "2022-05-07T01:58:53.172760",
     "exception": false,
     "start_time": "2022-05-07T01:58:53.055169",
     "status": "completed"
    },
    "tags": []
   },
   "outputs": [
    {
     "data": {
      "text/plain": [
       "0     1.0\n",
       "1     3.0\n",
       "2     6.0\n",
       "3     6.0\n",
       "4     7.0\n",
       "5     1.0\n",
       "6     6.0\n",
       "7     9.0\n",
       "8    15.0\n",
       "Name: V1, dtype: float64"
      ]
     },
     "execution_count": 56,
     "metadata": {},
     "output_type": "execute_result"
    }
   ],
   "source": [
    "df[\"V1\"].fillna(df[\"V1\"].mean()) # Ortalama Ile Doldurmak Istersek"
   ]
  },
  {
   "cell_type": "code",
   "execution_count": 57,
   "id": "105caf7e",
   "metadata": {
    "execution": {
     "iopub.execute_input": "2022-05-07T01:58:53.388561Z",
     "iopub.status.busy": "2022-05-07T01:58:53.387981Z",
     "iopub.status.idle": "2022-05-07T01:58:53.401773Z",
     "shell.execute_reply": "2022-05-07T01:58:53.400847Z"
    },
    "papermill": {
     "duration": 0.123935,
     "end_time": "2022-05-07T01:58:53.404168",
     "exception": false,
     "start_time": "2022-05-07T01:58:53.280233",
     "status": "completed"
    },
    "tags": []
   },
   "outputs": [
    {
     "data": {
      "text/html": [
       "<div>\n",
       "<style scoped>\n",
       "    .dataframe tbody tr th:only-of-type {\n",
       "        vertical-align: middle;\n",
       "    }\n",
       "\n",
       "    .dataframe tbody tr th {\n",
       "        vertical-align: top;\n",
       "    }\n",
       "\n",
       "    .dataframe thead th {\n",
       "        text-align: right;\n",
       "    }\n",
       "</style>\n",
       "<table border=\"1\" class=\"dataframe\">\n",
       "  <thead>\n",
       "    <tr style=\"text-align: right;\">\n",
       "      <th></th>\n",
       "      <th>V1</th>\n",
       "      <th>V2</th>\n",
       "      <th>V3</th>\n",
       "    </tr>\n",
       "  </thead>\n",
       "  <tbody>\n",
       "    <tr>\n",
       "      <th>0</th>\n",
       "      <td>1.0</td>\n",
       "      <td>7.0</td>\n",
       "      <td>NaN</td>\n",
       "    </tr>\n",
       "    <tr>\n",
       "      <th>1</th>\n",
       "      <td>3.0</td>\n",
       "      <td>NaN</td>\n",
       "      <td>12.0</td>\n",
       "    </tr>\n",
       "    <tr>\n",
       "      <th>2</th>\n",
       "      <td>6.0</td>\n",
       "      <td>5.0</td>\n",
       "      <td>5.0</td>\n",
       "    </tr>\n",
       "    <tr>\n",
       "      <th>3</th>\n",
       "      <td>NaN</td>\n",
       "      <td>8.0</td>\n",
       "      <td>6.0</td>\n",
       "    </tr>\n",
       "    <tr>\n",
       "      <th>4</th>\n",
       "      <td>7.0</td>\n",
       "      <td>12.0</td>\n",
       "      <td>14.0</td>\n",
       "    </tr>\n",
       "    <tr>\n",
       "      <th>5</th>\n",
       "      <td>1.0</td>\n",
       "      <td>NaN</td>\n",
       "      <td>7.0</td>\n",
       "    </tr>\n",
       "    <tr>\n",
       "      <th>6</th>\n",
       "      <td>NaN</td>\n",
       "      <td>NaN</td>\n",
       "      <td>NaN</td>\n",
       "    </tr>\n",
       "    <tr>\n",
       "      <th>7</th>\n",
       "      <td>9.0</td>\n",
       "      <td>2.0</td>\n",
       "      <td>2.0</td>\n",
       "    </tr>\n",
       "    <tr>\n",
       "      <th>8</th>\n",
       "      <td>15.0</td>\n",
       "      <td>3.0</td>\n",
       "      <td>31.0</td>\n",
       "    </tr>\n",
       "  </tbody>\n",
       "</table>\n",
       "</div>"
      ],
      "text/plain": [
       "     V1    V2    V3\n",
       "0   1.0   7.0   NaN\n",
       "1   3.0   NaN  12.0\n",
       "2   6.0   5.0   5.0\n",
       "3   NaN   8.0   6.0\n",
       "4   7.0  12.0  14.0\n",
       "5   1.0   NaN   7.0\n",
       "6   NaN   NaN   NaN\n",
       "7   9.0   2.0   2.0\n",
       "8  15.0   3.0  31.0"
      ]
     },
     "execution_count": 57,
     "metadata": {},
     "output_type": "execute_result"
    }
   ],
   "source": [
    "df # Data Sette Bir Degisim Yok"
   ]
  },
  {
   "cell_type": "markdown",
   "id": "1eee431b",
   "metadata": {
    "papermill": {
     "duration": 0.107052,
     "end_time": "2022-05-07T01:58:53.619190",
     "exception": false,
     "start_time": "2022-05-07T01:58:53.512138",
     "status": "completed"
    },
    "tags": []
   },
   "source": [
    "### Birinci Yol"
   ]
  },
  {
   "cell_type": "code",
   "execution_count": 58,
   "id": "e2c9fefe",
   "metadata": {
    "execution": {
     "iopub.execute_input": "2022-05-07T01:58:53.837316Z",
     "iopub.status.busy": "2022-05-07T01:58:53.836988Z",
     "iopub.status.idle": "2022-05-07T01:58:53.851967Z",
     "shell.execute_reply": "2022-05-07T01:58:53.850790Z"
    },
    "papermill": {
     "duration": 0.127418,
     "end_time": "2022-05-07T01:58:53.854058",
     "exception": false,
     "start_time": "2022-05-07T01:58:53.726640",
     "status": "completed"
    },
    "tags": []
   },
   "outputs": [
    {
     "data": {
      "text/html": [
       "<div>\n",
       "<style scoped>\n",
       "    .dataframe tbody tr th:only-of-type {\n",
       "        vertical-align: middle;\n",
       "    }\n",
       "\n",
       "    .dataframe tbody tr th {\n",
       "        vertical-align: top;\n",
       "    }\n",
       "\n",
       "    .dataframe thead th {\n",
       "        text-align: right;\n",
       "    }\n",
       "</style>\n",
       "<table border=\"1\" class=\"dataframe\">\n",
       "  <thead>\n",
       "    <tr style=\"text-align: right;\">\n",
       "      <th></th>\n",
       "      <th>V1</th>\n",
       "      <th>V2</th>\n",
       "      <th>V3</th>\n",
       "    </tr>\n",
       "  </thead>\n",
       "  <tbody>\n",
       "    <tr>\n",
       "      <th>0</th>\n",
       "      <td>1.0</td>\n",
       "      <td>7.000000</td>\n",
       "      <td>11.0</td>\n",
       "    </tr>\n",
       "    <tr>\n",
       "      <th>1</th>\n",
       "      <td>3.0</td>\n",
       "      <td>6.166667</td>\n",
       "      <td>12.0</td>\n",
       "    </tr>\n",
       "    <tr>\n",
       "      <th>2</th>\n",
       "      <td>6.0</td>\n",
       "      <td>5.000000</td>\n",
       "      <td>5.0</td>\n",
       "    </tr>\n",
       "    <tr>\n",
       "      <th>3</th>\n",
       "      <td>6.0</td>\n",
       "      <td>8.000000</td>\n",
       "      <td>6.0</td>\n",
       "    </tr>\n",
       "    <tr>\n",
       "      <th>4</th>\n",
       "      <td>7.0</td>\n",
       "      <td>12.000000</td>\n",
       "      <td>14.0</td>\n",
       "    </tr>\n",
       "    <tr>\n",
       "      <th>5</th>\n",
       "      <td>1.0</td>\n",
       "      <td>6.166667</td>\n",
       "      <td>7.0</td>\n",
       "    </tr>\n",
       "    <tr>\n",
       "      <th>6</th>\n",
       "      <td>6.0</td>\n",
       "      <td>6.166667</td>\n",
       "      <td>11.0</td>\n",
       "    </tr>\n",
       "    <tr>\n",
       "      <th>7</th>\n",
       "      <td>9.0</td>\n",
       "      <td>2.000000</td>\n",
       "      <td>2.0</td>\n",
       "    </tr>\n",
       "    <tr>\n",
       "      <th>8</th>\n",
       "      <td>15.0</td>\n",
       "      <td>3.000000</td>\n",
       "      <td>31.0</td>\n",
       "    </tr>\n",
       "  </tbody>\n",
       "</table>\n",
       "</div>"
      ],
      "text/plain": [
       "     V1         V2    V3\n",
       "0   1.0   7.000000  11.0\n",
       "1   3.0   6.166667  12.0\n",
       "2   6.0   5.000000   5.0\n",
       "3   6.0   8.000000   6.0\n",
       "4   7.0  12.000000  14.0\n",
       "5   1.0   6.166667   7.0\n",
       "6   6.0   6.166667  11.0\n",
       "7   9.0   2.000000   2.0\n",
       "8  15.0   3.000000  31.0"
      ]
     },
     "execution_count": 58,
     "metadata": {},
     "output_type": "execute_result"
    }
   ],
   "source": [
    "# Tum Degiskenler Icin \"Birinci Yol\"\n",
    "\n",
    "# Simdi Tum Degiskenleri Kendi Ortalamasi Ile Doldurmak Istedigimizi Dusunelim (  apply() Ve lambda Mimarisini Kullanmistik  ) ( Hatirlatma )\n",
    "\n",
    "df.apply(lambda x: x.fillna(x.mean(), axis = 0)) # ( axis = 0 ) ---->> Gozlem Birimi Acisindan ( Yatay ) Degerlendir Diyoruz"
   ]
  },
  {
   "cell_type": "markdown",
   "id": "f83ef13d",
   "metadata": {
    "papermill": {
     "duration": 0.108938,
     "end_time": "2022-05-07T01:58:54.073316",
     "exception": false,
     "start_time": "2022-05-07T01:58:53.964378",
     "status": "completed"
    },
    "tags": []
   },
   "source": [
    "### Ikinci Yol"
   ]
  },
  {
   "cell_type": "code",
   "execution_count": 59,
   "id": "ec9bcce9",
   "metadata": {
    "execution": {
     "iopub.execute_input": "2022-05-07T01:58:54.295913Z",
     "iopub.status.busy": "2022-05-07T01:58:54.295571Z",
     "iopub.status.idle": "2022-05-07T01:58:54.310211Z",
     "shell.execute_reply": "2022-05-07T01:58:54.309293Z"
    },
    "papermill": {
     "duration": 0.128835,
     "end_time": "2022-05-07T01:58:54.312327",
     "exception": false,
     "start_time": "2022-05-07T01:58:54.183492",
     "status": "completed"
    },
    "tags": []
   },
   "outputs": [
    {
     "data": {
      "text/html": [
       "<div>\n",
       "<style scoped>\n",
       "    .dataframe tbody tr th:only-of-type {\n",
       "        vertical-align: middle;\n",
       "    }\n",
       "\n",
       "    .dataframe tbody tr th {\n",
       "        vertical-align: top;\n",
       "    }\n",
       "\n",
       "    .dataframe thead th {\n",
       "        text-align: right;\n",
       "    }\n",
       "</style>\n",
       "<table border=\"1\" class=\"dataframe\">\n",
       "  <thead>\n",
       "    <tr style=\"text-align: right;\">\n",
       "      <th></th>\n",
       "      <th>V1</th>\n",
       "      <th>V2</th>\n",
       "      <th>V3</th>\n",
       "    </tr>\n",
       "  </thead>\n",
       "  <tbody>\n",
       "    <tr>\n",
       "      <th>0</th>\n",
       "      <td>1.0</td>\n",
       "      <td>7.000000</td>\n",
       "      <td>11.0</td>\n",
       "    </tr>\n",
       "    <tr>\n",
       "      <th>1</th>\n",
       "      <td>3.0</td>\n",
       "      <td>6.166667</td>\n",
       "      <td>12.0</td>\n",
       "    </tr>\n",
       "    <tr>\n",
       "      <th>2</th>\n",
       "      <td>6.0</td>\n",
       "      <td>5.000000</td>\n",
       "      <td>5.0</td>\n",
       "    </tr>\n",
       "    <tr>\n",
       "      <th>3</th>\n",
       "      <td>6.0</td>\n",
       "      <td>8.000000</td>\n",
       "      <td>6.0</td>\n",
       "    </tr>\n",
       "    <tr>\n",
       "      <th>4</th>\n",
       "      <td>7.0</td>\n",
       "      <td>12.000000</td>\n",
       "      <td>14.0</td>\n",
       "    </tr>\n",
       "    <tr>\n",
       "      <th>5</th>\n",
       "      <td>1.0</td>\n",
       "      <td>6.166667</td>\n",
       "      <td>7.0</td>\n",
       "    </tr>\n",
       "    <tr>\n",
       "      <th>6</th>\n",
       "      <td>6.0</td>\n",
       "      <td>6.166667</td>\n",
       "      <td>11.0</td>\n",
       "    </tr>\n",
       "    <tr>\n",
       "      <th>7</th>\n",
       "      <td>9.0</td>\n",
       "      <td>2.000000</td>\n",
       "      <td>2.0</td>\n",
       "    </tr>\n",
       "    <tr>\n",
       "      <th>8</th>\n",
       "      <td>15.0</td>\n",
       "      <td>3.000000</td>\n",
       "      <td>31.0</td>\n",
       "    </tr>\n",
       "  </tbody>\n",
       "</table>\n",
       "</div>"
      ],
      "text/plain": [
       "     V1         V2    V3\n",
       "0   1.0   7.000000  11.0\n",
       "1   3.0   6.166667  12.0\n",
       "2   6.0   5.000000   5.0\n",
       "3   6.0   8.000000   6.0\n",
       "4   7.0  12.000000  14.0\n",
       "5   1.0   6.166667   7.0\n",
       "6   6.0   6.166667  11.0\n",
       "7   9.0   2.000000   2.0\n",
       "8  15.0   3.000000  31.0"
      ]
     },
     "execution_count": 59,
     "metadata": {},
     "output_type": "execute_result"
    }
   ],
   "source": [
    "# Ikinci Yol\n",
    "\n",
    "df.fillna(df.mean()[:]) # Birinci Yola Gore Biraz Daha Basit Bir Yaklasim"
   ]
  },
  {
   "cell_type": "code",
   "execution_count": 60,
   "id": "e040f3db",
   "metadata": {
    "execution": {
     "iopub.execute_input": "2022-05-07T01:58:54.531087Z",
     "iopub.status.busy": "2022-05-07T01:58:54.530712Z",
     "iopub.status.idle": "2022-05-07T01:58:54.534714Z",
     "shell.execute_reply": "2022-05-07T01:58:54.533808Z"
    },
    "papermill": {
     "duration": 0.115946,
     "end_time": "2022-05-07T01:58:54.536785",
     "exception": false,
     "start_time": "2022-05-07T01:58:54.420839",
     "status": "completed"
    },
    "tags": []
   },
   "outputs": [],
   "source": [
    "# Ornegin Dagilimlarina Baktik Degiskenlerin Ve Gozlemledikki; Mesela V1 Ve V2 Degiskenleri Dagilimlari Duzgun Yani Simetrik Normal Dagilim Egiliminde Bu Durumda Bunlari Ortalama Ile Doldurabiliriz --->>\n",
    "# --->> ( Bu Mantikli Bir Doldurma Olur ) Fakat Eger Dagilimlar Simetrik Ise Yani Saga Carpik Sola Carpik Ise Yapisal Bir Bozukluk Varsa Bu Sayisal Degiskenlerin Yapisinda Bu Durumda Bunlari Ortalama -->\n",
    "# --> Ile Doldurmak Mantikli Degildir ----->> Bu Durumda Bu .fillna()  ---> Fonkisyonu Calistirildiginda Hepsine Ortalama Deger Atandi ---->>\n",
    "# ---->> ( Ya Ben Bazilarina Ortalama Bazilarina Medyan Degeri Atamak Istiyosam ( Bu Durumda Ne Yapicam ? ) ) ( Hemen Onu Assagida Ele Alalim )"
   ]
  },
  {
   "cell_type": "code",
   "execution_count": 61,
   "id": "5681793a",
   "metadata": {
    "execution": {
     "iopub.execute_input": "2022-05-07T01:58:54.760453Z",
     "iopub.status.busy": "2022-05-07T01:58:54.760155Z",
     "iopub.status.idle": "2022-05-07T01:58:54.777986Z",
     "shell.execute_reply": "2022-05-07T01:58:54.777334Z"
    },
    "papermill": {
     "duration": 0.128804,
     "end_time": "2022-05-07T01:58:54.780038",
     "exception": false,
     "start_time": "2022-05-07T01:58:54.651234",
     "status": "completed"
    },
    "tags": []
   },
   "outputs": [
    {
     "data": {
      "text/html": [
       "<div>\n",
       "<style scoped>\n",
       "    .dataframe tbody tr th:only-of-type {\n",
       "        vertical-align: middle;\n",
       "    }\n",
       "\n",
       "    .dataframe tbody tr th {\n",
       "        vertical-align: top;\n",
       "    }\n",
       "\n",
       "    .dataframe thead th {\n",
       "        text-align: right;\n",
       "    }\n",
       "</style>\n",
       "<table border=\"1\" class=\"dataframe\">\n",
       "  <thead>\n",
       "    <tr style=\"text-align: right;\">\n",
       "      <th></th>\n",
       "      <th>V1</th>\n",
       "      <th>V2</th>\n",
       "      <th>V3</th>\n",
       "    </tr>\n",
       "  </thead>\n",
       "  <tbody>\n",
       "    <tr>\n",
       "      <th>0</th>\n",
       "      <td>1.0</td>\n",
       "      <td>7.000000</td>\n",
       "      <td>NaN</td>\n",
       "    </tr>\n",
       "    <tr>\n",
       "      <th>1</th>\n",
       "      <td>3.0</td>\n",
       "      <td>6.166667</td>\n",
       "      <td>12.0</td>\n",
       "    </tr>\n",
       "    <tr>\n",
       "      <th>2</th>\n",
       "      <td>6.0</td>\n",
       "      <td>5.000000</td>\n",
       "      <td>5.0</td>\n",
       "    </tr>\n",
       "    <tr>\n",
       "      <th>3</th>\n",
       "      <td>6.0</td>\n",
       "      <td>8.000000</td>\n",
       "      <td>6.0</td>\n",
       "    </tr>\n",
       "    <tr>\n",
       "      <th>4</th>\n",
       "      <td>7.0</td>\n",
       "      <td>12.000000</td>\n",
       "      <td>14.0</td>\n",
       "    </tr>\n",
       "    <tr>\n",
       "      <th>5</th>\n",
       "      <td>1.0</td>\n",
       "      <td>6.166667</td>\n",
       "      <td>7.0</td>\n",
       "    </tr>\n",
       "    <tr>\n",
       "      <th>6</th>\n",
       "      <td>6.0</td>\n",
       "      <td>6.166667</td>\n",
       "      <td>NaN</td>\n",
       "    </tr>\n",
       "    <tr>\n",
       "      <th>7</th>\n",
       "      <td>9.0</td>\n",
       "      <td>2.000000</td>\n",
       "      <td>2.0</td>\n",
       "    </tr>\n",
       "    <tr>\n",
       "      <th>8</th>\n",
       "      <td>15.0</td>\n",
       "      <td>3.000000</td>\n",
       "      <td>31.0</td>\n",
       "    </tr>\n",
       "  </tbody>\n",
       "</table>\n",
       "</div>"
      ],
      "text/plain": [
       "     V1         V2    V3\n",
       "0   1.0   7.000000   NaN\n",
       "1   3.0   6.166667  12.0\n",
       "2   6.0   5.000000   5.0\n",
       "3   6.0   8.000000   6.0\n",
       "4   7.0  12.000000  14.0\n",
       "5   1.0   6.166667   7.0\n",
       "6   6.0   6.166667   NaN\n",
       "7   9.0   2.000000   2.0\n",
       "8  15.0   3.000000  31.0"
      ]
     },
     "execution_count": 61,
     "metadata": {},
     "output_type": "execute_result"
    }
   ],
   "source": [
    "# Burada Ilk Iki Degiskene \"Ortalamaya Gore\", 3. Degiskene \"Medyana Gore\" Atama Islemi Yapmak Istedigimiz Dusunelim \n",
    "\n",
    "df.fillna(df.mean()[\"V1\":\"V2\"]) # V1 Den V2 Ye Kadar Git Dedigimizde ( V1 Ve V2 Yi Doldurdu )"
   ]
  },
  {
   "cell_type": "code",
   "execution_count": 62,
   "id": "303f0c5f",
   "metadata": {
    "execution": {
     "iopub.execute_input": "2022-05-07T01:58:55.002786Z",
     "iopub.status.busy": "2022-05-07T01:58:55.002221Z",
     "iopub.status.idle": "2022-05-07T01:58:55.012219Z",
     "shell.execute_reply": "2022-05-07T01:58:55.011221Z"
    },
    "papermill": {
     "duration": 0.123776,
     "end_time": "2022-05-07T01:58:55.014321",
     "exception": false,
     "start_time": "2022-05-07T01:58:54.890545",
     "status": "completed"
    },
    "tags": []
   },
   "outputs": [
    {
     "data": {
      "text/plain": [
       "0     7.0\n",
       "1    12.0\n",
       "2     5.0\n",
       "3     6.0\n",
       "4    14.0\n",
       "5     7.0\n",
       "6     7.0\n",
       "7     2.0\n",
       "8    31.0\n",
       "Name: V3, dtype: float64"
      ]
     },
     "execution_count": 62,
     "metadata": {},
     "output_type": "execute_result"
    }
   ],
   "source": [
    "# 3. Degiskeni De Alisik Oldugumuz Yontem Ile Doldurma Islemini Gerceklestiricez\n",
    "\n",
    "df[\"V3\"].fillna(df[\"V3\"].median()) # V3 Ude Kendi Medyani Ile Doldurmus Olduk"
   ]
  },
  {
   "cell_type": "markdown",
   "id": "fb4adc6c",
   "metadata": {
    "papermill": {
     "duration": 0.109494,
     "end_time": "2022-05-07T01:58:55.234224",
     "exception": false,
     "start_time": "2022-05-07T01:58:55.124730",
     "status": "completed"
    },
    "tags": []
   },
   "source": [
    "### Ucuncu Yol"
   ]
  },
  {
   "cell_type": "code",
   "execution_count": 63,
   "id": "e51f50f6",
   "metadata": {
    "execution": {
     "iopub.execute_input": "2022-05-07T01:58:55.454780Z",
     "iopub.status.busy": "2022-05-07T01:58:55.454205Z",
     "iopub.status.idle": "2022-05-07T01:58:55.467911Z",
     "shell.execute_reply": "2022-05-07T01:58:55.467223Z"
    },
    "papermill": {
     "duration": 0.126079,
     "end_time": "2022-05-07T01:58:55.469766",
     "exception": false,
     "start_time": "2022-05-07T01:58:55.343687",
     "status": "completed"
    },
    "tags": []
   },
   "outputs": [
    {
     "data": {
      "text/html": [
       "<div>\n",
       "<style scoped>\n",
       "    .dataframe tbody tr th:only-of-type {\n",
       "        vertical-align: middle;\n",
       "    }\n",
       "\n",
       "    .dataframe tbody tr th {\n",
       "        vertical-align: top;\n",
       "    }\n",
       "\n",
       "    .dataframe thead th {\n",
       "        text-align: right;\n",
       "    }\n",
       "</style>\n",
       "<table border=\"1\" class=\"dataframe\">\n",
       "  <thead>\n",
       "    <tr style=\"text-align: right;\">\n",
       "      <th></th>\n",
       "      <th>V1</th>\n",
       "      <th>V2</th>\n",
       "      <th>V3</th>\n",
       "    </tr>\n",
       "  </thead>\n",
       "  <tbody>\n",
       "    <tr>\n",
       "      <th>0</th>\n",
       "      <td>1.0</td>\n",
       "      <td>7.000000</td>\n",
       "      <td>11.0</td>\n",
       "    </tr>\n",
       "    <tr>\n",
       "      <th>1</th>\n",
       "      <td>3.0</td>\n",
       "      <td>6.166667</td>\n",
       "      <td>12.0</td>\n",
       "    </tr>\n",
       "    <tr>\n",
       "      <th>2</th>\n",
       "      <td>6.0</td>\n",
       "      <td>5.000000</td>\n",
       "      <td>5.0</td>\n",
       "    </tr>\n",
       "    <tr>\n",
       "      <th>3</th>\n",
       "      <td>6.0</td>\n",
       "      <td>8.000000</td>\n",
       "      <td>6.0</td>\n",
       "    </tr>\n",
       "    <tr>\n",
       "      <th>4</th>\n",
       "      <td>7.0</td>\n",
       "      <td>12.000000</td>\n",
       "      <td>14.0</td>\n",
       "    </tr>\n",
       "    <tr>\n",
       "      <th>5</th>\n",
       "      <td>1.0</td>\n",
       "      <td>6.166667</td>\n",
       "      <td>7.0</td>\n",
       "    </tr>\n",
       "    <tr>\n",
       "      <th>6</th>\n",
       "      <td>6.0</td>\n",
       "      <td>6.166667</td>\n",
       "      <td>11.0</td>\n",
       "    </tr>\n",
       "    <tr>\n",
       "      <th>7</th>\n",
       "      <td>9.0</td>\n",
       "      <td>2.000000</td>\n",
       "      <td>2.0</td>\n",
       "    </tr>\n",
       "    <tr>\n",
       "      <th>8</th>\n",
       "      <td>15.0</td>\n",
       "      <td>3.000000</td>\n",
       "      <td>31.0</td>\n",
       "    </tr>\n",
       "  </tbody>\n",
       "</table>\n",
       "</div>"
      ],
      "text/plain": [
       "     V1         V2    V3\n",
       "0   1.0   7.000000  11.0\n",
       "1   3.0   6.166667  12.0\n",
       "2   6.0   5.000000   5.0\n",
       "3   6.0   8.000000   6.0\n",
       "4   7.0  12.000000  14.0\n",
       "5   1.0   6.166667   7.0\n",
       "6   6.0   6.166667  11.0\n",
       "7   9.0   2.000000   2.0\n",
       "8  15.0   3.000000  31.0"
      ]
     },
     "execution_count": 63,
     "metadata": {},
     "output_type": "execute_result"
    }
   ],
   "source": [
    "# Ucuncu Yol\n",
    "\n",
    "df.where(pd.notna(df), df.mean(), axis = \"columns\") # \"axis\" Te Sutunlari Ifade Ettik ------->> Yakalamis Oldugu data Framede ki Eksik Degerlerin Yerine  ---->>  ( df.mean() ) ---->>\n",
    "# ---->> O Degiskenlerin Ortalamasini Yerlestirmis Oluyoruz"
   ]
  },
  {
   "cell_type": "markdown",
   "id": "c0f4f2f5",
   "metadata": {
    "papermill": {
     "duration": 0.110406,
     "end_time": "2022-05-07T01:58:55.690143",
     "exception": false,
     "start_time": "2022-05-07T01:58:55.579737",
     "status": "completed"
    },
    "tags": []
   },
   "source": [
    "## Kategorik Değişken Kırılımında Değer Atama ( Orta - Ileri Seviye Ihtiyaclardan Birisi )"
   ]
  },
  {
   "cell_type": "code",
   "execution_count": 64,
   "id": "ae248d0a",
   "metadata": {
    "execution": {
     "iopub.execute_input": "2022-05-07T01:58:55.912409Z",
     "iopub.status.busy": "2022-05-07T01:58:55.911813Z",
     "iopub.status.idle": "2022-05-07T01:58:55.929919Z",
     "shell.execute_reply": "2022-05-07T01:58:55.929303Z"
    },
    "papermill": {
     "duration": 0.132528,
     "end_time": "2022-05-07T01:58:55.932008",
     "exception": false,
     "start_time": "2022-05-07T01:58:55.799480",
     "status": "completed"
    },
    "tags": []
   },
   "outputs": [
    {
     "data": {
      "text/html": [
       "<div>\n",
       "<style scoped>\n",
       "    .dataframe tbody tr th:only-of-type {\n",
       "        vertical-align: middle;\n",
       "    }\n",
       "\n",
       "    .dataframe tbody tr th {\n",
       "        vertical-align: top;\n",
       "    }\n",
       "\n",
       "    .dataframe thead th {\n",
       "        text-align: right;\n",
       "    }\n",
       "</style>\n",
       "<table border=\"1\" class=\"dataframe\">\n",
       "  <thead>\n",
       "    <tr style=\"text-align: right;\">\n",
       "      <th></th>\n",
       "      <th>maas</th>\n",
       "      <th>V2</th>\n",
       "      <th>V3</th>\n",
       "      <th>departman</th>\n",
       "    </tr>\n",
       "  </thead>\n",
       "  <tbody>\n",
       "    <tr>\n",
       "      <th>0</th>\n",
       "      <td>1.0</td>\n",
       "      <td>7.0</td>\n",
       "      <td>NaN</td>\n",
       "      <td>IT</td>\n",
       "    </tr>\n",
       "    <tr>\n",
       "      <th>1</th>\n",
       "      <td>3.0</td>\n",
       "      <td>NaN</td>\n",
       "      <td>12.0</td>\n",
       "      <td>IT</td>\n",
       "    </tr>\n",
       "    <tr>\n",
       "      <th>2</th>\n",
       "      <td>6.0</td>\n",
       "      <td>5.0</td>\n",
       "      <td>5.0</td>\n",
       "      <td>IK</td>\n",
       "    </tr>\n",
       "    <tr>\n",
       "      <th>3</th>\n",
       "      <td>NaN</td>\n",
       "      <td>8.0</td>\n",
       "      <td>6.0</td>\n",
       "      <td>IK</td>\n",
       "    </tr>\n",
       "    <tr>\n",
       "      <th>4</th>\n",
       "      <td>7.0</td>\n",
       "      <td>12.0</td>\n",
       "      <td>14.0</td>\n",
       "      <td>IK</td>\n",
       "    </tr>\n",
       "    <tr>\n",
       "      <th>5</th>\n",
       "      <td>1.0</td>\n",
       "      <td>NaN</td>\n",
       "      <td>7.0</td>\n",
       "      <td>IK</td>\n",
       "    </tr>\n",
       "    <tr>\n",
       "      <th>6</th>\n",
       "      <td>NaN</td>\n",
       "      <td>NaN</td>\n",
       "      <td>NaN</td>\n",
       "      <td>IK</td>\n",
       "    </tr>\n",
       "    <tr>\n",
       "      <th>7</th>\n",
       "      <td>9.0</td>\n",
       "      <td>2.0</td>\n",
       "      <td>2.0</td>\n",
       "      <td>IT</td>\n",
       "    </tr>\n",
       "    <tr>\n",
       "      <th>8</th>\n",
       "      <td>15.0</td>\n",
       "      <td>3.0</td>\n",
       "      <td>31.0</td>\n",
       "      <td>IT</td>\n",
       "    </tr>\n",
       "  </tbody>\n",
       "</table>\n",
       "</div>"
      ],
      "text/plain": [
       "   maas    V2    V3 departman\n",
       "0   1.0   7.0   NaN        IT\n",
       "1   3.0   NaN  12.0        IT\n",
       "2   6.0   5.0   5.0        IK\n",
       "3   NaN   8.0   6.0        IK\n",
       "4   7.0  12.0  14.0        IK\n",
       "5   1.0   NaN   7.0        IK\n",
       "6   NaN   NaN   NaN        IK\n",
       "7   9.0   2.0   2.0        IT\n",
       "8  15.0   3.0  31.0        IT"
      ]
     },
     "execution_count": 64,
     "metadata": {},
     "output_type": "execute_result"
    }
   ],
   "source": [
    "V1 = np.array([1,3,6,np.NaN,7,1,np.NaN,9,15])\n",
    "V2 = np.array([7,np.NaN,5,8,12,np.NaN,np.NaN,2,3])\n",
    "V3 = np.array([np.NaN,12,5,6,14,7,np.NaN,2,31])\n",
    "V4 = np.array([\"IT\",\"IT\",\"IK\",\"IK\",\"IK\",\"IK\",\"IK\",\"IT\",\"IT\"])\n",
    "\n",
    "df = pd.DataFrame(\n",
    "        {\"maas\" : V1,\n",
    "         \"V2\" : V2,\n",
    "         \"V3\" : V3,\n",
    "        \"departman\" : V4}        \n",
    ")\n",
    "\n",
    "df"
   ]
  },
  {
   "cell_type": "code",
   "execution_count": 65,
   "id": "b951898d",
   "metadata": {
    "execution": {
     "iopub.execute_input": "2022-05-07T01:58:56.158844Z",
     "iopub.status.busy": "2022-05-07T01:58:56.158311Z",
     "iopub.status.idle": "2022-05-07T01:58:56.168134Z",
     "shell.execute_reply": "2022-05-07T01:58:56.167269Z"
    },
    "papermill": {
     "duration": 0.122902,
     "end_time": "2022-05-07T01:58:56.170273",
     "exception": false,
     "start_time": "2022-05-07T01:58:56.047371",
     "status": "completed"
    },
    "tags": []
   },
   "outputs": [
    {
     "data": {
      "text/plain": [
       "departman\n",
       "IK    4.666667\n",
       "IT    7.000000\n",
       "Name: maas, dtype: float64"
      ]
     },
     "execution_count": 65,
     "metadata": {},
     "output_type": "execute_result"
    }
   ],
   "source": [
    "df.groupby(\"departman\")[\"maas\"].mean()"
   ]
  },
  {
   "cell_type": "code",
   "execution_count": 66,
   "id": "b3317cf9",
   "metadata": {
    "execution": {
     "iopub.execute_input": "2022-05-07T01:58:56.394037Z",
     "iopub.status.busy": "2022-05-07T01:58:56.393777Z",
     "iopub.status.idle": "2022-05-07T01:58:56.397965Z",
     "shell.execute_reply": "2022-05-07T01:58:56.397204Z"
    },
    "papermill": {
     "duration": 0.117955,
     "end_time": "2022-05-07T01:58:56.399982",
     "exception": false,
     "start_time": "2022-05-07T01:58:56.282027",
     "status": "completed"
    },
    "tags": []
   },
   "outputs": [],
   "source": [
    "# Bu Departman Ortalamalarini Degiskenlerin Icerisinde Yer Alan Eksiklikleri Doldurmak Adina Nasil Kullanabiliriz?\n",
    "\n",
    "# Adim Adim Birlikte Yapalim\n",
    "\n",
    "# Ne Yapmak Istiyoruz ( Data_Framenin Icerisindeki Maas Isimli Degiskendeki Eksiklikleri Doldurmak Istiyoruz ) ( Ama Neye Gore Doldurmak Istiyoruz? ) ( Bir Kategorik Degiskenin Kirilimina Gore ) --->>\n",
    "# ---->> Departman Degiskenini Goz Onunde Bulundurup Asagida Bulunan NA Ifadelerini Ona Gore Doldurmak Istiyoruz ( Peki Yapalim ( 2 Alt Tarafta ) )"
   ]
  },
  {
   "cell_type": "code",
   "execution_count": 67,
   "id": "3149a1a3",
   "metadata": {
    "execution": {
     "iopub.execute_input": "2022-05-07T01:58:56.623595Z",
     "iopub.status.busy": "2022-05-07T01:58:56.623297Z",
     "iopub.status.idle": "2022-05-07T01:58:56.629981Z",
     "shell.execute_reply": "2022-05-07T01:58:56.629348Z"
    },
    "papermill": {
     "duration": 0.120642,
     "end_time": "2022-05-07T01:58:56.631773",
     "exception": false,
     "start_time": "2022-05-07T01:58:56.511131",
     "status": "completed"
    },
    "tags": []
   },
   "outputs": [
    {
     "data": {
      "text/plain": [
       "0     1.0\n",
       "1     3.0\n",
       "2     6.0\n",
       "3     NaN\n",
       "4     7.0\n",
       "5     1.0\n",
       "6     NaN\n",
       "7     9.0\n",
       "8    15.0\n",
       "Name: maas, dtype: float64"
      ]
     },
     "execution_count": 67,
     "metadata": {},
     "output_type": "execute_result"
    }
   ],
   "source": [
    "df[\"maas\"]"
   ]
  },
  {
   "cell_type": "code",
   "execution_count": 68,
   "id": "5d87e46d",
   "metadata": {
    "execution": {
     "iopub.execute_input": "2022-05-07T01:58:56.856303Z",
     "iopub.status.busy": "2022-05-07T01:58:56.855759Z",
     "iopub.status.idle": "2022-05-07T01:58:56.864499Z",
     "shell.execute_reply": "2022-05-07T01:58:56.863608Z"
    },
    "papermill": {
     "duration": 0.123808,
     "end_time": "2022-05-07T01:58:56.866648",
     "exception": false,
     "start_time": "2022-05-07T01:58:56.742840",
     "status": "completed"
    },
    "tags": []
   },
   "outputs": [
    {
     "data": {
      "text/plain": [
       "0     1.000000\n",
       "1     3.000000\n",
       "2     6.000000\n",
       "3     4.666667\n",
       "4     7.000000\n",
       "5     1.000000\n",
       "6     4.666667\n",
       "7     9.000000\n",
       "8    15.000000\n",
       "Name: maas, dtype: float64"
      ]
     },
     "execution_count": 68,
     "metadata": {},
     "output_type": "execute_result"
    }
   ],
   "source": [
    "# Doldurma Islemi Yapacagimiz Icin fillna() Kullanilir \n",
    "# df.groupby(\"departman\") ---->> Gruplama Islemi Tamam\n",
    "# df.groupby(\"departman\")[\"maas\"]  ----->> Bunun Icerisinden Maasi Secicez\n",
    "# df.groupby(\"departman\")[\"maas\"].transform() ---->> ( Neyi Donusturucem? )\n",
    "# df.groupby(\"departman\")[\"maas\"].transform(\"mean\") ---->> Ortalamayi Diyoruz\n",
    "\n",
    "df[\"maas\"].fillna(df.groupby(\"departman\")[\"maas\"].transform(\"mean\"))\n",
    "\n",
    "# Ozet Ile Olay Su; fillna() ---->> ( Neyi ) Gruplara Gore Bolunmus Olduktan Sonra Hesaplanmis Olan Ortalamalari Bosluklara Doldurmus Olacak\n",
    "\n",
    "# Gorulecegi Uzere Buradaki Eksik Degerler Dolmus Oldu\n",
    "\n",
    "# Maas Degiskeninin Eksikliklerini Departman Kategorik Degiskenini Goz Onunde Bulundurarak Departman Ozelinde Doldurma Islemini Gerceklestirmis Olduk\n",
    "# Burada Dolmus Olan Degerlerin Ikiside \"IK Departmanina \" Ait Oldugundan Dolayi ( Yani Eksiklige Sahip Olan Degerler IK Departmanina Ait Oldugundan Dolayi ) Bu Eksiklikler Buna Gore Doldurulmus Oldu"
   ]
  },
  {
   "cell_type": "markdown",
   "id": "34f3976f",
   "metadata": {
    "papermill": {
     "duration": 0.111261,
     "end_time": "2022-05-07T01:58:57.090171",
     "exception": false,
     "start_time": "2022-05-07T01:58:56.978910",
     "status": "completed"
    },
    "tags": []
   },
   "source": [
    "## Kategorik Değişkenler için Eksik Değer Atama"
   ]
  },
  {
   "cell_type": "code",
   "execution_count": 69,
   "id": "c2a82ccc",
   "metadata": {
    "execution": {
     "iopub.execute_input": "2022-05-07T01:58:57.315643Z",
     "iopub.status.busy": "2022-05-07T01:58:57.314915Z",
     "iopub.status.idle": "2022-05-07T01:58:57.327355Z",
     "shell.execute_reply": "2022-05-07T01:58:57.326756Z"
    },
    "papermill": {
     "duration": 0.127412,
     "end_time": "2022-05-07T01:58:57.329155",
     "exception": false,
     "start_time": "2022-05-07T01:58:57.201743",
     "status": "completed"
    },
    "tags": []
   },
   "outputs": [
    {
     "data": {
      "text/html": [
       "<div>\n",
       "<style scoped>\n",
       "    .dataframe tbody tr th:only-of-type {\n",
       "        vertical-align: middle;\n",
       "    }\n",
       "\n",
       "    .dataframe tbody tr th {\n",
       "        vertical-align: top;\n",
       "    }\n",
       "\n",
       "    .dataframe thead th {\n",
       "        text-align: right;\n",
       "    }\n",
       "</style>\n",
       "<table border=\"1\" class=\"dataframe\">\n",
       "  <thead>\n",
       "    <tr style=\"text-align: right;\">\n",
       "      <th></th>\n",
       "      <th>maas</th>\n",
       "      <th>departman</th>\n",
       "    </tr>\n",
       "  </thead>\n",
       "  <tbody>\n",
       "    <tr>\n",
       "      <th>0</th>\n",
       "      <td>1.0</td>\n",
       "      <td>IT</td>\n",
       "    </tr>\n",
       "    <tr>\n",
       "      <th>1</th>\n",
       "      <td>3.0</td>\n",
       "      <td>NaN</td>\n",
       "    </tr>\n",
       "    <tr>\n",
       "      <th>2</th>\n",
       "      <td>6.0</td>\n",
       "      <td>IK</td>\n",
       "    </tr>\n",
       "    <tr>\n",
       "      <th>3</th>\n",
       "      <td>NaN</td>\n",
       "      <td>IK</td>\n",
       "    </tr>\n",
       "    <tr>\n",
       "      <th>4</th>\n",
       "      <td>7.0</td>\n",
       "      <td>IK</td>\n",
       "    </tr>\n",
       "    <tr>\n",
       "      <th>5</th>\n",
       "      <td>1.0</td>\n",
       "      <td>IK</td>\n",
       "    </tr>\n",
       "    <tr>\n",
       "      <th>6</th>\n",
       "      <td>NaN</td>\n",
       "      <td>IK</td>\n",
       "    </tr>\n",
       "    <tr>\n",
       "      <th>7</th>\n",
       "      <td>9.0</td>\n",
       "      <td>IT</td>\n",
       "    </tr>\n",
       "    <tr>\n",
       "      <th>8</th>\n",
       "      <td>15.0</td>\n",
       "      <td>IT</td>\n",
       "    </tr>\n",
       "  </tbody>\n",
       "</table>\n",
       "</div>"
      ],
      "text/plain": [
       "   maas departman\n",
       "0   1.0        IT\n",
       "1   3.0       NaN\n",
       "2   6.0        IK\n",
       "3   NaN        IK\n",
       "4   7.0        IK\n",
       "5   1.0        IK\n",
       "6   NaN        IK\n",
       "7   9.0        IT\n",
       "8  15.0        IT"
      ]
     },
     "execution_count": 69,
     "metadata": {},
     "output_type": "execute_result"
    }
   ],
   "source": [
    "# V2 ve V3 Yok Dikkat Et\n",
    "\n",
    "# import numpy as np\n",
    "# import pandas as pd\n",
    "V1 = np.array([1,3,6,np.NaN,7,1,np.NaN,9,15])\n",
    "V4 = np.array([\"IT\",np.nan,\"IK\",\"IK\",\"IK\",\"IK\",\"IK\",\"IT\",\"IT\"], dtype=object) # Bunun Tipi Farkli Dikkat ---->>   dtype=object\n",
    "\n",
    "df = pd.DataFrame(\n",
    "        {\"maas\" : V1,\n",
    "        \"departman\" : V4}        \n",
    ")\n",
    "\n",
    "df"
   ]
  },
  {
   "cell_type": "code",
   "execution_count": 70,
   "id": "6dd3e1b0",
   "metadata": {
    "execution": {
     "iopub.execute_input": "2022-05-07T01:58:57.558614Z",
     "iopub.status.busy": "2022-05-07T01:58:57.558106Z",
     "iopub.status.idle": "2022-05-07T01:58:57.561149Z",
     "shell.execute_reply": "2022-05-07T01:58:57.560633Z"
    },
    "papermill": {
     "duration": 0.121352,
     "end_time": "2022-05-07T01:58:57.562945",
     "exception": false,
     "start_time": "2022-05-07T01:58:57.441593",
     "status": "completed"
    },
    "tags": []
   },
   "outputs": [],
   "source": [
    "# Kategorik Degiskenlerdeki Eksiklik Giderkedeki En Pratik, En Kolay Ve Verimli De Olabilen Yol Mod Islemidir Yani Ilgili Kategorik Degiskendeki En Sik Gozlenen Terim ( Deger ) Ne Ise O Degeri Atamaktir"
   ]
  },
  {
   "cell_type": "code",
   "execution_count": 71,
   "id": "3a264a2c",
   "metadata": {
    "execution": {
     "iopub.execute_input": "2022-05-07T01:58:57.799448Z",
     "iopub.status.busy": "2022-05-07T01:58:57.798908Z",
     "iopub.status.idle": "2022-05-07T01:58:57.805541Z",
     "shell.execute_reply": "2022-05-07T01:58:57.804766Z"
    },
    "papermill": {
     "duration": 0.127304,
     "end_time": "2022-05-07T01:58:57.807437",
     "exception": false,
     "start_time": "2022-05-07T01:58:57.680133",
     "status": "completed"
    },
    "tags": []
   },
   "outputs": [
    {
     "data": {
      "text/plain": [
       "0    IK\n",
       "dtype: object"
      ]
     },
     "execution_count": 71,
     "metadata": {},
     "output_type": "execute_result"
    }
   ],
   "source": [
    "df[\"departman\"].mode() # Bu Ifadenin Sonuna 0 Koyar Isek Sadece Bir String Deger Olarak 'IK' Cikar"
   ]
  },
  {
   "cell_type": "code",
   "execution_count": 72,
   "id": "755844e1",
   "metadata": {
    "execution": {
     "iopub.execute_input": "2022-05-07T01:58:58.037239Z",
     "iopub.status.busy": "2022-05-07T01:58:58.036680Z",
     "iopub.status.idle": "2022-05-07T01:58:58.046027Z",
     "shell.execute_reply": "2022-05-07T01:58:58.044542Z"
    },
    "papermill": {
     "duration": 0.128875,
     "end_time": "2022-05-07T01:58:58.050145",
     "exception": false,
     "start_time": "2022-05-07T01:58:57.921270",
     "status": "completed"
    },
    "tags": []
   },
   "outputs": [
    {
     "data": {
      "text/plain": [
       "'IK'"
      ]
     },
     "execution_count": 72,
     "metadata": {},
     "output_type": "execute_result"
    }
   ],
   "source": [
    "df[\"departman\"].mode()[0] # Burada Da Gorebiliyoruz"
   ]
  },
  {
   "cell_type": "code",
   "execution_count": 73,
   "id": "05588aac",
   "metadata": {
    "execution": {
     "iopub.execute_input": "2022-05-07T01:58:58.320077Z",
     "iopub.status.busy": "2022-05-07T01:58:58.319724Z",
     "iopub.status.idle": "2022-05-07T01:58:58.329417Z",
     "shell.execute_reply": "2022-05-07T01:58:58.328597Z"
    },
    "papermill": {
     "duration": 0.139007,
     "end_time": "2022-05-07T01:58:58.331336",
     "exception": false,
     "start_time": "2022-05-07T01:58:58.192329",
     "status": "completed"
    },
    "tags": []
   },
   "outputs": [
    {
     "data": {
      "text/plain": [
       "0    IT\n",
       "1    IK\n",
       "2    IK\n",
       "3    IK\n",
       "4    IK\n",
       "5    IK\n",
       "6    IK\n",
       "7    IT\n",
       "8    IT\n",
       "Name: departman, dtype: object"
      ]
     },
     "execution_count": 73,
     "metadata": {},
     "output_type": "execute_result"
    }
   ],
   "source": [
    "# Simdi Su Islemi Yapicaz Departmanin Modunu Alicaz, Mod Ne Ise Onu Eksik Degerleri Doldurmak Icin Kullanmis Olucaz\n",
    "\n",
    "df[\"departman\"].fillna(df[\"departman\"].mode()[0]) # Gozlemlenecegi Uzere Eksik Olan Noktaya IK Degeri Atanmis Oldu ( Bu Islem  ( inplace = True )  Kullanilmadan Yapildi ) ( Kalici Degildir )"
   ]
  },
  {
   "cell_type": "code",
   "execution_count": 74,
   "id": "7861a747",
   "metadata": {
    "execution": {
     "iopub.execute_input": "2022-05-07T01:58:58.579456Z",
     "iopub.status.busy": "2022-05-07T01:58:58.578893Z",
     "iopub.status.idle": "2022-05-07T01:58:58.591730Z",
     "shell.execute_reply": "2022-05-07T01:58:58.590811Z"
    },
    "papermill": {
     "duration": 0.130369,
     "end_time": "2022-05-07T01:58:58.593955",
     "exception": false,
     "start_time": "2022-05-07T01:58:58.463586",
     "status": "completed"
    },
    "tags": []
   },
   "outputs": [
    {
     "data": {
      "text/html": [
       "<div>\n",
       "<style scoped>\n",
       "    .dataframe tbody tr th:only-of-type {\n",
       "        vertical-align: middle;\n",
       "    }\n",
       "\n",
       "    .dataframe tbody tr th {\n",
       "        vertical-align: top;\n",
       "    }\n",
       "\n",
       "    .dataframe thead th {\n",
       "        text-align: right;\n",
       "    }\n",
       "</style>\n",
       "<table border=\"1\" class=\"dataframe\">\n",
       "  <thead>\n",
       "    <tr style=\"text-align: right;\">\n",
       "      <th></th>\n",
       "      <th>maas</th>\n",
       "      <th>departman</th>\n",
       "    </tr>\n",
       "  </thead>\n",
       "  <tbody>\n",
       "    <tr>\n",
       "      <th>0</th>\n",
       "      <td>1.0</td>\n",
       "      <td>IT</td>\n",
       "    </tr>\n",
       "    <tr>\n",
       "      <th>1</th>\n",
       "      <td>3.0</td>\n",
       "      <td>NaN</td>\n",
       "    </tr>\n",
       "    <tr>\n",
       "      <th>2</th>\n",
       "      <td>6.0</td>\n",
       "      <td>IK</td>\n",
       "    </tr>\n",
       "    <tr>\n",
       "      <th>3</th>\n",
       "      <td>NaN</td>\n",
       "      <td>IK</td>\n",
       "    </tr>\n",
       "    <tr>\n",
       "      <th>4</th>\n",
       "      <td>7.0</td>\n",
       "      <td>IK</td>\n",
       "    </tr>\n",
       "    <tr>\n",
       "      <th>5</th>\n",
       "      <td>1.0</td>\n",
       "      <td>IK</td>\n",
       "    </tr>\n",
       "    <tr>\n",
       "      <th>6</th>\n",
       "      <td>NaN</td>\n",
       "      <td>IK</td>\n",
       "    </tr>\n",
       "    <tr>\n",
       "      <th>7</th>\n",
       "      <td>9.0</td>\n",
       "      <td>IT</td>\n",
       "    </tr>\n",
       "    <tr>\n",
       "      <th>8</th>\n",
       "      <td>15.0</td>\n",
       "      <td>IT</td>\n",
       "    </tr>\n",
       "  </tbody>\n",
       "</table>\n",
       "</div>"
      ],
      "text/plain": [
       "   maas departman\n",
       "0   1.0        IT\n",
       "1   3.0       NaN\n",
       "2   6.0        IK\n",
       "3   NaN        IK\n",
       "4   7.0        IK\n",
       "5   1.0        IK\n",
       "6   NaN        IK\n",
       "7   9.0        IT\n",
       "8  15.0        IT"
      ]
     },
     "execution_count": 74,
     "metadata": {},
     "output_type": "execute_result"
    }
   ],
   "source": [
    "df"
   ]
  },
  {
   "cell_type": "code",
   "execution_count": 75,
   "id": "9ff5862c",
   "metadata": {
    "execution": {
     "iopub.execute_input": "2022-05-07T01:58:58.869489Z",
     "iopub.status.busy": "2022-05-07T01:58:58.868602Z",
     "iopub.status.idle": "2022-05-07T01:58:58.882742Z",
     "shell.execute_reply": "2022-05-07T01:58:58.881791Z"
    },
    "papermill": {
     "duration": 0.13585,
     "end_time": "2022-05-07T01:58:58.884947",
     "exception": false,
     "start_time": "2022-05-07T01:58:58.749097",
     "status": "completed"
    },
    "tags": []
   },
   "outputs": [
    {
     "data": {
      "text/plain": [
       "0    IT\n",
       "1    IK\n",
       "2    IK\n",
       "3    IK\n",
       "4    IK\n",
       "5    IK\n",
       "6    IK\n",
       "7    IT\n",
       "8    IT\n",
       "Name: departman, dtype: object"
      ]
     },
     "execution_count": 75,
     "metadata": {},
     "output_type": "execute_result"
    }
   ],
   "source": [
    "# Bazen Soyle Bir Doldurma Islemi De Kullaniliyomus; Eksik Degerin Oncesindeki Veya Sonrasindaki Deger Ile Doldurma Islemi Yapiliyormus ( Onceki Deger Bir Alt Code'De )\n",
    "\n",
    "df[\"departman\"].fillna(method = \"bfill\") # Sonrasindaki Deger Ile Doldurmak Istedigimizi Ifade Eder ( Sonrasinda IK Degeri Oldugu Icin IK Ile Doldurma Islemi Yapti )"
   ]
  },
  {
   "cell_type": "code",
   "execution_count": 76,
   "id": "f7123ab0",
   "metadata": {
    "execution": {
     "iopub.execute_input": "2022-05-07T01:58:59.121748Z",
     "iopub.status.busy": "2022-05-07T01:58:59.121192Z",
     "iopub.status.idle": "2022-05-07T01:58:59.127581Z",
     "shell.execute_reply": "2022-05-07T01:58:59.127039Z"
    },
    "papermill": {
     "duration": 0.12404,
     "end_time": "2022-05-07T01:58:59.129369",
     "exception": false,
     "start_time": "2022-05-07T01:58:59.005329",
     "status": "completed"
    },
    "tags": []
   },
   "outputs": [
    {
     "data": {
      "text/plain": [
       "0    IT\n",
       "1    IT\n",
       "2    IK\n",
       "3    IK\n",
       "4    IK\n",
       "5    IK\n",
       "6    IK\n",
       "7    IT\n",
       "8    IT\n",
       "Name: departman, dtype: object"
      ]
     },
     "execution_count": 76,
     "metadata": {},
     "output_type": "execute_result"
    }
   ],
   "source": [
    "df[\"departman\"].fillna(method = \"ffill\") # Onceki Deger Ile Doldurmak Istedigimizi Ifade Eder ( Onceki Degerde IT Degeri Oldugu Icin IT Ile Doldurma Islemi Yapti )"
   ]
  }
 ],
 "metadata": {
  "kernelspec": {
   "display_name": "Python 3",
   "language": "python",
   "name": "python3"
  },
  "language_info": {
   "codemirror_mode": {
    "name": "ipython",
    "version": 3
   },
   "file_extension": ".py",
   "mimetype": "text/x-python",
   "name": "python",
   "nbconvert_exporter": "python",
   "pygments_lexer": "ipython3",
   "version": "3.7.12"
  },
  "papermill": {
   "default_parameters": {},
   "duration": 32.474234,
   "end_time": "2022-05-07T01:58:59.964827",
   "environment_variables": {},
   "exception": null,
   "input_path": "__notebook__.ipynb",
   "output_path": "__notebook__.ipynb",
   "parameters": {},
   "start_time": "2022-05-07T01:58:27.490593",
   "version": "2.3.4"
  }
 },
 "nbformat": 4,
 "nbformat_minor": 5
}
