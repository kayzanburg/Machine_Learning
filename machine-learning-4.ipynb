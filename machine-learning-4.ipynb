{
 "cells": [
  {
   "cell_type": "code",
   "execution_count": 1,
   "id": "1393e32f",
   "metadata": {
    "execution": {
     "iopub.execute_input": "2022-04-23T14:49:45.352084Z",
     "iopub.status.busy": "2022-04-23T14:49:45.351411Z",
     "iopub.status.idle": "2022-04-23T14:49:45.354908Z",
     "shell.execute_reply": "2022-04-23T14:49:45.354152Z",
     "shell.execute_reply.started": "2022-04-23T13:40:11.390687Z"
    },
    "papermill": {
     "duration": 0.138504,
     "end_time": "2022-04-23T14:49:45.355084",
     "exception": false,
     "start_time": "2022-04-23T14:49:45.216580",
     "status": "completed"
    },
    "tags": []
   },
   "outputs": [],
   "source": [
    "# PANDAS KUTUPHANESI'ni import Ediyoruz\n",
    "\n",
    "import pandas as pd"
   ]
  },
  {
   "cell_type": "code",
   "execution_count": 2,
   "id": "acf89e64",
   "metadata": {
    "execution": {
     "iopub.execute_input": "2022-04-23T14:49:45.598420Z",
     "iopub.status.busy": "2022-04-23T14:49:45.597674Z",
     "iopub.status.idle": "2022-04-23T14:49:45.600880Z",
     "shell.execute_reply": "2022-04-23T14:49:45.601403Z",
     "shell.execute_reply.started": "2022-04-23T13:40:11.800714Z"
    },
    "papermill": {
     "duration": 0.126999,
     "end_time": "2022-04-23T14:49:45.601578",
     "exception": false,
     "start_time": "2022-04-23T14:49:45.474579",
     "status": "completed"
    },
    "tags": []
   },
   "outputs": [
    {
     "name": "stdout",
     "output_type": "stream",
     "text": [
      "0    10\n",
      "1     7\n",
      "2     8\n",
      "3     3\n",
      "4     5\n",
      "5     4\n",
      "dtype: int64\n"
     ]
    }
   ],
   "source": [
    "Seri = pd.Series([10,7,8,3,5,4]) # Series Ifadesinin Ilk Harfi Buyuk Yazilir.\n",
    "\n",
    "print(Seri)"
   ]
  },
  {
   "cell_type": "code",
   "execution_count": 3,
   "id": "c8f23894",
   "metadata": {
    "execution": {
     "iopub.execute_input": "2022-04-23T14:49:45.850641Z",
     "iopub.status.busy": "2022-04-23T14:49:45.849761Z",
     "iopub.status.idle": "2022-04-23T14:49:45.855782Z",
     "shell.execute_reply": "2022-04-23T14:49:45.855222Z",
     "shell.execute_reply.started": "2022-04-23T13:40:12.127577Z"
    },
    "papermill": {
     "duration": 0.132014,
     "end_time": "2022-04-23T14:49:45.855927",
     "exception": false,
     "start_time": "2022-04-23T14:49:45.723913",
     "status": "completed"
    },
    "tags": []
   },
   "outputs": [
    {
     "name": "stdout",
     "output_type": "stream",
     "text": [
      "<class 'pandas.core.series.Series'>\n"
     ]
    }
   ],
   "source": [
    "print(type(Seri)) # Burada da Gorulecegi Uzere Bu Ifade Seri'dir."
   ]
  },
  {
   "cell_type": "code",
   "execution_count": 4,
   "id": "aaec933e",
   "metadata": {
    "execution": {
     "iopub.execute_input": "2022-04-23T14:49:46.100704Z",
     "iopub.status.busy": "2022-04-23T14:49:46.100018Z",
     "iopub.status.idle": "2022-04-23T14:49:46.104148Z",
     "shell.execute_reply": "2022-04-23T14:49:46.104725Z",
     "shell.execute_reply.started": "2022-04-23T13:40:12.450588Z"
    },
    "papermill": {
     "duration": 0.128912,
     "end_time": "2022-04-23T14:49:46.104901",
     "exception": false,
     "start_time": "2022-04-23T14:49:45.975989",
     "status": "completed"
    },
    "tags": []
   },
   "outputs": [
    {
     "name": "stdout",
     "output_type": "stream",
     "text": [
      "[RangeIndex(start=0, stop=6, step=1)]\n"
     ]
    }
   ],
   "source": [
    "print(Seri.axes) # Bu Serinin Index Bilgilerine Ulasiyoruz ------> Bu Serinin Indexleri 0 Dan Baslayip, 6 ya kadar gidiyor ve 1 er 1 er artmaktadir."
   ]
  },
  {
   "cell_type": "code",
   "execution_count": 5,
   "id": "b7ed51c1",
   "metadata": {
    "execution": {
     "iopub.execute_input": "2022-04-23T14:49:46.351361Z",
     "iopub.status.busy": "2022-04-23T14:49:46.350639Z",
     "iopub.status.idle": "2022-04-23T14:49:46.354609Z",
     "shell.execute_reply": "2022-04-23T14:49:46.353964Z",
     "shell.execute_reply.started": "2022-04-23T13:40:12.777764Z"
    },
    "papermill": {
     "duration": 0.131134,
     "end_time": "2022-04-23T14:49:46.354760",
     "exception": false,
     "start_time": "2022-04-23T14:49:46.223626",
     "status": "completed"
    },
    "tags": []
   },
   "outputs": [
    {
     "name": "stdout",
     "output_type": "stream",
     "text": [
      "int64\n"
     ]
    }
   ],
   "source": [
    "print(Seri.dtype) # Serinin Icerisindeki Elemanlarin Tip Bilgisinin Ne Oldugunu Ogreniyoruz."
   ]
  },
  {
   "cell_type": "code",
   "execution_count": 6,
   "id": "2e27cf88",
   "metadata": {
    "execution": {
     "iopub.execute_input": "2022-04-23T14:49:46.603709Z",
     "iopub.status.busy": "2022-04-23T14:49:46.602935Z",
     "iopub.status.idle": "2022-04-23T14:49:46.606607Z",
     "shell.execute_reply": "2022-04-23T14:49:46.606093Z",
     "shell.execute_reply.started": "2022-04-23T13:40:13.166384Z"
    },
    "papermill": {
     "duration": 0.132545,
     "end_time": "2022-04-23T14:49:46.606761",
     "exception": false,
     "start_time": "2022-04-23T14:49:46.474216",
     "status": "completed"
    },
    "tags": []
   },
   "outputs": [
    {
     "name": "stdout",
     "output_type": "stream",
     "text": [
      "6\n"
     ]
    }
   ],
   "source": [
    "print(Seri.size) # Icerisindeki Eleman Sayisi"
   ]
  },
  {
   "cell_type": "code",
   "execution_count": 7,
   "id": "01c68d3f",
   "metadata": {
    "execution": {
     "iopub.execute_input": "2022-04-23T14:49:46.851525Z",
     "iopub.status.busy": "2022-04-23T14:49:46.850822Z",
     "iopub.status.idle": "2022-04-23T14:49:46.854781Z",
     "shell.execute_reply": "2022-04-23T14:49:46.854216Z",
     "shell.execute_reply.started": "2022-04-23T13:40:13.490146Z"
    },
    "papermill": {
     "duration": 0.131329,
     "end_time": "2022-04-23T14:49:46.854934",
     "exception": false,
     "start_time": "2022-04-23T14:49:46.723605",
     "status": "completed"
    },
    "tags": []
   },
   "outputs": [
    {
     "name": "stdout",
     "output_type": "stream",
     "text": [
      "1\n"
     ]
    }
   ],
   "source": [
    "print(Seri.ndim) # Serinin Kac Boyutlu Oldugunu Ogreniyoruz."
   ]
  },
  {
   "cell_type": "code",
   "execution_count": 8,
   "id": "5ee4cad9",
   "metadata": {
    "execution": {
     "iopub.execute_input": "2022-04-23T14:49:47.099909Z",
     "iopub.status.busy": "2022-04-23T14:49:47.099279Z",
     "iopub.status.idle": "2022-04-23T14:49:47.106537Z",
     "shell.execute_reply": "2022-04-23T14:49:47.105614Z",
     "shell.execute_reply.started": "2022-04-23T13:40:13.814113Z"
    },
    "papermill": {
     "duration": 0.131882,
     "end_time": "2022-04-23T14:49:47.106756",
     "exception": false,
     "start_time": "2022-04-23T14:49:46.974874",
     "status": "completed"
    },
    "tags": []
   },
   "outputs": [
    {
     "name": "stdout",
     "output_type": "stream",
     "text": [
      "[10  7  8  3  5  4]\n"
     ]
    }
   ],
   "source": [
    "print(Seri.values) # Sadece Bir Array Gibi veya Liste gibi Ulasmak Istersek Bunu Kullanabiliriz."
   ]
  },
  {
   "cell_type": "code",
   "execution_count": 9,
   "id": "c61382d6",
   "metadata": {
    "execution": {
     "iopub.execute_input": "2022-04-23T14:49:47.360366Z",
     "iopub.status.busy": "2022-04-23T14:49:47.359722Z",
     "iopub.status.idle": "2022-04-23T14:49:47.363888Z",
     "shell.execute_reply": "2022-04-23T14:49:47.363188Z",
     "shell.execute_reply.started": "2022-04-23T13:40:14.142078Z"
    },
    "papermill": {
     "duration": 0.131415,
     "end_time": "2022-04-23T14:49:47.364053",
     "exception": false,
     "start_time": "2022-04-23T14:49:47.232638",
     "status": "completed"
    },
    "tags": []
   },
   "outputs": [
    {
     "name": "stdout",
     "output_type": "stream",
     "text": [
      "0    10\n",
      "1     7\n",
      "2     8\n",
      "3     3\n",
      "4     5\n",
      "dtype: int64\n"
     ]
    }
   ],
   "source": [
    "print(Seri.head()) # Bu Ifade Ile Serimizin Ilk \"5\" Gozdeki Elemanlarina Ve Bunlarin Indek Numaralarina Erisebiliyoruz."
   ]
  },
  {
   "cell_type": "code",
   "execution_count": 10,
   "id": "0831f627",
   "metadata": {
    "execution": {
     "iopub.execute_input": "2022-04-23T14:49:47.614703Z",
     "iopub.status.busy": "2022-04-23T14:49:47.613765Z",
     "iopub.status.idle": "2022-04-23T14:49:47.617444Z",
     "shell.execute_reply": "2022-04-23T14:49:47.616900Z",
     "shell.execute_reply.started": "2022-04-23T13:40:14.476241Z"
    },
    "papermill": {
     "duration": 0.131185,
     "end_time": "2022-04-23T14:49:47.617597",
     "exception": false,
     "start_time": "2022-04-23T14:49:47.486412",
     "status": "completed"
    },
    "tags": []
   },
   "outputs": [
    {
     "name": "stdout",
     "output_type": "stream",
     "text": [
      "0    10\n",
      "1     7\n",
      "2     8\n",
      "dtype: int64\n"
     ]
    }
   ],
   "source": [
    "print(Seri.head(3)) # Bu Ifade Ile Serimizin Ilk \"3\" Gozdeki Elemanlarina Ve Bunlarin Indek Numaralarina Erisebiliyoruz."
   ]
  },
  {
   "cell_type": "code",
   "execution_count": 11,
   "id": "86ce21f8",
   "metadata": {
    "execution": {
     "iopub.execute_input": "2022-04-23T14:49:47.869896Z",
     "iopub.status.busy": "2022-04-23T14:49:47.869219Z",
     "iopub.status.idle": "2022-04-23T14:49:47.872051Z",
     "shell.execute_reply": "2022-04-23T14:49:47.872768Z",
     "shell.execute_reply.started": "2022-04-23T13:40:14.845789Z"
    },
    "papermill": {
     "duration": 0.134935,
     "end_time": "2022-04-23T14:49:47.872998",
     "exception": false,
     "start_time": "2022-04-23T14:49:47.738063",
     "status": "completed"
    },
    "tags": []
   },
   "outputs": [
    {
     "name": "stdout",
     "output_type": "stream",
     "text": [
      "1    7\n",
      "2    8\n",
      "3    3\n",
      "4    5\n",
      "5    4\n",
      "dtype: int64\n"
     ]
    }
   ],
   "source": [
    "print(Seri.tail()) # Bu Ifade Ile Serimizin Son \"5\" Gozdeki Elemanlarina Ve Bunlarin Indek Numaralarina Erisebiliyoruz."
   ]
  },
  {
   "cell_type": "code",
   "execution_count": 12,
   "id": "8c22b4d9",
   "metadata": {
    "execution": {
     "iopub.execute_input": "2022-04-23T14:49:48.118420Z",
     "iopub.status.busy": "2022-04-23T14:49:48.117530Z",
     "iopub.status.idle": "2022-04-23T14:49:48.121205Z",
     "shell.execute_reply": "2022-04-23T14:49:48.121928Z",
     "shell.execute_reply.started": "2022-04-23T13:40:15.171402Z"
    },
    "papermill": {
     "duration": 0.129626,
     "end_time": "2022-04-23T14:49:48.122208",
     "exception": false,
     "start_time": "2022-04-23T14:49:47.992582",
     "status": "completed"
    },
    "tags": []
   },
   "outputs": [
    {
     "name": "stdout",
     "output_type": "stream",
     "text": [
      "3    3\n",
      "4    5\n",
      "5    4\n",
      "dtype: int64\n"
     ]
    }
   ],
   "source": [
    "print(Seri.tail(3)) # Bu Ifade Ile Serimizin Son \"3\" Gozdeki Elemanlarina Ve Bunlarin Indek Numaralarina Erisebiliyoruz."
   ]
  },
  {
   "cell_type": "code",
   "execution_count": 13,
   "id": "eddc0dac",
   "metadata": {
    "execution": {
     "iopub.execute_input": "2022-04-23T14:49:48.372991Z",
     "iopub.status.busy": "2022-04-23T14:49:48.372139Z",
     "iopub.status.idle": "2022-04-23T14:49:48.375433Z",
     "shell.execute_reply": "2022-04-23T14:49:48.375923Z",
     "shell.execute_reply.started": "2022-04-23T13:40:15.492084Z"
    },
    "papermill": {
     "duration": 0.131016,
     "end_time": "2022-04-23T14:49:48.376092",
     "exception": false,
     "start_time": "2022-04-23T14:49:48.245076",
     "status": "completed"
    },
    "tags": []
   },
   "outputs": [
    {
     "name": "stdout",
     "output_type": "stream",
     "text": [
      "0    44\n",
      "1    88\n",
      "2    95\n",
      "3     7\n",
      "4     1\n",
      "5     3\n",
      "6    41\n",
      "dtype: int64\n"
     ]
    }
   ],
   "source": [
    "Seri_1 = pd.Series([44,88,95,7,1,3,41])\n",
    "\n",
    "print(Seri_1) # Normal Sartlarda Indek Numaralari 0 dan Baslayarak Eleman Sayisi Kadar Artarak Devam Eder Lakin Biz Index Numaralarini Kendimiz Ayarlayabiliyoruz."
   ]
  },
  {
   "cell_type": "code",
   "execution_count": 14,
   "id": "2aa8ba88",
   "metadata": {
    "execution": {
     "iopub.execute_input": "2022-04-23T14:49:48.623902Z",
     "iopub.status.busy": "2022-04-23T14:49:48.623037Z",
     "iopub.status.idle": "2022-04-23T14:49:48.627502Z",
     "shell.execute_reply": "2022-04-23T14:49:48.626708Z",
     "shell.execute_reply.started": "2022-04-23T13:40:15.843537Z"
    },
    "papermill": {
     "duration": 0.131218,
     "end_time": "2022-04-23T14:49:48.627817",
     "exception": false,
     "start_time": "2022-04-23T14:49:48.496599",
     "status": "completed"
    },
    "tags": []
   },
   "outputs": [
    {
     "name": "stdout",
     "output_type": "stream",
     "text": [
      "1     21\n",
      "3     64\n",
      "5      9\n",
      "7      7\n",
      "9     82\n",
      "11    33\n",
      "13    43\n",
      "15    71\n",
      "17    42\n",
      "dtype: int64\n"
     ]
    }
   ],
   "source": [
    "# Index Numarasi Belirleme\n",
    "\n",
    "Seri_2 = pd.Series([21,64,9,7,82,33,43,71,42] , index = [1,3,5,7,9,11,13,15,17])\n",
    "\n",
    "print(Seri_2) # Istedigimiz Index Numarasina Gore Atama Yaptik"
   ]
  },
  {
   "cell_type": "code",
   "execution_count": 15,
   "id": "11ec4f71",
   "metadata": {
    "execution": {
     "iopub.execute_input": "2022-04-23T14:49:48.887158Z",
     "iopub.status.busy": "2022-04-23T14:49:48.886216Z",
     "iopub.status.idle": "2022-04-23T14:49:48.889930Z",
     "shell.execute_reply": "2022-04-23T14:49:48.890485Z",
     "shell.execute_reply.started": "2022-04-23T13:40:16.178053Z"
    },
    "papermill": {
     "duration": 0.139354,
     "end_time": "2022-04-23T14:49:48.890686",
     "exception": false,
     "start_time": "2022-04-23T14:49:48.751332",
     "status": "completed"
    },
    "tags": []
   },
   "outputs": [
    {
     "name": "stdout",
     "output_type": "stream",
     "text": [
      "A    21\n",
      "B    64\n",
      "c     9\n",
      "d     7\n",
      "e    82\n",
      "f    33\n",
      "G    43\n",
      "h    71\n",
      "i    42\n",
      "dtype: int64\n"
     ]
    }
   ],
   "source": [
    "# Index Numarasi Belirleme ( \"String\"  Ifade Ile)\n",
    "\n",
    "Seri_2 = pd.Series([21,64,9,7,82,33,43,71,42] , index = [\"A\",\"B\",\"c\",\"d\",\"e\",\"f\",\"G\",\"h\",\"i\"]) # Buyuk Kucuk Harf'e Gore Atama Yapabiliyoruz.\n",
    "\n",
    "print(Seri_2) # Istedigimiz Index Numarasina Gore Atama Yaptik"
   ]
  },
  {
   "cell_type": "code",
   "execution_count": 16,
   "id": "55936f3c",
   "metadata": {
    "execution": {
     "iopub.execute_input": "2022-04-23T14:49:49.148555Z",
     "iopub.status.busy": "2022-04-23T14:49:49.147458Z",
     "iopub.status.idle": "2022-04-23T14:49:49.152308Z",
     "shell.execute_reply": "2022-04-23T14:49:49.152946Z",
     "shell.execute_reply.started": "2022-04-23T13:40:16.508277Z"
    },
    "papermill": {
     "duration": 0.137147,
     "end_time": "2022-04-23T14:49:49.153141",
     "exception": false,
     "start_time": "2022-04-23T14:49:49.015994",
     "status": "completed"
    },
    "tags": []
   },
   "outputs": [
    {
     "name": "stdout",
     "output_type": "stream",
     "text": [
      "A    21\n",
      "B    64\n",
      "c     9\n",
      "d     7\n",
      "dtype: int64\n"
     ]
    }
   ],
   "source": [
    "#**************************************************************************************************************************************************************\n",
    "#**************************************************************************************************************************************************************\n",
    "# BURAYA BIR BAK \"D\" HARFI NIYE DAHIL ? \n",
    "#**************************************************************************************************************************************************************\n",
    "#**************************************************************************************************************************************************************\n",
    "\n",
    "print(Seri_2[\"A\":\"d\"])"
   ]
  },
  {
   "cell_type": "code",
   "execution_count": 17,
   "id": "ed5fafe3",
   "metadata": {
    "execution": {
     "iopub.execute_input": "2022-04-23T14:49:49.412063Z",
     "iopub.status.busy": "2022-04-23T14:49:49.411397Z",
     "iopub.status.idle": "2022-04-23T14:49:49.413821Z",
     "shell.execute_reply": "2022-04-23T14:49:49.414311Z",
     "shell.execute_reply.started": "2022-04-23T13:40:16.838999Z"
    },
    "papermill": {
     "duration": 0.137427,
     "end_time": "2022-04-23T14:49:49.414481",
     "exception": false,
     "start_time": "2022-04-23T14:49:49.277054",
     "status": "completed"
    },
    "tags": []
   },
   "outputs": [
    {
     "name": "stdout",
     "output_type": "stream",
     "text": [
      "Canakkale    17\n",
      "Istanbul     34\n",
      "Tekirdag     59\n",
      "Izmir        35\n",
      "dtype: int64\n"
     ]
    }
   ],
   "source": [
    "# Sozluk Uzerinden Liste Olusturmak\n",
    "\n",
    "Sozluk = {\"Canakkale\" : 17, \"Istanbul\" : 34, \"Tekirdag\": 59, \"Izmir\" : 35}\n",
    "\n",
    "Seri_3 = pd.Series(Sozluk)\n",
    "\n",
    "print(Seri_3)"
   ]
  },
  {
   "cell_type": "code",
   "execution_count": 18,
   "id": "7f7c34fe",
   "metadata": {
    "execution": {
     "iopub.execute_input": "2022-04-23T14:49:49.674371Z",
     "iopub.status.busy": "2022-04-23T14:49:49.673709Z",
     "iopub.status.idle": "2022-04-23T14:49:49.676322Z",
     "shell.execute_reply": "2022-04-23T14:49:49.676821Z",
     "shell.execute_reply.started": "2022-04-23T13:40:17.180300Z"
    },
    "papermill": {
     "duration": 0.135903,
     "end_time": "2022-04-23T14:49:49.676994",
     "exception": false,
     "start_time": "2022-04-23T14:49:49.541091",
     "status": "completed"
    },
    "tags": []
   },
   "outputs": [
    {
     "name": "stdout",
     "output_type": "stream",
     "text": [
      "0    44\n",
      "1    88\n",
      "2    95\n",
      "3     7\n",
      "4     1\n",
      "5     3\n",
      "6    41\n",
      "A    21\n",
      "B    64\n",
      "c     9\n",
      "d     7\n",
      "e    82\n",
      "f    33\n",
      "G    43\n",
      "h    71\n",
      "i    42\n",
      "dtype: int64\n"
     ]
    }
   ],
   "source": [
    "# Iki Seriyi Birlestirerek Bir Seri Olusturma\n",
    "\n",
    "Seri_4 = pd.concat([Seri_1 , Seri_2])\n",
    "\n",
    "print(Seri_4)"
   ]
  },
  {
   "cell_type": "code",
   "execution_count": 19,
   "id": "4e5426e6",
   "metadata": {
    "execution": {
     "iopub.execute_input": "2022-04-23T14:49:49.929315Z",
     "iopub.status.busy": "2022-04-23T14:49:49.928458Z",
     "iopub.status.idle": "2022-04-23T14:49:49.931850Z",
     "shell.execute_reply": "2022-04-23T14:49:49.932474Z",
     "shell.execute_reply.started": "2022-04-23T13:40:17.500351Z"
    },
    "papermill": {
     "duration": 0.133423,
     "end_time": "2022-04-23T14:49:49.932669",
     "exception": false,
     "start_time": "2022-04-23T14:49:49.799246",
     "status": "completed"
    },
    "tags": []
   },
   "outputs": [
    {
     "name": "stdout",
     "output_type": "stream",
     "text": [
      "0     17\n",
      "1    442\n",
      "2     13\n",
      "3     47\n",
      "4     65\n",
      "dtype: int64\n"
     ]
    }
   ],
   "source": [
    "import numpy as np\n",
    "\n",
    "Text_1 = np.array([17,442,13,47,65])\n",
    "\n",
    "Seri_5 = pd.Series(Text_1)\n",
    "\n",
    "print(Seri_5)"
   ]
  },
  {
   "cell_type": "code",
   "execution_count": 20,
   "id": "5fe32985",
   "metadata": {
    "execution": {
     "iopub.execute_input": "2022-04-23T14:49:50.191780Z",
     "iopub.status.busy": "2022-04-23T14:49:50.190765Z",
     "iopub.status.idle": "2022-04-23T14:49:50.195867Z",
     "shell.execute_reply": "2022-04-23T14:49:50.195329Z",
     "shell.execute_reply.started": "2022-04-23T13:40:17.827410Z"
    },
    "papermill": {
     "duration": 0.137347,
     "end_time": "2022-04-23T14:49:50.196008",
     "exception": false,
     "start_time": "2022-04-23T14:49:50.058661",
     "status": "completed"
    },
    "tags": []
   },
   "outputs": [
    {
     "name": "stdout",
     "output_type": "stream",
     "text": [
      "13\n",
      "\n",
      "********\n",
      "\n",
      "2    13\n",
      "3    47\n",
      "4    65\n",
      "dtype: int64\n"
     ]
    }
   ],
   "source": [
    "print(Seri_5[2])\n",
    "\n",
    "print(\"\\n********\\n\")\n",
    "\n",
    "print(Seri_5[2:5])"
   ]
  },
  {
   "cell_type": "code",
   "execution_count": 21,
   "id": "beb31b4d",
   "metadata": {
    "execution": {
     "iopub.execute_input": "2022-04-23T14:49:50.464291Z",
     "iopub.status.busy": "2022-04-23T14:49:50.463198Z",
     "iopub.status.idle": "2022-04-23T14:49:50.467941Z",
     "shell.execute_reply": "2022-04-23T14:49:50.466830Z",
     "shell.execute_reply.started": "2022-04-23T13:40:18.158893Z"
    },
    "papermill": {
     "duration": 0.141481,
     "end_time": "2022-04-23T14:49:50.468180",
     "exception": false,
     "start_time": "2022-04-23T14:49:50.326699",
     "status": "completed"
    },
    "tags": []
   },
   "outputs": [
    {
     "name": "stdout",
     "output_type": "stream",
     "text": [
      "Index(['reg', 'loj', 'cart', 'rf'], dtype='object')\n",
      "\n",
      "****************************************************\n",
      "\n",
      "<bound method Series.keys of reg     22\n",
      "loj     64\n",
      "cart    84\n",
      "rf      41\n",
      "dtype: int64>\n",
      "\n",
      "****************************************************\n",
      "\n",
      "[('reg', 22), ('loj', 64), ('cart', 84), ('rf', 41)]\n",
      "\n",
      "****************************************************\n",
      "\n",
      "[22 64 84 41]\n"
     ]
    }
   ],
   "source": [
    "# !!! Soo Important !!!\n",
    "\n",
    "Seri_6 = pd.Series([22,64,84,41],\n",
    "                   index = [\"reg\",\"loj\",\"cart\",\"rf\"])\n",
    "\n",
    "print(Seri_6.index)\n",
    "\n",
    "print(\"\\n****************************************************\\n\")\n",
    "\n",
    "print(Seri_6.keys)\n",
    "\n",
    "print(\"\\n****************************************************\\n\")\n",
    "\n",
    "print(list(Seri_6.items()))\n",
    "\n",
    "print(\"\\n****************************************************\\n\")\n",
    "\n",
    "print(Seri_6.values)"
   ]
  },
  {
   "cell_type": "code",
   "execution_count": 22,
   "id": "7b8af6e9",
   "metadata": {
    "execution": {
     "iopub.execute_input": "2022-04-23T14:49:50.731792Z",
     "iopub.status.busy": "2022-04-23T14:49:50.728829Z",
     "iopub.status.idle": "2022-04-23T14:49:50.737530Z",
     "shell.execute_reply": "2022-04-23T14:49:50.736431Z",
     "shell.execute_reply.started": "2022-04-23T13:40:18.490132Z"
    },
    "papermill": {
     "duration": 0.138322,
     "end_time": "2022-04-23T14:49:50.737839",
     "exception": false,
     "start_time": "2022-04-23T14:49:50.599517",
     "status": "completed"
    },
    "tags": []
   },
   "outputs": [
    {
     "name": "stdout",
     "output_type": "stream",
     "text": [
      "True\n",
      "\n",
      "*****\n",
      "\n",
      "False\n"
     ]
    }
   ],
   "source": [
    "# Sorgulama Islemleri\n",
    "\n",
    "print(\"reg\" in Seri_6) # reg Ifadesi Seri_6 nin Icerisinde mi ?\n",
    "\n",
    "print(\"\\n*****\\n\")\n",
    "\n",
    "print(\"Ahmet\" in Seri_6) # Ahmet Ifadesi Seri_6 nin Icerisinde mi ?"
   ]
  },
  {
   "cell_type": "code",
   "execution_count": 23,
   "id": "b41aa614",
   "metadata": {
    "execution": {
     "iopub.execute_input": "2022-04-23T14:49:51.005331Z",
     "iopub.status.busy": "2022-04-23T14:49:50.996524Z",
     "iopub.status.idle": "2022-04-23T14:49:51.009236Z",
     "shell.execute_reply": "2022-04-23T14:49:51.009875Z",
     "shell.execute_reply.started": "2022-04-23T13:40:18.840353Z"
    },
    "papermill": {
     "duration": 0.14374,
     "end_time": "2022-04-23T14:49:51.010052",
     "exception": false,
     "start_time": "2022-04-23T14:49:50.866312",
     "status": "completed"
    },
    "tags": []
   },
   "outputs": [
    {
     "name": "stdout",
     "output_type": "stream",
     "text": [
      "22\n",
      "\n",
      "*****\n",
      "\n",
      "reg    22\n",
      "rf     41\n",
      "dtype: int64\n",
      "\n",
      "*****\n",
      "\n",
      "Bilal\n"
     ]
    }
   ],
   "source": [
    "print(Seri_6[\"reg\"]) # Normal Bir Sekilde Index Numarasina Gore Veriye Ulasma\n",
    "\n",
    "print(\"\\n*****\\n\")\n",
    "\n",
    "print(Seri_6[[\"reg\" , \"rf\"]]) # Fancy Index Ile Veriye Ulasma Kullanilmistir.\n",
    "\n",
    "print(\"\\n*****\\n\")\n",
    "\n",
    "Seri_6[\"reg\"] = \"Bilal\"\n",
    "\n",
    "print(Seri_6[\"reg\"]) # Serimizdeki Bir Ifadeyi Index Numarasina Gore Degistirebiliyoruz."
   ]
  },
  {
   "cell_type": "code",
   "execution_count": 24,
   "id": "b7bbcde2",
   "metadata": {
    "execution": {
     "iopub.execute_input": "2022-04-23T14:49:51.266075Z",
     "iopub.status.busy": "2022-04-23T14:49:51.265417Z",
     "iopub.status.idle": "2022-04-23T14:49:51.273324Z",
     "shell.execute_reply": "2022-04-23T14:49:51.274307Z",
     "shell.execute_reply.started": "2022-04-23T13:40:19.180801Z"
    },
    "papermill": {
     "duration": 0.137336,
     "end_time": "2022-04-23T14:49:51.274649",
     "exception": false,
     "start_time": "2022-04-23T14:49:51.137313",
     "status": "completed"
    },
    "tags": []
   },
   "outputs": [
    {
     "name": "stdout",
     "output_type": "stream",
     "text": [
      "reg    Bilal\n",
      "loj       64\n",
      "dtype: object\n"
     ]
    }
   ],
   "source": [
    "print(Seri_6[\"reg\":\"loj\"]) # DİKKAT   ---------->   \"loj\" Ifadesini de Aldi "
   ]
  },
  {
   "cell_type": "code",
   "execution_count": 25,
   "id": "85031706",
   "metadata": {
    "execution": {
     "iopub.execute_input": "2022-04-23T14:49:51.537428Z",
     "iopub.status.busy": "2022-04-23T14:49:51.536744Z",
     "iopub.status.idle": "2022-04-23T14:49:51.545933Z",
     "shell.execute_reply": "2022-04-23T14:49:51.546897Z",
     "shell.execute_reply.started": "2022-04-23T13:40:19.505191Z"
    },
    "papermill": {
     "duration": 0.140892,
     "end_time": "2022-04-23T14:49:51.547164",
     "exception": false,
     "start_time": "2022-04-23T14:49:51.406272",
     "status": "completed"
    },
    "tags": []
   },
   "outputs": [
    {
     "name": "stdout",
     "output_type": "stream",
     "text": [
      "   Degisken Ismi\n",
      "0              1\n",
      "1             54\n",
      "2             96\n",
      "3             85\n",
      "4             72\n",
      "5             34\n"
     ]
    }
   ],
   "source": [
    "# !!! Soo Important !!!\n",
    "\n",
    "# Pandas DataFrame Olusturma\n",
    "\n",
    "List_1 = [1,54,96,85,72,34]\n",
    "\n",
    "Data_Frame_1 = pd.DataFrame(List_1 , columns = [\"Degisken Ismi\"]) # Burada 1. Goz Kismina Listeyi , 2. Goz Kismina DataFrame'nin Ismini Yaziyoruz.\n",
    "\n",
    "print(Data_Frame_1)"
   ]
  },
  {
   "cell_type": "code",
   "execution_count": 26,
   "id": "6ee54376",
   "metadata": {
    "execution": {
     "iopub.execute_input": "2022-04-23T14:49:51.810548Z",
     "iopub.status.busy": "2022-04-23T14:49:51.809866Z",
     "iopub.status.idle": "2022-04-23T14:49:51.815883Z",
     "shell.execute_reply": "2022-04-23T14:49:51.816677Z",
     "shell.execute_reply.started": "2022-04-23T13:40:19.828707Z"
    },
    "papermill": {
     "duration": 0.137522,
     "end_time": "2022-04-23T14:49:51.816918",
     "exception": false,
     "start_time": "2022-04-23T14:49:51.679396",
     "status": "completed"
    },
    "tags": []
   },
   "outputs": [
    {
     "name": "stdout",
     "output_type": "stream",
     "text": [
      "[[1 2 3]\n",
      " [4 5 6]\n",
      " [7 8 9]]\n"
     ]
    }
   ],
   "source": [
    "# 2 boyutlu DataFrame Olusturma\n",
    "\n",
    "List_2 = np.arange(1,10).reshape((3,3)) # Listemizi Olusturduk\n",
    "\n",
    "print(List_2)"
   ]
  },
  {
   "cell_type": "code",
   "execution_count": 27,
   "id": "7c3b5e41",
   "metadata": {
    "execution": {
     "iopub.execute_input": "2022-04-23T14:49:52.082455Z",
     "iopub.status.busy": "2022-04-23T14:49:52.077999Z",
     "iopub.status.idle": "2022-04-23T14:49:52.085726Z",
     "shell.execute_reply": "2022-04-23T14:49:52.085221Z",
     "shell.execute_reply.started": "2022-04-23T13:40:20.155613Z"
    },
    "papermill": {
     "duration": 0.139737,
     "end_time": "2022-04-23T14:49:52.085884",
     "exception": false,
     "start_time": "2022-04-23T14:49:51.946147",
     "status": "completed"
    },
    "tags": []
   },
   "outputs": [
    {
     "name": "stdout",
     "output_type": "stream",
     "text": [
      "   Var1  Var2  Var3\n",
      "0     1     2     3\n",
      "1     4     5     6\n",
      "2     7     8     9\n"
     ]
    }
   ],
   "source": [
    "Data_Frame_2 = pd.DataFrame(List_2, columns = [\"Var1\", \"Var2\", \"Var3\"]) # 2 Boyutlu DataFrame Olusturduk.\n",
    "\n",
    "print(Data_Frame_2)"
   ]
  },
  {
   "cell_type": "code",
   "execution_count": 28,
   "id": "6a4cad10",
   "metadata": {
    "execution": {
     "iopub.execute_input": "2022-04-23T14:49:52.341192Z",
     "iopub.status.busy": "2022-04-23T14:49:52.340525Z",
     "iopub.status.idle": "2022-04-23T14:49:52.354904Z",
     "shell.execute_reply": "2022-04-23T14:49:52.354164Z",
     "shell.execute_reply.started": "2022-04-23T13:40:20.496958Z"
    },
    "papermill": {
     "duration": 0.141369,
     "end_time": "2022-04-23T14:49:52.355057",
     "exception": false,
     "start_time": "2022-04-23T14:49:52.213688",
     "status": "completed"
    },
    "tags": []
   },
   "outputs": [
    {
     "data": {
      "text/html": [
       "<div>\n",
       "<style scoped>\n",
       "    .dataframe tbody tr th:only-of-type {\n",
       "        vertical-align: middle;\n",
       "    }\n",
       "\n",
       "    .dataframe tbody tr th {\n",
       "        vertical-align: top;\n",
       "    }\n",
       "\n",
       "    .dataframe thead th {\n",
       "        text-align: right;\n",
       "    }\n",
       "</style>\n",
       "<table border=\"1\" class=\"dataframe\">\n",
       "  <thead>\n",
       "    <tr style=\"text-align: right;\">\n",
       "      <th></th>\n",
       "      <th>Var1</th>\n",
       "      <th>Var2</th>\n",
       "      <th>Var3</th>\n",
       "    </tr>\n",
       "  </thead>\n",
       "  <tbody>\n",
       "    <tr>\n",
       "      <th>0</th>\n",
       "      <td>1</td>\n",
       "      <td>2</td>\n",
       "      <td>3</td>\n",
       "    </tr>\n",
       "    <tr>\n",
       "      <th>1</th>\n",
       "      <td>4</td>\n",
       "      <td>5</td>\n",
       "      <td>6</td>\n",
       "    </tr>\n",
       "    <tr>\n",
       "      <th>2</th>\n",
       "      <td>7</td>\n",
       "      <td>8</td>\n",
       "      <td>9</td>\n",
       "    </tr>\n",
       "  </tbody>\n",
       "</table>\n",
       "</div>"
      ],
      "text/plain": [
       "   Var1  Var2  Var3\n",
       "0     1     2     3\n",
       "1     4     5     6\n",
       "2     7     8     9"
      ]
     },
     "execution_count": 28,
     "metadata": {},
     "output_type": "execute_result"
    }
   ],
   "source": [
    "Data_Frame_2.head() # Bastan Ilk 5 Elemani Gosteriyordu."
   ]
  },
  {
   "cell_type": "code",
   "execution_count": 29,
   "id": "bba070f8",
   "metadata": {
    "execution": {
     "iopub.execute_input": "2022-04-23T14:49:52.615576Z",
     "iopub.status.busy": "2022-04-23T14:49:52.614876Z",
     "iopub.status.idle": "2022-04-23T14:49:52.619208Z",
     "shell.execute_reply": "2022-04-23T14:49:52.619754Z",
     "shell.execute_reply.started": "2022-04-23T13:40:20.835198Z"
    },
    "papermill": {
     "duration": 0.138582,
     "end_time": "2022-04-23T14:49:52.619962",
     "exception": false,
     "start_time": "2022-04-23T14:49:52.481380",
     "status": "completed"
    },
    "tags": []
   },
   "outputs": [
    {
     "data": {
      "text/html": [
       "<div>\n",
       "<style scoped>\n",
       "    .dataframe tbody tr th:only-of-type {\n",
       "        vertical-align: middle;\n",
       "    }\n",
       "\n",
       "    .dataframe tbody tr th {\n",
       "        vertical-align: top;\n",
       "    }\n",
       "\n",
       "    .dataframe thead th {\n",
       "        text-align: right;\n",
       "    }\n",
       "</style>\n",
       "<table border=\"1\" class=\"dataframe\">\n",
       "  <thead>\n",
       "    <tr style=\"text-align: right;\">\n",
       "      <th></th>\n",
       "      <th>Var1</th>\n",
       "      <th>Var2</th>\n",
       "      <th>Var3</th>\n",
       "    </tr>\n",
       "  </thead>\n",
       "  <tbody>\n",
       "    <tr>\n",
       "      <th>1</th>\n",
       "      <td>4</td>\n",
       "      <td>5</td>\n",
       "      <td>6</td>\n",
       "    </tr>\n",
       "    <tr>\n",
       "      <th>2</th>\n",
       "      <td>7</td>\n",
       "      <td>8</td>\n",
       "      <td>9</td>\n",
       "    </tr>\n",
       "  </tbody>\n",
       "</table>\n",
       "</div>"
      ],
      "text/plain": [
       "   Var1  Var2  Var3\n",
       "1     4     5     6\n",
       "2     7     8     9"
      ]
     },
     "execution_count": 29,
     "metadata": {},
     "output_type": "execute_result"
    }
   ],
   "source": [
    "Data_Frame_2.tail(2) # Sondan Ilk 2 Elemani Gosteriyordu."
   ]
  },
  {
   "cell_type": "code",
   "execution_count": 30,
   "id": "996861f0",
   "metadata": {
    "execution": {
     "iopub.execute_input": "2022-04-23T14:49:52.886252Z",
     "iopub.status.busy": "2022-04-23T14:49:52.885447Z",
     "iopub.status.idle": "2022-04-23T14:49:52.889321Z",
     "shell.execute_reply": "2022-04-23T14:49:52.888643Z",
     "shell.execute_reply.started": "2022-04-23T13:40:21.348742Z"
    },
    "papermill": {
     "duration": 0.141134,
     "end_time": "2022-04-23T14:49:52.889481",
     "exception": false,
     "start_time": "2022-04-23T14:49:52.748347",
     "status": "completed"
    },
    "tags": []
   },
   "outputs": [
    {
     "name": "stdout",
     "output_type": "stream",
     "text": [
      "Index(['Var1', 'Var2', 'Var3'], dtype='object')\n"
     ]
    }
   ],
   "source": [
    "print(Data_Frame_2.columns) # Degiskenlerin Isimlerini Getirir"
   ]
  },
  {
   "cell_type": "code",
   "execution_count": 31,
   "id": "1e8e3297",
   "metadata": {
    "execution": {
     "iopub.execute_input": "2022-04-23T14:49:53.161290Z",
     "iopub.status.busy": "2022-04-23T14:49:53.157425Z",
     "iopub.status.idle": "2022-04-23T14:49:53.164315Z",
     "shell.execute_reply": "2022-04-23T14:49:53.164862Z",
     "shell.execute_reply.started": "2022-04-23T13:40:21.851352Z"
    },
    "papermill": {
     "duration": 0.140494,
     "end_time": "2022-04-23T14:49:53.165037",
     "exception": false,
     "start_time": "2022-04-23T14:49:53.024543",
     "status": "completed"
    },
    "tags": []
   },
   "outputs": [
    {
     "name": "stdout",
     "output_type": "stream",
     "text": [
      "   deg1  deg2  deg3\n",
      "0     1     2     3\n",
      "1     4     5     6\n",
      "2     7     8     9\n"
     ]
    }
   ],
   "source": [
    "# Degisken Isimlerini De Degistirebiliriz\n",
    "\n",
    "Data_Frame_2.columns = (\"deg1\", \"deg2\", \"deg3\") # Degisken Isimlerini Degistirdik.\n",
    "\n",
    "print(Data_Frame_2)"
   ]
  },
  {
   "cell_type": "code",
   "execution_count": 32,
   "id": "98afd219",
   "metadata": {
    "execution": {
     "iopub.execute_input": "2022-04-23T14:49:53.436002Z",
     "iopub.status.busy": "2022-04-23T14:49:53.435096Z",
     "iopub.status.idle": "2022-04-23T14:49:53.437974Z",
     "shell.execute_reply": "2022-04-23T14:49:53.438473Z",
     "shell.execute_reply.started": "2022-04-23T13:40:22.251874Z"
    },
    "papermill": {
     "duration": 0.140079,
     "end_time": "2022-04-23T14:49:53.438647",
     "exception": false,
     "start_time": "2022-04-23T14:49:53.298568",
     "status": "completed"
    },
    "tags": []
   },
   "outputs": [
    {
     "name": "stdout",
     "output_type": "stream",
     "text": [
      "<class 'pandas.core.frame.DataFrame'>\n"
     ]
    }
   ],
   "source": [
    "print(type(Data_Frame_2)) # degiskenin Tipinin DataFrame Oldugunu Goruyoruz"
   ]
  },
  {
   "cell_type": "code",
   "execution_count": 33,
   "id": "fe13703e",
   "metadata": {
    "execution": {
     "iopub.execute_input": "2022-04-23T14:49:53.707468Z",
     "iopub.status.busy": "2022-04-23T14:49:53.706796Z",
     "iopub.status.idle": "2022-04-23T14:49:53.711902Z",
     "shell.execute_reply": "2022-04-23T14:49:53.712428Z",
     "shell.execute_reply.started": "2022-04-23T13:40:22.580741Z"
    },
    "papermill": {
     "duration": 0.137511,
     "end_time": "2022-04-23T14:49:53.712605",
     "exception": false,
     "start_time": "2022-04-23T14:49:53.575094",
     "status": "completed"
    },
    "tags": []
   },
   "outputs": [
    {
     "name": "stdout",
     "output_type": "stream",
     "text": [
      "[RangeIndex(start=0, stop=3, step=1), Index(['deg1', 'deg2', 'deg3'], dtype='object')]\n"
     ]
    }
   ],
   "source": [
    "print(Data_Frame_2.axes) # Satir Ve Sutun Bilgilerini Bize Verir. -------->   Indexlerin 0 dan baslayarak 3 e kadar 1 er 1 er arttigini ve Degisken Isimlerini Verir."
   ]
  },
  {
   "cell_type": "code",
   "execution_count": 34,
   "id": "3624a136",
   "metadata": {
    "execution": {
     "iopub.execute_input": "2022-04-23T14:49:53.984307Z",
     "iopub.status.busy": "2022-04-23T14:49:53.982605Z",
     "iopub.status.idle": "2022-04-23T14:49:53.989907Z",
     "shell.execute_reply": "2022-04-23T14:49:53.989353Z",
     "shell.execute_reply.started": "2022-04-23T13:40:22.900760Z"
    },
    "papermill": {
     "duration": 0.143196,
     "end_time": "2022-04-23T14:49:53.990061",
     "exception": false,
     "start_time": "2022-04-23T14:49:53.846865",
     "status": "completed"
    },
    "tags": []
   },
   "outputs": [
    {
     "name": "stdout",
     "output_type": "stream",
     "text": [
      "(3, 3)\n"
     ]
    }
   ],
   "source": [
    "print(Data_Frame_2.shape) # Data_Frame_2 Ifadesinin Boyut Bilgisini Bize Gosterir"
   ]
  },
  {
   "cell_type": "code",
   "execution_count": 35,
   "id": "e5c4289d",
   "metadata": {
    "execution": {
     "iopub.execute_input": "2022-04-23T14:49:54.259099Z",
     "iopub.status.busy": "2022-04-23T14:49:54.258409Z",
     "iopub.status.idle": "2022-04-23T14:49:54.261458Z",
     "shell.execute_reply": "2022-04-23T14:49:54.261964Z",
     "shell.execute_reply.started": "2022-04-23T13:40:23.228627Z"
    },
    "papermill": {
     "duration": 0.137828,
     "end_time": "2022-04-23T14:49:54.262173",
     "exception": false,
     "start_time": "2022-04-23T14:49:54.124345",
     "status": "completed"
    },
    "tags": []
   },
   "outputs": [
    {
     "name": "stdout",
     "output_type": "stream",
     "text": [
      "2\n"
     ]
    }
   ],
   "source": [
    "print(Data_Frame_2.ndim) # Data_Frame_2 Ifadesinin Kac Boyutlu Oldugunu Bize Gosterir"
   ]
  },
  {
   "cell_type": "code",
   "execution_count": 36,
   "id": "72cd7355",
   "metadata": {
    "execution": {
     "iopub.execute_input": "2022-04-23T14:49:54.537334Z",
     "iopub.status.busy": "2022-04-23T14:49:54.536241Z",
     "iopub.status.idle": "2022-04-23T14:49:54.541729Z",
     "shell.execute_reply": "2022-04-23T14:49:54.542664Z",
     "shell.execute_reply.started": "2022-04-23T13:40:23.551977Z"
    },
    "papermill": {
     "duration": 0.147739,
     "end_time": "2022-04-23T14:49:54.542939",
     "exception": false,
     "start_time": "2022-04-23T14:49:54.395200",
     "status": "completed"
    },
    "tags": []
   },
   "outputs": [
    {
     "name": "stdout",
     "output_type": "stream",
     "text": [
      "9\n"
     ]
    }
   ],
   "source": [
    "print(Data_Frame_2.size) # Data_Frame_2 Ifadesinin Eleman Sayisini Bize Gosterir"
   ]
  },
  {
   "cell_type": "code",
   "execution_count": 37,
   "id": "1c8e0b94",
   "metadata": {
    "execution": {
     "iopub.execute_input": "2022-04-23T14:49:54.825980Z",
     "iopub.status.busy": "2022-04-23T14:49:54.825011Z",
     "iopub.status.idle": "2022-04-23T14:49:54.832181Z",
     "shell.execute_reply": "2022-04-23T14:49:54.832674Z",
     "shell.execute_reply.started": "2022-04-23T13:40:23.876790Z"
    },
    "papermill": {
     "duration": 0.14192,
     "end_time": "2022-04-23T14:49:54.832861",
     "exception": false,
     "start_time": "2022-04-23T14:49:54.690941",
     "status": "completed"
    },
    "tags": []
   },
   "outputs": [
    {
     "name": "stdout",
     "output_type": "stream",
     "text": [
      "[[1 2 3]\n",
      " [4 5 6]\n",
      " [7 8 9]]\n",
      "\n",
      "**********\n",
      "\n",
      "<class 'numpy.ndarray'>\n"
     ]
    }
   ],
   "source": [
    "# !!! Soo Important !!!\n",
    "\n",
    "#   \"Data_Frame_2\"   Ifadesi Normalde Veri Tipi Olarak \"DataFrame\" dir fakat Sadece Degerleri Gormek Istersek Array Formatina Ceviriyor.\n",
    "\n",
    "print(Data_Frame_2.values) # sadece Degerlerine Ulasmak Icin Kullanilir. \n",
    "\n",
    "print(\"\\n**********\\n\")\n",
    "\n",
    "print(type(Data_Frame_2.values)) # Array Formatinda Oldugunu Gorduk"
   ]
  },
  {
   "cell_type": "code",
   "execution_count": 38,
   "id": "55bce57c",
   "metadata": {
    "execution": {
     "iopub.execute_input": "2022-04-23T14:49:55.105092Z",
     "iopub.status.busy": "2022-04-23T14:49:55.104049Z",
     "iopub.status.idle": "2022-04-23T14:49:55.111454Z",
     "shell.execute_reply": "2022-04-23T14:49:55.112070Z",
     "shell.execute_reply.started": "2022-04-23T13:40:24.198817Z"
    },
    "papermill": {
     "duration": 0.145818,
     "end_time": "2022-04-23T14:49:55.112291",
     "exception": false,
     "start_time": "2022-04-23T14:49:54.966473",
     "status": "completed"
    },
    "tags": []
   },
   "outputs": [
    {
     "name": "stdout",
     "output_type": "stream",
     "text": [
      "   Degerler\n",
      "0         1\n",
      "1         2\n",
      "2         3\n",
      "3         4\n",
      "4         5\n",
      "5         6\n",
      "6         7\n",
      "7         8\n",
      "8         9\n",
      "9        10\n"
     ]
    }
   ],
   "source": [
    "List_3 = np.arange(1,11) # Listemizi Olusturduk\n",
    "\n",
    "Data_Frame_3 = pd.DataFrame(List_3 , columns = [\"Degerler\"])\n",
    "\n",
    "print(Data_Frame_3)"
   ]
  },
  {
   "cell_type": "code",
   "execution_count": 39,
   "id": "ae9bf3b2",
   "metadata": {
    "execution": {
     "iopub.execute_input": "2022-04-23T14:49:55.384970Z",
     "iopub.status.busy": "2022-04-23T14:49:55.384304Z",
     "iopub.status.idle": "2022-04-23T14:49:55.387293Z",
     "shell.execute_reply": "2022-04-23T14:49:55.387858Z",
     "shell.execute_reply.started": "2022-04-23T13:40:24.517302Z"
    },
    "papermill": {
     "duration": 0.138241,
     "end_time": "2022-04-23T14:49:55.388045",
     "exception": false,
     "start_time": "2022-04-23T14:49:55.249804",
     "status": "completed"
    },
    "tags": []
   },
   "outputs": [],
   "source": [
    "# !! Soo Important !!\n",
    "\n",
    "# Eger DataFrame'lerde Index'lerden Alinan Bilgi [0:3] ise 0 dan 3 e kadar (3 dahil degil), Alinan Bilgi [\"A\" : \"E\"] ise \"A\" dan \"E\" ye kadar (E dahil'dir)"
   ]
  },
  {
   "cell_type": "code",
   "execution_count": 40,
   "id": "981bc250",
   "metadata": {
    "execution": {
     "iopub.execute_input": "2022-04-23T14:49:55.669429Z",
     "iopub.status.busy": "2022-04-23T14:49:55.668554Z",
     "iopub.status.idle": "2022-04-23T14:49:55.672847Z",
     "shell.execute_reply": "2022-04-23T14:49:55.673410Z",
     "shell.execute_reply.started": "2022-04-23T13:40:24.833354Z"
    },
    "papermill": {
     "duration": 0.146104,
     "end_time": "2022-04-23T14:49:55.673588",
     "exception": false,
     "start_time": "2022-04-23T14:49:55.527484",
     "status": "completed"
    },
    "tags": []
   },
   "outputs": [],
   "source": [
    "Liste_4 = np.random.randint(10, size = 5)\n",
    "Liste_5 = np.random.randint(10, size = 5)\n",
    "Liste_6 = np.random.randint(10, size = 5)"
   ]
  },
  {
   "cell_type": "code",
   "execution_count": 41,
   "id": "86a2afac",
   "metadata": {
    "execution": {
     "iopub.execute_input": "2022-04-23T14:49:55.960768Z",
     "iopub.status.busy": "2022-04-23T14:49:55.960071Z",
     "iopub.status.idle": "2022-04-23T14:49:55.963931Z",
     "shell.execute_reply": "2022-04-23T14:49:55.964458Z",
     "shell.execute_reply.started": "2022-04-23T13:40:25.131634Z"
    },
    "papermill": {
     "duration": 0.148897,
     "end_time": "2022-04-23T14:49:55.964648",
     "exception": false,
     "start_time": "2022-04-23T14:49:55.815751",
     "status": "completed"
    },
    "tags": []
   },
   "outputs": [],
   "source": [
    "Sozluk_1 = {\"Var_1\":Liste_4, \"Var_2\":Liste_5, \"Var_3\":Liste_6}"
   ]
  },
  {
   "cell_type": "code",
   "execution_count": 42,
   "id": "1cc5b195",
   "metadata": {
    "execution": {
     "iopub.execute_input": "2022-04-23T14:49:56.253254Z",
     "iopub.status.busy": "2022-04-23T14:49:56.252545Z",
     "iopub.status.idle": "2022-04-23T14:49:56.256489Z",
     "shell.execute_reply": "2022-04-23T14:49:56.255934Z",
     "shell.execute_reply.started": "2022-04-23T13:40:25.427743Z"
    },
    "papermill": {
     "duration": 0.151235,
     "end_time": "2022-04-23T14:49:56.256725",
     "exception": false,
     "start_time": "2022-04-23T14:49:56.105490",
     "status": "completed"
    },
    "tags": []
   },
   "outputs": [
    {
     "data": {
      "text/plain": [
       "{'Var_1': array([3, 2, 4, 7, 6]),\n",
       " 'Var_2': array([0, 7, 5, 2, 2]),\n",
       " 'Var_3': array([1, 6, 2, 0, 5])}"
      ]
     },
     "execution_count": 42,
     "metadata": {},
     "output_type": "execute_result"
    }
   ],
   "source": [
    "Sozluk_1"
   ]
  },
  {
   "cell_type": "code",
   "execution_count": 43,
   "id": "960e1fb4",
   "metadata": {
    "execution": {
     "iopub.execute_input": "2022-04-23T14:49:56.535919Z",
     "iopub.status.busy": "2022-04-23T14:49:56.534989Z",
     "iopub.status.idle": "2022-04-23T14:49:56.538366Z",
     "shell.execute_reply": "2022-04-23T14:49:56.537725Z",
     "shell.execute_reply.started": "2022-04-23T13:40:25.720856Z"
    },
    "papermill": {
     "duration": 0.146014,
     "end_time": "2022-04-23T14:49:56.538523",
     "exception": false,
     "start_time": "2022-04-23T14:49:56.392509",
     "status": "completed"
    },
    "tags": []
   },
   "outputs": [],
   "source": [
    "Data_Frame_3 = pd.DataFrame(Sozluk_1)"
   ]
  },
  {
   "cell_type": "code",
   "execution_count": 44,
   "id": "70299668",
   "metadata": {
    "execution": {
     "iopub.execute_input": "2022-04-23T14:49:56.817301Z",
     "iopub.status.busy": "2022-04-23T14:49:56.816505Z",
     "iopub.status.idle": "2022-04-23T14:49:56.819856Z",
     "shell.execute_reply": "2022-04-23T14:49:56.820460Z",
     "shell.execute_reply.started": "2022-04-23T13:40:26.038882Z"
    },
    "papermill": {
     "duration": 0.144288,
     "end_time": "2022-04-23T14:49:56.820656",
     "exception": false,
     "start_time": "2022-04-23T14:49:56.676368",
     "status": "completed"
    },
    "tags": []
   },
   "outputs": [
    {
     "data": {
      "text/html": [
       "<div>\n",
       "<style scoped>\n",
       "    .dataframe tbody tr th:only-of-type {\n",
       "        vertical-align: middle;\n",
       "    }\n",
       "\n",
       "    .dataframe tbody tr th {\n",
       "        vertical-align: top;\n",
       "    }\n",
       "\n",
       "    .dataframe thead th {\n",
       "        text-align: right;\n",
       "    }\n",
       "</style>\n",
       "<table border=\"1\" class=\"dataframe\">\n",
       "  <thead>\n",
       "    <tr style=\"text-align: right;\">\n",
       "      <th></th>\n",
       "      <th>Var_1</th>\n",
       "      <th>Var_2</th>\n",
       "      <th>Var_3</th>\n",
       "    </tr>\n",
       "  </thead>\n",
       "  <tbody>\n",
       "    <tr>\n",
       "      <th>0</th>\n",
       "      <td>3</td>\n",
       "      <td>0</td>\n",
       "      <td>1</td>\n",
       "    </tr>\n",
       "    <tr>\n",
       "      <th>1</th>\n",
       "      <td>2</td>\n",
       "      <td>7</td>\n",
       "      <td>6</td>\n",
       "    </tr>\n",
       "    <tr>\n",
       "      <th>2</th>\n",
       "      <td>4</td>\n",
       "      <td>5</td>\n",
       "      <td>2</td>\n",
       "    </tr>\n",
       "    <tr>\n",
       "      <th>3</th>\n",
       "      <td>7</td>\n",
       "      <td>2</td>\n",
       "      <td>0</td>\n",
       "    </tr>\n",
       "    <tr>\n",
       "      <th>4</th>\n",
       "      <td>6</td>\n",
       "      <td>2</td>\n",
       "      <td>5</td>\n",
       "    </tr>\n",
       "  </tbody>\n",
       "</table>\n",
       "</div>"
      ],
      "text/plain": [
       "   Var_1  Var_2  Var_3\n",
       "0      3      0      1\n",
       "1      2      7      6\n",
       "2      4      5      2\n",
       "3      7      2      0\n",
       "4      6      2      5"
      ]
     },
     "execution_count": 44,
     "metadata": {},
     "output_type": "execute_result"
    }
   ],
   "source": [
    "Data_Frame_3"
   ]
  },
  {
   "cell_type": "code",
   "execution_count": 45,
   "id": "b3398356",
   "metadata": {
    "execution": {
     "iopub.execute_input": "2022-04-23T14:49:57.096212Z",
     "iopub.status.busy": "2022-04-23T14:49:57.095546Z",
     "iopub.status.idle": "2022-04-23T14:49:57.100192Z",
     "shell.execute_reply": "2022-04-23T14:49:57.100664Z",
     "shell.execute_reply.started": "2022-04-23T13:40:26.358265Z"
    },
    "papermill": {
     "duration": 0.143627,
     "end_time": "2022-04-23T14:49:57.100858",
     "exception": false,
     "start_time": "2022-04-23T14:49:56.957231",
     "status": "completed"
    },
    "tags": []
   },
   "outputs": [],
   "source": [
    "Liste_7 = np.arange(1,10).reshape(3,3)\n",
    "\n",
    "Data_Frame_4 = pd.DataFrame(Liste_7, columns = [\"Var_1\", \"Var_2\", \"Var_3\"])"
   ]
  },
  {
   "cell_type": "code",
   "execution_count": 46,
   "id": "d769e6f2",
   "metadata": {
    "execution": {
     "iopub.execute_input": "2022-04-23T14:49:57.378347Z",
     "iopub.status.busy": "2022-04-23T14:49:57.377698Z",
     "iopub.status.idle": "2022-04-23T14:49:57.386372Z",
     "shell.execute_reply": "2022-04-23T14:49:57.385837Z",
     "shell.execute_reply.started": "2022-04-23T13:40:26.721893Z"
    },
    "papermill": {
     "duration": 0.148814,
     "end_time": "2022-04-23T14:49:57.386525",
     "exception": false,
     "start_time": "2022-04-23T14:49:57.237711",
     "status": "completed"
    },
    "tags": []
   },
   "outputs": [
    {
     "data": {
      "text/html": [
       "<div>\n",
       "<style scoped>\n",
       "    .dataframe tbody tr th:only-of-type {\n",
       "        vertical-align: middle;\n",
       "    }\n",
       "\n",
       "    .dataframe tbody tr th {\n",
       "        vertical-align: top;\n",
       "    }\n",
       "\n",
       "    .dataframe thead th {\n",
       "        text-align: right;\n",
       "    }\n",
       "</style>\n",
       "<table border=\"1\" class=\"dataframe\">\n",
       "  <thead>\n",
       "    <tr style=\"text-align: right;\">\n",
       "      <th></th>\n",
       "      <th>Var_1</th>\n",
       "      <th>Var_2</th>\n",
       "      <th>Var_3</th>\n",
       "    </tr>\n",
       "  </thead>\n",
       "  <tbody>\n",
       "    <tr>\n",
       "      <th>0</th>\n",
       "      <td>1</td>\n",
       "      <td>2</td>\n",
       "      <td>3</td>\n",
       "    </tr>\n",
       "    <tr>\n",
       "      <th>1</th>\n",
       "      <td>4</td>\n",
       "      <td>5</td>\n",
       "      <td>6</td>\n",
       "    </tr>\n",
       "    <tr>\n",
       "      <th>2</th>\n",
       "      <td>7</td>\n",
       "      <td>8</td>\n",
       "      <td>9</td>\n",
       "    </tr>\n",
       "  </tbody>\n",
       "</table>\n",
       "</div>"
      ],
      "text/plain": [
       "   Var_1  Var_2  Var_3\n",
       "0      1      2      3\n",
       "1      4      5      6\n",
       "2      7      8      9"
      ]
     },
     "execution_count": 46,
     "metadata": {},
     "output_type": "execute_result"
    }
   ],
   "source": [
    "Data_Frame_4"
   ]
  },
  {
   "cell_type": "code",
   "execution_count": 47,
   "id": "7e2916ae",
   "metadata": {
    "execution": {
     "iopub.execute_input": "2022-04-23T14:49:57.664189Z",
     "iopub.status.busy": "2022-04-23T14:49:57.663494Z",
     "iopub.status.idle": "2022-04-23T14:49:57.668179Z",
     "shell.execute_reply": "2022-04-23T14:49:57.667323Z",
     "shell.execute_reply.started": "2022-04-23T13:40:27.062857Z"
    },
    "papermill": {
     "duration": 0.144095,
     "end_time": "2022-04-23T14:49:57.668357",
     "exception": false,
     "start_time": "2022-04-23T14:49:57.524262",
     "status": "completed"
    },
    "tags": []
   },
   "outputs": [],
   "source": [
    "Data_Frame_3.index = (\"a\", \"b\", \"c\", \"d\", \"e\")"
   ]
  },
  {
   "cell_type": "code",
   "execution_count": 48,
   "id": "a9527dd5",
   "metadata": {
    "execution": {
     "iopub.execute_input": "2022-04-23T14:49:57.945712Z",
     "iopub.status.busy": "2022-04-23T14:49:57.938353Z",
     "iopub.status.idle": "2022-04-23T14:49:57.949914Z",
     "shell.execute_reply": "2022-04-23T14:49:57.950523Z",
     "shell.execute_reply.started": "2022-04-23T13:40:27.427346Z"
    },
    "papermill": {
     "duration": 0.149804,
     "end_time": "2022-04-23T14:49:57.950829",
     "exception": false,
     "start_time": "2022-04-23T14:49:57.801025",
     "status": "completed"
    },
    "tags": []
   },
   "outputs": [
    {
     "data": {
      "text/html": [
       "<div>\n",
       "<style scoped>\n",
       "    .dataframe tbody tr th:only-of-type {\n",
       "        vertical-align: middle;\n",
       "    }\n",
       "\n",
       "    .dataframe tbody tr th {\n",
       "        vertical-align: top;\n",
       "    }\n",
       "\n",
       "    .dataframe thead th {\n",
       "        text-align: right;\n",
       "    }\n",
       "</style>\n",
       "<table border=\"1\" class=\"dataframe\">\n",
       "  <thead>\n",
       "    <tr style=\"text-align: right;\">\n",
       "      <th></th>\n",
       "      <th>Var_1</th>\n",
       "      <th>Var_2</th>\n",
       "      <th>Var_3</th>\n",
       "    </tr>\n",
       "  </thead>\n",
       "  <tbody>\n",
       "    <tr>\n",
       "      <th>a</th>\n",
       "      <td>3</td>\n",
       "      <td>0</td>\n",
       "      <td>1</td>\n",
       "    </tr>\n",
       "    <tr>\n",
       "      <th>b</th>\n",
       "      <td>2</td>\n",
       "      <td>7</td>\n",
       "      <td>6</td>\n",
       "    </tr>\n",
       "    <tr>\n",
       "      <th>c</th>\n",
       "      <td>4</td>\n",
       "      <td>5</td>\n",
       "      <td>2</td>\n",
       "    </tr>\n",
       "    <tr>\n",
       "      <th>d</th>\n",
       "      <td>7</td>\n",
       "      <td>2</td>\n",
       "      <td>0</td>\n",
       "    </tr>\n",
       "    <tr>\n",
       "      <th>e</th>\n",
       "      <td>6</td>\n",
       "      <td>2</td>\n",
       "      <td>5</td>\n",
       "    </tr>\n",
       "  </tbody>\n",
       "</table>\n",
       "</div>"
      ],
      "text/plain": [
       "   Var_1  Var_2  Var_3\n",
       "a      3      0      1\n",
       "b      2      7      6\n",
       "c      4      5      2\n",
       "d      7      2      0\n",
       "e      6      2      5"
      ]
     },
     "execution_count": 48,
     "metadata": {},
     "output_type": "execute_result"
    }
   ],
   "source": [
    "Data_Frame_3"
   ]
  },
  {
   "cell_type": "code",
   "execution_count": 49,
   "id": "3153eab3",
   "metadata": {
    "execution": {
     "iopub.execute_input": "2022-04-23T14:49:58.238279Z",
     "iopub.status.busy": "2022-04-23T14:49:58.230260Z",
     "iopub.status.idle": "2022-04-23T14:49:58.242093Z",
     "shell.execute_reply": "2022-04-23T14:49:58.241580Z",
     "shell.execute_reply.started": "2022-04-23T13:40:27.784867Z"
    },
    "papermill": {
     "duration": 0.150046,
     "end_time": "2022-04-23T14:49:58.242263",
     "exception": false,
     "start_time": "2022-04-23T14:49:58.092217",
     "status": "completed"
    },
    "tags": []
   },
   "outputs": [
    {
     "data": {
      "text/html": [
       "<div>\n",
       "<style scoped>\n",
       "    .dataframe tbody tr th:only-of-type {\n",
       "        vertical-align: middle;\n",
       "    }\n",
       "\n",
       "    .dataframe tbody tr th {\n",
       "        vertical-align: top;\n",
       "    }\n",
       "\n",
       "    .dataframe thead th {\n",
       "        text-align: right;\n",
       "    }\n",
       "</style>\n",
       "<table border=\"1\" class=\"dataframe\">\n",
       "  <thead>\n",
       "    <tr style=\"text-align: right;\">\n",
       "      <th></th>\n",
       "      <th>Var_1</th>\n",
       "      <th>Var_2</th>\n",
       "      <th>Var_3</th>\n",
       "    </tr>\n",
       "  </thead>\n",
       "  <tbody>\n",
       "    <tr>\n",
       "      <th>b</th>\n",
       "      <td>2</td>\n",
       "      <td>7</td>\n",
       "      <td>6</td>\n",
       "    </tr>\n",
       "    <tr>\n",
       "      <th>c</th>\n",
       "      <td>4</td>\n",
       "      <td>5</td>\n",
       "      <td>2</td>\n",
       "    </tr>\n",
       "    <tr>\n",
       "      <th>d</th>\n",
       "      <td>7</td>\n",
       "      <td>2</td>\n",
       "      <td>0</td>\n",
       "    </tr>\n",
       "    <tr>\n",
       "      <th>e</th>\n",
       "      <td>6</td>\n",
       "      <td>2</td>\n",
       "      <td>5</td>\n",
       "    </tr>\n",
       "  </tbody>\n",
       "</table>\n",
       "</div>"
      ],
      "text/plain": [
       "   Var_1  Var_2  Var_3\n",
       "b      2      7      6\n",
       "c      4      5      2\n",
       "d      7      2      0\n",
       "e      6      2      5"
      ]
     },
     "execution_count": 49,
     "metadata": {},
     "output_type": "execute_result"
    }
   ],
   "source": [
    "# DataFrame'lerden Eleman Silme Islemi\n",
    "\n",
    "Data_Frame_3.drop(\"a\", axis = 0) # Eleman Silinmis Gibi Duruyo ama \"Data_Frame_3\" Adli Ifadeyi Yazdirmaya Kalksak Silinmedigini Goruruz (Gorelim)(Asagida)"
   ]
  },
  {
   "cell_type": "code",
   "execution_count": 50,
   "id": "b8a6d628",
   "metadata": {
    "execution": {
     "iopub.execute_input": "2022-04-23T14:49:58.524947Z",
     "iopub.status.busy": "2022-04-23T14:49:58.524190Z",
     "iopub.status.idle": "2022-04-23T14:49:58.527675Z",
     "shell.execute_reply": "2022-04-23T14:49:58.528186Z",
     "shell.execute_reply.started": "2022-04-23T13:40:28.147734Z"
    },
    "papermill": {
     "duration": 0.146136,
     "end_time": "2022-04-23T14:49:58.528361",
     "exception": false,
     "start_time": "2022-04-23T14:49:58.382225",
     "status": "completed"
    },
    "tags": []
   },
   "outputs": [
    {
     "data": {
      "text/html": [
       "<div>\n",
       "<style scoped>\n",
       "    .dataframe tbody tr th:only-of-type {\n",
       "        vertical-align: middle;\n",
       "    }\n",
       "\n",
       "    .dataframe tbody tr th {\n",
       "        vertical-align: top;\n",
       "    }\n",
       "\n",
       "    .dataframe thead th {\n",
       "        text-align: right;\n",
       "    }\n",
       "</style>\n",
       "<table border=\"1\" class=\"dataframe\">\n",
       "  <thead>\n",
       "    <tr style=\"text-align: right;\">\n",
       "      <th></th>\n",
       "      <th>Var_1</th>\n",
       "      <th>Var_2</th>\n",
       "      <th>Var_3</th>\n",
       "    </tr>\n",
       "  </thead>\n",
       "  <tbody>\n",
       "    <tr>\n",
       "      <th>a</th>\n",
       "      <td>3</td>\n",
       "      <td>0</td>\n",
       "      <td>1</td>\n",
       "    </tr>\n",
       "    <tr>\n",
       "      <th>b</th>\n",
       "      <td>2</td>\n",
       "      <td>7</td>\n",
       "      <td>6</td>\n",
       "    </tr>\n",
       "    <tr>\n",
       "      <th>c</th>\n",
       "      <td>4</td>\n",
       "      <td>5</td>\n",
       "      <td>2</td>\n",
       "    </tr>\n",
       "    <tr>\n",
       "      <th>d</th>\n",
       "      <td>7</td>\n",
       "      <td>2</td>\n",
       "      <td>0</td>\n",
       "    </tr>\n",
       "    <tr>\n",
       "      <th>e</th>\n",
       "      <td>6</td>\n",
       "      <td>2</td>\n",
       "      <td>5</td>\n",
       "    </tr>\n",
       "  </tbody>\n",
       "</table>\n",
       "</div>"
      ],
      "text/plain": [
       "   Var_1  Var_2  Var_3\n",
       "a      3      0      1\n",
       "b      2      7      6\n",
       "c      4      5      2\n",
       "d      7      2      0\n",
       "e      6      2      5"
      ]
     },
     "execution_count": 50,
     "metadata": {},
     "output_type": "execute_result"
    }
   ],
   "source": [
    "Data_Frame_3 # Silinmedigini Gorduk \"a\" Index'inin"
   ]
  },
  {
   "cell_type": "code",
   "execution_count": 51,
   "id": "913c0536",
   "metadata": {
    "execution": {
     "iopub.execute_input": "2022-04-23T14:49:58.809198Z",
     "iopub.status.busy": "2022-04-23T14:49:58.808137Z",
     "iopub.status.idle": "2022-04-23T14:49:58.810588Z",
     "shell.execute_reply": "2022-04-23T14:49:58.811136Z",
     "shell.execute_reply.started": "2022-04-23T13:40:28.495405Z"
    },
    "papermill": {
     "duration": 0.142342,
     "end_time": "2022-04-23T14:49:58.811319",
     "exception": false,
     "start_time": "2022-04-23T14:49:58.668977",
     "status": "completed"
    },
    "tags": []
   },
   "outputs": [],
   "source": [
    "# Kalici Olarak Silmek Istersek \"inplace\" Diye Bir Code Kullanmamız Lazim\n",
    "\n",
    "Data_Frame_3.drop(\"a\", axis = 0, inplace = True)"
   ]
  },
  {
   "cell_type": "code",
   "execution_count": 52,
   "id": "e4de181e",
   "metadata": {
    "execution": {
     "iopub.execute_input": "2022-04-23T14:49:59.092851Z",
     "iopub.status.busy": "2022-04-23T14:49:59.091886Z",
     "iopub.status.idle": "2022-04-23T14:49:59.095683Z",
     "shell.execute_reply": "2022-04-23T14:49:59.095194Z",
     "shell.execute_reply.started": "2022-04-23T13:40:28.835506Z"
    },
    "papermill": {
     "duration": 0.149073,
     "end_time": "2022-04-23T14:49:59.095828",
     "exception": false,
     "start_time": "2022-04-23T14:49:58.946755",
     "status": "completed"
    },
    "tags": []
   },
   "outputs": [
    {
     "data": {
      "text/html": [
       "<div>\n",
       "<style scoped>\n",
       "    .dataframe tbody tr th:only-of-type {\n",
       "        vertical-align: middle;\n",
       "    }\n",
       "\n",
       "    .dataframe tbody tr th {\n",
       "        vertical-align: top;\n",
       "    }\n",
       "\n",
       "    .dataframe thead th {\n",
       "        text-align: right;\n",
       "    }\n",
       "</style>\n",
       "<table border=\"1\" class=\"dataframe\">\n",
       "  <thead>\n",
       "    <tr style=\"text-align: right;\">\n",
       "      <th></th>\n",
       "      <th>Var_1</th>\n",
       "      <th>Var_2</th>\n",
       "      <th>Var_3</th>\n",
       "    </tr>\n",
       "  </thead>\n",
       "  <tbody>\n",
       "    <tr>\n",
       "      <th>b</th>\n",
       "      <td>2</td>\n",
       "      <td>7</td>\n",
       "      <td>6</td>\n",
       "    </tr>\n",
       "    <tr>\n",
       "      <th>c</th>\n",
       "      <td>4</td>\n",
       "      <td>5</td>\n",
       "      <td>2</td>\n",
       "    </tr>\n",
       "    <tr>\n",
       "      <th>d</th>\n",
       "      <td>7</td>\n",
       "      <td>2</td>\n",
       "      <td>0</td>\n",
       "    </tr>\n",
       "    <tr>\n",
       "      <th>e</th>\n",
       "      <td>6</td>\n",
       "      <td>2</td>\n",
       "      <td>5</td>\n",
       "    </tr>\n",
       "  </tbody>\n",
       "</table>\n",
       "</div>"
      ],
      "text/plain": [
       "   Var_1  Var_2  Var_3\n",
       "b      2      7      6\n",
       "c      4      5      2\n",
       "d      7      2      0\n",
       "e      6      2      5"
      ]
     },
     "execution_count": 52,
     "metadata": {},
     "output_type": "execute_result"
    }
   ],
   "source": [
    "Data_Frame_3 # Goruldugu Uzere Silinme Islemi Basari Ile Gerceklesti."
   ]
  },
  {
   "cell_type": "code",
   "execution_count": 53,
   "id": "cb2932ae",
   "metadata": {
    "execution": {
     "iopub.execute_input": "2022-04-23T14:49:59.385589Z",
     "iopub.status.busy": "2022-04-23T14:49:59.384578Z",
     "iopub.status.idle": "2022-04-23T14:49:59.389475Z",
     "shell.execute_reply": "2022-04-23T14:49:59.388601Z",
     "shell.execute_reply.started": "2022-04-23T13:40:29.148717Z"
    },
    "papermill": {
     "duration": 0.157354,
     "end_time": "2022-04-23T14:49:59.389694",
     "exception": false,
     "start_time": "2022-04-23T14:49:59.232340",
     "status": "completed"
    },
    "tags": []
   },
   "outputs": [
    {
     "data": {
      "text/html": [
       "<div>\n",
       "<style scoped>\n",
       "    .dataframe tbody tr th:only-of-type {\n",
       "        vertical-align: middle;\n",
       "    }\n",
       "\n",
       "    .dataframe tbody tr th {\n",
       "        vertical-align: top;\n",
       "    }\n",
       "\n",
       "    .dataframe thead th {\n",
       "        text-align: right;\n",
       "    }\n",
       "</style>\n",
       "<table border=\"1\" class=\"dataframe\">\n",
       "  <thead>\n",
       "    <tr style=\"text-align: right;\">\n",
       "      <th></th>\n",
       "      <th>Var_1</th>\n",
       "      <th>Var_2</th>\n",
       "      <th>Var_3</th>\n",
       "    </tr>\n",
       "  </thead>\n",
       "  <tbody>\n",
       "    <tr>\n",
       "      <th>b</th>\n",
       "      <td>2</td>\n",
       "      <td>7</td>\n",
       "      <td>6</td>\n",
       "    </tr>\n",
       "    <tr>\n",
       "      <th>d</th>\n",
       "      <td>7</td>\n",
       "      <td>2</td>\n",
       "      <td>0</td>\n",
       "    </tr>\n",
       "  </tbody>\n",
       "</table>\n",
       "</div>"
      ],
      "text/plain": [
       "   Var_1  Var_2  Var_3\n",
       "b      2      7      6\n",
       "d      7      2      0"
      ]
     },
     "execution_count": 53,
     "metadata": {},
     "output_type": "execute_result"
    }
   ],
   "source": [
    "# Fancy Index Ile Eleman Silme Islemi\n",
    "\n",
    "Liste_8 = [\"c\", \"e\"]\n",
    "\n",
    "Data_Frame_3.drop(Liste_8, axis = 0)"
   ]
  },
  {
   "cell_type": "code",
   "execution_count": 54,
   "id": "572cde52",
   "metadata": {
    "execution": {
     "iopub.execute_input": "2022-04-23T14:49:59.681677Z",
     "iopub.status.busy": "2022-04-23T14:49:59.680992Z",
     "iopub.status.idle": "2022-04-23T14:49:59.684151Z",
     "shell.execute_reply": "2022-04-23T14:49:59.684643Z",
     "shell.execute_reply.started": "2022-04-23T13:40:29.582874Z"
    },
    "papermill": {
     "duration": 0.15331,
     "end_time": "2022-04-23T14:49:59.684817",
     "exception": false,
     "start_time": "2022-04-23T14:49:59.531507",
     "status": "completed"
    },
    "tags": []
   },
   "outputs": [
    {
     "data": {
      "text/html": [
       "<div>\n",
       "<style scoped>\n",
       "    .dataframe tbody tr th:only-of-type {\n",
       "        vertical-align: middle;\n",
       "    }\n",
       "\n",
       "    .dataframe tbody tr th {\n",
       "        vertical-align: top;\n",
       "    }\n",
       "\n",
       "    .dataframe thead th {\n",
       "        text-align: right;\n",
       "    }\n",
       "</style>\n",
       "<table border=\"1\" class=\"dataframe\">\n",
       "  <thead>\n",
       "    <tr style=\"text-align: right;\">\n",
       "      <th></th>\n",
       "      <th>Var_1</th>\n",
       "      <th>Var_2</th>\n",
       "      <th>Var_3</th>\n",
       "    </tr>\n",
       "  </thead>\n",
       "  <tbody>\n",
       "    <tr>\n",
       "      <th>b</th>\n",
       "      <td>2</td>\n",
       "      <td>7</td>\n",
       "      <td>6</td>\n",
       "    </tr>\n",
       "    <tr>\n",
       "      <th>c</th>\n",
       "      <td>4</td>\n",
       "      <td>5</td>\n",
       "      <td>2</td>\n",
       "    </tr>\n",
       "    <tr>\n",
       "      <th>d</th>\n",
       "      <td>7</td>\n",
       "      <td>2</td>\n",
       "      <td>0</td>\n",
       "    </tr>\n",
       "    <tr>\n",
       "      <th>e</th>\n",
       "      <td>6</td>\n",
       "      <td>2</td>\n",
       "      <td>5</td>\n",
       "    </tr>\n",
       "  </tbody>\n",
       "</table>\n",
       "</div>"
      ],
      "text/plain": [
       "   Var_1  Var_2  Var_3\n",
       "b      2      7      6\n",
       "c      4      5      2\n",
       "d      7      2      0\n",
       "e      6      2      5"
      ]
     },
     "execution_count": 54,
     "metadata": {},
     "output_type": "execute_result"
    }
   ],
   "source": [
    "# Ara Bi Not:\n",
    "\n",
    "Data_Frame_3"
   ]
  },
  {
   "cell_type": "code",
   "execution_count": 55,
   "id": "0d3fe379",
   "metadata": {
    "execution": {
     "iopub.execute_input": "2022-04-23T14:49:59.969076Z",
     "iopub.status.busy": "2022-04-23T14:49:59.968304Z",
     "iopub.status.idle": "2022-04-23T14:49:59.971480Z",
     "shell.execute_reply": "2022-04-23T14:49:59.971949Z",
     "shell.execute_reply.started": "2022-04-23T13:40:29.975547Z"
    },
    "papermill": {
     "duration": 0.146781,
     "end_time": "2022-04-23T14:49:59.972265",
     "exception": false,
     "start_time": "2022-04-23T14:49:59.825484",
     "status": "completed"
    },
    "tags": []
   },
   "outputs": [
    {
     "data": {
      "text/plain": [
       "True"
      ]
     },
     "execution_count": 55,
     "metadata": {},
     "output_type": "execute_result"
    }
   ],
   "source": [
    "\"Var_1\" in Data_Frame_3 #    \"Var_1\"    Ifadesi     \"Data_Frame_3\"      Ifadesinin Icerisinde Var mi?"
   ]
  },
  {
   "cell_type": "code",
   "execution_count": 56,
   "id": "cebfd2df",
   "metadata": {
    "execution": {
     "iopub.execute_input": "2022-04-23T14:50:00.266523Z",
     "iopub.status.busy": "2022-04-23T14:50:00.265401Z",
     "iopub.status.idle": "2022-04-23T14:50:00.269947Z",
     "shell.execute_reply": "2022-04-23T14:50:00.269311Z",
     "shell.execute_reply.started": "2022-04-23T13:40:30.430345Z"
    },
    "papermill": {
     "duration": 0.151223,
     "end_time": "2022-04-23T14:50:00.270097",
     "exception": false,
     "start_time": "2022-04-23T14:50:00.118874",
     "status": "completed"
    },
    "tags": []
   },
   "outputs": [
    {
     "data": {
      "text/plain": [
       "False"
      ]
     },
     "execution_count": 56,
     "metadata": {},
     "output_type": "execute_result"
    }
   ],
   "source": [
    "\"b\" in Data_Frame_3 #    \"b\"    Ifadesi     \"Data_Frame_3\"      Ifadesinin Icerisinde Var mi?  -------->> Yok Cunku \"b\" Indextir."
   ]
  },
  {
   "cell_type": "code",
   "execution_count": 57,
   "id": "0d2131fb",
   "metadata": {
    "execution": {
     "iopub.execute_input": "2022-04-23T14:50:00.553896Z",
     "iopub.status.busy": "2022-04-23T14:50:00.552959Z",
     "iopub.status.idle": "2022-04-23T14:50:00.556401Z",
     "shell.execute_reply": "2022-04-23T14:50:00.556932Z",
     "shell.execute_reply.started": "2022-04-23T13:40:30.763481Z"
    },
    "papermill": {
     "duration": 0.145117,
     "end_time": "2022-04-23T14:50:00.557142",
     "exception": false,
     "start_time": "2022-04-23T14:50:00.412025",
     "status": "completed"
    },
    "tags": []
   },
   "outputs": [
    {
     "name": "stdout",
     "output_type": "stream",
     "text": [
      "True\n",
      "False\n",
      "True\n"
     ]
    }
   ],
   "source": [
    "Liste_9 = [\"Var_1\", \"Var_4\", \"Var_2\"]\n",
    "\n",
    "for i in Liste_9:\n",
    "    print(i in Data_Frame_3)"
   ]
  },
  {
   "cell_type": "code",
   "execution_count": 58,
   "id": "6bb94607",
   "metadata": {
    "execution": {
     "iopub.execute_input": "2022-04-23T14:50:00.847229Z",
     "iopub.status.busy": "2022-04-23T14:50:00.846317Z",
     "iopub.status.idle": "2022-04-23T14:50:00.850479Z",
     "shell.execute_reply": "2022-04-23T14:50:00.849806Z",
     "shell.execute_reply.started": "2022-04-23T13:40:31.105852Z"
    },
    "papermill": {
     "duration": 0.150601,
     "end_time": "2022-04-23T14:50:00.850634",
     "exception": false,
     "start_time": "2022-04-23T14:50:00.700033",
     "status": "completed"
    },
    "tags": []
   },
   "outputs": [
    {
     "data": {
      "text/html": [
       "<div>\n",
       "<style scoped>\n",
       "    .dataframe tbody tr th:only-of-type {\n",
       "        vertical-align: middle;\n",
       "    }\n",
       "\n",
       "    .dataframe tbody tr th {\n",
       "        vertical-align: top;\n",
       "    }\n",
       "\n",
       "    .dataframe thead th {\n",
       "        text-align: right;\n",
       "    }\n",
       "</style>\n",
       "<table border=\"1\" class=\"dataframe\">\n",
       "  <thead>\n",
       "    <tr style=\"text-align: right;\">\n",
       "      <th></th>\n",
       "      <th>Var_1</th>\n",
       "      <th>Var_2</th>\n",
       "      <th>Var_3</th>\n",
       "    </tr>\n",
       "  </thead>\n",
       "  <tbody>\n",
       "    <tr>\n",
       "      <th>b</th>\n",
       "      <td>2</td>\n",
       "      <td>7</td>\n",
       "      <td>6</td>\n",
       "    </tr>\n",
       "    <tr>\n",
       "      <th>c</th>\n",
       "      <td>4</td>\n",
       "      <td>5</td>\n",
       "      <td>2</td>\n",
       "    </tr>\n",
       "    <tr>\n",
       "      <th>d</th>\n",
       "      <td>7</td>\n",
       "      <td>2</td>\n",
       "      <td>0</td>\n",
       "    </tr>\n",
       "    <tr>\n",
       "      <th>e</th>\n",
       "      <td>6</td>\n",
       "      <td>2</td>\n",
       "      <td>5</td>\n",
       "    </tr>\n",
       "  </tbody>\n",
       "</table>\n",
       "</div>"
      ],
      "text/plain": [
       "   Var_1  Var_2  Var_3\n",
       "b      2      7      6\n",
       "c      4      5      2\n",
       "d      7      2      0\n",
       "e      6      2      5"
      ]
     },
     "execution_count": 58,
     "metadata": {},
     "output_type": "execute_result"
    }
   ],
   "source": [
    "Data_Frame_3"
   ]
  },
  {
   "cell_type": "code",
   "execution_count": 59,
   "id": "5168da29",
   "metadata": {
    "execution": {
     "iopub.execute_input": "2022-04-23T14:50:01.148671Z",
     "iopub.status.busy": "2022-04-23T14:50:01.147857Z",
     "iopub.status.idle": "2022-04-23T14:50:01.150286Z",
     "shell.execute_reply": "2022-04-23T14:50:01.149617Z",
     "shell.execute_reply.started": "2022-04-23T13:40:31.446907Z"
    },
    "papermill": {
     "duration": 0.155966,
     "end_time": "2022-04-23T14:50:01.150440",
     "exception": false,
     "start_time": "2022-04-23T14:50:00.994474",
     "status": "completed"
    },
    "tags": []
   },
   "outputs": [],
   "source": [
    "# \"Var_1\" ve \"Var_2\" Kullanarak \"Var_4\" Adinda Bir Sutun Olusturma Islemi\n",
    "\n",
    "Data_Frame_3[\"Var_4\"] = Data_Frame_3[\"Var_1\"] + Data_Frame_3[\"Var_2\"]"
   ]
  },
  {
   "cell_type": "code",
   "execution_count": 60,
   "id": "80fa0f8c",
   "metadata": {
    "execution": {
     "iopub.execute_input": "2022-04-23T14:50:01.447767Z",
     "iopub.status.busy": "2022-04-23T14:50:01.446936Z",
     "iopub.status.idle": "2022-04-23T14:50:01.450753Z",
     "shell.execute_reply": "2022-04-23T14:50:01.450261Z",
     "shell.execute_reply.started": "2022-04-23T13:40:31.790334Z"
    },
    "papermill": {
     "duration": 0.157003,
     "end_time": "2022-04-23T14:50:01.450899",
     "exception": false,
     "start_time": "2022-04-23T14:50:01.293896",
     "status": "completed"
    },
    "tags": []
   },
   "outputs": [
    {
     "data": {
      "text/html": [
       "<div>\n",
       "<style scoped>\n",
       "    .dataframe tbody tr th:only-of-type {\n",
       "        vertical-align: middle;\n",
       "    }\n",
       "\n",
       "    .dataframe tbody tr th {\n",
       "        vertical-align: top;\n",
       "    }\n",
       "\n",
       "    .dataframe thead th {\n",
       "        text-align: right;\n",
       "    }\n",
       "</style>\n",
       "<table border=\"1\" class=\"dataframe\">\n",
       "  <thead>\n",
       "    <tr style=\"text-align: right;\">\n",
       "      <th></th>\n",
       "      <th>Var_1</th>\n",
       "      <th>Var_2</th>\n",
       "      <th>Var_3</th>\n",
       "      <th>Var_4</th>\n",
       "    </tr>\n",
       "  </thead>\n",
       "  <tbody>\n",
       "    <tr>\n",
       "      <th>b</th>\n",
       "      <td>2</td>\n",
       "      <td>7</td>\n",
       "      <td>6</td>\n",
       "      <td>9</td>\n",
       "    </tr>\n",
       "    <tr>\n",
       "      <th>c</th>\n",
       "      <td>4</td>\n",
       "      <td>5</td>\n",
       "      <td>2</td>\n",
       "      <td>9</td>\n",
       "    </tr>\n",
       "    <tr>\n",
       "      <th>d</th>\n",
       "      <td>7</td>\n",
       "      <td>2</td>\n",
       "      <td>0</td>\n",
       "      <td>9</td>\n",
       "    </tr>\n",
       "    <tr>\n",
       "      <th>e</th>\n",
       "      <td>6</td>\n",
       "      <td>2</td>\n",
       "      <td>5</td>\n",
       "      <td>8</td>\n",
       "    </tr>\n",
       "  </tbody>\n",
       "</table>\n",
       "</div>"
      ],
      "text/plain": [
       "   Var_1  Var_2  Var_3  Var_4\n",
       "b      2      7      6      9\n",
       "c      4      5      2      9\n",
       "d      7      2      0      9\n",
       "e      6      2      5      8"
      ]
     },
     "execution_count": 60,
     "metadata": {},
     "output_type": "execute_result"
    }
   ],
   "source": [
    "Data_Frame_3"
   ]
  },
  {
   "cell_type": "code",
   "execution_count": 61,
   "id": "bbd6296a",
   "metadata": {
    "execution": {
     "iopub.execute_input": "2022-04-23T14:50:01.751334Z",
     "iopub.status.busy": "2022-04-23T14:50:01.750378Z",
     "iopub.status.idle": "2022-04-23T14:50:01.753984Z",
     "shell.execute_reply": "2022-04-23T14:50:01.754483Z",
     "shell.execute_reply.started": "2022-04-23T13:40:32.125524Z"
    },
    "papermill": {
     "duration": 0.157139,
     "end_time": "2022-04-23T14:50:01.754667",
     "exception": false,
     "start_time": "2022-04-23T14:50:01.597528",
     "status": "completed"
    },
    "tags": []
   },
   "outputs": [
    {
     "data": {
      "text/html": [
       "<div>\n",
       "<style scoped>\n",
       "    .dataframe tbody tr th:only-of-type {\n",
       "        vertical-align: middle;\n",
       "    }\n",
       "\n",
       "    .dataframe tbody tr th {\n",
       "        vertical-align: top;\n",
       "    }\n",
       "\n",
       "    .dataframe thead th {\n",
       "        text-align: right;\n",
       "    }\n",
       "</style>\n",
       "<table border=\"1\" class=\"dataframe\">\n",
       "  <thead>\n",
       "    <tr style=\"text-align: right;\">\n",
       "      <th></th>\n",
       "      <th>Var_1</th>\n",
       "      <th>Var_2</th>\n",
       "      <th>Var_3</th>\n",
       "    </tr>\n",
       "  </thead>\n",
       "  <tbody>\n",
       "    <tr>\n",
       "      <th>b</th>\n",
       "      <td>2</td>\n",
       "      <td>7</td>\n",
       "      <td>6</td>\n",
       "    </tr>\n",
       "    <tr>\n",
       "      <th>c</th>\n",
       "      <td>4</td>\n",
       "      <td>5</td>\n",
       "      <td>2</td>\n",
       "    </tr>\n",
       "    <tr>\n",
       "      <th>d</th>\n",
       "      <td>7</td>\n",
       "      <td>2</td>\n",
       "      <td>0</td>\n",
       "    </tr>\n",
       "    <tr>\n",
       "      <th>e</th>\n",
       "      <td>6</td>\n",
       "      <td>2</td>\n",
       "      <td>5</td>\n",
       "    </tr>\n",
       "  </tbody>\n",
       "</table>\n",
       "</div>"
      ],
      "text/plain": [
       "   Var_1  Var_2  Var_3\n",
       "b      2      7      6\n",
       "c      4      5      2\n",
       "d      7      2      0\n",
       "e      6      2      5"
      ]
     },
     "execution_count": 61,
     "metadata": {},
     "output_type": "execute_result"
    }
   ],
   "source": [
    "# Sutun Bazinda Silme Islemi\n",
    "\n",
    "Data_Frame_3.drop(\"Var_4\", axis = 1) # inplace Kullanmadigimiz Icin Silme Islemi Original Halinde Yapilmaz"
   ]
  },
  {
   "cell_type": "code",
   "execution_count": 62,
   "id": "3d894c70",
   "metadata": {
    "execution": {
     "iopub.execute_input": "2022-04-23T14:50:02.044151Z",
     "iopub.status.busy": "2022-04-23T14:50:02.042670Z",
     "iopub.status.idle": "2022-04-23T14:50:02.047459Z",
     "shell.execute_reply": "2022-04-23T14:50:02.046762Z",
     "shell.execute_reply.started": "2022-04-23T13:40:32.464939Z"
    },
    "papermill": {
     "duration": 0.152961,
     "end_time": "2022-04-23T14:50:02.047626",
     "exception": false,
     "start_time": "2022-04-23T14:50:01.894665",
     "status": "completed"
    },
    "tags": []
   },
   "outputs": [
    {
     "data": {
      "text/html": [
       "<div>\n",
       "<style scoped>\n",
       "    .dataframe tbody tr th:only-of-type {\n",
       "        vertical-align: middle;\n",
       "    }\n",
       "\n",
       "    .dataframe tbody tr th {\n",
       "        vertical-align: top;\n",
       "    }\n",
       "\n",
       "    .dataframe thead th {\n",
       "        text-align: right;\n",
       "    }\n",
       "</style>\n",
       "<table border=\"1\" class=\"dataframe\">\n",
       "  <thead>\n",
       "    <tr style=\"text-align: right;\">\n",
       "      <th></th>\n",
       "      <th>Var_1</th>\n",
       "      <th>Var_2</th>\n",
       "      <th>Var_3</th>\n",
       "      <th>Var_4</th>\n",
       "    </tr>\n",
       "  </thead>\n",
       "  <tbody>\n",
       "    <tr>\n",
       "      <th>b</th>\n",
       "      <td>2</td>\n",
       "      <td>7</td>\n",
       "      <td>6</td>\n",
       "      <td>9</td>\n",
       "    </tr>\n",
       "    <tr>\n",
       "      <th>c</th>\n",
       "      <td>4</td>\n",
       "      <td>5</td>\n",
       "      <td>2</td>\n",
       "      <td>9</td>\n",
       "    </tr>\n",
       "    <tr>\n",
       "      <th>d</th>\n",
       "      <td>7</td>\n",
       "      <td>2</td>\n",
       "      <td>0</td>\n",
       "      <td>9</td>\n",
       "    </tr>\n",
       "    <tr>\n",
       "      <th>e</th>\n",
       "      <td>6</td>\n",
       "      <td>2</td>\n",
       "      <td>5</td>\n",
       "      <td>8</td>\n",
       "    </tr>\n",
       "  </tbody>\n",
       "</table>\n",
       "</div>"
      ],
      "text/plain": [
       "   Var_1  Var_2  Var_3  Var_4\n",
       "b      2      7      6      9\n",
       "c      4      5      2      9\n",
       "d      7      2      0      9\n",
       "e      6      2      5      8"
      ]
     },
     "execution_count": 62,
     "metadata": {},
     "output_type": "execute_result"
    }
   ],
   "source": [
    "Data_Frame_3 # Silinmedigini Gorduk"
   ]
  },
  {
   "cell_type": "code",
   "execution_count": 63,
   "id": "2969e7c8",
   "metadata": {
    "execution": {
     "iopub.execute_input": "2022-04-23T14:50:02.334905Z",
     "iopub.status.busy": "2022-04-23T14:50:02.333877Z",
     "iopub.status.idle": "2022-04-23T14:50:02.336611Z",
     "shell.execute_reply": "2022-04-23T14:50:02.335931Z",
     "shell.execute_reply.started": "2022-04-23T13:40:32.793529Z"
    },
    "papermill": {
     "duration": 0.149122,
     "end_time": "2022-04-23T14:50:02.336778",
     "exception": false,
     "start_time": "2022-04-23T14:50:02.187656",
     "status": "completed"
    },
    "tags": []
   },
   "outputs": [],
   "source": [
    "Data_Frame_3.drop(\"Var_4\", axis = 1, inplace = True) # Kalici Olarak Silme Komutu Verdik"
   ]
  },
  {
   "cell_type": "code",
   "execution_count": 64,
   "id": "dd3ddac0",
   "metadata": {
    "execution": {
     "iopub.execute_input": "2022-04-23T14:50:02.626917Z",
     "iopub.status.busy": "2022-04-23T14:50:02.625895Z",
     "iopub.status.idle": "2022-04-23T14:50:02.629626Z",
     "shell.execute_reply": "2022-04-23T14:50:02.630101Z",
     "shell.execute_reply.started": "2022-04-23T13:40:33.172385Z"
    },
    "papermill": {
     "duration": 0.151309,
     "end_time": "2022-04-23T14:50:02.630296",
     "exception": false,
     "start_time": "2022-04-23T14:50:02.478987",
     "status": "completed"
    },
    "tags": []
   },
   "outputs": [
    {
     "data": {
      "text/html": [
       "<div>\n",
       "<style scoped>\n",
       "    .dataframe tbody tr th:only-of-type {\n",
       "        vertical-align: middle;\n",
       "    }\n",
       "\n",
       "    .dataframe tbody tr th {\n",
       "        vertical-align: top;\n",
       "    }\n",
       "\n",
       "    .dataframe thead th {\n",
       "        text-align: right;\n",
       "    }\n",
       "</style>\n",
       "<table border=\"1\" class=\"dataframe\">\n",
       "  <thead>\n",
       "    <tr style=\"text-align: right;\">\n",
       "      <th></th>\n",
       "      <th>Var_1</th>\n",
       "      <th>Var_2</th>\n",
       "      <th>Var_3</th>\n",
       "    </tr>\n",
       "  </thead>\n",
       "  <tbody>\n",
       "    <tr>\n",
       "      <th>b</th>\n",
       "      <td>2</td>\n",
       "      <td>7</td>\n",
       "      <td>6</td>\n",
       "    </tr>\n",
       "    <tr>\n",
       "      <th>c</th>\n",
       "      <td>4</td>\n",
       "      <td>5</td>\n",
       "      <td>2</td>\n",
       "    </tr>\n",
       "    <tr>\n",
       "      <th>d</th>\n",
       "      <td>7</td>\n",
       "      <td>2</td>\n",
       "      <td>0</td>\n",
       "    </tr>\n",
       "    <tr>\n",
       "      <th>e</th>\n",
       "      <td>6</td>\n",
       "      <td>2</td>\n",
       "      <td>5</td>\n",
       "    </tr>\n",
       "  </tbody>\n",
       "</table>\n",
       "</div>"
      ],
      "text/plain": [
       "   Var_1  Var_2  Var_3\n",
       "b      2      7      6\n",
       "c      4      5      2\n",
       "d      7      2      0\n",
       "e      6      2      5"
      ]
     },
     "execution_count": 64,
     "metadata": {},
     "output_type": "execute_result"
    }
   ],
   "source": [
    "Data_Frame_3"
   ]
  },
  {
   "cell_type": "code",
   "execution_count": 65,
   "id": "2c0e85e2",
   "metadata": {
    "execution": {
     "iopub.execute_input": "2022-04-23T14:50:02.914231Z",
     "iopub.status.busy": "2022-04-23T14:50:02.912864Z",
     "iopub.status.idle": "2022-04-23T14:50:02.922539Z",
     "shell.execute_reply": "2022-04-23T14:50:02.923180Z",
     "shell.execute_reply.started": "2022-04-23T13:40:33.712984Z"
    },
    "papermill": {
     "duration": 0.153561,
     "end_time": "2022-04-23T14:50:02.923359",
     "exception": false,
     "start_time": "2022-04-23T14:50:02.769798",
     "status": "completed"
    },
    "tags": []
   },
   "outputs": [
    {
     "data": {
      "text/html": [
       "<div>\n",
       "<style scoped>\n",
       "    .dataframe tbody tr th:only-of-type {\n",
       "        vertical-align: middle;\n",
       "    }\n",
       "\n",
       "    .dataframe tbody tr th {\n",
       "        vertical-align: top;\n",
       "    }\n",
       "\n",
       "    .dataframe thead th {\n",
       "        text-align: right;\n",
       "    }\n",
       "</style>\n",
       "<table border=\"1\" class=\"dataframe\">\n",
       "  <thead>\n",
       "    <tr style=\"text-align: right;\">\n",
       "      <th></th>\n",
       "      <th>Var_3</th>\n",
       "    </tr>\n",
       "  </thead>\n",
       "  <tbody>\n",
       "    <tr>\n",
       "      <th>b</th>\n",
       "      <td>6</td>\n",
       "    </tr>\n",
       "    <tr>\n",
       "      <th>c</th>\n",
       "      <td>2</td>\n",
       "    </tr>\n",
       "    <tr>\n",
       "      <th>d</th>\n",
       "      <td>0</td>\n",
       "    </tr>\n",
       "    <tr>\n",
       "      <th>e</th>\n",
       "      <td>5</td>\n",
       "    </tr>\n",
       "  </tbody>\n",
       "</table>\n",
       "</div>"
      ],
      "text/plain": [
       "   Var_3\n",
       "b      6\n",
       "c      2\n",
       "d      0\n",
       "e      5"
      ]
     },
     "execution_count": 65,
     "metadata": {},
     "output_type": "execute_result"
    }
   ],
   "source": [
    "# Fancy Index Ile Silme Islemi (Sutun Bazinda)\n",
    "\n",
    "Liste_10 = [\"Var_1\", \"Var_2\"]\n",
    "\n",
    "Data_Frame_3.drop(Liste_10, axis = 1)"
   ]
  },
  {
   "cell_type": "code",
   "execution_count": 66,
   "id": "a1f2ff7f",
   "metadata": {
    "execution": {
     "iopub.execute_input": "2022-04-23T14:50:03.211349Z",
     "iopub.status.busy": "2022-04-23T14:50:03.210068Z",
     "iopub.status.idle": "2022-04-23T14:50:03.216007Z",
     "shell.execute_reply": "2022-04-23T14:50:03.216538Z",
     "shell.execute_reply.started": "2022-04-23T13:40:34.173691Z"
    },
    "papermill": {
     "duration": 0.152536,
     "end_time": "2022-04-23T14:50:03.216716",
     "exception": false,
     "start_time": "2022-04-23T14:50:03.064180",
     "status": "completed"
    },
    "tags": []
   },
   "outputs": [],
   "source": [
    "Liste_11 = np.random.randint(1,10, size = (10,3))\n",
    "\n",
    "Data_Frame_4 = pd.DataFrame(Liste_11, columns = [\"Var1\", \"Var2\", \"Var3\"])"
   ]
  },
  {
   "cell_type": "code",
   "execution_count": 67,
   "id": "4c89d7f2",
   "metadata": {
    "execution": {
     "iopub.execute_input": "2022-04-23T14:50:03.509096Z",
     "iopub.status.busy": "2022-04-23T14:50:03.508167Z",
     "iopub.status.idle": "2022-04-23T14:50:03.517011Z",
     "shell.execute_reply": "2022-04-23T14:50:03.517480Z",
     "shell.execute_reply.started": "2022-04-23T13:40:34.398304Z"
    },
    "papermill": {
     "duration": 0.15334,
     "end_time": "2022-04-23T14:50:03.517668",
     "exception": false,
     "start_time": "2022-04-23T14:50:03.364328",
     "status": "completed"
    },
    "tags": []
   },
   "outputs": [
    {
     "data": {
      "text/html": [
       "<div>\n",
       "<style scoped>\n",
       "    .dataframe tbody tr th:only-of-type {\n",
       "        vertical-align: middle;\n",
       "    }\n",
       "\n",
       "    .dataframe tbody tr th {\n",
       "        vertical-align: top;\n",
       "    }\n",
       "\n",
       "    .dataframe thead th {\n",
       "        text-align: right;\n",
       "    }\n",
       "</style>\n",
       "<table border=\"1\" class=\"dataframe\">\n",
       "  <thead>\n",
       "    <tr style=\"text-align: right;\">\n",
       "      <th></th>\n",
       "      <th>Var1</th>\n",
       "      <th>Var2</th>\n",
       "      <th>Var3</th>\n",
       "    </tr>\n",
       "  </thead>\n",
       "  <tbody>\n",
       "    <tr>\n",
       "      <th>0</th>\n",
       "      <td>8</td>\n",
       "      <td>5</td>\n",
       "      <td>3</td>\n",
       "    </tr>\n",
       "    <tr>\n",
       "      <th>1</th>\n",
       "      <td>9</td>\n",
       "      <td>2</td>\n",
       "      <td>3</td>\n",
       "    </tr>\n",
       "    <tr>\n",
       "      <th>2</th>\n",
       "      <td>7</td>\n",
       "      <td>1</td>\n",
       "      <td>3</td>\n",
       "    </tr>\n",
       "    <tr>\n",
       "      <th>3</th>\n",
       "      <td>8</td>\n",
       "      <td>9</td>\n",
       "      <td>1</td>\n",
       "    </tr>\n",
       "    <tr>\n",
       "      <th>4</th>\n",
       "      <td>4</td>\n",
       "      <td>8</td>\n",
       "      <td>1</td>\n",
       "    </tr>\n",
       "    <tr>\n",
       "      <th>5</th>\n",
       "      <td>8</td>\n",
       "      <td>4</td>\n",
       "      <td>9</td>\n",
       "    </tr>\n",
       "    <tr>\n",
       "      <th>6</th>\n",
       "      <td>3</td>\n",
       "      <td>6</td>\n",
       "      <td>4</td>\n",
       "    </tr>\n",
       "    <tr>\n",
       "      <th>7</th>\n",
       "      <td>7</td>\n",
       "      <td>9</td>\n",
       "      <td>5</td>\n",
       "    </tr>\n",
       "    <tr>\n",
       "      <th>8</th>\n",
       "      <td>6</td>\n",
       "      <td>6</td>\n",
       "      <td>6</td>\n",
       "    </tr>\n",
       "    <tr>\n",
       "      <th>9</th>\n",
       "      <td>1</td>\n",
       "      <td>3</td>\n",
       "      <td>8</td>\n",
       "    </tr>\n",
       "  </tbody>\n",
       "</table>\n",
       "</div>"
      ],
      "text/plain": [
       "   Var1  Var2  Var3\n",
       "0     8     5     3\n",
       "1     9     2     3\n",
       "2     7     1     3\n",
       "3     8     9     1\n",
       "4     4     8     1\n",
       "5     8     4     9\n",
       "6     3     6     4\n",
       "7     7     9     5\n",
       "8     6     6     6\n",
       "9     1     3     8"
      ]
     },
     "execution_count": 67,
     "metadata": {},
     "output_type": "execute_result"
    }
   ],
   "source": [
    "Data_Frame_4"
   ]
  },
  {
   "cell_type": "code",
   "execution_count": 68,
   "id": "8153be61",
   "metadata": {
    "execution": {
     "iopub.execute_input": "2022-04-23T14:50:03.807931Z",
     "iopub.status.busy": "2022-04-23T14:50:03.806970Z",
     "iopub.status.idle": "2022-04-23T14:50:03.816849Z",
     "shell.execute_reply": "2022-04-23T14:50:03.817331Z",
     "shell.execute_reply.started": "2022-04-23T13:40:34.680183Z"
    },
    "papermill": {
     "duration": 0.156326,
     "end_time": "2022-04-23T14:50:03.817518",
     "exception": false,
     "start_time": "2022-04-23T14:50:03.661192",
     "status": "completed"
    },
    "tags": []
   },
   "outputs": [
    {
     "data": {
      "text/html": [
       "<div>\n",
       "<style scoped>\n",
       "    .dataframe tbody tr th:only-of-type {\n",
       "        vertical-align: middle;\n",
       "    }\n",
       "\n",
       "    .dataframe tbody tr th {\n",
       "        vertical-align: top;\n",
       "    }\n",
       "\n",
       "    .dataframe thead th {\n",
       "        text-align: right;\n",
       "    }\n",
       "</style>\n",
       "<table border=\"1\" class=\"dataframe\">\n",
       "  <thead>\n",
       "    <tr style=\"text-align: right;\">\n",
       "      <th></th>\n",
       "      <th>Var1</th>\n",
       "      <th>Var2</th>\n",
       "      <th>Var3</th>\n",
       "    </tr>\n",
       "  </thead>\n",
       "  <tbody>\n",
       "    <tr>\n",
       "      <th>0</th>\n",
       "      <td>8</td>\n",
       "      <td>5</td>\n",
       "      <td>3</td>\n",
       "    </tr>\n",
       "    <tr>\n",
       "      <th>1</th>\n",
       "      <td>9</td>\n",
       "      <td>2</td>\n",
       "      <td>3</td>\n",
       "    </tr>\n",
       "    <tr>\n",
       "      <th>2</th>\n",
       "      <td>7</td>\n",
       "      <td>1</td>\n",
       "      <td>3</td>\n",
       "    </tr>\n",
       "    <tr>\n",
       "      <th>3</th>\n",
       "      <td>8</td>\n",
       "      <td>9</td>\n",
       "      <td>1</td>\n",
       "    </tr>\n",
       "  </tbody>\n",
       "</table>\n",
       "</div>"
      ],
      "text/plain": [
       "   Var1  Var2  Var3\n",
       "0     8     5     3\n",
       "1     9     2     3\n",
       "2     7     1     3\n",
       "3     8     9     1"
      ]
     },
     "execution_count": 68,
     "metadata": {},
     "output_type": "execute_result"
    }
   ],
   "source": [
    "# Python Data_Framelerinde En Cok Yapilan Hatalar ---> Liste, Array,... Icerisinde Elemanlara Ulasma Islemi\n",
    "\n",
    "Data_Frame_4.loc[0:3] #    \"loc\"   Fonksiyonunda Son Eleman Dahil Olur ( Koseli Parantez Icinde Ne Goruyorsan Onu Alirsin )"
   ]
  },
  {
   "cell_type": "code",
   "execution_count": 69,
   "id": "aed2d499",
   "metadata": {
    "execution": {
     "iopub.execute_input": "2022-04-23T14:50:04.114168Z",
     "iopub.status.busy": "2022-04-23T14:50:04.113147Z",
     "iopub.status.idle": "2022-04-23T14:50:04.123009Z",
     "shell.execute_reply": "2022-04-23T14:50:04.122451Z",
     "shell.execute_reply.started": "2022-04-23T13:40:35.009694Z"
    },
    "papermill": {
     "duration": 0.15712,
     "end_time": "2022-04-23T14:50:04.123189",
     "exception": false,
     "start_time": "2022-04-23T14:50:03.966069",
     "status": "completed"
    },
    "tags": []
   },
   "outputs": [
    {
     "data": {
      "text/html": [
       "<div>\n",
       "<style scoped>\n",
       "    .dataframe tbody tr th:only-of-type {\n",
       "        vertical-align: middle;\n",
       "    }\n",
       "\n",
       "    .dataframe tbody tr th {\n",
       "        vertical-align: top;\n",
       "    }\n",
       "\n",
       "    .dataframe thead th {\n",
       "        text-align: right;\n",
       "    }\n",
       "</style>\n",
       "<table border=\"1\" class=\"dataframe\">\n",
       "  <thead>\n",
       "    <tr style=\"text-align: right;\">\n",
       "      <th></th>\n",
       "      <th>Var1</th>\n",
       "      <th>Var2</th>\n",
       "      <th>Var3</th>\n",
       "    </tr>\n",
       "  </thead>\n",
       "  <tbody>\n",
       "    <tr>\n",
       "      <th>0</th>\n",
       "      <td>8</td>\n",
       "      <td>5</td>\n",
       "      <td>3</td>\n",
       "    </tr>\n",
       "    <tr>\n",
       "      <th>1</th>\n",
       "      <td>9</td>\n",
       "      <td>2</td>\n",
       "      <td>3</td>\n",
       "    </tr>\n",
       "    <tr>\n",
       "      <th>2</th>\n",
       "      <td>7</td>\n",
       "      <td>1</td>\n",
       "      <td>3</td>\n",
       "    </tr>\n",
       "  </tbody>\n",
       "</table>\n",
       "</div>"
      ],
      "text/plain": [
       "   Var1  Var2  Var3\n",
       "0     8     5     3\n",
       "1     9     2     3\n",
       "2     7     1     3"
      ]
     },
     "execution_count": 69,
     "metadata": {},
     "output_type": "execute_result"
    }
   ],
   "source": [
    "Data_Frame_4.iloc[0:3] #    \"iloc\"   Fonksiyonunda Bilinen Liste Mantigi Ile Calisir Son Eleman Dahil Degildir ( Listelerde Index Mantigi Vardir)"
   ]
  },
  {
   "cell_type": "code",
   "execution_count": 70,
   "id": "9c6a9a77",
   "metadata": {
    "execution": {
     "iopub.execute_input": "2022-04-23T14:50:04.408858Z",
     "iopub.status.busy": "2022-04-23T14:50:04.408184Z",
     "iopub.status.idle": "2022-04-23T14:50:04.417428Z",
     "shell.execute_reply": "2022-04-23T14:50:04.416786Z",
     "shell.execute_reply.started": "2022-04-23T13:40:35.352032Z"
    },
    "papermill": {
     "duration": 0.152444,
     "end_time": "2022-04-23T14:50:04.417570",
     "exception": false,
     "start_time": "2022-04-23T14:50:04.265126",
     "status": "completed"
    },
    "tags": []
   },
   "outputs": [
    {
     "data": {
      "text/html": [
       "<div>\n",
       "<style scoped>\n",
       "    .dataframe tbody tr th:only-of-type {\n",
       "        vertical-align: middle;\n",
       "    }\n",
       "\n",
       "    .dataframe tbody tr th {\n",
       "        vertical-align: top;\n",
       "    }\n",
       "\n",
       "    .dataframe thead th {\n",
       "        text-align: right;\n",
       "    }\n",
       "</style>\n",
       "<table border=\"1\" class=\"dataframe\">\n",
       "  <thead>\n",
       "    <tr style=\"text-align: right;\">\n",
       "      <th></th>\n",
       "      <th>Var1</th>\n",
       "      <th>Var2</th>\n",
       "      <th>Var3</th>\n",
       "    </tr>\n",
       "  </thead>\n",
       "  <tbody>\n",
       "    <tr>\n",
       "      <th>0</th>\n",
       "      <td>8</td>\n",
       "      <td>5</td>\n",
       "      <td>3</td>\n",
       "    </tr>\n",
       "    <tr>\n",
       "      <th>1</th>\n",
       "      <td>9</td>\n",
       "      <td>2</td>\n",
       "      <td>3</td>\n",
       "    </tr>\n",
       "    <tr>\n",
       "      <th>2</th>\n",
       "      <td>7</td>\n",
       "      <td>1</td>\n",
       "      <td>3</td>\n",
       "    </tr>\n",
       "    <tr>\n",
       "      <th>3</th>\n",
       "      <td>8</td>\n",
       "      <td>9</td>\n",
       "      <td>1</td>\n",
       "    </tr>\n",
       "    <tr>\n",
       "      <th>4</th>\n",
       "      <td>4</td>\n",
       "      <td>8</td>\n",
       "      <td>1</td>\n",
       "    </tr>\n",
       "    <tr>\n",
       "      <th>5</th>\n",
       "      <td>8</td>\n",
       "      <td>4</td>\n",
       "      <td>9</td>\n",
       "    </tr>\n",
       "    <tr>\n",
       "      <th>6</th>\n",
       "      <td>3</td>\n",
       "      <td>6</td>\n",
       "      <td>4</td>\n",
       "    </tr>\n",
       "    <tr>\n",
       "      <th>7</th>\n",
       "      <td>7</td>\n",
       "      <td>9</td>\n",
       "      <td>5</td>\n",
       "    </tr>\n",
       "    <tr>\n",
       "      <th>8</th>\n",
       "      <td>6</td>\n",
       "      <td>6</td>\n",
       "      <td>6</td>\n",
       "    </tr>\n",
       "    <tr>\n",
       "      <th>9</th>\n",
       "      <td>1</td>\n",
       "      <td>3</td>\n",
       "      <td>8</td>\n",
       "    </tr>\n",
       "  </tbody>\n",
       "</table>\n",
       "</div>"
      ],
      "text/plain": [
       "   Var1  Var2  Var3\n",
       "0     8     5     3\n",
       "1     9     2     3\n",
       "2     7     1     3\n",
       "3     8     9     1\n",
       "4     4     8     1\n",
       "5     8     4     9\n",
       "6     3     6     4\n",
       "7     7     9     5\n",
       "8     6     6     6\n",
       "9     1     3     8"
      ]
     },
     "execution_count": 70,
     "metadata": {},
     "output_type": "execute_result"
    }
   ],
   "source": [
    "Data_Frame_4"
   ]
  },
  {
   "cell_type": "code",
   "execution_count": 71,
   "id": "201a1a4a",
   "metadata": {
    "execution": {
     "iopub.execute_input": "2022-04-23T14:50:04.709737Z",
     "iopub.status.busy": "2022-04-23T14:50:04.709065Z",
     "iopub.status.idle": "2022-04-23T14:50:04.715830Z",
     "shell.execute_reply": "2022-04-23T14:50:04.716477Z",
     "shell.execute_reply.started": "2022-04-23T13:40:35.676679Z"
    },
    "papermill": {
     "duration": 0.153275,
     "end_time": "2022-04-23T14:50:04.716655",
     "exception": false,
     "start_time": "2022-04-23T14:50:04.563380",
     "status": "completed"
    },
    "tags": []
   },
   "outputs": [
    {
     "data": {
      "text/plain": [
       "0    3\n",
       "1    3\n",
       "2    3\n",
       "3    1\n",
       "Name: Var3, dtype: int64"
      ]
     },
     "execution_count": 71,
     "metadata": {},
     "output_type": "execute_result"
    }
   ],
   "source": [
    "Data_Frame_4.loc[0:3, \"Var3\"] # Sag tarafa \"Var3\" Yazma Islemi ( yani Belli Bir Degiskene Ulasma Islemi Yapmak Icin ) \".loc\" Fonksiyonu Ile Yapilir ( \".iloc\"  Ile Yapilmaz) "
   ]
  },
  {
   "cell_type": "code",
   "execution_count": 72,
   "id": "ba6346f3",
   "metadata": {
    "execution": {
     "iopub.execute_input": "2022-04-23T14:50:05.015638Z",
     "iopub.status.busy": "2022-04-23T14:50:05.014981Z",
     "iopub.status.idle": "2022-04-23T14:50:05.020686Z",
     "shell.execute_reply": "2022-04-23T14:50:05.021236Z",
     "shell.execute_reply.started": "2022-04-23T13:40:35.997999Z"
    },
    "papermill": {
     "duration": 0.163881,
     "end_time": "2022-04-23T14:50:05.021410",
     "exception": false,
     "start_time": "2022-04-23T14:50:04.857529",
     "status": "completed"
    },
    "tags": []
   },
   "outputs": [
    {
     "data": {
      "text/plain": [
       "0    3\n",
       "1    3\n",
       "2    3\n",
       "Name: Var3, dtype: int64"
      ]
     },
     "execution_count": 72,
     "metadata": {},
     "output_type": "execute_result"
    }
   ],
   "source": [
    "# \".iloc\" Ile Belli Bir Degiskene Su Sekilde Ulasabiliriz\n",
    "\n",
    "Data_Frame_4.iloc[0:3][\"Var3\"] # Fakat \".iloc\" Ile \".loc\" Arasindaki Index Secme Islemleri Farkli Oldugu Icin Usttekinden Farkli Cikti"
   ]
  },
  {
   "cell_type": "code",
   "execution_count": 73,
   "id": "3b4c92e3",
   "metadata": {
    "execution": {
     "iopub.execute_input": "2022-04-23T14:50:05.318833Z",
     "iopub.status.busy": "2022-04-23T14:50:05.318142Z",
     "iopub.status.idle": "2022-04-23T14:50:05.324259Z",
     "shell.execute_reply": "2022-04-23T14:50:05.324757Z",
     "shell.execute_reply.started": "2022-04-23T13:40:36.324703Z"
    },
    "papermill": {
     "duration": 0.155709,
     "end_time": "2022-04-23T14:50:05.324929",
     "exception": false,
     "start_time": "2022-04-23T14:50:05.169220",
     "status": "completed"
    },
    "tags": []
   },
   "outputs": [
    {
     "data": {
      "text/plain": [
       "0    8\n",
       "1    9\n",
       "2    7\n",
       "3    8\n",
       "4    4\n",
       "5    8\n",
       "6    3\n",
       "7    7\n",
       "8    6\n",
       "9    1\n",
       "Name: Var1, dtype: int64"
      ]
     },
     "execution_count": 73,
     "metadata": {},
     "output_type": "execute_result"
    }
   ],
   "source": [
    "# DataFrame Icerinden Bir Degisken Secme\n",
    "\n",
    "Data_Frame_4[\"Var1\"]"
   ]
  },
  {
   "cell_type": "code",
   "execution_count": 74,
   "id": "09c48ec5",
   "metadata": {
    "execution": {
     "iopub.execute_input": "2022-04-23T14:50:05.637474Z",
     "iopub.status.busy": "2022-04-23T14:50:05.636767Z",
     "iopub.status.idle": "2022-04-23T14:50:05.642886Z",
     "shell.execute_reply": "2022-04-23T14:50:05.643503Z",
     "shell.execute_reply.started": "2022-04-23T13:40:36.668146Z"
    },
    "papermill": {
     "duration": 0.176417,
     "end_time": "2022-04-23T14:50:05.643705",
     "exception": false,
     "start_time": "2022-04-23T14:50:05.467288",
     "status": "completed"
    },
    "tags": []
   },
   "outputs": [
    {
     "data": {
      "text/plain": [
       "0    8\n",
       "1    9\n",
       "2    7\n",
       "Name: Var1, dtype: int64"
      ]
     },
     "execution_count": 74,
     "metadata": {},
     "output_type": "execute_result"
    }
   ],
   "source": [
    "# DataFrame De Bir Degisken Icerisinde Gozlem Birimi Araligi Secme\n",
    "\n",
    "Data_Frame_4[\"Var1\"][0:3]"
   ]
  },
  {
   "cell_type": "code",
   "execution_count": 75,
   "id": "be2a3753",
   "metadata": {
    "execution": {
     "iopub.execute_input": "2022-04-23T14:50:05.938076Z",
     "iopub.status.busy": "2022-04-23T14:50:05.937302Z",
     "iopub.status.idle": "2022-04-23T14:50:05.943062Z",
     "shell.execute_reply": "2022-04-23T14:50:05.943699Z",
     "shell.execute_reply.started": "2022-04-23T13:40:37.011068Z"
    },
    "papermill": {
     "duration": 0.155488,
     "end_time": "2022-04-23T14:50:05.943877",
     "exception": false,
     "start_time": "2022-04-23T14:50:05.788389",
     "status": "completed"
    },
    "tags": []
   },
   "outputs": [
    {
     "data": {
      "text/plain": [
       "0    8\n",
       "1    9\n",
       "2    7\n",
       "Name: Var1, dtype: int64"
      ]
     },
     "execution_count": 75,
     "metadata": {},
     "output_type": "execute_result"
    }
   ],
   "source": [
    "# Farkli Bir Sekilde Ulasma\n",
    "Data_Frame_4[0:3][\"Var1\"]"
   ]
  },
  {
   "cell_type": "code",
   "execution_count": 76,
   "id": "3df0163c",
   "metadata": {
    "execution": {
     "iopub.execute_input": "2022-04-23T14:50:06.250927Z",
     "iopub.status.busy": "2022-04-23T14:50:06.250297Z",
     "iopub.status.idle": "2022-04-23T14:50:06.258735Z",
     "shell.execute_reply": "2022-04-23T14:50:06.259339Z",
     "shell.execute_reply.started": "2022-04-23T13:40:37.451864Z"
    },
    "papermill": {
     "duration": 0.162571,
     "end_time": "2022-04-23T14:50:06.259507",
     "exception": false,
     "start_time": "2022-04-23T14:50:06.096936",
     "status": "completed"
    },
    "tags": []
   },
   "outputs": [
    {
     "data": {
      "text/html": [
       "<div>\n",
       "<style scoped>\n",
       "    .dataframe tbody tr th:only-of-type {\n",
       "        vertical-align: middle;\n",
       "    }\n",
       "\n",
       "    .dataframe tbody tr th {\n",
       "        vertical-align: top;\n",
       "    }\n",
       "\n",
       "    .dataframe thead th {\n",
       "        text-align: right;\n",
       "    }\n",
       "</style>\n",
       "<table border=\"1\" class=\"dataframe\">\n",
       "  <thead>\n",
       "    <tr style=\"text-align: right;\">\n",
       "      <th></th>\n",
       "      <th>Var1</th>\n",
       "      <th>Var2</th>\n",
       "    </tr>\n",
       "  </thead>\n",
       "  <tbody>\n",
       "    <tr>\n",
       "      <th>0</th>\n",
       "      <td>8</td>\n",
       "      <td>5</td>\n",
       "    </tr>\n",
       "    <tr>\n",
       "      <th>1</th>\n",
       "      <td>9</td>\n",
       "      <td>2</td>\n",
       "    </tr>\n",
       "    <tr>\n",
       "      <th>2</th>\n",
       "      <td>7</td>\n",
       "      <td>1</td>\n",
       "    </tr>\n",
       "    <tr>\n",
       "      <th>3</th>\n",
       "      <td>8</td>\n",
       "      <td>9</td>\n",
       "    </tr>\n",
       "    <tr>\n",
       "      <th>4</th>\n",
       "      <td>4</td>\n",
       "      <td>8</td>\n",
       "    </tr>\n",
       "    <tr>\n",
       "      <th>5</th>\n",
       "      <td>8</td>\n",
       "      <td>4</td>\n",
       "    </tr>\n",
       "    <tr>\n",
       "      <th>6</th>\n",
       "      <td>3</td>\n",
       "      <td>6</td>\n",
       "    </tr>\n",
       "    <tr>\n",
       "      <th>7</th>\n",
       "      <td>7</td>\n",
       "      <td>9</td>\n",
       "    </tr>\n",
       "    <tr>\n",
       "      <th>8</th>\n",
       "      <td>6</td>\n",
       "      <td>6</td>\n",
       "    </tr>\n",
       "    <tr>\n",
       "      <th>9</th>\n",
       "      <td>1</td>\n",
       "      <td>3</td>\n",
       "    </tr>\n",
       "  </tbody>\n",
       "</table>\n",
       "</div>"
      ],
      "text/plain": [
       "   Var1  Var2\n",
       "0     8     5\n",
       "1     9     2\n",
       "2     7     1\n",
       "3     8     9\n",
       "4     4     8\n",
       "5     8     4\n",
       "6     3     6\n",
       "7     7     9\n",
       "8     6     6\n",
       "9     1     3"
      ]
     },
     "execution_count": 76,
     "metadata": {},
     "output_type": "execute_result"
    }
   ],
   "source": [
    "# Bu Sekilde Hata Verir ( Birden Fazla Degikene Ulasmak Istersek Fancy Index Yardimi Ile Ulasmamiz Lazim )\n",
    "# Data_Frame_4[0:3][\"Var1\",\"Var2\"]  HATA VERIR\n",
    "\n",
    "Data_Frame_4[[\"Var1\", \"Var2\"]] #   \"DIKKAT\"   Iki Tane Koseli Parantez Var  ------  Fancy Index Ile Ulastik"
   ]
  },
  {
   "cell_type": "code",
   "execution_count": 77,
   "id": "e967f4b2",
   "metadata": {
    "execution": {
     "iopub.execute_input": "2022-04-23T14:50:06.566161Z",
     "iopub.status.busy": "2022-04-23T14:50:06.565485Z",
     "iopub.status.idle": "2022-04-23T14:50:06.575052Z",
     "shell.execute_reply": "2022-04-23T14:50:06.575695Z",
     "shell.execute_reply.started": "2022-04-23T13:40:37.724511Z"
    },
    "papermill": {
     "duration": 0.169356,
     "end_time": "2022-04-23T14:50:06.575885",
     "exception": false,
     "start_time": "2022-04-23T14:50:06.406529",
     "status": "completed"
    },
    "tags": []
   },
   "outputs": [
    {
     "data": {
      "text/html": [
       "<div>\n",
       "<style scoped>\n",
       "    .dataframe tbody tr th:only-of-type {\n",
       "        vertical-align: middle;\n",
       "    }\n",
       "\n",
       "    .dataframe tbody tr th {\n",
       "        vertical-align: top;\n",
       "    }\n",
       "\n",
       "    .dataframe thead th {\n",
       "        text-align: right;\n",
       "    }\n",
       "</style>\n",
       "<table border=\"1\" class=\"dataframe\">\n",
       "  <thead>\n",
       "    <tr style=\"text-align: right;\">\n",
       "      <th></th>\n",
       "      <th>Var1</th>\n",
       "      <th>Var2</th>\n",
       "    </tr>\n",
       "  </thead>\n",
       "  <tbody>\n",
       "    <tr>\n",
       "      <th>0</th>\n",
       "      <td>8</td>\n",
       "      <td>5</td>\n",
       "    </tr>\n",
       "    <tr>\n",
       "      <th>1</th>\n",
       "      <td>9</td>\n",
       "      <td>2</td>\n",
       "    </tr>\n",
       "    <tr>\n",
       "      <th>2</th>\n",
       "      <td>7</td>\n",
       "      <td>1</td>\n",
       "    </tr>\n",
       "    <tr>\n",
       "      <th>3</th>\n",
       "      <td>8</td>\n",
       "      <td>9</td>\n",
       "    </tr>\n",
       "  </tbody>\n",
       "</table>\n",
       "</div>"
      ],
      "text/plain": [
       "   Var1  Var2\n",
       "0     8     5\n",
       "1     9     2\n",
       "2     7     1\n",
       "3     8     9"
      ]
     },
     "execution_count": 77,
     "metadata": {},
     "output_type": "execute_result"
    }
   ],
   "source": [
    "# Verilere Farkli Bir Sekilde Ulasma Stilleri\n",
    "\n",
    "Data_Frame_4[0:4][[\"Var1\", \"Var2\"]]"
   ]
  },
  {
   "cell_type": "code",
   "execution_count": 78,
   "id": "eb2dde0a",
   "metadata": {
    "execution": {
     "iopub.execute_input": "2022-04-23T14:50:06.884963Z",
     "iopub.status.busy": "2022-04-23T14:50:06.884266Z",
     "iopub.status.idle": "2022-04-23T14:50:06.893516Z",
     "shell.execute_reply": "2022-04-23T14:50:06.892980Z",
     "shell.execute_reply.started": "2022-04-23T13:40:37.879469Z"
    },
    "papermill": {
     "duration": 0.165624,
     "end_time": "2022-04-23T14:50:06.893697",
     "exception": false,
     "start_time": "2022-04-23T14:50:06.728073",
     "status": "completed"
    },
    "tags": []
   },
   "outputs": [
    {
     "data": {
      "text/html": [
       "<div>\n",
       "<style scoped>\n",
       "    .dataframe tbody tr th:only-of-type {\n",
       "        vertical-align: middle;\n",
       "    }\n",
       "\n",
       "    .dataframe tbody tr th {\n",
       "        vertical-align: top;\n",
       "    }\n",
       "\n",
       "    .dataframe thead th {\n",
       "        text-align: right;\n",
       "    }\n",
       "</style>\n",
       "<table border=\"1\" class=\"dataframe\">\n",
       "  <thead>\n",
       "    <tr style=\"text-align: right;\">\n",
       "      <th></th>\n",
       "      <th>Var1</th>\n",
       "      <th>Var2</th>\n",
       "    </tr>\n",
       "  </thead>\n",
       "  <tbody>\n",
       "    <tr>\n",
       "      <th>0</th>\n",
       "      <td>8</td>\n",
       "      <td>5</td>\n",
       "    </tr>\n",
       "    <tr>\n",
       "      <th>1</th>\n",
       "      <td>9</td>\n",
       "      <td>2</td>\n",
       "    </tr>\n",
       "    <tr>\n",
       "      <th>2</th>\n",
       "      <td>7</td>\n",
       "      <td>1</td>\n",
       "    </tr>\n",
       "    <tr>\n",
       "      <th>3</th>\n",
       "      <td>8</td>\n",
       "      <td>9</td>\n",
       "    </tr>\n",
       "    <tr>\n",
       "      <th>4</th>\n",
       "      <td>4</td>\n",
       "      <td>8</td>\n",
       "    </tr>\n",
       "    <tr>\n",
       "      <th>5</th>\n",
       "      <td>8</td>\n",
       "      <td>4</td>\n",
       "    </tr>\n",
       "    <tr>\n",
       "      <th>6</th>\n",
       "      <td>3</td>\n",
       "      <td>6</td>\n",
       "    </tr>\n",
       "    <tr>\n",
       "      <th>7</th>\n",
       "      <td>7</td>\n",
       "      <td>9</td>\n",
       "    </tr>\n",
       "    <tr>\n",
       "      <th>8</th>\n",
       "      <td>6</td>\n",
       "      <td>6</td>\n",
       "    </tr>\n",
       "    <tr>\n",
       "      <th>9</th>\n",
       "      <td>1</td>\n",
       "      <td>3</td>\n",
       "    </tr>\n",
       "  </tbody>\n",
       "</table>\n",
       "</div>"
      ],
      "text/plain": [
       "   Var1  Var2\n",
       "0     8     5\n",
       "1     9     2\n",
       "2     7     1\n",
       "3     8     9\n",
       "4     4     8\n",
       "5     8     4\n",
       "6     3     6\n",
       "7     7     9\n",
       "8     6     6\n",
       "9     1     3"
      ]
     },
     "execution_count": 78,
     "metadata": {},
     "output_type": "execute_result"
    }
   ],
   "source": [
    "Liste_12 = [\"Var1\", \"Var2\"]\n",
    "\n",
    "Data_Frame_4[Liste_12]  #  Fancy Index Ile Ulastik"
   ]
  },
  {
   "cell_type": "code",
   "execution_count": 79,
   "id": "686ef06b",
   "metadata": {
    "execution": {
     "iopub.execute_input": "2022-04-23T14:50:07.203094Z",
     "iopub.status.busy": "2022-04-23T14:50:07.202456Z",
     "iopub.status.idle": "2022-04-23T14:50:07.209973Z",
     "shell.execute_reply": "2022-04-23T14:50:07.210535Z",
     "shell.execute_reply.started": "2022-04-23T13:40:38.118181Z"
    },
    "papermill": {
     "duration": 0.165669,
     "end_time": "2022-04-23T14:50:07.210720",
     "exception": false,
     "start_time": "2022-04-23T14:50:07.045051",
     "status": "completed"
    },
    "tags": []
   },
   "outputs": [
    {
     "data": {
      "text/html": [
       "<div>\n",
       "<style scoped>\n",
       "    .dataframe tbody tr th:only-of-type {\n",
       "        vertical-align: middle;\n",
       "    }\n",
       "\n",
       "    .dataframe tbody tr th {\n",
       "        vertical-align: top;\n",
       "    }\n",
       "\n",
       "    .dataframe thead th {\n",
       "        text-align: right;\n",
       "    }\n",
       "</style>\n",
       "<table border=\"1\" class=\"dataframe\">\n",
       "  <thead>\n",
       "    <tr style=\"text-align: right;\">\n",
       "      <th></th>\n",
       "      <th>Var1</th>\n",
       "      <th>Var2</th>\n",
       "      <th>Var3</th>\n",
       "    </tr>\n",
       "  </thead>\n",
       "  <tbody>\n",
       "    <tr>\n",
       "      <th>0</th>\n",
       "      <td>8</td>\n",
       "      <td>5</td>\n",
       "      <td>3</td>\n",
       "    </tr>\n",
       "    <tr>\n",
       "      <th>1</th>\n",
       "      <td>9</td>\n",
       "      <td>2</td>\n",
       "      <td>3</td>\n",
       "    </tr>\n",
       "    <tr>\n",
       "      <th>2</th>\n",
       "      <td>7</td>\n",
       "      <td>1</td>\n",
       "      <td>3</td>\n",
       "    </tr>\n",
       "  </tbody>\n",
       "</table>\n",
       "</div>"
      ],
      "text/plain": [
       "   Var1  Var2  Var3\n",
       "0     8     5     3\n",
       "1     9     2     3\n",
       "2     7     1     3"
      ]
     },
     "execution_count": 79,
     "metadata": {},
     "output_type": "execute_result"
    }
   ],
   "source": [
    "# Farkli Bir Sekilde Ulasma Stili\n",
    "Data_Frame_4[0:3]"
   ]
  },
  {
   "cell_type": "code",
   "execution_count": 80,
   "id": "e32d0f3e",
   "metadata": {
    "execution": {
     "iopub.execute_input": "2022-04-23T14:50:07.513281Z",
     "iopub.status.busy": "2022-04-23T14:50:07.512554Z",
     "iopub.status.idle": "2022-04-23T14:50:07.515998Z",
     "shell.execute_reply": "2022-04-23T14:50:07.516548Z",
     "shell.execute_reply.started": "2022-04-23T13:40:38.445452Z"
    },
    "papermill": {
     "duration": 0.158702,
     "end_time": "2022-04-23T14:50:07.516736",
     "exception": false,
     "start_time": "2022-04-23T14:50:07.358034",
     "status": "completed"
    },
    "tags": []
   },
   "outputs": [
    {
     "data": {
      "text/plain": [
       "0    8\n",
       "1    9\n",
       "2    7\n",
       "3    8\n",
       "4    4\n",
       "5    8\n",
       "6    3\n",
       "7    7\n",
       "8    6\n",
       "9    1\n",
       "Name: Var1, dtype: int64"
      ]
     },
     "execution_count": 80,
     "metadata": {},
     "output_type": "execute_result"
    }
   ],
   "source": [
    "# Farkli Bir Sekilde Ulasma Stili\n",
    "\n",
    "Data_Frame_4.Var1"
   ]
  },
  {
   "cell_type": "code",
   "execution_count": 81,
   "id": "ded4f4cf",
   "metadata": {
    "execution": {
     "iopub.execute_input": "2022-04-23T14:50:07.833211Z",
     "iopub.status.busy": "2022-04-23T14:50:07.824258Z",
     "iopub.status.idle": "2022-04-23T14:50:07.836602Z",
     "shell.execute_reply": "2022-04-23T14:50:07.837286Z",
     "shell.execute_reply.started": "2022-04-23T13:40:38.959562Z"
    },
    "papermill": {
     "duration": 0.167862,
     "end_time": "2022-04-23T14:50:07.837474",
     "exception": false,
     "start_time": "2022-04-23T14:50:07.669612",
     "status": "completed"
    },
    "tags": []
   },
   "outputs": [
    {
     "data": {
      "text/html": [
       "<div>\n",
       "<style scoped>\n",
       "    .dataframe tbody tr th:only-of-type {\n",
       "        vertical-align: middle;\n",
       "    }\n",
       "\n",
       "    .dataframe tbody tr th {\n",
       "        vertical-align: top;\n",
       "    }\n",
       "\n",
       "    .dataframe thead th {\n",
       "        text-align: right;\n",
       "    }\n",
       "</style>\n",
       "<table border=\"1\" class=\"dataframe\">\n",
       "  <thead>\n",
       "    <tr style=\"text-align: right;\">\n",
       "      <th></th>\n",
       "      <th>Var1</th>\n",
       "      <th>Var2</th>\n",
       "      <th>Var3</th>\n",
       "    </tr>\n",
       "  </thead>\n",
       "  <tbody>\n",
       "    <tr>\n",
       "      <th>0</th>\n",
       "      <td>8</td>\n",
       "      <td>5</td>\n",
       "      <td>3</td>\n",
       "    </tr>\n",
       "    <tr>\n",
       "      <th>1</th>\n",
       "      <td>9</td>\n",
       "      <td>2</td>\n",
       "      <td>3</td>\n",
       "    </tr>\n",
       "    <tr>\n",
       "      <th>2</th>\n",
       "      <td>7</td>\n",
       "      <td>1</td>\n",
       "      <td>3</td>\n",
       "    </tr>\n",
       "    <tr>\n",
       "      <th>3</th>\n",
       "      <td>8</td>\n",
       "      <td>9</td>\n",
       "      <td>1</td>\n",
       "    </tr>\n",
       "    <tr>\n",
       "      <th>5</th>\n",
       "      <td>8</td>\n",
       "      <td>4</td>\n",
       "      <td>9</td>\n",
       "    </tr>\n",
       "    <tr>\n",
       "      <th>7</th>\n",
       "      <td>7</td>\n",
       "      <td>9</td>\n",
       "      <td>5</td>\n",
       "    </tr>\n",
       "    <tr>\n",
       "      <th>8</th>\n",
       "      <td>6</td>\n",
       "      <td>6</td>\n",
       "      <td>6</td>\n",
       "    </tr>\n",
       "  </tbody>\n",
       "</table>\n",
       "</div>"
      ],
      "text/plain": [
       "   Var1  Var2  Var3\n",
       "0     8     5     3\n",
       "1     9     2     3\n",
       "2     7     1     3\n",
       "3     8     9     1\n",
       "5     8     4     9\n",
       "7     7     9     5\n",
       "8     6     6     6"
      ]
     },
     "execution_count": 81,
     "metadata": {},
     "output_type": "execute_result"
    }
   ],
   "source": [
    "Data_Frame_4[Data_Frame_4.Var1>5] # Data_Frame_4  Icerisindenki \"Var1\" Adli Degiskenin Ogeleri Arasindan 5'ten Buyuk Olanlari Aldi ( Yatayda Index Numarasina Gore aliyor)\n",
    "# Beraberinde Diger Degiskenlerin Ogeleri de Geldi ( Index Numarasina Gore Aldigi Icin )"
   ]
  },
  {
   "cell_type": "code",
   "execution_count": 82,
   "id": "edc6a87e",
   "metadata": {
    "execution": {
     "iopub.execute_input": "2022-04-23T14:50:08.142884Z",
     "iopub.status.busy": "2022-04-23T14:50:08.142007Z",
     "iopub.status.idle": "2022-04-23T14:50:08.150585Z",
     "shell.execute_reply": "2022-04-23T14:50:08.151044Z",
     "shell.execute_reply.started": "2022-04-23T13:40:39.472863Z"
    },
    "papermill": {
     "duration": 0.164679,
     "end_time": "2022-04-23T14:50:08.151253",
     "exception": false,
     "start_time": "2022-04-23T14:50:07.986574",
     "status": "completed"
    },
    "tags": []
   },
   "outputs": [
    {
     "data": {
      "text/html": [
       "<div>\n",
       "<style scoped>\n",
       "    .dataframe tbody tr th:only-of-type {\n",
       "        vertical-align: middle;\n",
       "    }\n",
       "\n",
       "    .dataframe tbody tr th {\n",
       "        vertical-align: top;\n",
       "    }\n",
       "\n",
       "    .dataframe thead th {\n",
       "        text-align: right;\n",
       "    }\n",
       "</style>\n",
       "<table border=\"1\" class=\"dataframe\">\n",
       "  <thead>\n",
       "    <tr style=\"text-align: right;\">\n",
       "      <th></th>\n",
       "      <th>Var1</th>\n",
       "      <th>Var2</th>\n",
       "      <th>Var3</th>\n",
       "    </tr>\n",
       "  </thead>\n",
       "  <tbody>\n",
       "    <tr>\n",
       "      <th>0</th>\n",
       "      <td>8</td>\n",
       "      <td>5</td>\n",
       "      <td>3</td>\n",
       "    </tr>\n",
       "    <tr>\n",
       "      <th>1</th>\n",
       "      <td>9</td>\n",
       "      <td>2</td>\n",
       "      <td>3</td>\n",
       "    </tr>\n",
       "    <tr>\n",
       "      <th>2</th>\n",
       "      <td>7</td>\n",
       "      <td>1</td>\n",
       "      <td>3</td>\n",
       "    </tr>\n",
       "    <tr>\n",
       "      <th>3</th>\n",
       "      <td>8</td>\n",
       "      <td>9</td>\n",
       "      <td>1</td>\n",
       "    </tr>\n",
       "    <tr>\n",
       "      <th>5</th>\n",
       "      <td>8</td>\n",
       "      <td>4</td>\n",
       "      <td>9</td>\n",
       "    </tr>\n",
       "    <tr>\n",
       "      <th>7</th>\n",
       "      <td>7</td>\n",
       "      <td>9</td>\n",
       "      <td>5</td>\n",
       "    </tr>\n",
       "    <tr>\n",
       "      <th>8</th>\n",
       "      <td>6</td>\n",
       "      <td>6</td>\n",
       "      <td>6</td>\n",
       "    </tr>\n",
       "  </tbody>\n",
       "</table>\n",
       "</div>"
      ],
      "text/plain": [
       "   Var1  Var2  Var3\n",
       "0     8     5     3\n",
       "1     9     2     3\n",
       "2     7     1     3\n",
       "3     8     9     1\n",
       "5     8     4     9\n",
       "7     7     9     5\n",
       "8     6     6     6"
      ]
     },
     "execution_count": 82,
     "metadata": {},
     "output_type": "execute_result"
    }
   ],
   "source": [
    "Data_Frame_4[Data_Frame_4.Var1>5] # Burasi Bir DataFramedir"
   ]
  },
  {
   "cell_type": "code",
   "execution_count": 83,
   "id": "2f479c22",
   "metadata": {
    "execution": {
     "iopub.execute_input": "2022-04-23T14:50:08.454418Z",
     "iopub.status.busy": "2022-04-23T14:50:08.453725Z",
     "iopub.status.idle": "2022-04-23T14:50:08.459855Z",
     "shell.execute_reply": "2022-04-23T14:50:08.460318Z",
     "shell.execute_reply.started": "2022-04-23T13:40:39.797999Z"
    },
    "papermill": {
     "duration": 0.158487,
     "end_time": "2022-04-23T14:50:08.460500",
     "exception": false,
     "start_time": "2022-04-23T14:50:08.302013",
     "status": "completed"
    },
    "tags": []
   },
   "outputs": [
    {
     "data": {
      "text/plain": [
       "0    8\n",
       "1    9\n",
       "2    7\n",
       "3    8\n",
       "5    8\n",
       "7    7\n",
       "8    6\n",
       "Name: Var1, dtype: int64"
      ]
     },
     "execution_count": 83,
     "metadata": {},
     "output_type": "execute_result"
    }
   ],
   "source": [
    "Data_Frame_4[Data_Frame_4.Var1>5][\"Var1\"] # Bu DataFrame Icerisinden \"Var1\" Degiskeni Sectik ( Birden Fazla Degisken'de Secebilirdik)"
   ]
  },
  {
   "cell_type": "code",
   "execution_count": 84,
   "id": "ec57730e",
   "metadata": {
    "execution": {
     "iopub.execute_input": "2022-04-23T14:50:08.766028Z",
     "iopub.status.busy": "2022-04-23T14:50:08.765301Z",
     "iopub.status.idle": "2022-04-23T14:50:08.775295Z",
     "shell.execute_reply": "2022-04-23T14:50:08.774661Z",
     "shell.execute_reply.started": "2022-04-23T13:40:40.130386Z"
    },
    "papermill": {
     "duration": 0.162878,
     "end_time": "2022-04-23T14:50:08.775447",
     "exception": false,
     "start_time": "2022-04-23T14:50:08.612569",
     "status": "completed"
    },
    "tags": []
   },
   "outputs": [
    {
     "data": {
      "text/html": [
       "<div>\n",
       "<style scoped>\n",
       "    .dataframe tbody tr th:only-of-type {\n",
       "        vertical-align: middle;\n",
       "    }\n",
       "\n",
       "    .dataframe tbody tr th {\n",
       "        vertical-align: top;\n",
       "    }\n",
       "\n",
       "    .dataframe thead th {\n",
       "        text-align: right;\n",
       "    }\n",
       "</style>\n",
       "<table border=\"1\" class=\"dataframe\">\n",
       "  <thead>\n",
       "    <tr style=\"text-align: right;\">\n",
       "      <th></th>\n",
       "      <th>Var1</th>\n",
       "      <th>Var2</th>\n",
       "      <th>Var3</th>\n",
       "    </tr>\n",
       "  </thead>\n",
       "  <tbody>\n",
       "    <tr>\n",
       "      <th>6</th>\n",
       "      <td>3</td>\n",
       "      <td>6</td>\n",
       "      <td>4</td>\n",
       "    </tr>\n",
       "    <tr>\n",
       "      <th>7</th>\n",
       "      <td>7</td>\n",
       "      <td>9</td>\n",
       "      <td>5</td>\n",
       "    </tr>\n",
       "  </tbody>\n",
       "</table>\n",
       "</div>"
      ],
      "text/plain": [
       "   Var1  Var2  Var3\n",
       "6     3     6     4\n",
       "7     7     9     5"
      ]
     },
     "execution_count": 84,
     "metadata": {},
     "output_type": "execute_result"
    }
   ],
   "source": [
    "# Yukarida DataFrame Icin Bir Kosul Koyduk, Birden Fazla Kosul Da Koyabiliriz\n",
    "\n",
    "Data_Frame_4[(Data_Frame_4.Var3 < 6) & (Data_Frame_4.Var3 > 3)] # Ayni Degisken Uzerinde Yapmak Zorunda Degiliz Asagida Ona Ornek Verelim"
   ]
  },
  {
   "cell_type": "code",
   "execution_count": 85,
   "id": "99fadefa",
   "metadata": {
    "execution": {
     "iopub.execute_input": "2022-04-23T14:50:09.095731Z",
     "iopub.status.busy": "2022-04-23T14:50:09.094955Z",
     "iopub.status.idle": "2022-04-23T14:50:09.098196Z",
     "shell.execute_reply": "2022-04-23T14:50:09.098669Z",
     "shell.execute_reply.started": "2022-04-23T13:40:40.366839Z"
    },
    "papermill": {
     "duration": 0.169797,
     "end_time": "2022-04-23T14:50:09.098837",
     "exception": false,
     "start_time": "2022-04-23T14:50:08.929040",
     "status": "completed"
    },
    "tags": []
   },
   "outputs": [
    {
     "data": {
      "text/html": [
       "<div>\n",
       "<style scoped>\n",
       "    .dataframe tbody tr th:only-of-type {\n",
       "        vertical-align: middle;\n",
       "    }\n",
       "\n",
       "    .dataframe tbody tr th {\n",
       "        vertical-align: top;\n",
       "    }\n",
       "\n",
       "    .dataframe thead th {\n",
       "        text-align: right;\n",
       "    }\n",
       "</style>\n",
       "<table border=\"1\" class=\"dataframe\">\n",
       "  <thead>\n",
       "    <tr style=\"text-align: right;\">\n",
       "      <th></th>\n",
       "      <th>Var1</th>\n",
       "      <th>Var2</th>\n",
       "      <th>Var3</th>\n",
       "    </tr>\n",
       "  </thead>\n",
       "  <tbody>\n",
       "    <tr>\n",
       "      <th>0</th>\n",
       "      <td>8</td>\n",
       "      <td>5</td>\n",
       "      <td>3</td>\n",
       "    </tr>\n",
       "    <tr>\n",
       "      <th>1</th>\n",
       "      <td>9</td>\n",
       "      <td>2</td>\n",
       "      <td>3</td>\n",
       "    </tr>\n",
       "    <tr>\n",
       "      <th>2</th>\n",
       "      <td>7</td>\n",
       "      <td>1</td>\n",
       "      <td>3</td>\n",
       "    </tr>\n",
       "    <tr>\n",
       "      <th>3</th>\n",
       "      <td>8</td>\n",
       "      <td>9</td>\n",
       "      <td>1</td>\n",
       "    </tr>\n",
       "    <tr>\n",
       "      <th>4</th>\n",
       "      <td>4</td>\n",
       "      <td>8</td>\n",
       "      <td>1</td>\n",
       "    </tr>\n",
       "    <tr>\n",
       "      <th>7</th>\n",
       "      <td>7</td>\n",
       "      <td>9</td>\n",
       "      <td>5</td>\n",
       "    </tr>\n",
       "    <tr>\n",
       "      <th>8</th>\n",
       "      <td>6</td>\n",
       "      <td>6</td>\n",
       "      <td>6</td>\n",
       "    </tr>\n",
       "  </tbody>\n",
       "</table>\n",
       "</div>"
      ],
      "text/plain": [
       "   Var1  Var2  Var3\n",
       "0     8     5     3\n",
       "1     9     2     3\n",
       "2     7     1     3\n",
       "3     8     9     1\n",
       "4     4     8     1\n",
       "7     7     9     5\n",
       "8     6     6     6"
      ]
     },
     "execution_count": 85,
     "metadata": {},
     "output_type": "execute_result"
    }
   ],
   "source": [
    "Data_Frame_4[(Data_Frame_4.Var1 >3) & (Data_Frame_4.Var3 < 8)] # Iki Farkli Degisken Uzerinde Iki Farkli Kosul Islemi Uyguladik"
   ]
  },
  {
   "cell_type": "code",
   "execution_count": 86,
   "id": "c3dde2ee",
   "metadata": {
    "execution": {
     "iopub.execute_input": "2022-04-23T14:50:09.412260Z",
     "iopub.status.busy": "2022-04-23T14:50:09.409472Z",
     "iopub.status.idle": "2022-04-23T14:50:09.419823Z",
     "shell.execute_reply": "2022-04-23T14:50:09.420301Z",
     "shell.execute_reply.started": "2022-04-23T13:40:40.500786Z"
    },
    "papermill": {
     "duration": 0.166848,
     "end_time": "2022-04-23T14:50:09.420484",
     "exception": false,
     "start_time": "2022-04-23T14:50:09.253636",
     "status": "completed"
    },
    "tags": []
   },
   "outputs": [
    {
     "data": {
      "text/html": [
       "<div>\n",
       "<style scoped>\n",
       "    .dataframe tbody tr th:only-of-type {\n",
       "        vertical-align: middle;\n",
       "    }\n",
       "\n",
       "    .dataframe tbody tr th {\n",
       "        vertical-align: top;\n",
       "    }\n",
       "\n",
       "    .dataframe thead th {\n",
       "        text-align: right;\n",
       "    }\n",
       "</style>\n",
       "<table border=\"1\" class=\"dataframe\">\n",
       "  <thead>\n",
       "    <tr style=\"text-align: right;\">\n",
       "      <th></th>\n",
       "      <th>Var1</th>\n",
       "      <th>Var2</th>\n",
       "    </tr>\n",
       "  </thead>\n",
       "  <tbody>\n",
       "    <tr>\n",
       "      <th>0</th>\n",
       "      <td>8</td>\n",
       "      <td>5</td>\n",
       "    </tr>\n",
       "    <tr>\n",
       "      <th>1</th>\n",
       "      <td>9</td>\n",
       "      <td>2</td>\n",
       "    </tr>\n",
       "    <tr>\n",
       "      <th>2</th>\n",
       "      <td>7</td>\n",
       "      <td>1</td>\n",
       "    </tr>\n",
       "    <tr>\n",
       "      <th>3</th>\n",
       "      <td>8</td>\n",
       "      <td>9</td>\n",
       "    </tr>\n",
       "    <tr>\n",
       "      <th>4</th>\n",
       "      <td>4</td>\n",
       "      <td>8</td>\n",
       "    </tr>\n",
       "    <tr>\n",
       "      <th>5</th>\n",
       "      <td>8</td>\n",
       "      <td>4</td>\n",
       "    </tr>\n",
       "    <tr>\n",
       "      <th>7</th>\n",
       "      <td>7</td>\n",
       "      <td>9</td>\n",
       "    </tr>\n",
       "    <tr>\n",
       "      <th>8</th>\n",
       "      <td>6</td>\n",
       "      <td>6</td>\n",
       "    </tr>\n",
       "  </tbody>\n",
       "</table>\n",
       "</div>"
      ],
      "text/plain": [
       "   Var1  Var2\n",
       "0     8     5\n",
       "1     9     2\n",
       "2     7     1\n",
       "3     8     9\n",
       "4     4     8\n",
       "5     8     4\n",
       "7     7     9\n",
       "8     6     6"
      ]
     },
     "execution_count": 86,
     "metadata": {},
     "output_type": "execute_result"
    }
   ],
   "source": [
    "# Data_Frame_4[(Data_Frame_4.Var1 > 15), [\"Var1\", \"Var2\"]]   HATA ALIRIZ (   \".loc\"    Ifadesi Eklenmesi Lazim)\n",
    "\n",
    "Data_Frame_4.loc[(Data_Frame_4.Var1 > 3), [\"Var1\", \"Var2\"]]"
   ]
  },
  {
   "cell_type": "code",
   "execution_count": 87,
   "id": "85f4f9e1",
   "metadata": {
    "execution": {
     "iopub.execute_input": "2022-04-23T14:50:09.732460Z",
     "iopub.status.busy": "2022-04-23T14:50:09.731687Z",
     "iopub.status.idle": "2022-04-23T14:50:09.738727Z",
     "shell.execute_reply": "2022-04-23T14:50:09.739286Z",
     "shell.execute_reply.started": "2022-04-23T13:40:40.682734Z"
    },
    "papermill": {
     "duration": 0.165043,
     "end_time": "2022-04-23T14:50:09.739462",
     "exception": false,
     "start_time": "2022-04-23T14:50:09.574419",
     "status": "completed"
    },
    "tags": []
   },
   "outputs": [
    {
     "data": {
      "text/plain": [
       "0    8\n",
       "1    9\n",
       "2    7\n",
       "3    8\n",
       "4    4\n",
       "5    8\n",
       "7    7\n",
       "8    6\n",
       "Name: Var1, dtype: int64"
      ]
     },
     "execution_count": 87,
     "metadata": {},
     "output_type": "execute_result"
    }
   ],
   "source": [
    "# Farkli Bir Sekilde   \".loc\"   Ifadesi Kullanmadan da Yapabiliriz\n",
    "\n",
    "Data_Frame_4[Data_Frame_4.Var1 > 3][\"Var1\"]"
   ]
  },
  {
   "cell_type": "code",
   "execution_count": 88,
   "id": "25cdfbb5",
   "metadata": {
    "execution": {
     "iopub.execute_input": "2022-04-23T14:50:10.049463Z",
     "iopub.status.busy": "2022-04-23T14:50:10.048819Z",
     "iopub.status.idle": "2022-04-23T14:50:10.058143Z",
     "shell.execute_reply": "2022-04-23T14:50:10.058628Z",
     "shell.execute_reply.started": "2022-04-23T13:40:40.869580Z"
    },
    "papermill": {
     "duration": 0.168806,
     "end_time": "2022-04-23T14:50:10.058820",
     "exception": false,
     "start_time": "2022-04-23T14:50:09.890014",
     "status": "completed"
    },
    "tags": []
   },
   "outputs": [
    {
     "data": {
      "text/html": [
       "<div>\n",
       "<style scoped>\n",
       "    .dataframe tbody tr th:only-of-type {\n",
       "        vertical-align: middle;\n",
       "    }\n",
       "\n",
       "    .dataframe tbody tr th {\n",
       "        vertical-align: top;\n",
       "    }\n",
       "\n",
       "    .dataframe thead th {\n",
       "        text-align: right;\n",
       "    }\n",
       "</style>\n",
       "<table border=\"1\" class=\"dataframe\">\n",
       "  <thead>\n",
       "    <tr style=\"text-align: right;\">\n",
       "      <th></th>\n",
       "      <th>Var1</th>\n",
       "      <th>Var2</th>\n",
       "    </tr>\n",
       "  </thead>\n",
       "  <tbody>\n",
       "    <tr>\n",
       "      <th>0</th>\n",
       "      <td>8</td>\n",
       "      <td>5</td>\n",
       "    </tr>\n",
       "    <tr>\n",
       "      <th>1</th>\n",
       "      <td>9</td>\n",
       "      <td>2</td>\n",
       "    </tr>\n",
       "    <tr>\n",
       "      <th>2</th>\n",
       "      <td>7</td>\n",
       "      <td>1</td>\n",
       "    </tr>\n",
       "    <tr>\n",
       "      <th>3</th>\n",
       "      <td>8</td>\n",
       "      <td>9</td>\n",
       "    </tr>\n",
       "    <tr>\n",
       "      <th>4</th>\n",
       "      <td>4</td>\n",
       "      <td>8</td>\n",
       "    </tr>\n",
       "    <tr>\n",
       "      <th>5</th>\n",
       "      <td>8</td>\n",
       "      <td>4</td>\n",
       "    </tr>\n",
       "    <tr>\n",
       "      <th>7</th>\n",
       "      <td>7</td>\n",
       "      <td>9</td>\n",
       "    </tr>\n",
       "    <tr>\n",
       "      <th>8</th>\n",
       "      <td>6</td>\n",
       "      <td>6</td>\n",
       "    </tr>\n",
       "  </tbody>\n",
       "</table>\n",
       "</div>"
      ],
      "text/plain": [
       "   Var1  Var2\n",
       "0     8     5\n",
       "1     9     2\n",
       "2     7     1\n",
       "3     8     9\n",
       "4     4     8\n",
       "5     8     4\n",
       "7     7     9\n",
       "8     6     6"
      ]
     },
     "execution_count": 88,
     "metadata": {},
     "output_type": "execute_result"
    }
   ],
   "source": [
    "# Farkli Bir Sekilde\n",
    "\n",
    "Data_Frame_4[Data_Frame_4.Var1 > 3][[\"Var1\",\"Var2\"]] # Birden Cok Degisken Koyacaksak Iki Tane Koseli Parantez Koymamiz Lazim"
   ]
  },
  {
   "cell_type": "code",
   "execution_count": 89,
   "id": "aca65be3",
   "metadata": {
    "execution": {
     "iopub.execute_input": "2022-04-23T14:50:10.383347Z",
     "iopub.status.busy": "2022-04-23T14:50:10.382616Z",
     "iopub.status.idle": "2022-04-23T14:50:10.387529Z",
     "shell.execute_reply": "2022-04-23T14:50:10.388070Z",
     "shell.execute_reply.started": "2022-04-23T13:40:40.989454Z"
    },
    "papermill": {
     "duration": 0.16752,
     "end_time": "2022-04-23T14:50:10.388273",
     "exception": false,
     "start_time": "2022-04-23T14:50:10.220753",
     "status": "completed"
    },
    "tags": []
   },
   "outputs": [],
   "source": [
    "Liste_13 = np.random.randint(1,30, size = (5,3))\n",
    "\n",
    "Data_Frame_5 = pd.DataFrame(Liste_13, columns = [\"Deg_1\", \"Deg_2\", \"Deg_3\"])"
   ]
  },
  {
   "cell_type": "code",
   "execution_count": 90,
   "id": "73d809e0",
   "metadata": {
    "execution": {
     "iopub.execute_input": "2022-04-23T14:50:10.716794Z",
     "iopub.status.busy": "2022-04-23T14:50:10.716011Z",
     "iopub.status.idle": "2022-04-23T14:50:10.719491Z",
     "shell.execute_reply": "2022-04-23T14:50:10.720062Z",
     "shell.execute_reply.started": "2022-04-23T13:40:41.103732Z"
    },
    "papermill": {
     "duration": 0.172863,
     "end_time": "2022-04-23T14:50:10.720266",
     "exception": false,
     "start_time": "2022-04-23T14:50:10.547403",
     "status": "completed"
    },
    "tags": []
   },
   "outputs": [
    {
     "data": {
      "text/html": [
       "<div>\n",
       "<style scoped>\n",
       "    .dataframe tbody tr th:only-of-type {\n",
       "        vertical-align: middle;\n",
       "    }\n",
       "\n",
       "    .dataframe tbody tr th {\n",
       "        vertical-align: top;\n",
       "    }\n",
       "\n",
       "    .dataframe thead th {\n",
       "        text-align: right;\n",
       "    }\n",
       "</style>\n",
       "<table border=\"1\" class=\"dataframe\">\n",
       "  <thead>\n",
       "    <tr style=\"text-align: right;\">\n",
       "      <th></th>\n",
       "      <th>Deg_1</th>\n",
       "      <th>Deg_2</th>\n",
       "      <th>Deg_3</th>\n",
       "    </tr>\n",
       "  </thead>\n",
       "  <tbody>\n",
       "    <tr>\n",
       "      <th>0</th>\n",
       "      <td>8</td>\n",
       "      <td>13</td>\n",
       "      <td>3</td>\n",
       "    </tr>\n",
       "    <tr>\n",
       "      <th>1</th>\n",
       "      <td>13</td>\n",
       "      <td>21</td>\n",
       "      <td>14</td>\n",
       "    </tr>\n",
       "    <tr>\n",
       "      <th>2</th>\n",
       "      <td>1</td>\n",
       "      <td>2</td>\n",
       "      <td>1</td>\n",
       "    </tr>\n",
       "    <tr>\n",
       "      <th>3</th>\n",
       "      <td>4</td>\n",
       "      <td>5</td>\n",
       "      <td>16</td>\n",
       "    </tr>\n",
       "    <tr>\n",
       "      <th>4</th>\n",
       "      <td>22</td>\n",
       "      <td>18</td>\n",
       "      <td>23</td>\n",
       "    </tr>\n",
       "  </tbody>\n",
       "</table>\n",
       "</div>"
      ],
      "text/plain": [
       "   Deg_1  Deg_2  Deg_3\n",
       "0      8     13      3\n",
       "1     13     21     14\n",
       "2      1      2      1\n",
       "3      4      5     16\n",
       "4     22     18     23"
      ]
     },
     "execution_count": 90,
     "metadata": {},
     "output_type": "execute_result"
    }
   ],
   "source": [
    "Data_Frame_5"
   ]
  },
  {
   "cell_type": "code",
   "execution_count": 91,
   "id": "5e3bc26e",
   "metadata": {
    "execution": {
     "iopub.execute_input": "2022-04-23T14:50:11.044507Z",
     "iopub.status.busy": "2022-04-23T14:50:11.043572Z",
     "iopub.status.idle": "2022-04-23T14:50:11.047657Z",
     "shell.execute_reply": "2022-04-23T14:50:11.048193Z",
     "shell.execute_reply.started": "2022-04-23T13:40:41.197948Z"
    },
    "papermill": {
     "duration": 0.172151,
     "end_time": "2022-04-23T14:50:11.048370",
     "exception": false,
     "start_time": "2022-04-23T14:50:10.876219",
     "status": "completed"
    },
    "tags": []
   },
   "outputs": [],
   "source": [
    "# DataFrame Deki Tum Elemenalara Sayi Ekleme Islemi\n",
    "\n",
    "Data_Frame_6 = Data_Frame_5 + 100"
   ]
  },
  {
   "cell_type": "code",
   "execution_count": 92,
   "id": "5e319666",
   "metadata": {
    "execution": {
     "iopub.execute_input": "2022-04-23T14:50:11.360734Z",
     "iopub.status.busy": "2022-04-23T14:50:11.360053Z",
     "iopub.status.idle": "2022-04-23T14:50:11.364559Z",
     "shell.execute_reply": "2022-04-23T14:50:11.365078Z",
     "shell.execute_reply.started": "2022-04-23T13:40:41.332740Z"
    },
    "papermill": {
     "duration": 0.164687,
     "end_time": "2022-04-23T14:50:11.365278",
     "exception": false,
     "start_time": "2022-04-23T14:50:11.200591",
     "status": "completed"
    },
    "tags": []
   },
   "outputs": [
    {
     "data": {
      "text/html": [
       "<div>\n",
       "<style scoped>\n",
       "    .dataframe tbody tr th:only-of-type {\n",
       "        vertical-align: middle;\n",
       "    }\n",
       "\n",
       "    .dataframe tbody tr th {\n",
       "        vertical-align: top;\n",
       "    }\n",
       "\n",
       "    .dataframe thead th {\n",
       "        text-align: right;\n",
       "    }\n",
       "</style>\n",
       "<table border=\"1\" class=\"dataframe\">\n",
       "  <thead>\n",
       "    <tr style=\"text-align: right;\">\n",
       "      <th></th>\n",
       "      <th>Deg_1</th>\n",
       "      <th>Deg_2</th>\n",
       "      <th>Deg_3</th>\n",
       "    </tr>\n",
       "  </thead>\n",
       "  <tbody>\n",
       "    <tr>\n",
       "      <th>0</th>\n",
       "      <td>108</td>\n",
       "      <td>113</td>\n",
       "      <td>103</td>\n",
       "    </tr>\n",
       "    <tr>\n",
       "      <th>1</th>\n",
       "      <td>113</td>\n",
       "      <td>121</td>\n",
       "      <td>114</td>\n",
       "    </tr>\n",
       "    <tr>\n",
       "      <th>2</th>\n",
       "      <td>101</td>\n",
       "      <td>102</td>\n",
       "      <td>101</td>\n",
       "    </tr>\n",
       "    <tr>\n",
       "      <th>3</th>\n",
       "      <td>104</td>\n",
       "      <td>105</td>\n",
       "      <td>116</td>\n",
       "    </tr>\n",
       "    <tr>\n",
       "      <th>4</th>\n",
       "      <td>122</td>\n",
       "      <td>118</td>\n",
       "      <td>123</td>\n",
       "    </tr>\n",
       "  </tbody>\n",
       "</table>\n",
       "</div>"
      ],
      "text/plain": [
       "   Deg_1  Deg_2  Deg_3\n",
       "0    108    113    103\n",
       "1    113    121    114\n",
       "2    101    102    101\n",
       "3    104    105    116\n",
       "4    122    118    123"
      ]
     },
     "execution_count": 92,
     "metadata": {},
     "output_type": "execute_result"
    }
   ],
   "source": [
    "Data_Frame_6"
   ]
  },
  {
   "cell_type": "code",
   "execution_count": 93,
   "id": "ab53d3e9",
   "metadata": {
    "execution": {
     "iopub.execute_input": "2022-04-23T14:50:11.679528Z",
     "iopub.status.busy": "2022-04-23T14:50:11.678822Z",
     "iopub.status.idle": "2022-04-23T14:50:11.687761Z",
     "shell.execute_reply": "2022-04-23T14:50:11.688394Z",
     "shell.execute_reply.started": "2022-04-23T13:40:41.437396Z"
    },
    "papermill": {
     "duration": 0.167417,
     "end_time": "2022-04-23T14:50:11.688572",
     "exception": false,
     "start_time": "2022-04-23T14:50:11.521155",
     "status": "completed"
    },
    "tags": []
   },
   "outputs": [
    {
     "data": {
      "text/html": [
       "<div>\n",
       "<style scoped>\n",
       "    .dataframe tbody tr th:only-of-type {\n",
       "        vertical-align: middle;\n",
       "    }\n",
       "\n",
       "    .dataframe tbody tr th {\n",
       "        vertical-align: top;\n",
       "    }\n",
       "\n",
       "    .dataframe thead th {\n",
       "        text-align: right;\n",
       "    }\n",
       "</style>\n",
       "<table border=\"1\" class=\"dataframe\">\n",
       "  <thead>\n",
       "    <tr style=\"text-align: right;\">\n",
       "      <th></th>\n",
       "      <th>Deg_1</th>\n",
       "      <th>Deg_2</th>\n",
       "      <th>Deg_3</th>\n",
       "    </tr>\n",
       "  </thead>\n",
       "  <tbody>\n",
       "    <tr>\n",
       "      <th>0</th>\n",
       "      <td>8</td>\n",
       "      <td>13</td>\n",
       "      <td>3</td>\n",
       "    </tr>\n",
       "    <tr>\n",
       "      <th>1</th>\n",
       "      <td>13</td>\n",
       "      <td>21</td>\n",
       "      <td>14</td>\n",
       "    </tr>\n",
       "    <tr>\n",
       "      <th>2</th>\n",
       "      <td>1</td>\n",
       "      <td>2</td>\n",
       "      <td>1</td>\n",
       "    </tr>\n",
       "    <tr>\n",
       "      <th>3</th>\n",
       "      <td>4</td>\n",
       "      <td>5</td>\n",
       "      <td>16</td>\n",
       "    </tr>\n",
       "    <tr>\n",
       "      <th>4</th>\n",
       "      <td>22</td>\n",
       "      <td>18</td>\n",
       "      <td>23</td>\n",
       "    </tr>\n",
       "    <tr>\n",
       "      <th>0</th>\n",
       "      <td>108</td>\n",
       "      <td>113</td>\n",
       "      <td>103</td>\n",
       "    </tr>\n",
       "    <tr>\n",
       "      <th>1</th>\n",
       "      <td>113</td>\n",
       "      <td>121</td>\n",
       "      <td>114</td>\n",
       "    </tr>\n",
       "    <tr>\n",
       "      <th>2</th>\n",
       "      <td>101</td>\n",
       "      <td>102</td>\n",
       "      <td>101</td>\n",
       "    </tr>\n",
       "    <tr>\n",
       "      <th>3</th>\n",
       "      <td>104</td>\n",
       "      <td>105</td>\n",
       "      <td>116</td>\n",
       "    </tr>\n",
       "    <tr>\n",
       "      <th>4</th>\n",
       "      <td>122</td>\n",
       "      <td>118</td>\n",
       "      <td>123</td>\n",
       "    </tr>\n",
       "  </tbody>\n",
       "</table>\n",
       "</div>"
      ],
      "text/plain": [
       "   Deg_1  Deg_2  Deg_3\n",
       "0      8     13      3\n",
       "1     13     21     14\n",
       "2      1      2      1\n",
       "3      4      5     16\n",
       "4     22     18     23\n",
       "0    108    113    103\n",
       "1    113    121    114\n",
       "2    101    102    101\n",
       "3    104    105    116\n",
       "4    122    118    123"
      ]
     },
     "execution_count": 93,
     "metadata": {},
     "output_type": "execute_result"
    }
   ],
   "source": [
    "# DataFrame Birlestirme Islemleri\n",
    "\n",
    "pd.concat([Data_Frame_5, Data_Frame_6]) # Burada Indexler De Sikinti Cikti Bunu Nasil Cozeriz"
   ]
  },
  {
   "cell_type": "code",
   "execution_count": 94,
   "id": "ad7d3816",
   "metadata": {
    "collapsed": true,
    "execution": {
     "iopub.execute_input": "2022-04-23T14:50:12.009532Z",
     "iopub.status.busy": "2022-04-23T14:50:12.008867Z",
     "iopub.status.idle": "2022-04-23T14:50:12.081741Z",
     "shell.execute_reply": "2022-04-23T14:50:12.081014Z",
     "shell.execute_reply.started": "2022-04-23T14:07:42.190820Z"
    },
    "jupyter": {
     "outputs_hidden": true
    },
    "papermill": {
     "duration": 0.232007,
     "end_time": "2022-04-23T14:50:12.081904",
     "exception": false,
     "start_time": "2022-04-23T14:50:11.849897",
     "status": "completed"
    },
    "tags": []
   },
   "outputs": [],
   "source": [
    "# Kullandigimiz Fonksiyonun Index Ayarinin Varsayilan Ayarlarina Bakiyoruz\n",
    "\n",
    "?pd.concat\n",
    "\n",
    "# ignore_index: = False         ----------->> Varsayilan Ayarin Bu Oldugunu Gorduk ( Bunu Degistiricez )"
   ]
  },
  {
   "cell_type": "code",
   "execution_count": 95,
   "id": "a08943a2",
   "metadata": {
    "execution": {
     "iopub.execute_input": "2022-04-23T14:50:12.403084Z",
     "iopub.status.busy": "2022-04-23T14:50:12.402422Z",
     "iopub.status.idle": "2022-04-23T14:50:12.405509Z",
     "shell.execute_reply": "2022-04-23T14:50:12.406038Z",
     "shell.execute_reply.started": "2022-04-23T13:40:41.666051Z"
    },
    "papermill": {
     "duration": 0.17087,
     "end_time": "2022-04-23T14:50:12.406229",
     "exception": false,
     "start_time": "2022-04-23T14:50:12.235359",
     "status": "completed"
    },
    "tags": []
   },
   "outputs": [
    {
     "data": {
      "text/html": [
       "<div>\n",
       "<style scoped>\n",
       "    .dataframe tbody tr th:only-of-type {\n",
       "        vertical-align: middle;\n",
       "    }\n",
       "\n",
       "    .dataframe tbody tr th {\n",
       "        vertical-align: top;\n",
       "    }\n",
       "\n",
       "    .dataframe thead th {\n",
       "        text-align: right;\n",
       "    }\n",
       "</style>\n",
       "<table border=\"1\" class=\"dataframe\">\n",
       "  <thead>\n",
       "    <tr style=\"text-align: right;\">\n",
       "      <th></th>\n",
       "      <th>Deg_1</th>\n",
       "      <th>Deg_2</th>\n",
       "      <th>Deg_3</th>\n",
       "    </tr>\n",
       "  </thead>\n",
       "  <tbody>\n",
       "    <tr>\n",
       "      <th>0</th>\n",
       "      <td>8</td>\n",
       "      <td>13</td>\n",
       "      <td>3</td>\n",
       "    </tr>\n",
       "    <tr>\n",
       "      <th>1</th>\n",
       "      <td>13</td>\n",
       "      <td>21</td>\n",
       "      <td>14</td>\n",
       "    </tr>\n",
       "    <tr>\n",
       "      <th>2</th>\n",
       "      <td>1</td>\n",
       "      <td>2</td>\n",
       "      <td>1</td>\n",
       "    </tr>\n",
       "    <tr>\n",
       "      <th>3</th>\n",
       "      <td>4</td>\n",
       "      <td>5</td>\n",
       "      <td>16</td>\n",
       "    </tr>\n",
       "    <tr>\n",
       "      <th>4</th>\n",
       "      <td>22</td>\n",
       "      <td>18</td>\n",
       "      <td>23</td>\n",
       "    </tr>\n",
       "    <tr>\n",
       "      <th>5</th>\n",
       "      <td>108</td>\n",
       "      <td>113</td>\n",
       "      <td>103</td>\n",
       "    </tr>\n",
       "    <tr>\n",
       "      <th>6</th>\n",
       "      <td>113</td>\n",
       "      <td>121</td>\n",
       "      <td>114</td>\n",
       "    </tr>\n",
       "    <tr>\n",
       "      <th>7</th>\n",
       "      <td>101</td>\n",
       "      <td>102</td>\n",
       "      <td>101</td>\n",
       "    </tr>\n",
       "    <tr>\n",
       "      <th>8</th>\n",
       "      <td>104</td>\n",
       "      <td>105</td>\n",
       "      <td>116</td>\n",
       "    </tr>\n",
       "    <tr>\n",
       "      <th>9</th>\n",
       "      <td>122</td>\n",
       "      <td>118</td>\n",
       "      <td>123</td>\n",
       "    </tr>\n",
       "  </tbody>\n",
       "</table>\n",
       "</div>"
      ],
      "text/plain": [
       "   Deg_1  Deg_2  Deg_3\n",
       "0      8     13      3\n",
       "1     13     21     14\n",
       "2      1      2      1\n",
       "3      4      5     16\n",
       "4     22     18     23\n",
       "5    108    113    103\n",
       "6    113    121    114\n",
       "7    101    102    101\n",
       "8    104    105    116\n",
       "9    122    118    123"
      ]
     },
     "execution_count": 95,
     "metadata": {},
     "output_type": "execute_result"
    }
   ],
   "source": [
    "pd.concat([Data_Frame_5, Data_Frame_6], ignore_index = True) # Goruldugu Uzere Sorun Cozuldu ( Index Numaralari Normale Dondu ) ( NOT: IKI ALT TARAFTA BURAYI ANLATIYORUM )"
   ]
  },
  {
   "cell_type": "code",
   "execution_count": 96,
   "id": "e9f64362",
   "metadata": {
    "execution": {
     "iopub.execute_input": "2022-04-23T14:50:12.720556Z",
     "iopub.status.busy": "2022-04-23T14:50:12.719698Z",
     "iopub.status.idle": "2022-04-23T14:50:12.724597Z",
     "shell.execute_reply": "2022-04-23T14:50:12.725145Z",
     "shell.execute_reply.started": "2022-04-23T13:40:41.815784Z"
    },
    "papermill": {
     "duration": 0.161039,
     "end_time": "2022-04-23T14:50:12.725327",
     "exception": false,
     "start_time": "2022-04-23T14:50:12.564288",
     "status": "completed"
    },
    "tags": []
   },
   "outputs": [
    {
     "data": {
      "text/plain": [
       "Index(['Deg_1', 'Deg_2', 'Deg_3'], dtype='object')"
      ]
     },
     "execution_count": 96,
     "metadata": {},
     "output_type": "execute_result"
    }
   ],
   "source": [
    "# Bu Data Frame'nin Degiskenlerine Ulasma (Bunu Zaten Biliyoruz ( Tekrar Olsun :) ) !! Onemli Bir Seye Dikkat Cekicem.\n",
    "\n",
    "Data_Frame_5.columns"
   ]
  },
  {
   "cell_type": "code",
   "execution_count": 97,
   "id": "c2dba146",
   "metadata": {
    "execution": {
     "iopub.execute_input": "2022-04-23T14:50:13.040031Z",
     "iopub.status.busy": "2022-04-23T14:50:13.039396Z",
     "iopub.status.idle": "2022-04-23T14:50:13.044602Z",
     "shell.execute_reply": "2022-04-23T14:50:13.045156Z",
     "shell.execute_reply.started": "2022-04-23T13:40:41.887744Z"
    },
    "papermill": {
     "duration": 0.165563,
     "end_time": "2022-04-23T14:50:13.045333",
     "exception": false,
     "start_time": "2022-04-23T14:50:12.879770",
     "status": "completed"
    },
    "tags": []
   },
   "outputs": [
    {
     "data": {
      "text/plain": [
       "Index(['Deg_1', 'Deg_2', 'Deg_3'], dtype='object')"
      ]
     },
     "execution_count": 97,
     "metadata": {},
     "output_type": "execute_result"
    }
   ],
   "source": [
    "Data_Frame_6.columns"
   ]
  },
  {
   "cell_type": "code",
   "execution_count": 98,
   "id": "eb9c62d3",
   "metadata": {
    "execution": {
     "iopub.execute_input": "2022-04-23T14:50:13.369421Z",
     "iopub.status.busy": "2022-04-23T14:50:13.368553Z",
     "iopub.status.idle": "2022-04-23T14:50:13.378198Z",
     "shell.execute_reply": "2022-04-23T14:50:13.378716Z",
     "shell.execute_reply.started": "2022-04-23T13:40:42.012422Z"
    },
    "papermill": {
     "duration": 0.17412,
     "end_time": "2022-04-23T14:50:13.378901",
     "exception": false,
     "start_time": "2022-04-23T14:50:13.204781",
     "status": "completed"
    },
    "tags": []
   },
   "outputs": [
    {
     "data": {
      "text/html": [
       "<div>\n",
       "<style scoped>\n",
       "    .dataframe tbody tr th:only-of-type {\n",
       "        vertical-align: middle;\n",
       "    }\n",
       "\n",
       "    .dataframe tbody tr th {\n",
       "        vertical-align: top;\n",
       "    }\n",
       "\n",
       "    .dataframe thead th {\n",
       "        text-align: right;\n",
       "    }\n",
       "</style>\n",
       "<table border=\"1\" class=\"dataframe\">\n",
       "  <thead>\n",
       "    <tr style=\"text-align: right;\">\n",
       "      <th></th>\n",
       "      <th>Deg_1</th>\n",
       "      <th>Deg_2</th>\n",
       "      <th>Deg_3</th>\n",
       "    </tr>\n",
       "  </thead>\n",
       "  <tbody>\n",
       "    <tr>\n",
       "      <th>0</th>\n",
       "      <td>8</td>\n",
       "      <td>13</td>\n",
       "      <td>3</td>\n",
       "    </tr>\n",
       "    <tr>\n",
       "      <th>1</th>\n",
       "      <td>13</td>\n",
       "      <td>21</td>\n",
       "      <td>14</td>\n",
       "    </tr>\n",
       "    <tr>\n",
       "      <th>2</th>\n",
       "      <td>1</td>\n",
       "      <td>2</td>\n",
       "      <td>1</td>\n",
       "    </tr>\n",
       "    <tr>\n",
       "      <th>3</th>\n",
       "      <td>4</td>\n",
       "      <td>5</td>\n",
       "      <td>16</td>\n",
       "    </tr>\n",
       "    <tr>\n",
       "      <th>4</th>\n",
       "      <td>22</td>\n",
       "      <td>18</td>\n",
       "      <td>23</td>\n",
       "    </tr>\n",
       "    <tr>\n",
       "      <th>0</th>\n",
       "      <td>108</td>\n",
       "      <td>113</td>\n",
       "      <td>103</td>\n",
       "    </tr>\n",
       "    <tr>\n",
       "      <th>1</th>\n",
       "      <td>113</td>\n",
       "      <td>121</td>\n",
       "      <td>114</td>\n",
       "    </tr>\n",
       "    <tr>\n",
       "      <th>2</th>\n",
       "      <td>101</td>\n",
       "      <td>102</td>\n",
       "      <td>101</td>\n",
       "    </tr>\n",
       "    <tr>\n",
       "      <th>3</th>\n",
       "      <td>104</td>\n",
       "      <td>105</td>\n",
       "      <td>116</td>\n",
       "    </tr>\n",
       "    <tr>\n",
       "      <th>4</th>\n",
       "      <td>122</td>\n",
       "      <td>118</td>\n",
       "      <td>123</td>\n",
       "    </tr>\n",
       "  </tbody>\n",
       "</table>\n",
       "</div>"
      ],
      "text/plain": [
       "   Deg_1  Deg_2  Deg_3\n",
       "0      8     13      3\n",
       "1     13     21     14\n",
       "2      1      2      1\n",
       "3      4      5     16\n",
       "4     22     18     23\n",
       "0    108    113    103\n",
       "1    113    121    114\n",
       "2    101    102    101\n",
       "3    104    105    116\n",
       "4    122    118    123"
      ]
     },
     "execution_count": 98,
     "metadata": {},
     "output_type": "execute_result"
    }
   ],
   "source": [
    "# IKI UST TARAFTAKI YERI ANLATIYORUM (not biraktigim yer)\n",
    "\n",
    "pd.concat([Data_Frame_5, Data_Frame_6]) # Bu Birlestirme Islemi Degisken Isimleri Ayni Oldugu Icin Sorunsuz Bi Sekilde Oldu"
   ]
  },
  {
   "cell_type": "code",
   "execution_count": 99,
   "id": "3988a70c",
   "metadata": {
    "execution": {
     "iopub.execute_input": "2022-04-23T14:50:13.694951Z",
     "iopub.status.busy": "2022-04-23T14:50:13.694311Z",
     "iopub.status.idle": "2022-04-23T14:50:13.697884Z",
     "shell.execute_reply": "2022-04-23T14:50:13.698506Z",
     "shell.execute_reply.started": "2022-04-23T13:40:42.113758Z"
    },
    "papermill": {
     "duration": 0.16229,
     "end_time": "2022-04-23T14:50:13.698709",
     "exception": false,
     "start_time": "2022-04-23T14:50:13.536419",
     "status": "completed"
    },
    "tags": []
   },
   "outputs": [],
   "source": [
    "Data_Frame_5.columns = [\"Deg_1\", \"Deg_2\", \"Farkli_Olan\"] # Degisken Isimlerini Degistirdik"
   ]
  },
  {
   "cell_type": "code",
   "execution_count": 100,
   "id": "440e8a85",
   "metadata": {
    "execution": {
     "iopub.execute_input": "2022-04-23T14:50:14.020150Z",
     "iopub.status.busy": "2022-04-23T14:50:14.019489Z",
     "iopub.status.idle": "2022-04-23T14:50:14.027613Z",
     "shell.execute_reply": "2022-04-23T14:50:14.028164Z",
     "shell.execute_reply.started": "2022-04-23T13:40:42.291730Z"
    },
    "papermill": {
     "duration": 0.173935,
     "end_time": "2022-04-23T14:50:14.028346",
     "exception": false,
     "start_time": "2022-04-23T14:50:13.854411",
     "status": "completed"
    },
    "tags": []
   },
   "outputs": [
    {
     "data": {
      "text/html": [
       "<div>\n",
       "<style scoped>\n",
       "    .dataframe tbody tr th:only-of-type {\n",
       "        vertical-align: middle;\n",
       "    }\n",
       "\n",
       "    .dataframe tbody tr th {\n",
       "        vertical-align: top;\n",
       "    }\n",
       "\n",
       "    .dataframe thead th {\n",
       "        text-align: right;\n",
       "    }\n",
       "</style>\n",
       "<table border=\"1\" class=\"dataframe\">\n",
       "  <thead>\n",
       "    <tr style=\"text-align: right;\">\n",
       "      <th></th>\n",
       "      <th>Deg_1</th>\n",
       "      <th>Deg_2</th>\n",
       "      <th>Farkli_Olan</th>\n",
       "    </tr>\n",
       "  </thead>\n",
       "  <tbody>\n",
       "    <tr>\n",
       "      <th>0</th>\n",
       "      <td>8</td>\n",
       "      <td>13</td>\n",
       "      <td>3</td>\n",
       "    </tr>\n",
       "    <tr>\n",
       "      <th>1</th>\n",
       "      <td>13</td>\n",
       "      <td>21</td>\n",
       "      <td>14</td>\n",
       "    </tr>\n",
       "    <tr>\n",
       "      <th>2</th>\n",
       "      <td>1</td>\n",
       "      <td>2</td>\n",
       "      <td>1</td>\n",
       "    </tr>\n",
       "    <tr>\n",
       "      <th>3</th>\n",
       "      <td>4</td>\n",
       "      <td>5</td>\n",
       "      <td>16</td>\n",
       "    </tr>\n",
       "    <tr>\n",
       "      <th>4</th>\n",
       "      <td>22</td>\n",
       "      <td>18</td>\n",
       "      <td>23</td>\n",
       "    </tr>\n",
       "  </tbody>\n",
       "</table>\n",
       "</div>"
      ],
      "text/plain": [
       "   Deg_1  Deg_2  Farkli_Olan\n",
       "0      8     13            3\n",
       "1     13     21           14\n",
       "2      1      2            1\n",
       "3      4      5           16\n",
       "4     22     18           23"
      ]
     },
     "execution_count": 100,
     "metadata": {},
     "output_type": "execute_result"
    }
   ],
   "source": [
    "Data_Frame_5"
   ]
  },
  {
   "cell_type": "code",
   "execution_count": 101,
   "id": "77e2cccd",
   "metadata": {
    "execution": {
     "iopub.execute_input": "2022-04-23T14:50:14.351367Z",
     "iopub.status.busy": "2022-04-23T14:50:14.350691Z",
     "iopub.status.idle": "2022-04-23T14:50:14.358499Z",
     "shell.execute_reply": "2022-04-23T14:50:14.359235Z",
     "shell.execute_reply.started": "2022-04-23T13:40:42.442283Z"
    },
    "papermill": {
     "duration": 0.173167,
     "end_time": "2022-04-23T14:50:14.359439",
     "exception": false,
     "start_time": "2022-04-23T14:50:14.186272",
     "status": "completed"
    },
    "tags": []
   },
   "outputs": [
    {
     "data": {
      "text/html": [
       "<div>\n",
       "<style scoped>\n",
       "    .dataframe tbody tr th:only-of-type {\n",
       "        vertical-align: middle;\n",
       "    }\n",
       "\n",
       "    .dataframe tbody tr th {\n",
       "        vertical-align: top;\n",
       "    }\n",
       "\n",
       "    .dataframe thead th {\n",
       "        text-align: right;\n",
       "    }\n",
       "</style>\n",
       "<table border=\"1\" class=\"dataframe\">\n",
       "  <thead>\n",
       "    <tr style=\"text-align: right;\">\n",
       "      <th></th>\n",
       "      <th>Deg_1</th>\n",
       "      <th>Deg_2</th>\n",
       "      <th>Deg_3</th>\n",
       "    </tr>\n",
       "  </thead>\n",
       "  <tbody>\n",
       "    <tr>\n",
       "      <th>0</th>\n",
       "      <td>108</td>\n",
       "      <td>113</td>\n",
       "      <td>103</td>\n",
       "    </tr>\n",
       "    <tr>\n",
       "      <th>1</th>\n",
       "      <td>113</td>\n",
       "      <td>121</td>\n",
       "      <td>114</td>\n",
       "    </tr>\n",
       "    <tr>\n",
       "      <th>2</th>\n",
       "      <td>101</td>\n",
       "      <td>102</td>\n",
       "      <td>101</td>\n",
       "    </tr>\n",
       "    <tr>\n",
       "      <th>3</th>\n",
       "      <td>104</td>\n",
       "      <td>105</td>\n",
       "      <td>116</td>\n",
       "    </tr>\n",
       "    <tr>\n",
       "      <th>4</th>\n",
       "      <td>122</td>\n",
       "      <td>118</td>\n",
       "      <td>123</td>\n",
       "    </tr>\n",
       "  </tbody>\n",
       "</table>\n",
       "</div>"
      ],
      "text/plain": [
       "   Deg_1  Deg_2  Deg_3\n",
       "0    108    113    103\n",
       "1    113    121    114\n",
       "2    101    102    101\n",
       "3    104    105    116\n",
       "4    122    118    123"
      ]
     },
     "execution_count": 101,
     "metadata": {},
     "output_type": "execute_result"
    }
   ],
   "source": [
    "Data_Frame_6"
   ]
  },
  {
   "cell_type": "code",
   "execution_count": 102,
   "id": "4ddbc89d",
   "metadata": {
    "execution": {
     "iopub.execute_input": "2022-04-23T14:50:14.676192Z",
     "iopub.status.busy": "2022-04-23T14:50:14.675510Z",
     "iopub.status.idle": "2022-04-23T14:50:14.688636Z",
     "shell.execute_reply": "2022-04-23T14:50:14.689240Z",
     "shell.execute_reply.started": "2022-04-23T13:40:42.495634Z"
    },
    "papermill": {
     "duration": 0.174423,
     "end_time": "2022-04-23T14:50:14.689415",
     "exception": false,
     "start_time": "2022-04-23T14:50:14.514992",
     "status": "completed"
    },
    "tags": []
   },
   "outputs": [
    {
     "data": {
      "text/html": [
       "<div>\n",
       "<style scoped>\n",
       "    .dataframe tbody tr th:only-of-type {\n",
       "        vertical-align: middle;\n",
       "    }\n",
       "\n",
       "    .dataframe tbody tr th {\n",
       "        vertical-align: top;\n",
       "    }\n",
       "\n",
       "    .dataframe thead th {\n",
       "        text-align: right;\n",
       "    }\n",
       "</style>\n",
       "<table border=\"1\" class=\"dataframe\">\n",
       "  <thead>\n",
       "    <tr style=\"text-align: right;\">\n",
       "      <th></th>\n",
       "      <th>Deg_1</th>\n",
       "      <th>Deg_2</th>\n",
       "      <th>Farkli_Olan</th>\n",
       "      <th>Deg_3</th>\n",
       "    </tr>\n",
       "  </thead>\n",
       "  <tbody>\n",
       "    <tr>\n",
       "      <th>0</th>\n",
       "      <td>8</td>\n",
       "      <td>13</td>\n",
       "      <td>3.0</td>\n",
       "      <td>NaN</td>\n",
       "    </tr>\n",
       "    <tr>\n",
       "      <th>1</th>\n",
       "      <td>13</td>\n",
       "      <td>21</td>\n",
       "      <td>14.0</td>\n",
       "      <td>NaN</td>\n",
       "    </tr>\n",
       "    <tr>\n",
       "      <th>2</th>\n",
       "      <td>1</td>\n",
       "      <td>2</td>\n",
       "      <td>1.0</td>\n",
       "      <td>NaN</td>\n",
       "    </tr>\n",
       "    <tr>\n",
       "      <th>3</th>\n",
       "      <td>4</td>\n",
       "      <td>5</td>\n",
       "      <td>16.0</td>\n",
       "      <td>NaN</td>\n",
       "    </tr>\n",
       "    <tr>\n",
       "      <th>4</th>\n",
       "      <td>22</td>\n",
       "      <td>18</td>\n",
       "      <td>23.0</td>\n",
       "      <td>NaN</td>\n",
       "    </tr>\n",
       "    <tr>\n",
       "      <th>0</th>\n",
       "      <td>108</td>\n",
       "      <td>113</td>\n",
       "      <td>NaN</td>\n",
       "      <td>103.0</td>\n",
       "    </tr>\n",
       "    <tr>\n",
       "      <th>1</th>\n",
       "      <td>113</td>\n",
       "      <td>121</td>\n",
       "      <td>NaN</td>\n",
       "      <td>114.0</td>\n",
       "    </tr>\n",
       "    <tr>\n",
       "      <th>2</th>\n",
       "      <td>101</td>\n",
       "      <td>102</td>\n",
       "      <td>NaN</td>\n",
       "      <td>101.0</td>\n",
       "    </tr>\n",
       "    <tr>\n",
       "      <th>3</th>\n",
       "      <td>104</td>\n",
       "      <td>105</td>\n",
       "      <td>NaN</td>\n",
       "      <td>116.0</td>\n",
       "    </tr>\n",
       "    <tr>\n",
       "      <th>4</th>\n",
       "      <td>122</td>\n",
       "      <td>118</td>\n",
       "      <td>NaN</td>\n",
       "      <td>123.0</td>\n",
       "    </tr>\n",
       "  </tbody>\n",
       "</table>\n",
       "</div>"
      ],
      "text/plain": [
       "   Deg_1  Deg_2  Farkli_Olan  Deg_3\n",
       "0      8     13          3.0    NaN\n",
       "1     13     21         14.0    NaN\n",
       "2      1      2          1.0    NaN\n",
       "3      4      5         16.0    NaN\n",
       "4     22     18         23.0    NaN\n",
       "0    108    113          NaN  103.0\n",
       "1    113    121          NaN  114.0\n",
       "2    101    102          NaN  101.0\n",
       "3    104    105          NaN  116.0\n",
       "4    122    118          NaN  123.0"
      ]
     },
     "execution_count": 102,
     "metadata": {},
     "output_type": "execute_result"
    }
   ],
   "source": [
    "# Simdi Yeinden Birlestirme Islemi Yapmayi Deneyelim\n",
    "\n",
    "pd.concat([Data_Frame_5, Data_Frame_6]) # Degisken Isimleri Ayni Olmadigi Icin \"NaN\" Degeri Dondurdu ( PEKI BU SIKINTIYI NASIL COZUCEZ ?) (ASAGIYA BAK)"
   ]
  },
  {
   "cell_type": "code",
   "execution_count": 103,
   "id": "d8a44a3a",
   "metadata": {
    "execution": {
     "iopub.execute_input": "2022-04-23T14:50:15.004707Z",
     "iopub.status.busy": "2022-04-23T14:50:15.004024Z",
     "iopub.status.idle": "2022-04-23T14:50:15.020160Z",
     "shell.execute_reply": "2022-04-23T14:50:15.020709Z",
     "shell.execute_reply.started": "2022-04-23T13:40:42.581044Z"
    },
    "papermill": {
     "duration": 0.176398,
     "end_time": "2022-04-23T14:50:15.020878",
     "exception": false,
     "start_time": "2022-04-23T14:50:14.844480",
     "status": "completed"
    },
    "tags": []
   },
   "outputs": [
    {
     "data": {
      "text/html": [
       "<div>\n",
       "<style scoped>\n",
       "    .dataframe tbody tr th:only-of-type {\n",
       "        vertical-align: middle;\n",
       "    }\n",
       "\n",
       "    .dataframe tbody tr th {\n",
       "        vertical-align: top;\n",
       "    }\n",
       "\n",
       "    .dataframe thead th {\n",
       "        text-align: right;\n",
       "    }\n",
       "</style>\n",
       "<table border=\"1\" class=\"dataframe\">\n",
       "  <thead>\n",
       "    <tr style=\"text-align: right;\">\n",
       "      <th></th>\n",
       "      <th>Deg_1</th>\n",
       "      <th>Deg_2</th>\n",
       "    </tr>\n",
       "  </thead>\n",
       "  <tbody>\n",
       "    <tr>\n",
       "      <th>0</th>\n",
       "      <td>8</td>\n",
       "      <td>13</td>\n",
       "    </tr>\n",
       "    <tr>\n",
       "      <th>1</th>\n",
       "      <td>13</td>\n",
       "      <td>21</td>\n",
       "    </tr>\n",
       "    <tr>\n",
       "      <th>2</th>\n",
       "      <td>1</td>\n",
       "      <td>2</td>\n",
       "    </tr>\n",
       "    <tr>\n",
       "      <th>3</th>\n",
       "      <td>4</td>\n",
       "      <td>5</td>\n",
       "    </tr>\n",
       "    <tr>\n",
       "      <th>4</th>\n",
       "      <td>22</td>\n",
       "      <td>18</td>\n",
       "    </tr>\n",
       "    <tr>\n",
       "      <th>0</th>\n",
       "      <td>108</td>\n",
       "      <td>113</td>\n",
       "    </tr>\n",
       "    <tr>\n",
       "      <th>1</th>\n",
       "      <td>113</td>\n",
       "      <td>121</td>\n",
       "    </tr>\n",
       "    <tr>\n",
       "      <th>2</th>\n",
       "      <td>101</td>\n",
       "      <td>102</td>\n",
       "    </tr>\n",
       "    <tr>\n",
       "      <th>3</th>\n",
       "      <td>104</td>\n",
       "      <td>105</td>\n",
       "    </tr>\n",
       "    <tr>\n",
       "      <th>4</th>\n",
       "      <td>122</td>\n",
       "      <td>118</td>\n",
       "    </tr>\n",
       "  </tbody>\n",
       "</table>\n",
       "</div>"
      ],
      "text/plain": [
       "   Deg_1  Deg_2\n",
       "0      8     13\n",
       "1     13     21\n",
       "2      1      2\n",
       "3      4      5\n",
       "4     22     18\n",
       "0    108    113\n",
       "1    113    121\n",
       "2    101    102\n",
       "3    104    105\n",
       "4    122    118"
      ]
     },
     "execution_count": 103,
     "metadata": {},
     "output_type": "execute_result"
    }
   ],
   "source": [
    "pd.concat([Data_Frame_5, Data_Frame_6], join = \"inner\") # peki Bu        join = \"inner\"     Ifadesi Ne Yapti? --------->> Iki Ifadenin \"Kesisimlerini\" Aldi."
   ]
  },
  {
   "cell_type": "code",
   "execution_count": 104,
   "id": "0cd39bc1",
   "metadata": {
    "execution": {
     "iopub.execute_input": "2022-04-23T14:50:15.347839Z",
     "iopub.status.busy": "2022-04-23T14:50:15.346884Z",
     "iopub.status.idle": "2022-04-23T14:50:15.357580Z",
     "shell.execute_reply": "2022-04-23T14:50:15.358165Z",
     "shell.execute_reply.started": "2022-04-23T13:40:42.696079Z"
    },
    "papermill": {
     "duration": 0.174697,
     "end_time": "2022-04-23T14:50:15.358352",
     "exception": false,
     "start_time": "2022-04-23T14:50:15.183655",
     "status": "completed"
    },
    "tags": []
   },
   "outputs": [
    {
     "data": {
      "text/html": [
       "<div>\n",
       "<style scoped>\n",
       "    .dataframe tbody tr th:only-of-type {\n",
       "        vertical-align: middle;\n",
       "    }\n",
       "\n",
       "    .dataframe tbody tr th {\n",
       "        vertical-align: top;\n",
       "    }\n",
       "\n",
       "    .dataframe thead th {\n",
       "        text-align: right;\n",
       "    }\n",
       "</style>\n",
       "<table border=\"1\" class=\"dataframe\">\n",
       "  <thead>\n",
       "    <tr style=\"text-align: right;\">\n",
       "      <th></th>\n",
       "      <th>Deg_1</th>\n",
       "      <th>Deg_2</th>\n",
       "    </tr>\n",
       "  </thead>\n",
       "  <tbody>\n",
       "    <tr>\n",
       "      <th>0</th>\n",
       "      <td>8</td>\n",
       "      <td>13</td>\n",
       "    </tr>\n",
       "    <tr>\n",
       "      <th>1</th>\n",
       "      <td>13</td>\n",
       "      <td>21</td>\n",
       "    </tr>\n",
       "    <tr>\n",
       "      <th>2</th>\n",
       "      <td>1</td>\n",
       "      <td>2</td>\n",
       "    </tr>\n",
       "    <tr>\n",
       "      <th>3</th>\n",
       "      <td>4</td>\n",
       "      <td>5</td>\n",
       "    </tr>\n",
       "    <tr>\n",
       "      <th>4</th>\n",
       "      <td>22</td>\n",
       "      <td>18</td>\n",
       "    </tr>\n",
       "    <tr>\n",
       "      <th>5</th>\n",
       "      <td>108</td>\n",
       "      <td>113</td>\n",
       "    </tr>\n",
       "    <tr>\n",
       "      <th>6</th>\n",
       "      <td>113</td>\n",
       "      <td>121</td>\n",
       "    </tr>\n",
       "    <tr>\n",
       "      <th>7</th>\n",
       "      <td>101</td>\n",
       "      <td>102</td>\n",
       "    </tr>\n",
       "    <tr>\n",
       "      <th>8</th>\n",
       "      <td>104</td>\n",
       "      <td>105</td>\n",
       "    </tr>\n",
       "    <tr>\n",
       "      <th>9</th>\n",
       "      <td>122</td>\n",
       "      <td>118</td>\n",
       "    </tr>\n",
       "  </tbody>\n",
       "</table>\n",
       "</div>"
      ],
      "text/plain": [
       "   Deg_1  Deg_2\n",
       "0      8     13\n",
       "1     13     21\n",
       "2      1      2\n",
       "3      4      5\n",
       "4     22     18\n",
       "5    108    113\n",
       "6    113    121\n",
       "7    101    102\n",
       "8    104    105\n",
       "9    122    118"
      ]
     },
     "execution_count": 104,
     "metadata": {},
     "output_type": "execute_result"
    }
   ],
   "source": [
    "pd.concat([Data_Frame_5, Data_Frame_6], join = \"inner\", ignore_index = True) # Index nolari duzelticem"
   ]
  },
  {
   "cell_type": "code",
   "execution_count": 105,
   "id": "619b6bf5",
   "metadata": {
    "execution": {
     "iopub.execute_input": "2022-04-23T14:50:15.680627Z",
     "iopub.status.busy": "2022-04-23T14:50:15.679598Z",
     "iopub.status.idle": "2022-04-23T14:50:15.688317Z",
     "shell.execute_reply": "2022-04-23T14:50:15.688863Z",
     "shell.execute_reply.started": "2022-04-23T13:40:42.766080Z"
    },
    "papermill": {
     "duration": 0.169136,
     "end_time": "2022-04-23T14:50:15.689035",
     "exception": false,
     "start_time": "2022-04-23T14:50:15.519899",
     "status": "completed"
    },
    "tags": []
   },
   "outputs": [
    {
     "data": {
      "text/html": [
       "<div>\n",
       "<style scoped>\n",
       "    .dataframe tbody tr th:only-of-type {\n",
       "        vertical-align: middle;\n",
       "    }\n",
       "\n",
       "    .dataframe tbody tr th {\n",
       "        vertical-align: top;\n",
       "    }\n",
       "\n",
       "    .dataframe thead th {\n",
       "        text-align: right;\n",
       "    }\n",
       "</style>\n",
       "<table border=\"1\" class=\"dataframe\">\n",
       "  <thead>\n",
       "    <tr style=\"text-align: right;\">\n",
       "      <th></th>\n",
       "      <th>Deg_1</th>\n",
       "      <th>Deg_2</th>\n",
       "      <th>Farkli_Olan</th>\n",
       "    </tr>\n",
       "  </thead>\n",
       "  <tbody>\n",
       "    <tr>\n",
       "      <th>0</th>\n",
       "      <td>8</td>\n",
       "      <td>13</td>\n",
       "      <td>3</td>\n",
       "    </tr>\n",
       "    <tr>\n",
       "      <th>1</th>\n",
       "      <td>13</td>\n",
       "      <td>21</td>\n",
       "      <td>14</td>\n",
       "    </tr>\n",
       "    <tr>\n",
       "      <th>2</th>\n",
       "      <td>1</td>\n",
       "      <td>2</td>\n",
       "      <td>1</td>\n",
       "    </tr>\n",
       "    <tr>\n",
       "      <th>3</th>\n",
       "      <td>4</td>\n",
       "      <td>5</td>\n",
       "      <td>16</td>\n",
       "    </tr>\n",
       "    <tr>\n",
       "      <th>4</th>\n",
       "      <td>22</td>\n",
       "      <td>18</td>\n",
       "      <td>23</td>\n",
       "    </tr>\n",
       "  </tbody>\n",
       "</table>\n",
       "</div>"
      ],
      "text/plain": [
       "   Deg_1  Deg_2  Farkli_Olan\n",
       "0      8     13            3\n",
       "1     13     21           14\n",
       "2      1      2            1\n",
       "3      4      5           16\n",
       "4     22     18           23"
      ]
     },
     "execution_count": 105,
     "metadata": {},
     "output_type": "execute_result"
    }
   ],
   "source": [
    "Data_Frame_5"
   ]
  },
  {
   "cell_type": "code",
   "execution_count": 106,
   "id": "c89d0096",
   "metadata": {
    "execution": {
     "iopub.execute_input": "2022-04-23T14:50:16.021955Z",
     "iopub.status.busy": "2022-04-23T14:50:16.021164Z",
     "iopub.status.idle": "2022-04-23T14:50:16.024627Z",
     "shell.execute_reply": "2022-04-23T14:50:16.025120Z",
     "shell.execute_reply.started": "2022-04-23T13:40:42.792903Z"
    },
    "papermill": {
     "duration": 0.17898,
     "end_time": "2022-04-23T14:50:16.025299",
     "exception": false,
     "start_time": "2022-04-23T14:50:15.846319",
     "status": "completed"
    },
    "tags": []
   },
   "outputs": [
    {
     "data": {
      "text/html": [
       "<div>\n",
       "<style scoped>\n",
       "    .dataframe tbody tr th:only-of-type {\n",
       "        vertical-align: middle;\n",
       "    }\n",
       "\n",
       "    .dataframe tbody tr th {\n",
       "        vertical-align: top;\n",
       "    }\n",
       "\n",
       "    .dataframe thead th {\n",
       "        text-align: right;\n",
       "    }\n",
       "</style>\n",
       "<table border=\"1\" class=\"dataframe\">\n",
       "  <thead>\n",
       "    <tr style=\"text-align: right;\">\n",
       "      <th></th>\n",
       "      <th>Deg_1</th>\n",
       "      <th>Deg_2</th>\n",
       "      <th>Deg_3</th>\n",
       "    </tr>\n",
       "  </thead>\n",
       "  <tbody>\n",
       "    <tr>\n",
       "      <th>0</th>\n",
       "      <td>108</td>\n",
       "      <td>113</td>\n",
       "      <td>103</td>\n",
       "    </tr>\n",
       "    <tr>\n",
       "      <th>1</th>\n",
       "      <td>113</td>\n",
       "      <td>121</td>\n",
       "      <td>114</td>\n",
       "    </tr>\n",
       "    <tr>\n",
       "      <th>2</th>\n",
       "      <td>101</td>\n",
       "      <td>102</td>\n",
       "      <td>101</td>\n",
       "    </tr>\n",
       "    <tr>\n",
       "      <th>3</th>\n",
       "      <td>104</td>\n",
       "      <td>105</td>\n",
       "      <td>116</td>\n",
       "    </tr>\n",
       "    <tr>\n",
       "      <th>4</th>\n",
       "      <td>122</td>\n",
       "      <td>118</td>\n",
       "      <td>123</td>\n",
       "    </tr>\n",
       "  </tbody>\n",
       "</table>\n",
       "</div>"
      ],
      "text/plain": [
       "   Deg_1  Deg_2  Deg_3\n",
       "0    108    113    103\n",
       "1    113    121    114\n",
       "2    101    102    101\n",
       "3    104    105    116\n",
       "4    122    118    123"
      ]
     },
     "execution_count": 106,
     "metadata": {},
     "output_type": "execute_result"
    }
   ],
   "source": [
    "Data_Frame_6"
   ]
  },
  {
   "cell_type": "code",
   "execution_count": 107,
   "id": "844a4655",
   "metadata": {
    "execution": {
     "iopub.execute_input": "2022-04-23T14:50:16.353828Z",
     "iopub.status.busy": "2022-04-23T14:50:16.352802Z",
     "iopub.status.idle": "2022-04-23T14:50:16.355469Z",
     "shell.execute_reply": "2022-04-23T14:50:16.354838Z",
     "shell.execute_reply.started": "2022-04-23T14:08:28.679032Z"
    },
    "papermill": {
     "duration": 0.168597,
     "end_time": "2022-04-23T14:50:16.355611",
     "exception": false,
     "start_time": "2022-04-23T14:50:16.187014",
     "status": "completed"
    },
    "tags": []
   },
   "outputs": [],
   "source": [
    "# Birlestirme Isleminde Farkli Bir Islem Yapicaz Simdi\n",
    "\n",
    "# pd.concat([Data_Frame_5, Data_Frame_6], join_axes = [Data_Frame_6.columns])\n",
    "\n",
    "# join_axes IFADESINI BULAMADIGINI SOYLUYOR BOYLE BIR FONKSIYON YOK DIYOR, ADAM VIDEODA YAPIYO BURADA YAPAMADIM\n",
    "# jupyter notebook ta da denedim calismadi"
   ]
  },
  {
   "cell_type": "code",
   "execution_count": 108,
   "id": "d3bdbd8d",
   "metadata": {
    "execution": {
     "iopub.execute_input": "2022-04-23T14:50:16.709321Z",
     "iopub.status.busy": "2022-04-23T14:50:16.708337Z",
     "iopub.status.idle": "2022-04-23T14:50:16.711688Z",
     "shell.execute_reply": "2022-04-23T14:50:16.712237Z",
     "shell.execute_reply.started": "2022-04-23T14:25:13.689230Z"
    },
    "papermill": {
     "duration": 0.191148,
     "end_time": "2022-04-23T14:50:16.712408",
     "exception": false,
     "start_time": "2022-04-23T14:50:16.521260",
     "status": "completed"
    },
    "tags": []
   },
   "outputs": [],
   "source": [
    "# Ileri Seviye Birlestirme Islemleri"
   ]
  },
  {
   "cell_type": "code",
   "execution_count": 109,
   "id": "027997fd",
   "metadata": {
    "execution": {
     "iopub.execute_input": "2022-04-23T14:50:17.037639Z",
     "iopub.status.busy": "2022-04-23T14:50:17.036629Z",
     "iopub.status.idle": "2022-04-23T14:50:17.048255Z",
     "shell.execute_reply": "2022-04-23T14:50:17.047744Z",
     "shell.execute_reply.started": "2022-04-23T14:27:45.571622Z"
    },
    "papermill": {
     "duration": 0.177039,
     "end_time": "2022-04-23T14:50:17.048403",
     "exception": false,
     "start_time": "2022-04-23T14:50:16.871364",
     "status": "completed"
    },
    "tags": []
   },
   "outputs": [
    {
     "data": {
      "text/html": [
       "<div>\n",
       "<style scoped>\n",
       "    .dataframe tbody tr th:only-of-type {\n",
       "        vertical-align: middle;\n",
       "    }\n",
       "\n",
       "    .dataframe tbody tr th {\n",
       "        vertical-align: top;\n",
       "    }\n",
       "\n",
       "    .dataframe thead th {\n",
       "        text-align: right;\n",
       "    }\n",
       "</style>\n",
       "<table border=\"1\" class=\"dataframe\">\n",
       "  <thead>\n",
       "    <tr style=\"text-align: right;\">\n",
       "      <th></th>\n",
       "      <th>Calisanlar</th>\n",
       "      <th>Grup</th>\n",
       "    </tr>\n",
       "  </thead>\n",
       "  <tbody>\n",
       "    <tr>\n",
       "      <th>0</th>\n",
       "      <td>Ali</td>\n",
       "      <td>Muhasebe</td>\n",
       "    </tr>\n",
       "    <tr>\n",
       "      <th>1</th>\n",
       "      <td>Veli</td>\n",
       "      <td>Muhendislik</td>\n",
       "    </tr>\n",
       "    <tr>\n",
       "      <th>2</th>\n",
       "      <td>Ayse</td>\n",
       "      <td>Muhendislik</td>\n",
       "    </tr>\n",
       "    <tr>\n",
       "      <th>3</th>\n",
       "      <td>Fatma</td>\n",
       "      <td>Ik</td>\n",
       "    </tr>\n",
       "  </tbody>\n",
       "</table>\n",
       "</div>"
      ],
      "text/plain": [
       "  Calisanlar         Grup\n",
       "0        Ali     Muhasebe\n",
       "1       Veli  Muhendislik\n",
       "2       Ayse  Muhendislik\n",
       "3      Fatma           Ik"
      ]
     },
     "execution_count": 109,
     "metadata": {},
     "output_type": "execute_result"
    }
   ],
   "source": [
    "df1 = pd.DataFrame({\"Calisanlar\": [\"Ali\", \"Veli\", \"Ayse\", \"Fatma\"],\n",
    "                    \"Grup\": [\"Muhasebe\", \"Muhendislik\", \"Muhendislik\",\"Ik\"]})\n",
    "\n",
    "df1"
   ]
  },
  {
   "cell_type": "code",
   "execution_count": 110,
   "id": "addec270",
   "metadata": {
    "execution": {
     "iopub.execute_input": "2022-04-23T14:50:17.372194Z",
     "iopub.status.busy": "2022-04-23T14:50:17.371505Z",
     "iopub.status.idle": "2022-04-23T14:50:17.380580Z",
     "shell.execute_reply": "2022-04-23T14:50:17.381154Z",
     "shell.execute_reply.started": "2022-04-23T14:27:46.426395Z"
    },
    "papermill": {
     "duration": 0.171416,
     "end_time": "2022-04-23T14:50:17.381331",
     "exception": false,
     "start_time": "2022-04-23T14:50:17.209915",
     "status": "completed"
    },
    "tags": []
   },
   "outputs": [
    {
     "data": {
      "text/html": [
       "<div>\n",
       "<style scoped>\n",
       "    .dataframe tbody tr th:only-of-type {\n",
       "        vertical-align: middle;\n",
       "    }\n",
       "\n",
       "    .dataframe tbody tr th {\n",
       "        vertical-align: top;\n",
       "    }\n",
       "\n",
       "    .dataframe thead th {\n",
       "        text-align: right;\n",
       "    }\n",
       "</style>\n",
       "<table border=\"1\" class=\"dataframe\">\n",
       "  <thead>\n",
       "    <tr style=\"text-align: right;\">\n",
       "      <th></th>\n",
       "      <th>Calisanlar</th>\n",
       "      <th>Ilk_Giris</th>\n",
       "    </tr>\n",
       "  </thead>\n",
       "  <tbody>\n",
       "    <tr>\n",
       "      <th>0</th>\n",
       "      <td>Ali</td>\n",
       "      <td>2010</td>\n",
       "    </tr>\n",
       "    <tr>\n",
       "      <th>1</th>\n",
       "      <td>Veli</td>\n",
       "      <td>2009</td>\n",
       "    </tr>\n",
       "    <tr>\n",
       "      <th>2</th>\n",
       "      <td>Ayse</td>\n",
       "      <td>2014</td>\n",
       "    </tr>\n",
       "    <tr>\n",
       "      <th>3</th>\n",
       "      <td>Fatma</td>\n",
       "      <td>2019</td>\n",
       "    </tr>\n",
       "  </tbody>\n",
       "</table>\n",
       "</div>"
      ],
      "text/plain": [
       "  Calisanlar  Ilk_Giris\n",
       "0        Ali       2010\n",
       "1       Veli       2009\n",
       "2       Ayse       2014\n",
       "3      Fatma       2019"
      ]
     },
     "execution_count": 110,
     "metadata": {},
     "output_type": "execute_result"
    }
   ],
   "source": [
    "df2 = pd.DataFrame({\"Calisanlar\": [\"Ali\", \"Veli\", \"Ayse\", \"Fatma\"],\n",
    "                    \"Ilk_Giris\": [2010, 2009, 2014, 2019]})\n",
    "\n",
    "df2"
   ]
  },
  {
   "cell_type": "code",
   "execution_count": 111,
   "id": "346530b7",
   "metadata": {
    "execution": {
     "iopub.execute_input": "2022-04-23T14:50:17.705838Z",
     "iopub.status.busy": "2022-04-23T14:50:17.705229Z",
     "iopub.status.idle": "2022-04-23T14:50:17.720212Z",
     "shell.execute_reply": "2022-04-23T14:50:17.720742Z",
     "shell.execute_reply.started": "2022-04-23T14:27:47.569839Z"
    },
    "papermill": {
     "duration": 0.179565,
     "end_time": "2022-04-23T14:50:17.720915",
     "exception": false,
     "start_time": "2022-04-23T14:50:17.541350",
     "status": "completed"
    },
    "tags": []
   },
   "outputs": [
    {
     "data": {
      "text/html": [
       "<div>\n",
       "<style scoped>\n",
       "    .dataframe tbody tr th:only-of-type {\n",
       "        vertical-align: middle;\n",
       "    }\n",
       "\n",
       "    .dataframe tbody tr th {\n",
       "        vertical-align: top;\n",
       "    }\n",
       "\n",
       "    .dataframe thead th {\n",
       "        text-align: right;\n",
       "    }\n",
       "</style>\n",
       "<table border=\"1\" class=\"dataframe\">\n",
       "  <thead>\n",
       "    <tr style=\"text-align: right;\">\n",
       "      <th></th>\n",
       "      <th>Calisanlar</th>\n",
       "      <th>Grup</th>\n",
       "      <th>Ilk_Giris</th>\n",
       "    </tr>\n",
       "  </thead>\n",
       "  <tbody>\n",
       "    <tr>\n",
       "      <th>0</th>\n",
       "      <td>Ali</td>\n",
       "      <td>Muhasebe</td>\n",
       "      <td>2010</td>\n",
       "    </tr>\n",
       "    <tr>\n",
       "      <th>1</th>\n",
       "      <td>Veli</td>\n",
       "      <td>Muhendislik</td>\n",
       "      <td>2009</td>\n",
       "    </tr>\n",
       "    <tr>\n",
       "      <th>2</th>\n",
       "      <td>Ayse</td>\n",
       "      <td>Muhendislik</td>\n",
       "      <td>2014</td>\n",
       "    </tr>\n",
       "    <tr>\n",
       "      <th>3</th>\n",
       "      <td>Fatma</td>\n",
       "      <td>Ik</td>\n",
       "      <td>2019</td>\n",
       "    </tr>\n",
       "  </tbody>\n",
       "</table>\n",
       "</div>"
      ],
      "text/plain": [
       "  Calisanlar         Grup  Ilk_Giris\n",
       "0        Ali     Muhasebe       2010\n",
       "1       Veli  Muhendislik       2009\n",
       "2       Ayse  Muhendislik       2014\n",
       "3      Fatma           Ik       2019"
      ]
     },
     "execution_count": 111,
     "metadata": {},
     "output_type": "execute_result"
    }
   ],
   "source": [
    "pd.merge(df1, df2) # Merge Fonksiyonu Birlestirmelerin Hangi Degiskene Gore Yapilacagini Kendisi Anliyor Fakat Kendimiz Istersek Te Belirtebiliriz."
   ]
  },
  {
   "cell_type": "code",
   "execution_count": 112,
   "id": "bfdbeb7f",
   "metadata": {
    "execution": {
     "iopub.execute_input": "2022-04-23T14:50:18.048261Z",
     "iopub.status.busy": "2022-04-23T14:50:18.047571Z",
     "iopub.status.idle": "2022-04-23T14:50:18.059337Z",
     "shell.execute_reply": "2022-04-23T14:50:18.059939Z",
     "shell.execute_reply.started": "2022-04-23T14:27:48.464430Z"
    },
    "papermill": {
     "duration": 0.178379,
     "end_time": "2022-04-23T14:50:18.060141",
     "exception": false,
     "start_time": "2022-04-23T14:50:17.881762",
     "status": "completed"
    },
    "tags": []
   },
   "outputs": [
    {
     "data": {
      "text/html": [
       "<div>\n",
       "<style scoped>\n",
       "    .dataframe tbody tr th:only-of-type {\n",
       "        vertical-align: middle;\n",
       "    }\n",
       "\n",
       "    .dataframe tbody tr th {\n",
       "        vertical-align: top;\n",
       "    }\n",
       "\n",
       "    .dataframe thead th {\n",
       "        text-align: right;\n",
       "    }\n",
       "</style>\n",
       "<table border=\"1\" class=\"dataframe\">\n",
       "  <thead>\n",
       "    <tr style=\"text-align: right;\">\n",
       "      <th></th>\n",
       "      <th>Calisanlar</th>\n",
       "      <th>Grup</th>\n",
       "      <th>Ilk_Giris</th>\n",
       "    </tr>\n",
       "  </thead>\n",
       "  <tbody>\n",
       "    <tr>\n",
       "      <th>0</th>\n",
       "      <td>Ali</td>\n",
       "      <td>Muhasebe</td>\n",
       "      <td>2010</td>\n",
       "    </tr>\n",
       "    <tr>\n",
       "      <th>1</th>\n",
       "      <td>Veli</td>\n",
       "      <td>Muhendislik</td>\n",
       "      <td>2009</td>\n",
       "    </tr>\n",
       "    <tr>\n",
       "      <th>2</th>\n",
       "      <td>Ayse</td>\n",
       "      <td>Muhendislik</td>\n",
       "      <td>2014</td>\n",
       "    </tr>\n",
       "    <tr>\n",
       "      <th>3</th>\n",
       "      <td>Fatma</td>\n",
       "      <td>Ik</td>\n",
       "      <td>2019</td>\n",
       "    </tr>\n",
       "  </tbody>\n",
       "</table>\n",
       "</div>"
      ],
      "text/plain": [
       "  Calisanlar         Grup  Ilk_Giris\n",
       "0        Ali     Muhasebe       2010\n",
       "1       Veli  Muhendislik       2009\n",
       "2       Ayse  Muhendislik       2014\n",
       "3      Fatma           Ik       2019"
      ]
     },
     "execution_count": 112,
     "metadata": {},
     "output_type": "execute_result"
    }
   ],
   "source": [
    "pd.merge(df1, df2, on = \"Calisanlar\") # Calisanlar Uzerinde Birlestirme Yapmasini Soyledik"
   ]
  },
  {
   "cell_type": "code",
   "execution_count": 113,
   "id": "0e0e7a0e",
   "metadata": {
    "execution": {
     "iopub.execute_input": "2022-04-23T14:50:18.388665Z",
     "iopub.status.busy": "2022-04-23T14:50:18.387995Z",
     "iopub.status.idle": "2022-04-23T14:50:18.400140Z",
     "shell.execute_reply": "2022-04-23T14:50:18.400646Z",
     "shell.execute_reply.started": "2022-04-23T14:27:49.542684Z"
    },
    "papermill": {
     "duration": 0.174788,
     "end_time": "2022-04-23T14:50:18.400820",
     "exception": false,
     "start_time": "2022-04-23T14:50:18.226032",
     "status": "completed"
    },
    "tags": []
   },
   "outputs": [
    {
     "data": {
      "text/html": [
       "<div>\n",
       "<style scoped>\n",
       "    .dataframe tbody tr th:only-of-type {\n",
       "        vertical-align: middle;\n",
       "    }\n",
       "\n",
       "    .dataframe tbody tr th {\n",
       "        vertical-align: top;\n",
       "    }\n",
       "\n",
       "    .dataframe thead th {\n",
       "        text-align: right;\n",
       "    }\n",
       "</style>\n",
       "<table border=\"1\" class=\"dataframe\">\n",
       "  <thead>\n",
       "    <tr style=\"text-align: right;\">\n",
       "      <th></th>\n",
       "      <th>Calisanlar</th>\n",
       "      <th>Grup</th>\n",
       "      <th>Ilk_Giris</th>\n",
       "    </tr>\n",
       "  </thead>\n",
       "  <tbody>\n",
       "    <tr>\n",
       "      <th>0</th>\n",
       "      <td>Ali</td>\n",
       "      <td>Muhasebe</td>\n",
       "      <td>2010</td>\n",
       "    </tr>\n",
       "    <tr>\n",
       "      <th>1</th>\n",
       "      <td>Veli</td>\n",
       "      <td>Muhendislik</td>\n",
       "      <td>2009</td>\n",
       "    </tr>\n",
       "    <tr>\n",
       "      <th>2</th>\n",
       "      <td>Ayse</td>\n",
       "      <td>Muhendislik</td>\n",
       "      <td>2014</td>\n",
       "    </tr>\n",
       "    <tr>\n",
       "      <th>3</th>\n",
       "      <td>Fatma</td>\n",
       "      <td>Ik</td>\n",
       "      <td>2019</td>\n",
       "    </tr>\n",
       "  </tbody>\n",
       "</table>\n",
       "</div>"
      ],
      "text/plain": [
       "  Calisanlar         Grup  Ilk_Giris\n",
       "0        Ali     Muhasebe       2010\n",
       "1       Veli  Muhendislik       2009\n",
       "2       Ayse  Muhendislik       2014\n",
       "3      Fatma           Ik       2019"
      ]
     },
     "execution_count": 113,
     "metadata": {},
     "output_type": "execute_result"
    }
   ],
   "source": [
    "df3 = pd.merge(df1, df2)\n",
    "\n",
    "df3"
   ]
  },
  {
   "cell_type": "code",
   "execution_count": 114,
   "id": "ee7a0b61",
   "metadata": {
    "execution": {
     "iopub.execute_input": "2022-04-23T14:50:18.731396Z",
     "iopub.status.busy": "2022-04-23T14:50:18.730721Z",
     "iopub.status.idle": "2022-04-23T14:50:18.740436Z",
     "shell.execute_reply": "2022-04-23T14:50:18.740950Z",
     "shell.execute_reply.started": "2022-04-23T14:27:50.170805Z"
    },
    "papermill": {
     "duration": 0.174754,
     "end_time": "2022-04-23T14:50:18.741148",
     "exception": false,
     "start_time": "2022-04-23T14:50:18.566394",
     "status": "completed"
    },
    "tags": []
   },
   "outputs": [
    {
     "data": {
      "text/html": [
       "<div>\n",
       "<style scoped>\n",
       "    .dataframe tbody tr th:only-of-type {\n",
       "        vertical-align: middle;\n",
       "    }\n",
       "\n",
       "    .dataframe tbody tr th {\n",
       "        vertical-align: top;\n",
       "    }\n",
       "\n",
       "    .dataframe thead th {\n",
       "        text-align: right;\n",
       "    }\n",
       "</style>\n",
       "<table border=\"1\" class=\"dataframe\">\n",
       "  <thead>\n",
       "    <tr style=\"text-align: right;\">\n",
       "      <th></th>\n",
       "      <th>Grup</th>\n",
       "      <th>Mudur</th>\n",
       "    </tr>\n",
       "  </thead>\n",
       "  <tbody>\n",
       "    <tr>\n",
       "      <th>0</th>\n",
       "      <td>Muhasebe</td>\n",
       "      <td>Caner</td>\n",
       "    </tr>\n",
       "    <tr>\n",
       "      <th>1</th>\n",
       "      <td>Muhendislik</td>\n",
       "      <td>Mustafa</td>\n",
       "    </tr>\n",
       "    <tr>\n",
       "      <th>2</th>\n",
       "      <td>Ik</td>\n",
       "      <td>Berkcan</td>\n",
       "    </tr>\n",
       "  </tbody>\n",
       "</table>\n",
       "</div>"
      ],
      "text/plain": [
       "          Grup    Mudur\n",
       "0     Muhasebe    Caner\n",
       "1  Muhendislik  Mustafa\n",
       "2           Ik  Berkcan"
      ]
     },
     "execution_count": 114,
     "metadata": {},
     "output_type": "execute_result"
    }
   ],
   "source": [
    "df4 = pd.DataFrame({\"Grup\": [\"Muhasebe\", \"Muhendislik\",\"Ik\"],\n",
    "                    \"Mudur\": [\"Caner\", \"Mustafa\", \"Berkcan\"]})\n",
    "\n",
    "df4"
   ]
  },
  {
   "cell_type": "code",
   "execution_count": 115,
   "id": "5c19ead0",
   "metadata": {
    "execution": {
     "iopub.execute_input": "2022-04-23T14:50:19.081848Z",
     "iopub.status.busy": "2022-04-23T14:50:19.080934Z",
     "iopub.status.idle": "2022-04-23T14:50:19.092878Z",
     "shell.execute_reply": "2022-04-23T14:50:19.093420Z",
     "shell.execute_reply.started": "2022-04-23T14:27:51.986539Z"
    },
    "papermill": {
     "duration": 0.188482,
     "end_time": "2022-04-23T14:50:19.093618",
     "exception": false,
     "start_time": "2022-04-23T14:50:18.905136",
     "status": "completed"
    },
    "tags": []
   },
   "outputs": [
    {
     "data": {
      "text/html": [
       "<div>\n",
       "<style scoped>\n",
       "    .dataframe tbody tr th:only-of-type {\n",
       "        vertical-align: middle;\n",
       "    }\n",
       "\n",
       "    .dataframe tbody tr th {\n",
       "        vertical-align: top;\n",
       "    }\n",
       "\n",
       "    .dataframe thead th {\n",
       "        text-align: right;\n",
       "    }\n",
       "</style>\n",
       "<table border=\"1\" class=\"dataframe\">\n",
       "  <thead>\n",
       "    <tr style=\"text-align: right;\">\n",
       "      <th></th>\n",
       "      <th>Calisanlar</th>\n",
       "      <th>Grup</th>\n",
       "      <th>Ilk_Giris</th>\n",
       "      <th>Mudur</th>\n",
       "    </tr>\n",
       "  </thead>\n",
       "  <tbody>\n",
       "    <tr>\n",
       "      <th>0</th>\n",
       "      <td>Ali</td>\n",
       "      <td>Muhasebe</td>\n",
       "      <td>2010</td>\n",
       "      <td>Caner</td>\n",
       "    </tr>\n",
       "    <tr>\n",
       "      <th>1</th>\n",
       "      <td>Veli</td>\n",
       "      <td>Muhendislik</td>\n",
       "      <td>2009</td>\n",
       "      <td>Mustafa</td>\n",
       "    </tr>\n",
       "    <tr>\n",
       "      <th>2</th>\n",
       "      <td>Ayse</td>\n",
       "      <td>Muhendislik</td>\n",
       "      <td>2014</td>\n",
       "      <td>Mustafa</td>\n",
       "    </tr>\n",
       "    <tr>\n",
       "      <th>3</th>\n",
       "      <td>Fatma</td>\n",
       "      <td>Ik</td>\n",
       "      <td>2019</td>\n",
       "      <td>Berkcan</td>\n",
       "    </tr>\n",
       "  </tbody>\n",
       "</table>\n",
       "</div>"
      ],
      "text/plain": [
       "  Calisanlar         Grup  Ilk_Giris    Mudur\n",
       "0        Ali     Muhasebe       2010    Caner\n",
       "1       Veli  Muhendislik       2009  Mustafa\n",
       "2       Ayse  Muhendislik       2014  Mustafa\n",
       "3      Fatma           Ik       2019  Berkcan"
      ]
     },
     "execution_count": 115,
     "metadata": {},
     "output_type": "execute_result"
    }
   ],
   "source": [
    "# Coktan Teke Birlestirme Islemi\n",
    "\n",
    "pd.merge(df3, df4)"
   ]
  },
  {
   "cell_type": "code",
   "execution_count": 116,
   "id": "8486949c",
   "metadata": {
    "execution": {
     "iopub.execute_input": "2022-04-23T14:50:19.426579Z",
     "iopub.status.busy": "2022-04-23T14:50:19.425890Z",
     "iopub.status.idle": "2022-04-23T14:50:19.436233Z",
     "shell.execute_reply": "2022-04-23T14:50:19.436734Z",
     "shell.execute_reply.started": "2022-04-23T14:28:50.388299Z"
    },
    "papermill": {
     "duration": 0.177036,
     "end_time": "2022-04-23T14:50:19.436902",
     "exception": false,
     "start_time": "2022-04-23T14:50:19.259866",
     "status": "completed"
    },
    "tags": []
   },
   "outputs": [
    {
     "data": {
      "text/html": [
       "<div>\n",
       "<style scoped>\n",
       "    .dataframe tbody tr th:only-of-type {\n",
       "        vertical-align: middle;\n",
       "    }\n",
       "\n",
       "    .dataframe tbody tr th {\n",
       "        vertical-align: top;\n",
       "    }\n",
       "\n",
       "    .dataframe thead th {\n",
       "        text-align: right;\n",
       "    }\n",
       "</style>\n",
       "<table border=\"1\" class=\"dataframe\">\n",
       "  <thead>\n",
       "    <tr style=\"text-align: right;\">\n",
       "      <th></th>\n",
       "      <th>Grup</th>\n",
       "      <th>yetenekler</th>\n",
       "    </tr>\n",
       "  </thead>\n",
       "  <tbody>\n",
       "    <tr>\n",
       "      <th>0</th>\n",
       "      <td>Muhasebe</td>\n",
       "      <td>matematik</td>\n",
       "    </tr>\n",
       "    <tr>\n",
       "      <th>1</th>\n",
       "      <td>Muhasebe</td>\n",
       "      <td>excel</td>\n",
       "    </tr>\n",
       "    <tr>\n",
       "      <th>2</th>\n",
       "      <td>Muhendislik</td>\n",
       "      <td>kodlama</td>\n",
       "    </tr>\n",
       "    <tr>\n",
       "      <th>3</th>\n",
       "      <td>Muhendislik</td>\n",
       "      <td>linux</td>\n",
       "    </tr>\n",
       "    <tr>\n",
       "      <th>4</th>\n",
       "      <td>İK</td>\n",
       "      <td>excel</td>\n",
       "    </tr>\n",
       "    <tr>\n",
       "      <th>5</th>\n",
       "      <td>İK</td>\n",
       "      <td>yonetim</td>\n",
       "    </tr>\n",
       "  </tbody>\n",
       "</table>\n",
       "</div>"
      ],
      "text/plain": [
       "          Grup yetenekler\n",
       "0     Muhasebe  matematik\n",
       "1     Muhasebe      excel\n",
       "2  Muhendislik    kodlama\n",
       "3  Muhendislik      linux\n",
       "4           İK      excel\n",
       "5           İK    yonetim"
      ]
     },
     "execution_count": 116,
     "metadata": {},
     "output_type": "execute_result"
    }
   ],
   "source": [
    "# Coktan Coka Birlestirme Islemi\n",
    "\n",
    "df5 = pd.DataFrame({'Grup': ['Muhasebe', 'Muhasebe',\n",
    "                              'Muhendislik', 'Muhendislik', 'İK', 'İK'],\n",
    "                    'yetenekler': ['matematik', 'excel', 'kodlama', 'linux',\n",
    "                               'excel', 'yonetim']})\n",
    "\n",
    "df5"
   ]
  },
  {
   "cell_type": "code",
   "execution_count": 117,
   "id": "9b5e71d7",
   "metadata": {
    "execution": {
     "iopub.execute_input": "2022-04-23T14:50:19.770191Z",
     "iopub.status.busy": "2022-04-23T14:50:19.769558Z",
     "iopub.status.idle": "2022-04-23T14:50:19.777675Z",
     "shell.execute_reply": "2022-04-23T14:50:19.778289Z",
     "shell.execute_reply.started": "2022-04-23T14:28:52.380736Z"
    },
    "papermill": {
     "duration": 0.176794,
     "end_time": "2022-04-23T14:50:19.778464",
     "exception": false,
     "start_time": "2022-04-23T14:50:19.601670",
     "status": "completed"
    },
    "tags": []
   },
   "outputs": [
    {
     "data": {
      "text/html": [
       "<div>\n",
       "<style scoped>\n",
       "    .dataframe tbody tr th:only-of-type {\n",
       "        vertical-align: middle;\n",
       "    }\n",
       "\n",
       "    .dataframe tbody tr th {\n",
       "        vertical-align: top;\n",
       "    }\n",
       "\n",
       "    .dataframe thead th {\n",
       "        text-align: right;\n",
       "    }\n",
       "</style>\n",
       "<table border=\"1\" class=\"dataframe\">\n",
       "  <thead>\n",
       "    <tr style=\"text-align: right;\">\n",
       "      <th></th>\n",
       "      <th>Calisanlar</th>\n",
       "      <th>Grup</th>\n",
       "    </tr>\n",
       "  </thead>\n",
       "  <tbody>\n",
       "    <tr>\n",
       "      <th>0</th>\n",
       "      <td>Ali</td>\n",
       "      <td>Muhasebe</td>\n",
       "    </tr>\n",
       "    <tr>\n",
       "      <th>1</th>\n",
       "      <td>Veli</td>\n",
       "      <td>Muhendislik</td>\n",
       "    </tr>\n",
       "    <tr>\n",
       "      <th>2</th>\n",
       "      <td>Ayse</td>\n",
       "      <td>Muhendislik</td>\n",
       "    </tr>\n",
       "    <tr>\n",
       "      <th>3</th>\n",
       "      <td>Fatma</td>\n",
       "      <td>Ik</td>\n",
       "    </tr>\n",
       "  </tbody>\n",
       "</table>\n",
       "</div>"
      ],
      "text/plain": [
       "  Calisanlar         Grup\n",
       "0        Ali     Muhasebe\n",
       "1       Veli  Muhendislik\n",
       "2       Ayse  Muhendislik\n",
       "3      Fatma           Ik"
      ]
     },
     "execution_count": 117,
     "metadata": {},
     "output_type": "execute_result"
    }
   ],
   "source": [
    "df1"
   ]
  },
  {
   "cell_type": "code",
   "execution_count": 118,
   "id": "500e8647",
   "metadata": {
    "execution": {
     "iopub.execute_input": "2022-04-23T14:50:20.188496Z",
     "iopub.status.busy": "2022-04-23T14:50:20.187605Z",
     "iopub.status.idle": "2022-04-23T14:50:20.190813Z",
     "shell.execute_reply": "2022-04-23T14:50:20.191312Z",
     "shell.execute_reply.started": "2022-04-23T14:31:26.102331Z"
    },
    "papermill": {
     "duration": 0.250771,
     "end_time": "2022-04-23T14:50:20.191486",
     "exception": false,
     "start_time": "2022-04-23T14:50:19.940715",
     "status": "completed"
    },
    "tags": []
   },
   "outputs": [
    {
     "data": {
      "text/html": [
       "<div>\n",
       "<style scoped>\n",
       "    .dataframe tbody tr th:only-of-type {\n",
       "        vertical-align: middle;\n",
       "    }\n",
       "\n",
       "    .dataframe tbody tr th {\n",
       "        vertical-align: top;\n",
       "    }\n",
       "\n",
       "    .dataframe thead th {\n",
       "        text-align: right;\n",
       "    }\n",
       "</style>\n",
       "<table border=\"1\" class=\"dataframe\">\n",
       "  <thead>\n",
       "    <tr style=\"text-align: right;\">\n",
       "      <th></th>\n",
       "      <th>Calisanlar</th>\n",
       "      <th>Grup</th>\n",
       "      <th>yetenekler</th>\n",
       "    </tr>\n",
       "  </thead>\n",
       "  <tbody>\n",
       "    <tr>\n",
       "      <th>0</th>\n",
       "      <td>Ali</td>\n",
       "      <td>Muhasebe</td>\n",
       "      <td>matematik</td>\n",
       "    </tr>\n",
       "    <tr>\n",
       "      <th>1</th>\n",
       "      <td>Ali</td>\n",
       "      <td>Muhasebe</td>\n",
       "      <td>excel</td>\n",
       "    </tr>\n",
       "    <tr>\n",
       "      <th>2</th>\n",
       "      <td>Veli</td>\n",
       "      <td>Muhendislik</td>\n",
       "      <td>kodlama</td>\n",
       "    </tr>\n",
       "    <tr>\n",
       "      <th>3</th>\n",
       "      <td>Veli</td>\n",
       "      <td>Muhendislik</td>\n",
       "      <td>linux</td>\n",
       "    </tr>\n",
       "    <tr>\n",
       "      <th>4</th>\n",
       "      <td>Ayse</td>\n",
       "      <td>Muhendislik</td>\n",
       "      <td>kodlama</td>\n",
       "    </tr>\n",
       "    <tr>\n",
       "      <th>5</th>\n",
       "      <td>Ayse</td>\n",
       "      <td>Muhendislik</td>\n",
       "      <td>linux</td>\n",
       "    </tr>\n",
       "  </tbody>\n",
       "</table>\n",
       "</div>"
      ],
      "text/plain": [
       "  Calisanlar         Grup yetenekler\n",
       "0        Ali     Muhasebe  matematik\n",
       "1        Ali     Muhasebe      excel\n",
       "2       Veli  Muhendislik    kodlama\n",
       "3       Veli  Muhendislik      linux\n",
       "4       Ayse  Muhendislik    kodlama\n",
       "5       Ayse  Muhendislik      linux"
      ]
     },
     "execution_count": 118,
     "metadata": {},
     "output_type": "execute_result"
    }
   ],
   "source": [
    "pd.merge(df1, df5) # !? Calisanlar kismi Coklulastirildi ama sikinti degilmis hoca oyle dedi"
   ]
  }
 ],
 "metadata": {
  "kernelspec": {
   "display_name": "Python 3",
   "language": "python",
   "name": "python3"
  },
  "language_info": {
   "codemirror_mode": {
    "name": "ipython",
    "version": 3
   },
   "file_extension": ".py",
   "mimetype": "text/x-python",
   "name": "python",
   "nbconvert_exporter": "python",
   "pygments_lexer": "ipython3",
   "version": "3.7.12"
  },
  "papermill": {
   "default_parameters": {},
   "duration": 47.097253,
   "end_time": "2022-04-23T14:50:21.073134",
   "environment_variables": {},
   "exception": null,
   "input_path": "__notebook__.ipynb",
   "output_path": "__notebook__.ipynb",
   "parameters": {},
   "start_time": "2022-04-23T14:49:33.975881",
   "version": "2.3.3"
  }
 },
 "nbformat": 4,
 "nbformat_minor": 5
}
