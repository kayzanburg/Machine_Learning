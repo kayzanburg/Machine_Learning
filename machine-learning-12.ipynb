{
 "cells": [
  {
   "cell_type": "code",
   "execution_count": 1,
   "id": "6cd18184",
   "metadata": {
    "execution": {
     "iopub.execute_input": "2022-05-22T01:25:20.894500Z",
     "iopub.status.busy": "2022-05-22T01:25:20.893980Z",
     "iopub.status.idle": "2022-05-22T01:25:24.409100Z",
     "shell.execute_reply": "2022-05-22T01:25:24.408368Z"
    },
    "papermill": {
     "duration": 3.666067,
     "end_time": "2022-05-22T01:25:24.411508",
     "exception": false,
     "start_time": "2022-05-22T01:25:20.745441",
     "status": "completed"
    },
    "tags": []
   },
   "outputs": [
    {
     "data": {
      "text/html": [
       "<style type='text/css'>\n",
       ".datatable table.frame { margin-bottom: 0; }\n",
       ".datatable table.frame thead { border-bottom: none; }\n",
       ".datatable table.frame tr.coltypes td {  color: #FFFFFF;  line-height: 6px;  padding: 0 0.5em;}\n",
       ".datatable .bool    { background: #DDDD99; }\n",
       ".datatable .object  { background: #565656; }\n",
       ".datatable .int     { background: #5D9E5D; }\n",
       ".datatable .float   { background: #4040CC; }\n",
       ".datatable .str     { background: #CC4040; }\n",
       ".datatable .time    { background: #40CC40; }\n",
       ".datatable .row_index {  background: var(--jp-border-color3);  border-right: 1px solid var(--jp-border-color0);  color: var(--jp-ui-font-color3);  font-size: 9px;}\n",
       ".datatable .frame tbody td { text-align: left; }\n",
       ".datatable .frame tr.coltypes .row_index {  background: var(--jp-border-color0);}\n",
       ".datatable th:nth-child(2) { padding-left: 12px; }\n",
       ".datatable .hellipsis {  color: var(--jp-cell-editor-border-color);}\n",
       ".datatable .vellipsis {  background: var(--jp-layout-color0);  color: var(--jp-cell-editor-border-color);}\n",
       ".datatable .na {  color: var(--jp-cell-editor-border-color);  font-size: 80%;}\n",
       ".datatable .sp {  opacity: 0.25;}\n",
       ".datatable .footer { font-size: 9px; }\n",
       ".datatable .frame_dimensions {  background: var(--jp-border-color3);  border-top: 1px solid var(--jp-border-color0);  color: var(--jp-ui-font-color3);  display: inline-block;  opacity: 0.6;  padding: 1px 10px 1px 5px;}\n",
       "</style>\n"
      ],
      "text/plain": [
       "<IPython.core.display.HTML object>"
      ]
     },
     "metadata": {},
     "output_type": "display_data"
    }
   ],
   "source": [
    "from sklearn.linear_model import LinearRegression\n",
    "from sklearn.model_selection import train_test_split, cross_val_score, cross_val_predict\n",
    "from sklearn.metrics import mean_squared_error, r2_score\n",
    "import numpy as np\n",
    "import pandas as pd \n",
    "import statsmodels.api as sm\n",
    "import statsmodels.formula.api as smf\n",
    "import seaborn as sns\n",
    "from sklearn.preprocessing import scale \n",
    "from sklearn.model_selection import train_test_split, GridSearchCV, cross_val_score\n",
    "from sklearn.metrics import confusion_matrix, accuracy_score, classification_report\n",
    "from sklearn.metrics import roc_auc_score,roc_curve\n",
    "import statsmodels.formula.api as smf\n",
    "import matplotlib.pyplot as plt\n",
    "from sklearn.neighbors import KNeighborsClassifier\n",
    "from sklearn.discriminant_analysis import LinearDiscriminantAnalysis\n",
    "from sklearn.linear_model import LogisticRegression\n",
    "from sklearn.svm import SVC\n",
    "from sklearn.naive_bayes import GaussianNB\n",
    "from sklearn import tree\n",
    "from sklearn.ensemble import RandomForestClassifier\n",
    "from sklearn.ensemble import GradientBoostingClassifier\n",
    "from xgboost import XGBClassifier\n",
    "from lightgbm import LGBMClassifier\n",
    "from catboost import CatBoostClassifier\n",
    "from warnings import filterwarnings\n",
    "filterwarnings('ignore')\n"
   ]
  },
  {
   "cell_type": "markdown",
   "id": "4fb619f2",
   "metadata": {
    "papermill": {
     "duration": 0.134405,
     "end_time": "2022-05-22T01:25:24.685947",
     "exception": false,
     "start_time": "2022-05-22T01:25:24.551542",
     "status": "completed"
    },
    "tags": []
   },
   "source": [
    "# PCR Model"
   ]
  },
  {
   "cell_type": "code",
   "execution_count": 2,
   "id": "b32190f2",
   "metadata": {
    "_cell_guid": "b1076dfc-b9ad-4769-8c92-a6c4dae69d19",
    "_uuid": "8f2839f25d086af736a60e9eeb907d3b93b6e0e5",
    "execution": {
     "iopub.execute_input": "2022-05-22T01:25:24.959399Z",
     "iopub.status.busy": "2022-05-22T01:25:24.958882Z",
     "iopub.status.idle": "2022-05-22T01:25:25.008043Z",
     "shell.execute_reply": "2022-05-22T01:25:25.007185Z"
    },
    "papermill": {
     "duration": 0.187807,
     "end_time": "2022-05-22T01:25:25.010291",
     "exception": false,
     "start_time": "2022-05-22T01:25:24.822484",
     "status": "completed"
    },
    "tags": []
   },
   "outputs": [
    {
     "data": {
      "text/html": [
       "<div>\n",
       "<style scoped>\n",
       "    .dataframe tbody tr th:only-of-type {\n",
       "        vertical-align: middle;\n",
       "    }\n",
       "\n",
       "    .dataframe tbody tr th {\n",
       "        vertical-align: top;\n",
       "    }\n",
       "\n",
       "    .dataframe thead th {\n",
       "        text-align: right;\n",
       "    }\n",
       "</style>\n",
       "<table border=\"1\" class=\"dataframe\">\n",
       "  <thead>\n",
       "    <tr style=\"text-align: right;\">\n",
       "      <th></th>\n",
       "      <th>AtBat</th>\n",
       "      <th>Hits</th>\n",
       "      <th>HmRun</th>\n",
       "      <th>Runs</th>\n",
       "      <th>RBI</th>\n",
       "      <th>Walks</th>\n",
       "      <th>Years</th>\n",
       "      <th>CAtBat</th>\n",
       "      <th>CHits</th>\n",
       "      <th>CHmRun</th>\n",
       "      <th>CRuns</th>\n",
       "      <th>CRBI</th>\n",
       "      <th>CWalks</th>\n",
       "      <th>League</th>\n",
       "      <th>Division</th>\n",
       "      <th>PutOuts</th>\n",
       "      <th>Assists</th>\n",
       "      <th>Errors</th>\n",
       "      <th>Salary</th>\n",
       "      <th>NewLeague</th>\n",
       "    </tr>\n",
       "  </thead>\n",
       "  <tbody>\n",
       "    <tr>\n",
       "      <th>1</th>\n",
       "      <td>315</td>\n",
       "      <td>81</td>\n",
       "      <td>7</td>\n",
       "      <td>24</td>\n",
       "      <td>38</td>\n",
       "      <td>39</td>\n",
       "      <td>14</td>\n",
       "      <td>3449</td>\n",
       "      <td>835</td>\n",
       "      <td>69</td>\n",
       "      <td>321</td>\n",
       "      <td>414</td>\n",
       "      <td>375</td>\n",
       "      <td>N</td>\n",
       "      <td>W</td>\n",
       "      <td>632</td>\n",
       "      <td>43</td>\n",
       "      <td>10</td>\n",
       "      <td>475.0</td>\n",
       "      <td>N</td>\n",
       "    </tr>\n",
       "    <tr>\n",
       "      <th>2</th>\n",
       "      <td>479</td>\n",
       "      <td>130</td>\n",
       "      <td>18</td>\n",
       "      <td>66</td>\n",
       "      <td>72</td>\n",
       "      <td>76</td>\n",
       "      <td>3</td>\n",
       "      <td>1624</td>\n",
       "      <td>457</td>\n",
       "      <td>63</td>\n",
       "      <td>224</td>\n",
       "      <td>266</td>\n",
       "      <td>263</td>\n",
       "      <td>A</td>\n",
       "      <td>W</td>\n",
       "      <td>880</td>\n",
       "      <td>82</td>\n",
       "      <td>14</td>\n",
       "      <td>480.0</td>\n",
       "      <td>A</td>\n",
       "    </tr>\n",
       "    <tr>\n",
       "      <th>3</th>\n",
       "      <td>496</td>\n",
       "      <td>141</td>\n",
       "      <td>20</td>\n",
       "      <td>65</td>\n",
       "      <td>78</td>\n",
       "      <td>37</td>\n",
       "      <td>11</td>\n",
       "      <td>5628</td>\n",
       "      <td>1575</td>\n",
       "      <td>225</td>\n",
       "      <td>828</td>\n",
       "      <td>838</td>\n",
       "      <td>354</td>\n",
       "      <td>N</td>\n",
       "      <td>E</td>\n",
       "      <td>200</td>\n",
       "      <td>11</td>\n",
       "      <td>3</td>\n",
       "      <td>500.0</td>\n",
       "      <td>N</td>\n",
       "    </tr>\n",
       "    <tr>\n",
       "      <th>4</th>\n",
       "      <td>321</td>\n",
       "      <td>87</td>\n",
       "      <td>10</td>\n",
       "      <td>39</td>\n",
       "      <td>42</td>\n",
       "      <td>30</td>\n",
       "      <td>2</td>\n",
       "      <td>396</td>\n",
       "      <td>101</td>\n",
       "      <td>12</td>\n",
       "      <td>48</td>\n",
       "      <td>46</td>\n",
       "      <td>33</td>\n",
       "      <td>N</td>\n",
       "      <td>E</td>\n",
       "      <td>805</td>\n",
       "      <td>40</td>\n",
       "      <td>4</td>\n",
       "      <td>91.5</td>\n",
       "      <td>N</td>\n",
       "    </tr>\n",
       "    <tr>\n",
       "      <th>5</th>\n",
       "      <td>594</td>\n",
       "      <td>169</td>\n",
       "      <td>4</td>\n",
       "      <td>74</td>\n",
       "      <td>51</td>\n",
       "      <td>35</td>\n",
       "      <td>11</td>\n",
       "      <td>4408</td>\n",
       "      <td>1133</td>\n",
       "      <td>19</td>\n",
       "      <td>501</td>\n",
       "      <td>336</td>\n",
       "      <td>194</td>\n",
       "      <td>A</td>\n",
       "      <td>W</td>\n",
       "      <td>282</td>\n",
       "      <td>421</td>\n",
       "      <td>25</td>\n",
       "      <td>750.0</td>\n",
       "      <td>A</td>\n",
       "    </tr>\n",
       "  </tbody>\n",
       "</table>\n",
       "</div>"
      ],
      "text/plain": [
       "   AtBat  Hits  HmRun  Runs  RBI  Walks  Years  CAtBat  CHits  CHmRun  CRuns  \\\n",
       "1    315    81      7    24   38     39     14    3449    835      69    321   \n",
       "2    479   130     18    66   72     76      3    1624    457      63    224   \n",
       "3    496   141     20    65   78     37     11    5628   1575     225    828   \n",
       "4    321    87     10    39   42     30      2     396    101      12     48   \n",
       "5    594   169      4    74   51     35     11    4408   1133      19    501   \n",
       "\n",
       "   CRBI  CWalks League Division  PutOuts  Assists  Errors  Salary NewLeague  \n",
       "1   414     375      N        W      632       43      10   475.0         N  \n",
       "2   266     263      A        W      880       82      14   480.0         A  \n",
       "3   838     354      N        E      200       11       3   500.0         N  \n",
       "4    46      33      N        E      805       40       4    91.5         N  \n",
       "5   336     194      A        W      282      421      25   750.0         A  "
      ]
     },
     "execution_count": 2,
     "metadata": {},
     "output_type": "execute_result"
    }
   ],
   "source": [
    "import pandas as pd\n",
    "import numpy as np\n",
    "hit = pd.read_csv(\"../input/hitterscsv/Hitters.csv\")\n",
    "df = hit.copy()\n",
    "df = df.dropna() # Eksik Gozlemleri Sildik\n",
    "df.head()"
   ]
  },
  {
   "cell_type": "markdown",
   "id": "05d20023",
   "metadata": {
    "papermill": {
     "duration": 0.136977,
     "end_time": "2022-05-22T01:25:25.290172",
     "exception": false,
     "start_time": "2022-05-22T01:25:25.153195",
     "status": "completed"
    },
    "tags": []
   },
   "source": [
    "### Veri Seti Hakkinda\n",
    "\n",
    "* Veri Seti Basketbol Oyuncularinin Bazi Bilgilerini Barindiran Bir Veri Setidir"
   ]
  },
  {
   "cell_type": "code",
   "execution_count": 3,
   "id": "be556c2d",
   "metadata": {
    "execution": {
     "iopub.execute_input": "2022-05-22T01:25:25.564382Z",
     "iopub.status.busy": "2022-05-22T01:25:25.564078Z",
     "iopub.status.idle": "2022-05-22T01:25:25.587332Z",
     "shell.execute_reply": "2022-05-22T01:25:25.586368Z"
    },
    "papermill": {
     "duration": 0.163525,
     "end_time": "2022-05-22T01:25:25.589799",
     "exception": false,
     "start_time": "2022-05-22T01:25:25.426274",
     "status": "completed"
    },
    "tags": []
   },
   "outputs": [
    {
     "name": "stdout",
     "output_type": "stream",
     "text": [
      "<class 'pandas.core.frame.DataFrame'>\n",
      "Int64Index: 263 entries, 1 to 321\n",
      "Data columns (total 20 columns):\n",
      " #   Column     Non-Null Count  Dtype  \n",
      "---  ------     --------------  -----  \n",
      " 0   AtBat      263 non-null    int64  \n",
      " 1   Hits       263 non-null    int64  \n",
      " 2   HmRun      263 non-null    int64  \n",
      " 3   Runs       263 non-null    int64  \n",
      " 4   RBI        263 non-null    int64  \n",
      " 5   Walks      263 non-null    int64  \n",
      " 6   Years      263 non-null    int64  \n",
      " 7   CAtBat     263 non-null    int64  \n",
      " 8   CHits      263 non-null    int64  \n",
      " 9   CHmRun     263 non-null    int64  \n",
      " 10  CRuns      263 non-null    int64  \n",
      " 11  CRBI       263 non-null    int64  \n",
      " 12  CWalks     263 non-null    int64  \n",
      " 13  League     263 non-null    object \n",
      " 14  Division   263 non-null    object \n",
      " 15  PutOuts    263 non-null    int64  \n",
      " 16  Assists    263 non-null    int64  \n",
      " 17  Errors     263 non-null    int64  \n",
      " 18  Salary     263 non-null    float64\n",
      " 19  NewLeague  263 non-null    object \n",
      "dtypes: float64(1), int64(16), object(3)\n",
      "memory usage: 43.1+ KB\n"
     ]
    }
   ],
   "source": [
    "df.info()"
   ]
  },
  {
   "cell_type": "code",
   "execution_count": 4,
   "id": "61ac81a3",
   "metadata": {
    "execution": {
     "iopub.execute_input": "2022-05-22T01:25:25.863121Z",
     "iopub.status.busy": "2022-05-22T01:25:25.862848Z",
     "iopub.status.idle": "2022-05-22T01:25:25.924462Z",
     "shell.execute_reply": "2022-05-22T01:25:25.923720Z"
    },
    "papermill": {
     "duration": 0.200929,
     "end_time": "2022-05-22T01:25:25.926996",
     "exception": false,
     "start_time": "2022-05-22T01:25:25.726067",
     "status": "completed"
    },
    "tags": []
   },
   "outputs": [
    {
     "data": {
      "text/html": [
       "<div>\n",
       "<style scoped>\n",
       "    .dataframe tbody tr th:only-of-type {\n",
       "        vertical-align: middle;\n",
       "    }\n",
       "\n",
       "    .dataframe tbody tr th {\n",
       "        vertical-align: top;\n",
       "    }\n",
       "\n",
       "    .dataframe thead th {\n",
       "        text-align: right;\n",
       "    }\n",
       "</style>\n",
       "<table border=\"1\" class=\"dataframe\">\n",
       "  <thead>\n",
       "    <tr style=\"text-align: right;\">\n",
       "      <th></th>\n",
       "      <th>count</th>\n",
       "      <th>mean</th>\n",
       "      <th>std</th>\n",
       "      <th>min</th>\n",
       "      <th>25%</th>\n",
       "      <th>50%</th>\n",
       "      <th>75%</th>\n",
       "      <th>max</th>\n",
       "    </tr>\n",
       "  </thead>\n",
       "  <tbody>\n",
       "    <tr>\n",
       "      <th>AtBat</th>\n",
       "      <td>263.0</td>\n",
       "      <td>403.642586</td>\n",
       "      <td>147.307209</td>\n",
       "      <td>19.0</td>\n",
       "      <td>282.5</td>\n",
       "      <td>413.0</td>\n",
       "      <td>526.0</td>\n",
       "      <td>687.0</td>\n",
       "    </tr>\n",
       "    <tr>\n",
       "      <th>Hits</th>\n",
       "      <td>263.0</td>\n",
       "      <td>107.828897</td>\n",
       "      <td>45.125326</td>\n",
       "      <td>1.0</td>\n",
       "      <td>71.5</td>\n",
       "      <td>103.0</td>\n",
       "      <td>141.5</td>\n",
       "      <td>238.0</td>\n",
       "    </tr>\n",
       "    <tr>\n",
       "      <th>HmRun</th>\n",
       "      <td>263.0</td>\n",
       "      <td>11.619772</td>\n",
       "      <td>8.757108</td>\n",
       "      <td>0.0</td>\n",
       "      <td>5.0</td>\n",
       "      <td>9.0</td>\n",
       "      <td>18.0</td>\n",
       "      <td>40.0</td>\n",
       "    </tr>\n",
       "    <tr>\n",
       "      <th>Runs</th>\n",
       "      <td>263.0</td>\n",
       "      <td>54.745247</td>\n",
       "      <td>25.539816</td>\n",
       "      <td>0.0</td>\n",
       "      <td>33.5</td>\n",
       "      <td>52.0</td>\n",
       "      <td>73.0</td>\n",
       "      <td>130.0</td>\n",
       "    </tr>\n",
       "    <tr>\n",
       "      <th>RBI</th>\n",
       "      <td>263.0</td>\n",
       "      <td>51.486692</td>\n",
       "      <td>25.882714</td>\n",
       "      <td>0.0</td>\n",
       "      <td>30.0</td>\n",
       "      <td>47.0</td>\n",
       "      <td>71.0</td>\n",
       "      <td>121.0</td>\n",
       "    </tr>\n",
       "    <tr>\n",
       "      <th>Walks</th>\n",
       "      <td>263.0</td>\n",
       "      <td>41.114068</td>\n",
       "      <td>21.718056</td>\n",
       "      <td>0.0</td>\n",
       "      <td>23.0</td>\n",
       "      <td>37.0</td>\n",
       "      <td>57.0</td>\n",
       "      <td>105.0</td>\n",
       "    </tr>\n",
       "    <tr>\n",
       "      <th>Years</th>\n",
       "      <td>263.0</td>\n",
       "      <td>7.311787</td>\n",
       "      <td>4.793616</td>\n",
       "      <td>1.0</td>\n",
       "      <td>4.0</td>\n",
       "      <td>6.0</td>\n",
       "      <td>10.0</td>\n",
       "      <td>24.0</td>\n",
       "    </tr>\n",
       "    <tr>\n",
       "      <th>CAtBat</th>\n",
       "      <td>263.0</td>\n",
       "      <td>2657.543726</td>\n",
       "      <td>2286.582929</td>\n",
       "      <td>19.0</td>\n",
       "      <td>842.5</td>\n",
       "      <td>1931.0</td>\n",
       "      <td>3890.5</td>\n",
       "      <td>14053.0</td>\n",
       "    </tr>\n",
       "    <tr>\n",
       "      <th>CHits</th>\n",
       "      <td>263.0</td>\n",
       "      <td>722.186312</td>\n",
       "      <td>648.199644</td>\n",
       "      <td>4.0</td>\n",
       "      <td>212.0</td>\n",
       "      <td>516.0</td>\n",
       "      <td>1054.0</td>\n",
       "      <td>4256.0</td>\n",
       "    </tr>\n",
       "    <tr>\n",
       "      <th>CHmRun</th>\n",
       "      <td>263.0</td>\n",
       "      <td>69.239544</td>\n",
       "      <td>82.197581</td>\n",
       "      <td>0.0</td>\n",
       "      <td>15.0</td>\n",
       "      <td>40.0</td>\n",
       "      <td>92.5</td>\n",
       "      <td>548.0</td>\n",
       "    </tr>\n",
       "    <tr>\n",
       "      <th>CRuns</th>\n",
       "      <td>263.0</td>\n",
       "      <td>361.220532</td>\n",
       "      <td>331.198571</td>\n",
       "      <td>2.0</td>\n",
       "      <td>105.5</td>\n",
       "      <td>250.0</td>\n",
       "      <td>497.5</td>\n",
       "      <td>2165.0</td>\n",
       "    </tr>\n",
       "    <tr>\n",
       "      <th>CRBI</th>\n",
       "      <td>263.0</td>\n",
       "      <td>330.418251</td>\n",
       "      <td>323.367668</td>\n",
       "      <td>3.0</td>\n",
       "      <td>95.0</td>\n",
       "      <td>230.0</td>\n",
       "      <td>424.5</td>\n",
       "      <td>1659.0</td>\n",
       "    </tr>\n",
       "    <tr>\n",
       "      <th>CWalks</th>\n",
       "      <td>263.0</td>\n",
       "      <td>260.266160</td>\n",
       "      <td>264.055868</td>\n",
       "      <td>1.0</td>\n",
       "      <td>71.0</td>\n",
       "      <td>174.0</td>\n",
       "      <td>328.5</td>\n",
       "      <td>1566.0</td>\n",
       "    </tr>\n",
       "    <tr>\n",
       "      <th>PutOuts</th>\n",
       "      <td>263.0</td>\n",
       "      <td>290.711027</td>\n",
       "      <td>279.934575</td>\n",
       "      <td>0.0</td>\n",
       "      <td>113.5</td>\n",
       "      <td>224.0</td>\n",
       "      <td>322.5</td>\n",
       "      <td>1377.0</td>\n",
       "    </tr>\n",
       "    <tr>\n",
       "      <th>Assists</th>\n",
       "      <td>263.0</td>\n",
       "      <td>118.760456</td>\n",
       "      <td>145.080577</td>\n",
       "      <td>0.0</td>\n",
       "      <td>8.0</td>\n",
       "      <td>45.0</td>\n",
       "      <td>192.0</td>\n",
       "      <td>492.0</td>\n",
       "    </tr>\n",
       "    <tr>\n",
       "      <th>Errors</th>\n",
       "      <td>263.0</td>\n",
       "      <td>8.593156</td>\n",
       "      <td>6.606574</td>\n",
       "      <td>0.0</td>\n",
       "      <td>3.0</td>\n",
       "      <td>7.0</td>\n",
       "      <td>13.0</td>\n",
       "      <td>32.0</td>\n",
       "    </tr>\n",
       "    <tr>\n",
       "      <th>Salary</th>\n",
       "      <td>263.0</td>\n",
       "      <td>535.925882</td>\n",
       "      <td>451.118681</td>\n",
       "      <td>67.5</td>\n",
       "      <td>190.0</td>\n",
       "      <td>425.0</td>\n",
       "      <td>750.0</td>\n",
       "      <td>2460.0</td>\n",
       "    </tr>\n",
       "  </tbody>\n",
       "</table>\n",
       "</div>"
      ],
      "text/plain": [
       "         count         mean          std   min    25%     50%     75%      max\n",
       "AtBat    263.0   403.642586   147.307209  19.0  282.5   413.0   526.0    687.0\n",
       "Hits     263.0   107.828897    45.125326   1.0   71.5   103.0   141.5    238.0\n",
       "HmRun    263.0    11.619772     8.757108   0.0    5.0     9.0    18.0     40.0\n",
       "Runs     263.0    54.745247    25.539816   0.0   33.5    52.0    73.0    130.0\n",
       "RBI      263.0    51.486692    25.882714   0.0   30.0    47.0    71.0    121.0\n",
       "Walks    263.0    41.114068    21.718056   0.0   23.0    37.0    57.0    105.0\n",
       "Years    263.0     7.311787     4.793616   1.0    4.0     6.0    10.0     24.0\n",
       "CAtBat   263.0  2657.543726  2286.582929  19.0  842.5  1931.0  3890.5  14053.0\n",
       "CHits    263.0   722.186312   648.199644   4.0  212.0   516.0  1054.0   4256.0\n",
       "CHmRun   263.0    69.239544    82.197581   0.0   15.0    40.0    92.5    548.0\n",
       "CRuns    263.0   361.220532   331.198571   2.0  105.5   250.0   497.5   2165.0\n",
       "CRBI     263.0   330.418251   323.367668   3.0   95.0   230.0   424.5   1659.0\n",
       "CWalks   263.0   260.266160   264.055868   1.0   71.0   174.0   328.5   1566.0\n",
       "PutOuts  263.0   290.711027   279.934575   0.0  113.5   224.0   322.5   1377.0\n",
       "Assists  263.0   118.760456   145.080577   0.0    8.0    45.0   192.0    492.0\n",
       "Errors   263.0     8.593156     6.606574   0.0    3.0     7.0    13.0     32.0\n",
       "Salary   263.0   535.925882   451.118681  67.5  190.0   425.0   750.0   2460.0"
      ]
     },
     "execution_count": 4,
     "metadata": {},
     "output_type": "execute_result"
    }
   ],
   "source": [
    "df.describe().T"
   ]
  },
  {
   "cell_type": "code",
   "execution_count": 5,
   "id": "1c652600",
   "metadata": {
    "execution": {
     "iopub.execute_input": "2022-05-22T01:25:26.204690Z",
     "iopub.status.busy": "2022-05-22T01:25:26.204380Z",
     "iopub.status.idle": "2022-05-22T01:25:26.208022Z",
     "shell.execute_reply": "2022-05-22T01:25:26.207186Z"
    },
    "papermill": {
     "duration": 0.143365,
     "end_time": "2022-05-22T01:25:26.209854",
     "exception": false,
     "start_time": "2022-05-22T01:25:26.066489",
     "status": "completed"
    },
    "tags": []
   },
   "outputs": [],
   "source": [
    "# Veri Setimiz Buyuk Oldugu Icin Hizli On Isleme Islemlerini Ele Almamiz Gerekiyor ( Ornegin Kategorik Degiskenleri Dami Degisken Formatina Donusturmemiz Gerekiyor )"
   ]
  },
  {
   "cell_type": "code",
   "execution_count": 6,
   "id": "45d93b05",
   "metadata": {
    "execution": {
     "iopub.execute_input": "2022-05-22T01:25:26.484074Z",
     "iopub.status.busy": "2022-05-22T01:25:26.483634Z",
     "iopub.status.idle": "2022-05-22T01:25:26.498911Z",
     "shell.execute_reply": "2022-05-22T01:25:26.498101Z"
    },
    "papermill": {
     "duration": 0.154673,
     "end_time": "2022-05-22T01:25:26.500929",
     "exception": false,
     "start_time": "2022-05-22T01:25:26.346256",
     "status": "completed"
    },
    "tags": []
   },
   "outputs": [
    {
     "data": {
      "text/html": [
       "<div>\n",
       "<style scoped>\n",
       "    .dataframe tbody tr th:only-of-type {\n",
       "        vertical-align: middle;\n",
       "    }\n",
       "\n",
       "    .dataframe tbody tr th {\n",
       "        vertical-align: top;\n",
       "    }\n",
       "\n",
       "    .dataframe thead th {\n",
       "        text-align: right;\n",
       "    }\n",
       "</style>\n",
       "<table border=\"1\" class=\"dataframe\">\n",
       "  <thead>\n",
       "    <tr style=\"text-align: right;\">\n",
       "      <th></th>\n",
       "      <th>League_A</th>\n",
       "      <th>League_N</th>\n",
       "      <th>Division_E</th>\n",
       "      <th>Division_W</th>\n",
       "      <th>NewLeague_A</th>\n",
       "      <th>NewLeague_N</th>\n",
       "    </tr>\n",
       "  </thead>\n",
       "  <tbody>\n",
       "    <tr>\n",
       "      <th>1</th>\n",
       "      <td>0</td>\n",
       "      <td>1</td>\n",
       "      <td>0</td>\n",
       "      <td>1</td>\n",
       "      <td>0</td>\n",
       "      <td>1</td>\n",
       "    </tr>\n",
       "    <tr>\n",
       "      <th>2</th>\n",
       "      <td>1</td>\n",
       "      <td>0</td>\n",
       "      <td>0</td>\n",
       "      <td>1</td>\n",
       "      <td>1</td>\n",
       "      <td>0</td>\n",
       "    </tr>\n",
       "    <tr>\n",
       "      <th>3</th>\n",
       "      <td>0</td>\n",
       "      <td>1</td>\n",
       "      <td>1</td>\n",
       "      <td>0</td>\n",
       "      <td>0</td>\n",
       "      <td>1</td>\n",
       "    </tr>\n",
       "    <tr>\n",
       "      <th>4</th>\n",
       "      <td>0</td>\n",
       "      <td>1</td>\n",
       "      <td>1</td>\n",
       "      <td>0</td>\n",
       "      <td>0</td>\n",
       "      <td>1</td>\n",
       "    </tr>\n",
       "    <tr>\n",
       "      <th>5</th>\n",
       "      <td>1</td>\n",
       "      <td>0</td>\n",
       "      <td>0</td>\n",
       "      <td>1</td>\n",
       "      <td>1</td>\n",
       "      <td>0</td>\n",
       "    </tr>\n",
       "  </tbody>\n",
       "</table>\n",
       "</div>"
      ],
      "text/plain": [
       "   League_A  League_N  Division_E  Division_W  NewLeague_A  NewLeague_N\n",
       "1         0         1           0           1            0            1\n",
       "2         1         0           0           1            1            0\n",
       "3         0         1           1           0            0            1\n",
       "4         0         1           1           0            0            1\n",
       "5         1         0           0           1            1            0"
      ]
     },
     "execution_count": 6,
     "metadata": {},
     "output_type": "execute_result"
    }
   ],
   "source": [
    "dms = pd.get_dummies(df[['League', 'Division', 'NewLeague']]) # One Hot Encoding Donusumu Yaptik ----->> Fakat Goruldugu Uzere Dami Degisken Tuzagina Dusme Soz Konusudur ---->> Dolayisi Ile Yapacak\n",
    "# Oldugumuz Is Buradaki Ikinci Olarak Tekrar Eden Degiskenleri Bu Veri Setinden Cikarmak Olucak\n",
    "\n",
    "dms.head()"
   ]
  },
  {
   "cell_type": "code",
   "execution_count": 7,
   "id": "f987345b",
   "metadata": {
    "execution": {
     "iopub.execute_input": "2022-05-22T01:25:26.778736Z",
     "iopub.status.busy": "2022-05-22T01:25:26.778187Z",
     "iopub.status.idle": "2022-05-22T01:25:26.782304Z",
     "shell.execute_reply": "2022-05-22T01:25:26.781735Z"
    },
    "papermill": {
     "duration": 0.144572,
     "end_time": "2022-05-22T01:25:26.784189",
     "exception": false,
     "start_time": "2022-05-22T01:25:26.639617",
     "status": "completed"
    },
    "tags": []
   },
   "outputs": [],
   "source": [
    "y = df[\"Salary\"] # Bagimli Degiskeni Kayit Ettik"
   ]
  },
  {
   "cell_type": "code",
   "execution_count": 8,
   "id": "56c2818a",
   "metadata": {
    "execution": {
     "iopub.execute_input": "2022-05-22T01:25:27.065296Z",
     "iopub.status.busy": "2022-05-22T01:25:27.064743Z",
     "iopub.status.idle": "2022-05-22T01:25:27.070417Z",
     "shell.execute_reply": "2022-05-22T01:25:27.069775Z"
    },
    "papermill": {
     "duration": 0.148322,
     "end_time": "2022-05-22T01:25:27.072372",
     "exception": false,
     "start_time": "2022-05-22T01:25:26.924050",
     "status": "completed"
    },
    "tags": []
   },
   "outputs": [],
   "source": [
    "X_ = df.drop([\"Salary\",\"League\",\"Division\",\"NewLeague\"], axis = 1).astype(\"float64\") # Yukarida Bahsettigim Durumu Ortadan Kaldirdim ----->> Simdi Bu Veri Setinin Icinden Bagimli Degiskeni Ve Bu\n",
    "# Kategotik Degiskenlerin Ilk Hallerini Cikardim"
   ]
  },
  {
   "cell_type": "code",
   "execution_count": 9,
   "id": "32e2d55a",
   "metadata": {
    "execution": {
     "iopub.execute_input": "2022-05-22T01:25:27.351414Z",
     "iopub.status.busy": "2022-05-22T01:25:27.350771Z",
     "iopub.status.idle": "2022-05-22T01:25:27.376721Z",
     "shell.execute_reply": "2022-05-22T01:25:27.375895Z"
    },
    "papermill": {
     "duration": 0.167609,
     "end_time": "2022-05-22T01:25:27.378832",
     "exception": false,
     "start_time": "2022-05-22T01:25:27.211223",
     "status": "completed"
    },
    "tags": []
   },
   "outputs": [
    {
     "data": {
      "text/html": [
       "<div>\n",
       "<style scoped>\n",
       "    .dataframe tbody tr th:only-of-type {\n",
       "        vertical-align: middle;\n",
       "    }\n",
       "\n",
       "    .dataframe tbody tr th {\n",
       "        vertical-align: top;\n",
       "    }\n",
       "\n",
       "    .dataframe thead th {\n",
       "        text-align: right;\n",
       "    }\n",
       "</style>\n",
       "<table border=\"1\" class=\"dataframe\">\n",
       "  <thead>\n",
       "    <tr style=\"text-align: right;\">\n",
       "      <th></th>\n",
       "      <th>AtBat</th>\n",
       "      <th>Hits</th>\n",
       "      <th>HmRun</th>\n",
       "      <th>Runs</th>\n",
       "      <th>RBI</th>\n",
       "      <th>Walks</th>\n",
       "      <th>Years</th>\n",
       "      <th>CAtBat</th>\n",
       "      <th>CHits</th>\n",
       "      <th>CHmRun</th>\n",
       "      <th>CRuns</th>\n",
       "      <th>CRBI</th>\n",
       "      <th>CWalks</th>\n",
       "      <th>PutOuts</th>\n",
       "      <th>Assists</th>\n",
       "      <th>Errors</th>\n",
       "    </tr>\n",
       "  </thead>\n",
       "  <tbody>\n",
       "    <tr>\n",
       "      <th>1</th>\n",
       "      <td>315.0</td>\n",
       "      <td>81.0</td>\n",
       "      <td>7.0</td>\n",
       "      <td>24.0</td>\n",
       "      <td>38.0</td>\n",
       "      <td>39.0</td>\n",
       "      <td>14.0</td>\n",
       "      <td>3449.0</td>\n",
       "      <td>835.0</td>\n",
       "      <td>69.0</td>\n",
       "      <td>321.0</td>\n",
       "      <td>414.0</td>\n",
       "      <td>375.0</td>\n",
       "      <td>632.0</td>\n",
       "      <td>43.0</td>\n",
       "      <td>10.0</td>\n",
       "    </tr>\n",
       "    <tr>\n",
       "      <th>2</th>\n",
       "      <td>479.0</td>\n",
       "      <td>130.0</td>\n",
       "      <td>18.0</td>\n",
       "      <td>66.0</td>\n",
       "      <td>72.0</td>\n",
       "      <td>76.0</td>\n",
       "      <td>3.0</td>\n",
       "      <td>1624.0</td>\n",
       "      <td>457.0</td>\n",
       "      <td>63.0</td>\n",
       "      <td>224.0</td>\n",
       "      <td>266.0</td>\n",
       "      <td>263.0</td>\n",
       "      <td>880.0</td>\n",
       "      <td>82.0</td>\n",
       "      <td>14.0</td>\n",
       "    </tr>\n",
       "    <tr>\n",
       "      <th>3</th>\n",
       "      <td>496.0</td>\n",
       "      <td>141.0</td>\n",
       "      <td>20.0</td>\n",
       "      <td>65.0</td>\n",
       "      <td>78.0</td>\n",
       "      <td>37.0</td>\n",
       "      <td>11.0</td>\n",
       "      <td>5628.0</td>\n",
       "      <td>1575.0</td>\n",
       "      <td>225.0</td>\n",
       "      <td>828.0</td>\n",
       "      <td>838.0</td>\n",
       "      <td>354.0</td>\n",
       "      <td>200.0</td>\n",
       "      <td>11.0</td>\n",
       "      <td>3.0</td>\n",
       "    </tr>\n",
       "    <tr>\n",
       "      <th>4</th>\n",
       "      <td>321.0</td>\n",
       "      <td>87.0</td>\n",
       "      <td>10.0</td>\n",
       "      <td>39.0</td>\n",
       "      <td>42.0</td>\n",
       "      <td>30.0</td>\n",
       "      <td>2.0</td>\n",
       "      <td>396.0</td>\n",
       "      <td>101.0</td>\n",
       "      <td>12.0</td>\n",
       "      <td>48.0</td>\n",
       "      <td>46.0</td>\n",
       "      <td>33.0</td>\n",
       "      <td>805.0</td>\n",
       "      <td>40.0</td>\n",
       "      <td>4.0</td>\n",
       "    </tr>\n",
       "    <tr>\n",
       "      <th>5</th>\n",
       "      <td>594.0</td>\n",
       "      <td>169.0</td>\n",
       "      <td>4.0</td>\n",
       "      <td>74.0</td>\n",
       "      <td>51.0</td>\n",
       "      <td>35.0</td>\n",
       "      <td>11.0</td>\n",
       "      <td>4408.0</td>\n",
       "      <td>1133.0</td>\n",
       "      <td>19.0</td>\n",
       "      <td>501.0</td>\n",
       "      <td>336.0</td>\n",
       "      <td>194.0</td>\n",
       "      <td>282.0</td>\n",
       "      <td>421.0</td>\n",
       "      <td>25.0</td>\n",
       "    </tr>\n",
       "  </tbody>\n",
       "</table>\n",
       "</div>"
      ],
      "text/plain": [
       "   AtBat   Hits  HmRun  Runs   RBI  Walks  Years  CAtBat   CHits  CHmRun  \\\n",
       "1  315.0   81.0    7.0  24.0  38.0   39.0   14.0  3449.0   835.0    69.0   \n",
       "2  479.0  130.0   18.0  66.0  72.0   76.0    3.0  1624.0   457.0    63.0   \n",
       "3  496.0  141.0   20.0  65.0  78.0   37.0   11.0  5628.0  1575.0   225.0   \n",
       "4  321.0   87.0   10.0  39.0  42.0   30.0    2.0   396.0   101.0    12.0   \n",
       "5  594.0  169.0    4.0  74.0  51.0   35.0   11.0  4408.0  1133.0    19.0   \n",
       "\n",
       "   CRuns   CRBI  CWalks  PutOuts  Assists  Errors  \n",
       "1  321.0  414.0   375.0    632.0     43.0    10.0  \n",
       "2  224.0  266.0   263.0    880.0     82.0    14.0  \n",
       "3  828.0  838.0   354.0    200.0     11.0     3.0  \n",
       "4   48.0   46.0    33.0    805.0     40.0     4.0  \n",
       "5  501.0  336.0   194.0    282.0    421.0    25.0  "
      ]
     },
     "execution_count": 9,
     "metadata": {},
     "output_type": "execute_result"
    }
   ],
   "source": [
    "X_.head()"
   ]
  },
  {
   "cell_type": "code",
   "execution_count": 10,
   "id": "aa90b45a",
   "metadata": {
    "execution": {
     "iopub.execute_input": "2022-05-22T01:25:27.661038Z",
     "iopub.status.busy": "2022-05-22T01:25:27.660586Z",
     "iopub.status.idle": "2022-05-22T01:25:27.689843Z",
     "shell.execute_reply": "2022-05-22T01:25:27.688995Z"
    },
    "papermill": {
     "duration": 0.173332,
     "end_time": "2022-05-22T01:25:27.691829",
     "exception": false,
     "start_time": "2022-05-22T01:25:27.518497",
     "status": "completed"
    },
    "tags": []
   },
   "outputs": [
    {
     "data": {
      "text/html": [
       "<div>\n",
       "<style scoped>\n",
       "    .dataframe tbody tr th:only-of-type {\n",
       "        vertical-align: middle;\n",
       "    }\n",
       "\n",
       "    .dataframe tbody tr th {\n",
       "        vertical-align: top;\n",
       "    }\n",
       "\n",
       "    .dataframe thead th {\n",
       "        text-align: right;\n",
       "    }\n",
       "</style>\n",
       "<table border=\"1\" class=\"dataframe\">\n",
       "  <thead>\n",
       "    <tr style=\"text-align: right;\">\n",
       "      <th></th>\n",
       "      <th>AtBat</th>\n",
       "      <th>Hits</th>\n",
       "      <th>HmRun</th>\n",
       "      <th>Runs</th>\n",
       "      <th>RBI</th>\n",
       "      <th>Walks</th>\n",
       "      <th>Years</th>\n",
       "      <th>CAtBat</th>\n",
       "      <th>CHits</th>\n",
       "      <th>CHmRun</th>\n",
       "      <th>CRuns</th>\n",
       "      <th>CRBI</th>\n",
       "      <th>CWalks</th>\n",
       "      <th>PutOuts</th>\n",
       "      <th>Assists</th>\n",
       "      <th>Errors</th>\n",
       "      <th>League_N</th>\n",
       "      <th>Division_W</th>\n",
       "      <th>NewLeague_N</th>\n",
       "    </tr>\n",
       "  </thead>\n",
       "  <tbody>\n",
       "    <tr>\n",
       "      <th>1</th>\n",
       "      <td>315.0</td>\n",
       "      <td>81.0</td>\n",
       "      <td>7.0</td>\n",
       "      <td>24.0</td>\n",
       "      <td>38.0</td>\n",
       "      <td>39.0</td>\n",
       "      <td>14.0</td>\n",
       "      <td>3449.0</td>\n",
       "      <td>835.0</td>\n",
       "      <td>69.0</td>\n",
       "      <td>321.0</td>\n",
       "      <td>414.0</td>\n",
       "      <td>375.0</td>\n",
       "      <td>632.0</td>\n",
       "      <td>43.0</td>\n",
       "      <td>10.0</td>\n",
       "      <td>1</td>\n",
       "      <td>1</td>\n",
       "      <td>1</td>\n",
       "    </tr>\n",
       "    <tr>\n",
       "      <th>2</th>\n",
       "      <td>479.0</td>\n",
       "      <td>130.0</td>\n",
       "      <td>18.0</td>\n",
       "      <td>66.0</td>\n",
       "      <td>72.0</td>\n",
       "      <td>76.0</td>\n",
       "      <td>3.0</td>\n",
       "      <td>1624.0</td>\n",
       "      <td>457.0</td>\n",
       "      <td>63.0</td>\n",
       "      <td>224.0</td>\n",
       "      <td>266.0</td>\n",
       "      <td>263.0</td>\n",
       "      <td>880.0</td>\n",
       "      <td>82.0</td>\n",
       "      <td>14.0</td>\n",
       "      <td>0</td>\n",
       "      <td>1</td>\n",
       "      <td>0</td>\n",
       "    </tr>\n",
       "    <tr>\n",
       "      <th>3</th>\n",
       "      <td>496.0</td>\n",
       "      <td>141.0</td>\n",
       "      <td>20.0</td>\n",
       "      <td>65.0</td>\n",
       "      <td>78.0</td>\n",
       "      <td>37.0</td>\n",
       "      <td>11.0</td>\n",
       "      <td>5628.0</td>\n",
       "      <td>1575.0</td>\n",
       "      <td>225.0</td>\n",
       "      <td>828.0</td>\n",
       "      <td>838.0</td>\n",
       "      <td>354.0</td>\n",
       "      <td>200.0</td>\n",
       "      <td>11.0</td>\n",
       "      <td>3.0</td>\n",
       "      <td>1</td>\n",
       "      <td>0</td>\n",
       "      <td>1</td>\n",
       "    </tr>\n",
       "    <tr>\n",
       "      <th>4</th>\n",
       "      <td>321.0</td>\n",
       "      <td>87.0</td>\n",
       "      <td>10.0</td>\n",
       "      <td>39.0</td>\n",
       "      <td>42.0</td>\n",
       "      <td>30.0</td>\n",
       "      <td>2.0</td>\n",
       "      <td>396.0</td>\n",
       "      <td>101.0</td>\n",
       "      <td>12.0</td>\n",
       "      <td>48.0</td>\n",
       "      <td>46.0</td>\n",
       "      <td>33.0</td>\n",
       "      <td>805.0</td>\n",
       "      <td>40.0</td>\n",
       "      <td>4.0</td>\n",
       "      <td>1</td>\n",
       "      <td>0</td>\n",
       "      <td>1</td>\n",
       "    </tr>\n",
       "    <tr>\n",
       "      <th>5</th>\n",
       "      <td>594.0</td>\n",
       "      <td>169.0</td>\n",
       "      <td>4.0</td>\n",
       "      <td>74.0</td>\n",
       "      <td>51.0</td>\n",
       "      <td>35.0</td>\n",
       "      <td>11.0</td>\n",
       "      <td>4408.0</td>\n",
       "      <td>1133.0</td>\n",
       "      <td>19.0</td>\n",
       "      <td>501.0</td>\n",
       "      <td>336.0</td>\n",
       "      <td>194.0</td>\n",
       "      <td>282.0</td>\n",
       "      <td>421.0</td>\n",
       "      <td>25.0</td>\n",
       "      <td>0</td>\n",
       "      <td>1</td>\n",
       "      <td>0</td>\n",
       "    </tr>\n",
       "  </tbody>\n",
       "</table>\n",
       "</div>"
      ],
      "text/plain": [
       "   AtBat   Hits  HmRun  Runs   RBI  Walks  Years  CAtBat   CHits  CHmRun  \\\n",
       "1  315.0   81.0    7.0  24.0  38.0   39.0   14.0  3449.0   835.0    69.0   \n",
       "2  479.0  130.0   18.0  66.0  72.0   76.0    3.0  1624.0   457.0    63.0   \n",
       "3  496.0  141.0   20.0  65.0  78.0   37.0   11.0  5628.0  1575.0   225.0   \n",
       "4  321.0   87.0   10.0  39.0  42.0   30.0    2.0   396.0   101.0    12.0   \n",
       "5  594.0  169.0    4.0  74.0  51.0   35.0   11.0  4408.0  1133.0    19.0   \n",
       "\n",
       "   CRuns   CRBI  CWalks  PutOuts  Assists  Errors  League_N  Division_W  \\\n",
       "1  321.0  414.0   375.0    632.0     43.0    10.0         1           1   \n",
       "2  224.0  266.0   263.0    880.0     82.0    14.0         0           1   \n",
       "3  828.0  838.0   354.0    200.0     11.0     3.0         1           0   \n",
       "4   48.0   46.0    33.0    805.0     40.0     4.0         1           0   \n",
       "5  501.0  336.0   194.0    282.0    421.0    25.0         0           1   \n",
       "\n",
       "   NewLeague_N  \n",
       "1            1  \n",
       "2            0  \n",
       "3            1  \n",
       "4            1  \n",
       "5            0  "
      ]
     },
     "execution_count": 10,
     "metadata": {},
     "output_type": "execute_result"
    }
   ],
   "source": [
    "X = pd.concat([X_, dms[[\"League_N\", \"Division_W\",\"NewLeague_N\"]]], axis = 1) # Birlestirme Islemi Yaptik ---->> Su Anda Bagimsiz Degiskenlerimizi Olmasi Gerektigi Gibi Hepsini Modellemeye\n",
    "# Hazir Hale Getirdik\n",
    "X.head()\n",
    "\n",
    "# X : Bagimsiz Degiskenlerimizi Ifade Ediyor Ve Bir Data_Frame\n",
    "\n",
    "# y : Bagimli Degiskenimizi Ifade Ediyor Ve Oda \"Salary\" Degiskenidir"
   ]
  },
  {
   "cell_type": "code",
   "execution_count": 11,
   "id": "cb570567",
   "metadata": {
    "execution": {
     "iopub.execute_input": "2022-05-22T01:25:27.970153Z",
     "iopub.status.busy": "2022-05-22T01:25:27.969718Z",
     "iopub.status.idle": "2022-05-22T01:25:27.980258Z",
     "shell.execute_reply": "2022-05-22T01:25:27.979246Z"
    },
    "papermill": {
     "duration": 0.152494,
     "end_time": "2022-05-22T01:25:27.982608",
     "exception": false,
     "start_time": "2022-05-22T01:25:27.830114",
     "status": "completed"
    },
    "tags": []
   },
   "outputs": [
    {
     "name": "stdout",
     "output_type": "stream",
     "text": [
      "X_train (197, 19)\n",
      "y_train (197,)\n",
      "X_test (66, 19)\n",
      "y_test (66,)\n",
      "training (263, 20)\n"
     ]
    }
   ],
   "source": [
    "X_train, X_test, y_train, y_test = train_test_split(X, \n",
    "                                                    y, \n",
    "                                                    test_size=0.25, \n",
    "                                                    random_state=42) # Veri Setimizi Bolduk\n",
    "\n",
    "print(\"X_train\", X_train.shape)\n",
    "\n",
    "print(\"y_train\",y_train.shape)\n",
    "\n",
    "print(\"X_test\",X_test.shape)\n",
    "\n",
    "print(\"y_test\",y_test.shape)\n",
    "\n",
    "training = df.copy()\n",
    "\n",
    "print(\"training\", training.shape)"
   ]
  },
  {
   "cell_type": "code",
   "execution_count": 12,
   "id": "5e65d287",
   "metadata": {
    "execution": {
     "iopub.execute_input": "2022-05-22T01:25:28.262973Z",
     "iopub.status.busy": "2022-05-22T01:25:28.262152Z",
     "iopub.status.idle": "2022-05-22T01:25:28.266598Z",
     "shell.execute_reply": "2022-05-22T01:25:28.266021Z"
    },
    "papermill": {
     "duration": 0.145852,
     "end_time": "2022-05-22T01:25:28.268452",
     "exception": false,
     "start_time": "2022-05-22T01:25:28.122600",
     "status": "completed"
    },
    "tags": []
   },
   "outputs": [],
   "source": [
    "# Oncelikle Verinin Olceklendirilmesi Ve Bilesenlerin Olusturulmasi Islemini Ele Alicaz ( Import Etme Islemini Yapiyoruz Bu Yapiyi Kullanabilmek Icin )\n",
    "\n",
    "from sklearn.decomposition import PCA\n",
    "from sklearn.preprocessing import scale \n",
    "pca = PCA() # Normalde Bilesen Sayisi Argumani Var ---->> Biz Girmiyoruz ---->> Boylece Degisken Sayisi Kadar Bilesen Olusma Islemi Olusmus Olucak"
   ]
  },
  {
   "cell_type": "code",
   "execution_count": 13,
   "id": "0d99ffa8",
   "metadata": {
    "execution": {
     "iopub.execute_input": "2022-05-22T01:25:28.554325Z",
     "iopub.status.busy": "2022-05-22T01:25:28.553560Z",
     "iopub.status.idle": "2022-05-22T01:25:28.576944Z",
     "shell.execute_reply": "2022-05-22T01:25:28.576148Z"
    },
    "papermill": {
     "duration": 0.169268,
     "end_time": "2022-05-22T01:25:28.579092",
     "exception": false,
     "start_time": "2022-05-22T01:25:28.409824",
     "status": "completed"
    },
    "tags": []
   },
   "outputs": [],
   "source": [
    "# X_reduced ----->> Indirgenmis X Anlaminda Kullaniyoruz\n",
    "# scale ----->> Olceklendirme Islemi Yapmaya Yariyor ( Yukarida Import Ettik )\n",
    "\n",
    "X_reduced_train = pca.fit_transform(scale(X_train))"
   ]
  },
  {
   "cell_type": "code",
   "execution_count": 14,
   "id": "e49a6929",
   "metadata": {
    "execution": {
     "iopub.execute_input": "2022-05-22T01:25:28.865166Z",
     "iopub.status.busy": "2022-05-22T01:25:28.864231Z",
     "iopub.status.idle": "2022-05-22T01:25:28.868192Z",
     "shell.execute_reply": "2022-05-22T01:25:28.867593Z"
    },
    "papermill": {
     "duration": 0.145994,
     "end_time": "2022-05-22T01:25:28.869957",
     "exception": false,
     "start_time": "2022-05-22T01:25:28.723963",
     "status": "completed"
    },
    "tags": []
   },
   "outputs": [],
   "source": [
    "# Su Anda Elimizde Degisken Sayisi Kadar Bilesen Olusturulmus Fakat Aralarindaki Baglanti Problemi Ortadan Kalkmis Indirgenmis Bir Veri Seti Var\n",
    "\n",
    "# Yapacak Oldugumuz Islem Bu Veri Seti Uzerinden Bazi Incelemeler Yapalim Dogrulayalim Ondan Sonra Bi Deneme Yapalim\n",
    "\n",
    "# Birde Yukaridanki Code De Sadece Fit Fonksiyonu Da Kullanilabilir Bu Durumda Model Nesnesi Olusur, Biz Transform Ile Olusturduk Ki Hem X'e Gore Model Olusacak Hemde Boyut Indirgeme Islemi Yapilacak -->\n",
    "# -->> Sadece Transform Fonksiyonu Ise X Boyut Indirgeme Islemi Yapar Yani Aslinda Bu Fonksiyonla Biz Boylece Iki Isi Birden Yapmis Oluyoruz Seklinde Dusunebiliriz"
   ]
  },
  {
   "cell_type": "code",
   "execution_count": 15,
   "id": "c9e29f2a",
   "metadata": {
    "execution": {
     "iopub.execute_input": "2022-05-22T01:25:29.152054Z",
     "iopub.status.busy": "2022-05-22T01:25:29.151544Z",
     "iopub.status.idle": "2022-05-22T01:25:29.157177Z",
     "shell.execute_reply": "2022-05-22T01:25:29.156676Z"
    },
    "papermill": {
     "duration": 0.148158,
     "end_time": "2022-05-22T01:25:29.159037",
     "exception": false,
     "start_time": "2022-05-22T01:25:29.010879",
     "status": "completed"
    },
    "tags": []
   },
   "outputs": [
    {
     "data": {
      "text/plain": [
       "array([[-2.49569913e+00, -3.37762397e-01,  7.06391950e-01,\n",
       "        -1.32791025e+00, -8.21824333e-01, -6.62790677e-01,\n",
       "        -6.56764789e-01,  3.68093279e-02, -2.03665105e-01,\n",
       "         1.76134815e-01, -9.20131987e-02,  2.40129020e-01,\n",
       "        -3.60473661e-03, -3.41246327e-02,  4.32799605e-02,\n",
       "         1.02996923e-01,  3.70733348e-03,  1.37933445e-03,\n",
       "        -6.63814471e-03]])"
      ]
     },
     "execution_count": 15,
     "metadata": {},
     "output_type": "execute_result"
    }
   ],
   "source": [
    "X_reduced_train[0:1,:] # Birinci Goslem Ve Tum Bilesenleri Su Anda Gozlemliyoruz"
   ]
  },
  {
   "cell_type": "code",
   "execution_count": 16,
   "id": "2b97673f",
   "metadata": {
    "execution": {
     "iopub.execute_input": "2022-05-22T01:25:29.440891Z",
     "iopub.status.busy": "2022-05-22T01:25:29.440310Z",
     "iopub.status.idle": "2022-05-22T01:25:29.445681Z",
     "shell.execute_reply": "2022-05-22T01:25:29.445011Z"
    },
    "papermill": {
     "duration": 0.148305,
     "end_time": "2022-05-22T01:25:29.447465",
     "exception": false,
     "start_time": "2022-05-22T01:25:29.299160",
     "status": "completed"
    },
    "tags": []
   },
   "outputs": [
    {
     "data": {
      "text/plain": [
       "array([[-2.49569913]])"
      ]
     },
     "execution_count": 16,
     "metadata": {},
     "output_type": "execute_result"
    }
   ],
   "source": [
    "X_reduced_train[0:1,0:1] # Birinci Bilesen Uzerinde Birinci Goslemi Gorduk"
   ]
  },
  {
   "cell_type": "code",
   "execution_count": 17,
   "id": "61f62867",
   "metadata": {
    "execution": {
     "iopub.execute_input": "2022-05-22T01:25:29.733770Z",
     "iopub.status.busy": "2022-05-22T01:25:29.733293Z",
     "iopub.status.idle": "2022-05-22T01:25:29.738614Z",
     "shell.execute_reply": "2022-05-22T01:25:29.737716Z"
    },
    "papermill": {
     "duration": 0.14801,
     "end_time": "2022-05-22T01:25:29.740391",
     "exception": false,
     "start_time": "2022-05-22T01:25:29.592381",
     "status": "completed"
    },
    "tags": []
   },
   "outputs": [
    {
     "data": {
      "text/plain": [
       "array([[-2.49569913, -0.3377624 ]])"
      ]
     },
     "execution_count": 17,
     "metadata": {},
     "output_type": "execute_result"
    }
   ],
   "source": [
    "X_reduced_train[0:1,0:2] # Ilk Iki Bilesende Birinci Gozlemi Gormus Olduk"
   ]
  },
  {
   "cell_type": "code",
   "execution_count": 18,
   "id": "adb17860",
   "metadata": {
    "execution": {
     "iopub.execute_input": "2022-05-22T01:25:30.024703Z",
     "iopub.status.busy": "2022-05-22T01:25:30.024211Z",
     "iopub.status.idle": "2022-05-22T01:25:30.030736Z",
     "shell.execute_reply": "2022-05-22T01:25:30.029915Z"
    },
    "papermill": {
     "duration": 0.152245,
     "end_time": "2022-05-22T01:25:30.032457",
     "exception": false,
     "start_time": "2022-05-22T01:25:29.880212",
     "status": "completed"
    },
    "tags": []
   },
   "outputs": [
    {
     "data": {
      "text/plain": [
       "array([38.18, 59.88, 70.88, 78.88, 84.18, 88.45, 92.05, 94.86, 96.34,\n",
       "       97.28])"
      ]
     },
     "execution_count": 18,
     "metadata": {},
     "output_type": "execute_result"
    }
   ],
   "source": [
    "# Varyans'i Gormek Istedigimizi Dusunelim ---->> Ornegin Ilk 10 Bilesen Ve Bu Bilesenlerce Kumulatif Olarak Aciklanan Varyans'i Gormek Istedigimizi Dusunelim\n",
    "\n",
    "# cumsum: Kumulatif sum Demek\n",
    "\n",
    "\n",
    "np.cumsum(np.round(pca.explained_variance_ratio_, decimals = 4)*100)[0:10]\n",
    "\n",
    "# Yorum; Birinci Bilesenin Veri Setinde Bulunan Toplam Degiskenligin Yani Varyans'in %38 Ini Acikladigi Gozukuyor ---->> Devam Edelim ----->> Ikinci Bilesenin Birinci Bilesen Ile Acikladigi\n",
    "# Varyans Ise %60 Civarinda ----->> Bakin Burada Bilesen Sayisi Arttikca Original Veri Setinin Icindeki Varyansi Aciklama Oranlarinin Arttigi Gozlemleniyor ---->> Veri Setimizde Ornegin 15-20 Tane\n",
    "# Degisken Vardi Fakat Biz Bakin 10 Degisken Burda Gorsellestirdik ( Gosterdik ) Bu 10 Degiskende Daha 10. Degiskene Geldiginde Zaten Veri Setinin Icerisindeki Degiskenligin %97 Sini Acikliyoruz\n",
    "# Dolayisi Ile Mesela Soyle 5 Bilesene Baksak ( Asagida )"
   ]
  },
  {
   "cell_type": "code",
   "execution_count": 19,
   "id": "e285f4c4",
   "metadata": {
    "execution": {
     "iopub.execute_input": "2022-05-22T01:25:30.318541Z",
     "iopub.status.busy": "2022-05-22T01:25:30.318035Z",
     "iopub.status.idle": "2022-05-22T01:25:30.324484Z",
     "shell.execute_reply": "2022-05-22T01:25:30.323700Z"
    },
    "papermill": {
     "duration": 0.151058,
     "end_time": "2022-05-22T01:25:30.326344",
     "exception": false,
     "start_time": "2022-05-22T01:25:30.175286",
     "status": "completed"
    },
    "tags": []
   },
   "outputs": [
    {
     "data": {
      "text/plain": [
       "array([38.18, 59.88, 70.88, 78.88, 84.18])"
      ]
     },
     "execution_count": 19,
     "metadata": {},
     "output_type": "execute_result"
    }
   ],
   "source": [
    "np.cumsum(np.round(pca.explained_variance_ratio_, decimals = 4)*100)[0:5] # Buralarda % 84'unu Aciklayabilir Bir Hale Gelmisiz Dolayisi Ile Burada Temel Bilesen Analizinin Temel Mantigi Buydu --->>\n",
    "# ---->> Veri Setini Daha Az Sayida Bilesene Indirgemekti Mesela 19 Degiskeni Aldik Burada ( Degisken Sayisini Hatirlamiyorum 20 De Olabilir ) Istersek 19 Degiskene 19 Bilesenle, Istersek 5 Bilesenle,\n",
    "# Istersek 8-10 Bilesenle Temsil Edebiliyoruz ---->> Her Kosulda Sectigimiz Bilesen Sayisi Ile Bu Bilesen Sayisinin Ustune Modeli Kurdugumuzda Model Kurma Islemini Gerceklestirmis Oluyoruz"
   ]
  },
  {
   "cell_type": "code",
   "execution_count": 20,
   "id": "91b499d3",
   "metadata": {
    "execution": {
     "iopub.execute_input": "2022-05-22T01:25:30.615179Z",
     "iopub.status.busy": "2022-05-22T01:25:30.614769Z",
     "iopub.status.idle": "2022-05-22T01:25:30.617920Z",
     "shell.execute_reply": "2022-05-22T01:25:30.617292Z"
    },
    "papermill": {
     "duration": 0.151672,
     "end_time": "2022-05-22T01:25:30.619784",
     "exception": false,
     "start_time": "2022-05-22T01:25:30.468112",
     "status": "completed"
    },
    "tags": []
   },
   "outputs": [],
   "source": [
    "lm = LinearRegression()"
   ]
  },
  {
   "cell_type": "code",
   "execution_count": 21,
   "id": "9aa6b682",
   "metadata": {
    "execution": {
     "iopub.execute_input": "2022-05-22T01:25:30.908722Z",
     "iopub.status.busy": "2022-05-22T01:25:30.908308Z",
     "iopub.status.idle": "2022-05-22T01:25:30.912788Z",
     "shell.execute_reply": "2022-05-22T01:25:30.912137Z"
    },
    "papermill": {
     "duration": 0.150311,
     "end_time": "2022-05-22T01:25:30.914663",
     "exception": false,
     "start_time": "2022-05-22T01:25:30.764352",
     "status": "completed"
    },
    "tags": []
   },
   "outputs": [],
   "source": [
    "# X_reduced_train : Indirgenmis Train Seti'ni Burada Biriyoruz\n",
    "\n",
    "pcr_model = lm.fit(X_reduced_train, y_train) # Su Anda Tum Bilesenleri Kullanarak Modeli \"fit\" Etme Islemi Gerceklestirdik"
   ]
  },
  {
   "cell_type": "code",
   "execution_count": 22,
   "id": "e170f0ee",
   "metadata": {
    "execution": {
     "iopub.execute_input": "2022-05-22T01:25:31.206248Z",
     "iopub.status.busy": "2022-05-22T01:25:31.205698Z",
     "iopub.status.idle": "2022-05-22T01:25:31.211724Z",
     "shell.execute_reply": "2022-05-22T01:25:31.210969Z"
    },
    "papermill": {
     "duration": 0.152973,
     "end_time": "2022-05-22T01:25:31.213611",
     "exception": false,
     "start_time": "2022-05-22T01:25:31.060638",
     "status": "completed"
    },
    "tags": []
   },
   "outputs": [
    {
     "data": {
      "text/plain": [
       "543.4834416243655"
      ]
     },
     "execution_count": 22,
     "metadata": {},
     "output_type": "execute_result"
    }
   ],
   "source": [
    "pcr_model.intercept_ # Sabit Burada Gelmis Oldu"
   ]
  },
  {
   "cell_type": "code",
   "execution_count": 23,
   "id": "0bbdc43a",
   "metadata": {
    "execution": {
     "iopub.execute_input": "2022-05-22T01:25:31.497236Z",
     "iopub.status.busy": "2022-05-22T01:25:31.496683Z",
     "iopub.status.idle": "2022-05-22T01:25:31.502909Z",
     "shell.execute_reply": "2022-05-22T01:25:31.502111Z"
    },
    "papermill": {
     "duration": 0.150444,
     "end_time": "2022-05-22T01:25:31.504784",
     "exception": false,
     "start_time": "2022-05-22T01:25:31.354340",
     "status": "completed"
    },
    "tags": []
   },
   "outputs": [
    {
     "data": {
      "text/plain": [
       "array([ 111.13977427,  -29.34209502,   26.29799759,  -38.47549852,\n",
       "        -56.9200785 ,   54.44779423,   40.77493384,  -23.72746012,\n",
       "          9.31198164,   13.02031672,   45.58357748,   31.97791627,\n",
       "         18.93930958, -115.60940171,   24.00382778,  415.70806202,\n",
       "       -449.51779543,  563.07375399,  302.53718462])"
      ]
     },
     "execution_count": 23,
     "metadata": {},
     "output_type": "execute_result"
    }
   ],
   "source": [
    "pcr_model.coef_ # Katsayilari Istedigimizi Ifade Ediyoruz ( 19 Tane Katsayi'da Gelmis Oldu )"
   ]
  },
  {
   "cell_type": "code",
   "execution_count": 24,
   "id": "ade26eed",
   "metadata": {
    "execution": {
     "iopub.execute_input": "2022-05-22T01:25:31.820456Z",
     "iopub.status.busy": "2022-05-22T01:25:31.819735Z",
     "iopub.status.idle": "2022-05-22T01:25:31.823830Z",
     "shell.execute_reply": "2022-05-22T01:25:31.823180Z"
    },
    "papermill": {
     "duration": 0.1638,
     "end_time": "2022-05-22T01:25:31.825698",
     "exception": false,
     "start_time": "2022-05-22T01:25:31.661898",
     "status": "completed"
    },
    "tags": []
   },
   "outputs": [],
   "source": [
    "# Ne Yapmis Olduk; Oncelikle Veri Setini 19 Tane Degisken Var Iken Boyutunu Indirgedik, Indirgedigimiz Boyut Uzerinden Dogrusal Reglesyon Fit Ettik Ve Bu Sekilde Degerlere Eristik"
   ]
  },
  {
   "cell_type": "markdown",
   "id": "4d3fdbfb",
   "metadata": {
    "papermill": {
     "duration": 0.142756,
     "end_time": "2022-05-22T01:25:32.111359",
     "exception": false,
     "start_time": "2022-05-22T01:25:31.968603",
     "status": "completed"
    },
    "tags": []
   },
   "source": [
    "## Tahmin\n",
    "\n",
    "* Bu Bolumde Kurmus Oldugumuz Model Ile Tahmin Islemi Gerceklestiricez"
   ]
  },
  {
   "cell_type": "code",
   "execution_count": 25,
   "id": "5931f9da",
   "metadata": {
    "execution": {
     "iopub.execute_input": "2022-05-22T01:25:32.401538Z",
     "iopub.status.busy": "2022-05-22T01:25:32.400723Z",
     "iopub.status.idle": "2022-05-22T01:25:32.406253Z",
     "shell.execute_reply": "2022-05-22T01:25:32.405695Z"
    },
    "papermill": {
     "duration": 0.153919,
     "end_time": "2022-05-22T01:25:32.408260",
     "exception": false,
     "start_time": "2022-05-22T01:25:32.254341",
     "status": "completed"
    },
    "tags": []
   },
   "outputs": [],
   "source": [
    "y_pred = pcr_model.predict(X_reduced_train)"
   ]
  },
  {
   "cell_type": "code",
   "execution_count": 26,
   "id": "c83e58ee",
   "metadata": {
    "execution": {
     "iopub.execute_input": "2022-05-22T01:25:32.699787Z",
     "iopub.status.busy": "2022-05-22T01:25:32.699500Z",
     "iopub.status.idle": "2022-05-22T01:25:32.705284Z",
     "shell.execute_reply": "2022-05-22T01:25:32.704506Z"
    },
    "papermill": {
     "duration": 0.152654,
     "end_time": "2022-05-22T01:25:32.707371",
     "exception": false,
     "start_time": "2022-05-22T01:25:32.554717",
     "status": "completed"
    },
    "tags": []
   },
   "outputs": [
    {
     "data": {
      "text/plain": [
       "array([377.44484744, 802.19452124, 495.60987745, 112.53177731,\n",
       "       426.21613066])"
      ]
     },
     "execution_count": 26,
     "metadata": {},
     "output_type": "execute_result"
    }
   ],
   "source": [
    "y_pred[0:5] # y_pred Icerisinden Bazi Gozlemleri Inceleyelim ---->> Bakin Cikan Sonuclar Tahmin Edilen Degerler ---->> \"Egitim Seti Icerisindeki\" Tahmin Ettigim Degerler"
   ]
  },
  {
   "cell_type": "code",
   "execution_count": 27,
   "id": "7cf1f6b1",
   "metadata": {
    "execution": {
     "iopub.execute_input": "2022-05-22T01:25:32.994618Z",
     "iopub.status.busy": "2022-05-22T01:25:32.994324Z",
     "iopub.status.idle": "2022-05-22T01:25:33.001158Z",
     "shell.execute_reply": "2022-05-22T01:25:33.000496Z"
    },
    "papermill": {
     "duration": 0.152731,
     "end_time": "2022-05-22T01:25:33.003034",
     "exception": false,
     "start_time": "2022-05-22T01:25:32.850303",
     "status": "completed"
    },
    "tags": []
   },
   "outputs": [
    {
     "data": {
      "text/plain": [
       "289.3292825564976"
      ]
     },
     "execution_count": 27,
     "metadata": {},
     "output_type": "execute_result"
    }
   ],
   "source": [
    "# Simdi Train Setimiz Icin Hatamizi Hesaplayalim\n",
    "\n",
    "np.sqrt(mean_squared_error(y_train, y_pred)) # rmse Hatasi ---->> "
   ]
  },
  {
   "cell_type": "code",
   "execution_count": 28,
   "id": "bfe3c597",
   "metadata": {
    "execution": {
     "iopub.execute_input": "2022-05-22T01:25:33.289600Z",
     "iopub.status.busy": "2022-05-22T01:25:33.289068Z",
     "iopub.status.idle": "2022-05-22T01:25:33.295369Z",
     "shell.execute_reply": "2022-05-22T01:25:33.294726Z"
    },
    "papermill": {
     "duration": 0.151354,
     "end_time": "2022-05-22T01:25:33.297262",
     "exception": false,
     "start_time": "2022-05-22T01:25:33.145908",
     "status": "completed"
    },
    "tags": []
   },
   "outputs": [
    {
     "data": {
      "text/plain": [
       "535.9258821292775"
      ]
     },
     "execution_count": 28,
     "metadata": {},
     "output_type": "execute_result"
    }
   ],
   "source": [
    "df[\"Salary\"].mean() # Maas Ortalamasi Budur ---->> ( Cok Cok Iyi Bir Tahmin Mi Degil Mi Tartisilir )"
   ]
  },
  {
   "cell_type": "code",
   "execution_count": 29,
   "id": "3481c45d",
   "metadata": {
    "execution": {
     "iopub.execute_input": "2022-05-22T01:25:33.584697Z",
     "iopub.status.busy": "2022-05-22T01:25:33.584153Z",
     "iopub.status.idle": "2022-05-22T01:25:33.590741Z",
     "shell.execute_reply": "2022-05-22T01:25:33.589972Z"
    },
    "papermill": {
     "duration": 0.15283,
     "end_time": "2022-05-22T01:25:33.592616",
     "exception": false,
     "start_time": "2022-05-22T01:25:33.439786",
     "status": "completed"
    },
    "tags": []
   },
   "outputs": [
    {
     "data": {
      "text/plain": [
       "0.5770075250410179"
      ]
     },
     "execution_count": 29,
     "metadata": {},
     "output_type": "execute_result"
    }
   ],
   "source": [
    "r2_score(y_train, y_pred) # R Kare Degeri ( Bu Fonksiyonu Daha Once Import Etmistik )"
   ]
  },
  {
   "cell_type": "code",
   "execution_count": 30,
   "id": "6d94eb25",
   "metadata": {
    "execution": {
     "iopub.execute_input": "2022-05-22T01:25:33.881727Z",
     "iopub.status.busy": "2022-05-22T01:25:33.881165Z",
     "iopub.status.idle": "2022-05-22T01:25:33.885157Z",
     "shell.execute_reply": "2022-05-22T01:25:33.884571Z"
    },
    "papermill": {
     "duration": 0.150486,
     "end_time": "2022-05-22T01:25:33.887071",
     "exception": false,
     "start_time": "2022-05-22T01:25:33.736585",
     "status": "completed"
    },
    "tags": []
   },
   "outputs": [],
   "source": [
    "# Simdi Birde Test Hatamizi Inceleyelim --->> Valide Edilmis Hatayi Degil Train Test Uzerinden Gidiyorum --->> Bilgilerini Paylastim Degerlendirmelerimizi Biz Train Test Uzerinden Yapicaz ---->>\n",
    "# ---->> Model Tuning Islemlerinde Validasyon Yontemlerini Ele Aliyor Olucaz"
   ]
  },
  {
   "cell_type": "code",
   "execution_count": 31,
   "id": "60b42db8",
   "metadata": {
    "execution": {
     "iopub.execute_input": "2022-05-22T01:25:34.176096Z",
     "iopub.status.busy": "2022-05-22T01:25:34.175523Z",
     "iopub.status.idle": "2022-05-22T01:25:34.179578Z",
     "shell.execute_reply": "2022-05-22T01:25:34.178840Z"
    },
    "papermill": {
     "duration": 0.150176,
     "end_time": "2022-05-22T01:25:34.181553",
     "exception": false,
     "start_time": "2022-05-22T01:25:34.031377",
     "status": "completed"
    },
    "tags": []
   },
   "outputs": [],
   "source": [
    "# Simdi Test Hatasi Icin Benzer Bir Islem Yapiyor Olucaz"
   ]
  },
  {
   "cell_type": "code",
   "execution_count": 32,
   "id": "3dad2e4c",
   "metadata": {
    "execution": {
     "iopub.execute_input": "2022-05-22T01:25:34.469452Z",
     "iopub.status.busy": "2022-05-22T01:25:34.468712Z",
     "iopub.status.idle": "2022-05-22T01:25:34.472479Z",
     "shell.execute_reply": "2022-05-22T01:25:34.471915Z"
    },
    "papermill": {
     "duration": 0.149735,
     "end_time": "2022-05-22T01:25:34.474328",
     "exception": false,
     "start_time": "2022-05-22T01:25:34.324593",
     "status": "completed"
    },
    "tags": []
   },
   "outputs": [],
   "source": [
    "pca2 = PCA() # Nesne Olusturduk"
   ]
  },
  {
   "cell_type": "code",
   "execution_count": 33,
   "id": "05c06585",
   "metadata": {
    "execution": {
     "iopub.execute_input": "2022-05-22T01:25:34.768583Z",
     "iopub.status.busy": "2022-05-22T01:25:34.768003Z",
     "iopub.status.idle": "2022-05-22T01:25:34.775007Z",
     "shell.execute_reply": "2022-05-22T01:25:34.774426Z"
    },
    "papermill": {
     "duration": 0.156293,
     "end_time": "2022-05-22T01:25:34.777031",
     "exception": false,
     "start_time": "2022-05-22T01:25:34.620738",
     "status": "completed"
    },
    "tags": []
   },
   "outputs": [],
   "source": [
    "X_reduced_test = pca2.fit_transform(scale(X_test)) # Indirgeme Islemini Gerceklestiriyoruz"
   ]
  },
  {
   "cell_type": "code",
   "execution_count": 34,
   "id": "2a43c56b",
   "metadata": {
    "execution": {
     "iopub.execute_input": "2022-05-22T01:25:35.068335Z",
     "iopub.status.busy": "2022-05-22T01:25:35.067920Z",
     "iopub.status.idle": "2022-05-22T01:25:35.072053Z",
     "shell.execute_reply": "2022-05-22T01:25:35.071478Z"
    },
    "papermill": {
     "duration": 0.151354,
     "end_time": "2022-05-22T01:25:35.073941",
     "exception": false,
     "start_time": "2022-05-22T01:25:34.922587",
     "status": "completed"
    },
    "tags": []
   },
   "outputs": [],
   "source": [
    "# Simdi Hatayi Hesaplamak Icin Bu Indirgemis Oldugum ( X_reduced_test ) Test Veri Seti Uzerinden y_pred'leri Hesaplayalim"
   ]
  },
  {
   "cell_type": "code",
   "execution_count": 35,
   "id": "93f6e2c0",
   "metadata": {
    "execution": {
     "iopub.execute_input": "2022-05-22T01:25:35.361154Z",
     "iopub.status.busy": "2022-05-22T01:25:35.360548Z",
     "iopub.status.idle": "2022-05-22T01:25:35.365177Z",
     "shell.execute_reply": "2022-05-22T01:25:35.364301Z"
    },
    "papermill": {
     "duration": 0.150221,
     "end_time": "2022-05-22T01:25:35.367111",
     "exception": false,
     "start_time": "2022-05-22T01:25:35.216890",
     "status": "completed"
    },
    "tags": []
   },
   "outputs": [],
   "source": [
    "y_pred = pcr_model.predict(X_reduced_test) # Soyle Tahmin Degerlerini Aldik ----->> Yani Ne Yapmis Oldum ---->> Egitim Seti Uzerinden Kurmus Oldugum Modeli Kullanarak Test Setinin X Degerlerini Modele\n",
    "# Yerlestirip Y'nin Tahmin Edilen Degerlerini ( y Sapka --->> y_pred Olarak Dusunulebilir ) Elde Etmis Oldum"
   ]
  },
  {
   "cell_type": "code",
   "execution_count": 36,
   "id": "985560fe",
   "metadata": {
    "execution": {
     "iopub.execute_input": "2022-05-22T01:25:35.655933Z",
     "iopub.status.busy": "2022-05-22T01:25:35.655421Z",
     "iopub.status.idle": "2022-05-22T01:25:35.658498Z",
     "shell.execute_reply": "2022-05-22T01:25:35.657944Z"
    },
    "papermill": {
     "duration": 0.149993,
     "end_time": "2022-05-22T01:25:35.660353",
     "exception": false,
     "start_time": "2022-05-22T01:25:35.510360",
     "status": "completed"
    },
    "tags": []
   },
   "outputs": [],
   "source": [
    "# Simdi Test Seti Icin Ayni Hata Hesaplama Islemini Gerceklestirelim"
   ]
  },
  {
   "cell_type": "code",
   "execution_count": 37,
   "id": "89972068",
   "metadata": {
    "execution": {
     "iopub.execute_input": "2022-05-22T01:25:35.950276Z",
     "iopub.status.busy": "2022-05-22T01:25:35.949819Z",
     "iopub.status.idle": "2022-05-22T01:25:35.956312Z",
     "shell.execute_reply": "2022-05-22T01:25:35.955737Z"
    },
    "papermill": {
     "duration": 0.15386,
     "end_time": "2022-05-22T01:25:35.958064",
     "exception": false,
     "start_time": "2022-05-22T01:25:35.804204",
     "status": "completed"
    },
    "tags": []
   },
   "outputs": [
    {
     "data": {
      "text/plain": [
       "405.15753641499634"
      ]
     },
     "execution_count": 37,
     "metadata": {},
     "output_type": "execute_result"
    }
   ],
   "source": [
    "np.sqrt(mean_squared_error(y_test, y_pred)) # Burada Bisi Farkettim ---->> Bidaha Bu Codeyi Calistirirsam Deger Degisiyor Nedeni Ne Olabilir ( Tehlikeli Olabilir ) ( Dikkat Et !!! )"
   ]
  },
  {
   "cell_type": "markdown",
   "id": "cde2bac7",
   "metadata": {
    "papermill": {
     "duration": 0.144242,
     "end_time": "2022-05-22T01:25:36.245827",
     "exception": false,
     "start_time": "2022-05-22T01:25:36.101585",
     "status": "completed"
    },
    "tags": []
   },
   "source": [
    "## Model Tuning"
   ]
  },
  {
   "cell_type": "code",
   "execution_count": 38,
   "id": "3cb8248a",
   "metadata": {
    "execution": {
     "iopub.execute_input": "2022-05-22T01:25:36.544392Z",
     "iopub.status.busy": "2022-05-22T01:25:36.543903Z",
     "iopub.status.idle": "2022-05-22T01:25:36.550423Z",
     "shell.execute_reply": "2022-05-22T01:25:36.549841Z"
    },
    "papermill": {
     "duration": 0.161299,
     "end_time": "2022-05-22T01:25:36.554390",
     "exception": false,
     "start_time": "2022-05-22T01:25:36.393091",
     "status": "completed"
    },
    "tags": []
   },
   "outputs": [
    {
     "name": "stdout",
     "output_type": "stream",
     "text": [
      "405.15753641499634\n"
     ]
    }
   ],
   "source": [
    "# Butun Bilesenler Ile Kurulan Modelin Test Hatasina Bir Daha Bakalim ( Hatirlatma )\n",
    "\n",
    "# X_reduced_train : Egitim Seti\n",
    "# X_reduced_test : Test Seti\n",
    "\n",
    "lm = LinearRegression()\n",
    "pcr_model = lm.fit(X_reduced_train, y_train)\n",
    "y_pred = pcr_model.predict(X_reduced_test)\n",
    "print(np.sqrt(mean_squared_error(y_test, y_pred)))"
   ]
  },
  {
   "cell_type": "code",
   "execution_count": 39,
   "id": "b5a8b497",
   "metadata": {
    "execution": {
     "iopub.execute_input": "2022-05-22T01:25:36.847345Z",
     "iopub.status.busy": "2022-05-22T01:25:36.846710Z",
     "iopub.status.idle": "2022-05-22T01:25:36.854408Z",
     "shell.execute_reply": "2022-05-22T01:25:36.853558Z"
    },
    "papermill": {
     "duration": 0.156096,
     "end_time": "2022-05-22T01:25:36.857524",
     "exception": false,
     "start_time": "2022-05-22T01:25:36.701428",
     "status": "completed"
    },
    "tags": []
   },
   "outputs": [
    {
     "name": "stdout",
     "output_type": "stream",
     "text": [
      "392.38935589493457\n"
     ]
    }
   ],
   "source": [
    "# 1 Bilesenli Hali\n",
    "\n",
    "# Peki Biz Bunu 1 Bilesen Ile Model Kurmus Oldugumuzu Dusunelim Ve Nasil Test Hatalari Almis Olabilecegimizi Gozlemleyelim\n",
    "\n",
    "lm = LinearRegression()\n",
    "pcr_model = lm.fit(X_reduced_train[:,0:1], y_train) # Egitim Setinin 1. Bilesenine Kadar Aldi ( Onemli Hatirlatma : Egitim Setinin Gozlemi Ile Bi Altta Bulunan Test Seti Boyutu Ayni Olmak Zorunda ) -->\n",
    "# Eger Ayni Olmazsa Boyut Hatalarina Gidicez\n",
    "y_pred = pcr_model.predict(X_reduced_test[:,0:1]) # Tahmin Yaparken Ki Test Seti Ayni Ayarda Olmak Zorunda\n",
    "print(np.sqrt(mean_squared_error(y_test, y_pred)))"
   ]
  },
  {
   "cell_type": "code",
   "execution_count": 40,
   "id": "49e4b12b",
   "metadata": {
    "execution": {
     "iopub.execute_input": "2022-05-22T01:25:37.161021Z",
     "iopub.status.busy": "2022-05-22T01:25:37.160748Z",
     "iopub.status.idle": "2022-05-22T01:25:37.168119Z",
     "shell.execute_reply": "2022-05-22T01:25:37.167242Z"
    },
    "papermill": {
     "duration": 0.164257,
     "end_time": "2022-05-22T01:25:37.171545",
     "exception": false,
     "start_time": "2022-05-22T01:25:37.007288",
     "status": "completed"
    },
    "tags": []
   },
   "outputs": [
    {
     "name": "stdout",
     "output_type": "stream",
     "text": [
      "396.38761247967653\n"
     ]
    }
   ],
   "source": [
    "# 2 Bilesenli Hali\n",
    "\n",
    "# Peki Biz Bunu 2 Bilesen Ile Model Kurmus Oldugumuzu Dusunelim Ve Nasil Test Hatalari Almis Olabilecegimizi Gozlemleyelim\n",
    "\n",
    "lm = LinearRegression()\n",
    "pcr_model = lm.fit(X_reduced_train[:,0:2], y_train) # Egitim Setinin 2. Bilesenine Kadar Aldi ( Onemli Hatirlatma : Egitim Setinin Gozlemi Ile Bi Altta Bulunan Test Seti Boyutu Ayni Olmak Zorunda ) -->\n",
    "# Eger Ayni Olmazsa Boyut Hatalarina Gidicez\n",
    "y_pred = pcr_model.predict(X_reduced_test[:,0:2]) # Tahmin Yaparken Ki Test Seti Ayni Ayarda Olmak Zorunda\n",
    "print(np.sqrt(mean_squared_error(y_test, y_pred)))"
   ]
  },
  {
   "cell_type": "code",
   "execution_count": 41,
   "id": "bb5d609f",
   "metadata": {
    "execution": {
     "iopub.execute_input": "2022-05-22T01:25:37.467529Z",
     "iopub.status.busy": "2022-05-22T01:25:37.467273Z",
     "iopub.status.idle": "2022-05-22T01:25:37.474604Z",
     "shell.execute_reply": "2022-05-22T01:25:37.473716Z"
    },
    "papermill": {
     "duration": 0.159558,
     "end_time": "2022-05-22T01:25:37.477802",
     "exception": false,
     "start_time": "2022-05-22T01:25:37.318244",
     "status": "completed"
    },
    "tags": []
   },
   "outputs": [
    {
     "name": "stdout",
     "output_type": "stream",
     "text": [
      "390.79142556822234\n"
     ]
    }
   ],
   "source": [
    "# Bilesen Sayisi Daha Fazla Yapalim Mesela 10 Yapalim\n",
    "\n",
    "# Peki Biz Bunu 10 Bilesen Ile Model Kurmus Oldugumuzu Dusunelim Ve Nasil Test Hatalari Almis Olabilecegimizi Gozlemleyelim\n",
    "\n",
    "lm = LinearRegression()\n",
    "pcr_model = lm.fit(X_reduced_train[:,0:10], y_train) # Egitim Setinin 10. Bilesenine Kadar Aldi ( Onemli Hatirlatma : Egitim Setinin Gozlemi Ile Bi Altta Bulunan Test Seti Boyutu Ayni Olmak Zorunda ) -->\n",
    "# Eger Ayni Olmazsa Boyut Hatalarina Gidicez\n",
    "y_pred = pcr_model.predict(X_reduced_test[:,0:10]) # Tahmin Yaparken Ki Test Seti Ayni Ayarda Olmak Zorunda\n",
    "print(np.sqrt(mean_squared_error(y_test, y_pred)))"
   ]
  },
  {
   "cell_type": "code",
   "execution_count": 42,
   "id": "2960dddf",
   "metadata": {
    "execution": {
     "iopub.execute_input": "2022-05-22T01:25:37.771872Z",
     "iopub.status.busy": "2022-05-22T01:25:37.771591Z",
     "iopub.status.idle": "2022-05-22T01:25:37.775134Z",
     "shell.execute_reply": "2022-05-22T01:25:37.774297Z"
    },
    "papermill": {
     "duration": 0.154081,
     "end_time": "2022-05-22T01:25:37.777164",
     "exception": false,
     "start_time": "2022-05-22T01:25:37.623083",
     "status": "completed"
    },
    "tags": []
   },
   "outputs": [],
   "source": [
    "# Simdi Biz Burada Bilesen Sayilari Ile Oynadigimizda ( Teker Teker ) Dusuk Sonuclara Ulasabiliyoruz Ama Biz Teker Teker Deneme Yapmak Istemiyoruz Ne Gerek Var? ---->> Bir Yapi Olusturup En Optimum --->>\n",
    "# --->> Sonucu ( Bilesen Sayimizi Belirleme Islemi Yapicaz ) Bulucaz"
   ]
  },
  {
   "cell_type": "code",
   "execution_count": 43,
   "id": "12cba7cc",
   "metadata": {
    "execution": {
     "iopub.execute_input": "2022-05-22T01:25:38.070340Z",
     "iopub.status.busy": "2022-05-22T01:25:38.069840Z",
     "iopub.status.idle": "2022-05-22T01:25:38.073221Z",
     "shell.execute_reply": "2022-05-22T01:25:38.072652Z"
    },
    "papermill": {
     "duration": 0.152564,
     "end_time": "2022-05-22T01:25:38.074996",
     "exception": false,
     "start_time": "2022-05-22T01:25:37.922432",
     "status": "completed"
    },
    "tags": []
   },
   "outputs": [],
   "source": [
    "from sklearn import model_selection"
   ]
  },
  {
   "cell_type": "code",
   "execution_count": 44,
   "id": "36296fee",
   "metadata": {
    "execution": {
     "iopub.execute_input": "2022-05-22T01:25:38.368793Z",
     "iopub.status.busy": "2022-05-22T01:25:38.368291Z",
     "iopub.status.idle": "2022-05-22T01:25:38.372191Z",
     "shell.execute_reply": "2022-05-22T01:25:38.371647Z"
    },
    "papermill": {
     "duration": 0.1537,
     "end_time": "2022-05-22T01:25:38.373965",
     "exception": false,
     "start_time": "2022-05-22T01:25:38.220265",
     "status": "completed"
    },
    "tags": []
   },
   "outputs": [],
   "source": [
    "# 10 Katli Cross Validation Yapilandirmasi Yapmis Olduk\n",
    "\n",
    "\n",
    "# shuffle : Gruplara Ayrilmadan Once Verilerin Karistirilip Karistirilmayacagi Bilgisini Tasiyor\n",
    "\n",
    "\n",
    "cv_10 = model_selection.KFold(n_splits = 10, # 10 Katli Yapacagim Bilgisini Veriyorum\n",
    "                             shuffle = True,\n",
    "                             random_state = 1)"
   ]
  },
  {
   "cell_type": "code",
   "execution_count": 45,
   "id": "2ba91802",
   "metadata": {
    "execution": {
     "iopub.execute_input": "2022-05-22T01:25:38.667909Z",
     "iopub.status.busy": "2022-05-22T01:25:38.667374Z",
     "iopub.status.idle": "2022-05-22T01:25:38.670879Z",
     "shell.execute_reply": "2022-05-22T01:25:38.670184Z"
    },
    "papermill": {
     "duration": 0.153763,
     "end_time": "2022-05-22T01:25:38.672684",
     "exception": false,
     "start_time": "2022-05-22T01:25:38.518921",
     "status": "completed"
    },
    "tags": []
   },
   "outputs": [],
   "source": [
    "lm = LinearRegression()"
   ]
  },
  {
   "cell_type": "code",
   "execution_count": 46,
   "id": "fbcddd3c",
   "metadata": {
    "execution": {
     "iopub.execute_input": "2022-05-22T01:25:38.967169Z",
     "iopub.status.busy": "2022-05-22T01:25:38.966691Z",
     "iopub.status.idle": "2022-05-22T01:25:38.970209Z",
     "shell.execute_reply": "2022-05-22T01:25:38.969440Z"
    },
    "papermill": {
     "duration": 0.152169,
     "end_time": "2022-05-22T01:25:38.972024",
     "exception": false,
     "start_time": "2022-05-22T01:25:38.819855",
     "status": "completed"
    },
    "tags": []
   },
   "outputs": [],
   "source": [
    "RMSE = []"
   ]
  },
  {
   "cell_type": "code",
   "execution_count": 47,
   "id": "1c2f5cd4",
   "metadata": {
    "execution": {
     "iopub.execute_input": "2022-05-22T01:25:39.263935Z",
     "iopub.status.busy": "2022-05-22T01:25:39.263410Z",
     "iopub.status.idle": "2022-05-22T01:25:39.266545Z",
     "shell.execute_reply": "2022-05-22T01:25:39.265962Z"
    },
    "papermill": {
     "duration": 0.150695,
     "end_time": "2022-05-22T01:25:39.268322",
     "exception": false,
     "start_time": "2022-05-22T01:25:39.117627",
     "status": "completed"
    },
    "tags": []
   },
   "outputs": [],
   "source": [
    "# !! Soo Important !!\n",
    "\n",
    "# Simdi Her Bir Bilesen Sayisi Icin Olusturulacak Modeller Ile Cross Validation'a Gore Train Hatasi Hesaplanacak Ve Bir Kaydetme Islemi Gerceklesecek Ve Bunun Sonunda Biz Bu Sonuclari Gorsellestirip\n",
    "# Degerlendirip ( Buna \"Bulut Force\" Yontemi Denir ) Bu PCR Icin En Uygun Bilesen Sayisinin Ne Olduguna Karar Vermis Olucaz"
   ]
  },
  {
   "cell_type": "code",
   "execution_count": 48,
   "id": "f8900cbd",
   "metadata": {
    "execution": {
     "iopub.execute_input": "2022-05-22T01:25:39.559730Z",
     "iopub.status.busy": "2022-05-22T01:25:39.559400Z",
     "iopub.status.idle": "2022-05-22T01:25:39.825358Z",
     "shell.execute_reply": "2022-05-22T01:25:39.824469Z"
    },
    "papermill": {
     "duration": 0.414788,
     "end_time": "2022-05-22T01:25:39.827991",
     "exception": false,
     "start_time": "2022-05-22T01:25:39.413203",
     "status": "completed"
    },
    "tags": []
   },
   "outputs": [],
   "source": [
    "# Bu Islemi Bir Kerede Yapan Kutuphane Yok Bu Yuzden For Dongusune Aldik\n",
    "\n",
    "for i in np.arange(1, X_reduced_train.shape[1] + 1):\n",
    "    \n",
    "    score = np.sqrt(-1*model_selection.cross_val_score(lm, \n",
    "                                                       X_reduced_train[:,:i], \n",
    "                                                       y_train.ravel(), \n",
    "                                                       cv=cv_10, \n",
    "                                                       scoring='neg_mean_squared_error').mean())\n",
    "    RMSE.append(score)"
   ]
  },
  {
   "cell_type": "code",
   "execution_count": 49,
   "id": "0b6a9853",
   "metadata": {
    "execution": {
     "iopub.execute_input": "2022-05-22T01:25:40.123153Z",
     "iopub.status.busy": "2022-05-22T01:25:40.122745Z",
     "iopub.status.idle": "2022-05-22T01:25:40.126270Z",
     "shell.execute_reply": "2022-05-22T01:25:40.125740Z"
    },
    "papermill": {
     "duration": 0.152503,
     "end_time": "2022-05-22T01:25:40.128023",
     "exception": false,
     "start_time": "2022-05-22T01:25:39.975520",
     "status": "completed"
    },
    "tags": []
   },
   "outputs": [],
   "source": [
    "# !! Soo Important !!\n",
    "\n",
    "# Yukaridaki Islem Her Bir Bilesen Sayisi Icin Gidicek Model Kurucak, Her Bir Bilesen Icin K Katli Cross Validation Uygulayip Buradaki Hata Degerlerini Elde Edip Daha Sonra Bize Hangi Bilesen Sayisinin\n",
    "# Daha Az Hata Olusturdugu Bilgisini Sunmus Olucak"
   ]
  },
  {
   "cell_type": "code",
   "execution_count": 50,
   "id": "9a4e172d",
   "metadata": {
    "execution": {
     "iopub.execute_input": "2022-05-22T01:25:40.434728Z",
     "iopub.status.busy": "2022-05-22T01:25:40.434058Z",
     "iopub.status.idle": "2022-05-22T01:25:40.687043Z",
     "shell.execute_reply": "2022-05-22T01:25:40.685411Z"
    },
    "papermill": {
     "duration": 0.416972,
     "end_time": "2022-05-22T01:25:40.689869",
     "exception": false,
     "start_time": "2022-05-22T01:25:40.272897",
     "status": "completed"
    },
    "tags": []
   },
   "outputs": [
    {
     "data": {
      "image/png": "[encoded data removed]",
      "text/plain": [
       "<Figure size 432x288 with 1 Axes>"
      ]
     },
     "metadata": {
      "needs_background": "light"
     },
     "output_type": "display_data"
    }
   ],
   "source": [
    "# 2 Yukarida Yapilan Islemin Sonuclarini Gozlemleyelim\n",
    "\n",
    "plt.plot(RMSE, '-v')\n",
    "plt.xlabel('Bileşen Sayısı')\n",
    "plt.ylabel('RMSE')\n",
    "plt.title('Maaş Tahmin Modeli İçin PCR Model Tuning');\n",
    "\n",
    "# Yorum; Optimum Bilesen Sayisinin Kac Olmasi Gerektigini Cross Validation Yontemi Ve Train Setini Kullanarak  ( Onemli Bir Bilgi Bunu Train Seti Uzerinden Yapiyoruz ) Cross Validation Yontemi Ile\n",
    "# Dogrulamayi Ve Bilesen Sayisi Secmeyi Burda Kullanmis Oluyoruz Ve Sonrasinda Bilesene Sayisini Belirledik ( Su Anda Biliyoruz Kİ Bilesen Sayisi 6 ) ( Bitti Mi ? ) ( Bitmedi ) ---->>\n",
    "# ----->> Optimum Bilesen Sayisi Ile Final Modelini Olusturucaz"
   ]
  },
  {
   "cell_type": "code",
   "execution_count": 51,
   "id": "0b6d8461",
   "metadata": {
    "execution": {
     "iopub.execute_input": "2022-05-22T01:25:40.990753Z",
     "iopub.status.busy": "2022-05-22T01:25:40.990001Z",
     "iopub.status.idle": "2022-05-22T01:25:40.994446Z",
     "shell.execute_reply": "2022-05-22T01:25:40.993727Z"
    },
    "papermill": {
     "duration": 0.155157,
     "end_time": "2022-05-22T01:25:40.996493",
     "exception": false,
     "start_time": "2022-05-22T01:25:40.841336",
     "status": "completed"
    },
    "tags": []
   },
   "outputs": [],
   "source": [
    "lm = LinearRegression()"
   ]
  },
  {
   "cell_type": "code",
   "execution_count": 52,
   "id": "4b48ce4b",
   "metadata": {
    "execution": {
     "iopub.execute_input": "2022-05-22T01:25:41.300777Z",
     "iopub.status.busy": "2022-05-22T01:25:41.300245Z",
     "iopub.status.idle": "2022-05-22T01:25:41.304797Z",
     "shell.execute_reply": "2022-05-22T01:25:41.304217Z"
    },
    "papermill": {
     "duration": 0.160194,
     "end_time": "2022-05-22T01:25:41.308746",
     "exception": false,
     "start_time": "2022-05-22T01:25:41.148552",
     "status": "completed"
    },
    "tags": []
   },
   "outputs": [],
   "source": [
    "# En Optimum Bilesen Sayisi 6 Bulduk Bu Yuzden 6 Uzerinden Yapiyoruz\n",
    "\n",
    "pcr_model = lm.fit(X_reduced_train[:,0:6], y_train)"
   ]
  },
  {
   "cell_type": "code",
   "execution_count": 53,
   "id": "309ec27a",
   "metadata": {
    "execution": {
     "iopub.execute_input": "2022-05-22T01:25:41.605157Z",
     "iopub.status.busy": "2022-05-22T01:25:41.604855Z",
     "iopub.status.idle": "2022-05-22T01:25:41.611408Z",
     "shell.execute_reply": "2022-05-22T01:25:41.608855Z"
    },
    "papermill": {
     "duration": 0.156354,
     "end_time": "2022-05-22T01:25:41.613543",
     "exception": false,
     "start_time": "2022-05-22T01:25:41.457189",
     "status": "completed"
    },
    "tags": []
   },
   "outputs": [],
   "source": [
    "y_pred = pcr_model.predict(X_reduced_train[:,0:6])"
   ]
  },
  {
   "cell_type": "code",
   "execution_count": 54,
   "id": "031d3ba0",
   "metadata": {
    "execution": {
     "iopub.execute_input": "2022-05-22T01:25:41.913007Z",
     "iopub.status.busy": "2022-05-22T01:25:41.912722Z",
     "iopub.status.idle": "2022-05-22T01:25:41.918170Z",
     "shell.execute_reply": "2022-05-22T01:25:41.917178Z"
    },
    "papermill": {
     "duration": 0.157739,
     "end_time": "2022-05-22T01:25:41.920274",
     "exception": false,
     "start_time": "2022-05-22T01:25:41.762535",
     "status": "completed"
    },
    "tags": []
   },
   "outputs": [
    {
     "name": "stdout",
     "output_type": "stream",
     "text": [
      "308.8265983094501\n"
     ]
    }
   ],
   "source": [
    "print(np.sqrt(mean_squared_error(y_train, y_pred))) # Burada Tahmin Edilen Degerler Ile Train Icerisindeki Gercek Degerler Icin Bir Egitim Hatamiza Bakalim ( 308 Cikti ) "
   ]
  },
  {
   "cell_type": "code",
   "execution_count": 55,
   "id": "2b7e5a42",
   "metadata": {
    "execution": {
     "iopub.execute_input": "2022-05-22T01:25:42.219040Z",
     "iopub.status.busy": "2022-05-22T01:25:42.218183Z",
     "iopub.status.idle": "2022-05-22T01:25:42.222608Z",
     "shell.execute_reply": "2022-05-22T01:25:42.222080Z"
    },
    "papermill": {
     "duration": 0.154411,
     "end_time": "2022-05-22T01:25:42.224376",
     "exception": false,
     "start_time": "2022-05-22T01:25:42.069965",
     "status": "completed"
    },
    "tags": []
   },
   "outputs": [],
   "source": [
    "# Simdi Bu Islemin ( Yukaridaki Islemin ) Aynisini Test Seti Icin Gerceklestirelim"
   ]
  },
  {
   "cell_type": "code",
   "execution_count": 56,
   "id": "0f76f433",
   "metadata": {
    "execution": {
     "iopub.execute_input": "2022-05-22T01:25:42.522758Z",
     "iopub.status.busy": "2022-05-22T01:25:42.522031Z",
     "iopub.status.idle": "2022-05-22T01:25:42.526265Z",
     "shell.execute_reply": "2022-05-22T01:25:42.525722Z"
    },
    "papermill": {
     "duration": 0.156243,
     "end_time": "2022-05-22T01:25:42.528030",
     "exception": false,
     "start_time": "2022-05-22T01:25:42.371787",
     "status": "completed"
    },
    "tags": []
   },
   "outputs": [],
   "source": [
    "y_pred = pcr_model.predict(X_reduced_test[:,0:6]) # Test Setimizi Girdik, Bunun Uzerinden Uzerinden Test Setine Iliskin Y Tahmin Degerleri Olusacak"
   ]
  },
  {
   "cell_type": "code",
   "execution_count": 57,
   "id": "8e0bda06",
   "metadata": {
    "execution": {
     "iopub.execute_input": "2022-05-22T01:25:42.855268Z",
     "iopub.status.busy": "2022-05-22T01:25:42.854982Z",
     "iopub.status.idle": "2022-05-22T01:25:42.860111Z",
     "shell.execute_reply": "2022-05-22T01:25:42.859514Z"
    },
    "papermill": {
     "duration": 0.168785,
     "end_time": "2022-05-22T01:25:42.862209",
     "exception": false,
     "start_time": "2022-05-22T01:25:42.693424",
     "status": "completed"
    },
    "tags": []
   },
   "outputs": [
    {
     "name": "stdout",
     "output_type": "stream",
     "text": [
      "393.11987000962233\n"
     ]
    }
   ],
   "source": [
    "print(np.sqrt(mean_squared_error(y_test, y_pred))) # Buradaya y_test Dedigimizde Test Setinin Y Degerlerine Erismis Olucaz"
   ]
  },
  {
   "cell_type": "markdown",
   "id": "cf312351",
   "metadata": {
    "papermill": {
     "duration": 0.147206,
     "end_time": "2022-05-22T01:25:43.156376",
     "exception": false,
     "start_time": "2022-05-22T01:25:43.009170",
     "status": "completed"
    },
    "tags": []
   },
   "source": [
    "# Genel Olarak Ne - Yaptik Ne Yapiyoruz"
   ]
  },
  {
   "cell_type": "code",
   "execution_count": 58,
   "id": "68f44ac2",
   "metadata": {
    "execution": {
     "iopub.execute_input": "2022-05-22T01:25:43.453208Z",
     "iopub.status.busy": "2022-05-22T01:25:43.452634Z",
     "iopub.status.idle": "2022-05-22T01:25:43.457768Z",
     "shell.execute_reply": "2022-05-22T01:25:43.457217Z"
    },
    "papermill": {
     "duration": 0.156867,
     "end_time": "2022-05-22T01:25:43.459499",
     "exception": false,
     "start_time": "2022-05-22T01:25:43.302632",
     "status": "completed"
    },
    "tags": []
   },
   "outputs": [],
   "source": [
    "# Genelde Beklentimiz Modelin Tune Edilmeden Onceki Ortaya Koydugu Test Hatasi Ile Tune Edildikten Sonra Bizim Hesapladigimiz Test Hatasi Karsilastirildiginda Bizim Hesapladigimiz Ve Tune Edilmis\n",
    "# Modelin Test Hatasinin Daha Assagida Cikmasini Bekleriz ( Genel Beklenti Bu Yonde Olmalidir, Yoksa Niye Bosu Bosuna Tune Islemi Yaptik Dimi ( Evet ) )\n",
    "\n",
    "# Fakat Eger Elimizdeki Test Ve Train Degerlendirme Islemlerinde Valide Edilmis Score'ler Uzerinden Bu Islemi Yapiyorsak Bu Durumda Da Beklenti Daha Saglikli Olucaktir\n",
    "\n",
    "\n",
    "# Simdi Toparlicak Olursak; Oncelikle Her Zaman Ilkel Bir Test Hatasi Ve Train Hatasi Hesaplicaz, Bu Elde Ettigimiz Test Hatasi Ve Train Hatasini Daha Dogru Degerlendirebilmenin Yolu Cross Validation\n",
    "# Yontemi Ile Incelemek Demistik, Iste Elde Ettigimiz Ilk Train Hatasi Ve Test Hatasini Cross Validation Yontemi Ile Bir Daha Goz Onunde Bulundurdugumuzda Elimize \"Daha Dogru\" Hatalar Gelicek\n",
    "# 2. Basamaga Gecelim; ( Model Tuning Bolumu ) Tune Ettigimiz Bir Model Demek, Model Icin Uygun Olan Hiper Parametre Degerini Buldugumuz Anlamina Gelir. Bir Model Icin Uygun Hiper Parametre Degerini\n",
    "# Bulmak Icin Cross Validation Yontemini Kullaniyoruz Yani Amacimiz Cross Validation Yontemini O Modelin En Iyi Parametre Degerini Bulmak Icin Kullanmak Oluyor Dolayisi Ile Bu Parameter Degerini\n",
    "# Bulduktan Sonra Artik ( Aslinda Bakarsaniz ) Train Seti Ile Bir Iliskimiz Yok Yani Onu Kullandik ( Ne Icin Kullandik; En Iyi Prametre Degerini Bulmak Icin Kullandik ) ( Tamam Bu Cepte )\n",
    "# Simdi Odaklanalim Final Modeline Daha Sonra Bu Bulmus Oldugumuz Final Parametre Degeri Ile Final Modelini Kurmus Oluyoruz Bu Modeli Kurduktan Sonra Onumuzde Yine Train Hatasi Ve Test Hatasi\n",
    "# Degerlendirme Soz Konusu ( Dimi : Evet Cunku Yeniden Model Kurduk, Geriye Donmus Olduk Aslinda Model Kurma Basamagina Donmus Olduk ) Simdi Yine Modeli Kurarken En Optimum Parametreyi Bu Sefer Modele\n",
    "# Gosteriyoruz Ve Train Seti Uzerinden Modelimizi Kuruyoruz Ilerleyecek Olursak Artik Model Kurulduktan Sonra Bu Modelin Yine Train Hatasi Ile Ilgilenmiyoruz Cunku Biz Bu Model Icin Optimum Olduguna\n",
    "# Kanaat Getirdigimiz Parametreyi Zaten Bulup Bunu Yerlestirmis Olduk Simdi Odagimizda Yine Test Seti Olmus Olucak Son Asamada Iste Burada Yine Test Setini Degerlendirirken Yine Cross Validation Yontemi\n",
    "# Ile Degerlendirebiliriz Yada Sinama Seti Olarak Disarida Biraktigimiz Set Ya Bu Ve Bunu Butun Model Karsilastirmalarinda da Esit Olarak Birakicaz Ya Dolayisi Ile Bunun Icin Cross Validation Uygulamadan\n",
    "# Da Direk Test Hatasina Gidebiliriz Ozetle; Butun Bolumlerde ( Ilerki Seviyelerde ) Bundan Sonra Soyle Ilerlemis Olucaz Biz Bi Model Tuning Islemi Yaparak Modellerin Parametre Degerlerini Bulucaz Daha\n",
    "# Sonra Bu Parametre Degerleri Ile Final Modelleri Olusturucaz Ve Bu Final Modelleri Uzerinden De Son Test Hatalarini Hesaplicaz Bunu Sinama Seti Yaklasimi Ile Hesaplar Sekilde Hesaplicaz Ki Butun\n",
    "# Modeller Ile Bu Sekilde Degerlendirme Imkani Bulmus Olalim. Bu Sekilde Elde Edicegimiz Deger Ise Bizim Artik En Son Tune Edilmis Modelimizin Degeri Olmus Olucak ( Yani Optimum Ulasmaya Calistigimiz \n",
    "# Test Hatamiz Olmus Olucak ) Burda Modeli Tune Etme Islemini Cross Validation Araciligi Ile Yapmis Olaraktan Parametremizi Bulup Bunla Son Modeli Kurdugumuzda Iste Onun Uzerinden Artik Son Elde\n",
    "# Ettigimiz Test Seti Hatasi Bizim Final Test Hatamiz Olmus Olucak"
   ]
  },
  {
   "cell_type": "markdown",
   "id": "ad1be248",
   "metadata": {
    "papermill": {
     "duration": 0.146899,
     "end_time": "2022-05-22T01:25:43.752000",
     "exception": false,
     "start_time": "2022-05-22T01:25:43.605101",
     "status": "completed"
    },
    "tags": []
   },
   "source": [
    "# PLS\n",
    "## Model"
   ]
  },
  {
   "cell_type": "code",
   "execution_count": 59,
   "id": "d6101ae5",
   "metadata": {
    "execution": {
     "iopub.execute_input": "2022-05-22T01:25:44.051688Z",
     "iopub.status.busy": "2022-05-22T01:25:44.051186Z",
     "iopub.status.idle": "2022-05-22T01:25:44.072196Z",
     "shell.execute_reply": "2022-05-22T01:25:44.071182Z"
    },
    "papermill": {
     "duration": 0.173752,
     "end_time": "2022-05-22T01:25:44.074567",
     "exception": false,
     "start_time": "2022-05-22T01:25:43.900815",
     "status": "completed"
    },
    "tags": []
   },
   "outputs": [],
   "source": [
    "hit = pd.read_csv(\"../input/hitterscsv/Hitters.csv\")\n",
    "df = hit.copy()\n",
    "df = df.dropna()\n",
    "ms = pd.get_dummies(df[['League', 'Division', 'NewLeague']])\n",
    "y = df[\"Salary\"]\n",
    "X_ = df.drop(['Salary', 'League', 'Division', 'NewLeague'], axis=1).astype('float64')\n",
    "X = pd.concat([X_, dms[['League_N', 'Division_W', 'NewLeague_N']]], axis=1)\n",
    "X_train, X_test, y_train, y_test = train_test_split(X, y, test_size=0.25, random_state=42)"
   ]
  },
  {
   "cell_type": "code",
   "execution_count": 60,
   "id": "951adde3",
   "metadata": {
    "execution": {
     "iopub.execute_input": "2022-05-22T01:25:44.370433Z",
     "iopub.status.busy": "2022-05-22T01:25:44.370064Z",
     "iopub.status.idle": "2022-05-22T01:25:44.378269Z",
     "shell.execute_reply": "2022-05-22T01:25:44.377645Z"
    },
    "papermill": {
     "duration": 0.15867,
     "end_time": "2022-05-22T01:25:44.380409",
     "exception": false,
     "start_time": "2022-05-22T01:25:44.221739",
     "status": "completed"
    },
    "tags": []
   },
   "outputs": [],
   "source": [
    "from sklearn.cross_decomposition import PLSRegression, PLSSVD"
   ]
  },
  {
   "cell_type": "code",
   "execution_count": 61,
   "id": "7bb89211",
   "metadata": {
    "execution": {
     "iopub.execute_input": "2022-05-22T01:25:44.675529Z",
     "iopub.status.busy": "2022-05-22T01:25:44.675098Z",
     "iopub.status.idle": "2022-05-22T01:25:44.684113Z",
     "shell.execute_reply": "2022-05-22T01:25:44.683260Z"
    },
    "papermill": {
     "duration": 0.158512,
     "end_time": "2022-05-22T01:25:44.686207",
     "exception": false,
     "start_time": "2022-05-22T01:25:44.527695",
     "status": "completed"
    },
    "tags": []
   },
   "outputs": [],
   "source": [
    "pls_model = PLSRegression().fit(X_train, y_train) # Modeli Kurduk"
   ]
  },
  {
   "cell_type": "code",
   "execution_count": 62,
   "id": "9eab08ad",
   "metadata": {
    "execution": {
     "iopub.execute_input": "2022-05-22T01:25:44.983339Z",
     "iopub.status.busy": "2022-05-22T01:25:44.982502Z",
     "iopub.status.idle": "2022-05-22T01:25:44.988420Z",
     "shell.execute_reply": "2022-05-22T01:25:44.987687Z"
    },
    "papermill": {
     "duration": 0.156304,
     "end_time": "2022-05-22T01:25:44.990245",
     "exception": false,
     "start_time": "2022-05-22T01:25:44.833941",
     "status": "completed"
    },
    "tags": []
   },
   "outputs": [
    {
     "data": {
      "text/plain": [
       "array([[ 35.32916493],\n",
       "       [ 48.83425857],\n",
       "       [ 18.50240933],\n",
       "       [ 39.28117603],\n",
       "       [ 30.59952998],\n",
       "       [ 40.03398345],\n",
       "       [ 16.85990516],\n",
       "       [ 28.22289896],\n",
       "       [ 32.73784993],\n",
       "       [ 22.00875744],\n",
       "       [ 33.60903032],\n",
       "       [ 30.39402522],\n",
       "       [ 25.73279799],\n",
       "       [ 54.98835148],\n",
       "       [  6.56590871],\n",
       "       [ -0.90894359],\n",
       "       [ 17.60903423],\n",
       "       [-37.24246339],\n",
       "       [ 14.69680385]])"
      ]
     },
     "execution_count": 62,
     "metadata": {},
     "output_type": "execute_result"
    }
   ],
   "source": [
    "pls_model.coef_ # Modelin Katsayilarina Erisiyoruz ( Su Anda Modelin Degisken Sayisi Kadar Elimizde Katsayisi Var )"
   ]
  },
  {
   "cell_type": "code",
   "execution_count": 63,
   "id": "8809c617",
   "metadata": {
    "execution": {
     "iopub.execute_input": "2022-05-22T01:25:45.286814Z",
     "iopub.status.busy": "2022-05-22T01:25:45.285974Z",
     "iopub.status.idle": "2022-05-22T01:25:45.293199Z",
     "shell.execute_reply": "2022-05-22T01:25:45.292616Z"
    },
    "papermill": {
     "duration": 0.156939,
     "end_time": "2022-05-22T01:25:45.295184",
     "exception": false,
     "start_time": "2022-05-22T01:25:45.138245",
     "status": "completed"
    },
    "tags": []
   },
   "outputs": [],
   "source": [
    "# Iki Ustteki Ile Ayni Sadece Bilesen Sayisini Degistiriyoruz ( Goslemleme Yapmak Icin Ne Olucak Diye Yani )\n",
    "\n",
    "pls_model = PLSRegression(n_components = 2).fit(X_train, y_train) # Modeli Kurduk"
   ]
  },
  {
   "cell_type": "code",
   "execution_count": 64,
   "id": "c80e7dfa",
   "metadata": {
    "execution": {
     "iopub.execute_input": "2022-05-22T01:25:45.592521Z",
     "iopub.status.busy": "2022-05-22T01:25:45.592075Z",
     "iopub.status.idle": "2022-05-22T01:25:45.598215Z",
     "shell.execute_reply": "2022-05-22T01:25:45.597650Z"
    },
    "papermill": {
     "duration": 0.156844,
     "end_time": "2022-05-22T01:25:45.600083",
     "exception": false,
     "start_time": "2022-05-22T01:25:45.443239",
     "status": "completed"
    },
    "tags": []
   },
   "outputs": [
    {
     "data": {
      "text/plain": [
       "array([[ 35.32916493],\n",
       "       [ 48.83425857],\n",
       "       [ 18.50240933],\n",
       "       [ 39.28117603],\n",
       "       [ 30.59952998],\n",
       "       [ 40.03398345],\n",
       "       [ 16.85990516],\n",
       "       [ 28.22289896],\n",
       "       [ 32.73784993],\n",
       "       [ 22.00875744],\n",
       "       [ 33.60903032],\n",
       "       [ 30.39402522],\n",
       "       [ 25.73279799],\n",
       "       [ 54.98835148],\n",
       "       [  6.56590871],\n",
       "       [ -0.90894359],\n",
       "       [ 17.60903423],\n",
       "       [-37.24246339],\n",
       "       [ 14.69680385]])"
      ]
     },
     "execution_count": 64,
     "metadata": {},
     "output_type": "execute_result"
    }
   ],
   "source": [
    "pls_model.coef_ # Gorulecegi Uzere 6 Yazdigimizda Yine Ayni Sayida Katsayi Geldi ( Biz Bilesen Sayisini Ayarlayarak Bazi Problemlerden Kurtuluyoruz )"
   ]
  },
  {
   "cell_type": "markdown",
   "id": "2b940104",
   "metadata": {
    "papermill": {
     "duration": 0.148884,
     "end_time": "2022-05-22T01:25:45.961885",
     "exception": false,
     "start_time": "2022-05-22T01:25:45.813001",
     "status": "completed"
    },
    "tags": []
   },
   "source": [
    "## Tahmin"
   ]
  },
  {
   "cell_type": "code",
   "execution_count": 65,
   "id": "64963691",
   "metadata": {
    "execution": {
     "iopub.execute_input": "2022-05-22T01:25:46.262561Z",
     "iopub.status.busy": "2022-05-22T01:25:46.262156Z",
     "iopub.status.idle": "2022-05-22T01:25:46.269807Z",
     "shell.execute_reply": "2022-05-22T01:25:46.268897Z"
    },
    "papermill": {
     "duration": 0.158988,
     "end_time": "2022-05-22T01:25:46.271725",
     "exception": false,
     "start_time": "2022-05-22T01:25:46.112737",
     "status": "completed"
    },
    "tags": []
   },
   "outputs": [
    {
     "data": {
      "text/plain": [
       "PLSRegression()"
      ]
     },
     "execution_count": 65,
     "metadata": {},
     "output_type": "execute_result"
    }
   ],
   "source": [
    "pls_model # Modelimiz Bu Sekildeydi"
   ]
  },
  {
   "cell_type": "code",
   "execution_count": 66,
   "id": "2e1714be",
   "metadata": {
    "execution": {
     "iopub.execute_input": "2022-05-22T01:25:46.574511Z",
     "iopub.status.busy": "2022-05-22T01:25:46.573812Z",
     "iopub.status.idle": "2022-05-22T01:25:46.600884Z",
     "shell.execute_reply": "2022-05-22T01:25:46.600050Z"
    },
    "papermill": {
     "duration": 0.181666,
     "end_time": "2022-05-22T01:25:46.603388",
     "exception": false,
     "start_time": "2022-05-22T01:25:46.421722",
     "status": "completed"
    },
    "tags": []
   },
   "outputs": [
    {
     "data": {
      "text/html": [
       "<div>\n",
       "<style scoped>\n",
       "    .dataframe tbody tr th:only-of-type {\n",
       "        vertical-align: middle;\n",
       "    }\n",
       "\n",
       "    .dataframe tbody tr th {\n",
       "        vertical-align: top;\n",
       "    }\n",
       "\n",
       "    .dataframe thead th {\n",
       "        text-align: right;\n",
       "    }\n",
       "</style>\n",
       "<table border=\"1\" class=\"dataframe\">\n",
       "  <thead>\n",
       "    <tr style=\"text-align: right;\">\n",
       "      <th></th>\n",
       "      <th>AtBat</th>\n",
       "      <th>Hits</th>\n",
       "      <th>HmRun</th>\n",
       "      <th>Runs</th>\n",
       "      <th>RBI</th>\n",
       "      <th>Walks</th>\n",
       "      <th>Years</th>\n",
       "      <th>CAtBat</th>\n",
       "      <th>CHits</th>\n",
       "      <th>CHmRun</th>\n",
       "      <th>CRuns</th>\n",
       "      <th>CRBI</th>\n",
       "      <th>CWalks</th>\n",
       "      <th>PutOuts</th>\n",
       "      <th>Assists</th>\n",
       "      <th>Errors</th>\n",
       "      <th>League_N</th>\n",
       "      <th>Division_W</th>\n",
       "      <th>NewLeague_N</th>\n",
       "    </tr>\n",
       "  </thead>\n",
       "  <tbody>\n",
       "    <tr>\n",
       "      <th>183</th>\n",
       "      <td>328.0</td>\n",
       "      <td>91.0</td>\n",
       "      <td>12.0</td>\n",
       "      <td>51.0</td>\n",
       "      <td>43.0</td>\n",
       "      <td>33.0</td>\n",
       "      <td>2.0</td>\n",
       "      <td>342.0</td>\n",
       "      <td>94.0</td>\n",
       "      <td>12.0</td>\n",
       "      <td>51.0</td>\n",
       "      <td>44.0</td>\n",
       "      <td>33.0</td>\n",
       "      <td>145.0</td>\n",
       "      <td>59.0</td>\n",
       "      <td>8.0</td>\n",
       "      <td>1</td>\n",
       "      <td>0</td>\n",
       "      <td>1</td>\n",
       "    </tr>\n",
       "    <tr>\n",
       "      <th>229</th>\n",
       "      <td>514.0</td>\n",
       "      <td>144.0</td>\n",
       "      <td>0.0</td>\n",
       "      <td>67.0</td>\n",
       "      <td>54.0</td>\n",
       "      <td>79.0</td>\n",
       "      <td>9.0</td>\n",
       "      <td>4739.0</td>\n",
       "      <td>1169.0</td>\n",
       "      <td>13.0</td>\n",
       "      <td>583.0</td>\n",
       "      <td>374.0</td>\n",
       "      <td>528.0</td>\n",
       "      <td>229.0</td>\n",
       "      <td>453.0</td>\n",
       "      <td>15.0</td>\n",
       "      <td>1</td>\n",
       "      <td>0</td>\n",
       "      <td>1</td>\n",
       "    </tr>\n",
       "    <tr>\n",
       "      <th>286</th>\n",
       "      <td>593.0</td>\n",
       "      <td>152.0</td>\n",
       "      <td>23.0</td>\n",
       "      <td>69.0</td>\n",
       "      <td>75.0</td>\n",
       "      <td>53.0</td>\n",
       "      <td>6.0</td>\n",
       "      <td>2765.0</td>\n",
       "      <td>686.0</td>\n",
       "      <td>133.0</td>\n",
       "      <td>369.0</td>\n",
       "      <td>384.0</td>\n",
       "      <td>321.0</td>\n",
       "      <td>315.0</td>\n",
       "      <td>10.0</td>\n",
       "      <td>6.0</td>\n",
       "      <td>0</td>\n",
       "      <td>1</td>\n",
       "      <td>0</td>\n",
       "    </tr>\n",
       "    <tr>\n",
       "      <th>102</th>\n",
       "      <td>233.0</td>\n",
       "      <td>49.0</td>\n",
       "      <td>2.0</td>\n",
       "      <td>41.0</td>\n",
       "      <td>23.0</td>\n",
       "      <td>18.0</td>\n",
       "      <td>8.0</td>\n",
       "      <td>1350.0</td>\n",
       "      <td>336.0</td>\n",
       "      <td>7.0</td>\n",
       "      <td>166.0</td>\n",
       "      <td>122.0</td>\n",
       "      <td>106.0</td>\n",
       "      <td>102.0</td>\n",
       "      <td>132.0</td>\n",
       "      <td>10.0</td>\n",
       "      <td>0</td>\n",
       "      <td>0</td>\n",
       "      <td>0</td>\n",
       "    </tr>\n",
       "    <tr>\n",
       "      <th>153</th>\n",
       "      <td>341.0</td>\n",
       "      <td>95.0</td>\n",
       "      <td>6.0</td>\n",
       "      <td>48.0</td>\n",
       "      <td>42.0</td>\n",
       "      <td>20.0</td>\n",
       "      <td>10.0</td>\n",
       "      <td>2964.0</td>\n",
       "      <td>808.0</td>\n",
       "      <td>81.0</td>\n",
       "      <td>379.0</td>\n",
       "      <td>428.0</td>\n",
       "      <td>221.0</td>\n",
       "      <td>158.0</td>\n",
       "      <td>4.0</td>\n",
       "      <td>5.0</td>\n",
       "      <td>1</td>\n",
       "      <td>1</td>\n",
       "      <td>1</td>\n",
       "    </tr>\n",
       "  </tbody>\n",
       "</table>\n",
       "</div>"
      ],
      "text/plain": [
       "     AtBat   Hits  HmRun  Runs   RBI  Walks  Years  CAtBat   CHits  CHmRun  \\\n",
       "183  328.0   91.0   12.0  51.0  43.0   33.0    2.0   342.0    94.0    12.0   \n",
       "229  514.0  144.0    0.0  67.0  54.0   79.0    9.0  4739.0  1169.0    13.0   \n",
       "286  593.0  152.0   23.0  69.0  75.0   53.0    6.0  2765.0   686.0   133.0   \n",
       "102  233.0   49.0    2.0  41.0  23.0   18.0    8.0  1350.0   336.0     7.0   \n",
       "153  341.0   95.0    6.0  48.0  42.0   20.0   10.0  2964.0   808.0    81.0   \n",
       "\n",
       "     CRuns   CRBI  CWalks  PutOuts  Assists  Errors  League_N  Division_W  \\\n",
       "183   51.0   44.0    33.0    145.0     59.0     8.0         1           0   \n",
       "229  583.0  374.0   528.0    229.0    453.0    15.0         1           0   \n",
       "286  369.0  384.0   321.0    315.0     10.0     6.0         0           1   \n",
       "102  166.0  122.0   106.0    102.0    132.0    10.0         0           0   \n",
       "153  379.0  428.0   221.0    158.0      4.0     5.0         1           1   \n",
       "\n",
       "     NewLeague_N  \n",
       "183            1  \n",
       "229            1  \n",
       "286            0  \n",
       "102            0  \n",
       "153            1  "
      ]
     },
     "execution_count": 66,
     "metadata": {},
     "output_type": "execute_result"
    }
   ],
   "source": [
    "X_train.head()"
   ]
  },
  {
   "cell_type": "code",
   "execution_count": 67,
   "id": "d4c448c1",
   "metadata": {
    "execution": {
     "iopub.execute_input": "2022-05-22T01:25:46.904252Z",
     "iopub.status.busy": "2022-05-22T01:25:46.903776Z",
     "iopub.status.idle": "2022-05-22T01:25:46.912183Z",
     "shell.execute_reply": "2022-05-22T01:25:46.911639Z"
    },
    "papermill": {
     "duration": 0.161852,
     "end_time": "2022-05-22T01:25:46.913937",
     "exception": false,
     "start_time": "2022-05-22T01:25:46.752085",
     "status": "completed"
    },
    "tags": []
   },
   "outputs": [
    {
     "data": {
      "text/plain": [
       "array([[344.91941493],\n",
       "       [848.87070769],\n",
       "       [692.93622642],\n",
       "       [185.56577984],\n",
       "       [435.49196077],\n",
       "       [987.49530026],\n",
       "       [120.63097106],\n",
       "       [289.9263406 ],\n",
       "       [663.41886918],\n",
       "       [817.90486641]])"
      ]
     },
     "execution_count": 67,
     "metadata": {},
     "output_type": "execute_result"
    }
   ],
   "source": [
    "pls_model.predict(X_train)[0:10] # Tahmin Yapmak Icin Kullaniyoruz ( Biz 2 Bilesenli Model Kurdugumuz Halde Cok Fazla Var)( Numpy Arrayi Oldugu Icin [0:10] Kullandik )\n",
    "\n",
    "# Bu Elde Ettigimiz Bizim Tahmin Degerlerimiz ( Y Tahmin Degerlerini ( \"Salary\" ) ) Degerlerini Bize Gosteriyor\n",
    "\n",
    "# Simdi Bunun Uzerinden Train Hatasini Ve Test Hatasini Validasyon Olaylarina Hic Girmeden Degerlendiricez"
   ]
  },
  {
   "cell_type": "code",
   "execution_count": 68,
   "id": "372ee234",
   "metadata": {
    "execution": {
     "iopub.execute_input": "2022-05-22T01:25:47.215890Z",
     "iopub.status.busy": "2022-05-22T01:25:47.215134Z",
     "iopub.status.idle": "2022-05-22T01:25:47.221375Z",
     "shell.execute_reply": "2022-05-22T01:25:47.220688Z"
    },
    "papermill": {
     "duration": 0.15861,
     "end_time": "2022-05-22T01:25:47.223343",
     "exception": false,
     "start_time": "2022-05-22T01:25:47.064733",
     "status": "completed"
    },
    "tags": []
   },
   "outputs": [],
   "source": [
    "y_pred = pls_model.predict(X_train) # Tahmin Edilen Degerler"
   ]
  },
  {
   "cell_type": "code",
   "execution_count": 69,
   "id": "8bfa74c6",
   "metadata": {
    "execution": {
     "iopub.execute_input": "2022-05-22T01:25:47.524199Z",
     "iopub.status.busy": "2022-05-22T01:25:47.523944Z",
     "iopub.status.idle": "2022-05-22T01:25:47.530351Z",
     "shell.execute_reply": "2022-05-22T01:25:47.529525Z"
    },
    "papermill": {
     "duration": 0.159518,
     "end_time": "2022-05-22T01:25:47.532365",
     "exception": false,
     "start_time": "2022-05-22T01:25:47.372847",
     "status": "completed"
    },
    "tags": []
   },
   "outputs": [
    {
     "data": {
      "text/plain": [
       "310.1167593109696"
      ]
     },
     "execution_count": 69,
     "metadata": {},
     "output_type": "execute_result"
    }
   ],
   "source": [
    "# Egitim Hatamiz Icin\n",
    "\n",
    "np.sqrt(mean_squared_error(y_train, y_pred)) # Train Hatamiz 310 Seklinde Hesaplanmis"
   ]
  },
  {
   "cell_type": "code",
   "execution_count": 70,
   "id": "e1387285",
   "metadata": {
    "execution": {
     "iopub.execute_input": "2022-05-22T01:25:47.833108Z",
     "iopub.status.busy": "2022-05-22T01:25:47.832703Z",
     "iopub.status.idle": "2022-05-22T01:25:47.839158Z",
     "shell.execute_reply": "2022-05-22T01:25:47.838425Z"
    },
    "papermill": {
     "duration": 0.159137,
     "end_time": "2022-05-22T01:25:47.840936",
     "exception": false,
     "start_time": "2022-05-22T01:25:47.681799",
     "status": "completed"
    },
    "tags": []
   },
   "outputs": [
    {
     "data": {
      "text/plain": [
       "0.5140424486535481"
      ]
     },
     "execution_count": 70,
     "metadata": {},
     "output_type": "execute_result"
    }
   ],
   "source": [
    "# R Kare Degerini De Hesaplayalim\n",
    "\n",
    "r2_score(y_train, y_pred)"
   ]
  },
  {
   "cell_type": "markdown",
   "id": "85beb829",
   "metadata": {
    "papermill": {
     "duration": 0.149764,
     "end_time": "2022-05-22T01:25:48.140572",
     "exception": false,
     "start_time": "2022-05-22T01:25:47.990808",
     "status": "completed"
    },
    "tags": []
   },
   "source": [
    "#### Bilgilendirme Var Burada ( Alt Kisimda )"
   ]
  },
  {
   "cell_type": "code",
   "execution_count": 71,
   "id": "6bd2500b",
   "metadata": {
    "execution": {
     "iopub.execute_input": "2022-05-22T01:25:48.443313Z",
     "iopub.status.busy": "2022-05-22T01:25:48.442907Z",
     "iopub.status.idle": "2022-05-22T01:25:48.449179Z",
     "shell.execute_reply": "2022-05-22T01:25:48.448596Z"
    },
    "papermill": {
     "duration": 0.160572,
     "end_time": "2022-05-22T01:25:48.451059",
     "exception": false,
     "start_time": "2022-05-22T01:25:48.290487",
     "status": "completed"
    },
    "tags": []
   },
   "outputs": [],
   "source": [
    "# Train Hatamizi Gozlemledik Yukarida Simdi \"Test Hatamizi\" Gozlemleyelim\n",
    "\n",
    "y_pred = pls_model.predict(X_test) # Modelimizi Egitim Seti Uzerinden Kurduk ( Tahmin Edicek ) ( Neyi Tahmin Edicek ) X Test Icerisinde Var Olan Bagimsiz Degiskenlerin\n",
    "# Degerlerini Alicak Bu Modelde Hesaplamis Oldugumuz Katsayilarin Yerine Koyacak Ve Her Bir Gozlem Birimi Degeri Icin Bir y Tahmin Degeri Hesaplamis Olucak"
   ]
  },
  {
   "cell_type": "code",
   "execution_count": 72,
   "id": "c79be4d2",
   "metadata": {
    "execution": {
     "iopub.execute_input": "2022-05-22T01:25:48.753895Z",
     "iopub.status.busy": "2022-05-22T01:25:48.753607Z",
     "iopub.status.idle": "2022-05-22T01:25:48.760226Z",
     "shell.execute_reply": "2022-05-22T01:25:48.759433Z"
    },
    "papermill": {
     "duration": 0.161128,
     "end_time": "2022-05-22T01:25:48.762250",
     "exception": false,
     "start_time": "2022-05-22T01:25:48.601122",
     "status": "completed"
    },
    "tags": []
   },
   "outputs": [
    {
     "data": {
      "text/plain": [
       "398.09956327448526"
      ]
     },
     "execution_count": 72,
     "metadata": {},
     "output_type": "execute_result"
    }
   ],
   "source": [
    "np.sqrt(mean_squared_error(y_test, y_pred)) # Karsilastirma Icin \"y_test\" Ifadesini Kullanicaz ----->> Test Hatamizi 398 Olarak Gozlemliyoruz"
   ]
  },
  {
   "cell_type": "markdown",
   "id": "3bbd774e",
   "metadata": {
    "papermill": {
     "duration": 0.152351,
     "end_time": "2022-05-22T01:25:49.068253",
     "exception": false,
     "start_time": "2022-05-22T01:25:48.915902",
     "status": "completed"
    },
    "tags": []
   },
   "source": [
    "* Beklenildigi Uzere Ust Taraftaki Modeldeki Train Hatamizi Ve Test Hatamizi Elde Ettik, Beklenildigi Gibi Test Hatasi ( 398 ) Train Hatasindan ( 310 ) Yuksek Cikti\n",
    "* Bu Genelde Boyle Olur Demistik"
   ]
  },
  {
   "cell_type": "markdown",
   "id": "066ba941",
   "metadata": {
    "papermill": {
     "duration": 0.15009,
     "end_time": "2022-05-22T01:25:49.369494",
     "exception": false,
     "start_time": "2022-05-22T01:25:49.219404",
     "status": "completed"
    },
    "tags": []
   },
   "source": [
    "## Model Tuning"
   ]
  },
  {
   "cell_type": "code",
   "execution_count": 73,
   "id": "6ae353a8",
   "metadata": {
    "execution": {
     "iopub.execute_input": "2022-05-22T01:25:49.672458Z",
     "iopub.status.busy": "2022-05-22T01:25:49.672058Z",
     "iopub.status.idle": "2022-05-22T01:25:51.215640Z",
     "shell.execute_reply": "2022-05-22T01:25:51.215052Z"
    },
    "papermill": {
     "duration": 1.696912,
     "end_time": "2022-05-22T01:25:51.217355",
     "exception": false,
     "start_time": "2022-05-22T01:25:49.520443",
     "status": "completed"
    },
    "tags": []
   },
   "outputs": [
    {
     "data": {
      "image/png": "[encoded data removed]",
      "text/plain": [
       "<Figure size 432x288 with 1 Axes>"
      ]
     },
     "metadata": {
      "needs_background": "light"
     },
     "output_type": "display_data"
    }
   ],
   "source": [
    "#CV --->> Cross Validation Yontemi ----->> 10 Katli \n",
    "cv_10 = model_selection.KFold(n_splits=10, shuffle=True, random_state=1)\n",
    "\n",
    "\n",
    "#Hata hesaplamak için döngü\n",
    "RMSE = [] # Hata Kareler Ortalamasi Karekok Degerlerini Saklayacak Bos Bir Liste ( Array ) Olusturduk\n",
    "\n",
    "\n",
    "# Bu Listenin Icerisine Her Bir Modelin Her Bir Farkli Bilesen Sayisinca Hesaplanacak Olan Ve Cross Validation Yontemi Ile Hesaplanacak Olan Score'ler Uzerinden Hangi\n",
    "# Modelin Daha Iyi Oldugu Bilgisine Asagidaki Grafikteki Gibi Erismis Olucaz ( Gorulecegi Uzere 2 Bilesen Sayisin Bana Optimum Degeri Verecek Oldugunu Goruyorum )\n",
    "\n",
    "\n",
    "for i in np.arange(1, X_train.shape[1] + 1):\n",
    "    pls = PLSRegression(n_components=i)\n",
    "    score = np.sqrt(-1*cross_val_score(pls, X_train, y_train, cv=cv_10, scoring='neg_mean_squared_error').mean())\n",
    "    RMSE.append(score)\n",
    "\n",
    "#Sonuçların Görselleştirilmesi\n",
    "plt.plot(np.arange(1, X_train.shape[1] + 1), np.array(RMSE), '-v', c = \"r\")\n",
    "plt.xlabel('Bileşen Sayısı')\n",
    "plt.ylabel('RMSE')\n",
    "plt.title('Salary');"
   ]
  },
  {
   "cell_type": "code",
   "execution_count": 74,
   "id": "da6d5a58",
   "metadata": {
    "execution": {
     "iopub.execute_input": "2022-05-22T01:25:51.522881Z",
     "iopub.status.busy": "2022-05-22T01:25:51.522378Z",
     "iopub.status.idle": "2022-05-22T01:25:51.529472Z",
     "shell.execute_reply": "2022-05-22T01:25:51.528739Z"
    },
    "papermill": {
     "duration": 0.163202,
     "end_time": "2022-05-22T01:25:51.531420",
     "exception": false,
     "start_time": "2022-05-22T01:25:51.368218",
     "status": "completed"
    },
    "tags": []
   },
   "outputs": [],
   "source": [
    "# Simdi 2 Bilesene Gore Modelimizi Tekrar Bi Fit Edelim ( Final Model Olusturuyoruz Aslinda Su Anda )\n",
    "\n",
    "pls_model = PLSRegression(n_components = 2).fit(X_train, y_train) # 2 Bilesenli Final Modelimizi Kurduk"
   ]
  },
  {
   "cell_type": "code",
   "execution_count": 75,
   "id": "88ffe80c",
   "metadata": {
    "execution": {
     "iopub.execute_input": "2022-05-22T01:25:51.835687Z",
     "iopub.status.busy": "2022-05-22T01:25:51.835173Z",
     "iopub.status.idle": "2022-05-22T01:25:51.840580Z",
     "shell.execute_reply": "2022-05-22T01:25:51.840029Z"
    },
    "papermill": {
     "duration": 0.159686,
     "end_time": "2022-05-22T01:25:51.842551",
     "exception": false,
     "start_time": "2022-05-22T01:25:51.682865",
     "status": "completed"
    },
    "tags": []
   },
   "outputs": [],
   "source": [
    "# Final Model Icin Bi Test Hatasi Hesaplama Islemini Gerceklestirelim\n",
    "\n",
    "y_pred = pls_model.predict(X_test) # Tahmin Edilen Degerler Elimizde"
   ]
  },
  {
   "cell_type": "code",
   "execution_count": 76,
   "id": "0220c1e6",
   "metadata": {
    "execution": {
     "iopub.execute_input": "2022-05-22T01:25:52.152266Z",
     "iopub.status.busy": "2022-05-22T01:25:52.151760Z",
     "iopub.status.idle": "2022-05-22T01:25:52.157251Z",
     "shell.execute_reply": "2022-05-22T01:25:52.156731Z"
    },
    "papermill": {
     "duration": 0.161832,
     "end_time": "2022-05-22T01:25:52.158891",
     "exception": false,
     "start_time": "2022-05-22T01:25:51.997059",
     "status": "completed"
    },
    "tags": []
   },
   "outputs": [
    {
     "data": {
      "text/plain": [
       "398.09956327448526"
      ]
     },
     "execution_count": 76,
     "metadata": {},
     "output_type": "execute_result"
    }
   ],
   "source": [
    "# Hata Kareler Ortalamasini Gozlemleyelim\n",
    "\n",
    "np.sqrt(mean_squared_error(y_test, y_pred)) # Test Hatamiz 398 Cikti ( Ulasilabilecek En Optimum Hata Degeri Budur ( Bilgilendirme ) )"
   ]
  },
  {
   "cell_type": "markdown",
   "id": "fd0af97c",
   "metadata": {
    "papermill": {
     "duration": 0.150593,
     "end_time": "2022-05-22T01:25:52.460351",
     "exception": false,
     "start_time": "2022-05-22T01:25:52.309758",
     "status": "completed"
    },
    "tags": []
   },
   "source": [
    "# Ridge Regresyon\n",
    "## Model"
   ]
  },
  {
   "cell_type": "code",
   "execution_count": 77,
   "id": "d9f96ee3",
   "metadata": {
    "execution": {
     "iopub.execute_input": "2022-05-22T01:25:52.766190Z",
     "iopub.status.busy": "2022-05-22T01:25:52.765637Z",
     "iopub.status.idle": "2022-05-22T01:25:52.787752Z",
     "shell.execute_reply": "2022-05-22T01:25:52.787112Z"
    },
    "papermill": {
     "duration": 0.176865,
     "end_time": "2022-05-22T01:25:52.789774",
     "exception": false,
     "start_time": "2022-05-22T01:25:52.612909",
     "status": "completed"
    },
    "tags": []
   },
   "outputs": [],
   "source": [
    "hit = pd.read_csv(\"../input/hitterscsv/Hitters.csv\")\n",
    "df = hit.copy()\n",
    "df = df.dropna()\n",
    "ms = pd.get_dummies(df[['League', 'Division', 'NewLeague']])\n",
    "y = df[\"Salary\"]\n",
    "X_ = df.drop(['Salary', 'League', 'Division', 'NewLeague'], axis=1).astype('float64')\n",
    "X = pd.concat([X_, dms[['League_N', 'Division_W', 'NewLeague_N']]], axis=1)\n",
    "X_train, X_test, y_train, y_test = train_test_split(X, y, \n",
    "                                                    test_size=0.25, \n",
    "                                                    random_state=42)"
   ]
  },
  {
   "cell_type": "code",
   "execution_count": 78,
   "id": "cee14612",
   "metadata": {
    "execution": {
     "iopub.execute_input": "2022-05-22T01:25:53.095234Z",
     "iopub.status.busy": "2022-05-22T01:25:53.094705Z",
     "iopub.status.idle": "2022-05-22T01:25:53.098243Z",
     "shell.execute_reply": "2022-05-22T01:25:53.097720Z"
    },
    "papermill": {
     "duration": 0.157062,
     "end_time": "2022-05-22T01:25:53.099921",
     "exception": false,
     "start_time": "2022-05-22T01:25:52.942859",
     "status": "completed"
    },
    "tags": []
   },
   "outputs": [],
   "source": [
    "from sklearn.linear_model import Ridge"
   ]
  },
  {
   "cell_type": "code",
   "execution_count": 79,
   "id": "34dbeb27",
   "metadata": {
    "execution": {
     "iopub.execute_input": "2022-05-22T01:25:53.404747Z",
     "iopub.status.busy": "2022-05-22T01:25:53.404195Z",
     "iopub.status.idle": "2022-05-22T01:25:53.417159Z",
     "shell.execute_reply": "2022-05-22T01:25:53.416144Z"
    },
    "papermill": {
     "duration": 0.167914,
     "end_time": "2022-05-22T01:25:53.419351",
     "exception": false,
     "start_time": "2022-05-22T01:25:53.251437",
     "status": "completed"
    },
    "tags": []
   },
   "outputs": [],
   "source": [
    "ridge_model = Ridge(alpha = 0.1).fit(X_train, y_train) # ( Nereyi Fit Edicem ) X_train Uzerinden Fit Edicem, (Bagimli Degiskenim Hangisi ) y_train"
   ]
  },
  {
   "cell_type": "code",
   "execution_count": 80,
   "id": "067b5a1e",
   "metadata": {
    "execution": {
     "iopub.execute_input": "2022-05-22T01:25:53.744303Z",
     "iopub.status.busy": "2022-05-22T01:25:53.743397Z",
     "iopub.status.idle": "2022-05-22T01:25:53.749326Z",
     "shell.execute_reply": "2022-05-22T01:25:53.748631Z"
    },
    "papermill": {
     "duration": 0.179915,
     "end_time": "2022-05-22T01:25:53.751107",
     "exception": false,
     "start_time": "2022-05-22T01:25:53.571192",
     "status": "completed"
    },
    "tags": []
   },
   "outputs": [
    {
     "data": {
      "text/plain": [
       "Ridge(alpha=0.1)"
      ]
     },
     "execution_count": 80,
     "metadata": {},
     "output_type": "execute_result"
    }
   ],
   "source": [
    "ridge_model # Ciktida Gozuken alpha Degeri Aslinda Bizim Bu Konuda Gordugumuz Lambda Degeridir Aslinda"
   ]
  },
  {
   "cell_type": "code",
   "execution_count": 81,
   "id": "c200d820",
   "metadata": {
    "execution": {
     "iopub.execute_input": "2022-05-22T01:25:54.058373Z",
     "iopub.status.busy": "2022-05-22T01:25:54.057863Z",
     "iopub.status.idle": "2022-05-22T01:25:54.063225Z",
     "shell.execute_reply": "2022-05-22T01:25:54.062457Z"
    },
    "papermill": {
     "duration": 0.16179,
     "end_time": "2022-05-22T01:25:54.065000",
     "exception": false,
     "start_time": "2022-05-22T01:25:53.903210",
     "status": "completed"
    },
    "tags": []
   },
   "outputs": [
    {
     "data": {
      "text/plain": [
       "array([ -1.77435737,   8.80240528,   7.29595605,  -3.33257639,\n",
       "        -2.08316481,   5.42531283,   7.58514945,  -0.13752764,\n",
       "        -0.20779701,  -0.60361067,   1.7927957 ,   0.72866408,\n",
       "        -0.68710375,   0.26153564,   0.26888652,  -0.52674278,\n",
       "       112.14640272, -99.80997876, -48.07152768])"
      ]
     },
     "execution_count": 81,
     "metadata": {},
     "output_type": "execute_result"
    }
   ],
   "source": [
    "ridge_model.coef_ # Modelin Katsayilari"
   ]
  },
  {
   "cell_type": "code",
   "execution_count": 82,
   "id": "4210586e",
   "metadata": {
    "execution": {
     "iopub.execute_input": "2022-05-22T01:25:54.370852Z",
     "iopub.status.busy": "2022-05-22T01:25:54.370290Z",
     "iopub.status.idle": "2022-05-22T01:25:54.377036Z",
     "shell.execute_reply": "2022-05-22T01:25:54.376437Z"
    },
    "papermill": {
     "duration": 0.16166,
     "end_time": "2022-05-22T01:25:54.378798",
     "exception": false,
     "start_time": "2022-05-22T01:25:54.217138",
     "status": "completed"
    },
    "tags": []
   },
   "outputs": [
    {
     "data": {
      "text/plain": [
       "array([5.00000000e+09, 3.78231664e+09, 2.86118383e+09, 2.16438064e+09,\n",
       "       1.63727458e+09, 1.23853818e+09, 9.36908711e+08, 7.08737081e+08,\n",
       "       5.36133611e+08, 4.05565415e+08, 3.06795364e+08, 2.32079442e+08,\n",
       "       1.75559587e+08, 1.32804389e+08, 1.00461650e+08, 7.59955541e+07,\n",
       "       5.74878498e+07, 4.34874501e+07, 3.28966612e+07, 2.48851178e+07,\n",
       "       1.88246790e+07, 1.42401793e+07, 1.07721735e+07, 8.14875417e+06,\n",
       "       6.16423370e+06, 4.66301673e+06, 3.52740116e+06, 2.66834962e+06,\n",
       "       2.01850863e+06, 1.52692775e+06, 1.15506485e+06, 8.73764200e+05,\n",
       "       6.60970574e+05, 5.00000000e+05, 3.78231664e+05, 2.86118383e+05,\n",
       "       2.16438064e+05, 1.63727458e+05, 1.23853818e+05, 9.36908711e+04,\n",
       "       7.08737081e+04, 5.36133611e+04, 4.05565415e+04, 3.06795364e+04,\n",
       "       2.32079442e+04, 1.75559587e+04, 1.32804389e+04, 1.00461650e+04,\n",
       "       7.59955541e+03, 5.74878498e+03, 4.34874501e+03, 3.28966612e+03,\n",
       "       2.48851178e+03, 1.88246790e+03, 1.42401793e+03, 1.07721735e+03,\n",
       "       8.14875417e+02, 6.16423370e+02, 4.66301673e+02, 3.52740116e+02,\n",
       "       2.66834962e+02, 2.01850863e+02, 1.52692775e+02, 1.15506485e+02,\n",
       "       8.73764200e+01, 6.60970574e+01, 5.00000000e+01, 3.78231664e+01,\n",
       "       2.86118383e+01, 2.16438064e+01, 1.63727458e+01, 1.23853818e+01,\n",
       "       9.36908711e+00, 7.08737081e+00, 5.36133611e+00, 4.05565415e+00,\n",
       "       3.06795364e+00, 2.32079442e+00, 1.75559587e+00, 1.32804389e+00,\n",
       "       1.00461650e+00, 7.59955541e-01, 5.74878498e-01, 4.34874501e-01,\n",
       "       3.28966612e-01, 2.48851178e-01, 1.88246790e-01, 1.42401793e-01,\n",
       "       1.07721735e-01, 8.14875417e-02, 6.16423370e-02, 4.66301673e-02,\n",
       "       3.52740116e-02, 2.66834962e-02, 2.01850863e-02, 1.52692775e-02,\n",
       "       1.15506485e-02, 8.73764200e-03, 6.60970574e-03, 5.00000000e-03])"
      ]
     },
     "execution_count": 82,
     "metadata": {},
     "output_type": "execute_result"
    }
   ],
   "source": [
    "# Gozlemlemek Icin ( Assagida Kullaniyoruz ) Cesitli Lambda Degerleri ( Array Olusturuyoruz )\n",
    "\n",
    "10**np.linspace(10,-2,100)*0.5 # Simdi Bu Lambda Degerlerine Gore Katsayilarin Nasil Degistigini Gozlemlicez"
   ]
  },
  {
   "cell_type": "code",
   "execution_count": 83,
   "id": "1d7b50b6",
   "metadata": {
    "execution": {
     "iopub.execute_input": "2022-05-22T01:25:54.686030Z",
     "iopub.status.busy": "2022-05-22T01:25:54.685533Z",
     "iopub.status.idle": "2022-05-22T01:25:55.395290Z",
     "shell.execute_reply": "2022-05-22T01:25:55.394699Z"
    },
    "papermill": {
     "duration": 0.866089,
     "end_time": "2022-05-22T01:25:55.397354",
     "exception": false,
     "start_time": "2022-05-22T01:25:54.531265",
     "status": "completed"
    },
    "tags": []
   },
   "outputs": [
    {
     "data": {
      "image/png": "[encoded data removed]",
      "text/plain": [
       "<Figure size 432x288 with 1 Axes>"
      ]
     },
     "metadata": {
      "needs_background": "light"
     },
     "output_type": "display_data"
    }
   ],
   "source": [
    "# Farkli Lambda Degerlerine Karsilik Katsayilari Gozlemleme Islemi Gerceklestirelim ( Dongu Ile Yapicaz )\n",
    "\n",
    "lambdalar = 10**np.linspace(10,-2,100)*0.5 # Bir Array Olusturuyoruz ( Burada Kullaniyoruz )\n",
    "\n",
    "ridge_model = Ridge() # Model Nesnesi Olusturduk\n",
    "katsayilar = [] # Katsayilar Isimli Array Olusturduk\n",
    "\n",
    "for i in lambdalar:\n",
    "    ridge_model.set_params(alpha = i) # Her Iterasyonda Verilen Lambda Degerlerini Parametre Olarak Alicak ( Her Seferinde Alpha Degerlerini Degistirecek )\n",
    "    ridge_model.fit(X_train, y_train) # Model Fit Edilecek\n",
    "    katsayilar.append(ridge_model.coef_) # Katsayilar Arrayini Modelin Katsayilar'i Ile Doldurmus Oldu\n",
    "    \n",
    "\n",
    "# Her Labda Degerinin 19 Tane Katsayisi Olucak ( Her Iterasyonda 19 Deger Olusmus Olucak)\n",
    "    \n",
    "# Grafik Ile Ilgili Ayarlamalar\n",
    "ax = plt.gca() # Genel Yapi Ile Ilgili Ayarlamalar\n",
    "ax.plot(lambdalar, katsayilar)\n",
    "ax.set_xscale('log') # x Ekseni Olceklendirme Ile Ilgili Ayarlamalar\n",
    "\n",
    "# Eksen Isimlendirmeleri\n",
    "plt.xlabel('Lambda(Alpha) Değerleri')\n",
    "plt.ylabel('Katsayılar/Ağırlıklar')\n",
    "plt.title('Düzenlileştirmenin Bir Fonksiyonu Olarak Ridge Katsayıları');\n",
    "\n",
    "# lambda Degerleri Arttikca Katsayilar/Agirliklar 0'a Yaklasiyor Ama Hic Bir Zaman 0 Olmuyor ( Bu Islemi Gozlemlemek Icin Yaptik )( Hangi Lambda Degerinin Iyi Oldugunu Assagida Model Tuning De Yapiyoruz)"
   ]
  },
  {
   "cell_type": "markdown",
   "id": "3fd505c0",
   "metadata": {
    "papermill": {
     "duration": 0.153481,
     "end_time": "2022-05-22T01:25:55.705042",
     "exception": false,
     "start_time": "2022-05-22T01:25:55.551561",
     "status": "completed"
    },
    "tags": []
   },
   "source": [
    "## Tahmin\n",
    "\n",
    "* ( Bilgilendirme ) Artik Train Hatalari Ile Ilgilenmiyoruz Oncelikle Test Hatasini Ve Model Test Hatasini Tune Edilmis Modelin Test Hatasini Beraber Degerlendirip Buna Gore Ilerlicez ( Ogrendigimiz Icin )"
   ]
  },
  {
   "cell_type": "code",
   "execution_count": 84,
   "id": "5e963bde",
   "metadata": {
    "execution": {
     "iopub.execute_input": "2022-05-22T01:25:56.016610Z",
     "iopub.status.busy": "2022-05-22T01:25:56.016058Z",
     "iopub.status.idle": "2022-05-22T01:25:56.021658Z",
     "shell.execute_reply": "2022-05-22T01:25:56.021061Z"
    },
    "papermill": {
     "duration": 0.164473,
     "end_time": "2022-05-22T01:25:56.023589",
     "exception": false,
     "start_time": "2022-05-22T01:25:55.859116",
     "status": "completed"
    },
    "tags": []
   },
   "outputs": [],
   "source": [
    "# Kurmus Oldugumuz Modelle Tahmini Nasil Gerceklestiriyoruz ( Model Ismi + .predict + ( Bagimsiz Degisken Degerleri Anlaminda Neyi Kullanmasini Istiyorsak Onu Ifade Ediyoruz ) )\n",
    "\n",
    "y_pred = ridge_model.predict(X_test) # Tahmin Edilen Degerler"
   ]
  },
  {
   "cell_type": "code",
   "execution_count": 85,
   "id": "3a3ee765",
   "metadata": {
    "execution": {
     "iopub.execute_input": "2022-05-22T01:25:56.334215Z",
     "iopub.status.busy": "2022-05-22T01:25:56.333690Z",
     "iopub.status.idle": "2022-05-22T01:25:56.339451Z",
     "shell.execute_reply": "2022-05-22T01:25:56.338708Z"
    },
    "papermill": {
     "duration": 0.162961,
     "end_time": "2022-05-22T01:25:56.341266",
     "exception": false,
     "start_time": "2022-05-22T01:25:56.178305",
     "status": "completed"
    },
    "tags": []
   },
   "outputs": [
    {
     "data": {
      "text/plain": [
       "357.05179222828446"
      ]
     },
     "execution_count": 85,
     "metadata": {},
     "output_type": "execute_result"
    }
   ],
   "source": [
    "# Test Hatamiza Eriselim\n",
    "\n",
    "# y_test : Gercek Degerler\n",
    "# y_pred : Tahmin Edilen Degerler\n",
    "\n",
    "np.sqrt(mean_squared_error(y_test, y_pred))"
   ]
  },
  {
   "cell_type": "markdown",
   "id": "27c96dc3",
   "metadata": {
    "papermill": {
     "duration": 0.153118,
     "end_time": "2022-05-22T01:25:56.648284",
     "exception": false,
     "start_time": "2022-05-22T01:25:56.495166",
     "status": "completed"
    },
    "tags": []
   },
   "source": [
    "## Model Tuning"
   ]
  },
  {
   "cell_type": "code",
   "execution_count": 86,
   "id": "04997141",
   "metadata": {
    "execution": {
     "iopub.execute_input": "2022-05-22T01:25:56.959144Z",
     "iopub.status.busy": "2022-05-22T01:25:56.958612Z",
     "iopub.status.idle": "2022-05-22T01:25:56.961626Z",
     "shell.execute_reply": "2022-05-22T01:25:56.961073Z"
    },
    "papermill": {
     "duration": 0.161617,
     "end_time": "2022-05-22T01:25:56.963346",
     "exception": false,
     "start_time": "2022-05-22T01:25:56.801729",
     "status": "completed"
    },
    "tags": []
   },
   "outputs": [],
   "source": [
    "# Hedefimiz Optimum Lambda Degerlerine Ulasmak Olucak"
   ]
  },
  {
   "cell_type": "code",
   "execution_count": 87,
   "id": "21352e76",
   "metadata": {
    "execution": {
     "iopub.execute_input": "2022-05-22T01:25:57.275050Z",
     "iopub.status.busy": "2022-05-22T01:25:57.274551Z",
     "iopub.status.idle": "2022-05-22T01:25:57.278273Z",
     "shell.execute_reply": "2022-05-22T01:25:57.277716Z"
    },
    "papermill": {
     "duration": 0.160441,
     "end_time": "2022-05-22T01:25:57.279944",
     "exception": false,
     "start_time": "2022-05-22T01:25:57.119503",
     "status": "completed"
    },
    "tags": []
   },
   "outputs": [],
   "source": [
    "lambdalar = 10**np.linspace(10,-2,100)*0.5 "
   ]
  },
  {
   "cell_type": "code",
   "execution_count": 88,
   "id": "f576373b",
   "metadata": {
    "execution": {
     "iopub.execute_input": "2022-05-22T01:25:57.588986Z",
     "iopub.status.busy": "2022-05-22T01:25:57.588426Z",
     "iopub.status.idle": "2022-05-22T01:25:57.593808Z",
     "shell.execute_reply": "2022-05-22T01:25:57.593229Z"
    },
    "papermill": {
     "duration": 0.162183,
     "end_time": "2022-05-22T01:25:57.595584",
     "exception": false,
     "start_time": "2022-05-22T01:25:57.433401",
     "status": "completed"
    },
    "tags": []
   },
   "outputs": [
    {
     "data": {
      "text/plain": [
       "array([5.00000000e+09, 3.78231664e+09, 2.86118383e+09, 2.16438064e+09,\n",
       "       1.63727458e+09])"
      ]
     },
     "execution_count": 88,
     "metadata": {},
     "output_type": "execute_result"
    }
   ],
   "source": [
    "lambdalar[0:5]"
   ]
  },
  {
   "cell_type": "code",
   "execution_count": 89,
   "id": "87a416e5",
   "metadata": {
    "execution": {
     "iopub.execute_input": "2022-05-22T01:25:57.910633Z",
     "iopub.status.busy": "2022-05-22T01:25:57.910111Z",
     "iopub.status.idle": "2022-05-22T01:25:57.914363Z",
     "shell.execute_reply": "2022-05-22T01:25:57.913543Z"
    },
    "papermill": {
     "duration": 0.161596,
     "end_time": "2022-05-22T01:25:57.916621",
     "exception": false,
     "start_time": "2022-05-22T01:25:57.755025",
     "status": "completed"
    },
    "tags": []
   },
   "outputs": [],
   "source": [
    "# Model Nesnesi Olusturduk\n",
    "\n",
    "from sklearn.linear_model import RidgeCV\n",
    "ridge_cv = RidgeCV(alphas = lambdalar, \n",
    "                   scoring = \"neg_mean_squared_error\",\n",
    "                   normalize = True)"
   ]
  },
  {
   "cell_type": "code",
   "execution_count": 90,
   "id": "3df0a17d",
   "metadata": {
    "execution": {
     "iopub.execute_input": "2022-05-22T01:25:58.229827Z",
     "iopub.status.busy": "2022-05-22T01:25:58.229341Z",
     "iopub.status.idle": "2022-05-22T01:25:58.273197Z",
     "shell.execute_reply": "2022-05-22T01:25:58.272318Z"
    },
    "papermill": {
     "duration": 0.204164,
     "end_time": "2022-05-22T01:25:58.275345",
     "exception": false,
     "start_time": "2022-05-22T01:25:58.071181",
     "status": "completed"
    },
    "tags": []
   },
   "outputs": [
    {
     "data": {
      "text/plain": [
       "RidgeCV(alphas=array([5.00000000e+09, 3.78231664e+09, 2.86118383e+09, 2.16438064e+09,\n",
       "       1.63727458e+09, 1.23853818e+09, 9.36908711e+08, 7.08737081e+08,\n",
       "       5.36133611e+08, 4.05565415e+08, 3.06795364e+08, 2.32079442e+08,\n",
       "       1.75559587e+08, 1.32804389e+08, 1.00461650e+08, 7.59955541e+07,\n",
       "       5.74878498e+07, 4.34874501e+07, 3.28966612e+07, 2.48851178e+07,\n",
       "       1.88246790e+07, 1.42401793e+0...\n",
       "       1.00461650e+00, 7.59955541e-01, 5.74878498e-01, 4.34874501e-01,\n",
       "       3.28966612e-01, 2.48851178e-01, 1.88246790e-01, 1.42401793e-01,\n",
       "       1.07721735e-01, 8.14875417e-02, 6.16423370e-02, 4.66301673e-02,\n",
       "       3.52740116e-02, 2.66834962e-02, 2.01850863e-02, 1.52692775e-02,\n",
       "       1.15506485e-02, 8.73764200e-03, 6.60970574e-03, 5.00000000e-03]),\n",
       "        normalize=True, scoring='neg_mean_squared_error')"
      ]
     },
     "execution_count": 90,
     "metadata": {},
     "output_type": "execute_result"
    }
   ],
   "source": [
    "# Modeli Fit Ettik ( Train Seti Uzerinden Optimum Parametreleri Bulma Islemini Gerceklestiricez )\n",
    "\n",
    "ridge_cv.fit(X_train, y_train)"
   ]
  },
  {
   "cell_type": "code",
   "execution_count": 91,
   "id": "767afd22",
   "metadata": {
    "execution": {
     "iopub.execute_input": "2022-05-22T01:25:58.586521Z",
     "iopub.status.busy": "2022-05-22T01:25:58.585955Z",
     "iopub.status.idle": "2022-05-22T01:25:58.591279Z",
     "shell.execute_reply": "2022-05-22T01:25:58.590623Z"
    },
    "papermill": {
     "duration": 0.163641,
     "end_time": "2022-05-22T01:25:58.593036",
     "exception": false,
     "start_time": "2022-05-22T01:25:58.429395",
     "status": "completed"
    },
    "tags": []
   },
   "outputs": [
    {
     "data": {
      "text/plain": [
       "0.7599555414764666"
      ]
     },
     "execution_count": 91,
     "metadata": {},
     "output_type": "execute_result"
    }
   ],
   "source": [
    "ridge_cv.alpha_ # Optimum Lambda Degeri ( Cok Kolay Bir Sekilde Basit Bir Fonksiyon Sayesinde Yuklu Bir Code Yazmaktan Kurtulduk )"
   ]
  },
  {
   "cell_type": "code",
   "execution_count": 92,
   "id": "67c3a366",
   "metadata": {
    "execution": {
     "iopub.execute_input": "2022-05-22T01:25:58.913333Z",
     "iopub.status.busy": "2022-05-22T01:25:58.912773Z",
     "iopub.status.idle": "2022-05-22T01:25:58.919417Z",
     "shell.execute_reply": "2022-05-22T01:25:58.918793Z"
    },
    "papermill": {
     "duration": 0.166382,
     "end_time": "2022-05-22T01:25:58.921383",
     "exception": false,
     "start_time": "2022-05-22T01:25:58.755001",
     "status": "completed"
    },
    "tags": []
   },
   "outputs": [],
   "source": [
    "# Elde Ettigimiz Lambda Degeri ıle Final Modeli Olusturalim ( ridge_tuned : Tune Edilmis Model Anlaminda Kullandik )\n",
    "\n",
    "ridge_tuned = Ridge(alpha = ridge_cv.alpha_, \n",
    "                   normalize = True).fit(X_train,y_train)"
   ]
  },
  {
   "cell_type": "code",
   "execution_count": 93,
   "id": "79fc9ac8",
   "metadata": {
    "execution": {
     "iopub.execute_input": "2022-05-22T01:25:59.239055Z",
     "iopub.status.busy": "2022-05-22T01:25:59.238796Z",
     "iopub.status.idle": "2022-05-22T01:25:59.246965Z",
     "shell.execute_reply": "2022-05-22T01:25:59.246389Z"
    },
    "papermill": {
     "duration": 0.166891,
     "end_time": "2022-05-22T01:25:59.248963",
     "exception": false,
     "start_time": "2022-05-22T01:25:59.082072",
     "status": "completed"
    },
    "tags": []
   },
   "outputs": [
    {
     "data": {
      "text/plain": [
       "386.68264297564144"
      ]
     },
     "execution_count": 93,
     "metadata": {},
     "output_type": "execute_result"
    }
   ],
   "source": [
    "# np.sqrt(mean_squared_error(y_test, y_pred)) Bu Sekilde Yazmak yerine Daha Fakli Bir Sekilde Yazdik ( y_pred Ifadesine Farkli Bir Sekilde Ulastik )\n",
    "\n",
    "np.sqrt(mean_squared_error(y_test, ridge_tuned.predict(X_test)))"
   ]
  },
  {
   "cell_type": "markdown",
   "id": "7eb4d4c0",
   "metadata": {
    "papermill": {
     "duration": 0.156188,
     "end_time": "2022-05-22T01:25:59.561689",
     "exception": false,
     "start_time": "2022-05-22T01:25:59.405501",
     "status": "completed"
    },
    "tags": []
   },
   "source": [
    "# Lasso Regresyon\n",
    "\n",
    "#### Ridge Regresyon Ile Arasindaki Fark;\n",
    "* Ridge Regresyon Lambda Degerlerini 0 Yapmaz\n",
    "* Lasso Regresyon Lambda Degerlerini 0 Yapar"
   ]
  },
  {
   "cell_type": "markdown",
   "id": "81ce91ca",
   "metadata": {
    "papermill": {
     "duration": 0.155458,
     "end_time": "2022-05-22T01:25:59.872755",
     "exception": false,
     "start_time": "2022-05-22T01:25:59.717297",
     "status": "completed"
    },
    "tags": []
   },
   "source": [
    "* lambdanın 0 Oldugu Yer EKK'dir"
   ]
  },
  {
   "cell_type": "markdown",
   "id": "420d2e05",
   "metadata": {
    "papermill": {
     "duration": 0.158224,
     "end_time": "2022-05-22T01:26:00.189628",
     "exception": false,
     "start_time": "2022-05-22T01:26:00.031404",
     "status": "completed"
    },
    "tags": []
   },
   "source": [
    "## Model"
   ]
  },
  {
   "cell_type": "code",
   "execution_count": 94,
   "id": "666ddfb0",
   "metadata": {
    "execution": {
     "iopub.execute_input": "2022-05-22T01:26:00.503006Z",
     "iopub.status.busy": "2022-05-22T01:26:00.502157Z",
     "iopub.status.idle": "2022-05-22T01:26:00.525942Z",
     "shell.execute_reply": "2022-05-22T01:26:00.525100Z"
    },
    "papermill": {
     "duration": 0.183101,
     "end_time": "2022-05-22T01:26:00.528207",
     "exception": false,
     "start_time": "2022-05-22T01:26:00.345106",
     "status": "completed"
    },
    "tags": []
   },
   "outputs": [],
   "source": [
    "hit = pd.read_csv(\"../input/hitterscsv/Hitters.csv\")\n",
    "df = hit.copy()\n",
    "df = df.dropna()\n",
    "ms = pd.get_dummies(df[['League', 'Division', 'NewLeague']])\n",
    "y = df[\"Salary\"]\n",
    "X_ = df.drop(['Salary', 'League', 'Division', 'NewLeague'], axis=1).astype('float64')\n",
    "X = pd.concat([X_, dms[['League_N', 'Division_W', 'NewLeague_N']]], axis=1)\n",
    "X_train, X_test, y_train, y_test = train_test_split(X, y, \n",
    "                                                    test_size=0.25, \n",
    "                                                    random_state=42)"
   ]
  },
  {
   "cell_type": "code",
   "execution_count": 95,
   "id": "89a95c55",
   "metadata": {
    "execution": {
     "iopub.execute_input": "2022-05-22T01:26:00.844771Z",
     "iopub.status.busy": "2022-05-22T01:26:00.844469Z",
     "iopub.status.idle": "2022-05-22T01:26:00.847923Z",
     "shell.execute_reply": "2022-05-22T01:26:00.847320Z"
    },
    "papermill": {
     "duration": 0.163992,
     "end_time": "2022-05-22T01:26:00.849595",
     "exception": false,
     "start_time": "2022-05-22T01:26:00.685603",
     "status": "completed"
    },
    "tags": []
   },
   "outputs": [],
   "source": [
    "from sklearn.linear_model import Lasso"
   ]
  },
  {
   "cell_type": "code",
   "execution_count": 96,
   "id": "072f1532",
   "metadata": {
    "execution": {
     "iopub.execute_input": "2022-05-22T01:26:01.167606Z",
     "iopub.status.busy": "2022-05-22T01:26:01.167158Z",
     "iopub.status.idle": "2022-05-22T01:26:01.179203Z",
     "shell.execute_reply": "2022-05-22T01:26:01.178598Z"
    },
    "papermill": {
     "duration": 0.173952,
     "end_time": "2022-05-22T01:26:01.181266",
     "exception": false,
     "start_time": "2022-05-22T01:26:01.007314",
     "status": "completed"
    },
    "tags": []
   },
   "outputs": [],
   "source": [
    "lasso_model = Lasso(alpha = 0.1).fit(X_train, y_train)"
   ]
  },
  {
   "cell_type": "code",
   "execution_count": 97,
   "id": "41620428",
   "metadata": {
    "execution": {
     "iopub.execute_input": "2022-05-22T01:26:01.497109Z",
     "iopub.status.busy": "2022-05-22T01:26:01.496290Z",
     "iopub.status.idle": "2022-05-22T01:26:01.501124Z",
     "shell.execute_reply": "2022-05-22T01:26:01.500633Z"
    },
    "papermill": {
     "duration": 0.164124,
     "end_time": "2022-05-22T01:26:01.502823",
     "exception": false,
     "start_time": "2022-05-22T01:26:01.338699",
     "status": "completed"
    },
    "tags": []
   },
   "outputs": [
    {
     "data": {
      "text/plain": [
       "Lasso(alpha=0.1)"
      ]
     },
     "execution_count": 97,
     "metadata": {},
     "output_type": "execute_result"
    }
   ],
   "source": [
    "lasso_model"
   ]
  },
  {
   "cell_type": "code",
   "execution_count": 98,
   "id": "6263b025",
   "metadata": {
    "execution": {
     "iopub.execute_input": "2022-05-22T01:26:01.818382Z",
     "iopub.status.busy": "2022-05-22T01:26:01.817977Z",
     "iopub.status.idle": "2022-05-22T01:26:01.822594Z",
     "shell.execute_reply": "2022-05-22T01:26:01.822079Z"
    },
    "papermill": {
     "duration": 0.164368,
     "end_time": "2022-05-22T01:26:01.824426",
     "exception": false,
     "start_time": "2022-05-22T01:26:01.660058",
     "status": "completed"
    },
    "tags": []
   },
   "outputs": [
    {
     "data": {
      "text/plain": [
       "array([-1.72206506e+00,  8.56210197e+00,  6.91175137e+00, -3.13240128e+00,\n",
       "       -2.00771676e+00,  5.36159035e+00,  8.86871593e+00, -1.69520371e-01,\n",
       "       -5.58121413e-02, -3.53962588e-01,  1.70961000e+00,  6.40603469e-01,\n",
       "       -6.58519895e-01,  2.60093222e-01,  2.78717030e-01, -5.92690965e-01,\n",
       "        1.12659630e+02, -9.99652090e+01, -4.81289395e+01])"
      ]
     },
     "execution_count": 98,
     "metadata": {},
     "output_type": "execute_result"
    }
   ],
   "source": [
    "lasso_model.coef_ # Modelin Katsayilari"
   ]
  },
  {
   "cell_type": "code",
   "execution_count": 99,
   "id": "c5333cfb",
   "metadata": {
    "execution": {
     "iopub.execute_input": "2022-05-22T01:26:02.144623Z",
     "iopub.status.busy": "2022-05-22T01:26:02.144078Z",
     "iopub.status.idle": "2022-05-22T01:26:02.829381Z",
     "shell.execute_reply": "2022-05-22T01:26:02.828733Z"
    },
    "papermill": {
     "duration": 0.849505,
     "end_time": "2022-05-22T01:26:02.831328",
     "exception": false,
     "start_time": "2022-05-22T01:26:01.981823",
     "status": "completed"
    },
    "tags": []
   },
   "outputs": [
    {
     "data": {
      "text/plain": [
       "Text(0, 0.5, 'weights')"
      ]
     },
     "execution_count": 99,
     "metadata": {},
     "output_type": "execute_result"
    },
    {
     "data": {
      "image/png": "[encoded data removed]",
      "text/plain": [
       "<Figure size 432x288 with 1 Axes>"
      ]
     },
     "metadata": {
      "needs_background": "light"
     },
     "output_type": "display_data"
    }
   ],
   "source": [
    "lasso = Lasso()\n",
    "lambdalar = 10**np.linspace(10,-2,100)*0.5 \n",
    "katsayilar = []\n",
    "\n",
    "for i in lambdalar:\n",
    "    lasso.set_params(alpha=i)\n",
    "    lasso.fit(X_train, y_train)\n",
    "    katsayilar.append(lasso.coef_)\n",
    "    \n",
    "ax = plt.gca()\n",
    "ax.plot(lambdalar*2, katsayilar)\n",
    "ax.set_xscale('log')\n",
    "plt.axis('tight')\n",
    "plt.xlabel('alpha')\n",
    "plt.ylabel('weights')\n",
    "\n",
    "# Grafikte Degerler 0 Degeri Oluyor"
   ]
  },
  {
   "cell_type": "markdown",
   "id": "ed2ec88f",
   "metadata": {
    "papermill": {
     "duration": 0.157343,
     "end_time": "2022-05-22T01:26:03.147476",
     "exception": false,
     "start_time": "2022-05-22T01:26:02.990133",
     "status": "completed"
    },
    "tags": []
   },
   "source": [
    "## Tahmin "
   ]
  },
  {
   "cell_type": "code",
   "execution_count": 100,
   "id": "3a50805c",
   "metadata": {
    "execution": {
     "iopub.execute_input": "2022-05-22T01:26:03.465899Z",
     "iopub.status.busy": "2022-05-22T01:26:03.465348Z",
     "iopub.status.idle": "2022-05-22T01:26:03.473164Z",
     "shell.execute_reply": "2022-05-22T01:26:03.472611Z"
    },
    "papermill": {
     "duration": 0.169806,
     "end_time": "2022-05-22T01:26:03.474886",
     "exception": false,
     "start_time": "2022-05-22T01:26:03.305080",
     "status": "completed"
    },
    "tags": []
   },
   "outputs": [
    {
     "data": {
      "text/plain": [
       "array([ 613.88833029,  701.97056731, 1005.55539526,  414.08312603,\n",
       "        399.18417127,  344.71444139,  664.86990217,  451.60757   ,\n",
       "        914.64492066,  644.67006406,  691.60613554,  884.71702368,\n",
       "        210.04523766,  446.12527252,  262.94922087,  499.22332142,\n",
       "        805.2275034 ,   43.49230343, 1250.49322312,  316.34470193,\n",
       "        422.96656686,  743.29944548,  572.90774248,  655.15609074,\n",
       "        618.96407069,  200.75845796,  882.64622066,  254.06366112,\n",
       "        430.25494812,   84.17391461,  143.60312305,  130.61554   ,\n",
       "        363.74498233,  461.7321162 ,  273.42345417,  244.49816262,\n",
       "       1324.62748553,  107.89909718,  135.63065031,  242.72630885,\n",
       "         51.70024086,  297.57598929,  586.86143037,  398.85227639,\n",
       "        763.99543074,  690.10003532,  344.06272851,  247.43966241,\n",
       "        255.13234043,  662.89091837,  765.66189   ,  313.57347726,\n",
       "        765.84996179,  189.77235179,  283.98765436,  589.95238974,\n",
       "        663.31166365,  803.29524626,  164.99767232, 1170.24294111,\n",
       "       1672.69404705,  412.55338226,  993.80264541,  485.53522233,\n",
       "        567.84477674,  188.34982561])"
      ]
     },
     "execution_count": 100,
     "metadata": {},
     "output_type": "execute_result"
    }
   ],
   "source": [
    "lasso_model.predict(X_test) # Her Bir Bagimli Degiskenin Degerleri Gosteriliyor"
   ]
  },
  {
   "cell_type": "code",
   "execution_count": 101,
   "id": "9690a4ea",
   "metadata": {
    "execution": {
     "iopub.execute_input": "2022-05-22T01:26:03.796497Z",
     "iopub.status.busy": "2022-05-22T01:26:03.795972Z",
     "iopub.status.idle": "2022-05-22T01:26:03.801258Z",
     "shell.execute_reply": "2022-05-22T01:26:03.800710Z"
    },
    "papermill": {
     "duration": 0.166297,
     "end_time": "2022-05-22T01:26:03.803027",
     "exception": false,
     "start_time": "2022-05-22T01:26:03.636730",
     "status": "completed"
    },
    "tags": []
   },
   "outputs": [],
   "source": [
    "y_pred = lasso_model.predict(X_test)"
   ]
  },
  {
   "cell_type": "code",
   "execution_count": 102,
   "id": "8c9e2c9f",
   "metadata": {
    "execution": {
     "iopub.execute_input": "2022-05-22T01:26:04.123492Z",
     "iopub.status.busy": "2022-05-22T01:26:04.122995Z",
     "iopub.status.idle": "2022-05-22T01:26:04.128329Z",
     "shell.execute_reply": "2022-05-22T01:26:04.127811Z"
    },
    "papermill": {
     "duration": 0.168129,
     "end_time": "2022-05-22T01:26:04.130010",
     "exception": false,
     "start_time": "2022-05-22T01:26:03.961881",
     "status": "completed"
    },
    "tags": []
   },
   "outputs": [
    {
     "data": {
      "text/plain": [
       "356.7545270148771"
      ]
     },
     "execution_count": 102,
     "metadata": {},
     "output_type": "execute_result"
    }
   ],
   "source": [
    "np.sqrt(mean_squared_error(y_test, y_pred)) # Test Hatasi"
   ]
  },
  {
   "cell_type": "markdown",
   "id": "10c25ec9",
   "metadata": {
    "papermill": {
     "duration": 0.15776,
     "end_time": "2022-05-22T01:26:04.446110",
     "exception": false,
     "start_time": "2022-05-22T01:26:04.288350",
     "status": "completed"
    },
    "tags": []
   },
   "source": [
    "## Model Tuning"
   ]
  },
  {
   "cell_type": "code",
   "execution_count": 103,
   "id": "f0288150",
   "metadata": {
    "execution": {
     "iopub.execute_input": "2022-05-22T01:26:04.794263Z",
     "iopub.status.busy": "2022-05-22T01:26:04.793750Z",
     "iopub.status.idle": "2022-05-22T01:26:04.797289Z",
     "shell.execute_reply": "2022-05-22T01:26:04.796735Z"
    },
    "papermill": {
     "duration": 0.194119,
     "end_time": "2022-05-22T01:26:04.799104",
     "exception": false,
     "start_time": "2022-05-22T01:26:04.604985",
     "status": "completed"
    },
    "tags": []
   },
   "outputs": [],
   "source": [
    "from sklearn.linear_model import LassoCV"
   ]
  },
  {
   "cell_type": "code",
   "execution_count": 104,
   "id": "98fe32d0",
   "metadata": {
    "execution": {
     "iopub.execute_input": "2022-05-22T01:26:05.124074Z",
     "iopub.status.busy": "2022-05-22T01:26:05.123362Z",
     "iopub.status.idle": "2022-05-22T01:26:05.127237Z",
     "shell.execute_reply": "2022-05-22T01:26:05.126700Z"
    },
    "papermill": {
     "duration": 0.170021,
     "end_time": "2022-05-22T01:26:05.129057",
     "exception": false,
     "start_time": "2022-05-22T01:26:04.959036",
     "status": "completed"
    },
    "tags": []
   },
   "outputs": [],
   "source": [
    "lasso_cv_model = LassoCV(alphas = None, \n",
    "                         cv = 10, \n",
    "                         max_iter = 10000, \n",
    "                         normalize = True)"
   ]
  },
  {
   "cell_type": "code",
   "execution_count": 105,
   "id": "09ce6e5f",
   "metadata": {
    "execution": {
     "iopub.execute_input": "2022-05-22T01:26:05.446897Z",
     "iopub.status.busy": "2022-05-22T01:26:05.446388Z",
     "iopub.status.idle": "2022-05-22T01:26:05.688455Z",
     "shell.execute_reply": "2022-05-22T01:26:05.687818Z"
    },
    "papermill": {
     "duration": 0.403381,
     "end_time": "2022-05-22T01:26:05.690568",
     "exception": false,
     "start_time": "2022-05-22T01:26:05.287187",
     "status": "completed"
    },
    "tags": []
   },
   "outputs": [
    {
     "data": {
      "text/plain": [
       "LassoCV(cv=10, max_iter=10000, normalize=True)"
      ]
     },
     "execution_count": 105,
     "metadata": {},
     "output_type": "execute_result"
    }
   ],
   "source": [
    "lasso_cv_model.fit(X_train,y_train) # Model Kurulmus Oldu"
   ]
  },
  {
   "cell_type": "code",
   "execution_count": 106,
   "id": "d21cd5b0",
   "metadata": {
    "execution": {
     "iopub.execute_input": "2022-05-22T01:26:06.011902Z",
     "iopub.status.busy": "2022-05-22T01:26:06.011362Z",
     "iopub.status.idle": "2022-05-22T01:26:06.017157Z",
     "shell.execute_reply": "2022-05-22T01:26:06.016650Z"
    },
    "papermill": {
     "duration": 0.169076,
     "end_time": "2022-05-22T01:26:06.018955",
     "exception": false,
     "start_time": "2022-05-22T01:26:05.849879",
     "status": "completed"
    },
    "tags": []
   },
   "outputs": [
    {
     "data": {
      "text/plain": [
       "0.39406126432470073"
      ]
     },
     "execution_count": 106,
     "metadata": {},
     "output_type": "execute_result"
    }
   ],
   "source": [
    "lasso_cv_model.alpha_ # Optimum Alpha Degeri"
   ]
  },
  {
   "cell_type": "code",
   "execution_count": 107,
   "id": "78306b29",
   "metadata": {
    "execution": {
     "iopub.execute_input": "2022-05-22T01:26:06.342907Z",
     "iopub.status.busy": "2022-05-22T01:26:06.342464Z",
     "iopub.status.idle": "2022-05-22T01:26:06.345813Z",
     "shell.execute_reply": "2022-05-22T01:26:06.345169Z"
    },
    "papermill": {
     "duration": 0.167248,
     "end_time": "2022-05-22T01:26:06.347733",
     "exception": false,
     "start_time": "2022-05-22T01:26:06.180485",
     "status": "completed"
    },
    "tags": []
   },
   "outputs": [],
   "source": [
    "lasso_tuned = Lasso(alpha = lasso_cv_model.alpha_) # Final Model"
   ]
  },
  {
   "cell_type": "code",
   "execution_count": 108,
   "id": "c6ad4001",
   "metadata": {
    "execution": {
     "iopub.execute_input": "2022-05-22T01:26:06.671140Z",
     "iopub.status.busy": "2022-05-22T01:26:06.670359Z",
     "iopub.status.idle": "2022-05-22T01:26:06.683812Z",
     "shell.execute_reply": "2022-05-22T01:26:06.682888Z"
    },
    "papermill": {
     "duration": 0.177728,
     "end_time": "2022-05-22T01:26:06.685749",
     "exception": false,
     "start_time": "2022-05-22T01:26:06.508021",
     "status": "completed"
    },
    "tags": []
   },
   "outputs": [
    {
     "data": {
      "text/plain": [
       "Lasso(alpha=0.39406126432470073)"
      ]
     },
     "execution_count": 108,
     "metadata": {},
     "output_type": "execute_result"
    }
   ],
   "source": [
    "lasso_tuned.fit(X_train, y_train)"
   ]
  },
  {
   "cell_type": "code",
   "execution_count": 109,
   "id": "9e029459",
   "metadata": {
    "execution": {
     "iopub.execute_input": "2022-05-22T01:26:07.007789Z",
     "iopub.status.busy": "2022-05-22T01:26:07.007512Z",
     "iopub.status.idle": "2022-05-22T01:26:07.014159Z",
     "shell.execute_reply": "2022-05-22T01:26:07.013611Z"
    },
    "papermill": {
     "duration": 0.171153,
     "end_time": "2022-05-22T01:26:07.016055",
     "exception": false,
     "start_time": "2022-05-22T01:26:06.844902",
     "status": "completed"
    },
    "tags": []
   },
   "outputs": [],
   "source": [
    "y_pred = lasso_tuned.predict(X_test)"
   ]
  },
  {
   "cell_type": "code",
   "execution_count": 110,
   "id": "241da6ba",
   "metadata": {
    "execution": {
     "iopub.execute_input": "2022-05-22T01:26:07.336558Z",
     "iopub.status.busy": "2022-05-22T01:26:07.336281Z",
     "iopub.status.idle": "2022-05-22T01:26:07.342468Z",
     "shell.execute_reply": "2022-05-22T01:26:07.341654Z"
    },
    "papermill": {
     "duration": 0.169622,
     "end_time": "2022-05-22T01:26:07.344766",
     "exception": false,
     "start_time": "2022-05-22T01:26:07.175144",
     "status": "completed"
    },
    "tags": []
   },
   "outputs": [
    {
     "data": {
      "text/plain": [
       "356.5226376958366"
      ]
     },
     "execution_count": 110,
     "metadata": {},
     "output_type": "execute_result"
    }
   ],
   "source": [
    "np.sqrt(mean_squared_error(y_test, y_pred)) # Final Modelin Test Hatasini Inceliyoruz"
   ]
  },
  {
   "cell_type": "markdown",
   "id": "bab9cc1f",
   "metadata": {
    "papermill": {
     "duration": 0.160145,
     "end_time": "2022-05-22T01:26:07.664483",
     "exception": false,
     "start_time": "2022-05-22T01:26:07.504338",
     "status": "completed"
    },
    "tags": []
   },
   "source": [
    "### Lasso Regresyon, Ridge Regresyon'a Gore Neredeyse 30 Birimlik Bir Fark Oldugu Gozlenmektedir"
   ]
  },
  {
   "cell_type": "markdown",
   "id": "a511e3ff",
   "metadata": {
    "papermill": {
     "duration": 0.159254,
     "end_time": "2022-05-22T01:26:07.982838",
     "exception": false,
     "start_time": "2022-05-22T01:26:07.823584",
     "status": "completed"
    },
    "tags": []
   },
   "source": [
    "# ElasticNet Regresyonu"
   ]
  },
  {
   "cell_type": "code",
   "execution_count": 111,
   "id": "df27efef",
   "metadata": {
    "execution": {
     "iopub.execute_input": "2022-05-22T01:26:08.311118Z",
     "iopub.status.busy": "2022-05-22T01:26:08.310555Z",
     "iopub.status.idle": "2022-05-22T01:26:08.332092Z",
     "shell.execute_reply": "2022-05-22T01:26:08.331497Z"
    },
    "papermill": {
     "duration": 0.186705,
     "end_time": "2022-05-22T01:26:08.334296",
     "exception": false,
     "start_time": "2022-05-22T01:26:08.147591",
     "status": "completed"
    },
    "tags": []
   },
   "outputs": [],
   "source": [
    "hit = pd.read_csv(\"../input/hitterscsv/Hitters.csv\")\n",
    "df = hit.copy()\n",
    "df = df.dropna()\n",
    "ms = pd.get_dummies(df[['League', 'Division', 'NewLeague']])\n",
    "y = df[\"Salary\"]\n",
    "X_ = df.drop(['Salary', 'League', 'Division', 'NewLeague'], axis=1).astype('float64')\n",
    "X = pd.concat([X_, dms[['League_N', 'Division_W', 'NewLeague_N']]], axis=1)\n",
    "X_train, X_test, y_train, y_test = train_test_split(X, y, \n",
    "                                                    test_size=0.25, \n",
    "                                                    random_state=42)\n",
    "\n",
    "\n"
   ]
  },
  {
   "cell_type": "code",
   "execution_count": 112,
   "id": "088a49ea",
   "metadata": {
    "execution": {
     "iopub.execute_input": "2022-05-22T01:26:08.659508Z",
     "iopub.status.busy": "2022-05-22T01:26:08.658980Z",
     "iopub.status.idle": "2022-05-22T01:26:08.662995Z",
     "shell.execute_reply": "2022-05-22T01:26:08.662420Z"
    },
    "papermill": {
     "duration": 0.170401,
     "end_time": "2022-05-22T01:26:08.664907",
     "exception": false,
     "start_time": "2022-05-22T01:26:08.494506",
     "status": "completed"
    },
    "tags": []
   },
   "outputs": [],
   "source": [
    "from sklearn.linear_model import ElasticNet"
   ]
  },
  {
   "cell_type": "code",
   "execution_count": 113,
   "id": "a3a14ee7",
   "metadata": {
    "execution": {
     "iopub.execute_input": "2022-05-22T01:26:08.991060Z",
     "iopub.status.busy": "2022-05-22T01:26:08.990271Z",
     "iopub.status.idle": "2022-05-22T01:26:09.000815Z",
     "shell.execute_reply": "2022-05-22T01:26:09.000160Z"
    },
    "papermill": {
     "duration": 0.178409,
     "end_time": "2022-05-22T01:26:09.002999",
     "exception": false,
     "start_time": "2022-05-22T01:26:08.824590",
     "status": "completed"
    },
    "tags": []
   },
   "outputs": [],
   "source": [
    "enet_model = ElasticNet().fit(X_train, y_train)"
   ]
  },
  {
   "cell_type": "code",
   "execution_count": 114,
   "id": "b084944d",
   "metadata": {
    "execution": {
     "iopub.execute_input": "2022-05-22T01:26:09.327138Z",
     "iopub.status.busy": "2022-05-22T01:26:09.326343Z",
     "iopub.status.idle": "2022-05-22T01:26:09.332872Z",
     "shell.execute_reply": "2022-05-22T01:26:09.332092Z"
    },
    "papermill": {
     "duration": 0.170155,
     "end_time": "2022-05-22T01:26:09.334865",
     "exception": false,
     "start_time": "2022-05-22T01:26:09.164710",
     "status": "completed"
    },
    "tags": []
   },
   "outputs": [
    {
     "data": {
      "text/plain": [
       "array([ -1.86256172,   8.70489065,   5.10426375,  -2.89875799,\n",
       "        -1.28642985,   5.24343682,   6.04480276,  -0.14701495,\n",
       "        -0.21566628,  -0.7897201 ,   1.80813117,   0.80914508,\n",
       "        -0.61262382,   0.26816203,   0.27172387,  -0.36530729,\n",
       "        19.2186222 , -31.16586592,   8.98369938])"
      ]
     },
     "execution_count": 114,
     "metadata": {},
     "output_type": "execute_result"
    }
   ],
   "source": [
    "enet_model.coef_"
   ]
  },
  {
   "cell_type": "code",
   "execution_count": 115,
   "id": "c708a390",
   "metadata": {
    "execution": {
     "iopub.execute_input": "2022-05-22T01:26:09.709729Z",
     "iopub.status.busy": "2022-05-22T01:26:09.709174Z",
     "iopub.status.idle": "2022-05-22T01:26:09.714959Z",
     "shell.execute_reply": "2022-05-22T01:26:09.714268Z"
    },
    "papermill": {
     "duration": 0.169634,
     "end_time": "2022-05-22T01:26:09.716852",
     "exception": false,
     "start_time": "2022-05-22T01:26:09.547218",
     "status": "completed"
    },
    "tags": []
   },
   "outputs": [
    {
     "data": {
      "text/plain": [
       "-6.465955602112331"
      ]
     },
     "execution_count": 115,
     "metadata": {},
     "output_type": "execute_result"
    }
   ],
   "source": [
    "enet_model.intercept_ # Sabite Eristik"
   ]
  },
  {
   "cell_type": "markdown",
   "id": "cbe522c4",
   "metadata": {
    "papermill": {
     "duration": 0.160465,
     "end_time": "2022-05-22T01:26:10.037979",
     "exception": false,
     "start_time": "2022-05-22T01:26:09.877514",
     "status": "completed"
    },
    "tags": []
   },
   "source": [
    "## Tahmin"
   ]
  },
  {
   "cell_type": "code",
   "execution_count": 116,
   "id": "000da4d3",
   "metadata": {
    "execution": {
     "iopub.execute_input": "2022-05-22T01:26:10.362521Z",
     "iopub.status.busy": "2022-05-22T01:26:10.362001Z",
     "iopub.status.idle": "2022-05-22T01:26:10.367788Z",
     "shell.execute_reply": "2022-05-22T01:26:10.367043Z"
    },
    "papermill": {
     "duration": 0.168786,
     "end_time": "2022-05-22T01:26:10.369649",
     "exception": false,
     "start_time": "2022-05-22T01:26:10.200863",
     "status": "completed"
    },
    "tags": []
   },
   "outputs": [
    {
     "data": {
      "text/plain": [
       "ElasticNet()"
      ]
     },
     "execution_count": 116,
     "metadata": {},
     "output_type": "execute_result"
    }
   ],
   "source": [
    "enet_model"
   ]
  },
  {
   "cell_type": "code",
   "execution_count": 117,
   "id": "3a802e2c",
   "metadata": {
    "execution": {
     "iopub.execute_input": "2022-05-22T01:26:10.694856Z",
     "iopub.status.busy": "2022-05-22T01:26:10.694317Z",
     "iopub.status.idle": "2022-05-22T01:26:10.702842Z",
     "shell.execute_reply": "2022-05-22T01:26:10.701986Z"
    },
    "papermill": {
     "duration": 0.173079,
     "end_time": "2022-05-22T01:26:10.704698",
     "exception": false,
     "start_time": "2022-05-22T01:26:10.531619",
     "status": "completed"
    },
    "tags": []
   },
   "outputs": [
    {
     "data": {
      "text/plain": [
       "array([ 577.79111731,  617.33202224, 1031.39113156,  364.95861575,\n",
       "        489.51894393,  300.74185842,  604.522666  ,  465.34678732,\n",
       "        901.44473965,  703.20357123,  702.9157117 ,  931.50283407,\n",
       "        184.87939803,  385.14973787,  325.38944176,  546.99346574,\n",
       "        774.28001821,  101.83114992, 1250.86758812,  370.67651244,\n",
       "        442.05734523,  781.17288513,  578.63736538,  609.31927808,\n",
       "        608.31719597,  227.46556223,  921.85505228,  301.1202457 ,\n",
       "        386.31721051,  133.61143326,  162.28505608,   88.29793182,\n",
       "        359.9068418 ,  422.51268445,  265.8663769 ,  355.70450908,\n",
       "       1329.36312363,  125.05506935,   82.74580002,  269.17483075,\n",
       "        117.13319397,  274.13484779,  648.4957249 ,  409.47065999,\n",
       "        846.27919406,  712.04817644,  341.10596674,  368.24259678,\n",
       "        305.70477656,  680.05724792,  716.13640636,  295.93204262,\n",
       "        773.06445823,  249.28224916,  221.46794589,  541.2713245 ,\n",
       "        611.50212372,  770.80228024,  168.45143906, 1159.05660731,\n",
       "       1655.73440058,  487.79019015, 1013.23932071,  443.91500502,\n",
       "        613.83293616,  152.85401115])"
      ]
     },
     "execution_count": 117,
     "metadata": {},
     "output_type": "execute_result"
    }
   ],
   "source": [
    "enet_model.predict(X_test)"
   ]
  },
  {
   "cell_type": "code",
   "execution_count": 118,
   "id": "e3d279ea",
   "metadata": {
    "execution": {
     "iopub.execute_input": "2022-05-22T01:26:11.031963Z",
     "iopub.status.busy": "2022-05-22T01:26:11.031378Z",
     "iopub.status.idle": "2022-05-22T01:26:11.037541Z",
     "shell.execute_reply": "2022-05-22T01:26:11.036906Z"
    },
    "papermill": {
     "duration": 0.173749,
     "end_time": "2022-05-22T01:26:11.039570",
     "exception": false,
     "start_time": "2022-05-22T01:26:10.865821",
     "status": "completed"
    },
    "tags": []
   },
   "outputs": [],
   "source": [
    "y_pred = enet_model.predict(X_test)"
   ]
  },
  {
   "cell_type": "code",
   "execution_count": 119,
   "id": "0ba89ffd",
   "metadata": {
    "execution": {
     "iopub.execute_input": "2022-05-22T01:26:11.366261Z",
     "iopub.status.busy": "2022-05-22T01:26:11.365711Z",
     "iopub.status.idle": "2022-05-22T01:26:11.372566Z",
     "shell.execute_reply": "2022-05-22T01:26:11.371755Z"
    },
    "papermill": {
     "duration": 0.17219,
     "end_time": "2022-05-22T01:26:11.374555",
     "exception": false,
     "start_time": "2022-05-22T01:26:11.202365",
     "status": "completed"
    },
    "tags": []
   },
   "outputs": [
    {
     "data": {
      "text/plain": [
       "357.1676548181246"
      ]
     },
     "execution_count": 119,
     "metadata": {},
     "output_type": "execute_result"
    }
   ],
   "source": [
    "np.sqrt(mean_squared_error(y_test, y_pred))"
   ]
  },
  {
   "cell_type": "code",
   "execution_count": 120,
   "id": "55f1efa6",
   "metadata": {
    "execution": {
     "iopub.execute_input": "2022-05-22T01:26:11.701542Z",
     "iopub.status.busy": "2022-05-22T01:26:11.700979Z",
     "iopub.status.idle": "2022-05-22T01:26:11.707636Z",
     "shell.execute_reply": "2022-05-22T01:26:11.706911Z"
    },
    "papermill": {
     "duration": 0.173375,
     "end_time": "2022-05-22T01:26:11.709713",
     "exception": false,
     "start_time": "2022-05-22T01:26:11.536338",
     "status": "completed"
    },
    "tags": []
   },
   "outputs": [
    {
     "data": {
      "text/plain": [
       "0.41070222469326867"
      ]
     },
     "execution_count": 120,
     "metadata": {},
     "output_type": "execute_result"
    }
   ],
   "source": [
    "r2_score(y_test, y_pred)"
   ]
  },
  {
   "cell_type": "markdown",
   "id": "7865fa2a",
   "metadata": {
    "papermill": {
     "duration": 0.19045,
     "end_time": "2022-05-22T01:26:12.079238",
     "exception": false,
     "start_time": "2022-05-22T01:26:11.888788",
     "status": "completed"
    },
    "tags": []
   },
   "source": [
    "## Model Tuning"
   ]
  },
  {
   "cell_type": "code",
   "execution_count": 121,
   "id": "19af0572",
   "metadata": {
    "execution": {
     "iopub.execute_input": "2022-05-22T01:26:12.427639Z",
     "iopub.status.busy": "2022-05-22T01:26:12.427341Z",
     "iopub.status.idle": "2022-05-22T01:26:12.433386Z",
     "shell.execute_reply": "2022-05-22T01:26:12.432565Z"
    },
    "papermill": {
     "duration": 0.181501,
     "end_time": "2022-05-22T01:26:12.435590",
     "exception": false,
     "start_time": "2022-05-22T01:26:12.254089",
     "status": "completed"
    },
    "tags": []
   },
   "outputs": [],
   "source": [
    "from sklearn.linear_model import ElasticNetCV"
   ]
  },
  {
   "cell_type": "code",
   "execution_count": 122,
   "id": "a486cc28",
   "metadata": {
    "execution": {
     "iopub.execute_input": "2022-05-22T01:26:12.792860Z",
     "iopub.status.busy": "2022-05-22T01:26:12.791978Z",
     "iopub.status.idle": "2022-05-22T01:26:12.963309Z",
     "shell.execute_reply": "2022-05-22T01:26:12.962738Z"
    },
    "papermill": {
     "duration": 0.35043,
     "end_time": "2022-05-22T01:26:12.965499",
     "exception": false,
     "start_time": "2022-05-22T01:26:12.615069",
     "status": "completed"
    },
    "tags": []
   },
   "outputs": [],
   "source": [
    "enet_cv_model = ElasticNetCV(cv = 10, random_state = 0).fit(X_train, y_train)"
   ]
  },
  {
   "cell_type": "code",
   "execution_count": 123,
   "id": "d2dc95ce",
   "metadata": {
    "execution": {
     "iopub.execute_input": "2022-05-22T01:26:13.294364Z",
     "iopub.status.busy": "2022-05-22T01:26:13.293820Z",
     "iopub.status.idle": "2022-05-22T01:26:13.299611Z",
     "shell.execute_reply": "2022-05-22T01:26:13.298901Z"
    },
    "papermill": {
     "duration": 0.171075,
     "end_time": "2022-05-22T01:26:13.301531",
     "exception": false,
     "start_time": "2022-05-22T01:26:13.130456",
     "status": "completed"
    },
    "tags": []
   },
   "outputs": [
    {
     "data": {
      "text/plain": [
       "5230.7647364798695"
      ]
     },
     "execution_count": 123,
     "metadata": {},
     "output_type": "execute_result"
    }
   ],
   "source": [
    "enet_cv_model.alpha_"
   ]
  },
  {
   "cell_type": "code",
   "execution_count": 124,
   "id": "1a053199",
   "metadata": {
    "execution": {
     "iopub.execute_input": "2022-05-22T01:26:13.628320Z",
     "iopub.status.busy": "2022-05-22T01:26:13.627772Z",
     "iopub.status.idle": "2022-05-22T01:26:13.633819Z",
     "shell.execute_reply": "2022-05-22T01:26:13.633014Z"
    },
    "papermill": {
     "duration": 0.172233,
     "end_time": "2022-05-22T01:26:13.635764",
     "exception": false,
     "start_time": "2022-05-22T01:26:13.463531",
     "status": "completed"
    },
    "tags": []
   },
   "outputs": [
    {
     "data": {
      "text/plain": [
       "ElasticNetCV(cv=10, random_state=0)"
      ]
     },
     "execution_count": 124,
     "metadata": {},
     "output_type": "execute_result"
    }
   ],
   "source": [
    "enet_cv_model"
   ]
  },
  {
   "cell_type": "code",
   "execution_count": 125,
   "id": "68a87a5c",
   "metadata": {
    "execution": {
     "iopub.execute_input": "2022-05-22T01:26:13.963789Z",
     "iopub.status.busy": "2022-05-22T01:26:13.963452Z",
     "iopub.status.idle": "2022-05-22T01:26:13.970672Z",
     "shell.execute_reply": "2022-05-22T01:26:13.970053Z"
    },
    "papermill": {
     "duration": 0.173561,
     "end_time": "2022-05-22T01:26:13.972624",
     "exception": false,
     "start_time": "2022-05-22T01:26:13.799063",
     "status": "completed"
    },
    "tags": []
   },
   "outputs": [],
   "source": [
    "enet_tuned = ElasticNet(alpha = enet_cv_model.alpha_).fit(X_train,y_train)"
   ]
  },
  {
   "cell_type": "code",
   "execution_count": 126,
   "id": "c6e1a63e",
   "metadata": {
    "execution": {
     "iopub.execute_input": "2022-05-22T01:26:14.302770Z",
     "iopub.status.busy": "2022-05-22T01:26:14.302213Z",
     "iopub.status.idle": "2022-05-22T01:26:14.308226Z",
     "shell.execute_reply": "2022-05-22T01:26:14.307657Z"
    },
    "papermill": {
     "duration": 0.174347,
     "end_time": "2022-05-22T01:26:14.310246",
     "exception": false,
     "start_time": "2022-05-22T01:26:14.135899",
     "status": "completed"
    },
    "tags": []
   },
   "outputs": [],
   "source": [
    "y_pred = enet_tuned.predict(X_test)"
   ]
  },
  {
   "cell_type": "code",
   "execution_count": 127,
   "id": "462f5a0b",
   "metadata": {
    "execution": {
     "iopub.execute_input": "2022-05-22T01:26:14.643613Z",
     "iopub.status.busy": "2022-05-22T01:26:14.643326Z",
     "iopub.status.idle": "2022-05-22T01:26:14.651468Z",
     "shell.execute_reply": "2022-05-22T01:26:14.650659Z"
    },
    "papermill": {
     "duration": 0.178886,
     "end_time": "2022-05-22T01:26:14.653491",
     "exception": false,
     "start_time": "2022-05-22T01:26:14.474605",
     "status": "completed"
    },
    "tags": []
   },
   "outputs": [
    {
     "data": {
      "text/plain": [
       "394.15280563218795"
      ]
     },
     "execution_count": 127,
     "metadata": {},
     "output_type": "execute_result"
    }
   ],
   "source": [
    "np.sqrt(mean_squared_error(y_test, y_pred))"
   ]
  },
  {
   "cell_type": "markdown",
   "id": "ec649b8e",
   "metadata": {
    "papermill": {
     "duration": 0.165111,
     "end_time": "2022-05-22T01:26:14.983953",
     "exception": false,
     "start_time": "2022-05-22T01:26:14.818842",
     "status": "completed"
    },
    "tags": []
   },
   "source": [
    "### ( Bilgilendirme ) Elimizdeki Bu Veri Seti Icin Lasso Modeli Daha Iyi Sonuc Vermistir"
   ]
  }
 ],
 "metadata": {
  "kernelspec": {
   "display_name": "Python 3",
   "language": "python",
   "name": "python3"
  },
  "language_info": {
   "codemirror_mode": {
    "name": "ipython",
    "version": 3
   },
   "file_extension": ".py",
   "mimetype": "text/x-python",
   "name": "python",
   "nbconvert_exporter": "python",
   "pygments_lexer": "ipython3",
   "version": "3.7.12"
  },
  "papermill": {
   "default_parameters": {},
   "duration": 65.288923,
   "end_time": "2022-05-22T01:26:16.072207",
   "environment_variables": {},
   "exception": null,
   "input_path": "__notebook__.ipynb",
   "output_path": "__notebook__.ipynb",
   "parameters": {},
   "start_time": "2022-05-22T01:25:10.783284",
   "version": "2.3.4"
  }
 },
 "nbformat": 4,
 "nbformat_minor": 5
}
