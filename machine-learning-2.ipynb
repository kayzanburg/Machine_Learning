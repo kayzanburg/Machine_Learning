{
 "cells": [
  {
   "cell_type": "code",
   "execution_count": 1,
   "id": "4612ba95",
   "metadata": {
    "execution": {
     "iopub.execute_input": "2022-03-14T22:02:55.678605Z",
     "iopub.status.busy": "2022-03-14T22:02:55.676702Z",
     "iopub.status.idle": "2022-03-14T22:02:55.683420Z",
     "shell.execute_reply": "2022-03-14T22:02:55.684043Z",
     "shell.execute_reply.started": "2022-03-14T21:53:29.645372Z"
    },
    "papermill": {
     "duration": 0.041229,
     "end_time": "2022-03-14T22:02:55.684432",
     "exception": false,
     "start_time": "2022-03-14T22:02:55.643203",
     "status": "completed"
    },
    "tags": []
   },
   "outputs": [],
   "source": [
    "# SATIR 1 , SUTUN 0 DIYE BILIYORUM( bakilmasi lazim )"
   ]
  },
  {
   "cell_type": "code",
   "execution_count": 2,
   "id": "46ba1135",
   "metadata": {
    "_cell_guid": "b1076dfc-b9ad-4769-8c92-a6c4dae69d19",
    "_uuid": "8f2839f25d086af736a60e9eeb907d3b93b6e0e5",
    "execution": {
     "iopub.execute_input": "2022-03-14T22:02:55.751680Z",
     "iopub.status.busy": "2022-03-14T22:02:55.750562Z",
     "iopub.status.idle": "2022-03-14T22:02:55.755286Z",
     "shell.execute_reply": "2022-03-14T22:02:55.755879Z",
     "shell.execute_reply.started": "2022-03-14T21:47:38.388876Z"
    },
    "papermill": {
     "duration": 0.046949,
     "end_time": "2022-03-14T22:02:55.756103",
     "exception": false,
     "start_time": "2022-03-14T22:02:55.709154",
     "status": "completed"
    },
    "tags": []
   },
   "outputs": [
    {
     "name": "stdout",
     "output_type": "stream",
     "text": [
      "[7 5 1 5 1 6 1]\n"
     ]
    }
   ],
   "source": [
    "import numpy as np\n",
    "\n",
    "print(np.random.randint(10, size = 7)) # 0 dan 10 a kadar 7 tane sayi yazdirdik."
   ]
  },
  {
   "cell_type": "code",
   "execution_count": 3,
   "id": "90a4593c",
   "metadata": {
    "execution": {
     "iopub.execute_input": "2022-03-14T22:02:55.819042Z",
     "iopub.status.busy": "2022-03-14T22:02:55.817641Z",
     "iopub.status.idle": "2022-03-14T22:02:55.820972Z",
     "shell.execute_reply": "2022-03-14T22:02:55.820248Z",
     "shell.execute_reply.started": "2022-03-14T21:47:38.508592Z"
    },
    "papermill": {
     "duration": 0.037939,
     "end_time": "2022-03-14T22:02:55.821152",
     "exception": false,
     "start_time": "2022-03-14T22:02:55.783213",
     "status": "completed"
    },
    "tags": []
   },
   "outputs": [],
   "source": [
    "a = np.random.randint(10, size = 7) # Tek Boyutlu\n",
    "\n",
    "b = np.random.randint(10, size = (3,5)) # 2 Boyutlu"
   ]
  },
  {
   "cell_type": "code",
   "execution_count": 4,
   "id": "498708d1",
   "metadata": {
    "execution": {
     "iopub.execute_input": "2022-03-14T22:02:55.880720Z",
     "iopub.status.busy": "2022-03-14T22:02:55.879907Z",
     "iopub.status.idle": "2022-03-14T22:02:55.884104Z",
     "shell.execute_reply": "2022-03-14T22:02:55.883520Z",
     "shell.execute_reply.started": "2022-03-14T21:47:38.517015Z"
    },
    "papermill": {
     "duration": 0.038853,
     "end_time": "2022-03-14T22:02:55.884280",
     "exception": false,
     "start_time": "2022-03-14T22:02:55.845427",
     "status": "completed"
    },
    "tags": []
   },
   "outputs": [
    {
     "name": "stdout",
     "output_type": "stream",
     "text": [
      "a :  1\n",
      "b :  2\n"
     ]
    }
   ],
   "source": [
    "# BOYUT SAYISI\n",
    "\n",
    "print(\"a : \", a.ndim)\n",
    "\n",
    "print(\"b : \", b.ndim)"
   ]
  },
  {
   "cell_type": "code",
   "execution_count": 5,
   "id": "0e07513b",
   "metadata": {
    "execution": {
     "iopub.execute_input": "2022-03-14T22:02:55.942325Z",
     "iopub.status.busy": "2022-03-14T22:02:55.941182Z",
     "iopub.status.idle": "2022-03-14T22:02:55.945309Z",
     "shell.execute_reply": "2022-03-14T22:02:55.945972Z",
     "shell.execute_reply.started": "2022-03-14T21:47:38.630710Z"
    },
    "papermill": {
     "duration": 0.037739,
     "end_time": "2022-03-14T22:02:55.946212",
     "exception": false,
     "start_time": "2022-03-14T22:02:55.908473",
     "status": "completed"
    },
    "tags": []
   },
   "outputs": [
    {
     "name": "stdout",
     "output_type": "stream",
     "text": [
      "a :  (7,)\n",
      "b :  (3, 5)\n"
     ]
    }
   ],
   "source": [
    "# BOYUT BILGISI\n",
    "\n",
    "print(\"a : \", a.shape) # Tek Boyut Var ve Icinde 7 Tane Eleman Var Oldugu Gozukmustur.\n",
    "\n",
    "print(\"b : \", b.shape)"
   ]
  },
  {
   "cell_type": "code",
   "execution_count": 6,
   "id": "264aa118",
   "metadata": {
    "execution": {
     "iopub.execute_input": "2022-03-14T22:02:56.008278Z",
     "iopub.status.busy": "2022-03-14T22:02:56.007091Z",
     "iopub.status.idle": "2022-03-14T22:02:56.010989Z",
     "shell.execute_reply": "2022-03-14T22:02:56.011856Z",
     "shell.execute_reply.started": "2022-03-14T21:47:38.639482Z"
    },
    "papermill": {
     "duration": 0.039505,
     "end_time": "2022-03-14T22:02:56.012154",
     "exception": false,
     "start_time": "2022-03-14T22:02:55.972649",
     "status": "completed"
    },
    "tags": []
   },
   "outputs": [
    {
     "name": "stdout",
     "output_type": "stream",
     "text": [
      "a :  7\n",
      "b :  15\n"
     ]
    }
   ],
   "source": [
    "# Icerisinde ki Toplam Eleman Sayisini Bize Verir.\n",
    "\n",
    "print(\"a : \", a.size)\n",
    "\n",
    "print(\"b : \", b.size)"
   ]
  },
  {
   "cell_type": "code",
   "execution_count": 7,
   "id": "5519e6bd",
   "metadata": {
    "execution": {
     "iopub.execute_input": "2022-03-14T22:02:56.073416Z",
     "iopub.status.busy": "2022-03-14T22:02:56.072541Z",
     "iopub.status.idle": "2022-03-14T22:02:56.080114Z",
     "shell.execute_reply": "2022-03-14T22:02:56.080921Z",
     "shell.execute_reply.started": "2022-03-14T21:47:38.908174Z"
    },
    "papermill": {
     "duration": 0.038936,
     "end_time": "2022-03-14T22:02:56.081165",
     "exception": false,
     "start_time": "2022-03-14T22:02:56.042229",
     "status": "completed"
    },
    "tags": []
   },
   "outputs": [
    {
     "name": "stdout",
     "output_type": "stream",
     "text": [
      "int64\n",
      "int64\n"
     ]
    }
   ],
   "source": [
    "print(a.dtype) # Icerisindeki Verilerin Veri Tipini Bize Verir.\n",
    "\n",
    "print(b.dtype)"
   ]
  },
  {
   "cell_type": "code",
   "execution_count": 8,
   "id": "66dbb94c",
   "metadata": {
    "execution": {
     "iopub.execute_input": "2022-03-14T22:02:56.144830Z",
     "iopub.status.busy": "2022-03-14T22:02:56.143397Z",
     "iopub.status.idle": "2022-03-14T22:02:56.150220Z",
     "shell.execute_reply": "2022-03-14T22:02:56.149432Z",
     "shell.execute_reply.started": "2022-03-14T21:47:39.104802Z"
    },
    "papermill": {
     "duration": 0.043536,
     "end_time": "2022-03-14T22:02:56.150417",
     "exception": false,
     "start_time": "2022-03-14T22:02:56.106881",
     "status": "completed"
    },
    "tags": []
   },
   "outputs": [
    {
     "name": "stdout",
     "output_type": "stream",
     "text": [
      "c :  [1 6 1 0 2 5 3 2 5]\n",
      "\n",
      "3x3 matris hali : \n",
      "\n",
      " [[1 6 1]\n",
      " [0 2 5]\n",
      " [3 2 5]]\n"
     ]
    }
   ],
   "source": [
    "# Bir Array i Yeniden Boyutlandirmak Istersek \".reshape\" kullanilir.\n",
    "\n",
    "c = np.random.randint(7, size = 9, dtype = int)\n",
    "\n",
    "print(\"c : \", c)\n",
    "\n",
    "print()\n",
    "\n",
    "print(\"3x3 matris hali : \\n\\n\",c.reshape(3,3))"
   ]
  },
  {
   "cell_type": "code",
   "execution_count": 9,
   "id": "dfa547e4",
   "metadata": {
    "execution": {
     "iopub.execute_input": "2022-03-14T22:02:56.217688Z",
     "iopub.status.busy": "2022-03-14T22:02:56.216888Z",
     "iopub.status.idle": "2022-03-14T22:02:56.221390Z",
     "shell.execute_reply": "2022-03-14T22:02:56.220112Z",
     "shell.execute_reply.started": "2022-03-14T21:47:39.112988Z"
    },
    "papermill": {
     "duration": 0.04131,
     "end_time": "2022-03-14T22:02:56.221638",
     "exception": false,
     "start_time": "2022-03-14T22:02:56.180328",
     "status": "completed"
    },
    "tags": []
   },
   "outputs": [
    {
     "name": "stdout",
     "output_type": "stream",
     "text": [
      "f :  [1 2 3 4 5 6]\n"
     ]
    }
   ],
   "source": [
    "# IKI FARKLI ARRAY I BIR ARAYA GETIRME\n",
    "\n",
    "# BIRLESTIRME\n",
    "\n",
    "d = np.array([1,2,3])\n",
    "e = np.array([4,5,6])\n",
    "\n",
    "f = np.concatenate([d,e]) # Birlestirme Islemi\n",
    "\n",
    "print(\"f : \", f)"
   ]
  },
  {
   "cell_type": "code",
   "execution_count": 10,
   "id": "554a34f4",
   "metadata": {
    "execution": {
     "iopub.execute_input": "2022-03-14T22:02:56.285055Z",
     "iopub.status.busy": "2022-03-14T22:02:56.284042Z",
     "iopub.status.idle": "2022-03-14T22:02:56.289794Z",
     "shell.execute_reply": "2022-03-14T22:02:56.289018Z",
     "shell.execute_reply.started": "2022-03-14T21:47:39.127309Z"
    },
    "papermill": {
     "duration": 0.040996,
     "end_time": "2022-03-14T22:02:56.289971",
     "exception": false,
     "start_time": "2022-03-14T22:02:56.248975",
     "status": "completed"
    },
    "tags": []
   },
   "outputs": [
    {
     "name": "stdout",
     "output_type": "stream",
     "text": [
      "[1 2 3 4 5 6 7 8 9]\n",
      "-------------------\n",
      "[1 2 3 4 5 6 7 8 9]\n"
     ]
    }
   ],
   "source": [
    "# Ekleme Islemini Istegimiz Dogrultusunda Yeniden Yapabiliyoruz.\n",
    "\n",
    "g = np.array([7,8,9])\n",
    "\n",
    "h = np.concatenate([f,g])\n",
    "\n",
    "print(h)\n",
    "\n",
    "# ---------------------------------------------------------------\n",
    "\n",
    "print(\"-------------------\")\n",
    "\n",
    "# bir baska sekilde ekleme yapicam\n",
    "\n",
    "i = np.concatenate([d,e,g])\n",
    "\n",
    "print(i)"
   ]
  },
  {
   "cell_type": "code",
   "execution_count": 11,
   "id": "1ed8a98b",
   "metadata": {
    "execution": {
     "iopub.execute_input": "2022-03-14T22:02:56.352540Z",
     "iopub.status.busy": "2022-03-14T22:02:56.349011Z",
     "iopub.status.idle": "2022-03-14T22:02:56.358892Z",
     "shell.execute_reply": "2022-03-14T22:02:56.357717Z",
     "shell.execute_reply.started": "2022-03-14T21:47:39.465984Z"
    },
    "papermill": {
     "duration": 0.042489,
     "end_time": "2022-03-14T22:02:56.359572",
     "exception": false,
     "start_time": "2022-03-14T22:02:56.317083",
     "status": "completed"
    },
    "tags": []
   },
   "outputs": [
    {
     "name": "stdout",
     "output_type": "stream",
     "text": [
      "[[1 2 3]\n",
      " [4 5 6]\n",
      " [1 2 3]\n",
      " [4 5 6]]\n"
     ]
    }
   ],
   "source": [
    "# IKI BOYUTTA BIRLESTIRME ISLEMI\n",
    "\n",
    "j = np.array([[1,2,3],\n",
    "              [4,5,6]]) # Okunabilirlik Acisindan Alt Satira Indim\n",
    "\n",
    "k = np.concatenate([j,j])\n",
    "\n",
    "print(k) # BU BIRLESTIRME ISLEMI SATIR BAZINDADIR"
   ]
  },
  {
   "cell_type": "code",
   "execution_count": 12,
   "id": "17275472",
   "metadata": {
    "execution": {
     "iopub.execute_input": "2022-03-14T22:02:56.424521Z",
     "iopub.status.busy": "2022-03-14T22:02:56.423647Z",
     "iopub.status.idle": "2022-03-14T22:02:56.426952Z",
     "shell.execute_reply": "2022-03-14T22:02:56.426073Z",
     "shell.execute_reply.started": "2022-03-14T21:47:39.474835Z"
    },
    "papermill": {
     "duration": 0.037423,
     "end_time": "2022-03-14T22:02:56.427164",
     "exception": false,
     "start_time": "2022-03-14T22:02:56.389741",
     "status": "completed"
    },
    "tags": []
   },
   "outputs": [],
   "source": [
    "L = np.concatenate([j,j] , axis = 0) # Aslinda Bu Zamana Kadar Yaptigimiz Sey Bu Ifadeydi Eksen Ile Belirtildiginde 0 Dememiz Lazim."
   ]
  },
  {
   "cell_type": "code",
   "execution_count": 13,
   "id": "c8a4acd8",
   "metadata": {
    "execution": {
     "iopub.execute_input": "2022-03-14T22:02:56.495802Z",
     "iopub.status.busy": "2022-03-14T22:02:56.494837Z",
     "iopub.status.idle": "2022-03-14T22:02:56.499928Z",
     "shell.execute_reply": "2022-03-14T22:02:56.498726Z",
     "shell.execute_reply.started": "2022-03-14T21:47:39.485706Z"
    },
    "papermill": {
     "duration": 0.042101,
     "end_time": "2022-03-14T22:02:56.500230",
     "exception": false,
     "start_time": "2022-03-14T22:02:56.458129",
     "status": "completed"
    },
    "tags": []
   },
   "outputs": [
    {
     "name": "stdout",
     "output_type": "stream",
     "text": [
      "[[1 2 3]\n",
      " [4 5 6]\n",
      " [1 2 3]\n",
      " [4 5 6]]\n",
      "---------\n",
      "[[1 2 3 1 2 3]\n",
      " [4 5 6 4 5 6]]\n"
     ]
    }
   ],
   "source": [
    "# SUTUN BAZINDA BIRLESTIRME ISLEMI - m ifadesi\n",
    "\n",
    "m = np.concatenate([j,j] , axis = 1) \n",
    "\n",
    "print(L)\n",
    "\n",
    "print(\"---------\")\n",
    "\n",
    "print(m)"
   ]
  },
  {
   "cell_type": "code",
   "execution_count": 14,
   "id": "02ab6936",
   "metadata": {
    "execution": {
     "iopub.execute_input": "2022-03-14T22:02:56.567773Z",
     "iopub.status.busy": "2022-03-14T22:02:56.566924Z",
     "iopub.status.idle": "2022-03-14T22:02:56.570984Z",
     "shell.execute_reply": "2022-03-14T22:02:56.569970Z",
     "shell.execute_reply.started": "2022-03-14T21:47:39.682842Z"
    },
    "papermill": {
     "duration": 0.041341,
     "end_time": "2022-03-14T22:02:56.571240",
     "exception": false,
     "start_time": "2022-03-14T22:02:56.529899",
     "status": "completed"
    },
    "tags": []
   },
   "outputs": [
    {
     "name": "stdout",
     "output_type": "stream",
     "text": [
      "[array([1, 2, 3]), array([4, 5]), array([6, 7, 8, 9])]\n"
     ]
    }
   ],
   "source": [
    "# AYIRMA ISLEMI\n",
    "\n",
    "n = np.array([1,2,3,4,5,6,7,8,9])\n",
    "\n",
    "print(np.split(n, [3,5])) # n adindaki array i 3'e Kadar Ve 5'e Kadar Bol demektir."
   ]
  },
  {
   "cell_type": "code",
   "execution_count": 15,
   "id": "131f9c4b",
   "metadata": {
    "execution": {
     "iopub.execute_input": "2022-03-14T22:02:56.642112Z",
     "iopub.status.busy": "2022-03-14T22:02:56.641374Z",
     "iopub.status.idle": "2022-03-14T22:02:56.646847Z",
     "shell.execute_reply": "2022-03-14T22:02:56.645788Z",
     "shell.execute_reply.started": "2022-03-14T21:47:39.691883Z"
    },
    "papermill": {
     "duration": 0.043977,
     "end_time": "2022-03-14T22:02:56.647256",
     "exception": false,
     "start_time": "2022-03-14T22:02:56.603279",
     "status": "completed"
    },
    "tags": []
   },
   "outputs": [
    {
     "name": "stdout",
     "output_type": "stream",
     "text": [
      "[1 2 3]\n",
      "[4 5]\n",
      "[6 7 8 9]\n"
     ]
    }
   ],
   "source": [
    "# Yukarida ki Ifade de 3 tane ayri Bolum Var Bu Ifadeleri Atama Yapicaz.\n",
    "\n",
    "o,p,r = np.split(n, [3,5])\n",
    "print(o)\n",
    "print(p)\n",
    "print(r)"
   ]
  },
  {
   "cell_type": "code",
   "execution_count": 16,
   "id": "f33af321",
   "metadata": {
    "execution": {
     "iopub.execute_input": "2022-03-14T22:02:56.717222Z",
     "iopub.status.busy": "2022-03-14T22:02:56.716381Z",
     "iopub.status.idle": "2022-03-14T22:02:56.719462Z",
     "shell.execute_reply": "2022-03-14T22:02:56.720007Z",
     "shell.execute_reply.started": "2022-03-14T21:47:39.711323Z"
    },
    "papermill": {
     "duration": 0.041579,
     "end_time": "2022-03-14T22:02:56.720222",
     "exception": false,
     "start_time": "2022-03-14T22:02:56.678643",
     "status": "completed"
    },
    "tags": []
   },
   "outputs": [
    {
     "name": "stdout",
     "output_type": "stream",
     "text": [
      "[[ 0  1  2  3]\n",
      " [ 4  5  6  7]\n",
      " [ 8  9 10 11]\n",
      " [12 13 14 15]]\n"
     ]
    }
   ],
   "source": [
    "# 2 BOYUTLU AYIRMA ISLEMLERI\n",
    "\n",
    "s = np.arange(16).reshape(4,4)\n",
    "print(s)"
   ]
  },
  {
   "cell_type": "code",
   "execution_count": 17,
   "id": "0d2bbc17",
   "metadata": {
    "execution": {
     "iopub.execute_input": "2022-03-14T22:02:56.790256Z",
     "iopub.status.busy": "2022-03-14T22:02:56.787302Z",
     "iopub.status.idle": "2022-03-14T22:02:56.794254Z",
     "shell.execute_reply": "2022-03-14T22:02:56.795353Z",
     "shell.execute_reply.started": "2022-03-14T21:47:39.724249Z"
    },
    "papermill": {
     "duration": 0.045978,
     "end_time": "2022-03-14T22:02:56.795672",
     "exception": false,
     "start_time": "2022-03-14T22:02:56.749694",
     "status": "completed"
    },
    "tags": []
   },
   "outputs": [
    {
     "name": "stdout",
     "output_type": "stream",
     "text": [
      "[array([[0, 1, 2, 3],\n",
      "       [4, 5, 6, 7]]), array([[ 8,  9, 10, 11],\n",
      "       [12, 13, 14, 15]])]\n"
     ]
    }
   ],
   "source": [
    "# YATAY BOLME ISLEMI YAPILMISTIR.\n",
    "\n",
    "print(np.vsplit(s, [2]))"
   ]
  },
  {
   "cell_type": "code",
   "execution_count": 18,
   "id": "a294ebd3",
   "metadata": {
    "execution": {
     "iopub.execute_input": "2022-03-14T22:02:56.864965Z",
     "iopub.status.busy": "2022-03-14T22:02:56.863582Z",
     "iopub.status.idle": "2022-03-14T22:02:56.870983Z",
     "shell.execute_reply": "2022-03-14T22:02:56.871989Z",
     "shell.execute_reply.started": "2022-03-14T21:47:39.737276Z"
    },
    "papermill": {
     "duration": 0.04557,
     "end_time": "2022-03-14T22:02:56.872825",
     "exception": false,
     "start_time": "2022-03-14T22:02:56.827255",
     "status": "completed"
    },
    "tags": []
   },
   "outputs": [
    {
     "name": "stdout",
     "output_type": "stream",
     "text": [
      "[array([[ 0,  1],\n",
      "       [ 4,  5],\n",
      "       [ 8,  9],\n",
      "       [12, 13]]), array([[ 2,  3],\n",
      "       [ 6,  7],\n",
      "       [10, 11],\n",
      "       [14, 15]])]\n"
     ]
    }
   ],
   "source": [
    "# DIKEY BOLME ISLEMI YAPILMISTIR.\n",
    "\n",
    "print(np.hsplit(s, [2]))"
   ]
  },
  {
   "cell_type": "code",
   "execution_count": 19,
   "id": "00e41579",
   "metadata": {
    "execution": {
     "iopub.execute_input": "2022-03-14T22:02:56.944894Z",
     "iopub.status.busy": "2022-03-14T22:02:56.941117Z",
     "iopub.status.idle": "2022-03-14T22:02:56.949534Z",
     "shell.execute_reply": "2022-03-14T22:02:56.950585Z",
     "shell.execute_reply.started": "2022-03-14T21:47:40.547048Z"
    },
    "papermill": {
     "duration": 0.045557,
     "end_time": "2022-03-14T22:02:56.950938",
     "exception": false,
     "start_time": "2022-03-14T22:02:56.905381",
     "status": "completed"
    },
    "tags": []
   },
   "outputs": [
    {
     "name": "stdout",
     "output_type": "stream",
     "text": [
      "[1 4 5 6 7 8 9]\n",
      "---------------\n",
      "[8 5 7 9 4 1 6]\n",
      "---------------\n",
      "[1 4 5 6 7 8 9]\n"
     ]
    }
   ],
   "source": [
    "# BIR BOYUTTA SIRALAMA ISLEMLERI\n",
    "# :!\n",
    "\n",
    "t = np.array([8,5,7,9,4,1,6])\n",
    "\n",
    "print(np.sort(t))\n",
    "\n",
    "print(\"---------------\")\n",
    "\n",
    "print(t) # Original Hali Sirali Degildir.\n",
    "\n",
    "t.sort() # Original Halini Siraya Aldik\n",
    "\n",
    "print(\"---------------\")\n",
    "\n",
    "print(t) # Original Hali Siralidir."
   ]
  },
  {
   "cell_type": "code",
   "execution_count": 20,
   "id": "4292ca4e",
   "metadata": {
    "execution": {
     "iopub.execute_input": "2022-03-14T22:02:57.021430Z",
     "iopub.status.busy": "2022-03-14T22:02:57.020538Z",
     "iopub.status.idle": "2022-03-14T22:02:57.033643Z",
     "shell.execute_reply": "2022-03-14T22:02:57.032915Z",
     "shell.execute_reply.started": "2022-03-14T21:57:22.455223Z"
    },
    "papermill": {
     "duration": 0.050096,
     "end_time": "2022-03-14T22:02:57.034026",
     "exception": false,
     "start_time": "2022-03-14T22:02:56.983930",
     "status": "completed"
    },
    "tags": []
   },
   "outputs": [
    {
     "name": "stdout",
     "output_type": "stream",
     "text": [
      "[[ 8.32234781 19.29113888 16.69334692]\n",
      " [12.23622512 12.78034394  9.91263014]\n",
      " [13.88603811 13.64357836 22.33853763]]\n",
      "\n",
      "*****************************************\n",
      "\n",
      "Satirlari Kucukten Buyuge Siralama\n",
      "-----------------------------------\n",
      "\n",
      "[[ 8.32234781 16.69334692 19.29113888]\n",
      " [ 9.91263014 12.23622512 12.78034394]\n",
      " [13.64357836 13.88603811 22.33853763]]\n",
      "\n",
      "\n",
      "*****************************************\n",
      "\n",
      "Sutunlari Kucukten Buyuge Siralama\n",
      "-----------------------------------\n",
      "\n",
      "[[ 8.32234781 12.78034394  9.91263014]\n",
      " [12.23622512 13.64357836 16.69334692]\n",
      " [13.88603811 19.29113888 22.33853763]]\n"
     ]
    }
   ],
   "source": [
    "# IKI BOYUTTA SIRALAMA ISLEMLERI\n",
    "\n",
    "u = np.random.normal(14, 5, (3,3))\n",
    "\n",
    "print(u)\n",
    "\n",
    "print(\"\\n*****************************************\\n\")\n",
    "print(\"Satirlari Kucukten Buyuge Siralama\")\n",
    "print(\"-----------------------------------\\n\")\n",
    "\n",
    "print(np.sort(u, axis = 1))\n",
    "\n",
    "print(\"\\n\\n*****************************************\\n\")\n",
    "print(\"Sutunlari Kucukten Buyuge Siralama\")\n",
    "print(\"-----------------------------------\\n\")\n",
    "print(np.sort(u, axis = 0))"
   ]
  },
  {
   "cell_type": "code",
   "execution_count": null,
   "id": "dc5bab87",
   "metadata": {
    "papermill": {
     "duration": 0.031569,
     "end_time": "2022-03-14T22:02:57.097560",
     "exception": false,
     "start_time": "2022-03-14T22:02:57.065991",
     "status": "completed"
    },
    "tags": []
   },
   "outputs": [],
   "source": []
  }
 ],
 "metadata": {
  "kernelspec": {
   "display_name": "Python 3",
   "language": "python",
   "name": "python3"
  },
  "language_info": {
   "codemirror_mode": {
    "name": "ipython",
    "version": 3
   },
   "file_extension": ".py",
   "mimetype": "text/x-python",
   "name": "python",
   "nbconvert_exporter": "python",
   "pygments_lexer": "ipython3",
   "version": "3.7.12"
  },
  "papermill": {
   "default_parameters": {},
   "duration": 18.065649,
   "end_time": "2022-03-14T22:02:58.146418",
   "environment_variables": {},
   "exception": null,
   "input_path": "__notebook__.ipynb",
   "output_path": "__notebook__.ipynb",
   "parameters": {},
   "start_time": "2022-03-14T22:02:40.080769",
   "version": "2.3.3"
  }
 },
 "nbformat": 4,
 "nbformat_minor": 5
}
