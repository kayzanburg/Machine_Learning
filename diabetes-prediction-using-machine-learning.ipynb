{
 "cells": [
  {
   "cell_type": "code",
   "execution_count": 1,
   "id": "0cbe91af",
   "metadata": {
    "_cell_guid": "b1076dfc-b9ad-4769-8c92-a6c4dae69d19",
    "_uuid": "8f2839f25d086af736a60e9eeb907d3b93b6e0e5",
    "execution": {
     "iopub.execute_input": "2022-10-04T13:06:43.012899Z",
     "iopub.status.busy": "2022-10-04T13:06:43.012390Z",
     "iopub.status.idle": "2022-10-04T13:06:44.222794Z",
     "shell.execute_reply": "2022-10-04T13:06:44.221483Z"
    },
    "papermill": {
     "duration": 1.224436,
     "end_time": "2022-10-04T13:06:44.226048",
     "exception": false,
     "start_time": "2022-10-04T13:06:43.001612",
     "status": "completed"
    },
    "tags": []
   },
   "outputs": [],
   "source": [
    "import numpy as np\n",
    "import pandas as pd\n",
    "from sklearn.preprocessing import StandardScaler\n",
    "from sklearn.model_selection import train_test_split\n",
    "from sklearn import svm\n",
    "from sklearn.metrics import accuracy_score"
   ]
  },
  {
   "cell_type": "markdown",
   "id": "0de584a0",
   "metadata": {
    "papermill": {
     "duration": 0.007001,
     "end_time": "2022-10-04T13:06:44.240799",
     "exception": false,
     "start_time": "2022-10-04T13:06:44.233798",
     "status": "completed"
    },
    "tags": []
   },
   "source": [
    "## Data Collection and Analysis\n",
    "\n",
    "### PIMA Diabetes Dataset"
   ]
  },
  {
   "cell_type": "code",
   "execution_count": 2,
   "id": "d5129a8d",
   "metadata": {
    "execution": {
     "iopub.execute_input": "2022-10-04T13:06:44.257437Z",
     "iopub.status.busy": "2022-10-04T13:06:44.256901Z",
     "iopub.status.idle": "2022-10-04T13:06:44.288935Z",
     "shell.execute_reply": "2022-10-04T13:06:44.287358Z"
    },
    "papermill": {
     "duration": 0.044357,
     "end_time": "2022-10-04T13:06:44.292149",
     "exception": false,
     "start_time": "2022-10-04T13:06:44.247792",
     "status": "completed"
    },
    "tags": []
   },
   "outputs": [],
   "source": [
    "# Loading the diabetes dataset to a pandas DataFrame\n",
    "\n",
    "diabetes_dataset = pd.read_csv(\"../input/docspot/datasets_228_482_diabetes.csv\")"
   ]
  },
  {
   "cell_type": "code",
   "execution_count": 3,
   "id": "890f873f",
   "metadata": {
    "execution": {
     "iopub.execute_input": "2022-10-04T13:06:44.309316Z",
     "iopub.status.busy": "2022-10-04T13:06:44.308865Z",
     "iopub.status.idle": "2022-10-04T13:06:44.334065Z",
     "shell.execute_reply": "2022-10-04T13:06:44.332603Z"
    },
    "papermill": {
     "duration": 0.037386,
     "end_time": "2022-10-04T13:06:44.337132",
     "exception": false,
     "start_time": "2022-10-04T13:06:44.299746",
     "status": "completed"
    },
    "tags": []
   },
   "outputs": [
    {
     "data": {
      "text/html": [
       "<div>\n",
       "<style scoped>\n",
       "    .dataframe tbody tr th:only-of-type {\n",
       "        vertical-align: middle;\n",
       "    }\n",
       "\n",
       "    .dataframe tbody tr th {\n",
       "        vertical-align: top;\n",
       "    }\n",
       "\n",
       "    .dataframe thead th {\n",
       "        text-align: right;\n",
       "    }\n",
       "</style>\n",
       "<table border=\"1\" class=\"dataframe\">\n",
       "  <thead>\n",
       "    <tr style=\"text-align: right;\">\n",
       "      <th></th>\n",
       "      <th>Pregnancies</th>\n",
       "      <th>Glucose</th>\n",
       "      <th>BloodPressure</th>\n",
       "      <th>SkinThickness</th>\n",
       "      <th>Insulin</th>\n",
       "      <th>BMI</th>\n",
       "      <th>DiabetesPedigreeFunction</th>\n",
       "      <th>Age</th>\n",
       "      <th>Outcome</th>\n",
       "    </tr>\n",
       "  </thead>\n",
       "  <tbody>\n",
       "    <tr>\n",
       "      <th>0</th>\n",
       "      <td>6</td>\n",
       "      <td>148</td>\n",
       "      <td>72</td>\n",
       "      <td>35</td>\n",
       "      <td>0</td>\n",
       "      <td>33.6</td>\n",
       "      <td>0.627</td>\n",
       "      <td>50</td>\n",
       "      <td>1</td>\n",
       "    </tr>\n",
       "    <tr>\n",
       "      <th>1</th>\n",
       "      <td>1</td>\n",
       "      <td>85</td>\n",
       "      <td>66</td>\n",
       "      <td>29</td>\n",
       "      <td>0</td>\n",
       "      <td>26.6</td>\n",
       "      <td>0.351</td>\n",
       "      <td>31</td>\n",
       "      <td>0</td>\n",
       "    </tr>\n",
       "    <tr>\n",
       "      <th>2</th>\n",
       "      <td>8</td>\n",
       "      <td>183</td>\n",
       "      <td>64</td>\n",
       "      <td>0</td>\n",
       "      <td>0</td>\n",
       "      <td>23.3</td>\n",
       "      <td>0.672</td>\n",
       "      <td>32</td>\n",
       "      <td>1</td>\n",
       "    </tr>\n",
       "    <tr>\n",
       "      <th>3</th>\n",
       "      <td>1</td>\n",
       "      <td>89</td>\n",
       "      <td>66</td>\n",
       "      <td>23</td>\n",
       "      <td>94</td>\n",
       "      <td>28.1</td>\n",
       "      <td>0.167</td>\n",
       "      <td>21</td>\n",
       "      <td>0</td>\n",
       "    </tr>\n",
       "    <tr>\n",
       "      <th>4</th>\n",
       "      <td>0</td>\n",
       "      <td>137</td>\n",
       "      <td>40</td>\n",
       "      <td>35</td>\n",
       "      <td>168</td>\n",
       "      <td>43.1</td>\n",
       "      <td>2.288</td>\n",
       "      <td>33</td>\n",
       "      <td>1</td>\n",
       "    </tr>\n",
       "  </tbody>\n",
       "</table>\n",
       "</div>"
      ],
      "text/plain": [
       "   Pregnancies  Glucose  BloodPressure  SkinThickness  Insulin   BMI  \\\n",
       "0            6      148             72             35        0  33.6   \n",
       "1            1       85             66             29        0  26.6   \n",
       "2            8      183             64              0        0  23.3   \n",
       "3            1       89             66             23       94  28.1   \n",
       "4            0      137             40             35      168  43.1   \n",
       "\n",
       "   DiabetesPedigreeFunction  Age  Outcome  \n",
       "0                     0.627   50        1  \n",
       "1                     0.351   31        0  \n",
       "2                     0.672   32        1  \n",
       "3                     0.167   21        0  \n",
       "4                     2.288   33        1  "
      ]
     },
     "execution_count": 3,
     "metadata": {},
     "output_type": "execute_result"
    }
   ],
   "source": [
    "diabetes_dataset.head()"
   ]
  },
  {
   "cell_type": "code",
   "execution_count": 4,
   "id": "24ec80b4",
   "metadata": {
    "execution": {
     "iopub.execute_input": "2022-10-04T13:06:44.354925Z",
     "iopub.status.busy": "2022-10-04T13:06:44.354431Z",
     "iopub.status.idle": "2022-10-04T13:06:44.361493Z",
     "shell.execute_reply": "2022-10-04T13:06:44.360361Z"
    },
    "papermill": {
     "duration": 0.01902,
     "end_time": "2022-10-04T13:06:44.363907",
     "exception": false,
     "start_time": "2022-10-04T13:06:44.344887",
     "status": "completed"
    },
    "tags": []
   },
   "outputs": [
    {
     "data": {
      "text/plain": [
       "(768, 9)"
      ]
     },
     "execution_count": 4,
     "metadata": {},
     "output_type": "execute_result"
    }
   ],
   "source": [
    "# Number of rows and Columns in this dataset\n",
    "\n",
    "diabetes_dataset.shape"
   ]
  },
  {
   "cell_type": "code",
   "execution_count": 5,
   "id": "f36aca71",
   "metadata": {
    "execution": {
     "iopub.execute_input": "2022-10-04T13:06:44.383968Z",
     "iopub.status.busy": "2022-10-04T13:06:44.383499Z",
     "iopub.status.idle": "2022-10-04T13:06:44.434071Z",
     "shell.execute_reply": "2022-10-04T13:06:44.432716Z"
    },
    "papermill": {
     "duration": 0.065186,
     "end_time": "2022-10-04T13:06:44.436673",
     "exception": false,
     "start_time": "2022-10-04T13:06:44.371487",
     "status": "completed"
    },
    "tags": []
   },
   "outputs": [
    {
     "data": {
      "text/html": [
       "<div>\n",
       "<style scoped>\n",
       "    .dataframe tbody tr th:only-of-type {\n",
       "        vertical-align: middle;\n",
       "    }\n",
       "\n",
       "    .dataframe tbody tr th {\n",
       "        vertical-align: top;\n",
       "    }\n",
       "\n",
       "    .dataframe thead th {\n",
       "        text-align: right;\n",
       "    }\n",
       "</style>\n",
       "<table border=\"1\" class=\"dataframe\">\n",
       "  <thead>\n",
       "    <tr style=\"text-align: right;\">\n",
       "      <th></th>\n",
       "      <th>Pregnancies</th>\n",
       "      <th>Glucose</th>\n",
       "      <th>BloodPressure</th>\n",
       "      <th>SkinThickness</th>\n",
       "      <th>Insulin</th>\n",
       "      <th>BMI</th>\n",
       "      <th>DiabetesPedigreeFunction</th>\n",
       "      <th>Age</th>\n",
       "      <th>Outcome</th>\n",
       "    </tr>\n",
       "  </thead>\n",
       "  <tbody>\n",
       "    <tr>\n",
       "      <th>count</th>\n",
       "      <td>768.000000</td>\n",
       "      <td>768.000000</td>\n",
       "      <td>768.000000</td>\n",
       "      <td>768.000000</td>\n",
       "      <td>768.000000</td>\n",
       "      <td>768.000000</td>\n",
       "      <td>768.000000</td>\n",
       "      <td>768.000000</td>\n",
       "      <td>768.000000</td>\n",
       "    </tr>\n",
       "    <tr>\n",
       "      <th>mean</th>\n",
       "      <td>3.845052</td>\n",
       "      <td>120.894531</td>\n",
       "      <td>69.105469</td>\n",
       "      <td>20.536458</td>\n",
       "      <td>79.799479</td>\n",
       "      <td>31.992578</td>\n",
       "      <td>0.471876</td>\n",
       "      <td>33.240885</td>\n",
       "      <td>0.348958</td>\n",
       "    </tr>\n",
       "    <tr>\n",
       "      <th>std</th>\n",
       "      <td>3.369578</td>\n",
       "      <td>31.972618</td>\n",
       "      <td>19.355807</td>\n",
       "      <td>15.952218</td>\n",
       "      <td>115.244002</td>\n",
       "      <td>7.884160</td>\n",
       "      <td>0.331329</td>\n",
       "      <td>11.760232</td>\n",
       "      <td>0.476951</td>\n",
       "    </tr>\n",
       "    <tr>\n",
       "      <th>min</th>\n",
       "      <td>0.000000</td>\n",
       "      <td>0.000000</td>\n",
       "      <td>0.000000</td>\n",
       "      <td>0.000000</td>\n",
       "      <td>0.000000</td>\n",
       "      <td>0.000000</td>\n",
       "      <td>0.078000</td>\n",
       "      <td>21.000000</td>\n",
       "      <td>0.000000</td>\n",
       "    </tr>\n",
       "    <tr>\n",
       "      <th>25%</th>\n",
       "      <td>1.000000</td>\n",
       "      <td>99.000000</td>\n",
       "      <td>62.000000</td>\n",
       "      <td>0.000000</td>\n",
       "      <td>0.000000</td>\n",
       "      <td>27.300000</td>\n",
       "      <td>0.243750</td>\n",
       "      <td>24.000000</td>\n",
       "      <td>0.000000</td>\n",
       "    </tr>\n",
       "    <tr>\n",
       "      <th>50%</th>\n",
       "      <td>3.000000</td>\n",
       "      <td>117.000000</td>\n",
       "      <td>72.000000</td>\n",
       "      <td>23.000000</td>\n",
       "      <td>30.500000</td>\n",
       "      <td>32.000000</td>\n",
       "      <td>0.372500</td>\n",
       "      <td>29.000000</td>\n",
       "      <td>0.000000</td>\n",
       "    </tr>\n",
       "    <tr>\n",
       "      <th>75%</th>\n",
       "      <td>6.000000</td>\n",
       "      <td>140.250000</td>\n",
       "      <td>80.000000</td>\n",
       "      <td>32.000000</td>\n",
       "      <td>127.250000</td>\n",
       "      <td>36.600000</td>\n",
       "      <td>0.626250</td>\n",
       "      <td>41.000000</td>\n",
       "      <td>1.000000</td>\n",
       "    </tr>\n",
       "    <tr>\n",
       "      <th>max</th>\n",
       "      <td>17.000000</td>\n",
       "      <td>199.000000</td>\n",
       "      <td>122.000000</td>\n",
       "      <td>99.000000</td>\n",
       "      <td>846.000000</td>\n",
       "      <td>67.100000</td>\n",
       "      <td>2.420000</td>\n",
       "      <td>81.000000</td>\n",
       "      <td>1.000000</td>\n",
       "    </tr>\n",
       "  </tbody>\n",
       "</table>\n",
       "</div>"
      ],
      "text/plain": [
       "       Pregnancies     Glucose  BloodPressure  SkinThickness     Insulin  \\\n",
       "count   768.000000  768.000000     768.000000     768.000000  768.000000   \n",
       "mean      3.845052  120.894531      69.105469      20.536458   79.799479   \n",
       "std       3.369578   31.972618      19.355807      15.952218  115.244002   \n",
       "min       0.000000    0.000000       0.000000       0.000000    0.000000   \n",
       "25%       1.000000   99.000000      62.000000       0.000000    0.000000   \n",
       "50%       3.000000  117.000000      72.000000      23.000000   30.500000   \n",
       "75%       6.000000  140.250000      80.000000      32.000000  127.250000   \n",
       "max      17.000000  199.000000     122.000000      99.000000  846.000000   \n",
       "\n",
       "              BMI  DiabetesPedigreeFunction         Age     Outcome  \n",
       "count  768.000000                768.000000  768.000000  768.000000  \n",
       "mean    31.992578                  0.471876   33.240885    0.348958  \n",
       "std      7.884160                  0.331329   11.760232    0.476951  \n",
       "min      0.000000                  0.078000   21.000000    0.000000  \n",
       "25%     27.300000                  0.243750   24.000000    0.000000  \n",
       "50%     32.000000                  0.372500   29.000000    0.000000  \n",
       "75%     36.600000                  0.626250   41.000000    1.000000  \n",
       "max     67.100000                  2.420000   81.000000    1.000000  "
      ]
     },
     "execution_count": 5,
     "metadata": {},
     "output_type": "execute_result"
    }
   ],
   "source": [
    "# Getting the statistical measures of the data\n",
    "\n",
    "diabetes_dataset.describe()"
   ]
  },
  {
   "cell_type": "code",
   "execution_count": 6,
   "id": "bd327196",
   "metadata": {
    "execution": {
     "iopub.execute_input": "2022-10-04T13:06:44.455095Z",
     "iopub.status.busy": "2022-10-04T13:06:44.454630Z",
     "iopub.status.idle": "2022-10-04T13:06:44.464880Z",
     "shell.execute_reply": "2022-10-04T13:06:44.463452Z"
    },
    "papermill": {
     "duration": 0.022647,
     "end_time": "2022-10-04T13:06:44.467355",
     "exception": false,
     "start_time": "2022-10-04T13:06:44.444708",
     "status": "completed"
    },
    "tags": []
   },
   "outputs": [
    {
     "data": {
      "text/plain": [
       "0    500\n",
       "1    268\n",
       "Name: Outcome, dtype: int64"
      ]
     },
     "execution_count": 6,
     "metadata": {},
     "output_type": "execute_result"
    }
   ],
   "source": [
    "\"\"\"\n",
    "\n",
    "0 --> Non-Diabetic\n",
    "\n",
    "1 --> Diabetic\n",
    "\n",
    "\"\"\"\n",
    "\n",
    "\n",
    "diabetes_dataset[\"Outcome\"].value_counts()"
   ]
  },
  {
   "cell_type": "code",
   "execution_count": 7,
   "id": "6a036c01",
   "metadata": {
    "execution": {
     "iopub.execute_input": "2022-10-04T13:06:44.485333Z",
     "iopub.status.busy": "2022-10-04T13:06:44.484908Z",
     "iopub.status.idle": "2022-10-04T13:06:44.505339Z",
     "shell.execute_reply": "2022-10-04T13:06:44.504216Z"
    },
    "papermill": {
     "duration": 0.032101,
     "end_time": "2022-10-04T13:06:44.507619",
     "exception": false,
     "start_time": "2022-10-04T13:06:44.475518",
     "status": "completed"
    },
    "tags": []
   },
   "outputs": [
    {
     "data": {
      "text/html": [
       "<div>\n",
       "<style scoped>\n",
       "    .dataframe tbody tr th:only-of-type {\n",
       "        vertical-align: middle;\n",
       "    }\n",
       "\n",
       "    .dataframe tbody tr th {\n",
       "        vertical-align: top;\n",
       "    }\n",
       "\n",
       "    .dataframe thead th {\n",
       "        text-align: right;\n",
       "    }\n",
       "</style>\n",
       "<table border=\"1\" class=\"dataframe\">\n",
       "  <thead>\n",
       "    <tr style=\"text-align: right;\">\n",
       "      <th></th>\n",
       "      <th>Pregnancies</th>\n",
       "      <th>Glucose</th>\n",
       "      <th>BloodPressure</th>\n",
       "      <th>SkinThickness</th>\n",
       "      <th>Insulin</th>\n",
       "      <th>BMI</th>\n",
       "      <th>DiabetesPedigreeFunction</th>\n",
       "      <th>Age</th>\n",
       "    </tr>\n",
       "    <tr>\n",
       "      <th>Outcome</th>\n",
       "      <th></th>\n",
       "      <th></th>\n",
       "      <th></th>\n",
       "      <th></th>\n",
       "      <th></th>\n",
       "      <th></th>\n",
       "      <th></th>\n",
       "      <th></th>\n",
       "    </tr>\n",
       "  </thead>\n",
       "  <tbody>\n",
       "    <tr>\n",
       "      <th>0</th>\n",
       "      <td>3.298000</td>\n",
       "      <td>109.980000</td>\n",
       "      <td>68.184000</td>\n",
       "      <td>19.664000</td>\n",
       "      <td>68.792000</td>\n",
       "      <td>30.304200</td>\n",
       "      <td>0.429734</td>\n",
       "      <td>31.190000</td>\n",
       "    </tr>\n",
       "    <tr>\n",
       "      <th>1</th>\n",
       "      <td>4.865672</td>\n",
       "      <td>141.257463</td>\n",
       "      <td>70.824627</td>\n",
       "      <td>22.164179</td>\n",
       "      <td>100.335821</td>\n",
       "      <td>35.142537</td>\n",
       "      <td>0.550500</td>\n",
       "      <td>37.067164</td>\n",
       "    </tr>\n",
       "  </tbody>\n",
       "</table>\n",
       "</div>"
      ],
      "text/plain": [
       "         Pregnancies     Glucose  BloodPressure  SkinThickness     Insulin  \\\n",
       "Outcome                                                                      \n",
       "0           3.298000  109.980000      68.184000      19.664000   68.792000   \n",
       "1           4.865672  141.257463      70.824627      22.164179  100.335821   \n",
       "\n",
       "               BMI  DiabetesPedigreeFunction        Age  \n",
       "Outcome                                                  \n",
       "0        30.304200                  0.429734  31.190000  \n",
       "1        35.142537                  0.550500  37.067164  "
      ]
     },
     "execution_count": 7,
     "metadata": {},
     "output_type": "execute_result"
    }
   ],
   "source": [
    "diabetes_dataset.groupby(\"Outcome\").mean()"
   ]
  },
  {
   "cell_type": "code",
   "execution_count": 8,
   "id": "725c1c8f",
   "metadata": {
    "execution": {
     "iopub.execute_input": "2022-10-04T13:06:44.525794Z",
     "iopub.status.busy": "2022-10-04T13:06:44.525297Z",
     "iopub.status.idle": "2022-10-04T13:06:44.532784Z",
     "shell.execute_reply": "2022-10-04T13:06:44.531264Z"
    },
    "papermill": {
     "duration": 0.019194,
     "end_time": "2022-10-04T13:06:44.535044",
     "exception": false,
     "start_time": "2022-10-04T13:06:44.515850",
     "status": "completed"
    },
    "tags": []
   },
   "outputs": [],
   "source": [
    "X = diabetes_dataset.drop(columns = \"Outcome\", axis = 1)\n",
    "Y = diabetes_dataset[\"Outcome\"]"
   ]
  },
  {
   "cell_type": "code",
   "execution_count": 9,
   "id": "f5446a16",
   "metadata": {
    "execution": {
     "iopub.execute_input": "2022-10-04T13:06:44.553184Z",
     "iopub.status.busy": "2022-10-04T13:06:44.552701Z",
     "iopub.status.idle": "2022-10-04T13:06:44.569309Z",
     "shell.execute_reply": "2022-10-04T13:06:44.567289Z"
    },
    "papermill": {
     "duration": 0.029108,
     "end_time": "2022-10-04T13:06:44.572204",
     "exception": false,
     "start_time": "2022-10-04T13:06:44.543096",
     "status": "completed"
    },
    "tags": []
   },
   "outputs": [
    {
     "name": "stdout",
     "output_type": "stream",
     "text": [
      "     Pregnancies  Glucose  BloodPressure  SkinThickness  Insulin   BMI  \\\n",
      "0              6      148             72             35        0  33.6   \n",
      "1              1       85             66             29        0  26.6   \n",
      "2              8      183             64              0        0  23.3   \n",
      "3              1       89             66             23       94  28.1   \n",
      "4              0      137             40             35      168  43.1   \n",
      "..           ...      ...            ...            ...      ...   ...   \n",
      "763           10      101             76             48      180  32.9   \n",
      "764            2      122             70             27        0  36.8   \n",
      "765            5      121             72             23      112  26.2   \n",
      "766            1      126             60              0        0  30.1   \n",
      "767            1       93             70             31        0  30.4   \n",
      "\n",
      "     DiabetesPedigreeFunction  Age  \n",
      "0                       0.627   50  \n",
      "1                       0.351   31  \n",
      "2                       0.672   32  \n",
      "3                       0.167   21  \n",
      "4                       2.288   33  \n",
      "..                        ...  ...  \n",
      "763                     0.171   63  \n",
      "764                     0.340   27  \n",
      "765                     0.245   30  \n",
      "766                     0.349   47  \n",
      "767                     0.315   23  \n",
      "\n",
      "[768 rows x 8 columns]\n",
      "\n",
      "\n",
      "\n",
      "-------------------\n",
      "\n",
      "\n",
      "\n",
      "0      1\n",
      "1      0\n",
      "2      1\n",
      "3      0\n",
      "4      1\n",
      "      ..\n",
      "763    0\n",
      "764    0\n",
      "765    0\n",
      "766    1\n",
      "767    0\n",
      "Name: Outcome, Length: 768, dtype: int64\n"
     ]
    }
   ],
   "source": [
    "print(X)\n",
    "\n",
    "print(\"\\n\\n\\n-------------------\\n\\n\\n\")\n",
    "\n",
    "print(Y)"
   ]
  },
  {
   "cell_type": "markdown",
   "id": "a9440530",
   "metadata": {
    "papermill": {
     "duration": 0.00783,
     "end_time": "2022-10-04T13:06:44.588389",
     "exception": false,
     "start_time": "2022-10-04T13:06:44.580559",
     "status": "completed"
    },
    "tags": []
   },
   "source": [
    "### Data Standardization"
   ]
  },
  {
   "cell_type": "code",
   "execution_count": 10,
   "id": "98862f7b",
   "metadata": {
    "execution": {
     "iopub.execute_input": "2022-10-04T13:06:44.607445Z",
     "iopub.status.busy": "2022-10-04T13:06:44.606971Z",
     "iopub.status.idle": "2022-10-04T13:06:44.612916Z",
     "shell.execute_reply": "2022-10-04T13:06:44.611387Z"
    },
    "papermill": {
     "duration": 0.018288,
     "end_time": "2022-10-04T13:06:44.615207",
     "exception": false,
     "start_time": "2022-10-04T13:06:44.596919",
     "status": "completed"
    },
    "tags": []
   },
   "outputs": [],
   "source": [
    "scaler = StandardScaler()"
   ]
  },
  {
   "cell_type": "code",
   "execution_count": 11,
   "id": "c558b04f",
   "metadata": {
    "execution": {
     "iopub.execute_input": "2022-10-04T13:06:44.633728Z",
     "iopub.status.busy": "2022-10-04T13:06:44.633214Z",
     "iopub.status.idle": "2022-10-04T13:06:44.647274Z",
     "shell.execute_reply": "2022-10-04T13:06:44.646018Z"
    },
    "papermill": {
     "duration": 0.026452,
     "end_time": "2022-10-04T13:06:44.649927",
     "exception": false,
     "start_time": "2022-10-04T13:06:44.623475",
     "status": "completed"
    },
    "tags": []
   },
   "outputs": [
    {
     "data": {
      "text/plain": [
       "StandardScaler()"
      ]
     },
     "execution_count": 11,
     "metadata": {},
     "output_type": "execute_result"
    }
   ],
   "source": [
    "scaler.fit(X)"
   ]
  },
  {
   "cell_type": "code",
   "execution_count": 12,
   "id": "3e9f027d",
   "metadata": {
    "execution": {
     "iopub.execute_input": "2022-10-04T13:06:44.668777Z",
     "iopub.status.busy": "2022-10-04T13:06:44.668268Z",
     "iopub.status.idle": "2022-10-04T13:06:44.677101Z",
     "shell.execute_reply": "2022-10-04T13:06:44.676039Z"
    },
    "papermill": {
     "duration": 0.020901,
     "end_time": "2022-10-04T13:06:44.679196",
     "exception": false,
     "start_time": "2022-10-04T13:06:44.658295",
     "status": "completed"
    },
    "tags": []
   },
   "outputs": [],
   "source": [
    "standardized_data = scaler.transform(X)"
   ]
  },
  {
   "cell_type": "code",
   "execution_count": 13,
   "id": "78ac8cf5",
   "metadata": {
    "execution": {
     "iopub.execute_input": "2022-10-04T13:06:44.697785Z",
     "iopub.status.busy": "2022-10-04T13:06:44.697312Z",
     "iopub.status.idle": "2022-10-04T13:06:44.705521Z",
     "shell.execute_reply": "2022-10-04T13:06:44.703825Z"
    },
    "papermill": {
     "duration": 0.020851,
     "end_time": "2022-10-04T13:06:44.708335",
     "exception": false,
     "start_time": "2022-10-04T13:06:44.687484",
     "status": "completed"
    },
    "tags": []
   },
   "outputs": [
    {
     "name": "stdout",
     "output_type": "stream",
     "text": [
      "[[ 0.63994726  0.84832379  0.14964075 ...  0.20401277  0.46849198\n",
      "   1.4259954 ]\n",
      " [-0.84488505 -1.12339636 -0.16054575 ... -0.68442195 -0.36506078\n",
      "  -0.19067191]\n",
      " [ 1.23388019  1.94372388 -0.26394125 ... -1.10325546  0.60439732\n",
      "  -0.10558415]\n",
      " ...\n",
      " [ 0.3429808   0.00330087  0.14964075 ... -0.73518964 -0.68519336\n",
      "  -0.27575966]\n",
      " [-0.84488505  0.1597866  -0.47073225 ... -0.24020459 -0.37110101\n",
      "   1.17073215]\n",
      " [-0.84488505 -0.8730192   0.04624525 ... -0.20212881 -0.47378505\n",
      "  -0.87137393]]\n"
     ]
    }
   ],
   "source": [
    "print(standardized_data)"
   ]
  },
  {
   "cell_type": "code",
   "execution_count": 14,
   "id": "a6ef51d9",
   "metadata": {
    "execution": {
     "iopub.execute_input": "2022-10-04T13:06:44.727259Z",
     "iopub.status.busy": "2022-10-04T13:06:44.726804Z",
     "iopub.status.idle": "2022-10-04T13:06:44.732421Z",
     "shell.execute_reply": "2022-10-04T13:06:44.731192Z"
    },
    "papermill": {
     "duration": 0.017729,
     "end_time": "2022-10-04T13:06:44.734623",
     "exception": false,
     "start_time": "2022-10-04T13:06:44.716894",
     "status": "completed"
    },
    "tags": []
   },
   "outputs": [],
   "source": [
    "X = standardized_data\n",
    "Y = diabetes_dataset[\"Outcome\"]"
   ]
  },
  {
   "cell_type": "code",
   "execution_count": 15,
   "id": "6fd45de9",
   "metadata": {
    "execution": {
     "iopub.execute_input": "2022-10-04T13:06:44.753202Z",
     "iopub.status.busy": "2022-10-04T13:06:44.752828Z",
     "iopub.status.idle": "2022-10-04T13:06:44.762204Z",
     "shell.execute_reply": "2022-10-04T13:06:44.759890Z"
    },
    "papermill": {
     "duration": 0.0215,
     "end_time": "2022-10-04T13:06:44.764449",
     "exception": false,
     "start_time": "2022-10-04T13:06:44.742949",
     "status": "completed"
    },
    "tags": []
   },
   "outputs": [
    {
     "name": "stdout",
     "output_type": "stream",
     "text": [
      "[[ 0.63994726  0.84832379  0.14964075 ...  0.20401277  0.46849198\n",
      "   1.4259954 ]\n",
      " [-0.84488505 -1.12339636 -0.16054575 ... -0.68442195 -0.36506078\n",
      "  -0.19067191]\n",
      " [ 1.23388019  1.94372388 -0.26394125 ... -1.10325546  0.60439732\n",
      "  -0.10558415]\n",
      " ...\n",
      " [ 0.3429808   0.00330087  0.14964075 ... -0.73518964 -0.68519336\n",
      "  -0.27575966]\n",
      " [-0.84488505  0.1597866  -0.47073225 ... -0.24020459 -0.37110101\n",
      "   1.17073215]\n",
      " [-0.84488505 -0.8730192   0.04624525 ... -0.20212881 -0.47378505\n",
      "  -0.87137393]]\n",
      "\n",
      "\n",
      "\n",
      "------------------------------\n",
      "\n",
      "\n",
      "\n",
      "0      1\n",
      "1      0\n",
      "2      1\n",
      "3      0\n",
      "4      1\n",
      "      ..\n",
      "763    0\n",
      "764    0\n",
      "765    0\n",
      "766    1\n",
      "767    0\n",
      "Name: Outcome, Length: 768, dtype: int64\n"
     ]
    }
   ],
   "source": [
    "print(X)\n",
    "\n",
    "print(\"\\n\\n\\n------------------------------\\n\\n\\n\")\n",
    "\n",
    "print(Y)"
   ]
  },
  {
   "cell_type": "markdown",
   "id": "cd3fe135",
   "metadata": {
    "papermill": {
     "duration": 0.008165,
     "end_time": "2022-10-04T13:06:44.781125",
     "exception": false,
     "start_time": "2022-10-04T13:06:44.772960",
     "status": "completed"
    },
    "tags": []
   },
   "source": [
    "## Train Test Split"
   ]
  },
  {
   "cell_type": "code",
   "execution_count": 16,
   "id": "2e8be9c9",
   "metadata": {
    "execution": {
     "iopub.execute_input": "2022-10-04T13:06:44.801237Z",
     "iopub.status.busy": "2022-10-04T13:06:44.799746Z",
     "iopub.status.idle": "2022-10-04T13:06:44.809469Z",
     "shell.execute_reply": "2022-10-04T13:06:44.808515Z"
    },
    "papermill": {
     "duration": 0.022083,
     "end_time": "2022-10-04T13:06:44.811694",
     "exception": false,
     "start_time": "2022-10-04T13:06:44.789611",
     "status": "completed"
    },
    "tags": []
   },
   "outputs": [],
   "source": [
    "X_train, X_test, Y_train, Y_test = train_test_split(X, Y, test_size = 0.2, stratify = Y, random_state = 2)"
   ]
  },
  {
   "cell_type": "code",
   "execution_count": 17,
   "id": "76da4a78",
   "metadata": {
    "execution": {
     "iopub.execute_input": "2022-10-04T13:06:44.831829Z",
     "iopub.status.busy": "2022-10-04T13:06:44.830372Z",
     "iopub.status.idle": "2022-10-04T13:06:44.838155Z",
     "shell.execute_reply": "2022-10-04T13:06:44.835896Z"
    },
    "papermill": {
     "duration": 0.020974,
     "end_time": "2022-10-04T13:06:44.841126",
     "exception": false,
     "start_time": "2022-10-04T13:06:44.820152",
     "status": "completed"
    },
    "tags": []
   },
   "outputs": [
    {
     "name": "stdout",
     "output_type": "stream",
     "text": [
      "(768, 8) (614, 8) (154, 8)\n"
     ]
    }
   ],
   "source": [
    "print(X.shape, X_train.shape, X_test.shape)"
   ]
  },
  {
   "cell_type": "markdown",
   "id": "cf0cb5ab",
   "metadata": {
    "papermill": {
     "duration": 0.008184,
     "end_time": "2022-10-04T13:06:44.858132",
     "exception": false,
     "start_time": "2022-10-04T13:06:44.849948",
     "status": "completed"
    },
    "tags": []
   },
   "source": [
    "## Training the Model"
   ]
  },
  {
   "cell_type": "code",
   "execution_count": 18,
   "id": "3dae1dd1",
   "metadata": {
    "execution": {
     "iopub.execute_input": "2022-10-04T13:06:44.878236Z",
     "iopub.status.busy": "2022-10-04T13:06:44.876738Z",
     "iopub.status.idle": "2022-10-04T13:06:44.882269Z",
     "shell.execute_reply": "2022-10-04T13:06:44.881434Z"
    },
    "papermill": {
     "duration": 0.017492,
     "end_time": "2022-10-04T13:06:44.884289",
     "exception": false,
     "start_time": "2022-10-04T13:06:44.866797",
     "status": "completed"
    },
    "tags": []
   },
   "outputs": [],
   "source": [
    "classifier = svm.SVC(kernel='linear')"
   ]
  },
  {
   "cell_type": "code",
   "execution_count": 19,
   "id": "496bc11e",
   "metadata": {
    "execution": {
     "iopub.execute_input": "2022-10-04T13:06:44.904160Z",
     "iopub.status.busy": "2022-10-04T13:06:44.903286Z",
     "iopub.status.idle": "2022-10-04T13:06:44.927239Z",
     "shell.execute_reply": "2022-10-04T13:06:44.925823Z"
    },
    "papermill": {
     "duration": 0.036736,
     "end_time": "2022-10-04T13:06:44.929580",
     "exception": false,
     "start_time": "2022-10-04T13:06:44.892844",
     "status": "completed"
    },
    "tags": []
   },
   "outputs": [
    {
     "data": {
      "text/plain": [
       "SVC(kernel='linear')"
      ]
     },
     "execution_count": 19,
     "metadata": {},
     "output_type": "execute_result"
    }
   ],
   "source": [
    "# Training the support vector Machine Classifier\n",
    "\n",
    "classifier.fit(X_train, Y_train)"
   ]
  },
  {
   "cell_type": "markdown",
   "id": "0242e966",
   "metadata": {
    "papermill": {
     "duration": 0.008445,
     "end_time": "2022-10-04T13:06:44.946790",
     "exception": false,
     "start_time": "2022-10-04T13:06:44.938345",
     "status": "completed"
    },
    "tags": []
   },
   "source": [
    "## Model Evaluation"
   ]
  },
  {
   "cell_type": "markdown",
   "id": "d4862df4",
   "metadata": {
    "papermill": {
     "duration": 0.008403,
     "end_time": "2022-10-04T13:06:44.963971",
     "exception": false,
     "start_time": "2022-10-04T13:06:44.955568",
     "status": "completed"
    },
    "tags": []
   },
   "source": [
    "## Accuracy Score"
   ]
  },
  {
   "cell_type": "code",
   "execution_count": 20,
   "id": "d8edf06a",
   "metadata": {
    "execution": {
     "iopub.execute_input": "2022-10-04T13:06:44.984969Z",
     "iopub.status.busy": "2022-10-04T13:06:44.983778Z",
     "iopub.status.idle": "2022-10-04T13:06:44.996954Z",
     "shell.execute_reply": "2022-10-04T13:06:44.995313Z"
    },
    "papermill": {
     "duration": 0.027089,
     "end_time": "2022-10-04T13:06:45.000243",
     "exception": false,
     "start_time": "2022-10-04T13:06:44.973154",
     "status": "completed"
    },
    "tags": []
   },
   "outputs": [],
   "source": [
    "# Accuracy score on the training data\n",
    "\n",
    "X_train_prediction = classifier.predict(X_train)\n",
    "\n",
    "training_data_accuracy = accuracy_score(X_train_prediction, Y_train)"
   ]
  },
  {
   "cell_type": "code",
   "execution_count": 21,
   "id": "d1ffba1d",
   "metadata": {
    "execution": {
     "iopub.execute_input": "2022-10-04T13:06:45.020002Z",
     "iopub.status.busy": "2022-10-04T13:06:45.019455Z",
     "iopub.status.idle": "2022-10-04T13:06:45.025599Z",
     "shell.execute_reply": "2022-10-04T13:06:45.024053Z"
    },
    "papermill": {
     "duration": 0.018769,
     "end_time": "2022-10-04T13:06:45.027755",
     "exception": false,
     "start_time": "2022-10-04T13:06:45.008986",
     "status": "completed"
    },
    "tags": []
   },
   "outputs": [
    {
     "name": "stdout",
     "output_type": "stream",
     "text": [
      "Accuracy score of the training data :  0.7866449511400652\n"
     ]
    }
   ],
   "source": [
    "print(\"Accuracy score of the training data : \", training_data_accuracy)"
   ]
  },
  {
   "cell_type": "code",
   "execution_count": 22,
   "id": "f8251818",
   "metadata": {
    "execution": {
     "iopub.execute_input": "2022-10-04T13:06:45.047881Z",
     "iopub.status.busy": "2022-10-04T13:06:45.046719Z",
     "iopub.status.idle": "2022-10-04T13:06:45.055415Z",
     "shell.execute_reply": "2022-10-04T13:06:45.053946Z"
    },
    "papermill": {
     "duration": 0.021224,
     "end_time": "2022-10-04T13:06:45.057751",
     "exception": false,
     "start_time": "2022-10-04T13:06:45.036527",
     "status": "completed"
    },
    "tags": []
   },
   "outputs": [],
   "source": [
    "# Accuracy score on the test data\n",
    "\n",
    "X_test_prediction = classifier.predict(X_test)\n",
    "\n",
    "test_data_accuracy = accuracy_score(X_test_prediction, Y_test)"
   ]
  },
  {
   "cell_type": "code",
   "execution_count": 23,
   "id": "8fa02d99",
   "metadata": {
    "execution": {
     "iopub.execute_input": "2022-10-04T13:06:45.077525Z",
     "iopub.status.busy": "2022-10-04T13:06:45.077042Z",
     "iopub.status.idle": "2022-10-04T13:06:45.083700Z",
     "shell.execute_reply": "2022-10-04T13:06:45.082158Z"
    },
    "papermill": {
     "duration": 0.019239,
     "end_time": "2022-10-04T13:06:45.085832",
     "exception": false,
     "start_time": "2022-10-04T13:06:45.066593",
     "status": "completed"
    },
    "tags": []
   },
   "outputs": [
    {
     "name": "stdout",
     "output_type": "stream",
     "text": [
      "Accuracy score of the test data :  0.7727272727272727\n"
     ]
    }
   ],
   "source": [
    "print(\"Accuracy score of the test data : \",test_data_accuracy)"
   ]
  },
  {
   "cell_type": "markdown",
   "id": "53483c6e",
   "metadata": {
    "papermill": {
     "duration": 0.008461,
     "end_time": "2022-10-04T13:06:45.103101",
     "exception": false,
     "start_time": "2022-10-04T13:06:45.094640",
     "status": "completed"
    },
    "tags": []
   },
   "source": [
    "## Making a Predictive System"
   ]
  },
  {
   "cell_type": "code",
   "execution_count": 24,
   "id": "0c3140c4",
   "metadata": {
    "execution": {
     "iopub.execute_input": "2022-10-04T13:06:45.123239Z",
     "iopub.status.busy": "2022-10-04T13:06:45.122422Z",
     "iopub.status.idle": "2022-10-04T13:06:45.135910Z",
     "shell.execute_reply": "2022-10-04T13:06:45.134940Z"
    },
    "papermill": {
     "duration": 0.027392,
     "end_time": "2022-10-04T13:06:45.139266",
     "exception": false,
     "start_time": "2022-10-04T13:06:45.111874",
     "status": "completed"
    },
    "tags": []
   },
   "outputs": [
    {
     "name": "stdout",
     "output_type": "stream",
     "text": [
      "[[ 0.3429808   1.41167241  0.14964075 -0.09637905  0.82661621 -0.78595734\n",
      "   0.34768723  1.51108316]]\n",
      "[1]\n",
      "The person is diabetic\n"
     ]
    },
    {
     "name": "stderr",
     "output_type": "stream",
     "text": [
      "/opt/conda/lib/python3.7/site-packages/sklearn/base.py:451: UserWarning: X does not have valid feature names, but StandardScaler was fitted with feature names\n",
      "  \"X does not have valid feature names, but\"\n"
     ]
    }
   ],
   "source": [
    "input_data = (5,166,72,19,175,25.8,0.587,51)\n",
    "\n",
    "# changing the input_data to numpy array\n",
    "input_data_as_numpy_array = np.asarray(input_data)\n",
    "\n",
    "# reshape the array as we are predicting for one instance\n",
    "input_data_reshaped = input_data_as_numpy_array.reshape(1,-1)\n",
    "\n",
    "# standardize the input data\n",
    "std_data = scaler.transform(input_data_reshaped)\n",
    "print(std_data)\n",
    "\n",
    "prediction = classifier.predict(std_data)\n",
    "print(prediction)\n",
    "\n",
    "if (prediction[0] == 0):\n",
    "  print('The person is not diabetic')\n",
    "else:\n",
    "  print('The person is diabetic')"
   ]
  },
  {
   "cell_type": "code",
   "execution_count": null,
   "id": "52c641bd",
   "metadata": {
    "papermill": {
     "duration": 0.00881,
     "end_time": "2022-10-04T13:06:45.157296",
     "exception": false,
     "start_time": "2022-10-04T13:06:45.148486",
     "status": "completed"
    },
    "tags": []
   },
   "outputs": [],
   "source": []
  }
 ],
 "metadata": {
  "kernelspec": {
   "display_name": "Python 3",
   "language": "python",
   "name": "python3"
  },
  "language_info": {
   "codemirror_mode": {
    "name": "ipython",
    "version": 3
   },
   "file_extension": ".py",
   "mimetype": "text/x-python",
   "name": "python",
   "nbconvert_exporter": "python",
   "pygments_lexer": "ipython3",
   "version": "3.7.12"
  },
  "papermill": {
   "default_parameters": {},
   "duration": 12.63244,
   "end_time": "2022-10-04T13:06:45.990805",
   "environment_variables": {},
   "exception": null,
   "input_path": "__notebook__.ipynb",
   "output_path": "__notebook__.ipynb",
   "parameters": {},
   "start_time": "2022-10-04T13:06:33.358365",
   "version": "2.3.4"
  }
 },
 "nbformat": 4,
 "nbformat_minor": 5
}
