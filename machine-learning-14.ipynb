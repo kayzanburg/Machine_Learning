{
 "cells": [
  {
   "cell_type": "markdown",
   "id": "60e7befe",
   "metadata": {
    "_cell_guid": "b1076dfc-b9ad-4769-8c92-a6c4dae69d19",
    "_uuid": "8f2839f25d086af736a60e9eeb907d3b93b6e0e5",
    "execution": {
     "iopub.execute_input": "2022-05-22T20:02:18.333821Z",
     "iopub.status.busy": "2022-05-22T20:02:18.331774Z",
     "iopub.status.idle": "2022-05-22T20:02:18.361821Z",
     "shell.execute_reply": "2022-05-22T20:02:18.36106Z",
     "shell.execute_reply.started": "2022-05-22T20:02:18.333714Z"
    },
    "papermill": {
     "duration": 0.109872,
     "end_time": "2022-07-07T18:26:56.880481",
     "exception": false,
     "start_time": "2022-07-07T18:26:56.770609",
     "status": "completed"
    },
    "tags": []
   },
   "source": [
    "# Bagged Trees Regresyon\n",
    "\n",
    "* Bu Bolumde Topluluk Ogrenme Yontemlerinin Girisinde Oluyoruz ( 2 Turu Var )"
   ]
  },
  {
   "cell_type": "code",
   "execution_count": 1,
   "id": "3369e751",
   "metadata": {
    "execution": {
     "iopub.execute_input": "2022-07-07T18:26:57.098697Z",
     "iopub.status.busy": "2022-07-07T18:26:57.097937Z",
     "iopub.status.idle": "2022-07-07T18:27:00.830592Z",
     "shell.execute_reply": "2022-07-07T18:27:00.829584Z"
    },
    "papermill": {
     "duration": 3.844017,
     "end_time": "2022-07-07T18:27:00.832935",
     "exception": false,
     "start_time": "2022-07-07T18:26:56.988918",
     "status": "completed"
    },
    "tags": []
   },
   "outputs": [
    {
     "data": {
      "text/html": [
       "<style type='text/css'>\n",
       ".datatable table.frame { margin-bottom: 0; }\n",
       ".datatable table.frame thead { border-bottom: none; }\n",
       ".datatable table.frame tr.coltypes td {  color: #FFFFFF;  line-height: 6px;  padding: 0 0.5em;}\n",
       ".datatable .bool    { background: #DDDD99; }\n",
       ".datatable .object  { background: #565656; }\n",
       ".datatable .int     { background: #5D9E5D; }\n",
       ".datatable .float   { background: #4040CC; }\n",
       ".datatable .str     { background: #CC4040; }\n",
       ".datatable .time    { background: #40CC40; }\n",
       ".datatable .row_index {  background: var(--jp-border-color3);  border-right: 1px solid var(--jp-border-color0);  color: var(--jp-ui-font-color3);  font-size: 9px;}\n",
       ".datatable .frame tbody td { text-align: left; }\n",
       ".datatable .frame tr.coltypes .row_index {  background: var(--jp-border-color0);}\n",
       ".datatable th:nth-child(2) { padding-left: 12px; }\n",
       ".datatable .hellipsis {  color: var(--jp-cell-editor-border-color);}\n",
       ".datatable .vellipsis {  background: var(--jp-layout-color0);  color: var(--jp-cell-editor-border-color);}\n",
       ".datatable .na {  color: var(--jp-cell-editor-border-color);  font-size: 80%;}\n",
       ".datatable .sp {  opacity: 0.25;}\n",
       ".datatable .footer { font-size: 9px; }\n",
       ".datatable .frame_dimensions {  background: var(--jp-border-color3);  border-top: 1px solid var(--jp-border-color0);  color: var(--jp-ui-font-color3);  display: inline-block;  opacity: 0.6;  padding: 1px 10px 1px 5px;}\n",
       "</style>\n"
      ],
      "text/plain": [
       "<IPython.core.display.HTML object>"
      ]
     },
     "metadata": {},
     "output_type": "display_data"
    }
   ],
   "source": [
    "from sklearn.linear_model import LinearRegression\n",
    "from sklearn.model_selection import train_test_split, cross_val_score, cross_val_predict\n",
    "from sklearn.metrics import mean_squared_error, r2_score\n",
    "import numpy as np\n",
    "import pandas as pd \n",
    "import statsmodels.api as sm\n",
    "import statsmodels.formula.api as smf\n",
    "import seaborn as sns\n",
    "from sklearn.preprocessing import scale \n",
    "from sklearn.model_selection import train_test_split, GridSearchCV, cross_val_score\n",
    "from sklearn.metrics import confusion_matrix, accuracy_score, classification_report\n",
    "from sklearn.metrics import roc_auc_score,roc_curve\n",
    "import statsmodels.formula.api as smf\n",
    "import matplotlib.pyplot as plt\n",
    "from sklearn.neighbors import KNeighborsClassifier\n",
    "from sklearn.discriminant_analysis import LinearDiscriminantAnalysis\n",
    "from sklearn.linear_model import LogisticRegression\n",
    "from sklearn.svm import SVC\n",
    "from sklearn.naive_bayes import GaussianNB\n",
    "from sklearn import tree\n",
    "from sklearn.ensemble import RandomForestClassifier\n",
    "from sklearn.ensemble import GradientBoostingClassifier\n",
    "from xgboost import XGBClassifier\n",
    "from lightgbm import LGBMClassifier\n",
    "from catboost import CatBoostClassifier\n",
    "from warnings import filterwarnings\n",
    "filterwarnings('ignore')"
   ]
  },
  {
   "cell_type": "code",
   "execution_count": 2,
   "id": "ae6c861a",
   "metadata": {
    "execution": {
     "iopub.execute_input": "2022-07-07T18:27:01.055311Z",
     "iopub.status.busy": "2022-07-07T18:27:01.054790Z",
     "iopub.status.idle": "2022-07-07T18:27:01.060293Z",
     "shell.execute_reply": "2022-07-07T18:27:01.059731Z"
    },
    "papermill": {
     "duration": 0.11668,
     "end_time": "2022-07-07T18:27:01.061975",
     "exception": false,
     "start_time": "2022-07-07T18:27:00.945295",
     "status": "completed"
    },
    "tags": []
   },
   "outputs": [],
   "source": [
    "import numpy as np\n",
    "import pandas as pd \n",
    "from sklearn.model_selection import train_test_split, GridSearchCV,cross_val_score\n",
    "from sklearn.metrics import mean_squared_error, r2_score\n",
    "import matplotlib.pyplot as plt\n",
    "from sklearn.preprocessing import scale \n",
    "from sklearn import model_selection\n",
    "from sklearn.tree import DecisionTreeRegressor, DecisionTreeClassifier\n",
    "from sklearn.neighbors import KNeighborsRegressor\n",
    "from sklearn.ensemble import BaggingRegressor\n",
    "\n",
    "from warnings import filterwarnings # Hatalari Kapatmak Icin Kullanilir\n",
    "filterwarnings('ignore') # Hatalari Kapatmak Icin Kullanilir"
   ]
  },
  {
   "cell_type": "code",
   "execution_count": 3,
   "id": "11bb3e0f",
   "metadata": {
    "execution": {
     "iopub.execute_input": "2022-07-07T18:27:01.284079Z",
     "iopub.status.busy": "2022-07-07T18:27:01.283578Z",
     "iopub.status.idle": "2022-07-07T18:27:01.294417Z",
     "shell.execute_reply": "2022-07-07T18:27:01.293659Z"
    },
    "papermill": {
     "duration": 0.124102,
     "end_time": "2022-07-07T18:27:01.296377",
     "exception": false,
     "start_time": "2022-07-07T18:27:01.172275",
     "status": "completed"
    },
    "tags": []
   },
   "outputs": [],
   "source": [
    "from sklearn.model_selection import GridSearchCV\n",
    "from sklearn.svm import SVR\n",
    "from sklearn.linear_model import LinearRegression\n",
    "from sklearn.preprocessing import StandardScaler\n",
    "from sklearn.neural_network import MLPRegressor"
   ]
  },
  {
   "cell_type": "code",
   "execution_count": 4,
   "id": "9e948629",
   "metadata": {
    "execution": {
     "iopub.execute_input": "2022-07-07T18:27:01.518102Z",
     "iopub.status.busy": "2022-07-07T18:27:01.517548Z",
     "iopub.status.idle": "2022-07-07T18:27:01.562604Z",
     "shell.execute_reply": "2022-07-07T18:27:01.562040Z"
    },
    "papermill": {
     "duration": 0.157674,
     "end_time": "2022-07-07T18:27:01.564821",
     "exception": false,
     "start_time": "2022-07-07T18:27:01.407147",
     "status": "completed"
    },
    "tags": []
   },
   "outputs": [],
   "source": [
    "hit = pd.read_csv(\"../input/hitterscsv/Hitters.csv\")\n",
    "df = hit.copy()\n",
    "df = df.dropna()\n",
    "dms = pd.get_dummies(df[['League', 'Division', 'NewLeague']])\n",
    "y = df[\"Salary\"]\n",
    "X_ = df.drop(['Salary', 'League', 'Division', 'NewLeague'], axis=1).astype('float64')\n",
    "X = pd.concat([X_, dms[['League_N', 'Division_W', 'NewLeague_N']]], axis=1)\n",
    "X_train, X_test, y_train, y_test = train_test_split(X, y, \n",
    "                                                    test_size=0.25, \n",
    "                                                    random_state=42)\n"
   ]
  },
  {
   "cell_type": "code",
   "execution_count": 5,
   "id": "85e2fc4b",
   "metadata": {
    "execution": {
     "iopub.execute_input": "2022-07-07T18:27:01.784032Z",
     "iopub.status.busy": "2022-07-07T18:27:01.783744Z",
     "iopub.status.idle": "2022-07-07T18:27:01.830645Z",
     "shell.execute_reply": "2022-07-07T18:27:01.829748Z"
    },
    "papermill": {
     "duration": 0.159095,
     "end_time": "2022-07-07T18:27:01.832936",
     "exception": false,
     "start_time": "2022-07-07T18:27:01.673841",
     "status": "completed"
    },
    "tags": []
   },
   "outputs": [
    {
     "data": {
      "text/plain": [
       "BaggingRegressor(bootstrap_features=True)"
      ]
     },
     "execution_count": 5,
     "metadata": {},
     "output_type": "execute_result"
    }
   ],
   "source": [
    "bag_model = BaggingRegressor(bootstrap_features = True) # bootstrap_features = True ---->> Normalde Bu Deger False Fakat Biz True Yaptik Cunku Bootstrap Orneklemlerini Gozlemlicez\n",
    "bag_model.fit(X_train, y_train)"
   ]
  },
  {
   "cell_type": "code",
   "execution_count": 6,
   "id": "690f4ac7",
   "metadata": {
    "execution": {
     "iopub.execute_input": "2022-07-07T18:27:02.053850Z",
     "iopub.status.busy": "2022-07-07T18:27:02.053585Z",
     "iopub.status.idle": "2022-07-07T18:27:02.057574Z",
     "shell.execute_reply": "2022-07-07T18:27:02.056762Z"
    },
    "papermill": {
     "duration": 0.117595,
     "end_time": "2022-07-07T18:27:02.059468",
     "exception": false,
     "start_time": "2022-07-07T18:27:01.941873",
     "status": "completed"
    },
    "tags": []
   },
   "outputs": [],
   "source": [
    "# ?bag_model # ----->> n_estimators ---->> ( Parametresi ) Birbirinden Farkli Agaclari Ifade Eder ( Varsayilan : 10 --->> 10 Tane Agac Olusturulacak Demektir )"
   ]
  },
  {
   "cell_type": "code",
   "execution_count": 7,
   "id": "73d7449a",
   "metadata": {
    "execution": {
     "iopub.execute_input": "2022-07-07T18:27:02.278246Z",
     "iopub.status.busy": "2022-07-07T18:27:02.277689Z",
     "iopub.status.idle": "2022-07-07T18:27:02.283254Z",
     "shell.execute_reply": "2022-07-07T18:27:02.282446Z"
    },
    "papermill": {
     "duration": 0.116723,
     "end_time": "2022-07-07T18:27:02.285128",
     "exception": false,
     "start_time": "2022-07-07T18:27:02.168405",
     "status": "completed"
    },
    "tags": []
   },
   "outputs": [
    {
     "data": {
      "text/plain": [
       "10"
      ]
     },
     "execution_count": 7,
     "metadata": {},
     "output_type": "execute_result"
    }
   ],
   "source": [
    "bag_model.n_estimators"
   ]
  },
  {
   "cell_type": "code",
   "execution_count": 8,
   "id": "7d22b9f6",
   "metadata": {
    "execution": {
     "iopub.execute_input": "2022-07-07T18:27:02.506058Z",
     "iopub.status.busy": "2022-07-07T18:27:02.505784Z",
     "iopub.status.idle": "2022-07-07T18:27:02.513245Z",
     "shell.execute_reply": "2022-07-07T18:27:02.512455Z"
    },
    "papermill": {
     "duration": 0.120951,
     "end_time": "2022-07-07T18:27:02.515564",
     "exception": false,
     "start_time": "2022-07-07T18:27:02.394613",
     "status": "completed"
    },
    "tags": []
   },
   "outputs": [
    {
     "data": {
      "text/plain": [
       "[DecisionTreeRegressor(random_state=1057616344),\n",
       " DecisionTreeRegressor(random_state=1899494400),\n",
       " DecisionTreeRegressor(random_state=1920381938),\n",
       " DecisionTreeRegressor(random_state=429430397),\n",
       " DecisionTreeRegressor(random_state=1018145283),\n",
       " DecisionTreeRegressor(random_state=186832898),\n",
       " DecisionTreeRegressor(random_state=1991136494),\n",
       " DecisionTreeRegressor(random_state=1494332599),\n",
       " DecisionTreeRegressor(random_state=136223022),\n",
       " DecisionTreeRegressor(random_state=1532295025)]"
      ]
     },
     "execution_count": 8,
     "metadata": {},
     "output_type": "execute_result"
    }
   ],
   "source": [
    "bag_model.estimators_ # Ciktidaki Degerler ---->> Birbirinden Fakli Agaclari Gosteriyor"
   ]
  },
  {
   "cell_type": "code",
   "execution_count": 9,
   "id": "715bb0c5",
   "metadata": {
    "execution": {
     "iopub.execute_input": "2022-07-07T18:27:02.736011Z",
     "iopub.status.busy": "2022-07-07T18:27:02.735472Z",
     "iopub.status.idle": "2022-07-07T18:27:02.752603Z",
     "shell.execute_reply": "2022-07-07T18:27:02.751601Z"
    },
    "papermill": {
     "duration": 0.129924,
     "end_time": "2022-07-07T18:27:02.754635",
     "exception": false,
     "start_time": "2022-07-07T18:27:02.624711",
     "status": "completed"
    },
    "tags": []
   },
   "outputs": [
    {
     "data": {
      "text/plain": [
       "[array([166,  12, 137,  59,  99,  73, 176,  25, 172,   1,  82, 120, 175,\n",
       "          7,  95, 157,  43,  22, 164,  32,  85, 126,  17,  79,  29, 120,\n",
       "         12,  25,  22,  52, 100, 181, 101,  70,  86, 144,  71,  30, 119,\n",
       "        106,  71,  15, 101, 118,  33, 144, 147,  76, 180,  83,  48,  56,\n",
       "         19, 183,  91,  35, 162,  74,  46,  48,  21, 183,  51,  82,  42,\n",
       "         45,  71,  86,   9, 147,  72,  93,  36, 144,   4,  68, 133,  29,\n",
       "         37,  75,  65,  61,  62,  48,  61, 135, 172, 165, 164, 131, 105,\n",
       "        109, 107,  45,  60,  98,  92,  48, 168,  11,  33, 162, 193, 185,\n",
       "        129, 177,  32,  80,  47, 116, 143,  41,  96,  53, 125,  86,  48,\n",
       "        168, 190, 150,  15, 170,  79, 131, 103, 179, 187, 149, 150, 106,\n",
       "        152, 193,  43,  90,  52, 157,  53,  60, 186,  25, 186, 113, 129,\n",
       "          2, 158,   4, 127, 143, 123,  56,   7, 127, 107,  47,  45,  67,\n",
       "        161,  50, 193, 117, 195, 128, 111, 143, 104,  79, 150, 102, 180,\n",
       "        118, 121,  32, 133,  92,  52,  70, 170, 108,  56, 106, 154,  99,\n",
       "         49,  57, 135,  40, 116, 182,  71,  23, 150, 111, 124,  81,  17,\n",
       "         68, 133]),\n",
       " array([ 92,  28,  30,  60, 154,  19, 177,  10, 136, 143, 162, 185,  49,\n",
       "        180,  66,  64,  28, 114,  90,  80, 188,  11, 107,  31, 189,  90,\n",
       "         37, 175, 115,  55,  17,   8, 101,  50, 167,  85,  91,  97,  85,\n",
       "        130,  95, 151,   5, 139,  47,  18, 175,  54,  79,  67, 158, 128,\n",
       "        165, 147, 108, 185, 176, 149, 144,  78, 134, 116, 102, 144, 138,\n",
       "          8, 194, 140,  41,  90, 126,  11,   7, 181,   1,   1,   9, 109,\n",
       "         13, 112,  37, 111, 189,  99, 140,  99,  66,  46, 126,  97, 162,\n",
       "         59, 192,   1, 159,  17, 139,  58,  63, 131,  27,  90, 195, 190,\n",
       "         49,  50, 187,  33, 104,  13, 123,  10,  36,   7,  36,  34,  82,\n",
       "        174, 125,  39, 117, 153,  55,  88,  66,  18,   4,  97, 126, 196,\n",
       "         15,  28,  37, 125, 196, 180, 174, 182,   8, 138, 145,  69, 132,\n",
       "         88,  50, 124,  11,  63,  35, 194, 170,  79,  41, 125,  79, 188,\n",
       "        153, 178, 194, 171, 185, 151,  27,  49,  12, 123,  95,   3,  36,\n",
       "        183,  39, 178,  83,  86, 110,  97, 118,  53, 166, 170, 162, 186,\n",
       "        111,  23,  27,  62,  38,  72,  16, 107,  82, 191,  57,  53,  49,\n",
       "         77, 134]),\n",
       " array([ 57,  97, 188,  99,   6, 104,  78,  75, 190,  84, 154,  95, 105,\n",
       "        183, 107,  96,   2,  30,  82,   8, 169, 188, 179, 116,  51,  89,\n",
       "        151,  97, 141,  57,  85,   1, 153,  53, 125, 107, 169,   0, 169,\n",
       "        195, 170, 107,  65, 152,  90, 195, 112, 184, 174,  49, 145,  24,\n",
       "         14,  28, 175,  81, 192,  71, 186, 187,   5,  99,  31, 130, 168,\n",
       "         72, 174, 124,  43,   5, 178,  12,  85, 158, 118, 121,  87,  74,\n",
       "         76,  86,  86,  44,  30, 185,  91,  69,  78, 128, 135, 120, 183,\n",
       "         44, 178,   3,  35, 183, 175, 110, 186, 188, 171, 109,  20,   6,\n",
       "         11,  71,  65, 129,  33, 117, 170,  34, 164, 114, 106,  55, 190,\n",
       "        139,  51, 156, 129, 122,  50,   1,  70, 120,  97, 126,  11,  84,\n",
       "         32, 187, 142, 140,  82,  99, 116, 160,  88,  93,  47,  38,  75,\n",
       "         23, 123,  43,  34, 173, 105, 149, 144, 137, 182,  55, 121, 165,\n",
       "        176,  96,  39, 180,  37,  67, 180, 177,  28,   5,  25, 187,  70,\n",
       "         74, 100,   4, 176,  22,  54, 142,  93,  96,  76,  14,  92, 103,\n",
       "        153, 147, 140, 131,  63, 188,  56,  36, 105, 145,  52, 147, 158,\n",
       "        190,  87]),\n",
       " array([179, 106, 135, 185,  63, 181,  68, 180,  10, 170,  61,  23,  93,\n",
       "        129, 194, 137,  66, 196,  34, 165,  15,  70, 195, 183, 130,  41,\n",
       "         24,  12, 149, 165,  57, 135, 150, 100, 146,  50,  63, 144,  18,\n",
       "        126,  77, 182,  45,  99,  77, 105,  36, 160, 102, 108,  87, 178,\n",
       "        115,  54, 100, 102,  56,  61, 111,  10,   1,  16,  86,  69,  99,\n",
       "        128,  32,  31, 164, 169, 180,  24,  91,  47,  24,  55, 156, 178,\n",
       "         70, 179, 181, 149, 171,  10, 187,  17, 161,  43, 113, 162, 188,\n",
       "        121, 158,  96, 195, 178, 137,  35, 163,  49, 143, 150,  51, 149,\n",
       "        165,  93,  21, 180,  60,  74,  40,  50, 180,  13,  37, 103,  99,\n",
       "        150,  71, 185,  97,  14,  87, 173,  91,   2,  16, 154, 102,  76,\n",
       "         79, 191,   9,  96,  37,  60,  98, 108, 168,  93,  20,   4, 113,\n",
       "         35, 190, 192, 191,  62, 187, 130,   7,  88, 126, 133,  20, 109,\n",
       "        123,  97, 102, 137,   9, 181,  20, 147,  84, 142,  77,  43, 166,\n",
       "        102, 133, 154,  60,  42, 155, 155,  86,  44, 136, 107, 146,  42,\n",
       "          3,  76,  94, 106,  81, 135, 102, 177,  78,   6, 188, 156, 110,\n",
       "        122, 160]),\n",
       " array([ 23,  47, 128,  42,  56,  40, 110, 142, 105,  99, 167, 173, 152,\n",
       "         52,  69,  24,  76, 143,  54,  28,  74, 130, 147, 154, 129, 148,\n",
       "        109, 105,  13, 105, 179, 128, 145, 182, 143,  16,  72, 167, 120,\n",
       "         89,  83,  47, 143, 105,  88, 135,  88, 196,  92, 110,  57,  89,\n",
       "         16, 130,   5, 140, 162,  43,   9, 153, 172, 170,  80,  55,  82,\n",
       "        136, 141,  56, 168,  61,  24,  35, 101,  73, 117,  97, 147, 100,\n",
       "         75, 117, 176, 141, 111, 151, 153,  84,  89,  30,  84,  63,  95,\n",
       "        167,  34,  99, 144,   8, 118, 126,  70,  90, 179,  28,  60, 171,\n",
       "        167, 101, 173, 118,  38,  21, 189,  64,  38,   1, 161,  72, 181,\n",
       "         42, 169, 195, 104,  10, 187,   1, 148, 148, 171,   6, 132, 137,\n",
       "        109, 171,  92, 105, 173, 122, 181,  74, 196, 133,  83,  91,  42,\n",
       "         98,  29, 187,  31,  25,  47, 158,  47, 127,  38, 160, 145, 106,\n",
       "        196,  12, 120, 129,  71, 134, 111, 145,  98,  52,  47, 133, 194,\n",
       "         65, 113,  68, 146, 163, 152,  82,  90,  66, 117, 114,  70,  17,\n",
       "         77, 168, 186,  35, 184, 143, 130,  84, 142, 168,  76, 154, 164,\n",
       "         54, 111]),\n",
       " array([125,  64, 152, 182,  74, 182,  99,  74, 181,  46, 190,  50, 159,\n",
       "        148, 103, 103,  43,  39,  24, 181,  99,  59, 136, 150,  96,  15,\n",
       "         38,  12, 173, 170, 162, 133,  44,  47, 171,  32, 113, 116,  13,\n",
       "        107, 188, 158,  59, 120, 108,  87, 108, 184, 147, 186,  32, 116,\n",
       "         15,  51,  43,  66,  37, 180, 103, 171,   7, 132,  19,  64, 185,\n",
       "        128, 139, 154, 140,  45,  20,  91, 103, 101,  45,  56,   9,   0,\n",
       "         73, 181, 127,  88,  58, 108,  76, 140,  15,  86,  59,   7,  58,\n",
       "         21,   4, 141,  86,  78,  37, 113, 130,  87, 171, 190, 163,  89,\n",
       "        104,  73, 100,  44, 188,  60,  67, 180, 142,  95,  98,  40, 145,\n",
       "         13,  53,  13, 104, 114,  99,  34,  61, 147,  49, 121, 163, 158,\n",
       "         60,  48, 157, 191,  85,  22, 182,  40, 119, 152, 177, 103, 126,\n",
       "        130,  78,  13, 173,  44,  10,  36, 172, 112, 182,  22,  18,  73,\n",
       "        104, 162, 166, 150,   9, 136,  53,  74,  34, 129,  71,  21,  25,\n",
       "         37, 178, 194,  79,  36,  91, 142,  39,  63, 144, 188,  54,  80,\n",
       "         31, 177,  31, 153, 124, 182,  99,  39, 146, 143, 102,  24,  83,\n",
       "         20,  53]),\n",
       " array([134,  94,  94, 153, 124, 179,  90, 191,  79,  82, 196,  87,  81,\n",
       "        193, 187,  57,  98,   9, 143,  68,  25,  90,  45, 156,   9,   4,\n",
       "         69,  18, 178,  44,  61, 183, 145,  87, 167,  15, 115, 119,  58,\n",
       "         61, 144, 184,  19,  70, 181,  82,  31,  93, 175,  68, 126, 157,\n",
       "        117,  98, 114, 177, 172, 149,  13, 110, 178,  13, 115,  28, 121,\n",
       "        172,   4, 190, 123,  28, 140,  49,  39, 140, 188, 146, 109, 102,\n",
       "         94, 190,  87,  64,  38,  47,  76,   7,  98, 104, 155,  69,  98,\n",
       "         54,  56,  42,  63, 195,  28,  71,  20, 112,  99,   9,  51, 101,\n",
       "         14, 168,  52,  91, 138,  37, 127,  59,   6,  93,  61, 190, 124,\n",
       "        141,  41, 153, 129, 132, 127, 106, 142, 136, 133, 154,  27, 186,\n",
       "         67, 165,  53, 184,  10, 160,  77, 148, 166, 179,  78, 137, 194,\n",
       "          6,  84,  55, 169,  15, 148, 135,  85, 114, 130,  76,  75, 171,\n",
       "        141, 111,  49, 130, 178, 186, 168,  76,  77,   9, 190, 165,  45,\n",
       "        173, 148, 124,  82,  13,  24, 182,  49, 126,  39,  69, 145,  35,\n",
       "        141,  53, 163,  37,  17,  63,  47,  15, 129, 162,  34, 128, 163,\n",
       "        190,   9]),\n",
       " array([ 23,  16,  82, 176,  91, 151,  45,  34,  91,  62,   0, 113,  64,\n",
       "        142, 176,  23, 126, 163,  72,   5, 163,  20,  30, 127, 116, 164,\n",
       "         45, 139,  31,   8,  80,  80,  39,  43,  60, 126, 161,  16, 190,\n",
       "         43, 116, 131,  33, 167, 134,  69, 135, 131, 188, 189, 113, 106,\n",
       "        160, 194, 130,  65, 133, 129, 183, 106,  25, 102, 103,  45,  57,\n",
       "         73, 170,  10,  64, 183,  75, 106, 145,  50, 140, 172, 175, 123,\n",
       "        107,  63, 153, 163, 154,   5,  45, 158,  14, 155, 150,  44,  60,\n",
       "        186,   9, 135, 123, 108,  16, 178,  70, 100, 135,  41,  27, 121,\n",
       "        168,  27,  14, 192,  82,  46, 135,  19, 148,  28, 189, 194, 161,\n",
       "         90,  18, 176,  49, 113,  60,  19,  90,  85,  33, 155, 103,   9,\n",
       "         30, 169,  80,  67,  39, 169, 182,  60,  31,  78,  56,  53, 195,\n",
       "         21,  66, 127, 113, 164,  53,  25,  53,  78,  93, 125, 134, 196,\n",
       "        193, 149,  74,  92, 187,  58, 157, 131,  23,  11, 168, 181, 139,\n",
       "        133, 124,  39, 155,  59, 139,  78,  65,  63,   0,   8, 188,  75,\n",
       "        172, 160, 194,  32, 124,  63, 117,  51, 164,  32,  75,   0, 186,\n",
       "         20, 186]),\n",
       " array([187,  58,   0, 110, 188,  12, 155,  22,  22, 111, 130, 119, 143,\n",
       "        181,  24,   8,  57,  25, 146, 120, 160, 114,   5, 187,  34,  95,\n",
       "        119, 174,  12,  52, 133,  25, 190, 108, 107,  95, 167, 103, 174,\n",
       "        194,  20, 142, 131,  47,  38, 141,  13, 142,  88,  77,  70, 196,\n",
       "         38, 108, 139,  29,  55, 106,  88, 194,  14,  20, 189, 170,  31,\n",
       "        164, 115, 137, 104,  19,  40,  48,  82, 115,  26,  31, 102,  61,\n",
       "         53, 184,   4, 127, 165,  37,  55,  51, 117, 134,  75,  82,  73,\n",
       "        111, 146, 149,  51, 169,  25,  22,   7, 179, 178,  61,  33, 185,\n",
       "        189, 150,  19,  49,  74,  53, 154,  72,  27,  18,   2,  79,   2,\n",
       "         69,  96, 170, 150, 168, 130,  22, 195, 116,  33, 147, 112, 174,\n",
       "         80,  22,  52,  50, 189, 165,  75,  89,  43, 157, 113, 123, 154,\n",
       "         42, 146, 124,   2, 177,  10, 113, 167,  38, 116,  12, 170,  57,\n",
       "         63, 167,  41,  85, 192, 184, 161,  14, 101,   4, 123, 107,  96,\n",
       "         76,  75, 100,  85,  59, 147, 176,  54,  31,  68,  55,   1, 179,\n",
       "         34, 112,  78,  91, 137,  19, 104, 152, 190, 156, 116, 117,  62,\n",
       "         34, 169]),\n",
       " array([184, 191, 126, 191, 171, 178,  73, 120,  54,  56, 139, 179,  13,\n",
       "        107,  37,  64,  88, 142,  23,  32,   7,  76, 107,  32,  53, 138,\n",
       "        153,  42, 189,  19,  55, 191,  67,  56, 181, 127, 144,  72,  41,\n",
       "        161,   3, 195, 107, 177,  51, 130, 103, 137, 190,  48,  24, 184,\n",
       "         37,   1, 134, 166,  61, 153,  17,  95, 182,   9,  50, 176,  68,\n",
       "          8,  94,  48, 135, 180,  98, 192, 172, 166, 153, 147, 183,  94,\n",
       "        126,  29,  23, 138, 193, 135,  99,  91,  59, 147, 113,  30, 169,\n",
       "         64,  37, 111, 131, 112, 105, 141,  34,   5, 110, 108,  58,  79,\n",
       "        118, 131,   6,  41,  29, 155,  16, 136,  87,  46,  61, 155,  67,\n",
       "        136,  54,  65, 185,  74,   0, 170, 186, 152,  31, 138,  11,   2,\n",
       "        127,  23,  69, 164,  32,  13, 123,  72,  55, 114, 164, 147, 130,\n",
       "        172,  86,  37, 193, 132,  64, 147,  28,  45,  31,  74, 142,  74,\n",
       "         67, 166,  60,  27,  12, 115, 196, 181,  60,  59,  28, 139, 160,\n",
       "        133,  77,  36, 102, 174, 188, 163,  44, 141, 108, 163, 101, 192,\n",
       "         24,  25,  98, 104, 101,  76, 155, 146,   1, 141, 179, 159, 190,\n",
       "        196, 170])]"
      ]
     },
     "execution_count": 9,
     "metadata": {},
     "output_type": "execute_result"
    }
   ],
   "source": [
    "# Her Bir Agacta Kac Tane Ornek Oldugunu Gozlemlemek Istersek\n",
    "\n",
    "bag_model.estimators_samples_ # ( Her Bir Agactaki Ornekleri Gosteriyor ) ( Birbirinden Fakli Indexlerde Olumus Olucak Tabiki )"
   ]
  },
  {
   "cell_type": "code",
   "execution_count": 10,
   "id": "f093b465",
   "metadata": {
    "execution": {
     "iopub.execute_input": "2022-07-07T18:27:02.979716Z",
     "iopub.status.busy": "2022-07-07T18:27:02.979451Z",
     "iopub.status.idle": "2022-07-07T18:27:02.986133Z",
     "shell.execute_reply": "2022-07-07T18:27:02.985351Z"
    },
    "papermill": {
     "duration": 0.122438,
     "end_time": "2022-07-07T18:27:02.988290",
     "exception": false,
     "start_time": "2022-07-07T18:27:02.865852",
     "status": "completed"
    },
    "tags": []
   },
   "outputs": [
    {
     "data": {
      "text/plain": [
       "[array([10, 17,  6, 13, 11, 10,  9,  6,  0, 18,  0, 13, 17,  8, 12, 13, 17,\n",
       "         8,  4]),\n",
       " array([ 0, 16, 15,  2, 10, 16,  0, 12, 14, 16,  1,  0, 10, 16,  4, 12, 12,\n",
       "        11,  9]),\n",
       " array([18,  3,  3, 17,  9, 16,  2, 10, 18, 12, 16, 17, 18, 18, 18, 17, 16,\n",
       "         7, 17]),\n",
       " array([15, 10, 10,  1, 12, 13, 14, 18, 18,  6, 18, 17,  2,  9, 17, 11,  9,\n",
       "        15, 10]),\n",
       " array([ 3, 14,  9, 13, 12, 14,  8, 14, 10, 13, 18, 18, 16,  2,  4, 14,  4,\n",
       "        10, 11]),\n",
       " array([ 2, 12,  1,  9, 11, 17, 17,  0,  1, 10, 12,  2, 12, 16,  7,  2, 14,\n",
       "         1,  7]),\n",
       " array([14,  0, 18,  7, 11, 15, 18, 10, 18, 15, 15,  9, 14, 18, 11, 10, 10,\n",
       "         3, 11]),\n",
       " array([ 1,  4,  8,  2, 14, 13,  7,  4,  6,  2, 16,  4,  5, 18, 14, 18,  3,\n",
       "         4,  3]),\n",
       " array([14,  5,  9,  4,  0,  2,  5,  2,  9, 12, 12, 14, 10,  8,  5,  7,  0,\n",
       "         7,  7]),\n",
       " array([17,  2, 16, 11, 16, 13,  3,  9,  9, 14,  1,  5,  6, 16,  7, 10,  7,\n",
       "        14, 13])]"
      ]
     },
     "execution_count": 10,
     "metadata": {},
     "output_type": "execute_result"
    }
   ],
   "source": [
    "# Her Bir Agacin Bagimsiz Degiskenlerine Ulasmak Istersek\n",
    "\n",
    "bag_model.estimators_features_ # Buturn Agaclarin Kullandigi Degiskenlerine Ve Indexlerine Erismis Olduk"
   ]
  },
  {
   "cell_type": "code",
   "execution_count": 11,
   "id": "0f761239",
   "metadata": {
    "execution": {
     "iopub.execute_input": "2022-07-07T18:27:03.212819Z",
     "iopub.status.busy": "2022-07-07T18:27:03.212539Z",
     "iopub.status.idle": "2022-07-07T18:27:03.217916Z",
     "shell.execute_reply": "2022-07-07T18:27:03.217125Z"
    },
    "papermill": {
     "duration": 0.118971,
     "end_time": "2022-07-07T18:27:03.220042",
     "exception": false,
     "start_time": "2022-07-07T18:27:03.101071",
     "status": "completed"
    },
    "tags": []
   },
   "outputs": [
    {
     "data": {
      "text/plain": [
       "DecisionTreeRegressor(random_state=1057616344)"
      ]
     },
     "execution_count": 11,
     "metadata": {},
     "output_type": "execute_result"
    }
   ],
   "source": [
    "# Her Bir Modele Ozel Degerlere Erismeye Calisalim\n",
    "\n",
    "bag_model.estimators_[0]"
   ]
  },
  {
   "cell_type": "code",
   "execution_count": 12,
   "id": "0a31513d",
   "metadata": {
    "execution": {
     "iopub.execute_input": "2022-07-07T18:27:03.447969Z",
     "iopub.status.busy": "2022-07-07T18:27:03.447427Z",
     "iopub.status.idle": "2022-07-07T18:27:03.453383Z",
     "shell.execute_reply": "2022-07-07T18:27:03.452766Z"
    },
    "papermill": {
     "duration": 0.123888,
     "end_time": "2022-07-07T18:27:03.455207",
     "exception": false,
     "start_time": "2022-07-07T18:27:03.331319",
     "status": "completed"
    },
    "tags": []
   },
   "outputs": [
    {
     "data": {
      "text/plain": [
       "DecisionTreeRegressor(random_state=1899494400)"
      ]
     },
     "execution_count": 12,
     "metadata": {},
     "output_type": "execute_result"
    }
   ],
   "source": [
    "bag_model.estimators_[1] # random_state Degerleri Farkli"
   ]
  },
  {
   "cell_type": "markdown",
   "id": "ee954763",
   "metadata": {
    "papermill": {
     "duration": 0.110726,
     "end_time": "2022-07-07T18:27:03.677232",
     "exception": false,
     "start_time": "2022-07-07T18:27:03.566506",
     "status": "completed"
    },
    "tags": []
   },
   "source": [
    "## Tahmin"
   ]
  },
  {
   "cell_type": "code",
   "execution_count": 13,
   "id": "7bf3bdc0",
   "metadata": {
    "execution": {
     "iopub.execute_input": "2022-07-07T18:27:03.903232Z",
     "iopub.status.busy": "2022-07-07T18:27:03.902656Z",
     "iopub.status.idle": "2022-07-07T18:27:03.910777Z",
     "shell.execute_reply": "2022-07-07T18:27:03.910139Z"
    },
    "papermill": {
     "duration": 0.124127,
     "end_time": "2022-07-07T18:27:03.912905",
     "exception": false,
     "start_time": "2022-07-07T18:27:03.788778",
     "status": "completed"
    },
    "tags": []
   },
   "outputs": [],
   "source": [
    "# Ilkel Test Hatamiza Eriselim\n",
    "\n",
    "y_pred = bag_model.predict(X_test)"
   ]
  },
  {
   "cell_type": "code",
   "execution_count": 14,
   "id": "72e17812",
   "metadata": {
    "execution": {
     "iopub.execute_input": "2022-07-07T18:27:04.142208Z",
     "iopub.status.busy": "2022-07-07T18:27:04.141623Z",
     "iopub.status.idle": "2022-07-07T18:27:04.148344Z",
     "shell.execute_reply": "2022-07-07T18:27:04.147576Z"
    },
    "papermill": {
     "duration": 0.12436,
     "end_time": "2022-07-07T18:27:04.150257",
     "exception": false,
     "start_time": "2022-07-07T18:27:04.025897",
     "status": "completed"
    },
    "tags": []
   },
   "outputs": [
    {
     "data": {
      "text/plain": [
       "360.14811629517874"
      ]
     },
     "execution_count": 14,
     "metadata": {},
     "output_type": "execute_result"
    }
   ],
   "source": [
    "np.sqrt(mean_squared_error(y_test, y_pred)) # Bu Elde Ettigimiz Degerler Toplulugun Her Birisinin Verdigi Degerleri Bir Araya Getirerek Olusturulan Tahminlerdi\n",
    "\n",
    "# Oyle Bir Amacimiz Olsun Ki Buradaki Bir Kac Agaca Gidip Sen Ne Diyosun Ben Senin Fikrini Merak Ediyorum Diye Sormus Olmayi Hedefleyelim ( Bazen Hata Yaprlar Ise Bulmaya Yarar )"
   ]
  },
  {
   "cell_type": "code",
   "execution_count": 15,
   "id": "055addfd",
   "metadata": {
    "execution": {
     "iopub.execute_input": "2022-07-07T18:27:04.376061Z",
     "iopub.status.busy": "2022-07-07T18:27:04.375519Z",
     "iopub.status.idle": "2022-07-07T18:27:04.385799Z",
     "shell.execute_reply": "2022-07-07T18:27:04.385206Z"
    },
    "papermill": {
     "duration": 0.126111,
     "end_time": "2022-07-07T18:27:04.387893",
     "exception": false,
     "start_time": "2022-07-07T18:27:04.261782",
     "status": "completed"
    },
    "tags": []
   },
   "outputs": [],
   "source": [
    "iki_y_pred = bag_model.estimators_[1].fit(X_train, y_train).predict(X_test) # 1. Indexteki Agaci Sectik"
   ]
  },
  {
   "cell_type": "code",
   "execution_count": 16,
   "id": "1e2910ac",
   "metadata": {
    "execution": {
     "iopub.execute_input": "2022-07-07T18:27:04.613626Z",
     "iopub.status.busy": "2022-07-07T18:27:04.613047Z",
     "iopub.status.idle": "2022-07-07T18:27:04.619672Z",
     "shell.execute_reply": "2022-07-07T18:27:04.618989Z"
    },
    "papermill": {
     "duration": 0.121562,
     "end_time": "2022-07-07T18:27:04.621544",
     "exception": false,
     "start_time": "2022-07-07T18:27:04.499982",
     "status": "completed"
    },
    "tags": []
   },
   "outputs": [
    {
     "data": {
      "text/plain": [
       "454.2397778655714"
      ]
     },
     "execution_count": 16,
     "metadata": {},
     "output_type": "execute_result"
    }
   ],
   "source": [
    "np.sqrt(mean_squared_error(y_test, iki_y_pred)) # Baya Beceriksiz ( Kotu ) Bir Agaca Denk Geldik"
   ]
  },
  {
   "cell_type": "code",
   "execution_count": 17,
   "id": "4cb48ba2",
   "metadata": {
    "execution": {
     "iopub.execute_input": "2022-07-07T18:27:04.847193Z",
     "iopub.status.busy": "2022-07-07T18:27:04.846431Z",
     "iopub.status.idle": "2022-07-07T18:27:04.856109Z",
     "shell.execute_reply": "2022-07-07T18:27:04.855514Z"
    },
    "papermill": {
     "duration": 0.124725,
     "end_time": "2022-07-07T18:27:04.858049",
     "exception": false,
     "start_time": "2022-07-07T18:27:04.733324",
     "status": "completed"
    },
    "tags": []
   },
   "outputs": [],
   "source": [
    "yedi_y_pred = bag_model.estimators_[4].fit(X_train, y_train).predict(X_test)"
   ]
  },
  {
   "cell_type": "code",
   "execution_count": 18,
   "id": "dde6f1a2",
   "metadata": {
    "execution": {
     "iopub.execute_input": "2022-07-07T18:27:05.087309Z",
     "iopub.status.busy": "2022-07-07T18:27:05.086394Z",
     "iopub.status.idle": "2022-07-07T18:27:05.092398Z",
     "shell.execute_reply": "2022-07-07T18:27:05.091778Z"
    },
    "papermill": {
     "duration": 0.122385,
     "end_time": "2022-07-07T18:27:05.094327",
     "exception": false,
     "start_time": "2022-07-07T18:27:04.971942",
     "status": "completed"
    },
    "tags": []
   },
   "outputs": [
    {
     "data": {
      "text/plain": [
       "490.73673745943796"
      ]
     },
     "execution_count": 18,
     "metadata": {},
     "output_type": "execute_result"
    }
   ],
   "source": [
    "np.sqrt(mean_squared_error(y_test, yedi_y_pred)) # Burda Da Beceriksiz Agac Denk Geldi"
   ]
  },
  {
   "cell_type": "markdown",
   "id": "f32ce3d5",
   "metadata": {
    "papermill": {
     "duration": 0.112176,
     "end_time": "2022-07-07T18:27:05.319314",
     "exception": false,
     "start_time": "2022-07-07T18:27:05.207138",
     "status": "completed"
    },
    "tags": []
   },
   "source": [
    "# Model Tuning"
   ]
  },
  {
   "cell_type": "code",
   "execution_count": 19,
   "id": "8e95a03a",
   "metadata": {
    "execution": {
     "iopub.execute_input": "2022-07-07T18:27:05.547224Z",
     "iopub.status.busy": "2022-07-07T18:27:05.546428Z",
     "iopub.status.idle": "2022-07-07T18:27:05.583737Z",
     "shell.execute_reply": "2022-07-07T18:27:05.583157Z"
    },
    "papermill": {
     "duration": 0.152642,
     "end_time": "2022-07-07T18:27:05.585637",
     "exception": false,
     "start_time": "2022-07-07T18:27:05.432995",
     "status": "completed"
    },
    "tags": []
   },
   "outputs": [
    {
     "data": {
      "text/plain": [
       "BaggingRegressor(bootstrap_features=True)"
      ]
     },
     "execution_count": 19,
     "metadata": {},
     "output_type": "execute_result"
    }
   ],
   "source": [
    "bag_model = BaggingRegressor(bootstrap_features = True)\n",
    "bag_model.fit(X_train, y_train)"
   ]
  },
  {
   "cell_type": "code",
   "execution_count": 20,
   "id": "e88424b2",
   "metadata": {
    "execution": {
     "iopub.execute_input": "2022-07-07T18:27:05.812429Z",
     "iopub.status.busy": "2022-07-07T18:27:05.812160Z",
     "iopub.status.idle": "2022-07-07T18:27:05.816076Z",
     "shell.execute_reply": "2022-07-07T18:27:05.815296Z"
    },
    "papermill": {
     "duration": 0.119566,
     "end_time": "2022-07-07T18:27:05.817920",
     "exception": false,
     "start_time": "2022-07-07T18:27:05.698354",
     "status": "completed"
    },
    "tags": []
   },
   "outputs": [],
   "source": [
    "bag_params = {\"n_estimators\": range(2,20)}"
   ]
  },
  {
   "cell_type": "code",
   "execution_count": 21,
   "id": "8dbfbafa",
   "metadata": {
    "execution": {
     "iopub.execute_input": "2022-07-07T18:27:06.044954Z",
     "iopub.status.busy": "2022-07-07T18:27:06.043945Z",
     "iopub.status.idle": "2022-07-07T18:27:06.048498Z",
     "shell.execute_reply": "2022-07-07T18:27:06.047741Z"
    },
    "papermill": {
     "duration": 0.119622,
     "end_time": "2022-07-07T18:27:06.050206",
     "exception": false,
     "start_time": "2022-07-07T18:27:05.930584",
     "status": "completed"
    },
    "tags": []
   },
   "outputs": [],
   "source": [
    "bag_cv_model = GridSearchCV(bag_model, bag_params, cv = 10, n_jobs = -1)"
   ]
  },
  {
   "cell_type": "code",
   "execution_count": 22,
   "id": "b88c9478",
   "metadata": {
    "execution": {
     "iopub.execute_input": "2022-07-07T18:27:06.278357Z",
     "iopub.status.busy": "2022-07-07T18:27:06.277484Z",
     "iopub.status.idle": "2022-07-07T18:27:10.484856Z",
     "shell.execute_reply": "2022-07-07T18:27:10.484222Z"
    },
    "papermill": {
     "duration": 4.32274,
     "end_time": "2022-07-07T18:27:10.486585",
     "exception": false,
     "start_time": "2022-07-07T18:27:06.163845",
     "status": "completed"
    },
    "tags": []
   },
   "outputs": [
    {
     "data": {
      "text/plain": [
       "GridSearchCV(cv=10, estimator=BaggingRegressor(bootstrap_features=True),\n",
       "             n_jobs=-1, param_grid={'n_estimators': range(2, 20)})"
      ]
     },
     "execution_count": 22,
     "metadata": {},
     "output_type": "execute_result"
    }
   ],
   "source": [
    "bag_cv_model.fit(X_train, y_train)"
   ]
  },
  {
   "cell_type": "code",
   "execution_count": 23,
   "id": "8c887aa7",
   "metadata": {
    "execution": {
     "iopub.execute_input": "2022-07-07T18:27:10.715050Z",
     "iopub.status.busy": "2022-07-07T18:27:10.714501Z",
     "iopub.status.idle": "2022-07-07T18:27:10.720734Z",
     "shell.execute_reply": "2022-07-07T18:27:10.720055Z"
    },
    "papermill": {
     "duration": 0.122628,
     "end_time": "2022-07-07T18:27:10.722572",
     "exception": false,
     "start_time": "2022-07-07T18:27:10.599944",
     "status": "completed"
    },
    "tags": []
   },
   "outputs": [
    {
     "data": {
      "text/plain": [
       "{'n_estimators': 7}"
      ]
     },
     "execution_count": 23,
     "metadata": {},
     "output_type": "execute_result"
    }
   ],
   "source": [
    "bag_cv_model.best_params_"
   ]
  },
  {
   "cell_type": "code",
   "execution_count": 24,
   "id": "d65612f6",
   "metadata": {
    "execution": {
     "iopub.execute_input": "2022-07-07T18:27:10.955769Z",
     "iopub.status.busy": "2022-07-07T18:27:10.955360Z",
     "iopub.status.idle": "2022-07-07T18:27:10.959526Z",
     "shell.execute_reply": "2022-07-07T18:27:10.958831Z"
    },
    "papermill": {
     "duration": 0.122755,
     "end_time": "2022-07-07T18:27:10.961276",
     "exception": false,
     "start_time": "2022-07-07T18:27:10.838521",
     "status": "completed"
    },
    "tags": []
   },
   "outputs": [],
   "source": [
    "bag_tuned = BaggingRegressor( n_estimators = 18, random_state = 45)"
   ]
  },
  {
   "cell_type": "code",
   "execution_count": 25,
   "id": "865fdfdd",
   "metadata": {
    "execution": {
     "iopub.execute_input": "2022-07-07T18:27:11.192395Z",
     "iopub.status.busy": "2022-07-07T18:27:11.191951Z",
     "iopub.status.idle": "2022-07-07T18:27:11.253400Z",
     "shell.execute_reply": "2022-07-07T18:27:11.252519Z"
    },
    "papermill": {
     "duration": 0.179647,
     "end_time": "2022-07-07T18:27:11.255373",
     "exception": false,
     "start_time": "2022-07-07T18:27:11.075726",
     "status": "completed"
    },
    "tags": []
   },
   "outputs": [
    {
     "data": {
      "text/plain": [
       "BaggingRegressor(n_estimators=18, random_state=45)"
      ]
     },
     "execution_count": 25,
     "metadata": {},
     "output_type": "execute_result"
    }
   ],
   "source": [
    "bag_tuned.fit(X_train, y_train)"
   ]
  },
  {
   "cell_type": "code",
   "execution_count": 26,
   "id": "8bed0591",
   "metadata": {
    "execution": {
     "iopub.execute_input": "2022-07-07T18:27:11.485416Z",
     "iopub.status.busy": "2022-07-07T18:27:11.485036Z",
     "iopub.status.idle": "2022-07-07T18:27:11.494113Z",
     "shell.execute_reply": "2022-07-07T18:27:11.493273Z"
    },
    "papermill": {
     "duration": 0.126982,
     "end_time": "2022-07-07T18:27:11.496271",
     "exception": false,
     "start_time": "2022-07-07T18:27:11.369289",
     "status": "completed"
    },
    "tags": []
   },
   "outputs": [],
   "source": [
    "y_pred = bag_tuned.predict(X_test)"
   ]
  },
  {
   "cell_type": "code",
   "execution_count": 27,
   "id": "d6bce760",
   "metadata": {
    "execution": {
     "iopub.execute_input": "2022-07-07T18:27:11.726973Z",
     "iopub.status.busy": "2022-07-07T18:27:11.726422Z",
     "iopub.status.idle": "2022-07-07T18:27:11.732275Z",
     "shell.execute_reply": "2022-07-07T18:27:11.731733Z"
    },
    "papermill": {
     "duration": 0.122902,
     "end_time": "2022-07-07T18:27:11.733942",
     "exception": false,
     "start_time": "2022-07-07T18:27:11.611040",
     "status": "completed"
    },
    "tags": []
   },
   "outputs": [
    {
     "data": {
      "text/plain": [
       "338.6015890705578"
      ]
     },
     "execution_count": 27,
     "metadata": {},
     "output_type": "execute_result"
    }
   ],
   "source": [
    "np.sqrt(mean_squared_error(y_test, y_pred)) # Su Ana Kadar Gordugumuz En Iyi Deger Ureten Model Bu Denk Geldi ( Her Zaman Boyle Olucak Diye Bir Durum Soz Konusu Degil )"
   ]
  },
  {
   "cell_type": "markdown",
   "id": "10021340",
   "metadata": {
    "papermill": {
     "duration": 0.11639,
     "end_time": "2022-07-07T18:27:11.964905",
     "exception": false,
     "start_time": "2022-07-07T18:27:11.848515",
     "status": "completed"
    },
    "tags": []
   },
   "source": [
    "# Random Forests\n",
    "\n",
    "* En Ideal Algoritmalardan Birisi"
   ]
  },
  {
   "cell_type": "code",
   "execution_count": 28,
   "id": "448cc2a1",
   "metadata": {
    "execution": {
     "iopub.execute_input": "2022-07-07T18:27:12.196571Z",
     "iopub.status.busy": "2022-07-07T18:27:12.196037Z",
     "iopub.status.idle": "2022-07-07T18:27:12.219338Z",
     "shell.execute_reply": "2022-07-07T18:27:12.218590Z"
    },
    "papermill": {
     "duration": 0.14087,
     "end_time": "2022-07-07T18:27:12.221345",
     "exception": false,
     "start_time": "2022-07-07T18:27:12.080475",
     "status": "completed"
    },
    "tags": []
   },
   "outputs": [],
   "source": [
    "hit = pd.read_csv(\"../input/hitterscsv/Hitters.csv\")\n",
    "df = hit.copy()\n",
    "df = df.dropna()\n",
    "dms = pd.get_dummies(df[['League', 'Division', 'NewLeague']])\n",
    "y = df[\"Salary\"]\n",
    "X_ = df.drop(['Salary', 'League', 'Division', 'NewLeague'], axis=1).astype('float64')\n",
    "X = pd.concat([X_, dms[['League_N', 'Division_W', 'NewLeague_N']]], axis=1)\n",
    "X_train, X_test, y_train, y_test = train_test_split(X, y, \n",
    "                                                    test_size=0.25, \n",
    "                                                    random_state=42)\n"
   ]
  },
  {
   "cell_type": "code",
   "execution_count": 29,
   "id": "d7bdeef0",
   "metadata": {
    "execution": {
     "iopub.execute_input": "2022-07-07T18:27:12.452470Z",
     "iopub.status.busy": "2022-07-07T18:27:12.451745Z",
     "iopub.status.idle": "2022-07-07T18:27:12.455650Z",
     "shell.execute_reply": "2022-07-07T18:27:12.454806Z"
    },
    "papermill": {
     "duration": 0.121109,
     "end_time": "2022-07-07T18:27:12.457374",
     "exception": false,
     "start_time": "2022-07-07T18:27:12.336265",
     "status": "completed"
    },
    "tags": []
   },
   "outputs": [],
   "source": [
    "from sklearn.ensemble import RandomForestRegressor"
   ]
  },
  {
   "cell_type": "code",
   "execution_count": 30,
   "id": "4ae42d1d",
   "metadata": {
    "execution": {
     "iopub.execute_input": "2022-07-07T18:27:12.688174Z",
     "iopub.status.busy": "2022-07-07T18:27:12.687694Z",
     "iopub.status.idle": "2022-07-07T18:27:12.691781Z",
     "shell.execute_reply": "2022-07-07T18:27:12.691174Z"
    },
    "papermill": {
     "duration": 0.121691,
     "end_time": "2022-07-07T18:27:12.693560",
     "exception": false,
     "start_time": "2022-07-07T18:27:12.571869",
     "status": "completed"
    },
    "tags": []
   },
   "outputs": [],
   "source": [
    "rf_model = RandomForestRegressor(n_estimators = 10, random_state = 42)"
   ]
  },
  {
   "cell_type": "code",
   "execution_count": 31,
   "id": "9c597daa",
   "metadata": {
    "execution": {
     "iopub.execute_input": "2022-07-07T18:27:12.924188Z",
     "iopub.status.busy": "2022-07-07T18:27:12.923636Z",
     "iopub.status.idle": "2022-07-07T18:27:12.928477Z",
     "shell.execute_reply": "2022-07-07T18:27:12.927967Z"
    },
    "papermill": {
     "duration": 0.122176,
     "end_time": "2022-07-07T18:27:12.930147",
     "exception": false,
     "start_time": "2022-07-07T18:27:12.807971",
     "status": "completed"
    },
    "tags": []
   },
   "outputs": [
    {
     "data": {
      "text/plain": [
       "'\\nrf_model.fit(X_train, y_train)\\n\\n'"
      ]
     },
     "execution_count": 31,
     "metadata": {},
     "output_type": "execute_result"
    }
   ],
   "source": [
    "\"\"\"\n",
    "rf_model.fit(X_train, y_train)\n",
    "\n",
    "\"\"\""
   ]
  },
  {
   "cell_type": "code",
   "execution_count": 32,
   "id": "1d6e4ce4",
   "metadata": {
    "execution": {
     "iopub.execute_input": "2022-07-07T18:27:13.163348Z",
     "iopub.status.busy": "2022-07-07T18:27:13.162784Z",
     "iopub.status.idle": "2022-07-07T18:27:13.166042Z",
     "shell.execute_reply": "2022-07-07T18:27:13.165453Z"
    },
    "papermill": {
     "duration": 0.122072,
     "end_time": "2022-07-07T18:27:13.167912",
     "exception": false,
     "start_time": "2022-07-07T18:27:13.045840",
     "status": "completed"
    },
    "tags": []
   },
   "outputs": [],
   "source": [
    "# ?rf_model\n",
    "\n",
    "# max_features : Bolunme Islemlerinde Goz Onunde Bulundurulacak Olan Max Degisken Sayisini Ifade Ediyor\n",
    "# max_depth : Her Agacin Derinlik Seviyesi\n",
    "# min_samples_split : Bir Node Bolunmeden Once O Node'deki Minimum Gozlem Sayisini Ifade Ediyor\n",
    "# min_samples_leaf : Leaf Node'deki Minimum Gozlem Sayisi ( Leaf Node Ve ( Bi Ustte Bulunan ) Node Ifadesi Farkli Seylerdir )"
   ]
  },
  {
   "cell_type": "markdown",
   "id": "8c61d0bf",
   "metadata": {
    "papermill": {
     "duration": 0.121356,
     "end_time": "2022-07-07T18:27:13.404291",
     "exception": false,
     "start_time": "2022-07-07T18:27:13.282935",
     "status": "completed"
    },
    "tags": []
   },
   "source": [
    "RandomForest Ta Onemli Olan Iki Parametre Vardir ( 3. Olarak Bir Sey Daha Ekleyebiliriz )\n",
    "\n",
    "1. Fit Edilecek Agac Sayisi\n",
    "2. max_features Dedigimiz Her Bolunmede Goze Alinacak Olan Degisken Sayisi\n",
    "3. max_depth Dedigimiz Maximum Agacin Derinlik Sayisi ( Cunku Dallanmalari En Tepeden Kontrol Eden Bir Parametredir )"
   ]
  },
  {
   "cell_type": "markdown",
   "id": "faf43bdf",
   "metadata": {
    "papermill": {
     "duration": 0.127642,
     "end_time": "2022-07-07T18:27:13.662935",
     "exception": false,
     "start_time": "2022-07-07T18:27:13.535293",
     "status": "completed"
    },
    "tags": []
   },
   "source": [
    "## Tahmin"
   ]
  },
  {
   "cell_type": "code",
   "execution_count": 33,
   "id": "89a04613",
   "metadata": {
    "execution": {
     "iopub.execute_input": "2022-07-07T18:27:13.914897Z",
     "iopub.status.busy": "2022-07-07T18:27:13.914389Z",
     "iopub.status.idle": "2022-07-07T18:27:13.918652Z",
     "shell.execute_reply": "2022-07-07T18:27:13.918134Z"
    },
    "papermill": {
     "duration": 0.134563,
     "end_time": "2022-07-07T18:27:13.920971",
     "exception": false,
     "start_time": "2022-07-07T18:27:13.786408",
     "status": "completed"
    },
    "tags": []
   },
   "outputs": [
    {
     "data": {
      "text/plain": [
       "'\\nrf_model.predict(X_test)[0:5]\\n\\n'"
      ]
     },
     "execution_count": 33,
     "metadata": {},
     "output_type": "execute_result"
    }
   ],
   "source": [
    "\"\"\"\n",
    "rf_model.predict(X_test)[0:5]\n",
    "\n",
    "\"\"\""
   ]
  },
  {
   "cell_type": "code",
   "execution_count": 34,
   "id": "479bb5af",
   "metadata": {
    "execution": {
     "iopub.execute_input": "2022-07-07T18:27:14.174722Z",
     "iopub.status.busy": "2022-07-07T18:27:14.174217Z",
     "iopub.status.idle": "2022-07-07T18:27:14.178644Z",
     "shell.execute_reply": "2022-07-07T18:27:14.177939Z"
    },
    "papermill": {
     "duration": 0.134015,
     "end_time": "2022-07-07T18:27:14.180574",
     "exception": false,
     "start_time": "2022-07-07T18:27:14.046559",
     "status": "completed"
    },
    "tags": []
   },
   "outputs": [
    {
     "data": {
      "text/plain": [
       "'\\ny_pred = rf_model.predict(X_test)\\n\\n'"
      ]
     },
     "execution_count": 34,
     "metadata": {},
     "output_type": "execute_result"
    }
   ],
   "source": [
    "\"\"\"\n",
    "y_pred = rf_model.predict(X_test)\n",
    "\n",
    "\"\"\""
   ]
  },
  {
   "cell_type": "code",
   "execution_count": 35,
   "id": "e021c03a",
   "metadata": {
    "execution": {
     "iopub.execute_input": "2022-07-07T18:27:14.426869Z",
     "iopub.status.busy": "2022-07-07T18:27:14.426372Z",
     "iopub.status.idle": "2022-07-07T18:27:14.431635Z",
     "shell.execute_reply": "2022-07-07T18:27:14.431138Z"
    },
    "papermill": {
     "duration": 0.128766,
     "end_time": "2022-07-07T18:27:14.433437",
     "exception": false,
     "start_time": "2022-07-07T18:27:14.304671",
     "status": "completed"
    },
    "tags": []
   },
   "outputs": [
    {
     "data": {
      "text/plain": [
       "338.6015890705578"
      ]
     },
     "execution_count": 35,
     "metadata": {},
     "output_type": "execute_result"
    }
   ],
   "source": [
    "np.sqrt(mean_squared_error(y_test, y_pred))"
   ]
  },
  {
   "cell_type": "markdown",
   "id": "90807c06",
   "metadata": {
    "papermill": {
     "duration": 0.117389,
     "end_time": "2022-07-07T18:27:14.667668",
     "exception": false,
     "start_time": "2022-07-07T18:27:14.550279",
     "status": "completed"
    },
    "tags": []
   },
   "source": [
    "## Model Tuning"
   ]
  },
  {
   "cell_type": "markdown",
   "id": "2d8203f6",
   "metadata": {
    "papermill": {
     "duration": 0.116547,
     "end_time": "2022-07-07T18:27:14.901877",
     "exception": false,
     "start_time": "2022-07-07T18:27:14.785330",
     "status": "completed"
    },
    "tags": []
   },
   "source": [
    "Iyi Calistigina Inanilan 2 Deger Var ( Bilimsel Anlamda da Boyle Gosterilmis )  ----->>  'n_estimators' : 500 Ve 1000 Degerleri\n",
    "\n",
    "* Kolaylik Olsun Diye ----->> 'n_estimators' : [100, 200, 500, 1000, 2000]  ------>> Bu Sekilde Girilebilir"
   ]
  },
  {
   "cell_type": "code",
   "execution_count": 36,
   "id": "e83f8ace",
   "metadata": {
    "execution": {
     "iopub.execute_input": "2022-07-07T18:27:15.138121Z",
     "iopub.status.busy": "2022-07-07T18:27:15.137363Z",
     "iopub.status.idle": "2022-07-07T18:27:15.141596Z",
     "shell.execute_reply": "2022-07-07T18:27:15.141093Z"
    },
    "papermill": {
     "duration": 0.124268,
     "end_time": "2022-07-07T18:27:15.143288",
     "exception": false,
     "start_time": "2022-07-07T18:27:15.019020",
     "status": "completed"
    },
    "tags": []
   },
   "outputs": [],
   "source": [
    "rf_params = {'max_depth': list(range(1,10)),\n",
    "            'max_features': [3,5,10,15],\n",
    "            'n_estimators' : [100, 200, 500, 1000, 2000]}"
   ]
  },
  {
   "cell_type": "code",
   "execution_count": 37,
   "id": "b50d516c",
   "metadata": {
    "execution": {
     "iopub.execute_input": "2022-07-07T18:27:15.376946Z",
     "iopub.status.busy": "2022-07-07T18:27:15.376447Z",
     "iopub.status.idle": "2022-07-07T18:27:15.379959Z",
     "shell.execute_reply": "2022-07-07T18:27:15.379347Z"
    },
    "papermill": {
     "duration": 0.122645,
     "end_time": "2022-07-07T18:27:15.381792",
     "exception": false,
     "start_time": "2022-07-07T18:27:15.259147",
     "status": "completed"
    },
    "tags": []
   },
   "outputs": [],
   "source": [
    "rf_model = RandomForestRegressor(n_estimators = 10, random_state = 42)"
   ]
  },
  {
   "cell_type": "code",
   "execution_count": 38,
   "id": "8bae7008",
   "metadata": {
    "execution": {
     "iopub.execute_input": "2022-07-07T18:27:15.618499Z",
     "iopub.status.busy": "2022-07-07T18:27:15.617970Z",
     "iopub.status.idle": "2022-07-07T18:27:15.620929Z",
     "shell.execute_reply": "2022-07-07T18:27:15.620391Z"
    },
    "papermill": {
     "duration": 0.124215,
     "end_time": "2022-07-07T18:27:15.623020",
     "exception": false,
     "start_time": "2022-07-07T18:27:15.498805",
     "status": "completed"
    },
    "tags": []
   },
   "outputs": [],
   "source": [
    "# ?rf_model"
   ]
  },
  {
   "cell_type": "code",
   "execution_count": 39,
   "id": "89ee8dc2",
   "metadata": {
    "execution": {
     "iopub.execute_input": "2022-07-07T18:27:15.858735Z",
     "iopub.status.busy": "2022-07-07T18:27:15.857894Z",
     "iopub.status.idle": "2022-07-07T18:27:15.862327Z",
     "shell.execute_reply": "2022-07-07T18:27:15.861511Z"
    },
    "papermill": {
     "duration": 0.124253,
     "end_time": "2022-07-07T18:27:15.864324",
     "exception": false,
     "start_time": "2022-07-07T18:27:15.740071",
     "status": "completed"
    },
    "tags": []
   },
   "outputs": [],
   "source": [
    "rf_cv_model = GridSearchCV(rf_model, \n",
    "                           rf_params, \n",
    "                           cv = 10, \n",
    "                            n_jobs = -1) # n_jobs = -1 ------>> Ifadesi CPU'nun %100 Kullanimina Izin Verir"
   ]
  },
  {
   "cell_type": "code",
   "execution_count": 40,
   "id": "e39d0e70",
   "metadata": {
    "execution": {
     "iopub.execute_input": "2022-07-07T18:27:16.099320Z",
     "iopub.status.busy": "2022-07-07T18:27:16.098723Z",
     "iopub.status.idle": "2022-07-07T18:27:16.103574Z",
     "shell.execute_reply": "2022-07-07T18:27:16.102799Z"
    },
    "papermill": {
     "duration": 0.12463,
     "end_time": "2022-07-07T18:27:16.105345",
     "exception": false,
     "start_time": "2022-07-07T18:27:15.980715",
     "status": "completed"
    },
    "tags": []
   },
   "outputs": [
    {
     "data": {
      "text/plain": [
       "'\\nrf_cv_model.fit(X_train, y_train)\\n\\n'"
      ]
     },
     "execution_count": 40,
     "metadata": {},
     "output_type": "execute_result"
    }
   ],
   "source": [
    "\"\"\"\n",
    "rf_cv_model.fit(X_train, y_train)\n",
    "\n",
    "\"\"\""
   ]
  },
  {
   "cell_type": "code",
   "execution_count": 41,
   "id": "ce917a74",
   "metadata": {
    "execution": {
     "iopub.execute_input": "2022-07-07T18:27:16.339251Z",
     "iopub.status.busy": "2022-07-07T18:27:16.338775Z",
     "iopub.status.idle": "2022-07-07T18:27:16.343391Z",
     "shell.execute_reply": "2022-07-07T18:27:16.342830Z"
    },
    "papermill": {
     "duration": 0.123871,
     "end_time": "2022-07-07T18:27:16.345056",
     "exception": false,
     "start_time": "2022-07-07T18:27:16.221185",
     "status": "completed"
    },
    "tags": []
   },
   "outputs": [
    {
     "data": {
      "text/plain": [
       "'\\nrf_cv_model.best_params_ # Bu Parametreler Ile Final Modelimizi Olusturalim\\n\\n'"
      ]
     },
     "execution_count": 41,
     "metadata": {},
     "output_type": "execute_result"
    }
   ],
   "source": [
    "\"\"\"\n",
    "rf_cv_model.best_params_ # Bu Parametreler Ile Final Modelimizi Olusturalim\n",
    "\n",
    "\"\"\""
   ]
  },
  {
   "cell_type": "code",
   "execution_count": 42,
   "id": "5dc8f26b",
   "metadata": {
    "execution": {
     "iopub.execute_input": "2022-07-07T18:27:16.583272Z",
     "iopub.status.busy": "2022-07-07T18:27:16.582653Z",
     "iopub.status.idle": "2022-07-07T18:27:16.587047Z",
     "shell.execute_reply": "2022-07-07T18:27:16.586176Z"
    },
    "papermill": {
     "duration": 0.12531,
     "end_time": "2022-07-07T18:27:16.588923",
     "exception": false,
     "start_time": "2022-07-07T18:27:16.463613",
     "status": "completed"
    },
    "tags": []
   },
   "outputs": [],
   "source": [
    "rf_tuned = RandomForestRegressor(max_depth  = 8, \n",
    "                                 max_features = 3, # Bolunmelerde Goz Onunde Bulunduracak Oldugumuz Max Degisken Sayisi\n",
    "                                 n_estimators =200)"
   ]
  },
  {
   "cell_type": "code",
   "execution_count": 43,
   "id": "e5e63942",
   "metadata": {
    "execution": {
     "iopub.execute_input": "2022-07-07T18:27:16.842844Z",
     "iopub.status.busy": "2022-07-07T18:27:16.842552Z",
     "iopub.status.idle": "2022-07-07T18:27:16.847533Z",
     "shell.execute_reply": "2022-07-07T18:27:16.846829Z"
    },
    "papermill": {
     "duration": 0.135843,
     "end_time": "2022-07-07T18:27:16.850718",
     "exception": false,
     "start_time": "2022-07-07T18:27:16.714875",
     "status": "completed"
    },
    "tags": []
   },
   "outputs": [
    {
     "data": {
      "text/plain": [
       "'\\nrf_tuned.fit(X_train, y_train) #  ( Cikan Sonuc ) = RandomForestRegressor(max_depth=8, max_features=3, n_estimators=200)\\n\\n'"
      ]
     },
     "execution_count": 43,
     "metadata": {},
     "output_type": "execute_result"
    }
   ],
   "source": [
    "\"\"\"\n",
    "rf_tuned.fit(X_train, y_train) #  ( Cikan Sonuc ) = RandomForestRegressor(max_depth=8, max_features=3, n_estimators=200)\n",
    "\n",
    "\"\"\""
   ]
  },
  {
   "cell_type": "code",
   "execution_count": 44,
   "id": "2cd41e51",
   "metadata": {
    "execution": {
     "iopub.execute_input": "2022-07-07T18:27:17.120038Z",
     "iopub.status.busy": "2022-07-07T18:27:17.119669Z",
     "iopub.status.idle": "2022-07-07T18:27:17.126449Z",
     "shell.execute_reply": "2022-07-07T18:27:17.125671Z"
    },
    "papermill": {
     "duration": 0.137261,
     "end_time": "2022-07-07T18:27:17.128299",
     "exception": false,
     "start_time": "2022-07-07T18:27:16.991038",
     "status": "completed"
    },
    "tags": []
   },
   "outputs": [
    {
     "data": {
      "text/plain": [
       "'\\ny_pred = rf_tuned.predict(X_test)\\n\\n'"
      ]
     },
     "execution_count": 44,
     "metadata": {},
     "output_type": "execute_result"
    }
   ],
   "source": [
    "\"\"\"\n",
    "y_pred = rf_tuned.predict(X_test)\n",
    "\n",
    "\"\"\""
   ]
  },
  {
   "cell_type": "code",
   "execution_count": 45,
   "id": "47830faa",
   "metadata": {
    "execution": {
     "iopub.execute_input": "2022-07-07T18:27:17.366273Z",
     "iopub.status.busy": "2022-07-07T18:27:17.365614Z",
     "iopub.status.idle": "2022-07-07T18:27:17.373771Z",
     "shell.execute_reply": "2022-07-07T18:27:17.373162Z"
    },
    "papermill": {
     "duration": 0.128794,
     "end_time": "2022-07-07T18:27:17.376045",
     "exception": false,
     "start_time": "2022-07-07T18:27:17.247251",
     "status": "completed"
    },
    "tags": []
   },
   "outputs": [
    {
     "data": {
      "text/plain": [
       "338.6015890705578"
      ]
     },
     "execution_count": 45,
     "metadata": {},
     "output_type": "execute_result"
    }
   ],
   "source": [
    "np.sqrt(mean_squared_error(y_test, y_pred)) # Random Forest Ile Yakin Degerler Cikti ( Random Forenst Ile Arasinda Iliski Vardir ) ( Valide Edilmis Test Hatamiza Eristik )"
   ]
  },
  {
   "cell_type": "markdown",
   "id": "33bcbdde",
   "metadata": {
    "papermill": {
     "duration": 0.123119,
     "end_time": "2022-07-07T18:27:17.663675",
     "exception": false,
     "start_time": "2022-07-07T18:27:17.540556",
     "status": "completed"
    },
    "tags": []
   },
   "source": [
    "* Degiskenlerin Onem Duzeyine Erismek Gibi Bir Ihtiyacimiz Oldugunu Dusunelim\n",
    "\n",
    "* Artik Yavas Yavas Performans Odakli Calismalara Basliyoruz ( Artik Rasgele Degiskenleri Secmek Yerine Daha Performansli Olanlari Secicez )"
   ]
  },
  {
   "cell_type": "code",
   "execution_count": 46,
   "id": "d14d347f",
   "metadata": {
    "execution": {
     "iopub.execute_input": "2022-07-07T18:27:17.900530Z",
     "iopub.status.busy": "2022-07-07T18:27:17.899773Z",
     "iopub.status.idle": "2022-07-07T18:27:17.904877Z",
     "shell.execute_reply": "2022-07-07T18:27:17.904157Z"
    },
    "papermill": {
     "duration": 0.125259,
     "end_time": "2022-07-07T18:27:17.906633",
     "exception": false,
     "start_time": "2022-07-07T18:27:17.781374",
     "status": "completed"
    },
    "tags": []
   },
   "outputs": [
    {
     "data": {
      "text/plain": [
       "'\\nImportance = pd.DataFrame({\"Importance\": rf_tuned.feature_importances_*100},\\n                         index = X_train.columns)\\n\\n'"
      ]
     },
     "execution_count": 46,
     "metadata": {},
     "output_type": "execute_result"
    }
   ],
   "source": [
    "\"\"\"\n",
    "Importance = pd.DataFrame({\"Importance\": rf_tuned.feature_importances_*100},\n",
    "                         index = X_train.columns)\n",
    "\n",
    "\"\"\""
   ]
  },
  {
   "cell_type": "code",
   "execution_count": 47,
   "id": "def67989",
   "metadata": {
    "execution": {
     "iopub.execute_input": "2022-07-07T18:27:18.145662Z",
     "iopub.status.busy": "2022-07-07T18:27:18.145354Z",
     "iopub.status.idle": "2022-07-07T18:27:18.150622Z",
     "shell.execute_reply": "2022-07-07T18:27:18.150023Z"
    },
    "papermill": {
     "duration": 0.126531,
     "end_time": "2022-07-07T18:27:18.152303",
     "exception": false,
     "start_time": "2022-07-07T18:27:18.025772",
     "status": "completed"
    },
    "tags": []
   },
   "outputs": [
    {
     "data": {
      "text/plain": [
       "'\\nImportance.sort_values(by = \"Importance\", # ( Neye Gore ) Importance Ye Gore\\n                       axis = 0, \\n                       ascending = True).plot(kind =\"barh\", color = \"r\")\\n\\nplt.xlabel(\"Değişken Önem Düzeyleri\") # Grafikte En Ust Kisimda Bulunan Degiskenler En Onemli Olanlar\\n\\n'"
      ]
     },
     "execution_count": 47,
     "metadata": {},
     "output_type": "execute_result"
    }
   ],
   "source": [
    "\"\"\"\n",
    "Importance.sort_values(by = \"Importance\", # ( Neye Gore ) Importance Ye Gore\n",
    "                       axis = 0, \n",
    "                       ascending = True).plot(kind =\"barh\", color = \"r\")\n",
    "\n",
    "plt.xlabel(\"Değişken Önem Düzeyleri\") # Grafikte En Ust Kisimda Bulunan Degiskenler En Onemli Olanlar\n",
    "\n",
    "\"\"\""
   ]
  },
  {
   "cell_type": "markdown",
   "id": "c459cb32",
   "metadata": {
    "papermill": {
     "duration": 0.118268,
     "end_time": "2022-07-07T18:27:18.388757",
     "exception": false,
     "start_time": "2022-07-07T18:27:18.270489",
     "status": "completed"
    },
    "tags": []
   },
   "source": [
    "# Gradient Boosting Machines"
   ]
  },
  {
   "cell_type": "code",
   "execution_count": 48,
   "id": "05c1268a",
   "metadata": {
    "execution": {
     "iopub.execute_input": "2022-07-07T18:27:18.630980Z",
     "iopub.status.busy": "2022-07-07T18:27:18.630495Z",
     "iopub.status.idle": "2022-07-07T18:27:18.633928Z",
     "shell.execute_reply": "2022-07-07T18:27:18.633352Z"
    },
    "papermill": {
     "duration": 0.127094,
     "end_time": "2022-07-07T18:27:18.635718",
     "exception": false,
     "start_time": "2022-07-07T18:27:18.508624",
     "status": "completed"
    },
    "tags": []
   },
   "outputs": [],
   "source": [
    "from sklearn.ensemble import GradientBoostingRegressor"
   ]
  },
  {
   "cell_type": "code",
   "execution_count": 49,
   "id": "f4774b99",
   "metadata": {
    "execution": {
     "iopub.execute_input": "2022-07-07T18:27:18.875837Z",
     "iopub.status.busy": "2022-07-07T18:27:18.875379Z",
     "iopub.status.idle": "2022-07-07T18:27:18.979826Z",
     "shell.execute_reply": "2022-07-07T18:27:18.979180Z"
    },
    "papermill": {
     "duration": 0.227476,
     "end_time": "2022-07-07T18:27:18.981598",
     "exception": false,
     "start_time": "2022-07-07T18:27:18.754122",
     "status": "completed"
    },
    "tags": []
   },
   "outputs": [
    {
     "data": {
      "text/plain": [
       "GradientBoostingRegressor()"
      ]
     },
     "execution_count": 49,
     "metadata": {},
     "output_type": "execute_result"
    }
   ],
   "source": [
    "gbm_model = GradientBoostingRegressor()\n",
    "gbm_model.fit(X_train, y_train)"
   ]
  },
  {
   "cell_type": "markdown",
   "id": "818adb5e",
   "metadata": {
    "papermill": {
     "duration": 0.117798,
     "end_time": "2022-07-07T18:27:19.217537",
     "exception": false,
     "start_time": "2022-07-07T18:27:19.099739",
     "status": "completed"
    },
    "tags": []
   },
   "source": [
    "Onemli Parametreler\n",
    "\n",
    "* learning_rate = 0.1"
   ]
  },
  {
   "cell_type": "code",
   "execution_count": 50,
   "id": "e41302e3",
   "metadata": {
    "execution": {
     "iopub.execute_input": "2022-07-07T18:27:19.455159Z",
     "iopub.status.busy": "2022-07-07T18:27:19.454833Z",
     "iopub.status.idle": "2022-07-07T18:27:19.458231Z",
     "shell.execute_reply": "2022-07-07T18:27:19.457429Z"
    },
    "papermill": {
     "duration": 0.124874,
     "end_time": "2022-07-07T18:27:19.460326",
     "exception": false,
     "start_time": "2022-07-07T18:27:19.335452",
     "status": "completed"
    },
    "tags": []
   },
   "outputs": [],
   "source": [
    "# ?gbm_model"
   ]
  },
  {
   "cell_type": "markdown",
   "id": "0b1dcefd",
   "metadata": {
    "papermill": {
     "duration": 0.118268,
     "end_time": "2022-07-07T18:27:19.698751",
     "exception": false,
     "start_time": "2022-07-07T18:27:19.580483",
     "status": "completed"
    },
    "tags": []
   },
   "source": [
    "## Tahmin"
   ]
  },
  {
   "cell_type": "code",
   "execution_count": 51,
   "id": "b33dad4e",
   "metadata": {
    "execution": {
     "iopub.execute_input": "2022-07-07T18:27:19.937287Z",
     "iopub.status.busy": "2022-07-07T18:27:19.936994Z",
     "iopub.status.idle": "2022-07-07T18:27:19.946092Z",
     "shell.execute_reply": "2022-07-07T18:27:19.945282Z"
    },
    "papermill": {
     "duration": 0.130567,
     "end_time": "2022-07-07T18:27:19.947952",
     "exception": false,
     "start_time": "2022-07-07T18:27:19.817385",
     "status": "completed"
    },
    "tags": []
   },
   "outputs": [
    {
     "data": {
      "text/plain": [
       "355.2839100395149"
      ]
     },
     "execution_count": 51,
     "metadata": {},
     "output_type": "execute_result"
    }
   ],
   "source": [
    "y_pred = gbm_model.predict(X_test)\n",
    "np.sqrt(mean_squared_error(y_test, y_pred))"
   ]
  },
  {
   "cell_type": "markdown",
   "id": "7d919f39",
   "metadata": {
    "papermill": {
     "duration": 0.120061,
     "end_time": "2022-07-07T18:27:20.188981",
     "exception": false,
     "start_time": "2022-07-07T18:27:20.068920",
     "status": "completed"
    },
    "tags": []
   },
   "source": [
    "## Model Tuning"
   ]
  },
  {
   "cell_type": "code",
   "execution_count": 52,
   "id": "4e01161d",
   "metadata": {
    "execution": {
     "iopub.execute_input": "2022-07-07T18:27:20.430037Z",
     "iopub.status.busy": "2022-07-07T18:27:20.429758Z",
     "iopub.status.idle": "2022-07-07T18:27:20.434358Z",
     "shell.execute_reply": "2022-07-07T18:27:20.433557Z"
    },
    "papermill": {
     "duration": 0.127746,
     "end_time": "2022-07-07T18:27:20.436268",
     "exception": false,
     "start_time": "2022-07-07T18:27:20.308522",
     "status": "completed"
    },
    "tags": []
   },
   "outputs": [],
   "source": [
    "gbm_params = {\n",
    "    'learning_rate': [0.001, 0.01, 0.1, 0.2],\n",
    "    'max_depth': [3, 5, 8,50,100],\n",
    "    'n_estimators': [200, 500, 1000, 2000],\n",
    "    'subsample': [1,0.5,0.75],\n",
    "}"
   ]
  },
  {
   "cell_type": "code",
   "execution_count": 53,
   "id": "3d1e92a6",
   "metadata": {
    "execution": {
     "iopub.execute_input": "2022-07-07T18:27:20.677805Z",
     "iopub.status.busy": "2022-07-07T18:27:20.677053Z",
     "iopub.status.idle": "2022-07-07T18:27:20.681945Z",
     "shell.execute_reply": "2022-07-07T18:27:20.681423Z"
    },
    "papermill": {
     "duration": 0.127976,
     "end_time": "2022-07-07T18:27:20.683920",
     "exception": false,
     "start_time": "2022-07-07T18:27:20.555944",
     "status": "completed"
    },
    "tags": []
   },
   "outputs": [
    {
     "data": {
      "text/plain": [
       "'\\n# ( Uzun Suren Code )\\n\\ngbm = GradientBoostingRegressor()\\ngbm_cv_model = GridSearchCV(gbm, gbm_params, cv = 10, n_jobs = -1, verbose = 2)\\ngbm_cv_model.fit(X_train, y_train)\\n\\n'"
      ]
     },
     "execution_count": 53,
     "metadata": {},
     "output_type": "execute_result"
    }
   ],
   "source": [
    "\"\"\"\n",
    "# ( Uzun Suren Code )\n",
    "\n",
    "gbm = GradientBoostingRegressor()\n",
    "gbm_cv_model = GridSearchCV(gbm, gbm_params, cv = 10, n_jobs = -1, verbose = 2)\n",
    "gbm_cv_model.fit(X_train, y_train)\n",
    "\n",
    "\"\"\""
   ]
  },
  {
   "cell_type": "code",
   "execution_count": 54,
   "id": "204263e2",
   "metadata": {
    "execution": {
     "iopub.execute_input": "2022-07-07T18:27:20.927034Z",
     "iopub.status.busy": "2022-07-07T18:27:20.926513Z",
     "iopub.status.idle": "2022-07-07T18:27:20.931121Z",
     "shell.execute_reply": "2022-07-07T18:27:20.930482Z"
    },
    "papermill": {
     "duration": 0.12807,
     "end_time": "2022-07-07T18:27:20.932939",
     "exception": false,
     "start_time": "2022-07-07T18:27:20.804869",
     "status": "completed"
    },
    "tags": []
   },
   "outputs": [
    {
     "data": {
      "text/plain": [
       "'\\ngbm_cv_model.best_params_\\n\\n'"
      ]
     },
     "execution_count": 54,
     "metadata": {},
     "output_type": "execute_result"
    }
   ],
   "source": [
    "\"\"\"\n",
    "gbm_cv_model.best_params_\n",
    "\n",
    "\"\"\""
   ]
  },
  {
   "cell_type": "code",
   "execution_count": 55,
   "id": "43c0ae1f",
   "metadata": {
    "execution": {
     "iopub.execute_input": "2022-07-07T18:27:21.174673Z",
     "iopub.status.busy": "2022-07-07T18:27:21.174180Z",
     "iopub.status.idle": "2022-07-07T18:27:22.648867Z",
     "shell.execute_reply": "2022-07-07T18:27:22.648038Z"
    },
    "papermill": {
     "duration": 1.598015,
     "end_time": "2022-07-07T18:27:22.651130",
     "exception": false,
     "start_time": "2022-07-07T18:27:21.053115",
     "status": "completed"
    },
    "tags": []
   },
   "outputs": [],
   "source": [
    "# Final Modeli\n",
    "\n",
    "gbm_tuned = GradientBoostingRegressor(learning_rate = 0.2,\n",
    "                                      max_depth = 3, \n",
    "                                      n_estimators = 2000, \n",
    "                                      subsample = 0.75)\n",
    "\n",
    "gbm_tuned = gbm_tuned.fit(X_train,y_train)"
   ]
  },
  {
   "cell_type": "code",
   "execution_count": 56,
   "id": "ea4e574c",
   "metadata": {
    "execution": {
     "iopub.execute_input": "2022-07-07T18:27:22.892827Z",
     "iopub.status.busy": "2022-07-07T18:27:22.892372Z",
     "iopub.status.idle": "2022-07-07T18:27:22.904009Z",
     "shell.execute_reply": "2022-07-07T18:27:22.903253Z"
    },
    "papermill": {
     "duration": 0.134898,
     "end_time": "2022-07-07T18:27:22.906034",
     "exception": false,
     "start_time": "2022-07-07T18:27:22.771136",
     "status": "completed"
    },
    "tags": []
   },
   "outputs": [
    {
     "data": {
      "text/plain": [
       "360.78545773329125"
      ]
     },
     "execution_count": 56,
     "metadata": {},
     "output_type": "execute_result"
    }
   ],
   "source": [
    "# Test Hatamiz\n",
    "\n",
    "y_pred = gbm_tuned.predict(X_test)\n",
    "np.sqrt(mean_squared_error(y_test, y_pred))"
   ]
  },
  {
   "cell_type": "code",
   "execution_count": 57,
   "id": "f0db973a",
   "metadata": {
    "execution": {
     "iopub.execute_input": "2022-07-07T18:27:23.152531Z",
     "iopub.status.busy": "2022-07-07T18:27:23.151954Z",
     "iopub.status.idle": "2022-07-07T18:27:23.167513Z",
     "shell.execute_reply": "2022-07-07T18:27:23.166715Z"
    },
    "papermill": {
     "duration": 0.140539,
     "end_time": "2022-07-07T18:27:23.169663",
     "exception": false,
     "start_time": "2022-07-07T18:27:23.029124",
     "status": "completed"
    },
    "tags": []
   },
   "outputs": [],
   "source": [
    "Importance = pd.DataFrame({\"Importance\": gbm_tuned.feature_importances_*100},\n",
    "                         index = X_train.columns)"
   ]
  },
  {
   "cell_type": "code",
   "execution_count": 58,
   "id": "51d17723",
   "metadata": {
    "execution": {
     "iopub.execute_input": "2022-07-07T18:27:23.415993Z",
     "iopub.status.busy": "2022-07-07T18:27:23.415720Z",
     "iopub.status.idle": "2022-07-07T18:27:23.736143Z",
     "shell.execute_reply": "2022-07-07T18:27:23.735540Z"
    },
    "papermill": {
     "duration": 0.447901,
     "end_time": "2022-07-07T18:27:23.738163",
     "exception": false,
     "start_time": "2022-07-07T18:27:23.290262",
     "status": "completed"
    },
    "tags": []
   },
   "outputs": [
    {
     "data": {
      "text/plain": [
       "Text(0.5, 0, 'Değişken Önem Düzeyleri')"
      ]
     },
     "execution_count": 58,
     "metadata": {},
     "output_type": "execute_result"
    },
    {
     "data": {
      "image/png": "[encoded data removed]",
      "text/plain": [
       "<Figure size 432x288 with 1 Axes>"
      ]
     },
     "metadata": {
      "needs_background": "light"
     },
     "output_type": "display_data"
    }
   ],
   "source": [
    "Importance.sort_values(by = \"Importance\", \n",
    "                       axis = 0, \n",
    "                       ascending = True).plot(kind =\"barh\", color = \"r\")\n",
    "\n",
    "plt.xlabel(\"Değişken Önem Düzeyleri\")"
   ]
  },
  {
   "cell_type": "markdown",
   "id": "a71867ab",
   "metadata": {
    "papermill": {
     "duration": 0.122875,
     "end_time": "2022-07-07T18:27:23.984246",
     "exception": false,
     "start_time": "2022-07-07T18:27:23.861371",
     "status": "completed"
    },
    "tags": []
   },
   "source": [
    "# XGBoost\n",
    "\n",
    "* Bir Cok Kaggle Yarismasinda 1. Lerin Kullandigi Algoritmadir\n",
    "\n",
    "* gbm Ile Karsilastirildiginda XGBoost Daha Iyi Cikmasini Bekleriz ( Genel Olarak ) ( Ama Belli De Olma Terside Cikabilir )"
   ]
  },
  {
   "cell_type": "code",
   "execution_count": 59,
   "id": "9adda4c1",
   "metadata": {
    "execution": {
     "iopub.execute_input": "2022-07-07T18:27:24.232257Z",
     "iopub.status.busy": "2022-07-07T18:27:24.231337Z",
     "iopub.status.idle": "2022-07-07T18:27:24.253130Z",
     "shell.execute_reply": "2022-07-07T18:27:24.252477Z"
    },
    "papermill": {
     "duration": 0.147,
     "end_time": "2022-07-07T18:27:24.255340",
     "exception": false,
     "start_time": "2022-07-07T18:27:24.108340",
     "status": "completed"
    },
    "tags": []
   },
   "outputs": [],
   "source": [
    "hit = pd.read_csv(\"../input/hitterscsv/Hitters.csv\")\n",
    "df = hit.copy()\n",
    "df = df.dropna()\n",
    "dms = pd.get_dummies(df[['League', 'Division', 'NewLeague']])\n",
    "y = df[\"Salary\"]\n",
    "X_ = df.drop(['Salary', 'League', 'Division', 'NewLeague'], axis=1).astype('float64')\n",
    "X = pd.concat([X_, dms[['League_N', 'Division_W', 'NewLeague_N']]], axis=1)\n",
    "X_train, X_test, y_train, y_test = train_test_split(X, y, \n",
    "                                                    test_size=0.25, \n",
    "                                                    random_state=42)\n"
   ]
  },
  {
   "cell_type": "code",
   "execution_count": 60,
   "id": "dee68ee4",
   "metadata": {
    "execution": {
     "iopub.execute_input": "2022-07-07T18:27:24.502660Z",
     "iopub.status.busy": "2022-07-07T18:27:24.502153Z",
     "iopub.status.idle": "2022-07-07T18:27:24.505048Z",
     "shell.execute_reply": "2022-07-07T18:27:24.504527Z"
    },
    "papermill": {
     "duration": 0.12848,
     "end_time": "2022-07-07T18:27:24.506866",
     "exception": false,
     "start_time": "2022-07-07T18:27:24.378386",
     "status": "completed"
    },
    "tags": []
   },
   "outputs": [],
   "source": [
    "#!pip install xgboost"
   ]
  },
  {
   "cell_type": "code",
   "execution_count": 61,
   "id": "b6c99411",
   "metadata": {
    "execution": {
     "iopub.execute_input": "2022-07-07T18:27:24.756925Z",
     "iopub.status.busy": "2022-07-07T18:27:24.756409Z",
     "iopub.status.idle": "2022-07-07T18:27:24.759614Z",
     "shell.execute_reply": "2022-07-07T18:27:24.759079Z"
    },
    "papermill": {
     "duration": 0.12953,
     "end_time": "2022-07-07T18:27:24.761339",
     "exception": false,
     "start_time": "2022-07-07T18:27:24.631809",
     "status": "completed"
    },
    "tags": []
   },
   "outputs": [],
   "source": [
    "import xgboost as xgb"
   ]
  },
  {
   "cell_type": "code",
   "execution_count": 62,
   "id": "cf07dd67",
   "metadata": {
    "execution": {
     "iopub.execute_input": "2022-07-07T18:27:25.008212Z",
     "iopub.status.busy": "2022-07-07T18:27:25.007657Z",
     "iopub.status.idle": "2022-07-07T18:27:25.036425Z",
     "shell.execute_reply": "2022-07-07T18:27:25.035653Z"
    },
    "papermill": {
     "duration": 0.154606,
     "end_time": "2022-07-07T18:27:25.038836",
     "exception": false,
     "start_time": "2022-07-07T18:27:24.884230",
     "status": "completed"
    },
    "tags": []
   },
   "outputs": [],
   "source": [
    "# Asagidaki Yapilar xgb'nin Ozel Veri Yapisi\n",
    "\n",
    "# ( Gelistiricileri Soyle Demis : Eger Bu Modeli Kullanicaksaniz Pandas Veya Numpy Arrayleri Yerine xgb'nin Veri Yapisini Kullanin Daha Iyi Demis )\n",
    "\n",
    "\n",
    "DM_train = xgb.DMatrix(data = X_train, label = y_train)\n",
    "DM_test = xgb.DMatrix(data = X_test, label = y_test)"
   ]
  },
  {
   "cell_type": "code",
   "execution_count": 63,
   "id": "1f9f4932",
   "metadata": {
    "execution": {
     "iopub.execute_input": "2022-07-07T18:27:25.286841Z",
     "iopub.status.busy": "2022-07-07T18:27:25.286328Z",
     "iopub.status.idle": "2022-07-07T18:27:25.289693Z",
     "shell.execute_reply": "2022-07-07T18:27:25.289063Z"
    },
    "papermill": {
     "duration": 0.128267,
     "end_time": "2022-07-07T18:27:25.291474",
     "exception": false,
     "start_time": "2022-07-07T18:27:25.163207",
     "status": "completed"
    },
    "tags": []
   },
   "outputs": [],
   "source": [
    "from xgboost import XGBRegressor"
   ]
  },
  {
   "cell_type": "code",
   "execution_count": 64,
   "id": "3fcd3686",
   "metadata": {
    "execution": {
     "iopub.execute_input": "2022-07-07T18:27:25.536545Z",
     "iopub.status.busy": "2022-07-07T18:27:25.536250Z",
     "iopub.status.idle": "2022-07-07T18:27:25.846202Z",
     "shell.execute_reply": "2022-07-07T18:27:25.845484Z"
    },
    "papermill": {
     "duration": 0.435224,
     "end_time": "2022-07-07T18:27:25.848500",
     "exception": false,
     "start_time": "2022-07-07T18:27:25.413276",
     "status": "completed"
    },
    "tags": []
   },
   "outputs": [],
   "source": [
    "xgb_model = XGBRegressor().fit(X_train, y_train) # Model Kurma Islemi Bu Kadar"
   ]
  },
  {
   "cell_type": "markdown",
   "id": "703cdd28",
   "metadata": {
    "papermill": {
     "duration": 0.124969,
     "end_time": "2022-07-07T18:27:26.099174",
     "exception": false,
     "start_time": "2022-07-07T18:27:25.974205",
     "status": "completed"
    },
    "tags": []
   },
   "source": [
    "## Tahmin"
   ]
  },
  {
   "cell_type": "code",
   "execution_count": 65,
   "id": "cae9d408",
   "metadata": {
    "execution": {
     "iopub.execute_input": "2022-07-07T18:27:26.345263Z",
     "iopub.status.busy": "2022-07-07T18:27:26.344953Z",
     "iopub.status.idle": "2022-07-07T18:27:26.370635Z",
     "shell.execute_reply": "2022-07-07T18:27:26.369761Z"
    },
    "papermill": {
     "duration": 0.151581,
     "end_time": "2022-07-07T18:27:26.372949",
     "exception": false,
     "start_time": "2022-07-07T18:27:26.221368",
     "status": "completed"
    },
    "tags": []
   },
   "outputs": [
    {
     "data": {
      "text/plain": [
       "355.46515176059927"
      ]
     },
     "execution_count": 65,
     "metadata": {},
     "output_type": "execute_result"
    }
   ],
   "source": [
    "y_pred = xgb_model.predict(X_test)\n",
    "np.sqrt(mean_squared_error(y_test, y_pred))"
   ]
  },
  {
   "cell_type": "markdown",
   "id": "d435d19f",
   "metadata": {
    "papermill": {
     "duration": 0.122722,
     "end_time": "2022-07-07T18:27:26.618271",
     "exception": false,
     "start_time": "2022-07-07T18:27:26.495549",
     "status": "completed"
    },
    "tags": []
   },
   "source": [
    "## Model Tuning"
   ]
  },
  {
   "cell_type": "code",
   "execution_count": 66,
   "id": "786f9ed8",
   "metadata": {
    "execution": {
     "iopub.execute_input": "2022-07-07T18:27:26.866976Z",
     "iopub.status.busy": "2022-07-07T18:27:26.866400Z",
     "iopub.status.idle": "2022-07-07T18:27:26.877794Z",
     "shell.execute_reply": "2022-07-07T18:27:26.876922Z"
    },
    "papermill": {
     "duration": 0.138512,
     "end_time": "2022-07-07T18:27:26.879834",
     "exception": false,
     "start_time": "2022-07-07T18:27:26.741322",
     "status": "completed"
    },
    "tags": []
   },
   "outputs": [
    {
     "data": {
      "text/plain": [
       "XGBRegressor(base_score=0.5, booster='gbtree', callbacks=None,\n",
       "             colsample_bylevel=1, colsample_bynode=1, colsample_bytree=1,\n",
       "             early_stopping_rounds=None, enable_categorical=False,\n",
       "             eval_metric=None, gamma=0, gpu_id=-1, grow_policy='depthwise',\n",
       "             importance_type=None, interaction_constraints='',\n",
       "             learning_rate=0.300000012, max_bin=256, max_cat_to_onehot=4,\n",
       "             max_delta_step=0, max_depth=6, max_leaves=0, min_child_weight=1,\n",
       "             missing=nan, monotone_constraints='()', n_estimators=100, n_jobs=0,\n",
       "             num_parallel_tree=1, predictor='auto', random_state=0, reg_alpha=0,\n",
       "             reg_lambda=1, ...)"
      ]
     },
     "execution_count": 66,
     "metadata": {},
     "output_type": "execute_result"
    }
   ],
   "source": [
    "xgb_model\n",
    "\n",
    "# Onemli Parametreler\n",
    "\n",
    "\n",
    "# Agaca Dayali Bir Booster ( booster='gbtree' ) Kullanicaz \n",
    "# colsample_bytree=1 ---->> Agac Basina Degiskenlerden Alinacak Olan Ornek Orani Gibi Bir Ifadesi Var Bunun \n",
    "# learning_rate=0.300000012 ------>> Onceki Bolumlerde Kullnadigimiz ( Onemli ) Parametrelerden Birisi ---->> Daraltma Adim Boyu Olarak Geciyor Bu Over_Fitting'i Engellemek ----->>\n",
    "# ---->> Icin Kullandigimiz Degiskenlerden Birisi Bu 0 Ile 1 Arasinda Deger Almasini Bekliyoruz Normalde ( Cok Kucuk Olmasi Tahmin Suresini Arttirip Uzatsada Basarilari Arttirir )\n",
    "# max_depth=6 ---> Maximum Derinlik --->> Over_Fittig'in Onune Gecmek Icin Kullanabildigimiz Ve Karmasiklik Parametresi Olarak Adlandirabilecegimiz ( Ciddi Etkisi Olan ) Parametre\n",
    "# n_estimators=100 "
   ]
  },
  {
   "cell_type": "code",
   "execution_count": 67,
   "id": "c7878d0c",
   "metadata": {
    "execution": {
     "iopub.execute_input": "2022-07-07T18:27:27.131366Z",
     "iopub.status.busy": "2022-07-07T18:27:27.130546Z",
     "iopub.status.idle": "2022-07-07T18:27:27.136019Z",
     "shell.execute_reply": "2022-07-07T18:27:27.135455Z"
    },
    "papermill": {
     "duration": 0.132778,
     "end_time": "2022-07-07T18:27:27.137845",
     "exception": false,
     "start_time": "2022-07-07T18:27:27.005067",
     "status": "completed"
    },
    "tags": []
   },
   "outputs": [],
   "source": [
    "xgb_grid = {\n",
    "     'colsample_bytree': [0.4, 0.5,0.6,0.9,1], # Veri Setimiz Buyuk Olmadigindan Dolayi Buradaki Degerlerin Yakin Cikmasini Bekledik\n",
    "     'n_estimators':[100, 200, 500, 1000],\n",
    "     'max_depth': [2,3,4,5,6],\n",
    "     'learning_rate': [0.1, 0.01, 0.5] # Burayi Daha Dusuk Biraktik Sureyi Uzatmamasi Adina \n",
    "}\n"
   ]
  },
  {
   "cell_type": "code",
   "execution_count": 68,
   "id": "74d57b57",
   "metadata": {
    "execution": {
     "iopub.execute_input": "2022-07-07T18:27:27.386117Z",
     "iopub.status.busy": "2022-07-07T18:27:27.385801Z",
     "iopub.status.idle": "2022-07-07T18:27:27.391067Z",
     "shell.execute_reply": "2022-07-07T18:27:27.390326Z"
    },
    "papermill": {
     "duration": 0.132491,
     "end_time": "2022-07-07T18:27:27.393127",
     "exception": false,
     "start_time": "2022-07-07T18:27:27.260636",
     "status": "completed"
    },
    "tags": []
   },
   "outputs": [
    {
     "data": {
      "text/plain": [
       "'\\nxgb = XGBRegressor()\\n\\nxgb_cv = GridSearchCV(xgb, \\n                      param_grid = xgb_grid, \\n                      cv = 10, \\n                      n_jobs = -1,\\n                      verbose = 2)\\n\\n\\nxgb_cv.fit(X_train, y_train)\\n\\n'"
      ]
     },
     "execution_count": 68,
     "metadata": {},
     "output_type": "execute_result"
    }
   ],
   "source": [
    "\"\"\"\n",
    "xgb = XGBRegressor()\n",
    "\n",
    "xgb_cv = GridSearchCV(xgb, \n",
    "                      param_grid = xgb_grid, \n",
    "                      cv = 10, \n",
    "                      n_jobs = -1,\n",
    "                      verbose = 2)\n",
    "\n",
    "\n",
    "xgb_cv.fit(X_train, y_train)\n",
    "\n",
    "\"\"\""
   ]
  },
  {
   "cell_type": "code",
   "execution_count": 69,
   "id": "0bbb65b4",
   "metadata": {
    "execution": {
     "iopub.execute_input": "2022-07-07T18:27:27.642831Z",
     "iopub.status.busy": "2022-07-07T18:27:27.642508Z",
     "iopub.status.idle": "2022-07-07T18:27:27.648423Z",
     "shell.execute_reply": "2022-07-07T18:27:27.647651Z"
    },
    "papermill": {
     "duration": 0.134086,
     "end_time": "2022-07-07T18:27:27.650312",
     "exception": false,
     "start_time": "2022-07-07T18:27:27.516226",
     "status": "completed"
    },
    "tags": []
   },
   "outputs": [
    {
     "data": {
      "text/plain": [
       "\"\\n\\nEn Iyi Degerler\\n\\n\\n\\n{'colsample_bytree': 0.6,\\n 'learning_rate': 0.1,\\n 'max_depth': 2,\\n 'n_estimators': 1000}\\n\\n\\n\""
      ]
     },
     "execution_count": 69,
     "metadata": {},
     "output_type": "execute_result"
    }
   ],
   "source": [
    "\"\"\"\n",
    "xgb_cv.best_params_\n",
    "\n",
    "\"\"\"\n",
    "\n",
    "# -------------------------\n",
    "\n",
    "\"\"\"\n",
    "\n",
    "En Iyi Degerler\n",
    "\n",
    "\n",
    "\n",
    "{'colsample_bytree': 0.6,\n",
    " 'learning_rate': 0.1,\n",
    " 'max_depth': 2,\n",
    " 'n_estimators': 1000}\n",
    "\n",
    "\n",
    "\"\"\""
   ]
  },
  {
   "cell_type": "code",
   "execution_count": 70,
   "id": "ab371f5d",
   "metadata": {
    "execution": {
     "iopub.execute_input": "2022-07-07T18:27:27.899420Z",
     "iopub.status.busy": "2022-07-07T18:27:27.898644Z",
     "iopub.status.idle": "2022-07-07T18:27:30.252630Z",
     "shell.execute_reply": "2022-07-07T18:27:30.251952Z"
    },
    "papermill": {
     "duration": 2.481185,
     "end_time": "2022-07-07T18:27:30.254950",
     "exception": false,
     "start_time": "2022-07-07T18:27:27.773765",
     "status": "completed"
    },
    "tags": []
   },
   "outputs": [],
   "source": [
    "xgb_tuned = XGBRegressor(colsample_bytree = 0.6, \n",
    "                         learning_rate = 0.1, \n",
    "                         max_depth = 2, \n",
    "                         n_estimators = 1000) \n",
    "\n",
    "xgb_tuned = xgb_tuned.fit(X_train,y_train)"
   ]
  },
  {
   "cell_type": "code",
   "execution_count": 71,
   "id": "c6d2cb10",
   "metadata": {
    "execution": {
     "iopub.execute_input": "2022-07-07T18:27:30.503140Z",
     "iopub.status.busy": "2022-07-07T18:27:30.502815Z",
     "iopub.status.idle": "2022-07-07T18:27:30.515626Z",
     "shell.execute_reply": "2022-07-07T18:27:30.514982Z"
    },
    "papermill": {
     "duration": 0.138617,
     "end_time": "2022-07-07T18:27:30.517660",
     "exception": false,
     "start_time": "2022-07-07T18:27:30.379043",
     "status": "completed"
    },
    "tags": []
   },
   "outputs": [
    {
     "data": {
      "text/plain": [
       "345.939380238651"
      ]
     },
     "execution_count": 71,
     "metadata": {},
     "output_type": "execute_result"
    }
   ],
   "source": [
    "y_pred = xgb_tuned.predict(X_test)\n",
    "np.sqrt(mean_squared_error(y_test, y_pred))"
   ]
  },
  {
   "cell_type": "markdown",
   "id": "cc247198",
   "metadata": {
    "papermill": {
     "duration": 0.124501,
     "end_time": "2022-07-07T18:27:30.768070",
     "exception": false,
     "start_time": "2022-07-07T18:27:30.643569",
     "status": "completed"
    },
    "tags": []
   },
   "source": [
    "Model Kullanirken Neye Dikkat Etmeliyiz\n",
    "\n",
    "* Kullanicak Oldugumuz Modelin Onemli Parametreleri Belirlenir ( Mesela Yukaridaki Problem Icin En Oneli Parametre ( learning_rate = 0.1 ) Ondan Sonra ( max_depth = 2 ) Oldugunu Dusunelim Bunlar Belirlendikten Sonra\n",
    "* Parametrelerin On Tanimli Degerleri Sabit Birakilir, Oncelikle En Onemli Olan Parametrenin Degerleri Aranir Ve Bulunduktan Sonra Benzer Islem Bir Sonraki En Onemli Parametre Icin yapilir ( Birini Yaparken Digerlerini Sabitliyoruz, Sadece Bir Tanesine Bakiyoruz )\n",
    "* Bunlari Birde Carpistirarak Genel Durumu Gozlemleyecek Sekilde Bir Gelismis Hiper_Parametre Optimizasyonu Denenir"
   ]
  },
  {
   "cell_type": "markdown",
   "id": "d813f571",
   "metadata": {
    "papermill": {
     "duration": 0.124876,
     "end_time": "2022-07-07T18:27:31.017706",
     "exception": false,
     "start_time": "2022-07-07T18:27:30.892830",
     "status": "completed"
    },
    "tags": []
   },
   "source": [
    "# Light GBM"
   ]
  },
  {
   "cell_type": "code",
   "execution_count": 72,
   "id": "713b78bc",
   "metadata": {
    "execution": {
     "iopub.execute_input": "2022-07-07T18:27:31.269178Z",
     "iopub.status.busy": "2022-07-07T18:27:31.268868Z",
     "iopub.status.idle": "2022-07-07T18:27:31.294983Z",
     "shell.execute_reply": "2022-07-07T18:27:31.294236Z"
    },
    "papermill": {
     "duration": 0.153916,
     "end_time": "2022-07-07T18:27:31.297337",
     "exception": false,
     "start_time": "2022-07-07T18:27:31.143421",
     "status": "completed"
    },
    "tags": []
   },
   "outputs": [],
   "source": [
    "hit = pd.read_csv(\"../input/hitterscsv/Hitters.csv\")\n",
    "df = hit.copy()\n",
    "df = df.dropna()\n",
    "dms = pd.get_dummies(df[['League', 'Division', 'NewLeague']])\n",
    "y = df[\"Salary\"]\n",
    "X_ = df.drop(['Salary', 'League', 'Division', 'NewLeague'], axis=1).astype('float64')\n",
    "X = pd.concat([X_, dms[['League_N', 'Division_W', 'NewLeague_N']]], axis=1)\n",
    "X_train, X_test, y_train, y_test = train_test_split(X, y, \n",
    "                                                    test_size=0.25, \n",
    "                                                    random_state=42)\n"
   ]
  },
  {
   "cell_type": "code",
   "execution_count": 73,
   "id": "420a5b59",
   "metadata": {
    "execution": {
     "iopub.execute_input": "2022-07-07T18:27:31.546064Z",
     "iopub.status.busy": "2022-07-07T18:27:31.545804Z",
     "iopub.status.idle": "2022-07-07T18:27:31.549142Z",
     "shell.execute_reply": "2022-07-07T18:27:31.548319Z"
    },
    "papermill": {
     "duration": 0.130042,
     "end_time": "2022-07-07T18:27:31.551173",
     "exception": false,
     "start_time": "2022-07-07T18:27:31.421131",
     "status": "completed"
    },
    "tags": []
   },
   "outputs": [],
   "source": [
    "#!pip install lightgbm"
   ]
  },
  {
   "cell_type": "code",
   "execution_count": 74,
   "id": "86d8323d",
   "metadata": {
    "execution": {
     "iopub.execute_input": "2022-07-07T18:27:31.800790Z",
     "iopub.status.busy": "2022-07-07T18:27:31.799905Z",
     "iopub.status.idle": "2022-07-07T18:27:31.804446Z",
     "shell.execute_reply": "2022-07-07T18:27:31.803476Z"
    },
    "papermill": {
     "duration": 0.131558,
     "end_time": "2022-07-07T18:27:31.806533",
     "exception": false,
     "start_time": "2022-07-07T18:27:31.674975",
     "status": "completed"
    },
    "tags": []
   },
   "outputs": [],
   "source": [
    "from lightgbm import LGBMRegressor"
   ]
  },
  {
   "cell_type": "code",
   "execution_count": 75,
   "id": "67a52831",
   "metadata": {
    "execution": {
     "iopub.execute_input": "2022-07-07T18:27:32.057220Z",
     "iopub.status.busy": "2022-07-07T18:27:32.056419Z",
     "iopub.status.idle": "2022-07-07T18:27:32.060206Z",
     "shell.execute_reply": "2022-07-07T18:27:32.059403Z"
    },
    "papermill": {
     "duration": 0.130709,
     "end_time": "2022-07-07T18:27:32.062265",
     "exception": false,
     "start_time": "2022-07-07T18:27:31.931556",
     "status": "completed"
    },
    "tags": []
   },
   "outputs": [],
   "source": [
    "#conda install -c conda-forge lightgbm ------->> Conda Araciligi Ile Yukleme Islemleri Gerceklestirebiliyoruz ( Bilgilendirme )"
   ]
  },
  {
   "cell_type": "code",
   "execution_count": 76,
   "id": "694a8ac9",
   "metadata": {
    "execution": {
     "iopub.execute_input": "2022-07-07T18:27:32.311720Z",
     "iopub.status.busy": "2022-07-07T18:27:32.311214Z",
     "iopub.status.idle": "2022-07-07T18:27:32.314296Z",
     "shell.execute_reply": "2022-07-07T18:27:32.313700Z"
    },
    "papermill": {
     "duration": 0.129788,
     "end_time": "2022-07-07T18:27:32.316019",
     "exception": false,
     "start_time": "2022-07-07T18:27:32.186231",
     "status": "completed"
    },
    "tags": []
   },
   "outputs": [],
   "source": [
    "# from lightgbm import LGBMRegressor ----->> Burayi Hata Almadan Kurtardik ( Cok Fazla Hata Alinabiliyormus)"
   ]
  },
  {
   "cell_type": "code",
   "execution_count": 77,
   "id": "1282e06f",
   "metadata": {
    "execution": {
     "iopub.execute_input": "2022-07-07T18:27:32.564659Z",
     "iopub.status.busy": "2022-07-07T18:27:32.564154Z",
     "iopub.status.idle": "2022-07-07T18:27:32.756110Z",
     "shell.execute_reply": "2022-07-07T18:27:32.755324Z"
    },
    "papermill": {
     "duration": 0.318895,
     "end_time": "2022-07-07T18:27:32.758530",
     "exception": false,
     "start_time": "2022-07-07T18:27:32.439635",
     "status": "completed"
    },
    "tags": []
   },
   "outputs": [],
   "source": [
    "lgbm = LGBMRegressor()\n",
    "lgbm_model = lgbm.fit(X_train, y_train)"
   ]
  },
  {
   "cell_type": "markdown",
   "id": "b5f06f82",
   "metadata": {
    "papermill": {
     "duration": 0.12463,
     "end_time": "2022-07-07T18:27:33.007011",
     "exception": false,
     "start_time": "2022-07-07T18:27:32.882381",
     "status": "completed"
    },
    "tags": []
   },
   "source": [
    "## Tahmin"
   ]
  },
  {
   "cell_type": "code",
   "execution_count": 78,
   "id": "4459de1c",
   "metadata": {
    "execution": {
     "iopub.execute_input": "2022-07-07T18:27:33.260198Z",
     "iopub.status.busy": "2022-07-07T18:27:33.259664Z",
     "iopub.status.idle": "2022-07-07T18:27:33.266020Z",
     "shell.execute_reply": "2022-07-07T18:27:33.265364Z"
    },
    "papermill": {
     "duration": 0.135376,
     "end_time": "2022-07-07T18:27:33.267880",
     "exception": false,
     "start_time": "2022-07-07T18:27:33.132504",
     "status": "completed"
    },
    "tags": []
   },
   "outputs": [],
   "source": [
    "# !! Burada Farklilik Var Dikkat !!\n",
    "\n",
    "y_pred = lgbm_model.predict(X_test, \n",
    "                            num_iteration = lgbm_model.best_iteration_) # Burada Farklilik Var Dikkat"
   ]
  },
  {
   "cell_type": "code",
   "execution_count": 79,
   "id": "6b3c3731",
   "metadata": {
    "execution": {
     "iopub.execute_input": "2022-07-07T18:27:33.519132Z",
     "iopub.status.busy": "2022-07-07T18:27:33.518544Z",
     "iopub.status.idle": "2022-07-07T18:27:33.524402Z",
     "shell.execute_reply": "2022-07-07T18:27:33.523794Z"
    },
    "papermill": {
     "duration": 0.132529,
     "end_time": "2022-07-07T18:27:33.526099",
     "exception": false,
     "start_time": "2022-07-07T18:27:33.393570",
     "status": "completed"
    },
    "tags": []
   },
   "outputs": [
    {
     "data": {
      "text/plain": [
       "363.8712087611089"
      ]
     },
     "execution_count": 79,
     "metadata": {},
     "output_type": "execute_result"
    }
   ],
   "source": [
    "np.sqrt(mean_squared_error(y_test, y_pred))"
   ]
  },
  {
   "cell_type": "markdown",
   "id": "ac09ca32",
   "metadata": {
    "papermill": {
     "duration": 0.123561,
     "end_time": "2022-07-07T18:27:33.774344",
     "exception": false,
     "start_time": "2022-07-07T18:27:33.650783",
     "status": "completed"
    },
    "tags": []
   },
   "source": [
    "## Model Tuning"
   ]
  },
  {
   "cell_type": "code",
   "execution_count": 80,
   "id": "60c4f723",
   "metadata": {
    "execution": {
     "iopub.execute_input": "2022-07-07T18:27:34.024646Z",
     "iopub.status.busy": "2022-07-07T18:27:34.024157Z",
     "iopub.status.idle": "2022-07-07T18:27:34.029270Z",
     "shell.execute_reply": "2022-07-07T18:27:34.028662Z"
    },
    "papermill": {
     "duration": 0.133455,
     "end_time": "2022-07-07T18:27:34.031027",
     "exception": false,
     "start_time": "2022-07-07T18:27:33.897572",
     "status": "completed"
    },
    "tags": []
   },
   "outputs": [
    {
     "data": {
      "text/plain": [
       "LGBMRegressor()"
      ]
     },
     "execution_count": 80,
     "metadata": {},
     "output_type": "execute_result"
    }
   ],
   "source": [
    "lgbm_model"
   ]
  },
  {
   "cell_type": "code",
   "execution_count": 81,
   "id": "eee95168",
   "metadata": {
    "execution": {
     "iopub.execute_input": "2022-07-07T18:27:34.280258Z",
     "iopub.status.busy": "2022-07-07T18:27:34.279746Z",
     "iopub.status.idle": "2022-07-07T18:27:34.285238Z",
     "shell.execute_reply": "2022-07-07T18:27:34.284612Z"
    },
    "papermill": {
     "duration": 0.132042,
     "end_time": "2022-07-07T18:27:34.286938",
     "exception": false,
     "start_time": "2022-07-07T18:27:34.154896",
     "status": "completed"
    },
    "tags": []
   },
   "outputs": [],
   "source": [
    "lgbm_grid = {\n",
    "    'colsample_bytree': [0.4, 0.5,0.6,0.9,1],\n",
    "    'learning_rate': [0.01, 0.1, 0.5,1],\n",
    "    'n_estimators': [20, 40, 100, 200, 500,1000],\n",
    "    'max_depth': [1,2,3,4,5,6,7,8] }\n",
    "\n",
    "lgbm = LGBMRegressor()\n",
    "lgbm_cv_model = GridSearchCV(lgbm, lgbm_grid, cv=10, n_jobs = -1, verbose = 2)"
   ]
  },
  {
   "cell_type": "code",
   "execution_count": 82,
   "id": "c9aed8cd",
   "metadata": {
    "execution": {
     "iopub.execute_input": "2022-07-07T18:27:34.535828Z",
     "iopub.status.busy": "2022-07-07T18:27:34.535304Z",
     "iopub.status.idle": "2022-07-07T18:27:34.540063Z",
     "shell.execute_reply": "2022-07-07T18:27:34.539324Z"
    },
    "papermill": {
     "duration": 0.131273,
     "end_time": "2022-07-07T18:27:34.541823",
     "exception": false,
     "start_time": "2022-07-07T18:27:34.410550",
     "status": "completed"
    },
    "tags": []
   },
   "outputs": [
    {
     "data": {
      "text/plain": [
       "'\\nlgbm_cv_model.fit(X_train, y_train) # ( Coook Uzun Surdu ) ( Bu Degerlere Gore Calistirma Bu Fit Islemini )\\n\\n'"
      ]
     },
     "execution_count": 82,
     "metadata": {},
     "output_type": "execute_result"
    }
   ],
   "source": [
    "\"\"\"\n",
    "lgbm_cv_model.fit(X_train, y_train) # ( Coook Uzun Surdu ) ( Bu Degerlere Gore Calistirma Bu Fit Islemini )\n",
    "\n",
    "\"\"\""
   ]
  },
  {
   "cell_type": "code",
   "execution_count": 83,
   "id": "615d03dd",
   "metadata": {
    "execution": {
     "iopub.execute_input": "2022-07-07T18:27:34.792710Z",
     "iopub.status.busy": "2022-07-07T18:27:34.792262Z",
     "iopub.status.idle": "2022-07-07T18:27:34.796894Z",
     "shell.execute_reply": "2022-07-07T18:27:34.796142Z"
    },
    "papermill": {
     "duration": 0.132581,
     "end_time": "2022-07-07T18:27:34.798883",
     "exception": false,
     "start_time": "2022-07-07T18:27:34.666302",
     "status": "completed"
    },
    "tags": []
   },
   "outputs": [
    {
     "data": {
      "text/plain": [
       "'\\nlgbm_cv_model.best_params_\\n\\n'"
      ]
     },
     "execution_count": 83,
     "metadata": {},
     "output_type": "execute_result"
    }
   ],
   "source": [
    "\"\"\"\n",
    "lgbm_cv_model.best_params_\n",
    "\n",
    "\"\"\""
   ]
  },
  {
   "cell_type": "code",
   "execution_count": 84,
   "id": "2149edf2",
   "metadata": {
    "execution": {
     "iopub.execute_input": "2022-07-07T18:27:35.050381Z",
     "iopub.status.busy": "2022-07-07T18:27:35.050106Z",
     "iopub.status.idle": "2022-07-07T18:27:35.105737Z",
     "shell.execute_reply": "2022-07-07T18:27:35.104964Z"
    },
    "papermill": {
     "duration": 0.183441,
     "end_time": "2022-07-07T18:27:35.107936",
     "exception": false,
     "start_time": "2022-07-07T18:27:34.924495",
     "status": "completed"
    },
    "tags": []
   },
   "outputs": [],
   "source": [
    "lgbm_tuned = LGBMRegressor(learning_rate = 0.1, \n",
    "                           max_depth = 7, \n",
    "                           n_estimators = 40,\n",
    "                          colsample_bytree = 0.6)\n",
    "\n",
    "lgbm_tuned = lgbm_tuned.fit(X_train,y_train)"
   ]
  },
  {
   "cell_type": "code",
   "execution_count": 85,
   "id": "9b5bd991",
   "metadata": {
    "execution": {
     "iopub.execute_input": "2022-07-07T18:27:35.360226Z",
     "iopub.status.busy": "2022-07-07T18:27:35.359752Z",
     "iopub.status.idle": "2022-07-07T18:27:35.365476Z",
     "shell.execute_reply": "2022-07-07T18:27:35.364880Z"
    },
    "papermill": {
     "duration": 0.134459,
     "end_time": "2022-07-07T18:27:35.367375",
     "exception": false,
     "start_time": "2022-07-07T18:27:35.232916",
     "status": "completed"
    },
    "tags": []
   },
   "outputs": [],
   "source": [
    "y_pred = lgbm_tuned.predict(X_test)"
   ]
  },
  {
   "cell_type": "code",
   "execution_count": 86,
   "id": "0c8982d5",
   "metadata": {
    "execution": {
     "iopub.execute_input": "2022-07-07T18:27:35.618210Z",
     "iopub.status.busy": "2022-07-07T18:27:35.617924Z",
     "iopub.status.idle": "2022-07-07T18:27:35.623377Z",
     "shell.execute_reply": "2022-07-07T18:27:35.622731Z"
    },
    "papermill": {
     "duration": 0.133385,
     "end_time": "2022-07-07T18:27:35.625069",
     "exception": false,
     "start_time": "2022-07-07T18:27:35.491684",
     "status": "completed"
    },
    "tags": []
   },
   "outputs": [
    {
     "data": {
      "text/plain": [
       "372.7342551250238"
      ]
     },
     "execution_count": 86,
     "metadata": {},
     "output_type": "execute_result"
    }
   ],
   "source": [
    "np.sqrt(mean_squared_error(y_test, y_pred))"
   ]
  },
  {
   "cell_type": "markdown",
   "id": "bc308208",
   "metadata": {
    "papermill": {
     "duration": 0.125813,
     "end_time": "2022-07-07T18:27:35.877294",
     "exception": false,
     "start_time": "2022-07-07T18:27:35.751481",
     "status": "completed"
    },
    "tags": []
   },
   "source": [
    "# CatBoost"
   ]
  },
  {
   "cell_type": "code",
   "execution_count": 87,
   "id": "12463807",
   "metadata": {
    "execution": {
     "iopub.execute_input": "2022-07-07T18:27:36.131457Z",
     "iopub.status.busy": "2022-07-07T18:27:36.130723Z",
     "iopub.status.idle": "2022-07-07T18:27:36.152119Z",
     "shell.execute_reply": "2022-07-07T18:27:36.151468Z"
    },
    "papermill": {
     "duration": 0.1509,
     "end_time": "2022-07-07T18:27:36.154218",
     "exception": false,
     "start_time": "2022-07-07T18:27:36.003318",
     "status": "completed"
    },
    "tags": []
   },
   "outputs": [],
   "source": [
    "hit = pd.read_csv(\"../input/hitterscsv/Hitters.csv\")\n",
    "df = hit.copy()\n",
    "df = df.dropna()\n",
    "dms = pd.get_dummies(df[['League', 'Division', 'NewLeague']])\n",
    "y = df[\"Salary\"]\n",
    "X_ = df.drop(['Salary', 'League', 'Division', 'NewLeague'], axis=1).astype('float64')\n",
    "X = pd.concat([X_, dms[['League_N', 'Division_W', 'NewLeague_N']]], axis=1)\n",
    "X_train, X_test, y_train, y_test = train_test_split(X, y, \n",
    "                                                    test_size=0.25, \n",
    "                                                    random_state=42)\n"
   ]
  },
  {
   "cell_type": "code",
   "execution_count": 88,
   "id": "0f9862f6",
   "metadata": {
    "execution": {
     "iopub.execute_input": "2022-07-07T18:27:36.407820Z",
     "iopub.status.busy": "2022-07-07T18:27:36.407306Z",
     "iopub.status.idle": "2022-07-07T18:27:36.410396Z",
     "shell.execute_reply": "2022-07-07T18:27:36.409763Z"
    },
    "papermill": {
     "duration": 0.131984,
     "end_time": "2022-07-07T18:27:36.412117",
     "exception": false,
     "start_time": "2022-07-07T18:27:36.280133",
     "status": "completed"
    },
    "tags": []
   },
   "outputs": [],
   "source": [
    "# !pip install catboost"
   ]
  },
  {
   "cell_type": "code",
   "execution_count": 89,
   "id": "d69855fa",
   "metadata": {
    "execution": {
     "iopub.execute_input": "2022-07-07T18:27:36.664726Z",
     "iopub.status.busy": "2022-07-07T18:27:36.664219Z",
     "iopub.status.idle": "2022-07-07T18:27:36.667586Z",
     "shell.execute_reply": "2022-07-07T18:27:36.667068Z"
    },
    "papermill": {
     "duration": 0.131998,
     "end_time": "2022-07-07T18:27:36.669281",
     "exception": false,
     "start_time": "2022-07-07T18:27:36.537283",
     "status": "completed"
    },
    "tags": []
   },
   "outputs": [],
   "source": [
    "from catboost import CatBoostRegressor"
   ]
  },
  {
   "cell_type": "code",
   "execution_count": 90,
   "id": "6b8b8dc5",
   "metadata": {
    "collapsed": true,
    "execution": {
     "iopub.execute_input": "2022-07-07T18:27:36.922655Z",
     "iopub.status.busy": "2022-07-07T18:27:36.922133Z",
     "iopub.status.idle": "2022-07-07T18:27:38.573048Z",
     "shell.execute_reply": "2022-07-07T18:27:38.571568Z"
    },
    "jupyter": {
     "outputs_hidden": true
    },
    "papermill": {
     "duration": 1.780438,
     "end_time": "2022-07-07T18:27:38.575201",
     "exception": false,
     "start_time": "2022-07-07T18:27:36.794763",
     "status": "completed"
    },
    "tags": []
   },
   "outputs": [
    {
     "name": "stdout",
     "output_type": "stream",
     "text": [
      "Learning rate set to 0.031674\n",
      "0:\tlearn: 437.6430699\ttotal: 58ms\tremaining: 58s\n",
      "1:\tlearn: 431.3923642\ttotal: 60ms\tremaining: 29.9s\n",
      "2:\tlearn: 424.8820360\ttotal: 61.4ms\tremaining: 20.4s\n",
      "3:\tlearn: 418.2514904\ttotal: 62.7ms\tremaining: 15.6s\n",
      "4:\tlearn: 412.6394021\ttotal: 64ms\tremaining: 12.7s\n",
      "5:\tlearn: 406.6247020\ttotal: 65.3ms\tremaining: 10.8s\n",
      "6:\tlearn: 400.5321206\ttotal: 66.5ms\tremaining: 9.44s\n",
      "7:\tlearn: 394.6683437\ttotal: 67.9ms\tremaining: 8.42s\n",
      "8:\tlearn: 388.2496484\ttotal: 69.2ms\tremaining: 7.62s\n",
      "9:\tlearn: 382.9448842\ttotal: 70.5ms\tremaining: 6.98s\n",
      "10:\tlearn: 377.2600080\ttotal: 71.9ms\tremaining: 6.46s\n",
      "11:\tlearn: 372.4829606\ttotal: 73.3ms\tremaining: 6.03s\n",
      "12:\tlearn: 366.6823437\ttotal: 74.7ms\tremaining: 5.67s\n",
      "13:\tlearn: 362.6076230\ttotal: 75.9ms\tremaining: 5.35s\n",
      "14:\tlearn: 358.0107745\ttotal: 77.3ms\tremaining: 5.07s\n",
      "15:\tlearn: 353.2802665\ttotal: 78.4ms\tremaining: 4.82s\n",
      "16:\tlearn: 348.5646265\ttotal: 79.7ms\tremaining: 4.61s\n",
      "17:\tlearn: 343.6407912\ttotal: 81.1ms\tremaining: 4.43s\n",
      "18:\tlearn: 339.2363847\ttotal: 82.4ms\tremaining: 4.25s\n",
      "19:\tlearn: 334.3431252\ttotal: 83.6ms\tremaining: 4.1s\n",
      "20:\tlearn: 330.3247028\ttotal: 84.9ms\tremaining: 3.96s\n",
      "21:\tlearn: 326.6118334\ttotal: 86ms\tremaining: 3.82s\n",
      "22:\tlearn: 322.7759981\ttotal: 87.2ms\tremaining: 3.71s\n",
      "23:\tlearn: 318.9511822\ttotal: 88.4ms\tremaining: 3.59s\n",
      "24:\tlearn: 315.4216253\ttotal: 89.6ms\tremaining: 3.49s\n",
      "25:\tlearn: 311.3551377\ttotal: 90.8ms\tremaining: 3.4s\n",
      "26:\tlearn: 308.1492371\ttotal: 92ms\tremaining: 3.31s\n",
      "27:\tlearn: 304.7284729\ttotal: 93.2ms\tremaining: 3.23s\n",
      "28:\tlearn: 301.3893204\ttotal: 94.5ms\tremaining: 3.16s\n",
      "29:\tlearn: 298.2080758\ttotal: 95.7ms\tremaining: 3.1s\n",
      "30:\tlearn: 295.6878398\ttotal: 97.1ms\tremaining: 3.04s\n",
      "31:\tlearn: 292.3912243\ttotal: 98.4ms\tremaining: 2.98s\n",
      "32:\tlearn: 289.6345744\ttotal: 99.6ms\tremaining: 2.92s\n",
      "33:\tlearn: 287.2158711\ttotal: 101ms\tremaining: 2.86s\n",
      "34:\tlearn: 284.3879081\ttotal: 102ms\tremaining: 2.81s\n",
      "35:\tlearn: 281.7994818\ttotal: 103ms\tremaining: 2.76s\n",
      "36:\tlearn: 279.2028261\ttotal: 104ms\tremaining: 2.72s\n",
      "37:\tlearn: 276.5821160\ttotal: 106ms\tremaining: 2.68s\n",
      "38:\tlearn: 273.8890894\ttotal: 107ms\tremaining: 2.64s\n",
      "39:\tlearn: 271.1681677\ttotal: 108ms\tremaining: 2.6s\n",
      "40:\tlearn: 269.0159531\ttotal: 109ms\tremaining: 2.56s\n",
      "41:\tlearn: 266.3601804\ttotal: 111ms\tremaining: 2.52s\n",
      "42:\tlearn: 263.8608958\ttotal: 112ms\tremaining: 2.49s\n",
      "43:\tlearn: 261.1405566\ttotal: 113ms\tremaining: 2.46s\n",
      "44:\tlearn: 258.9314736\ttotal: 114ms\tremaining: 2.42s\n",
      "45:\tlearn: 256.3885577\ttotal: 116ms\tremaining: 2.4s\n",
      "46:\tlearn: 254.2857349\ttotal: 117ms\tremaining: 2.37s\n",
      "47:\tlearn: 252.2347121\ttotal: 118ms\tremaining: 2.34s\n",
      "48:\tlearn: 250.1779367\ttotal: 120ms\tremaining: 2.32s\n",
      "49:\tlearn: 248.2687430\ttotal: 121ms\tremaining: 2.3s\n",
      "50:\tlearn: 246.3685582\ttotal: 122ms\tremaining: 2.27s\n",
      "51:\tlearn: 244.8719988\ttotal: 123ms\tremaining: 2.25s\n",
      "52:\tlearn: 242.7348892\ttotal: 125ms\tremaining: 2.23s\n",
      "53:\tlearn: 241.1611112\ttotal: 126ms\tremaining: 2.21s\n",
      "54:\tlearn: 239.4819462\ttotal: 127ms\tremaining: 2.19s\n",
      "55:\tlearn: 237.3877895\ttotal: 129ms\tremaining: 2.17s\n",
      "56:\tlearn: 235.7619262\ttotal: 130ms\tremaining: 2.15s\n",
      "57:\tlearn: 233.9604804\ttotal: 132ms\tremaining: 2.14s\n",
      "58:\tlearn: 232.4948011\ttotal: 133ms\tremaining: 2.12s\n",
      "59:\tlearn: 230.6283304\ttotal: 134ms\tremaining: 2.1s\n",
      "60:\tlearn: 228.9920307\ttotal: 136ms\tremaining: 2.09s\n",
      "61:\tlearn: 227.5197637\ttotal: 137ms\tremaining: 2.07s\n",
      "62:\tlearn: 226.0561213\ttotal: 138ms\tremaining: 2.06s\n",
      "63:\tlearn: 224.3484762\ttotal: 140ms\tremaining: 2.04s\n",
      "64:\tlearn: 223.0652023\ttotal: 141ms\tremaining: 2.03s\n",
      "65:\tlearn: 221.6608069\ttotal: 142ms\tremaining: 2.01s\n",
      "66:\tlearn: 220.2445284\ttotal: 144ms\tremaining: 2s\n",
      "67:\tlearn: 219.0044262\ttotal: 145ms\tremaining: 1.99s\n",
      "68:\tlearn: 217.4624313\ttotal: 146ms\tremaining: 1.98s\n",
      "69:\tlearn: 216.0502248\ttotal: 148ms\tremaining: 1.96s\n",
      "70:\tlearn: 214.5361705\ttotal: 149ms\tremaining: 1.95s\n",
      "71:\tlearn: 213.1812509\ttotal: 151ms\tremaining: 1.94s\n",
      "72:\tlearn: 211.7399390\ttotal: 152ms\tremaining: 1.93s\n",
      "73:\tlearn: 210.5557639\ttotal: 153ms\tremaining: 1.92s\n",
      "74:\tlearn: 209.4242283\ttotal: 155ms\tremaining: 1.91s\n",
      "75:\tlearn: 208.4366109\ttotal: 156ms\tremaining: 1.9s\n",
      "76:\tlearn: 207.4514860\ttotal: 157ms\tremaining: 1.89s\n",
      "77:\tlearn: 206.1912213\ttotal: 158ms\tremaining: 1.87s\n",
      "78:\tlearn: 205.2585316\ttotal: 160ms\tremaining: 1.86s\n",
      "79:\tlearn: 203.8747879\ttotal: 161ms\tremaining: 1.85s\n",
      "80:\tlearn: 202.5993031\ttotal: 162ms\tremaining: 1.84s\n",
      "81:\tlearn: 201.4719061\ttotal: 164ms\tremaining: 1.83s\n",
      "82:\tlearn: 200.2871874\ttotal: 165ms\tremaining: 1.82s\n",
      "83:\tlearn: 199.1074683\ttotal: 166ms\tremaining: 1.81s\n",
      "84:\tlearn: 197.8511342\ttotal: 167ms\tremaining: 1.8s\n",
      "85:\tlearn: 196.8788042\ttotal: 169ms\tremaining: 1.79s\n",
      "86:\tlearn: 195.9815130\ttotal: 170ms\tremaining: 1.78s\n",
      "87:\tlearn: 195.0807956\ttotal: 171ms\tremaining: 1.78s\n",
      "88:\tlearn: 193.9775466\ttotal: 173ms\tremaining: 1.77s\n",
      "89:\tlearn: 192.8810426\ttotal: 174ms\tremaining: 1.76s\n",
      "90:\tlearn: 192.5363626\ttotal: 176ms\tremaining: 1.75s\n",
      "91:\tlearn: 191.3259849\ttotal: 178ms\tremaining: 1.76s\n",
      "92:\tlearn: 190.3650025\ttotal: 181ms\tremaining: 1.76s\n",
      "93:\tlearn: 189.3255643\ttotal: 182ms\tremaining: 1.76s\n",
      "94:\tlearn: 188.2433480\ttotal: 184ms\tremaining: 1.75s\n",
      "95:\tlearn: 187.2786096\ttotal: 185ms\tremaining: 1.74s\n",
      "96:\tlearn: 186.1284681\ttotal: 186ms\tremaining: 1.74s\n",
      "97:\tlearn: 185.0190872\ttotal: 188ms\tremaining: 1.73s\n",
      "98:\tlearn: 184.2888024\ttotal: 189ms\tremaining: 1.72s\n",
      "99:\tlearn: 183.3111217\ttotal: 190ms\tremaining: 1.71s\n",
      "100:\tlearn: 182.2519940\ttotal: 192ms\tremaining: 1.71s\n",
      "101:\tlearn: 181.0186200\ttotal: 193ms\tremaining: 1.7s\n",
      "102:\tlearn: 179.9672344\ttotal: 194ms\tremaining: 1.69s\n",
      "103:\tlearn: 178.9776753\ttotal: 196ms\tremaining: 1.69s\n",
      "104:\tlearn: 178.2445101\ttotal: 197ms\tremaining: 1.68s\n",
      "105:\tlearn: 177.4055906\ttotal: 198ms\tremaining: 1.67s\n",
      "106:\tlearn: 176.2405445\ttotal: 200ms\tremaining: 1.67s\n",
      "107:\tlearn: 175.1813091\ttotal: 201ms\tremaining: 1.66s\n",
      "108:\tlearn: 174.5537682\ttotal: 202ms\tremaining: 1.65s\n",
      "109:\tlearn: 173.8231890\ttotal: 203ms\tremaining: 1.65s\n",
      "110:\tlearn: 172.9324461\ttotal: 205ms\tremaining: 1.64s\n",
      "111:\tlearn: 172.0019421\ttotal: 206ms\tremaining: 1.63s\n",
      "112:\tlearn: 171.2945678\ttotal: 207ms\tremaining: 1.63s\n",
      "113:\tlearn: 170.4815313\ttotal: 208ms\tremaining: 1.62s\n",
      "114:\tlearn: 169.9491294\ttotal: 210ms\tremaining: 1.61s\n",
      "115:\tlearn: 169.2483859\ttotal: 211ms\tremaining: 1.61s\n",
      "116:\tlearn: 168.7342383\ttotal: 212ms\tremaining: 1.6s\n",
      "117:\tlearn: 168.1837140\ttotal: 214ms\tremaining: 1.59s\n",
      "118:\tlearn: 167.1222358\ttotal: 215ms\tremaining: 1.59s\n",
      "119:\tlearn: 166.3472734\ttotal: 216ms\tremaining: 1.58s\n",
      "120:\tlearn: 165.5330342\ttotal: 217ms\tremaining: 1.58s\n",
      "121:\tlearn: 164.8476246\ttotal: 219ms\tremaining: 1.57s\n",
      "122:\tlearn: 164.2399797\ttotal: 220ms\tremaining: 1.57s\n",
      "123:\tlearn: 164.0121571\ttotal: 221ms\tremaining: 1.56s\n",
      "124:\tlearn: 162.9794212\ttotal: 223ms\tremaining: 1.56s\n",
      "125:\tlearn: 162.2095741\ttotal: 224ms\tremaining: 1.55s\n",
      "126:\tlearn: 161.1695920\ttotal: 225ms\tremaining: 1.55s\n",
      "127:\tlearn: 160.3516612\ttotal: 226ms\tremaining: 1.54s\n",
      "128:\tlearn: 159.1596356\ttotal: 228ms\tremaining: 1.54s\n",
      "129:\tlearn: 158.5354394\ttotal: 229ms\tremaining: 1.53s\n",
      "130:\tlearn: 157.5922383\ttotal: 230ms\tremaining: 1.53s\n",
      "131:\tlearn: 156.9689796\ttotal: 232ms\tremaining: 1.52s\n",
      "132:\tlearn: 156.4170623\ttotal: 233ms\tremaining: 1.52s\n",
      "133:\tlearn: 156.1222595\ttotal: 234ms\tremaining: 1.51s\n",
      "134:\tlearn: 155.5996569\ttotal: 236ms\tremaining: 1.51s\n",
      "135:\tlearn: 154.8990155\ttotal: 237ms\tremaining: 1.5s\n",
      "136:\tlearn: 154.3704896\ttotal: 238ms\tremaining: 1.5s\n",
      "137:\tlearn: 153.8560012\ttotal: 239ms\tremaining: 1.49s\n",
      "138:\tlearn: 153.2399938\ttotal: 240ms\tremaining: 1.49s\n",
      "139:\tlearn: 152.2142414\ttotal: 242ms\tremaining: 1.48s\n",
      "140:\tlearn: 151.5976950\ttotal: 243ms\tremaining: 1.48s\n",
      "141:\tlearn: 151.4426506\ttotal: 245ms\tremaining: 1.48s\n",
      "142:\tlearn: 150.8467135\ttotal: 246ms\tremaining: 1.47s\n",
      "143:\tlearn: 150.0175883\ttotal: 247ms\tremaining: 1.47s\n",
      "144:\tlearn: 149.6327647\ttotal: 249ms\tremaining: 1.47s\n",
      "145:\tlearn: 148.9265718\ttotal: 250ms\tremaining: 1.46s\n",
      "146:\tlearn: 148.4460764\ttotal: 251ms\tremaining: 1.46s\n",
      "147:\tlearn: 147.8108318\ttotal: 253ms\tremaining: 1.45s\n",
      "148:\tlearn: 147.2766525\ttotal: 254ms\tremaining: 1.45s\n",
      "149:\tlearn: 146.8537279\ttotal: 255ms\tremaining: 1.45s\n",
      "150:\tlearn: 146.0227438\ttotal: 256ms\tremaining: 1.44s\n",
      "151:\tlearn: 145.5603059\ttotal: 258ms\tremaining: 1.44s\n",
      "152:\tlearn: 145.0318400\ttotal: 259ms\tremaining: 1.43s\n",
      "153:\tlearn: 144.6082188\ttotal: 260ms\tremaining: 1.43s\n",
      "154:\tlearn: 144.2070501\ttotal: 262ms\tremaining: 1.43s\n",
      "155:\tlearn: 143.8060676\ttotal: 263ms\tremaining: 1.42s\n",
      "156:\tlearn: 143.3819707\ttotal: 264ms\tremaining: 1.42s\n",
      "157:\tlearn: 143.0764402\ttotal: 266ms\tremaining: 1.42s\n",
      "158:\tlearn: 142.4609449\ttotal: 267ms\tremaining: 1.41s\n",
      "159:\tlearn: 142.3321970\ttotal: 268ms\tremaining: 1.41s\n",
      "160:\tlearn: 141.9044208\ttotal: 270ms\tremaining: 1.41s\n",
      "161:\tlearn: 141.4544471\ttotal: 271ms\tremaining: 1.4s\n",
      "162:\tlearn: 140.9391569\ttotal: 272ms\tremaining: 1.4s\n",
      "163:\tlearn: 140.3413557\ttotal: 273ms\tremaining: 1.39s\n",
      "164:\tlearn: 139.7992277\ttotal: 275ms\tremaining: 1.39s\n",
      "165:\tlearn: 139.3139418\ttotal: 276ms\tremaining: 1.39s\n",
      "166:\tlearn: 139.1617594\ttotal: 278ms\tremaining: 1.39s\n",
      "167:\tlearn: 138.8837397\ttotal: 279ms\tremaining: 1.38s\n",
      "168:\tlearn: 138.6951410\ttotal: 280ms\tremaining: 1.38s\n",
      "169:\tlearn: 138.0167618\ttotal: 282ms\tremaining: 1.37s\n",
      "170:\tlearn: 137.7020324\ttotal: 283ms\tremaining: 1.37s\n",
      "171:\tlearn: 137.1976478\ttotal: 284ms\tremaining: 1.37s\n",
      "172:\tlearn: 136.6670434\ttotal: 286ms\tremaining: 1.36s\n",
      "173:\tlearn: 136.4670074\ttotal: 287ms\tremaining: 1.36s\n",
      "174:\tlearn: 136.0663779\ttotal: 288ms\tremaining: 1.36s\n",
      "175:\tlearn: 135.9542221\ttotal: 289ms\tremaining: 1.35s\n",
      "176:\tlearn: 135.6178437\ttotal: 291ms\tremaining: 1.35s\n",
      "177:\tlearn: 134.6062854\ttotal: 292ms\tremaining: 1.35s\n",
      "178:\tlearn: 134.5063344\ttotal: 293ms\tremaining: 1.34s\n",
      "179:\tlearn: 133.9371247\ttotal: 294ms\tremaining: 1.34s\n",
      "180:\tlearn: 133.8431589\ttotal: 294ms\tremaining: 1.33s\n",
      "181:\tlearn: 133.4293648\ttotal: 296ms\tremaining: 1.33s\n",
      "182:\tlearn: 133.2065999\ttotal: 297ms\tremaining: 1.32s\n",
      "183:\tlearn: 132.9235113\ttotal: 298ms\tremaining: 1.32s\n",
      "184:\tlearn: 132.6695944\ttotal: 300ms\tremaining: 1.32s\n",
      "185:\tlearn: 132.3135234\ttotal: 301ms\tremaining: 1.32s\n",
      "186:\tlearn: 132.2233433\ttotal: 302ms\tremaining: 1.31s\n",
      "187:\tlearn: 132.0628764\ttotal: 303ms\tremaining: 1.31s\n",
      "188:\tlearn: 131.8624217\ttotal: 305ms\tremaining: 1.31s\n",
      "189:\tlearn: 131.3846390\ttotal: 306ms\tremaining: 1.3s\n",
      "190:\tlearn: 131.0638781\ttotal: 307ms\tremaining: 1.3s\n",
      "191:\tlearn: 130.4721276\ttotal: 308ms\tremaining: 1.3s\n",
      "192:\tlearn: 129.9910319\ttotal: 310ms\tremaining: 1.29s\n",
      "193:\tlearn: 129.7074214\ttotal: 311ms\tremaining: 1.29s\n",
      "194:\tlearn: 129.0491404\ttotal: 312ms\tremaining: 1.29s\n",
      "195:\tlearn: 128.6928621\ttotal: 313ms\tremaining: 1.28s\n",
      "196:\tlearn: 128.5117514\ttotal: 315ms\tremaining: 1.28s\n",
      "197:\tlearn: 128.4035709\ttotal: 316ms\tremaining: 1.28s\n",
      "198:\tlearn: 127.9924182\ttotal: 317ms\tremaining: 1.28s\n",
      "199:\tlearn: 127.7690317\ttotal: 318ms\tremaining: 1.27s\n",
      "200:\tlearn: 127.6252249\ttotal: 320ms\tremaining: 1.27s\n",
      "201:\tlearn: 127.4951417\ttotal: 321ms\tremaining: 1.27s\n",
      "202:\tlearn: 127.0315349\ttotal: 322ms\tremaining: 1.26s\n",
      "203:\tlearn: 126.7791475\ttotal: 323ms\tremaining: 1.26s\n",
      "204:\tlearn: 126.4903107\ttotal: 325ms\tremaining: 1.26s\n",
      "205:\tlearn: 126.0664803\ttotal: 326ms\tremaining: 1.26s\n",
      "206:\tlearn: 125.3934071\ttotal: 327ms\tremaining: 1.25s\n",
      "207:\tlearn: 125.0899622\ttotal: 329ms\tremaining: 1.25s\n",
      "208:\tlearn: 124.7757310\ttotal: 330ms\tremaining: 1.25s\n",
      "209:\tlearn: 124.5475960\ttotal: 331ms\tremaining: 1.25s\n",
      "210:\tlearn: 124.1962887\ttotal: 333ms\tremaining: 1.24s\n",
      "211:\tlearn: 123.9686937\ttotal: 334ms\tremaining: 1.24s\n",
      "212:\tlearn: 123.0280048\ttotal: 335ms\tremaining: 1.24s\n",
      "213:\tlearn: 122.5447141\ttotal: 336ms\tremaining: 1.24s\n",
      "214:\tlearn: 122.1785305\ttotal: 338ms\tremaining: 1.23s\n",
      "215:\tlearn: 121.4403560\ttotal: 339ms\tremaining: 1.23s\n",
      "216:\tlearn: 120.8269584\ttotal: 341ms\tremaining: 1.23s\n",
      "217:\tlearn: 120.2399329\ttotal: 342ms\tremaining: 1.23s\n",
      "218:\tlearn: 119.4852557\ttotal: 343ms\tremaining: 1.22s\n",
      "219:\tlearn: 119.2094151\ttotal: 345ms\tremaining: 1.22s\n",
      "220:\tlearn: 119.0417229\ttotal: 346ms\tremaining: 1.22s\n",
      "221:\tlearn: 118.9557915\ttotal: 347ms\tremaining: 1.22s\n",
      "222:\tlearn: 118.3082421\ttotal: 348ms\tremaining: 1.21s\n",
      "223:\tlearn: 117.7364211\ttotal: 349ms\tremaining: 1.21s\n",
      "224:\tlearn: 117.6324235\ttotal: 351ms\tremaining: 1.21s\n",
      "225:\tlearn: 117.2879743\ttotal: 352ms\tremaining: 1.21s\n",
      "226:\tlearn: 117.0422612\ttotal: 353ms\tremaining: 1.2s\n",
      "227:\tlearn: 116.8001379\ttotal: 355ms\tremaining: 1.2s\n",
      "228:\tlearn: 116.4854978\ttotal: 357ms\tremaining: 1.2s\n",
      "229:\tlearn: 115.7559740\ttotal: 360ms\tremaining: 1.2s\n",
      "230:\tlearn: 115.1896271\ttotal: 361ms\tremaining: 1.2s\n",
      "231:\tlearn: 114.9666291\ttotal: 363ms\tremaining: 1.2s\n",
      "232:\tlearn: 114.1239318\ttotal: 364ms\tremaining: 1.2s\n",
      "233:\tlearn: 113.9964466\ttotal: 366ms\tremaining: 1.2s\n",
      "234:\tlearn: 113.8912592\ttotal: 367ms\tremaining: 1.19s\n",
      "235:\tlearn: 113.4606970\ttotal: 368ms\tremaining: 1.19s\n",
      "236:\tlearn: 113.0958922\ttotal: 370ms\tremaining: 1.19s\n",
      "237:\tlearn: 113.0091361\ttotal: 371ms\tremaining: 1.19s\n",
      "238:\tlearn: 112.7657197\ttotal: 372ms\tremaining: 1.19s\n",
      "239:\tlearn: 112.2315070\ttotal: 374ms\tremaining: 1.18s\n",
      "240:\tlearn: 111.9507125\ttotal: 375ms\tremaining: 1.18s\n",
      "241:\tlearn: 111.7384492\ttotal: 376ms\tremaining: 1.18s\n",
      "242:\tlearn: 111.0693763\ttotal: 378ms\tremaining: 1.18s\n",
      "243:\tlearn: 110.3499926\ttotal: 379ms\tremaining: 1.17s\n",
      "244:\tlearn: 110.2316231\ttotal: 380ms\tremaining: 1.17s\n",
      "245:\tlearn: 109.6985998\ttotal: 381ms\tremaining: 1.17s\n",
      "246:\tlearn: 109.4279824\ttotal: 383ms\tremaining: 1.17s\n",
      "247:\tlearn: 109.1466762\ttotal: 384ms\tremaining: 1.16s\n",
      "248:\tlearn: 108.9628542\ttotal: 385ms\tremaining: 1.16s\n",
      "249:\tlearn: 108.7268676\ttotal: 387ms\tremaining: 1.16s\n",
      "250:\tlearn: 108.0921190\ttotal: 388ms\tremaining: 1.16s\n",
      "251:\tlearn: 107.6167844\ttotal: 389ms\tremaining: 1.16s\n",
      "252:\tlearn: 106.9716563\ttotal: 391ms\tremaining: 1.15s\n",
      "253:\tlearn: 106.4272485\ttotal: 392ms\tremaining: 1.15s\n",
      "254:\tlearn: 106.2032614\ttotal: 393ms\tremaining: 1.15s\n",
      "255:\tlearn: 105.5756794\ttotal: 395ms\tremaining: 1.15s\n",
      "256:\tlearn: 105.4918649\ttotal: 396ms\tremaining: 1.14s\n",
      "257:\tlearn: 105.2466976\ttotal: 397ms\tremaining: 1.14s\n",
      "258:\tlearn: 105.0461428\ttotal: 398ms\tremaining: 1.14s\n",
      "259:\tlearn: 104.5887628\ttotal: 400ms\tremaining: 1.14s\n",
      "260:\tlearn: 104.1305873\ttotal: 401ms\tremaining: 1.14s\n",
      "261:\tlearn: 103.5527158\ttotal: 402ms\tremaining: 1.13s\n",
      "262:\tlearn: 103.0334823\ttotal: 403ms\tremaining: 1.13s\n",
      "263:\tlearn: 102.6732388\ttotal: 405ms\tremaining: 1.13s\n",
      "264:\tlearn: 102.4678728\ttotal: 406ms\tremaining: 1.13s\n",
      "265:\tlearn: 101.9608852\ttotal: 407ms\tremaining: 1.12s\n",
      "266:\tlearn: 101.4449668\ttotal: 409ms\tremaining: 1.12s\n",
      "267:\tlearn: 100.9647899\ttotal: 410ms\tremaining: 1.12s\n",
      "268:\tlearn: 100.4376357\ttotal: 411ms\tremaining: 1.12s\n",
      "269:\tlearn: 100.1038322\ttotal: 412ms\tremaining: 1.11s\n",
      "270:\tlearn: 99.8991183\ttotal: 414ms\tremaining: 1.11s\n",
      "271:\tlearn: 99.4016031\ttotal: 415ms\tremaining: 1.11s\n",
      "272:\tlearn: 98.9231252\ttotal: 416ms\tremaining: 1.11s\n",
      "273:\tlearn: 98.5734863\ttotal: 417ms\tremaining: 1.11s\n",
      "274:\tlearn: 98.3333355\ttotal: 419ms\tremaining: 1.1s\n",
      "275:\tlearn: 97.9164082\ttotal: 420ms\tremaining: 1.1s\n",
      "276:\tlearn: 97.3911203\ttotal: 422ms\tremaining: 1.1s\n",
      "277:\tlearn: 96.9317789\ttotal: 424ms\tremaining: 1.1s\n",
      "278:\tlearn: 96.6243997\ttotal: 425ms\tremaining: 1.1s\n",
      "279:\tlearn: 96.3288821\ttotal: 426ms\tremaining: 1.09s\n",
      "280:\tlearn: 95.8579534\ttotal: 427ms\tremaining: 1.09s\n",
      "281:\tlearn: 95.4136026\ttotal: 429ms\tremaining: 1.09s\n",
      "282:\tlearn: 95.3442077\ttotal: 430ms\tremaining: 1.09s\n",
      "283:\tlearn: 95.1166584\ttotal: 431ms\tremaining: 1.09s\n",
      "284:\tlearn: 94.8017360\ttotal: 433ms\tremaining: 1.08s\n",
      "285:\tlearn: 94.5863908\ttotal: 434ms\tremaining: 1.08s\n",
      "286:\tlearn: 94.4111694\ttotal: 435ms\tremaining: 1.08s\n",
      "287:\tlearn: 94.2678024\ttotal: 437ms\tremaining: 1.08s\n",
      "288:\tlearn: 93.7753419\ttotal: 438ms\tremaining: 1.08s\n",
      "289:\tlearn: 93.3772710\ttotal: 439ms\tremaining: 1.07s\n",
      "290:\tlearn: 92.8750904\ttotal: 440ms\tremaining: 1.07s\n",
      "291:\tlearn: 92.6654794\ttotal: 442ms\tremaining: 1.07s\n",
      "292:\tlearn: 92.2659876\ttotal: 443ms\tremaining: 1.07s\n",
      "293:\tlearn: 92.0282495\ttotal: 444ms\tremaining: 1.07s\n",
      "294:\tlearn: 91.8288855\ttotal: 446ms\tremaining: 1.06s\n",
      "295:\tlearn: 91.6752612\ttotal: 447ms\tremaining: 1.06s\n",
      "296:\tlearn: 91.2561883\ttotal: 448ms\tremaining: 1.06s\n",
      "297:\tlearn: 91.0227123\ttotal: 450ms\tremaining: 1.06s\n",
      "298:\tlearn: 90.8392142\ttotal: 451ms\tremaining: 1.06s\n",
      "299:\tlearn: 90.6853014\ttotal: 452ms\tremaining: 1.05s\n",
      "300:\tlearn: 90.5986761\ttotal: 454ms\tremaining: 1.05s\n",
      "301:\tlearn: 90.2180036\ttotal: 455ms\tremaining: 1.05s\n",
      "302:\tlearn: 89.8313622\ttotal: 456ms\tremaining: 1.05s\n",
      "303:\tlearn: 89.6872837\ttotal: 457ms\tremaining: 1.05s\n",
      "304:\tlearn: 89.3853276\ttotal: 459ms\tremaining: 1.04s\n",
      "305:\tlearn: 88.9459206\ttotal: 460ms\tremaining: 1.04s\n",
      "306:\tlearn: 88.7258770\ttotal: 461ms\tremaining: 1.04s\n",
      "307:\tlearn: 88.5374358\ttotal: 463ms\tremaining: 1.04s\n",
      "308:\tlearn: 88.0624447\ttotal: 464ms\tremaining: 1.04s\n",
      "309:\tlearn: 87.7942692\ttotal: 465ms\tremaining: 1.03s\n",
      "310:\tlearn: 87.6354184\ttotal: 467ms\tremaining: 1.03s\n",
      "311:\tlearn: 87.4879486\ttotal: 468ms\tremaining: 1.03s\n",
      "312:\tlearn: 87.0294739\ttotal: 469ms\tremaining: 1.03s\n",
      "313:\tlearn: 86.6746221\ttotal: 471ms\tremaining: 1.03s\n",
      "314:\tlearn: 86.2792146\ttotal: 472ms\tremaining: 1.03s\n",
      "315:\tlearn: 86.2127070\ttotal: 473ms\tremaining: 1.02s\n",
      "316:\tlearn: 86.1507368\ttotal: 475ms\tremaining: 1.02s\n",
      "317:\tlearn: 85.7089141\ttotal: 476ms\tremaining: 1.02s\n",
      "318:\tlearn: 85.6035137\ttotal: 477ms\tremaining: 1.02s\n",
      "319:\tlearn: 85.3587988\ttotal: 479ms\tremaining: 1.02s\n",
      "320:\tlearn: 84.9660906\ttotal: 480ms\tremaining: 1.01s\n",
      "321:\tlearn: 84.5474713\ttotal: 481ms\tremaining: 1.01s\n",
      "322:\tlearn: 84.1996852\ttotal: 483ms\tremaining: 1.01s\n",
      "323:\tlearn: 84.0654282\ttotal: 484ms\tremaining: 1.01s\n",
      "324:\tlearn: 83.7937327\ttotal: 485ms\tremaining: 1.01s\n",
      "325:\tlearn: 83.5064288\ttotal: 487ms\tremaining: 1.01s\n",
      "326:\tlearn: 83.3997655\ttotal: 488ms\tremaining: 1s\n",
      "327:\tlearn: 83.2958622\ttotal: 489ms\tremaining: 1s\n",
      "328:\tlearn: 82.9877578\ttotal: 491ms\tremaining: 1s\n",
      "329:\tlearn: 82.6286638\ttotal: 492ms\tremaining: 999ms\n",
      "330:\tlearn: 82.2827132\ttotal: 493ms\tremaining: 997ms\n",
      "331:\tlearn: 82.0895251\ttotal: 495ms\tremaining: 995ms\n",
      "332:\tlearn: 82.0130649\ttotal: 496ms\tremaining: 993ms\n",
      "333:\tlearn: 81.6771734\ttotal: 497ms\tremaining: 992ms\n",
      "334:\tlearn: 81.3519124\ttotal: 499ms\tremaining: 990ms\n",
      "335:\tlearn: 81.0170326\ttotal: 500ms\tremaining: 988ms\n",
      "336:\tlearn: 80.6917886\ttotal: 501ms\tremaining: 986ms\n",
      "337:\tlearn: 80.3455177\ttotal: 502ms\tremaining: 984ms\n",
      "338:\tlearn: 80.0260727\ttotal: 504ms\tremaining: 982ms\n",
      "339:\tlearn: 79.9154748\ttotal: 505ms\tremaining: 981ms\n",
      "340:\tlearn: 79.7813079\ttotal: 507ms\tremaining: 979ms\n",
      "341:\tlearn: 79.3513293\ttotal: 508ms\tremaining: 977ms\n",
      "342:\tlearn: 78.8666019\ttotal: 509ms\tremaining: 976ms\n",
      "343:\tlearn: 78.7959013\ttotal: 511ms\tremaining: 974ms\n",
      "344:\tlearn: 78.7081334\ttotal: 512ms\tremaining: 972ms\n",
      "345:\tlearn: 78.3354931\ttotal: 514ms\tremaining: 971ms\n",
      "346:\tlearn: 77.9475067\ttotal: 515ms\tremaining: 969ms\n",
      "347:\tlearn: 77.8910420\ttotal: 516ms\tremaining: 967ms\n",
      "348:\tlearn: 77.5461672\ttotal: 518ms\tremaining: 965ms\n",
      "349:\tlearn: 77.3717101\ttotal: 519ms\tremaining: 964ms\n",
      "350:\tlearn: 77.0729657\ttotal: 520ms\tremaining: 962ms\n",
      "351:\tlearn: 76.7699287\ttotal: 521ms\tremaining: 960ms\n",
      "352:\tlearn: 76.6029759\ttotal: 523ms\tremaining: 958ms\n",
      "353:\tlearn: 76.1642615\ttotal: 524ms\tremaining: 956ms\n",
      "354:\tlearn: 76.1202523\ttotal: 525ms\tremaining: 955ms\n",
      "355:\tlearn: 75.9487132\ttotal: 527ms\tremaining: 953ms\n",
      "356:\tlearn: 75.6748479\ttotal: 528ms\tremaining: 951ms\n",
      "357:\tlearn: 75.4290864\ttotal: 530ms\tremaining: 950ms\n",
      "358:\tlearn: 75.0463849\ttotal: 531ms\tremaining: 948ms\n",
      "359:\tlearn: 74.9902381\ttotal: 532ms\tremaining: 946ms\n",
      "360:\tlearn: 74.5243875\ttotal: 534ms\tremaining: 944ms\n",
      "361:\tlearn: 74.1913065\ttotal: 535ms\tremaining: 943ms\n",
      "362:\tlearn: 73.8413359\ttotal: 536ms\tremaining: 941ms\n",
      "363:\tlearn: 73.7602119\ttotal: 537ms\tremaining: 939ms\n",
      "364:\tlearn: 73.3278135\ttotal: 539ms\tremaining: 937ms\n",
      "365:\tlearn: 72.9524336\ttotal: 540ms\tremaining: 936ms\n",
      "366:\tlearn: 72.6791856\ttotal: 542ms\tremaining: 935ms\n",
      "367:\tlearn: 72.4333577\ttotal: 545ms\tremaining: 937ms\n",
      "368:\tlearn: 72.1672937\ttotal: 547ms\tremaining: 935ms\n",
      "369:\tlearn: 71.9070276\ttotal: 548ms\tremaining: 933ms\n",
      "370:\tlearn: 71.5496196\ttotal: 550ms\tremaining: 932ms\n",
      "371:\tlearn: 71.3161902\ttotal: 551ms\tremaining: 930ms\n",
      "372:\tlearn: 71.1259191\ttotal: 552ms\tremaining: 929ms\n",
      "373:\tlearn: 70.9889962\ttotal: 554ms\tremaining: 927ms\n",
      "374:\tlearn: 70.7417966\ttotal: 555ms\tremaining: 925ms\n",
      "375:\tlearn: 70.4931174\ttotal: 556ms\tremaining: 923ms\n",
      "376:\tlearn: 70.3300576\ttotal: 558ms\tremaining: 922ms\n",
      "377:\tlearn: 69.9233248\ttotal: 559ms\tremaining: 920ms\n",
      "378:\tlearn: 69.6261005\ttotal: 560ms\tremaining: 918ms\n",
      "379:\tlearn: 69.3989708\ttotal: 562ms\tremaining: 916ms\n",
      "380:\tlearn: 69.0085387\ttotal: 563ms\tremaining: 915ms\n",
      "381:\tlearn: 68.7604153\ttotal: 564ms\tremaining: 913ms\n",
      "382:\tlearn: 68.4602767\ttotal: 566ms\tremaining: 911ms\n",
      "383:\tlearn: 68.1005452\ttotal: 567ms\tremaining: 909ms\n",
      "384:\tlearn: 68.0540467\ttotal: 568ms\tremaining: 908ms\n",
      "385:\tlearn: 67.8972753\ttotal: 569ms\tremaining: 906ms\n",
      "386:\tlearn: 67.5389629\ttotal: 571ms\tremaining: 904ms\n",
      "387:\tlearn: 67.2390178\ttotal: 572ms\tremaining: 902ms\n",
      "388:\tlearn: 67.0279888\ttotal: 573ms\tremaining: 900ms\n",
      "389:\tlearn: 66.8375919\ttotal: 574ms\tremaining: 899ms\n",
      "390:\tlearn: 66.4118315\ttotal: 576ms\tremaining: 897ms\n",
      "391:\tlearn: 66.3642690\ttotal: 577ms\tremaining: 895ms\n",
      "392:\tlearn: 66.1673138\ttotal: 578ms\tremaining: 893ms\n",
      "393:\tlearn: 66.0177482\ttotal: 580ms\tremaining: 891ms\n",
      "394:\tlearn: 65.8018038\ttotal: 581ms\tremaining: 890ms\n",
      "395:\tlearn: 65.6886505\ttotal: 582ms\tremaining: 888ms\n",
      "396:\tlearn: 65.6120185\ttotal: 583ms\tremaining: 886ms\n",
      "397:\tlearn: 65.5746662\ttotal: 585ms\tremaining: 885ms\n",
      "398:\tlearn: 65.2974851\ttotal: 586ms\tremaining: 883ms\n",
      "399:\tlearn: 65.2464764\ttotal: 588ms\tremaining: 881ms\n",
      "400:\tlearn: 65.1241314\ttotal: 589ms\tremaining: 880ms\n",
      "401:\tlearn: 65.0515740\ttotal: 590ms\tremaining: 878ms\n",
      "402:\tlearn: 64.8089636\ttotal: 592ms\tremaining: 876ms\n",
      "403:\tlearn: 64.5992230\ttotal: 593ms\tremaining: 874ms\n",
      "404:\tlearn: 64.2907010\ttotal: 594ms\tremaining: 873ms\n",
      "405:\tlearn: 64.1568642\ttotal: 595ms\tremaining: 871ms\n",
      "406:\tlearn: 63.8279106\ttotal: 597ms\tremaining: 869ms\n",
      "407:\tlearn: 63.5558565\ttotal: 598ms\tremaining: 868ms\n",
      "408:\tlearn: 63.3865445\ttotal: 599ms\tremaining: 866ms\n",
      "409:\tlearn: 63.2752408\ttotal: 601ms\tremaining: 864ms\n",
      "410:\tlearn: 63.1070190\ttotal: 602ms\tremaining: 863ms\n",
      "411:\tlearn: 62.7868376\ttotal: 603ms\tremaining: 861ms\n",
      "412:\tlearn: 62.5345803\ttotal: 605ms\tremaining: 859ms\n",
      "413:\tlearn: 62.2729058\ttotal: 606ms\tremaining: 858ms\n",
      "414:\tlearn: 61.9850985\ttotal: 607ms\tremaining: 856ms\n",
      "415:\tlearn: 61.7784164\ttotal: 609ms\tremaining: 855ms\n",
      "416:\tlearn: 61.7431976\ttotal: 610ms\tremaining: 853ms\n",
      "417:\tlearn: 61.4309964\ttotal: 611ms\tremaining: 851ms\n",
      "418:\tlearn: 61.3513660\ttotal: 613ms\tremaining: 850ms\n",
      "419:\tlearn: 61.1253739\ttotal: 614ms\tremaining: 848ms\n",
      "420:\tlearn: 61.0742571\ttotal: 615ms\tremaining: 846ms\n",
      "421:\tlearn: 61.0390980\ttotal: 617ms\tremaining: 845ms\n",
      "422:\tlearn: 61.0095757\ttotal: 618ms\tremaining: 843ms\n",
      "423:\tlearn: 60.6843255\ttotal: 619ms\tremaining: 841ms\n",
      "424:\tlearn: 60.4045551\ttotal: 621ms\tremaining: 840ms\n",
      "425:\tlearn: 60.3649587\ttotal: 622ms\tremaining: 838ms\n",
      "426:\tlearn: 60.3315828\ttotal: 623ms\tremaining: 836ms\n",
      "427:\tlearn: 60.1047027\ttotal: 624ms\tremaining: 835ms\n",
      "428:\tlearn: 59.9170736\ttotal: 626ms\tremaining: 833ms\n",
      "429:\tlearn: 59.6875648\ttotal: 627ms\tremaining: 831ms\n",
      "430:\tlearn: 59.6662150\ttotal: 628ms\tremaining: 830ms\n",
      "431:\tlearn: 59.4208112\ttotal: 630ms\tremaining: 828ms\n",
      "432:\tlearn: 59.2358034\ttotal: 631ms\tremaining: 826ms\n",
      "433:\tlearn: 58.9818868\ttotal: 632ms\tremaining: 824ms\n",
      "434:\tlearn: 58.7089433\ttotal: 633ms\tremaining: 823ms\n",
      "435:\tlearn: 58.5898817\ttotal: 635ms\tremaining: 821ms\n",
      "436:\tlearn: 58.5425342\ttotal: 636ms\tremaining: 820ms\n",
      "437:\tlearn: 58.2884605\ttotal: 637ms\tremaining: 818ms\n",
      "438:\tlearn: 58.2643873\ttotal: 639ms\tremaining: 816ms\n",
      "439:\tlearn: 58.2330868\ttotal: 640ms\tremaining: 814ms\n",
      "440:\tlearn: 57.9676592\ttotal: 641ms\tremaining: 813ms\n",
      "441:\tlearn: 57.7670212\ttotal: 643ms\tremaining: 811ms\n",
      "442:\tlearn: 57.5322464\ttotal: 644ms\tremaining: 810ms\n",
      "443:\tlearn: 57.2771620\ttotal: 645ms\tremaining: 808ms\n",
      "444:\tlearn: 57.0227885\ttotal: 647ms\tremaining: 806ms\n",
      "445:\tlearn: 56.7616770\ttotal: 648ms\tremaining: 805ms\n",
      "446:\tlearn: 56.7367450\ttotal: 649ms\tremaining: 803ms\n",
      "447:\tlearn: 56.6715001\ttotal: 651ms\tremaining: 802ms\n",
      "448:\tlearn: 56.4881346\ttotal: 652ms\tremaining: 800ms\n",
      "449:\tlearn: 56.3749776\ttotal: 653ms\tremaining: 798ms\n",
      "450:\tlearn: 56.2172319\ttotal: 655ms\tremaining: 797ms\n",
      "451:\tlearn: 55.9461925\ttotal: 656ms\tremaining: 795ms\n",
      "452:\tlearn: 55.8884270\ttotal: 657ms\tremaining: 794ms\n",
      "453:\tlearn: 55.7987432\ttotal: 659ms\tremaining: 792ms\n",
      "454:\tlearn: 55.7376337\ttotal: 660ms\tremaining: 790ms\n",
      "455:\tlearn: 55.5150595\ttotal: 661ms\tremaining: 789ms\n",
      "456:\tlearn: 55.4819680\ttotal: 663ms\tremaining: 787ms\n",
      "457:\tlearn: 55.1719919\ttotal: 664ms\tremaining: 786ms\n",
      "458:\tlearn: 55.1295759\ttotal: 665ms\tremaining: 784ms\n",
      "459:\tlearn: 55.0856302\ttotal: 667ms\tremaining: 783ms\n",
      "460:\tlearn: 54.8056235\ttotal: 668ms\tremaining: 781ms\n",
      "461:\tlearn: 54.4030407\ttotal: 670ms\tremaining: 780ms\n",
      "462:\tlearn: 54.3308204\ttotal: 671ms\tremaining: 778ms\n",
      "463:\tlearn: 54.0283724\ttotal: 672ms\tremaining: 776ms\n",
      "464:\tlearn: 53.9962714\ttotal: 673ms\tremaining: 775ms\n",
      "465:\tlearn: 53.8149476\ttotal: 675ms\tremaining: 773ms\n",
      "466:\tlearn: 53.7806209\ttotal: 676ms\tremaining: 771ms\n",
      "467:\tlearn: 53.7585727\ttotal: 677ms\tremaining: 770ms\n",
      "468:\tlearn: 53.5042777\ttotal: 679ms\tremaining: 768ms\n",
      "469:\tlearn: 53.3257034\ttotal: 680ms\tremaining: 767ms\n",
      "470:\tlearn: 53.0801119\ttotal: 681ms\tremaining: 765ms\n",
      "471:\tlearn: 53.0136550\ttotal: 683ms\tremaining: 764ms\n",
      "472:\tlearn: 52.9408930\ttotal: 684ms\tremaining: 762ms\n",
      "473:\tlearn: 52.7089062\ttotal: 685ms\tremaining: 760ms\n",
      "474:\tlearn: 52.6819781\ttotal: 687ms\tremaining: 759ms\n",
      "475:\tlearn: 52.5065568\ttotal: 688ms\tremaining: 757ms\n",
      "476:\tlearn: 52.3688770\ttotal: 689ms\tremaining: 756ms\n",
      "477:\tlearn: 52.2402473\ttotal: 691ms\tremaining: 754ms\n",
      "478:\tlearn: 52.1406517\ttotal: 692ms\tremaining: 753ms\n",
      "479:\tlearn: 52.1107144\ttotal: 693ms\tremaining: 751ms\n",
      "480:\tlearn: 51.9239449\ttotal: 694ms\tremaining: 749ms\n",
      "481:\tlearn: 51.7096820\ttotal: 696ms\tremaining: 747ms\n",
      "482:\tlearn: 51.6266918\ttotal: 697ms\tremaining: 746ms\n",
      "483:\tlearn: 51.5969797\ttotal: 698ms\tremaining: 744ms\n",
      "484:\tlearn: 51.4480162\ttotal: 699ms\tremaining: 743ms\n",
      "485:\tlearn: 51.2269261\ttotal: 701ms\tremaining: 741ms\n",
      "486:\tlearn: 50.9904632\ttotal: 702ms\tremaining: 739ms\n",
      "487:\tlearn: 50.9342043\ttotal: 703ms\tremaining: 738ms\n",
      "488:\tlearn: 50.8423680\ttotal: 704ms\tremaining: 736ms\n",
      "489:\tlearn: 50.7269788\ttotal: 706ms\tremaining: 735ms\n",
      "490:\tlearn: 50.5384699\ttotal: 707ms\tremaining: 733ms\n",
      "491:\tlearn: 50.5047793\ttotal: 708ms\tremaining: 731ms\n",
      "492:\tlearn: 50.3234448\ttotal: 710ms\tremaining: 730ms\n",
      "493:\tlearn: 50.1653421\ttotal: 711ms\tremaining: 728ms\n",
      "494:\tlearn: 49.9835558\ttotal: 712ms\tremaining: 727ms\n",
      "495:\tlearn: 49.8884283\ttotal: 714ms\tremaining: 725ms\n",
      "496:\tlearn: 49.6217364\ttotal: 715ms\tremaining: 724ms\n",
      "497:\tlearn: 49.5268562\ttotal: 716ms\tremaining: 722ms\n",
      "498:\tlearn: 49.3078402\ttotal: 718ms\tremaining: 720ms\n",
      "499:\tlearn: 49.2571676\ttotal: 719ms\tremaining: 719ms\n",
      "500:\tlearn: 49.2173141\ttotal: 720ms\tremaining: 717ms\n",
      "501:\tlearn: 48.9813103\ttotal: 721ms\tremaining: 716ms\n",
      "502:\tlearn: 48.8304542\ttotal: 723ms\tremaining: 714ms\n",
      "503:\tlearn: 48.7430936\ttotal: 724ms\tremaining: 713ms\n",
      "504:\tlearn: 48.5493989\ttotal: 726ms\tremaining: 711ms\n",
      "505:\tlearn: 48.5134839\ttotal: 727ms\tremaining: 710ms\n",
      "506:\tlearn: 48.3516141\ttotal: 730ms\tremaining: 709ms\n",
      "507:\tlearn: 48.0631542\ttotal: 733ms\tremaining: 710ms\n",
      "508:\tlearn: 47.8591880\ttotal: 734ms\tremaining: 708ms\n",
      "509:\tlearn: 47.7182444\ttotal: 736ms\tremaining: 707ms\n",
      "510:\tlearn: 47.6301870\ttotal: 737ms\tremaining: 705ms\n",
      "511:\tlearn: 47.4767324\ttotal: 739ms\tremaining: 704ms\n",
      "512:\tlearn: 47.2822625\ttotal: 740ms\tremaining: 703ms\n",
      "513:\tlearn: 47.1022658\ttotal: 741ms\tremaining: 701ms\n",
      "514:\tlearn: 47.0536181\ttotal: 743ms\tremaining: 699ms\n",
      "515:\tlearn: 47.0249559\ttotal: 744ms\tremaining: 698ms\n",
      "516:\tlearn: 46.8789720\ttotal: 745ms\tremaining: 696ms\n",
      "517:\tlearn: 46.7133769\ttotal: 747ms\tremaining: 695ms\n",
      "518:\tlearn: 46.5157986\ttotal: 748ms\tremaining: 693ms\n",
      "519:\tlearn: 46.3630405\ttotal: 749ms\tremaining: 692ms\n",
      "520:\tlearn: 46.1730188\ttotal: 751ms\tremaining: 690ms\n",
      "521:\tlearn: 46.1360908\ttotal: 752ms\tremaining: 688ms\n",
      "522:\tlearn: 45.9652487\ttotal: 753ms\tremaining: 687ms\n",
      "523:\tlearn: 45.8122703\ttotal: 754ms\tremaining: 685ms\n",
      "524:\tlearn: 45.4984451\ttotal: 756ms\tremaining: 684ms\n",
      "525:\tlearn: 45.3161076\ttotal: 757ms\tremaining: 682ms\n",
      "526:\tlearn: 45.2802854\ttotal: 759ms\tremaining: 681ms\n",
      "527:\tlearn: 45.2448275\ttotal: 760ms\tremaining: 679ms\n",
      "528:\tlearn: 45.0816321\ttotal: 761ms\tremaining: 678ms\n",
      "529:\tlearn: 44.9794319\ttotal: 762ms\tremaining: 676ms\n",
      "530:\tlearn: 44.6832140\ttotal: 764ms\tremaining: 675ms\n",
      "531:\tlearn: 44.4460046\ttotal: 765ms\tremaining: 673ms\n",
      "532:\tlearn: 44.2118287\ttotal: 766ms\tremaining: 672ms\n",
      "533:\tlearn: 44.0693524\ttotal: 768ms\tremaining: 670ms\n",
      "534:\tlearn: 43.7781614\ttotal: 769ms\tremaining: 668ms\n",
      "535:\tlearn: 43.5541731\ttotal: 770ms\tremaining: 667ms\n",
      "536:\tlearn: 43.5134866\ttotal: 771ms\tremaining: 665ms\n",
      "537:\tlearn: 43.3609810\ttotal: 773ms\tremaining: 664ms\n",
      "538:\tlearn: 43.1828364\ttotal: 774ms\tremaining: 662ms\n",
      "539:\tlearn: 43.1681810\ttotal: 775ms\tremaining: 660ms\n",
      "540:\tlearn: 43.0597548\ttotal: 776ms\tremaining: 658ms\n",
      "541:\tlearn: 43.0399237\ttotal: 777ms\tremaining: 657ms\n",
      "542:\tlearn: 42.7955247\ttotal: 779ms\tremaining: 655ms\n",
      "543:\tlearn: 42.5339065\ttotal: 780ms\tremaining: 654ms\n",
      "544:\tlearn: 42.4295635\ttotal: 781ms\tremaining: 652ms\n",
      "545:\tlearn: 42.2338376\ttotal: 783ms\tremaining: 651ms\n",
      "546:\tlearn: 42.0124060\ttotal: 784ms\tremaining: 649ms\n",
      "547:\tlearn: 41.8255183\ttotal: 785ms\tremaining: 648ms\n",
      "548:\tlearn: 41.6388681\ttotal: 787ms\tremaining: 646ms\n",
      "549:\tlearn: 41.4001270\ttotal: 788ms\tremaining: 645ms\n",
      "550:\tlearn: 41.1013528\ttotal: 789ms\tremaining: 643ms\n",
      "551:\tlearn: 41.0100295\ttotal: 791ms\tremaining: 642ms\n",
      "552:\tlearn: 40.9906076\ttotal: 792ms\tremaining: 640ms\n",
      "553:\tlearn: 40.8809109\ttotal: 793ms\tremaining: 639ms\n",
      "554:\tlearn: 40.7831302\ttotal: 795ms\tremaining: 637ms\n",
      "555:\tlearn: 40.7317763\ttotal: 796ms\tremaining: 636ms\n",
      "556:\tlearn: 40.6321710\ttotal: 797ms\tremaining: 634ms\n",
      "557:\tlearn: 40.4475073\ttotal: 799ms\tremaining: 633ms\n",
      "558:\tlearn: 40.2859957\ttotal: 800ms\tremaining: 631ms\n",
      "559:\tlearn: 40.0262057\ttotal: 801ms\tremaining: 630ms\n",
      "560:\tlearn: 39.9326350\ttotal: 803ms\tremaining: 628ms\n",
      "561:\tlearn: 39.8735956\ttotal: 804ms\tremaining: 627ms\n",
      "562:\tlearn: 39.7083019\ttotal: 805ms\tremaining: 625ms\n",
      "563:\tlearn: 39.5379855\ttotal: 807ms\tremaining: 624ms\n",
      "564:\tlearn: 39.3451301\ttotal: 808ms\tremaining: 622ms\n",
      "565:\tlearn: 39.2041273\ttotal: 809ms\tremaining: 621ms\n",
      "566:\tlearn: 38.9870162\ttotal: 811ms\tremaining: 619ms\n",
      "567:\tlearn: 38.8638040\ttotal: 812ms\tremaining: 618ms\n",
      "568:\tlearn: 38.7752116\ttotal: 813ms\tremaining: 616ms\n",
      "569:\tlearn: 38.6530297\ttotal: 815ms\tremaining: 615ms\n",
      "570:\tlearn: 38.5505372\ttotal: 816ms\tremaining: 613ms\n",
      "571:\tlearn: 38.5134486\ttotal: 817ms\tremaining: 612ms\n",
      "572:\tlearn: 38.3680902\ttotal: 819ms\tremaining: 610ms\n",
      "573:\tlearn: 38.1897295\ttotal: 820ms\tremaining: 609ms\n",
      "574:\tlearn: 38.1083536\ttotal: 821ms\tremaining: 607ms\n",
      "575:\tlearn: 37.9229216\ttotal: 823ms\tremaining: 606ms\n",
      "576:\tlearn: 37.8377087\ttotal: 824ms\tremaining: 604ms\n",
      "577:\tlearn: 37.7966900\ttotal: 825ms\tremaining: 603ms\n",
      "578:\tlearn: 37.6700761\ttotal: 827ms\tremaining: 601ms\n",
      "579:\tlearn: 37.6355177\ttotal: 828ms\tremaining: 599ms\n",
      "580:\tlearn: 37.4648199\ttotal: 829ms\tremaining: 598ms\n",
      "581:\tlearn: 37.2959505\ttotal: 830ms\tremaining: 596ms\n",
      "582:\tlearn: 37.1423961\ttotal: 832ms\tremaining: 595ms\n",
      "583:\tlearn: 36.9297315\ttotal: 833ms\tremaining: 593ms\n",
      "584:\tlearn: 36.8850382\ttotal: 834ms\tremaining: 592ms\n",
      "585:\tlearn: 36.7546519\ttotal: 835ms\tremaining: 590ms\n",
      "586:\tlearn: 36.7377554\ttotal: 837ms\tremaining: 589ms\n",
      "587:\tlearn: 36.6899102\ttotal: 838ms\tremaining: 587ms\n",
      "588:\tlearn: 36.5617094\ttotal: 839ms\tremaining: 586ms\n",
      "589:\tlearn: 36.4272921\ttotal: 841ms\tremaining: 584ms\n",
      "590:\tlearn: 36.2657889\ttotal: 842ms\tremaining: 583ms\n",
      "591:\tlearn: 36.2539345\ttotal: 843ms\tremaining: 581ms\n",
      "592:\tlearn: 36.2314399\ttotal: 844ms\tremaining: 580ms\n",
      "593:\tlearn: 36.0683824\ttotal: 846ms\tremaining: 578ms\n",
      "594:\tlearn: 35.9283095\ttotal: 847ms\tremaining: 577ms\n",
      "595:\tlearn: 35.7968288\ttotal: 849ms\tremaining: 575ms\n",
      "596:\tlearn: 35.7223423\ttotal: 850ms\tremaining: 574ms\n",
      "597:\tlearn: 35.5848854\ttotal: 851ms\tremaining: 572ms\n",
      "598:\tlearn: 35.4754344\ttotal: 853ms\tremaining: 571ms\n",
      "599:\tlearn: 35.3533890\ttotal: 854ms\tremaining: 569ms\n",
      "600:\tlearn: 35.2201505\ttotal: 855ms\tremaining: 568ms\n",
      "601:\tlearn: 35.0873272\ttotal: 856ms\tremaining: 566ms\n",
      "602:\tlearn: 35.0461873\ttotal: 858ms\tremaining: 565ms\n",
      "603:\tlearn: 34.9273071\ttotal: 859ms\tremaining: 563ms\n",
      "604:\tlearn: 34.8162855\ttotal: 860ms\tremaining: 562ms\n",
      "605:\tlearn: 34.7130059\ttotal: 862ms\tremaining: 560ms\n",
      "606:\tlearn: 34.5585617\ttotal: 863ms\tremaining: 559ms\n",
      "607:\tlearn: 34.4611907\ttotal: 864ms\tremaining: 557ms\n",
      "608:\tlearn: 34.4326546\ttotal: 866ms\tremaining: 556ms\n",
      "609:\tlearn: 34.2846979\ttotal: 867ms\tremaining: 554ms\n",
      "610:\tlearn: 34.1734501\ttotal: 868ms\tremaining: 553ms\n",
      "611:\tlearn: 34.0230965\ttotal: 870ms\tremaining: 551ms\n",
      "612:\tlearn: 33.8282501\ttotal: 871ms\tremaining: 550ms\n",
      "613:\tlearn: 33.7746747\ttotal: 873ms\tremaining: 549ms\n",
      "614:\tlearn: 33.7068386\ttotal: 874ms\tremaining: 547ms\n",
      "615:\tlearn: 33.5780800\ttotal: 875ms\tremaining: 546ms\n",
      "616:\tlearn: 33.4695325\ttotal: 877ms\tremaining: 544ms\n",
      "617:\tlearn: 33.3463443\ttotal: 878ms\tremaining: 543ms\n",
      "618:\tlearn: 33.2877395\ttotal: 879ms\tremaining: 541ms\n",
      "619:\tlearn: 33.2418826\ttotal: 881ms\tremaining: 540ms\n",
      "620:\tlearn: 33.1045465\ttotal: 882ms\tremaining: 538ms\n",
      "621:\tlearn: 32.9400639\ttotal: 883ms\tremaining: 537ms\n",
      "622:\tlearn: 32.8996970\ttotal: 885ms\tremaining: 535ms\n",
      "623:\tlearn: 32.7429487\ttotal: 886ms\tremaining: 534ms\n",
      "624:\tlearn: 32.6132355\ttotal: 887ms\tremaining: 532ms\n",
      "625:\tlearn: 32.4714976\ttotal: 889ms\tremaining: 531ms\n",
      "626:\tlearn: 32.4320448\ttotal: 890ms\tremaining: 529ms\n",
      "627:\tlearn: 32.2628258\ttotal: 891ms\tremaining: 528ms\n",
      "628:\tlearn: 32.2038569\ttotal: 893ms\tremaining: 527ms\n",
      "629:\tlearn: 32.0940738\ttotal: 894ms\tremaining: 525ms\n",
      "630:\tlearn: 32.0068495\ttotal: 895ms\tremaining: 524ms\n",
      "631:\tlearn: 31.9053748\ttotal: 897ms\tremaining: 522ms\n",
      "632:\tlearn: 31.7715772\ttotal: 898ms\tremaining: 521ms\n",
      "633:\tlearn: 31.6687835\ttotal: 899ms\tremaining: 519ms\n",
      "634:\tlearn: 31.6368050\ttotal: 901ms\tremaining: 518ms\n",
      "635:\tlearn: 31.5709628\ttotal: 902ms\tremaining: 516ms\n",
      "636:\tlearn: 31.4052213\ttotal: 903ms\tremaining: 515ms\n",
      "637:\tlearn: 31.2452229\ttotal: 905ms\tremaining: 513ms\n",
      "638:\tlearn: 31.1221828\ttotal: 906ms\tremaining: 512ms\n",
      "639:\tlearn: 31.0853500\ttotal: 907ms\tremaining: 510ms\n",
      "640:\tlearn: 30.9167355\ttotal: 909ms\tremaining: 509ms\n",
      "641:\tlearn: 30.8667253\ttotal: 910ms\tremaining: 507ms\n",
      "642:\tlearn: 30.7427129\ttotal: 911ms\tremaining: 506ms\n",
      "643:\tlearn: 30.5748228\ttotal: 914ms\tremaining: 505ms\n",
      "644:\tlearn: 30.5080592\ttotal: 918ms\tremaining: 505ms\n",
      "645:\tlearn: 30.3444228\ttotal: 919ms\tremaining: 504ms\n",
      "646:\tlearn: 30.1858385\ttotal: 921ms\tremaining: 502ms\n",
      "647:\tlearn: 30.1481951\ttotal: 922ms\tremaining: 501ms\n",
      "648:\tlearn: 30.1139150\ttotal: 923ms\tremaining: 499ms\n",
      "649:\tlearn: 30.0147177\ttotal: 925ms\tremaining: 498ms\n",
      "650:\tlearn: 29.8610501\ttotal: 926ms\tremaining: 496ms\n",
      "651:\tlearn: 29.7793561\ttotal: 927ms\tremaining: 495ms\n",
      "652:\tlearn: 29.6870188\ttotal: 929ms\tremaining: 493ms\n",
      "653:\tlearn: 29.6229921\ttotal: 930ms\tremaining: 492ms\n",
      "654:\tlearn: 29.5806823\ttotal: 931ms\tremaining: 491ms\n",
      "655:\tlearn: 29.4903496\ttotal: 933ms\tremaining: 489ms\n",
      "656:\tlearn: 29.4011642\ttotal: 934ms\tremaining: 488ms\n",
      "657:\tlearn: 29.3880977\ttotal: 935ms\tremaining: 486ms\n",
      "658:\tlearn: 29.2615919\ttotal: 937ms\tremaining: 485ms\n",
      "659:\tlearn: 29.1004727\ttotal: 938ms\tremaining: 483ms\n",
      "660:\tlearn: 29.0530692\ttotal: 939ms\tremaining: 482ms\n",
      "661:\tlearn: 28.9863628\ttotal: 941ms\tremaining: 480ms\n",
      "662:\tlearn: 28.8714304\ttotal: 942ms\tremaining: 479ms\n",
      "663:\tlearn: 28.7331979\ttotal: 943ms\tremaining: 477ms\n",
      "664:\tlearn: 28.6366801\ttotal: 945ms\tremaining: 476ms\n",
      "665:\tlearn: 28.5716341\ttotal: 946ms\tremaining: 474ms\n",
      "666:\tlearn: 28.4974876\ttotal: 947ms\tremaining: 473ms\n",
      "667:\tlearn: 28.4112710\ttotal: 949ms\tremaining: 471ms\n",
      "668:\tlearn: 28.2984651\ttotal: 950ms\tremaining: 470ms\n",
      "669:\tlearn: 28.1339510\ttotal: 951ms\tremaining: 469ms\n",
      "670:\tlearn: 28.1075789\ttotal: 953ms\tremaining: 467ms\n",
      "671:\tlearn: 28.0922293\ttotal: 954ms\tremaining: 466ms\n",
      "672:\tlearn: 27.9723760\ttotal: 955ms\tremaining: 464ms\n",
      "673:\tlearn: 27.9055283\ttotal: 957ms\tremaining: 463ms\n",
      "674:\tlearn: 27.8205243\ttotal: 958ms\tremaining: 461ms\n",
      "675:\tlearn: 27.8084834\ttotal: 959ms\tremaining: 460ms\n",
      "676:\tlearn: 27.7891840\ttotal: 961ms\tremaining: 458ms\n",
      "677:\tlearn: 27.6730952\ttotal: 962ms\tremaining: 457ms\n",
      "678:\tlearn: 27.6094279\ttotal: 964ms\tremaining: 456ms\n",
      "679:\tlearn: 27.5709406\ttotal: 965ms\tremaining: 454ms\n",
      "680:\tlearn: 27.5062932\ttotal: 966ms\tremaining: 453ms\n",
      "681:\tlearn: 27.4149358\ttotal: 968ms\tremaining: 451ms\n",
      "682:\tlearn: 27.3480578\ttotal: 969ms\tremaining: 450ms\n",
      "683:\tlearn: 27.2546632\ttotal: 970ms\tremaining: 448ms\n",
      "684:\tlearn: 27.1581242\ttotal: 972ms\tremaining: 447ms\n",
      "685:\tlearn: 27.1291330\ttotal: 973ms\tremaining: 445ms\n",
      "686:\tlearn: 27.0589760\ttotal: 974ms\tremaining: 444ms\n",
      "687:\tlearn: 26.9207571\ttotal: 976ms\tremaining: 442ms\n",
      "688:\tlearn: 26.8046340\ttotal: 977ms\tremaining: 441ms\n",
      "689:\tlearn: 26.7346039\ttotal: 978ms\tremaining: 440ms\n",
      "690:\tlearn: 26.6359238\ttotal: 980ms\tremaining: 438ms\n",
      "691:\tlearn: 26.5458163\ttotal: 981ms\tremaining: 437ms\n",
      "692:\tlearn: 26.5287024\ttotal: 982ms\tremaining: 435ms\n",
      "693:\tlearn: 26.4436127\ttotal: 984ms\tremaining: 434ms\n",
      "694:\tlearn: 26.3860996\ttotal: 985ms\tremaining: 432ms\n",
      "695:\tlearn: 26.3271824\ttotal: 986ms\tremaining: 431ms\n",
      "696:\tlearn: 26.1929180\ttotal: 988ms\tremaining: 429ms\n",
      "697:\tlearn: 26.0989501\ttotal: 989ms\tremaining: 428ms\n",
      "698:\tlearn: 26.0348052\ttotal: 990ms\tremaining: 426ms\n",
      "699:\tlearn: 25.9715846\ttotal: 992ms\tremaining: 425ms\n",
      "700:\tlearn: 25.8624783\ttotal: 993ms\tremaining: 424ms\n",
      "701:\tlearn: 25.8020332\ttotal: 994ms\tremaining: 422ms\n",
      "702:\tlearn: 25.7940141\ttotal: 996ms\tremaining: 421ms\n",
      "703:\tlearn: 25.6937173\ttotal: 997ms\tremaining: 419ms\n",
      "704:\tlearn: 25.6133995\ttotal: 999ms\tremaining: 418ms\n",
      "705:\tlearn: 25.5272559\ttotal: 1000ms\tremaining: 416ms\n",
      "706:\tlearn: 25.5087600\ttotal: 1s\tremaining: 415ms\n",
      "707:\tlearn: 25.3506858\ttotal: 1s\tremaining: 413ms\n",
      "708:\tlearn: 25.3314352\ttotal: 1s\tremaining: 412ms\n",
      "709:\tlearn: 25.3263712\ttotal: 1s\tremaining: 410ms\n",
      "710:\tlearn: 25.2377772\ttotal: 1s\tremaining: 409ms\n",
      "711:\tlearn: 25.1296003\ttotal: 1.01s\tremaining: 407ms\n",
      "712:\tlearn: 25.1138661\ttotal: 1.01s\tremaining: 406ms\n",
      "713:\tlearn: 25.0606164\ttotal: 1.01s\tremaining: 404ms\n",
      "714:\tlearn: 24.9701122\ttotal: 1.01s\tremaining: 403ms\n",
      "715:\tlearn: 24.9266980\ttotal: 1.01s\tremaining: 402ms\n",
      "716:\tlearn: 24.8355245\ttotal: 1.01s\tremaining: 400ms\n",
      "717:\tlearn: 24.7892595\ttotal: 1.01s\tremaining: 399ms\n",
      "718:\tlearn: 24.7784156\ttotal: 1.02s\tremaining: 397ms\n",
      "719:\tlearn: 24.7204068\ttotal: 1.02s\tremaining: 396ms\n",
      "720:\tlearn: 24.6868946\ttotal: 1.02s\tremaining: 394ms\n",
      "721:\tlearn: 24.5835248\ttotal: 1.02s\tremaining: 393ms\n",
      "722:\tlearn: 24.4605667\ttotal: 1.02s\tremaining: 391ms\n",
      "723:\tlearn: 24.3780491\ttotal: 1.02s\tremaining: 390ms\n",
      "724:\tlearn: 24.3695387\ttotal: 1.02s\tremaining: 389ms\n",
      "725:\tlearn: 24.2713928\ttotal: 1.02s\tremaining: 387ms\n",
      "726:\tlearn: 24.2564573\ttotal: 1.03s\tremaining: 386ms\n",
      "727:\tlearn: 24.1259045\ttotal: 1.03s\tremaining: 384ms\n",
      "728:\tlearn: 24.0410925\ttotal: 1.03s\tremaining: 383ms\n",
      "729:\tlearn: 23.9454740\ttotal: 1.03s\tremaining: 381ms\n",
      "730:\tlearn: 23.9293944\ttotal: 1.03s\tremaining: 380ms\n",
      "731:\tlearn: 23.8408373\ttotal: 1.03s\tremaining: 379ms\n",
      "732:\tlearn: 23.7301307\ttotal: 1.03s\tremaining: 377ms\n",
      "733:\tlearn: 23.6751178\ttotal: 1.04s\tremaining: 376ms\n",
      "734:\tlearn: 23.5518474\ttotal: 1.04s\tremaining: 374ms\n",
      "735:\tlearn: 23.5054838\ttotal: 1.04s\tremaining: 373ms\n",
      "736:\tlearn: 23.4781040\ttotal: 1.04s\tremaining: 371ms\n",
      "737:\tlearn: 23.3774725\ttotal: 1.04s\tremaining: 370ms\n",
      "738:\tlearn: 23.3081022\ttotal: 1.04s\tremaining: 368ms\n",
      "739:\tlearn: 23.2915892\ttotal: 1.04s\tremaining: 367ms\n",
      "740:\tlearn: 23.2095735\ttotal: 1.05s\tremaining: 366ms\n",
      "741:\tlearn: 23.1588315\ttotal: 1.05s\tremaining: 364ms\n",
      "742:\tlearn: 23.1197993\ttotal: 1.05s\tremaining: 363ms\n",
      "743:\tlearn: 23.0327780\ttotal: 1.05s\tremaining: 361ms\n",
      "744:\tlearn: 22.9759480\ttotal: 1.05s\tremaining: 360ms\n",
      "745:\tlearn: 22.8751423\ttotal: 1.05s\tremaining: 358ms\n",
      "746:\tlearn: 22.7768127\ttotal: 1.05s\tremaining: 357ms\n",
      "747:\tlearn: 22.6474970\ttotal: 1.05s\tremaining: 356ms\n",
      "748:\tlearn: 22.5780525\ttotal: 1.06s\tremaining: 354ms\n",
      "749:\tlearn: 22.5338308\ttotal: 1.06s\tremaining: 353ms\n",
      "750:\tlearn: 22.4330276\ttotal: 1.06s\tremaining: 351ms\n",
      "751:\tlearn: 22.4193891\ttotal: 1.06s\tremaining: 350ms\n",
      "752:\tlearn: 22.4093040\ttotal: 1.06s\tremaining: 348ms\n",
      "753:\tlearn: 22.3758979\ttotal: 1.06s\tremaining: 347ms\n",
      "754:\tlearn: 22.3560173\ttotal: 1.06s\tremaining: 346ms\n",
      "755:\tlearn: 22.3264261\ttotal: 1.06s\tremaining: 344ms\n",
      "756:\tlearn: 22.2796605\ttotal: 1.07s\tremaining: 343ms\n",
      "757:\tlearn: 22.2253439\ttotal: 1.07s\tremaining: 341ms\n",
      "758:\tlearn: 22.1636409\ttotal: 1.07s\tremaining: 340ms\n",
      "759:\tlearn: 22.1078491\ttotal: 1.07s\tremaining: 338ms\n",
      "760:\tlearn: 22.0275756\ttotal: 1.07s\tremaining: 337ms\n",
      "761:\tlearn: 22.0174143\ttotal: 1.07s\tremaining: 335ms\n",
      "762:\tlearn: 21.9887391\ttotal: 1.07s\tremaining: 334ms\n",
      "763:\tlearn: 21.9746733\ttotal: 1.08s\tremaining: 332ms\n",
      "764:\tlearn: 21.9529216\ttotal: 1.08s\tremaining: 331ms\n",
      "765:\tlearn: 21.8767644\ttotal: 1.08s\tremaining: 330ms\n",
      "766:\tlearn: 21.8668039\ttotal: 1.08s\tremaining: 328ms\n",
      "767:\tlearn: 21.8008688\ttotal: 1.08s\tremaining: 327ms\n",
      "768:\tlearn: 21.7612208\ttotal: 1.08s\tremaining: 325ms\n",
      "769:\tlearn: 21.6977978\ttotal: 1.08s\tremaining: 324ms\n",
      "770:\tlearn: 21.6870461\ttotal: 1.08s\tremaining: 322ms\n",
      "771:\tlearn: 21.6599780\ttotal: 1.09s\tremaining: 321ms\n",
      "772:\tlearn: 21.5522064\ttotal: 1.09s\tremaining: 320ms\n",
      "773:\tlearn: 21.5426327\ttotal: 1.09s\tremaining: 318ms\n",
      "774:\tlearn: 21.4391089\ttotal: 1.09s\tremaining: 317ms\n",
      "775:\tlearn: 21.4042993\ttotal: 1.09s\tremaining: 315ms\n",
      "776:\tlearn: 21.3284836\ttotal: 1.09s\tremaining: 314ms\n",
      "777:\tlearn: 21.3163774\ttotal: 1.09s\tremaining: 312ms\n",
      "778:\tlearn: 21.2708416\ttotal: 1.1s\tremaining: 311ms\n",
      "779:\tlearn: 21.2056943\ttotal: 1.1s\tremaining: 310ms\n",
      "780:\tlearn: 21.1434774\ttotal: 1.1s\tremaining: 308ms\n",
      "781:\tlearn: 21.0672473\ttotal: 1.1s\tremaining: 307ms\n",
      "782:\tlearn: 20.9629645\ttotal: 1.1s\tremaining: 306ms\n",
      "783:\tlearn: 20.9522537\ttotal: 1.1s\tremaining: 304ms\n",
      "784:\tlearn: 20.9252425\ttotal: 1.11s\tremaining: 303ms\n",
      "785:\tlearn: 20.8576799\ttotal: 1.11s\tremaining: 302ms\n",
      "786:\tlearn: 20.7922970\ttotal: 1.11s\tremaining: 300ms\n",
      "787:\tlearn: 20.7802134\ttotal: 1.11s\tremaining: 299ms\n",
      "788:\tlearn: 20.7125213\ttotal: 1.11s\tremaining: 297ms\n",
      "789:\tlearn: 20.7000005\ttotal: 1.11s\tremaining: 296ms\n",
      "790:\tlearn: 20.6366378\ttotal: 1.11s\tremaining: 294ms\n",
      "791:\tlearn: 20.6170923\ttotal: 1.11s\tremaining: 293ms\n",
      "792:\tlearn: 20.5485950\ttotal: 1.12s\tremaining: 292ms\n",
      "793:\tlearn: 20.5212323\ttotal: 1.12s\tremaining: 290ms\n",
      "794:\tlearn: 20.5004347\ttotal: 1.12s\tremaining: 289ms\n",
      "795:\tlearn: 20.4884649\ttotal: 1.12s\tremaining: 287ms\n",
      "796:\tlearn: 20.3727007\ttotal: 1.12s\tremaining: 286ms\n",
      "797:\tlearn: 20.2776166\ttotal: 1.12s\tremaining: 284ms\n",
      "798:\tlearn: 20.2690965\ttotal: 1.12s\tremaining: 283ms\n",
      "799:\tlearn: 20.2166634\ttotal: 1.13s\tremaining: 282ms\n",
      "800:\tlearn: 20.1160179\ttotal: 1.13s\tremaining: 280ms\n",
      "801:\tlearn: 20.0642268\ttotal: 1.13s\tremaining: 279ms\n",
      "802:\tlearn: 20.0323601\ttotal: 1.13s\tremaining: 277ms\n",
      "803:\tlearn: 19.9485334\ttotal: 1.13s\tremaining: 276ms\n",
      "804:\tlearn: 19.9071725\ttotal: 1.13s\tremaining: 274ms\n",
      "805:\tlearn: 19.8943564\ttotal: 1.13s\tremaining: 273ms\n",
      "806:\tlearn: 19.7804687\ttotal: 1.14s\tremaining: 271ms\n",
      "807:\tlearn: 19.7343406\ttotal: 1.14s\tremaining: 270ms\n",
      "808:\tlearn: 19.6963930\ttotal: 1.14s\tremaining: 269ms\n",
      "809:\tlearn: 19.6705675\ttotal: 1.14s\tremaining: 267ms\n",
      "810:\tlearn: 19.6382933\ttotal: 1.14s\tremaining: 266ms\n",
      "811:\tlearn: 19.5889191\ttotal: 1.14s\tremaining: 264ms\n",
      "812:\tlearn: 19.5638487\ttotal: 1.14s\tremaining: 263ms\n",
      "813:\tlearn: 19.4926424\ttotal: 1.14s\tremaining: 262ms\n",
      "814:\tlearn: 19.3961396\ttotal: 1.15s\tremaining: 260ms\n",
      "815:\tlearn: 19.3880242\ttotal: 1.15s\tremaining: 259ms\n",
      "816:\tlearn: 19.2808372\ttotal: 1.15s\tremaining: 257ms\n",
      "817:\tlearn: 19.1712815\ttotal: 1.15s\tremaining: 256ms\n",
      "818:\tlearn: 19.0909823\ttotal: 1.15s\tremaining: 254ms\n",
      "819:\tlearn: 18.9993504\ttotal: 1.15s\tremaining: 253ms\n",
      "820:\tlearn: 18.9773399\ttotal: 1.15s\tremaining: 252ms\n",
      "821:\tlearn: 18.8989735\ttotal: 1.16s\tremaining: 250ms\n",
      "822:\tlearn: 18.8275176\ttotal: 1.16s\tremaining: 249ms\n",
      "823:\tlearn: 18.8092278\ttotal: 1.16s\tremaining: 247ms\n",
      "824:\tlearn: 18.7938447\ttotal: 1.16s\tremaining: 246ms\n",
      "825:\tlearn: 18.7871267\ttotal: 1.16s\tremaining: 244ms\n",
      "826:\tlearn: 18.7299674\ttotal: 1.16s\tremaining: 243ms\n",
      "827:\tlearn: 18.6808264\ttotal: 1.16s\tremaining: 242ms\n",
      "828:\tlearn: 18.5984875\ttotal: 1.16s\tremaining: 240ms\n",
      "829:\tlearn: 18.5170088\ttotal: 1.17s\tremaining: 239ms\n",
      "830:\tlearn: 18.4707382\ttotal: 1.17s\tremaining: 237ms\n",
      "831:\tlearn: 18.4368619\ttotal: 1.17s\tremaining: 236ms\n",
      "832:\tlearn: 18.3683191\ttotal: 1.17s\tremaining: 234ms\n",
      "833:\tlearn: 18.3295058\ttotal: 1.17s\tremaining: 233ms\n",
      "834:\tlearn: 18.2587263\ttotal: 1.17s\tremaining: 232ms\n",
      "835:\tlearn: 18.2103679\ttotal: 1.17s\tremaining: 230ms\n",
      "836:\tlearn: 18.1781032\ttotal: 1.17s\tremaining: 229ms\n",
      "837:\tlearn: 18.0746921\ttotal: 1.18s\tremaining: 227ms\n",
      "838:\tlearn: 18.0131984\ttotal: 1.18s\tremaining: 226ms\n",
      "839:\tlearn: 17.9510877\ttotal: 1.18s\tremaining: 225ms\n",
      "840:\tlearn: 17.8893536\ttotal: 1.18s\tremaining: 223ms\n",
      "841:\tlearn: 17.8813583\ttotal: 1.18s\tremaining: 222ms\n",
      "842:\tlearn: 17.8129857\ttotal: 1.18s\tremaining: 220ms\n",
      "843:\tlearn: 17.7981202\ttotal: 1.18s\tremaining: 219ms\n",
      "844:\tlearn: 17.7414627\ttotal: 1.19s\tremaining: 218ms\n",
      "845:\tlearn: 17.7255534\ttotal: 1.19s\tremaining: 216ms\n",
      "846:\tlearn: 17.6965545\ttotal: 1.19s\tremaining: 215ms\n",
      "847:\tlearn: 17.6499397\ttotal: 1.19s\tremaining: 213ms\n",
      "848:\tlearn: 17.6133852\ttotal: 1.19s\tremaining: 212ms\n",
      "849:\tlearn: 17.5621620\ttotal: 1.19s\tremaining: 210ms\n",
      "850:\tlearn: 17.5064049\ttotal: 1.19s\tremaining: 209ms\n",
      "851:\tlearn: 17.4643467\ttotal: 1.19s\tremaining: 208ms\n",
      "852:\tlearn: 17.4569544\ttotal: 1.2s\tremaining: 206ms\n",
      "853:\tlearn: 17.3731897\ttotal: 1.2s\tremaining: 205ms\n",
      "854:\tlearn: 17.3313609\ttotal: 1.2s\tremaining: 203ms\n",
      "855:\tlearn: 17.2781582\ttotal: 1.2s\tremaining: 202ms\n",
      "856:\tlearn: 17.2283433\ttotal: 1.2s\tremaining: 200ms\n",
      "857:\tlearn: 17.1944614\ttotal: 1.2s\tremaining: 199ms\n",
      "858:\tlearn: 17.1573393\ttotal: 1.2s\tremaining: 198ms\n",
      "859:\tlearn: 17.0975067\ttotal: 1.21s\tremaining: 196ms\n",
      "860:\tlearn: 17.0462043\ttotal: 1.21s\tremaining: 195ms\n",
      "861:\tlearn: 17.0118805\ttotal: 1.21s\tremaining: 193ms\n",
      "862:\tlearn: 17.0045195\ttotal: 1.21s\tremaining: 192ms\n",
      "863:\tlearn: 16.9528999\ttotal: 1.21s\tremaining: 191ms\n",
      "864:\tlearn: 16.9270632\ttotal: 1.21s\tremaining: 189ms\n",
      "865:\tlearn: 16.8915252\ttotal: 1.21s\tremaining: 188ms\n",
      "866:\tlearn: 16.7946576\ttotal: 1.22s\tremaining: 186ms\n",
      "867:\tlearn: 16.7737222\ttotal: 1.22s\tremaining: 185ms\n",
      "868:\tlearn: 16.7192509\ttotal: 1.22s\tremaining: 184ms\n",
      "869:\tlearn: 16.7138388\ttotal: 1.22s\tremaining: 182ms\n",
      "870:\tlearn: 16.6877768\ttotal: 1.22s\tremaining: 181ms\n",
      "871:\tlearn: 16.6265748\ttotal: 1.22s\tremaining: 179ms\n",
      "872:\tlearn: 16.5641199\ttotal: 1.22s\tremaining: 178ms\n",
      "873:\tlearn: 16.4935111\ttotal: 1.23s\tremaining: 177ms\n",
      "874:\tlearn: 16.4250863\ttotal: 1.23s\tremaining: 175ms\n",
      "875:\tlearn: 16.3566947\ttotal: 1.23s\tremaining: 174ms\n",
      "876:\tlearn: 16.2731185\ttotal: 1.23s\tremaining: 172ms\n",
      "877:\tlearn: 16.2207923\ttotal: 1.23s\tremaining: 171ms\n",
      "878:\tlearn: 16.2073108\ttotal: 1.23s\tremaining: 170ms\n",
      "879:\tlearn: 16.1336576\ttotal: 1.23s\tremaining: 168ms\n",
      "880:\tlearn: 16.0994139\ttotal: 1.23s\tremaining: 167ms\n",
      "881:\tlearn: 16.0720217\ttotal: 1.24s\tremaining: 165ms\n",
      "882:\tlearn: 16.0192163\ttotal: 1.24s\tremaining: 164ms\n",
      "883:\tlearn: 16.0021989\ttotal: 1.24s\tremaining: 162ms\n",
      "884:\tlearn: 15.9003005\ttotal: 1.24s\tremaining: 161ms\n",
      "885:\tlearn: 15.8685768\ttotal: 1.24s\tremaining: 160ms\n",
      "886:\tlearn: 15.7757199\ttotal: 1.24s\tremaining: 158ms\n",
      "887:\tlearn: 15.7280015\ttotal: 1.24s\tremaining: 157ms\n",
      "888:\tlearn: 15.7037867\ttotal: 1.24s\tremaining: 155ms\n",
      "889:\tlearn: 15.6876254\ttotal: 1.25s\tremaining: 154ms\n",
      "890:\tlearn: 15.6002589\ttotal: 1.25s\tremaining: 153ms\n",
      "891:\tlearn: 15.5663914\ttotal: 1.25s\tremaining: 151ms\n",
      "892:\tlearn: 15.4827503\ttotal: 1.25s\tremaining: 150ms\n",
      "893:\tlearn: 15.4422647\ttotal: 1.25s\tremaining: 148ms\n",
      "894:\tlearn: 15.4230904\ttotal: 1.25s\tremaining: 147ms\n",
      "895:\tlearn: 15.3907978\ttotal: 1.25s\tremaining: 146ms\n",
      "896:\tlearn: 15.3022423\ttotal: 1.25s\tremaining: 144ms\n",
      "897:\tlearn: 15.2770800\ttotal: 1.26s\tremaining: 143ms\n",
      "898:\tlearn: 15.2708396\ttotal: 1.26s\tremaining: 142ms\n",
      "899:\tlearn: 15.2217814\ttotal: 1.26s\tremaining: 140ms\n",
      "900:\tlearn: 15.2150872\ttotal: 1.26s\tremaining: 139ms\n",
      "901:\tlearn: 15.1938758\ttotal: 1.26s\tremaining: 137ms\n",
      "902:\tlearn: 15.1087389\ttotal: 1.26s\tremaining: 136ms\n",
      "903:\tlearn: 15.0270836\ttotal: 1.27s\tremaining: 134ms\n",
      "904:\tlearn: 14.9579009\ttotal: 1.27s\tremaining: 133ms\n",
      "905:\tlearn: 14.9321713\ttotal: 1.27s\tremaining: 132ms\n",
      "906:\tlearn: 14.9254894\ttotal: 1.27s\tremaining: 130ms\n",
      "907:\tlearn: 14.8662999\ttotal: 1.27s\tremaining: 129ms\n",
      "908:\tlearn: 14.7969088\ttotal: 1.27s\tremaining: 127ms\n",
      "909:\tlearn: 14.7187437\ttotal: 1.27s\tremaining: 126ms\n",
      "910:\tlearn: 14.6594229\ttotal: 1.27s\tremaining: 125ms\n",
      "911:\tlearn: 14.6109629\ttotal: 1.28s\tremaining: 123ms\n",
      "912:\tlearn: 14.5833869\ttotal: 1.28s\tremaining: 122ms\n",
      "913:\tlearn: 14.5677206\ttotal: 1.28s\tremaining: 120ms\n",
      "914:\tlearn: 14.5260964\ttotal: 1.28s\tremaining: 119ms\n",
      "915:\tlearn: 14.4838792\ttotal: 1.28s\tremaining: 118ms\n",
      "916:\tlearn: 14.4614097\ttotal: 1.28s\tremaining: 116ms\n",
      "917:\tlearn: 14.4432212\ttotal: 1.28s\tremaining: 115ms\n",
      "918:\tlearn: 14.4363977\ttotal: 1.28s\tremaining: 113ms\n",
      "919:\tlearn: 14.3740822\ttotal: 1.29s\tremaining: 112ms\n",
      "920:\tlearn: 14.3363459\ttotal: 1.29s\tremaining: 111ms\n",
      "921:\tlearn: 14.2862425\ttotal: 1.29s\tremaining: 109ms\n",
      "922:\tlearn: 14.2195191\ttotal: 1.29s\tremaining: 108ms\n",
      "923:\tlearn: 14.1752422\ttotal: 1.29s\tremaining: 107ms\n",
      "924:\tlearn: 14.1582897\ttotal: 1.3s\tremaining: 105ms\n",
      "925:\tlearn: 14.0892518\ttotal: 1.3s\tremaining: 104ms\n",
      "926:\tlearn: 14.0163904\ttotal: 1.3s\tremaining: 102ms\n",
      "927:\tlearn: 13.9674906\ttotal: 1.3s\tremaining: 101ms\n",
      "928:\tlearn: 13.9421041\ttotal: 1.3s\tremaining: 99.6ms\n",
      "929:\tlearn: 13.9264108\ttotal: 1.3s\tremaining: 98.2ms\n",
      "930:\tlearn: 13.8953443\ttotal: 1.31s\tremaining: 96.8ms\n",
      "931:\tlearn: 13.8514821\ttotal: 1.31s\tremaining: 95.4ms\n",
      "932:\tlearn: 13.8317730\ttotal: 1.31s\tremaining: 94ms\n",
      "933:\tlearn: 13.7980615\ttotal: 1.31s\tremaining: 92.6ms\n",
      "934:\tlearn: 13.7252551\ttotal: 1.31s\tremaining: 91.2ms\n",
      "935:\tlearn: 13.6867475\ttotal: 1.31s\tremaining: 89.8ms\n",
      "936:\tlearn: 13.6663164\ttotal: 1.31s\tremaining: 88.4ms\n",
      "937:\tlearn: 13.6108173\ttotal: 1.31s\tremaining: 87ms\n",
      "938:\tlearn: 13.5827380\ttotal: 1.32s\tremaining: 85.6ms\n",
      "939:\tlearn: 13.5211246\ttotal: 1.32s\tremaining: 84.2ms\n",
      "940:\tlearn: 13.4752089\ttotal: 1.32s\tremaining: 82.8ms\n",
      "941:\tlearn: 13.4283115\ttotal: 1.32s\tremaining: 81.3ms\n",
      "942:\tlearn: 13.3912327\ttotal: 1.32s\tremaining: 79.9ms\n",
      "943:\tlearn: 13.3593766\ttotal: 1.32s\tremaining: 78.5ms\n",
      "944:\tlearn: 13.3015250\ttotal: 1.32s\tremaining: 77.1ms\n",
      "945:\tlearn: 13.2587480\ttotal: 1.33s\tremaining: 75.7ms\n",
      "946:\tlearn: 13.1949436\ttotal: 1.33s\tremaining: 74.3ms\n",
      "947:\tlearn: 13.1552441\ttotal: 1.33s\tremaining: 72.9ms\n",
      "948:\tlearn: 13.0700947\ttotal: 1.33s\tremaining: 71.5ms\n",
      "949:\tlearn: 13.0460884\ttotal: 1.33s\tremaining: 70.1ms\n",
      "950:\tlearn: 13.0315972\ttotal: 1.33s\tremaining: 68.7ms\n",
      "951:\tlearn: 12.9964111\ttotal: 1.33s\tremaining: 67.3ms\n",
      "952:\tlearn: 12.9757139\ttotal: 1.34s\tremaining: 65.9ms\n",
      "953:\tlearn: 12.9120533\ttotal: 1.34s\tremaining: 64.5ms\n",
      "954:\tlearn: 12.8776679\ttotal: 1.34s\tremaining: 63.1ms\n",
      "955:\tlearn: 12.8703243\ttotal: 1.34s\tremaining: 61.7ms\n",
      "956:\tlearn: 12.8058615\ttotal: 1.34s\tremaining: 60.3ms\n",
      "957:\tlearn: 12.7637381\ttotal: 1.34s\tremaining: 58.9ms\n",
      "958:\tlearn: 12.7517063\ttotal: 1.34s\tremaining: 57.5ms\n",
      "959:\tlearn: 12.7382108\ttotal: 1.34s\tremaining: 56.1ms\n",
      "960:\tlearn: 12.6881713\ttotal: 1.35s\tremaining: 54.7ms\n",
      "961:\tlearn: 12.6728317\ttotal: 1.35s\tremaining: 53.3ms\n",
      "962:\tlearn: 12.6386609\ttotal: 1.35s\tremaining: 51.8ms\n",
      "963:\tlearn: 12.5837642\ttotal: 1.35s\tremaining: 50.4ms\n",
      "964:\tlearn: 12.5689789\ttotal: 1.35s\tremaining: 49ms\n",
      "965:\tlearn: 12.5362136\ttotal: 1.35s\tremaining: 47.6ms\n",
      "966:\tlearn: 12.5186020\ttotal: 1.35s\tremaining: 46.2ms\n",
      "967:\tlearn: 12.4787889\ttotal: 1.35s\tremaining: 44.8ms\n",
      "968:\tlearn: 12.4463866\ttotal: 1.36s\tremaining: 43.4ms\n",
      "969:\tlearn: 12.3919484\ttotal: 1.36s\tremaining: 42ms\n",
      "970:\tlearn: 12.3583173\ttotal: 1.36s\tremaining: 40.6ms\n",
      "971:\tlearn: 12.3430204\ttotal: 1.36s\tremaining: 39.2ms\n",
      "972:\tlearn: 12.3036135\ttotal: 1.36s\tremaining: 37.8ms\n",
      "973:\tlearn: 12.2785886\ttotal: 1.36s\tremaining: 36.4ms\n",
      "974:\tlearn: 12.2424148\ttotal: 1.36s\tremaining: 35ms\n",
      "975:\tlearn: 12.2287225\ttotal: 1.37s\tremaining: 33.6ms\n",
      "976:\tlearn: 12.1894056\ttotal: 1.37s\tremaining: 32.2ms\n",
      "977:\tlearn: 12.1399699\ttotal: 1.37s\tremaining: 30.8ms\n",
      "978:\tlearn: 12.1165698\ttotal: 1.37s\tremaining: 29.4ms\n",
      "979:\tlearn: 12.1084930\ttotal: 1.37s\tremaining: 28ms\n",
      "980:\tlearn: 12.1041455\ttotal: 1.37s\tremaining: 26.6ms\n",
      "981:\tlearn: 12.0749440\ttotal: 1.37s\tremaining: 25.2ms\n",
      "982:\tlearn: 12.0676323\ttotal: 1.38s\tremaining: 23.8ms\n",
      "983:\tlearn: 12.0253491\ttotal: 1.38s\tremaining: 22.4ms\n",
      "984:\tlearn: 11.9725269\ttotal: 1.38s\tremaining: 21ms\n",
      "985:\tlearn: 11.9344239\ttotal: 1.38s\tremaining: 19.6ms\n",
      "986:\tlearn: 11.8870660\ttotal: 1.38s\tremaining: 18.2ms\n",
      "987:\tlearn: 11.8411099\ttotal: 1.38s\tremaining: 16.8ms\n",
      "988:\tlearn: 11.7973602\ttotal: 1.38s\tremaining: 15.4ms\n",
      "989:\tlearn: 11.7514376\ttotal: 1.39s\tremaining: 14ms\n",
      "990:\tlearn: 11.7232746\ttotal: 1.39s\tremaining: 12.6ms\n",
      "991:\tlearn: 11.6852796\ttotal: 1.39s\tremaining: 11.2ms\n",
      "992:\tlearn: 11.6463794\ttotal: 1.39s\tremaining: 9.79ms\n",
      "993:\tlearn: 11.6106308\ttotal: 1.39s\tremaining: 8.39ms\n",
      "994:\tlearn: 11.5731961\ttotal: 1.39s\tremaining: 6.99ms\n",
      "995:\tlearn: 11.5417359\ttotal: 1.39s\tremaining: 5.59ms\n",
      "996:\tlearn: 11.5167117\ttotal: 1.39s\tremaining: 4.2ms\n",
      "997:\tlearn: 11.4745232\ttotal: 1.4s\tremaining: 2.8ms\n",
      "998:\tlearn: 11.4604481\ttotal: 1.4s\tremaining: 1.4ms\n",
      "999:\tlearn: 11.4510502\ttotal: 1.4s\tremaining: 0us\n"
     ]
    }
   ],
   "source": [
    "catb = CatBoostRegressor()\n",
    "catb_model = catb.fit(X_train, y_train) # Modelimizi Kurduk"
   ]
  },
  {
   "cell_type": "markdown",
   "id": "02798e9c",
   "metadata": {
    "papermill": {
     "duration": 0.130943,
     "end_time": "2022-07-07T18:27:38.840453",
     "exception": false,
     "start_time": "2022-07-07T18:27:38.709510",
     "status": "completed"
    },
    "tags": []
   },
   "source": [
    "## Tahmin"
   ]
  },
  {
   "cell_type": "code",
   "execution_count": 91,
   "id": "df208ec1",
   "metadata": {
    "execution": {
     "iopub.execute_input": "2022-07-07T18:27:39.104876Z",
     "iopub.status.busy": "2022-07-07T18:27:39.104562Z",
     "iopub.status.idle": "2022-07-07T18:27:39.115862Z",
     "shell.execute_reply": "2022-07-07T18:27:39.115131Z"
    },
    "papermill": {
     "duration": 0.14612,
     "end_time": "2022-07-07T18:27:39.117829",
     "exception": false,
     "start_time": "2022-07-07T18:27:38.971709",
     "status": "completed"
    },
    "tags": []
   },
   "outputs": [
    {
     "data": {
      "text/plain": [
       "351.194631344607"
      ]
     },
     "execution_count": 91,
     "metadata": {},
     "output_type": "execute_result"
    }
   ],
   "source": [
    "y_pred = catb_model.predict(X_test)\n",
    "np.sqrt(mean_squared_error(y_test, y_pred))"
   ]
  },
  {
   "cell_type": "markdown",
   "id": "d2bc4904",
   "metadata": {
    "papermill": {
     "duration": 0.132704,
     "end_time": "2022-07-07T18:27:39.383669",
     "exception": false,
     "start_time": "2022-07-07T18:27:39.250965",
     "status": "completed"
    },
    "tags": []
   },
   "source": [
    "## Model Tuning"
   ]
  },
  {
   "cell_type": "code",
   "execution_count": 92,
   "id": "c9dc744a",
   "metadata": {
    "execution": {
     "iopub.execute_input": "2022-07-07T18:27:39.680942Z",
     "iopub.status.busy": "2022-07-07T18:27:39.680676Z",
     "iopub.status.idle": "2022-07-07T18:27:39.686735Z",
     "shell.execute_reply": "2022-07-07T18:27:39.685917Z"
    },
    "papermill": {
     "duration": 0.141373,
     "end_time": "2022-07-07T18:27:39.688581",
     "exception": false,
     "start_time": "2022-07-07T18:27:39.547208",
     "status": "completed"
    },
    "tags": []
   },
   "outputs": [],
   "source": [
    "catb_grid = {\n",
    "    'iterations': [200,500,1000,2000],\n",
    "    'learning_rate': [0.01, 0.03, 0.05, 0.1],\n",
    "    'depth': [3,4,5,6,7,8] } # Isimler Bi Tik Degisiklik Gosterebiliyor Ama Ana Mantik Ayni Tum Modellerde"
   ]
  },
  {
   "cell_type": "code",
   "execution_count": 93,
   "id": "a38fff69",
   "metadata": {
    "execution": {
     "iopub.execute_input": "2022-07-07T18:27:39.958890Z",
     "iopub.status.busy": "2022-07-07T18:27:39.958618Z",
     "iopub.status.idle": "2022-07-07T18:27:39.962710Z",
     "shell.execute_reply": "2022-07-07T18:27:39.961852Z"
    },
    "papermill": {
     "duration": 0.140707,
     "end_time": "2022-07-07T18:27:39.964612",
     "exception": false,
     "start_time": "2022-07-07T18:27:39.823905",
     "status": "completed"
    },
    "tags": []
   },
   "outputs": [],
   "source": [
    "catb = CatBoostRegressor()\n",
    "catb_cv_model = GridSearchCV(catb, catb_grid, cv=5, n_jobs = -1, verbose = 2)"
   ]
  },
  {
   "cell_type": "code",
   "execution_count": 94,
   "id": "f446bc0a",
   "metadata": {
    "execution": {
     "iopub.execute_input": "2022-07-07T18:27:40.227699Z",
     "iopub.status.busy": "2022-07-07T18:27:40.227431Z",
     "iopub.status.idle": "2022-07-07T18:27:40.233907Z",
     "shell.execute_reply": "2022-07-07T18:27:40.233070Z"
    },
    "papermill": {
     "duration": 0.140686,
     "end_time": "2022-07-07T18:27:40.235751",
     "exception": false,
     "start_time": "2022-07-07T18:27:40.095065",
     "status": "completed"
    },
    "tags": []
   },
   "outputs": [
    {
     "data": {
      "text/plain": [
       "'\\ncatb_cv_model.fit(X_train, y_train)\\n\\n'"
      ]
     },
     "execution_count": 94,
     "metadata": {},
     "output_type": "execute_result"
    }
   ],
   "source": [
    "\"\"\"\n",
    "catb_cv_model.fit(X_train, y_train)\n",
    "\n",
    "\"\"\""
   ]
  },
  {
   "cell_type": "code",
   "execution_count": 95,
   "id": "451c11e8",
   "metadata": {
    "execution": {
     "iopub.execute_input": "2022-07-07T18:27:40.499376Z",
     "iopub.status.busy": "2022-07-07T18:27:40.499078Z",
     "iopub.status.idle": "2022-07-07T18:27:40.504169Z",
     "shell.execute_reply": "2022-07-07T18:27:40.503326Z"
    },
    "papermill": {
     "duration": 0.139855,
     "end_time": "2022-07-07T18:27:40.506196",
     "exception": false,
     "start_time": "2022-07-07T18:27:40.366341",
     "status": "completed"
    },
    "tags": []
   },
   "outputs": [
    {
     "data": {
      "text/plain": [
       "'\\ncatb_cv_model.best_params_\\n\\n'"
      ]
     },
     "execution_count": 95,
     "metadata": {},
     "output_type": "execute_result"
    }
   ],
   "source": [
    "\"\"\"\n",
    "catb_cv_model.best_params_\n",
    "\n",
    "\"\"\""
   ]
  },
  {
   "cell_type": "code",
   "execution_count": 96,
   "id": "66d096df",
   "metadata": {
    "collapsed": true,
    "execution": {
     "iopub.execute_input": "2022-07-07T18:27:40.773729Z",
     "iopub.status.busy": "2022-07-07T18:27:40.773456Z",
     "iopub.status.idle": "2022-07-07T18:27:41.567538Z",
     "shell.execute_reply": "2022-07-07T18:27:41.566368Z"
    },
    "jupyter": {
     "outputs_hidden": true
    },
    "papermill": {
     "duration": 0.930773,
     "end_time": "2022-07-07T18:27:41.569899",
     "exception": false,
     "start_time": "2022-07-07T18:27:40.639126",
     "status": "completed"
    },
    "tags": []
   },
   "outputs": [
    {
     "name": "stdout",
     "output_type": "stream",
     "text": [
      "0:\tlearn: 442.4903140\ttotal: 6.76ms\tremaining: 1.34s\n",
      "1:\tlearn: 440.4621805\ttotal: 10.8ms\tremaining: 1.06s\n",
      "2:\tlearn: 438.5132091\ttotal: 14.4ms\tremaining: 946ms\n",
      "3:\tlearn: 436.2180377\ttotal: 17.7ms\tremaining: 866ms\n",
      "4:\tlearn: 434.0461579\ttotal: 21.1ms\tremaining: 822ms\n",
      "5:\tlearn: 431.8437770\ttotal: 24.4ms\tremaining: 788ms\n",
      "6:\tlearn: 430.1594587\ttotal: 27.6ms\tremaining: 762ms\n",
      "7:\tlearn: 428.0941830\ttotal: 31ms\tremaining: 745ms\n",
      "8:\tlearn: 426.0998774\ttotal: 34.7ms\tremaining: 737ms\n",
      "9:\tlearn: 424.0249067\ttotal: 35.6ms\tremaining: 676ms\n",
      "10:\tlearn: 422.1921868\ttotal: 38.9ms\tremaining: 669ms\n",
      "11:\tlearn: 420.2506764\ttotal: 42.4ms\tremaining: 664ms\n",
      "12:\tlearn: 418.3116383\ttotal: 46ms\tremaining: 662ms\n",
      "13:\tlearn: 416.2966847\ttotal: 49.8ms\tremaining: 662ms\n",
      "14:\tlearn: 414.5776175\ttotal: 53.6ms\tremaining: 661ms\n",
      "15:\tlearn: 412.8009394\ttotal: 57.4ms\tremaining: 660ms\n",
      "16:\tlearn: 410.9774146\ttotal: 60.9ms\tremaining: 656ms\n",
      "17:\tlearn: 409.1047417\ttotal: 64.5ms\tremaining: 653ms\n",
      "18:\tlearn: 407.6243957\ttotal: 68.2ms\tremaining: 650ms\n",
      "19:\tlearn: 405.9072209\ttotal: 71.8ms\tremaining: 646ms\n",
      "20:\tlearn: 404.2566200\ttotal: 75.3ms\tremaining: 642ms\n",
      "21:\tlearn: 402.5329859\ttotal: 78.7ms\tremaining: 637ms\n",
      "22:\tlearn: 400.6495607\ttotal: 82.1ms\tremaining: 632ms\n",
      "23:\tlearn: 398.8468643\ttotal: 85.5ms\tremaining: 627ms\n",
      "24:\tlearn: 397.0329195\ttotal: 88.9ms\tremaining: 623ms\n",
      "25:\tlearn: 395.4747968\ttotal: 92.5ms\tremaining: 619ms\n",
      "26:\tlearn: 393.7206925\ttotal: 96ms\tremaining: 615ms\n",
      "27:\tlearn: 392.2904125\ttotal: 99.4ms\tremaining: 611ms\n",
      "28:\tlearn: 390.5630617\ttotal: 103ms\tremaining: 605ms\n",
      "29:\tlearn: 389.1479370\ttotal: 106ms\tremaining: 601ms\n",
      "30:\tlearn: 387.6030700\ttotal: 109ms\tremaining: 596ms\n",
      "31:\tlearn: 386.0164157\ttotal: 113ms\tremaining: 593ms\n",
      "32:\tlearn: 384.1076046\ttotal: 116ms\tremaining: 588ms\n",
      "33:\tlearn: 382.3830744\ttotal: 120ms\tremaining: 583ms\n",
      "34:\tlearn: 380.5987560\ttotal: 123ms\tremaining: 580ms\n",
      "35:\tlearn: 379.0931667\ttotal: 127ms\tremaining: 576ms\n",
      "36:\tlearn: 377.6455643\ttotal: 130ms\tremaining: 573ms\n",
      "37:\tlearn: 376.0951499\ttotal: 134ms\tremaining: 570ms\n",
      "38:\tlearn: 374.6596684\ttotal: 137ms\tremaining: 565ms\n",
      "39:\tlearn: 372.8982744\ttotal: 140ms\tremaining: 561ms\n",
      "40:\tlearn: 371.4430906\ttotal: 144ms\tremaining: 557ms\n",
      "41:\tlearn: 370.1346896\ttotal: 147ms\tremaining: 553ms\n",
      "42:\tlearn: 368.3409801\ttotal: 150ms\tremaining: 549ms\n",
      "43:\tlearn: 366.9161522\ttotal: 154ms\tremaining: 546ms\n",
      "44:\tlearn: 365.5390053\ttotal: 158ms\tremaining: 543ms\n",
      "45:\tlearn: 364.0156710\ttotal: 161ms\tremaining: 539ms\n",
      "46:\tlearn: 362.5688240\ttotal: 165ms\tremaining: 537ms\n",
      "47:\tlearn: 361.0766459\ttotal: 168ms\tremaining: 533ms\n",
      "48:\tlearn: 359.4068914\ttotal: 172ms\tremaining: 530ms\n",
      "49:\tlearn: 358.0264840\ttotal: 175ms\tremaining: 526ms\n",
      "50:\tlearn: 356.6569261\ttotal: 179ms\tremaining: 523ms\n",
      "51:\tlearn: 355.3295581\ttotal: 183ms\tremaining: 520ms\n",
      "52:\tlearn: 353.7981543\ttotal: 186ms\tremaining: 517ms\n",
      "53:\tlearn: 352.3857927\ttotal: 190ms\tremaining: 514ms\n",
      "54:\tlearn: 351.0170630\ttotal: 194ms\tremaining: 510ms\n",
      "55:\tlearn: 349.5583299\ttotal: 197ms\tremaining: 507ms\n",
      "56:\tlearn: 348.3551914\ttotal: 203ms\tremaining: 508ms\n",
      "57:\tlearn: 347.0770426\ttotal: 207ms\tremaining: 507ms\n",
      "58:\tlearn: 345.9005401\ttotal: 211ms\tremaining: 505ms\n",
      "59:\tlearn: 344.5492739\ttotal: 215ms\tremaining: 502ms\n",
      "60:\tlearn: 343.4861303\ttotal: 219ms\tremaining: 498ms\n",
      "61:\tlearn: 342.1246162\ttotal: 222ms\tremaining: 495ms\n",
      "62:\tlearn: 340.6842766\ttotal: 226ms\tremaining: 491ms\n",
      "63:\tlearn: 339.3315019\ttotal: 229ms\tremaining: 487ms\n",
      "64:\tlearn: 337.8521507\ttotal: 232ms\tremaining: 483ms\n",
      "65:\tlearn: 336.5759989\ttotal: 236ms\tremaining: 479ms\n",
      "66:\tlearn: 335.2858902\ttotal: 239ms\tremaining: 475ms\n",
      "67:\tlearn: 334.0030235\ttotal: 243ms\tremaining: 471ms\n",
      "68:\tlearn: 332.7313763\ttotal: 246ms\tremaining: 467ms\n",
      "69:\tlearn: 331.5974885\ttotal: 250ms\tremaining: 464ms\n",
      "70:\tlearn: 330.5354149\ttotal: 254ms\tremaining: 461ms\n",
      "71:\tlearn: 329.3024752\ttotal: 257ms\tremaining: 457ms\n",
      "72:\tlearn: 328.0534820\ttotal: 261ms\tremaining: 453ms\n",
      "73:\tlearn: 326.9395455\ttotal: 264ms\tremaining: 450ms\n",
      "74:\tlearn: 325.5288974\ttotal: 267ms\tremaining: 446ms\n",
      "75:\tlearn: 324.3277188\ttotal: 271ms\tremaining: 442ms\n",
      "76:\tlearn: 323.0868571\ttotal: 274ms\tremaining: 438ms\n",
      "77:\tlearn: 321.8690017\ttotal: 278ms\tremaining: 435ms\n",
      "78:\tlearn: 320.9509169\ttotal: 281ms\tremaining: 431ms\n",
      "79:\tlearn: 319.8700363\ttotal: 285ms\tremaining: 427ms\n",
      "80:\tlearn: 318.4920699\ttotal: 288ms\tremaining: 424ms\n",
      "81:\tlearn: 317.4778062\ttotal: 292ms\tremaining: 420ms\n",
      "82:\tlearn: 316.3636635\ttotal: 295ms\tremaining: 416ms\n",
      "83:\tlearn: 315.1041604\ttotal: 299ms\tremaining: 413ms\n",
      "84:\tlearn: 314.0018701\ttotal: 302ms\tremaining: 409ms\n",
      "85:\tlearn: 312.8242118\ttotal: 306ms\tremaining: 405ms\n",
      "86:\tlearn: 311.7133822\ttotal: 309ms\tremaining: 401ms\n",
      "87:\tlearn: 310.6125773\ttotal: 313ms\tremaining: 398ms\n",
      "88:\tlearn: 309.5934070\ttotal: 316ms\tremaining: 394ms\n",
      "89:\tlearn: 308.6035314\ttotal: 320ms\tremaining: 392ms\n",
      "90:\tlearn: 307.4645756\ttotal: 324ms\tremaining: 388ms\n",
      "91:\tlearn: 306.3359620\ttotal: 328ms\tremaining: 385ms\n",
      "92:\tlearn: 305.3546576\ttotal: 331ms\tremaining: 381ms\n",
      "93:\tlearn: 304.3497567\ttotal: 335ms\tremaining: 378ms\n",
      "94:\tlearn: 303.3926155\ttotal: 338ms\tremaining: 374ms\n",
      "95:\tlearn: 302.1234778\ttotal: 342ms\tremaining: 370ms\n",
      "96:\tlearn: 300.8748060\ttotal: 346ms\tremaining: 367ms\n",
      "97:\tlearn: 299.8192745\ttotal: 349ms\tremaining: 363ms\n",
      "98:\tlearn: 298.8369756\ttotal: 352ms\tremaining: 359ms\n",
      "99:\tlearn: 297.8913508\ttotal: 356ms\tremaining: 356ms\n",
      "100:\tlearn: 296.8220741\ttotal: 359ms\tremaining: 352ms\n",
      "101:\tlearn: 295.8591240\ttotal: 363ms\tremaining: 349ms\n",
      "102:\tlearn: 295.0212733\ttotal: 366ms\tremaining: 345ms\n",
      "103:\tlearn: 293.9712550\ttotal: 370ms\tremaining: 342ms\n",
      "104:\tlearn: 292.8563786\ttotal: 374ms\tremaining: 338ms\n",
      "105:\tlearn: 291.8182216\ttotal: 377ms\tremaining: 335ms\n",
      "106:\tlearn: 290.8176654\ttotal: 381ms\tremaining: 331ms\n",
      "107:\tlearn: 289.9383970\ttotal: 383ms\tremaining: 326ms\n",
      "108:\tlearn: 288.7005005\ttotal: 386ms\tremaining: 323ms\n",
      "109:\tlearn: 287.7512562\ttotal: 390ms\tremaining: 319ms\n",
      "110:\tlearn: 286.8929047\ttotal: 393ms\tremaining: 315ms\n",
      "111:\tlearn: 285.9704538\ttotal: 399ms\tremaining: 313ms\n",
      "112:\tlearn: 284.9057160\ttotal: 403ms\tremaining: 310ms\n",
      "113:\tlearn: 284.1826027\ttotal: 406ms\tremaining: 307ms\n",
      "114:\tlearn: 283.1170272\ttotal: 410ms\tremaining: 303ms\n",
      "115:\tlearn: 282.0680805\ttotal: 413ms\tremaining: 299ms\n",
      "116:\tlearn: 281.2294931\ttotal: 417ms\tremaining: 295ms\n",
      "117:\tlearn: 280.2761021\ttotal: 420ms\tremaining: 292ms\n",
      "118:\tlearn: 279.4292163\ttotal: 423ms\tremaining: 288ms\n",
      "119:\tlearn: 278.5105683\ttotal: 427ms\tremaining: 285ms\n",
      "120:\tlearn: 277.6361767\ttotal: 430ms\tremaining: 281ms\n",
      "121:\tlearn: 276.8037869\ttotal: 434ms\tremaining: 277ms\n",
      "122:\tlearn: 276.0239867\ttotal: 437ms\tremaining: 274ms\n",
      "123:\tlearn: 275.1795488\ttotal: 441ms\tremaining: 270ms\n",
      "124:\tlearn: 274.3292722\ttotal: 444ms\tremaining: 266ms\n",
      "125:\tlearn: 273.4198837\ttotal: 447ms\tremaining: 263ms\n",
      "126:\tlearn: 272.5973891\ttotal: 451ms\tremaining: 259ms\n",
      "127:\tlearn: 271.8101515\ttotal: 454ms\tremaining: 256ms\n",
      "128:\tlearn: 270.9025424\ttotal: 458ms\tremaining: 252ms\n",
      "129:\tlearn: 270.0364886\ttotal: 461ms\tremaining: 248ms\n",
      "130:\tlearn: 269.0385322\ttotal: 465ms\tremaining: 245ms\n",
      "131:\tlearn: 268.1937827\ttotal: 468ms\tremaining: 241ms\n",
      "132:\tlearn: 267.4049794\ttotal: 472ms\tremaining: 238ms\n",
      "133:\tlearn: 266.6338446\ttotal: 475ms\tremaining: 234ms\n",
      "134:\tlearn: 265.8071481\ttotal: 479ms\tremaining: 231ms\n",
      "135:\tlearn: 264.8647141\ttotal: 482ms\tremaining: 227ms\n",
      "136:\tlearn: 264.1327683\ttotal: 486ms\tremaining: 224ms\n",
      "137:\tlearn: 263.2736152\ttotal: 490ms\tremaining: 220ms\n",
      "138:\tlearn: 262.3035083\ttotal: 493ms\tremaining: 216ms\n",
      "139:\tlearn: 261.5548509\ttotal: 496ms\tremaining: 213ms\n",
      "140:\tlearn: 260.6810614\ttotal: 500ms\tremaining: 209ms\n",
      "141:\tlearn: 259.9520565\ttotal: 503ms\tremaining: 205ms\n",
      "142:\tlearn: 259.1637940\ttotal: 506ms\tremaining: 202ms\n",
      "143:\tlearn: 258.4748956\ttotal: 510ms\tremaining: 198ms\n",
      "144:\tlearn: 257.7311746\ttotal: 513ms\tremaining: 195ms\n",
      "145:\tlearn: 256.9606337\ttotal: 517ms\tremaining: 191ms\n",
      "146:\tlearn: 256.3518311\ttotal: 520ms\tremaining: 187ms\n",
      "147:\tlearn: 255.5049330\ttotal: 523ms\tremaining: 184ms\n",
      "148:\tlearn: 254.7238850\ttotal: 527ms\tremaining: 180ms\n",
      "149:\tlearn: 253.8840501\ttotal: 531ms\tremaining: 177ms\n",
      "150:\tlearn: 253.0754983\ttotal: 534ms\tremaining: 173ms\n",
      "151:\tlearn: 252.2453750\ttotal: 538ms\tremaining: 170ms\n",
      "152:\tlearn: 251.5607633\ttotal: 541ms\tremaining: 166ms\n",
      "153:\tlearn: 250.9442552\ttotal: 545ms\tremaining: 163ms\n",
      "154:\tlearn: 250.1822151\ttotal: 548ms\tremaining: 159ms\n",
      "155:\tlearn: 249.4448988\ttotal: 552ms\tremaining: 156ms\n",
      "156:\tlearn: 248.7637093\ttotal: 555ms\tremaining: 152ms\n",
      "157:\tlearn: 248.1165411\ttotal: 559ms\tremaining: 149ms\n",
      "158:\tlearn: 247.4318005\ttotal: 562ms\tremaining: 145ms\n",
      "159:\tlearn: 246.6414875\ttotal: 566ms\tremaining: 141ms\n",
      "160:\tlearn: 245.9710878\ttotal: 569ms\tremaining: 138ms\n",
      "161:\tlearn: 245.2531651\ttotal: 573ms\tremaining: 134ms\n",
      "162:\tlearn: 244.3669394\ttotal: 576ms\tremaining: 131ms\n",
      "163:\tlearn: 243.5127155\ttotal: 580ms\tremaining: 127ms\n",
      "164:\tlearn: 242.7095888\ttotal: 584ms\tremaining: 124ms\n",
      "165:\tlearn: 242.0376740\ttotal: 587ms\tremaining: 120ms\n",
      "166:\tlearn: 241.2252825\ttotal: 591ms\tremaining: 117ms\n",
      "167:\tlearn: 240.5849477\ttotal: 596ms\tremaining: 114ms\n",
      "168:\tlearn: 239.7800585\ttotal: 600ms\tremaining: 110ms\n",
      "169:\tlearn: 239.1427178\ttotal: 604ms\tremaining: 107ms\n",
      "170:\tlearn: 238.5203908\ttotal: 607ms\tremaining: 103ms\n",
      "171:\tlearn: 237.7975333\ttotal: 611ms\tremaining: 99.4ms\n",
      "172:\tlearn: 237.3602037\ttotal: 611ms\tremaining: 95.4ms\n",
      "173:\tlearn: 236.6786338\ttotal: 614ms\tremaining: 91.8ms\n",
      "174:\tlearn: 236.0202210\ttotal: 618ms\tremaining: 88.2ms\n",
      "175:\tlearn: 235.3476701\ttotal: 621ms\tremaining: 84.7ms\n",
      "176:\tlearn: 234.6718452\ttotal: 624ms\tremaining: 81.1ms\n",
      "177:\tlearn: 233.8885269\ttotal: 628ms\tremaining: 77.6ms\n",
      "178:\tlearn: 233.1892495\ttotal: 631ms\tremaining: 74ms\n",
      "179:\tlearn: 232.5527509\ttotal: 634ms\tremaining: 70.5ms\n",
      "180:\tlearn: 231.9618575\ttotal: 638ms\tremaining: 66.9ms\n",
      "181:\tlearn: 231.3342102\ttotal: 641ms\tremaining: 63.4ms\n",
      "182:\tlearn: 230.7244333\ttotal: 644ms\tremaining: 59.8ms\n",
      "183:\tlearn: 230.1436842\ttotal: 647ms\tremaining: 56.3ms\n",
      "184:\tlearn: 229.5095318\ttotal: 651ms\tremaining: 52.8ms\n",
      "185:\tlearn: 228.8917327\ttotal: 654ms\tremaining: 49.2ms\n",
      "186:\tlearn: 228.2636690\ttotal: 657ms\tremaining: 45.7ms\n",
      "187:\tlearn: 227.6023563\ttotal: 660ms\tremaining: 42.2ms\n",
      "188:\tlearn: 227.0846972\ttotal: 664ms\tremaining: 38.6ms\n",
      "189:\tlearn: 226.4545281\ttotal: 667ms\tremaining: 35.1ms\n",
      "190:\tlearn: 225.8981660\ttotal: 670ms\tremaining: 31.6ms\n",
      "191:\tlearn: 225.3663235\ttotal: 674ms\tremaining: 28.1ms\n",
      "192:\tlearn: 224.7996893\ttotal: 677ms\tremaining: 24.6ms\n",
      "193:\tlearn: 224.2439337\ttotal: 680ms\tremaining: 21ms\n",
      "194:\tlearn: 223.6864443\ttotal: 684ms\tremaining: 17.5ms\n",
      "195:\tlearn: 223.1405707\ttotal: 687ms\tremaining: 14ms\n",
      "196:\tlearn: 222.4965559\ttotal: 690ms\tremaining: 10.5ms\n",
      "197:\tlearn: 221.9452309\ttotal: 694ms\tremaining: 7.01ms\n",
      "198:\tlearn: 221.4075421\ttotal: 697ms\tremaining: 3.5ms\n",
      "199:\tlearn: 220.9138000\ttotal: 701ms\tremaining: 0us\n"
     ]
    }
   ],
   "source": [
    "catb_tuned = CatBoostRegressor(iterations = 200, \n",
    "                               learning_rate = 0.01, \n",
    "                               depth = 8)\n",
    "\n",
    "catb_tuned = catb_tuned.fit(X_train,y_train)"
   ]
  },
  {
   "cell_type": "code",
   "execution_count": 97,
   "id": "581ae5b2",
   "metadata": {
    "execution": {
     "iopub.execute_input": "2022-07-07T18:27:41.840542Z",
     "iopub.status.busy": "2022-07-07T18:27:41.840252Z",
     "iopub.status.idle": "2022-07-07T18:27:41.847894Z",
     "shell.execute_reply": "2022-07-07T18:27:41.847128Z"
    },
    "papermill": {
     "duration": 0.145834,
     "end_time": "2022-07-07T18:27:41.849960",
     "exception": false,
     "start_time": "2022-07-07T18:27:41.704126",
     "status": "completed"
    },
    "tags": []
   },
   "outputs": [
    {
     "data": {
      "text/plain": [
       "369.6970696250705"
      ]
     },
     "execution_count": 97,
     "metadata": {},
     "output_type": "execute_result"
    }
   ],
   "source": [
    "y_pred = catb_tuned.predict(X_test)\n",
    "np.sqrt(mean_squared_error(y_test, y_pred))"
   ]
  },
  {
   "cell_type": "code",
   "execution_count": null,
   "id": "95db2474",
   "metadata": {
    "papermill": {
     "duration": 0.138679,
     "end_time": "2022-07-07T18:27:42.131619",
     "exception": false,
     "start_time": "2022-07-07T18:27:41.992940",
     "status": "completed"
    },
    "tags": []
   },
   "outputs": [],
   "source": []
  }
 ],
 "metadata": {
  "kernelspec": {
   "display_name": "Python 3",
   "language": "python",
   "name": "python3"
  },
  "language_info": {
   "codemirror_mode": {
    "name": "ipython",
    "version": 3
   },
   "file_extension": ".py",
   "mimetype": "text/x-python",
   "name": "python",
   "nbconvert_exporter": "python",
   "pygments_lexer": "ipython3",
   "version": "3.7.12"
  },
  "papermill": {
   "default_parameters": {},
   "duration": 58.270063,
   "end_time": "2022-07-07T18:27:44.887512",
   "environment_variables": {},
   "exception": null,
   "input_path": "__notebook__.ipynb",
   "output_path": "__notebook__.ipynb",
   "parameters": {},
   "start_time": "2022-07-07T18:26:46.617449",
   "version": "2.3.4"
  }
 },
 "nbformat": 4,
 "nbformat_minor": 5
}
