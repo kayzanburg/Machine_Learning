{
 "cells": [
  {
   "cell_type": "code",
   "execution_count": 1,
   "id": "e9b1bd7f",
   "metadata": {
    "execution": {
     "iopub.execute_input": "2022-03-19T22:55:35.727762Z",
     "iopub.status.busy": "2022-03-19T22:55:35.726514Z",
     "iopub.status.idle": "2022-03-19T22:55:35.739379Z",
     "shell.execute_reply": "2022-03-19T22:55:35.738614Z",
     "shell.execute_reply.started": "2022-03-19T22:55:11.073896Z"
    },
    "papermill": {
     "duration": 0.05244,
     "end_time": "2022-03-19T22:55:35.739586",
     "exception": false,
     "start_time": "2022-03-19T22:55:35.687146",
     "status": "completed"
    },
    "tags": []
   },
   "outputs": [
    {
     "name": "stdout",
     "output_type": "stream",
     "text": [
      "[ 1  2  3  4  5  6  7  8  9 10]\n",
      "6\n"
     ]
    }
   ],
   "source": [
    "import numpy as np\n",
    "\n",
    "a = np.arange(1,11) # Aralik Belitiyoruz Sonra Yazdiriyoruz Hepsini.\n",
    "\n",
    "print(a)\n",
    "\n",
    "print(a[5])"
   ]
  },
  {
   "cell_type": "code",
   "execution_count": 2,
   "id": "95e46808",
   "metadata": {
    "execution": {
     "iopub.execute_input": "2022-03-19T22:55:35.818314Z",
     "iopub.status.busy": "2022-03-19T22:55:35.817387Z",
     "iopub.status.idle": "2022-03-19T22:55:35.820711Z",
     "shell.execute_reply": "2022-03-19T22:55:35.821284Z",
     "shell.execute_reply.started": "2022-03-19T22:55:11.082470Z"
    },
    "papermill": {
     "duration": 0.04462,
     "end_time": "2022-03-19T22:55:35.821462",
     "exception": false,
     "start_time": "2022-03-19T22:55:35.776842",
     "status": "completed"
    },
    "tags": []
   },
   "outputs": [
    {
     "name": "stdout",
     "output_type": "stream",
     "text": [
      "[[4 2 1 2 9]\n",
      " [8 4 7 4 1]\n",
      " [3 1 3 1 2]]\n"
     ]
    }
   ],
   "source": [
    "b = np.random.randint(1,10,size = (3,5))\n",
    "\n",
    "print(b)"
   ]
  },
  {
   "cell_type": "code",
   "execution_count": 3,
   "id": "d8cff419",
   "metadata": {
    "execution": {
     "iopub.execute_input": "2022-03-19T22:55:35.896562Z",
     "iopub.status.busy": "2022-03-19T22:55:35.895744Z",
     "iopub.status.idle": "2022-03-19T22:55:35.901857Z",
     "shell.execute_reply": "2022-03-19T22:55:35.902344Z",
     "shell.execute_reply.started": "2022-03-19T22:55:11.094417Z"
    },
    "papermill": {
     "duration": 0.044956,
     "end_time": "2022-03-19T22:55:35.902523",
     "exception": false,
     "start_time": "2022-03-19T22:55:35.857567",
     "status": "completed"
    },
    "tags": []
   },
   "outputs": [
    {
     "name": "stdout",
     "output_type": "stream",
     "text": [
      "\n",
      "Liste Icerisindeki Elemanlara Ulasmak :  4\n",
      "\n",
      "Liste Icerisindeki Elemanlara Ulasmak :  2\n",
      "\n",
      "Liste Icerisindeki Elemanlara Ulasmak :  3\n"
     ]
    }
   ],
   "source": [
    "print(\"\\nListe Icerisindeki Elemanlara Ulasmak : \",b[0,0])\n",
    "print(\"\\nListe Icerisindeki Elemanlara Ulasmak : \",b[0,1])\n",
    "print(\"\\nListe Icerisindeki Elemanlara Ulasmak : \",b[2,2])"
   ]
  },
  {
   "cell_type": "code",
   "execution_count": 4,
   "id": "34cc3f70",
   "metadata": {
    "execution": {
     "iopub.execute_input": "2022-03-19T22:55:35.952900Z",
     "iopub.status.busy": "2022-03-19T22:55:35.952369Z",
     "iopub.status.idle": "2022-03-19T22:55:35.957825Z",
     "shell.execute_reply": "2022-03-19T22:55:35.958411Z",
     "shell.execute_reply.started": "2022-03-19T22:55:11.106599Z"
    },
    "papermill": {
     "duration": 0.032007,
     "end_time": "2022-03-19T22:55:35.958653",
     "exception": false,
     "start_time": "2022-03-19T22:55:35.926646",
     "status": "completed"
    },
    "tags": []
   },
   "outputs": [
    {
     "name": "stdout",
     "output_type": "stream",
     "text": [
      "[[ 1  9  7  5  2]\n",
      " [ 1  6  8  9  1]\n",
      " [10  9  1  6 10]\n",
      " [ 9  6  8  1  5]\n",
      " [ 3  3  1  3  9]]\n"
     ]
    }
   ],
   "source": [
    "c = np.random.randint(1,11,(5,5))\n",
    "\n",
    "print(c)"
   ]
  },
  {
   "cell_type": "code",
   "execution_count": 5,
   "id": "b6115330",
   "metadata": {
    "execution": {
     "iopub.execute_input": "2022-03-19T22:55:36.037660Z",
     "iopub.status.busy": "2022-03-19T22:55:36.037022Z",
     "iopub.status.idle": "2022-03-19T22:55:36.040980Z",
     "shell.execute_reply": "2022-03-19T22:55:36.040409Z",
     "shell.execute_reply.started": "2022-03-19T22:55:11.116941Z"
    },
    "papermill": {
     "duration": 0.045417,
     "end_time": "2022-03-19T22:55:36.041099",
     "exception": false,
     "start_time": "2022-03-19T22:55:35.995682",
     "status": "completed"
    },
    "tags": []
   },
   "outputs": [
    {
     "name": "stdout",
     "output_type": "stream",
     "text": [
      "[ 1  1 10  9  3]\n",
      "\n",
      "**************\n",
      "\n",
      "[[ 6  8  9  1]\n",
      " [ 9  1  6 10]]\n"
     ]
    }
   ],
   "source": [
    "# Iki Boyutlu Matrislerde Elemanlara Toplu Olarak Ulasmak\n",
    "\n",
    "print(c[:,0]) # 1. Sutun Aldik\n",
    "\n",
    "print(\"\\n**************\\n\")\n",
    "print(c[1:3 , 1:]) # 2 Boyutta secili Olan Yerleri Aldik --- 1,2. indexteki satirlari al dedik sonra 1. indexteki sutunlari al dedik ve kesistigi yerleri aldik"
   ]
  },
  {
   "cell_type": "code",
   "execution_count": 6,
   "id": "d1e7fa05",
   "metadata": {
    "execution": {
     "iopub.execute_input": "2022-03-19T22:55:36.095752Z",
     "iopub.status.busy": "2022-03-19T22:55:36.095163Z",
     "iopub.status.idle": "2022-03-19T22:55:36.098454Z",
     "shell.execute_reply": "2022-03-19T22:55:36.098977Z",
     "shell.execute_reply.started": "2022-03-19T22:55:11.126759Z"
    },
    "papermill": {
     "duration": 0.033194,
     "end_time": "2022-03-19T22:55:36.099112",
     "exception": false,
     "start_time": "2022-03-19T22:55:36.065918",
     "status": "completed"
    },
    "tags": []
   },
   "outputs": [
    {
     "name": "stdout",
     "output_type": "stream",
     "text": [
      "[[7 7 7 4 6 5]\n",
      " [9 5 6 6 5 5]\n",
      " [1 4 8 6 3 1]\n",
      " [5 5 4 4 8 7]\n",
      " [1 4 3 1 4 7]\n",
      " [3 9 7 5 2 4]]\n"
     ]
    }
   ],
   "source": [
    "d = np.random.randint(1,10,(6,6))\n",
    "\n",
    "print(d)"
   ]
  },
  {
   "cell_type": "code",
   "execution_count": 7,
   "id": "1b40ba37",
   "metadata": {
    "execution": {
     "iopub.execute_input": "2022-03-19T22:55:36.155032Z",
     "iopub.status.busy": "2022-03-19T22:55:36.150775Z",
     "iopub.status.idle": "2022-03-19T22:55:36.159477Z",
     "shell.execute_reply": "2022-03-19T22:55:36.158902Z",
     "shell.execute_reply.started": "2022-03-19T22:55:11.135422Z"
    },
    "papermill": {
     "duration": 0.035937,
     "end_time": "2022-03-19T22:55:36.159633",
     "exception": false,
     "start_time": "2022-03-19T22:55:36.123696",
     "status": "completed"
    },
    "tags": []
   },
   "outputs": [
    {
     "name": "stdout",
     "output_type": "stream",
     "text": [
      "[[6 6 5 5]\n",
      " [8 6 3 1]\n",
      " [4 4 8 7]\n",
      " [3 1 4 7]]\n"
     ]
    }
   ],
   "source": [
    "# -- Soo Important -- \n",
    "\n",
    "e = d[1:5 , 2:6] # Burada Yapilan Ifade bir nevi Soyle Dusunulebilir, \"REFERANS ALINIYOR\" , e Degiskenini Olusturabilmek Icin d Uzerinden Referans aldik \n",
    "\n",
    "# PEKI BU NE ANLAMA GELIYOR;\n",
    "\n",
    "# \"e\" Degiskeninin Uzerinde Yapilan Herhangi Bir Degisiklik \"d\" Uzerinde de Yapilmis Sayilacaktir Cunku Referans Aldigi Yer \"d\" Degiskenidir.\n",
    "\n",
    "# PEKI \"e\" de Yapilan Bir Islemin Nasil \"d\" Degiskeni Uzerinde Degisiklik Yapmamasini Saglayabiliriz ?\n",
    "\n",
    "# \"d\" Degiskeni ni \"e\" degiskeni Uzerine Koyapalayarak Orn:    e = d.copy()     Bu Ifadeyi Aralik Vererek Te Yapabiliriz Yukaridaki Orneklerde Yaptigimiz Gibi\n",
    "\n",
    "# Simdi Bir Uygulama Yapalim :)\n",
    "\n",
    "print(e)"
   ]
  },
  {
   "cell_type": "code",
   "execution_count": 8,
   "id": "20df1f67",
   "metadata": {
    "execution": {
     "iopub.execute_input": "2022-03-19T22:55:36.214183Z",
     "iopub.status.busy": "2022-03-19T22:55:36.213516Z",
     "iopub.status.idle": "2022-03-19T22:55:36.219102Z",
     "shell.execute_reply": "2022-03-19T22:55:36.219469Z",
     "shell.execute_reply.started": "2022-03-19T22:55:11.147508Z"
    },
    "papermill": {
     "duration": 0.034806,
     "end_time": "2022-03-19T22:55:36.219632",
     "exception": false,
     "start_time": "2022-03-19T22:55:36.184826",
     "status": "completed"
    },
    "tags": []
   },
   "outputs": [
    {
     "name": "stdout",
     "output_type": "stream",
     "text": [
      "[[ 3  7  3  7 10]\n",
      " [ 9  8  3  4  2]\n",
      " [ 8  6  7  4  3]\n",
      " [ 4  8  2  5 10]\n",
      " [ 6  7  1  7  7]]\n"
     ]
    }
   ],
   "source": [
    "K = np.random.randint(1,11,(5,5))\n",
    "\n",
    "print(K)"
   ]
  },
  {
   "cell_type": "code",
   "execution_count": 9,
   "id": "14b5acb8",
   "metadata": {
    "execution": {
     "iopub.execute_input": "2022-03-19T22:55:36.276119Z",
     "iopub.status.busy": "2022-03-19T22:55:36.275584Z",
     "iopub.status.idle": "2022-03-19T22:55:36.278677Z",
     "shell.execute_reply": "2022-03-19T22:55:36.278235Z",
     "shell.execute_reply.started": "2022-03-19T22:55:11.163717Z"
    },
    "papermill": {
     "duration": 0.033873,
     "end_time": "2022-03-19T22:55:36.278793",
     "exception": false,
     "start_time": "2022-03-19T22:55:36.244920",
     "status": "completed"
    },
    "tags": []
   },
   "outputs": [
    {
     "name": "stdout",
     "output_type": "stream",
     "text": [
      "[[9 8 3]\n",
      " [8 6 7]]\n"
     ]
    }
   ],
   "source": [
    "L = K[1:3 , 0:3]\n",
    "\n",
    "print(L)\n",
    "\n",
    "# Simdi \"L\" Uzerinde Yapilan Bir Degisiklik \"K\" Da da Degisiklige Neden Olur. "
   ]
  },
  {
   "cell_type": "code",
   "execution_count": 10,
   "id": "dae817b1",
   "metadata": {
    "execution": {
     "iopub.execute_input": "2022-03-19T22:55:36.333159Z",
     "iopub.status.busy": "2022-03-19T22:55:36.332620Z",
     "iopub.status.idle": "2022-03-19T22:55:36.338328Z",
     "shell.execute_reply": "2022-03-19T22:55:36.337935Z",
     "shell.execute_reply.started": "2022-03-19T22:55:11.173894Z"
    },
    "papermill": {
     "duration": 0.033664,
     "end_time": "2022-03-19T22:55:36.338440",
     "exception": false,
     "start_time": "2022-03-19T22:55:36.304776",
     "status": "completed"
    },
    "tags": []
   },
   "outputs": [
    {
     "name": "stdout",
     "output_type": "stream",
     "text": [
      "[[9 8 3]\n",
      " [8 6 7]]\n"
     ]
    }
   ],
   "source": [
    "M = K[1:3 , 0:3].copy() # Burada Yapilan Yani \"M\" Uzerinde Yapilan Bir Degisiklik \"K\" Uzerinde Bir Degisiklige Neden Olmaz.\n",
    "\n",
    "print(M)"
   ]
  },
  {
   "cell_type": "code",
   "execution_count": 11,
   "id": "6b805c25",
   "metadata": {
    "execution": {
     "iopub.execute_input": "2022-03-19T22:55:36.394024Z",
     "iopub.status.busy": "2022-03-19T22:55:36.393317Z",
     "iopub.status.idle": "2022-03-19T22:55:36.400044Z",
     "shell.execute_reply": "2022-03-19T22:55:36.400509Z",
     "shell.execute_reply.started": "2022-03-19T22:55:11.184838Z"
    },
    "papermill": {
     "duration": 0.03602,
     "end_time": "2022-03-19T22:55:36.400665",
     "exception": false,
     "start_time": "2022-03-19T22:55:36.364645",
     "status": "completed"
    },
    "tags": []
   },
   "outputs": [
    {
     "name": "stdout",
     "output_type": "stream",
     "text": [
      "[[10  8  3]\n",
      " [ 8  6  7]]\n",
      "\n",
      "*********\n",
      "\n",
      "[[ 3  7  3  7 10]\n",
      " [ 9  8  3  4  2]\n",
      " [ 8  6  7  4  3]\n",
      " [ 4  8  2  5 10]\n",
      " [ 6  7  1  7  7]]\n"
     ]
    }
   ],
   "source": [
    "# Goruldugu Uzere \"M\" Uzerinde Yapilan Bir Degisiklik \"K\" yi Etkilememistir.\n",
    "\n",
    "M[0,0] = 10\n",
    "\n",
    "print(M)\n",
    "\n",
    "print(\"\\n*********\\n\")\n",
    "\n",
    "print(K)"
   ]
  },
  {
   "cell_type": "code",
   "execution_count": 12,
   "id": "06f946e3",
   "metadata": {
    "execution": {
     "iopub.execute_input": "2022-03-19T22:55:36.457926Z",
     "iopub.status.busy": "2022-03-19T22:55:36.455478Z",
     "iopub.status.idle": "2022-03-19T22:55:36.462187Z",
     "shell.execute_reply": "2022-03-19T22:55:36.462756Z",
     "shell.execute_reply.started": "2022-03-19T22:55:11.196034Z"
    },
    "papermill": {
     "duration": 0.035882,
     "end_time": "2022-03-19T22:55:36.462922",
     "exception": false,
     "start_time": "2022-03-19T22:55:36.427040",
     "status": "completed"
    },
    "tags": []
   },
   "outputs": [
    {
     "name": "stdout",
     "output_type": "stream",
     "text": [
      "[10  7  9  8  5  4  6  9  5  4]\n"
     ]
    }
   ],
   "source": [
    "# --- Soo Important ---\n",
    "\n",
    "# *** Fancy Index Ile Elemanlara Ulasmak *** (Tek Boyutta)\n",
    "\n",
    "U = np.random.randint(1, 11, 10)\n",
    "\n",
    "print(U)"
   ]
  },
  {
   "cell_type": "code",
   "execution_count": 13,
   "id": "7149a1c2",
   "metadata": {
    "execution": {
     "iopub.execute_input": "2022-03-19T22:55:36.520115Z",
     "iopub.status.busy": "2022-03-19T22:55:36.519455Z",
     "iopub.status.idle": "2022-03-19T22:55:36.523004Z",
     "shell.execute_reply": "2022-03-19T22:55:36.523476Z",
     "shell.execute_reply.started": "2022-03-19T22:55:11.208933Z"
    },
    "papermill": {
     "duration": 0.033747,
     "end_time": "2022-03-19T22:55:36.523628",
     "exception": false,
     "start_time": "2022-03-19T22:55:36.489881",
     "status": "completed"
    },
    "tags": []
   },
   "outputs": [
    {
     "name": "stdout",
     "output_type": "stream",
     "text": [
      "[7, 8, 4]\n"
     ]
    }
   ],
   "source": [
    "# Normal Sartlarda Bu Sekilde Index No'suna Gore Ulasabiliyorduk\n",
    "\n",
    "V = [U[1], U[3], U[5]]\n",
    "\n",
    "print(V)"
   ]
  },
  {
   "cell_type": "code",
   "execution_count": 14,
   "id": "76a7ca88",
   "metadata": {
    "execution": {
     "iopub.execute_input": "2022-03-19T22:55:36.582817Z",
     "iopub.status.busy": "2022-03-19T22:55:36.579803Z",
     "iopub.status.idle": "2022-03-19T22:55:36.585968Z",
     "shell.execute_reply": "2022-03-19T22:55:36.585481Z",
     "shell.execute_reply.started": "2022-03-19T22:55:11.219536Z"
    },
    "papermill": {
     "duration": 0.035753,
     "end_time": "2022-03-19T22:55:36.586082",
     "exception": false,
     "start_time": "2022-03-19T22:55:36.550329",
     "status": "completed"
    },
    "tags": []
   },
   "outputs": [
    {
     "name": "stdout",
     "output_type": "stream",
     "text": [
      "[7 8 4]\n"
     ]
    }
   ],
   "source": [
    "# !!! Soo Important !!!\n",
    "\n",
    "# BU YONTEM ILE DE ULASILABILIR.\n",
    "\n",
    "# FANCY INDEX METHOD ILE INDEX ELEMANLARINA ULASMAK ( ILERI SEVIYE BIR KONUDUR. )\n",
    "\n",
    "Y = [1,3,5]\n",
    "\n",
    "print(U[Y])"
   ]
  },
  {
   "cell_type": "code",
   "execution_count": 15,
   "id": "859da5b4",
   "metadata": {
    "execution": {
     "iopub.execute_input": "2022-03-19T22:55:36.647142Z",
     "iopub.status.busy": "2022-03-19T22:55:36.646405Z",
     "iopub.status.idle": "2022-03-19T22:55:36.649834Z",
     "shell.execute_reply": "2022-03-19T22:55:36.650300Z",
     "shell.execute_reply.started": "2022-03-19T22:55:11.231858Z"
    },
    "papermill": {
     "duration": 0.03655,
     "end_time": "2022-03-19T22:55:36.650433",
     "exception": false,
     "start_time": "2022-03-19T22:55:36.613883",
     "status": "completed"
    },
    "tags": []
   },
   "outputs": [
    {
     "name": "stdout",
     "output_type": "stream",
     "text": [
      "[[ 0  1  2  3  4]\n",
      " [ 5  6  7  8  9]\n",
      " [10 11 12 13 14]\n",
      " [15 16 17 18 19]\n",
      " [20 21 22 23 24]]\n"
     ]
    }
   ],
   "source": [
    "Z = np.arange(25).reshape((5,5))\n",
    "\n",
    "print(Z)"
   ]
  },
  {
   "cell_type": "code",
   "execution_count": 16,
   "id": "f42c48fd",
   "metadata": {
    "execution": {
     "iopub.execute_input": "2022-03-19T22:55:36.712026Z",
     "iopub.status.busy": "2022-03-19T22:55:36.711312Z",
     "iopub.status.idle": "2022-03-19T22:55:36.713890Z",
     "shell.execute_reply": "2022-03-19T22:55:36.714418Z",
     "shell.execute_reply.started": "2022-03-19T22:55:11.243678Z"
    },
    "papermill": {
     "duration": 0.036435,
     "end_time": "2022-03-19T22:55:36.714610",
     "exception": false,
     "start_time": "2022-03-19T22:55:36.678175",
     "status": "completed"
    },
    "tags": []
   },
   "outputs": [
    {
     "name": "stdout",
     "output_type": "stream",
     "text": [
      "[ 7 17]\n"
     ]
    }
   ],
   "source": [
    "# 2 Boyutlu Bir Dizide Fancy Index Kullanmak\n",
    "\n",
    "Satir = np.array([1,3])\n",
    "\n",
    "Sutun = np.array([2,2])\n",
    "\n",
    "print(Z[Satir , Sutun])"
   ]
  },
  {
   "cell_type": "code",
   "execution_count": 17,
   "id": "65a6ae07",
   "metadata": {
    "execution": {
     "iopub.execute_input": "2022-03-19T22:55:36.804400Z",
     "iopub.status.busy": "2022-03-19T22:55:36.803621Z",
     "iopub.status.idle": "2022-03-19T22:55:36.810073Z",
     "shell.execute_reply": "2022-03-19T22:55:36.810495Z",
     "shell.execute_reply.started": "2022-03-19T22:55:11.254931Z"
    },
    "papermill": {
     "duration": 0.053087,
     "end_time": "2022-03-19T22:55:36.810672",
     "exception": false,
     "start_time": "2022-03-19T22:55:36.757585",
     "status": "completed"
    },
    "tags": []
   },
   "outputs": [
    {
     "name": "stdout",
     "output_type": "stream",
     "text": [
      "[[ 0  1  2  3  4]\n",
      " [ 5  6  7  8  9]\n",
      " [10 11 12 13 14]\n",
      " [15 16 17 18 19]\n",
      " [20 21 22 23 24]]\n",
      "\n",
      "***************\n",
      "\n",
      "[1 2]\n",
      "\n",
      "***************\n",
      "\n",
      "[7 9]\n"
     ]
    }
   ],
   "source": [
    "# Basit Index Ile Fancy Index (Bir Arada) Kullanimi\n",
    "\n",
    "print(Z)\n",
    "\n",
    "print(\"\\n***************\\n\")\n",
    "\n",
    "print(Z[0 , [1,2]])\n",
    "\n",
    "print(\"\\n***************\\n\")\n",
    "\n",
    "print(Z[1 , [2,4]])"
   ]
  },
  {
   "cell_type": "code",
   "execution_count": 18,
   "id": "07eb0640",
   "metadata": {
    "execution": {
     "iopub.execute_input": "2022-03-19T22:55:36.871798Z",
     "iopub.status.busy": "2022-03-19T22:55:36.871017Z",
     "iopub.status.idle": "2022-03-19T22:55:36.875844Z",
     "shell.execute_reply": "2022-03-19T22:55:36.876352Z",
     "shell.execute_reply.started": "2022-03-19T22:55:11.266737Z"
    },
    "papermill": {
     "duration": 0.037072,
     "end_time": "2022-03-19T22:55:36.876495",
     "exception": false,
     "start_time": "2022-03-19T22:55:36.839423",
     "status": "completed"
    },
    "tags": []
   },
   "outputs": [
    {
     "name": "stdout",
     "output_type": "stream",
     "text": [
      "[[ 2  4]\n",
      " [ 7  9]\n",
      " [12 14]\n",
      " [17 19]\n",
      " [22 24]]\n"
     ]
    }
   ],
   "source": [
    "# Slice Ile Fancy Index (Bir Arada) Kullanimi\n",
    "# Slice : Belirli Bir Aralik Aliyorduk Ya mesela -----> [0:3] , [:5] Gibi\n",
    "\n",
    "\n",
    "print(Z[0: , [2,4]]) # 2. ve 4. Sutundaki Elemanlarin Hepsini Yazdirdik."
   ]
  },
  {
   "cell_type": "code",
   "execution_count": 19,
   "id": "49949c98",
   "metadata": {
    "execution": {
     "iopub.execute_input": "2022-03-19T22:55:36.936742Z",
     "iopub.status.busy": "2022-03-19T22:55:36.936109Z",
     "iopub.status.idle": "2022-03-19T22:55:36.943062Z",
     "shell.execute_reply": "2022-03-19T22:55:36.942287Z",
     "shell.execute_reply.started": "2022-03-19T22:55:11.278503Z"
    },
    "papermill": {
     "duration": 0.038031,
     "end_time": "2022-03-19T22:55:36.943213",
     "exception": false,
     "start_time": "2022-03-19T22:55:36.905182",
     "status": "completed"
    },
    "tags": []
   },
   "outputs": [
    {
     "name": "stdout",
     "output_type": "stream",
     "text": [
      "[ True  True  True False False False]\n",
      "\n",
      "*************************************\n",
      "\n",
      "[1 2 3]\n"
     ]
    }
   ],
   "source": [
    "# Kosullu Eleman Islemleri\n",
    "\n",
    "N = np.array([1,2,3,4,5,6])\n",
    "\n",
    "print(N<4) # Burada Ki Islemde N array inin Icindeki Elemanlar 4 ten Kucuk Mudur Diye Sorguladik.\n",
    "\n",
    "print(\"\\n*************************************\\n\")\n",
    "\n",
    "print(N[N<4]) # Burada Ki Islemde N array inin Icindeki 4 ten Kucuk Olan Elemanlari Yazdirmasini Yaptik.    -------> DIKKAT : ASLINDA BURADA FANCY KULLANIYORUZ\n",
    "\n",
    "# !? Yukarida Yapilan Islem Butun Mantik Operatorleri Icin Gecerlidir."
   ]
  },
  {
   "cell_type": "code",
   "execution_count": 20,
   "id": "867bfb05",
   "metadata": {
    "execution": {
     "iopub.execute_input": "2022-03-19T22:55:37.036328Z",
     "iopub.status.busy": "2022-03-19T22:55:37.035689Z",
     "iopub.status.idle": "2022-03-19T22:55:37.042719Z",
     "shell.execute_reply": "2022-03-19T22:55:37.042143Z",
     "shell.execute_reply.started": "2022-03-19T22:55:11.292882Z"
    },
    "papermill": {
     "duration": 0.053926,
     "end_time": "2022-03-19T22:55:37.042842",
     "exception": false,
     "start_time": "2022-03-19T22:55:36.988916",
     "status": "completed"
    },
    "tags": []
   },
   "outputs": [
    {
     "name": "stdout",
     "output_type": "stream",
     "text": [
      "[ 5 10 15 20 25 30]\n",
      "\n",
      "*******************\n",
      "\n",
      "[0.2 0.4 0.6 0.8 1.  1.2]\n",
      "\n",
      "*******************\n",
      "\n",
      "[1.4 2.8 4.2 5.6 7.  8.4]\n"
     ]
    }
   ],
   "source": [
    "# Vektorel Islemler\n",
    "\n",
    "print(N * 5)\n",
    "\n",
    "print(\"\\n*******************\\n\")\n",
    "\n",
    "print(N / 5)\n",
    "\n",
    "print(\"\\n*******************\\n\")\n",
    "\n",
    "print(N / 5 * 7) # Gibi Matematiksel Islemlere De Sokabiliriz Vektorleri"
   ]
  },
  {
   "cell_type": "code",
   "execution_count": 21,
   "id": "9056c163",
   "metadata": {
    "execution": {
     "iopub.execute_input": "2022-03-19T22:55:37.104297Z",
     "iopub.status.busy": "2022-03-19T22:55:37.103810Z",
     "iopub.status.idle": "2022-03-19T22:55:37.118231Z",
     "shell.execute_reply": "2022-03-19T22:55:37.117672Z",
     "shell.execute_reply.started": "2022-03-19T22:55:11.304395Z"
    },
    "papermill": {
     "duration": 0.045304,
     "end_time": "2022-03-19T22:55:37.118374",
     "exception": false,
     "start_time": "2022-03-19T22:55:37.073070",
     "status": "completed"
    },
    "tags": []
   },
   "outputs": [
    {
     "name": "stdout",
     "output_type": "stream",
     "text": [
      "Array'imiz :  [1 2 3 4 5 6]\n",
      "\n",
      "-------------\n",
      "\n",
      "[0 1 2 3 4 5]\n",
      "\n",
      "*************\n",
      "[2 3 4 5 6 7]\n",
      "\n",
      "*************\n",
      "[ 4  8 12 16 20 24]\n",
      "\n",
      "*************\n",
      "[0.33333333 0.66666667 1.         1.33333333 1.66666667 2.        ]\n",
      "\n",
      "*************\n",
      "[  1   8  27  64 125 216]\n",
      "\n",
      "*************\n",
      "[1 0 1 0 1 0]\n",
      "\n",
      "*************\n",
      "[3]\n"
     ]
    }
   ],
   "source": [
    "# --- Matematiksel Islemler ---\n",
    "\n",
    "# Yaptigimiz Matematiksel Islemleri Aslinda Bir Bir Yontem Kullanarak Yapabilmekteyiz. ( ufunc )\n",
    "\n",
    "print(\"Array'imiz : \",N) # Array'imiz\n",
    "\n",
    "print(\"\\n-------------\\n\")\n",
    "\n",
    "print(np.subtract(N, 1)) # 1 Eksiltme\n",
    "\n",
    "print(\"\\n*************\")\n",
    "\n",
    "print(np.add(N, 1)) # 1 ekleme\n",
    "\n",
    "print(\"\\n*************\")\n",
    "\n",
    "print(np.multiply(N,4)) # 4 Ile Carpma\n",
    "\n",
    "print(\"\\n*************\")\n",
    "\n",
    "print(np.divide(N, 3)) # 3 e Bolme\n",
    "\n",
    "print(\"\\n*************\")\n",
    "\n",
    "print(np.power(N, 3)) # Kup alma\n",
    "\n",
    "print(\"\\n*************\")\n",
    "\n",
    "print(np.mod(N, 2)) # Mod Alma\n",
    "\n",
    "print(\"\\n*************\")\n",
    "\n",
    "print(np.absolute(np.array([-3]))) # Mutlak Deger"
   ]
  },
  {
   "cell_type": "code",
   "execution_count": 22,
   "id": "4828fccf",
   "metadata": {
    "execution": {
     "iopub.execute_input": "2022-03-19T22:55:37.181564Z",
     "iopub.status.busy": "2022-03-19T22:55:37.181019Z",
     "iopub.status.idle": "2022-03-19T22:55:37.187282Z",
     "shell.execute_reply": "2022-03-19T22:55:37.187821Z",
     "shell.execute_reply.started": "2022-03-19T22:55:11.321022Z"
    },
    "papermill": {
     "duration": 0.039219,
     "end_time": "2022-03-19T22:55:37.187960",
     "exception": false,
     "start_time": "2022-03-19T22:55:37.148741",
     "status": "completed"
    },
    "tags": []
   },
   "outputs": [
    {
     "name": "stdout",
     "output_type": "stream",
     "text": [
      "0.9589157234143065\n",
      "-0.5984600690578581\n"
     ]
    }
   ],
   "source": [
    "# Trigonometrik Degerleri de Bu Kutuphane Sayesinde Kullanabiliriz.\n",
    "\n",
    "print(np.sin(360))\n",
    "print(np.cos(180))"
   ]
  },
  {
   "cell_type": "code",
   "execution_count": 23,
   "id": "ecacaf5e",
   "metadata": {
    "execution": {
     "iopub.execute_input": "2022-03-19T22:55:37.249982Z",
     "iopub.status.busy": "2022-03-19T22:55:37.249464Z",
     "iopub.status.idle": "2022-03-19T22:55:37.256612Z",
     "shell.execute_reply": "2022-03-19T22:55:37.257288Z",
     "shell.execute_reply.started": "2022-03-19T22:55:11.329511Z"
    },
    "papermill": {
     "duration": 0.04004,
     "end_time": "2022-03-19T22:55:37.257502",
     "exception": false,
     "start_time": "2022-03-19T22:55:37.217462",
     "status": "completed"
    },
    "tags": []
   },
   "outputs": [
    {
     "name": "stdout",
     "output_type": "stream",
     "text": [
      "[0.         0.69314718 1.09861229]\n",
      "[0.        1.        1.5849625]\n",
      "[0.      0.30103 1.     ]\n"
     ]
    }
   ],
   "source": [
    "# Logaritmik Ifade De Kullanabiliriz\n",
    "\n",
    "print(np.log(np.array([1,2,3]))) # array Icerisindeki Tum Elemanlarin Logaritmasini Aldik\n",
    "\n",
    "print(np.log2(np.array([1,2,3]))) # array Icerisindeki Tum Elemanlarin Logaritmasini Aldik  ----->  # derecesini ( taban degerini ) de ayarlayabiliriz\n",
    "\n",
    "print(np.log10(np.array([1,2,10]))) # array Icerisindeki Tum Elemanlarin Logaritmasini Aldik  ----->  # derecesini ( taban degerini ) de ayarlayabiliriz"
   ]
  },
  {
   "cell_type": "code",
   "execution_count": 24,
   "id": "467668ac",
   "metadata": {
    "execution": {
     "iopub.execute_input": "2022-03-19T22:55:37.355553Z",
     "iopub.status.busy": "2022-03-19T22:55:37.354863Z",
     "iopub.status.idle": "2022-03-19T22:55:37.357992Z",
     "shell.execute_reply": "2022-03-19T22:55:37.358605Z",
     "shell.execute_reply.started": "2022-03-19T22:55:11.340523Z"
    },
    "papermill": {
     "duration": 0.053735,
     "end_time": "2022-03-19T22:55:37.358769",
     "exception": false,
     "start_time": "2022-03-19T22:55:37.305034",
     "status": "completed"
    },
    "tags": []
   },
   "outputs": [],
   "source": [
    "# !!! SOO IMPORTANT !!!\n",
    "\n",
    "# cheatsheet Kavrami ----> Herhangi Bir Ifade Ogrenmek Istiyorsak mesala NumPy Kutuphanesinin Fonksiyonlarini fln Ogrenmek Istiyorum\n",
    "# google ye yazarsak \"NumPy Cheatsheet\" diye O konu Ile Ilgili Ifadeler Karsimiza gelir."
   ]
  },
  {
   "cell_type": "code",
   "execution_count": 25,
   "id": "591863ff",
   "metadata": {
    "execution": {
     "iopub.execute_input": "2022-03-19T22:55:37.454795Z",
     "iopub.status.busy": "2022-03-19T22:55:37.454079Z",
     "iopub.status.idle": "2022-03-19T22:55:37.461756Z",
     "shell.execute_reply": "2022-03-19T22:55:37.462321Z",
     "shell.execute_reply.started": "2022-03-19T22:55:11.348144Z"
    },
    "papermill": {
     "duration": 0.057407,
     "end_time": "2022-03-19T22:55:37.462504",
     "exception": false,
     "start_time": "2022-03-19T22:55:37.405097",
     "status": "completed"
    },
    "tags": []
   },
   "outputs": [
    {
     "data": {
      "text/plain": [
       "'\\n\\n5 * x0 + x1 = 15\\nx0 + 7 * x1 = 37\\n\\n'"
      ]
     },
     "execution_count": 25,
     "metadata": {},
     "output_type": "execute_result"
    }
   ],
   "source": [
    "# 2 Bilinmeyenli 2 Denklem Cozumu\n",
    "\n",
    "\"\"\"\n",
    "\n",
    "5 * x0 + x1 = 15\n",
    "x0 + 7 * x1 = 37\n",
    "\n",
    "\"\"\"\n",
    "\n",
    "# denklemimizdir"
   ]
  },
  {
   "cell_type": "code",
   "execution_count": 26,
   "id": "51c61772",
   "metadata": {
    "_kg_hide-input": false,
    "execution": {
     "iopub.execute_input": "2022-03-19T22:55:37.559879Z",
     "iopub.status.busy": "2022-03-19T22:55:37.559217Z",
     "iopub.status.idle": "2022-03-19T22:55:37.567941Z",
     "shell.execute_reply": "2022-03-19T22:55:37.568595Z",
     "shell.execute_reply.started": "2022-03-19T22:55:11.364041Z"
    },
    "papermill": {
     "duration": 0.058751,
     "end_time": "2022-03-19T22:55:37.568800",
     "exception": false,
     "start_time": "2022-03-19T22:55:37.510049",
     "status": "completed"
    },
    "tags": []
   },
   "outputs": [
    {
     "name": "stdout",
     "output_type": "stream",
     "text": [
      "[2. 5.]\n"
     ]
    }
   ],
   "source": [
    "x1 = np.array([[5,1] , [1,7]])\n",
    "x2 = np.array([15,37])\n",
    "\n",
    "Kokler = np.linalg.solve(x1,x2)\n",
    "\n",
    "print(Kokler) # koklerimiz :   x1 = 2   ve   x2 = 5   tir."
   ]
  }
 ],
 "metadata": {
  "kernelspec": {
   "display_name": "Python 3",
   "language": "python",
   "name": "python3"
  },
  "language_info": {
   "codemirror_mode": {
    "name": "ipython",
    "version": 3
   },
   "file_extension": ".py",
   "mimetype": "text/x-python",
   "name": "python",
   "nbconvert_exporter": "python",
   "pygments_lexer": "ipython3",
   "version": "3.7.12"
  },
  "papermill": {
   "default_parameters": {},
   "duration": 13.395252,
   "end_time": "2022-03-19T22:55:38.527636",
   "environment_variables": {},
   "exception": null,
   "input_path": "__notebook__.ipynb",
   "output_path": "__notebook__.ipynb",
   "parameters": {},
   "start_time": "2022-03-19T22:55:25.132384",
   "version": "2.3.3"
  }
 },
 "nbformat": 4,
 "nbformat_minor": 5
}
