{
 "cells": [
  {
   "cell_type": "markdown",
   "id": "94520eae",
   "metadata": {
    "_cell_guid": "b1076dfc-b9ad-4769-8c92-a6c4dae69d19",
    "_uuid": "8f2839f25d086af736a60e9eeb907d3b93b6e0e5",
    "execution": {
     "iopub.execute_input": "2022-05-22T03:57:28.606279Z",
     "iopub.status.busy": "2022-05-22T03:57:28.605944Z",
     "iopub.status.idle": "2022-05-22T03:57:28.61332Z",
     "shell.execute_reply": "2022-05-22T03:57:28.612222Z",
     "shell.execute_reply.started": "2022-05-22T03:57:28.606246Z"
    },
    "papermill": {
     "duration": 0.193058,
     "end_time": "2022-05-22T18:38:59.852591",
     "exception": false,
     "start_time": "2022-05-22T18:38:59.659533",
     "status": "completed"
    },
    "tags": []
   },
   "source": [
    "# Doğrusal Olmayan Regreson Modelleri"
   ]
  },
  {
   "cell_type": "code",
   "execution_count": 1,
   "id": "af478cde",
   "metadata": {
    "execution": {
     "iopub.execute_input": "2022-05-22T18:39:00.188465Z",
     "iopub.status.busy": "2022-05-22T18:39:00.188099Z",
     "iopub.status.idle": "2022-05-22T18:39:03.489796Z",
     "shell.execute_reply": "2022-05-22T18:39:03.488742Z"
    },
    "papermill": {
     "duration": 3.481009,
     "end_time": "2022-05-22T18:39:03.492520",
     "exception": false,
     "start_time": "2022-05-22T18:39:00.011511",
     "status": "completed"
    },
    "tags": []
   },
   "outputs": [
    {
     "data": {
      "text/html": [
       "<style type='text/css'>\n",
       ".datatable table.frame { margin-bottom: 0; }\n",
       ".datatable table.frame thead { border-bottom: none; }\n",
       ".datatable table.frame tr.coltypes td {  color: #FFFFFF;  line-height: 6px;  padding: 0 0.5em;}\n",
       ".datatable .bool    { background: #DDDD99; }\n",
       ".datatable .object  { background: #565656; }\n",
       ".datatable .int     { background: #5D9E5D; }\n",
       ".datatable .float   { background: #4040CC; }\n",
       ".datatable .str     { background: #CC4040; }\n",
       ".datatable .time    { background: #40CC40; }\n",
       ".datatable .row_index {  background: var(--jp-border-color3);  border-right: 1px solid var(--jp-border-color0);  color: var(--jp-ui-font-color3);  font-size: 9px;}\n",
       ".datatable .frame tbody td { text-align: left; }\n",
       ".datatable .frame tr.coltypes .row_index {  background: var(--jp-border-color0);}\n",
       ".datatable th:nth-child(2) { padding-left: 12px; }\n",
       ".datatable .hellipsis {  color: var(--jp-cell-editor-border-color);}\n",
       ".datatable .vellipsis {  background: var(--jp-layout-color0);  color: var(--jp-cell-editor-border-color);}\n",
       ".datatable .na {  color: var(--jp-cell-editor-border-color);  font-size: 80%;}\n",
       ".datatable .sp {  opacity: 0.25;}\n",
       ".datatable .footer { font-size: 9px; }\n",
       ".datatable .frame_dimensions {  background: var(--jp-border-color3);  border-top: 1px solid var(--jp-border-color0);  color: var(--jp-ui-font-color3);  display: inline-block;  opacity: 0.6;  padding: 1px 10px 1px 5px;}\n",
       "</style>\n"
      ],
      "text/plain": [
       "<IPython.core.display.HTML object>"
      ]
     },
     "metadata": {},
     "output_type": "display_data"
    }
   ],
   "source": [
    "from sklearn.linear_model import LinearRegression\n",
    "from sklearn.model_selection import train_test_split, cross_val_score, cross_val_predict\n",
    "from sklearn.metrics import mean_squared_error, r2_score\n",
    "import numpy as np\n",
    "import pandas as pd \n",
    "import statsmodels.api as sm\n",
    "import statsmodels.formula.api as smf\n",
    "import seaborn as sns\n",
    "from sklearn.preprocessing import scale \n",
    "from sklearn.model_selection import train_test_split, GridSearchCV, cross_val_score\n",
    "from sklearn.metrics import confusion_matrix, accuracy_score, classification_report\n",
    "from sklearn.metrics import roc_auc_score,roc_curve\n",
    "import statsmodels.formula.api as smf\n",
    "import matplotlib.pyplot as plt\n",
    "from sklearn.neighbors import KNeighborsClassifier\n",
    "from sklearn.discriminant_analysis import LinearDiscriminantAnalysis\n",
    "from sklearn.linear_model import LogisticRegression\n",
    "from sklearn.svm import SVC\n",
    "from sklearn.naive_bayes import GaussianNB\n",
    "from sklearn import tree\n",
    "from sklearn.ensemble import RandomForestClassifier\n",
    "from sklearn.ensemble import GradientBoostingClassifier\n",
    "from xgboost import XGBClassifier\n",
    "from lightgbm import LGBMClassifier\n",
    "from catboost import CatBoostClassifier\n",
    "from warnings import filterwarnings\n",
    "filterwarnings('ignore')"
   ]
  },
  {
   "cell_type": "code",
   "execution_count": 2,
   "id": "2e7bfe5c",
   "metadata": {
    "execution": {
     "iopub.execute_input": "2022-05-22T18:39:03.807442Z",
     "iopub.status.busy": "2022-05-22T18:39:03.806941Z",
     "iopub.status.idle": "2022-05-22T18:39:03.812931Z",
     "shell.execute_reply": "2022-05-22T18:39:03.812260Z"
    },
    "papermill": {
     "duration": 0.164155,
     "end_time": "2022-05-22T18:39:03.814855",
     "exception": false,
     "start_time": "2022-05-22T18:39:03.650700",
     "status": "completed"
    },
    "tags": []
   },
   "outputs": [],
   "source": [
    "import numpy as np\n",
    "import pandas as pd \n",
    "from sklearn.model_selection import train_test_split, GridSearchCV,cross_val_score\n",
    "from sklearn.metrics import mean_squared_error, r2_score\n",
    "import matplotlib.pyplot as plt\n",
    "from sklearn.preprocessing import scale \n",
    "from sklearn import model_selection\n",
    "from sklearn.tree import DecisionTreeRegressor, DecisionTreeClassifier\n",
    "from sklearn.neighbors import KNeighborsRegressor\n",
    "from sklearn.ensemble import BaggingRegressor\n",
    "\n",
    "from warnings import filterwarnings # Hatalari Kapatmak Icin Kullanilir\n",
    "filterwarnings('ignore') # Hatalari Kapatmak Icin Kullanilir"
   ]
  },
  {
   "cell_type": "markdown",
   "id": "602d8f1c",
   "metadata": {
    "papermill": {
     "duration": 0.155611,
     "end_time": "2022-05-22T18:39:04.125548",
     "exception": false,
     "start_time": "2022-05-22T18:39:03.969937",
     "status": "completed"
    },
    "tags": []
   },
   "source": [
    "# KNN"
   ]
  },
  {
   "cell_type": "code",
   "execution_count": 3,
   "id": "96b8f895",
   "metadata": {
    "execution": {
     "iopub.execute_input": "2022-05-22T18:39:04.444660Z",
     "iopub.status.busy": "2022-05-22T18:39:04.444163Z",
     "iopub.status.idle": "2022-05-22T18:39:04.485415Z",
     "shell.execute_reply": "2022-05-22T18:39:04.484746Z"
    },
    "papermill": {
     "duration": 0.205864,
     "end_time": "2022-05-22T18:39:04.487723",
     "exception": false,
     "start_time": "2022-05-22T18:39:04.281859",
     "status": "completed"
    },
    "tags": []
   },
   "outputs": [],
   "source": [
    "hit = pd.read_csv(\"../input/hitterscsv/Hitters.csv\")\n",
    "df = hit.copy()\n",
    "df = df.dropna()\n",
    "dms = pd.get_dummies(df[['League', 'Division', 'NewLeague']])\n",
    "y = df[\"Salary\"]\n",
    "X_ = df.drop(['Salary', 'League', 'Division', 'NewLeague'], axis=1).astype('float64')\n",
    "X = pd.concat([X_, dms[['League_N', 'Division_W', 'NewLeague_N']]], axis=1)\n",
    "X_train, X_test, y_train, y_test = train_test_split(X, y, \n",
    "                                                    test_size=0.25, \n",
    "                                                    random_state=42)"
   ]
  },
  {
   "cell_type": "code",
   "execution_count": 4,
   "id": "5cf105c2",
   "metadata": {
    "execution": {
     "iopub.execute_input": "2022-05-22T18:39:04.799237Z",
     "iopub.status.busy": "2022-05-22T18:39:04.798762Z",
     "iopub.status.idle": "2022-05-22T18:39:04.804950Z",
     "shell.execute_reply": "2022-05-22T18:39:04.804270Z"
    },
    "papermill": {
     "duration": 0.164084,
     "end_time": "2022-05-22T18:39:04.806875",
     "exception": false,
     "start_time": "2022-05-22T18:39:04.642791",
     "status": "completed"
    },
    "tags": []
   },
   "outputs": [],
   "source": [
    "knn_model = KNeighborsRegressor().fit(X_train, y_train)"
   ]
  },
  {
   "cell_type": "code",
   "execution_count": 5,
   "id": "ade0bd39",
   "metadata": {
    "execution": {
     "iopub.execute_input": "2022-05-22T18:39:05.124631Z",
     "iopub.status.busy": "2022-05-22T18:39:05.124071Z",
     "iopub.status.idle": "2022-05-22T18:39:05.131828Z",
     "shell.execute_reply": "2022-05-22T18:39:05.131001Z"
    },
    "papermill": {
     "duration": 0.170264,
     "end_time": "2022-05-22T18:39:05.134147",
     "exception": false,
     "start_time": "2022-05-22T18:39:04.963883",
     "status": "completed"
    },
    "tags": []
   },
   "outputs": [
    {
     "data": {
      "text/plain": [
       "KNeighborsRegressor()"
      ]
     },
     "execution_count": 5,
     "metadata": {},
     "output_type": "execute_result"
    }
   ],
   "source": [
    "knn_model"
   ]
  },
  {
   "cell_type": "code",
   "execution_count": 6,
   "id": "8b1c48aa",
   "metadata": {
    "execution": {
     "iopub.execute_input": "2022-05-22T18:39:05.453881Z",
     "iopub.status.busy": "2022-05-22T18:39:05.453589Z",
     "iopub.status.idle": "2022-05-22T18:39:05.458866Z",
     "shell.execute_reply": "2022-05-22T18:39:05.458257Z"
    },
    "papermill": {
     "duration": 0.166156,
     "end_time": "2022-05-22T18:39:05.460770",
     "exception": false,
     "start_time": "2022-05-22T18:39:05.294614",
     "status": "completed"
    },
    "tags": []
   },
   "outputs": [
    {
     "data": {
      "text/plain": [
       "5"
      ]
     },
     "execution_count": 6,
     "metadata": {},
     "output_type": "execute_result"
    }
   ],
   "source": [
    "knn_model.n_neighbors # Hiper Parametre Degeri ( Komsuluk Sayisi = 5'tir )"
   ]
  },
  {
   "cell_type": "code",
   "execution_count": 7,
   "id": "2c6a22e2",
   "metadata": {
    "execution": {
     "iopub.execute_input": "2022-05-22T18:39:05.778718Z",
     "iopub.status.busy": "2022-05-22T18:39:05.777826Z",
     "iopub.status.idle": "2022-05-22T18:39:05.782977Z",
     "shell.execute_reply": "2022-05-22T18:39:05.782403Z"
    },
    "papermill": {
     "duration": 0.166648,
     "end_time": "2022-05-22T18:39:05.785078",
     "exception": false,
     "start_time": "2022-05-22T18:39:05.618430",
     "status": "completed"
    },
    "tags": []
   },
   "outputs": [
    {
     "data": {
      "text/plain": [
       "'euclidean'"
      ]
     },
     "execution_count": 7,
     "metadata": {},
     "output_type": "execute_result"
    }
   ],
   "source": [
    "knn_model.effective_metric_"
   ]
  },
  {
   "cell_type": "markdown",
   "id": "929fc1e7",
   "metadata": {
    "papermill": {
     "duration": 0.157258,
     "end_time": "2022-05-22T18:39:06.100226",
     "exception": false,
     "start_time": "2022-05-22T18:39:05.942968",
     "status": "completed"
    },
    "tags": []
   },
   "source": [
    "## Tahmin"
   ]
  },
  {
   "cell_type": "code",
   "execution_count": 8,
   "id": "d17f8d31",
   "metadata": {
    "execution": {
     "iopub.execute_input": "2022-05-22T18:39:06.418748Z",
     "iopub.status.busy": "2022-05-22T18:39:06.418294Z",
     "iopub.status.idle": "2022-05-22T18:39:06.446189Z",
     "shell.execute_reply": "2022-05-22T18:39:06.445217Z"
    },
    "papermill": {
     "duration": 0.191821,
     "end_time": "2022-05-22T18:39:06.449477",
     "exception": false,
     "start_time": "2022-05-22T18:39:06.257656",
     "status": "completed"
    },
    "tags": []
   },
   "outputs": [
    {
     "data": {
      "text/plain": [
       "array([ 102.5   ,  952.    ,  904.    ,  325.5   ,  768.6666, 1180.6666,\n",
       "        118.    ,   90.5   ,  708.6666,  840.4   , 1612.1142,  160.    ,\n",
       "        982.    ,  771.    ,  716.6666,  745.    ,  670.    ,   79.5   ,\n",
       "        247.5   ,  303.    ,  576.    ,  996.6666,  551.    ,  451.5   ,\n",
       "         81.6   ,  962.5   ,  491.    ,  425.    ,   88.6   ,  463.    ,\n",
       "         70.6   ,  680.3334, 1152.3332,   78.6   ,  433.3334,  103.5   ,\n",
       "        281.2   ,  799.4   ,  106.5   ,   79.5   ,   79.5   ,  553.5   ,\n",
       "        198.8334,  249.    ,  336.    , 1052.    ,  205.5   ,  126.3   ,\n",
       "        637.    ,  602.    ,  498.    ,  248.    ,  322.    ,  160.    ,\n",
       "       1103.6666,  148.4   ,  627.    ,  707.5   ,  220.    , 1472.1142,\n",
       "        803.    ,  274.2   ,  588.    ,  487.5   ,  150.5   ,  158.3   ,\n",
       "         84.    ,  694.5   ,  159.5   ,  303.5   ,  336.    ,  986.6666,\n",
       "        737.5   ,  904.    , 1138.6666,  778.    ,  181.5   ,  498.    ,\n",
       "        417.5   ,  840.4   ,  412.5   ,  510.    , 1116.    ,  581.    ,\n",
       "        167.4   ,  598.    ,  637.    ,  762.5   ,  989.    ,  740.    ,\n",
       "        158.9   ,  227.2   , 1190.3332,   90.    ,  451.5   , 1023.3334,\n",
       "        840.4   ,  637.    ,  757.5   ,  995.    ,  374.5   ,  230.8334,\n",
       "        890.1666,  591.5   ,  188.5   ,  970.    ,  743.    ,  110.5   ,\n",
       "        255.5   ,  670.    ,  352.    ,  740.6666,  548.3334,  747.    ,\n",
       "        506.    ,  117.3   ,  826.5   , 1005.    ,  195.    ,  436.    ,\n",
       "        723.    ,  549.    ,  901.6666,  217.    ,   81.6   ,  199.    ,\n",
       "        649.3334,   84.    ,  134.4   ,  487.5   ,  671.    ,  456.5   ,\n",
       "       1612.1142,  720.4   , 1106.6666,  451.5   , 1005.    ,  458.    ,\n",
       "        224.    ,  840.4   ,  108.5   ,  106.5   ,  618.3334,  451.5   ,\n",
       "        259.8334,  453.    ,  748.3334,  404.5   ,  590.5   ,  808.6666,\n",
       "        103.5   ,  112.    ,   79.5   ,  138.4   ,  158.3   ,  303.    ,\n",
       "        549.    ,   94.    ,  823.5   ,  507.    ,  669.6666,  524.5   ,\n",
       "        995.    ,  240.5334,  747.    ,  904.    ,  278.    ,  251.8334,\n",
       "        472.5   ,  904.    ,  665.    ,   84.    ,  483.3334,  993.3334,\n",
       "        157.5   ,  245.3334,  284.    ,  472.    ,  549.    , 1180.6666,\n",
       "        320.    ,  538.    ,  145.5   ,  518.3334,  602.    ,  970.    ,\n",
       "        532.3334,  181.5   ,  108.5   ,  281.5334,  181.5   ,  629.    ,\n",
       "        764.3334,  677.5   ,  144.4   ,  550.    ,  125.5   ])"
      ]
     },
     "execution_count": 8,
     "metadata": {},
     "output_type": "execute_result"
    }
   ],
   "source": [
    "knn_model.predict(X_train) # Egitim Setine Yonelik Y Tahmin Degerleri Ureticek"
   ]
  },
  {
   "cell_type": "code",
   "execution_count": 9,
   "id": "6cf92a08",
   "metadata": {
    "execution": {
     "iopub.execute_input": "2022-05-22T18:39:06.820882Z",
     "iopub.status.busy": "2022-05-22T18:39:06.820582Z",
     "iopub.status.idle": "2022-05-22T18:39:06.829594Z",
     "shell.execute_reply": "2022-05-22T18:39:06.828668Z"
    },
    "papermill": {
     "duration": 0.172377,
     "end_time": "2022-05-22T18:39:06.831691",
     "exception": false,
     "start_time": "2022-05-22T18:39:06.659314",
     "status": "completed"
    },
    "tags": []
   },
   "outputs": [],
   "source": [
    "y_pred = knn_model.predict(X_test) # Test Setine Yonelik Y Tahmin Degerleri Ureticek"
   ]
  },
  {
   "cell_type": "code",
   "execution_count": 10,
   "id": "7d883bd5",
   "metadata": {
    "execution": {
     "iopub.execute_input": "2022-05-22T18:39:07.153213Z",
     "iopub.status.busy": "2022-05-22T18:39:07.152909Z",
     "iopub.status.idle": "2022-05-22T18:39:07.159602Z",
     "shell.execute_reply": "2022-05-22T18:39:07.158997Z"
    },
    "papermill": {
     "duration": 0.170665,
     "end_time": "2022-05-22T18:39:07.161525",
     "exception": false,
     "start_time": "2022-05-22T18:39:06.990860",
     "status": "completed"
    },
    "tags": []
   },
   "outputs": [
    {
     "data": {
      "text/plain": [
       "426.6570764525201"
      ]
     },
     "execution_count": 10,
     "metadata": {},
     "output_type": "execute_result"
    }
   ],
   "source": [
    "np.sqrt(mean_squared_error(y_test, y_pred)) # Test Hatasini Gozlemliyoruz"
   ]
  },
  {
   "cell_type": "code",
   "execution_count": 11,
   "id": "3bc0f664",
   "metadata": {
    "execution": {
     "iopub.execute_input": "2022-05-22T18:39:07.485400Z",
     "iopub.status.busy": "2022-05-22T18:39:07.484799Z",
     "iopub.status.idle": "2022-05-22T18:39:07.590432Z",
     "shell.execute_reply": "2022-05-22T18:39:07.589312Z"
    },
    "papermill": {
     "duration": 0.271499,
     "end_time": "2022-05-22T18:39:07.594330",
     "exception": false,
     "start_time": "2022-05-22T18:39:07.322831",
     "status": "completed"
    },
    "tags": []
   },
   "outputs": [
    {
     "name": "stdout",
     "output_type": "stream",
     "text": [
      "k = 1 için RMSE değeri:  0.0\n",
      "k = 2 için RMSE değeri:  179.52761335480352\n",
      "k = 3 için RMSE değeri:  205.20157172291863\n",
      "k = 4 için RMSE değeri:  220.5139794876305\n",
      "k = 5 için RMSE değeri:  239.6467132541376\n",
      "k = 6 için RMSE değeri:  243.5904190007242\n",
      "k = 7 için RMSE değeri:  258.1478781634636\n",
      "k = 8 için RMSE değeri:  266.05374203349805\n",
      "k = 9 için RMSE değeri:  269.73782093553376\n",
      "k = 10 için RMSE değeri:  271.2798300436963\n"
     ]
    }
   ],
   "source": [
    "# Egitim Seti Uzerinden Hata Gozlemleme Islemi Yapicaz ( Sadece Gozlemleme Islemi Yapiyoruz )\n",
    "\n",
    "RMSE = [] \n",
    "\n",
    "for k in range(10):\n",
    "    k = k+1\n",
    "    knn_model = KNeighborsRegressor(n_neighbors = k).fit(X_train, y_train)\n",
    "    y_pred = knn_model.predict(X_train) \n",
    "    rmse = np.sqrt(mean_squared_error(y_train,y_pred)) \n",
    "    RMSE.append(rmse) \n",
    "    print(\"k =\" , k , \"için RMSE değeri: \", rmse)\n"
   ]
  },
  {
   "cell_type": "markdown",
   "id": "3d655da9",
   "metadata": {
    "papermill": {
     "duration": 0.15874,
     "end_time": "2022-05-22T18:39:07.965982",
     "exception": false,
     "start_time": "2022-05-22T18:39:07.807242",
     "status": "completed"
    },
    "tags": []
   },
   "source": [
    "## Model Tuning"
   ]
  },
  {
   "cell_type": "code",
   "execution_count": 12,
   "id": "90a77afc",
   "metadata": {
    "execution": {
     "iopub.execute_input": "2022-05-22T18:39:08.286127Z",
     "iopub.status.busy": "2022-05-22T18:39:08.285819Z",
     "iopub.status.idle": "2022-05-22T18:39:08.289812Z",
     "shell.execute_reply": "2022-05-22T18:39:08.289022Z"
    },
    "papermill": {
     "duration": 0.165689,
     "end_time": "2022-05-22T18:39:08.291823",
     "exception": false,
     "start_time": "2022-05-22T18:39:08.126134",
     "status": "completed"
    },
    "tags": []
   },
   "outputs": [],
   "source": [
    "# Grid : Izgara Demek ( Su Ana Kadar Kullanilabilirdi Ama Biz Kullanmadik Simdi Kullaniyoruz )\n",
    "# Bir Parametre Setinin Verilip Tum Olasi Kombinasyonlarin Denenmesi Anlamina Gelir \n",
    "\n",
    "from sklearn.model_selection import GridSearchCV"
   ]
  },
  {
   "cell_type": "code",
   "execution_count": 13,
   "id": "0a18d798",
   "metadata": {
    "execution": {
     "iopub.execute_input": "2022-05-22T18:39:08.611553Z",
     "iopub.status.busy": "2022-05-22T18:39:08.610923Z",
     "iopub.status.idle": "2022-05-22T18:39:08.615135Z",
     "shell.execute_reply": "2022-05-22T18:39:08.614511Z"
    },
    "papermill": {
     "duration": 0.166418,
     "end_time": "2022-05-22T18:39:08.617240",
     "exception": false,
     "start_time": "2022-05-22T18:39:08.450822",
     "status": "completed"
    },
    "tags": []
   },
   "outputs": [],
   "source": [
    "# Burasi Onemli; Algoritmanin Fonksiyonunun Kabul Ettigi Parametrenin Ismi Her Nasil Ise O Sekilde Bir Isimlendirme Yapmak Gerekiyor ( Biz   \"n_neighbors\"   Ifadesini Koyduk )\n",
    "\n",
    "knn_params = {'n_neighbors': np.arange(1,30,1)} # 1 Den 30'a Kadar K Degerleri Urettik ( Hangisi Daha Iyi Diye Bakicaz )"
   ]
  },
  {
   "cell_type": "code",
   "execution_count": 14,
   "id": "8fd5e893",
   "metadata": {
    "execution": {
     "iopub.execute_input": "2022-05-22T18:39:08.938755Z",
     "iopub.status.busy": "2022-05-22T18:39:08.938293Z",
     "iopub.status.idle": "2022-05-22T18:39:08.942622Z",
     "shell.execute_reply": "2022-05-22T18:39:08.941970Z"
    },
    "papermill": {
     "duration": 0.168089,
     "end_time": "2022-05-22T18:39:08.944582",
     "exception": false,
     "start_time": "2022-05-22T18:39:08.776493",
     "status": "completed"
    },
    "tags": []
   },
   "outputs": [],
   "source": [
    "knn = KNeighborsRegressor() # Model Nesnesi"
   ]
  },
  {
   "cell_type": "code",
   "execution_count": 15,
   "id": "bb83501f",
   "metadata": {
    "execution": {
     "iopub.execute_input": "2022-05-22T18:39:09.273000Z",
     "iopub.status.busy": "2022-05-22T18:39:09.271973Z",
     "iopub.status.idle": "2022-05-22T18:39:09.276497Z",
     "shell.execute_reply": "2022-05-22T18:39:09.275855Z"
    },
    "papermill": {
     "duration": 0.17361,
     "end_time": "2022-05-22T18:39:09.278437",
     "exception": false,
     "start_time": "2022-05-22T18:39:09.104827",
     "status": "completed"
    },
    "tags": []
   },
   "outputs": [],
   "source": [
    "knn_cv_model = GridSearchCV(knn, knn_params, cv = 10) # 1. Arguman Model Nesnem, 2. Arguman Denenecek Olan Parametreler, 3. Arguman Kac Katli CV Yapmak Istedigimizi Yaziyoruz\n",
    "\n",
    "# ( Burada Aslinda KNN CV Nesnesini Tanimlamis Olduk Bunu Bi Fit Etmemiz Lazim )"
   ]
  },
  {
   "cell_type": "markdown",
   "id": "62245998",
   "metadata": {
    "papermill": {
     "duration": 0.156196,
     "end_time": "2022-05-22T18:39:09.591767",
     "exception": false,
     "start_time": "2022-05-22T18:39:09.435571",
     "status": "completed"
    },
    "tags": []
   },
   "source": [
    "Eger Hatalari Kapatmak Istersek ( Fonksiyonlari Kullaninca Kutuphane Ile Ilgili Bilgilendirme Mesajlari Geliyor Ya, Bu Fonksiyon Guncellenecek fln )\n",
    "\n",
    "\n",
    "* from warnings import filterwarnings\n",
    "* filterwarnings(\"ignore\")\n",
    "\n",
    "Bunlar Kullanilabilir\n"
   ]
  },
  {
   "cell_type": "code",
   "execution_count": 16,
   "id": "8f532fa9",
   "metadata": {
    "execution": {
     "iopub.execute_input": "2022-05-22T18:39:09.910602Z",
     "iopub.status.busy": "2022-05-22T18:39:09.910258Z",
     "iopub.status.idle": "2022-05-22T18:39:11.604141Z",
     "shell.execute_reply": "2022-05-22T18:39:11.603134Z"
    },
    "papermill": {
     "duration": 1.857895,
     "end_time": "2022-05-22T18:39:11.606349",
     "exception": false,
     "start_time": "2022-05-22T18:39:09.748454",
     "status": "completed"
    },
    "tags": []
   },
   "outputs": [
    {
     "data": {
      "text/plain": [
       "GridSearchCV(cv=10, estimator=KNeighborsRegressor(),\n",
       "             param_grid={'n_neighbors': array([ 1,  2,  3,  4,  5,  6,  7,  8,  9, 10, 11, 12, 13, 14, 15, 16, 17,\n",
       "       18, 19, 20, 21, 22, 23, 24, 25, 26, 27, 28, 29])})"
      ]
     },
     "execution_count": 16,
     "metadata": {},
     "output_type": "execute_result"
    }
   ],
   "source": [
    "knn_cv_model.fit(X_train, y_train) # Aslinda Su Anda En Uygun Parametreyi Bulmus Oldu Bi Alt Kisimda Bunun Hangi Prametre Oldugunu Gozlemleyelim"
   ]
  },
  {
   "cell_type": "code",
   "execution_count": 17,
   "id": "fbcd2c19",
   "metadata": {
    "execution": {
     "iopub.execute_input": "2022-05-22T18:39:11.928678Z",
     "iopub.status.busy": "2022-05-22T18:39:11.928365Z",
     "iopub.status.idle": "2022-05-22T18:39:11.934436Z",
     "shell.execute_reply": "2022-05-22T18:39:11.933791Z"
    },
    "papermill": {
     "duration": 0.167905,
     "end_time": "2022-05-22T18:39:11.936348",
     "exception": false,
     "start_time": "2022-05-22T18:39:11.768443",
     "status": "completed"
    },
    "tags": []
   },
   "outputs": [
    {
     "data": {
      "text/plain": [
       "8"
      ]
     },
     "execution_count": 17,
     "metadata": {},
     "output_type": "execute_result"
    }
   ],
   "source": [
    "knn_cv_model.best_params_[\"n_neighbors\"]"
   ]
  },
  {
   "cell_type": "code",
   "execution_count": 18,
   "id": "95d43f5c",
   "metadata": {
    "execution": {
     "iopub.execute_input": "2022-05-22T18:39:12.290826Z",
     "iopub.status.busy": "2022-05-22T18:39:12.289890Z",
     "iopub.status.idle": "2022-05-22T18:39:13.409016Z",
     "shell.execute_reply": "2022-05-22T18:39:13.407957Z"
    },
    "papermill": {
     "duration": 1.317449,
     "end_time": "2022-05-22T18:39:13.412219",
     "exception": false,
     "start_time": "2022-05-22T18:39:12.094770",
     "status": "completed"
    },
    "tags": []
   },
   "outputs": [
    {
     "name": "stdout",
     "output_type": "stream",
     "text": [
      "k = 1 için RMSE değeri:  0.0 RMSE_CV değeri:  325.3947514706382\n",
      "k = 2 için RMSE değeri:  179.52761335480352 RMSE_CV değeri:  293.24000183333817\n",
      "k = 3 için RMSE değeri:  205.20157172291863 RMSE_CV değeri:  283.7486667487823\n",
      "k = 4 için RMSE değeri:  220.5139794876305 RMSE_CV değeri:  286.3240222024089\n",
      "k = 5 için RMSE değeri:  239.6467132541376 RMSE_CV değeri:  290.0705466132226\n",
      "k = 6 için RMSE değeri:  243.5904190007242 RMSE_CV değeri:  298.1263115575851\n",
      "k = 7 için RMSE değeri:  258.1478781634636 RMSE_CV değeri:  294.77070479194987\n",
      "k = 8 için RMSE değeri:  266.05374203349805 RMSE_CV değeri:  291.98672028891235\n",
      "k = 9 için RMSE değeri:  269.73782093553376 RMSE_CV değeri:  295.7162739573105\n",
      "k = 10 için RMSE değeri:  271.2798300436963 RMSE_CV değeri:  301.31047022701154\n"
     ]
    }
   ],
   "source": [
    "# RMSE Degerleri: Valide Edilmemis Degerler, RMSE_CV : Valide Edilmis Degerler ( Yukaridaki Valide Edilmemis Degerlerdi ( Buna Benzer Olan Code'den Bahsediyorum ) )\n",
    "\n",
    "# ( Su Anda Gorme Amacli Karsilastirma Yapiyoruz )\n",
    "\n",
    "RMSE = [] \n",
    "RMSE_CV = []\n",
    "for k in range(10):\n",
    "    k = k+1\n",
    "    knn_model = KNeighborsRegressor(n_neighbors = k).fit(X_train, y_train)\n",
    "    y_pred = knn_model.predict(X_train) \n",
    "    rmse = np.sqrt(mean_squared_error(y_train,y_pred)) \n",
    "    rmse_cv = np.sqrt(-1*cross_val_score(knn_model, X_train, y_train, cv=10, \n",
    "                                         scoring = \"neg_mean_squared_error\").mean())\n",
    "    RMSE.append(rmse) \n",
    "    RMSE_CV.append(rmse_cv)\n",
    "    print(\"k =\" , k , \"için RMSE değeri: \", rmse, \"RMSE_CV değeri: \", rmse_cv )\n"
   ]
  },
  {
   "cell_type": "code",
   "execution_count": 19,
   "id": "9abc1078",
   "metadata": {
    "execution": {
     "iopub.execute_input": "2022-05-22T18:39:13.749295Z",
     "iopub.status.busy": "2022-05-22T18:39:13.748980Z",
     "iopub.status.idle": "2022-05-22T18:39:13.753675Z",
     "shell.execute_reply": "2022-05-22T18:39:13.752643Z"
    },
    "papermill": {
     "duration": 0.176582,
     "end_time": "2022-05-22T18:39:13.755826",
     "exception": false,
     "start_time": "2022-05-22T18:39:13.579244",
     "status": "completed"
    },
    "tags": []
   },
   "outputs": [],
   "source": [
    "knn_tuned = KNeighborsRegressor(n_neighbors = knn_cv_model.best_params_[\"n_neighbors\"]) # Final Modelimiz"
   ]
  },
  {
   "cell_type": "code",
   "execution_count": 20,
   "id": "6bc2c4e8",
   "metadata": {
    "execution": {
     "iopub.execute_input": "2022-05-22T18:39:14.082558Z",
     "iopub.status.busy": "2022-05-22T18:39:14.082056Z",
     "iopub.status.idle": "2022-05-22T18:39:14.090206Z",
     "shell.execute_reply": "2022-05-22T18:39:14.089479Z"
    },
    "papermill": {
     "duration": 0.17566,
     "end_time": "2022-05-22T18:39:14.092508",
     "exception": false,
     "start_time": "2022-05-22T18:39:13.916848",
     "status": "completed"
    },
    "tags": []
   },
   "outputs": [
    {
     "data": {
      "text/plain": [
       "KNeighborsRegressor(n_neighbors=8)"
      ]
     },
     "execution_count": 20,
     "metadata": {},
     "output_type": "execute_result"
    }
   ],
   "source": [
    "knn_tuned.fit(X_train, y_train)"
   ]
  },
  {
   "cell_type": "code",
   "execution_count": 21,
   "id": "09b8bdcc",
   "metadata": {
    "execution": {
     "iopub.execute_input": "2022-05-22T18:39:14.425018Z",
     "iopub.status.busy": "2022-05-22T18:39:14.424568Z",
     "iopub.status.idle": "2022-05-22T18:39:14.435201Z",
     "shell.execute_reply": "2022-05-22T18:39:14.434356Z"
    },
    "papermill": {
     "duration": 0.177765,
     "end_time": "2022-05-22T18:39:14.437167",
     "exception": false,
     "start_time": "2022-05-22T18:39:14.259402",
     "status": "completed"
    },
    "tags": []
   },
   "outputs": [
    {
     "data": {
      "text/plain": [
       "413.7094731463598"
      ]
     },
     "execution_count": 21,
     "metadata": {},
     "output_type": "execute_result"
    }
   ],
   "source": [
    "np.sqrt(mean_squared_error(y_test, knn_tuned.predict(X_test))) # Tune Edilmis KNN Modeli Ile Elde Ettigimiz Test Hatamiz 413'tur"
   ]
  },
  {
   "cell_type": "markdown",
   "id": "0726f19b",
   "metadata": {
    "papermill": {
     "duration": 0.16658,
     "end_time": "2022-05-22T18:39:14.770306",
     "exception": false,
     "start_time": "2022-05-22T18:39:14.603726",
     "status": "completed"
    },
    "tags": []
   },
   "source": [
    "# SVR (Destek Vektör Regresyonu)"
   ]
  },
  {
   "cell_type": "code",
   "execution_count": 22,
   "id": "1b680c84",
   "metadata": {
    "execution": {
     "iopub.execute_input": "2022-05-22T18:39:15.107886Z",
     "iopub.status.busy": "2022-05-22T18:39:15.106988Z",
     "iopub.status.idle": "2022-05-22T18:39:15.130994Z",
     "shell.execute_reply": "2022-05-22T18:39:15.130215Z"
    },
    "papermill": {
     "duration": 0.198394,
     "end_time": "2022-05-22T18:39:15.133269",
     "exception": false,
     "start_time": "2022-05-22T18:39:14.934875",
     "status": "completed"
    },
    "tags": []
   },
   "outputs": [],
   "source": [
    "hit = pd.read_csv(\"../input/hitterscsv/Hitters.csv\")\n",
    "df = hit.copy()\n",
    "df = df.dropna()\n",
    "dms = pd.get_dummies(df[['League', 'Division', 'NewLeague']])\n",
    "y = df[\"Salary\"]\n",
    "X_ = df.drop(['Salary', 'League', 'Division', 'NewLeague'], axis=1).astype('float64')\n",
    "X = pd.concat([X_, dms[['League_N', 'Division_W', 'NewLeague_N']]], axis=1)\n",
    "X_train, X_test, y_train, y_test = train_test_split(X, y, \n",
    "                                                    test_size=0.25, \n",
    "                                                    random_state=42)"
   ]
  },
  {
   "cell_type": "code",
   "execution_count": 23,
   "id": "d617f29d",
   "metadata": {
    "execution": {
     "iopub.execute_input": "2022-05-22T18:39:15.469842Z",
     "iopub.status.busy": "2022-05-22T18:39:15.469281Z",
     "iopub.status.idle": "2022-05-22T18:39:15.474552Z",
     "shell.execute_reply": "2022-05-22T18:39:15.473879Z"
    },
    "papermill": {
     "duration": 0.175397,
     "end_time": "2022-05-22T18:39:15.476439",
     "exception": false,
     "start_time": "2022-05-22T18:39:15.301042",
     "status": "completed"
    },
    "tags": []
   },
   "outputs": [],
   "source": [
    "X_train = pd.DataFrame(X_train[\"Hits\"])\n",
    "X_test = pd.DataFrame(X_test[\"Hits\"])"
   ]
  },
  {
   "cell_type": "code",
   "execution_count": 24,
   "id": "4f8ded37",
   "metadata": {
    "execution": {
     "iopub.execute_input": "2022-05-22T18:39:15.809913Z",
     "iopub.status.busy": "2022-05-22T18:39:15.809337Z",
     "iopub.status.idle": "2022-05-22T18:39:15.813132Z",
     "shell.execute_reply": "2022-05-22T18:39:15.812509Z"
    },
    "papermill": {
     "duration": 0.172807,
     "end_time": "2022-05-22T18:39:15.815045",
     "exception": false,
     "start_time": "2022-05-22T18:39:15.642238",
     "status": "completed"
    },
    "tags": []
   },
   "outputs": [],
   "source": [
    "from sklearn.svm import SVR"
   ]
  },
  {
   "cell_type": "code",
   "execution_count": 25,
   "id": "7587501a",
   "metadata": {
    "execution": {
     "iopub.execute_input": "2022-05-22T18:39:16.147527Z",
     "iopub.status.busy": "2022-05-22T18:39:16.147039Z",
     "iopub.status.idle": "2022-05-22T18:39:16.157322Z",
     "shell.execute_reply": "2022-05-22T18:39:16.156588Z"
    },
    "papermill": {
     "duration": 0.179802,
     "end_time": "2022-05-22T18:39:16.159655",
     "exception": false,
     "start_time": "2022-05-22T18:39:15.979853",
     "status": "completed"
    },
    "tags": []
   },
   "outputs": [],
   "source": [
    "# SVR(\"linear\") ---->> Tipini Belirtiyoruz\n",
    "\n",
    "svr_model = SVR(kernel = \"linear\").fit(X_train, y_train)"
   ]
  },
  {
   "cell_type": "code",
   "execution_count": 26,
   "id": "e998946a",
   "metadata": {
    "execution": {
     "iopub.execute_input": "2022-05-22T18:39:16.492455Z",
     "iopub.status.busy": "2022-05-22T18:39:16.491888Z",
     "iopub.status.idle": "2022-05-22T18:39:16.501848Z",
     "shell.execute_reply": "2022-05-22T18:39:16.500915Z"
    },
    "papermill": {
     "duration": 0.17843,
     "end_time": "2022-05-22T18:39:16.503986",
     "exception": false,
     "start_time": "2022-05-22T18:39:16.325556",
     "status": "completed"
    },
    "tags": []
   },
   "outputs": [
    {
     "data": {
      "text/plain": [
       "array([403.52804878, 666.91219512, 706.66829268, 194.80853659,\n",
       "       423.40609756])"
      ]
     },
     "execution_count": 26,
     "metadata": {},
     "output_type": "execute_result"
    }
   ],
   "source": [
    "svr_model.predict(X_train)[0:5] # Bunlar Bagimli Degiskenin Su An Tahmin Edilen Degerleri"
   ]
  },
  {
   "cell_type": "code",
   "execution_count": 27,
   "id": "cc111f59",
   "metadata": {
    "execution": {
     "iopub.execute_input": "2022-05-22T18:39:16.836577Z",
     "iopub.status.busy": "2022-05-22T18:39:16.836283Z",
     "iopub.status.idle": "2022-05-22T18:39:16.841641Z",
     "shell.execute_reply": "2022-05-22T18:39:16.840646Z"
    },
    "papermill": {
     "duration": 0.174321,
     "end_time": "2022-05-22T18:39:16.844339",
     "exception": false,
     "start_time": "2022-05-22T18:39:16.670018",
     "status": "completed"
    },
    "tags": []
   },
   "outputs": [
    {
     "name": "stdout",
     "output_type": "stream",
     "text": [
      "y = -48.69756097561513 + 4.969512195122093 x\n"
     ]
    }
   ],
   "source": [
    "# Dogrusal SVR'in Model Denklemi\n",
    "\n",
    "print (\"y = {0} + {1} x\".format(svr_model.intercept_[0], # Sabiti Aldik\n",
    "                                svr_model.coef_[0][0])) # Beta 1 Katsayisini Aldik ( Iki Tane Koseli Parantez Olmasinin Sebebi Arrayden Kurtarmak Icin ( Bilgilendirme ) )"
   ]
  },
  {
   "cell_type": "code",
   "execution_count": 28,
   "id": "a492bf32",
   "metadata": {
    "execution": {
     "iopub.execute_input": "2022-05-22T18:39:17.180495Z",
     "iopub.status.busy": "2022-05-22T18:39:17.179975Z",
     "iopub.status.idle": "2022-05-22T18:39:17.187892Z",
     "shell.execute_reply": "2022-05-22T18:39:17.186724Z"
    },
    "papermill": {
     "duration": 0.176871,
     "end_time": "2022-05-22T18:39:17.190040",
     "exception": false,
     "start_time": "2022-05-22T18:39:17.013169",
     "status": "completed"
    },
    "tags": []
   },
   "outputs": [
    {
     "data": {
      "text/plain": [
       "183    91.0\n",
       "Name: Hits, dtype: float64"
      ]
     },
     "execution_count": 28,
     "metadata": {},
     "output_type": "execute_result"
    }
   ],
   "source": [
    "X_train[\"Hits\"][0:1] # Burada Cikan Degeri Bir Ustteki Denklemde Yerine Koydugumda Tahmin Edilen ( Iki Ustteki ) 403 Degerine Erisebilecekmiyim ( Evet )"
   ]
  },
  {
   "cell_type": "code",
   "execution_count": 29,
   "id": "2bb67bd6",
   "metadata": {
    "execution": {
     "iopub.execute_input": "2022-05-22T18:39:17.521691Z",
     "iopub.status.busy": "2022-05-22T18:39:17.521352Z",
     "iopub.status.idle": "2022-05-22T18:39:17.527846Z",
     "shell.execute_reply": "2022-05-22T18:39:17.526886Z"
    },
    "papermill": {
     "duration": 0.174704,
     "end_time": "2022-05-22T18:39:17.529934",
     "exception": false,
     "start_time": "2022-05-22T18:39:17.355230",
     "status": "completed"
    },
    "tags": []
   },
   "outputs": [
    {
     "data": {
      "text/plain": [
       "403.5280487804953"
      ]
     },
     "execution_count": 29,
     "metadata": {},
     "output_type": "execute_result"
    }
   ],
   "source": [
    "-48.69756097561513 + 4.969512195122093*91"
   ]
  },
  {
   "cell_type": "code",
   "execution_count": 30,
   "id": "ab7e5a10",
   "metadata": {
    "execution": {
     "iopub.execute_input": "2022-05-22T18:39:17.862762Z",
     "iopub.status.busy": "2022-05-22T18:39:17.862404Z",
     "iopub.status.idle": "2022-05-22T18:39:17.869452Z",
     "shell.execute_reply": "2022-05-22T18:39:17.868442Z"
    },
    "papermill": {
     "duration": 0.173573,
     "end_time": "2022-05-22T18:39:17.871682",
     "exception": false,
     "start_time": "2022-05-22T18:39:17.698109",
     "status": "completed"
    },
    "tags": []
   },
   "outputs": [],
   "source": [
    "y_pred = svr_model.predict(X_train)"
   ]
  },
  {
   "cell_type": "code",
   "execution_count": 31,
   "id": "0cbc0f48",
   "metadata": {
    "execution": {
     "iopub.execute_input": "2022-05-22T18:39:18.207256Z",
     "iopub.status.busy": "2022-05-22T18:39:18.206969Z",
     "iopub.status.idle": "2022-05-22T18:39:18.446386Z",
     "shell.execute_reply": "2022-05-22T18:39:18.445518Z"
    },
    "papermill": {
     "duration": 0.407949,
     "end_time": "2022-05-22T18:39:18.448535",
     "exception": false,
     "start_time": "2022-05-22T18:39:18.040586",
     "status": "completed"
    },
    "tags": []
   },
   "outputs": [
    {
     "data": {
      "text/plain": [
       "[<matplotlib.lines.Line2D at 0x7f105a1b6e90>]"
      ]
     },
     "execution_count": 31,
     "metadata": {},
     "output_type": "execute_result"
    },
    {
     "data": {
      "image/png": "[encoded data removed]",
      "text/plain": [
       "<Figure size 432x288 with 1 Axes>"
      ]
     },
     "metadata": {
      "needs_background": "light"
     },
     "output_type": "display_data"
    }
   ],
   "source": [
    "# Basit SVR'in Geometrik Olarak Ne Ifade Ettigini Gorelim\n",
    "\n",
    "plt.scatter(X_train, y_train)\n",
    "plt.plot(X_train,y_pred, color = \"r\")"
   ]
  },
  {
   "cell_type": "code",
   "execution_count": 32,
   "id": "1d12ef63",
   "metadata": {
    "execution": {
     "iopub.execute_input": "2022-05-22T18:39:18.787890Z",
     "iopub.status.busy": "2022-05-22T18:39:18.787587Z",
     "iopub.status.idle": "2022-05-22T18:39:18.808475Z",
     "shell.execute_reply": "2022-05-22T18:39:18.807705Z"
    },
    "papermill": {
     "duration": 0.192004,
     "end_time": "2022-05-22T18:39:18.810606",
     "exception": false,
     "start_time": "2022-05-22T18:39:18.618602",
     "status": "completed"
    },
    "tags": []
   },
   "outputs": [
    {
     "name": "stdout",
     "output_type": "stream",
     "text": [
      "y = -8.814095480334345 + 5.172456135470686 x\n"
     ]
    }
   ],
   "source": [
    "# Dogrusal Regresyon\n",
    "\n",
    "from sklearn.linear_model import LinearRegression\n",
    "lm_model = LinearRegression().fit(X_train, y_train)\n",
    "lm_pred  = lm_model.predict(X_train)\n",
    "print(\"y = {0} + {1} x\".format(lm_model.intercept_, lm_model.coef_[0]))"
   ]
  },
  {
   "cell_type": "code",
   "execution_count": 33,
   "id": "6c889f1b",
   "metadata": {
    "execution": {
     "iopub.execute_input": "2022-05-22T18:39:19.141051Z",
     "iopub.status.busy": "2022-05-22T18:39:19.140741Z",
     "iopub.status.idle": "2022-05-22T18:39:19.147397Z",
     "shell.execute_reply": "2022-05-22T18:39:19.146437Z"
    },
    "papermill": {
     "duration": 0.174394,
     "end_time": "2022-05-22T18:39:19.149445",
     "exception": false,
     "start_time": "2022-05-22T18:39:18.975051",
     "status": "completed"
    },
    "tags": []
   },
   "outputs": [
    {
     "data": {
      "text/plain": [
       "461.879412847498"
      ]
     },
     "execution_count": 33,
     "metadata": {},
     "output_type": "execute_result"
    }
   ],
   "source": [
    "-8.814095480334572 + 5.1724561354706875*91 # Simdi Burda Onemli Bir Mevzu Var Iki Farkli Model Ile Ayni Islemi Yaptik Fakat Sonuclar Farkli Cikti"
   ]
  },
  {
   "cell_type": "code",
   "execution_count": 34,
   "id": "ca9ed898",
   "metadata": {
    "execution": {
     "iopub.execute_input": "2022-05-22T18:39:19.485515Z",
     "iopub.status.busy": "2022-05-22T18:39:19.484974Z",
     "iopub.status.idle": "2022-05-22T18:39:19.698187Z",
     "shell.execute_reply": "2022-05-22T18:39:19.697286Z"
    },
    "papermill": {
     "duration": 0.381744,
     "end_time": "2022-05-22T18:39:19.700705",
     "exception": false,
     "start_time": "2022-05-22T18:39:19.318961",
     "status": "completed"
    },
    "tags": []
   },
   "outputs": [
    {
     "data": {
      "text/plain": [
       "Text(0, 0.5, 'Maaş (Salary)')"
      ]
     },
     "execution_count": 34,
     "metadata": {},
     "output_type": "execute_result"
    },
    {
     "data": {
      "image/png": "[encoded data removed]",
      "text/plain": [
       "<Figure size 432x288 with 1 Axes>"
      ]
     },
     "metadata": {
      "needs_background": "light"
     },
     "output_type": "display_data"
    }
   ],
   "source": [
    "# Iki Farkli Modelin Grafik Uzerinde Gosterimine Bakiyoruz ( Grafikte En Ustte Bulunan Aykiri Gozlemler Linear Regression'u Yukariya Dogru Cekiyor, SVR'i Da Cekiyor Ama Daha Az Yukariya Cekiyor )\n",
    "# Yani Ustte Bulunan Linear Regression, Assagida Bulunan SVR'Dir\n",
    "\n",
    "plt.scatter(X_train, y_train, alpha=0.5, s=23)\n",
    "plt.plot(X_train, lm_pred, 'g')\n",
    "plt.plot(X_train, y_pred, color='r')\n",
    "\n",
    "plt.xlabel(\"Atış Sayısı(Hits)\")\n",
    "plt.ylabel(\"Maaş (Salary)\")"
   ]
  },
  {
   "cell_type": "markdown",
   "id": "4e50ff6e",
   "metadata": {
    "papermill": {
     "duration": 0.165866,
     "end_time": "2022-05-22T18:39:20.033636",
     "exception": false,
     "start_time": "2022-05-22T18:39:19.867770",
     "status": "completed"
    },
    "tags": []
   },
   "source": [
    "## Tahmin"
   ]
  },
  {
   "cell_type": "code",
   "execution_count": 35,
   "id": "3427540c",
   "metadata": {
    "execution": {
     "iopub.execute_input": "2022-05-22T18:39:20.374913Z",
     "iopub.status.busy": "2022-05-22T18:39:20.374116Z",
     "iopub.status.idle": "2022-05-22T18:39:20.380715Z",
     "shell.execute_reply": "2022-05-22T18:39:20.379397Z"
    },
    "papermill": {
     "duration": 0.181442,
     "end_time": "2022-05-22T18:39:20.382851",
     "exception": false,
     "start_time": "2022-05-22T18:39:20.201409",
     "status": "completed"
    },
    "tags": []
   },
   "outputs": [
    {
     "name": "stdout",
     "output_type": "stream",
     "text": [
      "y = -48.69756097561513 + 4.969512195122093 x\n"
     ]
    }
   ],
   "source": [
    "print (\"y = {0} + {1} x\".format(svr_model.intercept_[0], svr_model.coef_[0][0])) # Tahmin Denklemimiz"
   ]
  },
  {
   "cell_type": "code",
   "execution_count": 36,
   "id": "fdf8dbba",
   "metadata": {
    "execution": {
     "iopub.execute_input": "2022-05-22T18:39:20.720268Z",
     "iopub.status.busy": "2022-05-22T18:39:20.719667Z",
     "iopub.status.idle": "2022-05-22T18:39:20.726164Z",
     "shell.execute_reply": "2022-05-22T18:39:20.725446Z"
    },
    "papermill": {
     "duration": 0.177633,
     "end_time": "2022-05-22T18:39:20.728199",
     "exception": false,
     "start_time": "2022-05-22T18:39:20.550566",
     "status": "completed"
    },
    "tags": []
   },
   "outputs": [
    {
     "data": {
      "text/plain": [
       "array([403.52804878])"
      ]
     },
     "execution_count": 36,
     "metadata": {},
     "output_type": "execute_result"
    }
   ],
   "source": [
    "svr_model.predict([[91]]) # Gorulecegi Uzere Yukaridaki Gibi 403 Degerini Elde Ettik"
   ]
  },
  {
   "cell_type": "code",
   "execution_count": 37,
   "id": "9d65e047",
   "metadata": {
    "execution": {
     "iopub.execute_input": "2022-05-22T18:39:21.070157Z",
     "iopub.status.busy": "2022-05-22T18:39:21.069686Z",
     "iopub.status.idle": "2022-05-22T18:39:21.076685Z",
     "shell.execute_reply": "2022-05-22T18:39:21.075734Z"
    },
    "papermill": {
     "duration": 0.180273,
     "end_time": "2022-05-22T18:39:21.078849",
     "exception": false,
     "start_time": "2022-05-22T18:39:20.898576",
     "status": "completed"
    },
    "tags": []
   },
   "outputs": [],
   "source": [
    "y_pred = svr_model.predict(X_test)"
   ]
  },
  {
   "cell_type": "code",
   "execution_count": 38,
   "id": "8de48448",
   "metadata": {
    "execution": {
     "iopub.execute_input": "2022-05-22T18:39:21.422741Z",
     "iopub.status.busy": "2022-05-22T18:39:21.422438Z",
     "iopub.status.idle": "2022-05-22T18:39:21.429344Z",
     "shell.execute_reply": "2022-05-22T18:39:21.428686Z"
    },
    "papermill": {
     "duration": 0.18102,
     "end_time": "2022-05-22T18:39:21.431298",
     "exception": false,
     "start_time": "2022-05-22T18:39:21.250278",
     "status": "completed"
    },
    "tags": []
   },
   "outputs": [
    {
     "data": {
      "text/plain": [
       "459.0187960365147"
      ]
     },
     "execution_count": 38,
     "metadata": {},
     "output_type": "execute_result"
    }
   ],
   "source": [
    "np.sqrt(mean_squared_error(y_test, y_pred)) # Test Hatasi ( Tune Edilmemis Bir Modeldir )"
   ]
  },
  {
   "cell_type": "code",
   "execution_count": 39,
   "id": "43a3feec",
   "metadata": {
    "execution": {
     "iopub.execute_input": "2022-05-22T18:39:21.767431Z",
     "iopub.status.busy": "2022-05-22T18:39:21.766355Z",
     "iopub.status.idle": "2022-05-22T18:39:21.773181Z",
     "shell.execute_reply": "2022-05-22T18:39:21.772206Z"
    },
    "papermill": {
     "duration": 0.177471,
     "end_time": "2022-05-22T18:39:21.775758",
     "exception": false,
     "start_time": "2022-05-22T18:39:21.598287",
     "status": "completed"
    },
    "tags": []
   },
   "outputs": [
    {
     "data": {
      "text/plain": [
       "SVR(kernel='linear')"
      ]
     },
     "execution_count": 39,
     "metadata": {},
     "output_type": "execute_result"
    }
   ],
   "source": [
    "svr_model"
   ]
  },
  {
   "cell_type": "markdown",
   "id": "fbe54738",
   "metadata": {
    "papermill": {
     "duration": 0.173626,
     "end_time": "2022-05-22T18:39:22.123617",
     "exception": false,
     "start_time": "2022-05-22T18:39:21.949991",
     "status": "completed"
    },
    "tags": []
   },
   "source": [
    "## Model Tuning"
   ]
  },
  {
   "cell_type": "code",
   "execution_count": 40,
   "id": "fb31a0d9",
   "metadata": {
    "execution": {
     "iopub.execute_input": "2022-05-22T18:39:22.473548Z",
     "iopub.status.busy": "2022-05-22T18:39:22.472965Z",
     "iopub.status.idle": "2022-05-22T18:39:22.479405Z",
     "shell.execute_reply": "2022-05-22T18:39:22.478641Z"
    },
    "papermill": {
     "duration": 0.17947,
     "end_time": "2022-05-22T18:39:22.481464",
     "exception": false,
     "start_time": "2022-05-22T18:39:22.301994",
     "status": "completed"
    },
    "tags": []
   },
   "outputs": [
    {
     "data": {
      "text/plain": [
       "SVR(kernel='linear')"
      ]
     },
     "execution_count": 40,
     "metadata": {},
     "output_type": "execute_result"
    }
   ],
   "source": [
    "# Burada Tune Etmemiz Gereken Parametre c ( Karmasiklik ) Parametresi ( Ayar Parametresi )  \n",
    "\n",
    "svr_model # Model Ile Ilgili Varsayilan Ayarlar Arasinda c Diye Bir Arguman Var Ondan Bahsediyoruz"
   ]
  },
  {
   "cell_type": "code",
   "execution_count": 41,
   "id": "1914b7ea",
   "metadata": {
    "execution": {
     "iopub.execute_input": "2022-05-22T18:39:22.821902Z",
     "iopub.status.busy": "2022-05-22T18:39:22.821325Z",
     "iopub.status.idle": "2022-05-22T18:39:24.230541Z",
     "shell.execute_reply": "2022-05-22T18:39:24.229470Z"
    },
    "papermill": {
     "duration": 1.582687,
     "end_time": "2022-05-22T18:39:24.233209",
     "exception": false,
     "start_time": "2022-05-22T18:39:22.650522",
     "status": "completed"
    },
    "tags": []
   },
   "outputs": [],
   "source": [
    "svr_params = {\"C\": np.arange(0.1,2,0.1)}\n",
    "svr_cv_model = GridSearchCV(svr_model, svr_params, cv = 10).fit(X_train,y_train) # SVR Model Uzerinden Yapicak, SVR Parametrelerini Denicek, 10 Katli Olucak"
   ]
  },
  {
   "cell_type": "code",
   "execution_count": 42,
   "id": "16bded09",
   "metadata": {
    "execution": {
     "iopub.execute_input": "2022-05-22T18:39:24.582913Z",
     "iopub.status.busy": "2022-05-22T18:39:24.582447Z",
     "iopub.status.idle": "2022-05-22T18:39:24.586818Z",
     "shell.execute_reply": "2022-05-22T18:39:24.586096Z"
    },
    "papermill": {
     "duration": 0.181663,
     "end_time": "2022-05-22T18:39:24.588771",
     "exception": false,
     "start_time": "2022-05-22T18:39:24.407108",
     "status": "completed"
    },
    "tags": []
   },
   "outputs": [],
   "source": [
    "# GridSearchCV ---->> Bu Fonksiyon Sayesinde En Iyi Parametreyi Bulup Onu Modelde Kullanabilirdik ( Tune Edilmis ) Fakat Biz Assagida Gozumuze Daha Guzel Gozukmesi Icin Yeni Model Olusturduk"
   ]
  },
  {
   "cell_type": "code",
   "execution_count": 43,
   "id": "48aaf375",
   "metadata": {
    "execution": {
     "iopub.execute_input": "2022-05-22T18:39:24.937990Z",
     "iopub.status.busy": "2022-05-22T18:39:24.937676Z",
     "iopub.status.idle": "2022-05-22T18:39:24.943722Z",
     "shell.execute_reply": "2022-05-22T18:39:24.942702Z"
    },
    "papermill": {
     "duration": 0.184036,
     "end_time": "2022-05-22T18:39:24.946190",
     "exception": false,
     "start_time": "2022-05-22T18:39:24.762154",
     "status": "completed"
    },
    "tags": []
   },
   "outputs": [
    {
     "data": {
      "text/plain": [
       "{'C': 0.1}"
      ]
     },
     "execution_count": 43,
     "metadata": {},
     "output_type": "execute_result"
    }
   ],
   "source": [
    "svr_cv_model.best_params_"
   ]
  },
  {
   "cell_type": "code",
   "execution_count": 44,
   "id": "3ba87a75",
   "metadata": {
    "execution": {
     "iopub.execute_input": "2022-05-22T18:39:25.296801Z",
     "iopub.status.busy": "2022-05-22T18:39:25.296257Z",
     "iopub.status.idle": "2022-05-22T18:39:25.303534Z",
     "shell.execute_reply": "2022-05-22T18:39:25.302646Z"
    },
    "papermill": {
     "duration": 0.184475,
     "end_time": "2022-05-22T18:39:25.305571",
     "exception": false,
     "start_time": "2022-05-22T18:39:25.121096",
     "status": "completed"
    },
    "tags": []
   },
   "outputs": [
    {
     "data": {
      "text/plain": [
       "0.1"
      ]
     },
     "execution_count": 44,
     "metadata": {},
     "output_type": "execute_result"
    }
   ],
   "source": [
    "pd.Series(svr_cv_model.best_params_)[0] # Bize Onerdigi Parametre ( Optimum Parametre )"
   ]
  },
  {
   "cell_type": "code",
   "execution_count": 45,
   "id": "0ed96380",
   "metadata": {
    "execution": {
     "iopub.execute_input": "2022-05-22T18:39:25.652920Z",
     "iopub.status.busy": "2022-05-22T18:39:25.652355Z",
     "iopub.status.idle": "2022-05-22T18:39:25.662140Z",
     "shell.execute_reply": "2022-05-22T18:39:25.661472Z"
    },
    "papermill": {
     "duration": 0.186417,
     "end_time": "2022-05-22T18:39:25.664316",
     "exception": false,
     "start_time": "2022-05-22T18:39:25.477899",
     "status": "completed"
    },
    "tags": []
   },
   "outputs": [],
   "source": [
    "svr_tuned = SVR(kernel = \"linear\", \n",
    "                C = pd.Series(svr_cv_model.best_params_)[0]).fit(X_train, y_train) # svr_cv_model.best_params_ ------>> Bu Ifadeyi Yazmadik Pandas Serisi Halini Yazdik Ic Kismina ( Bilgilendirme )"
   ]
  },
  {
   "cell_type": "code",
   "execution_count": 46,
   "id": "de50cf4e",
   "metadata": {
    "execution": {
     "iopub.execute_input": "2022-05-22T18:39:26.011628Z",
     "iopub.status.busy": "2022-05-22T18:39:26.011070Z",
     "iopub.status.idle": "2022-05-22T18:39:26.017769Z",
     "shell.execute_reply": "2022-05-22T18:39:26.017152Z"
    },
    "papermill": {
     "duration": 0.182757,
     "end_time": "2022-05-22T18:39:26.019842",
     "exception": false,
     "start_time": "2022-05-22T18:39:25.837085",
     "status": "completed"
    },
    "tags": []
   },
   "outputs": [],
   "source": [
    "y_pred = svr_tuned.predict(X_test)"
   ]
  },
  {
   "cell_type": "code",
   "execution_count": 47,
   "id": "2636b9e3",
   "metadata": {
    "execution": {
     "iopub.execute_input": "2022-05-22T18:39:26.367220Z",
     "iopub.status.busy": "2022-05-22T18:39:26.366803Z",
     "iopub.status.idle": "2022-05-22T18:39:26.374068Z",
     "shell.execute_reply": "2022-05-22T18:39:26.373026Z"
    },
    "papermill": {
     "duration": 0.183387,
     "end_time": "2022-05-22T18:39:26.376030",
     "exception": false,
     "start_time": "2022-05-22T18:39:26.192643",
     "status": "completed"
    },
    "tags": []
   },
   "outputs": [
    {
     "data": {
      "text/plain": [
       "458.198966781116"
      ]
     },
     "execution_count": 47,
     "metadata": {},
     "output_type": "execute_result"
    }
   ],
   "source": [
    "np.sqrt(mean_squared_error(y_test, y_pred)) # Test Hatasi ( Tek Parametreye Gore Hesaplandi Ve c Degeri 0.1 Di )"
   ]
  },
  {
   "cell_type": "code",
   "execution_count": 48,
   "id": "279b8e23",
   "metadata": {
    "execution": {
     "iopub.execute_input": "2022-05-22T18:39:26.717389Z",
     "iopub.status.busy": "2022-05-22T18:39:26.717100Z",
     "iopub.status.idle": "2022-05-22T18:39:26.724829Z",
     "shell.execute_reply": "2022-05-22T18:39:26.724121Z"
    },
    "papermill": {
     "duration": 0.180597,
     "end_time": "2022-05-22T18:39:26.726876",
     "exception": false,
     "start_time": "2022-05-22T18:39:26.546279",
     "status": "completed"
    },
    "tags": []
   },
   "outputs": [
    {
     "data": {
      "text/plain": [
       "458.198966781116"
      ]
     },
     "execution_count": 48,
     "metadata": {},
     "output_type": "execute_result"
    }
   ],
   "source": [
    "np.sqrt(mean_squared_error(y_test, y_pred)) # Test Hatasi ( Tum Degiskenlere Gore Degerlendirildi Ve Optimum c Degeri : 0.4 Cikti )"
   ]
  },
  {
   "cell_type": "markdown",
   "id": "6a57fcf3",
   "metadata": {
    "papermill": {
     "duration": 0.173104,
     "end_time": "2022-05-22T18:39:27.071455",
     "exception": false,
     "start_time": "2022-05-22T18:39:26.898351",
     "status": "completed"
    },
    "tags": []
   },
   "source": [
    "# Doğrusal Olmayan SVR"
   ]
  },
  {
   "cell_type": "code",
   "execution_count": 49,
   "id": "b051ba8a",
   "metadata": {
    "execution": {
     "iopub.execute_input": "2022-05-22T18:39:27.475894Z",
     "iopub.status.busy": "2022-05-22T18:39:27.475616Z",
     "iopub.status.idle": "2022-05-22T18:39:27.483668Z",
     "shell.execute_reply": "2022-05-22T18:39:27.482459Z"
    },
    "papermill": {
     "duration": 0.240477,
     "end_time": "2022-05-22T18:39:27.486208",
     "exception": false,
     "start_time": "2022-05-22T18:39:27.245731",
     "status": "completed"
    },
    "tags": []
   },
   "outputs": [],
   "source": [
    "np.random.seed(3)\n",
    "\n",
    "x_sim = np.random.uniform(2, 10, 145)\n",
    "y_sim = np.sin(x_sim) + np.random.normal(0, 0.4, 145)\n",
    "\n",
    "x_outliers = np.arange(2.5, 5, 0.5)\n",
    "y_outliers = -5*np.ones(5)\n",
    "\n",
    "x_sim_idx = np.argsort(np.concatenate([x_sim, x_outliers]))\n",
    "x_sim = np.concatenate([x_sim, x_outliers])[x_sim_idx]\n",
    "y_sim = np.concatenate([y_sim, y_outliers])[x_sim_idx]"
   ]
  },
  {
   "cell_type": "code",
   "execution_count": 50,
   "id": "08ef7510",
   "metadata": {
    "execution": {
     "iopub.execute_input": "2022-05-22T18:39:27.832410Z",
     "iopub.status.busy": "2022-05-22T18:39:27.832090Z",
     "iopub.status.idle": "2022-05-22T18:39:27.842419Z",
     "shell.execute_reply": "2022-05-22T18:39:27.841721Z"
    },
    "papermill": {
     "duration": 0.185198,
     "end_time": "2022-05-22T18:39:27.844670",
     "exception": false,
     "start_time": "2022-05-22T18:39:27.659472",
     "status": "completed"
    },
    "tags": []
   },
   "outputs": [],
   "source": [
    "\n",
    "from sklearn.linear_model import LinearRegression\n",
    "ols = LinearRegression()\n",
    "ols.fit(np.sin(x_sim[:, np.newaxis]), y_sim)\n",
    "ols_pred = ols.predict(np.sin(x_sim[:, np.newaxis]))\n",
    "\n",
    "from sklearn.svm import SVR\n",
    "eps = 0.1\n",
    "svr = SVR(kernel = 'rbf', epsilon = eps)\n",
    "svr.fit(x_sim[:, np.newaxis], y_sim)\n",
    "svr_pred = svr.predict(x_sim[:, np.newaxis])"
   ]
  },
  {
   "cell_type": "code",
   "execution_count": 51,
   "id": "b9043b23",
   "metadata": {
    "execution": {
     "iopub.execute_input": "2022-05-22T18:39:28.195287Z",
     "iopub.status.busy": "2022-05-22T18:39:28.194857Z",
     "iopub.status.idle": "2022-05-22T18:39:28.457884Z",
     "shell.execute_reply": "2022-05-22T18:39:28.456791Z"
    },
    "papermill": {
     "duration": 0.439325,
     "end_time": "2022-05-22T18:39:28.460513",
     "exception": false,
     "start_time": "2022-05-22T18:39:28.021188",
     "status": "completed"
    },
    "tags": []
   },
   "outputs": [
    {
     "data": {
      "image/png": "[encoded data removed]",
      "text/plain": [
       "<Figure size 432x288 with 1 Axes>"
      ]
     },
     "metadata": {
      "needs_background": "light"
     },
     "output_type": "display_data"
    }
   ],
   "source": [
    "plt.scatter(x_sim, y_sim, alpha=0.5, s=26)\n",
    "plt_ols, = plt.plot(x_sim, ols_pred, 'g')\n",
    "plt_svr, = plt.plot(x_sim, svr_pred, color='r')\n",
    "plt.xlabel(\"Bağımsız Değişken\")\n",
    "plt.ylabel(\"Bağımlı Değişken\")\n",
    "plt.ylim(-5.2, 2.2)\n",
    "plt.legend([plt_ols, plt_svr], ['EKK', 'SVR'], loc = 4);\n",
    "\n",
    "# Grafikte Hangisinin EKK, Hangisinin SVR Oldugu Gosterilmemis Olsa Bile Biz Anlayabiliriz ( Su Sekilde ) EKK'yi Aykiri Gozlemler Cekiyor Assagi Ve Yukariya ( Bu Sekilde Ayirt Edebiliriz )"
   ]
  },
  {
   "cell_type": "code",
   "execution_count": 52,
   "id": "b35275b5",
   "metadata": {
    "execution": {
     "iopub.execute_input": "2022-05-22T18:39:28.815330Z",
     "iopub.status.busy": "2022-05-22T18:39:28.815042Z",
     "iopub.status.idle": "2022-05-22T18:39:28.838069Z",
     "shell.execute_reply": "2022-05-22T18:39:28.837411Z"
    },
    "papermill": {
     "duration": 0.202377,
     "end_time": "2022-05-22T18:39:28.840260",
     "exception": false,
     "start_time": "2022-05-22T18:39:28.637883",
     "status": "completed"
    },
    "tags": []
   },
   "outputs": [],
   "source": [
    "hit = pd.read_csv(\"../input/hitterscsv/Hitters.csv\")\n",
    "df = hit.copy()\n",
    "df = df.dropna()\n",
    "dms = pd.get_dummies(df[['League', 'Division', 'NewLeague']])\n",
    "y = df[\"Salary\"]\n",
    "X_ = df.drop(['Salary', 'League', 'Division', 'NewLeague'], axis=1).astype('float64')\n",
    "X = pd.concat([X_, dms[['League_N', 'Division_W', 'NewLeague_N']]], axis=1)\n",
    "X_train, X_test, y_train, y_test = train_test_split(X, y, \n",
    "                                                    test_size=0.25, \n",
    "                                                    random_state=42)"
   ]
  },
  {
   "cell_type": "code",
   "execution_count": 53,
   "id": "8d19f5b2",
   "metadata": {
    "execution": {
     "iopub.execute_input": "2022-05-22T18:39:29.198897Z",
     "iopub.status.busy": "2022-05-22T18:39:29.198594Z",
     "iopub.status.idle": "2022-05-22T18:39:29.209011Z",
     "shell.execute_reply": "2022-05-22T18:39:29.208356Z"
    },
    "papermill": {
     "duration": 0.194758,
     "end_time": "2022-05-22T18:39:29.211408",
     "exception": false,
     "start_time": "2022-05-22T18:39:29.016650",
     "status": "completed"
    },
    "tags": []
   },
   "outputs": [],
   "source": [
    "svr_rbf = SVR(kernel = \"rbf\").fit(X_train, y_train) # Argumanlarda Tipi Belirtirken Kernel Yazmamiz Gerekiyor Kullanabilmek Icin ( Eskiye Gore Guncellenmis Fonksiyon )"
   ]
  },
  {
   "cell_type": "markdown",
   "id": "5b57e3be",
   "metadata": {
    "papermill": {
     "duration": 0.171875,
     "end_time": "2022-05-22T18:39:29.559127",
     "exception": false,
     "start_time": "2022-05-22T18:39:29.387252",
     "status": "completed"
    },
    "tags": []
   },
   "source": [
    "## Tahmin"
   ]
  },
  {
   "cell_type": "code",
   "execution_count": 54,
   "id": "054071c1",
   "metadata": {
    "execution": {
     "iopub.execute_input": "2022-05-22T18:39:29.906322Z",
     "iopub.status.busy": "2022-05-22T18:39:29.905245Z",
     "iopub.status.idle": "2022-05-22T18:39:29.912815Z",
     "shell.execute_reply": "2022-05-22T18:39:29.911918Z"
    },
    "papermill": {
     "duration": 0.18359,
     "end_time": "2022-05-22T18:39:29.914939",
     "exception": false,
     "start_time": "2022-05-22T18:39:29.731349",
     "status": "completed"
    },
    "tags": []
   },
   "outputs": [],
   "source": [
    "y_pred = svr_rbf.predict(X_test)"
   ]
  },
  {
   "cell_type": "code",
   "execution_count": 55,
   "id": "71a52513",
   "metadata": {
    "execution": {
     "iopub.execute_input": "2022-05-22T18:39:30.267762Z",
     "iopub.status.busy": "2022-05-22T18:39:30.266855Z",
     "iopub.status.idle": "2022-05-22T18:39:30.274591Z",
     "shell.execute_reply": "2022-05-22T18:39:30.273853Z"
    },
    "papermill": {
     "duration": 0.185084,
     "end_time": "2022-05-22T18:39:30.276579",
     "exception": false,
     "start_time": "2022-05-22T18:39:30.091495",
     "status": "completed"
    },
    "tags": []
   },
   "outputs": [
    {
     "data": {
      "text/plain": [
       "460.0032657244849"
      ]
     },
     "execution_count": 55,
     "metadata": {},
     "output_type": "execute_result"
    }
   ],
   "source": [
    "np.sqrt(mean_squared_error(y_test, y_pred)) # Butun Degiskenleri Kullanarak Dogrusal Olmayan Formda Bir Model Kurduk Ve Test Hatasi 460 Olarak Gozlenmektedir"
   ]
  },
  {
   "cell_type": "markdown",
   "id": "51a5e835",
   "metadata": {
    "papermill": {
     "duration": 0.17373,
     "end_time": "2022-05-22T18:39:30.625517",
     "exception": false,
     "start_time": "2022-05-22T18:39:30.451787",
     "status": "completed"
    },
    "tags": []
   },
   "source": [
    "## Model Tuning"
   ]
  },
  {
   "cell_type": "code",
   "execution_count": 56,
   "id": "46b96d3f",
   "metadata": {
    "execution": {
     "iopub.execute_input": "2022-05-22T18:39:30.978399Z",
     "iopub.status.busy": "2022-05-22T18:39:30.977599Z",
     "iopub.status.idle": "2022-05-22T18:39:30.984188Z",
     "shell.execute_reply": "2022-05-22T18:39:30.983208Z"
    },
    "papermill": {
     "duration": 0.185656,
     "end_time": "2022-05-22T18:39:30.986517",
     "exception": false,
     "start_time": "2022-05-22T18:39:30.800861",
     "status": "completed"
    },
    "tags": []
   },
   "outputs": [
    {
     "data": {
      "text/plain": [
       "SVR()"
      ]
     },
     "execution_count": 56,
     "metadata": {},
     "output_type": "execute_result"
    }
   ],
   "source": [
    "svr_rbf # Model Nesnemizi Cagirdik ---->> Argumanlari Arasinda c ( Karmasiklik Parametresi Var ) Yi Optimize Etmemiz Lazim"
   ]
  },
  {
   "cell_type": "code",
   "execution_count": 57,
   "id": "9c101070",
   "metadata": {
    "execution": {
     "iopub.execute_input": "2022-05-22T18:39:31.338405Z",
     "iopub.status.busy": "2022-05-22T18:39:31.337519Z",
     "iopub.status.idle": "2022-05-22T18:39:32.069452Z",
     "shell.execute_reply": "2022-05-22T18:39:32.068443Z"
    },
    "papermill": {
     "duration": 0.911559,
     "end_time": "2022-05-22T18:39:32.071797",
     "exception": false,
     "start_time": "2022-05-22T18:39:31.160238",
     "status": "completed"
    },
    "tags": []
   },
   "outputs": [
    {
     "data": {
      "text/plain": [
       "GridSearchCV(cv=10, estimator=SVR(),\n",
       "             param_grid={'C': [0.01, 0.1, 0.4, 5, 10, 20, 30, 40, 50]})"
      ]
     },
     "execution_count": 57,
     "metadata": {},
     "output_type": "execute_result"
    }
   ],
   "source": [
    "svr_params = {\"C\": [0.01, 0.1,0.4,5,10,20,30,40,50]} # Verilen Sayilar Az Oldugu Icin Daha Hizli Dondu\n",
    "svr_cv_model = GridSearchCV(svr_rbf,svr_params, cv = 10) # svr_rbf Icerisinden, svr_params Verdigim Parametre Icerisinden Arama Yaparak Parametre Degerlerini Bul\n",
    "svr_cv_model.fit(X_train, y_train)"
   ]
  },
  {
   "cell_type": "code",
   "execution_count": 58,
   "id": "fdfc77c7",
   "metadata": {
    "execution": {
     "iopub.execute_input": "2022-05-22T18:39:32.430846Z",
     "iopub.status.busy": "2022-05-22T18:39:32.430561Z",
     "iopub.status.idle": "2022-05-22T18:39:32.436065Z",
     "shell.execute_reply": "2022-05-22T18:39:32.435435Z"
    },
    "papermill": {
     "duration": 0.186561,
     "end_time": "2022-05-22T18:39:32.438085",
     "exception": false,
     "start_time": "2022-05-22T18:39:32.251524",
     "status": "completed"
    },
    "tags": []
   },
   "outputs": [
    {
     "data": {
      "text/plain": [
       "{'C': 50}"
      ]
     },
     "execution_count": 58,
     "metadata": {},
     "output_type": "execute_result"
    }
   ],
   "source": [
    "svr_cv_model.best_params_ # En Iyi Parametre Degeri"
   ]
  },
  {
   "cell_type": "code",
   "execution_count": 59,
   "id": "8ed576e9",
   "metadata": {
    "execution": {
     "iopub.execute_input": "2022-05-22T18:39:32.794461Z",
     "iopub.status.busy": "2022-05-22T18:39:32.794139Z",
     "iopub.status.idle": "2022-05-22T18:39:32.800186Z",
     "shell.execute_reply": "2022-05-22T18:39:32.799606Z"
    },
    "papermill": {
     "duration": 0.186186,
     "end_time": "2022-05-22T18:39:32.802325",
     "exception": false,
     "start_time": "2022-05-22T18:39:32.616139",
     "status": "completed"
    },
    "tags": []
   },
   "outputs": [
    {
     "data": {
      "text/plain": [
       "50"
      ]
     },
     "execution_count": 59,
     "metadata": {},
     "output_type": "execute_result"
    }
   ],
   "source": [
    "pd.Series(svr_cv_model.best_params_)[0] # Bu Sekilde Cikan Sayiya Ulasabiliyoruz"
   ]
  },
  {
   "cell_type": "code",
   "execution_count": 60,
   "id": "d4039585",
   "metadata": {
    "execution": {
     "iopub.execute_input": "2022-05-22T18:39:33.159706Z",
     "iopub.status.busy": "2022-05-22T18:39:33.158982Z",
     "iopub.status.idle": "2022-05-22T18:39:33.168667Z",
     "shell.execute_reply": "2022-05-22T18:39:33.167955Z"
    },
    "papermill": {
     "duration": 0.189826,
     "end_time": "2022-05-22T18:39:33.170710",
     "exception": false,
     "start_time": "2022-05-22T18:39:32.980884",
     "status": "completed"
    },
    "tags": []
   },
   "outputs": [],
   "source": [
    "svr_tuned = SVR(kernel = \"rbf\", C = pd.Series(svr_cv_model.best_params_)[0]).fit(X_train, \n",
    "                                                                        y_train)"
   ]
  },
  {
   "cell_type": "code",
   "execution_count": 61,
   "id": "6b246adc",
   "metadata": {
    "execution": {
     "iopub.execute_input": "2022-05-22T18:39:33.530643Z",
     "iopub.status.busy": "2022-05-22T18:39:33.530134Z",
     "iopub.status.idle": "2022-05-22T18:39:33.540305Z",
     "shell.execute_reply": "2022-05-22T18:39:33.539293Z"
    },
    "papermill": {
     "duration": 0.190875,
     "end_time": "2022-05-22T18:39:33.542422",
     "exception": false,
     "start_time": "2022-05-22T18:39:33.351547",
     "status": "completed"
    },
    "tags": []
   },
   "outputs": [
    {
     "data": {
      "text/plain": [
       "428.00406888095694"
      ]
     },
     "execution_count": 61,
     "metadata": {},
     "output_type": "execute_result"
    }
   ],
   "source": [
    "y_pred = svr_tuned.predict(X_test)\n",
    "\n",
    "np.sqrt(mean_squared_error(y_test, y_pred))"
   ]
  },
  {
   "cell_type": "markdown",
   "id": "a8b23e06",
   "metadata": {
    "papermill": {
     "duration": 0.176869,
     "end_time": "2022-05-22T18:39:33.896139",
     "exception": false,
     "start_time": "2022-05-22T18:39:33.719270",
     "status": "completed"
    },
    "tags": []
   },
   "source": [
    "# -- Yapay Sinir Ağlari -- ( Konu Baslangici )\n",
    "\n",
    "# Çok Katmanlı Algılayıcı"
   ]
  },
  {
   "cell_type": "code",
   "execution_count": 62,
   "id": "891566d9",
   "metadata": {
    "execution": {
     "iopub.execute_input": "2022-05-22T18:39:34.286112Z",
     "iopub.status.busy": "2022-05-22T18:39:34.285478Z",
     "iopub.status.idle": "2022-05-22T18:39:34.311324Z",
     "shell.execute_reply": "2022-05-22T18:39:34.310583Z"
    },
    "papermill": {
     "duration": 0.238178,
     "end_time": "2022-05-22T18:39:34.313768",
     "exception": false,
     "start_time": "2022-05-22T18:39:34.075590",
     "status": "completed"
    },
    "tags": []
   },
   "outputs": [],
   "source": [
    "hit = pd.read_csv(\"../input/hitterscsv/Hitters.csv\")\n",
    "df = hit.copy()\n",
    "df = df.dropna()\n",
    "dms = pd.get_dummies(df[['League', 'Division', 'NewLeague']])\n",
    "y = df[\"Salary\"]\n",
    "X_ = df.drop(['Salary', 'League', 'Division', 'NewLeague'], axis=1).astype('float64')\n",
    "X = pd.concat([X_, dms[['League_N', 'Division_W', 'NewLeague_N']]], axis=1)\n",
    "X_train, X_test, y_train, y_test = train_test_split(X, y, \n",
    "                                                    test_size=0.25, \n",
    "                                                    random_state=42)"
   ]
  },
  {
   "cell_type": "code",
   "execution_count": 63,
   "id": "af67f3eb",
   "metadata": {
    "execution": {
     "iopub.execute_input": "2022-05-22T18:39:34.674572Z",
     "iopub.status.busy": "2022-05-22T18:39:34.673641Z",
     "iopub.status.idle": "2022-05-22T18:39:34.678188Z",
     "shell.execute_reply": "2022-05-22T18:39:34.677286Z"
    },
    "papermill": {
     "duration": 0.186594,
     "end_time": "2022-05-22T18:39:34.680473",
     "exception": false,
     "start_time": "2022-05-22T18:39:34.493879",
     "status": "completed"
    },
    "tags": []
   },
   "outputs": [],
   "source": [
    "from sklearn.preprocessing import StandardScaler"
   ]
  },
  {
   "cell_type": "code",
   "execution_count": 64,
   "id": "3c2ffb74",
   "metadata": {
    "execution": {
     "iopub.execute_input": "2022-05-22T18:39:35.041528Z",
     "iopub.status.busy": "2022-05-22T18:39:35.040993Z",
     "iopub.status.idle": "2022-05-22T18:39:35.049436Z",
     "shell.execute_reply": "2022-05-22T18:39:35.048775Z"
    },
    "papermill": {
     "duration": 0.191163,
     "end_time": "2022-05-22T18:39:35.051324",
     "exception": false,
     "start_time": "2022-05-22T18:39:34.860161",
     "status": "completed"
    },
    "tags": []
   },
   "outputs": [
    {
     "data": {
      "text/plain": [
       "StandardScaler()"
      ]
     },
     "execution_count": 64,
     "metadata": {},
     "output_type": "execute_result"
    }
   ],
   "source": [
    "# Donusturme Islemi Yapiyoruz ( Cunku Yapay Sinir Aglari Bu Konuda Biraz Hassas Davranir )\n",
    "\n",
    "scaler = StandardScaler()\n",
    "scaler.fit(X_train)"
   ]
  },
  {
   "cell_type": "code",
   "execution_count": 65,
   "id": "1d71a05d",
   "metadata": {
    "execution": {
     "iopub.execute_input": "2022-05-22T18:39:35.415919Z",
     "iopub.status.busy": "2022-05-22T18:39:35.415198Z",
     "iopub.status.idle": "2022-05-22T18:39:35.421525Z",
     "shell.execute_reply": "2022-05-22T18:39:35.420720Z"
    },
    "papermill": {
     "duration": 0.193331,
     "end_time": "2022-05-22T18:39:35.423877",
     "exception": false,
     "start_time": "2022-05-22T18:39:35.230546",
     "status": "completed"
    },
    "tags": []
   },
   "outputs": [],
   "source": [
    "X_train_scaled = scaler.transform(X_train) # Olceklendirilmis Olmasi Durumunu Ifade Ediyorum"
   ]
  },
  {
   "cell_type": "code",
   "execution_count": 66,
   "id": "c7c05dc0",
   "metadata": {
    "execution": {
     "iopub.execute_input": "2022-05-22T18:39:35.784562Z",
     "iopub.status.busy": "2022-05-22T18:39:35.784229Z",
     "iopub.status.idle": "2022-05-22T18:39:35.790731Z",
     "shell.execute_reply": "2022-05-22T18:39:35.789906Z"
    },
    "papermill": {
     "duration": 0.190747,
     "end_time": "2022-05-22T18:39:35.793054",
     "exception": false,
     "start_time": "2022-05-22T18:39:35.602307",
     "status": "completed"
    },
    "tags": []
   },
   "outputs": [],
   "source": [
    "X_test_scaled = scaler.transform(X_test)\n",
    "\n",
    "# Su Anda Iki Degiskenimiz ( X_train_scaled,  X_test_scaled), Iki Setimiz Icin de Standartlastirma Islemi Gerceklestirmis Oldu"
   ]
  },
  {
   "cell_type": "code",
   "execution_count": 67,
   "id": "af92fdaa",
   "metadata": {
    "execution": {
     "iopub.execute_input": "2022-05-22T18:39:36.153389Z",
     "iopub.status.busy": "2022-05-22T18:39:36.152872Z",
     "iopub.status.idle": "2022-05-22T18:39:36.165670Z",
     "shell.execute_reply": "2022-05-22T18:39:36.164468Z"
    },
    "papermill": {
     "duration": 0.195524,
     "end_time": "2022-05-22T18:39:36.167831",
     "exception": false,
     "start_time": "2022-05-22T18:39:35.972307",
     "status": "completed"
    },
    "tags": []
   },
   "outputs": [],
   "source": [
    "from sklearn.neural_network import MLPRegressor"
   ]
  },
  {
   "cell_type": "code",
   "execution_count": 68,
   "id": "8f824639",
   "metadata": {
    "execution": {
     "iopub.execute_input": "2022-05-22T18:39:36.524837Z",
     "iopub.status.busy": "2022-05-22T18:39:36.524552Z",
     "iopub.status.idle": "2022-05-22T18:39:36.884073Z",
     "shell.execute_reply": "2022-05-22T18:39:36.882948Z"
    },
    "papermill": {
     "duration": 0.539525,
     "end_time": "2022-05-22T18:39:36.887041",
     "exception": false,
     "start_time": "2022-05-22T18:39:36.347516",
     "status": "completed"
    },
    "tags": []
   },
   "outputs": [],
   "source": [
    "mlp_model = MLPRegressor().fit(X_train_scaled, y_train) # Bu Sadece Gormek Icin Kullaniyoruz ( Code'nin Akisina Dahil Degil )( Ara Dipnot Gibi Dusun )"
   ]
  },
  {
   "cell_type": "code",
   "execution_count": 69,
   "id": "0f05039b",
   "metadata": {
    "execution": {
     "iopub.execute_input": "2022-05-22T18:39:37.295456Z",
     "iopub.status.busy": "2022-05-22T18:39:37.295153Z",
     "iopub.status.idle": "2022-05-22T18:39:37.301433Z",
     "shell.execute_reply": "2022-05-22T18:39:37.300454Z"
    },
    "papermill": {
     "duration": 0.187157,
     "end_time": "2022-05-22T18:39:37.304685",
     "exception": false,
     "start_time": "2022-05-22T18:39:37.117528",
     "status": "completed"
    },
    "tags": []
   },
   "outputs": [
    {
     "data": {
      "text/plain": [
       "3"
      ]
     },
     "execution_count": 69,
     "metadata": {},
     "output_type": "execute_result"
    }
   ],
   "source": [
    "mlp_model.n_layers_ # Katman Sayisini Gozlemledik ----->>  # Bu Sadece Gormek Icin Kullaniyoruz ( Code'nin Akisina Dahil Degil )( Ara Dipnot Gibi Dusun ) ( Gizli Katman Ile Birlikte Burada 3 Katman Var )"
   ]
  },
  {
   "cell_type": "code",
   "execution_count": 70,
   "id": "ff77f782",
   "metadata": {
    "execution": {
     "iopub.execute_input": "2022-05-22T18:39:37.662245Z",
     "iopub.status.busy": "2022-05-22T18:39:37.661676Z",
     "iopub.status.idle": "2022-05-22T18:39:37.668204Z",
     "shell.execute_reply": "2022-05-22T18:39:37.667219Z"
    },
    "papermill": {
     "duration": 0.186533,
     "end_time": "2022-05-22T18:39:37.670507",
     "exception": false,
     "start_time": "2022-05-22T18:39:37.483974",
     "status": "completed"
    },
    "tags": []
   },
   "outputs": [
    {
     "data": {
      "text/plain": [
       "(100,)"
      ]
     },
     "execution_count": 70,
     "metadata": {},
     "output_type": "execute_result"
    }
   ],
   "source": [
    "mlp_model.hidden_layer_sizes # Gizli Katman Icerisindeki Eleman Sayisini Verdi bize ( Gizli Katman Sayisi Nedir? ) Modelimizde Bi Girdi Katmani Var, Bi Gizli Katman Var, Bide Cikti Katmani Var\n",
    "\n",
    "# Bunu Dogrulayalim Isterseniz ( 2 Assagidaki Yerde Gosterdim )"
   ]
  },
  {
   "cell_type": "code",
   "execution_count": 71,
   "id": "ce395fee",
   "metadata": {
    "execution": {
     "iopub.execute_input": "2022-05-22T18:39:38.023861Z",
     "iopub.status.busy": "2022-05-22T18:39:38.023284Z",
     "iopub.status.idle": "2022-05-22T18:39:38.027322Z",
     "shell.execute_reply": "2022-05-22T18:39:38.026635Z"
    },
    "papermill": {
     "duration": 0.183695,
     "end_time": "2022-05-22T18:39:38.029526",
     "exception": false,
     "start_time": "2022-05-22T18:39:37.845831",
     "status": "completed"
    },
    "tags": []
   },
   "outputs": [],
   "source": [
    " # Icerisindeki Varsayilan Degerleri Ve Argumanlari Gorebiliriz\n",
    "\n",
    "# ?mlp_model"
   ]
  },
  {
   "cell_type": "code",
   "execution_count": 72,
   "id": "e4df912c",
   "metadata": {
    "execution": {
     "iopub.execute_input": "2022-05-22T18:39:38.383834Z",
     "iopub.status.busy": "2022-05-22T18:39:38.383284Z",
     "iopub.status.idle": "2022-05-22T18:39:38.814959Z",
     "shell.execute_reply": "2022-05-22T18:39:38.813813Z"
    },
    "papermill": {
     "duration": 0.612837,
     "end_time": "2022-05-22T18:39:38.818597",
     "exception": false,
     "start_time": "2022-05-22T18:39:38.205760",
     "status": "completed"
    },
    "tags": []
   },
   "outputs": [],
   "source": [
    "mlp_model = MLPRegressor(hidden_layer_sizes = (100,20)).fit(X_train_scaled, y_train) # Model Kurma Islemi Gerceklesti"
   ]
  },
  {
   "cell_type": "code",
   "execution_count": 73,
   "id": "c50465d1",
   "metadata": {
    "execution": {
     "iopub.execute_input": "2022-05-22T18:39:39.238617Z",
     "iopub.status.busy": "2022-05-22T18:39:39.238294Z",
     "iopub.status.idle": "2022-05-22T18:39:39.245331Z",
     "shell.execute_reply": "2022-05-22T18:39:39.244258Z"
    },
    "papermill": {
     "duration": 0.196704,
     "end_time": "2022-05-22T18:39:39.247682",
     "exception": false,
     "start_time": "2022-05-22T18:39:39.050978",
     "status": "completed"
    },
    "tags": []
   },
   "outputs": [
    {
     "data": {
      "text/plain": [
       "MLPRegressor(hidden_layer_sizes=(100, 20))"
      ]
     },
     "execution_count": 73,
     "metadata": {},
     "output_type": "execute_result"
    }
   ],
   "source": [
    "mlp_model"
   ]
  },
  {
   "cell_type": "code",
   "execution_count": 74,
   "id": "9566dd2b",
   "metadata": {
    "execution": {
     "iopub.execute_input": "2022-05-22T18:39:39.608458Z",
     "iopub.status.busy": "2022-05-22T18:39:39.607994Z",
     "iopub.status.idle": "2022-05-22T18:39:39.614691Z",
     "shell.execute_reply": "2022-05-22T18:39:39.613705Z"
    },
    "papermill": {
     "duration": 0.189337,
     "end_time": "2022-05-22T18:39:39.616880",
     "exception": false,
     "start_time": "2022-05-22T18:39:39.427543",
     "status": "completed"
    },
    "tags": []
   },
   "outputs": [
    {
     "data": {
      "text/plain": [
       "4"
      ]
     },
     "execution_count": 74,
     "metadata": {},
     "output_type": "execute_result"
    }
   ],
   "source": [
    "mlp_model.n_layers_ # Katman Sayisi 4 Oldu Cunku Gizli Katman Sayisi ( 6 Yukarida ) 1'di, Simdi Ise Gizli Katman Sayisini 2 Ye Yukselttik Yani Toplam Katman Sayisi 4 Olmus Oldu"
   ]
  },
  {
   "cell_type": "code",
   "execution_count": 75,
   "id": "30d50db2",
   "metadata": {
    "execution": {
     "iopub.execute_input": "2022-05-22T18:39:39.982630Z",
     "iopub.status.busy": "2022-05-22T18:39:39.982312Z",
     "iopub.status.idle": "2022-05-22T18:39:39.987712Z",
     "shell.execute_reply": "2022-05-22T18:39:39.987089Z"
    },
    "papermill": {
     "duration": 0.191027,
     "end_time": "2022-05-22T18:39:39.990011",
     "exception": false,
     "start_time": "2022-05-22T18:39:39.798984",
     "status": "completed"
    },
    "tags": []
   },
   "outputs": [
    {
     "data": {
      "text/plain": [
       "(100, 20)"
      ]
     },
     "execution_count": 75,
     "metadata": {},
     "output_type": "execute_result"
    }
   ],
   "source": [
    "mlp_model.hidden_layer_sizes # Burada Gizli Katman Sayisinin Iki Katmandan Olustugu Gozlenmektedir ( Gizli Katmanlarinin Elemanlarini Ifade Eder ( Noron Sayilarini Ifade Eder ) )"
   ]
  },
  {
   "cell_type": "markdown",
   "id": "c2e96b80",
   "metadata": {
    "papermill": {
     "duration": 0.182276,
     "end_time": "2022-05-22T18:39:40.352119",
     "exception": false,
     "start_time": "2022-05-22T18:39:40.169843",
     "status": "completed"
    },
    "tags": []
   },
   "source": [
    "## Tahmin"
   ]
  },
  {
   "cell_type": "code",
   "execution_count": 76,
   "id": "2f4f5629",
   "metadata": {
    "execution": {
     "iopub.execute_input": "2022-05-22T18:39:40.717042Z",
     "iopub.status.busy": "2022-05-22T18:39:40.716124Z",
     "iopub.status.idle": "2022-05-22T18:39:40.720865Z",
     "shell.execute_reply": "2022-05-22T18:39:40.720099Z"
    },
    "papermill": {
     "duration": 0.189018,
     "end_time": "2022-05-22T18:39:40.722811",
     "exception": false,
     "start_time": "2022-05-22T18:39:40.533793",
     "status": "completed"
    },
    "tags": []
   },
   "outputs": [],
   "source": [
    "y_pred = mlp_model.predict(X_test_scaled)"
   ]
  },
  {
   "cell_type": "code",
   "execution_count": 77,
   "id": "e0b6b5fe",
   "metadata": {
    "execution": {
     "iopub.execute_input": "2022-05-22T18:39:41.086351Z",
     "iopub.status.busy": "2022-05-22T18:39:41.085467Z",
     "iopub.status.idle": "2022-05-22T18:39:41.092026Z",
     "shell.execute_reply": "2022-05-22T18:39:41.091415Z"
    },
    "papermill": {
     "duration": 0.190582,
     "end_time": "2022-05-22T18:39:41.093900",
     "exception": false,
     "start_time": "2022-05-22T18:39:40.903318",
     "status": "completed"
    },
    "tags": []
   },
   "outputs": [
    {
     "data": {
      "text/plain": [
       "459.6546128468002"
      ]
     },
     "execution_count": 77,
     "metadata": {},
     "output_type": "execute_result"
    }
   ],
   "source": [
    "np.sqrt(mean_squared_error(y_test, y_pred))"
   ]
  },
  {
   "cell_type": "markdown",
   "id": "7581f298",
   "metadata": {
    "papermill": {
     "duration": 0.182172,
     "end_time": "2022-05-22T18:39:41.457399",
     "exception": false,
     "start_time": "2022-05-22T18:39:41.275227",
     "status": "completed"
    },
    "tags": []
   },
   "source": [
    "## Model Tuning"
   ]
  },
  {
   "cell_type": "markdown",
   "id": "3ecf11a0",
   "metadata": {
    "papermill": {
     "duration": 0.180578,
     "end_time": "2022-05-22T18:39:41.819659",
     "exception": false,
     "start_time": "2022-05-22T18:39:41.639081",
     "status": "completed"
    },
    "tags": []
   },
   "source": [
    "* Python'da Yapay Sinir Agi Kurmak Istedigimizde Gizli Katman Sayisini Ifade Etmenin Yolu Bu Argumana( hidden_layer_sizes ) Katmanlarin Eleman Sayisini Girmektir\n",
    "* Her Bir Yeni Eleman Sayisi Ekleme Islemi Yapildiginda Bunu Katman Eklenmesi Olarak Algiler\n",
    "* Yani Ornegin   hidden_layer_sizes=(100, 20)   Ifadesi 2 Katman Iken, hidden_layer_sizes=(100, 20, 10) 3 Katmanli Bir Ag Yapisi Olusturacagini Anlar Ve 3. Katmanin Eleman Sayisini Anlar Girmis Oldugum Degeri\n",
    "* Yani burada 1. Katmanin 100 Norondan Olustugu, 2. Katmanin 20 Norondan Olustugu, 3. Katmanin 10 Norondan Olustugu Bilgisi Aga Verilmis Olur"
   ]
  },
  {
   "cell_type": "code",
   "execution_count": 78,
   "id": "129736b7",
   "metadata": {
    "execution": {
     "iopub.execute_input": "2022-05-22T18:39:42.184401Z",
     "iopub.status.busy": "2022-05-22T18:39:42.183866Z",
     "iopub.status.idle": "2022-05-22T18:39:42.189179Z",
     "shell.execute_reply": "2022-05-22T18:39:42.188566Z"
    },
    "papermill": {
     "duration": 0.190803,
     "end_time": "2022-05-22T18:39:42.191106",
     "exception": false,
     "start_time": "2022-05-22T18:39:42.000303",
     "status": "completed"
    },
    "tags": []
   },
   "outputs": [
    {
     "data": {
      "text/plain": [
       "MLPRegressor(hidden_layer_sizes=(100, 20))"
      ]
     },
     "execution_count": 78,
     "metadata": {},
     "output_type": "execute_result"
    }
   ],
   "source": [
    "mlp_model"
   ]
  },
  {
   "cell_type": "code",
   "execution_count": 79,
   "id": "9511f4f7",
   "metadata": {
    "execution": {
     "iopub.execute_input": "2022-05-22T18:39:42.570056Z",
     "iopub.status.busy": "2022-05-22T18:39:42.569303Z",
     "iopub.status.idle": "2022-05-22T18:39:42.575915Z",
     "shell.execute_reply": "2022-05-22T18:39:42.575213Z"
    },
    "papermill": {
     "duration": 0.206874,
     "end_time": "2022-05-22T18:39:42.578098",
     "exception": false,
     "start_time": "2022-05-22T18:39:42.371224",
     "status": "completed"
    },
    "tags": []
   },
   "outputs": [],
   "source": [
    "mlp_params = {'alpha': [0.1, 0.01,0.02,0.005], # Bu Birinci Girecek Oldugumuz Denenmesini Istedigimiz Parametre Seti\n",
    "             'hidden_layer_sizes': [(20,20),(100,50,150),(300,200,150)],# Bi Denemesinde 20'ye 20'lik Bir Deneme Yapsin, Bi Denemesinde 100,50,150 Norona Sahip 3 Katman Kursun, Bide 300,200,150 Boyle Yap\n",
    "             'activation': ['relu','logistic']} # Aktivasyon Fonksiyonu Varsayilan Olarak \"relu\" Var Zaten Biz Bide \"logistic\" Ifadesini Ekliyoruz ( Fonksiyonlarin Varsayilan Degerlerine Bakip Gorduk )"
   ]
  },
  {
   "cell_type": "code",
   "execution_count": 80,
   "id": "ff53b1fa",
   "metadata": {
    "execution": {
     "iopub.execute_input": "2022-05-22T18:39:42.979858Z",
     "iopub.status.busy": "2022-05-22T18:39:42.979045Z",
     "iopub.status.idle": "2022-05-22T18:39:42.984063Z",
     "shell.execute_reply": "2022-05-22T18:39:42.983438Z"
    },
    "papermill": {
     "duration": 0.203606,
     "end_time": "2022-05-22T18:39:42.986189",
     "exception": false,
     "start_time": "2022-05-22T18:39:42.782583",
     "status": "completed"
    },
    "tags": []
   },
   "outputs": [],
   "source": [
    "mlp_cv_model = GridSearchCV(mlp_model, mlp_params, cv = 10)"
   ]
  },
  {
   "cell_type": "code",
   "execution_count": 81,
   "id": "5ee3ce1f",
   "metadata": {
    "execution": {
     "iopub.execute_input": "2022-05-22T18:39:43.360043Z",
     "iopub.status.busy": "2022-05-22T18:39:43.359738Z",
     "iopub.status.idle": "2022-05-22T18:43:38.975950Z",
     "shell.execute_reply": "2022-05-22T18:43:38.974969Z"
    },
    "papermill": {
     "duration": 236.042137,
     "end_time": "2022-05-22T18:43:39.213065",
     "exception": false,
     "start_time": "2022-05-22T18:39:43.170928",
     "status": "completed"
    },
    "tags": []
   },
   "outputs": [
    {
     "data": {
      "text/plain": [
       "GridSearchCV(cv=10, estimator=MLPRegressor(hidden_layer_sizes=(100, 20)),\n",
       "             param_grid={'activation': ['relu', 'logistic'],\n",
       "                         'alpha': [0.1, 0.01, 0.02, 0.005],\n",
       "                         'hidden_layer_sizes': [(20, 20), (100, 50, 150),\n",
       "                                                (300, 200, 150)]})"
      ]
     },
     "execution_count": 81,
     "metadata": {},
     "output_type": "execute_result"
    }
   ],
   "source": [
    "mlp_cv_model.fit(X_train_scaled, y_train) # ( Uzun Suren Islem )"
   ]
  },
  {
   "cell_type": "code",
   "execution_count": 82,
   "id": "bd3bc187",
   "metadata": {
    "execution": {
     "iopub.execute_input": "2022-05-22T18:43:39.576619Z",
     "iopub.status.busy": "2022-05-22T18:43:39.576227Z",
     "iopub.status.idle": "2022-05-22T18:43:39.583345Z",
     "shell.execute_reply": "2022-05-22T18:43:39.582422Z"
    },
    "papermill": {
     "duration": 0.192642,
     "end_time": "2022-05-22T18:43:39.585505",
     "exception": false,
     "start_time": "2022-05-22T18:43:39.392863",
     "status": "completed"
    },
    "tags": []
   },
   "outputs": [
    {
     "data": {
      "text/plain": [
       "{'activation': 'relu', 'alpha': 0.01, 'hidden_layer_sizes': (100, 50, 150)}"
      ]
     },
     "execution_count": 82,
     "metadata": {},
     "output_type": "execute_result"
    }
   ],
   "source": [
    "mlp_cv_model.best_params_ # En Iyi Parametre Degerini gosteriyorum ( Verdigimiz Degerler Arasindan ( 3 Yukarida ) Secme Islemi Yaptik )"
   ]
  },
  {
   "cell_type": "code",
   "execution_count": 83,
   "id": "c074148f",
   "metadata": {
    "execution": {
     "iopub.execute_input": "2022-05-22T18:43:39.953106Z",
     "iopub.status.busy": "2022-05-22T18:43:39.952171Z",
     "iopub.status.idle": "2022-05-22T18:43:39.957132Z",
     "shell.execute_reply": "2022-05-22T18:43:39.956341Z"
    },
    "papermill": {
     "duration": 0.190132,
     "end_time": "2022-05-22T18:43:39.959256",
     "exception": false,
     "start_time": "2022-05-22T18:43:39.769124",
     "status": "completed"
    },
    "tags": []
   },
   "outputs": [],
   "source": [
    "# Optimum Parametreleri Kullanarak Tune Edilmis Final Modelimizi Kuralim\n",
    "# activation : default='relu'   Oldugu Icin Yazmaya Gerek Yok Fonksiyona\n",
    "\n",
    "mlp_tuned = MLPRegressor(alpha = 0.01, hidden_layer_sizes = (100,50,150))"
   ]
  },
  {
   "cell_type": "code",
   "execution_count": 84,
   "id": "6e0d33fb",
   "metadata": {
    "execution": {
     "iopub.execute_input": "2022-05-22T18:43:40.320661Z",
     "iopub.status.busy": "2022-05-22T18:43:40.320347Z",
     "iopub.status.idle": "2022-05-22T18:43:41.079243Z",
     "shell.execute_reply": "2022-05-22T18:43:41.078210Z"
    },
    "papermill": {
     "duration": 0.945646,
     "end_time": "2022-05-22T18:43:41.082705",
     "exception": false,
     "start_time": "2022-05-22T18:43:40.137059",
     "status": "completed"
    },
    "tags": []
   },
   "outputs": [
    {
     "data": {
      "text/plain": [
       "MLPRegressor(alpha=0.01, hidden_layer_sizes=(100, 50, 150))"
      ]
     },
     "execution_count": 84,
     "metadata": {},
     "output_type": "execute_result"
    }
   ],
   "source": [
    "mlp_tuned.fit(X_train_scaled, y_train) # Bu Su Anda Tune Edilmis Modelimiz ( Optimum, Hiper Parametre Degerleri Ile Kurdugumuz Modelimiz )"
   ]
  },
  {
   "cell_type": "code",
   "execution_count": 85,
   "id": "a0ea180f",
   "metadata": {
    "execution": {
     "iopub.execute_input": "2022-05-22T18:43:41.498320Z",
     "iopub.status.busy": "2022-05-22T18:43:41.498038Z",
     "iopub.status.idle": "2022-05-22T18:43:41.506758Z",
     "shell.execute_reply": "2022-05-22T18:43:41.505678Z"
    },
    "papermill": {
     "duration": 0.194714,
     "end_time": "2022-05-22T18:43:41.509907",
     "exception": false,
     "start_time": "2022-05-22T18:43:41.315193",
     "status": "completed"
    },
    "tags": []
   },
   "outputs": [],
   "source": [
    "# Test Hatamizi Hesapliyalim\n",
    "\n",
    "y_pred = mlp_tuned.predict(X_test_scaled)"
   ]
  },
  {
   "cell_type": "code",
   "execution_count": 86,
   "id": "e8a189f8",
   "metadata": {
    "execution": {
     "iopub.execute_input": "2022-05-22T18:43:41.929821Z",
     "iopub.status.busy": "2022-05-22T18:43:41.929533Z",
     "iopub.status.idle": "2022-05-22T18:43:41.935880Z",
     "shell.execute_reply": "2022-05-22T18:43:41.935226Z"
    },
    "papermill": {
     "duration": 0.190773,
     "end_time": "2022-05-22T18:43:41.937691",
     "exception": false,
     "start_time": "2022-05-22T18:43:41.746918",
     "status": "completed"
    },
    "tags": []
   },
   "outputs": [
    {
     "data": {
      "text/plain": [
       "358.7004858415965"
      ]
     },
     "execution_count": 86,
     "metadata": {},
     "output_type": "execute_result"
    }
   ],
   "source": [
    "np.sqrt(mean_squared_error(y_test, y_pred)) # Test Hatamiz 358 Cikti ( Diger Modellere Gore En Dusuk Degeri Ureten Model Bu Model Oldu ) ( En Kucuk Test Hatasini Bu Verdi )"
   ]
  },
  {
   "cell_type": "markdown",
   "id": "a3596421",
   "metadata": {
    "papermill": {
     "duration": 0.184182,
     "end_time": "2022-05-22T18:43:42.303056",
     "exception": false,
     "start_time": "2022-05-22T18:43:42.118874",
     "status": "completed"
    },
    "tags": []
   },
   "source": [
    "# -- Regresyon Agaclari -- ( Konu Baslangici )"
   ]
  },
  {
   "cell_type": "markdown",
   "id": "849df2e7",
   "metadata": {
    "papermill": {
     "duration": 0.182507,
     "end_time": "2022-05-22T18:43:42.665561",
     "exception": false,
     "start_time": "2022-05-22T18:43:42.483054",
     "status": "completed"
    },
    "tags": []
   },
   "source": [
    "# CART ( Genellenebilirlik Kaygisi Yok Ise Kullanilir, Guzel Sonuclar Verir )"
   ]
  },
  {
   "cell_type": "code",
   "execution_count": 87,
   "id": "2a210d6d",
   "metadata": {
    "execution": {
     "iopub.execute_input": "2022-05-22T18:43:43.025348Z",
     "iopub.status.busy": "2022-05-22T18:43:43.024834Z",
     "iopub.status.idle": "2022-05-22T18:43:43.048773Z",
     "shell.execute_reply": "2022-05-22T18:43:43.047479Z"
    },
    "papermill": {
     "duration": 0.205832,
     "end_time": "2022-05-22T18:43:43.051040",
     "exception": false,
     "start_time": "2022-05-22T18:43:42.845208",
     "status": "completed"
    },
    "tags": []
   },
   "outputs": [],
   "source": [
    "hit = pd.read_csv(\"../input/hitterscsv/Hitters.csv\")\n",
    "df = hit.copy()\n",
    "df = df.dropna()\n",
    "dms = pd.get_dummies(df[['League', 'Division', 'NewLeague']])\n",
    "y = df[\"Salary\"]\n",
    "X_ = df.drop(['Salary', 'League', 'Division', 'NewLeague'], axis=1).astype('float64')\n",
    "X = pd.concat([X_, dms[['League_N', 'Division_W', 'NewLeague_N']]], axis=1)\n",
    "X_train, X_test, y_train, y_test = train_test_split(X, y, \n",
    "                                                    test_size=0.25, \n",
    "                                                    random_state=42)\n"
   ]
  },
  {
   "cell_type": "code",
   "execution_count": 88,
   "id": "b70e0d0d",
   "metadata": {
    "execution": {
     "iopub.execute_input": "2022-05-22T18:43:43.419207Z",
     "iopub.status.busy": "2022-05-22T18:43:43.418686Z",
     "iopub.status.idle": "2022-05-22T18:43:43.424004Z",
     "shell.execute_reply": "2022-05-22T18:43:43.423390Z"
    },
    "papermill": {
     "duration": 0.194837,
     "end_time": "2022-05-22T18:43:43.425900",
     "exception": false,
     "start_time": "2022-05-22T18:43:43.231063",
     "status": "completed"
    },
    "tags": []
   },
   "outputs": [],
   "source": [
    "# Degiskenleri Seciyoruz Burda Cunku Salary Degiskenini Modellemek Icin Eksenlerdeki Durumu Gostermek Icin Secme Islemini Gerceklestirdik\n",
    "\n",
    "X_train = pd.DataFrame(X_train[\"Hits\"])\n",
    "X_test = pd.DataFrame(X_test[\"Hits\"])"
   ]
  },
  {
   "cell_type": "code",
   "execution_count": 89,
   "id": "9013b4cb",
   "metadata": {
    "execution": {
     "iopub.execute_input": "2022-05-22T18:43:43.787905Z",
     "iopub.status.busy": "2022-05-22T18:43:43.787331Z",
     "iopub.status.idle": "2022-05-22T18:43:43.791655Z",
     "shell.execute_reply": "2022-05-22T18:43:43.790699Z"
    },
    "papermill": {
     "duration": 0.18726,
     "end_time": "2022-05-22T18:43:43.793784",
     "exception": false,
     "start_time": "2022-05-22T18:43:43.606524",
     "status": "completed"
    },
    "tags": []
   },
   "outputs": [],
   "source": [
    "cart_model = DecisionTreeRegressor() # Model Kurulmus Oldu"
   ]
  },
  {
   "cell_type": "code",
   "execution_count": 90,
   "id": "bddefdd9",
   "metadata": {
    "execution": {
     "iopub.execute_input": "2022-05-22T18:43:44.155716Z",
     "iopub.status.busy": "2022-05-22T18:43:44.155396Z",
     "iopub.status.idle": "2022-05-22T18:43:44.159433Z",
     "shell.execute_reply": "2022-05-22T18:43:44.158524Z"
    },
    "papermill": {
     "duration": 0.187667,
     "end_time": "2022-05-22T18:43:44.161486",
     "exception": false,
     "start_time": "2022-05-22T18:43:43.973819",
     "status": "completed"
    },
    "tags": []
   },
   "outputs": [],
   "source": [
    "# ?cart_model"
   ]
  },
  {
   "cell_type": "code",
   "execution_count": 91,
   "id": "dbd46cc8",
   "metadata": {
    "execution": {
     "iopub.execute_input": "2022-05-22T18:43:44.525566Z",
     "iopub.status.busy": "2022-05-22T18:43:44.525208Z",
     "iopub.status.idle": "2022-05-22T18:43:44.534824Z",
     "shell.execute_reply": "2022-05-22T18:43:44.534167Z"
    },
    "papermill": {
     "duration": 0.194426,
     "end_time": "2022-05-22T18:43:44.536688",
     "exception": false,
     "start_time": "2022-05-22T18:43:44.342262",
     "status": "completed"
    },
    "tags": []
   },
   "outputs": [
    {
     "data": {
      "text/plain": [
       "DecisionTreeRegressor()"
      ]
     },
     "execution_count": 91,
     "metadata": {},
     "output_type": "execute_result"
    }
   ],
   "source": [
    "cart_model.fit(X_train, y_train)"
   ]
  },
  {
   "cell_type": "code",
   "execution_count": 92,
   "id": "1ce06fa8",
   "metadata": {
    "execution": {
     "iopub.execute_input": "2022-05-22T18:43:44.898192Z",
     "iopub.status.busy": "2022-05-22T18:43:44.897678Z",
     "iopub.status.idle": "2022-05-22T18:43:45.127005Z",
     "shell.execute_reply": "2022-05-22T18:43:45.126168Z"
    },
    "papermill": {
     "duration": 0.411819,
     "end_time": "2022-05-22T18:43:45.129082",
     "exception": false,
     "start_time": "2022-05-22T18:43:44.717263",
     "status": "completed"
    },
    "tags": []
   },
   "outputs": [
    {
     "data": {
      "image/png": "[encoded data removed]",
      "text/plain": [
       "<Figure size 432x288 with 1 Axes>"
      ]
     },
     "metadata": {
      "needs_background": "light"
     },
     "output_type": "display_data"
    }
   ],
   "source": [
    "# Bu Modeli Eksenlerde Gorsellestirmek Istiyorum ( Dallanmalarin Kirilmalarin Arka Tarafta Nasil Gerceklestigini Gorucez )\n",
    "\n",
    "X_grid = np.arange(min(np.array(X_train)),max(np.array(X_train)), 0.01) # ( Burasi Ve Bi Alt Kisim Dahil ( Assagidaki ) Aciklamaya )\n",
    "X_grid = X_grid.reshape((len(X_grid), 1))  # Regresyon Kural Noktalarini Gosterebilmek Adina Bir Grid Olusturuyoruz ( Izgara ) ( Gorsel Anlamda Gorebilmek Adina )\n",
    "plt.scatter(X_train, y_train, color = 'red') # Salary Ve Hits Degiskenleri Icin Scatter Plot Olusturuyoruz\n",
    "plt.plot(X_grid, cart_model.predict(X_grid), color = 'blue')  # Tahmin Edilen Degerleri Olusturdugumuz Grid Yardimi Ile Grafige Ekleme Islemi Yapmis Oluyoruz\n",
    "plt.title('CART REGRESON AĞACI')  # Isimlendirmeleri Yapiyoruz\n",
    "plt.xlabel('Atış Sayısı(Hits)') \n",
    "plt.ylabel('Maaş (Salary)') ;\n",
    "\n",
    "# Su Anda Bir Regresyon Probleminin 2 Degisken Bazinda Nasil Oldugunu Gozlemledik"
   ]
  },
  {
   "cell_type": "code",
   "execution_count": 93,
   "id": "bc6a72b4",
   "metadata": {
    "execution": {
     "iopub.execute_input": "2022-05-22T18:43:45.497449Z",
     "iopub.status.busy": "2022-05-22T18:43:45.496484Z",
     "iopub.status.idle": "2022-05-22T18:43:45.720883Z",
     "shell.execute_reply": "2022-05-22T18:43:45.720203Z"
    },
    "papermill": {
     "duration": 0.410091,
     "end_time": "2022-05-22T18:43:45.722795",
     "exception": false,
     "start_time": "2022-05-22T18:43:45.312704",
     "status": "completed"
    },
    "tags": []
   },
   "outputs": [
    {
     "data": {
      "image/png": "[encoded data removed]",
      "text/plain": [
       "<Figure size 432x288 with 1 Axes>"
      ]
     },
     "metadata": {
      "needs_background": "light"
     },
     "output_type": "display_data"
    }
   ],
   "source": [
    "# Yukaridaki Ifadelerin Aynisini yapiyoruz Sadece Modelin Icerisindeki Argumani Degistiricem ( Grafig Degistigi Gozlemlenmektedir )\n",
    "\n",
    "cart_model = DecisionTreeRegressor(max_leaf_nodes = 3) # Modelde Bi Argumani Degistiriyorum ( max_leaf_nodes = 3 Yaptik )\n",
    "cart_model.fit(X_train, y_train)\n",
    "\n",
    "\n",
    "\n",
    "X_grid = np.arange(min(np.array(X_train)),max(np.array(X_train)), 0.01) # ( Burasi Ve Bi Alt Kisim Dahil ( Assagidaki ) Aciklamaya )\n",
    "X_grid = X_grid.reshape((len(X_grid), 1))  # Regresyon Kural Noktalarini Gosterebilmek Adina Bir Grid Olusturuyoruz ( Izgara ) ( Gorsel Anlamda Gorebilmek Adina )\n",
    "plt.scatter(X_train, y_train, color = 'red') # Salary Ve Hits Degiskenleri Icin Scatter Plot Olusturuyoruz\n",
    "plt.plot(X_grid, cart_model.predict(X_grid), color = 'blue')  # Tahmin Edilen Degerleri Olusturdugumuz Grid Yardimi Ile Grafige Ekleme Islemi Yapmis Oluyoruz\n",
    "plt.title('CART REGRESON AĞACI')  # Isimlendirmeleri Yapiyoruz\n",
    "plt.xlabel('Atış Sayısı(Hits)') \n",
    "plt.ylabel('Maaş (Salary)') ;"
   ]
  },
  {
   "cell_type": "code",
   "execution_count": 94,
   "id": "1eb8dda3",
   "metadata": {
    "execution": {
     "iopub.execute_input": "2022-05-22T18:43:46.088292Z",
     "iopub.status.busy": "2022-05-22T18:43:46.087776Z",
     "iopub.status.idle": "2022-05-22T18:43:46.309846Z",
     "shell.execute_reply": "2022-05-22T18:43:46.308864Z"
    },
    "papermill": {
     "duration": 0.40747,
     "end_time": "2022-05-22T18:43:46.312201",
     "exception": false,
     "start_time": "2022-05-22T18:43:45.904731",
     "status": "completed"
    },
    "tags": []
   },
   "outputs": [
    {
     "data": {
      "image/png": "[encoded data removed]",
      "text/plain": [
       "<Figure size 432x288 with 1 Axes>"
      ]
     },
     "metadata": {
      "needs_background": "light"
     },
     "output_type": "display_data"
    }
   ],
   "source": [
    "# Yukaridaki Ifadelerin Aynisini yapiyoruz Sadece Modelin Icerisindeki Argumani Degistiricem ( Grafig Degistigi Gozlemlenmektedir )\n",
    "\n",
    "cart_model = DecisionTreeRegressor(max_leaf_nodes = 10) # Modelde Bi Argumani Degistiriyorum ( max_leaf_nodes = 10 Yaptik )\n",
    "cart_model.fit(X_train, y_train)\n",
    "\n",
    "\n",
    "\n",
    "X_grid = np.arange(min(np.array(X_train)),max(np.array(X_train)), 0.01) # ( Burasi Ve Bi Alt Kisim Dahil ( Assagidaki ) Aciklamaya )\n",
    "X_grid = X_grid.reshape((len(X_grid), 1))  # Regresyon Kural Noktalarini Gosterebilmek Adina Bir Grid Olusturuyoruz ( Izgara ) ( Gorsel Anlamda Gorebilmek Adina )\n",
    "plt.scatter(X_train, y_train, color = 'red') # Salary Ve Hits Degiskenleri Icin Scatter Plot Olusturuyoruz\n",
    "plt.plot(X_grid, cart_model.predict(X_grid), color = 'blue')  # Tahmin Edilen Degerleri Olusturdugumuz Grid Yardimi Ile Grafige Ekleme Islemi Yapmis Oluyoruz\n",
    "plt.title('CART REGRESON AĞACI')  # Isimlendirmeleri Yapiyoruz\n",
    "plt.xlabel('Atış Sayısı(Hits)') \n",
    "plt.ylabel('Maaş (Salary)') ;"
   ]
  },
  {
   "cell_type": "code",
   "execution_count": 95,
   "id": "32af4510",
   "metadata": {
    "execution": {
     "iopub.execute_input": "2022-05-22T18:43:46.684674Z",
     "iopub.status.busy": "2022-05-22T18:43:46.684193Z",
     "iopub.status.idle": "2022-05-22T18:43:46.688081Z",
     "shell.execute_reply": "2022-05-22T18:43:46.687163Z"
    },
    "papermill": {
     "duration": 0.19233,
     "end_time": "2022-05-22T18:43:46.690095",
     "exception": false,
     "start_time": "2022-05-22T18:43:46.497765",
     "status": "completed"
    },
    "tags": []
   },
   "outputs": [],
   "source": [
    "# Eger Biz Yukaridaki Grafigi Agac Yapisi Olarak Gostermek Istersek Ne Yapmaliyiz? ( Assagida Yapiyorum ) ( Olusturmus Oldugumuz Bu Modelin Kural Setini Disariya Cikarmis Olucaz )\n",
    "\n",
    "# !pip install skompiler"
   ]
  },
  {
   "cell_type": "code",
   "execution_count": 96,
   "id": "b60d0f85",
   "metadata": {
    "execution": {
     "iopub.execute_input": "2022-05-22T18:43:47.056546Z",
     "iopub.status.busy": "2022-05-22T18:43:47.056212Z",
     "iopub.status.idle": "2022-05-22T18:43:47.060285Z",
     "shell.execute_reply": "2022-05-22T18:43:47.059342Z"
    },
    "papermill": {
     "duration": 0.189659,
     "end_time": "2022-05-22T18:43:47.062319",
     "exception": false,
     "start_time": "2022-05-22T18:43:46.872660",
     "status": "completed"
    },
    "tags": []
   },
   "outputs": [],
   "source": [
    "# from skompiler import skompile # ( Bilgilendirme ) Caslismadi !! ( Kaggle Kullandigimdan )"
   ]
  },
  {
   "cell_type": "code",
   "execution_count": 97,
   "id": "13c2a3ff",
   "metadata": {
    "execution": {
     "iopub.execute_input": "2022-05-22T18:43:47.459140Z",
     "iopub.status.busy": "2022-05-22T18:43:47.458840Z",
     "iopub.status.idle": "2022-05-22T18:43:47.465173Z",
     "shell.execute_reply": "2022-05-22T18:43:47.464386Z"
    },
    "papermill": {
     "duration": 0.200284,
     "end_time": "2022-05-22T18:43:47.467188",
     "exception": false,
     "start_time": "2022-05-22T18:43:47.266904",
     "status": "completed"
    },
    "tags": []
   },
   "outputs": [
    {
     "data": {
      "text/plain": [
       "'\\n\\n(345.2011551724138 if x[0] <= 117.5 else ((((1300.0 if x[0] <= 118.5 else \\n    641.0) if x[0] <= 122.5 else 1468.5236666666667) if x[0] <= 125.5 else \\n    621.9679230769232) if x[0] <= 143.0 else (958.6111111111111 if x[0] <= \\n    150.5 else 2460.0) if x[0] <= 151.5 else 499.1666666666667 if x[0] <= \\n    157.5 else 892.5402413793104) if x[0] <= 225.5 else 1975.0)\\n\\n\\n'"
      ]
     },
     "execution_count": 97,
     "metadata": {},
     "output_type": "execute_result"
    }
   ],
   "source": [
    "# print(skompile(cart_model.predict).to('python/code')) # Haliyle Buda Calismadi\n",
    "\n",
    "# Fakat\n",
    "\n",
    "# Code'nin Ciktisi Bu \n",
    "\n",
    "\n",
    "\"\"\"\n",
    "\n",
    "(345.2011551724138 if x[0] <= 117.5 else ((((1300.0 if x[0] <= 118.5 else \n",
    "    641.0) if x[0] <= 122.5 else 1468.5236666666667) if x[0] <= 125.5 else \n",
    "    621.9679230769232) if x[0] <= 143.0 else (958.6111111111111 if x[0] <= \n",
    "    150.5 else 2460.0) if x[0] <= 151.5 else 499.1666666666667 if x[0] <= \n",
    "    157.5 else 892.5402413793104) if x[0] <= 225.5 else 1975.0)\n",
    "\n",
    "\n",
    "\"\"\""
   ]
  },
  {
   "cell_type": "markdown",
   "id": "16e7b88d",
   "metadata": {
    "papermill": {
     "duration": 0.183168,
     "end_time": "2022-05-22T18:43:47.834965",
     "exception": false,
     "start_time": "2022-05-22T18:43:47.651797",
     "status": "completed"
    },
    "tags": []
   },
   "source": [
    "## Tahmin"
   ]
  },
  {
   "cell_type": "code",
   "execution_count": 98,
   "id": "57f51fb9",
   "metadata": {
    "execution": {
     "iopub.execute_input": "2022-05-22T18:43:48.203667Z",
     "iopub.status.busy": "2022-05-22T18:43:48.203342Z",
     "iopub.status.idle": "2022-05-22T18:43:48.207031Z",
     "shell.execute_reply": "2022-05-22T18:43:48.206432Z"
    },
    "papermill": {
     "duration": 0.190738,
     "end_time": "2022-05-22T18:43:48.208911",
     "exception": false,
     "start_time": "2022-05-22T18:43:48.018173",
     "status": "completed"
    },
    "tags": []
   },
   "outputs": [],
   "source": [
    "x = [91] # Coook Ust Tarafta Kullandigimiz Bir X Degeriydi Bu ( Ornek Olmasi Acisindan Yazdim Buraya )"
   ]
  },
  {
   "cell_type": "code",
   "execution_count": 99,
   "id": "f2d6ac46",
   "metadata": {
    "execution": {
     "iopub.execute_input": "2022-05-22T18:43:48.583596Z",
     "iopub.status.busy": "2022-05-22T18:43:48.583275Z",
     "iopub.status.idle": "2022-05-22T18:43:48.592598Z",
     "shell.execute_reply": "2022-05-22T18:43:48.591444Z"
    },
    "papermill": {
     "duration": 0.200601,
     "end_time": "2022-05-22T18:43:48.594598",
     "exception": false,
     "start_time": "2022-05-22T18:43:48.393997",
     "status": "completed"
    },
    "tags": []
   },
   "outputs": [
    {
     "data": {
      "text/plain": [
       "345.2011551724138"
      ]
     },
     "execution_count": 99,
     "metadata": {},
     "output_type": "execute_result"
    }
   ],
   "source": [
    "# Codenin Ciktisinda Bir Tahmin Sonucunu Uretmis Olduk\n",
    "\n",
    "(345.2011551724138 if x[0] <= 117.5 else ((((1300.0 if x[0] <= 118.5 else \n",
    "    641.0) if x[0] <= 122.5 else 1468.5236666666667) if x[0] <= 125.5 else \n",
    "    621.9679230769232) if x[0] <= 143.0 else (958.6111111111111 if x[0] <= \n",
    "    150.5 else 2460.0) if x[0] <= 151.5 else 499.1666666666667 if x[0] <= \n",
    "    157.5 else 892.5402413793104) if x[0] <= 225.5 else 1975.0)"
   ]
  },
  {
   "cell_type": "code",
   "execution_count": 100,
   "id": "d4864970",
   "metadata": {
    "execution": {
     "iopub.execute_input": "2022-05-22T18:43:48.969851Z",
     "iopub.status.busy": "2022-05-22T18:43:48.969529Z",
     "iopub.status.idle": "2022-05-22T18:43:48.978448Z",
     "shell.execute_reply": "2022-05-22T18:43:48.977370Z"
    },
    "papermill": {
     "duration": 0.199373,
     "end_time": "2022-05-22T18:43:48.980560",
     "exception": false,
     "start_time": "2022-05-22T18:43:48.781187",
     "status": "completed"
    },
    "tags": []
   },
   "outputs": [
    {
     "data": {
      "text/plain": [
       "array([621.96792308, 958.61111111, 621.96792308, 345.20115517,\n",
       "       345.20115517])"
      ]
     },
     "execution_count": 100,
     "metadata": {},
     "output_type": "execute_result"
    }
   ],
   "source": [
    "# Ustteki Ifadeyi Dogrulayabilmek Adina Birde Klasik Anlamda Tahmin Islemi Yapalim\n",
    "\n",
    "cart_model.predict(X_test)[0:5]"
   ]
  },
  {
   "cell_type": "code",
   "execution_count": 101,
   "id": "85851fc8",
   "metadata": {
    "execution": {
     "iopub.execute_input": "2022-05-22T18:43:49.366673Z",
     "iopub.status.busy": "2022-05-22T18:43:49.366170Z",
     "iopub.status.idle": "2022-05-22T18:43:49.373492Z",
     "shell.execute_reply": "2022-05-22T18:43:49.372419Z"
    },
    "papermill": {
     "duration": 0.206515,
     "end_time": "2022-05-22T18:43:49.375686",
     "exception": false,
     "start_time": "2022-05-22T18:43:49.169171",
     "status": "completed"
    },
    "tags": []
   },
   "outputs": [
    {
     "data": {
      "text/plain": [
       "array([345.20115517])"
      ]
     },
     "execution_count": 101,
     "metadata": {},
     "output_type": "execute_result"
    }
   ],
   "source": [
    "cart_model.predict([[91]]) # Burada Da Gorulecegi Uzere 2 Ust Tarafta Bulunan Ifadenin Aynisini Tahmin Etti ( Cunku Ayni Islemi Yapiyoruz Aslinda )"
   ]
  },
  {
   "cell_type": "code",
   "execution_count": 102,
   "id": "9a705234",
   "metadata": {
    "execution": {
     "iopub.execute_input": "2022-05-22T18:43:49.757127Z",
     "iopub.status.busy": "2022-05-22T18:43:49.756853Z",
     "iopub.status.idle": "2022-05-22T18:43:49.762667Z",
     "shell.execute_reply": "2022-05-22T18:43:49.761766Z"
    },
    "papermill": {
     "duration": 0.198654,
     "end_time": "2022-05-22T18:43:49.764551",
     "exception": false,
     "start_time": "2022-05-22T18:43:49.565897",
     "status": "completed"
    },
    "tags": []
   },
   "outputs": [],
   "source": [
    "# Ilkel Test Hatamizi Da Alisik Oldugumuz Haliyle Hesapliyalim\n",
    "\n",
    "y_pred =cart_model.predict(X_test)"
   ]
  },
  {
   "cell_type": "code",
   "execution_count": 103,
   "id": "6569ccb1",
   "metadata": {
    "execution": {
     "iopub.execute_input": "2022-05-22T18:43:50.138771Z",
     "iopub.status.busy": "2022-05-22T18:43:50.138053Z",
     "iopub.status.idle": "2022-05-22T18:43:50.144106Z",
     "shell.execute_reply": "2022-05-22T18:43:50.143527Z"
    },
    "papermill": {
     "duration": 0.19449,
     "end_time": "2022-05-22T18:43:50.146029",
     "exception": false,
     "start_time": "2022-05-22T18:43:49.951539",
     "status": "completed"
    },
    "tags": []
   },
   "outputs": [
    {
     "data": {
      "text/plain": [
       "486.34593105235456"
      ]
     },
     "execution_count": 103,
     "metadata": {},
     "output_type": "execute_result"
    }
   ],
   "source": [
    "np.sqrt(mean_squared_error(y_test, y_pred))"
   ]
  },
  {
   "cell_type": "markdown",
   "id": "1fdd0f9f",
   "metadata": {
    "papermill": {
     "duration": 0.188339,
     "end_time": "2022-05-22T18:43:50.523296",
     "exception": false,
     "start_time": "2022-05-22T18:43:50.334957",
     "status": "completed"
    },
    "tags": []
   },
   "source": [
    "## Model Tuning"
   ]
  },
  {
   "cell_type": "code",
   "execution_count": 104,
   "id": "0553b860",
   "metadata": {
    "execution": {
     "iopub.execute_input": "2022-05-22T18:43:50.904983Z",
     "iopub.status.busy": "2022-05-22T18:43:50.904506Z",
     "iopub.status.idle": "2022-05-22T18:43:50.911850Z",
     "shell.execute_reply": "2022-05-22T18:43:50.911195Z"
    },
    "papermill": {
     "duration": 0.20009,
     "end_time": "2022-05-22T18:43:50.913812",
     "exception": false,
     "start_time": "2022-05-22T18:43:50.713722",
     "status": "completed"
    },
    "tags": []
   },
   "outputs": [],
   "source": [
    "cart_model = DecisionTreeRegressor()\n",
    "cart_model.fit(X_train, y_train)\n",
    "y_pred = cart_model.predict(X_test)"
   ]
  },
  {
   "cell_type": "code",
   "execution_count": 105,
   "id": "82d95aa6",
   "metadata": {
    "execution": {
     "iopub.execute_input": "2022-05-22T18:43:51.291290Z",
     "iopub.status.busy": "2022-05-22T18:43:51.290789Z",
     "iopub.status.idle": "2022-05-22T18:43:51.297094Z",
     "shell.execute_reply": "2022-05-22T18:43:51.296288Z"
    },
    "papermill": {
     "duration": 0.196078,
     "end_time": "2022-05-22T18:43:51.299029",
     "exception": false,
     "start_time": "2022-05-22T18:43:51.102951",
     "status": "completed"
    },
    "tags": []
   },
   "outputs": [
    {
     "data": {
      "text/plain": [
       "468.49579052913884"
      ]
     },
     "execution_count": 105,
     "metadata": {},
     "output_type": "execute_result"
    }
   ],
   "source": [
    "np.sqrt(mean_squared_error(y_test, y_pred))"
   ]
  },
  {
   "cell_type": "code",
   "execution_count": 106,
   "id": "f586fe47",
   "metadata": {
    "execution": {
     "iopub.execute_input": "2022-05-22T18:43:51.674017Z",
     "iopub.status.busy": "2022-05-22T18:43:51.673443Z",
     "iopub.status.idle": "2022-05-22T18:43:51.683602Z",
     "shell.execute_reply": "2022-05-22T18:43:51.682975Z"
    },
    "papermill": {
     "duration": 0.199577,
     "end_time": "2022-05-22T18:43:51.685617",
     "exception": false,
     "start_time": "2022-05-22T18:43:51.486040",
     "status": "completed"
    },
    "tags": []
   },
   "outputs": [
    {
     "data": {
      "text/plain": [
       "479.5201716052201"
      ]
     },
     "execution_count": 106,
     "metadata": {},
     "output_type": "execute_result"
    }
   ],
   "source": [
    "# Yukaridaki Ifadenin Iyi Anlasilabilmesi Icin Bir Daha Ayni Ornekte Argumanin Degerini Degistirerek Yaziyorum\n",
    "\n",
    "cart_model = DecisionTreeRegressor(max_leaf_nodes = 5)\n",
    "cart_model.fit(X_train, y_train)\n",
    "y_pred = cart_model.predict(X_test)\n",
    "\n",
    "\n",
    "np.sqrt(mean_squared_error(y_test, y_pred))"
   ]
  },
  {
   "cell_type": "code",
   "execution_count": 107,
   "id": "3a8b9e8d",
   "metadata": {
    "execution": {
     "iopub.execute_input": "2022-05-22T18:43:52.059472Z",
     "iopub.status.busy": "2022-05-22T18:43:52.058956Z",
     "iopub.status.idle": "2022-05-22T18:43:52.068959Z",
     "shell.execute_reply": "2022-05-22T18:43:52.068371Z"
    },
    "papermill": {
     "duration": 0.198648,
     "end_time": "2022-05-22T18:43:52.070780",
     "exception": false,
     "start_time": "2022-05-22T18:43:51.872132",
     "status": "completed"
    },
    "tags": []
   },
   "outputs": [
    {
     "data": {
      "text/plain": [
       "486.34593105235456"
      ]
     },
     "execution_count": 107,
     "metadata": {},
     "output_type": "execute_result"
    }
   ],
   "source": [
    "# Yukaridaki Ifadenin Iyi Anlasilabilmesi Icin Bir Daha Ayni Ornekte Argumanin Degerini Degistirerek Yaziyorum\n",
    "\n",
    "cart_model = DecisionTreeRegressor(max_leaf_nodes = 10)\n",
    "cart_model.fit(X_train, y_train)\n",
    "y_pred = cart_model.predict(X_test)\n",
    "\n",
    "\n",
    "np.sqrt(mean_squared_error(y_test, y_pred))"
   ]
  },
  {
   "cell_type": "code",
   "execution_count": 108,
   "id": "46fcbda3",
   "metadata": {
    "execution": {
     "iopub.execute_input": "2022-05-22T18:43:52.446217Z",
     "iopub.status.busy": "2022-05-22T18:43:52.445707Z",
     "iopub.status.idle": "2022-05-22T18:43:52.456082Z",
     "shell.execute_reply": "2022-05-22T18:43:52.455435Z"
    },
    "papermill": {
     "duration": 0.201444,
     "end_time": "2022-05-22T18:43:52.457997",
     "exception": false,
     "start_time": "2022-05-22T18:43:52.256553",
     "status": "completed"
    },
    "tags": []
   },
   "outputs": [
    {
     "data": {
      "text/plain": [
       "455.8367349677217"
      ]
     },
     "execution_count": 108,
     "metadata": {},
     "output_type": "execute_result"
    }
   ],
   "source": [
    "# Yukaridaki Ifadenin Iyi Anlasilabilmesi Icin Bir Daha Ayni Ornekte Argumanin Degerini Degistirerek Yaziyorum\n",
    "\n",
    "cart_model = DecisionTreeRegressor(max_leaf_nodes = 15) # Bu Deger Degistikce Grafik Degisiyordu ( Yukaridaki Kisimda Bunu Gozlemlemistik )\n",
    "cart_model.fit(X_train, y_train)\n",
    "y_pred = cart_model.predict(X_test)\n",
    "\n",
    "\n",
    "np.sqrt(mean_squared_error(y_test, y_pred))"
   ]
  },
  {
   "cell_type": "code",
   "execution_count": 109,
   "id": "33e2908d",
   "metadata": {
    "execution": {
     "iopub.execute_input": "2022-05-22T18:43:52.840325Z",
     "iopub.status.busy": "2022-05-22T18:43:52.839832Z",
     "iopub.status.idle": "2022-05-22T18:43:52.850017Z",
     "shell.execute_reply": "2022-05-22T18:43:52.849428Z"
    },
    "papermill": {
     "duration": 0.203284,
     "end_time": "2022-05-22T18:43:52.851883",
     "exception": false,
     "start_time": "2022-05-22T18:43:52.648599",
     "status": "completed"
    },
    "tags": []
   },
   "outputs": [
    {
     "data": {
      "text/plain": [
       "458.44092458608196"
      ]
     },
     "execution_count": 109,
     "metadata": {},
     "output_type": "execute_result"
    }
   ],
   "source": [
    "# Yukaridaki Ifadenin Iyi Anlasilabilmesi Icin Bir Daha Ayni Ornekte Argumanin Degerini Degistirerek Yaziyorum ( Extra Bir Arguman ( Parametre ) Daha Ekliyorum )\n",
    "\n",
    "cart_model = DecisionTreeRegressor(max_leaf_nodes = 15, min_samples_split = 10)\n",
    "cart_model.fit(X_train, y_train)\n",
    "y_pred = cart_model.predict(X_test)\n",
    "\n",
    "\n",
    "np.sqrt(mean_squared_error(y_test, y_pred))"
   ]
  },
  {
   "cell_type": "code",
   "execution_count": 110,
   "id": "60f441fc",
   "metadata": {
    "execution": {
     "iopub.execute_input": "2022-05-22T18:43:53.234474Z",
     "iopub.status.busy": "2022-05-22T18:43:53.233963Z",
     "iopub.status.idle": "2022-05-22T18:43:53.244267Z",
     "shell.execute_reply": "2022-05-22T18:43:53.243507Z"
    },
    "papermill": {
     "duration": 0.203871,
     "end_time": "2022-05-22T18:43:53.246214",
     "exception": false,
     "start_time": "2022-05-22T18:43:53.042343",
     "status": "completed"
    },
    "tags": []
   },
   "outputs": [
    {
     "data": {
      "text/plain": [
       "450.82936090249154"
      ]
     },
     "execution_count": 110,
     "metadata": {},
     "output_type": "execute_result"
    }
   ],
   "source": [
    "# Yukaridaki Ifadenin Iyi Anlasilabilmesi Icin Bir Daha Ayni Ornekte Argumanin Degerini Degistirerek Yaziyorum\n",
    "\n",
    "cart_model = DecisionTreeRegressor(max_leaf_nodes = 10, min_samples_split = 10) # max_leaf_nodes = 10  ---->> Bu Ifadeyi Degistirdim\n",
    "cart_model.fit(X_train, y_train)\n",
    "y_pred = cart_model.predict(X_test)\n",
    "\n",
    "\n",
    "np.sqrt(mean_squared_error(y_test, y_pred))"
   ]
  },
  {
   "cell_type": "code",
   "execution_count": 111,
   "id": "6027fe6c",
   "metadata": {
    "execution": {
     "iopub.execute_input": "2022-05-22T18:43:53.630329Z",
     "iopub.status.busy": "2022-05-22T18:43:53.629830Z",
     "iopub.status.idle": "2022-05-22T18:43:53.639997Z",
     "shell.execute_reply": "2022-05-22T18:43:53.639425Z"
    },
    "papermill": {
     "duration": 0.205321,
     "end_time": "2022-05-22T18:43:53.641841",
     "exception": false,
     "start_time": "2022-05-22T18:43:53.436520",
     "status": "completed"
    },
    "tags": []
   },
   "outputs": [
    {
     "data": {
      "text/plain": [
       "463.3393150254271"
      ]
     },
     "execution_count": 111,
     "metadata": {},
     "output_type": "execute_result"
    }
   ],
   "source": [
    "# Yukaridaki Ifadenin Iyi Anlasilabilmesi Icin Bir Daha Ayni Ornekte Argumanin Degerini Degistirerek Yaziyorum\n",
    "\n",
    "cart_model = DecisionTreeRegressor(max_leaf_nodes = 10, min_samples_split = 15) # min_samples_split = 15  ---->> Bu Ifadeyi Degistirdim\n",
    "cart_model.fit(X_train, y_train)\n",
    "y_pred = cart_model.predict(X_test)\n",
    "\n",
    "\n",
    "np.sqrt(mean_squared_error(y_test, y_pred))"
   ]
  },
  {
   "cell_type": "code",
   "execution_count": 112,
   "id": "8460c2c5",
   "metadata": {
    "execution": {
     "iopub.execute_input": "2022-05-22T18:43:54.026812Z",
     "iopub.status.busy": "2022-05-22T18:43:54.026089Z",
     "iopub.status.idle": "2022-05-22T18:43:54.036785Z",
     "shell.execute_reply": "2022-05-22T18:43:54.036169Z"
    },
    "papermill": {
     "duration": 0.204328,
     "end_time": "2022-05-22T18:43:54.038684",
     "exception": false,
     "start_time": "2022-05-22T18:43:53.834356",
     "status": "completed"
    },
    "tags": []
   },
   "outputs": [
    {
     "data": {
      "text/plain": [
       "455.8367349677217"
      ]
     },
     "execution_count": 112,
     "metadata": {},
     "output_type": "execute_result"
    }
   ],
   "source": [
    "# Yukaridaki Ifadenin Iyi Anlasilabilmesi Icin Bir Daha Ayni Ornekte Argumanin Degerini Degistirerek Yaziyorum\n",
    "\n",
    "cart_model = DecisionTreeRegressor(max_leaf_nodes = 15, min_samples_split = 2) # min_samples_split = 2  ---->> Bu Ifadeyi Degistirdim\n",
    "cart_model.fit(X_train, y_train)\n",
    "y_pred = cart_model.predict(X_test)\n",
    "\n",
    "\n",
    "np.sqrt(mean_squared_error(y_test, y_pred))\n",
    "\n",
    "# 455'e Dustu"
   ]
  },
  {
   "cell_type": "code",
   "execution_count": 113,
   "id": "bb3b8798",
   "metadata": {
    "execution": {
     "iopub.execute_input": "2022-05-22T18:43:54.426495Z",
     "iopub.status.busy": "2022-05-22T18:43:54.425926Z",
     "iopub.status.idle": "2022-05-22T18:43:54.437258Z",
     "shell.execute_reply": "2022-05-22T18:43:54.436504Z"
    },
    "papermill": {
     "duration": 0.208347,
     "end_time": "2022-05-22T18:43:54.439288",
     "exception": false,
     "start_time": "2022-05-22T18:43:54.230941",
     "status": "completed"
    },
    "tags": []
   },
   "outputs": [
    {
     "data": {
      "text/plain": [
       "468.49579052913884"
      ]
     },
     "execution_count": 113,
     "metadata": {},
     "output_type": "execute_result"
    }
   ],
   "source": [
    "# Yukaridaki Ifadenin Iyi Anlasilabilmesi Icin Bir Daha Ayni Ornekte Argumanin Degerini Degistirerek Yaziyorum\n",
    "\n",
    "cart_model = DecisionTreeRegressor(min_samples_split = 2)\n",
    "cart_model.fit(X_train, y_train)\n",
    "y_pred = cart_model.predict(X_test)\n",
    "\n",
    "\n",
    "np.sqrt(mean_squared_error(y_test, y_pred))\n",
    "\n",
    "# max_leaf_nodes = 15 ---->> Bu Ifadeyi Ortadan Kaldirdik Bakalim Ne Olacak"
   ]
  },
  {
   "cell_type": "markdown",
   "id": "521066c3",
   "metadata": {
    "papermill": {
     "duration": 0.188643,
     "end_time": "2022-05-22T18:43:54.820839",
     "exception": false,
     "start_time": "2022-05-22T18:43:54.632196",
     "status": "completed"
    },
    "tags": []
   },
   "source": [
    "#### Bu Islemlerin Aynisini Train De Degilde Test Setine Geri Donelim ( Oyle Deneyelim )"
   ]
  },
  {
   "cell_type": "code",
   "execution_count": 114,
   "id": "b58547ca",
   "metadata": {
    "execution": {
     "iopub.execute_input": "2022-05-22T18:43:55.199025Z",
     "iopub.status.busy": "2022-05-22T18:43:55.198614Z",
     "iopub.status.idle": "2022-05-22T18:43:55.209268Z",
     "shell.execute_reply": "2022-05-22T18:43:55.208237Z"
    },
    "papermill": {
     "duration": 0.201894,
     "end_time": "2022-05-22T18:43:55.211293",
     "exception": false,
     "start_time": "2022-05-22T18:43:55.009399",
     "status": "completed"
    },
    "tags": []
   },
   "outputs": [
    {
     "data": {
      "text/plain": [
       "231.67017321152872"
      ]
     },
     "execution_count": 114,
     "metadata": {},
     "output_type": "execute_result"
    }
   ],
   "source": [
    "# Yukaridaki Ifadenin Iyi Anlasilabilmesi Icin Bir Daha Ayni Ornekte Argumanin Degerini Degistirerek Yaziyorum\n",
    "\n",
    "cart_model = DecisionTreeRegressor(min_samples_split = 2) # min_samples_split = 15  ---->> Bu Ifadeyi Degistirdim\n",
    "cart_model.fit(X_train, y_train)\n",
    "y_pred = cart_model.predict(X_train) # Burasi X_train Oldu\n",
    "\n",
    "\n",
    "np.sqrt(mean_squared_error(y_train, y_pred)) # Burasinin Ilk Yeri y_train Oldu\n",
    "\n",
    "# Bakin Hata 231'e Kadar Dustu"
   ]
  },
  {
   "cell_type": "markdown",
   "id": "59069e53",
   "metadata": {
    "papermill": {
     "duration": 0.192287,
     "end_time": "2022-05-22T18:43:55.596885",
     "exception": false,
     "start_time": "2022-05-22T18:43:55.404598",
     "status": "completed"
    },
    "tags": []
   },
   "source": [
    "* Burada Gostermek Istedigim Sey Sudur; Bu Cart Modeli Tum Agac Yontemlerinin Temelinde Iyi Anlamamiz Gereken Model\n",
    "* Ben Bu Degere ( min_samples_split = 2 ) Iki Dedigimde Model Artik Stokastik Bir Model Olmaktan Ufak Ufak Cikmaya Basladi Ve 2 Degere Kadar Karar Ureten Bir If-Else Yapisina Donusmus Oluyor"
   ]
  },
  {
   "cell_type": "code",
   "execution_count": 115,
   "id": "8be8bb70",
   "metadata": {
    "execution": {
     "iopub.execute_input": "2022-05-22T18:43:55.982413Z",
     "iopub.status.busy": "2022-05-22T18:43:55.981877Z",
     "iopub.status.idle": "2022-05-22T18:43:55.992829Z",
     "shell.execute_reply": "2022-05-22T18:43:55.992205Z"
    },
    "papermill": {
     "duration": 0.205983,
     "end_time": "2022-05-22T18:43:55.994721",
     "exception": false,
     "start_time": "2022-05-22T18:43:55.788738",
     "status": "completed"
    },
    "tags": []
   },
   "outputs": [
    {
     "data": {
      "text/plain": [
       "468.49579052913884"
      ]
     },
     "execution_count": 115,
     "metadata": {},
     "output_type": "execute_result"
    }
   ],
   "source": [
    "# Ilk Ornegimize Geri Donduruyorum ( Normal Haline ) ( Yukaridaki Yaptigim Islemleri Daha Iyi Anlayabilmek Icin Yaptim )\n",
    "\n",
    "cart_model = DecisionTreeRegressor(min_samples_split = 2) # min_samples_split = 15  ---->> Bu Ifadeyi Degistirdim\n",
    "cart_model.fit(X_train, y_train)\n",
    "y_pred = cart_model.predict(X_test) # Burasi X_train Oldu\n",
    "\n",
    "\n",
    "np.sqrt(mean_squared_error(y_test, y_pred)) # Burasinin Ilk Yeri y_train Oldu\n",
    "\n",
    "# Bakin Hata 231'e Kadar Dustu"
   ]
  },
  {
   "cell_type": "code",
   "execution_count": 116,
   "id": "3e4f71dc",
   "metadata": {
    "execution": {
     "iopub.execute_input": "2022-05-22T18:43:56.380797Z",
     "iopub.status.busy": "2022-05-22T18:43:56.380268Z",
     "iopub.status.idle": "2022-05-22T18:43:56.384008Z",
     "shell.execute_reply": "2022-05-22T18:43:56.383425Z"
    },
    "papermill": {
     "duration": 0.200243,
     "end_time": "2022-05-22T18:43:56.386030",
     "exception": false,
     "start_time": "2022-05-22T18:43:56.185787",
     "status": "completed"
    },
    "tags": []
   },
   "outputs": [],
   "source": [
    "# Grid Search Yondemi Ile Bu Ayarlamayi Gerceklestirmis Olucaz\n",
    "\n",
    "cart_params = {\"min_samples_split\": range(2,100),\n",
    "               \"max_leaf_nodes\": range(2,10)}"
   ]
  },
  {
   "cell_type": "code",
   "execution_count": 117,
   "id": "b5874095",
   "metadata": {
    "execution": {
     "iopub.execute_input": "2022-05-22T18:43:56.773742Z",
     "iopub.status.busy": "2022-05-22T18:43:56.773260Z",
     "iopub.status.idle": "2022-05-22T18:43:56.776895Z",
     "shell.execute_reply": "2022-05-22T18:43:56.776293Z"
    },
    "papermill": {
     "duration": 0.200351,
     "end_time": "2022-05-22T18:43:56.778844",
     "exception": false,
     "start_time": "2022-05-22T18:43:56.578493",
     "status": "completed"
    },
    "tags": []
   },
   "outputs": [],
   "source": [
    "cart_cv_model = GridSearchCV(cart_model, cart_params, cv = 10)"
   ]
  },
  {
   "cell_type": "code",
   "execution_count": 118,
   "id": "868514e3",
   "metadata": {
    "execution": {
     "iopub.execute_input": "2022-05-22T18:43:57.169143Z",
     "iopub.status.busy": "2022-05-22T18:43:57.168680Z",
     "iopub.status.idle": "2022-05-22T18:44:31.930515Z",
     "shell.execute_reply": "2022-05-22T18:44:31.929555Z"
    },
    "papermill": {
     "duration": 35.151255,
     "end_time": "2022-05-22T18:44:32.125604",
     "exception": false,
     "start_time": "2022-05-22T18:43:56.974349",
     "status": "completed"
    },
    "tags": []
   },
   "outputs": [
    {
     "data": {
      "text/plain": [
       "GridSearchCV(cv=10, estimator=DecisionTreeRegressor(),\n",
       "             param_grid={'max_leaf_nodes': range(2, 10),\n",
       "                         'min_samples_split': range(2, 100)})"
      ]
     },
     "execution_count": 118,
     "metadata": {},
     "output_type": "execute_result"
    }
   ],
   "source": [
    "cart_cv_model.fit(X_train, y_train) # ( Uzun Suren Islem ) ( Bu Islemlerde ( 2 Ustte Ki Gibi ) Degerler Vermek Pek De Saglikli Degildir Fonksiyonlarin Varsayilan Degerlerini Kullanmak Lazim )\n",
    "\n",
    "# Bilmeyen ( Yeni Ogrenen ) Kisiler Bu Sekilde Yapmasi Lazim Cunku ( 2 Ustte ) Verilen Degerler Dogrultusunda Islemler Ve Sonuclari Cok Fazla Degismektedir"
   ]
  },
  {
   "cell_type": "code",
   "execution_count": 119,
   "id": "4dc1b987",
   "metadata": {
    "execution": {
     "iopub.execute_input": "2022-05-22T18:44:32.512929Z",
     "iopub.status.busy": "2022-05-22T18:44:32.512075Z",
     "iopub.status.idle": "2022-05-22T18:44:32.517458Z",
     "shell.execute_reply": "2022-05-22T18:44:32.516785Z"
    },
    "papermill": {
     "duration": 0.199482,
     "end_time": "2022-05-22T18:44:32.519476",
     "exception": false,
     "start_time": "2022-05-22T18:44:32.319994",
     "status": "completed"
    },
    "tags": []
   },
   "outputs": [
    {
     "data": {
      "text/plain": [
       "{'max_leaf_nodes': 9, 'min_samples_split': 76}"
      ]
     },
     "execution_count": 119,
     "metadata": {},
     "output_type": "execute_result"
    }
   ],
   "source": [
    "cart_cv_model.best_params_ # En Iyi Parametreler"
   ]
  },
  {
   "cell_type": "code",
   "execution_count": 120,
   "id": "1249131b",
   "metadata": {
    "execution": {
     "iopub.execute_input": "2022-05-22T18:44:32.907204Z",
     "iopub.status.busy": "2022-05-22T18:44:32.906709Z",
     "iopub.status.idle": "2022-05-22T18:44:32.910844Z",
     "shell.execute_reply": "2022-05-22T18:44:32.910121Z"
    },
    "papermill": {
     "duration": 0.198919,
     "end_time": "2022-05-22T18:44:32.912881",
     "exception": false,
     "start_time": "2022-05-22T18:44:32.713962",
     "status": "completed"
    },
    "tags": []
   },
   "outputs": [],
   "source": [
    "# Simdi En Iyi Parametreler Ile Tune Edilmis Modelimizi Olusturalim ( Final Modeli Kuruyoruz )\n",
    "\n",
    "cart_tuned = DecisionTreeRegressor(max_leaf_nodes = 9, min_samples_split = 76)"
   ]
  },
  {
   "cell_type": "code",
   "execution_count": 121,
   "id": "dfcf89f5",
   "metadata": {
    "execution": {
     "iopub.execute_input": "2022-05-22T18:44:33.355445Z",
     "iopub.status.busy": "2022-05-22T18:44:33.355125Z",
     "iopub.status.idle": "2022-05-22T18:44:33.363294Z",
     "shell.execute_reply": "2022-05-22T18:44:33.362336Z"
    },
    "papermill": {
     "duration": 0.25827,
     "end_time": "2022-05-22T18:44:33.365353",
     "exception": false,
     "start_time": "2022-05-22T18:44:33.107083",
     "status": "completed"
    },
    "tags": []
   },
   "outputs": [
    {
     "data": {
      "text/plain": [
       "DecisionTreeRegressor(max_leaf_nodes=9, min_samples_split=76)"
      ]
     },
     "execution_count": 121,
     "metadata": {},
     "output_type": "execute_result"
    }
   ],
   "source": [
    "cart_tuned.fit(X_train, y_train)"
   ]
  },
  {
   "cell_type": "code",
   "execution_count": 122,
   "id": "e71626ef",
   "metadata": {
    "execution": {
     "iopub.execute_input": "2022-05-22T18:44:33.752218Z",
     "iopub.status.busy": "2022-05-22T18:44:33.751912Z",
     "iopub.status.idle": "2022-05-22T18:44:33.757725Z",
     "shell.execute_reply": "2022-05-22T18:44:33.756786Z"
    },
    "papermill": {
     "duration": 0.202674,
     "end_time": "2022-05-22T18:44:33.759742",
     "exception": false,
     "start_time": "2022-05-22T18:44:33.557068",
     "status": "completed"
    },
    "tags": []
   },
   "outputs": [],
   "source": [
    "# Test Hatasina Bakalim\n",
    "\n",
    "y_pred = cart_tuned.predict(X_test)"
   ]
  },
  {
   "cell_type": "code",
   "execution_count": 123,
   "id": "c7fa64c4",
   "metadata": {
    "execution": {
     "iopub.execute_input": "2022-05-22T18:44:34.146515Z",
     "iopub.status.busy": "2022-05-22T18:44:34.146007Z",
     "iopub.status.idle": "2022-05-22T18:44:34.152719Z",
     "shell.execute_reply": "2022-05-22T18:44:34.152040Z"
    },
    "papermill": {
     "duration": 0.203091,
     "end_time": "2022-05-22T18:44:34.154571",
     "exception": false,
     "start_time": "2022-05-22T18:44:33.951480",
     "status": "completed"
    },
    "tags": []
   },
   "outputs": [
    {
     "data": {
      "text/plain": [
       "423.406689243066"
      ]
     },
     "execution_count": 123,
     "metadata": {},
     "output_type": "execute_result"
    }
   ],
   "source": [
    "np.sqrt(mean_squared_error(y_test, y_pred)) # Bu Elde Ettigimiz Deger Tek Degisken Uzerinden Elde Ettigimiz Degerdi"
   ]
  },
  {
   "cell_type": "markdown",
   "id": "362334a9",
   "metadata": {
    "papermill": {
     "duration": 0.194621,
     "end_time": "2022-05-22T18:44:34.541452",
     "exception": false,
     "start_time": "2022-05-22T18:44:34.346831",
     "status": "completed"
    },
    "tags": []
   },
   "source": [
    "### Modeli Butun Degiskenleri Ile ( Butun Parametreler Ile ) Bir Daha Calistiriyoruz Test Hatasini Gormek Icin"
   ]
  },
  {
   "cell_type": "code",
   "execution_count": 124,
   "id": "54a87639",
   "metadata": {
    "execution": {
     "iopub.execute_input": "2022-05-22T18:44:34.925852Z",
     "iopub.status.busy": "2022-05-22T18:44:34.925409Z",
     "iopub.status.idle": "2022-05-22T18:44:34.950783Z",
     "shell.execute_reply": "2022-05-22T18:44:34.949650Z"
    },
    "papermill": {
     "duration": 0.221046,
     "end_time": "2022-05-22T18:44:34.953311",
     "exception": false,
     "start_time": "2022-05-22T18:44:34.732265",
     "status": "completed"
    },
    "tags": []
   },
   "outputs": [],
   "source": [
    "hit = pd.read_csv(\"../input/hitterscsv/Hitters.csv\")\n",
    "df = hit.copy()\n",
    "df = df.dropna()\n",
    "dms = pd.get_dummies(df[['League', 'Division', 'NewLeague']])\n",
    "y = df[\"Salary\"]\n",
    "X_ = df.drop(['Salary', 'League', 'Division', 'NewLeague'], axis=1).astype('float64')\n",
    "X = pd.concat([X_, dms[['League_N', 'Division_W', 'NewLeague_N']]], axis=1)\n",
    "X_train, X_test, y_train, y_test = train_test_split(X, y, \n",
    "                                                    test_size=0.25, \n",
    "                                                    random_state=42)\n"
   ]
  },
  {
   "cell_type": "code",
   "execution_count": 125,
   "id": "50860316",
   "metadata": {
    "execution": {
     "iopub.execute_input": "2022-05-22T18:44:35.340452Z",
     "iopub.status.busy": "2022-05-22T18:44:35.340123Z",
     "iopub.status.idle": "2022-05-22T18:44:35.353568Z",
     "shell.execute_reply": "2022-05-22T18:44:35.352711Z"
    },
    "papermill": {
     "duration": 0.209811,
     "end_time": "2022-05-22T18:44:35.355706",
     "exception": false,
     "start_time": "2022-05-22T18:44:35.145895",
     "status": "completed"
    },
    "tags": []
   },
   "outputs": [
    {
     "data": {
      "text/plain": [
       "528.4921687244818"
      ]
     },
     "execution_count": 125,
     "metadata": {},
     "output_type": "execute_result"
    }
   ],
   "source": [
    "cart_model = DecisionTreeRegressor()\n",
    "cart_model.fit(X_train, y_train)\n",
    "y_pred = cart_model.predict(X_test)\n",
    "\n",
    "np.sqrt(mean_squared_error(y_test, y_pred)) # Ilkel Hatamizi Gozlemliyoruz ( Artmis Oldugunuz Goruyoruz )"
   ]
  },
  {
   "cell_type": "code",
   "execution_count": 126,
   "id": "f94f8031",
   "metadata": {
    "execution": {
     "iopub.execute_input": "2022-05-22T18:44:35.738550Z",
     "iopub.status.busy": "2022-05-22T18:44:35.738248Z",
     "iopub.status.idle": "2022-05-22T18:44:35.742829Z",
     "shell.execute_reply": "2022-05-22T18:44:35.741845Z"
    },
    "papermill": {
     "duration": 0.198437,
     "end_time": "2022-05-22T18:44:35.745138",
     "exception": false,
     "start_time": "2022-05-22T18:44:35.546701",
     "status": "completed"
    },
    "tags": []
   },
   "outputs": [],
   "source": [
    "# Parametre Setlerini Bir Daha Calistiriyoruz\n",
    "\n",
    "cart_params = {\"min_samples_split\": range(2,100),\n",
    "               \"max_leaf_nodes\": range(2,10)}"
   ]
  },
  {
   "cell_type": "code",
   "execution_count": 127,
   "id": "b860b6b5",
   "metadata": {
    "execution": {
     "iopub.execute_input": "2022-05-22T18:44:36.128759Z",
     "iopub.status.busy": "2022-05-22T18:44:36.127981Z",
     "iopub.status.idle": "2022-05-22T18:44:36.132905Z",
     "shell.execute_reply": "2022-05-22T18:44:36.132218Z"
    },
    "papermill": {
     "duration": 0.19839,
     "end_time": "2022-05-22T18:44:36.134931",
     "exception": false,
     "start_time": "2022-05-22T18:44:35.936541",
     "status": "completed"
    },
    "tags": []
   },
   "outputs": [],
   "source": [
    "cart_cv_model = GridSearchCV(cart_model, cart_params, cv = 10)"
   ]
  },
  {
   "cell_type": "code",
   "execution_count": 128,
   "id": "3f82a1ae",
   "metadata": {
    "execution": {
     "iopub.execute_input": "2022-05-22T18:44:36.525070Z",
     "iopub.status.busy": "2022-05-22T18:44:36.524509Z",
     "iopub.status.idle": "2022-05-22T18:45:20.752558Z",
     "shell.execute_reply": "2022-05-22T18:45:20.751450Z"
    },
    "papermill": {
     "duration": 44.62183,
     "end_time": "2022-05-22T18:45:20.951798",
     "exception": false,
     "start_time": "2022-05-22T18:44:36.329968",
     "status": "completed"
    },
    "tags": []
   },
   "outputs": [
    {
     "data": {
      "text/plain": [
       "GridSearchCV(cv=10, estimator=DecisionTreeRegressor(),\n",
       "             param_grid={'max_leaf_nodes': range(2, 10),\n",
       "                         'min_samples_split': range(2, 100)})"
      ]
     },
     "execution_count": 128,
     "metadata": {},
     "output_type": "execute_result"
    }
   ],
   "source": [
    "cart_cv_model.fit(X_train, y_train) # ( Uzun Suren Islem ) ( Bu Islemlerde ( 2 Ustte Ki Gibi ) Degerler Vermek Pek De Saglikli Degildir Fonksiyonlarin Varsayilan Degerlerini Kullanmak Lazim )\n",
    "\n",
    "# Bilmeyen ( Yeni Ogrenen ) Kisiler Bu Sekilde Yapmasi Lazim Cunku ( 2 Ustte ) Verilen Degerler Dogrultusunda Islemler Ve Sonuclari Cok Fazla Degismektedir"
   ]
  },
  {
   "cell_type": "code",
   "execution_count": 129,
   "id": "36b62a88",
   "metadata": {
    "execution": {
     "iopub.execute_input": "2022-05-22T18:45:21.338207Z",
     "iopub.status.busy": "2022-05-22T18:45:21.337922Z",
     "iopub.status.idle": "2022-05-22T18:45:21.343587Z",
     "shell.execute_reply": "2022-05-22T18:45:21.342830Z"
    },
    "papermill": {
     "duration": 0.201917,
     "end_time": "2022-05-22T18:45:21.345638",
     "exception": false,
     "start_time": "2022-05-22T18:45:21.143721",
     "status": "completed"
    },
    "tags": []
   },
   "outputs": [
    {
     "data": {
      "text/plain": [
       "{'max_leaf_nodes': 9, 'min_samples_split': 37}"
      ]
     },
     "execution_count": 129,
     "metadata": {},
     "output_type": "execute_result"
    }
   ],
   "source": [
    "cart_cv_model.best_params_ # En Iyi Parametreleri Gozlemledik"
   ]
  },
  {
   "cell_type": "code",
   "execution_count": 130,
   "id": "866f8312",
   "metadata": {
    "execution": {
     "iopub.execute_input": "2022-05-22T18:45:21.736985Z",
     "iopub.status.busy": "2022-05-22T18:45:21.736665Z",
     "iopub.status.idle": "2022-05-22T18:45:21.741225Z",
     "shell.execute_reply": "2022-05-22T18:45:21.740277Z"
    },
    "papermill": {
     "duration": 0.202187,
     "end_time": "2022-05-22T18:45:21.743401",
     "exception": false,
     "start_time": "2022-05-22T18:45:21.541214",
     "status": "completed"
    },
    "tags": []
   },
   "outputs": [],
   "source": [
    "# Simdi En Iyi Parametreler Ile Tune Edilmis Modelimizi Olusturalim ( Final Modeli Kuruyoruz )\n",
    "\n",
    "cart_tuned = DecisionTreeRegressor(max_leaf_nodes = 9, min_samples_split = 37)"
   ]
  },
  {
   "cell_type": "code",
   "execution_count": 131,
   "id": "af554b0c",
   "metadata": {
    "execution": {
     "iopub.execute_input": "2022-05-22T18:45:22.135220Z",
     "iopub.status.busy": "2022-05-22T18:45:22.134910Z",
     "iopub.status.idle": "2022-05-22T18:45:22.144226Z",
     "shell.execute_reply": "2022-05-22T18:45:22.143462Z"
    },
    "papermill": {
     "duration": 0.206995,
     "end_time": "2022-05-22T18:45:22.146334",
     "exception": false,
     "start_time": "2022-05-22T18:45:21.939339",
     "status": "completed"
    },
    "tags": []
   },
   "outputs": [
    {
     "data": {
      "text/plain": [
       "DecisionTreeRegressor(max_leaf_nodes=9, min_samples_split=37)"
      ]
     },
     "execution_count": 131,
     "metadata": {},
     "output_type": "execute_result"
    }
   ],
   "source": [
    "cart_tuned.fit(X_train, y_train)"
   ]
  },
  {
   "cell_type": "code",
   "execution_count": 132,
   "id": "532e5820",
   "metadata": {
    "execution": {
     "iopub.execute_input": "2022-05-22T18:45:22.535937Z",
     "iopub.status.busy": "2022-05-22T18:45:22.535096Z",
     "iopub.status.idle": "2022-05-22T18:45:22.542110Z",
     "shell.execute_reply": "2022-05-22T18:45:22.541051Z"
    },
    "papermill": {
     "duration": 0.202327,
     "end_time": "2022-05-22T18:45:22.544359",
     "exception": false,
     "start_time": "2022-05-22T18:45:22.342032",
     "status": "completed"
    },
    "tags": []
   },
   "outputs": [],
   "source": [
    "# Test Hatasina Bakalim\n",
    "\n",
    "y_pred = cart_tuned.predict(X_test)"
   ]
  },
  {
   "cell_type": "code",
   "execution_count": 133,
   "id": "9f28b744",
   "metadata": {
    "execution": {
     "iopub.execute_input": "2022-05-22T18:45:22.931262Z",
     "iopub.status.busy": "2022-05-22T18:45:22.930943Z",
     "iopub.status.idle": "2022-05-22T18:45:22.938132Z",
     "shell.execute_reply": "2022-05-22T18:45:22.937188Z"
    },
    "papermill": {
     "duration": 0.204154,
     "end_time": "2022-05-22T18:45:22.940291",
     "exception": false,
     "start_time": "2022-05-22T18:45:22.736137",
     "status": "completed"
    },
    "tags": []
   },
   "outputs": [
    {
     "data": {
      "text/plain": [
       "376.39788207109865"
      ]
     },
     "execution_count": 133,
     "metadata": {},
     "output_type": "execute_result"
    }
   ],
   "source": [
    "np.sqrt(mean_squared_error(y_test, y_pred)) # Deger 376'lara Kadar Dusmus Oldu ( Tum Degiskenleri Kullanip Tune Etme Islemleri Sonrasinda Yapay Sinir Aglarinin Hatalarina Kadar Bu Hata Degeri Dustu )\n",
    "\n",
    "# Tum Degiskenleri Kullanip Test Hatamizi Biraz Daha Assagiya Cekmis Olduk"
   ]
  },
  {
   "cell_type": "code",
   "execution_count": null,
   "id": "d3eb75f5",
   "metadata": {
    "papermill": {
     "duration": 0.196126,
     "end_time": "2022-05-22T18:45:23.333095",
     "exception": false,
     "start_time": "2022-05-22T18:45:23.136969",
     "status": "completed"
    },
    "tags": []
   },
   "outputs": [],
   "source": []
  }
 ],
 "metadata": {
  "kernelspec": {
   "display_name": "Python 3",
   "language": "python",
   "name": "python3"
  },
  "language_info": {
   "codemirror_mode": {
    "name": "ipython",
    "version": 3
   },
   "file_extension": ".py",
   "mimetype": "text/x-python",
   "name": "python",
   "nbconvert_exporter": "python",
   "pygments_lexer": "ipython3",
   "version": "3.7.12"
  },
  "papermill": {
   "default_parameters": {},
   "duration": 393.970278,
   "end_time": "2022-05-22T18:45:24.348776",
   "environment_variables": {},
   "exception": null,
   "input_path": "__notebook__.ipynb",
   "output_path": "__notebook__.ipynb",
   "parameters": {},
   "start_time": "2022-05-22T18:38:50.378498",
   "version": "2.3.4"
  }
 },
 "nbformat": 4,
 "nbformat_minor": 5
}
