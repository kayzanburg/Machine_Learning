{
 "cells": [
  {
   "cell_type": "markdown",
   "id": "a2672d1d",
   "metadata": {
    "papermill": {
     "duration": 0.025993,
     "end_time": "2022-07-18T16:18:10.926023",
     "exception": false,
     "start_time": "2022-07-18T16:18:10.900030",
     "status": "completed"
    },
    "tags": []
   },
   "source": [
    "# ( Dikkat ) -- Makine Ogrenmesi Konularina Girmeye Basladik --"
   ]
  },
  {
   "cell_type": "markdown",
   "id": "303d8a1e",
   "metadata": {
    "papermill": {
     "duration": 0.024221,
     "end_time": "2022-07-18T16:18:10.976870",
     "exception": false,
     "start_time": "2022-07-18T16:18:10.952649",
     "status": "completed"
    },
    "tags": []
   },
   "source": [
    "## Tahmine Dayalı Değer Atama Yöntemleri"
   ]
  },
  {
   "cell_type": "code",
   "execution_count": 1,
   "id": "6570f41d",
   "metadata": {
    "execution": {
     "iopub.execute_input": "2022-07-18T16:18:11.023124Z",
     "iopub.status.busy": "2022-07-18T16:18:11.022405Z",
     "iopub.status.idle": "2022-07-18T16:18:12.442492Z",
     "shell.execute_reply": "2022-07-18T16:18:12.441613Z"
    },
    "papermill": {
     "duration": 1.443688,
     "end_time": "2022-07-18T16:18:12.444729",
     "exception": false,
     "start_time": "2022-07-18T16:18:11.001041",
     "status": "completed"
    },
    "tags": []
   },
   "outputs": [],
   "source": [
    "import seaborn as sns\n",
    "import missingno as msno\n",
    "import pandas as pd\n",
    "import numpy as np"
   ]
  },
  {
   "cell_type": "code",
   "execution_count": 2,
   "id": "83502411",
   "metadata": {
    "execution": {
     "iopub.execute_input": "2022-07-18T16:18:12.477149Z",
     "iopub.status.busy": "2022-07-18T16:18:12.476686Z",
     "iopub.status.idle": "2022-07-18T16:18:13.635177Z",
     "shell.execute_reply": "2022-07-18T16:18:13.631881Z"
    },
    "papermill": {
     "duration": 1.178364,
     "end_time": "2022-07-18T16:18:13.637926",
     "exception": false,
     "start_time": "2022-07-18T16:18:12.459562",
     "status": "completed"
    },
    "tags": []
   },
   "outputs": [
    {
     "name": "stdout",
     "output_type": "stream",
     "text": [
      "   survived  pclass   age  sibsp  parch     fare\n",
      "0         0       3  22.0      1      0   7.2500\n",
      "1         1       1  38.0      1      0  71.2833\n",
      "2         1       3  26.0      0      0   7.9250\n",
      "3         1       1  35.0      1      0  53.1000\n",
      "4         0       3  35.0      0      0   8.0500\n"
     ]
    },
    {
     "data": {
      "text/plain": [
       "survived      0\n",
       "pclass        0\n",
       "age         177\n",
       "sibsp         0\n",
       "parch         0\n",
       "fare          0\n",
       "dtype: int64"
      ]
     },
     "execution_count": 2,
     "metadata": {},
     "output_type": "execute_result"
    }
   ],
   "source": [
    "df = sns.load_dataset(\"titanic\")\n",
    "df = df.select_dtypes(include = [\"float64\", \"int64\"])\n",
    "print(df.head())\n",
    "df.isnull().sum()"
   ]
  },
  {
   "cell_type": "markdown",
   "id": "7dd64ffe",
   "metadata": {
    "papermill": {
     "duration": 0.015684,
     "end_time": "2022-07-18T16:18:13.669333",
     "exception": false,
     "start_time": "2022-07-18T16:18:13.653649",
     "status": "completed"
    },
    "tags": []
   },
   "source": [
    "## Tahmine Dayalı Değer Atama - KNN & Random Forests & EM  ---->> ( KNN Yontemi )"
   ]
  },
  {
   "cell_type": "code",
   "execution_count": 3,
   "id": "b45a7ac0",
   "metadata": {
    "execution": {
     "iopub.execute_input": "2022-07-18T16:18:13.704049Z",
     "iopub.status.busy": "2022-07-18T16:18:13.703459Z",
     "iopub.status.idle": "2022-07-18T16:18:29.618971Z",
     "shell.execute_reply": "2022-07-18T16:18:29.617806Z"
    },
    "papermill": {
     "duration": 15.935502,
     "end_time": "2022-07-18T16:18:29.621160",
     "exception": false,
     "start_time": "2022-07-18T16:18:13.685658",
     "status": "completed"
    },
    "tags": []
   },
   "outputs": [
    {
     "name": "stdout",
     "output_type": "stream",
     "text": [
      "Collecting ycimpute\r\n",
      "  Downloading ycimpute-0.2-py3-none-any.whl (35 kB)\r\n",
      "Requirement already satisfied: numpy>=1.10 in /opt/conda/lib/python3.7/site-packages (from ycimpute) (1.21.6)\r\n",
      "Requirement already satisfied: scipy in /opt/conda/lib/python3.7/site-packages (from ycimpute) (1.7.3)\r\n",
      "Requirement already satisfied: torch>=1.1.0 in /opt/conda/lib/python3.7/site-packages (from ycimpute) (1.11.0+cpu)\r\n",
      "Requirement already satisfied: six in /opt/conda/lib/python3.7/site-packages (from ycimpute) (1.16.0)\r\n",
      "Requirement already satisfied: scikit-learn>=0.17.1 in /opt/conda/lib/python3.7/site-packages (from ycimpute) (1.0.2)\r\n",
      "Requirement already satisfied: threadpoolctl>=2.0.0 in /opt/conda/lib/python3.7/site-packages (from scikit-learn>=0.17.1->ycimpute) (3.1.0)\r\n",
      "Requirement already satisfied: joblib>=0.11 in /opt/conda/lib/python3.7/site-packages (from scikit-learn>=0.17.1->ycimpute) (1.1.0)\r\n",
      "Requirement already satisfied: typing-extensions in /opt/conda/lib/python3.7/site-packages (from torch>=1.1.0->ycimpute) (4.1.1)\r\n",
      "Installing collected packages: ycimpute\r\n",
      "Successfully installed ycimpute-0.2\r\n",
      "\u001b[33mWARNING: Running pip as the 'root' user can result in broken permissions and conflicting behaviour with the system package manager. It is recommended to use a virtual environment instead: https://pip.pypa.io/warnings/venv\u001b[0m\u001b[33m\r\n",
      "\u001b[0m"
     ]
    }
   ],
   "source": [
    "!pip install ycimpute"
   ]
  },
  {
   "cell_type": "code",
   "execution_count": 4,
   "id": "742616e1",
   "metadata": {
    "execution": {
     "iopub.execute_input": "2022-07-18T16:18:29.656590Z",
     "iopub.status.busy": "2022-07-18T16:18:29.656159Z",
     "iopub.status.idle": "2022-07-18T16:18:32.338563Z",
     "shell.execute_reply": "2022-07-18T16:18:32.337294Z"
    },
    "papermill": {
     "duration": 2.703172,
     "end_time": "2022-07-18T16:18:32.340962",
     "exception": false,
     "start_time": "2022-07-18T16:18:29.637790",
     "status": "completed"
    },
    "tags": []
   },
   "outputs": [],
   "source": [
    "# Ilgili Fonksiyonu Cagiriyoruz ---->>\n",
    "# ---->> ( KNN Makine Ogrenmesi Kapsaminda Olan Bir Konudur Fakat ( Su Anlik ) Cok Detaylarina Girmeden Gorecegiz )\n",
    "\n",
    "from ycimpute.imputer import knnimput"
   ]
  },
  {
   "cell_type": "code",
   "execution_count": 5,
   "id": "c5f7b42f",
   "metadata": {
    "execution": {
     "iopub.execute_input": "2022-07-18T16:18:32.373737Z",
     "iopub.status.busy": "2022-07-18T16:18:32.372230Z",
     "iopub.status.idle": "2022-07-18T16:18:32.378033Z",
     "shell.execute_reply": "2022-07-18T16:18:32.376875Z"
    },
    "papermill": {
     "duration": 0.023828,
     "end_time": "2022-07-18T16:18:32.379824",
     "exception": false,
     "start_time": "2022-07-18T16:18:32.355996",
     "status": "completed"
    },
    "tags": []
   },
   "outputs": [],
   "source": [
    "# Bu Kutuphaneyi Kullanmak Icin Oncelikle Degiskenlerin Isimlerini Tutmamiz Gerekiyor ( Bir Degiskene Atama Yapicaz )\n",
    "# Bu Kutuphane Bizden Bir Numpy Array'i Bekliyor Dolayisi Ile Data_Framenin Isimlerini Bir Yerde Saklayip Daha Sonra Veri Setini\n",
    "# Numpy Arrayine Ceviricez Atama Islemlerinden Sonra Tekrar Isimlerndirme Islemini Gerceklestiricez"
   ]
  },
  {
   "cell_type": "code",
   "execution_count": 6,
   "id": "7cb72c75",
   "metadata": {
    "execution": {
     "iopub.execute_input": "2022-07-18T16:18:32.413252Z",
     "iopub.status.busy": "2022-07-18T16:18:32.411940Z",
     "iopub.status.idle": "2022-07-18T16:18:32.417447Z",
     "shell.execute_reply": "2022-07-18T16:18:32.416565Z"
    },
    "papermill": {
     "duration": 0.024418,
     "end_time": "2022-07-18T16:18:32.419610",
     "exception": false,
     "start_time": "2022-07-18T16:18:32.395192",
     "status": "completed"
    },
    "tags": []
   },
   "outputs": [],
   "source": [
    "var_names = list(df) # Isimleri Bir Yerde Sakliyoruz"
   ]
  },
  {
   "cell_type": "code",
   "execution_count": 7,
   "id": "067b34fb",
   "metadata": {
    "execution": {
     "iopub.execute_input": "2022-07-18T16:18:32.471948Z",
     "iopub.status.busy": "2022-07-18T16:18:32.471140Z",
     "iopub.status.idle": "2022-07-18T16:18:32.478145Z",
     "shell.execute_reply": "2022-07-18T16:18:32.477287Z"
    },
    "papermill": {
     "duration": 0.035836,
     "end_time": "2022-07-18T16:18:32.480622",
     "exception": false,
     "start_time": "2022-07-18T16:18:32.444786",
     "status": "completed"
    },
    "tags": []
   },
   "outputs": [
    {
     "data": {
      "text/plain": [
       "['survived', 'pclass', 'age', 'sibsp', 'parch', 'fare']"
      ]
     },
     "execution_count": 7,
     "metadata": {},
     "output_type": "execute_result"
    }
   ],
   "source": [
    "var_names"
   ]
  },
  {
   "cell_type": "code",
   "execution_count": 8,
   "id": "690a3903",
   "metadata": {
    "execution": {
     "iopub.execute_input": "2022-07-18T16:18:32.533449Z",
     "iopub.status.busy": "2022-07-18T16:18:32.533077Z",
     "iopub.status.idle": "2022-07-18T16:18:32.538321Z",
     "shell.execute_reply": "2022-07-18T16:18:32.537284Z"
    },
    "papermill": {
     "duration": 0.034908,
     "end_time": "2022-07-18T16:18:32.540944",
     "exception": false,
     "start_time": "2022-07-18T16:18:32.506036",
     "status": "completed"
    },
    "tags": []
   },
   "outputs": [],
   "source": [
    "n_df = np.array(df) # Data_Frame'yi Numpy Arrayine Cevirdik"
   ]
  },
  {
   "cell_type": "code",
   "execution_count": 9,
   "id": "0ac7063f",
   "metadata": {
    "execution": {
     "iopub.execute_input": "2022-07-18T16:18:32.595920Z",
     "iopub.status.busy": "2022-07-18T16:18:32.595349Z",
     "iopub.status.idle": "2022-07-18T16:18:32.601986Z",
     "shell.execute_reply": "2022-07-18T16:18:32.601169Z"
    },
    "papermill": {
     "duration": 0.037244,
     "end_time": "2022-07-18T16:18:32.604063",
     "exception": false,
     "start_time": "2022-07-18T16:18:32.566819",
     "status": "completed"
    },
    "tags": []
   },
   "outputs": [
    {
     "data": {
      "text/plain": [
       "array([[ 0.    ,  3.    , 22.    ,  1.    ,  0.    ,  7.25  ],\n",
       "       [ 1.    ,  1.    , 38.    ,  1.    ,  0.    , 71.2833],\n",
       "       [ 1.    ,  3.    , 26.    ,  0.    ,  0.    ,  7.925 ],\n",
       "       [ 1.    ,  1.    , 35.    ,  1.    ,  0.    , 53.1   ],\n",
       "       [ 0.    ,  3.    , 35.    ,  0.    ,  0.    ,  8.05  ],\n",
       "       [ 0.    ,  3.    ,     nan,  0.    ,  0.    ,  8.4583],\n",
       "       [ 0.    ,  1.    , 54.    ,  0.    ,  0.    , 51.8625],\n",
       "       [ 0.    ,  3.    ,  2.    ,  3.    ,  1.    , 21.075 ],\n",
       "       [ 1.    ,  3.    , 27.    ,  0.    ,  2.    , 11.1333],\n",
       "       [ 1.    ,  2.    , 14.    ,  1.    ,  0.    , 30.0708]])"
      ]
     },
     "execution_count": 9,
     "metadata": {},
     "output_type": "execute_result"
    }
   ],
   "source": [
    "n_df[0:10] # Numpy Arrayine Cevirdigimiz Icin ( .head() ) Fonksiyonunu Kullanamiyoruz"
   ]
  },
  {
   "cell_type": "code",
   "execution_count": 10,
   "id": "a5748762",
   "metadata": {
    "execution": {
     "iopub.execute_input": "2022-07-18T16:18:32.657548Z",
     "iopub.status.busy": "2022-07-18T16:18:32.656979Z",
     "iopub.status.idle": "2022-07-18T16:18:32.662673Z",
     "shell.execute_reply": "2022-07-18T16:18:32.661553Z"
    },
    "papermill": {
     "duration": 0.034358,
     "end_time": "2022-07-18T16:18:32.664813",
     "exception": false,
     "start_time": "2022-07-18T16:18:32.630455",
     "status": "completed"
    },
    "tags": []
   },
   "outputs": [
    {
     "data": {
      "text/plain": [
       "(891, 6)"
      ]
     },
     "execution_count": 10,
     "metadata": {},
     "output_type": "execute_result"
    }
   ],
   "source": [
    "n_df.shape"
   ]
  },
  {
   "cell_type": "code",
   "execution_count": 11,
   "id": "cc694c1c",
   "metadata": {
    "execution": {
     "iopub.execute_input": "2022-07-18T16:18:32.720118Z",
     "iopub.status.busy": "2022-07-18T16:18:32.719664Z",
     "iopub.status.idle": "2022-07-18T16:18:32.858097Z",
     "shell.execute_reply": "2022-07-18T16:18:32.856370Z"
    },
    "papermill": {
     "duration": 0.17059,
     "end_time": "2022-07-18T16:18:32.861760",
     "exception": false,
     "start_time": "2022-07-18T16:18:32.691170",
     "status": "completed"
    },
    "tags": []
   },
   "outputs": [
    {
     "name": "stdout",
     "output_type": "stream",
     "text": [
      "Imputing row 1/891 with 0 missing, elapsed time: 0.125\n",
      "Imputing row 101/891 with 0 missing, elapsed time: 0.126\n",
      "Imputing row 201/891 with 0 missing, elapsed time: 0.127\n",
      "Imputing row 301/891 with 1 missing, elapsed time: 0.127\n",
      "Imputing row 401/891 with 0 missing, elapsed time: 0.128\n",
      "Imputing row 501/891 with 0 missing, elapsed time: 0.129\n",
      "Imputing row 601/891 with 0 missing, elapsed time: 0.129\n",
      "Imputing row 701/891 with 0 missing, elapsed time: 0.130\n",
      "Imputing row 801/891 with 0 missing, elapsed time: 0.130\n"
     ]
    }
   ],
   "source": [
    "dff = knnimput.KNN(k = 4).complete(n_df) # k: Komsuluk Sayisini Ifade Eder, complete()  Doldur ( Neyi Doldurmak Istersin? ) -->>\n",
    "# complete(n_df)  ---->>  Olusturmus Oldugumuz Numpy Array Nesnesini Doldur Demis Oluyoruz\n",
    "\n",
    "# Su Anda Doldurma Islemini Gerceklestirdi ( Eksik Olarak Gormus Oldugu Gozlemleri Doldurdu )"
   ]
  },
  {
   "cell_type": "code",
   "execution_count": 12,
   "id": "4a5062ac",
   "metadata": {
    "execution": {
     "iopub.execute_input": "2022-07-18T16:18:32.919537Z",
     "iopub.status.busy": "2022-07-18T16:18:32.918818Z",
     "iopub.status.idle": "2022-07-18T16:18:32.925972Z",
     "shell.execute_reply": "2022-07-18T16:18:32.925010Z"
    },
    "papermill": {
     "duration": 0.038563,
     "end_time": "2022-07-18T16:18:32.927773",
     "exception": false,
     "start_time": "2022-07-18T16:18:32.889210",
     "status": "completed"
    },
    "tags": []
   },
   "outputs": [
    {
     "data": {
      "text/plain": [
       "numpy.ndarray"
      ]
     },
     "execution_count": 12,
     "metadata": {},
     "output_type": "execute_result"
    }
   ],
   "source": [
    "type(dff) # Numpy Array'i Oldugunu Gormekteyiz"
   ]
  },
  {
   "cell_type": "code",
   "execution_count": 13,
   "id": "d99ddb2e",
   "metadata": {
    "execution": {
     "iopub.execute_input": "2022-07-18T16:18:32.964188Z",
     "iopub.status.busy": "2022-07-18T16:18:32.962690Z",
     "iopub.status.idle": "2022-07-18T16:18:32.969426Z",
     "shell.execute_reply": "2022-07-18T16:18:32.968439Z"
    },
    "papermill": {
     "duration": 0.027648,
     "end_time": "2022-07-18T16:18:32.972079",
     "exception": false,
     "start_time": "2022-07-18T16:18:32.944431",
     "status": "completed"
    },
    "tags": []
   },
   "outputs": [],
   "source": [
    "# Bunu Pandas Data_Framesine Cevirmemiz Gerekiyor\n",
    "\n",
    "dff = pd.DataFrame(dff, columns = var_names)"
   ]
  },
  {
   "cell_type": "code",
   "execution_count": 14,
   "id": "b83f44d8",
   "metadata": {
    "execution": {
     "iopub.execute_input": "2022-07-18T16:18:33.010643Z",
     "iopub.status.busy": "2022-07-18T16:18:33.009509Z",
     "iopub.status.idle": "2022-07-18T16:18:33.018045Z",
     "shell.execute_reply": "2022-07-18T16:18:33.016668Z"
    },
    "papermill": {
     "duration": 0.031395,
     "end_time": "2022-07-18T16:18:33.020667",
     "exception": false,
     "start_time": "2022-07-18T16:18:32.989272",
     "status": "completed"
    },
    "tags": []
   },
   "outputs": [
    {
     "data": {
      "text/plain": [
       "pandas.core.frame.DataFrame"
      ]
     },
     "execution_count": 14,
     "metadata": {},
     "output_type": "execute_result"
    }
   ],
   "source": [
    "type(dff)"
   ]
  },
  {
   "cell_type": "code",
   "execution_count": 15,
   "id": "ad5bb988",
   "metadata": {
    "execution": {
     "iopub.execute_input": "2022-07-18T16:18:33.079136Z",
     "iopub.status.busy": "2022-07-18T16:18:33.078426Z",
     "iopub.status.idle": "2022-07-18T16:18:33.088129Z",
     "shell.execute_reply": "2022-07-18T16:18:33.087183Z"
    },
    "papermill": {
     "duration": 0.041879,
     "end_time": "2022-07-18T16:18:33.090736",
     "exception": false,
     "start_time": "2022-07-18T16:18:33.048857",
     "status": "completed"
    },
    "scrolled": true,
    "tags": []
   },
   "outputs": [
    {
     "data": {
      "text/plain": [
       "survived    0\n",
       "pclass      0\n",
       "age         0\n",
       "sibsp       0\n",
       "parch       0\n",
       "fare        0\n",
       "dtype: int64"
      ]
     },
     "execution_count": 15,
     "metadata": {},
     "output_type": "execute_result"
    }
   ],
   "source": [
    "dff.isnull().sum() # Eksik Deger Yok Cunku KNN Algoritmasi Ile Bu Gozlemleri Doldurduk"
   ]
  },
  {
   "cell_type": "markdown",
   "id": "3b49085c",
   "metadata": {
    "papermill": {
     "duration": 0.026783,
     "end_time": "2022-07-18T16:18:33.144556",
     "exception": false,
     "start_time": "2022-07-18T16:18:33.117773",
     "status": "completed"
    },
    "tags": []
   },
   "source": [
    "## Random Forests ( Yontemi )"
   ]
  },
  {
   "cell_type": "code",
   "execution_count": 16,
   "id": "7b048f60",
   "metadata": {
    "execution": {
     "iopub.execute_input": "2022-07-18T16:18:33.200535Z",
     "iopub.status.busy": "2022-07-18T16:18:33.199903Z",
     "iopub.status.idle": "2022-07-18T16:18:33.215759Z",
     "shell.execute_reply": "2022-07-18T16:18:33.214264Z"
    },
    "papermill": {
     "duration": 0.046279,
     "end_time": "2022-07-18T16:18:33.218457",
     "exception": false,
     "start_time": "2022-07-18T16:18:33.172178",
     "status": "completed"
    },
    "tags": []
   },
   "outputs": [],
   "source": [
    "# Dersler Arasinda Veri Seti Uzerinde Kalici Degisiklikler Yaptigimiz Icin Import Ediyorum\n",
    "\n",
    "df = sns.load_dataset(\"titanic\")\n",
    "df = df.select_dtypes(include = [\"float64\", \"int64\"])"
   ]
  },
  {
   "cell_type": "code",
   "execution_count": 17,
   "id": "587696fa",
   "metadata": {
    "execution": {
     "iopub.execute_input": "2022-07-18T16:18:33.275804Z",
     "iopub.status.busy": "2022-07-18T16:18:33.275129Z",
     "iopub.status.idle": "2022-07-18T16:18:33.283794Z",
     "shell.execute_reply": "2022-07-18T16:18:33.282640Z"
    },
    "papermill": {
     "duration": 0.039976,
     "end_time": "2022-07-18T16:18:33.286083",
     "exception": false,
     "start_time": "2022-07-18T16:18:33.246107",
     "status": "completed"
    },
    "tags": []
   },
   "outputs": [
    {
     "data": {
      "text/plain": [
       "survived      0\n",
       "pclass        0\n",
       "age         177\n",
       "sibsp         0\n",
       "parch         0\n",
       "fare          0\n",
       "dtype: int64"
      ]
     },
     "execution_count": 17,
     "metadata": {},
     "output_type": "execute_result"
    }
   ],
   "source": [
    "df.isnull().sum() # Eksiklikleri Gozlemliyoruz"
   ]
  },
  {
   "cell_type": "code",
   "execution_count": 18,
   "id": "801c190a",
   "metadata": {
    "execution": {
     "iopub.execute_input": "2022-07-18T16:18:33.341623Z",
     "iopub.status.busy": "2022-07-18T16:18:33.341280Z",
     "iopub.status.idle": "2022-07-18T16:18:33.345833Z",
     "shell.execute_reply": "2022-07-18T16:18:33.344848Z"
    },
    "papermill": {
     "duration": 0.034988,
     "end_time": "2022-07-18T16:18:33.348032",
     "exception": false,
     "start_time": "2022-07-18T16:18:33.313044",
     "status": "completed"
    },
    "tags": []
   },
   "outputs": [],
   "source": [
    "var_names = list(df) # Isimleri Bir Yerde Sakliyoruz"
   ]
  },
  {
   "cell_type": "code",
   "execution_count": 19,
   "id": "6421e23c",
   "metadata": {
    "execution": {
     "iopub.execute_input": "2022-07-18T16:18:33.406864Z",
     "iopub.status.busy": "2022-07-18T16:18:33.405191Z",
     "iopub.status.idle": "2022-07-18T16:18:33.413903Z",
     "shell.execute_reply": "2022-07-18T16:18:33.412490Z"
    },
    "papermill": {
     "duration": 0.040423,
     "end_time": "2022-07-18T16:18:33.416430",
     "exception": false,
     "start_time": "2022-07-18T16:18:33.376007",
     "status": "completed"
    },
    "tags": []
   },
   "outputs": [
    {
     "data": {
      "text/plain": [
       "['survived', 'pclass', 'age', 'sibsp', 'parch', 'fare']"
      ]
     },
     "execution_count": 19,
     "metadata": {},
     "output_type": "execute_result"
    }
   ],
   "source": [
    "var_names"
   ]
  },
  {
   "cell_type": "code",
   "execution_count": 20,
   "id": "2409d46c",
   "metadata": {
    "execution": {
     "iopub.execute_input": "2022-07-18T16:18:33.474440Z",
     "iopub.status.busy": "2022-07-18T16:18:33.473321Z",
     "iopub.status.idle": "2022-07-18T16:18:33.479396Z",
     "shell.execute_reply": "2022-07-18T16:18:33.478050Z"
    },
    "papermill": {
     "duration": 0.037208,
     "end_time": "2022-07-18T16:18:33.482126",
     "exception": false,
     "start_time": "2022-07-18T16:18:33.444918",
     "status": "completed"
    },
    "tags": []
   },
   "outputs": [],
   "source": [
    "n_df = np.array(df) # Data_Frame'yi Numpy Arrayine Cevirdik"
   ]
  },
  {
   "cell_type": "code",
   "execution_count": 21,
   "id": "0e2a6b14",
   "metadata": {
    "execution": {
     "iopub.execute_input": "2022-07-18T16:18:33.538178Z",
     "iopub.status.busy": "2022-07-18T16:18:33.537774Z",
     "iopub.status.idle": "2022-07-18T16:18:33.542218Z",
     "shell.execute_reply": "2022-07-18T16:18:33.541200Z"
    },
    "papermill": {
     "duration": 0.034687,
     "end_time": "2022-07-18T16:18:33.543931",
     "exception": false,
     "start_time": "2022-07-18T16:18:33.509244",
     "status": "completed"
    },
    "tags": []
   },
   "outputs": [],
   "source": [
    "# help(iterforest)"
   ]
  },
  {
   "cell_type": "code",
   "execution_count": 22,
   "id": "ed7102d4",
   "metadata": {
    "execution": {
     "iopub.execute_input": "2022-07-18T16:18:33.579293Z",
     "iopub.status.busy": "2022-07-18T16:18:33.578941Z",
     "iopub.status.idle": "2022-07-18T16:18:33.582486Z",
     "shell.execute_reply": "2022-07-18T16:18:33.581943Z"
    },
    "papermill": {
     "duration": 0.022987,
     "end_time": "2022-07-18T16:18:33.584269",
     "exception": false,
     "start_time": "2022-07-18T16:18:33.561282",
     "status": "completed"
    },
    "tags": []
   },
   "outputs": [],
   "source": [
    "from ycimpute.imputer import iterforest\n",
    "\n",
    "#dff = iterforest.IterImput().complete(n_df) # IterImput() Adinda Bir Modul Yokmus ( Ismi Degismis Olabilir ) ( !! Hata Var !! )"
   ]
  },
  {
   "cell_type": "code",
   "execution_count": 23,
   "id": "c86b06ad",
   "metadata": {
    "execution": {
     "iopub.execute_input": "2022-07-18T16:18:33.619391Z",
     "iopub.status.busy": "2022-07-18T16:18:33.618994Z",
     "iopub.status.idle": "2022-07-18T16:18:33.624176Z",
     "shell.execute_reply": "2022-07-18T16:18:33.623057Z"
    },
    "papermill": {
     "duration": 0.024994,
     "end_time": "2022-07-18T16:18:33.625810",
     "exception": false,
     "start_time": "2022-07-18T16:18:33.600816",
     "status": "completed"
    },
    "tags": []
   },
   "outputs": [],
   "source": [
    "dff = pd.DataFrame(dff, columns = var_names) # ( Bilgilendirme ) ( \"Hata\" Oldugu Icin Islem Yapilamadi )"
   ]
  },
  {
   "cell_type": "code",
   "execution_count": 24,
   "id": "7edf8f3f",
   "metadata": {
    "execution": {
     "iopub.execute_input": "2022-07-18T16:18:33.662382Z",
     "iopub.status.busy": "2022-07-18T16:18:33.661995Z",
     "iopub.status.idle": "2022-07-18T16:18:33.670300Z",
     "shell.execute_reply": "2022-07-18T16:18:33.669441Z"
    },
    "papermill": {
     "duration": 0.029281,
     "end_time": "2022-07-18T16:18:33.672041",
     "exception": false,
     "start_time": "2022-07-18T16:18:33.642760",
     "status": "completed"
    },
    "tags": []
   },
   "outputs": [
    {
     "data": {
      "text/plain": [
       "survived    0\n",
       "pclass      0\n",
       "age         0\n",
       "sibsp       0\n",
       "parch       0\n",
       "fare        0\n",
       "dtype: int64"
      ]
     },
     "execution_count": 24,
     "metadata": {},
     "output_type": "execute_result"
    }
   ],
   "source": [
    "dff.isnull().sum() # ( Bilgilendirme ) ( \"Hata\" Oldugu Icin Islem Yapilamadi ) ( \"dff\" Bir Onceki Islemdeki Hali Gosteriliyor )"
   ]
  },
  {
   "cell_type": "markdown",
   "id": "b42dc391",
   "metadata": {
    "papermill": {
     "duration": 0.016151,
     "end_time": "2022-07-18T16:18:33.704667",
     "exception": false,
     "start_time": "2022-07-18T16:18:33.688516",
     "status": "completed"
    },
    "tags": []
   },
   "source": [
    "## EM Algoritmasi"
   ]
  },
  {
   "cell_type": "code",
   "execution_count": 25,
   "id": "d2146a57",
   "metadata": {
    "execution": {
     "iopub.execute_input": "2022-07-18T16:18:33.742139Z",
     "iopub.status.busy": "2022-07-18T16:18:33.741493Z",
     "iopub.status.idle": "2022-07-18T16:18:33.755401Z",
     "shell.execute_reply": "2022-07-18T16:18:33.754579Z"
    },
    "papermill": {
     "duration": 0.034706,
     "end_time": "2022-07-18T16:18:33.757469",
     "exception": false,
     "start_time": "2022-07-18T16:18:33.722763",
     "status": "completed"
    },
    "tags": []
   },
   "outputs": [],
   "source": [
    "# Dersler Arasinda Veri Seti Uzerinde Kalici Degisiklikler Yaptigimiz Icin Import Ediyorum\n",
    "\n",
    "df = sns.load_dataset(\"titanic\")\n",
    "df = df.select_dtypes(include = [\"float64\", \"int64\"])"
   ]
  },
  {
   "cell_type": "code",
   "execution_count": 26,
   "id": "4b7b9994",
   "metadata": {
    "execution": {
     "iopub.execute_input": "2022-07-18T16:18:33.792319Z",
     "iopub.status.busy": "2022-07-18T16:18:33.791716Z",
     "iopub.status.idle": "2022-07-18T16:18:33.795797Z",
     "shell.execute_reply": "2022-07-18T16:18:33.795020Z"
    },
    "papermill": {
     "duration": 0.024201,
     "end_time": "2022-07-18T16:18:33.798211",
     "exception": false,
     "start_time": "2022-07-18T16:18:33.774010",
     "status": "completed"
    },
    "tags": []
   },
   "outputs": [],
   "source": [
    "from ycimpute.imputer import EM"
   ]
  },
  {
   "cell_type": "code",
   "execution_count": 27,
   "id": "be237aa2",
   "metadata": {
    "execution": {
     "iopub.execute_input": "2022-07-18T16:18:33.835102Z",
     "iopub.status.busy": "2022-07-18T16:18:33.834445Z",
     "iopub.status.idle": "2022-07-18T16:18:33.839120Z",
     "shell.execute_reply": "2022-07-18T16:18:33.837892Z"
    },
    "papermill": {
     "duration": 0.025892,
     "end_time": "2022-07-18T16:18:33.841515",
     "exception": false,
     "start_time": "2022-07-18T16:18:33.815623",
     "status": "completed"
    },
    "tags": []
   },
   "outputs": [],
   "source": [
    "var_names = list(df) # Isimleri Bir Yerde Sakliyoruz"
   ]
  },
  {
   "cell_type": "code",
   "execution_count": 28,
   "id": "758b9f2a",
   "metadata": {
    "execution": {
     "iopub.execute_input": "2022-07-18T16:18:33.877315Z",
     "iopub.status.busy": "2022-07-18T16:18:33.876718Z",
     "iopub.status.idle": "2022-07-18T16:18:33.883185Z",
     "shell.execute_reply": "2022-07-18T16:18:33.882457Z"
    },
    "papermill": {
     "duration": 0.026348,
     "end_time": "2022-07-18T16:18:33.885081",
     "exception": false,
     "start_time": "2022-07-18T16:18:33.858733",
     "status": "completed"
    },
    "tags": []
   },
   "outputs": [
    {
     "data": {
      "text/plain": [
       "['survived', 'pclass', 'age', 'sibsp', 'parch', 'fare']"
      ]
     },
     "execution_count": 28,
     "metadata": {},
     "output_type": "execute_result"
    }
   ],
   "source": [
    "var_names"
   ]
  },
  {
   "cell_type": "code",
   "execution_count": 29,
   "id": "538fee94",
   "metadata": {
    "execution": {
     "iopub.execute_input": "2022-07-18T16:18:33.921614Z",
     "iopub.status.busy": "2022-07-18T16:18:33.920285Z",
     "iopub.status.idle": "2022-07-18T16:18:33.925797Z",
     "shell.execute_reply": "2022-07-18T16:18:33.924763Z"
    },
    "papermill": {
     "duration": 0.025768,
     "end_time": "2022-07-18T16:18:33.928092",
     "exception": false,
     "start_time": "2022-07-18T16:18:33.902324",
     "status": "completed"
    },
    "tags": []
   },
   "outputs": [],
   "source": [
    "n_df = np.array(df) # Data_Frame'yi Numpy Arrayine Cevirdik"
   ]
  },
  {
   "cell_type": "code",
   "execution_count": 30,
   "id": "85add357",
   "metadata": {
    "execution": {
     "iopub.execute_input": "2022-07-18T16:18:33.963310Z",
     "iopub.status.busy": "2022-07-18T16:18:33.962704Z",
     "iopub.status.idle": "2022-07-18T16:18:34.037538Z",
     "shell.execute_reply": "2022-07-18T16:18:34.036633Z"
    },
    "papermill": {
     "duration": 0.095084,
     "end_time": "2022-07-18T16:18:34.039743",
     "exception": false,
     "start_time": "2022-07-18T16:18:33.944659",
     "status": "completed"
    },
    "tags": []
   },
   "outputs": [],
   "source": [
    "dff = EM().complete(n_df)"
   ]
  },
  {
   "cell_type": "code",
   "execution_count": 31,
   "id": "02ba786d",
   "metadata": {
    "execution": {
     "iopub.execute_input": "2022-07-18T16:18:34.100791Z",
     "iopub.status.busy": "2022-07-18T16:18:34.100399Z",
     "iopub.status.idle": "2022-07-18T16:18:34.106305Z",
     "shell.execute_reply": "2022-07-18T16:18:34.105429Z"
    },
    "papermill": {
     "duration": 0.048363,
     "end_time": "2022-07-18T16:18:34.110086",
     "exception": false,
     "start_time": "2022-07-18T16:18:34.061723",
     "status": "completed"
    },
    "tags": []
   },
   "outputs": [],
   "source": [
    "dff = pd.DataFrame(dff, columns = var_names)"
   ]
  },
  {
   "cell_type": "code",
   "execution_count": 32,
   "id": "ce0c5df4",
   "metadata": {
    "execution": {
     "iopub.execute_input": "2022-07-18T16:18:34.175001Z",
     "iopub.status.busy": "2022-07-18T16:18:34.174658Z",
     "iopub.status.idle": "2022-07-18T16:18:34.182642Z",
     "shell.execute_reply": "2022-07-18T16:18:34.181838Z"
    },
    "papermill": {
     "duration": 0.040392,
     "end_time": "2022-07-18T16:18:34.184310",
     "exception": false,
     "start_time": "2022-07-18T16:18:34.143918",
     "status": "completed"
    },
    "tags": []
   },
   "outputs": [
    {
     "data": {
      "text/plain": [
       "survived    0\n",
       "pclass      0\n",
       "age         0\n",
       "sibsp       0\n",
       "parch       0\n",
       "fare        0\n",
       "dtype: int64"
      ]
     },
     "execution_count": 32,
     "metadata": {},
     "output_type": "execute_result"
    }
   ],
   "source": [
    "dff.isnull().sum()"
   ]
  },
  {
   "cell_type": "code",
   "execution_count": 33,
   "id": "fb70cd4e",
   "metadata": {
    "execution": {
     "iopub.execute_input": "2022-07-18T16:18:34.220592Z",
     "iopub.status.busy": "2022-07-18T16:18:34.219956Z",
     "iopub.status.idle": "2022-07-18T16:18:34.223865Z",
     "shell.execute_reply": "2022-07-18T16:18:34.222920Z"
    },
    "papermill": {
     "duration": 0.024431,
     "end_time": "2022-07-18T16:18:34.225614",
     "exception": false,
     "start_time": "2022-07-18T16:18:34.201183",
     "status": "completed"
    },
    "tags": []
   },
   "outputs": [],
   "source": [
    "# Genel Bilgilendirme; Bu Sekilde Tahmine Dayali Yontemleri Kullanmadan Once Yapisal Bir Bozukluk Varmi Diye Bakilir ---->>\n",
    "# ---->> Diger Bir Deyis Ile Bazi Degiskenlerdeki Eksiklikler Acaba Diger Degiskenlere Bagli Olarak Mi Gerceklesiyo ---->>\n",
    "# --->> Bunu Bir Gozlemlemek Gerekiyor ( Oneriliyor )"
   ]
  },
  {
   "cell_type": "markdown",
   "id": "ef32d763",
   "metadata": {
    "papermill": {
     "duration": 0.016003,
     "end_time": "2022-07-18T16:18:34.258301",
     "exception": false,
     "start_time": "2022-07-18T16:18:34.242298",
     "status": "completed"
    },
    "tags": []
   },
   "source": [
    "# Değişken Standardizasyonu (Veri Standardizasyonu)"
   ]
  },
  {
   "cell_type": "code",
   "execution_count": 34,
   "id": "c595de54",
   "metadata": {
    "execution": {
     "iopub.execute_input": "2022-07-18T16:18:34.291830Z",
     "iopub.status.busy": "2022-07-18T16:18:34.291493Z",
     "iopub.status.idle": "2022-07-18T16:18:34.296229Z",
     "shell.execute_reply": "2022-07-18T16:18:34.295543Z"
    },
    "papermill": {
     "duration": 0.023199,
     "end_time": "2022-07-18T16:18:34.297673",
     "exception": false,
     "start_time": "2022-07-18T16:18:34.274474",
     "status": "completed"
    },
    "tags": []
   },
   "outputs": [],
   "source": [
    "# Degisken Standardizasyonu Ve Degisken Donusumu Arasindaki Farki Bilmek Onemlidir ( Ikiside Degiskenin Uzerinde Bi Donusturme Islemini Ifade Ediyo ) ( Peki Nedir Bu Ikisi Arasindaki Fark )\n",
    "\n",
    "# Degisken Standardizasyonu Denildiginde Degiskenin Kendi Icindeki Varyans Yapisi Bilgi Yapisi Bozulmaz Fakat Belirli Bir Standarta Oturtulur Yani Bu Su Anlama Geliyor; Ornegin Degisken Oldugu Sekliyle Durdugunda 10 Diye Bir Deger Dusunelim\n",
    "# Bu 10 Degeri Ornegin Veri Seti Kucukten Buyuge Dogru Siralandiginda 80. Sirada Bu Degisken Standartlastirildiginda Bu 10 Degeri Muhtemelen 1-2 Gibi Bir Deger Olucak Veya 0 Ile 1 Arasinda Bir Deger Olucak Fakat Veri Seti Yine Yucukten\n",
    "# Buyuge Siralandiginda Bu Deger Yine 80. Degere Karsilik Geliyo Olucak Dolayisi Ile Bir Degisken Standartlastirildiginda Degiskenin Degerleri Degisecektir Belirli Bir Formata Sokulacaktir Fakat Tasimis Oldugu Yayilim Dagilim Bilgisinin\n",
    "# Ozutu ( Direk Kendisi Degil ) Mevcutta Kaliyor Olucaktir Yani Degismeyecektir. Evet Degiskenin Tum Ortalama, Standart Sapma, Varyans Gibi Degerleri Degisecektir Ama Tasimis Oldugu Bilginin Degisken Icindeki Yayilimi Dagilimi Mevcut Durumu\n",
    "# Degismeyecektir Bu Standartlastirma Islemidir\n",
    "\n",
    "# Peki Degisken Donusturmek Ne Demektir?\n",
    "\n",
    "# Degisken Donusturmek; Donusturulen Bir Degiskenin Tasidigi Bilginin Tasindigi Sekliyle Kalamamasi Donusturulmesi Demektir. Ornegin Cinsiyet Degiskenini Dusunelim ( Kadin - Erkek Seklinde ) Bunu Bir Donusturme Islemine Soktugumuzda\n",
    "# Mesela 0 - 1 Dedigimizde Yapi Degismis Olucak ( Komple ) Yani Bir Standartalastirma Islemi Gibi Bir Islem Degil Veya Ornegin Elimizde Bir Yas Degiskeni Olsun Bu Yas Degiskenini Soyle Bir Degistirmek Istedigimizi Dusunelim 0-10 Arasi Cocuk\n",
    "# Olarak Veya 1 Sinifi Olarak Degistir, 10-20 Yas Arasini Genc Olarak Degistir Gibi Bakin Degiskeni Donusturmek Istedigimizde Normalde Yasin Icerisinde Bulunan Degisim Yapisi Komple Bozuluyor Ve Mesela 0-80 Arasindaki Degerlerden Olusuyosa\n",
    "# Bir Yas Degiskeni Bu Gunun Sonunda 1-2-3-4-5 Gibi Yada Cocuk, Yasli, Genc vb. Gibi Siniflara Ayrilmis Oluyor Buda Degiskeni Donusturmektir. Genelde Donusturme Islemleri Veri Setinin Tasidigi Bilginin Ozutunu Bozar Yada Amaclara Yonelik\n",
    "# Olarak Onlari Numerik Olarak Ifade Etmek Gerekir Numerik Temsiller Yaratir. Cinsiyet Orneginde Oldugu Gibi Kadin-Erkek String Degerlerini Bazi Fonksiyonlarin Beklentilerinden Dolayi 0-1 Olarak Degistirir Aslinda Tasidigi Bilgi Bu Acidan\n",
    "# Degismemis Olur Ama Yapisi Degismis Olur\n",
    "\n",
    "# Simdi Degisken Standardizasyonu Orneklerine Gecelim"
   ]
  },
  {
   "cell_type": "code",
   "execution_count": 35,
   "id": "7a4a672a",
   "metadata": {
    "execution": {
     "iopub.execute_input": "2022-07-18T16:18:34.333521Z",
     "iopub.status.busy": "2022-07-18T16:18:34.332881Z",
     "iopub.status.idle": "2022-07-18T16:18:34.352086Z",
     "shell.execute_reply": "2022-07-18T16:18:34.351204Z"
    },
    "papermill": {
     "duration": 0.040109,
     "end_time": "2022-07-18T16:18:34.354131",
     "exception": false,
     "start_time": "2022-07-18T16:18:34.314022",
     "status": "completed"
    },
    "tags": []
   },
   "outputs": [
    {
     "data": {
      "text/html": [
       "<div>\n",
       "<style scoped>\n",
       "    .dataframe tbody tr th:only-of-type {\n",
       "        vertical-align: middle;\n",
       "    }\n",
       "\n",
       "    .dataframe tbody tr th {\n",
       "        vertical-align: top;\n",
       "    }\n",
       "\n",
       "    .dataframe thead th {\n",
       "        text-align: right;\n",
       "    }\n",
       "</style>\n",
       "<table border=\"1\" class=\"dataframe\">\n",
       "  <thead>\n",
       "    <tr style=\"text-align: right;\">\n",
       "      <th></th>\n",
       "      <th>V1</th>\n",
       "      <th>V2</th>\n",
       "      <th>V3</th>\n",
       "    </tr>\n",
       "  </thead>\n",
       "  <tbody>\n",
       "    <tr>\n",
       "      <th>0</th>\n",
       "      <td>1.0</td>\n",
       "      <td>7.0</td>\n",
       "      <td>6.0</td>\n",
       "    </tr>\n",
       "    <tr>\n",
       "      <th>1</th>\n",
       "      <td>3.0</td>\n",
       "      <td>7.0</td>\n",
       "      <td>12.0</td>\n",
       "    </tr>\n",
       "    <tr>\n",
       "      <th>2</th>\n",
       "      <td>6.0</td>\n",
       "      <td>5.0</td>\n",
       "      <td>5.0</td>\n",
       "    </tr>\n",
       "    <tr>\n",
       "      <th>3</th>\n",
       "      <td>5.0</td>\n",
       "      <td>8.0</td>\n",
       "      <td>6.0</td>\n",
       "    </tr>\n",
       "    <tr>\n",
       "      <th>4</th>\n",
       "      <td>7.0</td>\n",
       "      <td>12.0</td>\n",
       "      <td>14.0</td>\n",
       "    </tr>\n",
       "  </tbody>\n",
       "</table>\n",
       "</div>"
      ],
      "text/plain": [
       "    V1    V2    V3\n",
       "0  1.0   7.0   6.0\n",
       "1  3.0   7.0  12.0\n",
       "2  6.0   5.0   5.0\n",
       "3  5.0   8.0   6.0\n",
       "4  7.0  12.0  14.0"
      ]
     },
     "execution_count": 35,
     "metadata": {},
     "output_type": "execute_result"
    }
   ],
   "source": [
    "# Dersler Arasinda Veri Seti Uzerinde Kalici Degisiklikler Yaptigimiz Icin Import Ediyorum\n",
    "\n",
    "# import numpy as np\n",
    "# import pandas as pd\n",
    "V1 = np.array([1,3,6,5,7])\n",
    "V2 = np.array([7,7,5,8,12])\n",
    "V3 = np.array([6,12,5,6,14])\n",
    "df = pd.DataFrame(\n",
    "        {\"V1\" : V1,\n",
    "         \"V2\" : V2,\n",
    "         \"V3\" : V3})\n",
    "\n",
    "df = df.astype(float)\n",
    "df"
   ]
  },
  {
   "cell_type": "markdown",
   "id": "2e7d2249",
   "metadata": {
    "papermill": {
     "duration": 0.027863,
     "end_time": "2022-07-18T16:18:34.408486",
     "exception": false,
     "start_time": "2022-07-18T16:18:34.380623",
     "status": "completed"
    },
    "tags": []
   },
   "source": [
    "## Standardizasyon"
   ]
  },
  {
   "cell_type": "code",
   "execution_count": 36,
   "id": "121373c4",
   "metadata": {
    "execution": {
     "iopub.execute_input": "2022-07-18T16:18:34.467049Z",
     "iopub.status.busy": "2022-07-18T16:18:34.466423Z",
     "iopub.status.idle": "2022-07-18T16:18:34.471061Z",
     "shell.execute_reply": "2022-07-18T16:18:34.469750Z"
    },
    "papermill": {
     "duration": 0.036753,
     "end_time": "2022-07-18T16:18:34.473444",
     "exception": false,
     "start_time": "2022-07-18T16:18:34.436691",
     "status": "completed"
    },
    "tags": []
   },
   "outputs": [],
   "source": [
    "from sklearn import preprocessing"
   ]
  },
  {
   "cell_type": "code",
   "execution_count": 37,
   "id": "01984688",
   "metadata": {
    "execution": {
     "iopub.execute_input": "2022-07-18T16:18:34.532421Z",
     "iopub.status.busy": "2022-07-18T16:18:34.531509Z",
     "iopub.status.idle": "2022-07-18T16:18:34.541191Z",
     "shell.execute_reply": "2022-07-18T16:18:34.539516Z"
    },
    "papermill": {
     "duration": 0.041876,
     "end_time": "2022-07-18T16:18:34.543602",
     "exception": false,
     "start_time": "2022-07-18T16:18:34.501726",
     "status": "completed"
    },
    "tags": []
   },
   "outputs": [
    {
     "data": {
      "text/plain": [
       "array([[-1.57841037, -0.34554737, -0.70920814],\n",
       "       [-0.64993368, -0.34554737,  0.92742603],\n",
       "       [ 0.74278135, -1.2094158 , -0.98198051],\n",
       "       [ 0.27854301,  0.08638684, -0.70920814],\n",
       "       [ 1.2070197 ,  1.81412369,  1.47297076]])"
      ]
     },
     "execution_count": 37,
     "metadata": {},
     "output_type": "execute_result"
    }
   ],
   "source": [
    "preprocessing.scale(df) # .scale() ----->> Donustur Demektir ------>> Bu Tur Fonksiyonlarin Argumanlari Genelde Varsayilan Ayarlari ( copy = True, inplace = False ) Bu Sekildedir Yani Kalici Bir Degisiklik Yapmayiz Varsayilan Ayarlarda"
   ]
  },
  {
   "cell_type": "code",
   "execution_count": 38,
   "id": "7140d1cd",
   "metadata": {
    "execution": {
     "iopub.execute_input": "2022-07-18T16:18:34.601075Z",
     "iopub.status.busy": "2022-07-18T16:18:34.600452Z",
     "iopub.status.idle": "2022-07-18T16:18:34.612408Z",
     "shell.execute_reply": "2022-07-18T16:18:34.611526Z"
    },
    "papermill": {
     "duration": 0.04301,
     "end_time": "2022-07-18T16:18:34.614685",
     "exception": false,
     "start_time": "2022-07-18T16:18:34.571675",
     "status": "completed"
    },
    "tags": []
   },
   "outputs": [
    {
     "data": {
      "text/html": [
       "<div>\n",
       "<style scoped>\n",
       "    .dataframe tbody tr th:only-of-type {\n",
       "        vertical-align: middle;\n",
       "    }\n",
       "\n",
       "    .dataframe tbody tr th {\n",
       "        vertical-align: top;\n",
       "    }\n",
       "\n",
       "    .dataframe thead th {\n",
       "        text-align: right;\n",
       "    }\n",
       "</style>\n",
       "<table border=\"1\" class=\"dataframe\">\n",
       "  <thead>\n",
       "    <tr style=\"text-align: right;\">\n",
       "      <th></th>\n",
       "      <th>V1</th>\n",
       "      <th>V2</th>\n",
       "      <th>V3</th>\n",
       "    </tr>\n",
       "  </thead>\n",
       "  <tbody>\n",
       "    <tr>\n",
       "      <th>0</th>\n",
       "      <td>1.0</td>\n",
       "      <td>7.0</td>\n",
       "      <td>6.0</td>\n",
       "    </tr>\n",
       "    <tr>\n",
       "      <th>1</th>\n",
       "      <td>3.0</td>\n",
       "      <td>7.0</td>\n",
       "      <td>12.0</td>\n",
       "    </tr>\n",
       "    <tr>\n",
       "      <th>2</th>\n",
       "      <td>6.0</td>\n",
       "      <td>5.0</td>\n",
       "      <td>5.0</td>\n",
       "    </tr>\n",
       "    <tr>\n",
       "      <th>3</th>\n",
       "      <td>5.0</td>\n",
       "      <td>8.0</td>\n",
       "      <td>6.0</td>\n",
       "    </tr>\n",
       "    <tr>\n",
       "      <th>4</th>\n",
       "      <td>7.0</td>\n",
       "      <td>12.0</td>\n",
       "      <td>14.0</td>\n",
       "    </tr>\n",
       "  </tbody>\n",
       "</table>\n",
       "</div>"
      ],
      "text/plain": [
       "    V1    V2    V3\n",
       "0  1.0   7.0   6.0\n",
       "1  3.0   7.0  12.0\n",
       "2  6.0   5.0   5.0\n",
       "3  5.0   8.0   6.0\n",
       "4  7.0  12.0  14.0"
      ]
     },
     "execution_count": 38,
     "metadata": {},
     "output_type": "execute_result"
    }
   ],
   "source": [
    "df"
   ]
  },
  {
   "cell_type": "code",
   "execution_count": 39,
   "id": "11aa8afb",
   "metadata": {
    "execution": {
     "iopub.execute_input": "2022-07-18T16:18:34.676566Z",
     "iopub.status.busy": "2022-07-18T16:18:34.675717Z",
     "iopub.status.idle": "2022-07-18T16:18:34.684920Z",
     "shell.execute_reply": "2022-07-18T16:18:34.683918Z"
    },
    "papermill": {
     "duration": 0.042383,
     "end_time": "2022-07-18T16:18:34.687157",
     "exception": false,
     "start_time": "2022-07-18T16:18:34.644774",
     "status": "completed"
    },
    "tags": []
   },
   "outputs": [
    {
     "data": {
      "text/plain": [
       "V1    4.4\n",
       "V2    7.8\n",
       "V3    8.6\n",
       "dtype: float64"
      ]
     },
     "execution_count": 39,
     "metadata": {},
     "output_type": "execute_result"
    }
   ],
   "source": [
    "df.mean()"
   ]
  },
  {
   "cell_type": "markdown",
   "id": "28296712",
   "metadata": {
    "papermill": {
     "duration": 0.027951,
     "end_time": "2022-07-18T16:18:34.743107",
     "exception": false,
     "start_time": "2022-07-18T16:18:34.715156",
     "status": "completed"
    },
    "tags": []
   },
   "source": [
    "## preprocessing.normalize(df)Normalizasyon"
   ]
  },
  {
   "cell_type": "code",
   "execution_count": 40,
   "id": "18e1f489",
   "metadata": {
    "execution": {
     "iopub.execute_input": "2022-07-18T16:18:34.800837Z",
     "iopub.status.busy": "2022-07-18T16:18:34.800417Z",
     "iopub.status.idle": "2022-07-18T16:18:34.809031Z",
     "shell.execute_reply": "2022-07-18T16:18:34.808125Z"
    },
    "papermill": {
     "duration": 0.039718,
     "end_time": "2022-07-18T16:18:34.811215",
     "exception": false,
     "start_time": "2022-07-18T16:18:34.771497",
     "status": "completed"
    },
    "tags": []
   },
   "outputs": [
    {
     "data": {
      "text/plain": [
       "array([[0.10783277, 0.75482941, 0.64699664],\n",
       "       [0.21107926, 0.49251828, 0.84431705],\n",
       "       [0.64699664, 0.53916387, 0.53916387],\n",
       "       [0.4472136 , 0.71554175, 0.53665631],\n",
       "       [0.35491409, 0.60842415, 0.70982818]])"
      ]
     },
     "execution_count": 40,
     "metadata": {},
     "output_type": "execute_result"
    }
   ],
   "source": [
    "# Normalizasyon Islemi Degerleri 0 Ile 1 Arasina Donusturmek Icin Kullanilir\n",
    "\n",
    "preprocessing.normalize(df)"
   ]
  },
  {
   "cell_type": "markdown",
   "id": "29b19df8",
   "metadata": {
    "papermill": {
     "duration": 0.027444,
     "end_time": "2022-07-18T16:18:34.867189",
     "exception": false,
     "start_time": "2022-07-18T16:18:34.839745",
     "status": "completed"
    },
    "tags": []
   },
   "source": [
    "## Min-Max Dönüşümü"
   ]
  },
  {
   "cell_type": "code",
   "execution_count": 41,
   "id": "5ac1a959",
   "metadata": {
    "execution": {
     "iopub.execute_input": "2022-07-18T16:18:34.925089Z",
     "iopub.status.busy": "2022-07-18T16:18:34.923582Z",
     "iopub.status.idle": "2022-07-18T16:18:34.929349Z",
     "shell.execute_reply": "2022-07-18T16:18:34.928738Z"
    },
    "papermill": {
     "duration": 0.036803,
     "end_time": "2022-07-18T16:18:34.931655",
     "exception": false,
     "start_time": "2022-07-18T16:18:34.894852",
     "status": "completed"
    },
    "tags": []
   },
   "outputs": [],
   "source": [
    "# Istemis Oldugumuz Iki Tane ( Deger )Araligin Arasina Degerleri Donusturmek Istersek Bu Yontem Kullanilir\n",
    "\n",
    "scaler = preprocessing.MinMaxScaler(feature_range = (100,200)) # Simdi Bunu Bir Nesne Olarak Olusturdu ( Assagidaki Kisimda Da Goruntuleyebiliyoruz ) ( Bu Bir Donusturme Islemidir )"
   ]
  },
  {
   "cell_type": "code",
   "execution_count": 42,
   "id": "8eb2c265",
   "metadata": {
    "execution": {
     "iopub.execute_input": "2022-07-18T16:18:34.989959Z",
     "iopub.status.busy": "2022-07-18T16:18:34.989465Z",
     "iopub.status.idle": "2022-07-18T16:18:34.998148Z",
     "shell.execute_reply": "2022-07-18T16:18:34.997249Z"
    },
    "papermill": {
     "duration": 0.040541,
     "end_time": "2022-07-18T16:18:35.000210",
     "exception": false,
     "start_time": "2022-07-18T16:18:34.959669",
     "status": "completed"
    },
    "tags": []
   },
   "outputs": [
    {
     "data": {
      "text/plain": [
       "array([[100.        , 128.57142857, 111.11111111],\n",
       "       [133.33333333, 128.57142857, 177.77777778],\n",
       "       [183.33333333, 100.        , 100.        ],\n",
       "       [166.66666667, 142.85714286, 111.11111111],\n",
       "       [200.        , 200.        , 200.        ]])"
      ]
     },
     "execution_count": 42,
     "metadata": {},
     "output_type": "execute_result"
    }
   ],
   "source": [
    "scaler.fit_transform(df)"
   ]
  },
  {
   "cell_type": "code",
   "execution_count": 43,
   "id": "2ce0a2da",
   "metadata": {
    "execution": {
     "iopub.execute_input": "2022-07-18T16:18:35.057810Z",
     "iopub.status.busy": "2022-07-18T16:18:35.057521Z",
     "iopub.status.idle": "2022-07-18T16:18:35.061953Z",
     "shell.execute_reply": "2022-07-18T16:18:35.060901Z"
    },
    "papermill": {
     "duration": 0.035794,
     "end_time": "2022-07-18T16:18:35.064105",
     "exception": false,
     "start_time": "2022-07-18T16:18:35.028311",
     "status": "completed"
    },
    "tags": []
   },
   "outputs": [],
   "source": [
    "# Baska Bir Ornek;\n",
    "\n",
    "scaler = preprocessing.MinMaxScaler(feature_range = (10,20)) # Araligi Degistirdim"
   ]
  },
  {
   "cell_type": "code",
   "execution_count": 44,
   "id": "050ca354",
   "metadata": {
    "execution": {
     "iopub.execute_input": "2022-07-18T16:18:35.122492Z",
     "iopub.status.busy": "2022-07-18T16:18:35.122158Z",
     "iopub.status.idle": "2022-07-18T16:18:35.132225Z",
     "shell.execute_reply": "2022-07-18T16:18:35.130930Z"
    },
    "papermill": {
     "duration": 0.042784,
     "end_time": "2022-07-18T16:18:35.134861",
     "exception": false,
     "start_time": "2022-07-18T16:18:35.092077",
     "status": "completed"
    },
    "tags": []
   },
   "outputs": [
    {
     "data": {
      "text/plain": [
       "array([[10.        , 12.85714286, 11.11111111],\n",
       "       [13.33333333, 12.85714286, 17.77777778],\n",
       "       [18.33333333, 10.        , 10.        ],\n",
       "       [16.66666667, 14.28571429, 11.11111111],\n",
       "       [20.        , 20.        , 20.        ]])"
      ]
     },
     "execution_count": 44,
     "metadata": {},
     "output_type": "execute_result"
    }
   ],
   "source": [
    "scaler.fit_transform(df)"
   ]
  },
  {
   "cell_type": "markdown",
   "id": "7eb8edbe",
   "metadata": {
    "papermill": {
     "duration": 0.026491,
     "end_time": "2022-07-18T16:18:35.189840",
     "exception": false,
     "start_time": "2022-07-18T16:18:35.163349",
     "status": "completed"
    },
    "tags": []
   },
   "source": [
    "## Değişken Dönüşümleri"
   ]
  },
  {
   "cell_type": "code",
   "execution_count": 45,
   "id": "d63b7698",
   "metadata": {
    "execution": {
     "iopub.execute_input": "2022-07-18T16:18:35.249255Z",
     "iopub.status.busy": "2022-07-18T16:18:35.248794Z",
     "iopub.status.idle": "2022-07-18T16:18:35.252746Z",
     "shell.execute_reply": "2022-07-18T16:18:35.252063Z"
    },
    "papermill": {
     "duration": 0.036556,
     "end_time": "2022-07-18T16:18:35.254958",
     "exception": false,
     "start_time": "2022-07-18T16:18:35.218402",
     "status": "completed"
    },
    "tags": []
   },
   "outputs": [],
   "source": [
    "# Herbir Stardardizasyon Zaten Degisken Donusumudur ( Hepsi Bir Donusum Islemi Gibi Dusunulmelidir ) ( Onemli olan Mevzu Mevcut Degiskenin Tasidigi Bilginin Yapisini Bozuyomuyuz?  -  Bozmuyomuyuz? ) ( Bunu Goz Onunde Bulundurmak Lazim )"
   ]
  },
  {
   "cell_type": "code",
   "execution_count": 46,
   "id": "de69d16d",
   "metadata": {
    "execution": {
     "iopub.execute_input": "2022-07-18T16:18:35.314230Z",
     "iopub.status.busy": "2022-07-18T16:18:35.313751Z",
     "iopub.status.idle": "2022-07-18T16:18:36.612612Z",
     "shell.execute_reply": "2022-07-18T16:18:36.610916Z"
    },
    "papermill": {
     "duration": 1.33153,
     "end_time": "2022-07-18T16:18:36.615609",
     "exception": false,
     "start_time": "2022-07-18T16:18:35.284079",
     "status": "completed"
    },
    "tags": []
   },
   "outputs": [
    {
     "data": {
      "text/html": [
       "<div>\n",
       "<style scoped>\n",
       "    .dataframe tbody tr th:only-of-type {\n",
       "        vertical-align: middle;\n",
       "    }\n",
       "\n",
       "    .dataframe tbody tr th {\n",
       "        vertical-align: top;\n",
       "    }\n",
       "\n",
       "    .dataframe thead th {\n",
       "        text-align: right;\n",
       "    }\n",
       "</style>\n",
       "<table border=\"1\" class=\"dataframe\">\n",
       "  <thead>\n",
       "    <tr style=\"text-align: right;\">\n",
       "      <th></th>\n",
       "      <th>total_bill</th>\n",
       "      <th>tip</th>\n",
       "      <th>sex</th>\n",
       "      <th>smoker</th>\n",
       "      <th>day</th>\n",
       "      <th>time</th>\n",
       "      <th>size</th>\n",
       "    </tr>\n",
       "  </thead>\n",
       "  <tbody>\n",
       "    <tr>\n",
       "      <th>0</th>\n",
       "      <td>16.99</td>\n",
       "      <td>1.01</td>\n",
       "      <td>Female</td>\n",
       "      <td>No</td>\n",
       "      <td>Sun</td>\n",
       "      <td>Dinner</td>\n",
       "      <td>2</td>\n",
       "    </tr>\n",
       "    <tr>\n",
       "      <th>1</th>\n",
       "      <td>10.34</td>\n",
       "      <td>1.66</td>\n",
       "      <td>Male</td>\n",
       "      <td>No</td>\n",
       "      <td>Sun</td>\n",
       "      <td>Dinner</td>\n",
       "      <td>3</td>\n",
       "    </tr>\n",
       "    <tr>\n",
       "      <th>2</th>\n",
       "      <td>21.01</td>\n",
       "      <td>3.50</td>\n",
       "      <td>Male</td>\n",
       "      <td>No</td>\n",
       "      <td>Sun</td>\n",
       "      <td>Dinner</td>\n",
       "      <td>3</td>\n",
       "    </tr>\n",
       "    <tr>\n",
       "      <th>3</th>\n",
       "      <td>23.68</td>\n",
       "      <td>3.31</td>\n",
       "      <td>Male</td>\n",
       "      <td>No</td>\n",
       "      <td>Sun</td>\n",
       "      <td>Dinner</td>\n",
       "      <td>2</td>\n",
       "    </tr>\n",
       "    <tr>\n",
       "      <th>4</th>\n",
       "      <td>24.59</td>\n",
       "      <td>3.61</td>\n",
       "      <td>Female</td>\n",
       "      <td>No</td>\n",
       "      <td>Sun</td>\n",
       "      <td>Dinner</td>\n",
       "      <td>4</td>\n",
       "    </tr>\n",
       "  </tbody>\n",
       "</table>\n",
       "</div>"
      ],
      "text/plain": [
       "   total_bill   tip     sex smoker  day    time  size\n",
       "0       16.99  1.01  Female     No  Sun  Dinner     2\n",
       "1       10.34  1.66    Male     No  Sun  Dinner     3\n",
       "2       21.01  3.50    Male     No  Sun  Dinner     3\n",
       "3       23.68  3.31    Male     No  Sun  Dinner     2\n",
       "4       24.59  3.61  Female     No  Sun  Dinner     4"
      ]
     },
     "execution_count": 46,
     "metadata": {},
     "output_type": "execute_result"
    }
   ],
   "source": [
    "# Veri Setimizi Import Ettik\n",
    "\n",
    "df = sns.load_dataset(\"tips\")\n",
    "df.head()"
   ]
  },
  {
   "cell_type": "markdown",
   "id": "7d983c46",
   "metadata": {
    "papermill": {
     "duration": 0.028839,
     "end_time": "2022-07-18T16:18:36.673916",
     "exception": false,
     "start_time": "2022-07-18T16:18:36.645077",
     "status": "completed"
    },
    "tags": []
   },
   "source": [
    "### 0-1 Dönüşümü"
   ]
  },
  {
   "cell_type": "code",
   "execution_count": 47,
   "id": "dfb10681",
   "metadata": {
    "execution": {
     "iopub.execute_input": "2022-07-18T16:18:36.735601Z",
     "iopub.status.busy": "2022-07-18T16:18:36.735250Z",
     "iopub.status.idle": "2022-07-18T16:18:36.739837Z",
     "shell.execute_reply": "2022-07-18T16:18:36.738674Z"
    },
    "papermill": {
     "duration": 0.039192,
     "end_time": "2022-07-18T16:18:36.742027",
     "exception": false,
     "start_time": "2022-07-18T16:18:36.702835",
     "status": "completed"
    },
    "tags": []
   },
   "outputs": [],
   "source": [
    "# Burada Dikkat Edilmesi Gereken Bir Mevzu Var; Hangisine 0 Hangisine 1 Dedigimizi Iyi Bilmemiz Gerekiyor"
   ]
  },
  {
   "cell_type": "code",
   "execution_count": 48,
   "id": "8c80147a",
   "metadata": {
    "execution": {
     "iopub.execute_input": "2022-07-18T16:18:36.806781Z",
     "iopub.status.busy": "2022-07-18T16:18:36.806416Z",
     "iopub.status.idle": "2022-07-18T16:18:36.812057Z",
     "shell.execute_reply": "2022-07-18T16:18:36.810421Z"
    },
    "papermill": {
     "duration": 0.041614,
     "end_time": "2022-07-18T16:18:36.815394",
     "exception": false,
     "start_time": "2022-07-18T16:18:36.773780",
     "status": "completed"
    },
    "tags": []
   },
   "outputs": [],
   "source": [
    "# Ornegin Cinsiyet Degiskenini 0-1 Olarak Donusturucez ( Dunyadaki En Cok Kullanilan Donusum Islemi )\n",
    "\n",
    "from sklearn.preprocessing import LabelEncoder\n",
    "\n",
    "lbe = LabelEncoder() # bir Nesne Olusturuyoruz ( Bunu Bir Donusturucu Gibi Dusunebiliriz )"
   ]
  },
  {
   "cell_type": "code",
   "execution_count": 49,
   "id": "9e4f2292",
   "metadata": {
    "execution": {
     "iopub.execute_input": "2022-07-18T16:18:36.877777Z",
     "iopub.status.busy": "2022-07-18T16:18:36.877457Z",
     "iopub.status.idle": "2022-07-18T16:18:36.885557Z",
     "shell.execute_reply": "2022-07-18T16:18:36.884433Z"
    },
    "papermill": {
     "duration": 0.040804,
     "end_time": "2022-07-18T16:18:36.887954",
     "exception": false,
     "start_time": "2022-07-18T16:18:36.847150",
     "status": "completed"
    },
    "tags": []
   },
   "outputs": [
    {
     "data": {
      "text/plain": [
       "array([0, 1, 1, 1, 0, 1, 1, 1, 1, 1, 1, 0, 1, 1, 0, 1, 0, 1, 0, 1, 1, 0,\n",
       "       0, 1, 1, 1, 1, 1, 1, 0, 1, 1, 0, 0, 1, 1, 1, 0, 1, 1, 1, 1, 1, 1,\n",
       "       1, 1, 1, 1, 1, 1, 1, 0, 0, 1, 1, 1, 1, 0, 1, 1, 1, 1, 1, 1, 1, 1,\n",
       "       0, 0, 1, 1, 1, 0, 0, 0, 0, 1, 1, 1, 1, 1, 1, 1, 0, 1, 1, 0, 1, 1,\n",
       "       1, 1, 1, 1, 0, 0, 0, 1, 1, 1, 1, 1, 0, 0, 0, 0, 0, 1, 1, 1, 1, 0,\n",
       "       1, 0, 1, 1, 0, 0, 1, 0, 0, 0, 1, 0, 1, 1, 0, 0, 1, 0, 0, 1, 1, 0,\n",
       "       0, 0, 0, 0, 0, 0, 1, 0, 0, 1, 1, 0, 0, 0, 0, 0, 1, 1, 1, 1, 1, 1,\n",
       "       1, 0, 1, 0, 0, 1, 1, 1, 0, 1, 0, 1, 1, 1, 0, 0, 1, 1, 1, 1, 1, 1,\n",
       "       1, 1, 0, 1, 1, 1, 1, 1, 1, 1, 0, 1, 0, 1, 1, 0, 1, 1, 1, 1, 1, 0,\n",
       "       0, 1, 1, 0, 0, 0, 1, 0, 1, 1, 1, 0, 1, 1, 1, 0, 0, 0, 1, 1, 1, 0,\n",
       "       1, 0, 1, 0, 1, 0, 0, 1, 1, 0, 1, 1, 1, 1, 1, 1, 1, 1, 0, 1, 0, 1,\n",
       "       1, 0])"
      ]
     },
     "execution_count": 49,
     "metadata": {},
     "output_type": "execute_result"
    }
   ],
   "source": [
    "lbe.fit_transform(df[\"sex\"]) # Veri Setinin Original Halinde Degisme Yoktur ( Assagida Gorulebilir )"
   ]
  },
  {
   "cell_type": "code",
   "execution_count": 50,
   "id": "7609c19f",
   "metadata": {
    "execution": {
     "iopub.execute_input": "2022-07-18T16:18:36.926806Z",
     "iopub.status.busy": "2022-07-18T16:18:36.926269Z",
     "iopub.status.idle": "2022-07-18T16:18:36.951115Z",
     "shell.execute_reply": "2022-07-18T16:18:36.949583Z"
    },
    "papermill": {
     "duration": 0.04676,
     "end_time": "2022-07-18T16:18:36.953103",
     "exception": false,
     "start_time": "2022-07-18T16:18:36.906343",
     "status": "completed"
    },
    "tags": []
   },
   "outputs": [
    {
     "data": {
      "text/html": [
       "<div>\n",
       "<style scoped>\n",
       "    .dataframe tbody tr th:only-of-type {\n",
       "        vertical-align: middle;\n",
       "    }\n",
       "\n",
       "    .dataframe tbody tr th {\n",
       "        vertical-align: top;\n",
       "    }\n",
       "\n",
       "    .dataframe thead th {\n",
       "        text-align: right;\n",
       "    }\n",
       "</style>\n",
       "<table border=\"1\" class=\"dataframe\">\n",
       "  <thead>\n",
       "    <tr style=\"text-align: right;\">\n",
       "      <th></th>\n",
       "      <th>total_bill</th>\n",
       "      <th>tip</th>\n",
       "      <th>sex</th>\n",
       "      <th>smoker</th>\n",
       "      <th>day</th>\n",
       "      <th>time</th>\n",
       "      <th>size</th>\n",
       "    </tr>\n",
       "  </thead>\n",
       "  <tbody>\n",
       "    <tr>\n",
       "      <th>0</th>\n",
       "      <td>16.99</td>\n",
       "      <td>1.01</td>\n",
       "      <td>Female</td>\n",
       "      <td>No</td>\n",
       "      <td>Sun</td>\n",
       "      <td>Dinner</td>\n",
       "      <td>2</td>\n",
       "    </tr>\n",
       "    <tr>\n",
       "      <th>1</th>\n",
       "      <td>10.34</td>\n",
       "      <td>1.66</td>\n",
       "      <td>Male</td>\n",
       "      <td>No</td>\n",
       "      <td>Sun</td>\n",
       "      <td>Dinner</td>\n",
       "      <td>3</td>\n",
       "    </tr>\n",
       "    <tr>\n",
       "      <th>2</th>\n",
       "      <td>21.01</td>\n",
       "      <td>3.50</td>\n",
       "      <td>Male</td>\n",
       "      <td>No</td>\n",
       "      <td>Sun</td>\n",
       "      <td>Dinner</td>\n",
       "      <td>3</td>\n",
       "    </tr>\n",
       "    <tr>\n",
       "      <th>3</th>\n",
       "      <td>23.68</td>\n",
       "      <td>3.31</td>\n",
       "      <td>Male</td>\n",
       "      <td>No</td>\n",
       "      <td>Sun</td>\n",
       "      <td>Dinner</td>\n",
       "      <td>2</td>\n",
       "    </tr>\n",
       "    <tr>\n",
       "      <th>4</th>\n",
       "      <td>24.59</td>\n",
       "      <td>3.61</td>\n",
       "      <td>Female</td>\n",
       "      <td>No</td>\n",
       "      <td>Sun</td>\n",
       "      <td>Dinner</td>\n",
       "      <td>4</td>\n",
       "    </tr>\n",
       "    <tr>\n",
       "      <th>...</th>\n",
       "      <td>...</td>\n",
       "      <td>...</td>\n",
       "      <td>...</td>\n",
       "      <td>...</td>\n",
       "      <td>...</td>\n",
       "      <td>...</td>\n",
       "      <td>...</td>\n",
       "    </tr>\n",
       "    <tr>\n",
       "      <th>239</th>\n",
       "      <td>29.03</td>\n",
       "      <td>5.92</td>\n",
       "      <td>Male</td>\n",
       "      <td>No</td>\n",
       "      <td>Sat</td>\n",
       "      <td>Dinner</td>\n",
       "      <td>3</td>\n",
       "    </tr>\n",
       "    <tr>\n",
       "      <th>240</th>\n",
       "      <td>27.18</td>\n",
       "      <td>2.00</td>\n",
       "      <td>Female</td>\n",
       "      <td>Yes</td>\n",
       "      <td>Sat</td>\n",
       "      <td>Dinner</td>\n",
       "      <td>2</td>\n",
       "    </tr>\n",
       "    <tr>\n",
       "      <th>241</th>\n",
       "      <td>22.67</td>\n",
       "      <td>2.00</td>\n",
       "      <td>Male</td>\n",
       "      <td>Yes</td>\n",
       "      <td>Sat</td>\n",
       "      <td>Dinner</td>\n",
       "      <td>2</td>\n",
       "    </tr>\n",
       "    <tr>\n",
       "      <th>242</th>\n",
       "      <td>17.82</td>\n",
       "      <td>1.75</td>\n",
       "      <td>Male</td>\n",
       "      <td>No</td>\n",
       "      <td>Sat</td>\n",
       "      <td>Dinner</td>\n",
       "      <td>2</td>\n",
       "    </tr>\n",
       "    <tr>\n",
       "      <th>243</th>\n",
       "      <td>18.78</td>\n",
       "      <td>3.00</td>\n",
       "      <td>Female</td>\n",
       "      <td>No</td>\n",
       "      <td>Thur</td>\n",
       "      <td>Dinner</td>\n",
       "      <td>2</td>\n",
       "    </tr>\n",
       "  </tbody>\n",
       "</table>\n",
       "<p>244 rows × 7 columns</p>\n",
       "</div>"
      ],
      "text/plain": [
       "     total_bill   tip     sex smoker   day    time  size\n",
       "0         16.99  1.01  Female     No   Sun  Dinner     2\n",
       "1         10.34  1.66    Male     No   Sun  Dinner     3\n",
       "2         21.01  3.50    Male     No   Sun  Dinner     3\n",
       "3         23.68  3.31    Male     No   Sun  Dinner     2\n",
       "4         24.59  3.61  Female     No   Sun  Dinner     4\n",
       "..          ...   ...     ...    ...   ...     ...   ...\n",
       "239       29.03  5.92    Male     No   Sat  Dinner     3\n",
       "240       27.18  2.00  Female    Yes   Sat  Dinner     2\n",
       "241       22.67  2.00    Male    Yes   Sat  Dinner     2\n",
       "242       17.82  1.75    Male     No   Sat  Dinner     2\n",
       "243       18.78  3.00  Female     No  Thur  Dinner     2\n",
       "\n",
       "[244 rows x 7 columns]"
      ]
     },
     "execution_count": 50,
     "metadata": {},
     "output_type": "execute_result"
    }
   ],
   "source": [
    "df # Degisim Yok Oldugu Gozlenebilir"
   ]
  },
  {
   "cell_type": "code",
   "execution_count": 51,
   "id": "668e2cdf",
   "metadata": {
    "execution": {
     "iopub.execute_input": "2022-07-18T16:18:36.992497Z",
     "iopub.status.busy": "2022-07-18T16:18:36.992159Z",
     "iopub.status.idle": "2022-07-18T16:18:36.998717Z",
     "shell.execute_reply": "2022-07-18T16:18:36.997584Z"
    },
    "papermill": {
     "duration": 0.028727,
     "end_time": "2022-07-18T16:18:37.000913",
     "exception": false,
     "start_time": "2022-07-18T16:18:36.972186",
     "status": "completed"
    },
    "tags": []
   },
   "outputs": [],
   "source": [
    "df[\"yeni_sex\"] = lbe.fit_transform(df[\"sex\"]) # Yeni Bir Degiskene Atayabiliriz ( Tavsiye Edilir )"
   ]
  },
  {
   "cell_type": "code",
   "execution_count": 52,
   "id": "18e8e151",
   "metadata": {
    "execution": {
     "iopub.execute_input": "2022-07-18T16:18:37.040472Z",
     "iopub.status.busy": "2022-07-18T16:18:37.040092Z",
     "iopub.status.idle": "2022-07-18T16:18:37.061888Z",
     "shell.execute_reply": "2022-07-18T16:18:37.061046Z"
    },
    "papermill": {
     "duration": 0.043884,
     "end_time": "2022-07-18T16:18:37.063641",
     "exception": false,
     "start_time": "2022-07-18T16:18:37.019757",
     "status": "completed"
    },
    "tags": []
   },
   "outputs": [
    {
     "data": {
      "text/html": [
       "<div>\n",
       "<style scoped>\n",
       "    .dataframe tbody tr th:only-of-type {\n",
       "        vertical-align: middle;\n",
       "    }\n",
       "\n",
       "    .dataframe tbody tr th {\n",
       "        vertical-align: top;\n",
       "    }\n",
       "\n",
       "    .dataframe thead th {\n",
       "        text-align: right;\n",
       "    }\n",
       "</style>\n",
       "<table border=\"1\" class=\"dataframe\">\n",
       "  <thead>\n",
       "    <tr style=\"text-align: right;\">\n",
       "      <th></th>\n",
       "      <th>total_bill</th>\n",
       "      <th>tip</th>\n",
       "      <th>sex</th>\n",
       "      <th>smoker</th>\n",
       "      <th>day</th>\n",
       "      <th>time</th>\n",
       "      <th>size</th>\n",
       "      <th>yeni_sex</th>\n",
       "    </tr>\n",
       "  </thead>\n",
       "  <tbody>\n",
       "    <tr>\n",
       "      <th>0</th>\n",
       "      <td>16.99</td>\n",
       "      <td>1.01</td>\n",
       "      <td>Female</td>\n",
       "      <td>No</td>\n",
       "      <td>Sun</td>\n",
       "      <td>Dinner</td>\n",
       "      <td>2</td>\n",
       "      <td>0</td>\n",
       "    </tr>\n",
       "    <tr>\n",
       "      <th>1</th>\n",
       "      <td>10.34</td>\n",
       "      <td>1.66</td>\n",
       "      <td>Male</td>\n",
       "      <td>No</td>\n",
       "      <td>Sun</td>\n",
       "      <td>Dinner</td>\n",
       "      <td>3</td>\n",
       "      <td>1</td>\n",
       "    </tr>\n",
       "    <tr>\n",
       "      <th>2</th>\n",
       "      <td>21.01</td>\n",
       "      <td>3.50</td>\n",
       "      <td>Male</td>\n",
       "      <td>No</td>\n",
       "      <td>Sun</td>\n",
       "      <td>Dinner</td>\n",
       "      <td>3</td>\n",
       "      <td>1</td>\n",
       "    </tr>\n",
       "    <tr>\n",
       "      <th>3</th>\n",
       "      <td>23.68</td>\n",
       "      <td>3.31</td>\n",
       "      <td>Male</td>\n",
       "      <td>No</td>\n",
       "      <td>Sun</td>\n",
       "      <td>Dinner</td>\n",
       "      <td>2</td>\n",
       "      <td>1</td>\n",
       "    </tr>\n",
       "    <tr>\n",
       "      <th>4</th>\n",
       "      <td>24.59</td>\n",
       "      <td>3.61</td>\n",
       "      <td>Female</td>\n",
       "      <td>No</td>\n",
       "      <td>Sun</td>\n",
       "      <td>Dinner</td>\n",
       "      <td>4</td>\n",
       "      <td>0</td>\n",
       "    </tr>\n",
       "    <tr>\n",
       "      <th>...</th>\n",
       "      <td>...</td>\n",
       "      <td>...</td>\n",
       "      <td>...</td>\n",
       "      <td>...</td>\n",
       "      <td>...</td>\n",
       "      <td>...</td>\n",
       "      <td>...</td>\n",
       "      <td>...</td>\n",
       "    </tr>\n",
       "    <tr>\n",
       "      <th>239</th>\n",
       "      <td>29.03</td>\n",
       "      <td>5.92</td>\n",
       "      <td>Male</td>\n",
       "      <td>No</td>\n",
       "      <td>Sat</td>\n",
       "      <td>Dinner</td>\n",
       "      <td>3</td>\n",
       "      <td>1</td>\n",
       "    </tr>\n",
       "    <tr>\n",
       "      <th>240</th>\n",
       "      <td>27.18</td>\n",
       "      <td>2.00</td>\n",
       "      <td>Female</td>\n",
       "      <td>Yes</td>\n",
       "      <td>Sat</td>\n",
       "      <td>Dinner</td>\n",
       "      <td>2</td>\n",
       "      <td>0</td>\n",
       "    </tr>\n",
       "    <tr>\n",
       "      <th>241</th>\n",
       "      <td>22.67</td>\n",
       "      <td>2.00</td>\n",
       "      <td>Male</td>\n",
       "      <td>Yes</td>\n",
       "      <td>Sat</td>\n",
       "      <td>Dinner</td>\n",
       "      <td>2</td>\n",
       "      <td>1</td>\n",
       "    </tr>\n",
       "    <tr>\n",
       "      <th>242</th>\n",
       "      <td>17.82</td>\n",
       "      <td>1.75</td>\n",
       "      <td>Male</td>\n",
       "      <td>No</td>\n",
       "      <td>Sat</td>\n",
       "      <td>Dinner</td>\n",
       "      <td>2</td>\n",
       "      <td>1</td>\n",
       "    </tr>\n",
       "    <tr>\n",
       "      <th>243</th>\n",
       "      <td>18.78</td>\n",
       "      <td>3.00</td>\n",
       "      <td>Female</td>\n",
       "      <td>No</td>\n",
       "      <td>Thur</td>\n",
       "      <td>Dinner</td>\n",
       "      <td>2</td>\n",
       "      <td>0</td>\n",
       "    </tr>\n",
       "  </tbody>\n",
       "</table>\n",
       "<p>244 rows × 8 columns</p>\n",
       "</div>"
      ],
      "text/plain": [
       "     total_bill   tip     sex smoker   day    time  size  yeni_sex\n",
       "0         16.99  1.01  Female     No   Sun  Dinner     2         0\n",
       "1         10.34  1.66    Male     No   Sun  Dinner     3         1\n",
       "2         21.01  3.50    Male     No   Sun  Dinner     3         1\n",
       "3         23.68  3.31    Male     No   Sun  Dinner     2         1\n",
       "4         24.59  3.61  Female     No   Sun  Dinner     4         0\n",
       "..          ...   ...     ...    ...   ...     ...   ...       ...\n",
       "239       29.03  5.92    Male     No   Sat  Dinner     3         1\n",
       "240       27.18  2.00  Female    Yes   Sat  Dinner     2         0\n",
       "241       22.67  2.00    Male    Yes   Sat  Dinner     2         1\n",
       "242       17.82  1.75    Male     No   Sat  Dinner     2         1\n",
       "243       18.78  3.00  Female     No  Thur  Dinner     2         0\n",
       "\n",
       "[244 rows x 8 columns]"
      ]
     },
     "execution_count": 52,
     "metadata": {},
     "output_type": "execute_result"
    }
   ],
   "source": [
    "df # Yeni Halini Burada Gorebiliriz"
   ]
  },
  {
   "cell_type": "markdown",
   "id": "ba42b101",
   "metadata": {
    "papermill": {
     "duration": 0.018347,
     "end_time": "2022-07-18T16:18:37.100870",
     "exception": false,
     "start_time": "2022-07-18T16:18:37.082523",
     "status": "completed"
    },
    "tags": []
   },
   "source": [
    "### \"1 ve Diğerleri (0) \" Dönüşümü"
   ]
  },
  {
   "cell_type": "code",
   "execution_count": 53,
   "id": "a46e93b2",
   "metadata": {
    "execution": {
     "iopub.execute_input": "2022-07-18T16:18:37.141547Z",
     "iopub.status.busy": "2022-07-18T16:18:37.140861Z",
     "iopub.status.idle": "2022-07-18T16:18:37.144934Z",
     "shell.execute_reply": "2022-07-18T16:18:37.143947Z"
    },
    "papermill": {
     "duration": 0.027185,
     "end_time": "2022-07-18T16:18:37.147267",
     "exception": false,
     "start_time": "2022-07-18T16:18:37.120082",
     "status": "completed"
    },
    "tags": []
   },
   "outputs": [],
   "source": [
    "# \"time\" yada \"day\" degiskenleri Icin Kullanilabilir"
   ]
  },
  {
   "cell_type": "code",
   "execution_count": 54,
   "id": "e3e90909",
   "metadata": {
    "execution": {
     "iopub.execute_input": "2022-07-18T16:18:37.187825Z",
     "iopub.status.busy": "2022-07-18T16:18:37.187169Z",
     "iopub.status.idle": "2022-07-18T16:18:37.203578Z",
     "shell.execute_reply": "2022-07-18T16:18:37.201980Z"
    },
    "papermill": {
     "duration": 0.039053,
     "end_time": "2022-07-18T16:18:37.205962",
     "exception": false,
     "start_time": "2022-07-18T16:18:37.166909",
     "status": "completed"
    },
    "tags": []
   },
   "outputs": [
    {
     "data": {
      "text/html": [
       "<div>\n",
       "<style scoped>\n",
       "    .dataframe tbody tr th:only-of-type {\n",
       "        vertical-align: middle;\n",
       "    }\n",
       "\n",
       "    .dataframe tbody tr th {\n",
       "        vertical-align: top;\n",
       "    }\n",
       "\n",
       "    .dataframe thead th {\n",
       "        text-align: right;\n",
       "    }\n",
       "</style>\n",
       "<table border=\"1\" class=\"dataframe\">\n",
       "  <thead>\n",
       "    <tr style=\"text-align: right;\">\n",
       "      <th></th>\n",
       "      <th>total_bill</th>\n",
       "      <th>tip</th>\n",
       "      <th>sex</th>\n",
       "      <th>smoker</th>\n",
       "      <th>day</th>\n",
       "      <th>time</th>\n",
       "      <th>size</th>\n",
       "      <th>yeni_sex</th>\n",
       "    </tr>\n",
       "  </thead>\n",
       "  <tbody>\n",
       "    <tr>\n",
       "      <th>0</th>\n",
       "      <td>16.99</td>\n",
       "      <td>1.01</td>\n",
       "      <td>Female</td>\n",
       "      <td>No</td>\n",
       "      <td>Sun</td>\n",
       "      <td>Dinner</td>\n",
       "      <td>2</td>\n",
       "      <td>0</td>\n",
       "    </tr>\n",
       "    <tr>\n",
       "      <th>1</th>\n",
       "      <td>10.34</td>\n",
       "      <td>1.66</td>\n",
       "      <td>Male</td>\n",
       "      <td>No</td>\n",
       "      <td>Sun</td>\n",
       "      <td>Dinner</td>\n",
       "      <td>3</td>\n",
       "      <td>1</td>\n",
       "    </tr>\n",
       "    <tr>\n",
       "      <th>2</th>\n",
       "      <td>21.01</td>\n",
       "      <td>3.50</td>\n",
       "      <td>Male</td>\n",
       "      <td>No</td>\n",
       "      <td>Sun</td>\n",
       "      <td>Dinner</td>\n",
       "      <td>3</td>\n",
       "      <td>1</td>\n",
       "    </tr>\n",
       "    <tr>\n",
       "      <th>3</th>\n",
       "      <td>23.68</td>\n",
       "      <td>3.31</td>\n",
       "      <td>Male</td>\n",
       "      <td>No</td>\n",
       "      <td>Sun</td>\n",
       "      <td>Dinner</td>\n",
       "      <td>2</td>\n",
       "      <td>1</td>\n",
       "    </tr>\n",
       "    <tr>\n",
       "      <th>4</th>\n",
       "      <td>24.59</td>\n",
       "      <td>3.61</td>\n",
       "      <td>Female</td>\n",
       "      <td>No</td>\n",
       "      <td>Sun</td>\n",
       "      <td>Dinner</td>\n",
       "      <td>4</td>\n",
       "      <td>0</td>\n",
       "    </tr>\n",
       "  </tbody>\n",
       "</table>\n",
       "</div>"
      ],
      "text/plain": [
       "   total_bill   tip     sex smoker  day    time  size  yeni_sex\n",
       "0       16.99  1.01  Female     No  Sun  Dinner     2         0\n",
       "1       10.34  1.66    Male     No  Sun  Dinner     3         1\n",
       "2       21.01  3.50    Male     No  Sun  Dinner     3         1\n",
       "3       23.68  3.31    Male     No  Sun  Dinner     2         1\n",
       "4       24.59  3.61  Female     No  Sun  Dinner     4         0"
      ]
     },
     "execution_count": 54,
     "metadata": {},
     "output_type": "execute_result"
    }
   ],
   "source": [
    "df.head()"
   ]
  },
  {
   "cell_type": "code",
   "execution_count": 55,
   "id": "1bf509b6",
   "metadata": {
    "execution": {
     "iopub.execute_input": "2022-07-18T16:18:37.267680Z",
     "iopub.status.busy": "2022-07-18T16:18:37.266867Z",
     "iopub.status.idle": "2022-07-18T16:18:37.279410Z",
     "shell.execute_reply": "2022-07-18T16:18:37.278425Z"
    },
    "papermill": {
     "duration": 0.045542,
     "end_time": "2022-07-18T16:18:37.281602",
     "exception": false,
     "start_time": "2022-07-18T16:18:37.236060",
     "status": "completed"
    },
    "tags": []
   },
   "outputs": [
    {
     "data": {
      "text/plain": [
       "0       True\n",
       "1       True\n",
       "2       True\n",
       "3       True\n",
       "4       True\n",
       "       ...  \n",
       "239    False\n",
       "240    False\n",
       "241    False\n",
       "242    False\n",
       "243    False\n",
       "Name: day, Length: 244, dtype: bool"
      ]
     },
     "execution_count": 55,
     "metadata": {},
     "output_type": "execute_result"
    }
   ],
   "source": [
    "df[\"day\"].str.contains(\"Sun\")"
   ]
  },
  {
   "cell_type": "code",
   "execution_count": 56,
   "id": "a5b63a87",
   "metadata": {
    "execution": {
     "iopub.execute_input": "2022-07-18T16:18:37.343657Z",
     "iopub.status.busy": "2022-07-18T16:18:37.343159Z",
     "iopub.status.idle": "2022-07-18T16:18:37.349475Z",
     "shell.execute_reply": "2022-07-18T16:18:37.347899Z"
    },
    "papermill": {
     "duration": 0.04016,
     "end_time": "2022-07-18T16:18:37.352465",
     "exception": false,
     "start_time": "2022-07-18T16:18:37.312305",
     "status": "completed"
    },
    "tags": []
   },
   "outputs": [],
   "source": [
    "# import numpy as np\n",
    "\n",
    "# np.where ---->> Bir Kosul Calistirmak Icin Kullanacak Oldugumuz Fonksiyon\n",
    "# df[\"day\"].str ----->> df in Icerisindeki day Degiskenini String Degeri Olarak Degerlendir\n",
    "# contains(\"Sun\") ------->> Eger Bu String Ifadenin Icerisinde \"Sun\" ( Sunday ) Ifadesi Varsa 1 De, Digerlerine 0 De ------>> contains ----->> ( Sorgulama Icin Kullanilir )\n",
    "\n",
    "df[\"yeni_day\"] = np.where(df[\"day\"].str.contains(\"Sun\"), 1, 0)"
   ]
  },
  {
   "cell_type": "code",
   "execution_count": 57,
   "id": "3f41bd4b",
   "metadata": {
    "execution": {
     "iopub.execute_input": "2022-07-18T16:18:37.413663Z",
     "iopub.status.busy": "2022-07-18T16:18:37.413260Z",
     "iopub.status.idle": "2022-07-18T16:18:37.432637Z",
     "shell.execute_reply": "2022-07-18T16:18:37.431429Z"
    },
    "papermill": {
     "duration": 0.052935,
     "end_time": "2022-07-18T16:18:37.435017",
     "exception": false,
     "start_time": "2022-07-18T16:18:37.382082",
     "status": "completed"
    },
    "tags": []
   },
   "outputs": [
    {
     "data": {
      "text/html": [
       "<div>\n",
       "<style scoped>\n",
       "    .dataframe tbody tr th:only-of-type {\n",
       "        vertical-align: middle;\n",
       "    }\n",
       "\n",
       "    .dataframe tbody tr th {\n",
       "        vertical-align: top;\n",
       "    }\n",
       "\n",
       "    .dataframe thead th {\n",
       "        text-align: right;\n",
       "    }\n",
       "</style>\n",
       "<table border=\"1\" class=\"dataframe\">\n",
       "  <thead>\n",
       "    <tr style=\"text-align: right;\">\n",
       "      <th></th>\n",
       "      <th>total_bill</th>\n",
       "      <th>tip</th>\n",
       "      <th>sex</th>\n",
       "      <th>smoker</th>\n",
       "      <th>day</th>\n",
       "      <th>time</th>\n",
       "      <th>size</th>\n",
       "      <th>yeni_sex</th>\n",
       "      <th>yeni_day</th>\n",
       "    </tr>\n",
       "  </thead>\n",
       "  <tbody>\n",
       "    <tr>\n",
       "      <th>0</th>\n",
       "      <td>16.99</td>\n",
       "      <td>1.01</td>\n",
       "      <td>Female</td>\n",
       "      <td>No</td>\n",
       "      <td>Sun</td>\n",
       "      <td>Dinner</td>\n",
       "      <td>2</td>\n",
       "      <td>0</td>\n",
       "      <td>1</td>\n",
       "    </tr>\n",
       "    <tr>\n",
       "      <th>1</th>\n",
       "      <td>10.34</td>\n",
       "      <td>1.66</td>\n",
       "      <td>Male</td>\n",
       "      <td>No</td>\n",
       "      <td>Sun</td>\n",
       "      <td>Dinner</td>\n",
       "      <td>3</td>\n",
       "      <td>1</td>\n",
       "      <td>1</td>\n",
       "    </tr>\n",
       "    <tr>\n",
       "      <th>2</th>\n",
       "      <td>21.01</td>\n",
       "      <td>3.50</td>\n",
       "      <td>Male</td>\n",
       "      <td>No</td>\n",
       "      <td>Sun</td>\n",
       "      <td>Dinner</td>\n",
       "      <td>3</td>\n",
       "      <td>1</td>\n",
       "      <td>1</td>\n",
       "    </tr>\n",
       "    <tr>\n",
       "      <th>3</th>\n",
       "      <td>23.68</td>\n",
       "      <td>3.31</td>\n",
       "      <td>Male</td>\n",
       "      <td>No</td>\n",
       "      <td>Sun</td>\n",
       "      <td>Dinner</td>\n",
       "      <td>2</td>\n",
       "      <td>1</td>\n",
       "      <td>1</td>\n",
       "    </tr>\n",
       "    <tr>\n",
       "      <th>4</th>\n",
       "      <td>24.59</td>\n",
       "      <td>3.61</td>\n",
       "      <td>Female</td>\n",
       "      <td>No</td>\n",
       "      <td>Sun</td>\n",
       "      <td>Dinner</td>\n",
       "      <td>4</td>\n",
       "      <td>0</td>\n",
       "      <td>1</td>\n",
       "    </tr>\n",
       "    <tr>\n",
       "      <th>...</th>\n",
       "      <td>...</td>\n",
       "      <td>...</td>\n",
       "      <td>...</td>\n",
       "      <td>...</td>\n",
       "      <td>...</td>\n",
       "      <td>...</td>\n",
       "      <td>...</td>\n",
       "      <td>...</td>\n",
       "      <td>...</td>\n",
       "    </tr>\n",
       "    <tr>\n",
       "      <th>239</th>\n",
       "      <td>29.03</td>\n",
       "      <td>5.92</td>\n",
       "      <td>Male</td>\n",
       "      <td>No</td>\n",
       "      <td>Sat</td>\n",
       "      <td>Dinner</td>\n",
       "      <td>3</td>\n",
       "      <td>1</td>\n",
       "      <td>0</td>\n",
       "    </tr>\n",
       "    <tr>\n",
       "      <th>240</th>\n",
       "      <td>27.18</td>\n",
       "      <td>2.00</td>\n",
       "      <td>Female</td>\n",
       "      <td>Yes</td>\n",
       "      <td>Sat</td>\n",
       "      <td>Dinner</td>\n",
       "      <td>2</td>\n",
       "      <td>0</td>\n",
       "      <td>0</td>\n",
       "    </tr>\n",
       "    <tr>\n",
       "      <th>241</th>\n",
       "      <td>22.67</td>\n",
       "      <td>2.00</td>\n",
       "      <td>Male</td>\n",
       "      <td>Yes</td>\n",
       "      <td>Sat</td>\n",
       "      <td>Dinner</td>\n",
       "      <td>2</td>\n",
       "      <td>1</td>\n",
       "      <td>0</td>\n",
       "    </tr>\n",
       "    <tr>\n",
       "      <th>242</th>\n",
       "      <td>17.82</td>\n",
       "      <td>1.75</td>\n",
       "      <td>Male</td>\n",
       "      <td>No</td>\n",
       "      <td>Sat</td>\n",
       "      <td>Dinner</td>\n",
       "      <td>2</td>\n",
       "      <td>1</td>\n",
       "      <td>0</td>\n",
       "    </tr>\n",
       "    <tr>\n",
       "      <th>243</th>\n",
       "      <td>18.78</td>\n",
       "      <td>3.00</td>\n",
       "      <td>Female</td>\n",
       "      <td>No</td>\n",
       "      <td>Thur</td>\n",
       "      <td>Dinner</td>\n",
       "      <td>2</td>\n",
       "      <td>0</td>\n",
       "      <td>0</td>\n",
       "    </tr>\n",
       "  </tbody>\n",
       "</table>\n",
       "<p>244 rows × 9 columns</p>\n",
       "</div>"
      ],
      "text/plain": [
       "     total_bill   tip     sex smoker   day    time  size  yeni_sex  yeni_day\n",
       "0         16.99  1.01  Female     No   Sun  Dinner     2         0         1\n",
       "1         10.34  1.66    Male     No   Sun  Dinner     3         1         1\n",
       "2         21.01  3.50    Male     No   Sun  Dinner     3         1         1\n",
       "3         23.68  3.31    Male     No   Sun  Dinner     2         1         1\n",
       "4         24.59  3.61  Female     No   Sun  Dinner     4         0         1\n",
       "..          ...   ...     ...    ...   ...     ...   ...       ...       ...\n",
       "239       29.03  5.92    Male     No   Sat  Dinner     3         1         0\n",
       "240       27.18  2.00  Female    Yes   Sat  Dinner     2         0         0\n",
       "241       22.67  2.00    Male    Yes   Sat  Dinner     2         1         0\n",
       "242       17.82  1.75    Male     No   Sat  Dinner     2         1         0\n",
       "243       18.78  3.00  Female     No  Thur  Dinner     2         0         0\n",
       "\n",
       "[244 rows x 9 columns]"
      ]
     },
     "execution_count": 57,
     "metadata": {},
     "output_type": "execute_result"
    }
   ],
   "source": [
    "df # Buradaki Sun ( Sunday ) Olan Degerlerin Hepsine 1 Degeri Koymus Onun Disindaki Turm Degerlere 0 Degeri Koymus"
   ]
  },
  {
   "cell_type": "markdown",
   "id": "695383e8",
   "metadata": {
    "papermill": {
     "duration": 0.018333,
     "end_time": "2022-07-18T16:18:37.472168",
     "exception": false,
     "start_time": "2022-07-18T16:18:37.453835",
     "status": "completed"
    },
    "tags": []
   },
   "source": [
    "### Çok Sınıflı Dönüşüm"
   ]
  },
  {
   "cell_type": "code",
   "execution_count": 58,
   "id": "18b019aa",
   "metadata": {
    "execution": {
     "iopub.execute_input": "2022-07-18T16:18:37.512566Z",
     "iopub.status.busy": "2022-07-18T16:18:37.512141Z",
     "iopub.status.idle": "2022-07-18T16:18:37.517421Z",
     "shell.execute_reply": "2022-07-18T16:18:37.516126Z"
    },
    "papermill": {
     "duration": 0.027803,
     "end_time": "2022-07-18T16:18:37.519645",
     "exception": false,
     "start_time": "2022-07-18T16:18:37.491842",
     "status": "completed"
    },
    "tags": []
   },
   "outputs": [],
   "source": [
    "# Digerlerinde Oldugu Gibi Bir Kategorik Degiskenin Siniflari Sayilara Donusturulur\n",
    "\n",
    "from sklearn.preprocessing import LabelEncoder\n",
    "lbe = LabelEncoder()"
   ]
  },
  {
   "cell_type": "code",
   "execution_count": 59,
   "id": "3d2c01cd",
   "metadata": {
    "execution": {
     "iopub.execute_input": "2022-07-18T16:18:37.572788Z",
     "iopub.status.busy": "2022-07-18T16:18:37.572259Z",
     "iopub.status.idle": "2022-07-18T16:18:37.578761Z",
     "shell.execute_reply": "2022-07-18T16:18:37.578113Z"
    },
    "papermill": {
     "duration": 0.042038,
     "end_time": "2022-07-18T16:18:37.580712",
     "exception": false,
     "start_time": "2022-07-18T16:18:37.538674",
     "status": "completed"
    },
    "tags": []
   },
   "outputs": [
    {
     "data": {
      "text/plain": [
       "array([2, 2, 2, 2, 2, 2, 2, 2, 2, 2, 2, 2, 2, 2, 2, 2, 2, 2, 2, 1, 1, 1,\n",
       "       1, 1, 1, 1, 1, 1, 1, 1, 1, 1, 1, 1, 1, 1, 1, 1, 1, 1, 1, 2, 2, 2,\n",
       "       2, 2, 2, 2, 2, 2, 2, 2, 2, 2, 2, 2, 1, 1, 1, 1, 1, 1, 1, 1, 1, 1,\n",
       "       1, 1, 1, 1, 1, 1, 1, 1, 1, 1, 1, 3, 3, 3, 3, 3, 3, 3, 3, 3, 3, 3,\n",
       "       3, 3, 0, 0, 0, 0, 0, 0, 0, 0, 0, 0, 0, 0, 1, 1, 1, 1, 1, 1, 1, 1,\n",
       "       1, 1, 2, 2, 2, 2, 2, 3, 3, 3, 3, 3, 3, 3, 3, 3, 3, 3, 3, 3, 3, 3,\n",
       "       3, 3, 3, 3, 3, 3, 3, 3, 3, 3, 3, 3, 3, 3, 3, 3, 3, 3, 2, 2, 2, 2,\n",
       "       2, 2, 2, 2, 2, 2, 2, 2, 2, 2, 2, 2, 2, 2, 1, 1, 1, 1, 2, 2, 2, 2,\n",
       "       2, 2, 2, 2, 2, 2, 2, 2, 2, 2, 2, 2, 2, 2, 2, 3, 3, 3, 3, 3, 3, 3,\n",
       "       3, 3, 3, 3, 3, 3, 3, 3, 1, 1, 1, 1, 1, 1, 1, 1, 1, 1, 1, 1, 1, 1,\n",
       "       0, 0, 0, 0, 0, 0, 0, 1, 1, 1, 1, 1, 1, 1, 1, 1, 1, 1, 1, 1, 1, 1,\n",
       "       1, 3])"
      ]
     },
     "execution_count": 59,
     "metadata": {},
     "output_type": "execute_result"
    }
   ],
   "source": [
    "lbe.fit_transform(df[\"day\"]) # 0 Dan Baslayacak Sekilde Kac Tane Sinif Varsa Ona Gore Numaralandirma Yapti"
   ]
  },
  {
   "cell_type": "code",
   "execution_count": 60,
   "id": "196c4f1c",
   "metadata": {
    "execution": {
     "iopub.execute_input": "2022-07-18T16:18:37.646134Z",
     "iopub.status.busy": "2022-07-18T16:18:37.645581Z",
     "iopub.status.idle": "2022-07-18T16:18:37.648842Z",
     "shell.execute_reply": "2022-07-18T16:18:37.648260Z"
    },
    "papermill": {
     "duration": 0.038326,
     "end_time": "2022-07-18T16:18:37.651375",
     "exception": false,
     "start_time": "2022-07-18T16:18:37.613049",
     "status": "completed"
    },
    "tags": []
   },
   "outputs": [],
   "source": [
    "#cok dikkat "
   ]
  },
  {
   "cell_type": "code",
   "execution_count": 61,
   "id": "091531b2",
   "metadata": {
    "execution": {
     "iopub.execute_input": "2022-07-18T16:18:37.715542Z",
     "iopub.status.busy": "2022-07-18T16:18:37.715017Z",
     "iopub.status.idle": "2022-07-18T16:18:37.719842Z",
     "shell.execute_reply": "2022-07-18T16:18:37.719153Z"
    },
    "papermill": {
     "duration": 0.040274,
     "end_time": "2022-07-18T16:18:37.722410",
     "exception": false,
     "start_time": "2022-07-18T16:18:37.682136",
     "status": "completed"
    },
    "tags": []
   },
   "outputs": [],
   "source": [
    "# Simdi çok DIKKAT eğer elinizdeki kategorik değişkenin ikiden fazla sınıfı varsa ve fonksiyonların bizden beklentisi doğrultusunda bu kategorik degiskeni Bu Sekilde nümerik bir formata çevirmek istiyorsak ve neticesinde Bu Sekilde \n",
    "# Cevirme Islemi Yaptiysak\n",
    "# Burasi Cok hassas Bir Nokta \n",
    "# çünkü eğer elimizdeki bir değişkenin bu şekilde bir numerik değerleri dönüştürürde Bu Sekilde algoritmalara gönderirsek bu artık bunu sıfırla 3 arasındaki değerlerden oluşan bir değişken olarak tanımlayacak yani aslına bakarsanız\n",
    "# bu dönüşüm algoritmaların kafasını karıştıracak de kategorik değişkenler sınıflarının bağımlı değişkeni olan etkileri bozulacaktır neden bozulmaktadır çünkü burada sınıflar numerik değerleri dönüştü işte bazıları bir bazıları üç vs\n",
    "# şeklinde yani normalde Bir Kategorik Degiskenin Nominal Ölçek türü ile ölçülmüş olan durumu yani sınıflar arasındaki mesafesi eşit olan durumu bir anda Bi Donusum Islemi Ile bozulup sanki aralarında fark varmışçasına bir sıralama\n",
    "# işlemine Tutulmuş oldu Bakin Tekrar Altini Ciziyorum Bir Kategorik Degiskenin 4-5-6-10 sınıfı olduğunu düşünelim sınıfların arası eşitti hatırlayın Verş okuryazarlığı bölümlerinden şimdi biz bunu böyle bir dönüşme tabi tuttuğumuz da\n",
    "# bu yapıyı bozuyoruz Değilmi? mesela 0 Ile 10 arası olsun Degerler 0 dan 10'a doğru gittikçe sanki bu değerler artıyormuş gibi gözüküyor yani 8 daha büyükmüş gibi gözüküyor halbuki bu nominal Olcek Turu Ile Olculmus bir kategorik\n",
    "# degiskendi işte bu sebeple bu tip çok sınıflı kategorik değişkenleri fonksiyonların beklentileri ya da işimiz doğrultusunda bir dönüştürme işlemine nümerik Olarak soktuğumuzda bu bir çok probleme sebep olabilmektedir yanlılıklara\n",
    "# ve hatalı çıkarımlara,gürültüye sebep olabilmektedir ve algoritmaları şaşırtmaktadır aldatmaktadır peki bu durumda ne yapacağız bu durumda \"One-Hot encoding\" yani \"One-Hot dönüşümü\" yapmış olacağız"
   ]
  },
  {
   "cell_type": "markdown",
   "id": "cfaabcee",
   "metadata": {
    "papermill": {
     "duration": 0.032785,
     "end_time": "2022-07-18T16:18:37.788026",
     "exception": false,
     "start_time": "2022-07-18T16:18:37.755241",
     "status": "completed"
    },
    "tags": []
   },
   "source": [
    "### One-Hot Dönüşümü ve Dummy Değişken Tuzağı"
   ]
  },
  {
   "cell_type": "code",
   "execution_count": 62,
   "id": "ac85409b",
   "metadata": {
    "execution": {
     "iopub.execute_input": "2022-07-18T16:18:37.852716Z",
     "iopub.status.busy": "2022-07-18T16:18:37.852401Z",
     "iopub.status.idle": "2022-07-18T16:18:37.855760Z",
     "shell.execute_reply": "2022-07-18T16:18:37.854816Z"
    },
    "papermill": {
     "duration": 0.038555,
     "end_time": "2022-07-18T16:18:37.858014",
     "exception": false,
     "start_time": "2022-07-18T16:18:37.819459",
     "status": "completed"
    },
    "tags": []
   },
   "outputs": [],
   "source": [
    "# !! Soo Important !!\n",
    "\n",
    "# En Onemli Konulardan Birisi"
   ]
  },
  {
   "cell_type": "code",
   "execution_count": 63,
   "id": "aff87b50",
   "metadata": {
    "execution": {
     "iopub.execute_input": "2022-07-18T16:18:37.921554Z",
     "iopub.status.busy": "2022-07-18T16:18:37.920972Z",
     "iopub.status.idle": "2022-07-18T16:18:37.933106Z",
     "shell.execute_reply": "2022-07-18T16:18:37.932171Z"
    },
    "papermill": {
     "duration": 0.046583,
     "end_time": "2022-07-18T16:18:37.935809",
     "exception": false,
     "start_time": "2022-07-18T16:18:37.889226",
     "status": "completed"
    },
    "tags": []
   },
   "outputs": [
    {
     "data": {
      "text/html": [
       "<div>\n",
       "<style scoped>\n",
       "    .dataframe tbody tr th:only-of-type {\n",
       "        vertical-align: middle;\n",
       "    }\n",
       "\n",
       "    .dataframe tbody tr th {\n",
       "        vertical-align: top;\n",
       "    }\n",
       "\n",
       "    .dataframe thead th {\n",
       "        text-align: right;\n",
       "    }\n",
       "</style>\n",
       "<table border=\"1\" class=\"dataframe\">\n",
       "  <thead>\n",
       "    <tr style=\"text-align: right;\">\n",
       "      <th></th>\n",
       "      <th>total_bill</th>\n",
       "      <th>tip</th>\n",
       "      <th>sex</th>\n",
       "      <th>smoker</th>\n",
       "      <th>day</th>\n",
       "      <th>time</th>\n",
       "      <th>size</th>\n",
       "      <th>yeni_sex</th>\n",
       "      <th>yeni_day</th>\n",
       "    </tr>\n",
       "  </thead>\n",
       "  <tbody>\n",
       "    <tr>\n",
       "      <th>0</th>\n",
       "      <td>16.99</td>\n",
       "      <td>1.01</td>\n",
       "      <td>Female</td>\n",
       "      <td>No</td>\n",
       "      <td>Sun</td>\n",
       "      <td>Dinner</td>\n",
       "      <td>2</td>\n",
       "      <td>0</td>\n",
       "      <td>1</td>\n",
       "    </tr>\n",
       "    <tr>\n",
       "      <th>1</th>\n",
       "      <td>10.34</td>\n",
       "      <td>1.66</td>\n",
       "      <td>Male</td>\n",
       "      <td>No</td>\n",
       "      <td>Sun</td>\n",
       "      <td>Dinner</td>\n",
       "      <td>3</td>\n",
       "      <td>1</td>\n",
       "      <td>1</td>\n",
       "    </tr>\n",
       "    <tr>\n",
       "      <th>2</th>\n",
       "      <td>21.01</td>\n",
       "      <td>3.50</td>\n",
       "      <td>Male</td>\n",
       "      <td>No</td>\n",
       "      <td>Sun</td>\n",
       "      <td>Dinner</td>\n",
       "      <td>3</td>\n",
       "      <td>1</td>\n",
       "      <td>1</td>\n",
       "    </tr>\n",
       "    <tr>\n",
       "      <th>3</th>\n",
       "      <td>23.68</td>\n",
       "      <td>3.31</td>\n",
       "      <td>Male</td>\n",
       "      <td>No</td>\n",
       "      <td>Sun</td>\n",
       "      <td>Dinner</td>\n",
       "      <td>2</td>\n",
       "      <td>1</td>\n",
       "      <td>1</td>\n",
       "    </tr>\n",
       "    <tr>\n",
       "      <th>4</th>\n",
       "      <td>24.59</td>\n",
       "      <td>3.61</td>\n",
       "      <td>Female</td>\n",
       "      <td>No</td>\n",
       "      <td>Sun</td>\n",
       "      <td>Dinner</td>\n",
       "      <td>4</td>\n",
       "      <td>0</td>\n",
       "      <td>1</td>\n",
       "    </tr>\n",
       "  </tbody>\n",
       "</table>\n",
       "</div>"
      ],
      "text/plain": [
       "   total_bill   tip     sex smoker  day    time  size  yeni_sex  yeni_day\n",
       "0       16.99  1.01  Female     No  Sun  Dinner     2         0         1\n",
       "1       10.34  1.66    Male     No  Sun  Dinner     3         1         1\n",
       "2       21.01  3.50    Male     No  Sun  Dinner     3         1         1\n",
       "3       23.68  3.31    Male     No  Sun  Dinner     2         1         1\n",
       "4       24.59  3.61  Female     No  Sun  Dinner     4         0         1"
      ]
     },
     "execution_count": 63,
     "metadata": {},
     "output_type": "execute_result"
    }
   ],
   "source": [
    "df.head()"
   ]
  },
  {
   "cell_type": "code",
   "execution_count": 64,
   "id": "9aef5a92",
   "metadata": {
    "execution": {
     "iopub.execute_input": "2022-07-18T16:18:38.001667Z",
     "iopub.status.busy": "2022-07-18T16:18:38.000725Z",
     "iopub.status.idle": "2022-07-18T16:18:38.009555Z",
     "shell.execute_reply": "2022-07-18T16:18:38.008071Z"
    },
    "papermill": {
     "duration": 0.045244,
     "end_time": "2022-07-18T16:18:38.012708",
     "exception": false,
     "start_time": "2022-07-18T16:18:37.967464",
     "status": "completed"
    },
    "tags": []
   },
   "outputs": [],
   "source": [
    "df_one_hot = pd.get_dummies(df, columns = [\"sex\"], prefix = [\"sex\"]) # prefix ----->> yapilacak Olan ( Olusturulacak Olan ) Degiskenlerin On Isimlendirmesinin Ne Olacagini Ifade Etmek Demek"
   ]
  },
  {
   "cell_type": "code",
   "execution_count": 65,
   "id": "fa52c615",
   "metadata": {
    "execution": {
     "iopub.execute_input": "2022-07-18T16:18:38.076727Z",
     "iopub.status.busy": "2022-07-18T16:18:38.076259Z",
     "iopub.status.idle": "2022-07-18T16:18:38.090684Z",
     "shell.execute_reply": "2022-07-18T16:18:38.089667Z"
    },
    "papermill": {
     "duration": 0.048695,
     "end_time": "2022-07-18T16:18:38.092554",
     "exception": false,
     "start_time": "2022-07-18T16:18:38.043859",
     "status": "completed"
    },
    "tags": []
   },
   "outputs": [
    {
     "data": {
      "text/html": [
       "<div>\n",
       "<style scoped>\n",
       "    .dataframe tbody tr th:only-of-type {\n",
       "        vertical-align: middle;\n",
       "    }\n",
       "\n",
       "    .dataframe tbody tr th {\n",
       "        vertical-align: top;\n",
       "    }\n",
       "\n",
       "    .dataframe thead th {\n",
       "        text-align: right;\n",
       "    }\n",
       "</style>\n",
       "<table border=\"1\" class=\"dataframe\">\n",
       "  <thead>\n",
       "    <tr style=\"text-align: right;\">\n",
       "      <th></th>\n",
       "      <th>total_bill</th>\n",
       "      <th>tip</th>\n",
       "      <th>smoker</th>\n",
       "      <th>day</th>\n",
       "      <th>time</th>\n",
       "      <th>size</th>\n",
       "      <th>yeni_sex</th>\n",
       "      <th>yeni_day</th>\n",
       "      <th>sex_Male</th>\n",
       "      <th>sex_Female</th>\n",
       "    </tr>\n",
       "  </thead>\n",
       "  <tbody>\n",
       "    <tr>\n",
       "      <th>0</th>\n",
       "      <td>16.99</td>\n",
       "      <td>1.01</td>\n",
       "      <td>No</td>\n",
       "      <td>Sun</td>\n",
       "      <td>Dinner</td>\n",
       "      <td>2</td>\n",
       "      <td>0</td>\n",
       "      <td>1</td>\n",
       "      <td>0</td>\n",
       "      <td>1</td>\n",
       "    </tr>\n",
       "    <tr>\n",
       "      <th>1</th>\n",
       "      <td>10.34</td>\n",
       "      <td>1.66</td>\n",
       "      <td>No</td>\n",
       "      <td>Sun</td>\n",
       "      <td>Dinner</td>\n",
       "      <td>3</td>\n",
       "      <td>1</td>\n",
       "      <td>1</td>\n",
       "      <td>1</td>\n",
       "      <td>0</td>\n",
       "    </tr>\n",
       "    <tr>\n",
       "      <th>2</th>\n",
       "      <td>21.01</td>\n",
       "      <td>3.50</td>\n",
       "      <td>No</td>\n",
       "      <td>Sun</td>\n",
       "      <td>Dinner</td>\n",
       "      <td>3</td>\n",
       "      <td>1</td>\n",
       "      <td>1</td>\n",
       "      <td>1</td>\n",
       "      <td>0</td>\n",
       "    </tr>\n",
       "    <tr>\n",
       "      <th>3</th>\n",
       "      <td>23.68</td>\n",
       "      <td>3.31</td>\n",
       "      <td>No</td>\n",
       "      <td>Sun</td>\n",
       "      <td>Dinner</td>\n",
       "      <td>2</td>\n",
       "      <td>1</td>\n",
       "      <td>1</td>\n",
       "      <td>1</td>\n",
       "      <td>0</td>\n",
       "    </tr>\n",
       "    <tr>\n",
       "      <th>4</th>\n",
       "      <td>24.59</td>\n",
       "      <td>3.61</td>\n",
       "      <td>No</td>\n",
       "      <td>Sun</td>\n",
       "      <td>Dinner</td>\n",
       "      <td>4</td>\n",
       "      <td>0</td>\n",
       "      <td>1</td>\n",
       "      <td>0</td>\n",
       "      <td>1</td>\n",
       "    </tr>\n",
       "  </tbody>\n",
       "</table>\n",
       "</div>"
      ],
      "text/plain": [
       "   total_bill   tip smoker  day    time  size  yeni_sex  yeni_day  sex_Male  \\\n",
       "0       16.99  1.01     No  Sun  Dinner     2         0         1         0   \n",
       "1       10.34  1.66     No  Sun  Dinner     3         1         1         1   \n",
       "2       21.01  3.50     No  Sun  Dinner     3         1         1         1   \n",
       "3       23.68  3.31     No  Sun  Dinner     2         1         1         1   \n",
       "4       24.59  3.61     No  Sun  Dinner     4         0         1         0   \n",
       "\n",
       "   sex_Female  \n",
       "0           1  \n",
       "1           0  \n",
       "2           0  \n",
       "3           0  \n",
       "4           1  "
      ]
     },
     "execution_count": 65,
     "metadata": {},
     "output_type": "execute_result"
    }
   ],
   "source": [
    "df_one_hot.head() # ( Gorulecegi Uzere Yukaridaki Islemde Ne Oldu ) Burada Ne Oldu; Elimizdeki Iki Sinifli Kategorik Degiskenin Sinif Sayisi Kadar Yeni Degisken Olustu Ve Olusmus Olan Bu Yeni Degiskenlerde 1 - 0 Olarak Tanimlanmis Oldu"
   ]
  },
  {
   "cell_type": "code",
   "execution_count": 66,
   "id": "4eecf9c5",
   "metadata": {
    "execution": {
     "iopub.execute_input": "2022-07-18T16:18:38.132721Z",
     "iopub.status.busy": "2022-07-18T16:18:38.131579Z",
     "iopub.status.idle": "2022-07-18T16:18:38.137159Z",
     "shell.execute_reply": "2022-07-18T16:18:38.136420Z"
    },
    "papermill": {
     "duration": 0.02778,
     "end_time": "2022-07-18T16:18:38.139228",
     "exception": false,
     "start_time": "2022-07-18T16:18:38.111448",
     "status": "completed"
    },
    "tags": []
   },
   "outputs": [],
   "source": [
    "# !! Soo Important !!\n",
    "\n",
    "# Dami Degisken Tuzagi; Bir Degiskeni Ifade Eden Baska Bir Degisken Varsa ( Yukarida ki \"sex_Male\" Veya \"sex_Female\" Ifadeleri Aslinda Ayni Bilgiyi Tasimaktadir Yani Bu Duruma Uyuyor ) \n",
    "\n",
    "# Peki Bu Durumu Nasil Kontrol Altinda Tutabiliriz; Olusturulan Degisken Sayisindan Bir Az Sayida Daha Dogru Ifadesi Ile Kategorik Degiskenin Sinif Sayisindan Daha Az Sayida Dami Degiskeni Olmasi Gerekiyor\n",
    "\n",
    "# Ornegin Yukarida Cinsiyetin Iki Tane Sinifi Vardi, Bu Durumda 1 Tane Dami Degiskeni Olmasi Lazim ------->> Degiskenin Original Halinde Veri Setinde Olmamali"
   ]
  },
  {
   "cell_type": "code",
   "execution_count": 67,
   "id": "6f8b7ba8",
   "metadata": {
    "execution": {
     "iopub.execute_input": "2022-07-18T16:18:38.180273Z",
     "iopub.status.busy": "2022-07-18T16:18:38.179249Z",
     "iopub.status.idle": "2022-07-18T16:18:38.200345Z",
     "shell.execute_reply": "2022-07-18T16:18:38.199045Z"
    },
    "papermill": {
     "duration": 0.043567,
     "end_time": "2022-07-18T16:18:38.202432",
     "exception": false,
     "start_time": "2022-07-18T16:18:38.158865",
     "status": "completed"
    },
    "tags": []
   },
   "outputs": [
    {
     "data": {
      "text/html": [
       "<div>\n",
       "<style scoped>\n",
       "    .dataframe tbody tr th:only-of-type {\n",
       "        vertical-align: middle;\n",
       "    }\n",
       "\n",
       "    .dataframe tbody tr th {\n",
       "        vertical-align: top;\n",
       "    }\n",
       "\n",
       "    .dataframe thead th {\n",
       "        text-align: right;\n",
       "    }\n",
       "</style>\n",
       "<table border=\"1\" class=\"dataframe\">\n",
       "  <thead>\n",
       "    <tr style=\"text-align: right;\">\n",
       "      <th></th>\n",
       "      <th>total_bill</th>\n",
       "      <th>tip</th>\n",
       "      <th>sex</th>\n",
       "      <th>smoker</th>\n",
       "      <th>time</th>\n",
       "      <th>size</th>\n",
       "      <th>yeni_sex</th>\n",
       "      <th>yeni_day</th>\n",
       "      <th>day_Thur</th>\n",
       "      <th>day_Fri</th>\n",
       "      <th>day_Sat</th>\n",
       "      <th>day_Sun</th>\n",
       "    </tr>\n",
       "  </thead>\n",
       "  <tbody>\n",
       "    <tr>\n",
       "      <th>0</th>\n",
       "      <td>16.99</td>\n",
       "      <td>1.01</td>\n",
       "      <td>Female</td>\n",
       "      <td>No</td>\n",
       "      <td>Dinner</td>\n",
       "      <td>2</td>\n",
       "      <td>0</td>\n",
       "      <td>1</td>\n",
       "      <td>0</td>\n",
       "      <td>0</td>\n",
       "      <td>0</td>\n",
       "      <td>1</td>\n",
       "    </tr>\n",
       "    <tr>\n",
       "      <th>1</th>\n",
       "      <td>10.34</td>\n",
       "      <td>1.66</td>\n",
       "      <td>Male</td>\n",
       "      <td>No</td>\n",
       "      <td>Dinner</td>\n",
       "      <td>3</td>\n",
       "      <td>1</td>\n",
       "      <td>1</td>\n",
       "      <td>0</td>\n",
       "      <td>0</td>\n",
       "      <td>0</td>\n",
       "      <td>1</td>\n",
       "    </tr>\n",
       "    <tr>\n",
       "      <th>2</th>\n",
       "      <td>21.01</td>\n",
       "      <td>3.50</td>\n",
       "      <td>Male</td>\n",
       "      <td>No</td>\n",
       "      <td>Dinner</td>\n",
       "      <td>3</td>\n",
       "      <td>1</td>\n",
       "      <td>1</td>\n",
       "      <td>0</td>\n",
       "      <td>0</td>\n",
       "      <td>0</td>\n",
       "      <td>1</td>\n",
       "    </tr>\n",
       "    <tr>\n",
       "      <th>3</th>\n",
       "      <td>23.68</td>\n",
       "      <td>3.31</td>\n",
       "      <td>Male</td>\n",
       "      <td>No</td>\n",
       "      <td>Dinner</td>\n",
       "      <td>2</td>\n",
       "      <td>1</td>\n",
       "      <td>1</td>\n",
       "      <td>0</td>\n",
       "      <td>0</td>\n",
       "      <td>0</td>\n",
       "      <td>1</td>\n",
       "    </tr>\n",
       "    <tr>\n",
       "      <th>4</th>\n",
       "      <td>24.59</td>\n",
       "      <td>3.61</td>\n",
       "      <td>Female</td>\n",
       "      <td>No</td>\n",
       "      <td>Dinner</td>\n",
       "      <td>4</td>\n",
       "      <td>0</td>\n",
       "      <td>1</td>\n",
       "      <td>0</td>\n",
       "      <td>0</td>\n",
       "      <td>0</td>\n",
       "      <td>1</td>\n",
       "    </tr>\n",
       "  </tbody>\n",
       "</table>\n",
       "</div>"
      ],
      "text/plain": [
       "   total_bill   tip     sex smoker    time  size  yeni_sex  yeni_day  \\\n",
       "0       16.99  1.01  Female     No  Dinner     2         0         1   \n",
       "1       10.34  1.66    Male     No  Dinner     3         1         1   \n",
       "2       21.01  3.50    Male     No  Dinner     3         1         1   \n",
       "3       23.68  3.31    Male     No  Dinner     2         1         1   \n",
       "4       24.59  3.61  Female     No  Dinner     4         0         1   \n",
       "\n",
       "   day_Thur  day_Fri  day_Sat  day_Sun  \n",
       "0         0        0        0        1  \n",
       "1         0        0        0        1  \n",
       "2         0        0        0        1  \n",
       "3         0        0        0        1  \n",
       "4         0        0        0        1  "
      ]
     },
     "execution_count": 67,
     "metadata": {},
     "output_type": "execute_result"
    }
   ],
   "source": [
    "# Daha Fazla Sinifa Sahip Bir Degisken Ornegi Yapalim\n",
    "\n",
    "pd.get_dummies(df, columns = [\"day\"], prefix = [\"day\"]).head()"
   ]
  },
  {
   "cell_type": "code",
   "execution_count": 68,
   "id": "1f7beffe",
   "metadata": {
    "execution": {
     "iopub.execute_input": "2022-07-18T16:18:38.245536Z",
     "iopub.status.busy": "2022-07-18T16:18:38.245174Z",
     "iopub.status.idle": "2022-07-18T16:18:38.250056Z",
     "shell.execute_reply": "2022-07-18T16:18:38.248870Z"
    },
    "papermill": {
     "duration": 0.030337,
     "end_time": "2022-07-18T16:18:38.252517",
     "exception": false,
     "start_time": "2022-07-18T16:18:38.222180",
     "status": "completed"
    },
    "tags": []
   },
   "outputs": [],
   "source": [
    "# Yani Ozetle One-Hot Donusumunun Bize Iki Faydasi Var\n",
    "# 1. Si; Genelde Numerik Degerlere Donusturerek Algoritmalari Kullaniyoruz Buradaki Numerik Donusturme Islemini Gerceklestirmis Oluyor\n",
    "# 2. Si; Kategorik Degiskenlerin Icerisindeki Siniflarin Etkisini Veri Setinde Hissedilir Bir Hale Donusturmemize Yardimci Oluyor"
   ]
  },
  {
   "cell_type": "code",
   "execution_count": 69,
   "id": "e49c4834",
   "metadata": {
    "execution": {
     "iopub.execute_input": "2022-07-18T16:18:38.317077Z",
     "iopub.status.busy": "2022-07-18T16:18:38.316707Z",
     "iopub.status.idle": "2022-07-18T16:18:38.321210Z",
     "shell.execute_reply": "2022-07-18T16:18:38.320015Z"
    },
    "papermill": {
     "duration": 0.039934,
     "end_time": "2022-07-18T16:18:38.323322",
     "exception": false,
     "start_time": "2022-07-18T16:18:38.283388",
     "status": "completed"
    },
    "tags": []
   },
   "outputs": [],
   "source": [
    "# *-*-*-* Machine Learning Baslangic Yeri *-*-*-*"
   ]
  },
  {
   "cell_type": "code",
   "execution_count": null,
   "id": "0d9d547b",
   "metadata": {
    "papermill": {
     "duration": 0.032631,
     "end_time": "2022-07-18T16:18:38.389487",
     "exception": false,
     "start_time": "2022-07-18T16:18:38.356856",
     "status": "completed"
    },
    "tags": []
   },
   "outputs": [],
   "source": []
  }
 ],
 "metadata": {
  "kernelspec": {
   "display_name": "Python 3",
   "language": "python",
   "name": "python3"
  },
  "language_info": {
   "codemirror_mode": {
    "name": "ipython",
    "version": 3
   },
   "file_extension": ".py",
   "mimetype": "text/x-python",
   "name": "python",
   "nbconvert_exporter": "python",
   "pygments_lexer": "ipython3",
   "version": "3.7.12"
  },
  "papermill": {
   "default_parameters": {},
   "duration": 41.307376,
   "end_time": "2022-07-18T16:18:39.345535",
   "environment_variables": {},
   "exception": null,
   "input_path": "__notebook__.ipynb",
   "output_path": "__notebook__.ipynb",
   "parameters": {},
   "start_time": "2022-07-18T16:17:58.038159",
   "version": "2.3.4"
  }
 },
 "nbformat": 4,
 "nbformat_minor": 5
}
