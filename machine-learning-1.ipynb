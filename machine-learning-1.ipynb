{
 "cells": [
  {
   "cell_type": "code",
   "execution_count": 1,
   "id": "8352f421",
   "metadata": {
    "execution": {
     "iopub.execute_input": "2022-03-14T11:09:15.309657Z",
     "iopub.status.busy": "2022-03-14T11:09:15.308007Z",
     "iopub.status.idle": "2022-03-14T11:09:15.312362Z",
     "shell.execute_reply": "2022-03-14T11:09:15.312892Z",
     "shell.execute_reply.started": "2022-03-14T11:08:29.271757Z"
    },
    "papermill": {
     "duration": 0.025868,
     "end_time": "2022-03-14T11:09:15.313211",
     "exception": false,
     "start_time": "2022-03-14T11:09:15.287343",
     "status": "completed"
    },
    "tags": []
   },
   "outputs": [],
   "source": [
    "# :! Isareti Kullanacagim Code Parcalari"
   ]
  },
  {
   "cell_type": "code",
   "execution_count": 2,
   "id": "9e74052a",
   "metadata": {
    "execution": {
     "iopub.execute_input": "2022-03-14T11:09:15.345372Z",
     "iopub.status.busy": "2022-03-14T11:09:15.344648Z",
     "iopub.status.idle": "2022-03-14T11:09:15.357320Z",
     "shell.execute_reply": "2022-03-14T11:09:15.356668Z",
     "shell.execute_reply.started": "2022-03-14T10:33:05.197566Z"
    },
    "papermill": {
     "duration": 0.029698,
     "end_time": "2022-03-14T11:09:15.357465",
     "exception": false,
     "start_time": "2022-03-14T11:09:15.327767",
     "status": "completed"
    },
    "tags": []
   },
   "outputs": [
    {
     "name": "stdout",
     "output_type": "stream",
     "text": [
      "Carpimlari :  [ 5 12 21 32 45]\n"
     ]
    }
   ],
   "source": [
    "import numpy as np # numpy Kutuphanesini Import etme\n",
    "\n",
    "a = np.array([1,2,3,4,5])\n",
    "\n",
    "b = np.array([5,6,7,8,9])\n",
    "\n",
    "print(\"Carpimlari : \",a*b)"
   ]
  },
  {
   "cell_type": "code",
   "execution_count": 3,
   "id": "0b659794",
   "metadata": {
    "execution": {
     "iopub.execute_input": "2022-03-14T11:09:15.391122Z",
     "iopub.status.busy": "2022-03-14T11:09:15.390418Z",
     "iopub.status.idle": "2022-03-14T11:09:15.394999Z",
     "shell.execute_reply": "2022-03-14T11:09:15.395565Z",
     "shell.execute_reply.started": "2022-03-14T10:37:59.096902Z"
    },
    "papermill": {
     "duration": 0.023247,
     "end_time": "2022-03-14T11:09:15.395733",
     "exception": false,
     "start_time": "2022-03-14T11:09:15.372486",
     "status": "completed"
    },
    "tags": []
   },
   "outputs": [
    {
     "name": "stdout",
     "output_type": "stream",
     "text": [
      "Carpimlari :  [ 5 20 25 30 35]\n"
     ]
    }
   ],
   "source": [
    "c = np.array([1,4,5,6,7])\n",
    "\n",
    "d = np.array([5])\n",
    "\n",
    "print(\"Carpimlari : \",c*d)"
   ]
  },
  {
   "cell_type": "code",
   "execution_count": 4,
   "id": "13dbbfd9",
   "metadata": {
    "execution": {
     "iopub.execute_input": "2022-03-14T11:09:15.431340Z",
     "iopub.status.busy": "2022-03-14T11:09:15.428339Z",
     "iopub.status.idle": "2022-03-14T11:09:15.434364Z",
     "shell.execute_reply": "2022-03-14T11:09:15.435058Z",
     "shell.execute_reply.started": "2022-03-14T10:44:24.811799Z"
    },
    "papermill": {
     "duration": 0.024303,
     "end_time": "2022-03-14T11:09:15.435241",
     "exception": false,
     "start_time": "2022-03-14T11:09:15.410938",
     "status": "completed"
    },
    "tags": []
   },
   "outputs": [
    {
     "name": "stdout",
     "output_type": "stream",
     "text": [
      "[1.  2.8 3.  4.  5. ]\n"
     ]
    }
   ],
   "source": [
    "e = np.array([1, 2.8, 3, 4, 5], dtype = \"float\") # array ler bir tip oldugu icin tip atamasi da yapabiliyoruz.\n",
    "\n",
    "print(e)"
   ]
  },
  {
   "cell_type": "code",
   "execution_count": 5,
   "id": "46f9fb3d",
   "metadata": {
    "execution": {
     "iopub.execute_input": "2022-03-14T11:09:15.471503Z",
     "iopub.status.busy": "2022-03-14T11:09:15.470777Z",
     "iopub.status.idle": "2022-03-14T11:09:15.473378Z",
     "shell.execute_reply": "2022-03-14T11:09:15.473852Z",
     "shell.execute_reply.started": "2022-03-14T10:44:25.418517Z"
    },
    "papermill": {
     "duration": 0.023485,
     "end_time": "2022-03-14T11:09:15.474015",
     "exception": false,
     "start_time": "2022-03-14T11:09:15.450530",
     "status": "completed"
    },
    "tags": []
   },
   "outputs": [
    {
     "name": "stdout",
     "output_type": "stream",
     "text": [
      "[1 2 3 4 5]\n"
     ]
    }
   ],
   "source": [
    "e = np.array([1.9, 2.8, 3.7, 4.1, 5.6], dtype = \"int\")\n",
    "\n",
    "print(e)"
   ]
  },
  {
   "cell_type": "code",
   "execution_count": 6,
   "id": "69ed192c",
   "metadata": {
    "execution": {
     "iopub.execute_input": "2022-03-14T11:09:15.511094Z",
     "iopub.status.busy": "2022-03-14T11:09:15.510375Z",
     "iopub.status.idle": "2022-03-14T11:09:15.513776Z",
     "shell.execute_reply": "2022-03-14T11:09:15.513162Z",
     "shell.execute_reply.started": "2022-03-14T10:48:09.150709Z"
    },
    "papermill": {
     "duration": 0.023957,
     "end_time": "2022-03-14T11:09:15.513912",
     "exception": false,
     "start_time": "2022-03-14T11:09:15.489955",
     "status": "completed"
    },
    "tags": []
   },
   "outputs": [
    {
     "name": "stdout",
     "output_type": "stream",
     "text": [
      "[0 0 0 0 0 0 0 0 0 0]\n"
     ]
    }
   ],
   "source": [
    "# Array ler de Cok Boyutlu Dizi Tanimlamasi\n",
    "\n",
    "\n",
    "print(np.zeros(10, dtype = int)) # 10 tane int tipinde 0 olusturduk"
   ]
  },
  {
   "cell_type": "code",
   "execution_count": 7,
   "id": "2d147e51",
   "metadata": {
    "execution": {
     "iopub.execute_input": "2022-03-14T11:09:15.551711Z",
     "iopub.status.busy": "2022-03-14T11:09:15.550980Z",
     "iopub.status.idle": "2022-03-14T11:09:15.554576Z",
     "shell.execute_reply": "2022-03-14T11:09:15.555099Z",
     "shell.execute_reply.started": "2022-03-14T10:49:51.798460Z"
    },
    "papermill": {
     "duration": 0.025194,
     "end_time": "2022-03-14T11:09:15.555283",
     "exception": false,
     "start_time": "2022-03-14T11:09:15.530089",
     "status": "completed"
    },
    "tags": []
   },
   "outputs": [
    {
     "name": "stdout",
     "output_type": "stream",
     "text": [
      "[[1. 1. 1. 1. 1.]\n",
      " [1. 1. 1. 1. 1.]\n",
      " [1. 1. 1. 1. 1.]]\n"
     ]
    }
   ],
   "source": [
    "print(np.ones((3,5))) # 3 e 5 lik float tipinde 1 bulunan matris olusturduk"
   ]
  },
  {
   "cell_type": "code",
   "execution_count": 8,
   "id": "12c442b3",
   "metadata": {
    "execution": {
     "iopub.execute_input": "2022-03-14T11:09:15.593620Z",
     "iopub.status.busy": "2022-03-14T11:09:15.592858Z",
     "iopub.status.idle": "2022-03-14T11:09:15.596537Z",
     "shell.execute_reply": "2022-03-14T11:09:15.597080Z",
     "shell.execute_reply.started": "2022-03-14T11:02:20.330084Z"
    },
    "papermill": {
     "duration": 0.02545,
     "end_time": "2022-03-14T11:09:15.597257",
     "exception": false,
     "start_time": "2022-03-14T11:09:15.571807",
     "status": "completed"
    },
    "tags": []
   },
   "outputs": [
    {
     "name": "stdout",
     "output_type": "stream",
     "text": [
      "[[8 8 8 8 8]\n",
      " [8 8 8 8 8]\n",
      " [8 8 8 8 8]]\n"
     ]
    }
   ],
   "source": [
    "# Eger Belli Bir Sayi dan Olusmasini Istiyorsak;\n",
    "\n",
    "print(np.full((3,5),8)) # 3 e 5 lik 8 bulunan dizi"
   ]
  },
  {
   "cell_type": "code",
   "execution_count": 9,
   "id": "e910411d",
   "metadata": {
    "execution": {
     "iopub.execute_input": "2022-03-14T11:09:15.636913Z",
     "iopub.status.busy": "2022-03-14T11:09:15.636263Z",
     "iopub.status.idle": "2022-03-14T11:09:15.640107Z",
     "shell.execute_reply": "2022-03-14T11:09:15.640634Z",
     "shell.execute_reply.started": "2022-03-14T11:03:26.663306Z"
    },
    "papermill": {
     "duration": 0.025596,
     "end_time": "2022-03-14T11:09:15.640807",
     "exception": false,
     "start_time": "2022-03-14T11:09:15.615211",
     "status": "completed"
    },
    "tags": []
   },
   "outputs": [
    {
     "name": "stdout",
     "output_type": "stream",
     "text": [
      "[ 0  4  8 12 16 20 24 28]\n"
     ]
    }
   ],
   "source": [
    "# :!\n",
    "print(np.arange(0, 30, 4)) # Sifirdan 30 a 4 er 4 er artan dizi"
   ]
  },
  {
   "cell_type": "code",
   "execution_count": 10,
   "id": "be698dbc",
   "metadata": {
    "execution": {
     "iopub.execute_input": "2022-03-14T11:09:15.682993Z",
     "iopub.status.busy": "2022-03-14T11:09:15.682301Z",
     "iopub.status.idle": "2022-03-14T11:09:15.686274Z",
     "shell.execute_reply": "2022-03-14T11:09:15.685675Z",
     "shell.execute_reply.started": "2022-03-14T10:54:13.599349Z"
    },
    "papermill": {
     "duration": 0.026987,
     "end_time": "2022-03-14T11:09:15.686446",
     "exception": false,
     "start_time": "2022-03-14T11:09:15.659459",
     "status": "completed"
    },
    "tags": []
   },
   "outputs": [
    {
     "name": "stdout",
     "output_type": "stream",
     "text": [
      "[0.         0.11111111 0.22222222 0.33333333 0.44444444 0.55555556\n",
      " 0.66666667 0.77777778 0.88888889 1.        ]\n"
     ]
    }
   ],
   "source": [
    "print(np.linspace(0,1,10)) # 0 ile 1 arasinda 10 tane deger olustur dedik"
   ]
  },
  {
   "cell_type": "code",
   "execution_count": 11,
   "id": "f4931b0c",
   "metadata": {
    "execution": {
     "iopub.execute_input": "2022-03-14T11:09:15.728957Z",
     "iopub.status.busy": "2022-03-14T11:09:15.728283Z",
     "iopub.status.idle": "2022-03-14T11:09:15.733146Z",
     "shell.execute_reply": "2022-03-14T11:09:15.734149Z",
     "shell.execute_reply.started": "2022-03-14T11:06:02.872804Z"
    },
    "papermill": {
     "duration": 0.029667,
     "end_time": "2022-03-14T11:09:15.734456",
     "exception": false,
     "start_time": "2022-03-14T11:09:15.704789",
     "status": "completed"
    },
    "tags": []
   },
   "outputs": [
    {
     "name": "stdout",
     "output_type": "stream",
     "text": [
      "[[15.56834811 -0.18058298 15.31322232 12.28485698]\n",
      " [ 6.11380615  5.81213276  9.07759132  6.4327303 ]\n",
      " [ 9.64262416 17.17613232 12.31090797  9.45093001]]\n"
     ]
    }
   ],
   "source": [
    "# Ortalamasi ve Standart Sapmasini Bizim Belirttigimiz Fonksiyon\n",
    "# Istatistik\n",
    "# :!\n",
    "\n",
    "print(np.random.normal(10, 4, (3,4))) # Ortalamasi 10 , standart sapmasi 4 olan , 3'e 4 luk random veren matris"
   ]
  },
  {
   "cell_type": "code",
   "execution_count": 12,
   "id": "68d0df9f",
   "metadata": {
    "execution": {
     "iopub.execute_input": "2022-03-14T11:09:15.778238Z",
     "iopub.status.busy": "2022-03-14T11:09:15.777530Z",
     "iopub.status.idle": "2022-03-14T11:09:15.780705Z",
     "shell.execute_reply": "2022-03-14T11:09:15.781465Z",
     "shell.execute_reply.started": "2022-03-14T11:01:24.634692Z"
    },
    "papermill": {
     "duration": 0.027919,
     "end_time": "2022-03-14T11:09:15.781697",
     "exception": false,
     "start_time": "2022-03-14T11:09:15.753778",
     "status": "completed"
    },
    "tags": []
   },
   "outputs": [
    {
     "name": "stdout",
     "output_type": "stream",
     "text": [
      "[[4 4 4 7 2]\n",
      " [8 7 1 2 3]\n",
      " [2 0 7 5 0]]\n"
     ]
    }
   ],
   "source": [
    "# :!\n",
    "print(np.random.randint(0, 10, (3,5)))"
   ]
  },
  {
   "cell_type": "code",
   "execution_count": null,
   "id": "eefb94ae",
   "metadata": {
    "papermill": {
     "duration": 0.018587,
     "end_time": "2022-03-14T11:09:15.820496",
     "exception": false,
     "start_time": "2022-03-14T11:09:15.801909",
     "status": "completed"
    },
    "tags": []
   },
   "outputs": [],
   "source": []
  }
 ],
 "metadata": {
  "kernelspec": {
   "display_name": "Python 3",
   "language": "python",
   "name": "python3"
  },
  "language_info": {
   "codemirror_mode": {
    "name": "ipython",
    "version": 3
   },
   "file_extension": ".py",
   "mimetype": "text/x-python",
   "name": "python",
   "nbconvert_exporter": "python",
   "pygments_lexer": "ipython3",
   "version": "3.7.12"
  },
  "papermill": {
   "default_parameters": {},
   "duration": 12.111977,
   "end_time": "2022-03-14T11:09:16.449313",
   "environment_variables": {},
   "exception": null,
   "input_path": "__notebook__.ipynb",
   "output_path": "__notebook__.ipynb",
   "parameters": {},
   "start_time": "2022-03-14T11:09:04.337336",
   "version": "2.3.3"
  }
 },
 "nbformat": 4,
 "nbformat_minor": 5
}
