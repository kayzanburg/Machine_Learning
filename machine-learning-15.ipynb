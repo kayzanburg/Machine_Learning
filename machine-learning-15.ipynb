{
 "cells": [
  {
   "cell_type": "markdown",
   "id": "d4ffd85a",
   "metadata": {
    "papermill": {
     "duration": 0.040182,
     "end_time": "2022-11-22T20:52:47.258558",
     "exception": false,
     "start_time": "2022-11-22T20:52:47.218376",
     "status": "completed"
    },
    "tags": []
   },
   "source": [
    "# Sınıflandırma Problemleri"
   ]
  },
  {
   "cell_type": "code",
   "execution_count": 1,
   "id": "6254aae4",
   "metadata": {
    "execution": {
     "iopub.execute_input": "2022-11-22T20:52:47.334043Z",
     "iopub.status.busy": "2022-11-22T20:52:47.333582Z",
     "iopub.status.idle": "2022-11-22T20:52:50.744354Z",
     "shell.execute_reply": "2022-11-22T20:52:50.742659Z"
    },
    "papermill": {
     "duration": 3.452148,
     "end_time": "2022-11-22T20:52:50.747678",
     "exception": false,
     "start_time": "2022-11-22T20:52:47.295530",
     "status": "completed"
    },
    "tags": []
   },
   "outputs": [
    {
     "data": {
      "text/html": [
       "<style type='text/css'>\n",
       ".datatable table.frame { margin-bottom: 0; }\n",
       ".datatable table.frame thead { border-bottom: none; }\n",
       ".datatable table.frame tr.coltypes td {  color: #FFFFFF;  line-height: 6px;  padding: 0 0.5em;}\n",
       ".datatable .bool    { background: #DDDD99; }\n",
       ".datatable .object  { background: #565656; }\n",
       ".datatable .int     { background: #5D9E5D; }\n",
       ".datatable .float   { background: #4040CC; }\n",
       ".datatable .str     { background: #CC4040; }\n",
       ".datatable .time    { background: #40CC40; }\n",
       ".datatable .row_index {  background: var(--jp-border-color3);  border-right: 1px solid var(--jp-border-color0);  color: var(--jp-ui-font-color3);  font-size: 9px;}\n",
       ".datatable .frame tbody td { text-align: left; }\n",
       ".datatable .frame tr.coltypes .row_index {  background: var(--jp-border-color0);}\n",
       ".datatable th:nth-child(2) { padding-left: 12px; }\n",
       ".datatable .hellipsis {  color: var(--jp-cell-editor-border-color);}\n",
       ".datatable .vellipsis {  background: var(--jp-layout-color0);  color: var(--jp-cell-editor-border-color);}\n",
       ".datatable .na {  color: var(--jp-cell-editor-border-color);  font-size: 80%;}\n",
       ".datatable .sp {  opacity: 0.25;}\n",
       ".datatable .footer { font-size: 9px; }\n",
       ".datatable .frame_dimensions {  background: var(--jp-border-color3);  border-top: 1px solid var(--jp-border-color0);  color: var(--jp-ui-font-color3);  display: inline-block;  opacity: 0.6;  padding: 1px 10px 1px 5px;}\n",
       "</style>\n"
      ],
      "text/plain": [
       "<IPython.core.display.HTML object>"
      ]
     },
     "metadata": {},
     "output_type": "display_data"
    }
   ],
   "source": [
    "import numpy as np\n",
    "import pandas as pd \n",
    "import statsmodels.api as sm\n",
    "import statsmodels.formula.api as smf\n",
    "import seaborn as sns\n",
    "from sklearn.preprocessing import scale \n",
    "from sklearn.model_selection import train_test_split, GridSearchCV, cross_val_score\n",
    "from sklearn.metrics import confusion_matrix, accuracy_score, classification_report\n",
    "from sklearn.metrics import roc_auc_score,roc_curve\n",
    "import statsmodels.formula.api as smf\n",
    "import matplotlib.pyplot as plt\n",
    "from sklearn.neighbors import KNeighborsClassifier\n",
    "from sklearn.discriminant_analysis import LinearDiscriminantAnalysis\n",
    "from sklearn.linear_model import LogisticRegression\n",
    "from sklearn.svm import SVC\n",
    "from sklearn.naive_bayes import GaussianNB\n",
    "from sklearn import tree\n",
    "from sklearn.ensemble import RandomForestClassifier\n",
    "from sklearn.ensemble import GradientBoostingClassifier\n",
    "from xgboost import XGBClassifier\n",
    "from lightgbm import LGBMClassifier\n",
    "from catboost import CatBoostClassifier\n",
    "\n",
    "from warnings import filterwarnings\n",
    "filterwarnings('ignore')"
   ]
  },
  {
   "cell_type": "markdown",
   "id": "6f86df84",
   "metadata": {
    "papermill": {
     "duration": 0.036611,
     "end_time": "2022-11-22T20:52:50.822026",
     "exception": false,
     "start_time": "2022-11-22T20:52:50.785415",
     "status": "completed"
    },
    "tags": []
   },
   "source": [
    "# Lojistik Regresyon "
   ]
  },
  {
   "cell_type": "markdown",
   "id": "4155813e",
   "metadata": {
    "papermill": {
     "duration": 0.036449,
     "end_time": "2022-11-22T20:52:50.895004",
     "exception": false,
     "start_time": "2022-11-22T20:52:50.858555",
     "status": "completed"
    },
    "tags": []
   },
   "source": [
    "## Model "
   ]
  },
  {
   "cell_type": "markdown",
   "id": "a3f429ef",
   "metadata": {
    "papermill": {
     "duration": 0.036499,
     "end_time": "2022-11-22T20:52:50.968070",
     "exception": false,
     "start_time": "2022-11-22T20:52:50.931571",
     "status": "completed"
    },
    "tags": []
   },
   "source": [
    "* Bir hasta geldiginde, kisinin seker hastasi olup olmadigina bakmak icin bu verisetini kullanıyoruz"
   ]
  },
  {
   "cell_type": "code",
   "execution_count": 2,
   "id": "24bd8123",
   "metadata": {
    "execution": {
     "iopub.execute_input": "2022-11-22T20:52:51.046480Z",
     "iopub.status.busy": "2022-11-22T20:52:51.045875Z",
     "iopub.status.idle": "2022-11-22T20:52:51.087492Z",
     "shell.execute_reply": "2022-11-22T20:52:51.086427Z"
    },
    "papermill": {
     "duration": 0.084875,
     "end_time": "2022-11-22T20:52:51.089673",
     "exception": false,
     "start_time": "2022-11-22T20:52:51.004798",
     "status": "completed"
    },
    "tags": []
   },
   "outputs": [
    {
     "data": {
      "text/html": [
       "<div>\n",
       "<style scoped>\n",
       "    .dataframe tbody tr th:only-of-type {\n",
       "        vertical-align: middle;\n",
       "    }\n",
       "\n",
       "    .dataframe tbody tr th {\n",
       "        vertical-align: top;\n",
       "    }\n",
       "\n",
       "    .dataframe thead th {\n",
       "        text-align: right;\n",
       "    }\n",
       "</style>\n",
       "<table border=\"1\" class=\"dataframe\">\n",
       "  <thead>\n",
       "    <tr style=\"text-align: right;\">\n",
       "      <th></th>\n",
       "      <th>Pregnancies</th>\n",
       "      <th>Glucose</th>\n",
       "      <th>BloodPressure</th>\n",
       "      <th>SkinThickness</th>\n",
       "      <th>Insulin</th>\n",
       "      <th>BMI</th>\n",
       "      <th>DiabetesPedigreeFunction</th>\n",
       "      <th>Age</th>\n",
       "      <th>Outcome</th>\n",
       "    </tr>\n",
       "  </thead>\n",
       "  <tbody>\n",
       "    <tr>\n",
       "      <th>0</th>\n",
       "      <td>6</td>\n",
       "      <td>148</td>\n",
       "      <td>72</td>\n",
       "      <td>35</td>\n",
       "      <td>0</td>\n",
       "      <td>33.6</td>\n",
       "      <td>0.627</td>\n",
       "      <td>50</td>\n",
       "      <td>1</td>\n",
       "    </tr>\n",
       "    <tr>\n",
       "      <th>1</th>\n",
       "      <td>1</td>\n",
       "      <td>85</td>\n",
       "      <td>66</td>\n",
       "      <td>29</td>\n",
       "      <td>0</td>\n",
       "      <td>26.6</td>\n",
       "      <td>0.351</td>\n",
       "      <td>31</td>\n",
       "      <td>0</td>\n",
       "    </tr>\n",
       "    <tr>\n",
       "      <th>2</th>\n",
       "      <td>8</td>\n",
       "      <td>183</td>\n",
       "      <td>64</td>\n",
       "      <td>0</td>\n",
       "      <td>0</td>\n",
       "      <td>23.3</td>\n",
       "      <td>0.672</td>\n",
       "      <td>32</td>\n",
       "      <td>1</td>\n",
       "    </tr>\n",
       "    <tr>\n",
       "      <th>3</th>\n",
       "      <td>1</td>\n",
       "      <td>89</td>\n",
       "      <td>66</td>\n",
       "      <td>23</td>\n",
       "      <td>94</td>\n",
       "      <td>28.1</td>\n",
       "      <td>0.167</td>\n",
       "      <td>21</td>\n",
       "      <td>0</td>\n",
       "    </tr>\n",
       "    <tr>\n",
       "      <th>4</th>\n",
       "      <td>0</td>\n",
       "      <td>137</td>\n",
       "      <td>40</td>\n",
       "      <td>35</td>\n",
       "      <td>168</td>\n",
       "      <td>43.1</td>\n",
       "      <td>2.288</td>\n",
       "      <td>33</td>\n",
       "      <td>1</td>\n",
       "    </tr>\n",
       "  </tbody>\n",
       "</table>\n",
       "</div>"
      ],
      "text/plain": [
       "   Pregnancies  Glucose  BloodPressure  SkinThickness  Insulin   BMI  \\\n",
       "0            6      148             72             35        0  33.6   \n",
       "1            1       85             66             29        0  26.6   \n",
       "2            8      183             64              0        0  23.3   \n",
       "3            1       89             66             23       94  28.1   \n",
       "4            0      137             40             35      168  43.1   \n",
       "\n",
       "   DiabetesPedigreeFunction  Age  Outcome  \n",
       "0                     0.627   50        1  \n",
       "1                     0.351   31        0  \n",
       "2                     0.672   32        1  \n",
       "3                     0.167   21        0  \n",
       "4                     2.288   33        1  "
      ]
     },
     "execution_count": 2,
     "metadata": {},
     "output_type": "execute_result"
    }
   ],
   "source": [
    "diabetes = pd.read_csv(\"../input/diabetescsv/diabetes.csv\")\n",
    "df = diabetes.copy()\n",
    "df = df.dropna()\n",
    "df.head()"
   ]
  },
  {
   "cell_type": "code",
   "execution_count": 3,
   "id": "32c95b72",
   "metadata": {
    "execution": {
     "iopub.execute_input": "2022-11-22T20:52:51.163121Z",
     "iopub.status.busy": "2022-11-22T20:52:51.162768Z",
     "iopub.status.idle": "2022-11-22T20:52:51.184790Z",
     "shell.execute_reply": "2022-11-22T20:52:51.183071Z"
    },
    "papermill": {
     "duration": 0.061991,
     "end_time": "2022-11-22T20:52:51.187680",
     "exception": false,
     "start_time": "2022-11-22T20:52:51.125689",
     "status": "completed"
    },
    "tags": []
   },
   "outputs": [
    {
     "name": "stdout",
     "output_type": "stream",
     "text": [
      "<class 'pandas.core.frame.DataFrame'>\n",
      "Int64Index: 768 entries, 0 to 767\n",
      "Data columns (total 9 columns):\n",
      " #   Column                    Non-Null Count  Dtype  \n",
      "---  ------                    --------------  -----  \n",
      " 0   Pregnancies               768 non-null    int64  \n",
      " 1   Glucose                   768 non-null    int64  \n",
      " 2   BloodPressure             768 non-null    int64  \n",
      " 3   SkinThickness             768 non-null    int64  \n",
      " 4   Insulin                   768 non-null    int64  \n",
      " 5   BMI                       768 non-null    float64\n",
      " 6   DiabetesPedigreeFunction  768 non-null    float64\n",
      " 7   Age                       768 non-null    int64  \n",
      " 8   Outcome                   768 non-null    int64  \n",
      "dtypes: float64(2), int64(7)\n",
      "memory usage: 60.0 KB\n"
     ]
    }
   ],
   "source": [
    "df.info()"
   ]
  },
  {
   "cell_type": "code",
   "execution_count": 4,
   "id": "886cf562",
   "metadata": {
    "execution": {
     "iopub.execute_input": "2022-11-22T20:52:51.265045Z",
     "iopub.status.busy": "2022-11-22T20:52:51.263530Z",
     "iopub.status.idle": "2022-11-22T20:52:51.272915Z",
     "shell.execute_reply": "2022-11-22T20:52:51.272238Z"
    },
    "papermill": {
     "duration": 0.049888,
     "end_time": "2022-11-22T20:52:51.274687",
     "exception": false,
     "start_time": "2022-11-22T20:52:51.224799",
     "status": "completed"
    },
    "tags": []
   },
   "outputs": [
    {
     "data": {
      "text/plain": [
       "0    500\n",
       "1    268\n",
       "Name: Outcome, dtype: int64"
      ]
     },
     "execution_count": 4,
     "metadata": {},
     "output_type": "execute_result"
    }
   ],
   "source": [
    "df[\"Outcome\"].value_counts()"
   ]
  },
  {
   "cell_type": "code",
   "execution_count": 5,
   "id": "f50e414c",
   "metadata": {
    "execution": {
     "iopub.execute_input": "2022-11-22T20:52:51.351152Z",
     "iopub.status.busy": "2022-11-22T20:52:51.350591Z",
     "iopub.status.idle": "2022-11-22T20:52:51.638608Z",
     "shell.execute_reply": "2022-11-22T20:52:51.637534Z"
    },
    "papermill": {
     "duration": 0.329454,
     "end_time": "2022-11-22T20:52:51.641574",
     "exception": false,
     "start_time": "2022-11-22T20:52:51.312120",
     "status": "completed"
    },
    "tags": []
   },
   "outputs": [
    {
     "data": {
      "image/png": "[encoded data removed]",
      "text/plain": [
       "<Figure size 432x288 with 1 Axes>"
      ]
     },
     "metadata": {
      "needs_background": "light"
     },
     "output_type": "display_data"
    }
   ],
   "source": [
    "df[\"Outcome\"].value_counts().plot.barh();"
   ]
  },
  {
   "cell_type": "code",
   "execution_count": 6,
   "id": "82b20456",
   "metadata": {
    "execution": {
     "iopub.execute_input": "2022-11-22T20:52:51.717532Z",
     "iopub.status.busy": "2022-11-22T20:52:51.716906Z",
     "iopub.status.idle": "2022-11-22T20:52:51.752065Z",
     "shell.execute_reply": "2022-11-22T20:52:51.750516Z"
    },
    "papermill": {
     "duration": 0.07505,
     "end_time": "2022-11-22T20:52:51.754062",
     "exception": false,
     "start_time": "2022-11-22T20:52:51.679012",
     "status": "completed"
    },
    "tags": []
   },
   "outputs": [
    {
     "data": {
      "text/html": [
       "<div>\n",
       "<style scoped>\n",
       "    .dataframe tbody tr th:only-of-type {\n",
       "        vertical-align: middle;\n",
       "    }\n",
       "\n",
       "    .dataframe tbody tr th {\n",
       "        vertical-align: top;\n",
       "    }\n",
       "\n",
       "    .dataframe thead th {\n",
       "        text-align: right;\n",
       "    }\n",
       "</style>\n",
       "<table border=\"1\" class=\"dataframe\">\n",
       "  <thead>\n",
       "    <tr style=\"text-align: right;\">\n",
       "      <th></th>\n",
       "      <th>count</th>\n",
       "      <th>mean</th>\n",
       "      <th>std</th>\n",
       "      <th>min</th>\n",
       "      <th>25%</th>\n",
       "      <th>50%</th>\n",
       "      <th>75%</th>\n",
       "      <th>max</th>\n",
       "    </tr>\n",
       "  </thead>\n",
       "  <tbody>\n",
       "    <tr>\n",
       "      <th>Pregnancies</th>\n",
       "      <td>768.0</td>\n",
       "      <td>3.845052</td>\n",
       "      <td>3.369578</td>\n",
       "      <td>0.000</td>\n",
       "      <td>1.00000</td>\n",
       "      <td>3.0000</td>\n",
       "      <td>6.00000</td>\n",
       "      <td>17.00</td>\n",
       "    </tr>\n",
       "    <tr>\n",
       "      <th>Glucose</th>\n",
       "      <td>768.0</td>\n",
       "      <td>120.894531</td>\n",
       "      <td>31.972618</td>\n",
       "      <td>0.000</td>\n",
       "      <td>99.00000</td>\n",
       "      <td>117.0000</td>\n",
       "      <td>140.25000</td>\n",
       "      <td>199.00</td>\n",
       "    </tr>\n",
       "    <tr>\n",
       "      <th>BloodPressure</th>\n",
       "      <td>768.0</td>\n",
       "      <td>69.105469</td>\n",
       "      <td>19.355807</td>\n",
       "      <td>0.000</td>\n",
       "      <td>62.00000</td>\n",
       "      <td>72.0000</td>\n",
       "      <td>80.00000</td>\n",
       "      <td>122.00</td>\n",
       "    </tr>\n",
       "    <tr>\n",
       "      <th>SkinThickness</th>\n",
       "      <td>768.0</td>\n",
       "      <td>20.536458</td>\n",
       "      <td>15.952218</td>\n",
       "      <td>0.000</td>\n",
       "      <td>0.00000</td>\n",
       "      <td>23.0000</td>\n",
       "      <td>32.00000</td>\n",
       "      <td>99.00</td>\n",
       "    </tr>\n",
       "    <tr>\n",
       "      <th>Insulin</th>\n",
       "      <td>768.0</td>\n",
       "      <td>79.799479</td>\n",
       "      <td>115.244002</td>\n",
       "      <td>0.000</td>\n",
       "      <td>0.00000</td>\n",
       "      <td>30.5000</td>\n",
       "      <td>127.25000</td>\n",
       "      <td>846.00</td>\n",
       "    </tr>\n",
       "    <tr>\n",
       "      <th>BMI</th>\n",
       "      <td>768.0</td>\n",
       "      <td>31.992578</td>\n",
       "      <td>7.884160</td>\n",
       "      <td>0.000</td>\n",
       "      <td>27.30000</td>\n",
       "      <td>32.0000</td>\n",
       "      <td>36.60000</td>\n",
       "      <td>67.10</td>\n",
       "    </tr>\n",
       "    <tr>\n",
       "      <th>DiabetesPedigreeFunction</th>\n",
       "      <td>768.0</td>\n",
       "      <td>0.471876</td>\n",
       "      <td>0.331329</td>\n",
       "      <td>0.078</td>\n",
       "      <td>0.24375</td>\n",
       "      <td>0.3725</td>\n",
       "      <td>0.62625</td>\n",
       "      <td>2.42</td>\n",
       "    </tr>\n",
       "    <tr>\n",
       "      <th>Age</th>\n",
       "      <td>768.0</td>\n",
       "      <td>33.240885</td>\n",
       "      <td>11.760232</td>\n",
       "      <td>21.000</td>\n",
       "      <td>24.00000</td>\n",
       "      <td>29.0000</td>\n",
       "      <td>41.00000</td>\n",
       "      <td>81.00</td>\n",
       "    </tr>\n",
       "    <tr>\n",
       "      <th>Outcome</th>\n",
       "      <td>768.0</td>\n",
       "      <td>0.348958</td>\n",
       "      <td>0.476951</td>\n",
       "      <td>0.000</td>\n",
       "      <td>0.00000</td>\n",
       "      <td>0.0000</td>\n",
       "      <td>1.00000</td>\n",
       "      <td>1.00</td>\n",
       "    </tr>\n",
       "  </tbody>\n",
       "</table>\n",
       "</div>"
      ],
      "text/plain": [
       "                          count        mean         std     min       25%  \\\n",
       "Pregnancies               768.0    3.845052    3.369578   0.000   1.00000   \n",
       "Glucose                   768.0  120.894531   31.972618   0.000  99.00000   \n",
       "BloodPressure             768.0   69.105469   19.355807   0.000  62.00000   \n",
       "SkinThickness             768.0   20.536458   15.952218   0.000   0.00000   \n",
       "Insulin                   768.0   79.799479  115.244002   0.000   0.00000   \n",
       "BMI                       768.0   31.992578    7.884160   0.000  27.30000   \n",
       "DiabetesPedigreeFunction  768.0    0.471876    0.331329   0.078   0.24375   \n",
       "Age                       768.0   33.240885   11.760232  21.000  24.00000   \n",
       "Outcome                   768.0    0.348958    0.476951   0.000   0.00000   \n",
       "\n",
       "                               50%        75%     max  \n",
       "Pregnancies                 3.0000    6.00000   17.00  \n",
       "Glucose                   117.0000  140.25000  199.00  \n",
       "BloodPressure              72.0000   80.00000  122.00  \n",
       "SkinThickness              23.0000   32.00000   99.00  \n",
       "Insulin                    30.5000  127.25000  846.00  \n",
       "BMI                        32.0000   36.60000   67.10  \n",
       "DiabetesPedigreeFunction    0.3725    0.62625    2.42  \n",
       "Age                        29.0000   41.00000   81.00  \n",
       "Outcome                     0.0000    1.00000    1.00  "
      ]
     },
     "execution_count": 6,
     "metadata": {},
     "output_type": "execute_result"
    }
   ],
   "source": [
    "df.describe().T"
   ]
  },
  {
   "cell_type": "code",
   "execution_count": 7,
   "id": "69e5e8e4",
   "metadata": {
    "execution": {
     "iopub.execute_input": "2022-11-22T20:52:51.829390Z",
     "iopub.status.busy": "2022-11-22T20:52:51.829035Z",
     "iopub.status.idle": "2022-11-22T20:52:51.834218Z",
     "shell.execute_reply": "2022-11-22T20:52:51.833241Z"
    },
    "papermill": {
     "duration": 0.045413,
     "end_time": "2022-11-22T20:52:51.836007",
     "exception": false,
     "start_time": "2022-11-22T20:52:51.790594",
     "status": "completed"
    },
    "tags": []
   },
   "outputs": [],
   "source": [
    "y = df[\"Outcome\"]\n",
    "X = df.drop([\"Outcome\"], axis=1)"
   ]
  },
  {
   "cell_type": "code",
   "execution_count": 8,
   "id": "f79d05ef",
   "metadata": {
    "execution": {
     "iopub.execute_input": "2022-11-22T20:52:51.912006Z",
     "iopub.status.busy": "2022-11-22T20:52:51.910838Z",
     "iopub.status.idle": "2022-11-22T20:52:51.916986Z",
     "shell.execute_reply": "2022-11-22T20:52:51.915631Z"
    },
    "papermill": {
     "duration": 0.046213,
     "end_time": "2022-11-22T20:52:51.919061",
     "exception": false,
     "start_time": "2022-11-22T20:52:51.872848",
     "status": "completed"
    },
    "tags": []
   },
   "outputs": [],
   "source": [
    "#statsmodels"
   ]
  },
  {
   "cell_type": "code",
   "execution_count": 9,
   "id": "692f7227",
   "metadata": {
    "execution": {
     "iopub.execute_input": "2022-11-22T20:52:51.994842Z",
     "iopub.status.busy": "2022-11-22T20:52:51.994482Z",
     "iopub.status.idle": "2022-11-22T20:52:52.068925Z",
     "shell.execute_reply": "2022-11-22T20:52:52.068155Z"
    },
    "papermill": {
     "duration": 0.1162,
     "end_time": "2022-11-22T20:52:52.072106",
     "exception": false,
     "start_time": "2022-11-22T20:52:51.955906",
     "status": "completed"
    },
    "tags": []
   },
   "outputs": [
    {
     "name": "stdout",
     "output_type": "stream",
     "text": [
      "Optimization terminated successfully.\n",
      "         Current function value: 0.608498\n",
      "         Iterations 5\n"
     ]
    },
    {
     "data": {
      "text/html": [
       "<table class=\"simpletable\">\n",
       "<caption>Logit Regression Results</caption>\n",
       "<tr>\n",
       "  <th>Dep. Variable:</th>        <td>Outcome</td>     <th>  No. Observations:  </th>  <td>   768</td>  \n",
       "</tr>\n",
       "<tr>\n",
       "  <th>Model:</th>                 <td>Logit</td>      <th>  Df Residuals:      </th>  <td>   760</td>  \n",
       "</tr>\n",
       "<tr>\n",
       "  <th>Method:</th>                 <td>MLE</td>       <th>  Df Model:          </th>  <td>     7</td>  \n",
       "</tr>\n",
       "<tr>\n",
       "  <th>Date:</th>            <td>Tue, 22 Nov 2022</td> <th>  Pseudo R-squ.:     </th>  <td>0.05922</td> \n",
       "</tr>\n",
       "<tr>\n",
       "  <th>Time:</th>                <td>20:52:52</td>     <th>  Log-Likelihood:    </th> <td> -467.33</td> \n",
       "</tr>\n",
       "<tr>\n",
       "  <th>converged:</th>             <td>True</td>       <th>  LL-Null:           </th> <td> -496.74</td> \n",
       "</tr>\n",
       "<tr>\n",
       "  <th>Covariance Type:</th>     <td>nonrobust</td>    <th>  LLR p-value:       </th> <td>2.583e-10</td>\n",
       "</tr>\n",
       "</table>\n",
       "<table class=\"simpletable\">\n",
       "<tr>\n",
       "              <td></td>                <th>coef</th>     <th>std err</th>      <th>z</th>      <th>P>|z|</th>  <th>[0.025</th>    <th>0.975]</th>  \n",
       "</tr>\n",
       "<tr>\n",
       "  <th>Pregnancies</th>              <td>    0.1284</td> <td>    0.029</td> <td>    4.484</td> <td> 0.000</td> <td>    0.072</td> <td>    0.185</td>\n",
       "</tr>\n",
       "<tr>\n",
       "  <th>Glucose</th>                  <td>    0.0129</td> <td>    0.003</td> <td>    4.757</td> <td> 0.000</td> <td>    0.008</td> <td>    0.018</td>\n",
       "</tr>\n",
       "<tr>\n",
       "  <th>BloodPressure</th>            <td>   -0.0303</td> <td>    0.005</td> <td>   -6.481</td> <td> 0.000</td> <td>   -0.039</td> <td>   -0.021</td>\n",
       "</tr>\n",
       "<tr>\n",
       "  <th>SkinThickness</th>            <td>    0.0002</td> <td>    0.006</td> <td>    0.032</td> <td> 0.974</td> <td>   -0.012</td> <td>    0.012</td>\n",
       "</tr>\n",
       "<tr>\n",
       "  <th>Insulin</th>                  <td>    0.0007</td> <td>    0.001</td> <td>    0.942</td> <td> 0.346</td> <td>   -0.001</td> <td>    0.002</td>\n",
       "</tr>\n",
       "<tr>\n",
       "  <th>BMI</th>                      <td>   -0.0048</td> <td>    0.011</td> <td>   -0.449</td> <td> 0.653</td> <td>   -0.026</td> <td>    0.016</td>\n",
       "</tr>\n",
       "<tr>\n",
       "  <th>DiabetesPedigreeFunction</th> <td>    0.3203</td> <td>    0.240</td> <td>    1.335</td> <td> 0.182</td> <td>   -0.150</td> <td>    0.790</td>\n",
       "</tr>\n",
       "<tr>\n",
       "  <th>Age</th>                      <td>   -0.0156</td> <td>    0.008</td> <td>   -1.852</td> <td> 0.064</td> <td>   -0.032</td> <td>    0.001</td>\n",
       "</tr>\n",
       "</table>"
      ],
      "text/plain": [
       "<class 'statsmodels.iolib.summary.Summary'>\n",
       "\"\"\"\n",
       "                           Logit Regression Results                           \n",
       "==============================================================================\n",
       "Dep. Variable:                Outcome   No. Observations:                  768\n",
       "Model:                          Logit   Df Residuals:                      760\n",
       "Method:                           MLE   Df Model:                            7\n",
       "Date:                Tue, 22 Nov 2022   Pseudo R-squ.:                 0.05922\n",
       "Time:                        20:52:52   Log-Likelihood:                -467.33\n",
       "converged:                       True   LL-Null:                       -496.74\n",
       "Covariance Type:            nonrobust   LLR p-value:                 2.583e-10\n",
       "============================================================================================\n",
       "                               coef    std err          z      P>|z|      [0.025      0.975]\n",
       "--------------------------------------------------------------------------------------------\n",
       "Pregnancies                  0.1284      0.029      4.484      0.000       0.072       0.185\n",
       "Glucose                      0.0129      0.003      4.757      0.000       0.008       0.018\n",
       "BloodPressure               -0.0303      0.005     -6.481      0.000      -0.039      -0.021\n",
       "SkinThickness                0.0002      0.006      0.032      0.974      -0.012       0.012\n",
       "Insulin                      0.0007      0.001      0.942      0.346      -0.001       0.002\n",
       "BMI                         -0.0048      0.011     -0.449      0.653      -0.026       0.016\n",
       "DiabetesPedigreeFunction     0.3203      0.240      1.335      0.182      -0.150       0.790\n",
       "Age                         -0.0156      0.008     -1.852      0.064      -0.032       0.001\n",
       "============================================================================================\n",
       "\"\"\""
      ]
     },
     "execution_count": 9,
     "metadata": {},
     "output_type": "execute_result"
    }
   ],
   "source": [
    "loj = sm.Logit(y, X)\n",
    "loj_model= loj.fit()\n",
    "loj_model.summary()"
   ]
  },
  {
   "cell_type": "code",
   "execution_count": 10,
   "id": "64da4c64",
   "metadata": {
    "execution": {
     "iopub.execute_input": "2022-11-22T20:52:52.183568Z",
     "iopub.status.busy": "2022-11-22T20:52:52.183158Z",
     "iopub.status.idle": "2022-11-22T20:52:52.188632Z",
     "shell.execute_reply": "2022-11-22T20:52:52.187036Z"
    },
    "papermill": {
     "duration": 0.051013,
     "end_time": "2022-11-22T20:52:52.190834",
     "exception": false,
     "start_time": "2022-11-22T20:52:52.139821",
     "status": "completed"
    },
    "tags": []
   },
   "outputs": [],
   "source": [
    "#scikit-learn"
   ]
  },
  {
   "cell_type": "code",
   "execution_count": 11,
   "id": "7db19a64",
   "metadata": {
    "execution": {
     "iopub.execute_input": "2022-11-22T20:52:52.269332Z",
     "iopub.status.busy": "2022-11-22T20:52:52.268971Z",
     "iopub.status.idle": "2022-11-22T20:52:52.287892Z",
     "shell.execute_reply": "2022-11-22T20:52:52.286803Z"
    },
    "papermill": {
     "duration": 0.061053,
     "end_time": "2022-11-22T20:52:52.289830",
     "exception": false,
     "start_time": "2022-11-22T20:52:52.228777",
     "status": "completed"
    },
    "tags": []
   },
   "outputs": [
    {
     "data": {
      "text/plain": [
       "LogisticRegression(solver='liblinear')"
      ]
     },
     "execution_count": 11,
     "metadata": {},
     "output_type": "execute_result"
    }
   ],
   "source": [
    "from sklearn.linear_model import LogisticRegression\n",
    "loj = LogisticRegression(solver = \"liblinear\")\n",
    "loj_model = loj.fit(X,y)\n",
    "loj_model"
   ]
  },
  {
   "cell_type": "code",
   "execution_count": 12,
   "id": "de6f8f9e",
   "metadata": {
    "execution": {
     "iopub.execute_input": "2022-11-22T20:52:52.366572Z",
     "iopub.status.busy": "2022-11-22T20:52:52.365605Z",
     "iopub.status.idle": "2022-11-22T20:52:52.373255Z",
     "shell.execute_reply": "2022-11-22T20:52:52.372240Z"
    },
    "papermill": {
     "duration": 0.048242,
     "end_time": "2022-11-22T20:52:52.375238",
     "exception": false,
     "start_time": "2022-11-22T20:52:52.326996",
     "status": "completed"
    },
    "tags": []
   },
   "outputs": [
    {
     "data": {
      "text/plain": [
       "array([-5.89249766])"
      ]
     },
     "execution_count": 12,
     "metadata": {},
     "output_type": "execute_result"
    }
   ],
   "source": [
    "loj_model.intercept_ # sabit deger"
   ]
  },
  {
   "cell_type": "code",
   "execution_count": 13,
   "id": "0e6facfc",
   "metadata": {
    "execution": {
     "iopub.execute_input": "2022-11-22T20:52:52.451523Z",
     "iopub.status.busy": "2022-11-22T20:52:52.451082Z",
     "iopub.status.idle": "2022-11-22T20:52:52.457810Z",
     "shell.execute_reply": "2022-11-22T20:52:52.456952Z"
    },
    "papermill": {
     "duration": 0.047245,
     "end_time": "2022-11-22T20:52:52.459754",
     "exception": false,
     "start_time": "2022-11-22T20:52:52.412509",
     "status": "completed"
    },
    "tags": []
   },
   "outputs": [
    {
     "data": {
      "text/plain": [
       "array([[ 1.17061865e-01,  2.83893855e-02, -1.68880903e-02,\n",
       "         7.55635388e-04, -6.42919999e-04,  5.97757973e-02,\n",
       "         6.77489484e-01,  7.24167534e-03]])"
      ]
     },
     "execution_count": 13,
     "metadata": {},
     "output_type": "execute_result"
    }
   ],
   "source": [
    "loj_model.coef_ # butun bagimsiz degiskenlerin katsayi degerlerini bizlere verir"
   ]
  },
  {
   "cell_type": "markdown",
   "id": "11c63838",
   "metadata": {
    "papermill": {
     "duration": 0.03787,
     "end_time": "2022-11-22T20:52:52.536050",
     "exception": false,
     "start_time": "2022-11-22T20:52:52.498180",
     "status": "completed"
    },
    "tags": []
   },
   "source": [
    "## Tahmin & Model Tuning"
   ]
  },
  {
   "cell_type": "code",
   "execution_count": 14,
   "id": "37a23a37",
   "metadata": {
    "execution": {
     "iopub.execute_input": "2022-11-22T20:52:52.615699Z",
     "iopub.status.busy": "2022-11-22T20:52:52.614481Z",
     "iopub.status.idle": "2022-11-22T20:52:52.622854Z",
     "shell.execute_reply": "2022-11-22T20:52:52.621296Z"
    },
    "papermill": {
     "duration": 0.050967,
     "end_time": "2022-11-22T20:52:52.625273",
     "exception": false,
     "start_time": "2022-11-22T20:52:52.574306",
     "status": "completed"
    },
    "tags": []
   },
   "outputs": [],
   "source": [
    "y_pred = loj_model.predict(X)"
   ]
  },
  {
   "cell_type": "code",
   "execution_count": 15,
   "id": "2cee14a0",
   "metadata": {
    "execution": {
     "iopub.execute_input": "2022-11-22T20:52:52.702470Z",
     "iopub.status.busy": "2022-11-22T20:52:52.701103Z",
     "iopub.status.idle": "2022-11-22T20:52:52.710495Z",
     "shell.execute_reply": "2022-11-22T20:52:52.709626Z"
    },
    "papermill": {
     "duration": 0.049693,
     "end_time": "2022-11-22T20:52:52.712378",
     "exception": false,
     "start_time": "2022-11-22T20:52:52.662685",
     "status": "completed"
    },
    "tags": []
   },
   "outputs": [
    {
     "data": {
      "text/plain": [
       "array([[448,  52],\n",
       "       [121, 147]])"
      ]
     },
     "execution_count": 15,
     "metadata": {},
     "output_type": "execute_result"
    }
   ],
   "source": [
    "confusion_matrix(y, y_pred)"
   ]
  },
  {
   "cell_type": "code",
   "execution_count": 16,
   "id": "6bb60a42",
   "metadata": {
    "execution": {
     "iopub.execute_input": "2022-11-22T20:52:52.789570Z",
     "iopub.status.busy": "2022-11-22T20:52:52.789212Z",
     "iopub.status.idle": "2022-11-22T20:52:52.795715Z",
     "shell.execute_reply": "2022-11-22T20:52:52.794765Z"
    },
    "papermill": {
     "duration": 0.048811,
     "end_time": "2022-11-22T20:52:52.798237",
     "exception": false,
     "start_time": "2022-11-22T20:52:52.749426",
     "status": "completed"
    },
    "tags": []
   },
   "outputs": [
    {
     "data": {
      "text/plain": [
       "0.7747395833333334"
      ]
     },
     "execution_count": 16,
     "metadata": {},
     "output_type": "execute_result"
    }
   ],
   "source": [
    "accuracy_score(y, y_pred)"
   ]
  },
  {
   "cell_type": "code",
   "execution_count": 17,
   "id": "ee9a60c3",
   "metadata": {
    "execution": {
     "iopub.execute_input": "2022-11-22T20:52:52.875489Z",
     "iopub.status.busy": "2022-11-22T20:52:52.874780Z",
     "iopub.status.idle": "2022-11-22T20:52:52.884911Z",
     "shell.execute_reply": "2022-11-22T20:52:52.883568Z"
    },
    "papermill": {
     "duration": 0.05091,
     "end_time": "2022-11-22T20:52:52.886983",
     "exception": false,
     "start_time": "2022-11-22T20:52:52.836073",
     "status": "completed"
    },
    "tags": []
   },
   "outputs": [
    {
     "name": "stdout",
     "output_type": "stream",
     "text": [
      "              precision    recall  f1-score   support\n",
      "\n",
      "           0       0.79      0.90      0.84       500\n",
      "           1       0.74      0.55      0.63       268\n",
      "\n",
      "    accuracy                           0.77       768\n",
      "   macro avg       0.76      0.72      0.73       768\n",
      "weighted avg       0.77      0.77      0.77       768\n",
      "\n"
     ]
    }
   ],
   "source": [
    "print(classification_report(y, y_pred))"
   ]
  },
  {
   "cell_type": "code",
   "execution_count": 18,
   "id": "2e989dd0",
   "metadata": {
    "execution": {
     "iopub.execute_input": "2022-11-22T20:52:52.964170Z",
     "iopub.status.busy": "2022-11-22T20:52:52.963826Z",
     "iopub.status.idle": "2022-11-22T20:52:52.971289Z",
     "shell.execute_reply": "2022-11-22T20:52:52.970403Z"
    },
    "papermill": {
     "duration": 0.047774,
     "end_time": "2022-11-22T20:52:52.973012",
     "exception": false,
     "start_time": "2022-11-22T20:52:52.925238",
     "status": "completed"
    },
    "tags": []
   },
   "outputs": [
    {
     "data": {
      "text/plain": [
       "array([1, 0, 1, 0, 1, 0, 0, 1, 1, 0])"
      ]
     },
     "execution_count": 18,
     "metadata": {},
     "output_type": "execute_result"
    }
   ],
   "source": [
    "loj_model.predict(X)[0:10]"
   ]
  },
  {
   "cell_type": "code",
   "execution_count": 19,
   "id": "e557b561",
   "metadata": {
    "execution": {
     "iopub.execute_input": "2022-11-22T20:52:53.051732Z",
     "iopub.status.busy": "2022-11-22T20:52:53.051141Z",
     "iopub.status.idle": "2022-11-22T20:52:53.059605Z",
     "shell.execute_reply": "2022-11-22T20:52:53.058662Z"
    },
    "papermill": {
     "duration": 0.050773,
     "end_time": "2022-11-22T20:52:53.061951",
     "exception": false,
     "start_time": "2022-11-22T20:52:53.011178",
     "status": "completed"
    },
    "tags": []
   },
   "outputs": [
    {
     "data": {
      "text/plain": [
       "array([[0.35038581, 0.64961419],\n",
       "       [0.91703384, 0.08296616],\n",
       "       [0.22474952, 0.77525048],\n",
       "       [0.92140079, 0.07859921],\n",
       "       [0.16726037, 0.83273963],\n",
       "       [0.79899939, 0.20100061],\n",
       "       [0.88020685, 0.11979315],\n",
       "       [0.27812564, 0.72187436],\n",
       "       [0.32058587, 0.67941413],\n",
       "       [0.92275333, 0.07724667]])"
      ]
     },
     "execution_count": 19,
     "metadata": {},
     "output_type": "execute_result"
    }
   ],
   "source": [
    "loj_model.predict_proba(X)[0:10][:,0:2]"
   ]
  },
  {
   "cell_type": "code",
   "execution_count": 20,
   "id": "2e0999d8",
   "metadata": {
    "execution": {
     "iopub.execute_input": "2022-11-22T20:52:53.140508Z",
     "iopub.status.busy": "2022-11-22T20:52:53.140126Z",
     "iopub.status.idle": "2022-11-22T20:52:53.147348Z",
     "shell.execute_reply": "2022-11-22T20:52:53.146267Z"
    },
    "papermill": {
     "duration": 0.049245,
     "end_time": "2022-11-22T20:52:53.149224",
     "exception": false,
     "start_time": "2022-11-22T20:52:53.099979",
     "status": "completed"
    },
    "tags": []
   },
   "outputs": [
    {
     "data": {
      "text/plain": [
       "0    1\n",
       "1    0\n",
       "2    1\n",
       "3    0\n",
       "4    1\n",
       "5    0\n",
       "6    1\n",
       "7    0\n",
       "8    1\n",
       "9    1\n",
       "Name: Outcome, dtype: int64"
      ]
     },
     "execution_count": 20,
     "metadata": {},
     "output_type": "execute_result"
    }
   ],
   "source": [
    "y[0:10]"
   ]
  },
  {
   "cell_type": "code",
   "execution_count": 21,
   "id": "bc85150d",
   "metadata": {
    "execution": {
     "iopub.execute_input": "2022-11-22T20:52:53.226884Z",
     "iopub.status.busy": "2022-11-22T20:52:53.226493Z",
     "iopub.status.idle": "2022-11-22T20:52:53.233873Z",
     "shell.execute_reply": "2022-11-22T20:52:53.232461Z"
    },
    "papermill": {
     "duration": 0.049656,
     "end_time": "2022-11-22T20:52:53.236481",
     "exception": false,
     "start_time": "2022-11-22T20:52:53.186825",
     "status": "completed"
    },
    "tags": []
   },
   "outputs": [],
   "source": [
    "y_probs = loj_model.predict_proba(X)\n",
    "y_probs = y_probs[:,1]"
   ]
  },
  {
   "cell_type": "code",
   "execution_count": 22,
   "id": "d3597dee",
   "metadata": {
    "execution": {
     "iopub.execute_input": "2022-11-22T20:52:53.317945Z",
     "iopub.status.busy": "2022-11-22T20:52:53.316887Z",
     "iopub.status.idle": "2022-11-22T20:52:53.323348Z",
     "shell.execute_reply": "2022-11-22T20:52:53.322497Z"
    },
    "papermill": {
     "duration": 0.04907,
     "end_time": "2022-11-22T20:52:53.324991",
     "exception": false,
     "start_time": "2022-11-22T20:52:53.275921",
     "status": "completed"
    },
    "tags": []
   },
   "outputs": [
    {
     "data": {
      "text/plain": [
       "array([0.64961419, 0.08296616, 0.77525048, 0.07859921, 0.83273963,\n",
       "       0.20100061, 0.11979315, 0.72187436, 0.67941413, 0.07724667])"
      ]
     },
     "execution_count": 22,
     "metadata": {},
     "output_type": "execute_result"
    }
   ],
   "source": [
    "y_probs[0:10]"
   ]
  },
  {
   "cell_type": "code",
   "execution_count": 23,
   "id": "71f94837",
   "metadata": {
    "execution": {
     "iopub.execute_input": "2022-11-22T20:52:53.404861Z",
     "iopub.status.busy": "2022-11-22T20:52:53.403692Z",
     "iopub.status.idle": "2022-11-22T20:52:53.408713Z",
     "shell.execute_reply": "2022-11-22T20:52:53.407883Z"
    },
    "papermill": {
     "duration": 0.047661,
     "end_time": "2022-11-22T20:52:53.411034",
     "exception": false,
     "start_time": "2022-11-22T20:52:53.363373",
     "status": "completed"
    },
    "tags": []
   },
   "outputs": [],
   "source": [
    "y_pred = [1 if i > 0.5 else 0 for i in y_probs]"
   ]
  },
  {
   "cell_type": "code",
   "execution_count": 24,
   "id": "61b8c736",
   "metadata": {
    "execution": {
     "iopub.execute_input": "2022-11-22T20:52:53.490566Z",
     "iopub.status.busy": "2022-11-22T20:52:53.490133Z",
     "iopub.status.idle": "2022-11-22T20:52:53.496365Z",
     "shell.execute_reply": "2022-11-22T20:52:53.495315Z"
    },
    "papermill": {
     "duration": 0.048242,
     "end_time": "2022-11-22T20:52:53.498097",
     "exception": false,
     "start_time": "2022-11-22T20:52:53.449855",
     "status": "completed"
    },
    "tags": []
   },
   "outputs": [
    {
     "data": {
      "text/plain": [
       "[1, 0, 1, 0, 1, 0, 0, 1, 1, 0]"
      ]
     },
     "execution_count": 24,
     "metadata": {},
     "output_type": "execute_result"
    }
   ],
   "source": [
    "y_pred[0:10]"
   ]
  },
  {
   "cell_type": "code",
   "execution_count": 25,
   "id": "3b6b33a5",
   "metadata": {
    "execution": {
     "iopub.execute_input": "2022-11-22T20:52:53.576566Z",
     "iopub.status.busy": "2022-11-22T20:52:53.576180Z",
     "iopub.status.idle": "2022-11-22T20:52:53.583945Z",
     "shell.execute_reply": "2022-11-22T20:52:53.583017Z"
    },
    "papermill": {
     "duration": 0.048967,
     "end_time": "2022-11-22T20:52:53.585558",
     "exception": false,
     "start_time": "2022-11-22T20:52:53.536591",
     "status": "completed"
    },
    "tags": []
   },
   "outputs": [
    {
     "data": {
      "text/plain": [
       "array([[448,  52],\n",
       "       [121, 147]])"
      ]
     },
     "execution_count": 25,
     "metadata": {},
     "output_type": "execute_result"
    }
   ],
   "source": [
    "confusion_matrix(y, y_pred)"
   ]
  },
  {
   "cell_type": "code",
   "execution_count": 26,
   "id": "9c037659",
   "metadata": {
    "execution": {
     "iopub.execute_input": "2022-11-22T20:52:53.664881Z",
     "iopub.status.busy": "2022-11-22T20:52:53.664032Z",
     "iopub.status.idle": "2022-11-22T20:52:53.671086Z",
     "shell.execute_reply": "2022-11-22T20:52:53.670109Z"
    },
    "papermill": {
     "duration": 0.04895,
     "end_time": "2022-11-22T20:52:53.672951",
     "exception": false,
     "start_time": "2022-11-22T20:52:53.624001",
     "status": "completed"
    },
    "tags": []
   },
   "outputs": [
    {
     "data": {
      "text/plain": [
       "0.7747395833333334"
      ]
     },
     "execution_count": 26,
     "metadata": {},
     "output_type": "execute_result"
    }
   ],
   "source": [
    "accuracy_score(y, y_pred)"
   ]
  },
  {
   "cell_type": "code",
   "execution_count": 27,
   "id": "ea6363cd",
   "metadata": {
    "execution": {
     "iopub.execute_input": "2022-11-22T20:52:53.751089Z",
     "iopub.status.busy": "2022-11-22T20:52:53.750531Z",
     "iopub.status.idle": "2022-11-22T20:52:53.759751Z",
     "shell.execute_reply": "2022-11-22T20:52:53.758709Z"
    },
    "papermill": {
     "duration": 0.050483,
     "end_time": "2022-11-22T20:52:53.761536",
     "exception": false,
     "start_time": "2022-11-22T20:52:53.711053",
     "status": "completed"
    },
    "tags": []
   },
   "outputs": [
    {
     "name": "stdout",
     "output_type": "stream",
     "text": [
      "              precision    recall  f1-score   support\n",
      "\n",
      "           0       0.79      0.90      0.84       500\n",
      "           1       0.74      0.55      0.63       268\n",
      "\n",
      "    accuracy                           0.77       768\n",
      "   macro avg       0.76      0.72      0.73       768\n",
      "weighted avg       0.77      0.77      0.77       768\n",
      "\n"
     ]
    }
   ],
   "source": [
    "print(classification_report(y, y_pred))"
   ]
  },
  {
   "cell_type": "code",
   "execution_count": 28,
   "id": "1205c457",
   "metadata": {
    "execution": {
     "iopub.execute_input": "2022-11-22T20:52:53.839965Z",
     "iopub.status.busy": "2022-11-22T20:52:53.839415Z",
     "iopub.status.idle": "2022-11-22T20:52:53.847382Z",
     "shell.execute_reply": "2022-11-22T20:52:53.846548Z"
    },
    "papermill": {
     "duration": 0.049297,
     "end_time": "2022-11-22T20:52:53.849039",
     "exception": false,
     "start_time": "2022-11-22T20:52:53.799742",
     "status": "completed"
    },
    "tags": []
   },
   "outputs": [
    {
     "data": {
      "text/plain": [
       "array([0.64961419, 0.08296616, 0.77525048, 0.07859921, 0.83273963])"
      ]
     },
     "execution_count": 28,
     "metadata": {},
     "output_type": "execute_result"
    }
   ],
   "source": [
    "loj_model.predict_proba(X)[:,1][0:5]"
   ]
  },
  {
   "cell_type": "code",
   "execution_count": 29,
   "id": "e7276fbc",
   "metadata": {
    "execution": {
     "iopub.execute_input": "2022-11-22T20:52:53.927073Z",
     "iopub.status.busy": "2022-11-22T20:52:53.926511Z",
     "iopub.status.idle": "2022-11-22T20:52:54.061625Z",
     "shell.execute_reply": "2022-11-22T20:52:54.060617Z"
    },
    "papermill": {
     "duration": 0.176924,
     "end_time": "2022-11-22T20:52:54.063911",
     "exception": false,
     "start_time": "2022-11-22T20:52:53.886987",
     "status": "completed"
    },
    "tags": []
   },
   "outputs": [
    {
     "data": {
      "image/png": "[encoded data removed]",
      "text/plain": [
       "<Figure size 432x288 with 1 Axes>"
      ]
     },
     "metadata": {
      "needs_background": "light"
     },
     "output_type": "display_data"
    }
   ],
   "source": [
    "logit_roc_auc = roc_auc_score(y, loj_model.predict(X))\n",
    "\n",
    "fpr, tpr, thresholds = roc_curve(y, loj_model.predict_proba(X)[:,1])\n",
    "plt.figure()\n",
    "plt.plot(fpr, tpr, label='AUC (area = %0.2f)' % logit_roc_auc)\n",
    "plt.plot([0, 1], [0, 1],'r--')\n",
    "plt.xlim([0.0, 1.0])\n",
    "plt.ylim([0.0, 1.05])\n",
    "plt.xlabel('False Positive Oranı')\n",
    "plt.ylabel('True Positive Oranı')\n",
    "plt.title('ROC')\n",
    "plt.show()"
   ]
  },
  {
   "cell_type": "code",
   "execution_count": 30,
   "id": "90055bf5",
   "metadata": {
    "execution": {
     "iopub.execute_input": "2022-11-22T20:52:54.145814Z",
     "iopub.status.busy": "2022-11-22T20:52:54.144943Z",
     "iopub.status.idle": "2022-11-22T20:52:54.150651Z",
     "shell.execute_reply": "2022-11-22T20:52:54.149956Z"
    },
    "papermill": {
     "duration": 0.048479,
     "end_time": "2022-11-22T20:52:54.152936",
     "exception": false,
     "start_time": "2022-11-22T20:52:54.104457",
     "status": "completed"
    },
    "tags": []
   },
   "outputs": [],
   "source": [
    "X_train, X_test, y_train, y_test = train_test_split(X, y, \n",
    "                                                    test_size = 0.30, \n",
    "                                                    random_state = 42)\n"
   ]
  },
  {
   "cell_type": "code",
   "execution_count": 31,
   "id": "9fa4f8db",
   "metadata": {
    "execution": {
     "iopub.execute_input": "2022-11-22T20:52:54.232862Z",
     "iopub.status.busy": "2022-11-22T20:52:54.232220Z",
     "iopub.status.idle": "2022-11-22T20:52:54.245781Z",
     "shell.execute_reply": "2022-11-22T20:52:54.244564Z"
    },
    "papermill": {
     "duration": 0.05576,
     "end_time": "2022-11-22T20:52:54.247768",
     "exception": false,
     "start_time": "2022-11-22T20:52:54.192008",
     "status": "completed"
    },
    "tags": []
   },
   "outputs": [
    {
     "data": {
      "text/plain": [
       "LogisticRegression(solver='liblinear')"
      ]
     },
     "execution_count": 31,
     "metadata": {},
     "output_type": "execute_result"
    }
   ],
   "source": [
    "loj = LogisticRegression(solver = \"liblinear\")\n",
    "loj_model = loj.fit(X_train,y_train)\n",
    "loj_model"
   ]
  },
  {
   "cell_type": "code",
   "execution_count": 32,
   "id": "aee5bd50",
   "metadata": {
    "execution": {
     "iopub.execute_input": "2022-11-22T20:52:54.327850Z",
     "iopub.status.busy": "2022-11-22T20:52:54.327457Z",
     "iopub.status.idle": "2022-11-22T20:52:54.336675Z",
     "shell.execute_reply": "2022-11-22T20:52:54.335660Z"
    },
    "papermill": {
     "duration": 0.051093,
     "end_time": "2022-11-22T20:52:54.338445",
     "exception": false,
     "start_time": "2022-11-22T20:52:54.287352",
     "status": "completed"
    },
    "tags": []
   },
   "outputs": [
    {
     "data": {
      "text/plain": [
       "0.7532467532467533"
      ]
     },
     "execution_count": 32,
     "metadata": {},
     "output_type": "execute_result"
    }
   ],
   "source": [
    "accuracy_score(y_test, loj_model.predict(X_test))"
   ]
  },
  {
   "cell_type": "code",
   "execution_count": 33,
   "id": "ba09de4d",
   "metadata": {
    "execution": {
     "iopub.execute_input": "2022-11-22T20:52:54.417336Z",
     "iopub.status.busy": "2022-11-22T20:52:54.416778Z",
     "iopub.status.idle": "2022-11-22T20:52:54.478637Z",
     "shell.execute_reply": "2022-11-22T20:52:54.477303Z"
    },
    "papermill": {
     "duration": 0.103789,
     "end_time": "2022-11-22T20:52:54.480895",
     "exception": false,
     "start_time": "2022-11-22T20:52:54.377106",
     "status": "completed"
    },
    "tags": []
   },
   "outputs": [
    {
     "data": {
      "text/plain": [
       "0.7748188405797102"
      ]
     },
     "execution_count": 33,
     "metadata": {},
     "output_type": "execute_result"
    }
   ],
   "source": [
    "cross_val_score(loj_model, X_test, y_test, cv = 10).mean()"
   ]
  },
  {
   "cell_type": "markdown",
   "id": "5cd58984",
   "metadata": {
    "papermill": {
     "duration": 0.038865,
     "end_time": "2022-11-22T20:52:54.559036",
     "exception": false,
     "start_time": "2022-11-22T20:52:54.520171",
     "status": "completed"
    },
    "tags": []
   },
   "source": [
    "# Gaussian Naive Bayes"
   ]
  },
  {
   "cell_type": "code",
   "execution_count": 34,
   "id": "506bccc2",
   "metadata": {
    "execution": {
     "iopub.execute_input": "2022-11-22T20:52:54.638435Z",
     "iopub.status.busy": "2022-11-22T20:52:54.638050Z",
     "iopub.status.idle": "2022-11-22T20:52:54.646096Z",
     "shell.execute_reply": "2022-11-22T20:52:54.645384Z"
    },
    "papermill": {
     "duration": 0.050805,
     "end_time": "2022-11-22T20:52:54.648472",
     "exception": false,
     "start_time": "2022-11-22T20:52:54.597667",
     "status": "completed"
    },
    "tags": []
   },
   "outputs": [],
   "source": [
    "df = diabetes.copy()\n",
    "df = df.dropna()\n",
    "y = df[\"Outcome\"]\n",
    "X = df.drop(['Outcome'], axis=1)\n",
    "X_train, X_test, y_train, y_test = train_test_split(X, y, \n",
    "                                                    test_size=0.30, \n",
    "                                                    random_state=42)\n",
    "\n"
   ]
  },
  {
   "cell_type": "code",
   "execution_count": 35,
   "id": "c6aa1ee1",
   "metadata": {
    "execution": {
     "iopub.execute_input": "2022-11-22T20:52:54.785256Z",
     "iopub.status.busy": "2022-11-22T20:52:54.784670Z",
     "iopub.status.idle": "2022-11-22T20:52:54.788178Z",
     "shell.execute_reply": "2022-11-22T20:52:54.787591Z"
    },
    "papermill": {
     "duration": 0.102151,
     "end_time": "2022-11-22T20:52:54.790384",
     "exception": false,
     "start_time": "2022-11-22T20:52:54.688233",
     "status": "completed"
    },
    "tags": []
   },
   "outputs": [],
   "source": [
    "from sklearn.naive_bayes import GaussianNB"
   ]
  },
  {
   "cell_type": "code",
   "execution_count": 36,
   "id": "0519778f",
   "metadata": {
    "execution": {
     "iopub.execute_input": "2022-11-22T20:52:54.870806Z",
     "iopub.status.busy": "2022-11-22T20:52:54.870255Z",
     "iopub.status.idle": "2022-11-22T20:52:54.878126Z",
     "shell.execute_reply": "2022-11-22T20:52:54.877149Z"
    },
    "papermill": {
     "duration": 0.050039,
     "end_time": "2022-11-22T20:52:54.879825",
     "exception": false,
     "start_time": "2022-11-22T20:52:54.829786",
     "status": "completed"
    },
    "tags": []
   },
   "outputs": [
    {
     "data": {
      "text/plain": [
       "GaussianNB()"
      ]
     },
     "execution_count": 36,
     "metadata": {},
     "output_type": "execute_result"
    }
   ],
   "source": [
    "nb = GaussianNB()\n",
    "nb_model = nb.fit(X_train, y_train)\n",
    "nb_model"
   ]
  },
  {
   "cell_type": "code",
   "execution_count": 37,
   "id": "7567134c",
   "metadata": {
    "execution": {
     "iopub.execute_input": "2022-11-22T20:52:54.960486Z",
     "iopub.status.busy": "2022-11-22T20:52:54.959816Z",
     "iopub.status.idle": "2022-11-22T20:52:54.967503Z",
     "shell.execute_reply": "2022-11-22T20:52:54.966553Z"
    },
    "papermill": {
     "duration": 0.050513,
     "end_time": "2022-11-22T20:52:54.969277",
     "exception": false,
     "start_time": "2022-11-22T20:52:54.918764",
     "status": "completed"
    },
    "tags": []
   },
   "outputs": [
    {
     "data": {
      "text/plain": [
       "array([0, 0, 0, 0, 1, 1, 0, 0, 0, 1])"
      ]
     },
     "execution_count": 37,
     "metadata": {},
     "output_type": "execute_result"
    }
   ],
   "source": [
    "nb_model.predict(X_test)[0:10]"
   ]
  },
  {
   "cell_type": "code",
   "execution_count": 38,
   "id": "65ab9ba6",
   "metadata": {
    "execution": {
     "iopub.execute_input": "2022-11-22T20:52:55.049547Z",
     "iopub.status.busy": "2022-11-22T20:52:55.048964Z",
     "iopub.status.idle": "2022-11-22T20:52:55.056831Z",
     "shell.execute_reply": "2022-11-22T20:52:55.055937Z"
    },
    "papermill": {
     "duration": 0.050162,
     "end_time": "2022-11-22T20:52:55.058799",
     "exception": false,
     "start_time": "2022-11-22T20:52:55.008637",
     "status": "completed"
    },
    "tags": []
   },
   "outputs": [
    {
     "data": {
      "text/plain": [
       "array([[0.73815858, 0.26184142],\n",
       "       [0.94027894, 0.05972106],\n",
       "       [0.97242831, 0.02757169],\n",
       "       [0.82840069, 0.17159931],\n",
       "       [0.47153473, 0.52846527],\n",
       "       [0.47274458, 0.52725542],\n",
       "       [0.99607705, 0.00392295],\n",
       "       [0.69925055, 0.30074945],\n",
       "       [0.53838117, 0.46161883],\n",
       "       [0.25004536, 0.74995464]])"
      ]
     },
     "execution_count": 38,
     "metadata": {},
     "output_type": "execute_result"
    }
   ],
   "source": [
    "nb_model.predict_proba(X_test)[0:10]"
   ]
  },
  {
   "cell_type": "code",
   "execution_count": 39,
   "id": "39d5c220",
   "metadata": {
    "execution": {
     "iopub.execute_input": "2022-11-22T20:52:55.140500Z",
     "iopub.status.busy": "2022-11-22T20:52:55.140095Z",
     "iopub.status.idle": "2022-11-22T20:52:55.147404Z",
     "shell.execute_reply": "2022-11-22T20:52:55.146053Z"
    },
    "papermill": {
     "duration": 0.051192,
     "end_time": "2022-11-22T20:52:55.149620",
     "exception": false,
     "start_time": "2022-11-22T20:52:55.098428",
     "status": "completed"
    },
    "tags": []
   },
   "outputs": [],
   "source": [
    "y_pred = nb_model.predict(X_test)"
   ]
  },
  {
   "cell_type": "code",
   "execution_count": 40,
   "id": "38b0d39e",
   "metadata": {
    "execution": {
     "iopub.execute_input": "2022-11-22T20:52:55.231487Z",
     "iopub.status.busy": "2022-11-22T20:52:55.230813Z",
     "iopub.status.idle": "2022-11-22T20:52:55.238831Z",
     "shell.execute_reply": "2022-11-22T20:52:55.237725Z"
    },
    "papermill": {
     "duration": 0.05133,
     "end_time": "2022-11-22T20:52:55.240833",
     "exception": false,
     "start_time": "2022-11-22T20:52:55.189503",
     "status": "completed"
    },
    "tags": []
   },
   "outputs": [
    {
     "data": {
      "text/plain": [
       "0.7445887445887446"
      ]
     },
     "execution_count": 40,
     "metadata": {},
     "output_type": "execute_result"
    }
   ],
   "source": [
    "accuracy_score(y_test, y_pred)"
   ]
  },
  {
   "cell_type": "code",
   "execution_count": 41,
   "id": "da13605a",
   "metadata": {
    "execution": {
     "iopub.execute_input": "2022-11-22T20:52:55.320549Z",
     "iopub.status.busy": "2022-11-22T20:52:55.320111Z",
     "iopub.status.idle": "2022-11-22T20:52:55.366443Z",
     "shell.execute_reply": "2022-11-22T20:52:55.365779Z"
    },
    "papermill": {
     "duration": 0.087928,
     "end_time": "2022-11-22T20:52:55.368173",
     "exception": false,
     "start_time": "2022-11-22T20:52:55.280245",
     "status": "completed"
    },
    "tags": []
   },
   "outputs": [
    {
     "data": {
      "text/plain": [
       "0.775"
      ]
     },
     "execution_count": 41,
     "metadata": {},
     "output_type": "execute_result"
    }
   ],
   "source": [
    "cross_val_score(nb_model, X_test, y_test, cv = 10).mean()"
   ]
  },
  {
   "cell_type": "markdown",
   "id": "6e240cb5",
   "metadata": {
    "papermill": {
     "duration": 0.038996,
     "end_time": "2022-11-22T20:52:55.446623",
     "exception": false,
     "start_time": "2022-11-22T20:52:55.407627",
     "status": "completed"
    },
    "tags": []
   },
   "source": [
    "# KNN"
   ]
  },
  {
   "cell_type": "markdown",
   "id": "21cd4f41",
   "metadata": {
    "papermill": {
     "duration": 0.03943,
     "end_time": "2022-11-22T20:52:55.525281",
     "exception": false,
     "start_time": "2022-11-22T20:52:55.485851",
     "status": "completed"
    },
    "tags": []
   },
   "source": [
    "## Model & Tahmin"
   ]
  },
  {
   "cell_type": "code",
   "execution_count": 42,
   "id": "0f9a9384",
   "metadata": {
    "execution": {
     "iopub.execute_input": "2022-11-22T20:52:55.606478Z",
     "iopub.status.busy": "2022-11-22T20:52:55.605956Z",
     "iopub.status.idle": "2022-11-22T20:52:55.614554Z",
     "shell.execute_reply": "2022-11-22T20:52:55.613476Z"
    },
    "papermill": {
     "duration": 0.051563,
     "end_time": "2022-11-22T20:52:55.616402",
     "exception": false,
     "start_time": "2022-11-22T20:52:55.564839",
     "status": "completed"
    },
    "tags": []
   },
   "outputs": [],
   "source": [
    "df = diabetes.copy()\n",
    "df = df.dropna()\n",
    "y = df[\"Outcome\"]\n",
    "X = df.drop(['Outcome'], axis=1)\n",
    "X_train, X_test, y_train, y_test = train_test_split(X, y, \n",
    "                                                    test_size=0.30, \n",
    "                                                    random_state=42)"
   ]
  },
  {
   "cell_type": "code",
   "execution_count": 43,
   "id": "41cf9fdf",
   "metadata": {
    "execution": {
     "iopub.execute_input": "2022-11-22T20:52:55.698358Z",
     "iopub.status.busy": "2022-11-22T20:52:55.697673Z",
     "iopub.status.idle": "2022-11-22T20:52:55.707356Z",
     "shell.execute_reply": "2022-11-22T20:52:55.706173Z"
    },
    "papermill": {
     "duration": 0.052664,
     "end_time": "2022-11-22T20:52:55.709124",
     "exception": false,
     "start_time": "2022-11-22T20:52:55.656460",
     "status": "completed"
    },
    "tags": []
   },
   "outputs": [
    {
     "data": {
      "text/plain": [
       "KNeighborsClassifier()"
      ]
     },
     "execution_count": 43,
     "metadata": {},
     "output_type": "execute_result"
    }
   ],
   "source": [
    "knn = KNeighborsClassifier()\n",
    "knn_model = knn.fit(X_train, y_train)\n",
    "knn_model"
   ]
  },
  {
   "cell_type": "code",
   "execution_count": 44,
   "id": "d5e8f733",
   "metadata": {
    "execution": {
     "iopub.execute_input": "2022-11-22T20:52:55.790422Z",
     "iopub.status.busy": "2022-11-22T20:52:55.789867Z",
     "iopub.status.idle": "2022-11-22T20:52:55.801811Z",
     "shell.execute_reply": "2022-11-22T20:52:55.800907Z"
    },
    "papermill": {
     "duration": 0.054848,
     "end_time": "2022-11-22T20:52:55.803681",
     "exception": false,
     "start_time": "2022-11-22T20:52:55.748833",
     "status": "completed"
    },
    "tags": []
   },
   "outputs": [],
   "source": [
    "y_pred = knn_model.predict(X_test)"
   ]
  },
  {
   "cell_type": "code",
   "execution_count": 45,
   "id": "97430d07",
   "metadata": {
    "execution": {
     "iopub.execute_input": "2022-11-22T20:52:55.884042Z",
     "iopub.status.busy": "2022-11-22T20:52:55.883688Z",
     "iopub.status.idle": "2022-11-22T20:52:55.891364Z",
     "shell.execute_reply": "2022-11-22T20:52:55.890591Z"
    },
    "papermill": {
     "duration": 0.049763,
     "end_time": "2022-11-22T20:52:55.893059",
     "exception": false,
     "start_time": "2022-11-22T20:52:55.843296",
     "status": "completed"
    },
    "tags": []
   },
   "outputs": [
    {
     "data": {
      "text/plain": [
       "0.6883116883116883"
      ]
     },
     "execution_count": 45,
     "metadata": {},
     "output_type": "execute_result"
    }
   ],
   "source": [
    "accuracy_score(y_test, y_pred)"
   ]
  },
  {
   "cell_type": "code",
   "execution_count": 46,
   "id": "3ef4a2a5",
   "metadata": {
    "execution": {
     "iopub.execute_input": "2022-11-22T20:52:55.974521Z",
     "iopub.status.busy": "2022-11-22T20:52:55.973782Z",
     "iopub.status.idle": "2022-11-22T20:52:55.982878Z",
     "shell.execute_reply": "2022-11-22T20:52:55.982072Z"
    },
    "papermill": {
     "duration": 0.053027,
     "end_time": "2022-11-22T20:52:55.985836",
     "exception": false,
     "start_time": "2022-11-22T20:52:55.932809",
     "status": "completed"
    },
    "tags": []
   },
   "outputs": [
    {
     "name": "stdout",
     "output_type": "stream",
     "text": [
      "              precision    recall  f1-score   support\n",
      "\n",
      "           0       0.77      0.75      0.76       151\n",
      "           1       0.55      0.56      0.56        80\n",
      "\n",
      "    accuracy                           0.69       231\n",
      "   macro avg       0.66      0.66      0.66       231\n",
      "weighted avg       0.69      0.69      0.69       231\n",
      "\n"
     ]
    }
   ],
   "source": [
    "print(classification_report(y_test, y_pred))"
   ]
  },
  {
   "cell_type": "markdown",
   "id": "3f4c7009",
   "metadata": {
    "papermill": {
     "duration": 0.040573,
     "end_time": "2022-11-22T20:52:56.067669",
     "exception": false,
     "start_time": "2022-11-22T20:52:56.027096",
     "status": "completed"
    },
    "tags": []
   },
   "source": [
    "## Model Tuning"
   ]
  },
  {
   "cell_type": "code",
   "execution_count": 47,
   "id": "bc0cd068",
   "metadata": {
    "execution": {
     "iopub.execute_input": "2022-11-22T20:52:56.149865Z",
     "iopub.status.busy": "2022-11-22T20:52:56.149049Z",
     "iopub.status.idle": "2022-11-22T20:52:56.153899Z",
     "shell.execute_reply": "2022-11-22T20:52:56.152909Z"
    },
    "papermill": {
     "duration": 0.048004,
     "end_time": "2022-11-22T20:52:56.155800",
     "exception": false,
     "start_time": "2022-11-22T20:52:56.107796",
     "status": "completed"
    },
    "tags": []
   },
   "outputs": [],
   "source": [
    "knn_params = {\"n_neighbors\": np.arange(1,50)}"
   ]
  },
  {
   "cell_type": "code",
   "execution_count": 48,
   "id": "4c2df3ab",
   "metadata": {
    "execution": {
     "iopub.execute_input": "2022-11-22T20:52:56.240175Z",
     "iopub.status.busy": "2022-11-22T20:52:56.239574Z",
     "iopub.status.idle": "2022-11-22T20:52:59.136405Z",
     "shell.execute_reply": "2022-11-22T20:52:59.134743Z"
    },
    "papermill": {
     "duration": 2.941812,
     "end_time": "2022-11-22T20:52:59.138723",
     "exception": false,
     "start_time": "2022-11-22T20:52:56.196911",
     "status": "completed"
    },
    "tags": []
   },
   "outputs": [
    {
     "data": {
      "text/plain": [
       "GridSearchCV(cv=10, estimator=KNeighborsClassifier(),\n",
       "             param_grid={'n_neighbors': array([ 1,  2,  3,  4,  5,  6,  7,  8,  9, 10, 11, 12, 13, 14, 15, 16, 17,\n",
       "       18, 19, 20, 21, 22, 23, 24, 25, 26, 27, 28, 29, 30, 31, 32, 33, 34,\n",
       "       35, 36, 37, 38, 39, 40, 41, 42, 43, 44, 45, 46, 47, 48, 49])})"
      ]
     },
     "execution_count": 48,
     "metadata": {},
     "output_type": "execute_result"
    }
   ],
   "source": [
    "knn = KNeighborsClassifier()\n",
    "knn_cv = GridSearchCV(knn, knn_params, cv=10)\n",
    "knn_cv.fit(X_train, y_train)"
   ]
  },
  {
   "cell_type": "code",
   "execution_count": 49,
   "id": "767e3eb1",
   "metadata": {
    "execution": {
     "iopub.execute_input": "2022-11-22T20:52:59.222396Z",
     "iopub.status.busy": "2022-11-22T20:52:59.221766Z",
     "iopub.status.idle": "2022-11-22T20:52:59.226670Z",
     "shell.execute_reply": "2022-11-22T20:52:59.225561Z"
    },
    "papermill": {
     "duration": 0.049024,
     "end_time": "2022-11-22T20:52:59.228554",
     "exception": false,
     "start_time": "2022-11-22T20:52:59.179530",
     "status": "completed"
    },
    "tags": []
   },
   "outputs": [
    {
     "name": "stdout",
     "output_type": "stream",
     "text": [
      "En iyi skor:0.748637316561845\n",
      "En iyi parametreler: {'n_neighbors': 11}\n"
     ]
    }
   ],
   "source": [
    "print(\"En iyi skor:\" + str(knn_cv.best_score_))\n",
    "print(\"En iyi parametreler: \" + str(knn_cv.best_params_))"
   ]
  },
  {
   "cell_type": "code",
   "execution_count": null,
   "id": "4bbfb46e",
   "metadata": {
    "papermill": {
     "duration": 0.040647,
     "end_time": "2022-11-22T20:52:59.310251",
     "exception": false,
     "start_time": "2022-11-22T20:52:59.269604",
     "status": "completed"
    },
    "tags": []
   },
   "outputs": [],
   "source": []
  },
  {
   "cell_type": "code",
   "execution_count": 50,
   "id": "bef44c39",
   "metadata": {
    "execution": {
     "iopub.execute_input": "2022-11-22T20:52:59.394252Z",
     "iopub.status.busy": "2022-11-22T20:52:59.393633Z",
     "iopub.status.idle": "2022-11-22T20:52:59.400468Z",
     "shell.execute_reply": "2022-11-22T20:52:59.399335Z"
    },
    "papermill": {
     "duration": 0.051148,
     "end_time": "2022-11-22T20:52:59.402897",
     "exception": false,
     "start_time": "2022-11-22T20:52:59.351749",
     "status": "completed"
    },
    "tags": []
   },
   "outputs": [],
   "source": [
    "knn = KNeighborsClassifier(11)\n",
    "knn_tuned = knn.fit(X_train, y_train)"
   ]
  },
  {
   "cell_type": "code",
   "execution_count": 51,
   "id": "59eebef5",
   "metadata": {
    "execution": {
     "iopub.execute_input": "2022-11-22T20:52:59.486769Z",
     "iopub.status.busy": "2022-11-22T20:52:59.486237Z",
     "iopub.status.idle": "2022-11-22T20:52:59.499089Z",
     "shell.execute_reply": "2022-11-22T20:52:59.498430Z"
    },
    "papermill": {
     "duration": 0.057504,
     "end_time": "2022-11-22T20:52:59.501229",
     "exception": false,
     "start_time": "2022-11-22T20:52:59.443725",
     "status": "completed"
    },
    "tags": []
   },
   "outputs": [
    {
     "data": {
      "text/plain": [
       "0.7316017316017316"
      ]
     },
     "execution_count": 51,
     "metadata": {},
     "output_type": "execute_result"
    }
   ],
   "source": [
    "knn_tuned.score(X_test, y_test)"
   ]
  },
  {
   "cell_type": "code",
   "execution_count": 52,
   "id": "31067141",
   "metadata": {
    "execution": {
     "iopub.execute_input": "2022-11-22T20:52:59.583917Z",
     "iopub.status.busy": "2022-11-22T20:52:59.583550Z",
     "iopub.status.idle": "2022-11-22T20:52:59.595649Z",
     "shell.execute_reply": "2022-11-22T20:52:59.594562Z"
    },
    "papermill": {
     "duration": 0.055852,
     "end_time": "2022-11-22T20:52:59.597616",
     "exception": false,
     "start_time": "2022-11-22T20:52:59.541764",
     "status": "completed"
    },
    "tags": []
   },
   "outputs": [],
   "source": [
    "y_pred = knn_tuned.predict(X_test)"
   ]
  },
  {
   "cell_type": "code",
   "execution_count": 53,
   "id": "591c5452",
   "metadata": {
    "execution": {
     "iopub.execute_input": "2022-11-22T20:52:59.680433Z",
     "iopub.status.busy": "2022-11-22T20:52:59.680050Z",
     "iopub.status.idle": "2022-11-22T20:52:59.686796Z",
     "shell.execute_reply": "2022-11-22T20:52:59.685764Z"
    },
    "papermill": {
     "duration": 0.05007,
     "end_time": "2022-11-22T20:52:59.688502",
     "exception": false,
     "start_time": "2022-11-22T20:52:59.638432",
     "status": "completed"
    },
    "tags": []
   },
   "outputs": [
    {
     "data": {
      "text/plain": [
       "0.7316017316017316"
      ]
     },
     "execution_count": 53,
     "metadata": {},
     "output_type": "execute_result"
    }
   ],
   "source": [
    "accuracy_score(y_test, y_pred)"
   ]
  },
  {
   "cell_type": "markdown",
   "id": "c22539c9",
   "metadata": {
    "papermill": {
     "duration": 0.041506,
     "end_time": "2022-11-22T20:52:59.770344",
     "exception": false,
     "start_time": "2022-11-22T20:52:59.728838",
     "status": "completed"
    },
    "tags": []
   },
   "source": [
    "# SVC"
   ]
  },
  {
   "cell_type": "markdown",
   "id": "cc62823d",
   "metadata": {
    "papermill": {
     "duration": 0.040621,
     "end_time": "2022-11-22T20:52:59.852252",
     "exception": false,
     "start_time": "2022-11-22T20:52:59.811631",
     "status": "completed"
    },
    "tags": []
   },
   "source": [
    "## Model & Tahmin"
   ]
  },
  {
   "cell_type": "code",
   "execution_count": 54,
   "id": "eef05ff4",
   "metadata": {
    "execution": {
     "iopub.execute_input": "2022-11-22T20:52:59.936613Z",
     "iopub.status.busy": "2022-11-22T20:52:59.936003Z",
     "iopub.status.idle": "2022-11-22T20:52:59.944112Z",
     "shell.execute_reply": "2022-11-22T20:52:59.943505Z"
    },
    "papermill": {
     "duration": 0.053006,
     "end_time": "2022-11-22T20:52:59.946359",
     "exception": false,
     "start_time": "2022-11-22T20:52:59.893353",
     "status": "completed"
    },
    "tags": []
   },
   "outputs": [],
   "source": [
    "df = diabetes.copy()\n",
    "df = df.dropna()\n",
    "y = df[\"Outcome\"]\n",
    "X = df.drop(['Outcome'], axis=1)\n",
    "X_train, X_test, y_train, y_test = train_test_split(X, y, \n",
    "                                                    test_size=0.30, \n",
    "                                                    random_state=42)"
   ]
  },
  {
   "cell_type": "code",
   "execution_count": 55,
   "id": "bfc65927",
   "metadata": {
    "execution": {
     "iopub.execute_input": "2022-11-22T20:53:00.030564Z",
     "iopub.status.busy": "2022-11-22T20:53:00.029746Z",
     "iopub.status.idle": "2022-11-22T20:53:02.778296Z",
     "shell.execute_reply": "2022-11-22T20:53:02.777350Z"
    },
    "papermill": {
     "duration": 2.793901,
     "end_time": "2022-11-22T20:53:02.780808",
     "exception": false,
     "start_time": "2022-11-22T20:52:59.986907",
     "status": "completed"
    },
    "tags": []
   },
   "outputs": [],
   "source": [
    "svm_model = SVC(kernel = \"linear\").fit(X_train, y_train)"
   ]
  },
  {
   "cell_type": "code",
   "execution_count": 56,
   "id": "ddc93115",
   "metadata": {
    "execution": {
     "iopub.execute_input": "2022-11-22T20:53:02.863396Z",
     "iopub.status.busy": "2022-11-22T20:53:02.862875Z",
     "iopub.status.idle": "2022-11-22T20:53:02.868287Z",
     "shell.execute_reply": "2022-11-22T20:53:02.867629Z"
    },
    "papermill": {
     "duration": 0.048148,
     "end_time": "2022-11-22T20:53:02.869919",
     "exception": false,
     "start_time": "2022-11-22T20:53:02.821771",
     "status": "completed"
    },
    "tags": []
   },
   "outputs": [
    {
     "data": {
      "text/plain": [
       "SVC(kernel='linear')"
      ]
     },
     "execution_count": 56,
     "metadata": {},
     "output_type": "execute_result"
    }
   ],
   "source": [
    "svm_model"
   ]
  },
  {
   "cell_type": "code",
   "execution_count": 57,
   "id": "59e34d7d",
   "metadata": {
    "execution": {
     "iopub.execute_input": "2022-11-22T20:53:02.952146Z",
     "iopub.status.busy": "2022-11-22T20:53:02.951644Z",
     "iopub.status.idle": "2022-11-22T20:53:02.958633Z",
     "shell.execute_reply": "2022-11-22T20:53:02.957972Z"
    },
    "papermill": {
     "duration": 0.050184,
     "end_time": "2022-11-22T20:53:02.960464",
     "exception": false,
     "start_time": "2022-11-22T20:53:02.910280",
     "status": "completed"
    },
    "tags": []
   },
   "outputs": [],
   "source": [
    "y_pred = svm_model.predict(X_test)"
   ]
  },
  {
   "cell_type": "code",
   "execution_count": 58,
   "id": "d0dc23b9",
   "metadata": {
    "execution": {
     "iopub.execute_input": "2022-11-22T20:53:03.048038Z",
     "iopub.status.busy": "2022-11-22T20:53:03.047182Z",
     "iopub.status.idle": "2022-11-22T20:53:03.057254Z",
     "shell.execute_reply": "2022-11-22T20:53:03.054972Z"
    },
    "papermill": {
     "duration": 0.05814,
     "end_time": "2022-11-22T20:53:03.059727",
     "exception": false,
     "start_time": "2022-11-22T20:53:03.001587",
     "status": "completed"
    },
    "tags": []
   },
   "outputs": [
    {
     "data": {
      "text/plain": [
       "0.7445887445887446"
      ]
     },
     "execution_count": 58,
     "metadata": {},
     "output_type": "execute_result"
    }
   ],
   "source": [
    "accuracy_score(y_test, y_pred)"
   ]
  },
  {
   "cell_type": "markdown",
   "id": "1b2cc82f",
   "metadata": {
    "papermill": {
     "duration": 0.044164,
     "end_time": "2022-11-22T20:53:03.153966",
     "exception": false,
     "start_time": "2022-11-22T20:53:03.109802",
     "status": "completed"
    },
    "tags": []
   },
   "source": [
    "## Model Tuning"
   ]
  },
  {
   "cell_type": "code",
   "execution_count": 59,
   "id": "a15701f5",
   "metadata": {
    "execution": {
     "iopub.execute_input": "2022-11-22T20:53:03.240945Z",
     "iopub.status.busy": "2022-11-22T20:53:03.239819Z",
     "iopub.status.idle": "2022-11-22T20:53:03.246971Z",
     "shell.execute_reply": "2022-11-22T20:53:03.246249Z"
    },
    "papermill": {
     "duration": 0.05265,
     "end_time": "2022-11-22T20:53:03.248735",
     "exception": false,
     "start_time": "2022-11-22T20:53:03.196085",
     "status": "completed"
    },
    "tags": []
   },
   "outputs": [
    {
     "data": {
      "text/plain": [
       "\"\\nCikti : \\n\\nFitting 10 folds for each of 9 candidates, totalling 90 fits\\nGridSearchCV(cv=10, estimator=SVC(kernel='linear'), n_jobs=-1,\\n             param_grid={'C': array([1, 2, 3, 4, 5, 6, 7, 8, 9])}, verbose=2)\\n\\n\""
      ]
     },
     "execution_count": 59,
     "metadata": {},
     "output_type": "execute_result"
    }
   ],
   "source": [
    "\"\"\"svc_params = {\"C\": np.arange(1,10)}\n",
    "\n",
    "svc = SVC(kernel = \"linear\")\n",
    "\n",
    "svc_cv_model = GridSearchCV(svc,svc_params, \n",
    "                            cv = 10, \n",
    "                            n_jobs = -1, \n",
    "                            verbose = 2 )\n",
    "\n",
    "svc_cv_model.fit(X_train, y_train)\n",
    "\"\"\"\n",
    "\n",
    "\"\"\"\n",
    "Cikti : \n",
    "\n",
    "Fitting 10 folds for each of 9 candidates, totalling 90 fits\n",
    "GridSearchCV(cv=10, estimator=SVC(kernel='linear'), n_jobs=-1,\n",
    "             param_grid={'C': array([1, 2, 3, 4, 5, 6, 7, 8, 9])}, verbose=2)\n",
    "\n",
    "\"\"\""
   ]
  },
  {
   "cell_type": "code",
   "execution_count": 60,
   "id": "780ee346",
   "metadata": {
    "execution": {
     "iopub.execute_input": "2022-11-22T20:53:03.333777Z",
     "iopub.status.busy": "2022-11-22T20:53:03.333147Z",
     "iopub.status.idle": "2022-11-22T20:53:03.338210Z",
     "shell.execute_reply": "2022-11-22T20:53:03.336987Z"
    },
    "papermill": {
     "duration": 0.050411,
     "end_time": "2022-11-22T20:53:03.340289",
     "exception": false,
     "start_time": "2022-11-22T20:53:03.289878",
     "status": "completed"
    },
    "tags": []
   },
   "outputs": [],
   "source": [
    "# print(\"En iyi parametreler: \" + str(svc_cv_model.best_params_))\n",
    "\n",
    "# Cikti : En iyi parametreler: {'C': 5}"
   ]
  },
  {
   "cell_type": "code",
   "execution_count": 61,
   "id": "e8a0171b",
   "metadata": {
    "execution": {
     "iopub.execute_input": "2022-11-22T20:53:03.425822Z",
     "iopub.status.busy": "2022-11-22T20:53:03.425445Z",
     "iopub.status.idle": "2022-11-22T20:53:19.275729Z",
     "shell.execute_reply": "2022-11-22T20:53:19.274338Z"
    },
    "papermill": {
     "duration": 15.896277,
     "end_time": "2022-11-22T20:53:19.278091",
     "exception": false,
     "start_time": "2022-11-22T20:53:03.381814",
     "status": "completed"
    },
    "tags": []
   },
   "outputs": [],
   "source": [
    "svc_tuned = SVC(kernel = \"linear\", C = 5).fit(X_train, y_train)"
   ]
  },
  {
   "cell_type": "code",
   "execution_count": 62,
   "id": "7b5a4ac8",
   "metadata": {
    "execution": {
     "iopub.execute_input": "2022-11-22T20:53:19.362533Z",
     "iopub.status.busy": "2022-11-22T20:53:19.362159Z",
     "iopub.status.idle": "2022-11-22T20:53:19.373224Z",
     "shell.execute_reply": "2022-11-22T20:53:19.372210Z"
    },
    "papermill": {
     "duration": 0.055642,
     "end_time": "2022-11-22T20:53:19.375024",
     "exception": false,
     "start_time": "2022-11-22T20:53:19.319382",
     "status": "completed"
    },
    "tags": []
   },
   "outputs": [
    {
     "data": {
      "text/plain": [
       "0.7445887445887446"
      ]
     },
     "execution_count": 62,
     "metadata": {},
     "output_type": "execute_result"
    }
   ],
   "source": [
    "y_pred = svc_tuned.predict(X_test)\n",
    "accuracy_score(y_test, y_pred)"
   ]
  },
  {
   "cell_type": "markdown",
   "id": "34aef5d5",
   "metadata": {
    "papermill": {
     "duration": 0.040998,
     "end_time": "2022-11-22T20:53:19.457646",
     "exception": false,
     "start_time": "2022-11-22T20:53:19.416648",
     "status": "completed"
    },
    "tags": []
   },
   "source": [
    "# RBF SVC"
   ]
  },
  {
   "cell_type": "markdown",
   "id": "91e3f80f",
   "metadata": {
    "papermill": {
     "duration": 0.041171,
     "end_time": "2022-11-22T20:53:19.540080",
     "exception": false,
     "start_time": "2022-11-22T20:53:19.498909",
     "status": "completed"
    },
    "tags": []
   },
   "source": [
    "## Model & Tahmin"
   ]
  },
  {
   "cell_type": "code",
   "execution_count": 63,
   "id": "eb1b80fe",
   "metadata": {
    "execution": {
     "iopub.execute_input": "2022-11-22T20:53:19.624623Z",
     "iopub.status.busy": "2022-11-22T20:53:19.624272Z",
     "iopub.status.idle": "2022-11-22T20:53:19.635410Z",
     "shell.execute_reply": "2022-11-22T20:53:19.634085Z"
    },
    "papermill": {
     "duration": 0.056226,
     "end_time": "2022-11-22T20:53:19.637567",
     "exception": false,
     "start_time": "2022-11-22T20:53:19.581341",
     "status": "completed"
    },
    "tags": []
   },
   "outputs": [],
   "source": [
    "df = diabetes.copy()\n",
    "df = df.dropna()\n",
    "y = df[\"Outcome\"]\n",
    "X = df.drop(['Outcome'], axis=1)\n",
    "X_train, X_test, y_train, y_test = train_test_split(X, y, \n",
    "                                                    test_size=0.30, \n",
    "                                                    random_state=42)"
   ]
  },
  {
   "cell_type": "code",
   "execution_count": 64,
   "id": "dd725400",
   "metadata": {
    "execution": {
     "iopub.execute_input": "2022-11-22T20:53:19.721887Z",
     "iopub.status.busy": "2022-11-22T20:53:19.720982Z",
     "iopub.status.idle": "2022-11-22T20:53:19.734486Z",
     "shell.execute_reply": "2022-11-22T20:53:19.733557Z"
    },
    "papermill": {
     "duration": 0.057985,
     "end_time": "2022-11-22T20:53:19.736539",
     "exception": false,
     "start_time": "2022-11-22T20:53:19.678554",
     "status": "completed"
    },
    "tags": []
   },
   "outputs": [],
   "source": [
    "svc_model = SVC(kernel = \"rbf\").fit(X_train, y_train)"
   ]
  },
  {
   "cell_type": "code",
   "execution_count": 65,
   "id": "a929deaf",
   "metadata": {
    "execution": {
     "iopub.execute_input": "2022-11-22T20:53:19.819813Z",
     "iopub.status.busy": "2022-11-22T20:53:19.819483Z",
     "iopub.status.idle": "2022-11-22T20:53:19.825221Z",
     "shell.execute_reply": "2022-11-22T20:53:19.824205Z"
    },
    "papermill": {
     "duration": 0.049567,
     "end_time": "2022-11-22T20:53:19.827105",
     "exception": false,
     "start_time": "2022-11-22T20:53:19.777538",
     "status": "completed"
    },
    "tags": []
   },
   "outputs": [
    {
     "data": {
      "text/plain": [
       "SVC()"
      ]
     },
     "execution_count": 65,
     "metadata": {},
     "output_type": "execute_result"
    }
   ],
   "source": [
    "svc_model"
   ]
  },
  {
   "cell_type": "code",
   "execution_count": 66,
   "id": "b371bf09",
   "metadata": {
    "execution": {
     "iopub.execute_input": "2022-11-22T20:53:19.912456Z",
     "iopub.status.busy": "2022-11-22T20:53:19.912069Z",
     "iopub.status.idle": "2022-11-22T20:53:19.924299Z",
     "shell.execute_reply": "2022-11-22T20:53:19.923335Z"
    },
    "papermill": {
     "duration": 0.057144,
     "end_time": "2022-11-22T20:53:19.926248",
     "exception": false,
     "start_time": "2022-11-22T20:53:19.869104",
     "status": "completed"
    },
    "tags": []
   },
   "outputs": [
    {
     "data": {
      "text/plain": [
       "0.7359307359307359"
      ]
     },
     "execution_count": 66,
     "metadata": {},
     "output_type": "execute_result"
    }
   ],
   "source": [
    "y_pred = svc_model.predict(X_test)\n",
    "accuracy_score(y_test, y_pred)"
   ]
  },
  {
   "cell_type": "markdown",
   "id": "937d1432",
   "metadata": {
    "papermill": {
     "duration": 0.042116,
     "end_time": "2022-11-22T20:53:20.011383",
     "exception": false,
     "start_time": "2022-11-22T20:53:19.969267",
     "status": "completed"
    },
    "tags": []
   },
   "source": [
    "## Model Tuning"
   ]
  },
  {
   "cell_type": "code",
   "execution_count": 67,
   "id": "1f1f67f2",
   "metadata": {
    "execution": {
     "iopub.execute_input": "2022-11-22T20:53:20.098448Z",
     "iopub.status.busy": "2022-11-22T20:53:20.098077Z",
     "iopub.status.idle": "2022-11-22T20:53:20.103998Z",
     "shell.execute_reply": "2022-11-22T20:53:20.102519Z"
    },
    "papermill": {
     "duration": 0.051929,
     "end_time": "2022-11-22T20:53:20.106088",
     "exception": false,
     "start_time": "2022-11-22T20:53:20.054159",
     "status": "completed"
    },
    "tags": []
   },
   "outputs": [],
   "source": [
    "svc_params = {\"C\": [0.0001, 0.001, 0.1, 1, 5, 10 ,50 ,100],\n",
    "             \"gamma\": [0.0001, 0.001, 0.1, 1, 5, 10 ,50 ,100]}"
   ]
  },
  {
   "cell_type": "code",
   "execution_count": 68,
   "id": "a9ffb465",
   "metadata": {
    "execution": {
     "iopub.execute_input": "2022-11-22T20:53:20.192048Z",
     "iopub.status.busy": "2022-11-22T20:53:20.191674Z",
     "iopub.status.idle": "2022-11-22T20:53:20.199173Z",
     "shell.execute_reply": "2022-11-22T20:53:20.198082Z"
    },
    "papermill": {
     "duration": 0.053659,
     "end_time": "2022-11-22T20:53:20.201296",
     "exception": false,
     "start_time": "2022-11-22T20:53:20.147637",
     "status": "completed"
    },
    "tags": []
   },
   "outputs": [
    {
     "data": {
      "text/plain": [
       "\"\\nCikti : \\n\\nGridSearchCV(cv=10, estimator=SVC(), n_jobs=-1,\\n             param_grid={'C': [0.0001, 0.001, 0.1, 1, 5, 10, 50, 100],\\n                         'gamma': [0.0001, 0.001, 0.1, 1, 5, 10, 50, 100]},\\n             verbose=2)\\n\\n\""
      ]
     },
     "execution_count": 68,
     "metadata": {},
     "output_type": "execute_result"
    }
   ],
   "source": [
    "\"\"\"svc = SVC()\n",
    "svc_cv_model = GridSearchCV(svc, svc_params, \n",
    "                         cv = 10, \n",
    "                         n_jobs = -1,\n",
    "                         verbose = 2)\n",
    "\n",
    "svc_cv_model.fit(X_train, y_train)\n",
    "\"\"\"\n",
    "\n",
    "\"\"\"\n",
    "Cikti : \n",
    "\n",
    "GridSearchCV(cv=10, estimator=SVC(), n_jobs=-1,\n",
    "             param_grid={'C': [0.0001, 0.001, 0.1, 1, 5, 10, 50, 100],\n",
    "                         'gamma': [0.0001, 0.001, 0.1, 1, 5, 10, 50, 100]},\n",
    "             verbose=2)\n",
    "\n",
    "\"\"\""
   ]
  },
  {
   "cell_type": "code",
   "execution_count": 69,
   "id": "965e932f",
   "metadata": {
    "execution": {
     "iopub.execute_input": "2022-11-22T20:53:20.288177Z",
     "iopub.status.busy": "2022-11-22T20:53:20.287123Z",
     "iopub.status.idle": "2022-11-22T20:53:20.292894Z",
     "shell.execute_reply": "2022-11-22T20:53:20.291336Z"
    },
    "papermill": {
     "duration": 0.052251,
     "end_time": "2022-11-22T20:53:20.295630",
     "exception": false,
     "start_time": "2022-11-22T20:53:20.243379",
     "status": "completed"
    },
    "tags": []
   },
   "outputs": [],
   "source": [
    "# print(\"En iyi parametreler: \" + str(svc_cv_model.best_params_))\n",
    "\n",
    "# En iyi parametreler: {'C': 10, 'gamma': 0.0001}"
   ]
  },
  {
   "cell_type": "code",
   "execution_count": 70,
   "id": "7408ff48",
   "metadata": {
    "execution": {
     "iopub.execute_input": "2022-11-22T20:53:20.436148Z",
     "iopub.status.busy": "2022-11-22T20:53:20.435777Z",
     "iopub.status.idle": "2022-11-22T20:53:20.450937Z",
     "shell.execute_reply": "2022-11-22T20:53:20.449772Z"
    },
    "papermill": {
     "duration": 0.115066,
     "end_time": "2022-11-22T20:53:20.453433",
     "exception": false,
     "start_time": "2022-11-22T20:53:20.338367",
     "status": "completed"
    },
    "tags": []
   },
   "outputs": [],
   "source": [
    "svc_tuned = SVC(C = 10, gamma = 0.0001).fit(X_train, y_train)"
   ]
  },
  {
   "cell_type": "code",
   "execution_count": 71,
   "id": "113b3d9d",
   "metadata": {
    "execution": {
     "iopub.execute_input": "2022-11-22T20:53:20.539639Z",
     "iopub.status.busy": "2022-11-22T20:53:20.539266Z",
     "iopub.status.idle": "2022-11-22T20:53:20.552265Z",
     "shell.execute_reply": "2022-11-22T20:53:20.551231Z"
    },
    "papermill": {
     "duration": 0.058692,
     "end_time": "2022-11-22T20:53:20.554557",
     "exception": false,
     "start_time": "2022-11-22T20:53:20.495865",
     "status": "completed"
    },
    "tags": []
   },
   "outputs": [
    {
     "data": {
      "text/plain": [
       "0.7359307359307359"
      ]
     },
     "execution_count": 71,
     "metadata": {},
     "output_type": "execute_result"
    }
   ],
   "source": [
    "y_pred = svc_tuned.predict(X_test)\n",
    "accuracy_score(y_test, y_pred)"
   ]
  },
  {
   "cell_type": "markdown",
   "id": "0c99a4a0",
   "metadata": {
    "papermill": {
     "duration": 0.041657,
     "end_time": "2022-11-22T20:53:20.638133",
     "exception": false,
     "start_time": "2022-11-22T20:53:20.596476",
     "status": "completed"
    },
    "tags": []
   },
   "source": [
    "# Yapay Sinir Ağları"
   ]
  },
  {
   "cell_type": "markdown",
   "id": "1de73fa7",
   "metadata": {
    "papermill": {
     "duration": 0.041152,
     "end_time": "2022-11-22T20:53:20.721709",
     "exception": false,
     "start_time": "2022-11-22T20:53:20.680557",
     "status": "completed"
    },
    "tags": []
   },
   "source": [
    "## Model & Tahmin"
   ]
  },
  {
   "cell_type": "code",
   "execution_count": 72,
   "id": "607ca4a3",
   "metadata": {
    "execution": {
     "iopub.execute_input": "2022-11-22T20:53:20.805612Z",
     "iopub.status.busy": "2022-11-22T20:53:20.805145Z",
     "iopub.status.idle": "2022-11-22T20:53:20.817106Z",
     "shell.execute_reply": "2022-11-22T20:53:20.816239Z"
    },
    "papermill": {
     "duration": 0.056297,
     "end_time": "2022-11-22T20:53:20.819241",
     "exception": false,
     "start_time": "2022-11-22T20:53:20.762944",
     "status": "completed"
    },
    "tags": []
   },
   "outputs": [],
   "source": [
    "df = diabetes.copy()\n",
    "df = df.dropna()\n",
    "y = df[\"Outcome\"]\n",
    "X = df.drop(['Outcome'], axis=1)\n",
    "X_train, X_test, y_train, y_test = train_test_split(X, y, \n",
    "                                                    test_size=0.30, \n",
    "                                                    random_state=42)"
   ]
  },
  {
   "cell_type": "code",
   "execution_count": 73,
   "id": "9107b793",
   "metadata": {
    "execution": {
     "iopub.execute_input": "2022-11-22T20:53:20.903944Z",
     "iopub.status.busy": "2022-11-22T20:53:20.903581Z",
     "iopub.status.idle": "2022-11-22T20:53:20.908961Z",
     "shell.execute_reply": "2022-11-22T20:53:20.907625Z"
    },
    "papermill": {
     "duration": 0.050198,
     "end_time": "2022-11-22T20:53:20.911413",
     "exception": false,
     "start_time": "2022-11-22T20:53:20.861215",
     "status": "completed"
    },
    "tags": []
   },
   "outputs": [],
   "source": [
    "from sklearn.preprocessing import StandardScaler  "
   ]
  },
  {
   "cell_type": "code",
   "execution_count": 74,
   "id": "3d70c801",
   "metadata": {
    "execution": {
     "iopub.execute_input": "2022-11-22T20:53:20.995250Z",
     "iopub.status.busy": "2022-11-22T20:53:20.994847Z",
     "iopub.status.idle": "2022-11-22T20:53:20.999880Z",
     "shell.execute_reply": "2022-11-22T20:53:20.998766Z"
    },
    "papermill": {
     "duration": 0.050136,
     "end_time": "2022-11-22T20:53:21.002461",
     "exception": false,
     "start_time": "2022-11-22T20:53:20.952325",
     "status": "completed"
    },
    "tags": []
   },
   "outputs": [],
   "source": [
    "scaler = StandardScaler()"
   ]
  },
  {
   "cell_type": "code",
   "execution_count": 75,
   "id": "4dd66aa9",
   "metadata": {
    "execution": {
     "iopub.execute_input": "2022-11-22T20:53:21.086589Z",
     "iopub.status.busy": "2022-11-22T20:53:21.085802Z",
     "iopub.status.idle": "2022-11-22T20:53:21.095741Z",
     "shell.execute_reply": "2022-11-22T20:53:21.094570Z"
    },
    "papermill": {
     "duration": 0.054279,
     "end_time": "2022-11-22T20:53:21.098041",
     "exception": false,
     "start_time": "2022-11-22T20:53:21.043762",
     "status": "completed"
    },
    "tags": []
   },
   "outputs": [],
   "source": [
    "scaler.fit(X_train)\n",
    "X_train_scaled = scaler.transform(X_train)\n",
    "X_test_scaled = scaler.transform(X_test)"
   ]
  },
  {
   "cell_type": "code",
   "execution_count": 76,
   "id": "70bb5ee2",
   "metadata": {
    "execution": {
     "iopub.execute_input": "2022-11-22T20:53:21.183821Z",
     "iopub.status.busy": "2022-11-22T20:53:21.183394Z",
     "iopub.status.idle": "2022-11-22T20:53:21.191650Z",
     "shell.execute_reply": "2022-11-22T20:53:21.190484Z"
    },
    "papermill": {
     "duration": 0.05362,
     "end_time": "2022-11-22T20:53:21.193653",
     "exception": false,
     "start_time": "2022-11-22T20:53:21.140033",
     "status": "completed"
    },
    "tags": []
   },
   "outputs": [
    {
     "data": {
      "text/plain": [
       "array([[ 0.69748316, -0.70719864, -0.64639893,  0.81207927,  0.95720244,\n",
       "         0.26575953, -0.11680393,  0.85019217],\n",
       "       [-0.52953881, -0.27388818,  0.29399563,  0.74746428, -0.6936878 ,\n",
       "         0.488933  , -0.94192338, -1.03426754],\n",
       "       [-0.52953881, -0.39769117, -0.31449497, -1.3202154 , -0.6936878 ,\n",
       "        -0.1543317 , -0.91266382, -1.03426754],\n",
       "       [ 1.31099414, -0.42864191,  0.57058226, -1.3202154 , -0.6936878 ,\n",
       "        -0.96825847,  1.12965312,  0.07927683],\n",
       "       [ 1.00423865,  0.46892976,  1.12375553, -1.3202154 , -0.6936878 ,\n",
       "        -0.27248236, -0.76051413,  1.44979298]])"
      ]
     },
     "execution_count": 76,
     "metadata": {},
     "output_type": "execute_result"
    }
   ],
   "source": [
    "X_test_scaled[0:5]"
   ]
  },
  {
   "cell_type": "code",
   "execution_count": 77,
   "id": "0e027f3b",
   "metadata": {
    "execution": {
     "iopub.execute_input": "2022-11-22T20:53:21.278603Z",
     "iopub.status.busy": "2022-11-22T20:53:21.278277Z",
     "iopub.status.idle": "2022-11-22T20:53:21.290106Z",
     "shell.execute_reply": "2022-11-22T20:53:21.289256Z"
    },
    "papermill": {
     "duration": 0.056628,
     "end_time": "2022-11-22T20:53:21.292320",
     "exception": false,
     "start_time": "2022-11-22T20:53:21.235692",
     "status": "completed"
    },
    "tags": []
   },
   "outputs": [],
   "source": [
    "from sklearn.neural_network import MLPClassifier"
   ]
  },
  {
   "cell_type": "code",
   "execution_count": 78,
   "id": "7874f0c8",
   "metadata": {
    "execution": {
     "iopub.execute_input": "2022-11-22T20:53:21.376759Z",
     "iopub.status.busy": "2022-11-22T20:53:21.376386Z",
     "iopub.status.idle": "2022-11-22T20:53:21.874264Z",
     "shell.execute_reply": "2022-11-22T20:53:21.873465Z"
    },
    "papermill": {
     "duration": 0.542709,
     "end_time": "2022-11-22T20:53:21.876432",
     "exception": false,
     "start_time": "2022-11-22T20:53:21.333723",
     "status": "completed"
    },
    "tags": []
   },
   "outputs": [],
   "source": [
    "mlpc = MLPClassifier().fit(X_train_scaled, y_train)"
   ]
  },
  {
   "cell_type": "code",
   "execution_count": 79,
   "id": "31dc8ae2",
   "metadata": {
    "execution": {
     "iopub.execute_input": "2022-11-22T20:53:21.983564Z",
     "iopub.status.busy": "2022-11-22T20:53:21.983176Z",
     "iopub.status.idle": "2022-11-22T20:53:21.992357Z",
     "shell.execute_reply": "2022-11-22T20:53:21.991650Z"
    },
    "papermill": {
     "duration": 0.065484,
     "end_time": "2022-11-22T20:53:21.994519",
     "exception": false,
     "start_time": "2022-11-22T20:53:21.929035",
     "status": "completed"
    },
    "tags": []
   },
   "outputs": [
    {
     "data": {
      "text/plain": [
       "0.7272727272727273"
      ]
     },
     "execution_count": 79,
     "metadata": {},
     "output_type": "execute_result"
    }
   ],
   "source": [
    "y_pred = mlpc.predict(X_test_scaled)\n",
    "accuracy_score(y_test, y_pred)"
   ]
  },
  {
   "cell_type": "markdown",
   "id": "b6d59d03",
   "metadata": {
    "papermill": {
     "duration": 0.054057,
     "end_time": "2022-11-22T20:53:22.102850",
     "exception": false,
     "start_time": "2022-11-22T20:53:22.048793",
     "status": "completed"
    },
    "tags": []
   },
   "source": [
    "## Model Tuning"
   ]
  },
  {
   "cell_type": "code",
   "execution_count": 80,
   "id": "fed2868b",
   "metadata": {
    "execution": {
     "iopub.execute_input": "2022-11-22T20:53:22.189414Z",
     "iopub.status.busy": "2022-11-22T20:53:22.189025Z",
     "iopub.status.idle": "2022-11-22T20:53:22.196082Z",
     "shell.execute_reply": "2022-11-22T20:53:22.194599Z"
    },
    "papermill": {
     "duration": 0.052462,
     "end_time": "2022-11-22T20:53:22.197956",
     "exception": false,
     "start_time": "2022-11-22T20:53:22.145494",
     "status": "completed"
    },
    "tags": []
   },
   "outputs": [
    {
     "data": {
      "text/plain": [
       "MLPClassifier()"
      ]
     },
     "execution_count": 80,
     "metadata": {},
     "output_type": "execute_result"
    }
   ],
   "source": [
    "mlpc"
   ]
  },
  {
   "cell_type": "code",
   "execution_count": 81,
   "id": "6771210b",
   "metadata": {
    "execution": {
     "iopub.execute_input": "2022-11-22T20:53:22.285868Z",
     "iopub.status.busy": "2022-11-22T20:53:22.284732Z",
     "iopub.status.idle": "2022-11-22T20:53:22.289355Z",
     "shell.execute_reply": "2022-11-22T20:53:22.288427Z"
    },
    "papermill": {
     "duration": 0.050749,
     "end_time": "2022-11-22T20:53:22.291140",
     "exception": false,
     "start_time": "2022-11-22T20:53:22.240391",
     "status": "completed"
    },
    "tags": []
   },
   "outputs": [],
   "source": [
    "# ?mlpc"
   ]
  },
  {
   "cell_type": "code",
   "execution_count": 82,
   "id": "0525f38a",
   "metadata": {
    "execution": {
     "iopub.execute_input": "2022-11-22T20:53:22.375895Z",
     "iopub.status.busy": "2022-11-22T20:53:22.375500Z",
     "iopub.status.idle": "2022-11-22T20:53:22.381713Z",
     "shell.execute_reply": "2022-11-22T20:53:22.380417Z"
    },
    "papermill": {
     "duration": 0.050268,
     "end_time": "2022-11-22T20:53:22.383516",
     "exception": false,
     "start_time": "2022-11-22T20:53:22.333248",
     "status": "completed"
    },
    "tags": []
   },
   "outputs": [],
   "source": [
    "mlpc_params = {\"alpha\": [0.1, 0.01, 0.02, 0.005, 0.0001,0.00001],\n",
    "              \"hidden_layer_sizes\": [(10,10,10),\n",
    "                                     (100,100,100),\n",
    "                                     (100,100),\n",
    "                                     (3,5), \n",
    "                                     (5, 3)],\n",
    "              \"solver\" : [\"lbfgs\",\"adam\",\"sgd\"],\n",
    "              \"activation\": [\"relu\",\"logistic\"]}\n"
   ]
  },
  {
   "cell_type": "code",
   "execution_count": 83,
   "id": "7cc75fe1",
   "metadata": {
    "execution": {
     "iopub.execute_input": "2022-11-22T20:53:22.470155Z",
     "iopub.status.busy": "2022-11-22T20:53:22.468995Z",
     "iopub.status.idle": "2022-11-22T20:53:22.476763Z",
     "shell.execute_reply": "2022-11-22T20:53:22.475302Z"
    },
    "papermill": {
     "duration": 0.053595,
     "end_time": "2022-11-22T20:53:22.479105",
     "exception": false,
     "start_time": "2022-11-22T20:53:22.425510",
     "status": "completed"
    },
    "tags": []
   },
   "outputs": [
    {
     "data": {
      "text/plain": [
       "\"\\nCikti :\\n\\nGridSearchCV(cv=10, estimator=MLPClassifier(), n_jobs=-1,\\n             param_grid={'activation': ['relu', 'logistic'],\\n                         'alpha': [0.1, 0.01, 0.02, 0.005, 0.0001, 1e-05],\\n                         'hidden_layer_sizes': [(10, 10, 10), (100, 100, 100),\\n                                                (100, 100), (3, 5), (5, 3)],\\n                         'solver': ['lbfgs', 'adam', 'sgd']},\\n             verbose=2)\\n             \\n\""
      ]
     },
     "execution_count": 83,
     "metadata": {},
     "output_type": "execute_result"
    }
   ],
   "source": [
    "\"\"\"\n",
    "mlpc = MLPClassifier()\n",
    "mlpc_cv_model = GridSearchCV(mlpc, mlpc_params, \n",
    "                         cv = 10, \n",
    "                         n_jobs = -1,\n",
    "                         verbose = 2)\n",
    "\n",
    "mlpc_cv_model.fit(X_train_scaled, y_train)\n",
    "\"\"\"\n",
    "\n",
    "\n",
    "\"\"\"\n",
    "Cikti :\n",
    "\n",
    "GridSearchCV(cv=10, estimator=MLPClassifier(), n_jobs=-1,\n",
    "             param_grid={'activation': ['relu', 'logistic'],\n",
    "                         'alpha': [0.1, 0.01, 0.02, 0.005, 0.0001, 1e-05],\n",
    "                         'hidden_layer_sizes': [(10, 10, 10), (100, 100, 100),\n",
    "                                                (100, 100), (3, 5), (5, 3)],\n",
    "                         'solver': ['lbfgs', 'adam', 'sgd']},\n",
    "             verbose=2)\n",
    "             \n",
    "\"\"\""
   ]
  },
  {
   "cell_type": "code",
   "execution_count": 84,
   "id": "d6902123",
   "metadata": {
    "execution": {
     "iopub.execute_input": "2022-11-22T20:53:22.564257Z",
     "iopub.status.busy": "2022-11-22T20:53:22.563876Z",
     "iopub.status.idle": "2022-11-22T20:53:22.568181Z",
     "shell.execute_reply": "2022-11-22T20:53:22.567297Z"
    },
    "papermill": {
     "duration": 0.049193,
     "end_time": "2022-11-22T20:53:22.569987",
     "exception": false,
     "start_time": "2022-11-22T20:53:22.520794",
     "status": "completed"
    },
    "tags": []
   },
   "outputs": [],
   "source": [
    "# print(\"En iyi parametreler: \" + str(mlpc_cv_model.best_params_))\n",
    "# En iyi parametreler: {'activation': 'relu', 'alpha': 0.01, 'hidden_layer_sizes': (100, 100, 100), 'solver': 'sgd'}"
   ]
  },
  {
   "cell_type": "code",
   "execution_count": 85,
   "id": "1d19c994",
   "metadata": {
    "execution": {
     "iopub.execute_input": "2022-11-22T20:53:22.655235Z",
     "iopub.status.busy": "2022-11-22T20:53:22.654847Z",
     "iopub.status.idle": "2022-11-22T20:53:22.660629Z",
     "shell.execute_reply": "2022-11-22T20:53:22.659319Z"
    },
    "papermill": {
     "duration": 0.050473,
     "end_time": "2022-11-22T20:53:22.662511",
     "exception": false,
     "start_time": "2022-11-22T20:53:22.612038",
     "status": "completed"
    },
    "tags": []
   },
   "outputs": [],
   "source": [
    "mlpc_tuned = MLPClassifier(activation = \"logistic\", \n",
    "                           alpha = 0.1, \n",
    "                           hidden_layer_sizes = (100, 100, 100),\n",
    "                          solver = \"adam\")"
   ]
  },
  {
   "cell_type": "code",
   "execution_count": 86,
   "id": "568908a0",
   "metadata": {
    "execution": {
     "iopub.execute_input": "2022-11-22T20:53:22.748161Z",
     "iopub.status.busy": "2022-11-22T20:53:22.747769Z",
     "iopub.status.idle": "2022-11-22T20:53:23.812953Z",
     "shell.execute_reply": "2022-11-22T20:53:23.812239Z"
    },
    "papermill": {
     "duration": 1.11107,
     "end_time": "2022-11-22T20:53:23.814886",
     "exception": false,
     "start_time": "2022-11-22T20:53:22.703816",
     "status": "completed"
    },
    "tags": []
   },
   "outputs": [
    {
     "data": {
      "text/plain": [
       "MLPClassifier(activation='logistic', alpha=0.1,\n",
       "              hidden_layer_sizes=(100, 100, 100))"
      ]
     },
     "execution_count": 86,
     "metadata": {},
     "output_type": "execute_result"
    }
   ],
   "source": [
    "mlpc_tuned.fit(X_train_scaled, y_train)"
   ]
  },
  {
   "cell_type": "code",
   "execution_count": 87,
   "id": "c529463e",
   "metadata": {
    "execution": {
     "iopub.execute_input": "2022-11-22T20:53:23.923500Z",
     "iopub.status.busy": "2022-11-22T20:53:23.923082Z",
     "iopub.status.idle": "2022-11-22T20:53:23.934328Z",
     "shell.execute_reply": "2022-11-22T20:53:23.933586Z"
    },
    "papermill": {
     "duration": 0.068104,
     "end_time": "2022-11-22T20:53:23.936540",
     "exception": false,
     "start_time": "2022-11-22T20:53:23.868436",
     "status": "completed"
    },
    "tags": []
   },
   "outputs": [
    {
     "data": {
      "text/plain": [
       "0.7316017316017316"
      ]
     },
     "execution_count": 87,
     "metadata": {},
     "output_type": "execute_result"
    }
   ],
   "source": [
    "y_pred = mlpc_tuned.predict(X_test_scaled)\n",
    "accuracy_score(y_test, y_pred)"
   ]
  },
  {
   "cell_type": "markdown",
   "id": "2bd95558",
   "metadata": {
    "papermill": {
     "duration": 0.057539,
     "end_time": "2022-11-22T20:53:24.047894",
     "exception": false,
     "start_time": "2022-11-22T20:53:23.990355",
     "status": "completed"
    },
    "tags": []
   },
   "source": [
    "# CART"
   ]
  },
  {
   "cell_type": "markdown",
   "id": "75b09134",
   "metadata": {
    "papermill": {
     "duration": 0.045096,
     "end_time": "2022-11-22T20:53:24.137963",
     "exception": false,
     "start_time": "2022-11-22T20:53:24.092867",
     "status": "completed"
    },
    "tags": []
   },
   "source": [
    "## Model & Tahmin"
   ]
  },
  {
   "cell_type": "code",
   "execution_count": 88,
   "id": "26e17569",
   "metadata": {
    "execution": {
     "iopub.execute_input": "2022-11-22T20:53:24.224779Z",
     "iopub.status.busy": "2022-11-22T20:53:24.224377Z",
     "iopub.status.idle": "2022-11-22T20:53:24.233898Z",
     "shell.execute_reply": "2022-11-22T20:53:24.233180Z"
    },
    "papermill": {
     "duration": 0.054971,
     "end_time": "2022-11-22T20:53:24.236054",
     "exception": false,
     "start_time": "2022-11-22T20:53:24.181083",
     "status": "completed"
    },
    "tags": []
   },
   "outputs": [],
   "source": [
    "df = diabetes.copy()\n",
    "df = df.dropna()\n",
    "y = df[\"Outcome\"]\n",
    "X = df.drop(['Outcome'], axis=1)\n",
    "#X = df[\"Pregnancies\"]\n",
    "X = pd.DataFrame(X)\n",
    "X_train, X_test, y_train, y_test = train_test_split(X, y, \n",
    "                                                    test_size=0.30, \n",
    "                                                    random_state=42)"
   ]
  },
  {
   "cell_type": "code",
   "execution_count": 89,
   "id": "f4327d4f",
   "metadata": {
    "execution": {
     "iopub.execute_input": "2022-11-22T20:53:24.323758Z",
     "iopub.status.busy": "2022-11-22T20:53:24.323081Z",
     "iopub.status.idle": "2022-11-22T20:53:24.327543Z",
     "shell.execute_reply": "2022-11-22T20:53:24.326380Z"
    },
    "papermill": {
     "duration": 0.051096,
     "end_time": "2022-11-22T20:53:24.329823",
     "exception": false,
     "start_time": "2022-11-22T20:53:24.278727",
     "status": "completed"
    },
    "tags": []
   },
   "outputs": [],
   "source": [
    "from sklearn.tree import DecisionTreeClassifier"
   ]
  },
  {
   "cell_type": "code",
   "execution_count": 90,
   "id": "c3788607",
   "metadata": {
    "execution": {
     "iopub.execute_input": "2022-11-22T20:53:24.417383Z",
     "iopub.status.busy": "2022-11-22T20:53:24.416744Z",
     "iopub.status.idle": "2022-11-22T20:53:24.424663Z",
     "shell.execute_reply": "2022-11-22T20:53:24.424019Z"
    },
    "papermill": {
     "duration": 0.054296,
     "end_time": "2022-11-22T20:53:24.426731",
     "exception": false,
     "start_time": "2022-11-22T20:53:24.372435",
     "status": "completed"
    },
    "tags": []
   },
   "outputs": [],
   "source": [
    "cart = DecisionTreeClassifier()\n",
    "cart_model = cart.fit(X_train, y_train)"
   ]
  },
  {
   "cell_type": "code",
   "execution_count": 91,
   "id": "4d68bae2",
   "metadata": {
    "execution": {
     "iopub.execute_input": "2022-11-22T20:53:24.512586Z",
     "iopub.status.busy": "2022-11-22T20:53:24.511930Z",
     "iopub.status.idle": "2022-11-22T20:53:24.517022Z",
     "shell.execute_reply": "2022-11-22T20:53:24.516378Z"
    },
    "papermill": {
     "duration": 0.050434,
     "end_time": "2022-11-22T20:53:24.518806",
     "exception": false,
     "start_time": "2022-11-22T20:53:24.468372",
     "status": "completed"
    },
    "tags": []
   },
   "outputs": [
    {
     "data": {
      "text/plain": [
       "DecisionTreeClassifier()"
      ]
     },
     "execution_count": 91,
     "metadata": {},
     "output_type": "execute_result"
    }
   ],
   "source": [
    "cart_model"
   ]
  },
  {
   "cell_type": "code",
   "execution_count": 92,
   "id": "7489cb88",
   "metadata": {
    "execution": {
     "iopub.execute_input": "2022-11-22T20:53:24.604795Z",
     "iopub.status.busy": "2022-11-22T20:53:24.604419Z",
     "iopub.status.idle": "2022-11-22T20:53:24.735870Z",
     "shell.execute_reply": "2022-11-22T20:53:24.734776Z"
    },
    "papermill": {
     "duration": 0.177044,
     "end_time": "2022-11-22T20:53:24.737903",
     "exception": true,
     "start_time": "2022-11-22T20:53:24.560859",
     "status": "failed"
    },
    "tags": []
   },
   "outputs": [
    {
     "ename": "ModuleNotFoundError",
     "evalue": "No module named 'skompiler'",
     "output_type": "error",
     "traceback": [
      "\u001b[0;31m---------------------------------------------------------------------------\u001b[0m",
      "\u001b[0;31mModuleNotFoundError\u001b[0m                       Traceback (most recent call last)",
      "\u001b[0;32m/tmp/ipykernel_19/1380510310.py\u001b[0m in \u001b[0;36m<module>\u001b[0;34m\u001b[0m\n\u001b[1;32m      1\u001b[0m \u001b[0;31m#!pip install skompiler\u001b[0m\u001b[0;34m\u001b[0m\u001b[0;34m\u001b[0m\u001b[0;34m\u001b[0m\u001b[0m\n\u001b[1;32m      2\u001b[0m \u001b[0;31m# !pip install astor\u001b[0m\u001b[0;34m\u001b[0m\u001b[0;34m\u001b[0m\u001b[0;34m\u001b[0m\u001b[0m\n\u001b[0;32m----> 3\u001b[0;31m \u001b[0;32mfrom\u001b[0m \u001b[0mskompiler\u001b[0m \u001b[0;32mimport\u001b[0m \u001b[0mskompile\u001b[0m\u001b[0;34m\u001b[0m\u001b[0;34m\u001b[0m\u001b[0m\n\u001b[0m\u001b[1;32m      4\u001b[0m \u001b[0mprint\u001b[0m\u001b[0;34m(\u001b[0m\u001b[0mskompile\u001b[0m\u001b[0;34m(\u001b[0m\u001b[0mcart_model\u001b[0m\u001b[0;34m.\u001b[0m\u001b[0mpredict\u001b[0m\u001b[0;34m)\u001b[0m\u001b[0;34m.\u001b[0m\u001b[0mto\u001b[0m\u001b[0;34m(\u001b[0m\u001b[0;34m\"python/code\"\u001b[0m\u001b[0;34m)\u001b[0m\u001b[0;34m)\u001b[0m\u001b[0;34m\u001b[0m\u001b[0;34m\u001b[0m\u001b[0m\n",
      "\u001b[0;31mModuleNotFoundError\u001b[0m: No module named 'skompiler'"
     ]
    }
   ],
   "source": [
    "#!pip install skompiler\n",
    "# !pip install astor\n",
    "from skompiler import skompile\n",
    "print(skompile(cart_model.predict).to(\"python/code\"))"
   ]
  },
  {
   "cell_type": "code",
   "execution_count": null,
   "id": "52a9d6b3",
   "metadata": {
    "execution": {
     "iopub.execute_input": "2022-11-22T20:51:47.155628Z",
     "iopub.status.busy": "2022-11-22T20:51:47.155256Z",
     "iopub.status.idle": "2022-11-22T20:51:47.161915Z",
     "shell.execute_reply": "2022-11-22T20:51:47.160915Z",
     "shell.execute_reply.started": "2022-11-22T20:51:47.155599Z"
    },
    "papermill": {
     "duration": null,
     "end_time": null,
     "exception": null,
     "start_time": null,
     "status": "pending"
    },
    "tags": []
   },
   "outputs": [],
   "source": [
    "x = [9]"
   ]
  },
  {
   "cell_type": "code",
   "execution_count": null,
   "id": "860f9c41",
   "metadata": {
    "execution": {
     "iopub.execute_input": "2022-11-22T20:51:47.165797Z",
     "iopub.status.busy": "2022-11-22T20:51:47.165273Z",
     "iopub.status.idle": "2022-11-22T20:51:47.176805Z",
     "shell.execute_reply": "2022-11-22T20:51:47.175954Z",
     "shell.execute_reply.started": "2022-11-22T20:51:47.165769Z"
    },
    "papermill": {
     "duration": null,
     "end_time": null,
     "exception": null,
     "start_time": null,
     "status": "pending"
    },
    "tags": []
   },
   "outputs": [],
   "source": [
    "((0 if x[0] <= 2.5 else 0) if x[0] <= 6.5 else 1 if x[0] <= 13.5 else 1)"
   ]
  },
  {
   "cell_type": "code",
   "execution_count": null,
   "id": "f0c13375",
   "metadata": {
    "execution": {
     "iopub.execute_input": "2022-11-22T20:51:47.179150Z",
     "iopub.status.busy": "2022-11-22T20:51:47.178413Z",
     "iopub.status.idle": "2022-11-22T20:51:47.189914Z",
     "shell.execute_reply": "2022-11-22T20:51:47.188661Z",
     "shell.execute_reply.started": "2022-11-22T20:51:47.179118Z"
    },
    "papermill": {
     "duration": null,
     "end_time": null,
     "exception": null,
     "start_time": null,
     "status": "pending"
    },
    "tags": []
   },
   "outputs": [],
   "source": [
    "y_pred = cart_model.predict(X_test)\n",
    "accuracy_score(y_test, y_pred)"
   ]
  },
  {
   "cell_type": "markdown",
   "id": "56e906d1",
   "metadata": {
    "papermill": {
     "duration": null,
     "end_time": null,
     "exception": null,
     "start_time": null,
     "status": "pending"
    },
    "tags": []
   },
   "source": [
    "## Model Tuning"
   ]
  },
  {
   "cell_type": "code",
   "execution_count": null,
   "id": "e05f43b8",
   "metadata": {
    "execution": {
     "iopub.execute_input": "2022-11-22T20:51:47.191740Z",
     "iopub.status.busy": "2022-11-22T20:51:47.191014Z",
     "iopub.status.idle": "2022-11-22T20:51:47.198267Z",
     "shell.execute_reply": "2022-11-22T20:51:47.197409Z",
     "shell.execute_reply.started": "2022-11-22T20:51:47.191701Z"
    },
    "papermill": {
     "duration": null,
     "end_time": null,
     "exception": null,
     "start_time": null,
     "status": "pending"
    },
    "tags": []
   },
   "outputs": [],
   "source": [
    "cart_model"
   ]
  },
  {
   "cell_type": "code",
   "execution_count": null,
   "id": "b1c8cd94",
   "metadata": {
    "execution": {
     "iopub.execute_input": "2022-11-22T20:51:47.200050Z",
     "iopub.status.busy": "2022-11-22T20:51:47.199212Z",
     "iopub.status.idle": "2022-11-22T20:51:47.208884Z",
     "shell.execute_reply": "2022-11-22T20:51:47.208141Z",
     "shell.execute_reply.started": "2022-11-22T20:51:47.200024Z"
    },
    "papermill": {
     "duration": null,
     "end_time": null,
     "exception": null,
     "start_time": null,
     "status": "pending"
    },
    "tags": []
   },
   "outputs": [],
   "source": [
    "?cart_model"
   ]
  },
  {
   "cell_type": "code",
   "execution_count": null,
   "id": "b1446739",
   "metadata": {
    "execution": {
     "iopub.execute_input": "2022-11-22T20:51:47.210541Z",
     "iopub.status.busy": "2022-11-22T20:51:47.209964Z",
     "iopub.status.idle": "2022-11-22T20:51:47.217229Z",
     "shell.execute_reply": "2022-11-22T20:51:47.216625Z",
     "shell.execute_reply.started": "2022-11-22T20:51:47.210518Z"
    },
    "papermill": {
     "duration": null,
     "end_time": null,
     "exception": null,
     "start_time": null,
     "status": "pending"
    },
    "tags": []
   },
   "outputs": [],
   "source": [
    "cart_grid = {\"max_depth\": range(1,10),\n",
    "            \"min_samples_split\" : list(range(2,50)) }"
   ]
  },
  {
   "cell_type": "code",
   "execution_count": null,
   "id": "2061401c",
   "metadata": {
    "execution": {
     "iopub.execute_input": "2022-11-22T20:51:47.218440Z",
     "iopub.status.busy": "2022-11-22T20:51:47.218209Z",
     "iopub.status.idle": "2022-11-22T20:51:47.227092Z",
     "shell.execute_reply": "2022-11-22T20:51:47.226477Z",
     "shell.execute_reply.started": "2022-11-22T20:51:47.218418Z"
    },
    "papermill": {
     "duration": null,
     "end_time": null,
     "exception": null,
     "start_time": null,
     "status": "pending"
    },
    "tags": []
   },
   "outputs": [],
   "source": [
    "cart = tree.DecisionTreeClassifier()\n",
    "cart_cv = GridSearchCV(cart, cart_grid, cv = 10, n_jobs = -1, verbose = 2)\n",
    "# cart_cv_model = cart_cv.fit(X_train, y_train)"
   ]
  },
  {
   "cell_type": "code",
   "execution_count": null,
   "id": "730ed69c",
   "metadata": {
    "execution": {
     "iopub.execute_input": "2022-11-22T20:51:47.228356Z",
     "iopub.status.busy": "2022-11-22T20:51:47.227996Z",
     "iopub.status.idle": "2022-11-22T20:51:47.236084Z",
     "shell.execute_reply": "2022-11-22T20:51:47.235499Z",
     "shell.execute_reply.started": "2022-11-22T20:51:47.228334Z"
    },
    "papermill": {
     "duration": null,
     "end_time": null,
     "exception": null,
     "start_time": null,
     "status": "pending"
    },
    "tags": []
   },
   "outputs": [],
   "source": [
    "# print(\"En iyi parametreler: \" + str(cart_cv_model.best_params_))\n",
    "\n",
    "# En iyi parametreler: {'max_depth': 5, 'min_samples_split': 19}"
   ]
  },
  {
   "cell_type": "code",
   "execution_count": null,
   "id": "02350cbb",
   "metadata": {
    "execution": {
     "iopub.execute_input": "2022-11-22T20:51:47.237340Z",
     "iopub.status.busy": "2022-11-22T20:51:47.236971Z",
     "iopub.status.idle": "2022-11-22T20:51:47.246051Z",
     "shell.execute_reply": "2022-11-22T20:51:47.245459Z",
     "shell.execute_reply.started": "2022-11-22T20:51:47.237318Z"
    },
    "papermill": {
     "duration": null,
     "end_time": null,
     "exception": null,
     "start_time": null,
     "status": "pending"
    },
    "tags": []
   },
   "outputs": [],
   "source": [
    "#final"
   ]
  },
  {
   "cell_type": "code",
   "execution_count": null,
   "id": "49e0f508",
   "metadata": {
    "execution": {
     "iopub.execute_input": "2022-11-22T20:51:47.247311Z",
     "iopub.status.busy": "2022-11-22T20:51:47.246953Z",
     "iopub.status.idle": "2022-11-22T20:51:47.258614Z",
     "shell.execute_reply": "2022-11-22T20:51:47.257688Z",
     "shell.execute_reply.started": "2022-11-22T20:51:47.247290Z"
    },
    "papermill": {
     "duration": null,
     "end_time": null,
     "exception": null,
     "start_time": null,
     "status": "pending"
    },
    "tags": []
   },
   "outputs": [],
   "source": [
    "cart = tree.DecisionTreeClassifier(max_depth = 5, min_samples_split = 19)\n",
    "cart_tuned = cart.fit(X_train, y_train)"
   ]
  },
  {
   "cell_type": "code",
   "execution_count": null,
   "id": "d4ea2e93",
   "metadata": {
    "execution": {
     "iopub.execute_input": "2022-11-22T20:51:47.271891Z",
     "iopub.status.busy": "2022-11-22T20:51:47.271427Z",
     "iopub.status.idle": "2022-11-22T20:51:47.279017Z",
     "shell.execute_reply": "2022-11-22T20:51:47.278134Z",
     "shell.execute_reply.started": "2022-11-22T20:51:47.271861Z"
    },
    "papermill": {
     "duration": null,
     "end_time": null,
     "exception": null,
     "start_time": null,
     "status": "pending"
    },
    "tags": []
   },
   "outputs": [],
   "source": [
    "y_pred = cart_tuned.predict(X_test)\n",
    "accuracy_score(y_test, y_pred)"
   ]
  },
  {
   "cell_type": "markdown",
   "id": "7bc09079",
   "metadata": {
    "papermill": {
     "duration": null,
     "end_time": null,
     "exception": null,
     "start_time": null,
     "status": "pending"
    },
    "tags": []
   },
   "source": [
    "# Random Forests"
   ]
  },
  {
   "cell_type": "code",
   "execution_count": null,
   "id": "455ff999",
   "metadata": {
    "execution": {
     "iopub.execute_input": "2022-11-22T20:51:47.281259Z",
     "iopub.status.busy": "2022-11-22T20:51:47.280992Z",
     "iopub.status.idle": "2022-11-22T20:51:47.292475Z",
     "shell.execute_reply": "2022-11-22T20:51:47.291698Z",
     "shell.execute_reply.started": "2022-11-22T20:51:47.281235Z"
    },
    "papermill": {
     "duration": null,
     "end_time": null,
     "exception": null,
     "start_time": null,
     "status": "pending"
    },
    "tags": []
   },
   "outputs": [],
   "source": [
    "df = diabetes.copy()\n",
    "df = df.dropna()\n",
    "y = df[\"Outcome\"]\n",
    "X = df.drop(['Outcome'], axis=1)\n",
    "#X = df[\"Pregnancies\"]\n",
    "X = pd.DataFrame(X)\n",
    "X_train, X_test, y_train, y_test = train_test_split(X, y, \n",
    "                                                    test_size=0.30, \n",
    "                                                    random_state=42)"
   ]
  },
  {
   "cell_type": "code",
   "execution_count": null,
   "id": "2ac0a15e",
   "metadata": {
    "execution": {
     "iopub.execute_input": "2022-11-22T20:51:47.294539Z",
     "iopub.status.busy": "2022-11-22T20:51:47.293906Z",
     "iopub.status.idle": "2022-11-22T20:51:47.299097Z",
     "shell.execute_reply": "2022-11-22T20:51:47.298077Z",
     "shell.execute_reply.started": "2022-11-22T20:51:47.294464Z"
    },
    "papermill": {
     "duration": null,
     "end_time": null,
     "exception": null,
     "start_time": null,
     "status": "pending"
    },
    "tags": []
   },
   "outputs": [],
   "source": [
    "from sklearn.ensemble import RandomForestClassifier"
   ]
  },
  {
   "cell_type": "code",
   "execution_count": null,
   "id": "cb9fa90e",
   "metadata": {
    "execution": {
     "iopub.execute_input": "2022-11-22T20:51:47.301422Z",
     "iopub.status.busy": "2022-11-22T20:51:47.300473Z",
     "iopub.status.idle": "2022-11-22T20:51:47.459287Z",
     "shell.execute_reply": "2022-11-22T20:51:47.458427Z",
     "shell.execute_reply.started": "2022-11-22T20:51:47.301388Z"
    },
    "papermill": {
     "duration": null,
     "end_time": null,
     "exception": null,
     "start_time": null,
     "status": "pending"
    },
    "tags": []
   },
   "outputs": [],
   "source": [
    "rf_model = RandomForestClassifier().fit(X_train, y_train)"
   ]
  },
  {
   "cell_type": "code",
   "execution_count": null,
   "id": "04d2b84d",
   "metadata": {
    "execution": {
     "iopub.execute_input": "2022-11-22T20:51:47.461344Z",
     "iopub.status.busy": "2022-11-22T20:51:47.460733Z",
     "iopub.status.idle": "2022-11-22T20:51:47.468192Z",
     "shell.execute_reply": "2022-11-22T20:51:47.467296Z",
     "shell.execute_reply.started": "2022-11-22T20:51:47.461297Z"
    },
    "papermill": {
     "duration": null,
     "end_time": null,
     "exception": null,
     "start_time": null,
     "status": "pending"
    },
    "tags": []
   },
   "outputs": [],
   "source": [
    "rf_model"
   ]
  },
  {
   "cell_type": "code",
   "execution_count": null,
   "id": "d5d6c99d",
   "metadata": {
    "execution": {
     "iopub.execute_input": "2022-11-22T20:51:47.469917Z",
     "iopub.status.busy": "2022-11-22T20:51:47.469328Z",
     "iopub.status.idle": "2022-11-22T20:51:47.493700Z",
     "shell.execute_reply": "2022-11-22T20:51:47.493085Z",
     "shell.execute_reply.started": "2022-11-22T20:51:47.469879Z"
    },
    "papermill": {
     "duration": null,
     "end_time": null,
     "exception": null,
     "start_time": null,
     "status": "pending"
    },
    "tags": []
   },
   "outputs": [],
   "source": [
    "y_pred = rf_model.predict(X_test)\n",
    "accuracy_score(y_test, y_pred)"
   ]
  },
  {
   "cell_type": "markdown",
   "id": "fb404f81",
   "metadata": {
    "papermill": {
     "duration": null,
     "end_time": null,
     "exception": null,
     "start_time": null,
     "status": "pending"
    },
    "tags": []
   },
   "source": [
    "## Model Tuning"
   ]
  },
  {
   "cell_type": "code",
   "execution_count": null,
   "id": "9d7d7d25",
   "metadata": {
    "execution": {
     "iopub.execute_input": "2022-11-22T20:51:47.495119Z",
     "iopub.status.busy": "2022-11-22T20:51:47.494894Z",
     "iopub.status.idle": "2022-11-22T20:51:47.500596Z",
     "shell.execute_reply": "2022-11-22T20:51:47.499851Z",
     "shell.execute_reply.started": "2022-11-22T20:51:47.495097Z"
    },
    "papermill": {
     "duration": null,
     "end_time": null,
     "exception": null,
     "start_time": null,
     "status": "pending"
    },
    "tags": []
   },
   "outputs": [],
   "source": [
    "rf_model"
   ]
  },
  {
   "cell_type": "code",
   "execution_count": null,
   "id": "a4b0c298",
   "metadata": {
    "execution": {
     "iopub.execute_input": "2022-11-22T20:51:47.502065Z",
     "iopub.status.busy": "2022-11-22T20:51:47.501847Z",
     "iopub.status.idle": "2022-11-22T20:51:47.508489Z",
     "shell.execute_reply": "2022-11-22T20:51:47.507602Z",
     "shell.execute_reply.started": "2022-11-22T20:51:47.502044Z"
    },
    "papermill": {
     "duration": null,
     "end_time": null,
     "exception": null,
     "start_time": null,
     "status": "pending"
    },
    "tags": []
   },
   "outputs": [],
   "source": [
    "# ?rf_model"
   ]
  },
  {
   "cell_type": "code",
   "execution_count": null,
   "id": "e58e4ac5",
   "metadata": {
    "execution": {
     "iopub.execute_input": "2022-11-22T20:51:47.509828Z",
     "iopub.status.busy": "2022-11-22T20:51:47.509534Z",
     "iopub.status.idle": "2022-11-22T20:51:47.520000Z",
     "shell.execute_reply": "2022-11-22T20:51:47.519252Z",
     "shell.execute_reply.started": "2022-11-22T20:51:47.509806Z"
    },
    "papermill": {
     "duration": null,
     "end_time": null,
     "exception": null,
     "start_time": null,
     "status": "pending"
    },
    "tags": []
   },
   "outputs": [],
   "source": [
    "rf_params = {\"max_depth\": [2,5,8,10],\n",
    "            \"max_features\": [2,5,8],\n",
    "            \"n_estimators\": [10,500,1000],\n",
    "            \"min_samples_split\": [2,5,10]}"
   ]
  },
  {
   "cell_type": "code",
   "execution_count": null,
   "id": "7fd0d5d8",
   "metadata": {
    "execution": {
     "iopub.execute_input": "2022-11-22T20:51:47.521385Z",
     "iopub.status.busy": "2022-11-22T20:51:47.521093Z",
     "iopub.status.idle": "2022-11-22T20:51:47.530766Z",
     "shell.execute_reply": "2022-11-22T20:51:47.529741Z",
     "shell.execute_reply.started": "2022-11-22T20:51:47.521364Z"
    },
    "papermill": {
     "duration": null,
     "end_time": null,
     "exception": null,
     "start_time": null,
     "status": "pending"
    },
    "tags": []
   },
   "outputs": [],
   "source": [
    "rf_model = RandomForestClassifier()\n",
    "\n",
    "rf_cv_model = GridSearchCV(rf_model, \n",
    "                           rf_params, \n",
    "                           cv = 10, \n",
    "                           n_jobs = -1, \n",
    "                           verbose = 2) "
   ]
  },
  {
   "cell_type": "code",
   "execution_count": null,
   "id": "583d56df",
   "metadata": {
    "execution": {
     "iopub.execute_input": "2022-11-22T20:51:47.532751Z",
     "iopub.status.busy": "2022-11-22T20:51:47.532045Z",
     "iopub.status.idle": "2022-11-22T20:51:47.542068Z",
     "shell.execute_reply": "2022-11-22T20:51:47.541236Z",
     "shell.execute_reply.started": "2022-11-22T20:51:47.532719Z"
    },
    "papermill": {
     "duration": null,
     "end_time": null,
     "exception": null,
     "start_time": null,
     "status": "pending"
    },
    "tags": []
   },
   "outputs": [],
   "source": [
    "# rf_cv_model.fit(X_train, y_train)\n",
    "\n",
    "\"\"\"\n",
    "GridSearchCV(cv=10, estimator=RandomForestClassifier(), n_jobs=-1,\n",
    "             param_grid={'max_depth': [2, 5, 8, 10], 'max_features': [2, 5, 8],\n",
    "                         'min_samples_split': [2, 5, 10],\n",
    "                         'n_estimators': [10, 500, 1000]},\n",
    "             verbose=2)\n",
    "             \n",
    "\"\"\""
   ]
  },
  {
   "cell_type": "code",
   "execution_count": null,
   "id": "dfad8905",
   "metadata": {
    "execution": {
     "iopub.execute_input": "2022-11-22T20:51:47.543827Z",
     "iopub.status.busy": "2022-11-22T20:51:47.543307Z",
     "iopub.status.idle": "2022-11-22T20:51:47.555350Z",
     "shell.execute_reply": "2022-11-22T20:51:47.554550Z",
     "shell.execute_reply.started": "2022-11-22T20:51:47.543795Z"
    },
    "papermill": {
     "duration": null,
     "end_time": null,
     "exception": null,
     "start_time": null,
     "status": "pending"
    },
    "tags": []
   },
   "outputs": [],
   "source": [
    "# print(\"En iyi parametreler: \" + str(rf_cv_model.best_params_))\n",
    "\n",
    "# En iyi parametreler: {'max_depth': 8, 'max_features': 8, 'min_samples_split': 2, 'n_estimators': 500}"
   ]
  },
  {
   "cell_type": "code",
   "execution_count": null,
   "id": "a0d2b6ad",
   "metadata": {
    "execution": {
     "iopub.execute_input": "2022-11-22T20:51:47.556692Z",
     "iopub.status.busy": "2022-11-22T20:51:47.556365Z",
     "iopub.status.idle": "2022-11-22T20:51:47.564588Z",
     "shell.execute_reply": "2022-11-22T20:51:47.563821Z",
     "shell.execute_reply.started": "2022-11-22T20:51:47.556642Z"
    },
    "papermill": {
     "duration": null,
     "end_time": null,
     "exception": null,
     "start_time": null,
     "status": "pending"
    },
    "tags": []
   },
   "outputs": [],
   "source": [
    "#final"
   ]
  },
  {
   "cell_type": "code",
   "execution_count": null,
   "id": "983f20c9",
   "metadata": {
    "execution": {
     "iopub.execute_input": "2022-11-22T20:51:47.566280Z",
     "iopub.status.busy": "2022-11-22T20:51:47.565626Z",
     "iopub.status.idle": "2022-11-22T20:51:49.676844Z",
     "shell.execute_reply": "2022-11-22T20:51:49.675969Z",
     "shell.execute_reply.started": "2022-11-22T20:51:47.566255Z"
    },
    "papermill": {
     "duration": null,
     "end_time": null,
     "exception": null,
     "start_time": null,
     "status": "pending"
    },
    "tags": []
   },
   "outputs": [],
   "source": [
    "rf_tuned = RandomForestClassifier(max_depth = 10, \n",
    "                                  max_features = 8, \n",
    "                                  min_samples_split = 10,\n",
    "                                  n_estimators = 1000)\n",
    "\n",
    "rf_tuned.fit(X_train, y_train)"
   ]
  },
  {
   "cell_type": "code",
   "execution_count": null,
   "id": "707cf522",
   "metadata": {
    "execution": {
     "iopub.execute_input": "2022-11-22T20:51:49.678936Z",
     "iopub.status.busy": "2022-11-22T20:51:49.678687Z",
     "iopub.status.idle": "2022-11-22T20:51:49.800361Z",
     "shell.execute_reply": "2022-11-22T20:51:49.799373Z",
     "shell.execute_reply.started": "2022-11-22T20:51:49.678914Z"
    },
    "papermill": {
     "duration": null,
     "end_time": null,
     "exception": null,
     "start_time": null,
     "status": "pending"
    },
    "tags": []
   },
   "outputs": [],
   "source": [
    "y_pred = rf_tuned.predict(X_test)\n",
    "accuracy_score(y_test, y_pred)"
   ]
  },
  {
   "cell_type": "code",
   "execution_count": null,
   "id": "412bb895",
   "metadata": {
    "execution": {
     "iopub.execute_input": "2022-11-22T20:51:49.802163Z",
     "iopub.status.busy": "2022-11-22T20:51:49.801804Z",
     "iopub.status.idle": "2022-11-22T20:51:49.913907Z",
     "shell.execute_reply": "2022-11-22T20:51:49.912887Z",
     "shell.execute_reply.started": "2022-11-22T20:51:49.802129Z"
    },
    "papermill": {
     "duration": null,
     "end_time": null,
     "exception": null,
     "start_time": null,
     "status": "pending"
    },
    "tags": []
   },
   "outputs": [],
   "source": [
    "Importance = pd.DataFrame({\"Importance\": rf_tuned.feature_importances_*100},\n",
    "                         index = X_train.columns)"
   ]
  },
  {
   "cell_type": "code",
   "execution_count": null,
   "id": "5540789f",
   "metadata": {
    "execution": {
     "iopub.execute_input": "2022-11-22T20:51:49.916032Z",
     "iopub.status.busy": "2022-11-22T20:51:49.915398Z",
     "iopub.status.idle": "2022-11-22T20:51:50.070046Z",
     "shell.execute_reply": "2022-11-22T20:51:50.069070Z",
     "shell.execute_reply.started": "2022-11-22T20:51:49.915997Z"
    },
    "papermill": {
     "duration": null,
     "end_time": null,
     "exception": null,
     "start_time": null,
     "status": "pending"
    },
    "tags": []
   },
   "outputs": [],
   "source": [
    "Importance.sort_values(by = \"Importance\", \n",
    "                       axis = 0, \n",
    "                       ascending = True).plot(kind =\"barh\", color = \"r\")\n",
    "\n",
    "plt.xlabel(\"Değişken Önem Düzeyleri\")"
   ]
  },
  {
   "cell_type": "markdown",
   "id": "22b78cc0",
   "metadata": {
    "papermill": {
     "duration": null,
     "end_time": null,
     "exception": null,
     "start_time": null,
     "status": "pending"
    },
    "tags": []
   },
   "source": [
    "# Gradient Boosting Machines"
   ]
  },
  {
   "cell_type": "code",
   "execution_count": null,
   "id": "0efb83a6",
   "metadata": {
    "execution": {
     "iopub.execute_input": "2022-11-22T20:51:50.071441Z",
     "iopub.status.busy": "2022-11-22T20:51:50.071118Z",
     "iopub.status.idle": "2022-11-22T20:51:50.081282Z",
     "shell.execute_reply": "2022-11-22T20:51:50.080363Z",
     "shell.execute_reply.started": "2022-11-22T20:51:50.071410Z"
    },
    "papermill": {
     "duration": null,
     "end_time": null,
     "exception": null,
     "start_time": null,
     "status": "pending"
    },
    "tags": []
   },
   "outputs": [],
   "source": [
    "df = diabetes.copy()\n",
    "df = df.dropna()\n",
    "y = df[\"Outcome\"]\n",
    "X = df.drop(['Outcome'], axis=1)\n",
    "#X = df[\"Pregnancies\"]\n",
    "X = pd.DataFrame(X)\n",
    "X_train, X_test, y_train, y_test = train_test_split(X, y, \n",
    "                                                    test_size=0.30, \n",
    "                                                    random_state=42)"
   ]
  },
  {
   "cell_type": "code",
   "execution_count": null,
   "id": "ecd1825b",
   "metadata": {
    "execution": {
     "iopub.execute_input": "2022-11-22T20:51:50.082630Z",
     "iopub.status.busy": "2022-11-22T20:51:50.082358Z",
     "iopub.status.idle": "2022-11-22T20:51:50.088428Z",
     "shell.execute_reply": "2022-11-22T20:51:50.087416Z",
     "shell.execute_reply.started": "2022-11-22T20:51:50.082601Z"
    },
    "papermill": {
     "duration": null,
     "end_time": null,
     "exception": null,
     "start_time": null,
     "status": "pending"
    },
    "tags": []
   },
   "outputs": [],
   "source": [
    "from sklearn.ensemble import GradientBoostingClassifier"
   ]
  },
  {
   "cell_type": "code",
   "execution_count": null,
   "id": "da9f23e6",
   "metadata": {
    "execution": {
     "iopub.execute_input": "2022-11-22T20:51:50.090130Z",
     "iopub.status.busy": "2022-11-22T20:51:50.089547Z",
     "iopub.status.idle": "2022-11-22T20:51:50.211685Z",
     "shell.execute_reply": "2022-11-22T20:51:50.210915Z",
     "shell.execute_reply.started": "2022-11-22T20:51:50.090061Z"
    },
    "papermill": {
     "duration": null,
     "end_time": null,
     "exception": null,
     "start_time": null,
     "status": "pending"
    },
    "tags": []
   },
   "outputs": [],
   "source": [
    "gbm_model = GradientBoostingClassifier().fit(X_train, y_train)"
   ]
  },
  {
   "cell_type": "code",
   "execution_count": null,
   "id": "2d070ef4",
   "metadata": {
    "execution": {
     "iopub.execute_input": "2022-11-22T20:51:50.213701Z",
     "iopub.status.busy": "2022-11-22T20:51:50.213054Z",
     "iopub.status.idle": "2022-11-22T20:51:50.222171Z",
     "shell.execute_reply": "2022-11-22T20:51:50.221242Z",
     "shell.execute_reply.started": "2022-11-22T20:51:50.213641Z"
    },
    "papermill": {
     "duration": null,
     "end_time": null,
     "exception": null,
     "start_time": null,
     "status": "pending"
    },
    "tags": []
   },
   "outputs": [],
   "source": [
    "y_pred = gbm_model.predict(X_test)\n",
    "accuracy_score(y_test, y_pred)"
   ]
  },
  {
   "cell_type": "markdown",
   "id": "b19cb42d",
   "metadata": {
    "papermill": {
     "duration": null,
     "end_time": null,
     "exception": null,
     "start_time": null,
     "status": "pending"
    },
    "tags": []
   },
   "source": [
    "## Model Tuning"
   ]
  },
  {
   "cell_type": "code",
   "execution_count": null,
   "id": "d3f7b02b",
   "metadata": {
    "execution": {
     "iopub.execute_input": "2022-11-22T20:51:50.224008Z",
     "iopub.status.busy": "2022-11-22T20:51:50.223764Z",
     "iopub.status.idle": "2022-11-22T20:51:50.231061Z",
     "shell.execute_reply": "2022-11-22T20:51:50.230266Z",
     "shell.execute_reply.started": "2022-11-22T20:51:50.223985Z"
    },
    "papermill": {
     "duration": null,
     "end_time": null,
     "exception": null,
     "start_time": null,
     "status": "pending"
    },
    "tags": []
   },
   "outputs": [],
   "source": [
    "gbm_model"
   ]
  },
  {
   "cell_type": "code",
   "execution_count": null,
   "id": "10aee257",
   "metadata": {
    "execution": {
     "iopub.execute_input": "2022-11-22T20:51:50.233101Z",
     "iopub.status.busy": "2022-11-22T20:51:50.232108Z",
     "iopub.status.idle": "2022-11-22T20:51:50.238227Z",
     "shell.execute_reply": "2022-11-22T20:51:50.237642Z",
     "shell.execute_reply.started": "2022-11-22T20:51:50.233042Z"
    },
    "papermill": {
     "duration": null,
     "end_time": null,
     "exception": null,
     "start_time": null,
     "status": "pending"
    },
    "tags": []
   },
   "outputs": [],
   "source": [
    "# ?gbm_model"
   ]
  },
  {
   "cell_type": "code",
   "execution_count": null,
   "id": "df2ea5b4",
   "metadata": {
    "execution": {
     "iopub.execute_input": "2022-11-22T20:51:50.239763Z",
     "iopub.status.busy": "2022-11-22T20:51:50.239031Z",
     "iopub.status.idle": "2022-11-22T20:51:50.248039Z",
     "shell.execute_reply": "2022-11-22T20:51:50.247265Z",
     "shell.execute_reply.started": "2022-11-22T20:51:50.239737Z"
    },
    "papermill": {
     "duration": null,
     "end_time": null,
     "exception": null,
     "start_time": null,
     "status": "pending"
    },
    "tags": []
   },
   "outputs": [],
   "source": [
    "gbm_params = {\"learning_rate\" : [0.001, 0.01, 0.1, 0.05],\n",
    "             \"n_estimators\": [100,500,100],\n",
    "             \"max_depth\": [3,5,10],\n",
    "             \"min_samples_split\": [2,5,10]}"
   ]
  },
  {
   "cell_type": "code",
   "execution_count": null,
   "id": "8298ec8e",
   "metadata": {
    "execution": {
     "iopub.execute_input": "2022-11-22T20:51:50.249143Z",
     "iopub.status.busy": "2022-11-22T20:51:50.248845Z",
     "iopub.status.idle": "2022-11-22T20:51:50.257751Z",
     "shell.execute_reply": "2022-11-22T20:51:50.256892Z",
     "shell.execute_reply.started": "2022-11-22T20:51:50.249122Z"
    },
    "papermill": {
     "duration": null,
     "end_time": null,
     "exception": null,
     "start_time": null,
     "status": "pending"
    },
    "tags": []
   },
   "outputs": [],
   "source": [
    "gbm = GradientBoostingClassifier()\n",
    "\n",
    "gbm_cv = GridSearchCV(gbm, gbm_params, cv = 10, n_jobs = -1, verbose = 2)"
   ]
  },
  {
   "cell_type": "code",
   "execution_count": null,
   "id": "7a19846f",
   "metadata": {
    "execution": {
     "iopub.execute_input": "2022-11-22T20:51:50.259141Z",
     "iopub.status.busy": "2022-11-22T20:51:50.258795Z",
     "iopub.status.idle": "2022-11-22T20:51:50.272119Z",
     "shell.execute_reply": "2022-11-22T20:51:50.271356Z",
     "shell.execute_reply.started": "2022-11-22T20:51:50.259118Z"
    },
    "papermill": {
     "duration": null,
     "end_time": null,
     "exception": null,
     "start_time": null,
     "status": "pending"
    },
    "tags": []
   },
   "outputs": [],
   "source": [
    "# gbm_cv.fit(X_train, y_train)\n",
    "\n",
    "\"\"\"\n",
    "\n",
    "GridSearchCV(cv=10, estimator=GradientBoostingClassifier(), n_jobs=-1,\n",
    "             param_grid={'learning_rate': [0.001, 0.01, 0.1, 0.05],\n",
    "                         'max_depth': [3, 5, 10],\n",
    "                         'min_samples_split': [2, 5, 10],\n",
    "                         'n_estimators': [100, 500, 100]},\n",
    "             verbose=2)\n",
    "\n",
    "\"\"\""
   ]
  },
  {
   "cell_type": "code",
   "execution_count": null,
   "id": "95f07c59",
   "metadata": {
    "execution": {
     "iopub.execute_input": "2022-11-22T20:51:50.273806Z",
     "iopub.status.busy": "2022-11-22T20:51:50.273505Z",
     "iopub.status.idle": "2022-11-22T20:51:50.280773Z",
     "shell.execute_reply": "2022-11-22T20:51:50.280016Z",
     "shell.execute_reply.started": "2022-11-22T20:51:50.273781Z"
    },
    "papermill": {
     "duration": null,
     "end_time": null,
     "exception": null,
     "start_time": null,
     "status": "pending"
    },
    "tags": []
   },
   "outputs": [],
   "source": [
    "# print(\"En iyi parametreler: \" + str(gbm_cv.best_params_))\n",
    "\n",
    "# En iyi parametreler: {'learning_rate': 0.01, 'max_depth': 5, 'min_samples_split': 2, 'n_estimators': 500}"
   ]
  },
  {
   "cell_type": "code",
   "execution_count": null,
   "id": "9fe1fcd1",
   "metadata": {
    "execution": {
     "iopub.execute_input": "2022-11-22T20:51:50.281831Z",
     "iopub.status.busy": "2022-11-22T20:51:50.281577Z",
     "iopub.status.idle": "2022-11-22T20:51:50.291002Z",
     "shell.execute_reply": "2022-11-22T20:51:50.290040Z",
     "shell.execute_reply.started": "2022-11-22T20:51:50.281810Z"
    },
    "papermill": {
     "duration": null,
     "end_time": null,
     "exception": null,
     "start_time": null,
     "status": "pending"
    },
    "tags": []
   },
   "outputs": [],
   "source": [
    "gbm = GradientBoostingClassifier(learning_rate = 0.01, \n",
    "                                 max_depth = 3,\n",
    "                                min_samples_split = 5,\n",
    "                                n_estimators = 500)"
   ]
  },
  {
   "cell_type": "code",
   "execution_count": null,
   "id": "e4db43b6",
   "metadata": {
    "execution": {
     "iopub.execute_input": "2022-11-22T20:51:50.293024Z",
     "iopub.status.busy": "2022-11-22T20:51:50.292457Z",
     "iopub.status.idle": "2022-11-22T20:51:50.840487Z",
     "shell.execute_reply": "2022-11-22T20:51:50.839630Z",
     "shell.execute_reply.started": "2022-11-22T20:51:50.292992Z"
    },
    "papermill": {
     "duration": null,
     "end_time": null,
     "exception": null,
     "start_time": null,
     "status": "pending"
    },
    "tags": []
   },
   "outputs": [],
   "source": [
    "gbm_tuned =  gbm.fit(X_train,y_train)"
   ]
  },
  {
   "cell_type": "code",
   "execution_count": null,
   "id": "2dd5d06f",
   "metadata": {
    "execution": {
     "iopub.execute_input": "2022-11-22T20:51:50.842472Z",
     "iopub.status.busy": "2022-11-22T20:51:50.841768Z",
     "iopub.status.idle": "2022-11-22T20:51:50.851767Z",
     "shell.execute_reply": "2022-11-22T20:51:50.850929Z",
     "shell.execute_reply.started": "2022-11-22T20:51:50.842437Z"
    },
    "papermill": {
     "duration": null,
     "end_time": null,
     "exception": null,
     "start_time": null,
     "status": "pending"
    },
    "tags": []
   },
   "outputs": [],
   "source": [
    "y_pred = gbm_tuned.predict(X_test)\n",
    "accuracy_score(y_test, y_pred)"
   ]
  },
  {
   "cell_type": "markdown",
   "id": "82252935",
   "metadata": {
    "papermill": {
     "duration": null,
     "end_time": null,
     "exception": null,
     "start_time": null,
     "status": "pending"
    },
    "tags": []
   },
   "source": [
    "# XGBoost"
   ]
  },
  {
   "cell_type": "code",
   "execution_count": null,
   "id": "f5fc690f",
   "metadata": {
    "execution": {
     "iopub.execute_input": "2022-11-22T20:51:50.853183Z",
     "iopub.status.busy": "2022-11-22T20:51:50.852955Z",
     "iopub.status.idle": "2022-11-22T20:51:50.869393Z",
     "shell.execute_reply": "2022-11-22T20:51:50.868682Z",
     "shell.execute_reply.started": "2022-11-22T20:51:50.853161Z"
    },
    "papermill": {
     "duration": null,
     "end_time": null,
     "exception": null,
     "start_time": null,
     "status": "pending"
    },
    "tags": []
   },
   "outputs": [],
   "source": [
    "df = diabetes.copy()\n",
    "df = df.dropna()\n",
    "y = df[\"Outcome\"]\n",
    "X = df.drop(['Outcome'], axis=1)\n",
    "#X = df[\"Pregnancies\"]\n",
    "X = pd.DataFrame(X)\n",
    "X_train, X_test, y_train, y_test = train_test_split(X, y, \n",
    "                                                    test_size=0.30, \n",
    "                                                    random_state=42)"
   ]
  },
  {
   "cell_type": "code",
   "execution_count": null,
   "id": "78a53b6f",
   "metadata": {
    "execution": {
     "iopub.execute_input": "2022-11-22T20:51:50.870759Z",
     "iopub.status.busy": "2022-11-22T20:51:50.870510Z",
     "iopub.status.idle": "2022-11-22T20:51:50.881839Z",
     "shell.execute_reply": "2022-11-22T20:51:50.881109Z",
     "shell.execute_reply.started": "2022-11-22T20:51:50.870737Z"
    },
    "papermill": {
     "duration": null,
     "end_time": null,
     "exception": null,
     "start_time": null,
     "status": "pending"
    },
    "tags": []
   },
   "outputs": [],
   "source": [
    "#!pip install xgboost\n",
    "from xgboost import XGBClassifier"
   ]
  },
  {
   "cell_type": "code",
   "execution_count": null,
   "id": "a694205f",
   "metadata": {
    "execution": {
     "iopub.execute_input": "2022-11-22T20:51:50.883259Z",
     "iopub.status.busy": "2022-11-22T20:51:50.883004Z",
     "iopub.status.idle": "2022-11-22T20:51:51.077678Z",
     "shell.execute_reply": "2022-11-22T20:51:51.076931Z",
     "shell.execute_reply.started": "2022-11-22T20:51:50.883238Z"
    },
    "papermill": {
     "duration": null,
     "end_time": null,
     "exception": null,
     "start_time": null,
     "status": "pending"
    },
    "tags": []
   },
   "outputs": [],
   "source": [
    "xgb_model = XGBClassifier().fit(X_train, y_train)"
   ]
  },
  {
   "cell_type": "code",
   "execution_count": null,
   "id": "3f2c8cd9",
   "metadata": {
    "execution": {
     "iopub.execute_input": "2022-11-22T20:51:51.081197Z",
     "iopub.status.busy": "2022-11-22T20:51:51.078645Z",
     "iopub.status.idle": "2022-11-22T20:51:51.089692Z",
     "shell.execute_reply": "2022-11-22T20:51:51.089079Z",
     "shell.execute_reply.started": "2022-11-22T20:51:51.081162Z"
    },
    "papermill": {
     "duration": null,
     "end_time": null,
     "exception": null,
     "start_time": null,
     "status": "pending"
    },
    "tags": []
   },
   "outputs": [],
   "source": [
    "xgb_model"
   ]
  },
  {
   "cell_type": "code",
   "execution_count": null,
   "id": "c0ed8122",
   "metadata": {
    "execution": {
     "iopub.execute_input": "2022-11-22T20:51:51.090978Z",
     "iopub.status.busy": "2022-11-22T20:51:51.090571Z",
     "iopub.status.idle": "2022-11-22T20:51:51.100045Z",
     "shell.execute_reply": "2022-11-22T20:51:51.099409Z",
     "shell.execute_reply.started": "2022-11-22T20:51:51.090955Z"
    },
    "papermill": {
     "duration": null,
     "end_time": null,
     "exception": null,
     "start_time": null,
     "status": "pending"
    },
    "tags": []
   },
   "outputs": [],
   "source": [
    "y_pred = xgb_model.predict(X_test)\n",
    "accuracy_score(y_test, y_pred)"
   ]
  },
  {
   "cell_type": "markdown",
   "id": "a87db288",
   "metadata": {
    "papermill": {
     "duration": null,
     "end_time": null,
     "exception": null,
     "start_time": null,
     "status": "pending"
    },
    "tags": []
   },
   "source": [
    "## Model Tuning"
   ]
  },
  {
   "cell_type": "code",
   "execution_count": null,
   "id": "eee5a1b6",
   "metadata": {
    "execution": {
     "iopub.execute_input": "2022-11-22T20:51:51.101371Z",
     "iopub.status.busy": "2022-11-22T20:51:51.100993Z",
     "iopub.status.idle": "2022-11-22T20:51:51.109119Z",
     "shell.execute_reply": "2022-11-22T20:51:51.108331Z",
     "shell.execute_reply.started": "2022-11-22T20:51:51.101343Z"
    },
    "papermill": {
     "duration": null,
     "end_time": null,
     "exception": null,
     "start_time": null,
     "status": "pending"
    },
    "tags": []
   },
   "outputs": [],
   "source": [
    "xgb_model"
   ]
  },
  {
   "cell_type": "code",
   "execution_count": null,
   "id": "88399454",
   "metadata": {
    "execution": {
     "iopub.execute_input": "2022-11-22T20:51:51.110728Z",
     "iopub.status.busy": "2022-11-22T20:51:51.110420Z",
     "iopub.status.idle": "2022-11-22T20:51:51.115407Z",
     "shell.execute_reply": "2022-11-22T20:51:51.114507Z",
     "shell.execute_reply.started": "2022-11-22T20:51:51.110698Z"
    },
    "papermill": {
     "duration": null,
     "end_time": null,
     "exception": null,
     "start_time": null,
     "status": "pending"
    },
    "tags": []
   },
   "outputs": [],
   "source": [
    "# ?xgb_model"
   ]
  },
  {
   "cell_type": "code",
   "execution_count": null,
   "id": "a2abcae2",
   "metadata": {
    "execution": {
     "iopub.execute_input": "2022-11-22T20:51:51.117006Z",
     "iopub.status.busy": "2022-11-22T20:51:51.116705Z",
     "iopub.status.idle": "2022-11-22T20:51:51.125035Z",
     "shell.execute_reply": "2022-11-22T20:51:51.124296Z",
     "shell.execute_reply.started": "2022-11-22T20:51:51.116984Z"
    },
    "papermill": {
     "duration": null,
     "end_time": null,
     "exception": null,
     "start_time": null,
     "status": "pending"
    },
    "tags": []
   },
   "outputs": [],
   "source": [
    "xgb_params = {\n",
    "        'n_estimators': [100, 500, 1000, 2000],\n",
    "        'subsample': [0.6, 0.8, 1.0],\n",
    "        'max_depth': [3, 4, 5,6],\n",
    "        'learning_rate': [0.1,0.01,0.02,0.05],\n",
    "        \"min_samples_split\": [2,5,10]}"
   ]
  },
  {
   "cell_type": "code",
   "execution_count": null,
   "id": "d320e35c",
   "metadata": {
    "execution": {
     "iopub.execute_input": "2022-11-22T20:51:51.126367Z",
     "iopub.status.busy": "2022-11-22T20:51:51.126149Z",
     "iopub.status.idle": "2022-11-22T20:51:51.134882Z",
     "shell.execute_reply": "2022-11-22T20:51:51.134055Z",
     "shell.execute_reply.started": "2022-11-22T20:51:51.126347Z"
    },
    "papermill": {
     "duration": null,
     "end_time": null,
     "exception": null,
     "start_time": null,
     "status": "pending"
    },
    "tags": []
   },
   "outputs": [],
   "source": [
    "xgb = XGBClassifier()\n",
    "\n",
    "xgb_cv_model = GridSearchCV(xgb, xgb_params, cv = 10, n_jobs = -1, verbose = 2)"
   ]
  },
  {
   "cell_type": "code",
   "execution_count": null,
   "id": "c01d4f76",
   "metadata": {
    "execution": {
     "iopub.execute_input": "2022-11-22T20:51:51.136781Z",
     "iopub.status.busy": "2022-11-22T20:51:51.135979Z",
     "iopub.status.idle": "2022-11-22T20:51:51.145071Z",
     "shell.execute_reply": "2022-11-22T20:51:51.144274Z",
     "shell.execute_reply.started": "2022-11-22T20:51:51.136748Z"
    },
    "papermill": {
     "duration": null,
     "end_time": null,
     "exception": null,
     "start_time": null,
     "status": "pending"
    },
    "tags": []
   },
   "outputs": [],
   "source": [
    "# xgb_cv_model.fit(X_train, y_train)"
   ]
  },
  {
   "cell_type": "code",
   "execution_count": null,
   "id": "1148cd88",
   "metadata": {
    "execution": {
     "iopub.execute_input": "2022-11-22T20:51:51.146283Z",
     "iopub.status.busy": "2022-11-22T20:51:51.146052Z",
     "iopub.status.idle": "2022-11-22T20:51:51.153918Z",
     "shell.execute_reply": "2022-11-22T20:51:51.153146Z",
     "shell.execute_reply.started": "2022-11-22T20:51:51.146262Z"
    },
    "papermill": {
     "duration": null,
     "end_time": null,
     "exception": null,
     "start_time": null,
     "status": "pending"
    },
    "tags": []
   },
   "outputs": [],
   "source": [
    "# xgb_cv_model.best_params_ # Assagida en iyi parametreler var"
   ]
  },
  {
   "cell_type": "code",
   "execution_count": null,
   "id": "c5d80d51",
   "metadata": {
    "execution": {
     "iopub.execute_input": "2022-11-22T20:51:51.155411Z",
     "iopub.status.busy": "2022-11-22T20:51:51.155104Z",
     "iopub.status.idle": "2022-11-22T20:51:51.164186Z",
     "shell.execute_reply": "2022-11-22T20:51:51.163465Z",
     "shell.execute_reply.started": "2022-11-22T20:51:51.155382Z"
    },
    "papermill": {
     "duration": null,
     "end_time": null,
     "exception": null,
     "start_time": null,
     "status": "pending"
    },
    "tags": []
   },
   "outputs": [],
   "source": [
    "xgb = XGBClassifier(learning_rate = 0.01, \n",
    "                    max_depth = 6,\n",
    "                    min_samples_split = 2,\n",
    "                    n_estimators = 100,\n",
    "                    subsample = 0.8)"
   ]
  },
  {
   "cell_type": "code",
   "execution_count": null,
   "id": "a1cf0880",
   "metadata": {
    "execution": {
     "iopub.execute_input": "2022-11-22T20:51:51.165672Z",
     "iopub.status.busy": "2022-11-22T20:51:51.165259Z",
     "iopub.status.idle": "2022-11-22T20:51:51.440279Z",
     "shell.execute_reply": "2022-11-22T20:51:51.439386Z",
     "shell.execute_reply.started": "2022-11-22T20:51:51.165627Z"
    },
    "papermill": {
     "duration": null,
     "end_time": null,
     "exception": null,
     "start_time": null,
     "status": "pending"
    },
    "tags": []
   },
   "outputs": [],
   "source": [
    "xgb_tuned =  xgb.fit(X_train,y_train)"
   ]
  },
  {
   "cell_type": "code",
   "execution_count": null,
   "id": "508d27d1",
   "metadata": {
    "execution": {
     "iopub.execute_input": "2022-11-22T20:51:51.444271Z",
     "iopub.status.busy": "2022-11-22T20:51:51.443680Z",
     "iopub.status.idle": "2022-11-22T20:51:51.458338Z",
     "shell.execute_reply": "2022-11-22T20:51:51.457250Z",
     "shell.execute_reply.started": "2022-11-22T20:51:51.444247Z"
    },
    "papermill": {
     "duration": null,
     "end_time": null,
     "exception": null,
     "start_time": null,
     "status": "pending"
    },
    "tags": []
   },
   "outputs": [],
   "source": [
    "y_pred = xgb_tuned.predict(X_test)\n",
    "accuracy_score(y_test, y_pred)"
   ]
  },
  {
   "cell_type": "markdown",
   "id": "781d1978",
   "metadata": {
    "papermill": {
     "duration": null,
     "end_time": null,
     "exception": null,
     "start_time": null,
     "status": "pending"
    },
    "tags": []
   },
   "source": [
    "# LightGBM"
   ]
  },
  {
   "cell_type": "code",
   "execution_count": null,
   "id": "16c8497c",
   "metadata": {
    "execution": {
     "iopub.execute_input": "2022-11-22T20:51:51.461364Z",
     "iopub.status.busy": "2022-11-22T20:51:51.460954Z",
     "iopub.status.idle": "2022-11-22T20:51:51.470281Z",
     "shell.execute_reply": "2022-11-22T20:51:51.469395Z",
     "shell.execute_reply.started": "2022-11-22T20:51:51.461340Z"
    },
    "papermill": {
     "duration": null,
     "end_time": null,
     "exception": null,
     "start_time": null,
     "status": "pending"
    },
    "tags": []
   },
   "outputs": [],
   "source": [
    "df = diabetes.copy()\n",
    "df = df.dropna()\n",
    "y = df[\"Outcome\"]\n",
    "X = df.drop(['Outcome'], axis=1)\n",
    "#X = df[\"Pregnancies\"]\n",
    "X = pd.DataFrame(X)\n",
    "X_train, X_test, y_train, y_test = train_test_split(X, y, \n",
    "                                                    test_size=0.30, \n",
    "                                                    random_state=42)"
   ]
  },
  {
   "cell_type": "code",
   "execution_count": null,
   "id": "f9a9b7bf",
   "metadata": {
    "execution": {
     "iopub.execute_input": "2022-11-22T20:51:51.471816Z",
     "iopub.status.busy": "2022-11-22T20:51:51.471285Z",
     "iopub.status.idle": "2022-11-22T20:51:51.477767Z",
     "shell.execute_reply": "2022-11-22T20:51:51.476819Z",
     "shell.execute_reply.started": "2022-11-22T20:51:51.471789Z"
    },
    "papermill": {
     "duration": null,
     "end_time": null,
     "exception": null,
     "start_time": null,
     "status": "pending"
    },
    "tags": []
   },
   "outputs": [],
   "source": [
    "#!conda install -c conda-forge lightgbm\n",
    "from lightgbm import LGBMClassifier"
   ]
  },
  {
   "cell_type": "code",
   "execution_count": null,
   "id": "77108473",
   "metadata": {
    "execution": {
     "iopub.execute_input": "2022-11-22T20:51:51.479227Z",
     "iopub.status.busy": "2022-11-22T20:51:51.478981Z",
     "iopub.status.idle": "2022-11-22T20:51:51.547065Z",
     "shell.execute_reply": "2022-11-22T20:51:51.546112Z",
     "shell.execute_reply.started": "2022-11-22T20:51:51.479203Z"
    },
    "papermill": {
     "duration": null,
     "end_time": null,
     "exception": null,
     "start_time": null,
     "status": "pending"
    },
    "tags": []
   },
   "outputs": [],
   "source": [
    "lgbm_model = LGBMClassifier().fit(X_train, y_train)"
   ]
  },
  {
   "cell_type": "code",
   "execution_count": null,
   "id": "98c49539",
   "metadata": {
    "execution": {
     "iopub.execute_input": "2022-11-22T20:51:51.551000Z",
     "iopub.status.busy": "2022-11-22T20:51:51.550695Z",
     "iopub.status.idle": "2022-11-22T20:51:51.563771Z",
     "shell.execute_reply": "2022-11-22T20:51:51.562878Z",
     "shell.execute_reply.started": "2022-11-22T20:51:51.550972Z"
    },
    "papermill": {
     "duration": null,
     "end_time": null,
     "exception": null,
     "start_time": null,
     "status": "pending"
    },
    "tags": []
   },
   "outputs": [],
   "source": [
    "y_pred = lgbm_model.predict(X_test)\n",
    "accuracy_score(y_test, y_pred)"
   ]
  },
  {
   "cell_type": "code",
   "execution_count": null,
   "id": "e2a223fa",
   "metadata": {
    "execution": {
     "iopub.execute_input": "2022-11-22T20:51:51.566969Z",
     "iopub.status.busy": "2022-11-22T20:51:51.566723Z",
     "iopub.status.idle": "2022-11-22T20:51:51.570787Z",
     "shell.execute_reply": "2022-11-22T20:51:51.570119Z",
     "shell.execute_reply.started": "2022-11-22T20:51:51.566939Z"
    },
    "papermill": {
     "duration": null,
     "end_time": null,
     "exception": null,
     "start_time": null,
     "status": "pending"
    },
    "tags": []
   },
   "outputs": [],
   "source": [
    "## Model Tuning"
   ]
  },
  {
   "cell_type": "code",
   "execution_count": null,
   "id": "80769377",
   "metadata": {
    "execution": {
     "iopub.execute_input": "2022-11-22T20:51:51.572185Z",
     "iopub.status.busy": "2022-11-22T20:51:51.571711Z",
     "iopub.status.idle": "2022-11-22T20:51:51.582092Z",
     "shell.execute_reply": "2022-11-22T20:51:51.581265Z",
     "shell.execute_reply.started": "2022-11-22T20:51:51.572161Z"
    },
    "papermill": {
     "duration": null,
     "end_time": null,
     "exception": null,
     "start_time": null,
     "status": "pending"
    },
    "tags": []
   },
   "outputs": [],
   "source": [
    "lgbm_model"
   ]
  },
  {
   "cell_type": "code",
   "execution_count": null,
   "id": "4cb8710f",
   "metadata": {
    "execution": {
     "iopub.execute_input": "2022-11-22T20:51:51.583585Z",
     "iopub.status.busy": "2022-11-22T20:51:51.583257Z",
     "iopub.status.idle": "2022-11-22T20:51:51.591179Z",
     "shell.execute_reply": "2022-11-22T20:51:51.590334Z",
     "shell.execute_reply.started": "2022-11-22T20:51:51.583558Z"
    },
    "papermill": {
     "duration": null,
     "end_time": null,
     "exception": null,
     "start_time": null,
     "status": "pending"
    },
    "tags": []
   },
   "outputs": [],
   "source": [
    "#?lgbm_model"
   ]
  },
  {
   "cell_type": "code",
   "execution_count": null,
   "id": "0c6a7deb",
   "metadata": {
    "execution": {
     "iopub.execute_input": "2022-11-22T20:51:51.592964Z",
     "iopub.status.busy": "2022-11-22T20:51:51.592262Z",
     "iopub.status.idle": "2022-11-22T20:51:51.600766Z",
     "shell.execute_reply": "2022-11-22T20:51:51.600103Z",
     "shell.execute_reply.started": "2022-11-22T20:51:51.592933Z"
    },
    "papermill": {
     "duration": null,
     "end_time": null,
     "exception": null,
     "start_time": null,
     "status": "pending"
    },
    "tags": []
   },
   "outputs": [],
   "source": [
    "lgbm_params = {\n",
    "        'n_estimators': [100, 500, 1000, 2000],\n",
    "        'subsample': [0.6, 0.8, 1.0],\n",
    "        'max_depth': [3, 4, 5,6],\n",
    "        'learning_rate': [0.1,0.01,0.02,0.05],\n",
    "        \"min_child_samples\": [5,10,20]}"
   ]
  },
  {
   "cell_type": "code",
   "execution_count": null,
   "id": "b6608236",
   "metadata": {
    "execution": {
     "iopub.execute_input": "2022-11-22T20:51:51.602286Z",
     "iopub.status.busy": "2022-11-22T20:51:51.602034Z",
     "iopub.status.idle": "2022-11-22T20:51:51.610520Z",
     "shell.execute_reply": "2022-11-22T20:51:51.609753Z",
     "shell.execute_reply.started": "2022-11-22T20:51:51.602264Z"
    },
    "papermill": {
     "duration": null,
     "end_time": null,
     "exception": null,
     "start_time": null,
     "status": "pending"
    },
    "tags": []
   },
   "outputs": [],
   "source": [
    "lgbm = LGBMClassifier()\n",
    "\n",
    "lgbm_cv_model = GridSearchCV(lgbm, lgbm_params, \n",
    "                             cv = 10, \n",
    "                             n_jobs = -1, \n",
    "                             verbose = 2)\n",
    "\n"
   ]
  },
  {
   "cell_type": "code",
   "execution_count": null,
   "id": "1c32adbd",
   "metadata": {
    "execution": {
     "iopub.execute_input": "2022-11-22T20:51:51.611743Z",
     "iopub.status.busy": "2022-11-22T20:51:51.611477Z",
     "iopub.status.idle": "2022-11-22T20:51:51.619154Z",
     "shell.execute_reply": "2022-11-22T20:51:51.618557Z",
     "shell.execute_reply.started": "2022-11-22T20:51:51.611715Z"
    },
    "papermill": {
     "duration": null,
     "end_time": null,
     "exception": null,
     "start_time": null,
     "status": "pending"
    },
    "tags": []
   },
   "outputs": [],
   "source": [
    "# lgbm_cv_model.fit(X_train, y_train)"
   ]
  },
  {
   "cell_type": "code",
   "execution_count": null,
   "id": "4cb405f4",
   "metadata": {
    "execution": {
     "iopub.execute_input": "2022-11-22T20:51:51.620585Z",
     "iopub.status.busy": "2022-11-22T20:51:51.620026Z",
     "iopub.status.idle": "2022-11-22T20:51:51.628246Z",
     "shell.execute_reply": "2022-11-22T20:51:51.627520Z",
     "shell.execute_reply.started": "2022-11-22T20:51:51.620561Z"
    },
    "papermill": {
     "duration": null,
     "end_time": null,
     "exception": null,
     "start_time": null,
     "status": "pending"
    },
    "tags": []
   },
   "outputs": [],
   "source": [
    "# lgbm_cv_model.best_params_ # Assagida var en iyi parametreler"
   ]
  },
  {
   "cell_type": "code",
   "execution_count": null,
   "id": "df86d904",
   "metadata": {
    "execution": {
     "iopub.execute_input": "2022-11-22T20:51:51.629706Z",
     "iopub.status.busy": "2022-11-22T20:51:51.629301Z",
     "iopub.status.idle": "2022-11-22T20:51:51.636268Z",
     "shell.execute_reply": "2022-11-22T20:51:51.635692Z",
     "shell.execute_reply.started": "2022-11-22T20:51:51.629674Z"
    },
    "papermill": {
     "duration": null,
     "end_time": null,
     "exception": null,
     "start_time": null,
     "status": "pending"
    },
    "tags": []
   },
   "outputs": [],
   "source": [
    "lgbm = LGBMClassifier(learning_rate = 0.01, \n",
    "                       max_depth = 3,\n",
    "                       subsample = 0.6,\n",
    "                       n_estimators = 500,\n",
    "                       min_child_samples = 20)"
   ]
  },
  {
   "cell_type": "code",
   "execution_count": null,
   "id": "9a0c375c",
   "metadata": {
    "execution": {
     "iopub.execute_input": "2022-11-22T20:51:51.637615Z",
     "iopub.status.busy": "2022-11-22T20:51:51.637207Z",
     "iopub.status.idle": "2022-11-22T20:51:51.703752Z",
     "shell.execute_reply": "2022-11-22T20:51:51.702971Z",
     "shell.execute_reply.started": "2022-11-22T20:51:51.637591Z"
    },
    "papermill": {
     "duration": null,
     "end_time": null,
     "exception": null,
     "start_time": null,
     "status": "pending"
    },
    "tags": []
   },
   "outputs": [],
   "source": [
    "lgbm_tuned = lgbm.fit(X_train,y_train)"
   ]
  },
  {
   "cell_type": "code",
   "execution_count": null,
   "id": "b7c97717",
   "metadata": {
    "execution": {
     "iopub.execute_input": "2022-11-22T20:51:51.705396Z",
     "iopub.status.busy": "2022-11-22T20:51:51.704942Z",
     "iopub.status.idle": "2022-11-22T20:51:51.717334Z",
     "shell.execute_reply": "2022-11-22T20:51:51.716681Z",
     "shell.execute_reply.started": "2022-11-22T20:51:51.705366Z"
    },
    "papermill": {
     "duration": null,
     "end_time": null,
     "exception": null,
     "start_time": null,
     "status": "pending"
    },
    "tags": []
   },
   "outputs": [],
   "source": [
    "y_pred = lgbm_tuned.predict(X_test)\n",
    "accuracy_score(y_test, y_pred)"
   ]
  },
  {
   "cell_type": "markdown",
   "id": "515bae4d",
   "metadata": {
    "papermill": {
     "duration": null,
     "end_time": null,
     "exception": null,
     "start_time": null,
     "status": "pending"
    },
    "tags": []
   },
   "source": [
    "# CatBoost"
   ]
  },
  {
   "cell_type": "markdown",
   "id": "df435c90",
   "metadata": {
    "papermill": {
     "duration": null,
     "end_time": null,
     "exception": null,
     "start_time": null,
     "status": "pending"
    },
    "tags": []
   },
   "source": [
    "## Model & Tahmin"
   ]
  },
  {
   "cell_type": "code",
   "execution_count": null,
   "id": "f2553e80",
   "metadata": {
    "execution": {
     "iopub.execute_input": "2022-11-22T20:51:51.721895Z",
     "iopub.status.busy": "2022-11-22T20:51:51.720080Z",
     "iopub.status.idle": "2022-11-22T20:51:51.730225Z",
     "shell.execute_reply": "2022-11-22T20:51:51.729687Z",
     "shell.execute_reply.started": "2022-11-22T20:51:51.721870Z"
    },
    "papermill": {
     "duration": null,
     "end_time": null,
     "exception": null,
     "start_time": null,
     "status": "pending"
    },
    "tags": []
   },
   "outputs": [],
   "source": [
    "df = diabetes.copy()\n",
    "df = df.dropna()\n",
    "y = df[\"Outcome\"]\n",
    "X = df.drop(['Outcome'], axis=1)\n",
    "#X = df[\"Pregnancies\"]\n",
    "X = pd.DataFrame(X)\n",
    "X_train, X_test, y_train, y_test = train_test_split(X, y, \n",
    "                                                    test_size=0.30, \n",
    "                                                    random_state=42)"
   ]
  },
  {
   "cell_type": "code",
   "execution_count": null,
   "id": "843e518c",
   "metadata": {
    "execution": {
     "iopub.execute_input": "2022-11-22T20:51:51.733810Z",
     "iopub.status.busy": "2022-11-22T20:51:51.732717Z",
     "iopub.status.idle": "2022-11-22T20:51:51.740330Z",
     "shell.execute_reply": "2022-11-22T20:51:51.739783Z",
     "shell.execute_reply.started": "2022-11-22T20:51:51.733780Z"
    },
    "papermill": {
     "duration": null,
     "end_time": null,
     "exception": null,
     "start_time": null,
     "status": "pending"
    },
    "tags": []
   },
   "outputs": [],
   "source": [
    "#!pip install catboost\n",
    "from catboost import CatBoostClassifier"
   ]
  },
  {
   "cell_type": "code",
   "execution_count": null,
   "id": "c2d587b6",
   "metadata": {
    "execution": {
     "iopub.execute_input": "2022-11-22T20:51:51.741635Z",
     "iopub.status.busy": "2022-11-22T20:51:51.741243Z",
     "iopub.status.idle": "2022-11-22T20:51:52.650579Z",
     "shell.execute_reply": "2022-11-22T20:51:52.649682Z",
     "shell.execute_reply.started": "2022-11-22T20:51:51.741612Z"
    },
    "papermill": {
     "duration": null,
     "end_time": null,
     "exception": null,
     "start_time": null,
     "status": "pending"
    },
    "tags": []
   },
   "outputs": [],
   "source": [
    "cat_model = CatBoostClassifier().fit(X_train, y_train)"
   ]
  },
  {
   "cell_type": "code",
   "execution_count": null,
   "id": "2f68b782",
   "metadata": {
    "execution": {
     "iopub.execute_input": "2022-11-22T20:51:52.651747Z",
     "iopub.status.busy": "2022-11-22T20:51:52.651480Z",
     "iopub.status.idle": "2022-11-22T20:51:52.659307Z",
     "shell.execute_reply": "2022-11-22T20:51:52.658603Z",
     "shell.execute_reply.started": "2022-11-22T20:51:52.651723Z"
    },
    "papermill": {
     "duration": null,
     "end_time": null,
     "exception": null,
     "start_time": null,
     "status": "pending"
    },
    "tags": []
   },
   "outputs": [],
   "source": [
    "y_pred = cat_model.predict(X_test)\n",
    "accuracy_score(y_test, y_pred)"
   ]
  },
  {
   "cell_type": "markdown",
   "id": "c638d71b",
   "metadata": {
    "papermill": {
     "duration": null,
     "end_time": null,
     "exception": null,
     "start_time": null,
     "status": "pending"
    },
    "tags": []
   },
   "source": [
    "## Model Tuning"
   ]
  },
  {
   "cell_type": "code",
   "execution_count": null,
   "id": "15d3679d",
   "metadata": {
    "execution": {
     "iopub.execute_input": "2022-11-22T20:51:52.660397Z",
     "iopub.status.busy": "2022-11-22T20:51:52.660186Z",
     "iopub.status.idle": "2022-11-22T20:51:52.669107Z",
     "shell.execute_reply": "2022-11-22T20:51:52.668360Z",
     "shell.execute_reply.started": "2022-11-22T20:51:52.660376Z"
    },
    "papermill": {
     "duration": null,
     "end_time": null,
     "exception": null,
     "start_time": null,
     "status": "pending"
    },
    "tags": []
   },
   "outputs": [],
   "source": [
    "catb_params = {\n",
    "    'iterations': [200,500],\n",
    "    'learning_rate': [0.01,0.05, 0.1],\n",
    "    'depth': [3,5,8] }"
   ]
  },
  {
   "cell_type": "code",
   "execution_count": null,
   "id": "3cb7ea51",
   "metadata": {
    "execution": {
     "iopub.execute_input": "2022-11-22T20:51:52.671730Z",
     "iopub.status.busy": "2022-11-22T20:51:52.671496Z",
     "iopub.status.idle": "2022-11-22T20:51:52.678619Z",
     "shell.execute_reply": "2022-11-22T20:51:52.677919Z",
     "shell.execute_reply.started": "2022-11-22T20:51:52.671708Z"
    },
    "papermill": {
     "duration": null,
     "end_time": null,
     "exception": null,
     "start_time": null,
     "status": "pending"
    },
    "tags": []
   },
   "outputs": [],
   "source": [
    "catb = CatBoostClassifier()\n",
    "catb_cv_model = GridSearchCV(catb, catb_params, cv=5, n_jobs = -1, verbose = 2)\n",
    "# catb_cv_model.fit(X_train, y_train)\n",
    "# catb_cv_model.best_params_"
   ]
  },
  {
   "cell_type": "code",
   "execution_count": null,
   "id": "2c23f7ea",
   "metadata": {
    "execution": {
     "iopub.execute_input": "2022-11-22T20:51:52.680251Z",
     "iopub.status.busy": "2022-11-22T20:51:52.679583Z",
     "iopub.status.idle": "2022-11-22T20:51:52.687976Z",
     "shell.execute_reply": "2022-11-22T20:51:52.687241Z",
     "shell.execute_reply.started": "2022-11-22T20:51:52.680220Z"
    },
    "papermill": {
     "duration": null,
     "end_time": null,
     "exception": null,
     "start_time": null,
     "status": "pending"
    },
    "tags": []
   },
   "outputs": [],
   "source": [
    "# catb_cv_model.best_params_"
   ]
  },
  {
   "cell_type": "code",
   "execution_count": null,
   "id": "1ac34a5a",
   "metadata": {
    "execution": {
     "iopub.execute_input": "2022-11-22T20:51:52.689857Z",
     "iopub.status.busy": "2022-11-22T20:51:52.689025Z",
     "iopub.status.idle": "2022-11-22T20:51:52.848222Z",
     "shell.execute_reply": "2022-11-22T20:51:52.847292Z",
     "shell.execute_reply.started": "2022-11-22T20:51:52.689826Z"
    },
    "papermill": {
     "duration": null,
     "end_time": null,
     "exception": null,
     "start_time": null,
     "status": "pending"
    },
    "tags": []
   },
   "outputs": [],
   "source": [
    "catb = CatBoostClassifier(iterations = 200, \n",
    "                          learning_rate = 0.05, \n",
    "                          depth = 5)\n",
    "\n",
    "catb_tuned = catb.fit(X_train, y_train)\n",
    "y_pred = catb_tuned.predict(X_test)"
   ]
  },
  {
   "cell_type": "code",
   "execution_count": null,
   "id": "7d1ab49b",
   "metadata": {
    "execution": {
     "iopub.execute_input": "2022-11-22T20:51:52.851277Z",
     "iopub.status.busy": "2022-11-22T20:51:52.850433Z",
     "iopub.status.idle": "2022-11-22T20:51:52.858749Z",
     "shell.execute_reply": "2022-11-22T20:51:52.857898Z",
     "shell.execute_reply.started": "2022-11-22T20:51:52.851245Z"
    },
    "papermill": {
     "duration": null,
     "end_time": null,
     "exception": null,
     "start_time": null,
     "status": "pending"
    },
    "tags": []
   },
   "outputs": [],
   "source": [
    "y_pred = catb_tuned.predict(X_test)\n",
    "accuracy_score(y_test, y_pred)"
   ]
  },
  {
   "cell_type": "markdown",
   "id": "dd2ba9f2",
   "metadata": {
    "papermill": {
     "duration": null,
     "end_time": null,
     "exception": null,
     "start_time": null,
     "status": "pending"
    },
    "tags": []
   },
   "source": [
    "# Tüm Modellerin Karşılaştırılması"
   ]
  },
  {
   "cell_type": "code",
   "execution_count": null,
   "id": "0467492e",
   "metadata": {
    "execution": {
     "iopub.execute_input": "2022-11-22T20:51:52.860041Z",
     "iopub.status.busy": "2022-11-22T20:51:52.859814Z",
     "iopub.status.idle": "2022-11-22T20:51:53.059699Z",
     "shell.execute_reply": "2022-11-22T20:51:53.058967Z",
     "shell.execute_reply.started": "2022-11-22T20:51:52.860020Z"
    },
    "papermill": {
     "duration": null,
     "end_time": null,
     "exception": null,
     "start_time": null,
     "status": "pending"
    },
    "tags": []
   },
   "outputs": [],
   "source": [
    "modeller = [\n",
    "    knn_tuned,\n",
    "    loj_model,\n",
    "    svc_tuned,\n",
    "    nb_model,\n",
    "    mlpc_tuned,\n",
    "    cart_tuned,\n",
    "    rf_tuned,\n",
    "    gbm_tuned,\n",
    "    catb_tuned,\n",
    "    lgbm_tuned,\n",
    "    xgb_tuned\n",
    "    \n",
    "]\n",
    "\n",
    "\n",
    "for model in modeller:\n",
    "    isimler = model.__class__.__name__\n",
    "    y_pred = model.predict(X_test)\n",
    "    dogruluk = accuracy_score(y_test, y_pred)\n",
    "    print(\"-\"*28)\n",
    "    print(isimler + \":\" )\n",
    "    print(\"Accuracy: {:.4%}\".format(dogruluk))"
   ]
  },
  {
   "cell_type": "code",
   "execution_count": null,
   "id": "0f3d2d8f",
   "metadata": {
    "execution": {
     "iopub.execute_input": "2022-11-22T20:51:53.063933Z",
     "iopub.status.busy": "2022-11-22T20:51:53.062644Z",
     "iopub.status.idle": "2022-11-22T20:51:53.415361Z",
     "shell.execute_reply": "2022-11-22T20:51:53.414498Z",
     "shell.execute_reply.started": "2022-11-22T20:51:53.063901Z"
    },
    "papermill": {
     "duration": null,
     "end_time": null,
     "exception": null,
     "start_time": null,
     "status": "pending"
    },
    "tags": []
   },
   "outputs": [],
   "source": [
    "sonuc = []\n",
    "\n",
    "sonuclar = pd.DataFrame(columns= [\"Modeller\",\"Accuracy\"])\n",
    "\n",
    "for model in modeller:\n",
    "    isimler = model.__class__.__name__\n",
    "    y_pred = model.predict(X_test)\n",
    "    dogruluk = accuracy_score(y_test, y_pred)    \n",
    "    sonuc = pd.DataFrame([[isimler, dogruluk*100]], columns= [\"Modeller\",\"Accuracy\"])\n",
    "    sonuclar = sonuclar.append(sonuc)\n",
    "    \n",
    "    \n",
    "sns.barplot(x= 'Accuracy', y = 'Modeller', data=sonuclar, color=\"r\")\n",
    "plt.xlabel('Accuracy %')\n",
    "plt.title('Modellerin Doğruluk Oranları');    "
   ]
  },
  {
   "cell_type": "code",
   "execution_count": null,
   "id": "030f2832",
   "metadata": {
    "papermill": {
     "duration": null,
     "end_time": null,
     "exception": null,
     "start_time": null,
     "status": "pending"
    },
    "tags": []
   },
   "outputs": [],
   "source": []
  }
 ],
 "metadata": {
  "kernelspec": {
   "display_name": "Python 3",
   "language": "python",
   "name": "python3"
  },
  "language_info": {
   "codemirror_mode": {
    "name": "ipython",
    "version": 3
   },
   "file_extension": ".py",
   "mimetype": "text/x-python",
   "name": "python",
   "nbconvert_exporter": "python",
   "pygments_lexer": "ipython3",
   "version": "3.7.12"
  },
  "papermill": {
   "default_parameters": {},
   "duration": 45.577779,
   "end_time": "2022-11-22T20:53:25.602036",
   "environment_variables": {},
   "exception": true,
   "input_path": "__notebook__.ipynb",
   "output_path": "__notebook__.ipynb",
   "parameters": {},
   "start_time": "2022-11-22T20:52:40.024257",
   "version": "2.3.4"
  }
 },
 "nbformat": 4,
 "nbformat_minor": 5
}
