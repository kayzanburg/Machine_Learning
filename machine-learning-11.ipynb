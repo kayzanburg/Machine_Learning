{
 "cells": [
  {
   "cell_type": "markdown",
   "id": "11211cf5",
   "metadata": {
    "papermill": {
     "duration": 0.097362,
     "end_time": "2022-05-19T21:57:35.390364",
     "exception": false,
     "start_time": "2022-05-19T21:57:35.293002",
     "status": "completed"
    },
    "tags": []
   },
   "source": [
    "# Basit Doğrusal Regresyon"
   ]
  },
  {
   "cell_type": "markdown",
   "id": "6f745b59",
   "metadata": {
    "papermill": {
     "duration": 0.078628,
     "end_time": "2022-05-19T21:57:35.547747",
     "exception": false,
     "start_time": "2022-05-19T21:57:35.469119",
     "status": "completed"
    },
    "tags": []
   },
   "source": [
    "## Modelleme "
   ]
  },
  {
   "cell_type": "code",
   "execution_count": 1,
   "id": "1631f263",
   "metadata": {
    "execution": {
     "iopub.execute_input": "2022-05-19T21:57:35.709431Z",
     "iopub.status.busy": "2022-05-19T21:57:35.708963Z",
     "iopub.status.idle": "2022-05-19T21:57:35.712920Z",
     "shell.execute_reply": "2022-05-19T21:57:35.712270Z"
    },
    "papermill": {
     "duration": 0.085717,
     "end_time": "2022-05-19T21:57:35.714590",
     "exception": false,
     "start_time": "2022-05-19T21:57:35.628873",
     "status": "completed"
    },
    "tags": []
   },
   "outputs": [],
   "source": [
    "# Veri Setinin Hikayesi; Reklam Harcamalarini Ifade Eden Bir Veri Setidir, TV, Radio, ... fln Reklamlar Veriliyor Ve Bu Reklamlar Neticesinde Satislar Elde Ediliyor,\n",
    "# Bu Reklam Harcamalarinin Satis Giderlerinin Ortaya Cikardigi Yapiyla Ilgili Bir Veri Setidir."
   ]
  },
  {
   "cell_type": "code",
   "execution_count": 2,
   "id": "a3bacdc7",
   "metadata": {
    "_cell_guid": "b1076dfc-b9ad-4769-8c92-a6c4dae69d19",
    "_uuid": "8f2839f25d086af736a60e9eeb907d3b93b6e0e5",
    "execution": {
     "iopub.execute_input": "2022-05-19T21:57:35.874537Z",
     "iopub.status.busy": "2022-05-19T21:57:35.874119Z",
     "iopub.status.idle": "2022-05-19T21:57:35.907743Z",
     "shell.execute_reply": "2022-05-19T21:57:35.907133Z"
    },
    "papermill": {
     "duration": 0.116093,
     "end_time": "2022-05-19T21:57:35.910171",
     "exception": false,
     "start_time": "2022-05-19T21:57:35.794078",
     "status": "completed"
    },
    "tags": []
   },
   "outputs": [
    {
     "data": {
      "text/html": [
       "<div>\n",
       "<style scoped>\n",
       "    .dataframe tbody tr th:only-of-type {\n",
       "        vertical-align: middle;\n",
       "    }\n",
       "\n",
       "    .dataframe tbody tr th {\n",
       "        vertical-align: top;\n",
       "    }\n",
       "\n",
       "    .dataframe thead th {\n",
       "        text-align: right;\n",
       "    }\n",
       "</style>\n",
       "<table border=\"1\" class=\"dataframe\">\n",
       "  <thead>\n",
       "    <tr style=\"text-align: right;\">\n",
       "      <th></th>\n",
       "      <th>TV</th>\n",
       "      <th>Radio</th>\n",
       "      <th>Newspaper</th>\n",
       "      <th>Sales</th>\n",
       "    </tr>\n",
       "  </thead>\n",
       "  <tbody>\n",
       "    <tr>\n",
       "      <th>0</th>\n",
       "      <td>230.1</td>\n",
       "      <td>37.8</td>\n",
       "      <td>69.2</td>\n",
       "      <td>22.1</td>\n",
       "    </tr>\n",
       "    <tr>\n",
       "      <th>1</th>\n",
       "      <td>44.5</td>\n",
       "      <td>39.3</td>\n",
       "      <td>45.1</td>\n",
       "      <td>10.4</td>\n",
       "    </tr>\n",
       "    <tr>\n",
       "      <th>2</th>\n",
       "      <td>17.2</td>\n",
       "      <td>45.9</td>\n",
       "      <td>69.3</td>\n",
       "      <td>9.3</td>\n",
       "    </tr>\n",
       "    <tr>\n",
       "      <th>3</th>\n",
       "      <td>151.5</td>\n",
       "      <td>41.3</td>\n",
       "      <td>58.5</td>\n",
       "      <td>18.5</td>\n",
       "    </tr>\n",
       "    <tr>\n",
       "      <th>4</th>\n",
       "      <td>180.8</td>\n",
       "      <td>10.8</td>\n",
       "      <td>58.4</td>\n",
       "      <td>12.9</td>\n",
       "    </tr>\n",
       "  </tbody>\n",
       "</table>\n",
       "</div>"
      ],
      "text/plain": [
       "      TV  Radio  Newspaper  Sales\n",
       "0  230.1   37.8       69.2   22.1\n",
       "1   44.5   39.3       45.1   10.4\n",
       "2   17.2   45.9       69.3    9.3\n",
       "3  151.5   41.3       58.5   18.5\n",
       "4  180.8   10.8       58.4   12.9"
      ]
     },
     "execution_count": 2,
     "metadata": {},
     "output_type": "execute_result"
    }
   ],
   "source": [
    "import pandas as pd\n",
    "ad = pd.read_csv(\"../input/advertisingcsv/Advertising.csv\", usecols = [1,2,3,4])\n",
    "# Indexi Degisken Olarak Almis ----->> usecols = [1,2,3,4] ----->> Bu Ifadeyi Bu Yuzden Kullaniyoruz ----->> ( Sik Karsilasilan Bir Problem )\n",
    "# Ustteki Hatayi Cozmenin Baska Yontemleri De Var ( Assagidaki Code'ye Bak )\n",
    "df = ad.copy()\n",
    "df.head()"
   ]
  },
  {
   "cell_type": "code",
   "execution_count": 3,
   "id": "cb4322ba",
   "metadata": {
    "execution": {
     "iopub.execute_input": "2022-05-19T21:57:36.073356Z",
     "iopub.status.busy": "2022-05-19T21:57:36.072947Z",
     "iopub.status.idle": "2022-05-19T21:57:36.075898Z",
     "shell.execute_reply": "2022-05-19T21:57:36.075356Z"
    },
    "papermill": {
     "duration": 0.085924,
     "end_time": "2022-05-19T21:57:36.077594",
     "exception": false,
     "start_time": "2022-05-19T21:57:35.991670",
     "status": "completed"
    },
    "tags": []
   },
   "outputs": [],
   "source": [
    "#df = df.iloc[:,1:len(df)] ------->> Hatayi Bu Sekilde De Cozebiliriz"
   ]
  },
  {
   "cell_type": "code",
   "execution_count": 4,
   "id": "ca53c5fe",
   "metadata": {
    "execution": {
     "iopub.execute_input": "2022-05-19T21:57:36.242752Z",
     "iopub.status.busy": "2022-05-19T21:57:36.242356Z",
     "iopub.status.idle": "2022-05-19T21:57:36.263935Z",
     "shell.execute_reply": "2022-05-19T21:57:36.263257Z"
    },
    "papermill": {
     "duration": 0.105254,
     "end_time": "2022-05-19T21:57:36.266309",
     "exception": false,
     "start_time": "2022-05-19T21:57:36.161055",
     "status": "completed"
    },
    "tags": []
   },
   "outputs": [
    {
     "name": "stdout",
     "output_type": "stream",
     "text": [
      "<class 'pandas.core.frame.DataFrame'>\n",
      "RangeIndex: 200 entries, 0 to 199\n",
      "Data columns (total 4 columns):\n",
      " #   Column     Non-Null Count  Dtype  \n",
      "---  ------     --------------  -----  \n",
      " 0   TV         200 non-null    float64\n",
      " 1   Radio      200 non-null    float64\n",
      " 2   Newspaper  200 non-null    float64\n",
      " 3   Sales      200 non-null    float64\n",
      "dtypes: float64(4)\n",
      "memory usage: 6.4 KB\n"
     ]
    }
   ],
   "source": [
    "df.info()"
   ]
  },
  {
   "cell_type": "code",
   "execution_count": 5,
   "id": "fe8a8bb0",
   "metadata": {
    "execution": {
     "iopub.execute_input": "2022-05-19T21:57:36.431110Z",
     "iopub.status.busy": "2022-05-19T21:57:36.430802Z",
     "iopub.status.idle": "2022-05-19T21:57:36.457920Z",
     "shell.execute_reply": "2022-05-19T21:57:36.457289Z"
    },
    "papermill": {
     "duration": 0.110753,
     "end_time": "2022-05-19T21:57:36.459861",
     "exception": false,
     "start_time": "2022-05-19T21:57:36.349108",
     "status": "completed"
    },
    "tags": []
   },
   "outputs": [
    {
     "data": {
      "text/html": [
       "<div>\n",
       "<style scoped>\n",
       "    .dataframe tbody tr th:only-of-type {\n",
       "        vertical-align: middle;\n",
       "    }\n",
       "\n",
       "    .dataframe tbody tr th {\n",
       "        vertical-align: top;\n",
       "    }\n",
       "\n",
       "    .dataframe thead th {\n",
       "        text-align: right;\n",
       "    }\n",
       "</style>\n",
       "<table border=\"1\" class=\"dataframe\">\n",
       "  <thead>\n",
       "    <tr style=\"text-align: right;\">\n",
       "      <th></th>\n",
       "      <th>count</th>\n",
       "      <th>mean</th>\n",
       "      <th>std</th>\n",
       "      <th>min</th>\n",
       "      <th>25%</th>\n",
       "      <th>50%</th>\n",
       "      <th>75%</th>\n",
       "      <th>max</th>\n",
       "    </tr>\n",
       "  </thead>\n",
       "  <tbody>\n",
       "    <tr>\n",
       "      <th>TV</th>\n",
       "      <td>200.0</td>\n",
       "      <td>147.0425</td>\n",
       "      <td>85.854236</td>\n",
       "      <td>0.7</td>\n",
       "      <td>74.375</td>\n",
       "      <td>149.75</td>\n",
       "      <td>218.825</td>\n",
       "      <td>296.4</td>\n",
       "    </tr>\n",
       "    <tr>\n",
       "      <th>Radio</th>\n",
       "      <td>200.0</td>\n",
       "      <td>23.2640</td>\n",
       "      <td>14.846809</td>\n",
       "      <td>0.0</td>\n",
       "      <td>9.975</td>\n",
       "      <td>22.90</td>\n",
       "      <td>36.525</td>\n",
       "      <td>49.6</td>\n",
       "    </tr>\n",
       "    <tr>\n",
       "      <th>Newspaper</th>\n",
       "      <td>200.0</td>\n",
       "      <td>30.5540</td>\n",
       "      <td>21.778621</td>\n",
       "      <td>0.3</td>\n",
       "      <td>12.750</td>\n",
       "      <td>25.75</td>\n",
       "      <td>45.100</td>\n",
       "      <td>114.0</td>\n",
       "    </tr>\n",
       "    <tr>\n",
       "      <th>Sales</th>\n",
       "      <td>200.0</td>\n",
       "      <td>14.0225</td>\n",
       "      <td>5.217457</td>\n",
       "      <td>1.6</td>\n",
       "      <td>10.375</td>\n",
       "      <td>12.90</td>\n",
       "      <td>17.400</td>\n",
       "      <td>27.0</td>\n",
       "    </tr>\n",
       "  </tbody>\n",
       "</table>\n",
       "</div>"
      ],
      "text/plain": [
       "           count      mean        std  min     25%     50%      75%    max\n",
       "TV         200.0  147.0425  85.854236  0.7  74.375  149.75  218.825  296.4\n",
       "Radio      200.0   23.2640  14.846809  0.0   9.975   22.90   36.525   49.6\n",
       "Newspaper  200.0   30.5540  21.778621  0.3  12.750   25.75   45.100  114.0\n",
       "Sales      200.0   14.0225   5.217457  1.6  10.375   12.90   17.400   27.0"
      ]
     },
     "execution_count": 5,
     "metadata": {},
     "output_type": "execute_result"
    }
   ],
   "source": [
    "df.describe().T # Betimsel Istatistikler"
   ]
  },
  {
   "cell_type": "code",
   "execution_count": 6,
   "id": "f3a98d5a",
   "metadata": {
    "execution": {
     "iopub.execute_input": "2022-05-19T21:57:36.625188Z",
     "iopub.status.busy": "2022-05-19T21:57:36.624599Z",
     "iopub.status.idle": "2022-05-19T21:57:36.630614Z",
     "shell.execute_reply": "2022-05-19T21:57:36.629984Z"
    },
    "papermill": {
     "duration": 0.090238,
     "end_time": "2022-05-19T21:57:36.632197",
     "exception": false,
     "start_time": "2022-05-19T21:57:36.541959",
     "status": "completed"
    },
    "tags": []
   },
   "outputs": [
    {
     "data": {
      "text/plain": [
       "False"
      ]
     },
     "execution_count": 6,
     "metadata": {},
     "output_type": "execute_result"
    }
   ],
   "source": [
    "df.isnull().values.any() # Veri Setinin Icerisinde Eksik Gozlem Varmi Diye Sorduk ----->> Yok"
   ]
  },
  {
   "cell_type": "code",
   "execution_count": 7,
   "id": "8946d431",
   "metadata": {
    "execution": {
     "iopub.execute_input": "2022-05-19T21:57:36.796346Z",
     "iopub.status.busy": "2022-05-19T21:57:36.795597Z",
     "iopub.status.idle": "2022-05-19T21:57:36.807847Z",
     "shell.execute_reply": "2022-05-19T21:57:36.807136Z"
    },
    "papermill": {
     "duration": 0.096379,
     "end_time": "2022-05-19T21:57:36.809787",
     "exception": false,
     "start_time": "2022-05-19T21:57:36.713408",
     "status": "completed"
    },
    "tags": []
   },
   "outputs": [
    {
     "data": {
      "text/html": [
       "<div>\n",
       "<style scoped>\n",
       "    .dataframe tbody tr th:only-of-type {\n",
       "        vertical-align: middle;\n",
       "    }\n",
       "\n",
       "    .dataframe tbody tr th {\n",
       "        vertical-align: top;\n",
       "    }\n",
       "\n",
       "    .dataframe thead th {\n",
       "        text-align: right;\n",
       "    }\n",
       "</style>\n",
       "<table border=\"1\" class=\"dataframe\">\n",
       "  <thead>\n",
       "    <tr style=\"text-align: right;\">\n",
       "      <th></th>\n",
       "      <th>TV</th>\n",
       "      <th>Radio</th>\n",
       "      <th>Newspaper</th>\n",
       "      <th>Sales</th>\n",
       "    </tr>\n",
       "  </thead>\n",
       "  <tbody>\n",
       "    <tr>\n",
       "      <th>TV</th>\n",
       "      <td>1.000000</td>\n",
       "      <td>0.054809</td>\n",
       "      <td>0.056648</td>\n",
       "      <td>0.782224</td>\n",
       "    </tr>\n",
       "    <tr>\n",
       "      <th>Radio</th>\n",
       "      <td>0.054809</td>\n",
       "      <td>1.000000</td>\n",
       "      <td>0.354104</td>\n",
       "      <td>0.576223</td>\n",
       "    </tr>\n",
       "    <tr>\n",
       "      <th>Newspaper</th>\n",
       "      <td>0.056648</td>\n",
       "      <td>0.354104</td>\n",
       "      <td>1.000000</td>\n",
       "      <td>0.228299</td>\n",
       "    </tr>\n",
       "    <tr>\n",
       "      <th>Sales</th>\n",
       "      <td>0.782224</td>\n",
       "      <td>0.576223</td>\n",
       "      <td>0.228299</td>\n",
       "      <td>1.000000</td>\n",
       "    </tr>\n",
       "  </tbody>\n",
       "</table>\n",
       "</div>"
      ],
      "text/plain": [
       "                 TV     Radio  Newspaper     Sales\n",
       "TV         1.000000  0.054809   0.056648  0.782224\n",
       "Radio      0.054809  1.000000   0.354104  0.576223\n",
       "Newspaper  0.056648  0.354104   1.000000  0.228299\n",
       "Sales      0.782224  0.576223   0.228299  1.000000"
      ]
     },
     "execution_count": 7,
     "metadata": {},
     "output_type": "execute_result"
    }
   ],
   "source": [
    "# Degiskenlerin Dagilimlarini Ve Korelasyonlarini Bir Code Ile Inceleyelim\n",
    "# TV Ile Satis ( Sales ) Arasinda Guzel ( Yuksek ) Bir Korelasyon Var ---->> Buradan Cikarilacak Yorum; TV Harcamalari Arttikca Satislarinda Artacagini Soyluyoruz\n",
    "# En Anlamli Ve Etki Duzeyi Yuksek Olan Degisken TV Olarak Gozukmektedir\n",
    "# Bide Bunu Grafikte Gozlemleyelim\n",
    "df.corr()"
   ]
  },
  {
   "cell_type": "code",
   "execution_count": 8,
   "id": "cea7b9d0",
   "metadata": {
    "execution": {
     "iopub.execute_input": "2022-05-19T21:57:36.974101Z",
     "iopub.status.busy": "2022-05-19T21:57:36.973559Z",
     "iopub.status.idle": "2022-05-19T21:57:41.815682Z",
     "shell.execute_reply": "2022-05-19T21:57:41.814764Z"
    },
    "papermill": {
     "duration": 4.928333,
     "end_time": "2022-05-19T21:57:41.819532",
     "exception": false,
     "start_time": "2022-05-19T21:57:36.891199",
     "status": "completed"
    },
    "tags": []
   },
   "outputs": [
    {
     "data": {
      "image/png": "[encoded data removed]",
      "text/plain": [
       "<Figure size 720x720 with 20 Axes>"
      ]
     },
     "metadata": {
      "needs_background": "light"
     },
     "output_type": "display_data"
    }
   ],
   "source": [
    "import seaborn as sns\n",
    "\n",
    "sns.pairplot(df, kind  =\"reg\");\n",
    "\n",
    "# TV Ile Sales Degiskeni Arasinda Guzel Bir Korelasyon Var Fakat Radio Ile TV Arasinda Guzel Bir Korelasyon Yok Yani Sales Degiskenini Anlarken TV'yi ------->>\n",
    "# Kullanabilecegimiz Gibi Radio'yuda Kullanabiliriz ---->> ( Bu Cikarimlari Yapabilmek Icin Bu Grafikleri Kullaniyoruz )"
   ]
  },
  {
   "cell_type": "code",
   "execution_count": 9,
   "id": "2212814f",
   "metadata": {
    "execution": {
     "iopub.execute_input": "2022-05-19T21:57:41.999181Z",
     "iopub.status.busy": "2022-05-19T21:57:41.998845Z",
     "iopub.status.idle": "2022-05-19T21:57:42.588909Z",
     "shell.execute_reply": "2022-05-19T21:57:42.588285Z"
    },
    "papermill": {
     "duration": 0.683441,
     "end_time": "2022-05-19T21:57:42.590991",
     "exception": false,
     "start_time": "2022-05-19T21:57:41.907550",
     "status": "completed"
    },
    "tags": []
   },
   "outputs": [
    {
     "data": {
      "image/png": "[encoded data removed]",
      "text/plain": [
       "<Figure size 432x432 with 3 Axes>"
      ]
     },
     "metadata": {
      "needs_background": "light"
     },
     "output_type": "display_data"
    }
   ],
   "source": [
    "sns.jointplot(x = \"TV\", y = \"Sales\", data = df, kind = \"reg\");\n",
    "# Yorum; Grafikte En Ustte Bulunan Yerde Ki Grafik TV'nin Iki Tepeli Bir Yapida Oldugunu Gosteriyor, En Sagda Gorulen Tek Tepeli Olan Grafik Satislarin Grafigidir -->>\n",
    "# Ve Normal Dagilmistir\n",
    "\n",
    "# Bu Ifadeleri Gorup Yorumlama Amacimiz Degiskenlerin Birbirleri Ile Olan Iliskilerini, Normal Dagilim Olup Olmadigini Gorup Makine Ogrenimine Sokma Islemi ------>>\n",
    "# Yaparken ( Degiskenleri Secme Veya Disarida Birakma Islemi ) Yol Gosterici Bir Dusunce Kazandiricak"
   ]
  },
  {
   "cell_type": "markdown",
   "id": "b669fa3a",
   "metadata": {
    "papermill": {
     "duration": 0.110585,
     "end_time": "2022-05-19T21:57:42.796187",
     "exception": false,
     "start_time": "2022-05-19T21:57:42.685602",
     "status": "completed"
    },
    "tags": []
   },
   "source": [
    "## Statsmodels ile modelleme"
   ]
  },
  {
   "cell_type": "markdown",
   "id": "468a5dc2",
   "metadata": {
    "papermill": {
     "duration": 0.089894,
     "end_time": "2022-05-19T21:57:42.985475",
     "exception": false,
     "start_time": "2022-05-19T21:57:42.895581",
     "status": "completed"
    },
    "tags": []
   },
   "source": [
    "#### Ilk Modelleme :)"
   ]
  },
  {
   "cell_type": "code",
   "execution_count": 10,
   "id": "c848a495",
   "metadata": {
    "execution": {
     "iopub.execute_input": "2022-05-19T21:57:43.187209Z",
     "iopub.status.busy": "2022-05-19T21:57:43.186946Z",
     "iopub.status.idle": "2022-05-19T21:57:44.058157Z",
     "shell.execute_reply": "2022-05-19T21:57:44.057177Z"
    },
    "papermill": {
     "duration": 0.966393,
     "end_time": "2022-05-19T21:57:44.060732",
     "exception": false,
     "start_time": "2022-05-19T21:57:43.094339",
     "status": "completed"
    },
    "tags": []
   },
   "outputs": [],
   "source": [
    "import statsmodels.api as sm"
   ]
  },
  {
   "cell_type": "code",
   "execution_count": 11,
   "id": "18149de2",
   "metadata": {
    "execution": {
     "iopub.execute_input": "2022-05-19T21:57:44.248100Z",
     "iopub.status.busy": "2022-05-19T21:57:44.247535Z",
     "iopub.status.idle": "2022-05-19T21:57:44.258351Z",
     "shell.execute_reply": "2022-05-19T21:57:44.257478Z"
    },
    "papermill": {
     "duration": 0.106603,
     "end_time": "2022-05-19T21:57:44.260655",
     "exception": false,
     "start_time": "2022-05-19T21:57:44.154052",
     "status": "completed"
    },
    "tags": []
   },
   "outputs": [
    {
     "data": {
      "text/html": [
       "<div>\n",
       "<style scoped>\n",
       "    .dataframe tbody tr th:only-of-type {\n",
       "        vertical-align: middle;\n",
       "    }\n",
       "\n",
       "    .dataframe tbody tr th {\n",
       "        vertical-align: top;\n",
       "    }\n",
       "\n",
       "    .dataframe thead th {\n",
       "        text-align: right;\n",
       "    }\n",
       "</style>\n",
       "<table border=\"1\" class=\"dataframe\">\n",
       "  <thead>\n",
       "    <tr style=\"text-align: right;\">\n",
       "      <th></th>\n",
       "      <th>TV</th>\n",
       "    </tr>\n",
       "  </thead>\n",
       "  <tbody>\n",
       "    <tr>\n",
       "      <th>0</th>\n",
       "      <td>230.1</td>\n",
       "    </tr>\n",
       "    <tr>\n",
       "      <th>1</th>\n",
       "      <td>44.5</td>\n",
       "    </tr>\n",
       "    <tr>\n",
       "      <th>2</th>\n",
       "      <td>17.2</td>\n",
       "    </tr>\n",
       "    <tr>\n",
       "      <th>3</th>\n",
       "      <td>151.5</td>\n",
       "    </tr>\n",
       "    <tr>\n",
       "      <th>4</th>\n",
       "      <td>180.8</td>\n",
       "    </tr>\n",
       "  </tbody>\n",
       "</table>\n",
       "</div>"
      ],
      "text/plain": [
       "      TV\n",
       "0  230.1\n",
       "1   44.5\n",
       "2   17.2\n",
       "3  151.5\n",
       "4  180.8"
      ]
     },
     "execution_count": 11,
     "metadata": {},
     "output_type": "execute_result"
    }
   ],
   "source": [
    "X = df[[\"TV\"]] # Degiskenimizi Seciyoruz ----->> Elimizde Tek Degiskenden Olusan Bir Matris Var \n",
    "\n",
    "X[0:5]"
   ]
  },
  {
   "cell_type": "code",
   "execution_count": 12,
   "id": "9607fd9c",
   "metadata": {
    "execution": {
     "iopub.execute_input": "2022-05-19T21:57:44.445648Z",
     "iopub.status.busy": "2022-05-19T21:57:44.445100Z",
     "iopub.status.idle": "2022-05-19T21:57:44.451020Z",
     "shell.execute_reply": "2022-05-19T21:57:44.450355Z"
    },
    "papermill": {
     "duration": 0.100486,
     "end_time": "2022-05-19T21:57:44.453084",
     "exception": false,
     "start_time": "2022-05-19T21:57:44.352598",
     "status": "completed"
    },
    "tags": []
   },
   "outputs": [],
   "source": [
    "# Bu X Matrisine Ve Tek Degisken Olmasindan Dolayi Ve Matris Islemlerinin Yapilabilmesi Icin Degisken Olarak Bir ( 1 ) Ifadesini Eklicez\n",
    "\n",
    "X = sm.add_constant(X)"
   ]
  },
  {
   "cell_type": "code",
   "execution_count": 13,
   "id": "b54ad59e",
   "metadata": {
    "execution": {
     "iopub.execute_input": "2022-05-19T21:57:44.630763Z",
     "iopub.status.busy": "2022-05-19T21:57:44.630231Z",
     "iopub.status.idle": "2022-05-19T21:57:44.640335Z",
     "shell.execute_reply": "2022-05-19T21:57:44.639362Z"
    },
    "papermill": {
     "duration": 0.101232,
     "end_time": "2022-05-19T21:57:44.642200",
     "exception": false,
     "start_time": "2022-05-19T21:57:44.540968",
     "status": "completed"
    },
    "tags": []
   },
   "outputs": [
    {
     "data": {
      "text/html": [
       "<div>\n",
       "<style scoped>\n",
       "    .dataframe tbody tr th:only-of-type {\n",
       "        vertical-align: middle;\n",
       "    }\n",
       "\n",
       "    .dataframe tbody tr th {\n",
       "        vertical-align: top;\n",
       "    }\n",
       "\n",
       "    .dataframe thead th {\n",
       "        text-align: right;\n",
       "    }\n",
       "</style>\n",
       "<table border=\"1\" class=\"dataframe\">\n",
       "  <thead>\n",
       "    <tr style=\"text-align: right;\">\n",
       "      <th></th>\n",
       "      <th>const</th>\n",
       "      <th>TV</th>\n",
       "    </tr>\n",
       "  </thead>\n",
       "  <tbody>\n",
       "    <tr>\n",
       "      <th>0</th>\n",
       "      <td>1.0</td>\n",
       "      <td>230.1</td>\n",
       "    </tr>\n",
       "    <tr>\n",
       "      <th>1</th>\n",
       "      <td>1.0</td>\n",
       "      <td>44.5</td>\n",
       "    </tr>\n",
       "    <tr>\n",
       "      <th>2</th>\n",
       "      <td>1.0</td>\n",
       "      <td>17.2</td>\n",
       "    </tr>\n",
       "    <tr>\n",
       "      <th>3</th>\n",
       "      <td>1.0</td>\n",
       "      <td>151.5</td>\n",
       "    </tr>\n",
       "    <tr>\n",
       "      <th>4</th>\n",
       "      <td>1.0</td>\n",
       "      <td>180.8</td>\n",
       "    </tr>\n",
       "  </tbody>\n",
       "</table>\n",
       "</div>"
      ],
      "text/plain": [
       "   const     TV\n",
       "0    1.0  230.1\n",
       "1    1.0   44.5\n",
       "2    1.0   17.2\n",
       "3    1.0  151.5\n",
       "4    1.0  180.8"
      ]
     },
     "execution_count": 13,
     "metadata": {},
     "output_type": "execute_result"
    }
   ],
   "source": [
    "X[0:5] # Gorulecegi Uzere 1 Ifadesi Eklendi"
   ]
  },
  {
   "cell_type": "code",
   "execution_count": 14,
   "id": "3ef8fc4f",
   "metadata": {
    "execution": {
     "iopub.execute_input": "2022-05-19T21:57:44.822293Z",
     "iopub.status.busy": "2022-05-19T21:57:44.821523Z",
     "iopub.status.idle": "2022-05-19T21:57:44.825929Z",
     "shell.execute_reply": "2022-05-19T21:57:44.825362Z"
    },
    "papermill": {
     "duration": 0.096231,
     "end_time": "2022-05-19T21:57:44.827716",
     "exception": false,
     "start_time": "2022-05-19T21:57:44.731485",
     "status": "completed"
    },
    "tags": []
   },
   "outputs": [],
   "source": [
    "y = df[\"Sales\"] # Bagimli Degiskeni De Esitlemis Olduk"
   ]
  },
  {
   "cell_type": "code",
   "execution_count": 15,
   "id": "7c996fbd",
   "metadata": {
    "execution": {
     "iopub.execute_input": "2022-05-19T21:57:45.009473Z",
     "iopub.status.busy": "2022-05-19T21:57:45.008910Z",
     "iopub.status.idle": "2022-05-19T21:57:45.015941Z",
     "shell.execute_reply": "2022-05-19T21:57:45.015183Z"
    },
    "papermill": {
     "duration": 0.100704,
     "end_time": "2022-05-19T21:57:45.017813",
     "exception": false,
     "start_time": "2022-05-19T21:57:44.917109",
     "status": "completed"
    },
    "tags": []
   },
   "outputs": [
    {
     "data": {
      "text/plain": [
       "0    22.1\n",
       "1    10.4\n",
       "2     9.3\n",
       "3    18.5\n",
       "4    12.9\n",
       "Name: Sales, dtype: float64"
      ]
     },
     "execution_count": 15,
     "metadata": {},
     "output_type": "execute_result"
    }
   ],
   "source": [
    "y[0:5]"
   ]
  },
  {
   "cell_type": "code",
   "execution_count": 16,
   "id": "358a2c5a",
   "metadata": {
    "execution": {
     "iopub.execute_input": "2022-05-19T21:57:45.201681Z",
     "iopub.status.busy": "2022-05-19T21:57:45.201136Z",
     "iopub.status.idle": "2022-05-19T21:57:45.205699Z",
     "shell.execute_reply": "2022-05-19T21:57:45.205150Z"
    },
    "papermill": {
     "duration": 0.098976,
     "end_time": "2022-05-19T21:57:45.207694",
     "exception": false,
     "start_time": "2022-05-19T21:57:45.108718",
     "status": "completed"
    },
    "tags": []
   },
   "outputs": [],
   "source": [
    "# lm ---->> Linear Model\n",
    "\n",
    "lm = sm.OLS(y,X) # Model Kurma Islemi Burada Gerceklestirildi"
   ]
  },
  {
   "cell_type": "code",
   "execution_count": 17,
   "id": "1b37cc63",
   "metadata": {
    "execution": {
     "iopub.execute_input": "2022-05-19T21:57:45.395413Z",
     "iopub.status.busy": "2022-05-19T21:57:45.394791Z",
     "iopub.status.idle": "2022-05-19T21:57:45.401412Z",
     "shell.execute_reply": "2022-05-19T21:57:45.400304Z"
    },
    "papermill": {
     "duration": 0.103718,
     "end_time": "2022-05-19T21:57:45.403523",
     "exception": false,
     "start_time": "2022-05-19T21:57:45.299805",
     "status": "completed"
    },
    "tags": []
   },
   "outputs": [],
   "source": [
    "model = lm.fit()"
   ]
  },
  {
   "cell_type": "code",
   "execution_count": 18,
   "id": "52281ae2",
   "metadata": {
    "execution": {
     "iopub.execute_input": "2022-05-19T21:57:45.591059Z",
     "iopub.status.busy": "2022-05-19T21:57:45.590591Z",
     "iopub.status.idle": "2022-05-19T21:57:45.608951Z",
     "shell.execute_reply": "2022-05-19T21:57:45.608306Z"
    },
    "papermill": {
     "duration": 0.114848,
     "end_time": "2022-05-19T21:57:45.610921",
     "exception": false,
     "start_time": "2022-05-19T21:57:45.496073",
     "status": "completed"
    },
    "tags": []
   },
   "outputs": [
    {
     "data": {
      "text/html": [
       "<table class=\"simpletable\">\n",
       "<caption>OLS Regression Results</caption>\n",
       "<tr>\n",
       "  <th>Dep. Variable:</th>          <td>Sales</td>      <th>  R-squared:         </th> <td>   0.612</td>\n",
       "</tr>\n",
       "<tr>\n",
       "  <th>Model:</th>                   <td>OLS</td>       <th>  Adj. R-squared:    </th> <td>   0.610</td>\n",
       "</tr>\n",
       "<tr>\n",
       "  <th>Method:</th>             <td>Least Squares</td>  <th>  F-statistic:       </th> <td>   312.1</td>\n",
       "</tr>\n",
       "<tr>\n",
       "  <th>Date:</th>             <td>Thu, 19 May 2022</td> <th>  Prob (F-statistic):</th> <td>1.47e-42</td>\n",
       "</tr>\n",
       "<tr>\n",
       "  <th>Time:</th>                 <td>21:57:45</td>     <th>  Log-Likelihood:    </th> <td> -519.05</td>\n",
       "</tr>\n",
       "<tr>\n",
       "  <th>No. Observations:</th>      <td>   200</td>      <th>  AIC:               </th> <td>   1042.</td>\n",
       "</tr>\n",
       "<tr>\n",
       "  <th>Df Residuals:</th>          <td>   198</td>      <th>  BIC:               </th> <td>   1049.</td>\n",
       "</tr>\n",
       "<tr>\n",
       "  <th>Df Model:</th>              <td>     1</td>      <th>                     </th>     <td> </td>   \n",
       "</tr>\n",
       "<tr>\n",
       "  <th>Covariance Type:</th>      <td>nonrobust</td>    <th>                     </th>     <td> </td>   \n",
       "</tr>\n",
       "</table>\n",
       "<table class=\"simpletable\">\n",
       "<tr>\n",
       "    <td></td>       <th>coef</th>     <th>std err</th>      <th>t</th>      <th>P>|t|</th>  <th>[0.025</th>    <th>0.975]</th>  \n",
       "</tr>\n",
       "<tr>\n",
       "  <th>const</th> <td>    7.0326</td> <td>    0.458</td> <td>   15.360</td> <td> 0.000</td> <td>    6.130</td> <td>    7.935</td>\n",
       "</tr>\n",
       "<tr>\n",
       "  <th>TV</th>    <td>    0.0475</td> <td>    0.003</td> <td>   17.668</td> <td> 0.000</td> <td>    0.042</td> <td>    0.053</td>\n",
       "</tr>\n",
       "</table>\n",
       "<table class=\"simpletable\">\n",
       "<tr>\n",
       "  <th>Omnibus:</th>       <td> 0.531</td> <th>  Durbin-Watson:     </th> <td>   1.935</td>\n",
       "</tr>\n",
       "<tr>\n",
       "  <th>Prob(Omnibus):</th> <td> 0.767</td> <th>  Jarque-Bera (JB):  </th> <td>   0.669</td>\n",
       "</tr>\n",
       "<tr>\n",
       "  <th>Skew:</th>          <td>-0.089</td> <th>  Prob(JB):          </th> <td>   0.716</td>\n",
       "</tr>\n",
       "<tr>\n",
       "  <th>Kurtosis:</th>      <td> 2.779</td> <th>  Cond. No.          </th> <td>    338.</td>\n",
       "</tr>\n",
       "</table><br/><br/>Notes:<br/>[1] Standard Errors assume that the covariance matrix of the errors is correctly specified."
      ],
      "text/plain": [
       "<class 'statsmodels.iolib.summary.Summary'>\n",
       "\"\"\"\n",
       "                            OLS Regression Results                            \n",
       "==============================================================================\n",
       "Dep. Variable:                  Sales   R-squared:                       0.612\n",
       "Model:                            OLS   Adj. R-squared:                  0.610\n",
       "Method:                 Least Squares   F-statistic:                     312.1\n",
       "Date:                Thu, 19 May 2022   Prob (F-statistic):           1.47e-42\n",
       "Time:                        21:57:45   Log-Likelihood:                -519.05\n",
       "No. Observations:                 200   AIC:                             1042.\n",
       "Df Residuals:                     198   BIC:                             1049.\n",
       "Df Model:                           1                                         \n",
       "Covariance Type:            nonrobust                                         \n",
       "==============================================================================\n",
       "                 coef    std err          t      P>|t|      [0.025      0.975]\n",
       "------------------------------------------------------------------------------\n",
       "const          7.0326      0.458     15.360      0.000       6.130       7.935\n",
       "TV             0.0475      0.003     17.668      0.000       0.042       0.053\n",
       "==============================================================================\n",
       "Omnibus:                        0.531   Durbin-Watson:                   1.935\n",
       "Prob(Omnibus):                  0.767   Jarque-Bera (JB):                0.669\n",
       "Skew:                          -0.089   Prob(JB):                        0.716\n",
       "Kurtosis:                       2.779   Cond. No.                         338.\n",
       "==============================================================================\n",
       "\n",
       "Notes:\n",
       "[1] Standard Errors assume that the covariance matrix of the errors is correctly specified.\n",
       "\"\"\""
      ]
     },
     "execution_count": 18,
     "metadata": {},
     "output_type": "execute_result"
    }
   ],
   "source": [
    "model.summary() #   .summary()   Fonksiyonu IleModelin Ciktilarina Erisiyoruz\n",
    "\n",
    "\n",
    "# 3 Farkli Cikti Arasindan En Usttekini Yorumluyoruz ( 0. Indexte Yer Alan Yer Olarak Geciyor ) ( Tables'in 0. Indexindeki Yer )\n",
    "\n",
    "\n",
    "# Bu Grafikte EN ONEMLI Olan Yer ------>> R Kare Degeri ( R-squared ) Ifade Edilmis\n",
    "# R Kare Degeri; Bagimsiz Degiskenin Bagimli Degiskendeki Degiskenligi Aciklama Basarisidir ------>> Yani Burada Elimizdeki TV Degiskeni Satis Degiskeninde Yer Alan\n",
    "# Degiskenligin Yaklasik %60 Ini ( 0.612 ) Aciklayabilmektedir\n",
    "\n",
    "# Adj. R-squared; Duzeltilmis R Kare Degeri\n",
    "# Duzeltilmis R Kare Degeri Ile R Kare Degeri Arasinda Ne Fark Var Soyleki R Kare Degeri Formulasyon Itibari Ile Modele Ne Kadar Fazla Degisken Eklersek Ekleyelim\n",
    "# Sismeye Meillidir ( Artacaktir ) Dolayisi Ile Modelde Ilgili Ilgisiz, Anlamli Anlamsiz Degisken Olmasi Durumunda R Kare Artacaktir\n",
    "\n",
    "\n",
    "# R Kare; Aciklanabilirlik Oranidir\n",
    "# Dolayisi Ile Modele Ilgili Ilgisiz Bir Cok Degisken Ekleyip R Kare'nin Arttigini Gordugumuzde Iyi Bir Yolda Oldugumuzu Dusunebiliriz Bu Cok \"Yaniltici\" Bir Durumdur\n",
    "# Iste Bu Duzeltilmis R Kare, R Karenin Her Paremetre Eklenmesine Karsi Olan Duyarliligini Torpuleyen Duzenleyen Duyarliligi Daha Az Olan Bir Metriktir\n",
    "# Dolayisi Ile Su An Burada Bu Problem Icin Cok Gecerli Olmasa da Cok Fazla Degisken Oldugunda \"Duzeltilmis R Kare\" Degeri Bizim Icin Daha Duzgun Bir Degerdir \n",
    "\n",
    "\n",
    "# Burada Bagimli Degisken ( Dep. Variable ) Ifade Edilmis ----->> Sales\n",
    "# Method En Kucuk Kareler ( Least Squares ) Olarak Ifade Edilmis\n",
    "\n",
    "\n",
    "# F-statistic; F Istatistigi degeri Modelin Anlamliliginin Anlasilmasi Icin Kurulan Test Istatistigidir ----->> Yani Biz Modeli Kurduk Model Bize Bazi Tahminler\n",
    "# Vericek Belli Bir Basarisi Olucak vb. Ama Anlamlimi? Gibi Bir Soruyuda Istatistiki Olarak Test Edip Modelin Anlamliligina Iliskin F Istatistigidir Bu\n",
    "\n",
    "\n",
    "# Prob (F-statistic); Modelin Anlamliligina Iliskin P Value Degeri ( Burada Bu Kutuphaneyi Yazan Prob Olarak Adlandirilmis )( Bazi Yerlerde significance Olarak Gecer )\n",
    "# Bu Deger Incelendiginde Ve F Istatistigi Incelendiginde Modelin Anlamli Oldugu Gozukmektedir\n",
    "\n",
    "\n",
    "# No. Observations; Gozlem Sayisi\n",
    "\n",
    "\n",
    "# Df Residuals; Serbestlik Derecesi\n",
    "\n",
    "\n",
    "# Genel Olarak Bizim Bu Ciktida Onemli Olarak Gordugumuz Simdilik Model Anlamli Olup Olmamasi Ve R Kare Degeri'dir\n",
    "\n",
    "\n",
    "\n",
    "# Orta Tarafta Bulunan Ciktiyi Yorumluyoruz ( coef Ve const Degerleri Bu Modeldeki En Onemli Kisimdir ) ( 1. Indexte Yer Alan Yer Olarak Geciyor )\n",
    "# ( Tables'in 2. Index'indeki Yer )\n",
    "\n",
    "\n",
    "# coef; Modelde Kullandigimiz Bagimsiz Degiskenimizin Katsayisi\n",
    "# const; Sabit Katsayi\n",
    "# std err; Standart Hata\n",
    "# Bunlarin Anlamli Olup Olmadigini Anlamak Icin t Istatistigi Ve t Istatistigine Iliskin P Value Degerleri Verilmis ( Ikisininde (const, TV) Anlamli Oldugu Goruluyor )\n",
    "# Yani Sabit Katsayi Ve TV Degiskenimiz Icin Katsayilar Anlamli\n",
    "# Bide Orta Bolumun Sag En Ust Bolumunde ---->> Bide Bu Katsayilarin Guven Araligi Verilmis ------>> Yorum ----->> Yani Bize Sunu Soyluyor ----->> Bizim Hesaplamis\n",
    "# Oldugumuz TV'ye Iliskin  0.0475 Seklinde Olan Katsayimiz Istatistiksel Olarak Anlamdilir ( 0.000 ) Ve Bu Katsayi Yine Istatistiksel Olarak %95 Guvenilirlik Ile\n",
    "# Bu Aralikta Yer Alacaktir Seklinde Bir Bilgi Sunmus\n",
    "\n",
    "\n",
    "\n",
    "# ( const Ve coef In Kesisimini Yorumluyoruz )\n",
    "# Simdi Bi Seyler Yorumlayalim; const ( Sabit ) Egrinin Y Eksenini Kestigi Nokta Demistik Dolayisi Ile Diger Degiskenlerde Hicbir Degisiklik Olmadiginda Y'nin Beklenen\n",
    "# Degeridir Aslinda ( 7.0326 ) , Yani Ortalama Bir Satistir Yani TV'nin Bir Etkisi Olmadiginda Satislarda Zaten Olmasini Bekledigimiz Ortalama Satis Miktari 7.0326 Dir\n",
    "\n",
    "\n",
    "# ( TV Ve coef In Kesisimini Yorumluyoruz )\n",
    "# TV Harcamalarinda 1 Birimlik Artis Oldugunda Satislarda Bu Kadarlik ( 0.0475 ) Ortalama Artis Olmasi Beklenir Seklinde Yorumlanir\n",
    "\n",
    "# Burada Her Bir Degiskenin ( Cok Fazla Da Olabilirdi Degisken ) Bagimli Degiskene Olan Etkilerini Gorebiliriyoruz ---->> Yani TV De Bir Birimlik Artis Oldugunda\n",
    "# Satislarda Ortalama Ne Kadar Bir Artis Olabilecegi Bize Bilgisi Verilmis ( Bu Yorumlamalar Bize Degerlendirme Yapabilme Imkani Saglayacak )\n",
    "\n",
    "\n",
    "# En Alttaki Yer ( 2. Indexte Yer Alan Yer Olarak Geciyor ) ( Tables'in 2. Index'indeki Yer )\n",
    "\n",
    "\n",
    "# ( Simdilik Bu Bilgiler Yeterli Burasi Icin )"
   ]
  },
  {
   "cell_type": "code",
   "execution_count": 19,
   "id": "624debd6",
   "metadata": {
    "execution": {
     "iopub.execute_input": "2022-05-19T21:57:45.793740Z",
     "iopub.status.busy": "2022-05-19T21:57:45.793013Z",
     "iopub.status.idle": "2022-05-19T21:57:45.813109Z",
     "shell.execute_reply": "2022-05-19T21:57:45.812513Z"
    },
    "papermill": {
     "duration": 0.112338,
     "end_time": "2022-05-19T21:57:45.814917",
     "exception": false,
     "start_time": "2022-05-19T21:57:45.702579",
     "status": "completed"
    },
    "tags": []
   },
   "outputs": [
    {
     "data": {
      "text/html": [
       "<table class=\"simpletable\">\n",
       "<caption>OLS Regression Results</caption>\n",
       "<tr>\n",
       "  <th>Dep. Variable:</th>          <td>Sales</td>      <th>  R-squared:         </th> <td>   0.612</td>\n",
       "</tr>\n",
       "<tr>\n",
       "  <th>Model:</th>                   <td>OLS</td>       <th>  Adj. R-squared:    </th> <td>   0.610</td>\n",
       "</tr>\n",
       "<tr>\n",
       "  <th>Method:</th>             <td>Least Squares</td>  <th>  F-statistic:       </th> <td>   312.1</td>\n",
       "</tr>\n",
       "<tr>\n",
       "  <th>Date:</th>             <td>Thu, 19 May 2022</td> <th>  Prob (F-statistic):</th> <td>1.47e-42</td>\n",
       "</tr>\n",
       "<tr>\n",
       "  <th>Time:</th>                 <td>21:57:45</td>     <th>  Log-Likelihood:    </th> <td> -519.05</td>\n",
       "</tr>\n",
       "<tr>\n",
       "  <th>No. Observations:</th>      <td>   200</td>      <th>  AIC:               </th> <td>   1042.</td>\n",
       "</tr>\n",
       "<tr>\n",
       "  <th>Df Residuals:</th>          <td>   198</td>      <th>  BIC:               </th> <td>   1049.</td>\n",
       "</tr>\n",
       "<tr>\n",
       "  <th>Df Model:</th>              <td>     1</td>      <th>                     </th>     <td> </td>   \n",
       "</tr>\n",
       "<tr>\n",
       "  <th>Covariance Type:</th>      <td>nonrobust</td>    <th>                     </th>     <td> </td>   \n",
       "</tr>\n",
       "</table>\n",
       "<table class=\"simpletable\">\n",
       "<tr>\n",
       "      <td></td>         <th>coef</th>     <th>std err</th>      <th>t</th>      <th>P>|t|</th>  <th>[0.025</th>    <th>0.975]</th>  \n",
       "</tr>\n",
       "<tr>\n",
       "  <th>Intercept</th> <td>    7.0326</td> <td>    0.458</td> <td>   15.360</td> <td> 0.000</td> <td>    6.130</td> <td>    7.935</td>\n",
       "</tr>\n",
       "<tr>\n",
       "  <th>TV</th>        <td>    0.0475</td> <td>    0.003</td> <td>   17.668</td> <td> 0.000</td> <td>    0.042</td> <td>    0.053</td>\n",
       "</tr>\n",
       "</table>\n",
       "<table class=\"simpletable\">\n",
       "<tr>\n",
       "  <th>Omnibus:</th>       <td> 0.531</td> <th>  Durbin-Watson:     </th> <td>   1.935</td>\n",
       "</tr>\n",
       "<tr>\n",
       "  <th>Prob(Omnibus):</th> <td> 0.767</td> <th>  Jarque-Bera (JB):  </th> <td>   0.669</td>\n",
       "</tr>\n",
       "<tr>\n",
       "  <th>Skew:</th>          <td>-0.089</td> <th>  Prob(JB):          </th> <td>   0.716</td>\n",
       "</tr>\n",
       "<tr>\n",
       "  <th>Kurtosis:</th>      <td> 2.779</td> <th>  Cond. No.          </th> <td>    338.</td>\n",
       "</tr>\n",
       "</table><br/><br/>Notes:<br/>[1] Standard Errors assume that the covariance matrix of the errors is correctly specified."
      ],
      "text/plain": [
       "<class 'statsmodels.iolib.summary.Summary'>\n",
       "\"\"\"\n",
       "                            OLS Regression Results                            \n",
       "==============================================================================\n",
       "Dep. Variable:                  Sales   R-squared:                       0.612\n",
       "Model:                            OLS   Adj. R-squared:                  0.610\n",
       "Method:                 Least Squares   F-statistic:                     312.1\n",
       "Date:                Thu, 19 May 2022   Prob (F-statistic):           1.47e-42\n",
       "Time:                        21:57:45   Log-Likelihood:                -519.05\n",
       "No. Observations:                 200   AIC:                             1042.\n",
       "Df Residuals:                     198   BIC:                             1049.\n",
       "Df Model:                           1                                         \n",
       "Covariance Type:            nonrobust                                         \n",
       "==============================================================================\n",
       "                 coef    std err          t      P>|t|      [0.025      0.975]\n",
       "------------------------------------------------------------------------------\n",
       "Intercept      7.0326      0.458     15.360      0.000       6.130       7.935\n",
       "TV             0.0475      0.003     17.668      0.000       0.042       0.053\n",
       "==============================================================================\n",
       "Omnibus:                        0.531   Durbin-Watson:                   1.935\n",
       "Prob(Omnibus):                  0.767   Jarque-Bera (JB):                0.669\n",
       "Skew:                          -0.089   Prob(JB):                        0.716\n",
       "Kurtosis:                       2.779   Cond. No.                         338.\n",
       "==============================================================================\n",
       "\n",
       "Notes:\n",
       "[1] Standard Errors assume that the covariance matrix of the errors is correctly specified.\n",
       "\"\"\""
      ]
     },
     "execution_count": 19,
     "metadata": {},
     "output_type": "execute_result"
    }
   ],
   "source": [
    "# Degiskenleri Ifade Etme Seklini Yukarida   lm = sm.OLS(y,X)   Bu Sekilde Ele Almistik Bunu Farkli Sekilde DE Yapabiliriz ( Bu Ifadeler De Ayni Modeli Kurdu Bize )\n",
    "\n",
    "# Fakat Buradaki Farklilik Degiskenlerin Isimlerini Kendimiz Asagidaki Gibi Yazmak Istersek Kullanabilecegimiz Bir Tur   lm = smf.ols(\"Sales ~ TV\", df)   Buradaki Gibi\n",
    "\n",
    "import statsmodels.formula.api as smf\n",
    "lm = smf.ols(\"Sales ~ TV\", df)\n",
    "model = lm.fit()\n",
    "model.summary()"
   ]
  },
  {
   "cell_type": "code",
   "execution_count": 20,
   "id": "0ef44b84",
   "metadata": {
    "execution": {
     "iopub.execute_input": "2022-05-19T21:57:45.999460Z",
     "iopub.status.busy": "2022-05-19T21:57:45.998689Z",
     "iopub.status.idle": "2022-05-19T21:57:46.005547Z",
     "shell.execute_reply": "2022-05-19T21:57:46.004930Z"
    },
    "papermill": {
     "duration": 0.101063,
     "end_time": "2022-05-19T21:57:46.007807",
     "exception": false,
     "start_time": "2022-05-19T21:57:45.906744",
     "status": "completed"
    },
    "tags": []
   },
   "outputs": [
    {
     "data": {
      "text/plain": [
       "Intercept    7.032594\n",
       "TV           0.047537\n",
       "dtype: float64"
      ]
     },
     "execution_count": 20,
     "metadata": {},
     "output_type": "execute_result"
    }
   ],
   "source": [
    "model.params # Modelin Parametreleri Geldi Bunlar Beta 0 Ve Beta 1 Degerleri Sonucunda Ulastigimiz Seyler"
   ]
  },
  {
   "cell_type": "code",
   "execution_count": 21,
   "id": "0f5635f6",
   "metadata": {
    "execution": {
     "iopub.execute_input": "2022-05-19T21:57:46.193968Z",
     "iopub.status.busy": "2022-05-19T21:57:46.193430Z",
     "iopub.status.idle": "2022-05-19T21:57:46.202050Z",
     "shell.execute_reply": "2022-05-19T21:57:46.201467Z"
    },
    "papermill": {
     "duration": 0.103163,
     "end_time": "2022-05-19T21:57:46.203976",
     "exception": false,
     "start_time": "2022-05-19T21:57:46.100813",
     "status": "completed"
    },
    "tags": []
   },
   "outputs": [
    {
     "data": {
      "text/html": [
       "<table class=\"simpletable\">\n",
       "<caption>OLS Regression Results</caption>\n",
       "<tr>\n",
       "  <th>Dep. Variable:</th>          <td>Sales</td>      <th>  R-squared:         </th> <td>   0.612</td>\n",
       "</tr>\n",
       "<tr>\n",
       "  <th>Model:</th>                   <td>OLS</td>       <th>  Adj. R-squared:    </th> <td>   0.610</td>\n",
       "</tr>\n",
       "<tr>\n",
       "  <th>Method:</th>             <td>Least Squares</td>  <th>  F-statistic:       </th> <td>   312.1</td>\n",
       "</tr>\n",
       "<tr>\n",
       "  <th>Date:</th>             <td>Thu, 19 May 2022</td> <th>  Prob (F-statistic):</th> <td>1.47e-42</td>\n",
       "</tr>\n",
       "<tr>\n",
       "  <th>Time:</th>                 <td>21:57:46</td>     <th>  Log-Likelihood:    </th> <td> -519.05</td>\n",
       "</tr>\n",
       "<tr>\n",
       "  <th>No. Observations:</th>      <td>   200</td>      <th>  AIC:               </th> <td>   1042.</td>\n",
       "</tr>\n",
       "<tr>\n",
       "  <th>Df Residuals:</th>          <td>   198</td>      <th>  BIC:               </th> <td>   1049.</td>\n",
       "</tr>\n",
       "<tr>\n",
       "  <th>Df Model:</th>              <td>     1</td>      <th>                     </th>     <td> </td>   \n",
       "</tr>\n",
       "<tr>\n",
       "  <th>Covariance Type:</th>      <td>nonrobust</td>    <th>                     </th>     <td> </td>   \n",
       "</tr>\n",
       "</table>"
      ],
      "text/plain": [
       "<class 'statsmodels.iolib.table.SimpleTable'>"
      ]
     },
     "execution_count": 21,
     "metadata": {},
     "output_type": "execute_result"
    }
   ],
   "source": [
    "model.summary().tables[0] # Tebles'in Icerisinden 0. Elemani Bana Getir Diyoruz"
   ]
  },
  {
   "cell_type": "code",
   "execution_count": 22,
   "id": "6268c8fd",
   "metadata": {
    "execution": {
     "iopub.execute_input": "2022-05-19T21:57:46.413016Z",
     "iopub.status.busy": "2022-05-19T21:57:46.412434Z",
     "iopub.status.idle": "2022-05-19T21:57:46.422535Z",
     "shell.execute_reply": "2022-05-19T21:57:46.421621Z"
    },
    "papermill": {
     "duration": 0.122283,
     "end_time": "2022-05-19T21:57:46.424497",
     "exception": false,
     "start_time": "2022-05-19T21:57:46.302214",
     "status": "completed"
    },
    "tags": []
   },
   "outputs": [
    {
     "data": {
      "text/html": [
       "<table class=\"simpletable\">\n",
       "<tr>\n",
       "  <th>Omnibus:</th>       <td> 0.531</td> <th>  Durbin-Watson:     </th> <td>   1.935</td>\n",
       "</tr>\n",
       "<tr>\n",
       "  <th>Prob(Omnibus):</th> <td> 0.767</td> <th>  Jarque-Bera (JB):  </th> <td>   0.669</td>\n",
       "</tr>\n",
       "<tr>\n",
       "  <th>Skew:</th>          <td>-0.089</td> <th>  Prob(JB):          </th> <td>   0.716</td>\n",
       "</tr>\n",
       "<tr>\n",
       "  <th>Kurtosis:</th>      <td> 2.779</td> <th>  Cond. No.          </th> <td>    338.</td>\n",
       "</tr>\n",
       "</table>"
      ],
      "text/plain": [
       "<class 'statsmodels.iolib.table.SimpleTable'>"
      ]
     },
     "execution_count": 22,
     "metadata": {},
     "output_type": "execute_result"
    }
   ],
   "source": [
    "model.summary().tables[2] # Tebles'in Icerisinden 2. Elemani Bana Getir Diyoruz"
   ]
  },
  {
   "cell_type": "code",
   "execution_count": 23,
   "id": "d6be7bdb",
   "metadata": {
    "execution": {
     "iopub.execute_input": "2022-05-19T21:57:46.610099Z",
     "iopub.status.busy": "2022-05-19T21:57:46.609555Z",
     "iopub.status.idle": "2022-05-19T21:57:46.618638Z",
     "shell.execute_reply": "2022-05-19T21:57:46.617825Z"
    },
    "papermill": {
     "duration": 0.102804,
     "end_time": "2022-05-19T21:57:46.620528",
     "exception": false,
     "start_time": "2022-05-19T21:57:46.517724",
     "status": "completed"
    },
    "tags": []
   },
   "outputs": [
    {
     "data": {
      "text/html": [
       "<table class=\"simpletable\">\n",
       "<tr>\n",
       "      <td></td>         <th>coef</th>     <th>std err</th>      <th>t</th>      <th>P>|t|</th>  <th>[0.025</th>    <th>0.975]</th>  \n",
       "</tr>\n",
       "<tr>\n",
       "  <th>Intercept</th> <td>    7.0326</td> <td>    0.458</td> <td>   15.360</td> <td> 0.000</td> <td>    6.130</td> <td>    7.935</td>\n",
       "</tr>\n",
       "<tr>\n",
       "  <th>TV</th>        <td>    0.0475</td> <td>    0.003</td> <td>   17.668</td> <td> 0.000</td> <td>    0.042</td> <td>    0.053</td>\n",
       "</tr>\n",
       "</table>"
      ],
      "text/plain": [
       "<class 'statsmodels.iolib.table.SimpleTable'>"
      ]
     },
     "execution_count": 23,
     "metadata": {},
     "output_type": "execute_result"
    }
   ],
   "source": [
    "# Katsayi Detaylarina Ulasmak Istersek\n",
    "\n",
    "model.summary().tables[1] # Tebles'in Icerisinden 1. Elemani Bana Getir Diyoruz"
   ]
  },
  {
   "cell_type": "code",
   "execution_count": 24,
   "id": "23f96e7f",
   "metadata": {
    "execution": {
     "iopub.execute_input": "2022-05-19T21:57:46.807705Z",
     "iopub.status.busy": "2022-05-19T21:57:46.807146Z",
     "iopub.status.idle": "2022-05-19T21:57:46.816846Z",
     "shell.execute_reply": "2022-05-19T21:57:46.815980Z"
    },
    "papermill": {
     "duration": 0.104728,
     "end_time": "2022-05-19T21:57:46.818915",
     "exception": false,
     "start_time": "2022-05-19T21:57:46.714187",
     "status": "completed"
    },
    "tags": []
   },
   "outputs": [
    {
     "data": {
      "text/html": [
       "<div>\n",
       "<style scoped>\n",
       "    .dataframe tbody tr th:only-of-type {\n",
       "        vertical-align: middle;\n",
       "    }\n",
       "\n",
       "    .dataframe tbody tr th {\n",
       "        vertical-align: top;\n",
       "    }\n",
       "\n",
       "    .dataframe thead th {\n",
       "        text-align: right;\n",
       "    }\n",
       "</style>\n",
       "<table border=\"1\" class=\"dataframe\">\n",
       "  <thead>\n",
       "    <tr style=\"text-align: right;\">\n",
       "      <th></th>\n",
       "      <th>0</th>\n",
       "      <th>1</th>\n",
       "    </tr>\n",
       "  </thead>\n",
       "  <tbody>\n",
       "    <tr>\n",
       "      <th>Intercept</th>\n",
       "      <td>6.129719</td>\n",
       "      <td>7.935468</td>\n",
       "    </tr>\n",
       "    <tr>\n",
       "      <th>TV</th>\n",
       "      <td>0.042231</td>\n",
       "      <td>0.052843</td>\n",
       "    </tr>\n",
       "  </tbody>\n",
       "</table>\n",
       "</div>"
      ],
      "text/plain": [
       "                  0         1\n",
       "Intercept  6.129719  7.935468\n",
       "TV         0.042231  0.052843"
      ]
     },
     "execution_count": 24,
     "metadata": {},
     "output_type": "execute_result"
    }
   ],
   "source": [
    "# Katsayilar Bizim Icin Onemlidir Peki Katsayilarin Guven Araliklarina Ulasmak Istersek\n",
    "\n",
    "model.conf_int() # Gorulecegi Uzere ( Bir Ustteki Yere Gore Karsilastirdigimizda ) Katsayilarda Yuvarlama Islemi Yapilmis"
   ]
  },
  {
   "cell_type": "code",
   "execution_count": 25,
   "id": "11ad607a",
   "metadata": {
    "execution": {
     "iopub.execute_input": "2022-05-19T21:57:47.005626Z",
     "iopub.status.busy": "2022-05-19T21:57:47.005061Z",
     "iopub.status.idle": "2022-05-19T21:57:47.011064Z",
     "shell.execute_reply": "2022-05-19T21:57:47.009963Z"
    },
    "papermill": {
     "duration": 0.102028,
     "end_time": "2022-05-19T21:57:47.013077",
     "exception": false,
     "start_time": "2022-05-19T21:57:46.911049",
     "status": "completed"
    },
    "tags": []
   },
   "outputs": [
    {
     "name": "stdout",
     "output_type": "stream",
     "text": [
      "f_pvalue :  0.000\n"
     ]
    }
   ],
   "source": [
    "# Modelin Anlamliligina Iliskin Istatistiklere Sadece Ulasmak Istersek\n",
    "\n",
    "model.f_pvalue # Ciktida Gorulecegi Uzere e Ifadesi Var Bu Rahatsiz Etmis Olabilir Bizleri Bunu Cozmek Icin Yontem ---->>\n",
    "\n",
    "print(\"f_pvalue : \", \"%.3f\" % model.f_pvalue) #   \"%.3f\"   Su Ifade Ile Yazdirma Seklini Tanimliyoruz ---->> Virgulden Sonra 3 Basamak ---->> Bu Ifadeden Sonra\n",
    "# Yazdigim Ifade ( % model.f_pvalue ) Sag Tarafa Yazdigim Ifadeyi Sol Tarafa Baglama Islemi Yapacak ---->> Cikti Virgulden Sonra 3 Basamak Olacak Sekilde Yazdirildi"
   ]
  },
  {
   "cell_type": "code",
   "execution_count": 26,
   "id": "cbc300f8",
   "metadata": {
    "execution": {
     "iopub.execute_input": "2022-05-19T21:57:47.204057Z",
     "iopub.status.busy": "2022-05-19T21:57:47.203750Z",
     "iopub.status.idle": "2022-05-19T21:57:47.208661Z",
     "shell.execute_reply": "2022-05-19T21:57:47.207805Z"
    },
    "papermill": {
     "duration": 0.101807,
     "end_time": "2022-05-19T21:57:47.211657",
     "exception": false,
     "start_time": "2022-05-19T21:57:47.109850",
     "status": "completed"
    },
    "tags": []
   },
   "outputs": [
    {
     "name": "stdout",
     "output_type": "stream",
     "text": [
      "fvalue :  312.145\n",
      "\n",
      "\n",
      "fvalue :  312.14\n"
     ]
    }
   ],
   "source": [
    "# F Value Degerine De Su Sekilde Ulasabiliriz\n",
    "\n",
    "print(\"fvalue : \", \"%.3f\" % model.fvalue)\n",
    "\n",
    "# Su Virgulden Sonra Muhabbetinin Anlasilmasi Icin Bir Tane Daha Ornek Yapiyorum\n",
    "\n",
    "print(\"\\n\")\n",
    "\n",
    "print(\"fvalue : \", \"%.2f\" % model.fvalue)"
   ]
  },
  {
   "cell_type": "code",
   "execution_count": 27,
   "id": "4a7952bc",
   "metadata": {
    "execution": {
     "iopub.execute_input": "2022-05-19T21:57:47.401443Z",
     "iopub.status.busy": "2022-05-19T21:57:47.400853Z",
     "iopub.status.idle": "2022-05-19T21:57:47.406824Z",
     "shell.execute_reply": "2022-05-19T21:57:47.405939Z"
    },
    "papermill": {
     "duration": 0.103943,
     "end_time": "2022-05-19T21:57:47.408942",
     "exception": false,
     "start_time": "2022-05-19T21:57:47.304999",
     "status": "completed"
    },
    "tags": []
   },
   "outputs": [
    {
     "name": "stdout",
     "output_type": "stream",
     "text": [
      "tvalue :  15.36\n"
     ]
    }
   ],
   "source": [
    "# Parametre Anlamliligina Eriskin Degerlere Erismek Istersek\n",
    "\n",
    "print(\"tvalue : \", \"%.2f\" % model.tvalues[0:1])"
   ]
  },
  {
   "cell_type": "code",
   "execution_count": 28,
   "id": "cb49a455",
   "metadata": {
    "execution": {
     "iopub.execute_input": "2022-05-19T21:57:47.604803Z",
     "iopub.status.busy": "2022-05-19T21:57:47.603754Z",
     "iopub.status.idle": "2022-05-19T21:57:47.609307Z",
     "shell.execute_reply": "2022-05-19T21:57:47.608700Z"
    },
    "papermill": {
     "duration": 0.107811,
     "end_time": "2022-05-19T21:57:47.611183",
     "exception": false,
     "start_time": "2022-05-19T21:57:47.503372",
     "status": "completed"
    },
    "tags": []
   },
   "outputs": [
    {
     "data": {
      "text/plain": [
       "3314.6181668686486"
      ]
     },
     "execution_count": 28,
     "metadata": {},
     "output_type": "execute_result"
    }
   ],
   "source": [
    "# Modelin Anlamliligina Iliskin Model Degerlendirilme Istatistiklerine Ulasmak Istersek \n",
    "\n",
    "model.mse_model # Hata Kareler Ortalamasi Degerine Erismis Olduk ( Modelin Basarisi Ile Ilgili Ilk Istatistige Ulastik )\n",
    "\n",
    "# Yorum; ( Satislarin ) Ortalamasi 14 Olan Bir Degisken Icin Cikan Sonuc Cok Korkunc, Birim Basina Yapilacak Hata Cok Korkunc Bir Sayi\n",
    "# ( Model fln Olmamis Sadece Ogrenmek Icin Yapiyoruz, Cok Guzel Bir Sonuc Cikmadi )"
   ]
  },
  {
   "cell_type": "code",
   "execution_count": 29,
   "id": "aedd49fe",
   "metadata": {
    "execution": {
     "iopub.execute_input": "2022-05-19T21:57:47.804867Z",
     "iopub.status.busy": "2022-05-19T21:57:47.804336Z",
     "iopub.status.idle": "2022-05-19T21:57:47.809646Z",
     "shell.execute_reply": "2022-05-19T21:57:47.808845Z"
    },
    "papermill": {
     "duration": 0.102256,
     "end_time": "2022-05-19T21:57:47.811484",
     "exception": false,
     "start_time": "2022-05-19T21:57:47.709228",
     "status": "completed"
    },
    "tags": []
   },
   "outputs": [
    {
     "data": {
      "text/plain": [
       "0.611875050850071"
      ]
     },
     "execution_count": 29,
     "metadata": {},
     "output_type": "execute_result"
    }
   ],
   "source": [
    "model.rsquared # R Kare Degeri ( Aciklanabilirlik Orani Gercek Hayat Icin Uygun Cok Kotu Bir Deger Degil Bunu Soyleyebiliriz )"
   ]
  },
  {
   "cell_type": "code",
   "execution_count": 30,
   "id": "66294d4d",
   "metadata": {
    "execution": {
     "iopub.execute_input": "2022-05-19T21:57:48.002682Z",
     "iopub.status.busy": "2022-05-19T21:57:48.001731Z",
     "iopub.status.idle": "2022-05-19T21:57:48.007754Z",
     "shell.execute_reply": "2022-05-19T21:57:48.006949Z"
    },
    "papermill": {
     "duration": 0.1046,
     "end_time": "2022-05-19T21:57:48.009867",
     "exception": false,
     "start_time": "2022-05-19T21:57:47.905267",
     "status": "completed"
    },
    "tags": []
   },
   "outputs": [
    {
     "data": {
      "text/plain": [
       "0.6099148238341623"
      ]
     },
     "execution_count": 30,
     "metadata": {},
     "output_type": "execute_result"
    }
   ],
   "source": [
    "model.rsquared_adj # Duzeltilmis R Kare Degeri"
   ]
  },
  {
   "cell_type": "code",
   "execution_count": 31,
   "id": "81a489fb",
   "metadata": {
    "execution": {
     "iopub.execute_input": "2022-05-19T21:57:48.205938Z",
     "iopub.status.busy": "2022-05-19T21:57:48.205418Z",
     "iopub.status.idle": "2022-05-19T21:57:48.208457Z",
     "shell.execute_reply": "2022-05-19T21:57:48.207922Z"
    },
    "papermill": {
     "duration": 0.103167,
     "end_time": "2022-05-19T21:57:48.210067",
     "exception": false,
     "start_time": "2022-05-19T21:57:48.106900",
     "status": "completed"
    },
    "tags": []
   },
   "outputs": [],
   "source": [
    "# Artik Nasil Ulasicagimizi Fln Ogrendik, Artik Olayin Aslina Donelim"
   ]
  },
  {
   "cell_type": "code",
   "execution_count": 32,
   "id": "cd05d7ea",
   "metadata": {
    "execution": {
     "iopub.execute_input": "2022-05-19T21:57:48.401912Z",
     "iopub.status.busy": "2022-05-19T21:57:48.401364Z",
     "iopub.status.idle": "2022-05-19T21:57:48.407898Z",
     "shell.execute_reply": "2022-05-19T21:57:48.407160Z"
    },
    "papermill": {
     "duration": 0.105375,
     "end_time": "2022-05-19T21:57:48.410020",
     "exception": false,
     "start_time": "2022-05-19T21:57:48.304645",
     "status": "completed"
    },
    "tags": []
   },
   "outputs": [
    {
     "data": {
      "text/plain": [
       "0    17.970775\n",
       "1     9.147974\n",
       "2     7.850224\n",
       "3    14.234395\n",
       "4    15.627218\n",
       "dtype: float64"
      ]
     },
     "execution_count": 32,
     "metadata": {},
     "output_type": "execute_result"
    }
   ],
   "source": [
    "# Tahmin Edilen Degerler\n",
    "\n",
    "model.fittedvalues[0:5] # Daha Oncesinde Model Kurduk Model Icerisinden Tahmin Ettigimiz Y Degerleri"
   ]
  },
  {
   "cell_type": "code",
   "execution_count": 33,
   "id": "6f9764e6",
   "metadata": {
    "execution": {
     "iopub.execute_input": "2022-05-19T21:57:48.602405Z",
     "iopub.status.busy": "2022-05-19T21:57:48.601861Z",
     "iopub.status.idle": "2022-05-19T21:57:48.607586Z",
     "shell.execute_reply": "2022-05-19T21:57:48.606975Z"
    },
    "papermill": {
     "duration": 0.103794,
     "end_time": "2022-05-19T21:57:48.609381",
     "exception": false,
     "start_time": "2022-05-19T21:57:48.505587",
     "status": "completed"
    },
    "tags": []
   },
   "outputs": [
    {
     "data": {
      "text/plain": [
       "0    22.1\n",
       "1    10.4\n",
       "2     9.3\n",
       "3    18.5\n",
       "4    12.9\n",
       "Name: Sales, dtype: float64"
      ]
     },
     "execution_count": 33,
     "metadata": {},
     "output_type": "execute_result"
    }
   ],
   "source": [
    "# Gercek Degerlere Ulasmak Istersek\n",
    "\n",
    "y[0:5] # Gercek Y Degerleri"
   ]
  },
  {
   "cell_type": "markdown",
   "id": "ac6ae316",
   "metadata": {
    "papermill": {
     "duration": 0.096843,
     "end_time": "2022-05-19T21:57:48.804425",
     "exception": false,
     "start_time": "2022-05-19T21:57:48.707582",
     "status": "completed"
    },
    "tags": []
   },
   "source": [
    "## Modelin Denklemini Yazma ( Onemli )"
   ]
  },
  {
   "cell_type": "code",
   "execution_count": 34,
   "id": "f1e2b1ef",
   "metadata": {
    "execution": {
     "iopub.execute_input": "2022-05-19T21:57:48.996803Z",
     "iopub.status.busy": "2022-05-19T21:57:48.996255Z",
     "iopub.status.idle": "2022-05-19T21:57:49.001964Z",
     "shell.execute_reply": "2022-05-19T21:57:49.000982Z"
    },
    "papermill": {
     "duration": 0.105207,
     "end_time": "2022-05-19T21:57:49.003969",
     "exception": false,
     "start_time": "2022-05-19T21:57:48.898762",
     "status": "completed"
    },
    "tags": []
   },
   "outputs": [
    {
     "name": "stdout",
     "output_type": "stream",
     "text": [
      "Sales = 7.03 + TV*0.05\n"
     ]
    }
   ],
   "source": [
    "print(\"Sales = \" +  str(\"%.2f\" % model.params[0]) + \" + TV\" + \"*\" + str(\"%.2f\" % model.params[1])) # Burasi Modelin Matematiksel Formu\n",
    "\n",
    "# Satislar Esittir Dedik, String Olarak Iki Basamakli Olmasi Durumunu Ifade Ettik, Model Parametrelerinden 0'i Cektim Ki Bu Deger 7.03\n",
    "# Arti Dedik TV Carpi Model Parametrelerinden 1'i Cektim\n",
    "\n",
    "# Simdi Bu Ne Anlama Geliyor ---->> Denklemi Olusturduk Gelecek Bilgiler Hakkinda Belli Cikarimlar Yapabilmek Icin Bir Model Olusturduk Ve Tahmin Etme Dedigimiz Kisim\n",
    "# Burasi Oluyor ( Bu Denklem ) ----->> Mesela 1000 Lira Butce Ayirirsam TV Reklamlarina Bizim Satisimiz Ne Olur Sorusunu Burada Cevaplayabiliyoruz"
   ]
  },
  {
   "cell_type": "code",
   "execution_count": 35,
   "id": "bb2c7a79",
   "metadata": {
    "execution": {
     "iopub.execute_input": "2022-05-19T21:57:49.198330Z",
     "iopub.status.busy": "2022-05-19T21:57:49.197764Z",
     "iopub.status.idle": "2022-05-19T21:57:49.395553Z",
     "shell.execute_reply": "2022-05-19T21:57:49.394453Z"
    },
    "papermill": {
     "duration": 0.296652,
     "end_time": "2022-05-19T21:57:49.398355",
     "exception": false,
     "start_time": "2022-05-19T21:57:49.101703",
     "status": "completed"
    },
    "tags": []
   },
   "outputs": [
    {
     "name": "stderr",
     "output_type": "stream",
     "text": [
      "/opt/conda/lib/python3.7/site-packages/seaborn/_decorators.py:43: FutureWarning: Pass the following variables as keyword args: x, y. From version 0.12, the only valid positional argument will be `data`, and passing other arguments without an explicit keyword will result in an error or misinterpretation.\n",
      "  FutureWarning\n"
     ]
    },
    {
     "data": {
      "image/png": "[encoded data removed]",
      "text/plain": [
       "<Figure size 432x288 with 1 Axes>"
      ]
     },
     "metadata": {
      "needs_background": "light"
     },
     "output_type": "display_data"
    }
   ],
   "source": [
    "# Modelin Gorsel Olarak Neyi Ifade Ettigine Bakalim\n",
    "\n",
    "g = sns.regplot(df[\"TV\"], df[\"Sales\"], ci=None, scatter_kws={'color':'r', 's':9})\n",
    "g.set_title(\"Model Denklemi: Sales = 7.03 + TV*0.05\")\n",
    "g.set_ylabel(\"Satış Sayısı\")\n",
    "g.set_xlabel(\"TV Harcamaları\")\n",
    "import matplotlib.pyplot as plt\n",
    "plt.xlim(-10,310)\n",
    "plt.ylim(bottom=0);\n",
    "\n",
    "\n",
    "# Bunun Geometrik Formuda Bu Sekildedir"
   ]
  },
  {
   "cell_type": "code",
   "execution_count": 36,
   "id": "bac9be7d",
   "metadata": {
    "execution": {
     "iopub.execute_input": "2022-05-19T21:57:49.593189Z",
     "iopub.status.busy": "2022-05-19T21:57:49.592370Z",
     "iopub.status.idle": "2022-05-19T21:57:49.812412Z",
     "shell.execute_reply": "2022-05-19T21:57:49.811635Z"
    },
    "papermill": {
     "duration": 0.319879,
     "end_time": "2022-05-19T21:57:49.814977",
     "exception": false,
     "start_time": "2022-05-19T21:57:49.495098",
     "status": "completed"
    },
    "tags": []
   },
   "outputs": [],
   "source": [
    "from sklearn.linear_model import LinearRegression"
   ]
  },
  {
   "cell_type": "code",
   "execution_count": 37,
   "id": "706fa682",
   "metadata": {
    "execution": {
     "iopub.execute_input": "2022-05-19T21:57:50.009857Z",
     "iopub.status.busy": "2022-05-19T21:57:50.009578Z",
     "iopub.status.idle": "2022-05-19T21:57:50.028471Z",
     "shell.execute_reply": "2022-05-19T21:57:50.027596Z"
    },
    "papermill": {
     "duration": 0.119147,
     "end_time": "2022-05-19T21:57:50.030426",
     "exception": false,
     "start_time": "2022-05-19T21:57:49.911279",
     "status": "completed"
    },
    "tags": []
   },
   "outputs": [
    {
     "data": {
      "text/plain": [
       "7.032593549127695"
      ]
     },
     "execution_count": 37,
     "metadata": {},
     "output_type": "execute_result"
    }
   ],
   "source": [
    "X = df[[\"TV\"]]\n",
    "y = df[\"Sales\"]\n",
    "reg = LinearRegression() # Burada Bir Nesne Olusturuyoruz ( Ornekleme Olusturmus Oluyoruz Yani )\n",
    "model = reg.fit(X, y)\n",
    "model.intercept_ # Katsayiyi Aldik"
   ]
  },
  {
   "cell_type": "code",
   "execution_count": 38,
   "id": "dc2be692",
   "metadata": {
    "execution": {
     "iopub.execute_input": "2022-05-19T21:57:50.227136Z",
     "iopub.status.busy": "2022-05-19T21:57:50.226693Z",
     "iopub.status.idle": "2022-05-19T21:57:50.236094Z",
     "shell.execute_reply": "2022-05-19T21:57:50.235212Z"
    },
    "papermill": {
     "duration": 0.110918,
     "end_time": "2022-05-19T21:57:50.237843",
     "exception": false,
     "start_time": "2022-05-19T21:57:50.126925",
     "status": "completed"
    },
    "tags": []
   },
   "outputs": [
    {
     "data": {
      "text/plain": [
       "array([0.04753664])"
      ]
     },
     "execution_count": 38,
     "metadata": {},
     "output_type": "execute_result"
    }
   ],
   "source": [
    "X = df[[\"TV\"]]\n",
    "y = df[\"Sales\"]\n",
    "reg = LinearRegression() # Burada Bir Nesne Olusturuyoruz ( Ornekleme Olusturmus Oluyoruz Yani )\n",
    "model = reg.fit(X, y)\n",
    "model.intercept_\n",
    "model.coef_ # Burada Da Beta 1 Katsayisini Da Almis Olduk"
   ]
  },
  {
   "cell_type": "code",
   "execution_count": 39,
   "id": "03e0e710",
   "metadata": {
    "execution": {
     "iopub.execute_input": "2022-05-19T21:57:50.432805Z",
     "iopub.status.busy": "2022-05-19T21:57:50.432519Z",
     "iopub.status.idle": "2022-05-19T21:57:50.440161Z",
     "shell.execute_reply": "2022-05-19T21:57:50.439253Z"
    },
    "papermill": {
     "duration": 0.107573,
     "end_time": "2022-05-19T21:57:50.442191",
     "exception": false,
     "start_time": "2022-05-19T21:57:50.334618",
     "status": "completed"
    },
    "tags": []
   },
   "outputs": [
    {
     "data": {
      "text/plain": [
       "0.611875050850071"
      ]
     },
     "execution_count": 39,
     "metadata": {},
     "output_type": "execute_result"
    }
   ],
   "source": [
    "model.score(X,y) # R Kare Degeri"
   ]
  },
  {
   "cell_type": "code",
   "execution_count": 40,
   "id": "235641b7",
   "metadata": {
    "execution": {
     "iopub.execute_input": "2022-05-19T21:57:50.640664Z",
     "iopub.status.busy": "2022-05-19T21:57:50.640380Z",
     "iopub.status.idle": "2022-05-19T21:57:50.648249Z",
     "shell.execute_reply": "2022-05-19T21:57:50.647379Z"
    },
    "papermill": {
     "duration": 0.110935,
     "end_time": "2022-05-19T21:57:50.650168",
     "exception": false,
     "start_time": "2022-05-19T21:57:50.539233",
     "status": "completed"
    },
    "tags": []
   },
   "outputs": [
    {
     "data": {
      "text/plain": [
       "array([17.97077451,  9.14797405,  7.85022376, 14.23439457, 15.62721814,\n",
       "        7.44616232,  9.76595037, 12.74649773,  7.44140866, 16.53041431])"
      ]
     },
     "execution_count": 40,
     "metadata": {},
     "output_type": "execute_result"
    }
   ],
   "source": [
    "model.predict(X)[0:10] # Tahmin Edilen Degerlere Ulasmak Icin ( Cok Sevdigimiz Bir Fonksiyondur ) ( Cok Fazla Kullanicaz )"
   ]
  },
  {
   "cell_type": "markdown",
   "id": "9971d001",
   "metadata": {
    "papermill": {
     "duration": 0.097835,
     "end_time": "2022-05-19T21:57:50.848357",
     "exception": false,
     "start_time": "2022-05-19T21:57:50.750522",
     "status": "completed"
    },
    "tags": []
   },
   "source": [
    "## Tahmin"
   ]
  },
  {
   "cell_type": "markdown",
   "id": "2531230d",
   "metadata": {
    "papermill": {
     "duration": 0.098875,
     "end_time": "2022-05-19T21:57:51.044485",
     "exception": false,
     "start_time": "2022-05-19T21:57:50.945610",
     "status": "completed"
    },
    "tags": []
   },
   "source": [
    "Model denklemi:\n",
    "\n",
    "Sales = 7.03 + TV*0.04\n",
    "\n",
    "Örneğin 30 birim TV harcaması olduğunda satışların tahmini değeri ne olur?"
   ]
  },
  {
   "cell_type": "code",
   "execution_count": 41,
   "id": "e5e36c3e",
   "metadata": {
    "execution": {
     "iopub.execute_input": "2022-05-19T21:57:51.244320Z",
     "iopub.status.busy": "2022-05-19T21:57:51.243996Z",
     "iopub.status.idle": "2022-05-19T21:57:51.248943Z",
     "shell.execute_reply": "2022-05-19T21:57:51.248373Z"
    },
    "papermill": {
     "duration": 0.105089,
     "end_time": "2022-05-19T21:57:51.250844",
     "exception": false,
     "start_time": "2022-05-19T21:57:51.145755",
     "status": "completed"
    },
    "tags": []
   },
   "outputs": [
    {
     "data": {
      "text/plain": [
       "8.23"
      ]
     },
     "execution_count": 41,
     "metadata": {},
     "output_type": "execute_result"
    }
   ],
   "source": [
    "7.03 + 30*0.04"
   ]
  },
  {
   "cell_type": "code",
   "execution_count": 42,
   "id": "f772ff92",
   "metadata": {
    "execution": {
     "iopub.execute_input": "2022-05-19T21:57:51.451364Z",
     "iopub.status.busy": "2022-05-19T21:57:51.450564Z",
     "iopub.status.idle": "2022-05-19T21:57:51.458547Z",
     "shell.execute_reply": "2022-05-19T21:57:51.457402Z"
    },
    "papermill": {
     "duration": 0.112027,
     "end_time": "2022-05-19T21:57:51.460969",
     "exception": false,
     "start_time": "2022-05-19T21:57:51.348942",
     "status": "completed"
    },
    "tags": []
   },
   "outputs": [],
   "source": [
    "X = df[[\"TV\"]]\n",
    "y = df[\"Sales\"]\n",
    "reg = LinearRegression()\n",
    "model = reg.fit(X, y)"
   ]
  },
  {
   "cell_type": "code",
   "execution_count": 43,
   "id": "7b363162",
   "metadata": {
    "execution": {
     "iopub.execute_input": "2022-05-19T21:57:51.659611Z",
     "iopub.status.busy": "2022-05-19T21:57:51.659022Z",
     "iopub.status.idle": "2022-05-19T21:57:51.662200Z",
     "shell.execute_reply": "2022-05-19T21:57:51.661589Z"
    },
    "papermill": {
     "duration": 0.104042,
     "end_time": "2022-05-19T21:57:51.664140",
     "exception": false,
     "start_time": "2022-05-19T21:57:51.560098",
     "status": "completed"
    },
    "tags": []
   },
   "outputs": [],
   "source": [
    "# predict() ----->> Kendisine Girilen Degeri Kurmus Oldugumuz Modele Yani Denkleme ( 7.03 + TV*0.04 ) Gondericek Bu Denklemde Kendisinin Girebilecegi Yer Varsa Girip Buna Yonelik\n",
    "# Olarak Cikti Uretecek, Gercek Degerlerle Bir Tahmin Etme Islemi Yapicak"
   ]
  },
  {
   "cell_type": "code",
   "execution_count": 44,
   "id": "8d5d56fb",
   "metadata": {
    "execution": {
     "iopub.execute_input": "2022-05-19T21:57:51.865392Z",
     "iopub.status.busy": "2022-05-19T21:57:51.864883Z",
     "iopub.status.idle": "2022-05-19T21:57:51.874252Z",
     "shell.execute_reply": "2022-05-19T21:57:51.872920Z"
    },
    "papermill": {
     "duration": 0.111555,
     "end_time": "2022-05-19T21:57:51.876763",
     "exception": false,
     "start_time": "2022-05-19T21:57:51.765208",
     "status": "completed"
    },
    "tags": []
   },
   "outputs": [
    {
     "name": "stderr",
     "output_type": "stream",
     "text": [
      "/opt/conda/lib/python3.7/site-packages/sklearn/base.py:451: UserWarning: X does not have valid feature names, but LinearRegression was fitted with feature names\n",
      "  \"X does not have valid feature names, but\"\n"
     ]
    },
    {
     "data": {
      "text/plain": [
       "array([8.45869276])"
      ]
     },
     "execution_count": 44,
     "metadata": {},
     "output_type": "execute_result"
    }
   ],
   "source": [
    "# Tahmin Etme Islemi Gerceklestirdik\n",
    "\n",
    "model.predict([[30]]) # Uc Ustteki Ile Ayni Islemi Yaptik( Bizimkinden Farkli Sonuc Cikmasi 7.03 Ifadesinin Virgulleri Vardi Biz Uzun Uzun Almadigimiz Icin Islem Ona Gore Yapildi )"
   ]
  },
  {
   "cell_type": "code",
   "execution_count": 45,
   "id": "98b5d6ea",
   "metadata": {
    "execution": {
     "iopub.execute_input": "2022-05-19T21:57:52.076958Z",
     "iopub.status.busy": "2022-05-19T21:57:52.076553Z",
     "iopub.status.idle": "2022-05-19T21:57:52.082377Z",
     "shell.execute_reply": "2022-05-19T21:57:52.081521Z"
    },
    "papermill": {
     "duration": 0.107027,
     "end_time": "2022-05-19T21:57:52.084084",
     "exception": false,
     "start_time": "2022-05-19T21:57:51.977057",
     "status": "completed"
    },
    "tags": []
   },
   "outputs": [
    {
     "name": "stderr",
     "output_type": "stream",
     "text": [
      "/opt/conda/lib/python3.7/site-packages/sklearn/base.py:451: UserWarning: X does not have valid feature names, but LinearRegression was fitted with feature names\n",
      "  \"X does not have valid feature names, but\"\n"
     ]
    },
    {
     "data": {
      "text/plain": [
       "array([ 9.40942557, 11.31089119, 16.53992164])"
      ]
     },
     "execution_count": 45,
     "metadata": {},
     "output_type": "execute_result"
    }
   ],
   "source": [
    "yeni_veri = [[50], [90], [200]]\n",
    "\n",
    "model.predict(yeni_veri) # Bu Sekilde De Kullanabiliyoruz"
   ]
  },
  {
   "cell_type": "markdown",
   "id": "4f05d66c",
   "metadata": {
    "papermill": {
     "duration": 0.09929,
     "end_time": "2022-05-19T21:57:52.284519",
     "exception": false,
     "start_time": "2022-05-19T21:57:52.185229",
     "status": "completed"
    },
    "tags": []
   },
   "source": [
    "## Artıklar ve Makine Öğrenmesindeki Önemi\n",
    "\n",
    "( Bilgilendirme) ---->> Artik = Hata"
   ]
  },
  {
   "cell_type": "code",
   "execution_count": 46,
   "id": "4eb8808c",
   "metadata": {
    "execution": {
     "iopub.execute_input": "2022-05-19T21:57:52.490385Z",
     "iopub.status.busy": "2022-05-19T21:57:52.489398Z",
     "iopub.status.idle": "2022-05-19T21:57:52.494150Z",
     "shell.execute_reply": "2022-05-19T21:57:52.493547Z"
    },
    "papermill": {
     "duration": 0.110329,
     "end_time": "2022-05-19T21:57:52.496005",
     "exception": false,
     "start_time": "2022-05-19T21:57:52.385676",
     "status": "completed"
    },
    "tags": []
   },
   "outputs": [],
   "source": [
    "from sklearn.metrics import mean_squared_error, r2_score"
   ]
  },
  {
   "cell_type": "code",
   "execution_count": 47,
   "id": "d81390e6",
   "metadata": {
    "execution": {
     "iopub.execute_input": "2022-05-19T21:57:52.705346Z",
     "iopub.status.busy": "2022-05-19T21:57:52.704325Z",
     "iopub.status.idle": "2022-05-19T21:57:52.715593Z",
     "shell.execute_reply": "2022-05-19T21:57:52.714639Z"
    },
    "papermill": {
     "duration": 0.11887,
     "end_time": "2022-05-19T21:57:52.717846",
     "exception": false,
     "start_time": "2022-05-19T21:57:52.598976",
     "status": "completed"
    },
    "tags": []
   },
   "outputs": [],
   "source": [
    "lm = smf.ols(\"Sales ~ TV\", df)\n",
    "model = lm.fit()"
   ]
  },
  {
   "cell_type": "code",
   "execution_count": 48,
   "id": "1cf559c3",
   "metadata": {
    "execution": {
     "iopub.execute_input": "2022-05-19T21:57:52.922815Z",
     "iopub.status.busy": "2022-05-19T21:57:52.922292Z",
     "iopub.status.idle": "2022-05-19T21:57:52.926718Z",
     "shell.execute_reply": "2022-05-19T21:57:52.926137Z"
    },
    "papermill": {
     "duration": 0.109382,
     "end_time": "2022-05-19T21:57:52.928646",
     "exception": false,
     "start_time": "2022-05-19T21:57:52.819264",
     "status": "completed"
    },
    "tags": []
   },
   "outputs": [],
   "source": [
    "mse = mean_squared_error(y, model.fittedvalues) # Tahmin Edilen Degerler Ile Gercek Degerler Arasindaki Farklarin Karelerinin Ortalamasi Var Su An Elimizde"
   ]
  },
  {
   "cell_type": "code",
   "execution_count": 49,
   "id": "40715f3d",
   "metadata": {
    "execution": {
     "iopub.execute_input": "2022-05-19T21:57:53.129848Z",
     "iopub.status.busy": "2022-05-19T21:57:53.129545Z",
     "iopub.status.idle": "2022-05-19T21:57:53.134803Z",
     "shell.execute_reply": "2022-05-19T21:57:53.134170Z"
    },
    "papermill": {
     "duration": 0.108755,
     "end_time": "2022-05-19T21:57:53.136675",
     "exception": false,
     "start_time": "2022-05-19T21:57:53.027920",
     "status": "completed"
    },
    "tags": []
   },
   "outputs": [
    {
     "data": {
      "text/plain": [
       "10.512652915656753"
      ]
     },
     "execution_count": 49,
     "metadata": {},
     "output_type": "execute_result"
    }
   ],
   "source": [
    "mse # Hata Kareler Ortalamasi"
   ]
  },
  {
   "cell_type": "code",
   "execution_count": 50,
   "id": "9f1f3eba",
   "metadata": {
    "execution": {
     "iopub.execute_input": "2022-05-19T21:57:53.344967Z",
     "iopub.status.busy": "2022-05-19T21:57:53.344436Z",
     "iopub.status.idle": "2022-05-19T21:57:53.348021Z",
     "shell.execute_reply": "2022-05-19T21:57:53.347348Z"
    },
    "papermill": {
     "duration": 0.111272,
     "end_time": "2022-05-19T21:57:53.349850",
     "exception": false,
     "start_time": "2022-05-19T21:57:53.238578",
     "status": "completed"
    },
    "tags": []
   },
   "outputs": [],
   "source": [
    "import numpy as np\n",
    "\n",
    "rmse = np.sqrt(mse) # mse'nin Kare Kokunu Aldik"
   ]
  },
  {
   "cell_type": "code",
   "execution_count": 51,
   "id": "f2f196eb",
   "metadata": {
    "execution": {
     "iopub.execute_input": "2022-05-19T21:57:53.551780Z",
     "iopub.status.busy": "2022-05-19T21:57:53.551275Z",
     "iopub.status.idle": "2022-05-19T21:57:53.556017Z",
     "shell.execute_reply": "2022-05-19T21:57:53.555211Z"
    },
    "papermill": {
     "duration": 0.106096,
     "end_time": "2022-05-19T21:57:53.557834",
     "exception": false,
     "start_time": "2022-05-19T21:57:53.451738",
     "status": "completed"
    },
    "tags": []
   },
   "outputs": [
    {
     "data": {
      "text/plain": [
       "3.2423221486546883"
      ]
     },
     "execution_count": 51,
     "metadata": {},
     "output_type": "execute_result"
    }
   ],
   "source": [
    "rmse"
   ]
  },
  {
   "cell_type": "code",
   "execution_count": 52,
   "id": "93b94799",
   "metadata": {
    "execution": {
     "iopub.execute_input": "2022-05-19T21:57:53.769363Z",
     "iopub.status.busy": "2022-05-19T21:57:53.768808Z",
     "iopub.status.idle": "2022-05-19T21:57:53.776074Z",
     "shell.execute_reply": "2022-05-19T21:57:53.775254Z"
    },
    "papermill": {
     "duration": 0.115814,
     "end_time": "2022-05-19T21:57:53.778000",
     "exception": false,
     "start_time": "2022-05-19T21:57:53.662186",
     "status": "completed"
    },
    "tags": []
   },
   "outputs": [
    {
     "data": {
      "text/plain": [
       "array([17.97077451,  9.14797405,  7.85022376, 14.23439457, 15.62721814,\n",
       "        7.44616232,  9.76595037, 12.74649773,  7.44140866, 16.53041431])"
      ]
     },
     "execution_count": 52,
     "metadata": {},
     "output_type": "execute_result"
    }
   ],
   "source": [
    "reg.predict(X)[0:10] # Tahmin Edilen Degerler ( Tahmin Islemi Gerceklesti )"
   ]
  },
  {
   "cell_type": "code",
   "execution_count": 53,
   "id": "6419789e",
   "metadata": {
    "execution": {
     "iopub.execute_input": "2022-05-19T21:57:53.981520Z",
     "iopub.status.busy": "2022-05-19T21:57:53.980994Z",
     "iopub.status.idle": "2022-05-19T21:57:53.987401Z",
     "shell.execute_reply": "2022-05-19T21:57:53.986553Z"
    },
    "papermill": {
     "duration": 0.110021,
     "end_time": "2022-05-19T21:57:53.989123",
     "exception": false,
     "start_time": "2022-05-19T21:57:53.879102",
     "status": "completed"
    },
    "tags": []
   },
   "outputs": [
    {
     "data": {
      "text/plain": [
       "0    22.1\n",
       "1    10.4\n",
       "2     9.3\n",
       "3    18.5\n",
       "4    12.9\n",
       "5     7.2\n",
       "6    11.8\n",
       "7    13.2\n",
       "8     4.8\n",
       "9    10.6\n",
       "Name: Sales, dtype: float64"
      ]
     },
     "execution_count": 53,
     "metadata": {},
     "output_type": "execute_result"
    }
   ],
   "source": [
    "y[0:10] # Gercek Degerler"
   ]
  },
  {
   "cell_type": "code",
   "execution_count": 54,
   "id": "c079908b",
   "metadata": {
    "execution": {
     "iopub.execute_input": "2022-05-19T21:57:54.195371Z",
     "iopub.status.busy": "2022-05-19T21:57:54.194790Z",
     "iopub.status.idle": "2022-05-19T21:57:54.200538Z",
     "shell.execute_reply": "2022-05-19T21:57:54.199915Z"
    },
    "papermill": {
     "duration": 0.112888,
     "end_time": "2022-05-19T21:57:54.202411",
     "exception": false,
     "start_time": "2022-05-19T21:57:54.089523",
     "status": "completed"
    },
    "tags": []
   },
   "outputs": [],
   "source": [
    "# Karsilastirma Tablosu Yapicaz ( Amacimiz Artiklari Burada Ele Almak )\n",
    "\n",
    "k_t = pd.DataFrame({\"gercek_y\": y[0:10],\n",
    "                   \"tahmin_y\": reg.predict(X)[0:10]})"
   ]
  },
  {
   "cell_type": "code",
   "execution_count": 55,
   "id": "10fee3c2",
   "metadata": {
    "execution": {
     "iopub.execute_input": "2022-05-19T21:57:54.409531Z",
     "iopub.status.busy": "2022-05-19T21:57:54.409025Z",
     "iopub.status.idle": "2022-05-19T21:57:54.418014Z",
     "shell.execute_reply": "2022-05-19T21:57:54.417406Z"
    },
    "papermill": {
     "duration": 0.115937,
     "end_time": "2022-05-19T21:57:54.419852",
     "exception": false,
     "start_time": "2022-05-19T21:57:54.303915",
     "status": "completed"
    },
    "tags": []
   },
   "outputs": [
    {
     "data": {
      "text/html": [
       "<div>\n",
       "<style scoped>\n",
       "    .dataframe tbody tr th:only-of-type {\n",
       "        vertical-align: middle;\n",
       "    }\n",
       "\n",
       "    .dataframe tbody tr th {\n",
       "        vertical-align: top;\n",
       "    }\n",
       "\n",
       "    .dataframe thead th {\n",
       "        text-align: right;\n",
       "    }\n",
       "</style>\n",
       "<table border=\"1\" class=\"dataframe\">\n",
       "  <thead>\n",
       "    <tr style=\"text-align: right;\">\n",
       "      <th></th>\n",
       "      <th>gercek_y</th>\n",
       "      <th>tahmin_y</th>\n",
       "    </tr>\n",
       "  </thead>\n",
       "  <tbody>\n",
       "    <tr>\n",
       "      <th>0</th>\n",
       "      <td>22.1</td>\n",
       "      <td>17.970775</td>\n",
       "    </tr>\n",
       "    <tr>\n",
       "      <th>1</th>\n",
       "      <td>10.4</td>\n",
       "      <td>9.147974</td>\n",
       "    </tr>\n",
       "    <tr>\n",
       "      <th>2</th>\n",
       "      <td>9.3</td>\n",
       "      <td>7.850224</td>\n",
       "    </tr>\n",
       "    <tr>\n",
       "      <th>3</th>\n",
       "      <td>18.5</td>\n",
       "      <td>14.234395</td>\n",
       "    </tr>\n",
       "    <tr>\n",
       "      <th>4</th>\n",
       "      <td>12.9</td>\n",
       "      <td>15.627218</td>\n",
       "    </tr>\n",
       "    <tr>\n",
       "      <th>5</th>\n",
       "      <td>7.2</td>\n",
       "      <td>7.446162</td>\n",
       "    </tr>\n",
       "    <tr>\n",
       "      <th>6</th>\n",
       "      <td>11.8</td>\n",
       "      <td>9.765950</td>\n",
       "    </tr>\n",
       "    <tr>\n",
       "      <th>7</th>\n",
       "      <td>13.2</td>\n",
       "      <td>12.746498</td>\n",
       "    </tr>\n",
       "    <tr>\n",
       "      <th>8</th>\n",
       "      <td>4.8</td>\n",
       "      <td>7.441409</td>\n",
       "    </tr>\n",
       "    <tr>\n",
       "      <th>9</th>\n",
       "      <td>10.6</td>\n",
       "      <td>16.530414</td>\n",
       "    </tr>\n",
       "  </tbody>\n",
       "</table>\n",
       "</div>"
      ],
      "text/plain": [
       "   gercek_y   tahmin_y\n",
       "0      22.1  17.970775\n",
       "1      10.4   9.147974\n",
       "2       9.3   7.850224\n",
       "3      18.5  14.234395\n",
       "4      12.9  15.627218\n",
       "5       7.2   7.446162\n",
       "6      11.8   9.765950\n",
       "7      13.2  12.746498\n",
       "8       4.8   7.441409\n",
       "9      10.6  16.530414"
      ]
     },
     "execution_count": 55,
     "metadata": {},
     "output_type": "execute_result"
    }
   ],
   "source": [
    "k_t"
   ]
  },
  {
   "cell_type": "code",
   "execution_count": 56,
   "id": "df7985db",
   "metadata": {
    "execution": {
     "iopub.execute_input": "2022-05-19T21:57:54.624392Z",
     "iopub.status.busy": "2022-05-19T21:57:54.623865Z",
     "iopub.status.idle": "2022-05-19T21:57:54.628626Z",
     "shell.execute_reply": "2022-05-19T21:57:54.628045Z"
    },
    "papermill": {
     "duration": 0.109359,
     "end_time": "2022-05-19T21:57:54.630437",
     "exception": false,
     "start_time": "2022-05-19T21:57:54.521078",
     "status": "completed"
    },
    "tags": []
   },
   "outputs": [],
   "source": [
    "k_t[\"hata\"] = k_t[\"gercek_y\"] - k_t[\"tahmin_y\"]"
   ]
  },
  {
   "cell_type": "code",
   "execution_count": 57,
   "id": "b6f0672b",
   "metadata": {
    "execution": {
     "iopub.execute_input": "2022-05-19T21:57:54.836712Z",
     "iopub.status.busy": "2022-05-19T21:57:54.836154Z",
     "iopub.status.idle": "2022-05-19T21:57:54.846645Z",
     "shell.execute_reply": "2022-05-19T21:57:54.845989Z"
    },
    "papermill": {
     "duration": 0.117678,
     "end_time": "2022-05-19T21:57:54.848681",
     "exception": false,
     "start_time": "2022-05-19T21:57:54.731003",
     "status": "completed"
    },
    "tags": []
   },
   "outputs": [
    {
     "data": {
      "text/html": [
       "<div>\n",
       "<style scoped>\n",
       "    .dataframe tbody tr th:only-of-type {\n",
       "        vertical-align: middle;\n",
       "    }\n",
       "\n",
       "    .dataframe tbody tr th {\n",
       "        vertical-align: top;\n",
       "    }\n",
       "\n",
       "    .dataframe thead th {\n",
       "        text-align: right;\n",
       "    }\n",
       "</style>\n",
       "<table border=\"1\" class=\"dataframe\">\n",
       "  <thead>\n",
       "    <tr style=\"text-align: right;\">\n",
       "      <th></th>\n",
       "      <th>gercek_y</th>\n",
       "      <th>tahmin_y</th>\n",
       "      <th>hata</th>\n",
       "    </tr>\n",
       "  </thead>\n",
       "  <tbody>\n",
       "    <tr>\n",
       "      <th>0</th>\n",
       "      <td>22.1</td>\n",
       "      <td>17.970775</td>\n",
       "      <td>4.129225</td>\n",
       "    </tr>\n",
       "    <tr>\n",
       "      <th>1</th>\n",
       "      <td>10.4</td>\n",
       "      <td>9.147974</td>\n",
       "      <td>1.252026</td>\n",
       "    </tr>\n",
       "    <tr>\n",
       "      <th>2</th>\n",
       "      <td>9.3</td>\n",
       "      <td>7.850224</td>\n",
       "      <td>1.449776</td>\n",
       "    </tr>\n",
       "    <tr>\n",
       "      <th>3</th>\n",
       "      <td>18.5</td>\n",
       "      <td>14.234395</td>\n",
       "      <td>4.265605</td>\n",
       "    </tr>\n",
       "    <tr>\n",
       "      <th>4</th>\n",
       "      <td>12.9</td>\n",
       "      <td>15.627218</td>\n",
       "      <td>-2.727218</td>\n",
       "    </tr>\n",
       "    <tr>\n",
       "      <th>5</th>\n",
       "      <td>7.2</td>\n",
       "      <td>7.446162</td>\n",
       "      <td>-0.246162</td>\n",
       "    </tr>\n",
       "    <tr>\n",
       "      <th>6</th>\n",
       "      <td>11.8</td>\n",
       "      <td>9.765950</td>\n",
       "      <td>2.034050</td>\n",
       "    </tr>\n",
       "    <tr>\n",
       "      <th>7</th>\n",
       "      <td>13.2</td>\n",
       "      <td>12.746498</td>\n",
       "      <td>0.453502</td>\n",
       "    </tr>\n",
       "    <tr>\n",
       "      <th>8</th>\n",
       "      <td>4.8</td>\n",
       "      <td>7.441409</td>\n",
       "      <td>-2.641409</td>\n",
       "    </tr>\n",
       "    <tr>\n",
       "      <th>9</th>\n",
       "      <td>10.6</td>\n",
       "      <td>16.530414</td>\n",
       "      <td>-5.930414</td>\n",
       "    </tr>\n",
       "  </tbody>\n",
       "</table>\n",
       "</div>"
      ],
      "text/plain": [
       "   gercek_y   tahmin_y      hata\n",
       "0      22.1  17.970775  4.129225\n",
       "1      10.4   9.147974  1.252026\n",
       "2       9.3   7.850224  1.449776\n",
       "3      18.5  14.234395  4.265605\n",
       "4      12.9  15.627218 -2.727218\n",
       "5       7.2   7.446162 -0.246162\n",
       "6      11.8   9.765950  2.034050\n",
       "7      13.2  12.746498  0.453502\n",
       "8       4.8   7.441409 -2.641409\n",
       "9      10.6  16.530414 -5.930414"
      ]
     },
     "execution_count": 57,
     "metadata": {},
     "output_type": "execute_result"
    }
   ],
   "source": [
    "k_t"
   ]
  },
  {
   "cell_type": "code",
   "execution_count": 58,
   "id": "6a207737",
   "metadata": {
    "execution": {
     "iopub.execute_input": "2022-05-19T21:57:55.057142Z",
     "iopub.status.busy": "2022-05-19T21:57:55.056591Z",
     "iopub.status.idle": "2022-05-19T21:57:55.061170Z",
     "shell.execute_reply": "2022-05-19T21:57:55.060560Z"
    },
    "papermill": {
     "duration": 0.112189,
     "end_time": "2022-05-19T21:57:55.063003",
     "exception": false,
     "start_time": "2022-05-19T21:57:54.950814",
     "status": "completed"
    },
    "tags": []
   },
   "outputs": [],
   "source": [
    "# Ortalama Olarak Ne Kadar Hata Yapmisiz Onu Hesaplicaz ( Hata Icerisinde Negatif ( - ) Deger Oldugu Icin Bunlari Yok Edicez Cunku Bunlar Uzaklik Belirtiyor Negatif Olamaz )\n",
    "\n",
    "k_t[\"hata_kare\"] = k_t[\"hata\"]**2"
   ]
  },
  {
   "cell_type": "code",
   "execution_count": 59,
   "id": "4c7d7208",
   "metadata": {
    "execution": {
     "iopub.execute_input": "2022-05-19T21:57:55.271010Z",
     "iopub.status.busy": "2022-05-19T21:57:55.270454Z",
     "iopub.status.idle": "2022-05-19T21:57:55.281071Z",
     "shell.execute_reply": "2022-05-19T21:57:55.280419Z"
    },
    "papermill": {
     "duration": 0.116997,
     "end_time": "2022-05-19T21:57:55.283015",
     "exception": false,
     "start_time": "2022-05-19T21:57:55.166018",
     "status": "completed"
    },
    "tags": []
   },
   "outputs": [
    {
     "data": {
      "text/html": [
       "<div>\n",
       "<style scoped>\n",
       "    .dataframe tbody tr th:only-of-type {\n",
       "        vertical-align: middle;\n",
       "    }\n",
       "\n",
       "    .dataframe tbody tr th {\n",
       "        vertical-align: top;\n",
       "    }\n",
       "\n",
       "    .dataframe thead th {\n",
       "        text-align: right;\n",
       "    }\n",
       "</style>\n",
       "<table border=\"1\" class=\"dataframe\">\n",
       "  <thead>\n",
       "    <tr style=\"text-align: right;\">\n",
       "      <th></th>\n",
       "      <th>gercek_y</th>\n",
       "      <th>tahmin_y</th>\n",
       "      <th>hata</th>\n",
       "      <th>hata_kare</th>\n",
       "    </tr>\n",
       "  </thead>\n",
       "  <tbody>\n",
       "    <tr>\n",
       "      <th>0</th>\n",
       "      <td>22.1</td>\n",
       "      <td>17.970775</td>\n",
       "      <td>4.129225</td>\n",
       "      <td>17.050503</td>\n",
       "    </tr>\n",
       "    <tr>\n",
       "      <th>1</th>\n",
       "      <td>10.4</td>\n",
       "      <td>9.147974</td>\n",
       "      <td>1.252026</td>\n",
       "      <td>1.567569</td>\n",
       "    </tr>\n",
       "    <tr>\n",
       "      <th>2</th>\n",
       "      <td>9.3</td>\n",
       "      <td>7.850224</td>\n",
       "      <td>1.449776</td>\n",
       "      <td>2.101851</td>\n",
       "    </tr>\n",
       "    <tr>\n",
       "      <th>3</th>\n",
       "      <td>18.5</td>\n",
       "      <td>14.234395</td>\n",
       "      <td>4.265605</td>\n",
       "      <td>18.195390</td>\n",
       "    </tr>\n",
       "    <tr>\n",
       "      <th>4</th>\n",
       "      <td>12.9</td>\n",
       "      <td>15.627218</td>\n",
       "      <td>-2.727218</td>\n",
       "      <td>7.437719</td>\n",
       "    </tr>\n",
       "    <tr>\n",
       "      <th>5</th>\n",
       "      <td>7.2</td>\n",
       "      <td>7.446162</td>\n",
       "      <td>-0.246162</td>\n",
       "      <td>0.060596</td>\n",
       "    </tr>\n",
       "    <tr>\n",
       "      <th>6</th>\n",
       "      <td>11.8</td>\n",
       "      <td>9.765950</td>\n",
       "      <td>2.034050</td>\n",
       "      <td>4.137358</td>\n",
       "    </tr>\n",
       "    <tr>\n",
       "      <th>7</th>\n",
       "      <td>13.2</td>\n",
       "      <td>12.746498</td>\n",
       "      <td>0.453502</td>\n",
       "      <td>0.205664</td>\n",
       "    </tr>\n",
       "    <tr>\n",
       "      <th>8</th>\n",
       "      <td>4.8</td>\n",
       "      <td>7.441409</td>\n",
       "      <td>-2.641409</td>\n",
       "      <td>6.977040</td>\n",
       "    </tr>\n",
       "    <tr>\n",
       "      <th>9</th>\n",
       "      <td>10.6</td>\n",
       "      <td>16.530414</td>\n",
       "      <td>-5.930414</td>\n",
       "      <td>35.169814</td>\n",
       "    </tr>\n",
       "  </tbody>\n",
       "</table>\n",
       "</div>"
      ],
      "text/plain": [
       "   gercek_y   tahmin_y      hata  hata_kare\n",
       "0      22.1  17.970775  4.129225  17.050503\n",
       "1      10.4   9.147974  1.252026   1.567569\n",
       "2       9.3   7.850224  1.449776   2.101851\n",
       "3      18.5  14.234395  4.265605  18.195390\n",
       "4      12.9  15.627218 -2.727218   7.437719\n",
       "5       7.2   7.446162 -0.246162   0.060596\n",
       "6      11.8   9.765950  2.034050   4.137358\n",
       "7      13.2  12.746498  0.453502   0.205664\n",
       "8       4.8   7.441409 -2.641409   6.977040\n",
       "9      10.6  16.530414 -5.930414  35.169814"
      ]
     },
     "execution_count": 59,
     "metadata": {},
     "output_type": "execute_result"
    }
   ],
   "source": [
    "k_t"
   ]
  },
  {
   "cell_type": "code",
   "execution_count": 60,
   "id": "511888a8",
   "metadata": {
    "execution": {
     "iopub.execute_input": "2022-05-19T21:57:55.492482Z",
     "iopub.status.busy": "2022-05-19T21:57:55.491870Z",
     "iopub.status.idle": "2022-05-19T21:57:55.497428Z",
     "shell.execute_reply": "2022-05-19T21:57:55.496878Z"
    },
    "papermill": {
     "duration": 0.109855,
     "end_time": "2022-05-19T21:57:55.499216",
     "exception": false,
     "start_time": "2022-05-19T21:57:55.389361",
     "status": "completed"
    },
    "tags": []
   },
   "outputs": [
    {
     "data": {
      "text/plain": [
       "92.90350329638102"
      ]
     },
     "execution_count": 60,
     "metadata": {},
     "output_type": "execute_result"
    }
   ],
   "source": [
    "np.sum(k_t[\"hata_kare\"]) # Toplam Hata"
   ]
  },
  {
   "cell_type": "code",
   "execution_count": 61,
   "id": "beb351ef",
   "metadata": {
    "execution": {
     "iopub.execute_input": "2022-05-19T21:57:55.705909Z",
     "iopub.status.busy": "2022-05-19T21:57:55.705402Z",
     "iopub.status.idle": "2022-05-19T21:57:55.710502Z",
     "shell.execute_reply": "2022-05-19T21:57:55.709919Z"
    },
    "papermill": {
     "duration": 0.109777,
     "end_time": "2022-05-19T21:57:55.712344",
     "exception": false,
     "start_time": "2022-05-19T21:57:55.602567",
     "status": "completed"
    },
    "tags": []
   },
   "outputs": [
    {
     "data": {
      "text/plain": [
       "9.290350329638102"
      ]
     },
     "execution_count": 61,
     "metadata": {},
     "output_type": "execute_result"
    }
   ],
   "source": [
    "np.mean(k_t[\"hata_kare\"]) # Hata Kareler Ortalamasina Ulasmak Istersek"
   ]
  },
  {
   "cell_type": "code",
   "execution_count": 62,
   "id": "452c230b",
   "metadata": {
    "execution": {
     "iopub.execute_input": "2022-05-19T21:57:55.919754Z",
     "iopub.status.busy": "2022-05-19T21:57:55.919197Z",
     "iopub.status.idle": "2022-05-19T21:57:55.924708Z",
     "shell.execute_reply": "2022-05-19T21:57:55.924147Z"
    },
    "papermill": {
     "duration": 0.111433,
     "end_time": "2022-05-19T21:57:55.926650",
     "exception": false,
     "start_time": "2022-05-19T21:57:55.815217",
     "status": "completed"
    },
    "tags": []
   },
   "outputs": [
    {
     "data": {
      "text/plain": [
       "3.048007599996775"
      ]
     },
     "execution_count": 62,
     "metadata": {},
     "output_type": "execute_result"
    }
   ],
   "source": [
    "# Yukaridaki Ifadenin Kare Kokunu Alirsak\n",
    "\n",
    "np.sqrt(np.mean(k_t[\"hata_kare\"]))"
   ]
  },
  {
   "cell_type": "code",
   "execution_count": 63,
   "id": "debd1c4f",
   "metadata": {
    "execution": {
     "iopub.execute_input": "2022-05-19T21:57:56.135849Z",
     "iopub.status.busy": "2022-05-19T21:57:56.135190Z",
     "iopub.status.idle": "2022-05-19T21:57:56.142150Z",
     "shell.execute_reply": "2022-05-19T21:57:56.141499Z"
    },
    "papermill": {
     "duration": 0.113204,
     "end_time": "2022-05-19T21:57:56.144035",
     "exception": false,
     "start_time": "2022-05-19T21:57:56.030831",
     "status": "completed"
    },
    "tags": []
   },
   "outputs": [
    {
     "data": {
      "text/plain": [
       "0    4.129225\n",
       "1    1.252026\n",
       "2    1.449776\n",
       "3    4.265605\n",
       "4   -2.727218\n",
       "5   -0.246162\n",
       "6    2.034050\n",
       "7    0.453502\n",
       "8   -2.641409\n",
       "9   -5.930414\n",
       "dtype: float64"
      ]
     },
     "execution_count": 63,
     "metadata": {},
     "output_type": "execute_result"
    }
   ],
   "source": [
    "model.resid[0:10] # Modelin Artiklarini Ifade Eder"
   ]
  },
  {
   "cell_type": "code",
   "execution_count": 64,
   "id": "69be5af8",
   "metadata": {
    "execution": {
     "iopub.execute_input": "2022-05-19T21:57:56.354208Z",
     "iopub.status.busy": "2022-05-19T21:57:56.353941Z",
     "iopub.status.idle": "2022-05-19T21:57:56.553979Z",
     "shell.execute_reply": "2022-05-19T21:57:56.552876Z"
    },
    "papermill": {
     "duration": 0.309607,
     "end_time": "2022-05-19T21:57:56.556281",
     "exception": false,
     "start_time": "2022-05-19T21:57:56.246674",
     "status": "completed"
    },
    "tags": []
   },
   "outputs": [
    {
     "data": {
      "image/png": "[encoded data removed]",
      "text/plain": [
       "<Figure size 432x288 with 1 Axes>"
      ]
     },
     "metadata": {
      "needs_background": "light"
     },
     "output_type": "display_data"
    }
   ],
   "source": [
    "plt.plot(model.resid); # Artiklarin Gorsellestirilmesi"
   ]
  },
  {
   "cell_type": "markdown",
   "id": "3bdbbf5f",
   "metadata": {
    "papermill": {
     "duration": 0.105011,
     "end_time": "2022-05-19T21:57:56.772323",
     "exception": false,
     "start_time": "2022-05-19T21:57:56.667312",
     "status": "completed"
    },
    "tags": []
   },
   "source": [
    "# Çoklu Doğrusal Regresyon"
   ]
  },
  {
   "cell_type": "markdown",
   "id": "a7ff0719",
   "metadata": {
    "papermill": {
     "duration": 0.10539,
     "end_time": "2022-05-19T21:57:56.981189",
     "exception": false,
     "start_time": "2022-05-19T21:57:56.875799",
     "status": "completed"
    },
    "tags": []
   },
   "source": [
    "#### Temel Amac, Bagimli Ve Bagimsiz Degiskenler Arasindaki Iliskiyi Ifade Eden Dogrusal Fonksiyonu Bulmaktir.\n",
    "\n",
    "\n",
    "* Hatalar Normal Dagilir.\n",
    "* Hatalar Birbirinden Bagimsizdir Ve Aralarinda Otokorelasyon Yoktur.\n",
    "* Her Bir Gozlem Icin Hata Terimleri Varyanslari Sabittir.\n",
    "* Degiskenler Ile Hata Terimi Arasinda Iliski Yoktur.\n",
    "* Bagimsiz Degiskenler Arasinda Coklu Dogrusal Iliski Problemi Yoktur"
   ]
  },
  {
   "cell_type": "code",
   "execution_count": 65,
   "id": "d86981b8",
   "metadata": {
    "execution": {
     "iopub.execute_input": "2022-05-19T21:57:57.194054Z",
     "iopub.status.busy": "2022-05-19T21:57:57.193458Z",
     "iopub.status.idle": "2022-05-19T21:57:57.210203Z",
     "shell.execute_reply": "2022-05-19T21:57:57.209355Z"
    },
    "papermill": {
     "duration": 0.124532,
     "end_time": "2022-05-19T21:57:57.212358",
     "exception": false,
     "start_time": "2022-05-19T21:57:57.087826",
     "status": "completed"
    },
    "tags": []
   },
   "outputs": [
    {
     "data": {
      "text/html": [
       "<div>\n",
       "<style scoped>\n",
       "    .dataframe tbody tr th:only-of-type {\n",
       "        vertical-align: middle;\n",
       "    }\n",
       "\n",
       "    .dataframe tbody tr th {\n",
       "        vertical-align: top;\n",
       "    }\n",
       "\n",
       "    .dataframe thead th {\n",
       "        text-align: right;\n",
       "    }\n",
       "</style>\n",
       "<table border=\"1\" class=\"dataframe\">\n",
       "  <thead>\n",
       "    <tr style=\"text-align: right;\">\n",
       "      <th></th>\n",
       "      <th>TV</th>\n",
       "      <th>Radio</th>\n",
       "      <th>Newspaper</th>\n",
       "      <th>Sales</th>\n",
       "    </tr>\n",
       "  </thead>\n",
       "  <tbody>\n",
       "    <tr>\n",
       "      <th>0</th>\n",
       "      <td>230.1</td>\n",
       "      <td>37.8</td>\n",
       "      <td>69.2</td>\n",
       "      <td>22.1</td>\n",
       "    </tr>\n",
       "    <tr>\n",
       "      <th>1</th>\n",
       "      <td>44.5</td>\n",
       "      <td>39.3</td>\n",
       "      <td>45.1</td>\n",
       "      <td>10.4</td>\n",
       "    </tr>\n",
       "    <tr>\n",
       "      <th>2</th>\n",
       "      <td>17.2</td>\n",
       "      <td>45.9</td>\n",
       "      <td>69.3</td>\n",
       "      <td>9.3</td>\n",
       "    </tr>\n",
       "    <tr>\n",
       "      <th>3</th>\n",
       "      <td>151.5</td>\n",
       "      <td>41.3</td>\n",
       "      <td>58.5</td>\n",
       "      <td>18.5</td>\n",
       "    </tr>\n",
       "    <tr>\n",
       "      <th>4</th>\n",
       "      <td>180.8</td>\n",
       "      <td>10.8</td>\n",
       "      <td>58.4</td>\n",
       "      <td>12.9</td>\n",
       "    </tr>\n",
       "  </tbody>\n",
       "</table>\n",
       "</div>"
      ],
      "text/plain": [
       "      TV  Radio  Newspaper  Sales\n",
       "0  230.1   37.8       69.2   22.1\n",
       "1   44.5   39.3       45.1   10.4\n",
       "2   17.2   45.9       69.3    9.3\n",
       "3  151.5   41.3       58.5   18.5\n",
       "4  180.8   10.8       58.4   12.9"
      ]
     },
     "execution_count": 65,
     "metadata": {},
     "output_type": "execute_result"
    }
   ],
   "source": [
    "import pandas as pd\n",
    "ad = pd.read_csv(\"../input/advertisingcsv/Advertising.csv\", usecols = [1,2,3,4])\n",
    "df = ad.copy()\n",
    "df.head()"
   ]
  },
  {
   "cell_type": "markdown",
   "id": "fdb49db9",
   "metadata": {
    "papermill": {
     "duration": 0.110403,
     "end_time": "2022-05-19T21:57:57.440468",
     "exception": false,
     "start_time": "2022-05-19T21:57:57.330065",
     "status": "completed"
    },
    "tags": []
   },
   "source": [
    "### Burada - Ayirma - Islemlerini Yapmaya Basliyoruz"
   ]
  },
  {
   "cell_type": "code",
   "execution_count": 66,
   "id": "a9933076",
   "metadata": {
    "execution": {
     "iopub.execute_input": "2022-05-19T21:57:57.649320Z",
     "iopub.status.busy": "2022-05-19T21:57:57.649044Z",
     "iopub.status.idle": "2022-05-19T21:57:57.654500Z",
     "shell.execute_reply": "2022-05-19T21:57:57.653432Z"
    },
    "papermill": {
     "duration": 0.112153,
     "end_time": "2022-05-19T21:57:57.656459",
     "exception": false,
     "start_time": "2022-05-19T21:57:57.544306",
     "status": "completed"
    },
    "tags": []
   },
   "outputs": [],
   "source": [
    "X = df.drop(\"Sales\", axis = 1) # Sales Degiskenini Disarida Birakip Tum Bagimsiz Degiskenleri Secme Islemi Yaptik\n",
    "\n",
    "y = df[\"Sales\"]"
   ]
  },
  {
   "cell_type": "code",
   "execution_count": 67,
   "id": "a8528082",
   "metadata": {
    "execution": {
     "iopub.execute_input": "2022-05-19T21:57:57.867034Z",
     "iopub.status.busy": "2022-05-19T21:57:57.866744Z",
     "iopub.status.idle": "2022-05-19T21:57:57.877365Z",
     "shell.execute_reply": "2022-05-19T21:57:57.876820Z"
    },
    "papermill": {
     "duration": 0.118363,
     "end_time": "2022-05-19T21:57:57.879143",
     "exception": false,
     "start_time": "2022-05-19T21:57:57.760780",
     "status": "completed"
    },
    "tags": []
   },
   "outputs": [
    {
     "data": {
      "text/html": [
       "<div>\n",
       "<style scoped>\n",
       "    .dataframe tbody tr th:only-of-type {\n",
       "        vertical-align: middle;\n",
       "    }\n",
       "\n",
       "    .dataframe tbody tr th {\n",
       "        vertical-align: top;\n",
       "    }\n",
       "\n",
       "    .dataframe thead th {\n",
       "        text-align: right;\n",
       "    }\n",
       "</style>\n",
       "<table border=\"1\" class=\"dataframe\">\n",
       "  <thead>\n",
       "    <tr style=\"text-align: right;\">\n",
       "      <th></th>\n",
       "      <th>TV</th>\n",
       "      <th>Radio</th>\n",
       "      <th>Newspaper</th>\n",
       "    </tr>\n",
       "  </thead>\n",
       "  <tbody>\n",
       "    <tr>\n",
       "      <th>0</th>\n",
       "      <td>230.1</td>\n",
       "      <td>37.8</td>\n",
       "      <td>69.2</td>\n",
       "    </tr>\n",
       "    <tr>\n",
       "      <th>1</th>\n",
       "      <td>44.5</td>\n",
       "      <td>39.3</td>\n",
       "      <td>45.1</td>\n",
       "    </tr>\n",
       "    <tr>\n",
       "      <th>2</th>\n",
       "      <td>17.2</td>\n",
       "      <td>45.9</td>\n",
       "      <td>69.3</td>\n",
       "    </tr>\n",
       "    <tr>\n",
       "      <th>3</th>\n",
       "      <td>151.5</td>\n",
       "      <td>41.3</td>\n",
       "      <td>58.5</td>\n",
       "    </tr>\n",
       "    <tr>\n",
       "      <th>4</th>\n",
       "      <td>180.8</td>\n",
       "      <td>10.8</td>\n",
       "      <td>58.4</td>\n",
       "    </tr>\n",
       "    <tr>\n",
       "      <th>5</th>\n",
       "      <td>8.7</td>\n",
       "      <td>48.9</td>\n",
       "      <td>75.0</td>\n",
       "    </tr>\n",
       "    <tr>\n",
       "      <th>6</th>\n",
       "      <td>57.5</td>\n",
       "      <td>32.8</td>\n",
       "      <td>23.5</td>\n",
       "    </tr>\n",
       "    <tr>\n",
       "      <th>7</th>\n",
       "      <td>120.2</td>\n",
       "      <td>19.6</td>\n",
       "      <td>11.6</td>\n",
       "    </tr>\n",
       "    <tr>\n",
       "      <th>8</th>\n",
       "      <td>8.6</td>\n",
       "      <td>2.1</td>\n",
       "      <td>1.0</td>\n",
       "    </tr>\n",
       "    <tr>\n",
       "      <th>9</th>\n",
       "      <td>199.8</td>\n",
       "      <td>2.6</td>\n",
       "      <td>21.2</td>\n",
       "    </tr>\n",
       "  </tbody>\n",
       "</table>\n",
       "</div>"
      ],
      "text/plain": [
       "      TV  Radio  Newspaper\n",
       "0  230.1   37.8       69.2\n",
       "1   44.5   39.3       45.1\n",
       "2   17.2   45.9       69.3\n",
       "3  151.5   41.3       58.5\n",
       "4  180.8   10.8       58.4\n",
       "5    8.7   48.9       75.0\n",
       "6   57.5   32.8       23.5\n",
       "7  120.2   19.6       11.6\n",
       "8    8.6    2.1        1.0\n",
       "9  199.8    2.6       21.2"
      ]
     },
     "execution_count": 67,
     "metadata": {},
     "output_type": "execute_result"
    }
   ],
   "source": [
    "X[0:10] # X'e Neyi Atadigimizi Gormek Icin Yazdim"
   ]
  },
  {
   "cell_type": "code",
   "execution_count": 68,
   "id": "adfab503",
   "metadata": {
    "execution": {
     "iopub.execute_input": "2022-05-19T21:57:58.090797Z",
     "iopub.status.busy": "2022-05-19T21:57:58.089978Z",
     "iopub.status.idle": "2022-05-19T21:57:58.096648Z",
     "shell.execute_reply": "2022-05-19T21:57:58.095865Z"
    },
    "papermill": {
     "duration": 0.11571,
     "end_time": "2022-05-19T21:57:58.098442",
     "exception": false,
     "start_time": "2022-05-19T21:57:57.982732",
     "status": "completed"
    },
    "tags": []
   },
   "outputs": [
    {
     "data": {
      "text/plain": [
       "0    22.1\n",
       "1    10.4\n",
       "2     9.3\n",
       "3    18.5\n",
       "4    12.9\n",
       "5     7.2\n",
       "6    11.8\n",
       "7    13.2\n",
       "8     4.8\n",
       "9    10.6\n",
       "Name: Sales, dtype: float64"
      ]
     },
     "execution_count": 68,
     "metadata": {},
     "output_type": "execute_result"
    }
   ],
   "source": [
    "y[0:10] # y'e Neyi Atadigimizi Gormek Icin Yazdim"
   ]
  },
  {
   "cell_type": "code",
   "execution_count": 69,
   "id": "24bb5c86",
   "metadata": {
    "execution": {
     "iopub.execute_input": "2022-05-19T21:57:58.314810Z",
     "iopub.status.busy": "2022-05-19T21:57:58.314537Z",
     "iopub.status.idle": "2022-05-19T21:57:58.318340Z",
     "shell.execute_reply": "2022-05-19T21:57:58.317501Z"
    },
    "papermill": {
     "duration": 0.113039,
     "end_time": "2022-05-19T21:57:58.320300",
     "exception": false,
     "start_time": "2022-05-19T21:57:58.207261",
     "status": "completed"
    },
    "tags": []
   },
   "outputs": [],
   "source": [
    "from sklearn.model_selection import train_test_split, cross_val_score, cross_val_predict"
   ]
  },
  {
   "cell_type": "code",
   "execution_count": 70,
   "id": "ddad5597",
   "metadata": {
    "execution": {
     "iopub.execute_input": "2022-05-19T21:57:58.535629Z",
     "iopub.status.busy": "2022-05-19T21:57:58.535386Z",
     "iopub.status.idle": "2022-05-19T21:57:58.541404Z",
     "shell.execute_reply": "2022-05-19T21:57:58.540765Z"
    },
    "papermill": {
     "duration": 0.115732,
     "end_time": "2022-05-19T21:57:58.543296",
     "exception": false,
     "start_time": "2022-05-19T21:57:58.427564",
     "status": "completed"
    },
    "tags": []
   },
   "outputs": [],
   "source": [
    "X_train, X_test, y_train, y_test = train_test_split(X, y, test_size = 0.20, random_state= 42)"
   ]
  },
  {
   "cell_type": "code",
   "execution_count": 71,
   "id": "25d09bd7",
   "metadata": {
    "execution": {
     "iopub.execute_input": "2022-05-19T21:57:58.759315Z",
     "iopub.status.busy": "2022-05-19T21:57:58.758744Z",
     "iopub.status.idle": "2022-05-19T21:57:58.764566Z",
     "shell.execute_reply": "2022-05-19T21:57:58.763926Z"
    },
    "papermill": {
     "duration": 0.118256,
     "end_time": "2022-05-19T21:57:58.766373",
     "exception": false,
     "start_time": "2022-05-19T21:57:58.648117",
     "status": "completed"
    },
    "tags": []
   },
   "outputs": [
    {
     "data": {
      "text/plain": [
       "(160, 3)"
      ]
     },
     "execution_count": 71,
     "metadata": {},
     "output_type": "execute_result"
    }
   ],
   "source": [
    "X_train.shape"
   ]
  },
  {
   "cell_type": "code",
   "execution_count": 72,
   "id": "f818e884",
   "metadata": {
    "execution": {
     "iopub.execute_input": "2022-05-19T21:57:58.983057Z",
     "iopub.status.busy": "2022-05-19T21:57:58.982403Z",
     "iopub.status.idle": "2022-05-19T21:57:58.988195Z",
     "shell.execute_reply": "2022-05-19T21:57:58.987493Z"
    },
    "papermill": {
     "duration": 0.115411,
     "end_time": "2022-05-19T21:57:58.990024",
     "exception": false,
     "start_time": "2022-05-19T21:57:58.874613",
     "status": "completed"
    },
    "tags": []
   },
   "outputs": [
    {
     "data": {
      "text/plain": [
       "(160,)"
      ]
     },
     "execution_count": 72,
     "metadata": {},
     "output_type": "execute_result"
    }
   ],
   "source": [
    "y_train.shape"
   ]
  },
  {
   "cell_type": "code",
   "execution_count": 73,
   "id": "4ce0aedf",
   "metadata": {
    "execution": {
     "iopub.execute_input": "2022-05-19T21:57:59.209368Z",
     "iopub.status.busy": "2022-05-19T21:57:59.208811Z",
     "iopub.status.idle": "2022-05-19T21:57:59.214296Z",
     "shell.execute_reply": "2022-05-19T21:57:59.213693Z"
    },
    "papermill": {
     "duration": 0.117359,
     "end_time": "2022-05-19T21:57:59.216088",
     "exception": false,
     "start_time": "2022-05-19T21:57:59.098729",
     "status": "completed"
    },
    "tags": []
   },
   "outputs": [
    {
     "data": {
      "text/plain": [
       "(40, 3)"
      ]
     },
     "execution_count": 73,
     "metadata": {},
     "output_type": "execute_result"
    }
   ],
   "source": [
    "X_test.shape"
   ]
  },
  {
   "cell_type": "code",
   "execution_count": 74,
   "id": "fba0e665",
   "metadata": {
    "execution": {
     "iopub.execute_input": "2022-05-19T21:57:59.441870Z",
     "iopub.status.busy": "2022-05-19T21:57:59.441314Z",
     "iopub.status.idle": "2022-05-19T21:57:59.446860Z",
     "shell.execute_reply": "2022-05-19T21:57:59.446202Z"
    },
    "papermill": {
     "duration": 0.122932,
     "end_time": "2022-05-19T21:57:59.448749",
     "exception": false,
     "start_time": "2022-05-19T21:57:59.325817",
     "status": "completed"
    },
    "tags": []
   },
   "outputs": [
    {
     "data": {
      "text/plain": [
       "(40,)"
      ]
     },
     "execution_count": 74,
     "metadata": {},
     "output_type": "execute_result"
    }
   ],
   "source": [
    "y_test.shape"
   ]
  },
  {
   "cell_type": "code",
   "execution_count": 75,
   "id": "3341e72f",
   "metadata": {
    "execution": {
     "iopub.execute_input": "2022-05-19T21:57:59.673543Z",
     "iopub.status.busy": "2022-05-19T21:57:59.673027Z",
     "iopub.status.idle": "2022-05-19T21:57:59.677402Z",
     "shell.execute_reply": "2022-05-19T21:57:59.676527Z"
    },
    "papermill": {
     "duration": 0.119005,
     "end_time": "2022-05-19T21:57:59.679444",
     "exception": false,
     "start_time": "2022-05-19T21:57:59.560439",
     "status": "completed"
    },
    "tags": []
   },
   "outputs": [],
   "source": [
    "training = df.copy() # Veri Setimizin Tumunu Buraya Kopyaladik"
   ]
  },
  {
   "cell_type": "code",
   "execution_count": 76,
   "id": "0b6c9fb4",
   "metadata": {
    "execution": {
     "iopub.execute_input": "2022-05-19T21:57:59.898239Z",
     "iopub.status.busy": "2022-05-19T21:57:59.897968Z",
     "iopub.status.idle": "2022-05-19T21:57:59.903560Z",
     "shell.execute_reply": "2022-05-19T21:57:59.902741Z"
    },
    "papermill": {
     "duration": 0.119607,
     "end_time": "2022-05-19T21:57:59.905529",
     "exception": false,
     "start_time": "2022-05-19T21:57:59.785922",
     "status": "completed"
    },
    "tags": []
   },
   "outputs": [
    {
     "data": {
      "text/plain": [
       "(200, 4)"
      ]
     },
     "execution_count": 76,
     "metadata": {},
     "output_type": "execute_result"
    }
   ],
   "source": [
    "training.shape # Veri Setimizin Ilk Hali"
   ]
  },
  {
   "cell_type": "markdown",
   "id": "dd16618e",
   "metadata": {
    "papermill": {
     "duration": 0.106138,
     "end_time": "2022-05-19T21:58:00.124010",
     "exception": false,
     "start_time": "2022-05-19T21:58:00.017872",
     "status": "completed"
    },
    "tags": []
   },
   "source": [
    "## Statsmodels ( Yorumlama Icin Kullanilir )\n",
    "\n",
    "* Eger Yorumlama Ihtiyaclarimiz ( Beklentilerimiz ) Varsa \"Statsmodels\" Kutuphanesini Kullanmamiz Lazim"
   ]
  },
  {
   "cell_type": "code",
   "execution_count": 77,
   "id": "6ec3063c",
   "metadata": {
    "execution": {
     "iopub.execute_input": "2022-05-19T21:58:00.339678Z",
     "iopub.status.busy": "2022-05-19T21:58:00.338817Z",
     "iopub.status.idle": "2022-05-19T21:58:00.343511Z",
     "shell.execute_reply": "2022-05-19T21:58:00.342946Z"
    },
    "papermill": {
     "duration": 0.114359,
     "end_time": "2022-05-19T21:58:00.345414",
     "exception": false,
     "start_time": "2022-05-19T21:58:00.231055",
     "status": "completed"
    },
    "tags": []
   },
   "outputs": [],
   "source": [
    "lm = sm.OLS(y_train, X_train)"
   ]
  },
  {
   "cell_type": "code",
   "execution_count": 78,
   "id": "2186b56a",
   "metadata": {
    "execution": {
     "iopub.execute_input": "2022-05-19T21:58:00.560774Z",
     "iopub.status.busy": "2022-05-19T21:58:00.560221Z",
     "iopub.status.idle": "2022-05-19T21:58:00.564628Z",
     "shell.execute_reply": "2022-05-19T21:58:00.563567Z"
    },
    "papermill": {
     "duration": 0.11465,
     "end_time": "2022-05-19T21:58:00.566672",
     "exception": false,
     "start_time": "2022-05-19T21:58:00.452022",
     "status": "completed"
    },
    "tags": []
   },
   "outputs": [],
   "source": [
    "model = lm.fit()"
   ]
  },
  {
   "cell_type": "code",
   "execution_count": 79,
   "id": "f6330b27",
   "metadata": {
    "execution": {
     "iopub.execute_input": "2022-05-19T21:58:00.781028Z",
     "iopub.status.busy": "2022-05-19T21:58:00.780521Z",
     "iopub.status.idle": "2022-05-19T21:58:00.794447Z",
     "shell.execute_reply": "2022-05-19T21:58:00.793881Z"
    },
    "papermill": {
     "duration": 0.122716,
     "end_time": "2022-05-19T21:58:00.796122",
     "exception": false,
     "start_time": "2022-05-19T21:58:00.673406",
     "status": "completed"
    },
    "tags": []
   },
   "outputs": [
    {
     "data": {
      "text/html": [
       "<table class=\"simpletable\">\n",
       "<caption>OLS Regression Results</caption>\n",
       "<tr>\n",
       "  <th>Dep. Variable:</th>          <td>Sales</td>      <th>  R-squared (uncentered):</th>      <td>   0.982</td> \n",
       "</tr>\n",
       "<tr>\n",
       "  <th>Model:</th>                   <td>OLS</td>       <th>  Adj. R-squared (uncentered):</th> <td>   0.982</td> \n",
       "</tr>\n",
       "<tr>\n",
       "  <th>Method:</th>             <td>Least Squares</td>  <th>  F-statistic:       </th>          <td>   2935.</td> \n",
       "</tr>\n",
       "<tr>\n",
       "  <th>Date:</th>             <td>Thu, 19 May 2022</td> <th>  Prob (F-statistic):</th>          <td>1.28e-137</td>\n",
       "</tr>\n",
       "<tr>\n",
       "  <th>Time:</th>                 <td>21:58:00</td>     <th>  Log-Likelihood:    </th>          <td> -336.65</td> \n",
       "</tr>\n",
       "<tr>\n",
       "  <th>No. Observations:</th>      <td>   160</td>      <th>  AIC:               </th>          <td>   679.3</td> \n",
       "</tr>\n",
       "<tr>\n",
       "  <th>Df Residuals:</th>          <td>   157</td>      <th>  BIC:               </th>          <td>   688.5</td> \n",
       "</tr>\n",
       "<tr>\n",
       "  <th>Df Model:</th>              <td>     3</td>      <th>                     </th>              <td> </td>    \n",
       "</tr>\n",
       "<tr>\n",
       "  <th>Covariance Type:</th>      <td>nonrobust</td>    <th>                     </th>              <td> </td>    \n",
       "</tr>\n",
       "</table>\n",
       "<table class=\"simpletable\">\n",
       "<tr>\n",
       "      <td></td>         <th>coef</th>     <th>std err</th>      <th>t</th>      <th>P>|t|</th>  <th>[0.025</th>    <th>0.975]</th>  \n",
       "</tr>\n",
       "<tr>\n",
       "  <th>TV</th>        <td>    0.0531</td> <td>    0.001</td> <td>   36.467</td> <td> 0.000</td> <td>    0.050</td> <td>    0.056</td>\n",
       "</tr>\n",
       "<tr>\n",
       "  <th>Radio</th>     <td>    0.2188</td> <td>    0.011</td> <td>   20.138</td> <td> 0.000</td> <td>    0.197</td> <td>    0.240</td>\n",
       "</tr>\n",
       "<tr>\n",
       "  <th>Newspaper</th> <td>    0.0239</td> <td>    0.008</td> <td>    3.011</td> <td> 0.003</td> <td>    0.008</td> <td>    0.040</td>\n",
       "</tr>\n",
       "</table>\n",
       "<table class=\"simpletable\">\n",
       "<tr>\n",
       "  <th>Omnibus:</th>       <td>11.405</td> <th>  Durbin-Watson:     </th> <td>   1.895</td>\n",
       "</tr>\n",
       "<tr>\n",
       "  <th>Prob(Omnibus):</th> <td> 0.003</td> <th>  Jarque-Bera (JB):  </th> <td>  15.574</td>\n",
       "</tr>\n",
       "<tr>\n",
       "  <th>Skew:</th>          <td>-0.432</td> <th>  Prob(JB):          </th> <td>0.000415</td>\n",
       "</tr>\n",
       "<tr>\n",
       "  <th>Kurtosis:</th>      <td> 4.261</td> <th>  Cond. No.          </th> <td>    13.5</td>\n",
       "</tr>\n",
       "</table><br/><br/>Notes:<br/>[1] R² is computed without centering (uncentered) since the model does not contain a constant.<br/>[2] Standard Errors assume that the covariance matrix of the errors is correctly specified."
      ],
      "text/plain": [
       "<class 'statsmodels.iolib.summary.Summary'>\n",
       "\"\"\"\n",
       "                                 OLS Regression Results                                \n",
       "=======================================================================================\n",
       "Dep. Variable:                  Sales   R-squared (uncentered):                   0.982\n",
       "Model:                            OLS   Adj. R-squared (uncentered):              0.982\n",
       "Method:                 Least Squares   F-statistic:                              2935.\n",
       "Date:                Thu, 19 May 2022   Prob (F-statistic):                   1.28e-137\n",
       "Time:                        21:58:00   Log-Likelihood:                         -336.65\n",
       "No. Observations:                 160   AIC:                                      679.3\n",
       "Df Residuals:                     157   BIC:                                      688.5\n",
       "Df Model:                           3                                                  \n",
       "Covariance Type:            nonrobust                                                  \n",
       "==============================================================================\n",
       "                 coef    std err          t      P>|t|      [0.025      0.975]\n",
       "------------------------------------------------------------------------------\n",
       "TV             0.0531      0.001     36.467      0.000       0.050       0.056\n",
       "Radio          0.2188      0.011     20.138      0.000       0.197       0.240\n",
       "Newspaper      0.0239      0.008      3.011      0.003       0.008       0.040\n",
       "==============================================================================\n",
       "Omnibus:                       11.405   Durbin-Watson:                   1.895\n",
       "Prob(Omnibus):                  0.003   Jarque-Bera (JB):               15.574\n",
       "Skew:                          -0.432   Prob(JB):                     0.000415\n",
       "Kurtosis:                       4.261   Cond. No.                         13.5\n",
       "==============================================================================\n",
       "\n",
       "Notes:\n",
       "[1] R² is computed without centering (uncentered) since the model does not contain a constant.\n",
       "[2] Standard Errors assume that the covariance matrix of the errors is correctly specified.\n",
       "\"\"\""
      ]
     },
     "execution_count": 79,
     "metadata": {},
     "output_type": "execute_result"
    }
   ],
   "source": [
    "model.summary()\n",
    "\n",
    "# R Kare Degeri Artmis Cunku Hem Degiskenler Artti, Hemde Aciklanabilirligi Oldugu Varsaydigimiz Degiskenler Var Bu Modelde ----->>\n",
    "# ----->> ( Televizyon Harcamalari - Radyo Harcamalari - Gazete Harcamalari Seklinde)\n",
    "\n",
    "# Katsayilara Batigimizda Butun Katsayilar Anlamlidir ( Modelde Kullanmak Icin Aldigimiz Butun Degiskenler Anlamli )"
   ]
  },
  {
   "cell_type": "markdown",
   "id": "b71b222b",
   "metadata": {
    "papermill": {
     "duration": 0.108084,
     "end_time": "2022-05-19T21:58:01.013623",
     "exception": false,
     "start_time": "2022-05-19T21:58:00.905539",
     "status": "completed"
    },
    "tags": []
   },
   "source": [
    "### Tavsiye;\n",
    "\n",
    "##### Hangi Algoritmayi Kullanacak Olursaniz Olun Eger Hedefinizde Bir Surekli Degisken Soz Konusu Ise ( Surakli Bir Degisken Varsa ) Oncelikle Mutlaka Dogrusal Bir Modele Sokup Bu Degiskenlerin\n",
    "##### Analitik Anlamda Bagimli Degiskene Olan Etkilerinin Anlamli Olup Olmadigini Boyle Bir Degisken Anlami Inceleyebilmek Adina Yapmaliyiz"
   ]
  },
  {
   "cell_type": "code",
   "execution_count": 80,
   "id": "6443035e",
   "metadata": {
    "execution": {
     "iopub.execute_input": "2022-05-19T21:58:01.293737Z",
     "iopub.status.busy": "2022-05-19T21:58:01.293295Z",
     "iopub.status.idle": "2022-05-19T21:58:01.301308Z",
     "shell.execute_reply": "2022-05-19T21:58:01.300524Z"
    },
    "papermill": {
     "duration": 0.181123,
     "end_time": "2022-05-19T21:58:01.303167",
     "exception": false,
     "start_time": "2022-05-19T21:58:01.122044",
     "status": "completed"
    },
    "tags": []
   },
   "outputs": [
    {
     "data": {
      "text/html": [
       "<table class=\"simpletable\">\n",
       "<tr>\n",
       "      <td></td>         <th>coef</th>     <th>std err</th>      <th>t</th>      <th>P>|t|</th>  <th>[0.025</th>    <th>0.975]</th>  \n",
       "</tr>\n",
       "<tr>\n",
       "  <th>TV</th>        <td>    0.0531</td> <td>    0.001</td> <td>   36.467</td> <td> 0.000</td> <td>    0.050</td> <td>    0.056</td>\n",
       "</tr>\n",
       "<tr>\n",
       "  <th>Radio</th>     <td>    0.2188</td> <td>    0.011</td> <td>   20.138</td> <td> 0.000</td> <td>    0.197</td> <td>    0.240</td>\n",
       "</tr>\n",
       "<tr>\n",
       "  <th>Newspaper</th> <td>    0.0239</td> <td>    0.008</td> <td>    3.011</td> <td> 0.003</td> <td>    0.008</td> <td>    0.040</td>\n",
       "</tr>\n",
       "</table>"
      ],
      "text/plain": [
       "<class 'statsmodels.iolib.table.SimpleTable'>"
      ]
     },
     "execution_count": 80,
     "metadata": {},
     "output_type": "execute_result"
    }
   ],
   "source": [
    "model.summary().tables[1] # 1. Indexteki Tabloya Ulasmak Icin Kullandik"
   ]
  },
  {
   "cell_type": "code",
   "execution_count": 81,
   "id": "b7091769",
   "metadata": {
    "execution": {
     "iopub.execute_input": "2022-05-19T21:58:01.523643Z",
     "iopub.status.busy": "2022-05-19T21:58:01.523209Z",
     "iopub.status.idle": "2022-05-19T21:58:01.526225Z",
     "shell.execute_reply": "2022-05-19T21:58:01.525618Z"
    },
    "papermill": {
     "duration": 0.115359,
     "end_time": "2022-05-19T21:58:01.528027",
     "exception": false,
     "start_time": "2022-05-19T21:58:01.412668",
     "status": "completed"
    },
    "tags": []
   },
   "outputs": [],
   "source": [
    "# Bagimli Degiskendeki Degisikligin Bagimsiz Degiskenlerce Aciklanabilme Oranini Vermektedir Yani Modeldeki Bagimsiz Degiskenler Elimizdeki Bagimli Degiskenin\n",
    "# Varyansinin ( Atiyorum ) Su kadarini Aciklar Derler ( Degisimi Kastediyoruz ) ( Aciklanabilirlik Oranidir )\n",
    "\n",
    "\n",
    "# F Istatistigi Ise Modelin Anlamliligini Degerlendirir"
   ]
  },
  {
   "cell_type": "markdown",
   "id": "81ca3c71",
   "metadata": {
    "papermill": {
     "duration": 0.110625,
     "end_time": "2022-05-19T21:58:01.746559",
     "exception": false,
     "start_time": "2022-05-19T21:58:01.635934",
     "status": "completed"
    },
    "tags": []
   },
   "source": [
    "## scikit-learn model"
   ]
  },
  {
   "cell_type": "code",
   "execution_count": 82,
   "id": "7f07aec6",
   "metadata": {
    "execution": {
     "iopub.execute_input": "2022-05-19T21:58:01.972114Z",
     "iopub.status.busy": "2022-05-19T21:58:01.971642Z",
     "iopub.status.idle": "2022-05-19T21:58:01.982391Z",
     "shell.execute_reply": "2022-05-19T21:58:01.981497Z"
    },
    "papermill": {
     "duration": 0.123519,
     "end_time": "2022-05-19T21:58:01.984635",
     "exception": false,
     "start_time": "2022-05-19T21:58:01.861116",
     "status": "completed"
    },
    "tags": []
   },
   "outputs": [],
   "source": [
    "lm = LinearRegression()\n",
    "\n",
    "# X_train : Bagimsiz Degiskenleri Ifade Eder ( 1. Arguman )\n",
    "# y_train : ( 1. Arguman )\n",
    "\n",
    "model = lm.fit(X_train, y_train) # Modelimizi Kurduk"
   ]
  },
  {
   "cell_type": "code",
   "execution_count": 83,
   "id": "8e13db48",
   "metadata": {
    "execution": {
     "iopub.execute_input": "2022-05-19T21:58:02.206480Z",
     "iopub.status.busy": "2022-05-19T21:58:02.205947Z",
     "iopub.status.idle": "2022-05-19T21:58:02.211815Z",
     "shell.execute_reply": "2022-05-19T21:58:02.210978Z"
    },
    "papermill": {
     "duration": 0.117617,
     "end_time": "2022-05-19T21:58:02.213715",
     "exception": false,
     "start_time": "2022-05-19T21:58:02.096098",
     "status": "completed"
    },
    "tags": []
   },
   "outputs": [
    {
     "data": {
      "text/plain": [
       "2.979067338122629"
      ]
     },
     "execution_count": 83,
     "metadata": {},
     "output_type": "execute_result"
    }
   ],
   "source": [
    "model.intercept_ # Sabit Katsayiya Ulastik"
   ]
  },
  {
   "cell_type": "code",
   "execution_count": 84,
   "id": "f736beb6",
   "metadata": {
    "execution": {
     "iopub.execute_input": "2022-05-19T21:58:02.433585Z",
     "iopub.status.busy": "2022-05-19T21:58:02.432987Z",
     "iopub.status.idle": "2022-05-19T21:58:02.437843Z",
     "shell.execute_reply": "2022-05-19T21:58:02.437298Z"
    },
    "papermill": {
     "duration": 0.117397,
     "end_time": "2022-05-19T21:58:02.439501",
     "exception": false,
     "start_time": "2022-05-19T21:58:02.322104",
     "status": "completed"
    },
    "tags": []
   },
   "outputs": [
    {
     "data": {
      "text/plain": [
       "array([0.04472952, 0.18919505, 0.00276111])"
      ]
     },
     "execution_count": 84,
     "metadata": {},
     "output_type": "execute_result"
    }
   ],
   "source": [
    "model.coef_ # Diger Tum Katsayilara Ulastik"
   ]
  },
  {
   "cell_type": "markdown",
   "id": "fb0af735",
   "metadata": {
    "papermill": {
     "duration": 0.112138,
     "end_time": "2022-05-19T21:58:02.662356",
     "exception": false,
     "start_time": "2022-05-19T21:58:02.550218",
     "status": "completed"
    },
    "tags": []
   },
   "source": [
    "## Tahmin\n",
    "\n",
    "* Model denklemi:\n",
    "* Sales = 2.97 + TV0.04 + radio0.18 + newspaper*0.002\n",
    "* Örneğin 30 birim TV harcaması, 10 birim radio harcamasi, 40 birimde gazete harcaması olduğunda satışların tahmini değeri ne olur?\n"
   ]
  },
  {
   "cell_type": "code",
   "execution_count": 85,
   "id": "dff2ebc4",
   "metadata": {
    "execution": {
     "iopub.execute_input": "2022-05-19T21:58:02.891999Z",
     "iopub.status.busy": "2022-05-19T21:58:02.891485Z",
     "iopub.status.idle": "2022-05-19T21:58:02.895915Z",
     "shell.execute_reply": "2022-05-19T21:58:02.895328Z"
    },
    "papermill": {
     "duration": 0.120038,
     "end_time": "2022-05-19T21:58:02.897698",
     "exception": false,
     "start_time": "2022-05-19T21:58:02.777660",
     "status": "completed"
    },
    "tags": []
   },
   "outputs": [],
   "source": [
    "yeni_veri = [[30], [10], [40]] # Elimizde Uc Degisken Icin Ayri Yeni Gozlenmis Deger Soz Konusu\n",
    "yeni_veri = pd.DataFrame(yeni_veri).T # Data Frameye Cevirdik ----->> Anlayabilecegi Formata Getirdik"
   ]
  },
  {
   "cell_type": "code",
   "execution_count": 86,
   "id": "6bac3835",
   "metadata": {
    "execution": {
     "iopub.execute_input": "2022-05-19T21:58:03.118388Z",
     "iopub.status.busy": "2022-05-19T21:58:03.117855Z",
     "iopub.status.idle": "2022-05-19T21:58:03.125565Z",
     "shell.execute_reply": "2022-05-19T21:58:03.124579Z"
    },
    "papermill": {
     "duration": 0.121492,
     "end_time": "2022-05-19T21:58:03.127669",
     "exception": false,
     "start_time": "2022-05-19T21:58:03.006177",
     "status": "completed"
    },
    "tags": []
   },
   "outputs": [
    {
     "data": {
      "text/html": [
       "<div>\n",
       "<style scoped>\n",
       "    .dataframe tbody tr th:only-of-type {\n",
       "        vertical-align: middle;\n",
       "    }\n",
       "\n",
       "    .dataframe tbody tr th {\n",
       "        vertical-align: top;\n",
       "    }\n",
       "\n",
       "    .dataframe thead th {\n",
       "        text-align: right;\n",
       "    }\n",
       "</style>\n",
       "<table border=\"1\" class=\"dataframe\">\n",
       "  <thead>\n",
       "    <tr style=\"text-align: right;\">\n",
       "      <th></th>\n",
       "      <th>0</th>\n",
       "      <th>1</th>\n",
       "      <th>2</th>\n",
       "    </tr>\n",
       "  </thead>\n",
       "  <tbody>\n",
       "    <tr>\n",
       "      <th>0</th>\n",
       "      <td>30</td>\n",
       "      <td>10</td>\n",
       "      <td>40</td>\n",
       "    </tr>\n",
       "  </tbody>\n",
       "</table>\n",
       "</div>"
      ],
      "text/plain": [
       "    0   1   2\n",
       "0  30  10  40"
      ]
     },
     "execution_count": 86,
     "metadata": {},
     "output_type": "execute_result"
    }
   ],
   "source": [
    "yeni_veri # Gormek Icin Yazdim"
   ]
  },
  {
   "cell_type": "code",
   "execution_count": 87,
   "id": "0354cbc6",
   "metadata": {
    "execution": {
     "iopub.execute_input": "2022-05-19T21:58:03.354179Z",
     "iopub.status.busy": "2022-05-19T21:58:03.353918Z",
     "iopub.status.idle": "2022-05-19T21:58:03.362461Z",
     "shell.execute_reply": "2022-05-19T21:58:03.361158Z"
    },
    "papermill": {
     "duration": 0.124968,
     "end_time": "2022-05-19T21:58:03.364679",
     "exception": false,
     "start_time": "2022-05-19T21:58:03.239711",
     "status": "completed"
    },
    "tags": []
   },
   "outputs": [
    {
     "name": "stderr",
     "output_type": "stream",
     "text": [
      "/opt/conda/lib/python3.7/site-packages/sklearn/base.py:451: UserWarning: X does not have valid feature names, but LinearRegression was fitted with feature names\n",
      "  \"X does not have valid feature names, but\"\n"
     ]
    },
    {
     "data": {
      "text/plain": [
       "array([6.32334798])"
      ]
     },
     "execution_count": 87,
     "metadata": {},
     "output_type": "execute_result"
    }
   ],
   "source": [
    "model.predict(yeni_veri) # Bana Bir Deger Tahmini Gelmis Oldu\n",
    "\n",
    "# Ornegin TV'de 30 Birim, Radio'da 10 Birim, Gazete Icin De 40 Birim Harcama Yaptigimizda Satislarimizin Beklenen Degeri  Ciktinin Degeri Olucak ( 6.32334798 )\n",
    "\n",
    "# Modelde Tahmin Islemini Gerceklestirdik Ama Bizim Modelimizin Tahmin Basarisi Nedir?"
   ]
  },
  {
   "cell_type": "code",
   "execution_count": 88,
   "id": "a06e09c9",
   "metadata": {
    "execution": {
     "iopub.execute_input": "2022-05-19T21:58:03.587842Z",
     "iopub.status.busy": "2022-05-19T21:58:03.587200Z",
     "iopub.status.idle": "2022-05-19T21:58:03.595850Z",
     "shell.execute_reply": "2022-05-19T21:58:03.594956Z"
    },
    "papermill": {
     "duration": 0.120587,
     "end_time": "2022-05-19T21:58:03.597789",
     "exception": false,
     "start_time": "2022-05-19T21:58:03.477202",
     "status": "completed"
    },
    "tags": []
   },
   "outputs": [
    {
     "data": {
      "text/plain": [
       "1.644727765644337"
      ]
     },
     "execution_count": 88,
     "metadata": {},
     "output_type": "execute_result"
    }
   ],
   "source": [
    "# Model Tahmin Basarisi\n",
    "\n",
    "rmse = np.sqrt(mean_squared_error(y_train, model.predict(X_train))) # Egitim Setinin Hatasina Ulasmaya Calisiyoruz ------>> y_train --->> Train Icerisindeki ----->>\n",
    "# ----->> Gercek Degerlerimiz Ve ----->>  model.predict(X_train)  ----->> Bu Gercek Degerleri Modelleyerek train Uzerinden Tahmin Ettigimiz y Tahmin Degerleri Var Burada\n",
    "\n",
    "rmse # Bu Bizim Egitim Hatamiz"
   ]
  },
  {
   "cell_type": "code",
   "execution_count": 89,
   "id": "f082ec6c",
   "metadata": {
    "execution": {
     "iopub.execute_input": "2022-05-19T21:58:03.820088Z",
     "iopub.status.busy": "2022-05-19T21:58:03.819367Z",
     "iopub.status.idle": "2022-05-19T21:58:03.826109Z",
     "shell.execute_reply": "2022-05-19T21:58:03.825190Z"
    },
    "papermill": {
     "duration": 0.119061,
     "end_time": "2022-05-19T21:58:03.828076",
     "exception": false,
     "start_time": "2022-05-19T21:58:03.709015",
     "status": "completed"
    },
    "tags": []
   },
   "outputs": [],
   "source": [
    "# Test Hatamizi Nasil Hesaplicaz Peki?\n",
    "\n",
    "rmse = np.sqrt(mean_squared_error(y_test, model.predict(X_test)))\n",
    "\n",
    "# y_test : Test Setinin Bagimli Degiskenini Isaret Ettim\n",
    "# model.predict(X_test) : Bu Kurmus Oldugum Modeli, Egitim Seti Uzerinden Modeli Egittim Model Elimde, Test Etmek Icin Bu Sefer Disarida Biraktigim x Bagimsiz Degiskenlerini Girmis\n",
    "#  Oluyorum Ve Ne Yapmis Olucam Egitim Veri Setiyle Kurup Katsayilarina Ulastigim Modeli Kullanarak Modelin Daha Once Hic Gormedigi Ve Bagimsiz Degisken Degerlerinden Olusan\n",
    "# Test Setinin Degerlerini Kullanip Bir Tahmin Ureticem ( Y Tahmin Degerleri Olucak Bunlar ) Bu y Tahmin Degerlerini \"y_test\" Degerleri Ile Karsilastiricam"
   ]
  },
  {
   "cell_type": "code",
   "execution_count": 90,
   "id": "feab4991",
   "metadata": {
    "execution": {
     "iopub.execute_input": "2022-05-19T21:58:04.050049Z",
     "iopub.status.busy": "2022-05-19T21:58:04.049780Z",
     "iopub.status.idle": "2022-05-19T21:58:04.055128Z",
     "shell.execute_reply": "2022-05-19T21:58:04.054218Z"
    },
    "papermill": {
     "duration": 0.119206,
     "end_time": "2022-05-19T21:58:04.057281",
     "exception": false,
     "start_time": "2022-05-19T21:58:03.938075",
     "status": "completed"
    },
    "tags": []
   },
   "outputs": [
    {
     "data": {
      "text/plain": [
       "1.78159966153345"
      ]
     },
     "execution_count": 90,
     "metadata": {},
     "output_type": "execute_result"
    }
   ],
   "source": [
    "rmse # Test Seti Hatamiza Ulastik"
   ]
  },
  {
   "cell_type": "markdown",
   "id": "02a2ea7a",
   "metadata": {
    "papermill": {
     "duration": 0.110562,
     "end_time": "2022-05-19T21:58:04.280092",
     "exception": false,
     "start_time": "2022-05-19T21:58:04.169530",
     "status": "completed"
    },
    "tags": []
   },
   "source": [
    "## Model Tuning / Model Doğrulama"
   ]
  },
  {
   "cell_type": "code",
   "execution_count": 91,
   "id": "6fed7006",
   "metadata": {
    "execution": {
     "iopub.execute_input": "2022-05-19T21:58:04.500706Z",
     "iopub.status.busy": "2022-05-19T21:58:04.500447Z",
     "iopub.status.idle": "2022-05-19T21:58:04.511289Z",
     "shell.execute_reply": "2022-05-19T21:58:04.510438Z"
    },
    "papermill": {
     "duration": 0.123342,
     "end_time": "2022-05-19T21:58:04.513581",
     "exception": false,
     "start_time": "2022-05-19T21:58:04.390239",
     "status": "completed"
    },
    "tags": []
   },
   "outputs": [
    {
     "data": {
      "text/html": [
       "<div>\n",
       "<style scoped>\n",
       "    .dataframe tbody tr th:only-of-type {\n",
       "        vertical-align: middle;\n",
       "    }\n",
       "\n",
       "    .dataframe tbody tr th {\n",
       "        vertical-align: top;\n",
       "    }\n",
       "\n",
       "    .dataframe thead th {\n",
       "        text-align: right;\n",
       "    }\n",
       "</style>\n",
       "<table border=\"1\" class=\"dataframe\">\n",
       "  <thead>\n",
       "    <tr style=\"text-align: right;\">\n",
       "      <th></th>\n",
       "      <th>TV</th>\n",
       "      <th>Radio</th>\n",
       "      <th>Newspaper</th>\n",
       "      <th>Sales</th>\n",
       "    </tr>\n",
       "  </thead>\n",
       "  <tbody>\n",
       "    <tr>\n",
       "      <th>0</th>\n",
       "      <td>230.1</td>\n",
       "      <td>37.8</td>\n",
       "      <td>69.2</td>\n",
       "      <td>22.1</td>\n",
       "    </tr>\n",
       "    <tr>\n",
       "      <th>1</th>\n",
       "      <td>44.5</td>\n",
       "      <td>39.3</td>\n",
       "      <td>45.1</td>\n",
       "      <td>10.4</td>\n",
       "    </tr>\n",
       "    <tr>\n",
       "      <th>2</th>\n",
       "      <td>17.2</td>\n",
       "      <td>45.9</td>\n",
       "      <td>69.3</td>\n",
       "      <td>9.3</td>\n",
       "    </tr>\n",
       "    <tr>\n",
       "      <th>3</th>\n",
       "      <td>151.5</td>\n",
       "      <td>41.3</td>\n",
       "      <td>58.5</td>\n",
       "      <td>18.5</td>\n",
       "    </tr>\n",
       "    <tr>\n",
       "      <th>4</th>\n",
       "      <td>180.8</td>\n",
       "      <td>10.8</td>\n",
       "      <td>58.4</td>\n",
       "      <td>12.9</td>\n",
       "    </tr>\n",
       "  </tbody>\n",
       "</table>\n",
       "</div>"
      ],
      "text/plain": [
       "      TV  Radio  Newspaper  Sales\n",
       "0  230.1   37.8       69.2   22.1\n",
       "1   44.5   39.3       45.1   10.4\n",
       "2   17.2   45.9       69.3    9.3\n",
       "3  151.5   41.3       58.5   18.5\n",
       "4  180.8   10.8       58.4   12.9"
      ]
     },
     "execution_count": 91,
     "metadata": {},
     "output_type": "execute_result"
    }
   ],
   "source": [
    "df.head()"
   ]
  },
  {
   "cell_type": "code",
   "execution_count": 92,
   "id": "29b64a57",
   "metadata": {
    "execution": {
     "iopub.execute_input": "2022-05-19T21:58:04.735389Z",
     "iopub.status.busy": "2022-05-19T21:58:04.735115Z",
     "iopub.status.idle": "2022-05-19T21:58:04.744415Z",
     "shell.execute_reply": "2022-05-19T21:58:04.743478Z"
    },
    "papermill": {
     "duration": 0.12355,
     "end_time": "2022-05-19T21:58:04.746370",
     "exception": false,
     "start_time": "2022-05-19T21:58:04.622820",
     "status": "completed"
    },
    "tags": []
   },
   "outputs": [],
   "source": [
    "X = df.drop(\"Sales\", axis=1)\n",
    "y = df[\"Sales\"]\n",
    "X_train, X_test, y_train, y_test = train_test_split(X, y, \n",
    "                                                    test_size=0.20, \n",
    "                                                    random_state=144)\n",
    "lm = LinearRegression() \n",
    "model = lm.fit(X_train, y_train)"
   ]
  },
  {
   "cell_type": "code",
   "execution_count": 93,
   "id": "971b8f7b",
   "metadata": {
    "execution": {
     "iopub.execute_input": "2022-05-19T21:58:04.971599Z",
     "iopub.status.busy": "2022-05-19T21:58:04.970602Z",
     "iopub.status.idle": "2022-05-19T21:58:04.978319Z",
     "shell.execute_reply": "2022-05-19T21:58:04.977510Z"
    },
    "papermill": {
     "duration": 0.123245,
     "end_time": "2022-05-19T21:58:04.980211",
     "exception": false,
     "start_time": "2022-05-19T21:58:04.856966",
     "status": "completed"
    },
    "tags": []
   },
   "outputs": [
    {
     "data": {
      "text/plain": [
       "1.6748559274650712"
      ]
     },
     "execution_count": 93,
     "metadata": {},
     "output_type": "execute_result"
    }
   ],
   "source": [
    "# Simdi Biz Burda \"random_state\" Degerini 42 Yazdik Sonra 99 Yazdik Asagidaki Degerler Degisti, Sonra 144 Yazdik Asagidaki Degerler Degisti ( Degisti mi Degerler?)\n",
    "# Yani Sen Modelin Belirli Bir Kismini Seciceksin Ama Hangi Belirli Kismini Seciceksin? Gibi Bir Problemimiz Var\n",
    "# Iste Bu Problemi Ortadan Kaldirabilmek Adina \"Cross Validation\" Yontemi Kullanilir\n",
    "\n",
    "np.sqrt(mean_squared_error(y_train, model.predict(X_train))) # Egitim Hatasi ( Degisti ) ( rmse Degeri )"
   ]
  },
  {
   "cell_type": "code",
   "execution_count": 94,
   "id": "549d3aea",
   "metadata": {
    "execution": {
     "iopub.execute_input": "2022-05-19T21:58:05.211037Z",
     "iopub.status.busy": "2022-05-19T21:58:05.210522Z",
     "iopub.status.idle": "2022-05-19T21:58:05.217648Z",
     "shell.execute_reply": "2022-05-19T21:58:05.216786Z"
    },
    "papermill": {
     "duration": 0.125975,
     "end_time": "2022-05-19T21:58:05.219617",
     "exception": false,
     "start_time": "2022-05-19T21:58:05.093642",
     "status": "completed"
    },
    "tags": []
   },
   "outputs": [
    {
     "data": {
      "text/plain": [
       "0.8971614078663419"
      ]
     },
     "execution_count": 94,
     "metadata": {},
     "output_type": "execute_result"
    }
   ],
   "source": [
    "model.score(X_train, y_train) # R Kare Degeri ( Degisti )"
   ]
  },
  {
   "cell_type": "code",
   "execution_count": 95,
   "id": "1db351ec",
   "metadata": {
    "execution": {
     "iopub.execute_input": "2022-05-19T21:58:05.443227Z",
     "iopub.status.busy": "2022-05-19T21:58:05.442480Z",
     "iopub.status.idle": "2022-05-19T21:58:05.487213Z",
     "shell.execute_reply": "2022-05-19T21:58:05.486639Z"
    },
    "papermill": {
     "duration": 0.157874,
     "end_time": "2022-05-19T21:58:05.489041",
     "exception": false,
     "start_time": "2022-05-19T21:58:05.331167",
     "status": "completed"
    },
    "tags": []
   },
   "outputs": [
    {
     "data": {
      "text/plain": [
       "array([0.87302696, 0.8581613 , 0.92968723, 0.89013272, 0.93146498,\n",
       "       0.93138735, 0.7597901 , 0.91217097, 0.83891753, 0.92882311])"
      ]
     },
     "execution_count": 95,
     "metadata": {},
     "output_type": "execute_result"
    }
   ],
   "source": [
    "cross_val_score(model, X, y, cv = 10, scoring = \"r2\") # Bunu Butun Veri Seti Icin Yaptik"
   ]
  },
  {
   "cell_type": "code",
   "execution_count": 96,
   "id": "ec17110d",
   "metadata": {
    "execution": {
     "iopub.execute_input": "2022-05-19T21:58:05.714688Z",
     "iopub.status.busy": "2022-05-19T21:58:05.714166Z",
     "iopub.status.idle": "2022-05-19T21:58:05.756808Z",
     "shell.execute_reply": "2022-05-19T21:58:05.756027Z"
    },
    "papermill": {
     "duration": 0.158892,
     "end_time": "2022-05-19T21:58:05.758906",
     "exception": false,
     "start_time": "2022-05-19T21:58:05.600014",
     "status": "completed"
    },
    "tags": []
   },
   "outputs": [
    {
     "data": {
      "text/plain": [
       "array([0.86580772, 0.92273806, 0.90690214, 0.9124702 , 0.69765146,\n",
       "       0.92654282, 0.92526348, 0.94823778, 0.92941476, 0.69875488])"
      ]
     },
     "execution_count": 96,
     "metadata": {},
     "output_type": "execute_result"
    }
   ],
   "source": [
    "cross_val_score(model, X_train, y_train, cv = 10, scoring = \"r2\")\n",
    "\n",
    "# cv = 10 ---->> Kac Katli Cross Validation Oldun Diye Soruyoruz Cevap: 10\n",
    "\n",
    "# Burada 10 Tane Birbirinden Farkli R Kare Degeri Geldi"
   ]
  },
  {
   "cell_type": "code",
   "execution_count": 97,
   "id": "42fb62ab",
   "metadata": {
    "execution": {
     "iopub.execute_input": "2022-05-19T21:58:05.990053Z",
     "iopub.status.busy": "2022-05-19T21:58:05.989539Z",
     "iopub.status.idle": "2022-05-19T21:58:06.034056Z",
     "shell.execute_reply": "2022-05-19T21:58:06.033399Z"
    },
    "papermill": {
     "duration": 0.1616,
     "end_time": "2022-05-19T21:58:06.036133",
     "exception": false,
     "start_time": "2022-05-19T21:58:05.874533",
     "status": "completed"
    },
    "tags": []
   },
   "outputs": [
    {
     "data": {
      "text/plain": [
       "0.873378329842294"
      ]
     },
     "execution_count": 97,
     "metadata": {},
     "output_type": "execute_result"
    }
   ],
   "source": [
    "cross_val_score(model, X_train, y_train, cv = 10, scoring = \"r2\").mean() # Bu Ifadenin Ortalamasini Aliyoruz\n",
    "\n",
    "# Iste Bizim Modelimizin Daha Guvenilir Valide Edilmis ( Dogrulanmis ) R Kare Degeri Budur"
   ]
  },
  {
   "cell_type": "code",
   "execution_count": 98,
   "id": "cc366cc2",
   "metadata": {
    "execution": {
     "iopub.execute_input": "2022-05-19T21:58:06.263666Z",
     "iopub.status.busy": "2022-05-19T21:58:06.263163Z",
     "iopub.status.idle": "2022-05-19T21:58:06.310175Z",
     "shell.execute_reply": "2022-05-19T21:58:06.309191Z"
    },
    "papermill": {
     "duration": 0.162914,
     "end_time": "2022-05-19T21:58:06.312663",
     "exception": false,
     "start_time": "2022-05-19T21:58:06.149749",
     "status": "completed"
    },
    "tags": []
   },
   "outputs": [
    {
     "name": "stdout",
     "output_type": "stream",
     "text": [
      "0.8971614078663419\n",
      "\n",
      "--------\n"
     ]
    },
    {
     "data": {
      "text/plain": [
       "0.873378329842294"
      ]
     },
     "execution_count": 98,
     "metadata": {},
     "output_type": "execute_result"
    }
   ],
   "source": [
    "# Soo Important\n",
    "\n",
    "# Valide Etmek Budur Arkadaslar ( Farkli Degerler Cikti Karsimiza ) ----->> Valide Etmek Bize Daha Dogru Hata Elde Etme Imkani Verir\n",
    "\n",
    "print(model.score(X_train, y_train)) # R Kare Degeri ----->> Train Icin Elde Ettigimiz Score Buydu\n",
    "\n",
    "print(\"\\n--------\")\n",
    "\n",
    "cross_val_score(model, X_train, y_train, cv = 10, scoring = \"r2\").mean() # Valide Edilmis Score Degeri"
   ]
  },
  {
   "cell_type": "code",
   "execution_count": 99,
   "id": "099af68d",
   "metadata": {
    "execution": {
     "iopub.execute_input": "2022-05-19T21:58:06.538375Z",
     "iopub.status.busy": "2022-05-19T21:58:06.537611Z",
     "iopub.status.idle": "2022-05-19T21:58:06.579813Z",
     "shell.execute_reply": "2022-05-19T21:58:06.579273Z"
    },
    "papermill": {
     "duration": 0.157466,
     "end_time": "2022-05-19T21:58:06.581658",
     "exception": false,
     "start_time": "2022-05-19T21:58:06.424192",
     "status": "completed"
    },
    "tags": []
   },
   "outputs": [
    {
     "data": {
      "text/plain": [
       "array([3.77011117, 1.38904597, 1.31506551, 3.32109589, 8.82506973,\n",
       "       2.37926645, 2.2872061 , 1.05714426, 2.99532621, 3.15248307])"
      ]
     },
     "execution_count": 99,
     "metadata": {},
     "output_type": "execute_result"
    }
   ],
   "source": [
    "-cross_val_score(model, \n",
    "                X_train, \n",
    "                y_train, \n",
    "                cv = 10, \n",
    "                scoring = \"neg_mean_squared_error\") # Egitim Setimiz Icin 10 Adet Egitim Hatasi Olusturuldu Ve Bu Egitim Hatalarinin Her Biri Birbirinden Farkli\n",
    "\n",
    "# Burada Dikkat Cekmek Istedigim Bir Parca Var Cikan Sonuclarda Verinin Bi Parcasinda Daha Yuksek Baska Bir Parcasinda Daha Alcak rmse Degerleri Goruluyor\n",
    "# Iste Bu Parcalarin Ortalamasini Aldigimda Bunu Valide Etmis Oluyorum Ve Diyorum Ki Benim Gercek \"Egitim Hatam\" Budur"
   ]
  },
  {
   "cell_type": "code",
   "execution_count": 100,
   "id": "b0690e67",
   "metadata": {
    "execution": {
     "iopub.execute_input": "2022-05-19T21:58:06.809237Z",
     "iopub.status.busy": "2022-05-19T21:58:06.808688Z",
     "iopub.status.idle": "2022-05-19T21:58:06.854845Z",
     "shell.execute_reply": "2022-05-19T21:58:06.853956Z"
    },
    "papermill": {
     "duration": 0.163569,
     "end_time": "2022-05-19T21:58:06.857000",
     "exception": false,
     "start_time": "2022-05-19T21:58:06.693431",
     "status": "completed"
    },
    "tags": []
   },
   "outputs": [
    {
     "data": {
      "text/plain": [
       "1.6649345607872932"
      ]
     },
     "execution_count": 100,
     "metadata": {},
     "output_type": "execute_result"
    }
   ],
   "source": [
    "# \"rmse Degeri\" Icin Kare Kok Aliniyor Yukaridaki Code\n",
    "\n",
    "np.sqrt(-cross_val_score(model, \n",
    "                X_train, \n",
    "                y_train, \n",
    "                cv = 10, \n",
    "                scoring = \"neg_mean_squared_error\")).mean() # Basina Eksi ( - ) Ifadesi Koymamizin Sebebi Cikan Degerler Negatif Ciktigi Icin Onlari Pozitife Ceviriyoruz"
   ]
  },
  {
   "cell_type": "code",
   "execution_count": 101,
   "id": "d27e1aed",
   "metadata": {
    "execution": {
     "iopub.execute_input": "2022-05-19T21:58:07.088079Z",
     "iopub.status.busy": "2022-05-19T21:58:07.087512Z",
     "iopub.status.idle": "2022-05-19T21:58:07.094533Z",
     "shell.execute_reply": "2022-05-19T21:58:07.093791Z"
    },
    "papermill": {
     "duration": 0.12394,
     "end_time": "2022-05-19T21:58:07.096594",
     "exception": false,
     "start_time": "2022-05-19T21:58:06.972654",
     "status": "completed"
    },
    "tags": []
   },
   "outputs": [
    {
     "data": {
      "text/plain": [
       "1.6640263686701027"
      ]
     },
     "execution_count": 101,
     "metadata": {},
     "output_type": "execute_result"
    }
   ],
   "source": [
    "# Yine Valide Edilmis Deger Ile Butun Modeldeki Degerleri Karsilastiricaz Ama Bu Sefer Egitim De Degil Test Te yapicaz\n",
    "\n",
    "np.sqrt(mean_squared_error(y_test, model.predict(X_test)))"
   ]
  },
  {
   "cell_type": "code",
   "execution_count": 102,
   "id": "16dfa841",
   "metadata": {
    "execution": {
     "iopub.execute_input": "2022-05-19T21:58:07.331958Z",
     "iopub.status.busy": "2022-05-19T21:58:07.331422Z",
     "iopub.status.idle": "2022-05-19T21:58:07.377147Z",
     "shell.execute_reply": "2022-05-19T21:58:07.376317Z"
    },
    "papermill": {
     "duration": 0.165637,
     "end_time": "2022-05-19T21:58:07.379538",
     "exception": false,
     "start_time": "2022-05-19T21:58:07.213901",
     "status": "completed"
    },
    "tags": []
   },
   "outputs": [
    {
     "data": {
      "text/plain": [
       "1.7399924960346649"
      ]
     },
     "execution_count": 102,
     "metadata": {},
     "output_type": "execute_result"
    }
   ],
   "source": [
    "np.sqrt(-cross_val_score(model, \n",
    "                X_test, \n",
    "                y_test, \n",
    "                cv = 10, \n",
    "                scoring = \"neg_mean_squared_error\")).mean()"
   ]
  },
  {
   "cell_type": "code",
   "execution_count": 103,
   "id": "f8148770",
   "metadata": {
    "execution": {
     "iopub.execute_input": "2022-05-19T21:58:07.615491Z",
     "iopub.status.busy": "2022-05-19T21:58:07.614949Z",
     "iopub.status.idle": "2022-05-19T21:58:07.618306Z",
     "shell.execute_reply": "2022-05-19T21:58:07.617443Z"
    },
    "papermill": {
     "duration": 0.126555,
     "end_time": "2022-05-19T21:58:07.620583",
     "exception": false,
     "start_time": "2022-05-19T21:58:07.494028",
     "status": "completed"
    },
    "tags": []
   },
   "outputs": [],
   "source": [
    "# Burada Ogrendigimiz Olay Valide Edilmis ( Dogrulanmis ) Degerleri Kullanmamiz Lazim"
   ]
  },
  {
   "cell_type": "code",
   "execution_count": null,
   "id": "9fde0a4f",
   "metadata": {
    "papermill": {
     "duration": 0.113226,
     "end_time": "2022-05-19T21:58:07.848398",
     "exception": false,
     "start_time": "2022-05-19T21:58:07.735172",
     "status": "completed"
    },
    "tags": []
   },
   "outputs": [],
   "source": []
  }
 ],
 "metadata": {
  "kernelspec": {
   "display_name": "Python 3",
   "language": "python",
   "name": "python3"
  },
  "language_info": {
   "codemirror_mode": {
    "name": "ipython",
    "version": 3
   },
   "file_extension": ".py",
   "mimetype": "text/x-python",
   "name": "python",
   "nbconvert_exporter": "python",
   "pygments_lexer": "ipython3",
   "version": "3.7.12"
  },
  "papermill": {
   "default_parameters": {},
   "duration": 43.027662,
   "end_time": "2022-05-19T21:58:08.883558",
   "environment_variables": {},
   "exception": null,
   "input_path": "__notebook__.ipynb",
   "output_path": "__notebook__.ipynb",
   "parameters": {},
   "start_time": "2022-05-19T21:57:25.855896",
   "version": "2.3.4"
  }
 },
 "nbformat": 4,
 "nbformat_minor": 5
}
