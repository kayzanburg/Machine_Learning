{
 "cells": [
  {
   "cell_type": "code",
   "execution_count": 1,
   "id": "a32cb532",
   "metadata": {
    "execution": {
     "iopub.execute_input": "2022-05-05T23:05:11.442965Z",
     "iopub.status.busy": "2022-05-05T23:05:11.442328Z",
     "iopub.status.idle": "2022-05-05T23:05:11.447358Z",
     "shell.execute_reply": "2022-05-05T23:05:11.446522Z"
    },
    "papermill": {
     "duration": 0.091269,
     "end_time": "2022-05-05T23:05:11.449417",
     "exception": false,
     "start_time": "2022-05-05T23:05:11.358148",
     "status": "completed"
    },
    "tags": []
   },
   "outputs": [],
   "source": [
    "# ( Bilgilendirme )  ------>>  ctrl + (sesli) u  Saga Dogru, ctrl + (sesli) g  Sola Dogru Code'yi Kaydirma Islemi Yapar"
   ]
  },
  {
   "cell_type": "code",
   "execution_count": 2,
   "id": "a880b847",
   "metadata": {
    "_cell_guid": "b1076dfc-b9ad-4769-8c92-a6c4dae69d19",
    "_uuid": "8f2839f25d086af736a60e9eeb907d3b93b6e0e5",
    "execution": {
     "iopub.execute_input": "2022-05-05T23:05:11.609682Z",
     "iopub.status.busy": "2022-05-05T23:05:11.609118Z",
     "iopub.status.idle": "2022-05-05T23:05:11.612774Z",
     "shell.execute_reply": "2022-05-05T23:05:11.611976Z"
    },
    "papermill": {
     "duration": 0.08631,
     "end_time": "2022-05-05T23:05:11.614713",
     "exception": false,
     "start_time": "2022-05-05T23:05:11.528403",
     "status": "completed"
    },
    "tags": []
   },
   "outputs": [],
   "source": [
    "# Veri On Isleme Bolumu"
   ]
  },
  {
   "cell_type": "code",
   "execution_count": 3,
   "id": "379829b4",
   "metadata": {
    "execution": {
     "iopub.execute_input": "2022-05-05T23:05:11.769272Z",
     "iopub.status.busy": "2022-05-05T23:05:11.768976Z",
     "iopub.status.idle": "2022-05-05T23:05:11.772534Z",
     "shell.execute_reply": "2022-05-05T23:05:11.771739Z"
    },
    "papermill": {
     "duration": 0.081937,
     "end_time": "2022-05-05T23:05:11.774370",
     "exception": false,
     "start_time": "2022-05-05T23:05:11.692433",
     "status": "completed"
    },
    "tags": []
   },
   "outputs": [],
   "source": [
    "# Veri mi ? Model mi ?\n",
    "\n",
    "# Veri : Kullanacak Oldugumuz Veriyi Ifade Ediyor\n",
    "# Model : Kuracak Oldugumuz Makine Ogrenmesi Modellerini Ifade Ediyor ( Yapay Zeka Modellerini Ifade Ediyor ) \n",
    "\n",
    "# Yapilacak Olan Islemler Veri'den Beslenmektedir ( Boyle Bir Sorunun Cevabi Cok Yuksek Ihtimalle \"Veri\" Olacaktir )"
   ]
  },
  {
   "cell_type": "markdown",
   "id": "31650667",
   "metadata": {
    "papermill": {
     "duration": 0.087763,
     "end_time": "2022-05-05T23:05:11.937469",
     "exception": false,
     "start_time": "2022-05-05T23:05:11.849706",
     "status": "completed"
    },
    "tags": []
   },
   "source": [
    "# Aykiri Gozlem Analizi"
   ]
  },
  {
   "cell_type": "code",
   "execution_count": 4,
   "id": "554267a7",
   "metadata": {
    "execution": {
     "iopub.execute_input": "2022-05-05T23:05:12.090071Z",
     "iopub.status.busy": "2022-05-05T23:05:12.089762Z",
     "iopub.status.idle": "2022-05-05T23:05:12.093316Z",
     "shell.execute_reply": "2022-05-05T23:05:12.092542Z"
    },
    "papermill": {
     "duration": 0.081814,
     "end_time": "2022-05-05T23:05:12.095451",
     "exception": false,
     "start_time": "2022-05-05T23:05:12.013637",
     "status": "completed"
    },
    "tags": []
   },
   "outputs": [],
   "source": [
    "# -- Aykiri Degerleri Yakalamak --"
   ]
  },
  {
   "cell_type": "code",
   "execution_count": 5,
   "id": "7b0f305b",
   "metadata": {
    "execution": {
     "iopub.execute_input": "2022-05-05T23:05:12.248067Z",
     "iopub.status.busy": "2022-05-05T23:05:12.247210Z",
     "iopub.status.idle": "2022-05-05T23:05:13.336161Z",
     "shell.execute_reply": "2022-05-05T23:05:13.335267Z"
    },
    "papermill": {
     "duration": 1.16739,
     "end_time": "2022-05-05T23:05:13.338659",
     "exception": false,
     "start_time": "2022-05-05T23:05:12.171269",
     "status": "completed"
    },
    "tags": []
   },
   "outputs": [],
   "source": [
    "import seaborn as sns\n",
    "import pandas as pd"
   ]
  },
  {
   "cell_type": "code",
   "execution_count": 6,
   "id": "28742595",
   "metadata": {
    "execution": {
     "iopub.execute_input": "2022-05-05T23:05:13.490745Z",
     "iopub.status.busy": "2022-05-05T23:05:13.490436Z",
     "iopub.status.idle": "2022-05-05T23:05:13.643806Z",
     "shell.execute_reply": "2022-05-05T23:05:13.642965Z"
    },
    "papermill": {
     "duration": 0.232184,
     "end_time": "2022-05-05T23:05:13.646281",
     "exception": false,
     "start_time": "2022-05-05T23:05:13.414097",
     "status": "completed"
    },
    "tags": []
   },
   "outputs": [
    {
     "data": {
      "text/html": [
       "<div>\n",
       "<style scoped>\n",
       "    .dataframe tbody tr th:only-of-type {\n",
       "        vertical-align: middle;\n",
       "    }\n",
       "\n",
       "    .dataframe tbody tr th {\n",
       "        vertical-align: top;\n",
       "    }\n",
       "\n",
       "    .dataframe thead th {\n",
       "        text-align: right;\n",
       "    }\n",
       "</style>\n",
       "<table border=\"1\" class=\"dataframe\">\n",
       "  <thead>\n",
       "    <tr style=\"text-align: right;\">\n",
       "      <th></th>\n",
       "      <th>carat</th>\n",
       "      <th>depth</th>\n",
       "      <th>table</th>\n",
       "      <th>price</th>\n",
       "      <th>x</th>\n",
       "      <th>y</th>\n",
       "      <th>z</th>\n",
       "    </tr>\n",
       "  </thead>\n",
       "  <tbody>\n",
       "    <tr>\n",
       "      <th>0</th>\n",
       "      <td>0.23</td>\n",
       "      <td>61.5</td>\n",
       "      <td>55.0</td>\n",
       "      <td>326</td>\n",
       "      <td>3.95</td>\n",
       "      <td>3.98</td>\n",
       "      <td>2.43</td>\n",
       "    </tr>\n",
       "    <tr>\n",
       "      <th>1</th>\n",
       "      <td>0.21</td>\n",
       "      <td>59.8</td>\n",
       "      <td>61.0</td>\n",
       "      <td>326</td>\n",
       "      <td>3.89</td>\n",
       "      <td>3.84</td>\n",
       "      <td>2.31</td>\n",
       "    </tr>\n",
       "    <tr>\n",
       "      <th>2</th>\n",
       "      <td>0.23</td>\n",
       "      <td>56.9</td>\n",
       "      <td>65.0</td>\n",
       "      <td>327</td>\n",
       "      <td>4.05</td>\n",
       "      <td>4.07</td>\n",
       "      <td>2.31</td>\n",
       "    </tr>\n",
       "    <tr>\n",
       "      <th>3</th>\n",
       "      <td>0.29</td>\n",
       "      <td>62.4</td>\n",
       "      <td>58.0</td>\n",
       "      <td>334</td>\n",
       "      <td>4.20</td>\n",
       "      <td>4.23</td>\n",
       "      <td>2.63</td>\n",
       "    </tr>\n",
       "    <tr>\n",
       "      <th>4</th>\n",
       "      <td>0.31</td>\n",
       "      <td>63.3</td>\n",
       "      <td>58.0</td>\n",
       "      <td>335</td>\n",
       "      <td>4.34</td>\n",
       "      <td>4.35</td>\n",
       "      <td>2.75</td>\n",
       "    </tr>\n",
       "  </tbody>\n",
       "</table>\n",
       "</div>"
      ],
      "text/plain": [
       "   carat  depth  table  price     x     y     z\n",
       "0   0.23   61.5   55.0    326  3.95  3.98  2.43\n",
       "1   0.21   59.8   61.0    326  3.89  3.84  2.31\n",
       "2   0.23   56.9   65.0    327  4.05  4.07  2.31\n",
       "3   0.29   62.4   58.0    334  4.20  4.23  2.63\n",
       "4   0.31   63.3   58.0    335  4.34  4.35  2.75"
      ]
     },
     "execution_count": 6,
     "metadata": {},
     "output_type": "execute_result"
    }
   ],
   "source": [
    "df = pd.read_csv(\"../input/seaborn-practice/diamonds.csv\")\n",
    "df = df.select_dtypes(include = [\"float64\", \"int64\"]) # Sadece Icerisindeki Sayisal Degiskenlere Erismek Icin Bir Tip Secimi Gerceklestirdik\n",
    "df = df.dropna() # Veri Setinin Icerisindeki Eksik Degerleri Silerek ( Disarida Birakarak ) Son Data_Frame'mizi Olusturuyoruz\n",
    "df.head()"
   ]
  },
  {
   "cell_type": "code",
   "execution_count": 7,
   "id": "83f2488c",
   "metadata": {
    "execution": {
     "iopub.execute_input": "2022-05-05T23:05:13.802283Z",
     "iopub.status.busy": "2022-05-05T23:05:13.801979Z",
     "iopub.status.idle": "2022-05-05T23:05:13.812042Z",
     "shell.execute_reply": "2022-05-05T23:05:13.811443Z"
    },
    "papermill": {
     "duration": 0.090885,
     "end_time": "2022-05-05T23:05:13.814113",
     "exception": false,
     "start_time": "2022-05-05T23:05:13.723228",
     "status": "completed"
    },
    "tags": []
   },
   "outputs": [
    {
     "data": {
      "text/plain": [
       "0    55.0\n",
       "1    61.0\n",
       "2    65.0\n",
       "3    58.0\n",
       "4    58.0\n",
       "Name: table, dtype: float64"
      ]
     },
     "execution_count": 7,
     "metadata": {},
     "output_type": "execute_result"
    }
   ],
   "source": [
    "# Amacimiz Bir Degisken Icin Bir Aykiri Deger Gerceklestirmek\n",
    "\n",
    "df_table = df[\"table\"]\n",
    "\n",
    "df_table.head()"
   ]
  },
  {
   "cell_type": "code",
   "execution_count": 8,
   "id": "081bf304",
   "metadata": {
    "execution": {
     "iopub.execute_input": "2022-05-05T23:05:13.969027Z",
     "iopub.status.busy": "2022-05-05T23:05:13.968243Z",
     "iopub.status.idle": "2022-05-05T23:05:14.120467Z",
     "shell.execute_reply": "2022-05-05T23:05:14.119838Z"
    },
    "papermill": {
     "duration": 0.232696,
     "end_time": "2022-05-05T23:05:14.122896",
     "exception": false,
     "start_time": "2022-05-05T23:05:13.890200",
     "status": "completed"
    },
    "tags": []
   },
   "outputs": [
    {
     "data": {
      "image/png": "[encoded data removed]",
      "text/plain": [
       "<Figure size 432x288 with 1 Axes>"
      ]
     },
     "metadata": {
      "needs_background": "light"
     },
     "output_type": "display_data"
    }
   ],
   "source": [
    "sns.boxplot(x = df_table);\n",
    "\n",
    "# Grafikte Bulunan Kenarlardaki Cizgiler, Bizim Assagida Hesapladigimiz Degerlerdir ( alt_sinir, ust_sinir )\n",
    "# Boxplot Bize Bunu Hesaplayip Veriyor Zaten ( Gorsel Olarak )\n",
    "# Biz Bu Degerleri El Yordami Ile Gorebilmek Adina ( Kendimiz Bulabilmek Adina ) Hesaplama Yaptik"
   ]
  },
  {
   "cell_type": "code",
   "execution_count": 9,
   "id": "d9a8dbef",
   "metadata": {
    "execution": {
     "iopub.execute_input": "2022-05-05T23:05:14.283627Z",
     "iopub.status.busy": "2022-05-05T23:05:14.283329Z",
     "iopub.status.idle": "2022-05-05T23:05:14.292119Z",
     "shell.execute_reply": "2022-05-05T23:05:14.291172Z"
    },
    "papermill": {
     "duration": 0.093134,
     "end_time": "2022-05-05T23:05:14.294711",
     "exception": false,
     "start_time": "2022-05-05T23:05:14.201577",
     "status": "completed"
    },
    "tags": []
   },
   "outputs": [],
   "source": [
    "Q1 = df_table.quantile(0.25) # Degiskenin Kucukten Buyuge Siralandiginda % 25 'inci Indexine Karsilik Gelen Degeri Alicak\n",
    "Q3 = df_table.quantile(0.75)\n",
    "\n",
    "# Hesaplamanin Yapildigi Yer\n",
    "\n",
    "IQR = Q3 - Q1"
   ]
  },
  {
   "cell_type": "code",
   "execution_count": 10,
   "id": "64d58468",
   "metadata": {
    "execution": {
     "iopub.execute_input": "2022-05-05T23:05:14.455609Z",
     "iopub.status.busy": "2022-05-05T23:05:14.455292Z",
     "iopub.status.idle": "2022-05-05T23:05:14.460927Z",
     "shell.execute_reply": "2022-05-05T23:05:14.460110Z"
    },
    "papermill": {
     "duration": 0.090045,
     "end_time": "2022-05-05T23:05:14.462920",
     "exception": false,
     "start_time": "2022-05-05T23:05:14.372875",
     "status": "completed"
    },
    "tags": []
   },
   "outputs": [
    {
     "data": {
      "text/plain": [
       "56.0"
      ]
     },
     "execution_count": 10,
     "metadata": {},
     "output_type": "execute_result"
    }
   ],
   "source": [
    "Q1 # Gozlemleyelim"
   ]
  },
  {
   "cell_type": "code",
   "execution_count": 11,
   "id": "eac91758",
   "metadata": {
    "execution": {
     "iopub.execute_input": "2022-05-05T23:05:14.620987Z",
     "iopub.status.busy": "2022-05-05T23:05:14.620650Z",
     "iopub.status.idle": "2022-05-05T23:05:14.626142Z",
     "shell.execute_reply": "2022-05-05T23:05:14.625277Z"
    },
    "papermill": {
     "duration": 0.088009,
     "end_time": "2022-05-05T23:05:14.628295",
     "exception": false,
     "start_time": "2022-05-05T23:05:14.540286",
     "status": "completed"
    },
    "tags": []
   },
   "outputs": [
    {
     "data": {
      "text/plain": [
       "59.0"
      ]
     },
     "execution_count": 11,
     "metadata": {},
     "output_type": "execute_result"
    }
   ],
   "source": [
    "Q3 # Gozlemleyelim"
   ]
  },
  {
   "cell_type": "code",
   "execution_count": 12,
   "id": "a54da48e",
   "metadata": {
    "execution": {
     "iopub.execute_input": "2022-05-05T23:05:14.786580Z",
     "iopub.status.busy": "2022-05-05T23:05:14.786023Z",
     "iopub.status.idle": "2022-05-05T23:05:14.791185Z",
     "shell.execute_reply": "2022-05-05T23:05:14.790436Z"
    },
    "papermill": {
     "duration": 0.086071,
     "end_time": "2022-05-05T23:05:14.793146",
     "exception": false,
     "start_time": "2022-05-05T23:05:14.707075",
     "status": "completed"
    },
    "tags": []
   },
   "outputs": [
    {
     "data": {
      "text/plain": [
       "3.0"
      ]
     },
     "execution_count": 12,
     "metadata": {},
     "output_type": "execute_result"
    }
   ],
   "source": [
    "IQR # Gozlemleyelim"
   ]
  },
  {
   "cell_type": "code",
   "execution_count": 13,
   "id": "5ae62973",
   "metadata": {
    "execution": {
     "iopub.execute_input": "2022-05-05T23:05:14.951854Z",
     "iopub.status.busy": "2022-05-05T23:05:14.951062Z",
     "iopub.status.idle": "2022-05-05T23:05:14.955354Z",
     "shell.execute_reply": "2022-05-05T23:05:14.954387Z"
    },
    "papermill": {
     "duration": 0.086175,
     "end_time": "2022-05-05T23:05:14.957443",
     "exception": false,
     "start_time": "2022-05-05T23:05:14.871268",
     "status": "completed"
    },
    "tags": []
   },
   "outputs": [],
   "source": [
    "# Simdi Boxplot Yontemi Ile Esik Degerleri Hesaplama Islemi Gerceklestiricez Bunu Hesaplamak Icin    IQR, Q1, Q2    Degerlerini Kullanicaz"
   ]
  },
  {
   "cell_type": "code",
   "execution_count": 14,
   "id": "fe9b30c5",
   "metadata": {
    "execution": {
     "iopub.execute_input": "2022-05-05T23:05:15.117779Z",
     "iopub.status.busy": "2022-05-05T23:05:15.117105Z",
     "iopub.status.idle": "2022-05-05T23:05:15.121919Z",
     "shell.execute_reply": "2022-05-05T23:05:15.120995Z"
    },
    "papermill": {
     "duration": 0.087241,
     "end_time": "2022-05-05T23:05:15.123808",
     "exception": false,
     "start_time": "2022-05-05T23:05:15.036567",
     "status": "completed"
    },
    "tags": []
   },
   "outputs": [],
   "source": [
    "alt_sinir = Q1 - 1.5 * IQR # Birinci Ceyrek Degerimizden (1.5 * IQR) Kadar Assagisini Alt Sinir Olarak Belirle Demek ( Esik Degeri Olarak Belirle Demek )\n",
    "ust_sinir = Q3 + 1.5 * IQR"
   ]
  },
  {
   "cell_type": "code",
   "execution_count": 15,
   "id": "df464d55",
   "metadata": {
    "execution": {
     "iopub.execute_input": "2022-05-05T23:05:15.283588Z",
     "iopub.status.busy": "2022-05-05T23:05:15.283269Z",
     "iopub.status.idle": "2022-05-05T23:05:15.288353Z",
     "shell.execute_reply": "2022-05-05T23:05:15.287772Z"
    },
    "papermill": {
     "duration": 0.087317,
     "end_time": "2022-05-05T23:05:15.290074",
     "exception": false,
     "start_time": "2022-05-05T23:05:15.202757",
     "status": "completed"
    },
    "tags": []
   },
   "outputs": [
    {
     "data": {
      "text/plain": [
       "51.5"
      ]
     },
     "execution_count": 15,
     "metadata": {},
     "output_type": "execute_result"
    }
   ],
   "source": [
    "alt_sinir # Gozlemleyelim"
   ]
  },
  {
   "cell_type": "code",
   "execution_count": 16,
   "id": "96e7efa5",
   "metadata": {
    "execution": {
     "iopub.execute_input": "2022-05-05T23:05:15.452452Z",
     "iopub.status.busy": "2022-05-05T23:05:15.451893Z",
     "iopub.status.idle": "2022-05-05T23:05:15.456932Z",
     "shell.execute_reply": "2022-05-05T23:05:15.456144Z"
    },
    "papermill": {
     "duration": 0.090583,
     "end_time": "2022-05-05T23:05:15.458862",
     "exception": false,
     "start_time": "2022-05-05T23:05:15.368279",
     "status": "completed"
    },
    "tags": []
   },
   "outputs": [
    {
     "data": {
      "text/plain": [
       "63.5"
      ]
     },
     "execution_count": 16,
     "metadata": {},
     "output_type": "execute_result"
    }
   ],
   "source": [
    "ust_sinir # Gozlemleyelim"
   ]
  },
  {
   "cell_type": "code",
   "execution_count": 17,
   "id": "b0f1bb38",
   "metadata": {
    "execution": {
     "iopub.execute_input": "2022-05-05T23:05:15.619313Z",
     "iopub.status.busy": "2022-05-05T23:05:15.618769Z",
     "iopub.status.idle": "2022-05-05T23:05:15.626350Z",
     "shell.execute_reply": "2022-05-05T23:05:15.625548Z"
    },
    "papermill": {
     "duration": 0.090278,
     "end_time": "2022-05-05T23:05:15.628348",
     "exception": false,
     "start_time": "2022-05-05T23:05:15.538070",
     "status": "completed"
    },
    "tags": []
   },
   "outputs": [
    {
     "data": {
      "text/plain": [
       "0        False\n",
       "1        False\n",
       "2        False\n",
       "3        False\n",
       "4        False\n",
       "         ...  \n",
       "53935    False\n",
       "53936    False\n",
       "53937    False\n",
       "53938    False\n",
       "53939    False\n",
       "Name: table, Length: 53940, dtype: bool"
      ]
     },
     "execution_count": 17,
     "metadata": {},
     "output_type": "execute_result"
    }
   ],
   "source": [
    "# Amacimiz Aykiri Degerlere Ulasabilmek ( Adim Adim Baslayalim )\n",
    "\n",
    "df_table < alt_sinir # Bu Bool Sorgulamasini Her Bir Gozlem Icin Sorguladi"
   ]
  },
  {
   "cell_type": "code",
   "execution_count": 18,
   "id": "e4d705e6",
   "metadata": {
    "execution": {
     "iopub.execute_input": "2022-05-05T23:05:15.793138Z",
     "iopub.status.busy": "2022-05-05T23:05:15.792599Z",
     "iopub.status.idle": "2022-05-05T23:05:15.800257Z",
     "shell.execute_reply": "2022-05-05T23:05:15.799683Z"
    },
    "papermill": {
     "duration": 0.090477,
     "end_time": "2022-05-05T23:05:15.802249",
     "exception": false,
     "start_time": "2022-05-05T23:05:15.711772",
     "status": "completed"
    },
    "tags": []
   },
   "outputs": [
    {
     "data": {
      "text/plain": [
       "0        False\n",
       "1        False\n",
       "2         True\n",
       "3        False\n",
       "4        False\n",
       "         ...  \n",
       "53935    False\n",
       "53936    False\n",
       "53937    False\n",
       "53938    False\n",
       "53939    False\n",
       "Name: table, Length: 53940, dtype: bool"
      ]
     },
     "execution_count": 18,
     "metadata": {},
     "output_type": "execute_result"
    }
   ],
   "source": [
    "# Ya Alt Sinirdan Kucuk Olanlari Yada Ust Sinirden Buyuk Olanlari Sorgulamis Olduk\n",
    "\n",
    "(df_table < alt_sinir) | (df_table > ust_sinir) # Bu Sarti Saglayanlar \"True\" , Saglamayanlar \"False\" Degeri Verir\n",
    "\n",
    "# Biz Sadece Su An Sorgulama Yapmis Olduk"
   ]
  },
  {
   "cell_type": "code",
   "execution_count": 19,
   "id": "1ab2f619",
   "metadata": {
    "execution": {
     "iopub.execute_input": "2022-05-05T23:05:15.966525Z",
     "iopub.status.busy": "2022-05-05T23:05:15.966219Z",
     "iopub.status.idle": "2022-05-05T23:05:15.973250Z",
     "shell.execute_reply": "2022-05-05T23:05:15.972477Z"
    },
    "papermill": {
     "duration": 0.09163,
     "end_time": "2022-05-05T23:05:15.975326",
     "exception": false,
     "start_time": "2022-05-05T23:05:15.883696",
     "status": "completed"
    },
    "tags": []
   },
   "outputs": [
    {
     "data": {
      "text/plain": [
       "0    False\n",
       "1    False\n",
       "2    False\n",
       "3    False\n",
       "4    False\n",
       "Name: table, dtype: bool"
      ]
     },
     "execution_count": 19,
     "metadata": {},
     "output_type": "execute_result"
    }
   ],
   "source": [
    "aykiri_tf = (df_table < alt_sinir) # Aykiri True False Isminde Bi Degisken\n",
    "\n",
    "aykiri_tf.head()"
   ]
  },
  {
   "cell_type": "code",
   "execution_count": 20,
   "id": "a01e4948",
   "metadata": {
    "execution": {
     "iopub.execute_input": "2022-05-05T23:05:16.140591Z",
     "iopub.status.busy": "2022-05-05T23:05:16.140069Z",
     "iopub.status.idle": "2022-05-05T23:05:16.143140Z",
     "shell.execute_reply": "2022-05-05T23:05:16.142568Z"
    },
    "papermill": {
     "duration": 0.086308,
     "end_time": "2022-05-05T23:05:16.144861",
     "exception": false,
     "start_time": "2022-05-05T23:05:16.058553",
     "status": "completed"
    },
    "tags": []
   },
   "outputs": [],
   "source": [
    "# Simdi Aykiri Deger Elemanlarina Ulasmak Istiyoruz Bu Islemi Fancy Index Yontemi Ile Yapicaz"
   ]
  },
  {
   "cell_type": "code",
   "execution_count": 21,
   "id": "151a5c84",
   "metadata": {
    "execution": {
     "iopub.execute_input": "2022-05-05T23:05:16.306901Z",
     "iopub.status.busy": "2022-05-05T23:05:16.306370Z",
     "iopub.status.idle": "2022-05-05T23:05:16.313328Z",
     "shell.execute_reply": "2022-05-05T23:05:16.312541Z"
    },
    "papermill": {
     "duration": 0.090242,
     "end_time": "2022-05-05T23:05:16.315207",
     "exception": false,
     "start_time": "2022-05-05T23:05:16.224965",
     "status": "completed"
    },
    "tags": []
   },
   "outputs": [
    {
     "data": {
      "text/plain": [
       "1515     51.0\n",
       "3238     50.1\n",
       "3979     51.0\n",
       "4150     51.0\n",
       "5979     49.0\n",
       "7418     50.0\n",
       "8853     51.0\n",
       "11368    43.0\n",
       "22701    49.0\n",
       "25179    50.0\n",
       "26387    51.0\n",
       "33586    51.0\n",
       "35633    44.0\n",
       "45798    51.0\n",
       "46040    51.0\n",
       "47630    51.0\n",
       "Name: table, dtype: float64"
      ]
     },
     "execution_count": 21,
     "metadata": {},
     "output_type": "execute_result"
    }
   ],
   "source": [
    "df_table[aykiri_tf] # [] Ifadesinin Icerisinde True Olanlari Gosterte Biliyoduk Yani Aykiri Elemanlara Fancy Index Yardimi Ile Ulasmis Olduk"
   ]
  },
  {
   "cell_type": "code",
   "execution_count": 22,
   "id": "27acdbb3",
   "metadata": {
    "execution": {
     "iopub.execute_input": "2022-05-05T23:05:16.479798Z",
     "iopub.status.busy": "2022-05-05T23:05:16.479271Z",
     "iopub.status.idle": "2022-05-05T23:05:16.485435Z",
     "shell.execute_reply": "2022-05-05T23:05:16.484838Z"
    },
    "papermill": {
     "duration": 0.091831,
     "end_time": "2022-05-05T23:05:16.487370",
     "exception": false,
     "start_time": "2022-05-05T23:05:16.395539",
     "status": "completed"
    },
    "tags": []
   },
   "outputs": [
    {
     "data": {
      "text/plain": [
       "Int64Index([ 1515,  3238,  3979,  4150,  5979,  7418,  8853, 11368, 22701,\n",
       "            25179, 26387, 33586, 35633, 45798, 46040, 47630],\n",
       "           dtype='int64')"
      ]
     },
     "execution_count": 22,
     "metadata": {},
     "output_type": "execute_result"
    }
   ],
   "source": [
    "# Aykiri Elemanlarin Index Degerlerine Su Sekilde Erisebiliriz\n",
    "\n",
    "df_table[aykiri_tf].index"
   ]
  },
  {
   "cell_type": "code",
   "execution_count": 23,
   "id": "298b4000",
   "metadata": {
    "execution": {
     "iopub.execute_input": "2022-05-05T23:05:16.653423Z",
     "iopub.status.busy": "2022-05-05T23:05:16.652883Z",
     "iopub.status.idle": "2022-05-05T23:05:16.655986Z",
     "shell.execute_reply": "2022-05-05T23:05:16.655462Z"
    },
    "papermill": {
     "duration": 0.087808,
     "end_time": "2022-05-05T23:05:16.657872",
     "exception": false,
     "start_time": "2022-05-05T23:05:16.570064",
     "status": "completed"
    },
    "tags": []
   },
   "outputs": [],
   "source": [
    "# Bu Aykiri Degerleri Yakalama Islemlerini Ogrenmemizin Sebebi; Bunlari Silmek, Duzenlemek Gibi Islemlere Sokucaz"
   ]
  },
  {
   "cell_type": "markdown",
   "id": "01e10770",
   "metadata": {
    "papermill": {
     "duration": 0.081755,
     "end_time": "2022-05-05T23:05:16.821391",
     "exception": false,
     "start_time": "2022-05-05T23:05:16.739636",
     "status": "completed"
    },
    "tags": []
   },
   "source": [
    "# Aykiri Deger Problemini Cozmek"
   ]
  },
  {
   "cell_type": "markdown",
   "id": "3d523588",
   "metadata": {
    "papermill": {
     "duration": 0.095352,
     "end_time": "2022-05-05T23:05:16.998296",
     "exception": false,
     "start_time": "2022-05-05T23:05:16.902944",
     "status": "completed"
    },
    "tags": []
   },
   "source": [
    "### 1. Yaklasim   -- Silme Yaklasimi --"
   ]
  },
  {
   "cell_type": "code",
   "execution_count": 24,
   "id": "21cb6b66",
   "metadata": {
    "execution": {
     "iopub.execute_input": "2022-05-05T23:05:17.163357Z",
     "iopub.status.busy": "2022-05-05T23:05:17.162777Z",
     "iopub.status.idle": "2022-05-05T23:05:17.167726Z",
     "shell.execute_reply": "2022-05-05T23:05:17.167087Z"
    },
    "papermill": {
     "duration": 0.089272,
     "end_time": "2022-05-05T23:05:17.169557",
     "exception": false,
     "start_time": "2022-05-05T23:05:17.080285",
     "status": "completed"
    },
    "tags": []
   },
   "outputs": [
    {
     "data": {
      "text/plain": [
       "pandas.core.series.Series"
      ]
     },
     "execution_count": 24,
     "metadata": {},
     "output_type": "execute_result"
    }
   ],
   "source": [
    "# Pandas Kutuphanesi \"import\" Edilir Sonra\n",
    "\n",
    "type(df_table) # Pandas Serisi Formunda Oldugunu Gorduk"
   ]
  },
  {
   "cell_type": "code",
   "execution_count": 25,
   "id": "aae70373",
   "metadata": {
    "execution": {
     "iopub.execute_input": "2022-05-05T23:05:17.333212Z",
     "iopub.status.busy": "2022-05-05T23:05:17.332691Z",
     "iopub.status.idle": "2022-05-05T23:05:17.336783Z",
     "shell.execute_reply": "2022-05-05T23:05:17.336171Z"
    },
    "papermill": {
     "duration": 0.087946,
     "end_time": "2022-05-05T23:05:17.338594",
     "exception": false,
     "start_time": "2022-05-05T23:05:17.250648",
     "status": "completed"
    },
    "tags": []
   },
   "outputs": [],
   "source": [
    "# Bunu Bir Pandas Data_Frame'sine Cevirmemiz Gerekiyor\n",
    "\n",
    "df_table = pd.DataFrame(df_table) # Cevirme Islemini Gerceklestirdik"
   ]
  },
  {
   "cell_type": "code",
   "execution_count": 26,
   "id": "828cb405",
   "metadata": {
    "execution": {
     "iopub.execute_input": "2022-05-05T23:05:17.506038Z",
     "iopub.status.busy": "2022-05-05T23:05:17.505439Z",
     "iopub.status.idle": "2022-05-05T23:05:17.510230Z",
     "shell.execute_reply": "2022-05-05T23:05:17.509663Z"
    },
    "papermill": {
     "duration": 0.092433,
     "end_time": "2022-05-05T23:05:17.512235",
     "exception": false,
     "start_time": "2022-05-05T23:05:17.419802",
     "status": "completed"
    },
    "tags": []
   },
   "outputs": [
    {
     "data": {
      "text/plain": [
       "(53940, 1)"
      ]
     },
     "execution_count": 26,
     "metadata": {},
     "output_type": "execute_result"
    }
   ],
   "source": [
    "df_table.shape"
   ]
  },
  {
   "cell_type": "code",
   "execution_count": 27,
   "id": "50bc116e",
   "metadata": {
    "execution": {
     "iopub.execute_input": "2022-05-05T23:05:17.678309Z",
     "iopub.status.busy": "2022-05-05T23:05:17.677880Z",
     "iopub.status.idle": "2022-05-05T23:05:17.684308Z",
     "shell.execute_reply": "2022-05-05T23:05:17.683655Z"
    },
    "papermill": {
     "duration": 0.092223,
     "end_time": "2022-05-05T23:05:17.686316",
     "exception": false,
     "start_time": "2022-05-05T23:05:17.594093",
     "status": "completed"
    },
    "tags": []
   },
   "outputs": [],
   "source": [
    "# Amac: Ust Ve Alt Sinirlari Goz Onunde Bulundurarak Aykiri Olmayan Degerlere Ulasmaya Calismak\n",
    "\n",
    "# ( Bilgilendirme ) ----->>  alt gr Tusuna Basarak Iki Tane (sesli) u Yaparsan \"Tilda\" Isareti Yapilmis Olur\n",
    "\n",
    "t_df = df_table[~( ( ( df_table < alt_sinir ) | ( df_table > ust_sinir ) ) ).any( axis = 1 ) ] \n",
    "\n",
    "# Temiz Data_Frame Adinda Bir Degisken, \"Tilda\" Isaretini Koymamizin Sebebi Kosulu Saglamayanlari Al Demektir ( Aykiri Olmayanlari Sec Diyoruz )\n",
    "\n",
    "# \"Tilda\" Isareti Sonrasinda Python Anlamis Oluyor Ki ( Isaretin ) Saginda Yer Alan Kosulun Disindakileri Getir Demis Oluyor\n",
    "\n",
    "# .any( axes = 1 ) ------>> Koymamizin Sebebi Sutun Bazinda Bir Islem Yapmak Istememizdi"
   ]
  },
  {
   "cell_type": "code",
   "execution_count": 28,
   "id": "3f0e77db",
   "metadata": {
    "execution": {
     "iopub.execute_input": "2022-05-05T23:05:17.854608Z",
     "iopub.status.busy": "2022-05-05T23:05:17.854095Z",
     "iopub.status.idle": "2022-05-05T23:05:17.859200Z",
     "shell.execute_reply": "2022-05-05T23:05:17.858292Z"
    },
    "papermill": {
     "duration": 0.091468,
     "end_time": "2022-05-05T23:05:17.861130",
     "exception": false,
     "start_time": "2022-05-05T23:05:17.769662",
     "status": "completed"
    },
    "tags": []
   },
   "outputs": [
    {
     "data": {
      "text/plain": [
       "(53335, 1)"
      ]
     },
     "execution_count": 28,
     "metadata": {},
     "output_type": "execute_result"
    }
   ],
   "source": [
    "t_df.shape # Yukaridaki shape Ile Burada ki Shape yi Karsilastirirsak 605 Tane Gozlem Birimi Gitmis Oldugunu Goruyoruz, Demekki 605 Adet Aykiri Gozlem Varmis"
   ]
  },
  {
   "cell_type": "markdown",
   "id": "8ab9e57e",
   "metadata": {
    "papermill": {
     "duration": 0.09942,
     "end_time": "2022-05-05T23:05:18.060647",
     "exception": false,
     "start_time": "2022-05-05T23:05:17.961227",
     "status": "completed"
    },
    "tags": []
   },
   "source": [
    "### 2. Yaklasim   -- Ortalama Ile Doldurma --"
   ]
  },
  {
   "cell_type": "code",
   "execution_count": 29,
   "id": "ef2d65c6",
   "metadata": {
    "execution": {
     "iopub.execute_input": "2022-05-05T23:05:18.226898Z",
     "iopub.status.busy": "2022-05-05T23:05:18.226456Z",
     "iopub.status.idle": "2022-05-05T23:05:18.319423Z",
     "shell.execute_reply": "2022-05-05T23:05:18.318832Z"
    },
    "papermill": {
     "duration": 0.1784,
     "end_time": "2022-05-05T23:05:18.321416",
     "exception": false,
     "start_time": "2022-05-05T23:05:18.143016",
     "status": "completed"
    },
    "tags": []
   },
   "outputs": [
    {
     "data": {
      "text/html": [
       "<div>\n",
       "<style scoped>\n",
       "    .dataframe tbody tr th:only-of-type {\n",
       "        vertical-align: middle;\n",
       "    }\n",
       "\n",
       "    .dataframe tbody tr th {\n",
       "        vertical-align: top;\n",
       "    }\n",
       "\n",
       "    .dataframe thead th {\n",
       "        text-align: right;\n",
       "    }\n",
       "</style>\n",
       "<table border=\"1\" class=\"dataframe\">\n",
       "  <thead>\n",
       "    <tr style=\"text-align: right;\">\n",
       "      <th></th>\n",
       "      <th>carat</th>\n",
       "      <th>depth</th>\n",
       "      <th>table</th>\n",
       "      <th>price</th>\n",
       "      <th>x</th>\n",
       "      <th>y</th>\n",
       "      <th>z</th>\n",
       "    </tr>\n",
       "  </thead>\n",
       "  <tbody>\n",
       "    <tr>\n",
       "      <th>0</th>\n",
       "      <td>0.23</td>\n",
       "      <td>61.5</td>\n",
       "      <td>55.0</td>\n",
       "      <td>326</td>\n",
       "      <td>3.95</td>\n",
       "      <td>3.98</td>\n",
       "      <td>2.43</td>\n",
       "    </tr>\n",
       "    <tr>\n",
       "      <th>1</th>\n",
       "      <td>0.21</td>\n",
       "      <td>59.8</td>\n",
       "      <td>61.0</td>\n",
       "      <td>326</td>\n",
       "      <td>3.89</td>\n",
       "      <td>3.84</td>\n",
       "      <td>2.31</td>\n",
       "    </tr>\n",
       "    <tr>\n",
       "      <th>2</th>\n",
       "      <td>0.23</td>\n",
       "      <td>56.9</td>\n",
       "      <td>65.0</td>\n",
       "      <td>327</td>\n",
       "      <td>4.05</td>\n",
       "      <td>4.07</td>\n",
       "      <td>2.31</td>\n",
       "    </tr>\n",
       "    <tr>\n",
       "      <th>3</th>\n",
       "      <td>0.29</td>\n",
       "      <td>62.4</td>\n",
       "      <td>58.0</td>\n",
       "      <td>334</td>\n",
       "      <td>4.20</td>\n",
       "      <td>4.23</td>\n",
       "      <td>2.63</td>\n",
       "    </tr>\n",
       "    <tr>\n",
       "      <th>4</th>\n",
       "      <td>0.31</td>\n",
       "      <td>63.3</td>\n",
       "      <td>58.0</td>\n",
       "      <td>335</td>\n",
       "      <td>4.34</td>\n",
       "      <td>4.35</td>\n",
       "      <td>2.75</td>\n",
       "    </tr>\n",
       "  </tbody>\n",
       "</table>\n",
       "</div>"
      ],
      "text/plain": [
       "   carat  depth  table  price     x     y     z\n",
       "0   0.23   61.5   55.0    326  3.95  3.98  2.43\n",
       "1   0.21   59.8   61.0    326  3.89  3.84  2.31\n",
       "2   0.23   56.9   65.0    327  4.05  4.07  2.31\n",
       "3   0.29   62.4   58.0    334  4.20  4.23  2.63\n",
       "4   0.31   63.3   58.0    335  4.34  4.35  2.75"
      ]
     },
     "execution_count": 29,
     "metadata": {},
     "output_type": "execute_result"
    }
   ],
   "source": [
    "# Dersler Arasinda Veri Setimize Cesitli Islemler Uyguladigimizdan Bastan import Ediyorum Veri Setini\n",
    "\n",
    "df = pd.read_csv(\"../input/seaborn-practice/diamonds.csv\")\n",
    "df = df.select_dtypes(include = [\"float64\", \"int64\"]) # Sadece Icerisindeki Sayisal Degiskenlere Erismek Icin Bir Tip Secimi Gerceklestirdik\n",
    "df = df.dropna() # Veri Setinin Icerisindeki Eksik Degerleri Silerek ( Disarida Birakarak ) Son Data_Frame'mizi Olusturuyoruz\n",
    "df.head()"
   ]
  },
  {
   "cell_type": "code",
   "execution_count": 30,
   "id": "98d81662",
   "metadata": {
    "execution": {
     "iopub.execute_input": "2022-05-05T23:05:18.491385Z",
     "iopub.status.busy": "2022-05-05T23:05:18.490935Z",
     "iopub.status.idle": "2022-05-05T23:05:18.495425Z",
     "shell.execute_reply": "2022-05-05T23:05:18.494792Z"
    },
    "papermill": {
     "duration": 0.09208,
     "end_time": "2022-05-05T23:05:18.497450",
     "exception": false,
     "start_time": "2022-05-05T23:05:18.405370",
     "status": "completed"
    },
    "tags": []
   },
   "outputs": [],
   "source": [
    "df_table = df[\"table\"]"
   ]
  },
  {
   "cell_type": "code",
   "execution_count": 31,
   "id": "d6d586da",
   "metadata": {
    "execution": {
     "iopub.execute_input": "2022-05-05T23:05:18.667802Z",
     "iopub.status.busy": "2022-05-05T23:05:18.667260Z",
     "iopub.status.idle": "2022-05-05T23:05:18.673326Z",
     "shell.execute_reply": "2022-05-05T23:05:18.672677Z"
    },
    "papermill": {
     "duration": 0.092008,
     "end_time": "2022-05-05T23:05:18.675277",
     "exception": false,
     "start_time": "2022-05-05T23:05:18.583269",
     "status": "completed"
    },
    "tags": []
   },
   "outputs": [
    {
     "data": {
      "text/plain": [
       "0    False\n",
       "1    False\n",
       "2    False\n",
       "3    False\n",
       "4    False\n",
       "Name: table, dtype: bool"
      ]
     },
     "execution_count": 31,
     "metadata": {},
     "output_type": "execute_result"
    }
   ],
   "source": [
    "aykiri_tf.head()"
   ]
  },
  {
   "cell_type": "code",
   "execution_count": 32,
   "id": "ad849be7",
   "metadata": {
    "execution": {
     "iopub.execute_input": "2022-05-05T23:05:18.858587Z",
     "iopub.status.busy": "2022-05-05T23:05:18.858084Z",
     "iopub.status.idle": "2022-05-05T23:05:18.864932Z",
     "shell.execute_reply": "2022-05-05T23:05:18.864185Z"
    },
    "papermill": {
     "duration": 0.101625,
     "end_time": "2022-05-05T23:05:18.866745",
     "exception": false,
     "start_time": "2022-05-05T23:05:18.765120",
     "status": "completed"
    },
    "tags": []
   },
   "outputs": [
    {
     "data": {
      "text/plain": [
       "1515     51.0\n",
       "3238     50.1\n",
       "3979     51.0\n",
       "4150     51.0\n",
       "5979     49.0\n",
       "7418     50.0\n",
       "8853     51.0\n",
       "11368    43.0\n",
       "22701    49.0\n",
       "25179    50.0\n",
       "26387    51.0\n",
       "33586    51.0\n",
       "35633    44.0\n",
       "45798    51.0\n",
       "46040    51.0\n",
       "47630    51.0\n",
       "Name: table, dtype: float64"
      ]
     },
     "execution_count": 32,
     "metadata": {},
     "output_type": "execute_result"
    }
   ],
   "source": [
    "# Aykiri Degerleri Ortalama Ile Degistiricez\n",
    "\n",
    "df_table[aykiri_tf] # Bunlar Alt Sinirdaki Aykiri Degerler"
   ]
  },
  {
   "cell_type": "code",
   "execution_count": 33,
   "id": "785f327a",
   "metadata": {
    "execution": {
     "iopub.execute_input": "2022-05-05T23:05:19.035182Z",
     "iopub.status.busy": "2022-05-05T23:05:19.034704Z",
     "iopub.status.idle": "2022-05-05T23:05:19.040163Z",
     "shell.execute_reply": "2022-05-05T23:05:19.039501Z"
    },
    "papermill": {
     "duration": 0.091887,
     "end_time": "2022-05-05T23:05:19.042019",
     "exception": false,
     "start_time": "2022-05-05T23:05:18.950132",
     "status": "completed"
    },
    "tags": []
   },
   "outputs": [
    {
     "data": {
      "text/plain": [
       "57.45718390804598"
      ]
     },
     "execution_count": 33,
     "metadata": {},
     "output_type": "execute_result"
    }
   ],
   "source": [
    "df_table.mean()"
   ]
  },
  {
   "cell_type": "code",
   "execution_count": 34,
   "id": "beb8006c",
   "metadata": {
    "execution": {
     "iopub.execute_input": "2022-05-05T23:05:19.212600Z",
     "iopub.status.busy": "2022-05-05T23:05:19.212289Z",
     "iopub.status.idle": "2022-05-05T23:05:19.220005Z",
     "shell.execute_reply": "2022-05-05T23:05:19.219393Z"
    },
    "papermill": {
     "duration": 0.09616,
     "end_time": "2022-05-05T23:05:19.223247",
     "exception": false,
     "start_time": "2022-05-05T23:05:19.127087",
     "status": "completed"
    },
    "tags": []
   },
   "outputs": [
    {
     "name": "stderr",
     "output_type": "stream",
     "text": [
      "/opt/conda/lib/python3.7/site-packages/ipykernel_launcher.py:1: SettingWithCopyWarning: \n",
      "A value is trying to be set on a copy of a slice from a DataFrame\n",
      "\n",
      "See the caveats in the documentation: https://pandas.pydata.org/pandas-docs/stable/user_guide/indexing.html#returning-a-view-versus-a-copy\n",
      "  \"\"\"Entry point for launching an IPython kernel.\n"
     ]
    }
   ],
   "source": [
    "df_table[aykiri_tf] = df_table.mean() # Aykirilari Yakaladik Ve Bunlara Ortalama Atamasi Yaptik ( Uyariyi Gormezden Geliyoruz )"
   ]
  },
  {
   "cell_type": "code",
   "execution_count": 35,
   "id": "4ed7122e",
   "metadata": {
    "execution": {
     "iopub.execute_input": "2022-05-05T23:05:19.394230Z",
     "iopub.status.busy": "2022-05-05T23:05:19.393718Z",
     "iopub.status.idle": "2022-05-05T23:05:19.400403Z",
     "shell.execute_reply": "2022-05-05T23:05:19.399855Z"
    },
    "papermill": {
     "duration": 0.093902,
     "end_time": "2022-05-05T23:05:19.402198",
     "exception": false,
     "start_time": "2022-05-05T23:05:19.308296",
     "status": "completed"
    },
    "tags": []
   },
   "outputs": [
    {
     "data": {
      "text/plain": [
       "1515     57.457184\n",
       "3238     57.457184\n",
       "3979     57.457184\n",
       "4150     57.457184\n",
       "5979     57.457184\n",
       "7418     57.457184\n",
       "8853     57.457184\n",
       "11368    57.457184\n",
       "22701    57.457184\n",
       "25179    57.457184\n",
       "26387    57.457184\n",
       "33586    57.457184\n",
       "35633    57.457184\n",
       "45798    57.457184\n",
       "46040    57.457184\n",
       "47630    57.457184\n",
       "Name: table, dtype: float64"
      ]
     },
     "execution_count": 35,
     "metadata": {},
     "output_type": "execute_result"
    }
   ],
   "source": [
    "df_table[aykiri_tf] # Atama Isleminin Basari Ile Yapildigini Gorduk"
   ]
  },
  {
   "cell_type": "markdown",
   "id": "feb0ea69",
   "metadata": {
    "papermill": {
     "duration": 0.103381,
     "end_time": "2022-05-05T23:05:19.591301",
     "exception": false,
     "start_time": "2022-05-05T23:05:19.487920",
     "status": "completed"
    },
    "tags": []
   },
   "source": [
    "### 3. Yaklasim   -- Baskilama Yontemi --"
   ]
  },
  {
   "cell_type": "code",
   "execution_count": 36,
   "id": "f3d4e334",
   "metadata": {
    "execution": {
     "iopub.execute_input": "2022-05-05T23:05:19.805078Z",
     "iopub.status.busy": "2022-05-05T23:05:19.804526Z",
     "iopub.status.idle": "2022-05-05T23:05:19.807876Z",
     "shell.execute_reply": "2022-05-05T23:05:19.807009Z"
    },
    "papermill": {
     "duration": 0.112412,
     "end_time": "2022-05-05T23:05:19.809808",
     "exception": false,
     "start_time": "2022-05-05T23:05:19.697396",
     "status": "completed"
    },
    "tags": []
   },
   "outputs": [],
   "source": [
    "# Baskilama Yonteminde;\n",
    "# Aykirilar Yakalandiktan Sonra Ust Tarafta Ise Ust Sinir Degerine Esitlenir, Alt Tarafta Ise Alt Sinir Degerine Esitlenir"
   ]
  },
  {
   "cell_type": "code",
   "execution_count": 37,
   "id": "63e03629",
   "metadata": {
    "execution": {
     "iopub.execute_input": "2022-05-05T23:05:19.982361Z",
     "iopub.status.busy": "2022-05-05T23:05:19.981909Z",
     "iopub.status.idle": "2022-05-05T23:05:20.077543Z",
     "shell.execute_reply": "2022-05-05T23:05:20.076720Z"
    },
    "papermill": {
     "duration": 0.184833,
     "end_time": "2022-05-05T23:05:20.079858",
     "exception": false,
     "start_time": "2022-05-05T23:05:19.895025",
     "status": "completed"
    },
    "tags": []
   },
   "outputs": [
    {
     "data": {
      "text/html": [
       "<div>\n",
       "<style scoped>\n",
       "    .dataframe tbody tr th:only-of-type {\n",
       "        vertical-align: middle;\n",
       "    }\n",
       "\n",
       "    .dataframe tbody tr th {\n",
       "        vertical-align: top;\n",
       "    }\n",
       "\n",
       "    .dataframe thead th {\n",
       "        text-align: right;\n",
       "    }\n",
       "</style>\n",
       "<table border=\"1\" class=\"dataframe\">\n",
       "  <thead>\n",
       "    <tr style=\"text-align: right;\">\n",
       "      <th></th>\n",
       "      <th>carat</th>\n",
       "      <th>depth</th>\n",
       "      <th>table</th>\n",
       "      <th>price</th>\n",
       "      <th>x</th>\n",
       "      <th>y</th>\n",
       "      <th>z</th>\n",
       "    </tr>\n",
       "  </thead>\n",
       "  <tbody>\n",
       "    <tr>\n",
       "      <th>0</th>\n",
       "      <td>0.23</td>\n",
       "      <td>61.5</td>\n",
       "      <td>55.0</td>\n",
       "      <td>326</td>\n",
       "      <td>3.95</td>\n",
       "      <td>3.98</td>\n",
       "      <td>2.43</td>\n",
       "    </tr>\n",
       "    <tr>\n",
       "      <th>1</th>\n",
       "      <td>0.21</td>\n",
       "      <td>59.8</td>\n",
       "      <td>61.0</td>\n",
       "      <td>326</td>\n",
       "      <td>3.89</td>\n",
       "      <td>3.84</td>\n",
       "      <td>2.31</td>\n",
       "    </tr>\n",
       "    <tr>\n",
       "      <th>2</th>\n",
       "      <td>0.23</td>\n",
       "      <td>56.9</td>\n",
       "      <td>65.0</td>\n",
       "      <td>327</td>\n",
       "      <td>4.05</td>\n",
       "      <td>4.07</td>\n",
       "      <td>2.31</td>\n",
       "    </tr>\n",
       "    <tr>\n",
       "      <th>3</th>\n",
       "      <td>0.29</td>\n",
       "      <td>62.4</td>\n",
       "      <td>58.0</td>\n",
       "      <td>334</td>\n",
       "      <td>4.20</td>\n",
       "      <td>4.23</td>\n",
       "      <td>2.63</td>\n",
       "    </tr>\n",
       "    <tr>\n",
       "      <th>4</th>\n",
       "      <td>0.31</td>\n",
       "      <td>63.3</td>\n",
       "      <td>58.0</td>\n",
       "      <td>335</td>\n",
       "      <td>4.34</td>\n",
       "      <td>4.35</td>\n",
       "      <td>2.75</td>\n",
       "    </tr>\n",
       "  </tbody>\n",
       "</table>\n",
       "</div>"
      ],
      "text/plain": [
       "   carat  depth  table  price     x     y     z\n",
       "0   0.23   61.5   55.0    326  3.95  3.98  2.43\n",
       "1   0.21   59.8   61.0    326  3.89  3.84  2.31\n",
       "2   0.23   56.9   65.0    327  4.05  4.07  2.31\n",
       "3   0.29   62.4   58.0    334  4.20  4.23  2.63\n",
       "4   0.31   63.3   58.0    335  4.34  4.35  2.75"
      ]
     },
     "execution_count": 37,
     "metadata": {},
     "output_type": "execute_result"
    }
   ],
   "source": [
    "# Dersler Arasinda Veri Setimize Cesitli Islemler Uyguladigimizdan Bastan import Ediyorum Veri Setini\n",
    "\n",
    "df = pd.read_csv(\"../input/seaborn-practice/diamonds.csv\")\n",
    "df = df.select_dtypes(include = [\"float64\", \"int64\"]) # Sadece Icerisindeki Sayisal Degiskenlere Erismek Icin Bir Tip Secimi Gerceklestirdik\n",
    "df = df.dropna() # Veri Setinin Icerisindeki Eksik Degerleri Silerek ( Disarida Birakarak ) Son Data_Frame'mizi Olusturuyoruz\n",
    "df.head()"
   ]
  },
  {
   "cell_type": "code",
   "execution_count": 38,
   "id": "3a61cffb",
   "metadata": {
    "execution": {
     "iopub.execute_input": "2022-05-05T23:05:20.251885Z",
     "iopub.status.busy": "2022-05-05T23:05:20.251065Z",
     "iopub.status.idle": "2022-05-05T23:05:20.255856Z",
     "shell.execute_reply": "2022-05-05T23:05:20.255006Z"
    },
    "papermill": {
     "duration": 0.092805,
     "end_time": "2022-05-05T23:05:20.257827",
     "exception": false,
     "start_time": "2022-05-05T23:05:20.165022",
     "status": "completed"
    },
    "tags": []
   },
   "outputs": [],
   "source": [
    "df_table = df[\"table\"]"
   ]
  },
  {
   "cell_type": "code",
   "execution_count": 39,
   "id": "756d0c1c",
   "metadata": {
    "execution": {
     "iopub.execute_input": "2022-05-05T23:05:20.428925Z",
     "iopub.status.busy": "2022-05-05T23:05:20.428338Z",
     "iopub.status.idle": "2022-05-05T23:05:20.436350Z",
     "shell.execute_reply": "2022-05-05T23:05:20.435544Z"
    },
    "papermill": {
     "duration": 0.096276,
     "end_time": "2022-05-05T23:05:20.438349",
     "exception": false,
     "start_time": "2022-05-05T23:05:20.342073",
     "status": "completed"
    },
    "tags": []
   },
   "outputs": [
    {
     "data": {
      "text/plain": [
       "1515     51.0\n",
       "3238     50.1\n",
       "3979     51.0\n",
       "4150     51.0\n",
       "5979     49.0\n",
       "7418     50.0\n",
       "8853     51.0\n",
       "11368    43.0\n",
       "22701    49.0\n",
       "25179    50.0\n",
       "26387    51.0\n",
       "33586    51.0\n",
       "35633    44.0\n",
       "45798    51.0\n",
       "46040    51.0\n",
       "47630    51.0\n",
       "Name: table, dtype: float64"
      ]
     },
     "execution_count": 39,
     "metadata": {},
     "output_type": "execute_result"
    }
   ],
   "source": [
    "df_table[aykiri_tf]"
   ]
  },
  {
   "cell_type": "code",
   "execution_count": 40,
   "id": "a4ce97af",
   "metadata": {
    "execution": {
     "iopub.execute_input": "2022-05-05T23:05:20.614796Z",
     "iopub.status.busy": "2022-05-05T23:05:20.613779Z",
     "iopub.status.idle": "2022-05-05T23:05:20.617430Z",
     "shell.execute_reply": "2022-05-05T23:05:20.616876Z"
    },
    "papermill": {
     "duration": 0.093388,
     "end_time": "2022-05-05T23:05:20.619430",
     "exception": false,
     "start_time": "2022-05-05T23:05:20.526042",
     "status": "completed"
    },
    "tags": []
   },
   "outputs": [],
   "source": [
    "# Simdi Baskilicaz\n",
    "\n",
    "# Alt Sinir Degerinden Assagida Kalan Degerleri Baskilicaz ( Nereye Baskilicaz ) Alt Sinira Baskilicaz"
   ]
  },
  {
   "cell_type": "code",
   "execution_count": 41,
   "id": "e05be988",
   "metadata": {
    "execution": {
     "iopub.execute_input": "2022-05-05T23:05:20.792213Z",
     "iopub.status.busy": "2022-05-05T23:05:20.791920Z",
     "iopub.status.idle": "2022-05-05T23:05:20.796680Z",
     "shell.execute_reply": "2022-05-05T23:05:20.796062Z"
    },
    "papermill": {
     "duration": 0.093912,
     "end_time": "2022-05-05T23:05:20.798916",
     "exception": false,
     "start_time": "2022-05-05T23:05:20.705004",
     "status": "completed"
    },
    "tags": []
   },
   "outputs": [
    {
     "data": {
      "text/plain": [
       "51.5"
      ]
     },
     "execution_count": 41,
     "metadata": {},
     "output_type": "execute_result"
    }
   ],
   "source": [
    "# Alt Sinir Degeri Neydi?\n",
    "\n",
    "alt_sinir"
   ]
  },
  {
   "cell_type": "code",
   "execution_count": 42,
   "id": "d9641f7d",
   "metadata": {
    "execution": {
     "iopub.execute_input": "2022-05-05T23:05:20.972389Z",
     "iopub.status.busy": "2022-05-05T23:05:20.971790Z",
     "iopub.status.idle": "2022-05-05T23:05:20.978674Z",
     "shell.execute_reply": "2022-05-05T23:05:20.978083Z"
    },
    "papermill": {
     "duration": 0.096929,
     "end_time": "2022-05-05T23:05:20.981600",
     "exception": false,
     "start_time": "2022-05-05T23:05:20.884671",
     "status": "completed"
    },
    "tags": []
   },
   "outputs": [
    {
     "name": "stderr",
     "output_type": "stream",
     "text": [
      "/opt/conda/lib/python3.7/site-packages/ipykernel_launcher.py:1: SettingWithCopyWarning: \n",
      "A value is trying to be set on a copy of a slice from a DataFrame\n",
      "\n",
      "See the caveats in the documentation: https://pandas.pydata.org/pandas-docs/stable/user_guide/indexing.html#returning-a-view-versus-a-copy\n",
      "  \"\"\"Entry point for launching an IPython kernel.\n"
     ]
    }
   ],
   "source": [
    "df_table[aykiri_tf] = alt_sinir # Cok Ic Guduye Uygun Bir Bicimde Esitleme Islemi Yaptik ( Uyariyi Gormezden Geliyoruz )"
   ]
  },
  {
   "cell_type": "code",
   "execution_count": 43,
   "id": "e8a7a0ae",
   "metadata": {
    "execution": {
     "iopub.execute_input": "2022-05-05T23:05:21.159860Z",
     "iopub.status.busy": "2022-05-05T23:05:21.159188Z",
     "iopub.status.idle": "2022-05-05T23:05:21.166091Z",
     "shell.execute_reply": "2022-05-05T23:05:21.165545Z"
    },
    "papermill": {
     "duration": 0.096543,
     "end_time": "2022-05-05T23:05:21.167836",
     "exception": false,
     "start_time": "2022-05-05T23:05:21.071293",
     "status": "completed"
    },
    "tags": []
   },
   "outputs": [
    {
     "data": {
      "text/plain": [
       "1515     51.5\n",
       "3238     51.5\n",
       "3979     51.5\n",
       "4150     51.5\n",
       "5979     51.5\n",
       "7418     51.5\n",
       "8853     51.5\n",
       "11368    51.5\n",
       "22701    51.5\n",
       "25179    51.5\n",
       "26387    51.5\n",
       "33586    51.5\n",
       "35633    51.5\n",
       "45798    51.5\n",
       "46040    51.5\n",
       "47630    51.5\n",
       "Name: table, dtype: float64"
      ]
     },
     "execution_count": 43,
     "metadata": {},
     "output_type": "execute_result"
    }
   ],
   "source": [
    "df_table[aykiri_tf] # Kontrol Etmek Amaci Ile Yazdik Ve Goruyoruz ki Islemimiz Basari Ile Gerceklestirilmis"
   ]
  },
  {
   "cell_type": "markdown",
   "id": "853f90a7",
   "metadata": {
    "papermill": {
     "duration": 0.086148,
     "end_time": "2022-05-05T23:05:21.340031",
     "exception": false,
     "start_time": "2022-05-05T23:05:21.253883",
     "status": "completed"
    },
    "tags": []
   },
   "source": [
    "## Çok Değişkenli Aykırı Gözlem Analizi  ( Ileri Seviye Bir Islemdir )"
   ]
  },
  {
   "cell_type": "markdown",
   "id": "0bef6741",
   "metadata": {
    "papermill": {
     "duration": 0.08628,
     "end_time": "2022-05-05T23:05:21.512352",
     "exception": false,
     "start_time": "2022-05-05T23:05:21.426072",
     "status": "completed"
    },
    "tags": []
   },
   "source": [
    "### Local Outlier Factor ( LOF  Yontemi )"
   ]
  },
  {
   "cell_type": "markdown",
   "id": "781413af",
   "metadata": {
    "papermill": {
     "duration": 0.086207,
     "end_time": "2022-05-05T23:05:21.701279",
     "exception": false,
     "start_time": "2022-05-05T23:05:21.615072",
     "status": "completed"
    },
    "tags": []
   },
   "source": [
    "Gözlemleri bulundukları konumda yoğunluk tabanlı skorlayarak buna göre aykırı değer olabilecek değerleri tanımlayabilmemize imkan sağlıyor.\n",
    "\n",
    "Bir noktanın local yoğunluğu bu noktanın komşuları ile karşılaştırılıyor. Eğer bir nokta komşularınının yoğunluğundan anlamlı şekilde düşük ise bu nokta komşularından daha seyrek bir bölgede bulunuyordur yorumu yapılabiliyor. Dolayısıyla burada bir komşuluk yapısı söz konusu. Bir değerin çevresi yoğun değilse demek ki bu değer aykırı değerdir şeklinde değerlendiriliyor."
   ]
  },
  {
   "cell_type": "code",
   "execution_count": 44,
   "id": "987b04f8",
   "metadata": {
    "execution": {
     "iopub.execute_input": "2022-05-05T23:05:21.875558Z",
     "iopub.status.busy": "2022-05-05T23:05:21.875003Z",
     "iopub.status.idle": "2022-05-05T23:05:21.969191Z",
     "shell.execute_reply": "2022-05-05T23:05:21.968238Z"
    },
    "papermill": {
     "duration": 0.184199,
     "end_time": "2022-05-05T23:05:21.971629",
     "exception": false,
     "start_time": "2022-05-05T23:05:21.787430",
     "status": "completed"
    },
    "tags": []
   },
   "outputs": [
    {
     "data": {
      "text/html": [
       "<div>\n",
       "<style scoped>\n",
       "    .dataframe tbody tr th:only-of-type {\n",
       "        vertical-align: middle;\n",
       "    }\n",
       "\n",
       "    .dataframe tbody tr th {\n",
       "        vertical-align: top;\n",
       "    }\n",
       "\n",
       "    .dataframe thead th {\n",
       "        text-align: right;\n",
       "    }\n",
       "</style>\n",
       "<table border=\"1\" class=\"dataframe\">\n",
       "  <thead>\n",
       "    <tr style=\"text-align: right;\">\n",
       "      <th></th>\n",
       "      <th>carat</th>\n",
       "      <th>depth</th>\n",
       "      <th>table</th>\n",
       "      <th>price</th>\n",
       "      <th>x</th>\n",
       "      <th>y</th>\n",
       "      <th>z</th>\n",
       "    </tr>\n",
       "  </thead>\n",
       "  <tbody>\n",
       "    <tr>\n",
       "      <th>0</th>\n",
       "      <td>0.23</td>\n",
       "      <td>61.5</td>\n",
       "      <td>55.0</td>\n",
       "      <td>326</td>\n",
       "      <td>3.95</td>\n",
       "      <td>3.98</td>\n",
       "      <td>2.43</td>\n",
       "    </tr>\n",
       "    <tr>\n",
       "      <th>1</th>\n",
       "      <td>0.21</td>\n",
       "      <td>59.8</td>\n",
       "      <td>61.0</td>\n",
       "      <td>326</td>\n",
       "      <td>3.89</td>\n",
       "      <td>3.84</td>\n",
       "      <td>2.31</td>\n",
       "    </tr>\n",
       "    <tr>\n",
       "      <th>2</th>\n",
       "      <td>0.23</td>\n",
       "      <td>56.9</td>\n",
       "      <td>65.0</td>\n",
       "      <td>327</td>\n",
       "      <td>4.05</td>\n",
       "      <td>4.07</td>\n",
       "      <td>2.31</td>\n",
       "    </tr>\n",
       "    <tr>\n",
       "      <th>3</th>\n",
       "      <td>0.29</td>\n",
       "      <td>62.4</td>\n",
       "      <td>58.0</td>\n",
       "      <td>334</td>\n",
       "      <td>4.20</td>\n",
       "      <td>4.23</td>\n",
       "      <td>2.63</td>\n",
       "    </tr>\n",
       "    <tr>\n",
       "      <th>4</th>\n",
       "      <td>0.31</td>\n",
       "      <td>63.3</td>\n",
       "      <td>58.0</td>\n",
       "      <td>335</td>\n",
       "      <td>4.34</td>\n",
       "      <td>4.35</td>\n",
       "      <td>2.75</td>\n",
       "    </tr>\n",
       "  </tbody>\n",
       "</table>\n",
       "</div>"
      ],
      "text/plain": [
       "   carat  depth  table  price     x     y     z\n",
       "0   0.23   61.5   55.0    326  3.95  3.98  2.43\n",
       "1   0.21   59.8   61.0    326  3.89  3.84  2.31\n",
       "2   0.23   56.9   65.0    327  4.05  4.07  2.31\n",
       "3   0.29   62.4   58.0    334  4.20  4.23  2.63\n",
       "4   0.31   63.3   58.0    335  4.34  4.35  2.75"
      ]
     },
     "execution_count": 44,
     "metadata": {},
     "output_type": "execute_result"
    }
   ],
   "source": [
    "# Dersler Arasinda Veri Setimize Cesitli Islemler Uyguladigimizdan Bastan import Ediyorum Veri Setini\n",
    "\n",
    "diamonds = pd.read_csv(\"../input/seaborn-practice/diamonds.csv\")\n",
    "diamonds = diamonds.select_dtypes(include = [\"float64\", \"int64\"]) # Sadece Icerisindeki Sayisal Degiskenlere Erismek Icin Bir Tip Secimi Gerceklestirdik\n",
    "df = diamonds.copy()\n",
    "df = df.dropna() # Veri Setinin Icerisindeki Eksik Degerleri Silerek ( Disarida Birakarak ) Son Data_Frame'mizi Olusturuyoruz\n",
    "df.head()"
   ]
  },
  {
   "cell_type": "code",
   "execution_count": 45,
   "id": "15aecac8",
   "metadata": {
    "execution": {
     "iopub.execute_input": "2022-05-05T23:05:22.150878Z",
     "iopub.status.busy": "2022-05-05T23:05:22.150331Z",
     "iopub.status.idle": "2022-05-05T23:05:22.467944Z",
     "shell.execute_reply": "2022-05-05T23:05:22.467151Z"
    },
    "papermill": {
     "duration": 0.409936,
     "end_time": "2022-05-05T23:05:22.470343",
     "exception": false,
     "start_time": "2022-05-05T23:05:22.060407",
     "status": "completed"
    },
    "tags": []
   },
   "outputs": [],
   "source": [
    "import numpy as np\n",
    "from sklearn.neighbors import LocalOutlierFactor"
   ]
  },
  {
   "cell_type": "code",
   "execution_count": 46,
   "id": "b9f0cd6c",
   "metadata": {
    "execution": {
     "iopub.execute_input": "2022-05-05T23:05:22.651138Z",
     "iopub.status.busy": "2022-05-05T23:05:22.650829Z",
     "iopub.status.idle": "2022-05-05T23:05:22.654815Z",
     "shell.execute_reply": "2022-05-05T23:05:22.654056Z"
    },
    "papermill": {
     "duration": 0.096093,
     "end_time": "2022-05-05T23:05:22.656776",
     "exception": false,
     "start_time": "2022-05-05T23:05:22.560683",
     "status": "completed"
    },
    "tags": []
   },
   "outputs": [],
   "source": [
    "clf = LocalOutlierFactor(n_neighbors = 20, contamination = 0.1)\n",
    "\n",
    "# n_neighbors : Komsuluk Sayisi\n",
    "# contamination : Yogunlugu Ifade Eder"
   ]
  },
  {
   "cell_type": "code",
   "execution_count": 47,
   "id": "0db413cd",
   "metadata": {
    "execution": {
     "iopub.execute_input": "2022-05-05T23:05:22.833572Z",
     "iopub.status.busy": "2022-05-05T23:05:22.833258Z",
     "iopub.status.idle": "2022-05-05T23:05:23.428789Z",
     "shell.execute_reply": "2022-05-05T23:05:23.427949Z"
    },
    "papermill": {
     "duration": 0.687188,
     "end_time": "2022-05-05T23:05:23.431892",
     "exception": false,
     "start_time": "2022-05-05T23:05:22.744704",
     "status": "completed"
    },
    "tags": []
   },
   "outputs": [
    {
     "data": {
      "text/plain": [
       "array([-1, -1, -1, ...,  1,  1,  1])"
      ]
     },
     "execution_count": 47,
     "metadata": {},
     "output_type": "execute_result"
    }
   ],
   "source": [
    "# \"clf\"  Nesnesi  \"LocalOutlierFactor\" Un Bicimsel Ozelliklerini Barindiriyor\n",
    "# Simdi Bunlari Kullanarak Fit etme Islemi ( Algoritmayi Calistirma Islemi ) Yapicaz\n",
    "\n",
    "clf.fit_predict(df) # Su Anda Her Bir Gozlem Birimi Icin Skorlar Olucak"
   ]
  },
  {
   "cell_type": "code",
   "execution_count": 48,
   "id": "782141f1",
   "metadata": {
    "execution": {
     "iopub.execute_input": "2022-05-05T23:05:23.617923Z",
     "iopub.status.busy": "2022-05-05T23:05:23.616834Z",
     "iopub.status.idle": "2022-05-05T23:05:23.621981Z",
     "shell.execute_reply": "2022-05-05T23:05:23.621086Z"
    },
    "papermill": {
     "duration": 0.099058,
     "end_time": "2022-05-05T23:05:23.623976",
     "exception": false,
     "start_time": "2022-05-05T23:05:23.524918",
     "status": "completed"
    },
    "tags": []
   },
   "outputs": [],
   "source": [
    "df_scores = clf.negative_outlier_factor_ # Boyle Bir Fonksiyon Calistirdik"
   ]
  },
  {
   "cell_type": "code",
   "execution_count": 49,
   "id": "498b1744",
   "metadata": {
    "execution": {
     "iopub.execute_input": "2022-05-05T23:05:23.802835Z",
     "iopub.status.busy": "2022-05-05T23:05:23.802129Z",
     "iopub.status.idle": "2022-05-05T23:05:23.809484Z",
     "shell.execute_reply": "2022-05-05T23:05:23.808766Z"
    },
    "papermill": {
     "duration": 0.099094,
     "end_time": "2022-05-05T23:05:23.811384",
     "exception": false,
     "start_time": "2022-05-05T23:05:23.712290",
     "status": "completed"
    },
    "tags": []
   },
   "outputs": [
    {
     "data": {
      "text/plain": [
       "array([-1.58352526, -1.59732899, -1.62278873, -1.33002541, -1.30712521,\n",
       "       -1.28408436, -1.28428162, -1.26458706, -1.28422952, -1.27351342])"
      ]
     },
     "execution_count": 49,
     "metadata": {},
     "output_type": "execute_result"
    }
   ],
   "source": [
    "# df_scores.head()   ------>>   df_scores    Ifadesi Bir Numpy Arrayi Oldugu Icin    .head()   Pandas Fonksiyonudur  ( Gozlemlere Erismek Icin Bu Sekilde \"Calistiramayiz\" )\n",
    "\n",
    "# Su Sekilde Gozlemlere Erisebiliriz\n",
    "\n",
    "df_scores[0:10] # Su Anda Tum Gozlemler Icin Bir \"Skor\" Degeri Var ( Bir \"Esik Degeri\" Olarak Kabul Edilebilecek Degerler Var )\n",
    "\n",
    "# Bu Skor'lar Elimizdeki Her Bir Gozlem Biriminin Yogunluk Skoru ( LocalOutlierFactor Skorudur )"
   ]
  },
  {
   "cell_type": "code",
   "execution_count": 50,
   "id": "c4108c4f",
   "metadata": {
    "execution": {
     "iopub.execute_input": "2022-05-05T23:05:24.005929Z",
     "iopub.status.busy": "2022-05-05T23:05:24.005346Z",
     "iopub.status.idle": "2022-05-05T23:05:24.016421Z",
     "shell.execute_reply": "2022-05-05T23:05:24.015534Z"
    },
    "papermill": {
     "duration": 0.117595,
     "end_time": "2022-05-05T23:05:24.018539",
     "exception": false,
     "start_time": "2022-05-05T23:05:23.900944",
     "status": "completed"
    },
    "tags": []
   },
   "outputs": [
    {
     "data": {
      "text/plain": [
       "array([-8.60430658, -8.20889984, -5.86084355, -4.98415175, -4.81502092,\n",
       "       -4.81502092, -4.61522833, -4.37081214, -4.29842288, -4.10492387,\n",
       "       -4.0566648 , -4.01831733, -3.94882806, -3.82378797, -3.80135297,\n",
       "       -3.75680919, -3.65947378, -3.59249261, -3.55564138, -3.47157375])"
      ]
     },
     "execution_count": 50,
     "metadata": {},
     "output_type": "execute_result"
    }
   ],
   "source": [
    "# np.sort(df_scores[0:20])            ==#-#==  BU KULLANIM YANLIS'TIR  ==#-#==\n",
    "\n",
    "# Sort Ettikten Sonra Secme Islemi Yapmamiz Gerekiyor\n",
    "\n",
    "np.sort(df_scores)[0:20] # Degerleri Siraladik, Burada Belirleyecek Oldugumuz Bir Esik Degere Gore Bu Islemi Surdurmemiz Gerekiyor ( 8.2 den 5.8 e Bir Atlama Yapmis )"
   ]
  },
  {
   "cell_type": "code",
   "execution_count": 51,
   "id": "701e2851",
   "metadata": {
    "execution": {
     "iopub.execute_input": "2022-05-05T23:05:24.196333Z",
     "iopub.status.busy": "2022-05-05T23:05:24.196052Z",
     "iopub.status.idle": "2022-05-05T23:05:24.204423Z",
     "shell.execute_reply": "2022-05-05T23:05:24.203682Z"
    },
    "papermill": {
     "duration": 0.099437,
     "end_time": "2022-05-05T23:05:24.206658",
     "exception": false,
     "start_time": "2022-05-05T23:05:24.107221",
     "status": "completed"
    },
    "tags": []
   },
   "outputs": [],
   "source": [
    "# Rasgele ( Su Anlik ) Bir Index'i Esik Deger Kabul Edip Gerekli Islemleri Gerceklestiricez\n",
    "\n",
    "esik_deger = np.sort(df_scores)[13]"
   ]
  },
  {
   "cell_type": "code",
   "execution_count": 52,
   "id": "ce0d5486",
   "metadata": {
    "execution": {
     "iopub.execute_input": "2022-05-05T23:05:24.385349Z",
     "iopub.status.busy": "2022-05-05T23:05:24.385076Z",
     "iopub.status.idle": "2022-05-05T23:05:24.388932Z",
     "shell.execute_reply": "2022-05-05T23:05:24.388281Z"
    },
    "papermill": {
     "duration": 0.095113,
     "end_time": "2022-05-05T23:05:24.390748",
     "exception": false,
     "start_time": "2022-05-05T23:05:24.295635",
     "status": "completed"
    },
    "tags": []
   },
   "outputs": [],
   "source": [
    "# Esik Degerden Yukari Olanlari Aykiri_tf Olarak Kayit Et\n",
    "\n",
    "aykiri_tf = df_scores > esik_deger"
   ]
  },
  {
   "cell_type": "code",
   "execution_count": 53,
   "id": "141233e1",
   "metadata": {
    "execution": {
     "iopub.execute_input": "2022-05-05T23:05:24.570641Z",
     "iopub.status.busy": "2022-05-05T23:05:24.570286Z",
     "iopub.status.idle": "2022-05-05T23:05:24.575074Z",
     "shell.execute_reply": "2022-05-05T23:05:24.574555Z"
    },
    "papermill": {
     "duration": 0.097059,
     "end_time": "2022-05-05T23:05:24.576873",
     "exception": false,
     "start_time": "2022-05-05T23:05:24.479814",
     "status": "completed"
    },
    "tags": []
   },
   "outputs": [
    {
     "data": {
      "text/plain": [
       "array([ True,  True,  True, ...,  True,  True,  True])"
      ]
     },
     "execution_count": 53,
     "metadata": {},
     "output_type": "execute_result"
    }
   ],
   "source": [
    "aykiri_tf"
   ]
  },
  {
   "cell_type": "code",
   "execution_count": 54,
   "id": "cc3bb6fd",
   "metadata": {
    "execution": {
     "iopub.execute_input": "2022-05-05T23:05:24.761604Z",
     "iopub.status.busy": "2022-05-05T23:05:24.760820Z",
     "iopub.status.idle": "2022-05-05T23:05:24.764145Z",
     "shell.execute_reply": "2022-05-05T23:05:24.763569Z"
    },
    "papermill": {
     "duration": 0.098532,
     "end_time": "2022-05-05T23:05:24.765961",
     "exception": false,
     "start_time": "2022-05-05T23:05:24.667429",
     "status": "completed"
    },
    "tags": []
   },
   "outputs": [],
   "source": [
    "# Silme Yontemi ( Buranin Altinda Kullanildi )"
   ]
  },
  {
   "cell_type": "code",
   "execution_count": 55,
   "id": "5b4e821e",
   "metadata": {
    "execution": {
     "iopub.execute_input": "2022-05-05T23:05:24.946208Z",
     "iopub.status.busy": "2022-05-05T23:05:24.945707Z",
     "iopub.status.idle": "2022-05-05T23:05:24.951312Z",
     "shell.execute_reply": "2022-05-05T23:05:24.950592Z"
    },
    "papermill": {
     "duration": 0.098229,
     "end_time": "2022-05-05T23:05:24.953404",
     "exception": false,
     "start_time": "2022-05-05T23:05:24.855175",
     "status": "completed"
    },
    "tags": []
   },
   "outputs": [],
   "source": [
    "yeni_df = df[ df_scores > esik_deger ] # Esik Degerden Buyuk Olanlari yeni_df e Kayit Et Dedik ( Yani Su Anda \"Aykiri Olmayan\" Degerlere Eristik ve Hepsini yeni_df e Kayit Ettik)"
   ]
  },
  {
   "cell_type": "code",
   "execution_count": 56,
   "id": "b4180f62",
   "metadata": {
    "execution": {
     "iopub.execute_input": "2022-05-05T23:05:25.133058Z",
     "iopub.status.busy": "2022-05-05T23:05:25.132645Z",
     "iopub.status.idle": "2022-05-05T23:05:25.152094Z",
     "shell.execute_reply": "2022-05-05T23:05:25.151322Z"
    },
    "papermill": {
     "duration": 0.112,
     "end_time": "2022-05-05T23:05:25.154216",
     "exception": false,
     "start_time": "2022-05-05T23:05:25.042216",
     "status": "completed"
    },
    "tags": []
   },
   "outputs": [
    {
     "data": {
      "text/html": [
       "<div>\n",
       "<style scoped>\n",
       "    .dataframe tbody tr th:only-of-type {\n",
       "        vertical-align: middle;\n",
       "    }\n",
       "\n",
       "    .dataframe tbody tr th {\n",
       "        vertical-align: top;\n",
       "    }\n",
       "\n",
       "    .dataframe thead th {\n",
       "        text-align: right;\n",
       "    }\n",
       "</style>\n",
       "<table border=\"1\" class=\"dataframe\">\n",
       "  <thead>\n",
       "    <tr style=\"text-align: right;\">\n",
       "      <th></th>\n",
       "      <th>carat</th>\n",
       "      <th>depth</th>\n",
       "      <th>table</th>\n",
       "      <th>price</th>\n",
       "      <th>x</th>\n",
       "      <th>y</th>\n",
       "      <th>z</th>\n",
       "    </tr>\n",
       "  </thead>\n",
       "  <tbody>\n",
       "    <tr>\n",
       "      <th>0</th>\n",
       "      <td>0.23</td>\n",
       "      <td>61.5</td>\n",
       "      <td>55.0</td>\n",
       "      <td>326</td>\n",
       "      <td>3.95</td>\n",
       "      <td>3.98</td>\n",
       "      <td>2.43</td>\n",
       "    </tr>\n",
       "    <tr>\n",
       "      <th>1</th>\n",
       "      <td>0.21</td>\n",
       "      <td>59.8</td>\n",
       "      <td>61.0</td>\n",
       "      <td>326</td>\n",
       "      <td>3.89</td>\n",
       "      <td>3.84</td>\n",
       "      <td>2.31</td>\n",
       "    </tr>\n",
       "    <tr>\n",
       "      <th>2</th>\n",
       "      <td>0.23</td>\n",
       "      <td>56.9</td>\n",
       "      <td>65.0</td>\n",
       "      <td>327</td>\n",
       "      <td>4.05</td>\n",
       "      <td>4.07</td>\n",
       "      <td>2.31</td>\n",
       "    </tr>\n",
       "    <tr>\n",
       "      <th>3</th>\n",
       "      <td>0.29</td>\n",
       "      <td>62.4</td>\n",
       "      <td>58.0</td>\n",
       "      <td>334</td>\n",
       "      <td>4.20</td>\n",
       "      <td>4.23</td>\n",
       "      <td>2.63</td>\n",
       "    </tr>\n",
       "    <tr>\n",
       "      <th>4</th>\n",
       "      <td>0.31</td>\n",
       "      <td>63.3</td>\n",
       "      <td>58.0</td>\n",
       "      <td>335</td>\n",
       "      <td>4.34</td>\n",
       "      <td>4.35</td>\n",
       "      <td>2.75</td>\n",
       "    </tr>\n",
       "    <tr>\n",
       "      <th>...</th>\n",
       "      <td>...</td>\n",
       "      <td>...</td>\n",
       "      <td>...</td>\n",
       "      <td>...</td>\n",
       "      <td>...</td>\n",
       "      <td>...</td>\n",
       "      <td>...</td>\n",
       "    </tr>\n",
       "    <tr>\n",
       "      <th>53935</th>\n",
       "      <td>0.72</td>\n",
       "      <td>60.8</td>\n",
       "      <td>57.0</td>\n",
       "      <td>2757</td>\n",
       "      <td>5.75</td>\n",
       "      <td>5.76</td>\n",
       "      <td>3.50</td>\n",
       "    </tr>\n",
       "    <tr>\n",
       "      <th>53936</th>\n",
       "      <td>0.72</td>\n",
       "      <td>63.1</td>\n",
       "      <td>55.0</td>\n",
       "      <td>2757</td>\n",
       "      <td>5.69</td>\n",
       "      <td>5.75</td>\n",
       "      <td>3.61</td>\n",
       "    </tr>\n",
       "    <tr>\n",
       "      <th>53937</th>\n",
       "      <td>0.70</td>\n",
       "      <td>62.8</td>\n",
       "      <td>60.0</td>\n",
       "      <td>2757</td>\n",
       "      <td>5.66</td>\n",
       "      <td>5.68</td>\n",
       "      <td>3.56</td>\n",
       "    </tr>\n",
       "    <tr>\n",
       "      <th>53938</th>\n",
       "      <td>0.86</td>\n",
       "      <td>61.0</td>\n",
       "      <td>58.0</td>\n",
       "      <td>2757</td>\n",
       "      <td>6.15</td>\n",
       "      <td>6.12</td>\n",
       "      <td>3.74</td>\n",
       "    </tr>\n",
       "    <tr>\n",
       "      <th>53939</th>\n",
       "      <td>0.75</td>\n",
       "      <td>62.2</td>\n",
       "      <td>55.0</td>\n",
       "      <td>2757</td>\n",
       "      <td>5.83</td>\n",
       "      <td>5.87</td>\n",
       "      <td>3.64</td>\n",
       "    </tr>\n",
       "  </tbody>\n",
       "</table>\n",
       "<p>53926 rows × 7 columns</p>\n",
       "</div>"
      ],
      "text/plain": [
       "       carat  depth  table  price     x     y     z\n",
       "0       0.23   61.5   55.0    326  3.95  3.98  2.43\n",
       "1       0.21   59.8   61.0    326  3.89  3.84  2.31\n",
       "2       0.23   56.9   65.0    327  4.05  4.07  2.31\n",
       "3       0.29   62.4   58.0    334  4.20  4.23  2.63\n",
       "4       0.31   63.3   58.0    335  4.34  4.35  2.75\n",
       "...      ...    ...    ...    ...   ...   ...   ...\n",
       "53935   0.72   60.8   57.0   2757  5.75  5.76  3.50\n",
       "53936   0.72   63.1   55.0   2757  5.69  5.75  3.61\n",
       "53937   0.70   62.8   60.0   2757  5.66  5.68  3.56\n",
       "53938   0.86   61.0   58.0   2757  6.15  6.12  3.74\n",
       "53939   0.75   62.2   55.0   2757  5.83  5.87  3.64\n",
       "\n",
       "[53926 rows x 7 columns]"
      ]
     },
     "execution_count": 56,
     "metadata": {},
     "output_type": "execute_result"
    }
   ],
   "source": [
    "yeni_df"
   ]
  },
  {
   "cell_type": "code",
   "execution_count": 57,
   "id": "6bd53f20",
   "metadata": {
    "execution": {
     "iopub.execute_input": "2022-05-05T23:05:25.334057Z",
     "iopub.status.busy": "2022-05-05T23:05:25.333635Z",
     "iopub.status.idle": "2022-05-05T23:05:25.351447Z",
     "shell.execute_reply": "2022-05-05T23:05:25.350798Z"
    },
    "papermill": {
     "duration": 0.1094,
     "end_time": "2022-05-05T23:05:25.353333",
     "exception": false,
     "start_time": "2022-05-05T23:05:25.243933",
     "status": "completed"
    },
    "tags": []
   },
   "outputs": [
    {
     "data": {
      "text/html": [
       "<div>\n",
       "<style scoped>\n",
       "    .dataframe tbody tr th:only-of-type {\n",
       "        vertical-align: middle;\n",
       "    }\n",
       "\n",
       "    .dataframe tbody tr th {\n",
       "        vertical-align: top;\n",
       "    }\n",
       "\n",
       "    .dataframe thead th {\n",
       "        text-align: right;\n",
       "    }\n",
       "</style>\n",
       "<table border=\"1\" class=\"dataframe\">\n",
       "  <thead>\n",
       "    <tr style=\"text-align: right;\">\n",
       "      <th></th>\n",
       "      <th>carat</th>\n",
       "      <th>depth</th>\n",
       "      <th>table</th>\n",
       "      <th>price</th>\n",
       "      <th>x</th>\n",
       "      <th>y</th>\n",
       "      <th>z</th>\n",
       "    </tr>\n",
       "  </thead>\n",
       "  <tbody>\n",
       "    <tr>\n",
       "      <th>6341</th>\n",
       "      <td>1.00</td>\n",
       "      <td>44.0</td>\n",
       "      <td>53.0</td>\n",
       "      <td>4032</td>\n",
       "      <td>6.31</td>\n",
       "      <td>6.24</td>\n",
       "      <td>4.12</td>\n",
       "    </tr>\n",
       "    <tr>\n",
       "      <th>10377</th>\n",
       "      <td>1.09</td>\n",
       "      <td>43.0</td>\n",
       "      <td>54.0</td>\n",
       "      <td>4778</td>\n",
       "      <td>6.53</td>\n",
       "      <td>6.55</td>\n",
       "      <td>4.12</td>\n",
       "    </tr>\n",
       "    <tr>\n",
       "      <th>24067</th>\n",
       "      <td>2.00</td>\n",
       "      <td>58.9</td>\n",
       "      <td>57.0</td>\n",
       "      <td>12210</td>\n",
       "      <td>8.09</td>\n",
       "      <td>58.90</td>\n",
       "      <td>8.06</td>\n",
       "    </tr>\n",
       "    <tr>\n",
       "      <th>35633</th>\n",
       "      <td>0.29</td>\n",
       "      <td>62.8</td>\n",
       "      <td>44.0</td>\n",
       "      <td>474</td>\n",
       "      <td>4.20</td>\n",
       "      <td>4.24</td>\n",
       "      <td>2.65</td>\n",
       "    </tr>\n",
       "    <tr>\n",
       "      <th>36503</th>\n",
       "      <td>0.30</td>\n",
       "      <td>51.0</td>\n",
       "      <td>67.0</td>\n",
       "      <td>945</td>\n",
       "      <td>4.67</td>\n",
       "      <td>4.62</td>\n",
       "      <td>2.37</td>\n",
       "    </tr>\n",
       "    <tr>\n",
       "      <th>38840</th>\n",
       "      <td>0.73</td>\n",
       "      <td>70.8</td>\n",
       "      <td>55.0</td>\n",
       "      <td>1049</td>\n",
       "      <td>5.51</td>\n",
       "      <td>5.34</td>\n",
       "      <td>3.84</td>\n",
       "    </tr>\n",
       "    <tr>\n",
       "      <th>41918</th>\n",
       "      <td>1.03</td>\n",
       "      <td>78.2</td>\n",
       "      <td>54.0</td>\n",
       "      <td>1262</td>\n",
       "      <td>5.72</td>\n",
       "      <td>5.59</td>\n",
       "      <td>4.42</td>\n",
       "    </tr>\n",
       "    <tr>\n",
       "      <th>45688</th>\n",
       "      <td>0.70</td>\n",
       "      <td>71.6</td>\n",
       "      <td>55.0</td>\n",
       "      <td>1696</td>\n",
       "      <td>5.47</td>\n",
       "      <td>5.28</td>\n",
       "      <td>3.85</td>\n",
       "    </tr>\n",
       "    <tr>\n",
       "      <th>48410</th>\n",
       "      <td>0.51</td>\n",
       "      <td>61.8</td>\n",
       "      <td>54.7</td>\n",
       "      <td>1970</td>\n",
       "      <td>5.12</td>\n",
       "      <td>5.15</td>\n",
       "      <td>31.80</td>\n",
       "    </tr>\n",
       "    <tr>\n",
       "      <th>49189</th>\n",
       "      <td>0.51</td>\n",
       "      <td>61.8</td>\n",
       "      <td>55.0</td>\n",
       "      <td>2075</td>\n",
       "      <td>5.15</td>\n",
       "      <td>31.80</td>\n",
       "      <td>5.12</td>\n",
       "    </tr>\n",
       "    <tr>\n",
       "      <th>50773</th>\n",
       "      <td>0.81</td>\n",
       "      <td>68.8</td>\n",
       "      <td>79.0</td>\n",
       "      <td>2301</td>\n",
       "      <td>5.26</td>\n",
       "      <td>5.20</td>\n",
       "      <td>3.58</td>\n",
       "    </tr>\n",
       "    <tr>\n",
       "      <th>52860</th>\n",
       "      <td>0.50</td>\n",
       "      <td>79.0</td>\n",
       "      <td>73.0</td>\n",
       "      <td>2579</td>\n",
       "      <td>5.21</td>\n",
       "      <td>5.18</td>\n",
       "      <td>4.09</td>\n",
       "    </tr>\n",
       "    <tr>\n",
       "      <th>52861</th>\n",
       "      <td>0.50</td>\n",
       "      <td>79.0</td>\n",
       "      <td>73.0</td>\n",
       "      <td>2579</td>\n",
       "      <td>5.21</td>\n",
       "      <td>5.18</td>\n",
       "      <td>4.09</td>\n",
       "    </tr>\n",
       "  </tbody>\n",
       "</table>\n",
       "</div>"
      ],
      "text/plain": [
       "       carat  depth  table  price     x      y      z\n",
       "6341    1.00   44.0   53.0   4032  6.31   6.24   4.12\n",
       "10377   1.09   43.0   54.0   4778  6.53   6.55   4.12\n",
       "24067   2.00   58.9   57.0  12210  8.09  58.90   8.06\n",
       "35633   0.29   62.8   44.0    474  4.20   4.24   2.65\n",
       "36503   0.30   51.0   67.0    945  4.67   4.62   2.37\n",
       "38840   0.73   70.8   55.0   1049  5.51   5.34   3.84\n",
       "41918   1.03   78.2   54.0   1262  5.72   5.59   4.42\n",
       "45688   0.70   71.6   55.0   1696  5.47   5.28   3.85\n",
       "48410   0.51   61.8   54.7   1970  5.12   5.15  31.80\n",
       "49189   0.51   61.8   55.0   2075  5.15  31.80   5.12\n",
       "50773   0.81   68.8   79.0   2301  5.26   5.20   3.58\n",
       "52860   0.50   79.0   73.0   2579  5.21   5.18   4.09\n",
       "52861   0.50   79.0   73.0   2579  5.21   5.18   4.09"
      ]
     },
     "execution_count": 57,
     "metadata": {},
     "output_type": "execute_result"
    }
   ],
   "source": [
    "df[ df_scores < esik_deger ] # Bunlar da \"Aykiri Olan\" Gozlemlerdir Sadece Buyuktur ( > ) Ifadesini Kucuktur ( < ) Yaptim"
   ]
  },
  {
   "cell_type": "code",
   "execution_count": 58,
   "id": "b3cd47b8",
   "metadata": {
    "execution": {
     "iopub.execute_input": "2022-05-05T23:05:25.535034Z",
     "iopub.status.busy": "2022-05-05T23:05:25.534613Z",
     "iopub.status.idle": "2022-05-05T23:05:25.537774Z",
     "shell.execute_reply": "2022-05-05T23:05:25.537015Z"
    },
    "papermill": {
     "duration": 0.096893,
     "end_time": "2022-05-05T23:05:25.539571",
     "exception": false,
     "start_time": "2022-05-05T23:05:25.442678",
     "status": "completed"
    },
    "tags": []
   },
   "outputs": [],
   "source": [
    "# Artik Gecmis Derslerde Ogrendigimiz Gibi Yakalamis Oldugumuz Yukaridaki ( bi Ustteki ) Degerlere Ortalama Deger Atayabiliriz Yada Belirlemis Oldugumuz Esik Degerine Gore Atama Islemi Yapabiliriz"
   ]
  },
  {
   "cell_type": "code",
   "execution_count": 59,
   "id": "26c801d8",
   "metadata": {
    "execution": {
     "iopub.execute_input": "2022-05-05T23:05:25.721780Z",
     "iopub.status.busy": "2022-05-05T23:05:25.721358Z",
     "iopub.status.idle": "2022-05-05T23:05:25.733106Z",
     "shell.execute_reply": "2022-05-05T23:05:25.732356Z"
    },
    "papermill": {
     "duration": 0.105491,
     "end_time": "2022-05-05T23:05:25.735004",
     "exception": false,
     "start_time": "2022-05-05T23:05:25.629513",
     "status": "completed"
    },
    "tags": []
   },
   "outputs": [
    {
     "data": {
      "text/html": [
       "<div>\n",
       "<style scoped>\n",
       "    .dataframe tbody tr th:only-of-type {\n",
       "        vertical-align: middle;\n",
       "    }\n",
       "\n",
       "    .dataframe tbody tr th {\n",
       "        vertical-align: top;\n",
       "    }\n",
       "\n",
       "    .dataframe thead th {\n",
       "        text-align: right;\n",
       "    }\n",
       "</style>\n",
       "<table border=\"1\" class=\"dataframe\">\n",
       "  <thead>\n",
       "    <tr style=\"text-align: right;\">\n",
       "      <th></th>\n",
       "      <th>carat</th>\n",
       "      <th>depth</th>\n",
       "      <th>table</th>\n",
       "      <th>price</th>\n",
       "      <th>x</th>\n",
       "      <th>y</th>\n",
       "      <th>z</th>\n",
       "    </tr>\n",
       "  </thead>\n",
       "  <tbody>\n",
       "    <tr>\n",
       "      <th>31230</th>\n",
       "      <td>0.45</td>\n",
       "      <td>68.6</td>\n",
       "      <td>57.0</td>\n",
       "      <td>756</td>\n",
       "      <td>4.73</td>\n",
       "      <td>4.5</td>\n",
       "      <td>3.19</td>\n",
       "    </tr>\n",
       "  </tbody>\n",
       "</table>\n",
       "</div>"
      ],
      "text/plain": [
       "       carat  depth  table  price     x    y     z\n",
       "31230   0.45   68.6   57.0    756  4.73  4.5  3.19"
      ]
     },
     "execution_count": 59,
     "metadata": {},
     "output_type": "execute_result"
    }
   ],
   "source": [
    "df[df_scores == esik_deger] # Esik Degerimiz Bizim Buydu"
   ]
  },
  {
   "cell_type": "code",
   "execution_count": 60,
   "id": "cac34553",
   "metadata": {
    "execution": {
     "iopub.execute_input": "2022-05-05T23:05:25.917696Z",
     "iopub.status.busy": "2022-05-05T23:05:25.917371Z",
     "iopub.status.idle": "2022-05-05T23:05:25.921664Z",
     "shell.execute_reply": "2022-05-05T23:05:25.920912Z"
    },
    "papermill": {
     "duration": 0.098552,
     "end_time": "2022-05-05T23:05:25.923586",
     "exception": false,
     "start_time": "2022-05-05T23:05:25.825034",
     "status": "completed"
    },
    "tags": []
   },
   "outputs": [],
   "source": [
    "# - ( Baskilama Yontemi ) - Aykiri Gozlemlerin Yerine Esik Degeri Atama Islemini Yapicaz\n",
    "\n",
    "# Buna Bir Isim Verelim\n",
    "\n",
    "baski_deger = df[df_scores == esik_deger]"
   ]
  },
  {
   "cell_type": "code",
   "execution_count": 61,
   "id": "402a6d8e",
   "metadata": {
    "execution": {
     "iopub.execute_input": "2022-05-05T23:05:26.106399Z",
     "iopub.status.busy": "2022-05-05T23:05:26.105965Z",
     "iopub.status.idle": "2022-05-05T23:05:26.110453Z",
     "shell.execute_reply": "2022-05-05T23:05:26.109808Z"
    },
    "papermill": {
     "duration": 0.098387,
     "end_time": "2022-05-05T23:05:26.112406",
     "exception": false,
     "start_time": "2022-05-05T23:05:26.014019",
     "status": "completed"
    },
    "tags": []
   },
   "outputs": [],
   "source": [
    "aykirilar = df[~aykiri_tf] # Aykiri Degerler ( Daha Once \"Aykiri Olmayan\" Degerleri \"aykiri_tf\" e Kayit Etmistik Basina Tilda ( ~ ) Isareti Alinca \"Aykiri Olan\" Degerler Anlamina Geldi )"
   ]
  },
  {
   "cell_type": "code",
   "execution_count": 62,
   "id": "1baa3301",
   "metadata": {
    "execution": {
     "iopub.execute_input": "2022-05-05T23:05:26.293993Z",
     "iopub.status.busy": "2022-05-05T23:05:26.293584Z",
     "iopub.status.idle": "2022-05-05T23:05:26.296719Z",
     "shell.execute_reply": "2022-05-05T23:05:26.296052Z"
    },
    "papermill": {
     "duration": 0.095957,
     "end_time": "2022-05-05T23:05:26.298572",
     "exception": false,
     "start_time": "2022-05-05T23:05:26.202615",
     "status": "completed"
    },
    "tags": []
   },
   "outputs": [],
   "source": [
    "# !! Soo Important !!\n",
    "\n",
    "# Burada \"Onemli\" Bir Mevzu Var \n",
    "\n",
    "# Mevcut Olan \"aykirilar\" ( Aykiri Olan Degerlerin ) Yerine \"esik_deger\" Atayacagimiz Icin Bazi Index Problemleri Yasanmaktadir ( Bu Durumu Cozmek Icin Bazi Islemler Yapicaz )\n",
    "\n",
    "# 1-) \"aykirilar\" Data_Framesi'ni Index'siz Bir Array'a Ceviricez\n",
    "# 2-) Baski Gozlemini De Array'lestirip Atama Islemini Gerceklestiricez\n",
    "# 3-) Aykiri Degerleri Baski Degeri Ile Degistirmis Olucaz"
   ]
  },
  {
   "cell_type": "code",
   "execution_count": 63,
   "id": "5e8e8ed5",
   "metadata": {
    "execution": {
     "iopub.execute_input": "2022-05-05T23:05:26.479875Z",
     "iopub.status.busy": "2022-05-05T23:05:26.479407Z",
     "iopub.status.idle": "2022-05-05T23:05:26.498246Z",
     "shell.execute_reply": "2022-05-05T23:05:26.497555Z"
    },
    "papermill": {
     "duration": 0.111718,
     "end_time": "2022-05-05T23:05:26.500255",
     "exception": false,
     "start_time": "2022-05-05T23:05:26.388537",
     "status": "completed"
    },
    "tags": []
   },
   "outputs": [
    {
     "data": {
      "text/html": [
       "<div>\n",
       "<style scoped>\n",
       "    .dataframe tbody tr th:only-of-type {\n",
       "        vertical-align: middle;\n",
       "    }\n",
       "\n",
       "    .dataframe tbody tr th {\n",
       "        vertical-align: top;\n",
       "    }\n",
       "\n",
       "    .dataframe thead th {\n",
       "        text-align: right;\n",
       "    }\n",
       "</style>\n",
       "<table border=\"1\" class=\"dataframe\">\n",
       "  <thead>\n",
       "    <tr style=\"text-align: right;\">\n",
       "      <th></th>\n",
       "      <th>carat</th>\n",
       "      <th>depth</th>\n",
       "      <th>table</th>\n",
       "      <th>price</th>\n",
       "      <th>x</th>\n",
       "      <th>y</th>\n",
       "      <th>z</th>\n",
       "    </tr>\n",
       "  </thead>\n",
       "  <tbody>\n",
       "    <tr>\n",
       "      <th>6341</th>\n",
       "      <td>1.00</td>\n",
       "      <td>44.0</td>\n",
       "      <td>53.0</td>\n",
       "      <td>4032</td>\n",
       "      <td>6.31</td>\n",
       "      <td>6.24</td>\n",
       "      <td>4.12</td>\n",
       "    </tr>\n",
       "    <tr>\n",
       "      <th>10377</th>\n",
       "      <td>1.09</td>\n",
       "      <td>43.0</td>\n",
       "      <td>54.0</td>\n",
       "      <td>4778</td>\n",
       "      <td>6.53</td>\n",
       "      <td>6.55</td>\n",
       "      <td>4.12</td>\n",
       "    </tr>\n",
       "    <tr>\n",
       "      <th>24067</th>\n",
       "      <td>2.00</td>\n",
       "      <td>58.9</td>\n",
       "      <td>57.0</td>\n",
       "      <td>12210</td>\n",
       "      <td>8.09</td>\n",
       "      <td>58.90</td>\n",
       "      <td>8.06</td>\n",
       "    </tr>\n",
       "    <tr>\n",
       "      <th>31230</th>\n",
       "      <td>0.45</td>\n",
       "      <td>68.6</td>\n",
       "      <td>57.0</td>\n",
       "      <td>756</td>\n",
       "      <td>4.73</td>\n",
       "      <td>4.50</td>\n",
       "      <td>3.19</td>\n",
       "    </tr>\n",
       "    <tr>\n",
       "      <th>35633</th>\n",
       "      <td>0.29</td>\n",
       "      <td>62.8</td>\n",
       "      <td>44.0</td>\n",
       "      <td>474</td>\n",
       "      <td>4.20</td>\n",
       "      <td>4.24</td>\n",
       "      <td>2.65</td>\n",
       "    </tr>\n",
       "    <tr>\n",
       "      <th>36503</th>\n",
       "      <td>0.30</td>\n",
       "      <td>51.0</td>\n",
       "      <td>67.0</td>\n",
       "      <td>945</td>\n",
       "      <td>4.67</td>\n",
       "      <td>4.62</td>\n",
       "      <td>2.37</td>\n",
       "    </tr>\n",
       "    <tr>\n",
       "      <th>38840</th>\n",
       "      <td>0.73</td>\n",
       "      <td>70.8</td>\n",
       "      <td>55.0</td>\n",
       "      <td>1049</td>\n",
       "      <td>5.51</td>\n",
       "      <td>5.34</td>\n",
       "      <td>3.84</td>\n",
       "    </tr>\n",
       "    <tr>\n",
       "      <th>41918</th>\n",
       "      <td>1.03</td>\n",
       "      <td>78.2</td>\n",
       "      <td>54.0</td>\n",
       "      <td>1262</td>\n",
       "      <td>5.72</td>\n",
       "      <td>5.59</td>\n",
       "      <td>4.42</td>\n",
       "    </tr>\n",
       "    <tr>\n",
       "      <th>45688</th>\n",
       "      <td>0.70</td>\n",
       "      <td>71.6</td>\n",
       "      <td>55.0</td>\n",
       "      <td>1696</td>\n",
       "      <td>5.47</td>\n",
       "      <td>5.28</td>\n",
       "      <td>3.85</td>\n",
       "    </tr>\n",
       "    <tr>\n",
       "      <th>48410</th>\n",
       "      <td>0.51</td>\n",
       "      <td>61.8</td>\n",
       "      <td>54.7</td>\n",
       "      <td>1970</td>\n",
       "      <td>5.12</td>\n",
       "      <td>5.15</td>\n",
       "      <td>31.80</td>\n",
       "    </tr>\n",
       "    <tr>\n",
       "      <th>49189</th>\n",
       "      <td>0.51</td>\n",
       "      <td>61.8</td>\n",
       "      <td>55.0</td>\n",
       "      <td>2075</td>\n",
       "      <td>5.15</td>\n",
       "      <td>31.80</td>\n",
       "      <td>5.12</td>\n",
       "    </tr>\n",
       "    <tr>\n",
       "      <th>50773</th>\n",
       "      <td>0.81</td>\n",
       "      <td>68.8</td>\n",
       "      <td>79.0</td>\n",
       "      <td>2301</td>\n",
       "      <td>5.26</td>\n",
       "      <td>5.20</td>\n",
       "      <td>3.58</td>\n",
       "    </tr>\n",
       "    <tr>\n",
       "      <th>52860</th>\n",
       "      <td>0.50</td>\n",
       "      <td>79.0</td>\n",
       "      <td>73.0</td>\n",
       "      <td>2579</td>\n",
       "      <td>5.21</td>\n",
       "      <td>5.18</td>\n",
       "      <td>4.09</td>\n",
       "    </tr>\n",
       "    <tr>\n",
       "      <th>52861</th>\n",
       "      <td>0.50</td>\n",
       "      <td>79.0</td>\n",
       "      <td>73.0</td>\n",
       "      <td>2579</td>\n",
       "      <td>5.21</td>\n",
       "      <td>5.18</td>\n",
       "      <td>4.09</td>\n",
       "    </tr>\n",
       "  </tbody>\n",
       "</table>\n",
       "</div>"
      ],
      "text/plain": [
       "       carat  depth  table  price     x      y      z\n",
       "6341    1.00   44.0   53.0   4032  6.31   6.24   4.12\n",
       "10377   1.09   43.0   54.0   4778  6.53   6.55   4.12\n",
       "24067   2.00   58.9   57.0  12210  8.09  58.90   8.06\n",
       "31230   0.45   68.6   57.0    756  4.73   4.50   3.19\n",
       "35633   0.29   62.8   44.0    474  4.20   4.24   2.65\n",
       "36503   0.30   51.0   67.0    945  4.67   4.62   2.37\n",
       "38840   0.73   70.8   55.0   1049  5.51   5.34   3.84\n",
       "41918   1.03   78.2   54.0   1262  5.72   5.59   4.42\n",
       "45688   0.70   71.6   55.0   1696  5.47   5.28   3.85\n",
       "48410   0.51   61.8   54.7   1970  5.12   5.15  31.80\n",
       "49189   0.51   61.8   55.0   2075  5.15  31.80   5.12\n",
       "50773   0.81   68.8   79.0   2301  5.26   5.20   3.58\n",
       "52860   0.50   79.0   73.0   2579  5.21   5.18   4.09\n",
       "52861   0.50   79.0   73.0   2579  5.21   5.18   4.09"
      ]
     },
     "execution_count": 63,
     "metadata": {},
     "output_type": "execute_result"
    }
   ],
   "source": [
    "# Gozukmesi Icin Bakiyoruz\n",
    "\n",
    "aykirilar # Data_Frame'dir"
   ]
  },
  {
   "cell_type": "code",
   "execution_count": 64,
   "id": "f13a0451",
   "metadata": {
    "execution": {
     "iopub.execute_input": "2022-05-05T23:05:26.686940Z",
     "iopub.status.busy": "2022-05-05T23:05:26.686535Z",
     "iopub.status.idle": "2022-05-05T23:05:26.693796Z",
     "shell.execute_reply": "2022-05-05T23:05:26.693086Z"
    },
    "papermill": {
     "duration": 0.101977,
     "end_time": "2022-05-05T23:05:26.695805",
     "exception": false,
     "start_time": "2022-05-05T23:05:26.593828",
     "status": "completed"
    },
    "tags": []
   },
   "outputs": [
    {
     "data": {
      "text/plain": [
       "rec.array([(1.  , 44. , 53. ,  4032, 6.31,  6.24,  4.12),\n",
       "           (1.09, 43. , 54. ,  4778, 6.53,  6.55,  4.12),\n",
       "           (2.  , 58.9, 57. , 12210, 8.09, 58.9 ,  8.06),\n",
       "           (0.45, 68.6, 57. ,   756, 4.73,  4.5 ,  3.19),\n",
       "           (0.29, 62.8, 44. ,   474, 4.2 ,  4.24,  2.65),\n",
       "           (0.3 , 51. , 67. ,   945, 4.67,  4.62,  2.37),\n",
       "           (0.73, 70.8, 55. ,  1049, 5.51,  5.34,  3.84),\n",
       "           (1.03, 78.2, 54. ,  1262, 5.72,  5.59,  4.42),\n",
       "           (0.7 , 71.6, 55. ,  1696, 5.47,  5.28,  3.85),\n",
       "           (0.51, 61.8, 54.7,  1970, 5.12,  5.15, 31.8 ),\n",
       "           (0.51, 61.8, 55. ,  2075, 5.15, 31.8 ,  5.12),\n",
       "           (0.81, 68.8, 79. ,  2301, 5.26,  5.2 ,  3.58),\n",
       "           (0.5 , 79. , 73. ,  2579, 5.21,  5.18,  4.09),\n",
       "           (0.5 , 79. , 73. ,  2579, 5.21,  5.18,  4.09)],\n",
       "          dtype=[('carat', '<f8'), ('depth', '<f8'), ('table', '<f8'), ('price', '<i8'), ('x', '<f8'), ('y', '<f8'), ('z', '<f8')])"
      ]
     },
     "execution_count": 64,
     "metadata": {},
     "output_type": "execute_result"
    }
   ],
   "source": [
    "# Gozukmesi Icin Bakiyoruz\n",
    "\n",
    "aykirilar.to_records(index = False) # Bunu Numpy Arrayine Cevirdik Ve Burada Gozlenecegi Uzere Index Degerlerinden Kurtulmus Olduk, Sadece Degerler Var"
   ]
  },
  {
   "cell_type": "code",
   "execution_count": 65,
   "id": "0d973293",
   "metadata": {
    "execution": {
     "iopub.execute_input": "2022-05-05T23:05:26.879584Z",
     "iopub.status.busy": "2022-05-05T23:05:26.878434Z",
     "iopub.status.idle": "2022-05-05T23:05:26.884047Z",
     "shell.execute_reply": "2022-05-05T23:05:26.883487Z"
    },
    "papermill": {
     "duration": 0.099145,
     "end_time": "2022-05-05T23:05:26.885936",
     "exception": false,
     "start_time": "2022-05-05T23:05:26.786791",
     "status": "completed"
    },
    "tags": []
   },
   "outputs": [],
   "source": [
    "# ( \"res\" Ismi Tamamen Uydurma Bi Isim ) ( Bilgilendirme ) ( Atama Islemi Yapiyoruz )\n",
    "\n",
    "res = aykirilar.to_records(index = False)"
   ]
  },
  {
   "cell_type": "code",
   "execution_count": 66,
   "id": "09f029a3",
   "metadata": {
    "execution": {
     "iopub.execute_input": "2022-05-05T23:05:27.072943Z",
     "iopub.status.busy": "2022-05-05T23:05:27.072157Z",
     "iopub.status.idle": "2022-05-05T23:05:27.077299Z",
     "shell.execute_reply": "2022-05-05T23:05:27.076535Z"
    },
    "papermill": {
     "duration": 0.10124,
     "end_time": "2022-05-05T23:05:27.079181",
     "exception": false,
     "start_time": "2022-05-05T23:05:26.977941",
     "status": "completed"
    },
    "tags": []
   },
   "outputs": [],
   "source": [
    "# \"res\" Ifadesinin Icerisindeki Tum Degerleri Olustur ----->> ( Nasil Olusturayim ? ) ----->> \n",
    "\n",
    "res[:] = baski_deger.to_records(index = False) # baski_deger Ifadesini de Array'a Cevirdik Ve Index = False Yapildi"
   ]
  },
  {
   "cell_type": "code",
   "execution_count": 67,
   "id": "4d20e6d3",
   "metadata": {
    "execution": {
     "iopub.execute_input": "2022-05-05T23:05:27.265323Z",
     "iopub.status.busy": "2022-05-05T23:05:27.264927Z",
     "iopub.status.idle": "2022-05-05T23:05:27.271027Z",
     "shell.execute_reply": "2022-05-05T23:05:27.270499Z"
    },
    "papermill": {
     "duration": 0.100653,
     "end_time": "2022-05-05T23:05:27.272801",
     "exception": false,
     "start_time": "2022-05-05T23:05:27.172148",
     "status": "completed"
    },
    "tags": []
   },
   "outputs": [
    {
     "data": {
      "text/plain": [
       "rec.array([(0.45, 68.6, 57., 756, 4.73, 4.5, 3.19),\n",
       "           (0.45, 68.6, 57., 756, 4.73, 4.5, 3.19),\n",
       "           (0.45, 68.6, 57., 756, 4.73, 4.5, 3.19),\n",
       "           (0.45, 68.6, 57., 756, 4.73, 4.5, 3.19),\n",
       "           (0.45, 68.6, 57., 756, 4.73, 4.5, 3.19),\n",
       "           (0.45, 68.6, 57., 756, 4.73, 4.5, 3.19),\n",
       "           (0.45, 68.6, 57., 756, 4.73, 4.5, 3.19),\n",
       "           (0.45, 68.6, 57., 756, 4.73, 4.5, 3.19),\n",
       "           (0.45, 68.6, 57., 756, 4.73, 4.5, 3.19),\n",
       "           (0.45, 68.6, 57., 756, 4.73, 4.5, 3.19),\n",
       "           (0.45, 68.6, 57., 756, 4.73, 4.5, 3.19),\n",
       "           (0.45, 68.6, 57., 756, 4.73, 4.5, 3.19),\n",
       "           (0.45, 68.6, 57., 756, 4.73, 4.5, 3.19),\n",
       "           (0.45, 68.6, 57., 756, 4.73, 4.5, 3.19)],\n",
       "          dtype=[('carat', '<f8'), ('depth', '<f8'), ('table', '<f8'), ('price', '<i8'), ('x', '<f8'), ('y', '<f8'), ('z', '<f8')])"
      ]
     },
     "execution_count": 67,
     "metadata": {},
     "output_type": "execute_result"
    }
   ],
   "source": [
    "res # Gorulecegi Uzere Butun Aykiri Degerlerin Yerine Esik Degerimiz Yani Baskilayacak Oldugumuz Degerimizin Degerlerini ( Tum Degiskenlerdeki Degerlerini ) Doldurmus Olduk"
   ]
  },
  {
   "cell_type": "code",
   "execution_count": 68,
   "id": "14570ee7",
   "metadata": {
    "execution": {
     "iopub.execute_input": "2022-05-05T23:05:27.457129Z",
     "iopub.status.busy": "2022-05-05T23:05:27.456668Z",
     "iopub.status.idle": "2022-05-05T23:05:27.475240Z",
     "shell.execute_reply": "2022-05-05T23:05:27.474665Z"
    },
    "papermill": {
     "duration": 0.112744,
     "end_time": "2022-05-05T23:05:27.477130",
     "exception": false,
     "start_time": "2022-05-05T23:05:27.364386",
     "status": "completed"
    },
    "tags": []
   },
   "outputs": [
    {
     "data": {
      "text/html": [
       "<div>\n",
       "<style scoped>\n",
       "    .dataframe tbody tr th:only-of-type {\n",
       "        vertical-align: middle;\n",
       "    }\n",
       "\n",
       "    .dataframe tbody tr th {\n",
       "        vertical-align: top;\n",
       "    }\n",
       "\n",
       "    .dataframe thead th {\n",
       "        text-align: right;\n",
       "    }\n",
       "</style>\n",
       "<table border=\"1\" class=\"dataframe\">\n",
       "  <thead>\n",
       "    <tr style=\"text-align: right;\">\n",
       "      <th></th>\n",
       "      <th>carat</th>\n",
       "      <th>depth</th>\n",
       "      <th>table</th>\n",
       "      <th>price</th>\n",
       "      <th>x</th>\n",
       "      <th>y</th>\n",
       "      <th>z</th>\n",
       "    </tr>\n",
       "  </thead>\n",
       "  <tbody>\n",
       "    <tr>\n",
       "      <th>6341</th>\n",
       "      <td>1.00</td>\n",
       "      <td>44.0</td>\n",
       "      <td>53.0</td>\n",
       "      <td>4032</td>\n",
       "      <td>6.31</td>\n",
       "      <td>6.24</td>\n",
       "      <td>4.12</td>\n",
       "    </tr>\n",
       "    <tr>\n",
       "      <th>10377</th>\n",
       "      <td>1.09</td>\n",
       "      <td>43.0</td>\n",
       "      <td>54.0</td>\n",
       "      <td>4778</td>\n",
       "      <td>6.53</td>\n",
       "      <td>6.55</td>\n",
       "      <td>4.12</td>\n",
       "    </tr>\n",
       "    <tr>\n",
       "      <th>24067</th>\n",
       "      <td>2.00</td>\n",
       "      <td>58.9</td>\n",
       "      <td>57.0</td>\n",
       "      <td>12210</td>\n",
       "      <td>8.09</td>\n",
       "      <td>58.90</td>\n",
       "      <td>8.06</td>\n",
       "    </tr>\n",
       "    <tr>\n",
       "      <th>31230</th>\n",
       "      <td>0.45</td>\n",
       "      <td>68.6</td>\n",
       "      <td>57.0</td>\n",
       "      <td>756</td>\n",
       "      <td>4.73</td>\n",
       "      <td>4.50</td>\n",
       "      <td>3.19</td>\n",
       "    </tr>\n",
       "    <tr>\n",
       "      <th>35633</th>\n",
       "      <td>0.29</td>\n",
       "      <td>62.8</td>\n",
       "      <td>44.0</td>\n",
       "      <td>474</td>\n",
       "      <td>4.20</td>\n",
       "      <td>4.24</td>\n",
       "      <td>2.65</td>\n",
       "    </tr>\n",
       "    <tr>\n",
       "      <th>36503</th>\n",
       "      <td>0.30</td>\n",
       "      <td>51.0</td>\n",
       "      <td>67.0</td>\n",
       "      <td>945</td>\n",
       "      <td>4.67</td>\n",
       "      <td>4.62</td>\n",
       "      <td>2.37</td>\n",
       "    </tr>\n",
       "    <tr>\n",
       "      <th>38840</th>\n",
       "      <td>0.73</td>\n",
       "      <td>70.8</td>\n",
       "      <td>55.0</td>\n",
       "      <td>1049</td>\n",
       "      <td>5.51</td>\n",
       "      <td>5.34</td>\n",
       "      <td>3.84</td>\n",
       "    </tr>\n",
       "    <tr>\n",
       "      <th>41918</th>\n",
       "      <td>1.03</td>\n",
       "      <td>78.2</td>\n",
       "      <td>54.0</td>\n",
       "      <td>1262</td>\n",
       "      <td>5.72</td>\n",
       "      <td>5.59</td>\n",
       "      <td>4.42</td>\n",
       "    </tr>\n",
       "    <tr>\n",
       "      <th>45688</th>\n",
       "      <td>0.70</td>\n",
       "      <td>71.6</td>\n",
       "      <td>55.0</td>\n",
       "      <td>1696</td>\n",
       "      <td>5.47</td>\n",
       "      <td>5.28</td>\n",
       "      <td>3.85</td>\n",
       "    </tr>\n",
       "    <tr>\n",
       "      <th>48410</th>\n",
       "      <td>0.51</td>\n",
       "      <td>61.8</td>\n",
       "      <td>54.7</td>\n",
       "      <td>1970</td>\n",
       "      <td>5.12</td>\n",
       "      <td>5.15</td>\n",
       "      <td>31.80</td>\n",
       "    </tr>\n",
       "    <tr>\n",
       "      <th>49189</th>\n",
       "      <td>0.51</td>\n",
       "      <td>61.8</td>\n",
       "      <td>55.0</td>\n",
       "      <td>2075</td>\n",
       "      <td>5.15</td>\n",
       "      <td>31.80</td>\n",
       "      <td>5.12</td>\n",
       "    </tr>\n",
       "    <tr>\n",
       "      <th>50773</th>\n",
       "      <td>0.81</td>\n",
       "      <td>68.8</td>\n",
       "      <td>79.0</td>\n",
       "      <td>2301</td>\n",
       "      <td>5.26</td>\n",
       "      <td>5.20</td>\n",
       "      <td>3.58</td>\n",
       "    </tr>\n",
       "    <tr>\n",
       "      <th>52860</th>\n",
       "      <td>0.50</td>\n",
       "      <td>79.0</td>\n",
       "      <td>73.0</td>\n",
       "      <td>2579</td>\n",
       "      <td>5.21</td>\n",
       "      <td>5.18</td>\n",
       "      <td>4.09</td>\n",
       "    </tr>\n",
       "    <tr>\n",
       "      <th>52861</th>\n",
       "      <td>0.50</td>\n",
       "      <td>79.0</td>\n",
       "      <td>73.0</td>\n",
       "      <td>2579</td>\n",
       "      <td>5.21</td>\n",
       "      <td>5.18</td>\n",
       "      <td>4.09</td>\n",
       "    </tr>\n",
       "  </tbody>\n",
       "</table>\n",
       "</div>"
      ],
      "text/plain": [
       "       carat  depth  table  price     x      y      z\n",
       "6341    1.00   44.0   53.0   4032  6.31   6.24   4.12\n",
       "10377   1.09   43.0   54.0   4778  6.53   6.55   4.12\n",
       "24067   2.00   58.9   57.0  12210  8.09  58.90   8.06\n",
       "31230   0.45   68.6   57.0    756  4.73   4.50   3.19\n",
       "35633   0.29   62.8   44.0    474  4.20   4.24   2.65\n",
       "36503   0.30   51.0   67.0    945  4.67   4.62   2.37\n",
       "38840   0.73   70.8   55.0   1049  5.51   5.34   3.84\n",
       "41918   1.03   78.2   54.0   1262  5.72   5.59   4.42\n",
       "45688   0.70   71.6   55.0   1696  5.47   5.28   3.85\n",
       "48410   0.51   61.8   54.7   1970  5.12   5.15  31.80\n",
       "49189   0.51   61.8   55.0   2075  5.15  31.80   5.12\n",
       "50773   0.81   68.8   79.0   2301  5.26   5.20   3.58\n",
       "52860   0.50   79.0   73.0   2579  5.21   5.18   4.09\n",
       "52861   0.50   79.0   73.0   2579  5.21   5.18   4.09"
      ]
     },
     "execution_count": 68,
     "metadata": {},
     "output_type": "execute_result"
    }
   ],
   "source": [
    "# Simdi Soyle Bir Problemimiz Var;\n",
    "# \"res\" Ayri Bir Array, \"aykirilar\" Ayri Bir Array\n",
    "# Ana Data_Framemizin Icerisinde Bu Yapi Bu Sekilde Degil ( Aykiriliklarda Bi Degisiklik Yok ) ( Gozlemleyelim )\n",
    "\n",
    "df[~aykiri_tf]"
   ]
  },
  {
   "cell_type": "code",
   "execution_count": 69,
   "id": "2428fd5e",
   "metadata": {
    "execution": {
     "iopub.execute_input": "2022-05-05T23:05:27.662527Z",
     "iopub.status.busy": "2022-05-05T23:05:27.662021Z",
     "iopub.status.idle": "2022-05-05T23:05:27.665087Z",
     "shell.execute_reply": "2022-05-05T23:05:27.664572Z"
    },
    "papermill": {
     "duration": 0.097672,
     "end_time": "2022-05-05T23:05:27.666795",
     "exception": false,
     "start_time": "2022-05-05T23:05:27.569123",
     "status": "completed"
    },
    "tags": []
   },
   "outputs": [],
   "source": [
    "# Dolayisi Ile Bizim \"res\" Adli Arrayi Yukarida ( Bi Ustte ) Gostermekte Oldugumuz Gercek Veri Setinin Icerisine Bizim Yerlestirmemiz Gerekiyor ( Peki Bunu Nasil Yapicaz? )\n",
    "# Bu Islem Icinde Yapmamiz Gereken Sey; Olusturmus Oldugumuz \"res\" Adli Arrayi Data_Frame'ye Cevirmemiz Ve Daha Sonrasinda Yukaridaki Degerlerin ( Bi Ustteki ) Yerine  Basitce Atamamiz Gerekiyor"
   ]
  },
  {
   "cell_type": "code",
   "execution_count": 70,
   "id": "02624544",
   "metadata": {
    "execution": {
     "iopub.execute_input": "2022-05-05T23:05:27.852091Z",
     "iopub.status.busy": "2022-05-05T23:05:27.851591Z",
     "iopub.status.idle": "2022-05-05T23:05:27.861743Z",
     "shell.execute_reply": "2022-05-05T23:05:27.860901Z"
    },
    "papermill": {
     "duration": 0.105154,
     "end_time": "2022-05-05T23:05:27.863841",
     "exception": false,
     "start_time": "2022-05-05T23:05:27.758687",
     "status": "completed"
    },
    "tags": []
   },
   "outputs": [],
   "source": [
    "# Original Data_Framenin Icerisindeki Aykirilari Bastan Tanimliyorum ( Nasil Tanimlicam ? ) --->> \"res\" Adli Arrayi Data_Frameye Cevir Ve Ozel Bir Istegim Var ( Nedir ?) ---->> Index Degerlerini Ben\n",
    "# Belirlemek Istiyorum ( Nasil Belirlemek Istiyosun? ) ---->> Index Degerlerini De, Original Data_Framenin Icerisine Koyacagimiz Yerleri\n",
    "# Yani Original Data_Framedeki Index Degerlerini Al Diyoruz    df[~aykiri_tf]    Ve Sonuna    .index    Ifadesi Yerlestiriyoruz\n",
    "\n",
    "# import pandas as pd ( Burada Pandas import Edilir )\n",
    "\n",
    "df[~aykiri_tf] = pd.DataFrame(res, index = df[~aykiri_tf].index)"
   ]
  },
  {
   "cell_type": "code",
   "execution_count": 71,
   "id": "284d6b94",
   "metadata": {
    "execution": {
     "iopub.execute_input": "2022-05-05T23:05:28.050999Z",
     "iopub.status.busy": "2022-05-05T23:05:28.050404Z",
     "iopub.status.idle": "2022-05-05T23:05:28.069438Z",
     "shell.execute_reply": "2022-05-05T23:05:28.068862Z"
    },
    "papermill": {
     "duration": 0.115551,
     "end_time": "2022-05-05T23:05:28.071182",
     "exception": false,
     "start_time": "2022-05-05T23:05:27.955631",
     "status": "completed"
    },
    "tags": []
   },
   "outputs": [
    {
     "data": {
      "text/html": [
       "<div>\n",
       "<style scoped>\n",
       "    .dataframe tbody tr th:only-of-type {\n",
       "        vertical-align: middle;\n",
       "    }\n",
       "\n",
       "    .dataframe tbody tr th {\n",
       "        vertical-align: top;\n",
       "    }\n",
       "\n",
       "    .dataframe thead th {\n",
       "        text-align: right;\n",
       "    }\n",
       "</style>\n",
       "<table border=\"1\" class=\"dataframe\">\n",
       "  <thead>\n",
       "    <tr style=\"text-align: right;\">\n",
       "      <th></th>\n",
       "      <th>carat</th>\n",
       "      <th>depth</th>\n",
       "      <th>table</th>\n",
       "      <th>price</th>\n",
       "      <th>x</th>\n",
       "      <th>y</th>\n",
       "      <th>z</th>\n",
       "    </tr>\n",
       "  </thead>\n",
       "  <tbody>\n",
       "    <tr>\n",
       "      <th>6341</th>\n",
       "      <td>0.45</td>\n",
       "      <td>68.6</td>\n",
       "      <td>57.0</td>\n",
       "      <td>756</td>\n",
       "      <td>4.73</td>\n",
       "      <td>4.5</td>\n",
       "      <td>3.19</td>\n",
       "    </tr>\n",
       "    <tr>\n",
       "      <th>10377</th>\n",
       "      <td>0.45</td>\n",
       "      <td>68.6</td>\n",
       "      <td>57.0</td>\n",
       "      <td>756</td>\n",
       "      <td>4.73</td>\n",
       "      <td>4.5</td>\n",
       "      <td>3.19</td>\n",
       "    </tr>\n",
       "    <tr>\n",
       "      <th>24067</th>\n",
       "      <td>0.45</td>\n",
       "      <td>68.6</td>\n",
       "      <td>57.0</td>\n",
       "      <td>756</td>\n",
       "      <td>4.73</td>\n",
       "      <td>4.5</td>\n",
       "      <td>3.19</td>\n",
       "    </tr>\n",
       "    <tr>\n",
       "      <th>31230</th>\n",
       "      <td>0.45</td>\n",
       "      <td>68.6</td>\n",
       "      <td>57.0</td>\n",
       "      <td>756</td>\n",
       "      <td>4.73</td>\n",
       "      <td>4.5</td>\n",
       "      <td>3.19</td>\n",
       "    </tr>\n",
       "    <tr>\n",
       "      <th>35633</th>\n",
       "      <td>0.45</td>\n",
       "      <td>68.6</td>\n",
       "      <td>57.0</td>\n",
       "      <td>756</td>\n",
       "      <td>4.73</td>\n",
       "      <td>4.5</td>\n",
       "      <td>3.19</td>\n",
       "    </tr>\n",
       "    <tr>\n",
       "      <th>36503</th>\n",
       "      <td>0.45</td>\n",
       "      <td>68.6</td>\n",
       "      <td>57.0</td>\n",
       "      <td>756</td>\n",
       "      <td>4.73</td>\n",
       "      <td>4.5</td>\n",
       "      <td>3.19</td>\n",
       "    </tr>\n",
       "    <tr>\n",
       "      <th>38840</th>\n",
       "      <td>0.45</td>\n",
       "      <td>68.6</td>\n",
       "      <td>57.0</td>\n",
       "      <td>756</td>\n",
       "      <td>4.73</td>\n",
       "      <td>4.5</td>\n",
       "      <td>3.19</td>\n",
       "    </tr>\n",
       "    <tr>\n",
       "      <th>41918</th>\n",
       "      <td>0.45</td>\n",
       "      <td>68.6</td>\n",
       "      <td>57.0</td>\n",
       "      <td>756</td>\n",
       "      <td>4.73</td>\n",
       "      <td>4.5</td>\n",
       "      <td>3.19</td>\n",
       "    </tr>\n",
       "    <tr>\n",
       "      <th>45688</th>\n",
       "      <td>0.45</td>\n",
       "      <td>68.6</td>\n",
       "      <td>57.0</td>\n",
       "      <td>756</td>\n",
       "      <td>4.73</td>\n",
       "      <td>4.5</td>\n",
       "      <td>3.19</td>\n",
       "    </tr>\n",
       "    <tr>\n",
       "      <th>48410</th>\n",
       "      <td>0.45</td>\n",
       "      <td>68.6</td>\n",
       "      <td>57.0</td>\n",
       "      <td>756</td>\n",
       "      <td>4.73</td>\n",
       "      <td>4.5</td>\n",
       "      <td>3.19</td>\n",
       "    </tr>\n",
       "    <tr>\n",
       "      <th>49189</th>\n",
       "      <td>0.45</td>\n",
       "      <td>68.6</td>\n",
       "      <td>57.0</td>\n",
       "      <td>756</td>\n",
       "      <td>4.73</td>\n",
       "      <td>4.5</td>\n",
       "      <td>3.19</td>\n",
       "    </tr>\n",
       "    <tr>\n",
       "      <th>50773</th>\n",
       "      <td>0.45</td>\n",
       "      <td>68.6</td>\n",
       "      <td>57.0</td>\n",
       "      <td>756</td>\n",
       "      <td>4.73</td>\n",
       "      <td>4.5</td>\n",
       "      <td>3.19</td>\n",
       "    </tr>\n",
       "    <tr>\n",
       "      <th>52860</th>\n",
       "      <td>0.45</td>\n",
       "      <td>68.6</td>\n",
       "      <td>57.0</td>\n",
       "      <td>756</td>\n",
       "      <td>4.73</td>\n",
       "      <td>4.5</td>\n",
       "      <td>3.19</td>\n",
       "    </tr>\n",
       "    <tr>\n",
       "      <th>52861</th>\n",
       "      <td>0.45</td>\n",
       "      <td>68.6</td>\n",
       "      <td>57.0</td>\n",
       "      <td>756</td>\n",
       "      <td>4.73</td>\n",
       "      <td>4.5</td>\n",
       "      <td>3.19</td>\n",
       "    </tr>\n",
       "  </tbody>\n",
       "</table>\n",
       "</div>"
      ],
      "text/plain": [
       "       carat  depth  table  price     x    y     z\n",
       "6341    0.45   68.6   57.0    756  4.73  4.5  3.19\n",
       "10377   0.45   68.6   57.0    756  4.73  4.5  3.19\n",
       "24067   0.45   68.6   57.0    756  4.73  4.5  3.19\n",
       "31230   0.45   68.6   57.0    756  4.73  4.5  3.19\n",
       "35633   0.45   68.6   57.0    756  4.73  4.5  3.19\n",
       "36503   0.45   68.6   57.0    756  4.73  4.5  3.19\n",
       "38840   0.45   68.6   57.0    756  4.73  4.5  3.19\n",
       "41918   0.45   68.6   57.0    756  4.73  4.5  3.19\n",
       "45688   0.45   68.6   57.0    756  4.73  4.5  3.19\n",
       "48410   0.45   68.6   57.0    756  4.73  4.5  3.19\n",
       "49189   0.45   68.6   57.0    756  4.73  4.5  3.19\n",
       "50773   0.45   68.6   57.0    756  4.73  4.5  3.19\n",
       "52860   0.45   68.6   57.0    756  4.73  4.5  3.19\n",
       "52861   0.45   68.6   57.0    756  4.73  4.5  3.19"
      ]
     },
     "execution_count": 71,
     "metadata": {},
     "output_type": "execute_result"
    }
   ],
   "source": [
    "df[~aykiri_tf] # Su Anda Original Veri Setimizin Icerisindeki Aykiri Degerlerin Yerine Bir Sabit ( Bir Esik ) Degerine Karsilik Gelen Baskilayici Deger Olarak Degerleri Atamis Olduk ( LOF Yardimi Ile )"
   ]
  },
  {
   "cell_type": "code",
   "execution_count": 72,
   "id": "08ac70eb",
   "metadata": {
    "execution": {
     "iopub.execute_input": "2022-05-05T23:05:28.260863Z",
     "iopub.status.busy": "2022-05-05T23:05:28.260057Z",
     "iopub.status.idle": "2022-05-05T23:05:28.264091Z",
     "shell.execute_reply": "2022-05-05T23:05:28.263550Z"
    },
    "papermill": {
     "duration": 0.100675,
     "end_time": "2022-05-05T23:05:28.265903",
     "exception": false,
     "start_time": "2022-05-05T23:05:28.165228",
     "status": "completed"
    },
    "tags": []
   },
   "outputs": [],
   "source": [
    "# Bu Yaptigimiz Islem Ileri Seviye Bir Islemdi ( Cok Degiskenli Aykiri Gozlem Analizi )"
   ]
  },
  {
   "cell_type": "code",
   "execution_count": null,
   "id": "dc31c592",
   "metadata": {
    "papermill": {
     "duration": 0.091891,
     "end_time": "2022-05-05T23:05:28.450427",
     "exception": false,
     "start_time": "2022-05-05T23:05:28.358536",
     "status": "completed"
    },
    "tags": []
   },
   "outputs": [],
   "source": []
  }
 ],
 "metadata": {
  "kernelspec": {
   "display_name": "Python 3",
   "language": "python",
   "name": "python3"
  },
  "language_info": {
   "codemirror_mode": {
    "name": "ipython",
    "version": 3
   },
   "file_extension": ".py",
   "mimetype": "text/x-python",
   "name": "python",
   "nbconvert_exporter": "python",
   "pygments_lexer": "ipython3",
   "version": "3.7.12"
  },
  "papermill": {
   "default_parameters": {},
   "duration": 27.94858,
   "end_time": "2022-05-05T23:05:29.266235",
   "environment_variables": {},
   "exception": null,
   "input_path": "__notebook__.ipynb",
   "output_path": "__notebook__.ipynb",
   "parameters": {},
   "start_time": "2022-05-05T23:05:01.317655",
   "version": "2.3.4"
  }
 },
 "nbformat": 4,
 "nbformat_minor": 5
}
