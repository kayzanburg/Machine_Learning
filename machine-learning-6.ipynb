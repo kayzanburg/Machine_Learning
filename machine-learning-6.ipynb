{
 "cells": [
  {
   "cell_type": "code",
   "execution_count": 1,
   "id": "f47d5369",
   "metadata": {
    "_cell_guid": "b1076dfc-b9ad-4769-8c92-a6c4dae69d19",
    "_uuid": "8f2839f25d086af736a60e9eeb907d3b93b6e0e5",
    "execution": {
     "iopub.execute_input": "2022-04-30T23:02:34.899707Z",
     "iopub.status.busy": "2022-04-30T23:02:34.898850Z",
     "iopub.status.idle": "2022-04-30T23:02:34.905528Z",
     "shell.execute_reply": "2022-04-30T23:02:34.904436Z"
    },
    "papermill": {
     "duration": 0.121799,
     "end_time": "2022-04-30T23:02:34.910486",
     "exception": false,
     "start_time": "2022-04-30T23:02:34.788687",
     "status": "completed"
    },
    "tags": []
   },
   "outputs": [],
   "source": [
    "# VERI SETI NASIL YORUMLANIR\n",
    "\n",
    "# VERI SETI HIKAYESI VE YAPISININ INCELENMESI"
   ]
  },
  {
   "cell_type": "code",
   "execution_count": 2,
   "id": "4bb955f7",
   "metadata": {
    "execution": {
     "iopub.execute_input": "2022-04-30T23:02:35.107752Z",
     "iopub.status.busy": "2022-04-30T23:02:35.107130Z",
     "iopub.status.idle": "2022-04-30T23:02:36.430851Z",
     "shell.execute_reply": "2022-04-30T23:02:36.429686Z"
    },
    "papermill": {
     "duration": 1.42496,
     "end_time": "2022-04-30T23:02:36.433666",
     "exception": false,
     "start_time": "2022-04-30T23:02:35.008706",
     "status": "completed"
    },
    "tags": []
   },
   "outputs": [],
   "source": [
    "import numpy as np\n",
    "import pandas as pd\n",
    "import seaborn as sns"
   ]
  },
  {
   "cell_type": "code",
   "execution_count": 3,
   "id": "63226115",
   "metadata": {
    "execution": {
     "iopub.execute_input": "2022-04-30T23:02:36.623911Z",
     "iopub.status.busy": "2022-04-30T23:02:36.623607Z",
     "iopub.status.idle": "2022-04-30T23:02:36.662300Z",
     "shell.execute_reply": "2022-04-30T23:02:36.661388Z"
    },
    "papermill": {
     "duration": 0.13613,
     "end_time": "2022-04-30T23:02:36.664712",
     "exception": false,
     "start_time": "2022-04-30T23:02:36.528582",
     "status": "completed"
    },
    "tags": []
   },
   "outputs": [
    {
     "data": {
      "text/html": [
       "<div>\n",
       "<style scoped>\n",
       "    .dataframe tbody tr th:only-of-type {\n",
       "        vertical-align: middle;\n",
       "    }\n",
       "\n",
       "    .dataframe tbody tr th {\n",
       "        vertical-align: top;\n",
       "    }\n",
       "\n",
       "    .dataframe thead th {\n",
       "        text-align: right;\n",
       "    }\n",
       "</style>\n",
       "<table border=\"1\" class=\"dataframe\">\n",
       "  <thead>\n",
       "    <tr style=\"text-align: right;\">\n",
       "      <th></th>\n",
       "      <th>method</th>\n",
       "      <th>number</th>\n",
       "      <th>orbital_period</th>\n",
       "      <th>mass</th>\n",
       "      <th>distance</th>\n",
       "      <th>year</th>\n",
       "    </tr>\n",
       "  </thead>\n",
       "  <tbody>\n",
       "    <tr>\n",
       "      <th>0</th>\n",
       "      <td>Radial Velocity</td>\n",
       "      <td>1</td>\n",
       "      <td>269.300</td>\n",
       "      <td>7.10</td>\n",
       "      <td>77.40</td>\n",
       "      <td>2006</td>\n",
       "    </tr>\n",
       "    <tr>\n",
       "      <th>1</th>\n",
       "      <td>Radial Velocity</td>\n",
       "      <td>1</td>\n",
       "      <td>874.774</td>\n",
       "      <td>2.21</td>\n",
       "      <td>56.95</td>\n",
       "      <td>2008</td>\n",
       "    </tr>\n",
       "    <tr>\n",
       "      <th>2</th>\n",
       "      <td>Radial Velocity</td>\n",
       "      <td>1</td>\n",
       "      <td>763.000</td>\n",
       "      <td>2.60</td>\n",
       "      <td>19.84</td>\n",
       "      <td>2011</td>\n",
       "    </tr>\n",
       "    <tr>\n",
       "      <th>3</th>\n",
       "      <td>Radial Velocity</td>\n",
       "      <td>1</td>\n",
       "      <td>326.030</td>\n",
       "      <td>19.40</td>\n",
       "      <td>110.62</td>\n",
       "      <td>2007</td>\n",
       "    </tr>\n",
       "    <tr>\n",
       "      <th>4</th>\n",
       "      <td>Radial Velocity</td>\n",
       "      <td>1</td>\n",
       "      <td>516.220</td>\n",
       "      <td>10.50</td>\n",
       "      <td>119.47</td>\n",
       "      <td>2009</td>\n",
       "    </tr>\n",
       "  </tbody>\n",
       "</table>\n",
       "</div>"
      ],
      "text/plain": [
       "            method  number  orbital_period   mass  distance  year\n",
       "0  Radial Velocity       1         269.300   7.10     77.40  2006\n",
       "1  Radial Velocity       1         874.774   2.21     56.95  2008\n",
       "2  Radial Velocity       1         763.000   2.60     19.84  2011\n",
       "3  Radial Velocity       1         326.030  19.40    110.62  2007\n",
       "4  Radial Velocity       1         516.220  10.50    119.47  2009"
      ]
     },
     "execution_count": 3,
     "metadata": {},
     "output_type": "execute_result"
    }
   ],
   "source": [
    "planets = pd.read_csv(\"../input/seaborn-practice/planets.csv\")\n",
    "\n",
    "planets.head()"
   ]
  },
  {
   "cell_type": "code",
   "execution_count": 4,
   "id": "a373da3d",
   "metadata": {
    "execution": {
     "iopub.execute_input": "2022-04-30T23:02:36.853382Z",
     "iopub.status.busy": "2022-04-30T23:02:36.853045Z",
     "iopub.status.idle": "2022-04-30T23:02:36.857423Z",
     "shell.execute_reply": "2022-04-30T23:02:36.856325Z"
    },
    "papermill": {
     "duration": 0.102568,
     "end_time": "2022-04-30T23:02:36.859885",
     "exception": false,
     "start_time": "2022-04-30T23:02:36.757317",
     "status": "completed"
    },
    "tags": []
   },
   "outputs": [],
   "source": [
    "# Bir Veri Seti Onumuze Geldigi Zaman Bu Veri Setinin Hikayesi Nedir?  ( Diye Sorulur )\n",
    "\n",
    "# Nasil Olusmustur?"
   ]
  },
  {
   "cell_type": "code",
   "execution_count": 5,
   "id": "0d2b5f2d",
   "metadata": {
    "execution": {
     "iopub.execute_input": "2022-04-30T23:02:37.061664Z",
     "iopub.status.busy": "2022-04-30T23:02:37.060970Z",
     "iopub.status.idle": "2022-04-30T23:02:37.066384Z",
     "shell.execute_reply": "2022-04-30T23:02:37.065239Z"
    },
    "papermill": {
     "duration": 0.111363,
     "end_time": "2022-04-30T23:02:37.069095",
     "exception": false,
     "start_time": "2022-04-30T23:02:36.957732",
     "status": "completed"
    },
    "tags": []
   },
   "outputs": [],
   "source": [
    "df = planets.copy()"
   ]
  },
  {
   "cell_type": "code",
   "execution_count": 6,
   "id": "2ee3f508",
   "metadata": {
    "execution": {
     "iopub.execute_input": "2022-04-30T23:02:37.261292Z",
     "iopub.status.busy": "2022-04-30T23:02:37.260609Z",
     "iopub.status.idle": "2022-04-30T23:02:37.274284Z",
     "shell.execute_reply": "2022-04-30T23:02:37.273118Z"
    },
    "papermill": {
     "duration": 0.113254,
     "end_time": "2022-04-30T23:02:37.276838",
     "exception": false,
     "start_time": "2022-04-30T23:02:37.163584",
     "status": "completed"
    },
    "tags": []
   },
   "outputs": [
    {
     "data": {
      "text/html": [
       "<div>\n",
       "<style scoped>\n",
       "    .dataframe tbody tr th:only-of-type {\n",
       "        vertical-align: middle;\n",
       "    }\n",
       "\n",
       "    .dataframe tbody tr th {\n",
       "        vertical-align: top;\n",
       "    }\n",
       "\n",
       "    .dataframe thead th {\n",
       "        text-align: right;\n",
       "    }\n",
       "</style>\n",
       "<table border=\"1\" class=\"dataframe\">\n",
       "  <thead>\n",
       "    <tr style=\"text-align: right;\">\n",
       "      <th></th>\n",
       "      <th>method</th>\n",
       "      <th>number</th>\n",
       "      <th>orbital_period</th>\n",
       "      <th>mass</th>\n",
       "      <th>distance</th>\n",
       "      <th>year</th>\n",
       "    </tr>\n",
       "  </thead>\n",
       "  <tbody>\n",
       "    <tr>\n",
       "      <th>0</th>\n",
       "      <td>Radial Velocity</td>\n",
       "      <td>1</td>\n",
       "      <td>269.300</td>\n",
       "      <td>7.10</td>\n",
       "      <td>77.40</td>\n",
       "      <td>2006</td>\n",
       "    </tr>\n",
       "    <tr>\n",
       "      <th>1</th>\n",
       "      <td>Radial Velocity</td>\n",
       "      <td>1</td>\n",
       "      <td>874.774</td>\n",
       "      <td>2.21</td>\n",
       "      <td>56.95</td>\n",
       "      <td>2008</td>\n",
       "    </tr>\n",
       "    <tr>\n",
       "      <th>2</th>\n",
       "      <td>Radial Velocity</td>\n",
       "      <td>1</td>\n",
       "      <td>763.000</td>\n",
       "      <td>2.60</td>\n",
       "      <td>19.84</td>\n",
       "      <td>2011</td>\n",
       "    </tr>\n",
       "    <tr>\n",
       "      <th>3</th>\n",
       "      <td>Radial Velocity</td>\n",
       "      <td>1</td>\n",
       "      <td>326.030</td>\n",
       "      <td>19.40</td>\n",
       "      <td>110.62</td>\n",
       "      <td>2007</td>\n",
       "    </tr>\n",
       "    <tr>\n",
       "      <th>4</th>\n",
       "      <td>Radial Velocity</td>\n",
       "      <td>1</td>\n",
       "      <td>516.220</td>\n",
       "      <td>10.50</td>\n",
       "      <td>119.47</td>\n",
       "      <td>2009</td>\n",
       "    </tr>\n",
       "  </tbody>\n",
       "</table>\n",
       "</div>"
      ],
      "text/plain": [
       "            method  number  orbital_period   mass  distance  year\n",
       "0  Radial Velocity       1         269.300   7.10     77.40  2006\n",
       "1  Radial Velocity       1         874.774   2.21     56.95  2008\n",
       "2  Radial Velocity       1         763.000   2.60     19.84  2011\n",
       "3  Radial Velocity       1         326.030  19.40    110.62  2007\n",
       "4  Radial Velocity       1         516.220  10.50    119.47  2009"
      ]
     },
     "execution_count": 6,
     "metadata": {},
     "output_type": "execute_result"
    }
   ],
   "source": [
    "df.head()"
   ]
  },
  {
   "cell_type": "code",
   "execution_count": 7,
   "id": "e82ec057",
   "metadata": {
    "execution": {
     "iopub.execute_input": "2022-04-30T23:02:37.469415Z",
     "iopub.status.busy": "2022-04-30T23:02:37.469093Z",
     "iopub.status.idle": "2022-04-30T23:02:37.482911Z",
     "shell.execute_reply": "2022-04-30T23:02:37.481977Z"
    },
    "papermill": {
     "duration": 0.110888,
     "end_time": "2022-04-30T23:02:37.485402",
     "exception": false,
     "start_time": "2022-04-30T23:02:37.374514",
     "status": "completed"
    },
    "tags": []
   },
   "outputs": [
    {
     "data": {
      "text/html": [
       "<div>\n",
       "<style scoped>\n",
       "    .dataframe tbody tr th:only-of-type {\n",
       "        vertical-align: middle;\n",
       "    }\n",
       "\n",
       "    .dataframe tbody tr th {\n",
       "        vertical-align: top;\n",
       "    }\n",
       "\n",
       "    .dataframe thead th {\n",
       "        text-align: right;\n",
       "    }\n",
       "</style>\n",
       "<table border=\"1\" class=\"dataframe\">\n",
       "  <thead>\n",
       "    <tr style=\"text-align: right;\">\n",
       "      <th></th>\n",
       "      <th>method</th>\n",
       "      <th>number</th>\n",
       "      <th>orbital_period</th>\n",
       "      <th>mass</th>\n",
       "      <th>distance</th>\n",
       "      <th>year</th>\n",
       "    </tr>\n",
       "  </thead>\n",
       "  <tbody>\n",
       "    <tr>\n",
       "      <th>1030</th>\n",
       "      <td>Transit</td>\n",
       "      <td>1</td>\n",
       "      <td>3.941507</td>\n",
       "      <td>NaN</td>\n",
       "      <td>172.0</td>\n",
       "      <td>2006</td>\n",
       "    </tr>\n",
       "    <tr>\n",
       "      <th>1031</th>\n",
       "      <td>Transit</td>\n",
       "      <td>1</td>\n",
       "      <td>2.615864</td>\n",
       "      <td>NaN</td>\n",
       "      <td>148.0</td>\n",
       "      <td>2007</td>\n",
       "    </tr>\n",
       "    <tr>\n",
       "      <th>1032</th>\n",
       "      <td>Transit</td>\n",
       "      <td>1</td>\n",
       "      <td>3.191524</td>\n",
       "      <td>NaN</td>\n",
       "      <td>174.0</td>\n",
       "      <td>2007</td>\n",
       "    </tr>\n",
       "    <tr>\n",
       "      <th>1033</th>\n",
       "      <td>Transit</td>\n",
       "      <td>1</td>\n",
       "      <td>4.125083</td>\n",
       "      <td>NaN</td>\n",
       "      <td>293.0</td>\n",
       "      <td>2008</td>\n",
       "    </tr>\n",
       "    <tr>\n",
       "      <th>1034</th>\n",
       "      <td>Transit</td>\n",
       "      <td>1</td>\n",
       "      <td>4.187757</td>\n",
       "      <td>NaN</td>\n",
       "      <td>260.0</td>\n",
       "      <td>2008</td>\n",
       "    </tr>\n",
       "  </tbody>\n",
       "</table>\n",
       "</div>"
      ],
      "text/plain": [
       "       method  number  orbital_period  mass  distance  year\n",
       "1030  Transit       1        3.941507   NaN     172.0  2006\n",
       "1031  Transit       1        2.615864   NaN     148.0  2007\n",
       "1032  Transit       1        3.191524   NaN     174.0  2007\n",
       "1033  Transit       1        4.125083   NaN     293.0  2008\n",
       "1034  Transit       1        4.187757   NaN     260.0  2008"
      ]
     },
     "execution_count": 7,
     "metadata": {},
     "output_type": "execute_result"
    }
   ],
   "source": [
    "df.tail()"
   ]
  },
  {
   "cell_type": "code",
   "execution_count": 8,
   "id": "da8c0b77",
   "metadata": {
    "execution": {
     "iopub.execute_input": "2022-04-30T23:02:37.684785Z",
     "iopub.status.busy": "2022-04-30T23:02:37.683974Z",
     "iopub.status.idle": "2022-04-30T23:02:37.715423Z",
     "shell.execute_reply": "2022-04-30T23:02:37.714446Z"
    },
    "papermill": {
     "duration": 0.133559,
     "end_time": "2022-04-30T23:02:37.718245",
     "exception": false,
     "start_time": "2022-04-30T23:02:37.584686",
     "status": "completed"
    },
    "tags": []
   },
   "outputs": [
    {
     "name": "stdout",
     "output_type": "stream",
     "text": [
      "<class 'pandas.core.frame.DataFrame'>\n",
      "RangeIndex: 1035 entries, 0 to 1034\n",
      "Data columns (total 6 columns):\n",
      " #   Column          Non-Null Count  Dtype  \n",
      "---  ------          --------------  -----  \n",
      " 0   method          1035 non-null   object \n",
      " 1   number          1035 non-null   int64  \n",
      " 2   orbital_period  992 non-null    float64\n",
      " 3   mass            513 non-null    float64\n",
      " 4   distance        808 non-null    float64\n",
      " 5   year            1035 non-null   int64  \n",
      "dtypes: float64(3), int64(2), object(1)\n",
      "memory usage: 48.6+ KB\n"
     ]
    }
   ],
   "source": [
    "# -- Veri Seti Yapisal Bilgileri --\n",
    "\n",
    "df.info()"
   ]
  },
  {
   "cell_type": "code",
   "execution_count": 9,
   "id": "b4cf19ed",
   "metadata": {
    "execution": {
     "iopub.execute_input": "2022-04-30T23:02:37.908530Z",
     "iopub.status.busy": "2022-04-30T23:02:37.908146Z",
     "iopub.status.idle": "2022-04-30T23:02:37.911887Z",
     "shell.execute_reply": "2022-04-30T23:02:37.911185Z"
    },
    "papermill": {
     "duration": 0.099904,
     "end_time": "2022-04-30T23:02:37.914114",
     "exception": false,
     "start_time": "2022-04-30T23:02:37.814210",
     "status": "completed"
    },
    "tags": []
   },
   "outputs": [],
   "source": [
    "# Yukaridaki   ---    0   method   1035 non-null   object     ---  ifadesindeki object ifadesi;\n",
    "\n",
    "# \"object\" Katagorik Degisken Olarak Dusunulmelidir"
   ]
  },
  {
   "cell_type": "code",
   "execution_count": 10,
   "id": "09a59906",
   "metadata": {
    "execution": {
     "iopub.execute_input": "2022-04-30T23:02:38.109582Z",
     "iopub.status.busy": "2022-04-30T23:02:38.108912Z",
     "iopub.status.idle": "2022-04-30T23:02:38.115681Z",
     "shell.execute_reply": "2022-04-30T23:02:38.115044Z"
    },
    "papermill": {
     "duration": 0.105964,
     "end_time": "2022-04-30T23:02:38.117748",
     "exception": false,
     "start_time": "2022-04-30T23:02:38.011784",
     "status": "completed"
    },
    "tags": []
   },
   "outputs": [
    {
     "data": {
      "text/plain": [
       "method             object\n",
       "number              int64\n",
       "orbital_period    float64\n",
       "mass              float64\n",
       "distance          float64\n",
       "year                int64\n",
       "dtype: object"
      ]
     },
     "execution_count": 10,
     "metadata": {},
     "output_type": "execute_result"
    }
   ],
   "source": [
    "# Sadece Degiskenler Ve Degiskenlerin Bilgilerine Ulasmak Istersek\n",
    "\n",
    "df.dtypes"
   ]
  },
  {
   "cell_type": "code",
   "execution_count": 11,
   "id": "aedaa3a0",
   "metadata": {
    "execution": {
     "iopub.execute_input": "2022-04-30T23:02:38.317251Z",
     "iopub.status.busy": "2022-04-30T23:02:38.316727Z",
     "iopub.status.idle": "2022-04-30T23:02:38.322827Z",
     "shell.execute_reply": "2022-04-30T23:02:38.321893Z"
    },
    "papermill": {
     "duration": 0.109452,
     "end_time": "2022-04-30T23:02:38.324965",
     "exception": false,
     "start_time": "2022-04-30T23:02:38.215513",
     "status": "completed"
    },
    "tags": []
   },
   "outputs": [],
   "source": [
    "# df.method ------->> df Icerisinden Degisken Seciyodu\n",
    "\n",
    "# pd.Categorical(df.method) ------->> Bu Ifade De Kategorik Olarak Tanimla Demektir\n",
    "\n",
    "df.method = pd.Categorical(df.method)"
   ]
  },
  {
   "cell_type": "code",
   "execution_count": 12,
   "id": "b890c7a7",
   "metadata": {
    "execution": {
     "iopub.execute_input": "2022-04-30T23:02:38.519202Z",
     "iopub.status.busy": "2022-04-30T23:02:38.518593Z",
     "iopub.status.idle": "2022-04-30T23:02:38.528509Z",
     "shell.execute_reply": "2022-04-30T23:02:38.527103Z"
    },
    "papermill": {
     "duration": 0.11025,
     "end_time": "2022-04-30T23:02:38.531474",
     "exception": false,
     "start_time": "2022-04-30T23:02:38.421224",
     "status": "completed"
    },
    "tags": []
   },
   "outputs": [
    {
     "data": {
      "text/plain": [
       "method            category\n",
       "number               int64\n",
       "orbital_period     float64\n",
       "mass               float64\n",
       "distance           float64\n",
       "year                 int64\n",
       "dtype: object"
      ]
     },
     "execution_count": 12,
     "metadata": {},
     "output_type": "execute_result"
    }
   ],
   "source": [
    "df.dtypes # Gorulecegi Uzere Kategorik Olarak Degistirme Islemi Yapildi"
   ]
  },
  {
   "cell_type": "code",
   "execution_count": 13,
   "id": "90068544",
   "metadata": {
    "execution": {
     "iopub.execute_input": "2022-04-30T23:02:38.732141Z",
     "iopub.status.busy": "2022-04-30T23:02:38.731322Z",
     "iopub.status.idle": "2022-04-30T23:02:38.745986Z",
     "shell.execute_reply": "2022-04-30T23:02:38.745031Z"
    },
    "papermill": {
     "duration": 0.119326,
     "end_time": "2022-04-30T23:02:38.748503",
     "exception": false,
     "start_time": "2022-04-30T23:02:38.629177",
     "status": "completed"
    },
    "tags": []
   },
   "outputs": [
    {
     "data": {
      "text/html": [
       "<div>\n",
       "<style scoped>\n",
       "    .dataframe tbody tr th:only-of-type {\n",
       "        vertical-align: middle;\n",
       "    }\n",
       "\n",
       "    .dataframe tbody tr th {\n",
       "        vertical-align: top;\n",
       "    }\n",
       "\n",
       "    .dataframe thead th {\n",
       "        text-align: right;\n",
       "    }\n",
       "</style>\n",
       "<table border=\"1\" class=\"dataframe\">\n",
       "  <thead>\n",
       "    <tr style=\"text-align: right;\">\n",
       "      <th></th>\n",
       "      <th>method</th>\n",
       "      <th>number</th>\n",
       "      <th>orbital_period</th>\n",
       "      <th>mass</th>\n",
       "      <th>distance</th>\n",
       "      <th>year</th>\n",
       "    </tr>\n",
       "  </thead>\n",
       "  <tbody>\n",
       "    <tr>\n",
       "      <th>0</th>\n",
       "      <td>Radial Velocity</td>\n",
       "      <td>1</td>\n",
       "      <td>269.300</td>\n",
       "      <td>7.10</td>\n",
       "      <td>77.40</td>\n",
       "      <td>2006</td>\n",
       "    </tr>\n",
       "    <tr>\n",
       "      <th>1</th>\n",
       "      <td>Radial Velocity</td>\n",
       "      <td>1</td>\n",
       "      <td>874.774</td>\n",
       "      <td>2.21</td>\n",
       "      <td>56.95</td>\n",
       "      <td>2008</td>\n",
       "    </tr>\n",
       "    <tr>\n",
       "      <th>2</th>\n",
       "      <td>Radial Velocity</td>\n",
       "      <td>1</td>\n",
       "      <td>763.000</td>\n",
       "      <td>2.60</td>\n",
       "      <td>19.84</td>\n",
       "      <td>2011</td>\n",
       "    </tr>\n",
       "    <tr>\n",
       "      <th>3</th>\n",
       "      <td>Radial Velocity</td>\n",
       "      <td>1</td>\n",
       "      <td>326.030</td>\n",
       "      <td>19.40</td>\n",
       "      <td>110.62</td>\n",
       "      <td>2007</td>\n",
       "    </tr>\n",
       "    <tr>\n",
       "      <th>4</th>\n",
       "      <td>Radial Velocity</td>\n",
       "      <td>1</td>\n",
       "      <td>516.220</td>\n",
       "      <td>10.50</td>\n",
       "      <td>119.47</td>\n",
       "      <td>2009</td>\n",
       "    </tr>\n",
       "  </tbody>\n",
       "</table>\n",
       "</div>"
      ],
      "text/plain": [
       "            method  number  orbital_period   mass  distance  year\n",
       "0  Radial Velocity       1         269.300   7.10     77.40  2006\n",
       "1  Radial Velocity       1         874.774   2.21     56.95  2008\n",
       "2  Radial Velocity       1         763.000   2.60     19.84  2011\n",
       "3  Radial Velocity       1         326.030  19.40    110.62  2007\n",
       "4  Radial Velocity       1         516.220  10.50    119.47  2009"
      ]
     },
     "execution_count": 13,
     "metadata": {},
     "output_type": "execute_result"
    }
   ],
   "source": [
    "df.head()"
   ]
  },
  {
   "cell_type": "code",
   "execution_count": 14,
   "id": "0c056a81",
   "metadata": {
    "execution": {
     "iopub.execute_input": "2022-04-30T23:02:38.949856Z",
     "iopub.status.busy": "2022-04-30T23:02:38.949302Z",
     "iopub.status.idle": "2022-04-30T23:02:38.966739Z",
     "shell.execute_reply": "2022-04-30T23:02:38.966086Z"
    },
    "papermill": {
     "duration": 0.123229,
     "end_time": "2022-04-30T23:02:38.970011",
     "exception": false,
     "start_time": "2022-04-30T23:02:38.846782",
     "status": "completed"
    },
    "tags": []
   },
   "outputs": [
    {
     "data": {
      "text/html": [
       "<div>\n",
       "<style scoped>\n",
       "    .dataframe tbody tr th:only-of-type {\n",
       "        vertical-align: middle;\n",
       "    }\n",
       "\n",
       "    .dataframe tbody tr th {\n",
       "        vertical-align: top;\n",
       "    }\n",
       "\n",
       "    .dataframe thead th {\n",
       "        text-align: right;\n",
       "    }\n",
       "</style>\n",
       "<table border=\"1\" class=\"dataframe\">\n",
       "  <thead>\n",
       "    <tr style=\"text-align: right;\">\n",
       "      <th></th>\n",
       "      <th>method</th>\n",
       "      <th>number</th>\n",
       "      <th>orbital_period</th>\n",
       "      <th>mass</th>\n",
       "      <th>distance</th>\n",
       "      <th>year</th>\n",
       "    </tr>\n",
       "  </thead>\n",
       "  <tbody>\n",
       "    <tr>\n",
       "      <th>0</th>\n",
       "      <td>Radial Velocity</td>\n",
       "      <td>1</td>\n",
       "      <td>269.300</td>\n",
       "      <td>7.10</td>\n",
       "      <td>77.40</td>\n",
       "      <td>2006</td>\n",
       "    </tr>\n",
       "    <tr>\n",
       "      <th>1</th>\n",
       "      <td>Radial Velocity</td>\n",
       "      <td>1</td>\n",
       "      <td>874.774</td>\n",
       "      <td>2.21</td>\n",
       "      <td>56.95</td>\n",
       "      <td>2008</td>\n",
       "    </tr>\n",
       "    <tr>\n",
       "      <th>2</th>\n",
       "      <td>Radial Velocity</td>\n",
       "      <td>1</td>\n",
       "      <td>763.000</td>\n",
       "      <td>2.60</td>\n",
       "      <td>19.84</td>\n",
       "      <td>2011</td>\n",
       "    </tr>\n",
       "    <tr>\n",
       "      <th>3</th>\n",
       "      <td>Radial Velocity</td>\n",
       "      <td>1</td>\n",
       "      <td>326.030</td>\n",
       "      <td>19.40</td>\n",
       "      <td>110.62</td>\n",
       "      <td>2007</td>\n",
       "    </tr>\n",
       "    <tr>\n",
       "      <th>4</th>\n",
       "      <td>Radial Velocity</td>\n",
       "      <td>1</td>\n",
       "      <td>516.220</td>\n",
       "      <td>10.50</td>\n",
       "      <td>119.47</td>\n",
       "      <td>2009</td>\n",
       "    </tr>\n",
       "  </tbody>\n",
       "</table>\n",
       "</div>"
      ],
      "text/plain": [
       "            method  number  orbital_period   mass  distance  year\n",
       "0  Radial Velocity       1         269.300   7.10     77.40  2006\n",
       "1  Radial Velocity       1         874.774   2.21     56.95  2008\n",
       "2  Radial Velocity       1         763.000   2.60     19.84  2011\n",
       "3  Radial Velocity       1         326.030  19.40    110.62  2007\n",
       "4  Radial Velocity       1         516.220  10.50    119.47  2009"
      ]
     },
     "execution_count": 14,
     "metadata": {},
     "output_type": "execute_result"
    }
   ],
   "source": [
    "# Dersler Arasinda Degiskenlere Uyguladigimiz Islemler Karismasin Diye Bastan Tanimlama Yapiyorum\n",
    "\n",
    "planets = pd.read_csv(\"../input/seaborn-practice/planets.csv\")\n",
    "\n",
    "df = planets.copy()\n",
    "\n",
    "df.head()"
   ]
  },
  {
   "cell_type": "code",
   "execution_count": 15,
   "id": "067f961f",
   "metadata": {
    "execution": {
     "iopub.execute_input": "2022-04-30T23:02:39.168710Z",
     "iopub.status.busy": "2022-04-30T23:02:39.168096Z",
     "iopub.status.idle": "2022-04-30T23:02:39.180575Z",
     "shell.execute_reply": "2022-04-30T23:02:39.179290Z"
    },
    "papermill": {
     "duration": 0.11502,
     "end_time": "2022-04-30T23:02:39.183519",
     "exception": false,
     "start_time": "2022-04-30T23:02:39.068499",
     "status": "completed"
    },
    "tags": []
   },
   "outputs": [
    {
     "name": "stdout",
     "output_type": "stream",
     "text": [
      "<class 'pandas.core.frame.DataFrame'>\n",
      "RangeIndex: 1035 entries, 0 to 1034\n",
      "Data columns (total 6 columns):\n",
      " #   Column          Non-Null Count  Dtype  \n",
      "---  ------          --------------  -----  \n",
      " 0   method          1035 non-null   object \n",
      " 1   number          1035 non-null   int64  \n",
      " 2   orbital_period  992 non-null    float64\n",
      " 3   mass            513 non-null    float64\n",
      " 4   distance        808 non-null    float64\n",
      " 5   year            1035 non-null   int64  \n",
      "dtypes: float64(3), int64(2), object(1)\n",
      "memory usage: 48.6+ KB\n"
     ]
    }
   ],
   "source": [
    "df.info()"
   ]
  },
  {
   "cell_type": "code",
   "execution_count": 16,
   "id": "0c575cd0",
   "metadata": {
    "execution": {
     "iopub.execute_input": "2022-04-30T23:02:39.383599Z",
     "iopub.status.busy": "2022-04-30T23:02:39.382983Z",
     "iopub.status.idle": "2022-04-30T23:02:39.390170Z",
     "shell.execute_reply": "2022-04-30T23:02:39.389260Z"
    },
    "papermill": {
     "duration": 0.110019,
     "end_time": "2022-04-30T23:02:39.392421",
     "exception": false,
     "start_time": "2022-04-30T23:02:39.282402",
     "status": "completed"
    },
    "tags": []
   },
   "outputs": [
    {
     "data": {
      "text/plain": [
       "(1035, 6)"
      ]
     },
     "execution_count": 16,
     "metadata": {},
     "output_type": "execute_result"
    }
   ],
   "source": [
    "df.shape # 1035 Tane Gozlem, 6 Tane Degiskenimiz Var"
   ]
  },
  {
   "cell_type": "code",
   "execution_count": 17,
   "id": "7138405c",
   "metadata": {
    "execution": {
     "iopub.execute_input": "2022-04-30T23:02:39.596248Z",
     "iopub.status.busy": "2022-04-30T23:02:39.595899Z",
     "iopub.status.idle": "2022-04-30T23:02:39.602683Z",
     "shell.execute_reply": "2022-04-30T23:02:39.601515Z"
    },
    "papermill": {
     "duration": 0.110605,
     "end_time": "2022-04-30T23:02:39.605099",
     "exception": false,
     "start_time": "2022-04-30T23:02:39.494494",
     "status": "completed"
    },
    "tags": []
   },
   "outputs": [
    {
     "data": {
      "text/plain": [
       "Index(['method', 'number', 'orbital_period', 'mass', 'distance', 'year'], dtype='object')"
      ]
     },
     "execution_count": 17,
     "metadata": {},
     "output_type": "execute_result"
    }
   ],
   "source": [
    "df.columns"
   ]
  },
  {
   "cell_type": "code",
   "execution_count": 18,
   "id": "3bc173d0",
   "metadata": {
    "execution": {
     "iopub.execute_input": "2022-04-30T23:02:39.800689Z",
     "iopub.status.busy": "2022-04-30T23:02:39.800383Z",
     "iopub.status.idle": "2022-04-30T23:02:39.834716Z",
     "shell.execute_reply": "2022-04-30T23:02:39.834040Z"
    },
    "papermill": {
     "duration": 0.134628,
     "end_time": "2022-04-30T23:02:39.836686",
     "exception": false,
     "start_time": "2022-04-30T23:02:39.702058",
     "status": "completed"
    },
    "tags": []
   },
   "outputs": [
    {
     "data": {
      "text/html": [
       "<div>\n",
       "<style scoped>\n",
       "    .dataframe tbody tr th:only-of-type {\n",
       "        vertical-align: middle;\n",
       "    }\n",
       "\n",
       "    .dataframe tbody tr th {\n",
       "        vertical-align: top;\n",
       "    }\n",
       "\n",
       "    .dataframe thead th {\n",
       "        text-align: right;\n",
       "    }\n",
       "</style>\n",
       "<table border=\"1\" class=\"dataframe\">\n",
       "  <thead>\n",
       "    <tr style=\"text-align: right;\">\n",
       "      <th></th>\n",
       "      <th>count</th>\n",
       "      <th>mean</th>\n",
       "      <th>std</th>\n",
       "      <th>min</th>\n",
       "      <th>25%</th>\n",
       "      <th>50%</th>\n",
       "      <th>75%</th>\n",
       "      <th>max</th>\n",
       "    </tr>\n",
       "  </thead>\n",
       "  <tbody>\n",
       "    <tr>\n",
       "      <th>number</th>\n",
       "      <td>1035.0</td>\n",
       "      <td>1.785507</td>\n",
       "      <td>1.240976</td>\n",
       "      <td>1.000000</td>\n",
       "      <td>1.00000</td>\n",
       "      <td>1.0000</td>\n",
       "      <td>2.000</td>\n",
       "      <td>7.0</td>\n",
       "    </tr>\n",
       "    <tr>\n",
       "      <th>orbital_period</th>\n",
       "      <td>992.0</td>\n",
       "      <td>2002.917596</td>\n",
       "      <td>26014.728304</td>\n",
       "      <td>0.090706</td>\n",
       "      <td>5.44254</td>\n",
       "      <td>39.9795</td>\n",
       "      <td>526.005</td>\n",
       "      <td>730000.0</td>\n",
       "    </tr>\n",
       "    <tr>\n",
       "      <th>mass</th>\n",
       "      <td>513.0</td>\n",
       "      <td>2.638161</td>\n",
       "      <td>3.818617</td>\n",
       "      <td>0.003600</td>\n",
       "      <td>0.22900</td>\n",
       "      <td>1.2600</td>\n",
       "      <td>3.040</td>\n",
       "      <td>25.0</td>\n",
       "    </tr>\n",
       "    <tr>\n",
       "      <th>distance</th>\n",
       "      <td>808.0</td>\n",
       "      <td>264.069282</td>\n",
       "      <td>733.116493</td>\n",
       "      <td>1.350000</td>\n",
       "      <td>32.56000</td>\n",
       "      <td>55.2500</td>\n",
       "      <td>178.500</td>\n",
       "      <td>8500.0</td>\n",
       "    </tr>\n",
       "    <tr>\n",
       "      <th>year</th>\n",
       "      <td>1035.0</td>\n",
       "      <td>2009.070531</td>\n",
       "      <td>3.972567</td>\n",
       "      <td>1989.000000</td>\n",
       "      <td>2007.00000</td>\n",
       "      <td>2010.0000</td>\n",
       "      <td>2012.000</td>\n",
       "      <td>2014.0</td>\n",
       "    </tr>\n",
       "  </tbody>\n",
       "</table>\n",
       "</div>"
      ],
      "text/plain": [
       "                 count         mean           std          min         25%  \\\n",
       "number          1035.0     1.785507      1.240976     1.000000     1.00000   \n",
       "orbital_period   992.0  2002.917596  26014.728304     0.090706     5.44254   \n",
       "mass             513.0     2.638161      3.818617     0.003600     0.22900   \n",
       "distance         808.0   264.069282    733.116493     1.350000    32.56000   \n",
       "year            1035.0  2009.070531      3.972567  1989.000000  2007.00000   \n",
       "\n",
       "                      50%       75%       max  \n",
       "number             1.0000     2.000       7.0  \n",
       "orbital_period    39.9795   526.005  730000.0  \n",
       "mass               1.2600     3.040      25.0  \n",
       "distance          55.2500   178.500    8500.0  \n",
       "year            2010.0000  2012.000    2014.0  "
      ]
     },
     "execution_count": 18,
     "metadata": {},
     "output_type": "execute_result"
    }
   ],
   "source": [
    "# !! Soo Important !!\n",
    "\n",
    "# Betimsel Istatistiklere Ulasmak Istersek\n",
    "\n",
    "# Bu Eksik Gozlemleri Goz Ardi Eder Ve Katagorik Degiskenleri Disarida Birakir    - DIKKAT -  [ YENI BILGI ]\n",
    "\n",
    "# Yani Buradaki Butun Degiskenler Sayisal Degiskenlerdir\n",
    "\n",
    "df.describe().T"
   ]
  },
  {
   "cell_type": "code",
   "execution_count": 19,
   "id": "b9e670cd",
   "metadata": {
    "execution": {
     "iopub.execute_input": "2022-04-30T23:02:40.041355Z",
     "iopub.status.busy": "2022-04-30T23:02:40.041049Z",
     "iopub.status.idle": "2022-04-30T23:02:40.075897Z",
     "shell.execute_reply": "2022-04-30T23:02:40.074796Z"
    },
    "papermill": {
     "duration": 0.140813,
     "end_time": "2022-04-30T23:02:40.078283",
     "exception": false,
     "start_time": "2022-04-30T23:02:39.937470",
     "status": "completed"
    },
    "tags": []
   },
   "outputs": [
    {
     "data": {
      "text/html": [
       "<div>\n",
       "<style scoped>\n",
       "    .dataframe tbody tr th:only-of-type {\n",
       "        vertical-align: middle;\n",
       "    }\n",
       "\n",
       "    .dataframe tbody tr th {\n",
       "        vertical-align: top;\n",
       "    }\n",
       "\n",
       "    .dataframe thead th {\n",
       "        text-align: right;\n",
       "    }\n",
       "</style>\n",
       "<table border=\"1\" class=\"dataframe\">\n",
       "  <thead>\n",
       "    <tr style=\"text-align: right;\">\n",
       "      <th></th>\n",
       "      <th>count</th>\n",
       "      <th>unique</th>\n",
       "      <th>top</th>\n",
       "      <th>freq</th>\n",
       "      <th>mean</th>\n",
       "      <th>std</th>\n",
       "      <th>min</th>\n",
       "      <th>25%</th>\n",
       "      <th>50%</th>\n",
       "      <th>75%</th>\n",
       "      <th>max</th>\n",
       "    </tr>\n",
       "  </thead>\n",
       "  <tbody>\n",
       "    <tr>\n",
       "      <th>method</th>\n",
       "      <td>1035</td>\n",
       "      <td>10</td>\n",
       "      <td>Radial Velocity</td>\n",
       "      <td>553</td>\n",
       "      <td>NaN</td>\n",
       "      <td>NaN</td>\n",
       "      <td>NaN</td>\n",
       "      <td>NaN</td>\n",
       "      <td>NaN</td>\n",
       "      <td>NaN</td>\n",
       "      <td>NaN</td>\n",
       "    </tr>\n",
       "    <tr>\n",
       "      <th>number</th>\n",
       "      <td>1035.0</td>\n",
       "      <td>NaN</td>\n",
       "      <td>NaN</td>\n",
       "      <td>NaN</td>\n",
       "      <td>1.785507</td>\n",
       "      <td>1.240976</td>\n",
       "      <td>1.0</td>\n",
       "      <td>1.0</td>\n",
       "      <td>1.0</td>\n",
       "      <td>2.0</td>\n",
       "      <td>7.0</td>\n",
       "    </tr>\n",
       "    <tr>\n",
       "      <th>orbital_period</th>\n",
       "      <td>992.0</td>\n",
       "      <td>NaN</td>\n",
       "      <td>NaN</td>\n",
       "      <td>NaN</td>\n",
       "      <td>2002.917596</td>\n",
       "      <td>26014.728304</td>\n",
       "      <td>0.090706</td>\n",
       "      <td>5.44254</td>\n",
       "      <td>39.9795</td>\n",
       "      <td>526.005</td>\n",
       "      <td>730000.0</td>\n",
       "    </tr>\n",
       "    <tr>\n",
       "      <th>mass</th>\n",
       "      <td>513.0</td>\n",
       "      <td>NaN</td>\n",
       "      <td>NaN</td>\n",
       "      <td>NaN</td>\n",
       "      <td>2.638161</td>\n",
       "      <td>3.818617</td>\n",
       "      <td>0.0036</td>\n",
       "      <td>0.229</td>\n",
       "      <td>1.26</td>\n",
       "      <td>3.04</td>\n",
       "      <td>25.0</td>\n",
       "    </tr>\n",
       "    <tr>\n",
       "      <th>distance</th>\n",
       "      <td>808.0</td>\n",
       "      <td>NaN</td>\n",
       "      <td>NaN</td>\n",
       "      <td>NaN</td>\n",
       "      <td>264.069282</td>\n",
       "      <td>733.116493</td>\n",
       "      <td>1.35</td>\n",
       "      <td>32.56</td>\n",
       "      <td>55.25</td>\n",
       "      <td>178.5</td>\n",
       "      <td>8500.0</td>\n",
       "    </tr>\n",
       "    <tr>\n",
       "      <th>year</th>\n",
       "      <td>1035.0</td>\n",
       "      <td>NaN</td>\n",
       "      <td>NaN</td>\n",
       "      <td>NaN</td>\n",
       "      <td>2009.070531</td>\n",
       "      <td>3.972567</td>\n",
       "      <td>1989.0</td>\n",
       "      <td>2007.0</td>\n",
       "      <td>2010.0</td>\n",
       "      <td>2012.0</td>\n",
       "      <td>2014.0</td>\n",
       "    </tr>\n",
       "  </tbody>\n",
       "</table>\n",
       "</div>"
      ],
      "text/plain": [
       "                 count unique              top freq         mean  \\\n",
       "method            1035     10  Radial Velocity  553          NaN   \n",
       "number          1035.0    NaN              NaN  NaN     1.785507   \n",
       "orbital_period   992.0    NaN              NaN  NaN  2002.917596   \n",
       "mass             513.0    NaN              NaN  NaN     2.638161   \n",
       "distance         808.0    NaN              NaN  NaN   264.069282   \n",
       "year            1035.0    NaN              NaN  NaN  2009.070531   \n",
       "\n",
       "                         std       min      25%      50%      75%       max  \n",
       "method                   NaN       NaN      NaN      NaN      NaN       NaN  \n",
       "number              1.240976       1.0      1.0      1.0      2.0       7.0  \n",
       "orbital_period  26014.728304  0.090706  5.44254  39.9795  526.005  730000.0  \n",
       "mass                3.818617    0.0036    0.229     1.26     3.04      25.0  \n",
       "distance          733.116493      1.35    32.56    55.25    178.5    8500.0  \n",
       "year                3.972567    1989.0   2007.0   2010.0   2012.0    2014.0  "
      ]
     },
     "execution_count": 19,
     "metadata": {},
     "output_type": "execute_result"
    }
   ],
   "source": [
    "df.describe(include = \"all\").T # Bu Sekilde Tum Degiskenleri Barindirmasini Isteyebiliriz Fakat Bu Islem Mantikli Degildir\n",
    "\n",
    "# Islemlerin Yapilabilmesi Icin Numeric Olmasi ( Sayisal Olmasi ) Gerekir"
   ]
  },
  {
   "cell_type": "code",
   "execution_count": 20,
   "id": "2f7aba5c",
   "metadata": {
    "execution": {
     "iopub.execute_input": "2022-04-30T23:02:40.281068Z",
     "iopub.status.busy": "2022-04-30T23:02:40.280710Z",
     "iopub.status.idle": "2022-04-30T23:02:40.299540Z",
     "shell.execute_reply": "2022-04-30T23:02:40.298600Z"
    },
    "papermill": {
     "duration": 0.122128,
     "end_time": "2022-04-30T23:02:40.301862",
     "exception": false,
     "start_time": "2022-04-30T23:02:40.179734",
     "status": "completed"
    },
    "tags": []
   },
   "outputs": [
    {
     "data": {
      "text/html": [
       "<div>\n",
       "<style scoped>\n",
       "    .dataframe tbody tr th:only-of-type {\n",
       "        vertical-align: middle;\n",
       "    }\n",
       "\n",
       "    .dataframe tbody tr th {\n",
       "        vertical-align: top;\n",
       "    }\n",
       "\n",
       "    .dataframe thead th {\n",
       "        text-align: right;\n",
       "    }\n",
       "</style>\n",
       "<table border=\"1\" class=\"dataframe\">\n",
       "  <thead>\n",
       "    <tr style=\"text-align: right;\">\n",
       "      <th></th>\n",
       "      <th>method</th>\n",
       "      <th>number</th>\n",
       "      <th>orbital_period</th>\n",
       "      <th>mass</th>\n",
       "      <th>distance</th>\n",
       "      <th>year</th>\n",
       "    </tr>\n",
       "  </thead>\n",
       "  <tbody>\n",
       "    <tr>\n",
       "      <th>0</th>\n",
       "      <td>Radial Velocity</td>\n",
       "      <td>1</td>\n",
       "      <td>269.300</td>\n",
       "      <td>7.10</td>\n",
       "      <td>77.40</td>\n",
       "      <td>2006</td>\n",
       "    </tr>\n",
       "    <tr>\n",
       "      <th>1</th>\n",
       "      <td>Radial Velocity</td>\n",
       "      <td>1</td>\n",
       "      <td>874.774</td>\n",
       "      <td>2.21</td>\n",
       "      <td>56.95</td>\n",
       "      <td>2008</td>\n",
       "    </tr>\n",
       "    <tr>\n",
       "      <th>2</th>\n",
       "      <td>Radial Velocity</td>\n",
       "      <td>1</td>\n",
       "      <td>763.000</td>\n",
       "      <td>2.60</td>\n",
       "      <td>19.84</td>\n",
       "      <td>2011</td>\n",
       "    </tr>\n",
       "    <tr>\n",
       "      <th>3</th>\n",
       "      <td>Radial Velocity</td>\n",
       "      <td>1</td>\n",
       "      <td>326.030</td>\n",
       "      <td>19.40</td>\n",
       "      <td>110.62</td>\n",
       "      <td>2007</td>\n",
       "    </tr>\n",
       "    <tr>\n",
       "      <th>4</th>\n",
       "      <td>Radial Velocity</td>\n",
       "      <td>1</td>\n",
       "      <td>516.220</td>\n",
       "      <td>10.50</td>\n",
       "      <td>119.47</td>\n",
       "      <td>2009</td>\n",
       "    </tr>\n",
       "  </tbody>\n",
       "</table>\n",
       "</div>"
      ],
      "text/plain": [
       "            method  number  orbital_period   mass  distance  year\n",
       "0  Radial Velocity       1         269.300   7.10     77.40  2006\n",
       "1  Radial Velocity       1         874.774   2.21     56.95  2008\n",
       "2  Radial Velocity       1         763.000   2.60     19.84  2011\n",
       "3  Radial Velocity       1         326.030  19.40    110.62  2007\n",
       "4  Radial Velocity       1         516.220  10.50    119.47  2009"
      ]
     },
     "execution_count": 20,
     "metadata": {},
     "output_type": "execute_result"
    }
   ],
   "source": [
    "# Dersler Arasinda Degiskenlere Uyguladigimiz Islemler Karismasin Diye Bastan Tanimlama Yapiyorum\n",
    "\n",
    "planets = pd.read_csv(\"../input/seaborn-practice/planets.csv\")\n",
    "\n",
    "df = planets.copy()\n",
    "\n",
    "df.head()"
   ]
  },
  {
   "cell_type": "code",
   "execution_count": 21,
   "id": "2a23402e",
   "metadata": {
    "execution": {
     "iopub.execute_input": "2022-04-30T23:02:40.501386Z",
     "iopub.status.busy": "2022-04-30T23:02:40.501075Z",
     "iopub.status.idle": "2022-04-30T23:02:40.513926Z",
     "shell.execute_reply": "2022-04-30T23:02:40.512839Z"
    },
    "papermill": {
     "duration": 0.117521,
     "end_time": "2022-04-30T23:02:40.516773",
     "exception": false,
     "start_time": "2022-04-30T23:02:40.399252",
     "status": "completed"
    },
    "tags": []
   },
   "outputs": [
    {
     "name": "stdout",
     "output_type": "stream",
     "text": [
      "<class 'pandas.core.frame.DataFrame'>\n",
      "RangeIndex: 1035 entries, 0 to 1034\n",
      "Data columns (total 6 columns):\n",
      " #   Column          Non-Null Count  Dtype  \n",
      "---  ------          --------------  -----  \n",
      " 0   method          1035 non-null   object \n",
      " 1   number          1035 non-null   int64  \n",
      " 2   orbital_period  992 non-null    float64\n",
      " 3   mass            513 non-null    float64\n",
      " 4   distance        808 non-null    float64\n",
      " 5   year            1035 non-null   int64  \n",
      "dtypes: float64(3), int64(2), object(1)\n",
      "memory usage: 48.6+ KB\n"
     ]
    }
   ],
   "source": [
    "planets.info()"
   ]
  },
  {
   "cell_type": "code",
   "execution_count": 22,
   "id": "78262e71",
   "metadata": {
    "execution": {
     "iopub.execute_input": "2022-04-30T23:02:40.724182Z",
     "iopub.status.busy": "2022-04-30T23:02:40.723861Z",
     "iopub.status.idle": "2022-04-30T23:02:40.732444Z",
     "shell.execute_reply": "2022-04-30T23:02:40.731509Z"
    },
    "papermill": {
     "duration": 0.115838,
     "end_time": "2022-04-30T23:02:40.734596",
     "exception": false,
     "start_time": "2022-04-30T23:02:40.618758",
     "status": "completed"
    },
    "tags": []
   },
   "outputs": [
    {
     "data": {
      "text/plain": [
       "True"
      ]
     },
     "execution_count": 22,
     "metadata": {},
     "output_type": "execute_result"
    }
   ],
   "source": [
    "# Degiskenlerimizin Icerisinde     ---   Hiç Eksik Gozlem (Deger) Var mi?   ---- ( Sorusu Soruldu )\n",
    "\n",
    "# df Veri Setimiz\n",
    "\n",
    "# .isnull()   ------>>  Sorgulama\n",
    "\n",
    "# df.isnull()   ------>>  Veri Setimizde Sorgulama Yapti\n",
    "\n",
    "# .values   ------>>  Nerede ?   ------>>  Degerler Uzerinde ( Degerlere Yonelik )\n",
    "\n",
    "# .any()   ------>>  Herhangi Birisinde ( Bir Tane Bile Varsa ) \"True\" Olarak Deger Dondur\n",
    "\n",
    "df.isnull().values.any()"
   ]
  },
  {
   "cell_type": "code",
   "execution_count": 23,
   "id": "60b89b92",
   "metadata": {
    "execution": {
     "iopub.execute_input": "2022-04-30T23:02:40.947504Z",
     "iopub.status.busy": "2022-04-30T23:02:40.946880Z",
     "iopub.status.idle": "2022-04-30T23:02:40.956072Z",
     "shell.execute_reply": "2022-04-30T23:02:40.954437Z"
    },
    "papermill": {
     "duration": 0.124333,
     "end_time": "2022-04-30T23:02:40.958557",
     "exception": false,
     "start_time": "2022-04-30T23:02:40.834224",
     "status": "completed"
    },
    "tags": []
   },
   "outputs": [
    {
     "data": {
      "text/plain": [
       "method              0\n",
       "number              0\n",
       "orbital_period     43\n",
       "mass              522\n",
       "distance          227\n",
       "year                0\n",
       "dtype: int64"
      ]
     },
     "execution_count": 23,
     "metadata": {},
     "output_type": "execute_result"
    }
   ],
   "source": [
    "# Madem Degiskenimizde Eksik Degerler Var Hangi Degiskenimizde Kacar Tane Var ?\n",
    "\n",
    "df.isnull().sum()"
   ]
  },
  {
   "cell_type": "code",
   "execution_count": 24,
   "id": "67fc599b",
   "metadata": {
    "execution": {
     "iopub.execute_input": "2022-04-30T23:02:41.167110Z",
     "iopub.status.busy": "2022-04-30T23:02:41.166779Z",
     "iopub.status.idle": "2022-04-30T23:02:41.170579Z",
     "shell.execute_reply": "2022-04-30T23:02:41.169858Z"
    },
    "papermill": {
     "duration": 0.112376,
     "end_time": "2022-04-30T23:02:41.172814",
     "exception": false,
     "start_time": "2022-04-30T23:02:41.060438",
     "status": "completed"
    },
    "tags": []
   },
   "outputs": [],
   "source": [
    "# Inplace = True    --------> Veri Setinin Yapisini Kalici Olarak Bozar ( Dikkat Etmek Gerekir )"
   ]
  },
  {
   "cell_type": "code",
   "execution_count": 25,
   "id": "41085b40",
   "metadata": {
    "execution": {
     "iopub.execute_input": "2022-04-30T23:02:41.380351Z",
     "iopub.status.busy": "2022-04-30T23:02:41.379895Z",
     "iopub.status.idle": "2022-04-30T23:02:41.384875Z",
     "shell.execute_reply": "2022-04-30T23:02:41.384180Z"
    },
    "papermill": {
     "duration": 0.1096,
     "end_time": "2022-04-30T23:02:41.387059",
     "exception": false,
     "start_time": "2022-04-30T23:02:41.277459",
     "status": "completed"
    },
    "tags": []
   },
   "outputs": [],
   "source": [
    "# Yukaridaki Ifadede Gozlenen Eksik Olan Ifadelere 0 Degeri Atanabilir\n",
    "\n",
    "df[\"orbital_period\"].fillna(0, inplace = True) # Bu Islemi Yapmak Cok Hassas Bir Konudur, Belirli Cikarimlar Yaparak Bu Islem Yapilabilir ( Hassas Olunmalidir !! )"
   ]
  },
  {
   "cell_type": "code",
   "execution_count": 26,
   "id": "fb9789cb",
   "metadata": {
    "execution": {
     "iopub.execute_input": "2022-04-30T23:02:41.596910Z",
     "iopub.status.busy": "2022-04-30T23:02:41.596444Z",
     "iopub.status.idle": "2022-04-30T23:02:41.605172Z",
     "shell.execute_reply": "2022-04-30T23:02:41.604293Z"
    },
    "papermill": {
     "duration": 0.114592,
     "end_time": "2022-04-30T23:02:41.607629",
     "exception": false,
     "start_time": "2022-04-30T23:02:41.493037",
     "status": "completed"
    },
    "tags": []
   },
   "outputs": [
    {
     "data": {
      "text/plain": [
       "method              0\n",
       "number              0\n",
       "orbital_period      0\n",
       "mass              522\n",
       "distance          227\n",
       "year                0\n",
       "dtype: int64"
      ]
     },
     "execution_count": 26,
     "metadata": {},
     "output_type": "execute_result"
    }
   ],
   "source": [
    "df.isnull().sum()"
   ]
  },
  {
   "cell_type": "code",
   "execution_count": 27,
   "id": "81f0eb5f",
   "metadata": {
    "execution": {
     "iopub.execute_input": "2022-04-30T23:02:41.817246Z",
     "iopub.status.busy": "2022-04-30T23:02:41.816910Z",
     "iopub.status.idle": "2022-04-30T23:02:41.823199Z",
     "shell.execute_reply": "2022-04-30T23:02:41.822047Z"
    },
    "papermill": {
     "duration": 0.113699,
     "end_time": "2022-04-30T23:02:41.825464",
     "exception": false,
     "start_time": "2022-04-30T23:02:41.711765",
     "status": "completed"
    },
    "tags": []
   },
   "outputs": [],
   "source": [
    "df[\"mass\"].fillna(df.mass.mean(), inplace = True) # \"mass\" Adli Degiskene Ortalama Deger Atadik"
   ]
  },
  {
   "cell_type": "code",
   "execution_count": 28,
   "id": "010b8a92",
   "metadata": {
    "execution": {
     "iopub.execute_input": "2022-04-30T23:02:42.059765Z",
     "iopub.status.busy": "2022-04-30T23:02:42.059417Z",
     "iopub.status.idle": "2022-04-30T23:02:42.069496Z",
     "shell.execute_reply": "2022-04-30T23:02:42.068590Z"
    },
    "papermill": {
     "duration": 0.140979,
     "end_time": "2022-04-30T23:02:42.071790",
     "exception": false,
     "start_time": "2022-04-30T23:02:41.930811",
     "status": "completed"
    },
    "tags": []
   },
   "outputs": [
    {
     "data": {
      "text/plain": [
       "method              0\n",
       "number              0\n",
       "orbital_period      0\n",
       "mass                0\n",
       "distance          227\n",
       "year                0\n",
       "dtype: int64"
      ]
     },
     "execution_count": 28,
     "metadata": {},
     "output_type": "execute_result"
    }
   ],
   "source": [
    "df.isnull().sum()"
   ]
  },
  {
   "cell_type": "code",
   "execution_count": 29,
   "id": "fa6c13f4",
   "metadata": {
    "execution": {
     "iopub.execute_input": "2022-04-30T23:02:42.289203Z",
     "iopub.status.busy": "2022-04-30T23:02:42.288867Z",
     "iopub.status.idle": "2022-04-30T23:02:42.298042Z",
     "shell.execute_reply": "2022-04-30T23:02:42.296531Z"
    },
    "papermill": {
     "duration": 0.11982,
     "end_time": "2022-04-30T23:02:42.301060",
     "exception": false,
     "start_time": "2022-04-30T23:02:42.181240",
     "status": "completed"
    },
    "tags": []
   },
   "outputs": [
    {
     "name": "stderr",
     "output_type": "stream",
     "text": [
      "/opt/conda/lib/python3.7/site-packages/ipykernel_launcher.py:1: FutureWarning: Dropping of nuisance columns in DataFrame reductions (with 'numeric_only=None') is deprecated; in a future version this will raise TypeError.  Select only valid columns before calling the reduction.\n",
      "  \"\"\"Entry point for launching an IPython kernel.\n"
     ]
    }
   ],
   "source": [
    "df.fillna(df.mean(), inplace = True) # Veri Setindeki Tum Degiskenlere Ortalamasini Atamasini Istersek Bunu Kullaniriz"
   ]
  },
  {
   "cell_type": "code",
   "execution_count": 30,
   "id": "e436eec0",
   "metadata": {
    "execution": {
     "iopub.execute_input": "2022-04-30T23:02:42.519168Z",
     "iopub.status.busy": "2022-04-30T23:02:42.518750Z",
     "iopub.status.idle": "2022-04-30T23:02:42.527463Z",
     "shell.execute_reply": "2022-04-30T23:02:42.526486Z"
    },
    "papermill": {
     "duration": 0.120039,
     "end_time": "2022-04-30T23:02:42.529620",
     "exception": false,
     "start_time": "2022-04-30T23:02:42.409581",
     "status": "completed"
    },
    "tags": []
   },
   "outputs": [
    {
     "data": {
      "text/plain": [
       "method            0\n",
       "number            0\n",
       "orbital_period    0\n",
       "mass              0\n",
       "distance          0\n",
       "year              0\n",
       "dtype: int64"
      ]
     },
     "execution_count": 30,
     "metadata": {},
     "output_type": "execute_result"
    }
   ],
   "source": [
    "df.isnull().sum()"
   ]
  },
  {
   "cell_type": "code",
   "execution_count": 31,
   "id": "a07f8755",
   "metadata": {
    "execution": {
     "iopub.execute_input": "2022-04-30T23:02:42.748039Z",
     "iopub.status.busy": "2022-04-30T23:02:42.747671Z",
     "iopub.status.idle": "2022-04-30T23:02:42.762871Z",
     "shell.execute_reply": "2022-04-30T23:02:42.762155Z"
    },
    "papermill": {
     "duration": 0.129126,
     "end_time": "2022-04-30T23:02:42.765176",
     "exception": false,
     "start_time": "2022-04-30T23:02:42.636050",
     "status": "completed"
    },
    "tags": []
   },
   "outputs": [
    {
     "data": {
      "text/html": [
       "<div>\n",
       "<style scoped>\n",
       "    .dataframe tbody tr th:only-of-type {\n",
       "        vertical-align: middle;\n",
       "    }\n",
       "\n",
       "    .dataframe tbody tr th {\n",
       "        vertical-align: top;\n",
       "    }\n",
       "\n",
       "    .dataframe thead th {\n",
       "        text-align: right;\n",
       "    }\n",
       "</style>\n",
       "<table border=\"1\" class=\"dataframe\">\n",
       "  <thead>\n",
       "    <tr style=\"text-align: right;\">\n",
       "      <th></th>\n",
       "      <th>method</th>\n",
       "      <th>number</th>\n",
       "      <th>orbital_period</th>\n",
       "      <th>mass</th>\n",
       "      <th>distance</th>\n",
       "      <th>year</th>\n",
       "    </tr>\n",
       "  </thead>\n",
       "  <tbody>\n",
       "    <tr>\n",
       "      <th>0</th>\n",
       "      <td>Radial Velocity</td>\n",
       "      <td>1</td>\n",
       "      <td>269.300</td>\n",
       "      <td>7.10</td>\n",
       "      <td>77.40</td>\n",
       "      <td>2006</td>\n",
       "    </tr>\n",
       "    <tr>\n",
       "      <th>1</th>\n",
       "      <td>Radial Velocity</td>\n",
       "      <td>1</td>\n",
       "      <td>874.774</td>\n",
       "      <td>2.21</td>\n",
       "      <td>56.95</td>\n",
       "      <td>2008</td>\n",
       "    </tr>\n",
       "    <tr>\n",
       "      <th>2</th>\n",
       "      <td>Radial Velocity</td>\n",
       "      <td>1</td>\n",
       "      <td>763.000</td>\n",
       "      <td>2.60</td>\n",
       "      <td>19.84</td>\n",
       "      <td>2011</td>\n",
       "    </tr>\n",
       "    <tr>\n",
       "      <th>3</th>\n",
       "      <td>Radial Velocity</td>\n",
       "      <td>1</td>\n",
       "      <td>326.030</td>\n",
       "      <td>19.40</td>\n",
       "      <td>110.62</td>\n",
       "      <td>2007</td>\n",
       "    </tr>\n",
       "    <tr>\n",
       "      <th>4</th>\n",
       "      <td>Radial Velocity</td>\n",
       "      <td>1</td>\n",
       "      <td>516.220</td>\n",
       "      <td>10.50</td>\n",
       "      <td>119.47</td>\n",
       "      <td>2009</td>\n",
       "    </tr>\n",
       "  </tbody>\n",
       "</table>\n",
       "</div>"
      ],
      "text/plain": [
       "            method  number  orbital_period   mass  distance  year\n",
       "0  Radial Velocity       1         269.300   7.10     77.40  2006\n",
       "1  Radial Velocity       1         874.774   2.21     56.95  2008\n",
       "2  Radial Velocity       1         763.000   2.60     19.84  2011\n",
       "3  Radial Velocity       1         326.030  19.40    110.62  2007\n",
       "4  Radial Velocity       1         516.220  10.50    119.47  2009"
      ]
     },
     "execution_count": 31,
     "metadata": {},
     "output_type": "execute_result"
    }
   ],
   "source": [
    "# Original Veri Seti'mizi Geri Almak Icin Basta Kopyaladigimiz Ifadeyi Aliyoruz\n",
    "\n",
    "df = planets.copy() # Veri Seti Original Hali \"df\" Adli Degiskene Atanmistir\n",
    "\n",
    "df.head()"
   ]
  },
  {
   "cell_type": "code",
   "execution_count": 32,
   "id": "2c687b5a",
   "metadata": {
    "execution": {
     "iopub.execute_input": "2022-04-30T23:02:42.976164Z",
     "iopub.status.busy": "2022-04-30T23:02:42.975400Z",
     "iopub.status.idle": "2022-04-30T23:02:42.989464Z",
     "shell.execute_reply": "2022-04-30T23:02:42.988241Z"
    },
    "papermill": {
     "duration": 0.122077,
     "end_time": "2022-04-30T23:02:42.992169",
     "exception": false,
     "start_time": "2022-04-30T23:02:42.870092",
     "status": "completed"
    },
    "tags": []
   },
   "outputs": [
    {
     "name": "stdout",
     "output_type": "stream",
     "text": [
      "<class 'pandas.core.frame.DataFrame'>\n",
      "RangeIndex: 1035 entries, 0 to 1034\n",
      "Data columns (total 6 columns):\n",
      " #   Column          Non-Null Count  Dtype  \n",
      "---  ------          --------------  -----  \n",
      " 0   method          1035 non-null   object \n",
      " 1   number          1035 non-null   int64  \n",
      " 2   orbital_period  992 non-null    float64\n",
      " 3   mass            513 non-null    float64\n",
      " 4   distance        808 non-null    float64\n",
      " 5   year            1035 non-null   int64  \n",
      "dtypes: float64(3), int64(2), object(1)\n",
      "memory usage: 48.6+ KB\n"
     ]
    }
   ],
   "source": [
    "df.info()"
   ]
  },
  {
   "cell_type": "code",
   "execution_count": 33,
   "id": "2c55ac95",
   "metadata": {
    "execution": {
     "iopub.execute_input": "2022-04-30T23:02:43.203359Z",
     "iopub.status.busy": "2022-04-30T23:02:43.203015Z",
     "iopub.status.idle": "2022-04-30T23:02:43.213948Z",
     "shell.execute_reply": "2022-04-30T23:02:43.213054Z"
    },
    "papermill": {
     "duration": 0.119132,
     "end_time": "2022-04-30T23:02:43.216271",
     "exception": false,
     "start_time": "2022-04-30T23:02:43.097139",
     "status": "completed"
    },
    "tags": []
   },
   "outputs": [
    {
     "data": {
      "text/plain": [
       "method              0\n",
       "number              0\n",
       "orbital_period     43\n",
       "mass              522\n",
       "distance          227\n",
       "year                0\n",
       "dtype: int64"
      ]
     },
     "execution_count": 33,
     "metadata": {},
     "output_type": "execute_result"
    }
   ],
   "source": [
    "df.isnull().sum()"
   ]
  },
  {
   "cell_type": "code",
   "execution_count": 34,
   "id": "72f4dac5",
   "metadata": {
    "execution": {
     "iopub.execute_input": "2022-04-30T23:02:43.429050Z",
     "iopub.status.busy": "2022-04-30T23:02:43.428455Z",
     "iopub.status.idle": "2022-04-30T23:02:43.434680Z",
     "shell.execute_reply": "2022-04-30T23:02:43.433962Z"
    },
    "papermill": {
     "duration": 0.113607,
     "end_time": "2022-04-30T23:02:43.437030",
     "exception": false,
     "start_time": "2022-04-30T23:02:43.323423",
     "status": "completed"
    },
    "tags": []
   },
   "outputs": [],
   "source": [
    "kat_df = df.select_dtypes(include = [\"object\"])"
   ]
  },
  {
   "cell_type": "code",
   "execution_count": 35,
   "id": "10aa6fb4",
   "metadata": {
    "execution": {
     "iopub.execute_input": "2022-04-30T23:02:43.646554Z",
     "iopub.status.busy": "2022-04-30T23:02:43.645908Z",
     "iopub.status.idle": "2022-04-30T23:02:43.655632Z",
     "shell.execute_reply": "2022-04-30T23:02:43.654728Z"
    },
    "papermill": {
     "duration": 0.117024,
     "end_time": "2022-04-30T23:02:43.657951",
     "exception": false,
     "start_time": "2022-04-30T23:02:43.540927",
     "status": "completed"
    },
    "tags": []
   },
   "outputs": [
    {
     "data": {
      "text/html": [
       "<div>\n",
       "<style scoped>\n",
       "    .dataframe tbody tr th:only-of-type {\n",
       "        vertical-align: middle;\n",
       "    }\n",
       "\n",
       "    .dataframe tbody tr th {\n",
       "        vertical-align: top;\n",
       "    }\n",
       "\n",
       "    .dataframe thead th {\n",
       "        text-align: right;\n",
       "    }\n",
       "</style>\n",
       "<table border=\"1\" class=\"dataframe\">\n",
       "  <thead>\n",
       "    <tr style=\"text-align: right;\">\n",
       "      <th></th>\n",
       "      <th>method</th>\n",
       "    </tr>\n",
       "  </thead>\n",
       "  <tbody>\n",
       "    <tr>\n",
       "      <th>0</th>\n",
       "      <td>Radial Velocity</td>\n",
       "    </tr>\n",
       "    <tr>\n",
       "      <th>1</th>\n",
       "      <td>Radial Velocity</td>\n",
       "    </tr>\n",
       "    <tr>\n",
       "      <th>2</th>\n",
       "      <td>Radial Velocity</td>\n",
       "    </tr>\n",
       "    <tr>\n",
       "      <th>3</th>\n",
       "      <td>Radial Velocity</td>\n",
       "    </tr>\n",
       "    <tr>\n",
       "      <th>4</th>\n",
       "      <td>Radial Velocity</td>\n",
       "    </tr>\n",
       "  </tbody>\n",
       "</table>\n",
       "</div>"
      ],
      "text/plain": [
       "            method\n",
       "0  Radial Velocity\n",
       "1  Radial Velocity\n",
       "2  Radial Velocity\n",
       "3  Radial Velocity\n",
       "4  Radial Velocity"
      ]
     },
     "execution_count": 35,
     "metadata": {},
     "output_type": "execute_result"
    }
   ],
   "source": [
    "kat_df.head()"
   ]
  },
  {
   "cell_type": "code",
   "execution_count": 36,
   "id": "4f40a565",
   "metadata": {
    "execution": {
     "iopub.execute_input": "2022-04-30T23:02:43.868023Z",
     "iopub.status.busy": "2022-04-30T23:02:43.867425Z",
     "iopub.status.idle": "2022-04-30T23:02:43.874580Z",
     "shell.execute_reply": "2022-04-30T23:02:43.873691Z"
    },
    "papermill": {
     "duration": 0.114895,
     "end_time": "2022-04-30T23:02:43.876720",
     "exception": false,
     "start_time": "2022-04-30T23:02:43.761825",
     "status": "completed"
    },
    "tags": []
   },
   "outputs": [
    {
     "data": {
      "text/plain": [
       "array(['Radial Velocity', 'Imaging', 'Eclipse Timing Variations',\n",
       "       'Transit', 'Astrometry', 'Transit Timing Variations',\n",
       "       'Orbital Brightness Modulation', 'Microlensing', 'Pulsar Timing',\n",
       "       'Pulsation Timing Variations'], dtype=object)"
      ]
     },
     "execution_count": 36,
     "metadata": {},
     "output_type": "execute_result"
    }
   ],
   "source": [
    "kat_df.method.unique() # Katagori Siniflari"
   ]
  },
  {
   "cell_type": "code",
   "execution_count": 37,
   "id": "24912eb7",
   "metadata": {
    "execution": {
     "iopub.execute_input": "2022-04-30T23:02:44.092614Z",
     "iopub.status.busy": "2022-04-30T23:02:44.092079Z",
     "iopub.status.idle": "2022-04-30T23:02:44.100175Z",
     "shell.execute_reply": "2022-04-30T23:02:44.099059Z"
    },
    "papermill": {
     "duration": 0.120911,
     "end_time": "2022-04-30T23:02:44.102492",
     "exception": false,
     "start_time": "2022-04-30T23:02:43.981581",
     "status": "completed"
    },
    "tags": []
   },
   "outputs": [
    {
     "data": {
      "text/plain": [
       "10"
      ]
     },
     "execution_count": 37,
     "metadata": {},
     "output_type": "execute_result"
    }
   ],
   "source": [
    "kat_df[\"method\"].value_counts().count() # Katafori Siniflarinin Sayisi"
   ]
  },
  {
   "cell_type": "code",
   "execution_count": 38,
   "id": "ffeebd7e",
   "metadata": {
    "execution": {
     "iopub.execute_input": "2022-04-30T23:02:44.318871Z",
     "iopub.status.busy": "2022-04-30T23:02:44.317969Z",
     "iopub.status.idle": "2022-04-30T23:02:44.327460Z",
     "shell.execute_reply": "2022-04-30T23:02:44.326448Z"
    },
    "papermill": {
     "duration": 0.120291,
     "end_time": "2022-04-30T23:02:44.329774",
     "exception": false,
     "start_time": "2022-04-30T23:02:44.209483",
     "status": "completed"
    },
    "tags": []
   },
   "outputs": [
    {
     "data": {
      "text/plain": [
       "Radial Velocity                  553\n",
       "Transit                          397\n",
       "Imaging                           38\n",
       "Microlensing                      23\n",
       "Eclipse Timing Variations          9\n",
       "Pulsar Timing                      5\n",
       "Transit Timing Variations          4\n",
       "Orbital Brightness Modulation      3\n",
       "Astrometry                         2\n",
       "Pulsation Timing Variations        1\n",
       "Name: method, dtype: int64"
      ]
     },
     "execution_count": 38,
     "metadata": {},
     "output_type": "execute_result"
    }
   ],
   "source": [
    "# Katagorik Siniflarin Hangisinden Kacar Tane Var ? ( Yani Frekanslari Nedir ?)\n",
    "\n",
    "kat_df[\"method\"].value_counts()"
   ]
  },
  {
   "cell_type": "code",
   "execution_count": 39,
   "id": "537b5102",
   "metadata": {
    "execution": {
     "iopub.execute_input": "2022-04-30T23:02:44.543901Z",
     "iopub.status.busy": "2022-04-30T23:02:44.543476Z",
     "iopub.status.idle": "2022-04-30T23:02:44.546894Z",
     "shell.execute_reply": "2022-04-30T23:02:44.546298Z"
    },
    "papermill": {
     "duration": 0.111353,
     "end_time": "2022-04-30T23:02:44.548966",
     "exception": false,
     "start_time": "2022-04-30T23:02:44.437613",
     "status": "completed"
    },
    "tags": []
   },
   "outputs": [],
   "source": [
    "# .plot  -----> Pandas'in Bir Fonksiyonudur\n",
    "\n",
    "# .barh()  -----> Sutun Grafigi Ver Bize Demektir"
   ]
  },
  {
   "cell_type": "code",
   "execution_count": 40,
   "id": "aafb6031",
   "metadata": {
    "execution": {
     "iopub.execute_input": "2022-04-30T23:02:44.765662Z",
     "iopub.status.busy": "2022-04-30T23:02:44.765185Z",
     "iopub.status.idle": "2022-04-30T23:02:45.036345Z",
     "shell.execute_reply": "2022-04-30T23:02:45.035257Z"
    },
    "papermill": {
     "duration": 0.38245,
     "end_time": "2022-04-30T23:02:45.039177",
     "exception": false,
     "start_time": "2022-04-30T23:02:44.656727",
     "status": "completed"
    },
    "tags": []
   },
   "outputs": [
    {
     "data": {
      "text/plain": [
       "<AxesSubplot:>"
      ]
     },
     "execution_count": 40,
     "metadata": {},
     "output_type": "execute_result"
    },
    {
     "data": {
      "image/png": "[encoded data removed]",
      "text/plain": [
       "<Figure size 432x288 with 1 Axes>"
      ]
     },
     "metadata": {
      "needs_background": "light"
     },
     "output_type": "display_data"
    }
   ],
   "source": [
    "#     kat_df     Degiskeni     df[\"method\"]     Ifadesi Ile Ayni Islevi Goruyo Burda\n",
    "\n",
    "df[\"method\"].value_counts().plot.barh() # Method Katagorik Degiskeninin Icerisindeki Siniflari Saydiracaktir Ve Grafige Dokuyoruz"
   ]
  },
  {
   "cell_type": "code",
   "execution_count": 41,
   "id": "87b03f95",
   "metadata": {
    "execution": {
     "iopub.execute_input": "2022-04-30T23:02:45.261036Z",
     "iopub.status.busy": "2022-04-30T23:02:45.259934Z",
     "iopub.status.idle": "2022-04-30T23:02:45.513251Z",
     "shell.execute_reply": "2022-04-30T23:02:45.511827Z"
    },
    "papermill": {
     "duration": 0.367383,
     "end_time": "2022-04-30T23:02:45.516205",
     "exception": false,
     "start_time": "2022-04-30T23:02:45.148822",
     "status": "completed"
    },
    "tags": []
   },
   "outputs": [
    {
     "data": {
      "image/png": "[encoded data removed]",
      "text/plain": [
       "<Figure size 432x288 with 1 Axes>"
      ]
     },
     "metadata": {
      "needs_background": "light"
     },
     "output_type": "display_data"
    }
   ],
   "source": [
    "# Yukaridaki Ifadeden Farkli Olarak Grafigin Ust Tarafinda Bi Bilgi Vardir Orayi Kapatmak Istersek Code nin Sonuna \";\" ( Noktali Virgul ) Ifadesi Konulur\n",
    "\n",
    "df[\"method\"].value_counts().plot.barh();"
   ]
  },
  {
   "cell_type": "code",
   "execution_count": 42,
   "id": "383b46bf",
   "metadata": {
    "execution": {
     "iopub.execute_input": "2022-04-30T23:02:45.738845Z",
     "iopub.status.busy": "2022-04-30T23:02:45.737922Z",
     "iopub.status.idle": "2022-04-30T23:02:45.759113Z",
     "shell.execute_reply": "2022-04-30T23:02:45.758172Z"
    },
    "papermill": {
     "duration": 0.134376,
     "end_time": "2022-04-30T23:02:45.761280",
     "exception": false,
     "start_time": "2022-04-30T23:02:45.626904",
     "status": "completed"
    },
    "tags": []
   },
   "outputs": [
    {
     "data": {
      "text/html": [
       "<div>\n",
       "<style scoped>\n",
       "    .dataframe tbody tr th:only-of-type {\n",
       "        vertical-align: middle;\n",
       "    }\n",
       "\n",
       "    .dataframe tbody tr th {\n",
       "        vertical-align: top;\n",
       "    }\n",
       "\n",
       "    .dataframe thead th {\n",
       "        text-align: right;\n",
       "    }\n",
       "</style>\n",
       "<table border=\"1\" class=\"dataframe\">\n",
       "  <thead>\n",
       "    <tr style=\"text-align: right;\">\n",
       "      <th></th>\n",
       "      <th>method</th>\n",
       "      <th>number</th>\n",
       "      <th>orbital_period</th>\n",
       "      <th>mass</th>\n",
       "      <th>distance</th>\n",
       "      <th>year</th>\n",
       "    </tr>\n",
       "  </thead>\n",
       "  <tbody>\n",
       "    <tr>\n",
       "      <th>0</th>\n",
       "      <td>Radial Velocity</td>\n",
       "      <td>1</td>\n",
       "      <td>269.300</td>\n",
       "      <td>7.10</td>\n",
       "      <td>77.40</td>\n",
       "      <td>2006</td>\n",
       "    </tr>\n",
       "    <tr>\n",
       "      <th>1</th>\n",
       "      <td>Radial Velocity</td>\n",
       "      <td>1</td>\n",
       "      <td>874.774</td>\n",
       "      <td>2.21</td>\n",
       "      <td>56.95</td>\n",
       "      <td>2008</td>\n",
       "    </tr>\n",
       "    <tr>\n",
       "      <th>2</th>\n",
       "      <td>Radial Velocity</td>\n",
       "      <td>1</td>\n",
       "      <td>763.000</td>\n",
       "      <td>2.60</td>\n",
       "      <td>19.84</td>\n",
       "      <td>2011</td>\n",
       "    </tr>\n",
       "    <tr>\n",
       "      <th>3</th>\n",
       "      <td>Radial Velocity</td>\n",
       "      <td>1</td>\n",
       "      <td>326.030</td>\n",
       "      <td>19.40</td>\n",
       "      <td>110.62</td>\n",
       "      <td>2007</td>\n",
       "    </tr>\n",
       "    <tr>\n",
       "      <th>4</th>\n",
       "      <td>Radial Velocity</td>\n",
       "      <td>1</td>\n",
       "      <td>516.220</td>\n",
       "      <td>10.50</td>\n",
       "      <td>119.47</td>\n",
       "      <td>2009</td>\n",
       "    </tr>\n",
       "  </tbody>\n",
       "</table>\n",
       "</div>"
      ],
      "text/plain": [
       "            method  number  orbital_period   mass  distance  year\n",
       "0  Radial Velocity       1         269.300   7.10     77.40  2006\n",
       "1  Radial Velocity       1         874.774   2.21     56.95  2008\n",
       "2  Radial Velocity       1         763.000   2.60     19.84  2011\n",
       "3  Radial Velocity       1         326.030  19.40    110.62  2007\n",
       "4  Radial Velocity       1         516.220  10.50    119.47  2009"
      ]
     },
     "execution_count": 42,
     "metadata": {},
     "output_type": "execute_result"
    }
   ],
   "source": [
    "# Dersler Arasinda Degiskenlere Uyguladigimiz Islemler Karismasin Diye Bastan Tanimlama Yapiyorum\n",
    "\n",
    "planets = pd.read_csv(\"../input/seaborn-practice/planets.csv\")\n",
    "\n",
    "df = planets.copy()\n",
    "\n",
    "df.head()"
   ]
  },
  {
   "cell_type": "code",
   "execution_count": 43,
   "id": "ab87c679",
   "metadata": {
    "execution": {
     "iopub.execute_input": "2022-04-30T23:02:45.985643Z",
     "iopub.status.busy": "2022-04-30T23:02:45.985153Z",
     "iopub.status.idle": "2022-04-30T23:02:45.992728Z",
     "shell.execute_reply": "2022-04-30T23:02:45.991837Z"
    },
    "papermill": {
     "duration": 0.125551,
     "end_time": "2022-04-30T23:02:45.995476",
     "exception": false,
     "start_time": "2022-04-30T23:02:45.869925",
     "status": "completed"
    },
    "tags": []
   },
   "outputs": [],
   "source": [
    "df_num = df.select_dtypes(include = [\"float64\", \"int64\"]) # Bu Ifade Ile Sadece \"Surekli Degiskenleri\" Secmis Olduk"
   ]
  },
  {
   "cell_type": "code",
   "execution_count": 44,
   "id": "b04f6c76",
   "metadata": {
    "execution": {
     "iopub.execute_input": "2022-04-30T23:02:46.248634Z",
     "iopub.status.busy": "2022-04-30T23:02:46.248013Z",
     "iopub.status.idle": "2022-04-30T23:02:46.261366Z",
     "shell.execute_reply": "2022-04-30T23:02:46.260424Z"
    },
    "papermill": {
     "duration": 0.155389,
     "end_time": "2022-04-30T23:02:46.263682",
     "exception": false,
     "start_time": "2022-04-30T23:02:46.108293",
     "status": "completed"
    },
    "tags": []
   },
   "outputs": [
    {
     "data": {
      "text/html": [
       "<div>\n",
       "<style scoped>\n",
       "    .dataframe tbody tr th:only-of-type {\n",
       "        vertical-align: middle;\n",
       "    }\n",
       "\n",
       "    .dataframe tbody tr th {\n",
       "        vertical-align: top;\n",
       "    }\n",
       "\n",
       "    .dataframe thead th {\n",
       "        text-align: right;\n",
       "    }\n",
       "</style>\n",
       "<table border=\"1\" class=\"dataframe\">\n",
       "  <thead>\n",
       "    <tr style=\"text-align: right;\">\n",
       "      <th></th>\n",
       "      <th>number</th>\n",
       "      <th>orbital_period</th>\n",
       "      <th>mass</th>\n",
       "      <th>distance</th>\n",
       "      <th>year</th>\n",
       "    </tr>\n",
       "  </thead>\n",
       "  <tbody>\n",
       "    <tr>\n",
       "      <th>0</th>\n",
       "      <td>1</td>\n",
       "      <td>269.300</td>\n",
       "      <td>7.10</td>\n",
       "      <td>77.40</td>\n",
       "      <td>2006</td>\n",
       "    </tr>\n",
       "    <tr>\n",
       "      <th>1</th>\n",
       "      <td>1</td>\n",
       "      <td>874.774</td>\n",
       "      <td>2.21</td>\n",
       "      <td>56.95</td>\n",
       "      <td>2008</td>\n",
       "    </tr>\n",
       "    <tr>\n",
       "      <th>2</th>\n",
       "      <td>1</td>\n",
       "      <td>763.000</td>\n",
       "      <td>2.60</td>\n",
       "      <td>19.84</td>\n",
       "      <td>2011</td>\n",
       "    </tr>\n",
       "    <tr>\n",
       "      <th>3</th>\n",
       "      <td>1</td>\n",
       "      <td>326.030</td>\n",
       "      <td>19.40</td>\n",
       "      <td>110.62</td>\n",
       "      <td>2007</td>\n",
       "    </tr>\n",
       "    <tr>\n",
       "      <th>4</th>\n",
       "      <td>1</td>\n",
       "      <td>516.220</td>\n",
       "      <td>10.50</td>\n",
       "      <td>119.47</td>\n",
       "      <td>2009</td>\n",
       "    </tr>\n",
       "  </tbody>\n",
       "</table>\n",
       "</div>"
      ],
      "text/plain": [
       "   number  orbital_period   mass  distance  year\n",
       "0       1         269.300   7.10     77.40  2006\n",
       "1       1         874.774   2.21     56.95  2008\n",
       "2       1         763.000   2.60     19.84  2011\n",
       "3       1         326.030  19.40    110.62  2007\n",
       "4       1         516.220  10.50    119.47  2009"
      ]
     },
     "execution_count": 44,
     "metadata": {},
     "output_type": "execute_result"
    }
   ],
   "source": [
    "df_num.head()"
   ]
  },
  {
   "cell_type": "code",
   "execution_count": 45,
   "id": "bda547b8",
   "metadata": {
    "execution": {
     "iopub.execute_input": "2022-04-30T23:02:46.509717Z",
     "iopub.status.busy": "2022-04-30T23:02:46.509313Z",
     "iopub.status.idle": "2022-04-30T23:02:46.543351Z",
     "shell.execute_reply": "2022-04-30T23:02:46.542445Z"
    },
    "papermill": {
     "duration": 0.161121,
     "end_time": "2022-04-30T23:02:46.545758",
     "exception": false,
     "start_time": "2022-04-30T23:02:46.384637",
     "status": "completed"
    },
    "tags": []
   },
   "outputs": [
    {
     "data": {
      "text/html": [
       "<div>\n",
       "<style scoped>\n",
       "    .dataframe tbody tr th:only-of-type {\n",
       "        vertical-align: middle;\n",
       "    }\n",
       "\n",
       "    .dataframe tbody tr th {\n",
       "        vertical-align: top;\n",
       "    }\n",
       "\n",
       "    .dataframe thead th {\n",
       "        text-align: right;\n",
       "    }\n",
       "</style>\n",
       "<table border=\"1\" class=\"dataframe\">\n",
       "  <thead>\n",
       "    <tr style=\"text-align: right;\">\n",
       "      <th></th>\n",
       "      <th>count</th>\n",
       "      <th>mean</th>\n",
       "      <th>std</th>\n",
       "      <th>min</th>\n",
       "      <th>25%</th>\n",
       "      <th>50%</th>\n",
       "      <th>75%</th>\n",
       "      <th>max</th>\n",
       "    </tr>\n",
       "  </thead>\n",
       "  <tbody>\n",
       "    <tr>\n",
       "      <th>number</th>\n",
       "      <td>1035.0</td>\n",
       "      <td>1.785507</td>\n",
       "      <td>1.240976</td>\n",
       "      <td>1.000000</td>\n",
       "      <td>1.00000</td>\n",
       "      <td>1.0000</td>\n",
       "      <td>2.000</td>\n",
       "      <td>7.0</td>\n",
       "    </tr>\n",
       "    <tr>\n",
       "      <th>orbital_period</th>\n",
       "      <td>992.0</td>\n",
       "      <td>2002.917596</td>\n",
       "      <td>26014.728304</td>\n",
       "      <td>0.090706</td>\n",
       "      <td>5.44254</td>\n",
       "      <td>39.9795</td>\n",
       "      <td>526.005</td>\n",
       "      <td>730000.0</td>\n",
       "    </tr>\n",
       "    <tr>\n",
       "      <th>mass</th>\n",
       "      <td>513.0</td>\n",
       "      <td>2.638161</td>\n",
       "      <td>3.818617</td>\n",
       "      <td>0.003600</td>\n",
       "      <td>0.22900</td>\n",
       "      <td>1.2600</td>\n",
       "      <td>3.040</td>\n",
       "      <td>25.0</td>\n",
       "    </tr>\n",
       "    <tr>\n",
       "      <th>distance</th>\n",
       "      <td>808.0</td>\n",
       "      <td>264.069282</td>\n",
       "      <td>733.116493</td>\n",
       "      <td>1.350000</td>\n",
       "      <td>32.56000</td>\n",
       "      <td>55.2500</td>\n",
       "      <td>178.500</td>\n",
       "      <td>8500.0</td>\n",
       "    </tr>\n",
       "    <tr>\n",
       "      <th>year</th>\n",
       "      <td>1035.0</td>\n",
       "      <td>2009.070531</td>\n",
       "      <td>3.972567</td>\n",
       "      <td>1989.000000</td>\n",
       "      <td>2007.00000</td>\n",
       "      <td>2010.0000</td>\n",
       "      <td>2012.000</td>\n",
       "      <td>2014.0</td>\n",
       "    </tr>\n",
       "  </tbody>\n",
       "</table>\n",
       "</div>"
      ],
      "text/plain": [
       "                 count         mean           std          min         25%  \\\n",
       "number          1035.0     1.785507      1.240976     1.000000     1.00000   \n",
       "orbital_period   992.0  2002.917596  26014.728304     0.090706     5.44254   \n",
       "mass             513.0     2.638161      3.818617     0.003600     0.22900   \n",
       "distance         808.0   264.069282    733.116493     1.350000    32.56000   \n",
       "year            1035.0  2009.070531      3.972567  1989.000000  2007.00000   \n",
       "\n",
       "                      50%       75%       max  \n",
       "number             1.0000     2.000       7.0  \n",
       "orbital_period    39.9795   526.005  730000.0  \n",
       "mass               1.2600     3.040      25.0  \n",
       "distance          55.2500   178.500    8500.0  \n",
       "year            2010.0000  2012.000    2014.0  "
      ]
     },
     "execution_count": 45,
     "metadata": {},
     "output_type": "execute_result"
    }
   ],
   "source": [
    "df_num.describe().T # Surekli Degiskenlerin Uzerinde Betimsel Istatistikler"
   ]
  },
  {
   "cell_type": "code",
   "execution_count": 46,
   "id": "4c0d6ab9",
   "metadata": {
    "execution": {
     "iopub.execute_input": "2022-04-30T23:02:46.775956Z",
     "iopub.status.busy": "2022-04-30T23:02:46.775571Z",
     "iopub.status.idle": "2022-04-30T23:02:46.789029Z",
     "shell.execute_reply": "2022-04-30T23:02:46.787822Z"
    },
    "papermill": {
     "duration": 0.133753,
     "end_time": "2022-04-30T23:02:46.791576",
     "exception": false,
     "start_time": "2022-04-30T23:02:46.657823",
     "status": "completed"
    },
    "tags": []
   },
   "outputs": [
    {
     "data": {
      "text/plain": [
       "count     808.000000\n",
       "mean      264.069282\n",
       "std       733.116493\n",
       "min         1.350000\n",
       "25%        32.560000\n",
       "50%        55.250000\n",
       "75%       178.500000\n",
       "max      8500.000000\n",
       "Name: distance, dtype: float64"
      ]
     },
     "execution_count": 46,
     "metadata": {},
     "output_type": "execute_result"
    }
   ],
   "source": [
    "# Belirli Bir Degiskeninde Betimsel Istatistiklerine Ulasabiliriz\n",
    "\n",
    "df_num[\"distance\"].describe()"
   ]
  },
  {
   "cell_type": "code",
   "execution_count": 47,
   "id": "222aca43",
   "metadata": {
    "execution": {
     "iopub.execute_input": "2022-04-30T23:02:47.021273Z",
     "iopub.status.busy": "2022-04-30T23:02:47.020789Z",
     "iopub.status.idle": "2022-04-30T23:02:47.041892Z",
     "shell.execute_reply": "2022-04-30T23:02:47.041185Z"
    },
    "papermill": {
     "duration": 0.137306,
     "end_time": "2022-04-30T23:02:47.043867",
     "exception": false,
     "start_time": "2022-04-30T23:02:46.906561",
     "status": "completed"
    },
    "tags": []
   },
   "outputs": [
    {
     "data": {
      "text/html": [
       "<div>\n",
       "<style scoped>\n",
       "    .dataframe tbody tr th:only-of-type {\n",
       "        vertical-align: middle;\n",
       "    }\n",
       "\n",
       "    .dataframe tbody tr th {\n",
       "        vertical-align: top;\n",
       "    }\n",
       "\n",
       "    .dataframe thead th {\n",
       "        text-align: right;\n",
       "    }\n",
       "</style>\n",
       "<table border=\"1\" class=\"dataframe\">\n",
       "  <thead>\n",
       "    <tr style=\"text-align: right;\">\n",
       "      <th></th>\n",
       "      <th>count</th>\n",
       "      <th>mean</th>\n",
       "      <th>std</th>\n",
       "      <th>min</th>\n",
       "      <th>25%</th>\n",
       "      <th>50%</th>\n",
       "      <th>75%</th>\n",
       "      <th>max</th>\n",
       "    </tr>\n",
       "  </thead>\n",
       "  <tbody>\n",
       "    <tr>\n",
       "      <th>distance</th>\n",
       "      <td>808.0</td>\n",
       "      <td>264.069282</td>\n",
       "      <td>733.116493</td>\n",
       "      <td>1.35</td>\n",
       "      <td>32.56</td>\n",
       "      <td>55.25</td>\n",
       "      <td>178.5</td>\n",
       "      <td>8500.0</td>\n",
       "    </tr>\n",
       "  </tbody>\n",
       "</table>\n",
       "</div>"
      ],
      "text/plain": [
       "          count        mean         std   min    25%    50%    75%     max\n",
       "distance  808.0  264.069282  733.116493  1.35  32.56  55.25  178.5  8500.0"
      ]
     },
     "execution_count": 47,
     "metadata": {},
     "output_type": "execute_result"
    }
   ],
   "source": [
    "df_num[[\"distance\"]].describe().T # Usttekinin Farkli Bir Gosterimi"
   ]
  },
  {
   "cell_type": "code",
   "execution_count": 48,
   "id": "67ebcc1b",
   "metadata": {
    "execution": {
     "iopub.execute_input": "2022-04-30T23:02:47.278101Z",
     "iopub.status.busy": "2022-04-30T23:02:47.277569Z",
     "iopub.status.idle": "2022-04-30T23:02:47.289624Z",
     "shell.execute_reply": "2022-04-30T23:02:47.287783Z"
    },
    "papermill": {
     "duration": 0.134459,
     "end_time": "2022-04-30T23:02:47.292249",
     "exception": false,
     "start_time": "2022-04-30T23:02:47.157790",
     "status": "completed"
    },
    "tags": []
   },
   "outputs": [
    {
     "name": "stdout",
     "output_type": "stream",
     "text": [
      "Ortalama: 264.06928217821786\n",
      "Dolu Gözlem Sayısı: 808\n",
      "Maksimum Değer: 8500.0\n",
      "Minimum Değer: 1.35\n",
      "Medyan: 55.25\n",
      "Standart Sapma: 733.1164929404421\n"
     ]
    }
   ],
   "source": [
    "# Gorsel Olarak Turkceye Cevirme Ve Siralamalarini Istegimize Gore Yaptik ( Temel Python Bilgisi Ile Print() Yaptik )\n",
    "\n",
    "print(\"Ortalama: \" + str(df_num[\"distance\"].mean()))\n",
    "print(\"Dolu Gözlem Sayısı: \" + str(df_num[\"distance\"].count())) \n",
    "print(\"Maksimum Değer: \" + str(df_num[\"distance\"].max()))\n",
    "print(\"Minimum Değer: \" + str(df_num[\"distance\"].min()))\n",
    "print(\"Medyan: \" + str(df_num[\"distance\"].median()))\n",
    "print(\"Standart Sapma: \" + str(df_num[\"distance\"].std()))"
   ]
  },
  {
   "cell_type": "markdown",
   "id": "b4cb0516",
   "metadata": {
    "papermill": {
     "duration": 0.1136,
     "end_time": "2022-04-30T23:02:47.518918",
     "exception": false,
     "start_time": "2022-04-30T23:02:47.405318",
     "status": "completed"
    },
    "tags": []
   },
   "source": [
    "# DAGILIM GRAFIKLERI"
   ]
  },
  {
   "cell_type": "code",
   "execution_count": 49,
   "id": "8c284dc5",
   "metadata": {
    "execution": {
     "iopub.execute_input": "2022-04-30T23:02:47.752706Z",
     "iopub.status.busy": "2022-04-30T23:02:47.751824Z",
     "iopub.status.idle": "2022-04-30T23:02:47.755889Z",
     "shell.execute_reply": "2022-04-30T23:02:47.755070Z"
    },
    "papermill": {
     "duration": 0.129069,
     "end_time": "2022-04-30T23:02:47.758477",
     "exception": false,
     "start_time": "2022-04-30T23:02:47.629408",
     "status": "completed"
    },
    "tags": []
   },
   "outputs": [],
   "source": [
    "# -- DAGILIM GRAFIKLERI --"
   ]
  },
  {
   "cell_type": "code",
   "execution_count": 50,
   "id": "16208203",
   "metadata": {
    "execution": {
     "iopub.execute_input": "2022-04-30T23:02:47.981799Z",
     "iopub.status.busy": "2022-04-30T23:02:47.981491Z",
     "iopub.status.idle": "2022-04-30T23:02:47.984802Z",
     "shell.execute_reply": "2022-04-30T23:02:47.984103Z"
    },
    "papermill": {
     "duration": 0.119458,
     "end_time": "2022-04-30T23:02:47.986972",
     "exception": false,
     "start_time": "2022-04-30T23:02:47.867514",
     "status": "completed"
    },
    "tags": []
   },
   "outputs": [],
   "source": [
    "# Barplot ( Sutun Grafik Teknigi ) ( Sutun Grafik : Elimizdeki Kategorik Degiskenleri Gorsellestirmek Icin Kullanilir )"
   ]
  },
  {
   "cell_type": "markdown",
   "id": "2047dfd3",
   "metadata": {
    "papermill": {
     "duration": 0.116432,
     "end_time": "2022-04-30T23:02:48.220741",
     "exception": false,
     "start_time": "2022-04-30T23:02:48.104309",
     "status": "completed"
    },
    "tags": []
   },
   "source": [
    "**Veri Seti Hikayesi**\n",
    "\n",
    "price: dolar cinsinde fiyat ($326–$18,823)\n",
    "\n",
    "carat: ağırlık (0.2–5.01)\n",
    "\n",
    "cut: kalite (Fair, Good, Very Good, Premium, Ideal)\n",
    "\n",
    "color: renk (from J (worst) to D (best))\n",
    "\n",
    "clarity: temizliği, berraklığı (I1 (worst), SI2, SI1, VS2, VS1, VVS2, VVS1, IF (best))\n",
    "\n",
    "x: length in mm (0–10.74)\n",
    "\n",
    "y: width in mm (0–58.9)\n",
    "\n",
    "z: depth in mm (0–31.8)\n",
    "\n",
    "depth: toplam derinlik yüzdesi = z / mean(x, y) = 2 * z / (x + y) (43–79)\n",
    "\n",
    "table: elmasın en geniş noktasına göre genişliği (43–95)"
   ]
  },
  {
   "cell_type": "code",
   "execution_count": 51,
   "id": "b276afd4",
   "metadata": {
    "execution": {
     "iopub.execute_input": "2022-04-30T23:02:48.449983Z",
     "iopub.status.busy": "2022-04-30T23:02:48.449193Z",
     "iopub.status.idle": "2022-04-30T23:02:48.581791Z",
     "shell.execute_reply": "2022-04-30T23:02:48.580681Z"
    },
    "papermill": {
     "duration": 0.247226,
     "end_time": "2022-04-30T23:02:48.584679",
     "exception": false,
     "start_time": "2022-04-30T23:02:48.337453",
     "status": "completed"
    },
    "tags": []
   },
   "outputs": [
    {
     "data": {
      "text/html": [
       "<div>\n",
       "<style scoped>\n",
       "    .dataframe tbody tr th:only-of-type {\n",
       "        vertical-align: middle;\n",
       "    }\n",
       "\n",
       "    .dataframe tbody tr th {\n",
       "        vertical-align: top;\n",
       "    }\n",
       "\n",
       "    .dataframe thead th {\n",
       "        text-align: right;\n",
       "    }\n",
       "</style>\n",
       "<table border=\"1\" class=\"dataframe\">\n",
       "  <thead>\n",
       "    <tr style=\"text-align: right;\">\n",
       "      <th></th>\n",
       "      <th>carat</th>\n",
       "      <th>cut</th>\n",
       "      <th>color</th>\n",
       "      <th>clarity</th>\n",
       "      <th>depth</th>\n",
       "      <th>table</th>\n",
       "      <th>price</th>\n",
       "      <th>x</th>\n",
       "      <th>y</th>\n",
       "      <th>z</th>\n",
       "    </tr>\n",
       "  </thead>\n",
       "  <tbody>\n",
       "    <tr>\n",
       "      <th>0</th>\n",
       "      <td>0.23</td>\n",
       "      <td>Ideal</td>\n",
       "      <td>E</td>\n",
       "      <td>SI2</td>\n",
       "      <td>61.5</td>\n",
       "      <td>55.0</td>\n",
       "      <td>326</td>\n",
       "      <td>3.95</td>\n",
       "      <td>3.98</td>\n",
       "      <td>2.43</td>\n",
       "    </tr>\n",
       "    <tr>\n",
       "      <th>1</th>\n",
       "      <td>0.21</td>\n",
       "      <td>Premium</td>\n",
       "      <td>E</td>\n",
       "      <td>SI1</td>\n",
       "      <td>59.8</td>\n",
       "      <td>61.0</td>\n",
       "      <td>326</td>\n",
       "      <td>3.89</td>\n",
       "      <td>3.84</td>\n",
       "      <td>2.31</td>\n",
       "    </tr>\n",
       "    <tr>\n",
       "      <th>2</th>\n",
       "      <td>0.23</td>\n",
       "      <td>Good</td>\n",
       "      <td>E</td>\n",
       "      <td>VS1</td>\n",
       "      <td>56.9</td>\n",
       "      <td>65.0</td>\n",
       "      <td>327</td>\n",
       "      <td>4.05</td>\n",
       "      <td>4.07</td>\n",
       "      <td>2.31</td>\n",
       "    </tr>\n",
       "    <tr>\n",
       "      <th>3</th>\n",
       "      <td>0.29</td>\n",
       "      <td>Premium</td>\n",
       "      <td>I</td>\n",
       "      <td>VS2</td>\n",
       "      <td>62.4</td>\n",
       "      <td>58.0</td>\n",
       "      <td>334</td>\n",
       "      <td>4.20</td>\n",
       "      <td>4.23</td>\n",
       "      <td>2.63</td>\n",
       "    </tr>\n",
       "    <tr>\n",
       "      <th>4</th>\n",
       "      <td>0.31</td>\n",
       "      <td>Good</td>\n",
       "      <td>J</td>\n",
       "      <td>SI2</td>\n",
       "      <td>63.3</td>\n",
       "      <td>58.0</td>\n",
       "      <td>335</td>\n",
       "      <td>4.34</td>\n",
       "      <td>4.35</td>\n",
       "      <td>2.75</td>\n",
       "    </tr>\n",
       "  </tbody>\n",
       "</table>\n",
       "</div>"
      ],
      "text/plain": [
       "   carat      cut color clarity  depth  table  price     x     y     z\n",
       "0   0.23    Ideal     E     SI2   61.5   55.0    326  3.95  3.98  2.43\n",
       "1   0.21  Premium     E     SI1   59.8   61.0    326  3.89  3.84  2.31\n",
       "2   0.23     Good     E     VS1   56.9   65.0    327  4.05  4.07  2.31\n",
       "3   0.29  Premium     I     VS2   62.4   58.0    334  4.20  4.23  2.63\n",
       "4   0.31     Good     J     SI2   63.3   58.0    335  4.34  4.35  2.75"
      ]
     },
     "execution_count": 51,
     "metadata": {},
     "output_type": "execute_result"
    }
   ],
   "source": [
    "diamonds = pd.read_csv(\"../input/seaborn-practice/diamonds.csv\")\n",
    "\n",
    "df = diamonds.copy()\n",
    "\n",
    "df.head()"
   ]
  },
  {
   "cell_type": "code",
   "execution_count": 52,
   "id": "f5099a0b",
   "metadata": {
    "execution": {
     "iopub.execute_input": "2022-04-30T23:02:48.811762Z",
     "iopub.status.busy": "2022-04-30T23:02:48.811474Z",
     "iopub.status.idle": "2022-04-30T23:02:48.844072Z",
     "shell.execute_reply": "2022-04-30T23:02:48.842591Z"
    },
    "papermill": {
     "duration": 0.151761,
     "end_time": "2022-04-30T23:02:48.847396",
     "exception": false,
     "start_time": "2022-04-30T23:02:48.695635",
     "status": "completed"
    },
    "tags": []
   },
   "outputs": [
    {
     "name": "stdout",
     "output_type": "stream",
     "text": [
      "<class 'pandas.core.frame.DataFrame'>\n",
      "RangeIndex: 53940 entries, 0 to 53939\n",
      "Data columns (total 10 columns):\n",
      " #   Column   Non-Null Count  Dtype  \n",
      "---  ------   --------------  -----  \n",
      " 0   carat    53940 non-null  float64\n",
      " 1   cut      53940 non-null  object \n",
      " 2   color    53940 non-null  object \n",
      " 3   clarity  53940 non-null  object \n",
      " 4   depth    53940 non-null  float64\n",
      " 5   table    53940 non-null  float64\n",
      " 6   price    53940 non-null  int64  \n",
      " 7   x        53940 non-null  float64\n",
      " 8   y        53940 non-null  float64\n",
      " 9   z        53940 non-null  float64\n",
      "dtypes: float64(6), int64(1), object(3)\n",
      "memory usage: 4.1+ MB\n"
     ]
    }
   ],
   "source": [
    "# Ekledigimiz Data-Set'in Bilgilerine Bakalim\n",
    "\n",
    "df.info()"
   ]
  },
  {
   "cell_type": "code",
   "execution_count": 53,
   "id": "01f9580e",
   "metadata": {
    "execution": {
     "iopub.execute_input": "2022-04-30T23:02:49.084721Z",
     "iopub.status.busy": "2022-04-30T23:02:49.083814Z",
     "iopub.status.idle": "2022-04-30T23:02:49.143801Z",
     "shell.execute_reply": "2022-04-30T23:02:49.142772Z"
    },
    "papermill": {
     "duration": 0.178604,
     "end_time": "2022-04-30T23:02:49.146502",
     "exception": false,
     "start_time": "2022-04-30T23:02:48.967898",
     "status": "completed"
    },
    "tags": []
   },
   "outputs": [
    {
     "data": {
      "text/html": [
       "<div>\n",
       "<style scoped>\n",
       "    .dataframe tbody tr th:only-of-type {\n",
       "        vertical-align: middle;\n",
       "    }\n",
       "\n",
       "    .dataframe tbody tr th {\n",
       "        vertical-align: top;\n",
       "    }\n",
       "\n",
       "    .dataframe thead th {\n",
       "        text-align: right;\n",
       "    }\n",
       "</style>\n",
       "<table border=\"1\" class=\"dataframe\">\n",
       "  <thead>\n",
       "    <tr style=\"text-align: right;\">\n",
       "      <th></th>\n",
       "      <th>count</th>\n",
       "      <th>mean</th>\n",
       "      <th>std</th>\n",
       "      <th>min</th>\n",
       "      <th>25%</th>\n",
       "      <th>50%</th>\n",
       "      <th>75%</th>\n",
       "      <th>max</th>\n",
       "    </tr>\n",
       "  </thead>\n",
       "  <tbody>\n",
       "    <tr>\n",
       "      <th>carat</th>\n",
       "      <td>53940.0</td>\n",
       "      <td>0.797940</td>\n",
       "      <td>0.474011</td>\n",
       "      <td>0.2</td>\n",
       "      <td>0.40</td>\n",
       "      <td>0.70</td>\n",
       "      <td>1.04</td>\n",
       "      <td>5.01</td>\n",
       "    </tr>\n",
       "    <tr>\n",
       "      <th>depth</th>\n",
       "      <td>53940.0</td>\n",
       "      <td>61.749405</td>\n",
       "      <td>1.432621</td>\n",
       "      <td>43.0</td>\n",
       "      <td>61.00</td>\n",
       "      <td>61.80</td>\n",
       "      <td>62.50</td>\n",
       "      <td>79.00</td>\n",
       "    </tr>\n",
       "    <tr>\n",
       "      <th>table</th>\n",
       "      <td>53940.0</td>\n",
       "      <td>57.457184</td>\n",
       "      <td>2.234491</td>\n",
       "      <td>43.0</td>\n",
       "      <td>56.00</td>\n",
       "      <td>57.00</td>\n",
       "      <td>59.00</td>\n",
       "      <td>95.00</td>\n",
       "    </tr>\n",
       "    <tr>\n",
       "      <th>price</th>\n",
       "      <td>53940.0</td>\n",
       "      <td>3932.799722</td>\n",
       "      <td>3989.439738</td>\n",
       "      <td>326.0</td>\n",
       "      <td>950.00</td>\n",
       "      <td>2401.00</td>\n",
       "      <td>5324.25</td>\n",
       "      <td>18823.00</td>\n",
       "    </tr>\n",
       "    <tr>\n",
       "      <th>x</th>\n",
       "      <td>53940.0</td>\n",
       "      <td>5.731157</td>\n",
       "      <td>1.121761</td>\n",
       "      <td>0.0</td>\n",
       "      <td>4.71</td>\n",
       "      <td>5.70</td>\n",
       "      <td>6.54</td>\n",
       "      <td>10.74</td>\n",
       "    </tr>\n",
       "    <tr>\n",
       "      <th>y</th>\n",
       "      <td>53940.0</td>\n",
       "      <td>5.734526</td>\n",
       "      <td>1.142135</td>\n",
       "      <td>0.0</td>\n",
       "      <td>4.72</td>\n",
       "      <td>5.71</td>\n",
       "      <td>6.54</td>\n",
       "      <td>58.90</td>\n",
       "    </tr>\n",
       "    <tr>\n",
       "      <th>z</th>\n",
       "      <td>53940.0</td>\n",
       "      <td>3.538734</td>\n",
       "      <td>0.705699</td>\n",
       "      <td>0.0</td>\n",
       "      <td>2.91</td>\n",
       "      <td>3.53</td>\n",
       "      <td>4.04</td>\n",
       "      <td>31.80</td>\n",
       "    </tr>\n",
       "  </tbody>\n",
       "</table>\n",
       "</div>"
      ],
      "text/plain": [
       "         count         mean          std    min     25%      50%      75%  \\\n",
       "carat  53940.0     0.797940     0.474011    0.2    0.40     0.70     1.04   \n",
       "depth  53940.0    61.749405     1.432621   43.0   61.00    61.80    62.50   \n",
       "table  53940.0    57.457184     2.234491   43.0   56.00    57.00    59.00   \n",
       "price  53940.0  3932.799722  3989.439738  326.0  950.00  2401.00  5324.25   \n",
       "x      53940.0     5.731157     1.121761    0.0    4.71     5.70     6.54   \n",
       "y      53940.0     5.734526     1.142135    0.0    4.72     5.71     6.54   \n",
       "z      53940.0     3.538734     0.705699    0.0    2.91     3.53     4.04   \n",
       "\n",
       "            max  \n",
       "carat      5.01  \n",
       "depth     79.00  \n",
       "table     95.00  \n",
       "price  18823.00  \n",
       "x         10.74  \n",
       "y         58.90  \n",
       "z         31.80  "
      ]
     },
     "execution_count": 53,
     "metadata": {},
     "output_type": "execute_result"
    }
   ],
   "source": [
    "df.describe().T"
   ]
  },
  {
   "cell_type": "code",
   "execution_count": 54,
   "id": "c9923461",
   "metadata": {
    "execution": {
     "iopub.execute_input": "2022-04-30T23:02:49.384820Z",
     "iopub.status.busy": "2022-04-30T23:02:49.383949Z",
     "iopub.status.idle": "2022-04-30T23:02:49.401527Z",
     "shell.execute_reply": "2022-04-30T23:02:49.400517Z"
    },
    "papermill": {
     "duration": 0.139146,
     "end_time": "2022-04-30T23:02:49.404229",
     "exception": false,
     "start_time": "2022-04-30T23:02:49.265083",
     "status": "completed"
    },
    "tags": []
   },
   "outputs": [
    {
     "data": {
      "text/html": [
       "<div>\n",
       "<style scoped>\n",
       "    .dataframe tbody tr th:only-of-type {\n",
       "        vertical-align: middle;\n",
       "    }\n",
       "\n",
       "    .dataframe tbody tr th {\n",
       "        vertical-align: top;\n",
       "    }\n",
       "\n",
       "    .dataframe thead th {\n",
       "        text-align: right;\n",
       "    }\n",
       "</style>\n",
       "<table border=\"1\" class=\"dataframe\">\n",
       "  <thead>\n",
       "    <tr style=\"text-align: right;\">\n",
       "      <th></th>\n",
       "      <th>carat</th>\n",
       "      <th>cut</th>\n",
       "      <th>color</th>\n",
       "      <th>clarity</th>\n",
       "      <th>depth</th>\n",
       "      <th>table</th>\n",
       "      <th>price</th>\n",
       "      <th>x</th>\n",
       "      <th>y</th>\n",
       "      <th>z</th>\n",
       "    </tr>\n",
       "  </thead>\n",
       "  <tbody>\n",
       "    <tr>\n",
       "      <th>0</th>\n",
       "      <td>0.23</td>\n",
       "      <td>Ideal</td>\n",
       "      <td>E</td>\n",
       "      <td>SI2</td>\n",
       "      <td>61.5</td>\n",
       "      <td>55.0</td>\n",
       "      <td>326</td>\n",
       "      <td>3.95</td>\n",
       "      <td>3.98</td>\n",
       "      <td>2.43</td>\n",
       "    </tr>\n",
       "    <tr>\n",
       "      <th>1</th>\n",
       "      <td>0.21</td>\n",
       "      <td>Premium</td>\n",
       "      <td>E</td>\n",
       "      <td>SI1</td>\n",
       "      <td>59.8</td>\n",
       "      <td>61.0</td>\n",
       "      <td>326</td>\n",
       "      <td>3.89</td>\n",
       "      <td>3.84</td>\n",
       "      <td>2.31</td>\n",
       "    </tr>\n",
       "    <tr>\n",
       "      <th>2</th>\n",
       "      <td>0.23</td>\n",
       "      <td>Good</td>\n",
       "      <td>E</td>\n",
       "      <td>VS1</td>\n",
       "      <td>56.9</td>\n",
       "      <td>65.0</td>\n",
       "      <td>327</td>\n",
       "      <td>4.05</td>\n",
       "      <td>4.07</td>\n",
       "      <td>2.31</td>\n",
       "    </tr>\n",
       "    <tr>\n",
       "      <th>3</th>\n",
       "      <td>0.29</td>\n",
       "      <td>Premium</td>\n",
       "      <td>I</td>\n",
       "      <td>VS2</td>\n",
       "      <td>62.4</td>\n",
       "      <td>58.0</td>\n",
       "      <td>334</td>\n",
       "      <td>4.20</td>\n",
       "      <td>4.23</td>\n",
       "      <td>2.63</td>\n",
       "    </tr>\n",
       "    <tr>\n",
       "      <th>4</th>\n",
       "      <td>0.31</td>\n",
       "      <td>Good</td>\n",
       "      <td>J</td>\n",
       "      <td>SI2</td>\n",
       "      <td>63.3</td>\n",
       "      <td>58.0</td>\n",
       "      <td>335</td>\n",
       "      <td>4.34</td>\n",
       "      <td>4.35</td>\n",
       "      <td>2.75</td>\n",
       "    </tr>\n",
       "  </tbody>\n",
       "</table>\n",
       "</div>"
      ],
      "text/plain": [
       "   carat      cut color clarity  depth  table  price     x     y     z\n",
       "0   0.23    Ideal     E     SI2   61.5   55.0    326  3.95  3.98  2.43\n",
       "1   0.21  Premium     E     SI1   59.8   61.0    326  3.89  3.84  2.31\n",
       "2   0.23     Good     E     VS1   56.9   65.0    327  4.05  4.07  2.31\n",
       "3   0.29  Premium     I     VS2   62.4   58.0    334  4.20  4.23  2.63\n",
       "4   0.31     Good     J     SI2   63.3   58.0    335  4.34  4.35  2.75"
      ]
     },
     "execution_count": 54,
     "metadata": {},
     "output_type": "execute_result"
    }
   ],
   "source": [
    "df.head()"
   ]
  },
  {
   "cell_type": "code",
   "execution_count": 55,
   "id": "c4a00d05",
   "metadata": {
    "execution": {
     "iopub.execute_input": "2022-04-30T23:02:49.642514Z",
     "iopub.status.busy": "2022-04-30T23:02:49.641923Z",
     "iopub.status.idle": "2022-04-30T23:02:49.655951Z",
     "shell.execute_reply": "2022-04-30T23:02:49.654801Z"
    },
    "papermill": {
     "duration": 0.139161,
     "end_time": "2022-04-30T23:02:49.658452",
     "exception": false,
     "start_time": "2022-04-30T23:02:49.519291",
     "status": "completed"
    },
    "tags": []
   },
   "outputs": [
    {
     "data": {
      "text/plain": [
       "Ideal        21551\n",
       "Premium      13791\n",
       "Very Good    12082\n",
       "Good          4906\n",
       "Fair          1610\n",
       "Name: cut, dtype: int64"
      ]
     },
     "execution_count": 55,
     "metadata": {},
     "output_type": "execute_result"
    }
   ],
   "source": [
    "df[\"cut\"].value_counts() # Frekansina Eristik"
   ]
  },
  {
   "cell_type": "code",
   "execution_count": 56,
   "id": "f1782aa8",
   "metadata": {
    "execution": {
     "iopub.execute_input": "2022-04-30T23:02:49.897357Z",
     "iopub.status.busy": "2022-04-30T23:02:49.897061Z",
     "iopub.status.idle": "2022-04-30T23:02:49.911689Z",
     "shell.execute_reply": "2022-04-30T23:02:49.910677Z"
    },
    "papermill": {
     "duration": 0.136365,
     "end_time": "2022-04-30T23:02:49.914046",
     "exception": false,
     "start_time": "2022-04-30T23:02:49.777681",
     "status": "completed"
    },
    "tags": []
   },
   "outputs": [
    {
     "data": {
      "text/plain": [
       "G    11292\n",
       "E     9797\n",
       "F     9542\n",
       "H     8304\n",
       "D     6775\n",
       "I     5422\n",
       "J     2808\n",
       "Name: color, dtype: int64"
      ]
     },
     "execution_count": 56,
     "metadata": {},
     "output_type": "execute_result"
    }
   ],
   "source": [
    "df[\"color\"].value_counts() # Frekansina Eristik"
   ]
  },
  {
   "cell_type": "code",
   "execution_count": 57,
   "id": "7de9219a",
   "metadata": {
    "execution": {
     "iopub.execute_input": "2022-04-30T23:02:50.153458Z",
     "iopub.status.busy": "2022-04-30T23:02:50.153156Z",
     "iopub.status.idle": "2022-04-30T23:02:50.157795Z",
     "shell.execute_reply": "2022-04-30T23:02:50.156745Z"
    },
    "papermill": {
     "duration": 0.127323,
     "end_time": "2022-04-30T23:02:50.160895",
     "exception": false,
     "start_time": "2022-04-30T23:02:50.033572",
     "status": "completed"
    },
    "tags": []
   },
   "outputs": [],
   "source": [
    "# Ordinal Tanimlama ( Sirali - Ordered )( Tanitma Islemi Yapilacak )\n",
    "\n",
    "from pandas.api.types import CategoricalDtype"
   ]
  },
  {
   "cell_type": "code",
   "execution_count": 58,
   "id": "9f4da5ee",
   "metadata": {
    "execution": {
     "iopub.execute_input": "2022-04-30T23:02:50.399851Z",
     "iopub.status.busy": "2022-04-30T23:02:50.398904Z",
     "iopub.status.idle": "2022-04-30T23:02:50.406500Z",
     "shell.execute_reply": "2022-04-30T23:02:50.405610Z"
    },
    "papermill": {
     "duration": 0.130206,
     "end_time": "2022-04-30T23:02:50.409020",
     "exception": false,
     "start_time": "2022-04-30T23:02:50.278814",
     "status": "completed"
    },
    "tags": []
   },
   "outputs": [
    {
     "data": {
      "text/plain": [
       "0      Ideal\n",
       "1    Premium\n",
       "2       Good\n",
       "3    Premium\n",
       "4       Good\n",
       "Name: cut, dtype: object"
      ]
     },
     "execution_count": 58,
     "metadata": {},
     "output_type": "execute_result"
    }
   ],
   "source": [
    "df.cut.head() # \"cut\" Adli Degisken Kategorik Bir Degiskendi ( Hatirlatma )"
   ]
  },
  {
   "cell_type": "code",
   "execution_count": 59,
   "id": "05b1b5be",
   "metadata": {
    "execution": {
     "iopub.execute_input": "2022-04-30T23:02:50.642670Z",
     "iopub.status.busy": "2022-04-30T23:02:50.641760Z",
     "iopub.status.idle": "2022-04-30T23:02:50.653466Z",
     "shell.execute_reply": "2022-04-30T23:02:50.652490Z"
    },
    "papermill": {
     "duration": 0.130829,
     "end_time": "2022-04-30T23:02:50.655961",
     "exception": false,
     "start_time": "2022-04-30T23:02:50.525132",
     "status": "completed"
    },
    "tags": []
   },
   "outputs": [],
   "source": [
    "# Tanimlama Islemi ( Burda Yapiliyor )\n",
    "\n",
    "df.cut = df.cut.astype(CategoricalDtype(ordered = True)) # Katagorik Degiskeni Kategorik Degiskene Degistir Ve Bunu \"Ordinal\" Yap Demektir"
   ]
  },
  {
   "cell_type": "code",
   "execution_count": 60,
   "id": "2f660a2f",
   "metadata": {
    "execution": {
     "iopub.execute_input": "2022-04-30T23:02:50.895351Z",
     "iopub.status.busy": "2022-04-30T23:02:50.894981Z",
     "iopub.status.idle": "2022-04-30T23:02:50.902634Z",
     "shell.execute_reply": "2022-04-30T23:02:50.901905Z"
    },
    "papermill": {
     "duration": 0.128537,
     "end_time": "2022-04-30T23:02:50.904985",
     "exception": false,
     "start_time": "2022-04-30T23:02:50.776448",
     "status": "completed"
    },
    "tags": []
   },
   "outputs": [
    {
     "data": {
      "text/plain": [
       "carat       float64\n",
       "cut        category\n",
       "color        object\n",
       "clarity      object\n",
       "depth       float64\n",
       "table       float64\n",
       "price         int64\n",
       "x           float64\n",
       "y           float64\n",
       "z           float64\n",
       "dtype: object"
      ]
     },
     "execution_count": 60,
     "metadata": {},
     "output_type": "execute_result"
    }
   ],
   "source": [
    "df.dtypes"
   ]
  },
  {
   "cell_type": "code",
   "execution_count": 61,
   "id": "b6d75349",
   "metadata": {
    "execution": {
     "iopub.execute_input": "2022-04-30T23:02:51.145077Z",
     "iopub.status.busy": "2022-04-30T23:02:51.144579Z",
     "iopub.status.idle": "2022-04-30T23:02:51.154196Z",
     "shell.execute_reply": "2022-04-30T23:02:51.153140Z"
    },
    "papermill": {
     "duration": 0.134006,
     "end_time": "2022-04-30T23:02:51.156504",
     "exception": false,
     "start_time": "2022-04-30T23:02:51.022498",
     "status": "completed"
    },
    "tags": []
   },
   "outputs": [
    {
     "data": {
      "text/plain": [
       "0    Ideal\n",
       "Name: cut, dtype: category\n",
       "Categories (5, object): ['Fair' < 'Good' < 'Ideal' < 'Premium' < 'Very Good']"
      ]
     },
     "execution_count": 61,
     "metadata": {},
     "output_type": "execute_result"
    }
   ],
   "source": [
    "# !! Soo Important !!\n",
    "\n",
    "# Burada Dikkat Edilmesi Gereken Bi Durum Var\n",
    "\n",
    "df.cut.head(1) # Gorulecegi Uzere Asagida Siralamalar Vardir ( ['Fair' < 'Good' < 'Ideal' < 'Premium' < 'Very Good'] ) ------->> Bu Siralama,\n",
    "# Veri Setinin Hikayesinde Bulunan Siralama Ile Uyumlu Degildir Peki Siralama Nasil Duzeltilir ( Asagida Yapiyorum )"
   ]
  },
  {
   "cell_type": "code",
   "execution_count": 62,
   "id": "2bcaa654",
   "metadata": {
    "execution": {
     "iopub.execute_input": "2022-04-30T23:02:51.398383Z",
     "iopub.status.busy": "2022-04-30T23:02:51.398062Z",
     "iopub.status.idle": "2022-04-30T23:02:51.402398Z",
     "shell.execute_reply": "2022-04-30T23:02:51.401395Z"
    },
    "papermill": {
     "duration": 0.128351,
     "end_time": "2022-04-30T23:02:51.404651",
     "exception": false,
     "start_time": "2022-04-30T23:02:51.276300",
     "status": "completed"
    },
    "tags": []
   },
   "outputs": [],
   "source": [
    "cut_kategoriler = [\"Fair\",\"Good\",\"Very Good\",\"Premium\",\"Ideal\"]"
   ]
  },
  {
   "cell_type": "code",
   "execution_count": 63,
   "id": "198a7cd7",
   "metadata": {
    "execution": {
     "iopub.execute_input": "2022-04-30T23:02:51.641873Z",
     "iopub.status.busy": "2022-04-30T23:02:51.641560Z",
     "iopub.status.idle": "2022-04-30T23:02:51.648517Z",
     "shell.execute_reply": "2022-04-30T23:02:51.647474Z"
    },
    "papermill": {
     "duration": 0.128695,
     "end_time": "2022-04-30T23:02:51.651549",
     "exception": false,
     "start_time": "2022-04-30T23:02:51.522854",
     "status": "completed"
    },
    "tags": []
   },
   "outputs": [],
   "source": [
    "df.cut = df.cut.astype(CategoricalDtype(categories = cut_kategoriler, ordered = True))"
   ]
  },
  {
   "cell_type": "code",
   "execution_count": 64,
   "id": "f675d8f3",
   "metadata": {
    "execution": {
     "iopub.execute_input": "2022-04-30T23:02:51.891909Z",
     "iopub.status.busy": "2022-04-30T23:02:51.891483Z",
     "iopub.status.idle": "2022-04-30T23:02:51.900089Z",
     "shell.execute_reply": "2022-04-30T23:02:51.898974Z"
    },
    "papermill": {
     "duration": 0.13181,
     "end_time": "2022-04-30T23:02:51.902071",
     "exception": false,
     "start_time": "2022-04-30T23:02:51.770261",
     "status": "completed"
    },
    "tags": []
   },
   "outputs": [
    {
     "data": {
      "text/plain": [
       "0    Ideal\n",
       "Name: cut, dtype: category\n",
       "Categories (5, object): ['Fair' < 'Good' < 'Very Good' < 'Premium' < 'Ideal']"
      ]
     },
     "execution_count": 64,
     "metadata": {},
     "output_type": "execute_result"
    }
   ],
   "source": [
    "df.cut.head(1) # Goruldugu Uzere Istedigimiz Siralamayi Programa Okutmayı Basardik"
   ]
  },
  {
   "cell_type": "code",
   "execution_count": 65,
   "id": "0d5c8620",
   "metadata": {
    "execution": {
     "iopub.execute_input": "2022-04-30T23:02:52.145953Z",
     "iopub.status.busy": "2022-04-30T23:02:52.145395Z",
     "iopub.status.idle": "2022-04-30T23:02:52.338426Z",
     "shell.execute_reply": "2022-04-30T23:02:52.337389Z"
    },
    "papermill": {
     "duration": 0.317661,
     "end_time": "2022-04-30T23:02:52.341179",
     "exception": false,
     "start_time": "2022-04-30T23:02:52.023518",
     "status": "completed"
    },
    "tags": []
   },
   "outputs": [
    {
     "data": {
      "image/png": "[encoded data removed]",
      "text/plain": [
       "<Figure size 432x288 with 1 Axes>"
      ]
     },
     "metadata": {
      "needs_background": "light"
     },
     "output_type": "display_data"
    }
   ],
   "source": [
    "# - Barplot - ( Sutun Grafigin Olusturulmasi )\n",
    "\n",
    "df[\"cut\"].value_counts().plot.barh(); # Burada cut Degiskeninin sinif Frekanslarini Gorsellestirdik"
   ]
  },
  {
   "cell_type": "code",
   "execution_count": 66,
   "id": "fb1e6598",
   "metadata": {
    "execution": {
     "iopub.execute_input": "2022-04-30T23:02:52.596811Z",
     "iopub.status.busy": "2022-04-30T23:02:52.596478Z",
     "iopub.status.idle": "2022-04-30T23:02:52.802618Z",
     "shell.execute_reply": "2022-04-30T23:02:52.801602Z"
    },
    "papermill": {
     "duration": 0.338159,
     "end_time": "2022-04-30T23:02:52.805146",
     "exception": false,
     "start_time": "2022-04-30T23:02:52.466987",
     "status": "completed"
    },
    "tags": []
   },
   "outputs": [
    {
     "data": {
      "image/png": "[encoded data removed]",
      "text/plain": [
       "<Figure size 432x288 with 1 Axes>"
      ]
     },
     "metadata": {
      "needs_background": "light"
     },
     "output_type": "display_data"
    }
   ],
   "source": [
    "# Baslik Eklemek Icin Son Kismina Ekleme Yapalim\n",
    "\n",
    "df[\"cut\"].value_counts().plot.barh().set_title(\"\\\"cut\\\" Degiskeninin Sinif Frekanslari\");"
   ]
  },
  {
   "cell_type": "code",
   "execution_count": 67,
   "id": "22846b8c",
   "metadata": {
    "execution": {
     "iopub.execute_input": "2022-04-30T23:02:53.074360Z",
     "iopub.status.busy": "2022-04-30T23:02:53.073307Z",
     "iopub.status.idle": "2022-04-30T23:02:53.295368Z",
     "shell.execute_reply": "2022-04-30T23:02:53.294228Z"
    },
    "papermill": {
     "duration": 0.371546,
     "end_time": "2022-04-30T23:02:53.297929",
     "exception": false,
     "start_time": "2022-04-30T23:02:52.926383",
     "status": "completed"
    },
    "tags": []
   },
   "outputs": [
    {
     "data": {
      "image/png": "[encoded data removed]",
      "text/plain": [
       "<Figure size 432x288 with 1 Axes>"
      ]
     },
     "metadata": {
      "needs_background": "light"
     },
     "output_type": "display_data"
    }
   ],
   "source": [
    "# Grafiklestirme Islemlerinde Code ler Sag Tarafa Dogru Cok Uzadigi Icin Su Yontem Kullanilir\n",
    "\n",
    "df[\"cut\"].value_counts().plot.barh().set_title(\"\\\"cut\\\" Degiskeninin Sinif Frekanslari\");\n",
    "\n",
    "# Yukaridaki Ifadede Noktali Virgul ( \";\" ) Ifadesi Alinmadan Tum Codeyi Parantez Icerisine Aliriz Ve Noktadan ( . ) Once Alt Satira Inme Islemi Yapabiliriz Mesela; ( Bir Alt Satirda Yapiyorum )"
   ]
  },
  {
   "cell_type": "code",
   "execution_count": 68,
   "id": "7429a9ec",
   "metadata": {
    "execution": {
     "iopub.execute_input": "2022-04-30T23:02:53.541403Z",
     "iopub.status.busy": "2022-04-30T23:02:53.540321Z",
     "iopub.status.idle": "2022-04-30T23:02:53.743718Z",
     "shell.execute_reply": "2022-04-30T23:02:53.742691Z"
    },
    "papermill": {
     "duration": 0.329543,
     "end_time": "2022-04-30T23:02:53.746431",
     "exception": false,
     "start_time": "2022-04-30T23:02:53.416888",
     "status": "completed"
    },
    "tags": []
   },
   "outputs": [
    {
     "data": {
      "image/png": "[encoded data removed]",
      "text/plain": [
       "<Figure size 432x288 with 1 Axes>"
      ]
     },
     "metadata": {
      "needs_background": "light"
     },
     "output_type": "display_data"
    }
   ],
   "source": [
    "# ( Burda Yapiyorum ) ( Bu Sekilde Yapilabilir Fakat ( Bir Alt Satira Bak ) )\n",
    "\n",
    "(df[\"cut\"]\n",
    " .value_counts()\n",
    " .plot\n",
    " .barh()\n",
    " .set_title(\"\\\"cut\\\" Degiskeninin Sinif Frekanslari\"));"
   ]
  },
  {
   "cell_type": "code",
   "execution_count": 69,
   "id": "291342ce",
   "metadata": {
    "execution": {
     "iopub.execute_input": "2022-04-30T23:02:53.985621Z",
     "iopub.status.busy": "2022-04-30T23:02:53.985326Z",
     "iopub.status.idle": "2022-04-30T23:02:54.185598Z",
     "shell.execute_reply": "2022-04-30T23:02:54.184565Z"
    },
    "papermill": {
     "duration": 0.320576,
     "end_time": "2022-04-30T23:02:54.188286",
     "exception": false,
     "start_time": "2022-04-30T23:02:53.867710",
     "status": "completed"
    },
    "tags": []
   },
   "outputs": [
    {
     "data": {
      "image/png": "[encoded data removed]",
      "text/plain": [
       "<Figure size 432x288 with 1 Axes>"
      ]
     },
     "metadata": {
      "needs_background": "light"
     },
     "output_type": "display_data"
    }
   ],
   "source": [
    "# Yukaridakinin Benzeri Fakat Anlamlarina Gore Satir Inme Islemi Yaparsak \"Daha Iyi\" Olacaktir\n",
    "\n",
    "(df[\"cut\"] # Veri Setimiz Burda\n",
    " .value_counts() # Neyi Gorsellestirdigimiz Burda\n",
    " .plot.barh() # Gorsellestirme Teknigi Burda\n",
    " .set_title(\"\\\"cut\\\" Degiskeninin Sinif Frekanslari\")); # Basligimiz Bu Satirda Olsun"
   ]
  },
  {
   "cell_type": "code",
   "execution_count": 70,
   "id": "33915de4",
   "metadata": {
    "execution": {
     "iopub.execute_input": "2022-04-30T23:02:54.439436Z",
     "iopub.status.busy": "2022-04-30T23:02:54.439109Z",
     "iopub.status.idle": "2022-04-30T23:02:54.442842Z",
     "shell.execute_reply": "2022-04-30T23:02:54.442160Z"
    },
    "papermill": {
     "duration": 0.129873,
     "end_time": "2022-04-30T23:02:54.444727",
     "exception": false,
     "start_time": "2022-04-30T23:02:54.314854",
     "status": "completed"
    },
    "tags": []
   },
   "outputs": [],
   "source": [
    "# Buraya Kadar Olan Gorsellestirme Islemleri \"Pandas Kutuphanesi\" Ile Yapilmistir\n",
    "\n",
    "# Veri Gorsellestirme Islemlerini Bize Daha Kolay Imkanlar Saglayan \"Seaborn Kutuphanesi\" Ile Yapacagiz\n",
    "\n",
    "# Ayni Mantikla Pandas Gorsellestirmelerinde Oldugu Gibi Sonuna Noktali Virgul ( \";\" ) Koydugumuzda Grafigin Ustunde Cikan Yaziyi Sileriz"
   ]
  },
  {
   "cell_type": "code",
   "execution_count": 71,
   "id": "93d767e3",
   "metadata": {
    "execution": {
     "iopub.execute_input": "2022-04-30T23:02:54.687307Z",
     "iopub.status.busy": "2022-04-30T23:02:54.686680Z",
     "iopub.status.idle": "2022-04-30T23:02:55.677610Z",
     "shell.execute_reply": "2022-04-30T23:02:55.676156Z"
    },
    "papermill": {
     "duration": 1.11388,
     "end_time": "2022-04-30T23:02:55.680074",
     "exception": false,
     "start_time": "2022-04-30T23:02:54.566194",
     "status": "completed"
    },
    "tags": []
   },
   "outputs": [
    {
     "data": {
      "image/png": "[encoded data removed]",
      "text/plain": [
       "<Figure size 432x288 with 1 Axes>"
      ]
     },
     "metadata": {
      "needs_background": "light"
     },
     "output_type": "display_data"
    }
   ],
   "source": [
    "sns.barplot(x = \"cut\", y = df.cut.index, data = df); # X Eksenine \"cut\" Adli Katagorik Degiskeninin Frekanslarini Koy, Y eksenine\n",
    "\n",
    "# Iki Ust Tarafta Yer Alan Grafik Ile Ayni Grafigi Olusturduk ( Bu Yontem Daha Basit )"
   ]
  },
  {
   "cell_type": "code",
   "execution_count": 72,
   "id": "04fdf1be",
   "metadata": {
    "execution": {
     "iopub.execute_input": "2022-04-30T23:02:55.930233Z",
     "iopub.status.busy": "2022-04-30T23:02:55.929514Z",
     "iopub.status.idle": "2022-04-30T23:02:56.041685Z",
     "shell.execute_reply": "2022-04-30T23:02:56.040623Z"
    },
    "papermill": {
     "duration": 0.236068,
     "end_time": "2022-04-30T23:02:56.044461",
     "exception": false,
     "start_time": "2022-04-30T23:02:55.808393",
     "status": "completed"
    },
    "tags": []
   },
   "outputs": [
    {
     "data": {
      "text/html": [
       "<div>\n",
       "<style scoped>\n",
       "    .dataframe tbody tr th:only-of-type {\n",
       "        vertical-align: middle;\n",
       "    }\n",
       "\n",
       "    .dataframe tbody tr th {\n",
       "        vertical-align: top;\n",
       "    }\n",
       "\n",
       "    .dataframe thead th {\n",
       "        text-align: right;\n",
       "    }\n",
       "</style>\n",
       "<table border=\"1\" class=\"dataframe\">\n",
       "  <thead>\n",
       "    <tr style=\"text-align: right;\">\n",
       "      <th></th>\n",
       "      <th>carat</th>\n",
       "      <th>cut</th>\n",
       "      <th>color</th>\n",
       "      <th>clarity</th>\n",
       "      <th>depth</th>\n",
       "      <th>table</th>\n",
       "      <th>price</th>\n",
       "      <th>x</th>\n",
       "      <th>y</th>\n",
       "      <th>z</th>\n",
       "    </tr>\n",
       "  </thead>\n",
       "  <tbody>\n",
       "    <tr>\n",
       "      <th>0</th>\n",
       "      <td>0.23</td>\n",
       "      <td>Ideal</td>\n",
       "      <td>E</td>\n",
       "      <td>SI2</td>\n",
       "      <td>61.5</td>\n",
       "      <td>55.0</td>\n",
       "      <td>326</td>\n",
       "      <td>3.95</td>\n",
       "      <td>3.98</td>\n",
       "      <td>2.43</td>\n",
       "    </tr>\n",
       "    <tr>\n",
       "      <th>1</th>\n",
       "      <td>0.21</td>\n",
       "      <td>Premium</td>\n",
       "      <td>E</td>\n",
       "      <td>SI1</td>\n",
       "      <td>59.8</td>\n",
       "      <td>61.0</td>\n",
       "      <td>326</td>\n",
       "      <td>3.89</td>\n",
       "      <td>3.84</td>\n",
       "      <td>2.31</td>\n",
       "    </tr>\n",
       "    <tr>\n",
       "      <th>2</th>\n",
       "      <td>0.23</td>\n",
       "      <td>Good</td>\n",
       "      <td>E</td>\n",
       "      <td>VS1</td>\n",
       "      <td>56.9</td>\n",
       "      <td>65.0</td>\n",
       "      <td>327</td>\n",
       "      <td>4.05</td>\n",
       "      <td>4.07</td>\n",
       "      <td>2.31</td>\n",
       "    </tr>\n",
       "    <tr>\n",
       "      <th>3</th>\n",
       "      <td>0.29</td>\n",
       "      <td>Premium</td>\n",
       "      <td>I</td>\n",
       "      <td>VS2</td>\n",
       "      <td>62.4</td>\n",
       "      <td>58.0</td>\n",
       "      <td>334</td>\n",
       "      <td>4.20</td>\n",
       "      <td>4.23</td>\n",
       "      <td>2.63</td>\n",
       "    </tr>\n",
       "    <tr>\n",
       "      <th>4</th>\n",
       "      <td>0.31</td>\n",
       "      <td>Good</td>\n",
       "      <td>J</td>\n",
       "      <td>SI2</td>\n",
       "      <td>63.3</td>\n",
       "      <td>58.0</td>\n",
       "      <td>335</td>\n",
       "      <td>4.34</td>\n",
       "      <td>4.35</td>\n",
       "      <td>2.75</td>\n",
       "    </tr>\n",
       "  </tbody>\n",
       "</table>\n",
       "</div>"
      ],
      "text/plain": [
       "   carat      cut color clarity  depth  table  price     x     y     z\n",
       "0   0.23    Ideal     E     SI2   61.5   55.0    326  3.95  3.98  2.43\n",
       "1   0.21  Premium     E     SI1   59.8   61.0    326  3.89  3.84  2.31\n",
       "2   0.23     Good     E     VS1   56.9   65.0    327  4.05  4.07  2.31\n",
       "3   0.29  Premium     I     VS2   62.4   58.0    334  4.20  4.23  2.63\n",
       "4   0.31     Good     J     SI2   63.3   58.0    335  4.34  4.35  2.75"
      ]
     },
     "execution_count": 72,
     "metadata": {},
     "output_type": "execute_result"
    }
   ],
   "source": [
    "# -- Caprazlamalar --\n",
    "\n",
    "diamonds = pd.read_csv(\"../input/seaborn-practice/diamonds.csv\")\n",
    "df = diamonds.copy()\n",
    "cut_kategoriler = [\"Fair\",\"Good\",\"Very Good\",\"Premium\",\"Ideal\"]\n",
    "df.cut = df.cut.astype(CategoricalDtype(categories = cut_kategoriler, ordered = True))\n",
    "df.head()"
   ]
  },
  {
   "cell_type": "code",
   "execution_count": 73,
   "id": "1ce217d3",
   "metadata": {
    "execution": {
     "iopub.execute_input": "2022-04-30T23:02:56.285127Z",
     "iopub.status.busy": "2022-04-30T23:02:56.284265Z",
     "iopub.status.idle": "2022-04-30T23:02:57.189329Z",
     "shell.execute_reply": "2022-04-30T23:02:57.188385Z"
    },
    "papermill": {
     "duration": 1.028332,
     "end_time": "2022-04-30T23:02:57.192270",
     "exception": false,
     "start_time": "2022-04-30T23:02:56.163938",
     "status": "completed"
    },
    "tags": []
   },
   "outputs": [
    {
     "data": {
      "image/png": "[encoded data removed]",
      "text/plain": [
       "<Figure size 360x360 with 1 Axes>"
      ]
     },
     "metadata": {
      "needs_background": "light"
     },
     "output_type": "display_data"
    }
   ],
   "source": [
    "# Simdi \"cut\" Kategorik Degsikenini \"price\" Sayisal Degiskenini Caprazlayarak ( Bir Arada Kullanarak ) Gorsellestirme Islemi\n",
    "\n",
    "sns.catplot(x = \"cut\", y = \"price\", data = df);\n",
    "\n",
    "# Bu Grafikten Cikarilacak Yorum; price Attigi Zaman ( kalite Artacagi Icin ), Fair Den Ideal'e Dogru Gidildikce Ust Tarafta Yogunlasma Oldugu Gozlenmektedir"
   ]
  },
  {
   "cell_type": "code",
   "execution_count": 74,
   "id": "bc86414c",
   "metadata": {
    "execution": {
     "iopub.execute_input": "2022-04-30T23:02:57.446466Z",
     "iopub.status.busy": "2022-04-30T23:02:57.446164Z",
     "iopub.status.idle": "2022-04-30T23:02:57.450584Z",
     "shell.execute_reply": "2022-04-30T23:02:57.449509Z"
    },
    "papermill": {
     "duration": 0.136694,
     "end_time": "2022-04-30T23:02:57.452721",
     "exception": false,
     "start_time": "2022-04-30T23:02:57.316027",
     "status": "completed"
    },
    "tags": []
   },
   "outputs": [],
   "source": [
    "# catplot ve barplot Fonksiyonlari Birbirinin Yerine Ayni Islemler Icin Kullanilabilen Fonksiyonlardir"
   ]
  },
  {
   "cell_type": "code",
   "execution_count": 75,
   "id": "bc5f1b8f",
   "metadata": {
    "execution": {
     "iopub.execute_input": "2022-04-30T23:02:57.703506Z",
     "iopub.status.busy": "2022-04-30T23:02:57.703193Z",
     "iopub.status.idle": "2022-04-30T23:03:00.288956Z",
     "shell.execute_reply": "2022-04-30T23:03:00.287815Z"
    },
    "papermill": {
     "duration": 2.716162,
     "end_time": "2022-04-30T23:03:00.291802",
     "exception": false,
     "start_time": "2022-04-30T23:02:57.575640",
     "status": "completed"
    },
    "tags": []
   },
   "outputs": [
    {
     "data": {
      "image/png": "[encoded data removed]",
      "text/plain": [
       "<Figure size 432x288 with 1 Axes>"
      ]
     },
     "metadata": {
      "needs_background": "light"
     },
     "output_type": "display_data"
    }
   ],
   "source": [
    "# Bu Grafige Bir Boyut Daha Ekleme ------>>   \"hue\"   Argumani Ile Eklenir\n",
    "\n",
    "sns.barplot(x = \"cut\", y = \"price\", hue = \"color\", data = df);\n",
    "\n",
    "\n",
    "# Bu Grafikten Cikarilacak Yorum;\n",
    "\n",
    "# Ideal Sinifi Icin Bakarsak \"E\" Ve \"D\" Renkleri Ideal Sinifin Degerlerini Asagiya Cektigi Goruluyor ( Degerleri Dusuk ),\n",
    "# \"J\" ve \"I\" Renkleri Yukarida Konumlandigi Gozlenir Ve Yukariya Dogru Ceker\n",
    "\n",
    "\n",
    "# Bu Grafikte Ustte Bulunan Cubuklar Standart Sapma ( [ Standart Hata Olarak Da Degerlendirilebilir ] ) Degerlerini Gosterir\n",
    "# Price Degerleri Ilk Grafige Gore Daha Dusuk Degerler Gosteriyor Neden? ----> Cunku Merkezi Egilimleri Temsil Edecek Deger Hesapladı Ve Ortalama Olarak Bir Deger Bicti ( Nerede Yogunlasiyo Onu Gorduk )"
   ]
  },
  {
   "cell_type": "code",
   "execution_count": 76,
   "id": "f0f7414d",
   "metadata": {
    "execution": {
     "iopub.execute_input": "2022-04-30T23:03:00.540584Z",
     "iopub.status.busy": "2022-04-30T23:03:00.539965Z",
     "iopub.status.idle": "2022-04-30T23:03:00.543460Z",
     "shell.execute_reply": "2022-04-30T23:03:00.542726Z"
    },
    "papermill": {
     "duration": 0.12946,
     "end_time": "2022-04-30T23:03:00.545513",
     "exception": false,
     "start_time": "2022-04-30T23:03:00.416053",
     "status": "completed"
    },
    "tags": []
   },
   "outputs": [],
   "source": [
    "# Yeni Boyut Eklendigi Zaman Olusturulan Grafikten Aldigimiz Detay Bilgiler Artar Mesela Ilk Grafikte Ideal'in Ust Taraflari Yogunlukluydu Ama Neden? ----> Renklerde J ve I Sayesinde Cikarimi Yapilabilir\n",
    "# Grafige Yeni Boyut Ekleyerek Daha Fazla Aciklanabilirlik Elde Ettik"
   ]
  },
  {
   "cell_type": "code",
   "execution_count": 77,
   "id": "8cc8a73b",
   "metadata": {
    "execution": {
     "iopub.execute_input": "2022-04-30T23:03:00.796425Z",
     "iopub.status.busy": "2022-04-30T23:03:00.795785Z",
     "iopub.status.idle": "2022-04-30T23:03:00.799586Z",
     "shell.execute_reply": "2022-04-30T23:03:00.798719Z"
    },
    "papermill": {
     "duration": 0.131345,
     "end_time": "2022-04-30T23:03:00.801863",
     "exception": false,
     "start_time": "2022-04-30T23:03:00.670518",
     "status": "completed"
    },
    "tags": []
   },
   "outputs": [],
   "source": [
    "# Simdi Biz Bazi Bilgileri Elde Ettik Ama Bu Bilgileri Nasil Dogrulariz ( Bu Kisim Cok Onemli ) ( Bilgi Dogru Olmadiktan Sonra Hic Bir Onemi Yok )"
   ]
  },
  {
   "cell_type": "code",
   "execution_count": 78,
   "id": "3f97f6ce",
   "metadata": {
    "execution": {
     "iopub.execute_input": "2022-04-30T23:03:01.065843Z",
     "iopub.status.busy": "2022-04-30T23:03:01.065254Z",
     "iopub.status.idle": "2022-04-30T23:03:01.069387Z",
     "shell.execute_reply": "2022-04-30T23:03:01.068091Z"
    },
    "papermill": {
     "duration": 0.141013,
     "end_time": "2022-04-30T23:03:01.071780",
     "exception": false,
     "start_time": "2022-04-30T23:03:00.930767",
     "status": "completed"
    },
    "tags": []
   },
   "outputs": [],
   "source": [
    "# -- DOGRULAMA ISLEMI --\n",
    "\n",
    "# Asagidaki Gruplama Islemine Gore Degerlere Baktigimizda Yukaridaki Grafigin Dogru Oldugu Anlasilmaktadir ( Teker Teker Degerlere Bakilabilir )"
   ]
  },
  {
   "cell_type": "code",
   "execution_count": 79,
   "id": "3fe3286a",
   "metadata": {
    "execution": {
     "iopub.execute_input": "2022-04-30T23:03:01.328308Z",
     "iopub.status.busy": "2022-04-30T23:03:01.327724Z",
     "iopub.status.idle": "2022-04-30T23:03:01.358327Z",
     "shell.execute_reply": "2022-04-30T23:03:01.357499Z"
    },
    "papermill": {
     "duration": 0.160933,
     "end_time": "2022-04-30T23:03:01.360487",
     "exception": false,
     "start_time": "2022-04-30T23:03:01.199554",
     "status": "completed"
    },
    "tags": []
   },
   "outputs": [
    {
     "data": {
      "text/html": [
       "<div>\n",
       "<style scoped>\n",
       "    .dataframe tbody tr th:only-of-type {\n",
       "        vertical-align: middle;\n",
       "    }\n",
       "\n",
       "    .dataframe tbody tr th {\n",
       "        vertical-align: top;\n",
       "    }\n",
       "\n",
       "    .dataframe thead th {\n",
       "        text-align: right;\n",
       "    }\n",
       "</style>\n",
       "<table border=\"1\" class=\"dataframe\">\n",
       "  <thead>\n",
       "    <tr style=\"text-align: right;\">\n",
       "      <th></th>\n",
       "      <th></th>\n",
       "      <th>price</th>\n",
       "    </tr>\n",
       "    <tr>\n",
       "      <th>cut</th>\n",
       "      <th>color</th>\n",
       "      <th></th>\n",
       "    </tr>\n",
       "  </thead>\n",
       "  <tbody>\n",
       "    <tr>\n",
       "      <th rowspan=\"7\" valign=\"top\">Fair</th>\n",
       "      <th>D</th>\n",
       "      <td>4291.061350</td>\n",
       "    </tr>\n",
       "    <tr>\n",
       "      <th>E</th>\n",
       "      <td>3682.312500</td>\n",
       "    </tr>\n",
       "    <tr>\n",
       "      <th>F</th>\n",
       "      <td>3827.003205</td>\n",
       "    </tr>\n",
       "    <tr>\n",
       "      <th>G</th>\n",
       "      <td>4239.254777</td>\n",
       "    </tr>\n",
       "    <tr>\n",
       "      <th>H</th>\n",
       "      <td>5135.683168</td>\n",
       "    </tr>\n",
       "    <tr>\n",
       "      <th>I</th>\n",
       "      <td>4685.445714</td>\n",
       "    </tr>\n",
       "    <tr>\n",
       "      <th>J</th>\n",
       "      <td>4975.655462</td>\n",
       "    </tr>\n",
       "    <tr>\n",
       "      <th rowspan=\"7\" valign=\"top\">Good</th>\n",
       "      <th>D</th>\n",
       "      <td>3405.382175</td>\n",
       "    </tr>\n",
       "    <tr>\n",
       "      <th>E</th>\n",
       "      <td>3423.644159</td>\n",
       "    </tr>\n",
       "    <tr>\n",
       "      <th>F</th>\n",
       "      <td>3495.750275</td>\n",
       "    </tr>\n",
       "    <tr>\n",
       "      <th>G</th>\n",
       "      <td>4123.482204</td>\n",
       "    </tr>\n",
       "    <tr>\n",
       "      <th>H</th>\n",
       "      <td>4276.254986</td>\n",
       "    </tr>\n",
       "    <tr>\n",
       "      <th>I</th>\n",
       "      <td>5078.532567</td>\n",
       "    </tr>\n",
       "    <tr>\n",
       "      <th>J</th>\n",
       "      <td>4574.172638</td>\n",
       "    </tr>\n",
       "    <tr>\n",
       "      <th rowspan=\"7\" valign=\"top\">Very Good</th>\n",
       "      <th>D</th>\n",
       "      <td>3470.467284</td>\n",
       "    </tr>\n",
       "    <tr>\n",
       "      <th>E</th>\n",
       "      <td>3214.652083</td>\n",
       "    </tr>\n",
       "    <tr>\n",
       "      <th>F</th>\n",
       "      <td>3778.820240</td>\n",
       "    </tr>\n",
       "    <tr>\n",
       "      <th>G</th>\n",
       "      <td>3872.753806</td>\n",
       "    </tr>\n",
       "    <tr>\n",
       "      <th>H</th>\n",
       "      <td>4535.390351</td>\n",
       "    </tr>\n",
       "    <tr>\n",
       "      <th>I</th>\n",
       "      <td>5255.879568</td>\n",
       "    </tr>\n",
       "    <tr>\n",
       "      <th>J</th>\n",
       "      <td>5103.513274</td>\n",
       "    </tr>\n",
       "    <tr>\n",
       "      <th rowspan=\"7\" valign=\"top\">Premium</th>\n",
       "      <th>D</th>\n",
       "      <td>3631.292576</td>\n",
       "    </tr>\n",
       "    <tr>\n",
       "      <th>E</th>\n",
       "      <td>3538.914420</td>\n",
       "    </tr>\n",
       "    <tr>\n",
       "      <th>F</th>\n",
       "      <td>4324.890176</td>\n",
       "    </tr>\n",
       "    <tr>\n",
       "      <th>G</th>\n",
       "      <td>4500.742134</td>\n",
       "    </tr>\n",
       "    <tr>\n",
       "      <th>H</th>\n",
       "      <td>5216.706780</td>\n",
       "    </tr>\n",
       "    <tr>\n",
       "      <th>I</th>\n",
       "      <td>5946.180672</td>\n",
       "    </tr>\n",
       "    <tr>\n",
       "      <th>J</th>\n",
       "      <td>6294.591584</td>\n",
       "    </tr>\n",
       "    <tr>\n",
       "      <th rowspan=\"7\" valign=\"top\">Ideal</th>\n",
       "      <th>D</th>\n",
       "      <td>2629.094566</td>\n",
       "    </tr>\n",
       "    <tr>\n",
       "      <th>E</th>\n",
       "      <td>2597.550090</td>\n",
       "    </tr>\n",
       "    <tr>\n",
       "      <th>F</th>\n",
       "      <td>3374.939362</td>\n",
       "    </tr>\n",
       "    <tr>\n",
       "      <th>G</th>\n",
       "      <td>3720.706388</td>\n",
       "    </tr>\n",
       "    <tr>\n",
       "      <th>H</th>\n",
       "      <td>3889.334831</td>\n",
       "    </tr>\n",
       "    <tr>\n",
       "      <th>I</th>\n",
       "      <td>4451.970377</td>\n",
       "    </tr>\n",
       "    <tr>\n",
       "      <th>J</th>\n",
       "      <td>4918.186384</td>\n",
       "    </tr>\n",
       "  </tbody>\n",
       "</table>\n",
       "</div>"
      ],
      "text/plain": [
       "                       price\n",
       "cut       color             \n",
       "Fair      D      4291.061350\n",
       "          E      3682.312500\n",
       "          F      3827.003205\n",
       "          G      4239.254777\n",
       "          H      5135.683168\n",
       "          I      4685.445714\n",
       "          J      4975.655462\n",
       "Good      D      3405.382175\n",
       "          E      3423.644159\n",
       "          F      3495.750275\n",
       "          G      4123.482204\n",
       "          H      4276.254986\n",
       "          I      5078.532567\n",
       "          J      4574.172638\n",
       "Very Good D      3470.467284\n",
       "          E      3214.652083\n",
       "          F      3778.820240\n",
       "          G      3872.753806\n",
       "          H      4535.390351\n",
       "          I      5255.879568\n",
       "          J      5103.513274\n",
       "Premium   D      3631.292576\n",
       "          E      3538.914420\n",
       "          F      4324.890176\n",
       "          G      4500.742134\n",
       "          H      5216.706780\n",
       "          I      5946.180672\n",
       "          J      6294.591584\n",
       "Ideal     D      2629.094566\n",
       "          E      2597.550090\n",
       "          F      3374.939362\n",
       "          G      3720.706388\n",
       "          H      3889.334831\n",
       "          I      4451.970377\n",
       "          J      4918.186384"
      ]
     },
     "execution_count": 79,
     "metadata": {},
     "output_type": "execute_result"
    }
   ],
   "source": [
    "df.groupby([\"cut\", \"color\"])[[\"price\"]].mean() # \"cut\" ve \"color\" a Gore Kirilim Islemi Yap Ve \"price\" Degiskenine Gore Ortalama Islemi Yap"
   ]
  },
  {
   "cell_type": "code",
   "execution_count": 80,
   "id": "a4332962",
   "metadata": {
    "execution": {
     "iopub.execute_input": "2022-04-30T23:03:01.619851Z",
     "iopub.status.busy": "2022-04-30T23:03:01.619259Z",
     "iopub.status.idle": "2022-04-30T23:03:01.711348Z",
     "shell.execute_reply": "2022-04-30T23:03:01.710641Z"
    },
    "papermill": {
     "duration": 0.226301,
     "end_time": "2022-04-30T23:03:01.713491",
     "exception": false,
     "start_time": "2022-04-30T23:03:01.487190",
     "status": "completed"
    },
    "tags": []
   },
   "outputs": [
    {
     "data": {
      "text/html": [
       "<div>\n",
       "<style scoped>\n",
       "    .dataframe tbody tr th:only-of-type {\n",
       "        vertical-align: middle;\n",
       "    }\n",
       "\n",
       "    .dataframe tbody tr th {\n",
       "        vertical-align: top;\n",
       "    }\n",
       "\n",
       "    .dataframe thead th {\n",
       "        text-align: right;\n",
       "    }\n",
       "</style>\n",
       "<table border=\"1\" class=\"dataframe\">\n",
       "  <thead>\n",
       "    <tr style=\"text-align: right;\">\n",
       "      <th></th>\n",
       "      <th>carat</th>\n",
       "      <th>cut</th>\n",
       "      <th>color</th>\n",
       "      <th>clarity</th>\n",
       "      <th>depth</th>\n",
       "      <th>table</th>\n",
       "      <th>price</th>\n",
       "      <th>x</th>\n",
       "      <th>y</th>\n",
       "      <th>z</th>\n",
       "    </tr>\n",
       "  </thead>\n",
       "  <tbody>\n",
       "    <tr>\n",
       "      <th>0</th>\n",
       "      <td>0.23</td>\n",
       "      <td>Ideal</td>\n",
       "      <td>E</td>\n",
       "      <td>SI2</td>\n",
       "      <td>61.5</td>\n",
       "      <td>55.0</td>\n",
       "      <td>326</td>\n",
       "      <td>3.95</td>\n",
       "      <td>3.98</td>\n",
       "      <td>2.43</td>\n",
       "    </tr>\n",
       "    <tr>\n",
       "      <th>1</th>\n",
       "      <td>0.21</td>\n",
       "      <td>Premium</td>\n",
       "      <td>E</td>\n",
       "      <td>SI1</td>\n",
       "      <td>59.8</td>\n",
       "      <td>61.0</td>\n",
       "      <td>326</td>\n",
       "      <td>3.89</td>\n",
       "      <td>3.84</td>\n",
       "      <td>2.31</td>\n",
       "    </tr>\n",
       "    <tr>\n",
       "      <th>2</th>\n",
       "      <td>0.23</td>\n",
       "      <td>Good</td>\n",
       "      <td>E</td>\n",
       "      <td>VS1</td>\n",
       "      <td>56.9</td>\n",
       "      <td>65.0</td>\n",
       "      <td>327</td>\n",
       "      <td>4.05</td>\n",
       "      <td>4.07</td>\n",
       "      <td>2.31</td>\n",
       "    </tr>\n",
       "    <tr>\n",
       "      <th>3</th>\n",
       "      <td>0.29</td>\n",
       "      <td>Premium</td>\n",
       "      <td>I</td>\n",
       "      <td>VS2</td>\n",
       "      <td>62.4</td>\n",
       "      <td>58.0</td>\n",
       "      <td>334</td>\n",
       "      <td>4.20</td>\n",
       "      <td>4.23</td>\n",
       "      <td>2.63</td>\n",
       "    </tr>\n",
       "    <tr>\n",
       "      <th>4</th>\n",
       "      <td>0.31</td>\n",
       "      <td>Good</td>\n",
       "      <td>J</td>\n",
       "      <td>SI2</td>\n",
       "      <td>63.3</td>\n",
       "      <td>58.0</td>\n",
       "      <td>335</td>\n",
       "      <td>4.34</td>\n",
       "      <td>4.35</td>\n",
       "      <td>2.75</td>\n",
       "    </tr>\n",
       "  </tbody>\n",
       "</table>\n",
       "</div>"
      ],
      "text/plain": [
       "   carat      cut color clarity  depth  table  price     x     y     z\n",
       "0   0.23    Ideal     E     SI2   61.5   55.0    326  3.95  3.98  2.43\n",
       "1   0.21  Premium     E     SI1   59.8   61.0    326  3.89  3.84  2.31\n",
       "2   0.23     Good     E     VS1   56.9   65.0    327  4.05  4.07  2.31\n",
       "3   0.29  Premium     I     VS2   62.4   58.0    334  4.20  4.23  2.63\n",
       "4   0.31     Good     J     SI2   63.3   58.0    335  4.34  4.35  2.75"
      ]
     },
     "execution_count": 80,
     "metadata": {},
     "output_type": "execute_result"
    }
   ],
   "source": [
    "# -- Hisgoram Ve Yogunluk Grafikleri --\n",
    "\n",
    "diamonds = pd.read_csv(\"../input/seaborn-practice/diamonds.csv\")\n",
    "\n",
    "df = diamonds.copy()\n",
    "\n",
    "df.head()"
   ]
  },
  {
   "cell_type": "code",
   "execution_count": 81,
   "id": "ba58785c",
   "metadata": {
    "execution": {
     "iopub.execute_input": "2022-04-30T23:03:01.972066Z",
     "iopub.status.busy": "2022-04-30T23:03:01.971746Z",
     "iopub.status.idle": "2022-04-30T23:03:01.975435Z",
     "shell.execute_reply": "2022-04-30T23:03:01.974689Z"
    },
    "papermill": {
     "duration": 0.133129,
     "end_time": "2022-04-30T23:03:01.977487",
     "exception": false,
     "start_time": "2022-04-30T23:03:01.844358",
     "status": "completed"
    },
    "tags": []
   },
   "outputs": [],
   "source": [
    "# Editorden Bildirim Geldi \"distplot\" Olarak Kullaniyodum Artik \"displot\" Veya \"histplot\" Olarak Kullanilacakmis"
   ]
  },
  {
   "cell_type": "code",
   "execution_count": 82,
   "id": "0abdd3c7",
   "metadata": {
    "execution": {
     "iopub.execute_input": "2022-04-30T23:03:02.240633Z",
     "iopub.status.busy": "2022-04-30T23:03:02.239799Z",
     "iopub.status.idle": "2022-04-30T23:03:02.560704Z",
     "shell.execute_reply": "2022-04-30T23:03:02.559877Z"
    },
    "papermill": {
     "duration": 0.449123,
     "end_time": "2022-04-30T23:03:02.563151",
     "exception": false,
     "start_time": "2022-04-30T23:03:02.114028",
     "status": "completed"
    },
    "tags": []
   },
   "outputs": [
    {
     "name": "stderr",
     "output_type": "stream",
     "text": [
      "/opt/conda/lib/python3.7/site-packages/seaborn/distributions.py:2619: FutureWarning: `distplot` is a deprecated function and will be removed in a future version. Please adapt your code to use either `displot` (a figure-level function with similar flexibility) or `histplot` (an axes-level function for histograms).\n",
      "  warnings.warn(msg, FutureWarning)\n"
     ]
    },
    {
     "data": {
      "image/png": "[encoded data removed]",
      "text/plain": [
       "<Figure size 432x288 with 1 Axes>"
      ]
     },
     "metadata": {
      "needs_background": "light"
     },
     "output_type": "display_data"
    }
   ],
   "source": [
    "#   distplot()   Fonksiyonu Dagilim Gorsellestirmek Icin Kullanilan Bir Fonksiyondur\n",
    "\n",
    "sns.distplot(df.price, kde = False); # kde ----->> Yogunluk Fonksiyonunun Grafigin Uzerine Koyulup Koyulmamasi Ile Ilgilidir"
   ]
  },
  {
   "cell_type": "code",
   "execution_count": 83,
   "id": "b91ebc3e",
   "metadata": {
    "execution": {
     "iopub.execute_input": "2022-04-30T23:03:02.821910Z",
     "iopub.status.busy": "2022-04-30T23:03:02.821314Z",
     "iopub.status.idle": "2022-04-30T23:03:02.824811Z",
     "shell.execute_reply": "2022-04-30T23:03:02.824119Z"
    },
    "papermill": {
     "duration": 0.133535,
     "end_time": "2022-04-30T23:03:02.827278",
     "exception": false,
     "start_time": "2022-04-30T23:03:02.693743",
     "status": "completed"
    },
    "tags": []
   },
   "outputs": [],
   "source": [
    "# !! Soo Important !!\n",
    "\n",
    "# !!! KUTUPHANEDEKI FONKSIYONLAR SUREKLI DEGISTIGINDEN DOLAYI ISIM DEGISMIS VE FONKSIYONLARIN ARGUMANLARIDA FARKLI GOZUKUYOR !!!\n",
    "\n",
    "# distplot Yerine histplot Veya displot Kullanmaliymisiz ( Editor Oyle Soyluyor )"
   ]
  },
  {
   "cell_type": "code",
   "execution_count": 84,
   "id": "51ae1306",
   "metadata": {
    "execution": {
     "iopub.execute_input": "2022-04-30T23:03:03.091218Z",
     "iopub.status.busy": "2022-04-30T23:03:03.090855Z",
     "iopub.status.idle": "2022-04-30T23:03:03.094792Z",
     "shell.execute_reply": "2022-04-30T23:03:03.094098Z"
    },
    "papermill": {
     "duration": 0.139152,
     "end_time": "2022-04-30T23:03:03.097033",
     "exception": false,
     "start_time": "2022-04-30T23:03:02.957881",
     "status": "completed"
    },
    "tags": []
   },
   "outputs": [],
   "source": [
    "# distplot Fonksiyonunun Ozellikleri;\n",
    "# ?sns.distplot"
   ]
  },
  {
   "cell_type": "code",
   "execution_count": 85,
   "id": "19b9d4f9",
   "metadata": {
    "execution": {
     "iopub.execute_input": "2022-04-30T23:03:03.364765Z",
     "iopub.status.busy": "2022-04-30T23:03:03.363579Z",
     "iopub.status.idle": "2022-04-30T23:03:03.367841Z",
     "shell.execute_reply": "2022-04-30T23:03:03.367071Z"
    },
    "papermill": {
     "duration": 0.143295,
     "end_time": "2022-04-30T23:03:03.370577",
     "exception": false,
     "start_time": "2022-04-30T23:03:03.227282",
     "status": "completed"
    },
    "tags": []
   },
   "outputs": [],
   "source": [
    "# ?sns.histplot"
   ]
  },
  {
   "cell_type": "code",
   "execution_count": 86,
   "id": "b44c0ddf",
   "metadata": {
    "execution": {
     "iopub.execute_input": "2022-04-30T23:03:03.630153Z",
     "iopub.status.busy": "2022-04-30T23:03:03.629795Z",
     "iopub.status.idle": "2022-04-30T23:03:03.633779Z",
     "shell.execute_reply": "2022-04-30T23:03:03.632703Z"
    },
    "papermill": {
     "duration": 0.137491,
     "end_time": "2022-04-30T23:03:03.636026",
     "exception": false,
     "start_time": "2022-04-30T23:03:03.498535",
     "status": "completed"
    },
    "tags": []
   },
   "outputs": [],
   "source": [
    "# ?sns.displot"
   ]
  },
  {
   "cell_type": "code",
   "execution_count": 87,
   "id": "4457b542",
   "metadata": {
    "execution": {
     "iopub.execute_input": "2022-04-30T23:03:03.901829Z",
     "iopub.status.busy": "2022-04-30T23:03:03.901096Z",
     "iopub.status.idle": "2022-04-30T23:03:06.232947Z",
     "shell.execute_reply": "2022-04-30T23:03:06.232252Z"
    },
    "papermill": {
     "duration": 2.469762,
     "end_time": "2022-04-30T23:03:06.235449",
     "exception": false,
     "start_time": "2022-04-30T23:03:03.765687",
     "status": "completed"
    },
    "tags": []
   },
   "outputs": [
    {
     "data": {
      "image/png": "[encoded data removed]",
      "text/plain": [
       "<Figure size 432x288 with 1 Axes>"
      ]
     },
     "metadata": {
      "needs_background": "light"
     },
     "output_type": "display_data"
    }
   ],
   "source": [
    "sns.distplot(df.price,bins = 1000, kde = False); # Hassasiyetini Degistiriyoruz \"bins\" Ile ( 1000 Oldugunda 1000 Tane Cubuk Ile Olusturulur Grafik, 10 Oldugunda 10 Tane Cubuk Ile Olusturulur )"
   ]
  },
  {
   "cell_type": "code",
   "execution_count": 88,
   "id": "9068c755",
   "metadata": {
    "execution": {
     "iopub.execute_input": "2022-04-30T23:03:06.497724Z",
     "iopub.status.busy": "2022-04-30T23:03:06.497179Z",
     "iopub.status.idle": "2022-04-30T23:03:06.735154Z",
     "shell.execute_reply": "2022-04-30T23:03:06.734415Z"
    },
    "papermill": {
     "duration": 0.373403,
     "end_time": "2022-04-30T23:03:06.737438",
     "exception": false,
     "start_time": "2022-04-30T23:03:06.364035",
     "status": "completed"
    },
    "tags": []
   },
   "outputs": [
    {
     "data": {
      "image/png": "[encoded data removed]",
      "text/plain": [
       "<Figure size 432x288 with 1 Axes>"
      ]
     },
     "metadata": {
      "needs_background": "light"
     },
     "output_type": "display_data"
    }
   ],
   "source": [
    "sns.distplot(df.price,bins = 10, kde = False); # bins = 10 Oldugu Icin, Grafik 10 Tane Cubuk Ile Olusturulmustur"
   ]
  },
  {
   "cell_type": "code",
   "execution_count": 89,
   "id": "a64a7b1a",
   "metadata": {
    "execution": {
     "iopub.execute_input": "2022-04-30T23:03:07.003190Z",
     "iopub.status.busy": "2022-04-30T23:03:07.002858Z",
     "iopub.status.idle": "2022-04-30T23:03:07.798075Z",
     "shell.execute_reply": "2022-04-30T23:03:07.797115Z"
    },
    "papermill": {
     "duration": 0.930002,
     "end_time": "2022-04-30T23:03:07.800741",
     "exception": false,
     "start_time": "2022-04-30T23:03:06.870739",
     "status": "completed"
    },
    "tags": []
   },
   "outputs": [
    {
     "data": {
      "image/png": "[encoded data removed]",
      "text/plain": [
       "<Figure size 432x288 with 1 Axes>"
      ]
     },
     "metadata": {
      "needs_background": "light"
     },
     "output_type": "display_data"
    }
   ],
   "source": [
    "sns.distplot(df.price, kde = True); # Gorulen Cizgi Olasilik Yogunluk Fonksiyonudur ------> \n",
    "# Y Eksenine Dikkat Edilir Ise Degerler Degistigi Gozlenir Bunun Nedeni Histogram Ve Yogunluk Grafigini Birlestirdigi Icindir ( Olasilik Yogunluk Fonksiyonunun Olcegine Gore Gerceklestirir )"
   ]
  },
  {
   "cell_type": "code",
   "execution_count": 90,
   "id": "d6dc7537",
   "metadata": {
    "execution": {
     "iopub.execute_input": "2022-04-30T23:03:08.065584Z",
     "iopub.status.busy": "2022-04-30T23:03:08.065259Z",
     "iopub.status.idle": "2022-04-30T23:03:08.510185Z",
     "shell.execute_reply": "2022-04-30T23:03:08.508844Z"
    },
    "papermill": {
     "duration": 0.580082,
     "end_time": "2022-04-30T23:03:08.512804",
     "exception": false,
     "start_time": "2022-04-30T23:03:07.932722",
     "status": "completed"
    },
    "tags": []
   },
   "outputs": [
    {
     "name": "stderr",
     "output_type": "stream",
     "text": [
      "/opt/conda/lib/python3.7/site-packages/seaborn/distributions.py:2619: FutureWarning: `distplot` is a deprecated function and will be removed in a future version. Please adapt your code to use either `displot` (a figure-level function with similar flexibility) or `kdeplot` (an axes-level function for kernel density plots).\n",
      "  warnings.warn(msg, FutureWarning)\n"
     ]
    },
    {
     "data": {
      "image/png": "[encoded data removed]",
      "text/plain": [
       "<Figure size 432x288 with 1 Axes>"
      ]
     },
     "metadata": {
      "needs_background": "light"
     },
     "output_type": "display_data"
    }
   ],
   "source": [
    "sns.distplot(df.price, hist = False); # Sadece Cizgiyi Gormek Istersek"
   ]
  },
  {
   "cell_type": "code",
   "execution_count": 91,
   "id": "507a9c03",
   "metadata": {
    "execution": {
     "iopub.execute_input": "2022-04-30T23:03:08.782211Z",
     "iopub.status.busy": "2022-04-30T23:03:08.781776Z",
     "iopub.status.idle": "2022-04-30T23:03:09.270796Z",
     "shell.execute_reply": "2022-04-30T23:03:09.269578Z"
    },
    "papermill": {
     "duration": 0.626858,
     "end_time": "2022-04-30T23:03:09.273491",
     "exception": false,
     "start_time": "2022-04-30T23:03:08.646633",
     "status": "completed"
    },
    "tags": []
   },
   "outputs": [
    {
     "data": {
      "image/png": "[encoded data removed]",
      "text/plain": [
       "<Figure size 432x288 with 1 Axes>"
      ]
     },
     "metadata": {
      "needs_background": "light"
     },
     "output_type": "display_data"
    }
   ],
   "source": [
    "# Grafigin Altini Doldurmak Istersek;\n",
    "\n",
    "sns.kdeplot(df.price, shade = True);"
   ]
  }
 ],
 "metadata": {
  "kernelspec": {
   "display_name": "Python 3",
   "language": "python",
   "name": "python3"
  },
  "language_info": {
   "codemirror_mode": {
    "name": "ipython",
    "version": 3
   },
   "file_extension": ".py",
   "mimetype": "text/x-python",
   "name": "python",
   "nbconvert_exporter": "python",
   "pygments_lexer": "ipython3",
   "version": "3.7.12"
  },
  "papermill": {
   "default_parameters": {},
   "duration": 49.396424,
   "end_time": "2022-04-30T23:03:10.229497",
   "environment_variables": {},
   "exception": null,
   "input_path": "__notebook__.ipynb",
   "output_path": "__notebook__.ipynb",
   "parameters": {},
   "start_time": "2022-04-30T23:02:20.833073",
   "version": "2.3.4"
  }
 },
 "nbformat": 4,
 "nbformat_minor": 5
}
